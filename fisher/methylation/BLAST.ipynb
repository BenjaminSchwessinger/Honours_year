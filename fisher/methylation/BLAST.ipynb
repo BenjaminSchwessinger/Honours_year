{
 "cells": [
  {
   "cell_type": "markdown",
   "metadata": {},
   "source": [
    "# <span style=\"color:deeppink\"> BLAST <span/>"
   ]
  },
  {
   "cell_type": "markdown",
   "metadata": {},
   "source": [
    "This is a script to run a BLAST search on highly conserved methylation machinery in humans, plants and fungi against the Pst annotated proteins.\n",
    "\n",
    "The following proteins will be compared:\n",
    "\n",
    "- In fungi:\n",
    "    - RAD8 XP_001831325.2\n",
    "    - DNMT1/MASC2 XP_001833175.2\n",
    "    - DNMT2 XP_001828513.2\n",
    "\n",
    "- In plants (At)\n",
    "    - MET1 AT5G49160 sp|P34881|DNMT1_ARATH\n",
    "    - CMT3 AT1G69770 sp|Q94F88|CMT3_ARATH\n",
    "    - DRM2 AT5G14620 sp|Q9M548|DRM2_ARATH\n",
    "\n",
    "- In humans\n",
    "    - DNMT1 NP_001124295.1\n",
    "    \n",
    "The BLAST will be performed using the following steps:\n",
    "1. Copy the protein fasta files to the current folder.\n",
    "2. Copy the amino acid sequence fasta from the database to a .txt file in the current directory.\n",
    "3. Run blastdb to make databases from protein fasta files.\n",
    "4. Use blastp to align each protein sequence query against each genome file and generate output.\n",
    "5. Check whether any high scoring pairs (HSP) are in Pst for any genes.\n",
    "6. Run muscle for global alignment between HSP Pst proteins and query proteins.\n",
    "7. Check whether important domains annotated on the online database entry are present in the Pst candidate protein."
   ]
  },
  {
   "cell_type": "code",
   "execution_count": 44,
   "metadata": {},
   "outputs": [],
   "source": [
    "#load modules\n",
    "import Bio\n",
    "from Bio import Align"
   ]
  },
  {
   "cell_type": "code",
   "execution_count": 8,
   "metadata": {},
   "outputs": [],
   "source": [
    "%%bash\n",
    "\n",
    "#go to the blast directory\n",
    "cd /home/anjuni/blast_db"
   ]
  },
  {
   "cell_type": "code",
   "execution_count": null,
   "metadata": {},
   "outputs": [],
   "source": [
    "%%bash\n",
    "\n",
    "#make blast databases from protein files\n",
    "makeblastdb -in Pst_104E_v13_h_ctg.protein.fa -dbtype prot\n",
    "makeblastdb -in Pst_104E_v13_p_ctg.protein.fa -dbtype prot"
   ]
  },
  {
   "cell_type": "code",
   "execution_count": 10,
   "metadata": {},
   "outputs": [
    {
     "name": "stdout",
     "output_type": "stream",
     "text": [
      "/home/anjuni/blast_db\n"
     ]
    }
   ],
   "source": [
    "%%bash\n",
    "\n",
    "\n",
    "cd /home/anjuni/blast_db\n",
    "pwd"
   ]
  },
  {
   "cell_type": "code",
   "execution_count": 17,
   "metadata": {},
   "outputs": [],
   "source": [
    "%%bash\n",
    "\n",
    "#go to the blast directory\n",
    "cd /home/anjuni/blast_db\n",
    "\n",
    "#run blast on rad8 as a test and view output\n",
    "blastp -db Pst_104E_v13_h_ctg.protein.fa -query rad8.txt -evalue 1e-03 -out rad8_h_blast_results\n"
   ]
  },
  {
   "cell_type": "markdown",
   "metadata": {},
   "source": [
    "### <span style=\"color:darkturquoise\"> BLAST on the haplotigs  <span/>"
   ]
  },
  {
   "cell_type": "code",
   "execution_count": 34,
   "metadata": {},
   "outputs": [
    {
     "name": "stdout",
     "output_type": "stream",
     "text": [
      "cmt3_h_blast_results\n",
      "dnmt1_masc2_h_blast_results\n",
      "dnmt1_h_blast_results\n",
      "dnmt2_h_blast_results\n",
      "drm2_h_blast_results\n",
      "met1_h_blast_results\n",
      "rad8_h_blast_results\n"
     ]
    }
   ],
   "source": [
    "%%bash\n",
    "\n",
    "#go to the blast directory\n",
    "cd /home/anjuni/blast_db\n",
    "\n",
    "#for loop\n",
    "for x in *.txt\n",
    "do\n",
    "len=${#x}\n",
    "blastp -db Pst_104E_v13_h_ctg.protein.fa -query ${x} -evalue 1e-03 -out ${x::len-4}_h_blast_results\n",
    "echo ${x::len-4}_h_blast_results\n",
    "done"
   ]
  },
  {
   "cell_type": "markdown",
   "metadata": {},
   "source": [
    "### <span style=\"color:limegreen\"> BLAST on the primary contigs  <span/>"
   ]
  },
  {
   "cell_type": "code",
   "execution_count": 36,
   "metadata": {},
   "outputs": [
    {
     "name": "stdout",
     "output_type": "stream",
     "text": [
      "cmt3_p_blast_results\n",
      "dnmt1_masc2_p_blast_results\n",
      "dnmt1_p_blast_results\n",
      "dnmt2_p_blast_results\n",
      "drm2_p_blast_results\n",
      "met1_p_blast_results\n",
      "rad8_p_blast_results\n"
     ]
    }
   ],
   "source": [
    "%%bash\n",
    "\n",
    "#go to the blast directory\n",
    "cd /home/anjuni/blast_db\n",
    "\n",
    "#for loop\n",
    "for x in *.txt\n",
    "do\n",
    "len=${#x}\n",
    "blastp -db Pst_104E_v13_p_ctg.protein.fa -query ${x} -evalue 1e-03 -out ${x::len-4}_p_blast_results\n",
    "echo ${x::len-4}_p_blast_results\n",
    "done"
   ]
  },
  {
   "cell_type": "markdown",
   "metadata": {},
   "source": [
    "### <span style='color:#ffbf00'> Making parseable output file. <span/>"
   ]
  },
  {
   "cell_type": "code",
   "execution_count": 38,
   "metadata": {},
   "outputs": [
    {
     "name": "stdout",
     "output_type": "stream",
     "text": [
      "cmt3_p_blast_6\n",
      "dnmt1_masc2_p_blast_6\n",
      "dnmt1_p_blast_6\n",
      "dnmt2_p_blast_6\n",
      "drm2_p_blast_6\n",
      "met1_p_blast_6\n",
      "rad8_p_blast_6\n",
      "cmt3_h_blast_6\n",
      "dnmt1_masc2_h_blast_6\n",
      "dnmt1_h_blast_6\n",
      "dnmt2_h_blast_6\n",
      "drm2_h_blast_6\n",
      "met1_h_blast_6\n",
      "rad8_h_blast_6\n"
     ]
    }
   ],
   "source": [
    "%%bash\n",
    "\n",
    "#go to the blast directory\n",
    "cd /home/anjuni/blast_db\n",
    "\n",
    "#for loop\n",
    "for x in *.txt\n",
    "do\n",
    "len=${#x}\n",
    "blastp -db Pst_104E_v13_p_ctg.protein.fa -query ${x} -evalue 1e-03 -outfmt 6 -out ${x::len-4}_p_blast_6\n",
    "echo ${x::len-4}_p_blast_6\n",
    "done\n",
    "\n",
    "\n",
    "for x in *.txt\n",
    "do\n",
    "len=${#x}\n",
    "blastp -db Pst_104E_v13_h_ctg.protein.fa -query ${x} -evalue 1e-03 -outfmt 6 -out ${x::len-4}_h_blast_6\n",
    "echo ${x::len-4}_h_blast_6\n",
    "done\n"
   ]
  },
  {
   "cell_type": "markdown",
   "metadata": {},
   "source": [
    "### <span style=\"color:#fa7d00\"> Observations  <span/>"
   ]
  },
  {
   "cell_type": "markdown",
   "metadata": {},
   "source": [
    "Continue analysis:\n",
    "- DNMT1/MASC2: 2 hits, p and h, similar length to query\n",
    "- RAD8: 2 hits, p and h, similar length to query\n",
    "\n",
    "\n",
    "Discarded:\n",
    "\n",
    "- DNMT2: no hits on p or h contig\n",
    "- DRM2: no hits on p or h contig\n",
    "\n",
    "- DNMT1: 2 hits, p and h, that was too short and lacked most catalytic sites. same hits as for DNMT1/MASC2\n",
    "- CMT1: 2 hits, p and h, that was too short and lacked most catalytic sites. same hits as for DNMT1/MASC2\n",
    "- MET1: 2 hits, p and h, that was too short and lacked most catalytic sites. same hits as for DNMT1/MASC2"
   ]
  },
  {
   "cell_type": "markdown",
   "metadata": {},
   "source": [
    "HSPs that were different in length to the query were discarded.\n",
    "\n",
    "\n",
    "Only two hits of a similar length:\n",
    "\n",
    "#### DNMT1/MASC2\n",
    "\n",
    "<span style='color:darkred'> query: XP_001833175.2, len = 1253 <span/>\n",
    "\n",
    "<span style='color:purple'> h_subject: Pst104E_20230, len = 1248 <span/>\n",
    "\n",
    "Score = 206 bits (523),  Expect = 5e-54, Method: Compositional matrix adjust.\n",
    "Identities = 241/925 (26%), Positives = 372/925 (40%), Gaps = 178/925 (19%)\n",
    "\n",
    "\n",
    "<span style='color:darkblue'> p_subject: Pst104E_04293, len = 1248 <span/>\n",
    "\n",
    "Score = 206 bits (523),  Expect = 5e-54, Method: Compositional matrix adjust.\n",
    "Identities = 241/925 (26%), Positives = 372/925 (40%), Gaps = 178/925 (19%)\n",
    "\n",
    "#### RAD8\n",
    "\n",
    "<span style='color:darkred'> query: XP_001831325.2, len = 2184 <span/>\n",
    "\n",
    "<span style='color:purple'> h_subject: Pst104E_28179, len = 2204 <span/>\n",
    "\n",
    "Score = 1158 bits (2996),  Expect = 0.0, Method: Compositional matrix adjust.\n",
    "Identities = 643/1386 (46%), Positives = 837/1386 (60%), Gaps = 76/1386 (5%)\n",
    "\n",
    "\n",
    "\n",
    "<span style='color:darkblue'> p_subject: Pst104E_12497, len = 1248 <span/>\n",
    "\n",
    "Score = 1159 bits (2997),  Expect = 0.0, Method: Compositional matrix adjust.\n",
    "Identities = 643/1386 (46%), Positives = 838/1386 (60%), Gaps = 76/1386 (5%)"
   ]
  },
  {
   "cell_type": "markdown",
   "metadata": {},
   "source": [
    "Catalytic domains in Rad8 and Dnmt1/Masc2 matches are outlined in Excel spreadsheet."
   ]
  },
  {
   "cell_type": "markdown",
   "metadata": {},
   "source": [
    "### Testing out whether annotated domains from NCBI entries are in the annotated protein file."
   ]
  },
  {
   "cell_type": "code",
   "execution_count": 9,
   "metadata": {},
   "outputs": [
    {
     "name": "stdout",
     "output_type": "stream",
     "text": [
      "Pst104E_17382\tPF00176;PF00145\n",
      "Pst104E_17447\tPF00145\n",
      "Pst104E_20230\tPF00145\n",
      "Pst104E_21609\tPF00145;PF00176\n",
      "Pst104E_28179\tPF00145;PF00176;PF00271\n",
      "Pst104E_01411\tPF00145;PF00176\n",
      "Pst104E_04293\tPF00145\n",
      "Pst104E_12497\tPF00271;PF00145;PF00176\n"
     ]
    }
   ],
   "source": [
    "%%bash\n",
    "\n",
    "#testing out whether methylase domain is in these proteins\n",
    "cd /home/anjuni/blast_db\n",
    "grep 'PF00145' Supplemental_file_2_id_to_locus_tag.txt"
   ]
  },
  {
   "cell_type": "markdown",
   "metadata": {},
   "source": [
    "Pst104E_20230, Pst104E_04293 matches dnmt1/masc2\n",
    "\n",
    "Pst104E_12497, Pst104E_28179 matches rad8\n",
    "\n",
    "Pst104E_17382, Pst104E_17447, Pst104E_21609, Pst104E_01411 unknown."
   ]
  },
  {
   "cell_type": "code",
   "execution_count": 11,
   "metadata": {},
   "outputs": [
    {
     "name": "stdout",
     "output_type": "stream",
     "text": [
      "Pst104E_20230\t0957U@basNOG;0IF68@euNOG;0PK6H@fuNOG;12RZZ@opiNOG;COG0270@NOG\n",
      "Pst104E_04293\t0957U@basNOG;0IF68@euNOG;0PK6H@fuNOG;12RZZ@opiNOG;COG0270@NOG\n"
     ]
    }
   ],
   "source": [
    "%%bash\n",
    "\n",
    "#testing out whether methylase domain unique to dnmt1/masc2 is in these proteins\n",
    "cd /home/anjuni/blast_db\n",
    "grep 'COG0270' Supplemental_file_2_id_to_locus_tag.txt"
   ]
  },
  {
   "cell_type": "markdown",
   "metadata": {},
   "source": [
    "### InterProScan Results\n",
    "\n",
    "The amino acid sequences for the RAD8 and DNMT1/MASC2 queries, and their matching subjects were run on InterPro website below to detect catalytic domains in the subjects.\n",
    "https://www.ebi.ac.uk/interpro/search/sequence-search\n",
    "date accessed: 17/07/2018\n",
    "\n",
    "Rad8:\n",
    "    \n",
    "    Both subjects had matches for all the domains in Dnmt1/Masc2:\n",
    "        S-adenosyl-L-methionine-dependent methyltransferase SSF53335\n",
    "        SNF2-like, N-terminal domain superfamily G3DSA:3.40.50.10810\n",
    "        P-loop containing nucleoside triphosphate hydrolase SSF52540\n",
    "        C-5 cytosine methyltransferase PF00145\n",
    "        Helicase superfamily 1/2, ATP-binding domain PS51192 SM00487\n",
    "        SNF2-related, N-terminal domain PF00176\n",
    "        Helicase, C-terminal PS51194 cd00079 PF00271 \n",
    "        \n",
    "        Importantly, the Rad8 match has the SNF2 domain and Methylase domain characteristic of Rad8 proteins.\n",
    "\n",
    "Dnmt1/Masc2:\n",
    "    \n",
    "    Both subjects had matches for:\n",
    "        S-adenosyl-L-methionine-dependent methyltransferase SSF53335\n",
    "        C-5 cytosine methyltransferase PR00105 PF00145 PS51679\n",
    "        Bromo adjacent homology (BAH) domain PS51038 SM00439\n",
    "    \n",
    "    Both subjects lacked matches for:\n",
    "        C-5 cytosine methyltransferase TIGR00675\n",
    "        DNA (cytosine-5)-methyltransferase 1-like PIRSF037404\n",
    "        DNA (cytosine-5)-methyltransferase 1, replication foci domain PF12047\n",
    "        DNA methylase, C-5 cytosine-specific, active site PS00094\n",
    "\n"
   ]
  },
  {
   "cell_type": "markdown",
   "metadata": {},
   "source": [
    " (delete later)\n",
    "## potential computational way to check for sites in the subject:\n",
    "### (currently manually collecting data in spreadsheet)\n",
    "\n",
    "idea to check whether key sites are in each candidate gene:\n",
    "get position intervals of key sites\n",
    "make a list of these\n",
    "run the list against query to see if they are letters and not spaces\n",
    "for the sites: if letters, make a table saying \"yes\", if spaces, put \"no\" in the table\n",
    "for the regions: put the number of letters (matches) and the number of spaces (mismatches), put the percentage mismatch and match from the total"
   ]
  },
  {
   "cell_type": "markdown",
   "metadata": {},
   "source": [
    "Alternatively: all the best hits and their stats were listed.\n",
    "Check whether they contain important domains."
   ]
  },
  {
   "cell_type": "markdown",
   "metadata": {},
   "source": [
    "### <span style='color:violet'> Global alignment using Muscle <span/>"
   ]
  },
  {
   "cell_type": "code",
   "execution_count": null,
   "metadata": {},
   "outputs": [],
   "source": [
    "%%bash\n",
    "\n",
    "# perform global alignment on rad8\n",
    "muscle -in rad8_subject_h.txt -out rad8_h_muscle\n",
    "muscle -in rad8_subject_p.txt -out rad8_p_muscle\n",
    "\n",
    "muscle -in dnmt1_masc2_subject_h.txt -out dnmt1_masc2_h_muscle\n",
    "muscle -in dnmt1_masc2_subject_p.txt -out dnmt1_masc2_p_muscle"
   ]
  },
  {
   "cell_type": "markdown",
   "metadata": {},
   "source": [
    "Muscle output:\n",
    "\n",
    "rad8_subject_h 2 seqs, max length 2203, avg  length 2193\n",
    "00:00:00    23 MB(11%)  Iter   1  100.00%  K-mer dist pass 1\n",
    "00:00:00    23 MB(11%)  Iter   1  100.00%  K-mer dist pass 2\n",
    "00:00:00    35 MB(18%)  Iter   1  100.00%  Align node\n",
    "00:00:00    35 MB(18%)  Iter   1  100.00%  Root alignment\n",
    "\n",
    "rad8_subject_p 2 seqs, max length 2203, avg  length 2193\n",
    "00:00:00    23 MB(11%)  Iter   1  100.00%  K-mer dist pass 1\n",
    "00:00:00    23 MB(11%)  Iter   1  100.00%  K-mer dist pass 2\n",
    "00:00:00    35 MB(18%)  Iter   1  100.00%  Align node\n",
    "00:00:00    35 MB(18%)  Iter   1  100.00%  Root alignment\n",
    "\n",
    "dnmt1_masc2_subject_h 2 seqs, max length 1253, avg  length 1250\n",
    "00:00:00    23 MB(11%)  Iter   1  100.00%  K-mer dist pass 1\n",
    "00:00:00    23 MB(11%)  Iter   1  100.00%  K-mer dist pass 2\n",
    "00:00:00    29 MB(15%)  Iter   1  100.00%  Align node\n",
    "00:00:00    29 MB(15%)  Iter   1  100.00%  Root alignment\n",
    "\n",
    "dnmt1_masc2_subject_p 2 seqs, max length 1253, avg  length 1250\n",
    "00:00:00    23 MB(11%)  Iter   1  100.00%  K-mer dist pass 1\n",
    "00:00:00    23 MB(11%)  Iter   1  100.00%  K-mer dist pass 2\n",
    "00:00:00    29 MB(15%)  Iter   1  100.00%  Align node\n",
    "00:00:00    29 MB(15%)  Iter   1  100.00%  Root alignment"
   ]
  },
  {
   "cell_type": "code",
   "execution_count": 3,
   "metadata": {},
   "outputs": [
    {
     "ename": "AttributeError",
     "evalue": "module 'Bio.Align' has no attribute 'PairwiseAligner'",
     "output_type": "error",
     "traceback": [
      "\u001b[0;31m---------------------------------------------------------------------------\u001b[0m",
      "\u001b[0;31mAttributeError\u001b[0m                            Traceback (most recent call last)",
      "\u001b[0;32m<ipython-input-3-3ae3c4dbdb5b>\u001b[0m in \u001b[0;36m<module>\u001b[0;34m()\u001b[0m\n\u001b[1;32m      1\u001b[0m \u001b[0;31m#align muscle output using biopython\u001b[0m\u001b[0;34m\u001b[0m\u001b[0;34m\u001b[0m\u001b[0m\n\u001b[1;32m      2\u001b[0m \u001b[0;34m\u001b[0m\u001b[0m\n\u001b[0;32m----> 3\u001b[0;31m \u001b[0maligner\u001b[0m \u001b[0;34m=\u001b[0m \u001b[0mAlign\u001b[0m\u001b[0;34m.\u001b[0m\u001b[0mPairwiseAligner\u001b[0m\u001b[0;34m(\u001b[0m\u001b[0;34m)\u001b[0m\u001b[0;34m\u001b[0m\u001b[0m\n\u001b[0m",
      "\u001b[0;31mAttributeError\u001b[0m: module 'Bio.Align' has no attribute 'PairwiseAligner'"
     ]
    }
   ],
   "source": [
    "#align muscle output using biopython\n",
    "\n",
    "aligner = Align.PairwiseAligner()"
   ]
  },
  {
   "cell_type": "code",
   "execution_count": 2,
   "metadata": {},
   "outputs": [
    {
     "ename": "AttributeError",
     "evalue": "module 'Bio.Align' has no attribute 'PairwiseAligner'",
     "output_type": "error",
     "traceback": [
      "\u001b[0;31m---------------------------------------------------------------------------\u001b[0m",
      "\u001b[0;31mAttributeError\u001b[0m                            Traceback (most recent call last)",
      "\u001b[0;32m<ipython-input-2-7c014f10bbef>\u001b[0m in \u001b[0;36m<module>\u001b[0;34m()\u001b[0m\n\u001b[1;32m      1\u001b[0m \u001b[0;32mimport\u001b[0m \u001b[0mBio\u001b[0m\u001b[0;34m\u001b[0m\u001b[0m\n\u001b[1;32m      2\u001b[0m \u001b[0;32mfrom\u001b[0m \u001b[0mBio\u001b[0m \u001b[0;32mimport\u001b[0m \u001b[0mAlign\u001b[0m\u001b[0;34m\u001b[0m\u001b[0m\n\u001b[0;32m----> 3\u001b[0;31m \u001b[0maligner\u001b[0m \u001b[0;34m=\u001b[0m \u001b[0mAlign\u001b[0m\u001b[0;34m.\u001b[0m\u001b[0mPairwiseAligner\u001b[0m\u001b[0;34m(\u001b[0m\u001b[0;34m)\u001b[0m\u001b[0;34m\u001b[0m\u001b[0m\n\u001b[0m",
      "\u001b[0;31mAttributeError\u001b[0m: module 'Bio.Align' has no attribute 'PairwiseAligner'"
     ]
    }
   ],
   "source": [
    "from Bio import Align\n",
    "aligner = Align.PairwiseAligner()"
   ]
  },
  {
   "cell_type": "markdown",
   "metadata": {},
   "source": [
    "### <span style='color:mediumorchid'> tbastn results: comparing amino acid sequence to nucleotide sequence <span/>"
   ]
  },
  {
   "cell_type": "code",
   "execution_count": 1,
   "metadata": {},
   "outputs": [
    {
     "name": "stdout",
     "output_type": "stream",
     "text": [
      "\n",
      "\n",
      "Building a new DB, current time: 07/26/2018 12:22:29\n",
      "New DB name:   /home/anjuni/blast_db/Pst_104E_v13_p_ctg.fa\n",
      "New DB title:  Pst_104E_v13_p_ctg.fa\n",
      "Sequence type: Nucleotide\n",
      "Keep Linkouts: T\n",
      "Keep MBits: T\n",
      "Maximum file size: 1000000000B\n",
      "Adding sequences from FASTA; added 156 sequences in 2.33927 seconds.\n",
      "\n",
      "\n",
      "Building a new DB, current time: 07/26/2018 12:22:32\n",
      "New DB name:   /home/anjuni/blast_db/Pst_104E_v13_h_ctg.fa\n",
      "New DB title:  Pst_104E_v13_h_ctg.fa\n",
      "Sequence type: Nucleotide\n",
      "Keep Linkouts: T\n",
      "Keep MBits: T\n",
      "Maximum file size: 1000000000B\n",
      "Adding sequences from FASTA; added 475 sequences in 2.57479 seconds.\n"
     ]
    }
   ],
   "source": [
    "%%bash\n",
    "\n",
    "#run tblastn on all queries\n",
    "#make the databases\n",
    "cd /home/anjuni/blast_db\n",
    "\n",
    "makeblastdb -in Pst_104E_v13_p_ctg.fa -dbtype nucl\n",
    "makeblastdb -in Pst_104E_v13_h_ctg.fa -dbtype nucl"
   ]
  },
  {
   "cell_type": "code",
   "execution_count": 2,
   "metadata": {},
   "outputs": [
    {
     "name": "stdout",
     "output_type": "stream",
     "text": [
      "cmt3_h_tblastx_results\n",
      "dnmt1_masc2_subject_h_h_tblastx_results\n",
      "dnmt1_masc2_subject_p_h_tblastx_results\n",
      "dnmt1_masc2_h_tblastx_results\n",
      "dnmt1_h_tblastx_results\n",
      "dnmt2_h_tblastx_results\n",
      "drm2_h_tblastx_results\n",
      "met1_h_tblastx_results\n",
      "rad8_subject_h_h_tblastx_results\n",
      "rad8_subject_p_h_tblastx_results\n",
      "rad8_h_tblastx_results\n",
      "Supplemental_file_2_id_to_locus_tag_h_tblastx_results\n",
      "cmt3_p_tblastx_results\n",
      "dnmt1_masc2_subject_h_p_tblastx_results\n",
      "dnmt1_masc2_subject_p_p_tblastx_results\n",
      "dnmt1_masc2_p_tblastx_results\n",
      "dnmt1_p_tblastx_results\n",
      "dnmt2_p_tblastx_results\n",
      "drm2_p_tblastx_results\n",
      "met1_p_tblastx_results\n",
      "rad8_subject_h_p_tblastx_results\n",
      "rad8_subject_p_p_tblastx_results\n",
      "rad8_p_tblastx_results\n",
      "Supplemental_file_2_id_to_locus_tag_p_tblastx_results\n"
     ]
    },
    {
     "name": "stderr",
     "output_type": "stream",
     "text": [
      "IOPub data rate exceeded.\n",
      "The notebook server will temporarily stop sending output\n",
      "to the client in order to avoid crashing it.\n",
      "To change this limit, set the config variable\n",
      "`--NotebookApp.iopub_data_rate_limit`.\n",
      "\n",
      "Current values:\n",
      "NotebookApp.iopub_data_rate_limit=1000000.0 (bytes/sec)\n",
      "NotebookApp.rate_limit_window=3.0 (secs)\n",
      "\n"
     ]
    }
   ],
   "source": [
    "%%bash\n",
    "\n",
    "#run tblastx on dnmt1/masc2, dnmt2 and drm2\n",
    "cd /home/anjuni/blast_db\n",
    "\n",
    "#for loop\n",
    "for x in *.txt\n",
    "do\n",
    "len=${#x}\n",
    "tblastn -db Pst_104E_v13_h_ctg.fa -query ${x} -evalue 1e-03 -out ${x::len-4}_h_tblastn_results\n",
    "echo ${x::len-4}_h_tblastn_results\n",
    "done\n",
    "\n",
    "for x in *.txt\n",
    "do\n",
    "len=${#x}\n",
    "tblastn -db Pst_104E_v13_p_ctg.fa -query ${x} -evalue 1e-03 -out ${x::len-4}_p_tblastn_results\n",
    "echo ${x::len-4}_p_tblastn_results\n",
    "done"
   ]
  },
  {
   "cell_type": "code",
   "execution_count": 4,
   "metadata": {},
   "outputs": [
    {
     "name": "stdout",
     "output_type": "stream",
     "text": [
      "cmt3_p_tblastn_6\n",
      "dnmt1_masc2_p_tblastn_6\n",
      "dnmt1_p_tblastn_6\n",
      "dnmt2_p_tblastn_6\n",
      "drm2_p_tblastn_6\n",
      "met1_p_tblastn_6\n",
      "rad8_p_tblastn_6\n",
      "cmt3_h_tblastn_6\n",
      "dnmt1_masc2_h_tblastn_6\n",
      "dnmt1_h_tblastn_6\n",
      "dnmt2_h_tblastn_6\n",
      "drm2_h_tblastn_6\n",
      "met1_h_tblastn_6\n",
      "rad8_h_tblastn_6\n"
     ]
    }
   ],
   "source": [
    "%%bash\n",
    "\n",
    "cd /home/anjuni/blast_db/bed_tblastn\n",
    "\n",
    "#run tblastn with 6 format output\n",
    "for x in *.txt\n",
    "do\n",
    "len=${#x}\n",
    "tblastn -db Pst_104E_v13_p_ctg.fa -query ${x} -evalue 1e-03 -outfmt 6 -out ${x::len-4}_p_tblastn_6\n",
    "echo ${x::len-4}_p_tblastn_6\n",
    "done\n",
    "\n",
    "\n",
    "for x in *.txt\n",
    "do\n",
    "len=${#x}\n",
    "tblastn -db Pst_104E_v13_h_ctg.fa -query ${x} -evalue 1e-03 -outfmt 6 -out ${x::len-4}_h_tblastn_6\n",
    "echo ${x::len-4}_h_tblastn_6\n",
    "done"
   ]
  },
  {
   "cell_type": "code",
   "execution_count": 5,
   "metadata": {},
   "outputs": [],
   "source": [
    "%%bash\n",
    "\n",
    "cd /home/anjuni/blast_db/bed_tblastn\n",
    "#run bedtools intersect to find overlap between\n",
    "\n",
    "cat *_6 > all_6\n",
    "less all_6 | awk '{if ($9 < $10) print $2\"\\t\"$9\"\\t\"$10\"\\t\"$1;else print $2\"\\t\"$10\"\\t\"$9\"\\t\"$1}' > all_6.bed\n",
    "bedtools intersect -a Pst_104E_v13_ph_ctg_combined_sorted_anno.gff3 -b all_6.bed > proteins_tblastn.bed\n",
    "bedtools intersect -a all_6.bed -b Pst_104E_v13_ph_ctg_combined_sorted_anno.gff3  > tblastn_proteins.bed"
   ]
  },
  {
   "cell_type": "code",
   "execution_count": 9,
   "metadata": {},
   "outputs": [],
   "source": [
    "%%bash\n",
    "\n",
    "cd /home/anjuni/blast_db/bed_tblastn\n",
    "#get both features together\n",
    "bedtools intersect -a all_6.bed -b Pst_104E_v13_ph_ctg_combined_sorted_anno.gff3 -wa -wb > tblastn.bed\n",
    "\n",
    "#the results from this file were used to identify proteins matching the query proteins.\n",
    "#while a few DNMT1 (human) matches were found, most matches were to Rad8"
   ]
  },
  {
   "cell_type": "code",
   "execution_count": null,
   "metadata": {},
   "outputs": [],
   "source": []
  }
 ],
 "metadata": {
  "kernelspec": {
   "display_name": "Python 3",
   "language": "python",
   "name": "python3"
  },
  "language_info": {
   "codemirror_mode": {
    "name": "ipython",
    "version": 3
   },
   "file_extension": ".py",
   "mimetype": "text/x-python",
   "name": "python",
   "nbconvert_exporter": "python",
   "pygments_lexer": "ipython3",
   "version": "3.6.3"
  }
 },
 "nbformat": 4,
 "nbformat_minor": 2
}
