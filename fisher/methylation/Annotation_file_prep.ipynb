{
 "cells": [
  {
   "cell_type": "markdown",
   "metadata": {},
   "source": [
    "# <span style=\"color:yellowgreen\"> Prepare TE and gene model annotation files. </span>\n",
    "\n",
    "This notebook combines the TE model data with the gene model data, as they were previously separated.\n",
    "\n",
    "1. Get the annotations file (.gff3) and the reference file (ctg.fa)\n",
    "2. SeqIO.parse through reference genome and get a list of all contig names.\n",
    "3. Make pandas dataframe of annotation file.\n",
    "4. Subset dataframe to column 0 that only has values in list of contig names from reference file.\n",
    "5. Use \"to.csv(\\t)\" to convert the subset to a tab-separated GFF file.\n",
    "6. Cat this subset GFF file of TE data to the gene data GFF file."
   ]
  },
  {
   "cell_type": "markdown",
   "metadata": {},
   "source": [
    "# <span style=\"color:mediumseagreen\"> Load modules. </span>"
   ]
  },
  {
   "cell_type": "code",
   "execution_count": 2,
   "metadata": {},
   "outputs": [],
   "source": [
    "import pybedtools\n",
    "from pybedtools import BedTool\n",
    "import os\n",
    "import pysam\n",
    "import pandas as pd\n",
    "import glob\n",
    "import wiggelen\n",
    "import pybedtools\n",
    "from pybedtools import BedTool\n",
    "from Bio import SeqIO"
   ]
  },
  {
   "cell_type": "markdown",
   "metadata": {},
   "source": [
    "# <span style=\"color:mediumturquoise\"> Set directory paths and file handles. </span>"
   ]
  },
  {
   "cell_type": "code",
   "execution_count": 3,
   "metadata": {},
   "outputs": [],
   "source": [
    "#First we need to define the base dirs\n",
    "#Define initial base dir as relative path, but everything else as absolute path\n",
    "DIRS ={}\n",
    "DIRS['BASE'] =  '../../../../analysis/' # absolute path = '/home/anjuni/analysis/'\n",
    "DIRS['GFF_INPUT'] = os.path.join(os.path.abspath(DIRS['BASE']), 'annotations')\n",
    "DIRS['GFF_OUT'] = os.path.join(os.path.abspath(DIRS['BASE']), 'gff_output')\n",
    "DIRS['REF'] = '../../../../Pst_104_v13_assembly/'"
   ]
  },
  {
   "cell_type": "code",
   "execution_count": 4,
   "metadata": {},
   "outputs": [
    {
     "name": "stdout",
     "output_type": "stream",
     "text": [
      "../../../../analysis/\n",
      "/home/anjuni/analysis/annotations\n",
      "/home/anjuni/analysis/gff_output\n",
      "../../../../Pst_104_v13_assembly/\n"
     ]
    }
   ],
   "source": [
    "#Quick chech if directories exist\n",
    "for value in DIRS.values():\n",
    "    if not os.path.exists(value):\n",
    "        print('%s does not exist' % value)\n",
    "    else:\n",
    "        print(value)"
   ]
  },
  {
   "cell_type": "code",
   "execution_count": 6,
   "metadata": {},
   "outputs": [],
   "source": [
    "#Make filepaths\n",
    "gff_file_list = [fn for fn in glob.iglob('%s/*.gff3' % DIRS['GFF_INPUT'], recursive=True)]\n",
    "\n",
    "te_p_model = os.path.join(DIRS['GFF_INPUT'], 'Pst_104E_v13_p_ctg.repeatgenesLT.gff3')\n",
    "te_h_model = os.path.join(DIRS['GFF_INPUT'], 'Pst_104E_v13_h_ctg.repeatgenesLT.gff3')\n",
    "gene_p_model = os.path.join(DIRS['GFF_INPUT'], 'Pst_104E_v13_p_ctg.anno.gff3')\n",
    "gene_h_model = os.path.join(DIRS['GFF_INPUT'], 'Pst_104E_v13_h_ctg.anno.gff3')\n",
    "\n",
    "te_model_list = [te_p_model, te_h_model]\n",
    "\n",
    "ref_fh = os.path.join(DIRS['REF'], 'Pst_104E_v13_ph_ctg.fa')"
   ]
  },
  {
   "cell_type": "code",
   "execution_count": 24,
   "metadata": {},
   "outputs": [
    {
     "name": "stdout",
     "output_type": "stream",
     "text": [
      "../../../../analysis/annotations/Pst_104E_v13_p_ctg.repeatgenesLT.gff3\n",
      "../../../../analysis/annotations/Pst_104E_v13_h_ctg.repeatgenesLT.gff3\n",
      "../../../../analysis/annotations/Pst_104E_v13_p_ctg.anno.gff3\n",
      "../../../../analysis/annotations/Pst_104E_v13_h_ctg.anno.gff3\n"
     ]
    }
   ],
   "source": [
    "#Check that the list works\n",
    "print(*gff_file_list, sep='\\n')"
   ]
  },
  {
   "cell_type": "markdown",
   "metadata": {},
   "source": [
    "# <span style=\"color:mediumslateblue\"> Functions </span>"
   ]
  },
  {
   "cell_type": "code",
   "execution_count": 233,
   "metadata": {},
   "outputs": [],
   "source": [
    "#Test to make a list of all contig names\n",
    "def contig_list(reference_genome, reference_format):\n",
    "    \"\"\"Goes through reference genome and makes a list of all contig names.\"\"\"\n",
    "    contigs = []\n",
    "    for seq in  SeqIO.parse(reference_genome, reference_format):    \n",
    "        if seq.id not in contigs:\n",
    "            contigs.append(seq.id)\n",
    "    return contigs"
   ]
  },
  {
   "cell_type": "code",
   "execution_count": 234,
   "metadata": {},
   "outputs": [],
   "source": [
    "def gff_to_df(gff_file):\n",
    "    \"\"\"Convert annotation gff file into a Pandas dataframe.\"\"\"\n",
    "    gff_header_list = ['seqname', 'source', 'feature', 'start', 'end', 'score', 'strand', 'frame', 'attribute']\n",
    "    df = pd.read_csv(gff_file, sep='\\t', header = None, names = gff_header_list)\n",
    "    return df"
   ]
  },
  {
   "cell_type": "code",
   "execution_count": 235,
   "metadata": {},
   "outputs": [],
   "source": [
    "def filter_gff(gff_df, contig_list):\n",
    "    \"\"\"Filter out the contigs that aren't in the final Pst genome assembly from the TE annotation file.\"\"\"\n",
    "    filtered_df = gff_df[gff_df['seqname'].isin(contig_list)]\n",
    "    return filtered_df"
   ]
  },
  {
   "cell_type": "code",
   "execution_count": 237,
   "metadata": {},
   "outputs": [],
   "source": [
    "def df_to_gff(filtered_df, initial_gff_file):\n",
    "    \"\"\"Convert filtered dataframe from gff file back into a gff file.\"\"\"\n",
    "    name = 'Pst_104E_v13_' + initial_gff_file[-24] + '_ctg.TE.gff3'\n",
    "    filtered_df.to_csv(path_or_buf=os.path.join(os.path.abspath(DIRS['GFF_OUT']), name), sep = '\\t', header=False, index=False)"
   ]
  },
  {
   "cell_type": "markdown",
   "metadata": {},
   "source": [
    "# <span style=\"color:mediumorchid\"> Run functions </span>"
   ]
  },
  {
   "cell_type": "code",
   "execution_count": 59,
   "metadata": {},
   "outputs": [],
   "source": [
    "#Get list of all contigs\n",
    "all_contigs = contig_list(ref_fh, 'fasta')"
   ]
  },
  {
   "cell_type": "code",
   "execution_count": 62,
   "metadata": {},
   "outputs": [
    {
     "data": {
      "text/plain": [
       "631"
      ]
     },
     "execution_count": 62,
     "metadata": {},
     "output_type": "execute_result"
    }
   ],
   "source": [
    "#Check if list worked\n",
    "len(all_contigs)"
   ]
  },
  {
   "cell_type": "code",
   "execution_count": 238,
   "metadata": {},
   "outputs": [],
   "source": [
    "for gff_file in te_model_list:\n",
    "    initial_df = gff_to_df(gff_file)\n",
    "    filtered_pdf = filter_gff(initial_df, all_contigs)\n",
    "    df_to_gff(filtered_pdf, gff_file)"
   ]
  },
  {
   "cell_type": "markdown",
   "metadata": {},
   "source": [
    "# <span style=\"color:violet\"> Catenate the TE gff files with the gene model gff files and sort. </span>"
   ]
  },
  {
   "cell_type": "code",
   "execution_count": 248,
   "metadata": {},
   "outputs": [],
   "source": [
    "%%bash\n",
    "# Use Bash to catenate gene and TE files\n",
    "cd ../../../../analysis/\n",
    "cat annotations/Pst_104E_v13_p_ctg.anno.gff3 output/Pst_104E_v13_p_ctg.TE.gff3 > output/Pst_104E_v13_p_ctg_combined_anno.gff3\n",
    "cat annotations/Pst_104E_v13_h_ctg.anno.gff3 output/Pst_104E_v13_h_ctg.TE.gff3 > output/Pst_104E_v13_h_ctg_combined_anno.gff3"
   ]
  },
  {
   "cell_type": "code",
   "execution_count": 2,
   "metadata": {},
   "outputs": [
    {
     "name": "stderr",
     "output_type": "stream",
     "text": [
      "Smartmatch is experimental at /home/anjuni/myapps/gff3sort/gff3sort.pl line 68.\n",
      "Smartmatch is experimental at /home/anjuni/myapps/gff3sort/gff3sort.pl line 68.\n"
     ]
    }
   ],
   "source": [
    "%%bash\n",
    "# Use gffsort.pl to sort the catenated files\n",
    "cd /home/anjuni/analysis/output\n",
    "/home/anjuni/myapps/gff3sort/gff3sort.pl Pst_104E_v13_p_ctg_combined_anno.gff3 >  Pst_104E_v13_p_ctg_combined_sorted_anno.gff3\n",
    "/home/anjuni/myapps/gff3sort/gff3sort.pl Pst_104E_v13_h_ctg_combined_anno.gff3 >  Pst_104E_v13_h_ctg_combined_sorted_anno.gff3"
   ]
  },
  {
   "cell_type": "code",
   "execution_count": 5,
   "metadata": {},
   "outputs": [],
   "source": [
    "%%bash\n",
    "# For STAR RNA-seq mapping, I need a single gff file with annotations for the whole genome, so p and h contigs will be combined\n",
    "# H-contig is catenated before the P-contig, so it's automatically sorted.\n",
    "cd ../../../../analysis/gff_output\n",
    "cat Pst_104E_v13_h_ctg_combined_sorted_anno.gff3 Pst_104E_v13_p_ctg_combined_sorted_anno.gff3 > Pst_104E_v13_ph_ctg_combined_sorted_anno.gff3"
   ]
  },
  {
   "cell_type": "code",
   "execution_count": 6,
   "metadata": {},
   "outputs": [
    {
     "name": "stderr",
     "output_type": "stream",
     "text": [
      "rm: cannot remove '*combined_anno.gff3': No such file or directory\n"
     ]
    }
   ],
   "source": [
    "%%bash\n",
    "#remove intermediate combined files after the sorted combiend files were generated\n",
    "cd /home/anjuni/analysis/gff_output\n",
    "rm *combined_anno.gff3"
   ]
  },
  {
   "cell_type": "markdown",
   "metadata": {},
   "source": [
    "# <span style=\"color:#ff4747\"> Sort and catenate the p and h TE gff files and the p and h gene model gff files. </span>\n",
    "\n",
    "This is for the window analysis comparing TE and gene density throughout the genome :)"
   ]
  },
  {
   "cell_type": "code",
   "execution_count": 5,
   "metadata": {},
   "outputs": [
    {
     "name": "stderr",
     "output_type": "stream",
     "text": [
      "Smartmatch is experimental at /home/anjuni/myapps/gff3sort/gff3sort.pl line 68.\n",
      "Smartmatch is experimental at /home/anjuni/myapps/gff3sort/gff3sort.pl line 68.\n",
      "Smartmatch is experimental at /home/anjuni/myapps/gff3sort/gff3sort.pl line 68.\n",
      "Smartmatch is experimental at /home/anjuni/myapps/gff3sort/gff3sort.pl line 68.\n"
     ]
    }
   ],
   "source": [
    "%%bash\n",
    "# Sorting the files\n",
    "# sort the TE annotation files\n",
    "cd /home/anjuni/analysis/gff_output\n",
    "/home/anjuni/myapps/gff3sort/gff3sort.pl Pst_104E_v13_h_ctg.TE.gff3 > Pst_104E_v13_h_ctg.TE.sorted.gff3\n",
    "/home/anjuni/myapps/gff3sort/gff3sort.pl Pst_104E_v13_p_ctg.TE.gff3 > Pst_104E_v13_p_ctg.TE.sorted.gff3\n",
    "\n",
    "#sort the gene annotation files\n",
    "cd /home/anjuni/analysis/annotations\n",
    "/home/anjuni/myapps/gff3sort/gff3sort.pl Pst_104E_v13_h_ctg.anno.gff3 > ../gff_output/Pst_104E_v13_h_ctg.anno.sorted.gff3\n",
    "/home/anjuni/myapps/gff3sort/gff3sort.pl Pst_104E_v13_p_ctg.anno.gff3 > ../gff_output/Pst_104E_v13_p_ctg.anno.sorted.gff3"
   ]
  },
  {
   "cell_type": "code",
   "execution_count": 7,
   "metadata": {
    "collapsed": true
   },
   "outputs": [],
   "source": [
    "%%bash\n",
    "# catenate the two TE files and two gene files.\n",
    "cd /home/anjuni/analysis/gff_output\n",
    "cat Pst_104E_v13_h_ctg.anno.sorted.gff3 Pst_104E_v13_p_ctg.anno.sorted.gff3 > Pst_104E_v13_ph_ctg.anno.sorted.gff3\n",
    "cat Pst_104E_v13_h_ctg.TE.sorted.gff3 Pst_104E_v13_p_ctg.TE.sorted.gff3 > Pst_104E_v13_ph_ctg.TE.sorted.gff3"
   ]
  },
  {
   "cell_type": "markdown",
   "metadata": {},
   "source": [
    "# <span style=\"color:coral\"> Filter SSR lines out of the TE superfamily GFF files and combine and sort them. </span>"
   ]
  },
  {
   "cell_type": "code",
   "execution_count": 12,
   "metadata": {},
   "outputs": [],
   "source": [
    "%%bash\n",
    "cd /home/anjuni/analysis/annotations_with_permissions\n",
    "grep -v 'SSR' Pst_104E_v12_h_ctg.REPET.sorted.superfamily.gff > ../output/Pst_104E_v13_h_ctg.REPET.sorted.filtered.superfamily.gff\n",
    "grep -v 'SSR' Pst_104E_v12_p_ctg.REPET.sorted.superfamily.gff > ../output/Pst_104E_v13_p_ctg.REPET.sorted.filtered.superfamily.gff\n",
    "#Use bash to filter out 'SSR' (simple sequence repeats) in the TE superfamily file. Change filtered file name to v13 from v12."
   ]
  },
  {
   "cell_type": "code",
   "execution_count": 13,
   "metadata": {},
   "outputs": [],
   "source": [
    "%%bash\n",
    "cd /home/anjuni/analysis/output\n",
    "cat Pst_104E_v13_h_ctg.REPET.sorted.filtered.superfamily.gff Pst_104E_v13_p_ctg.REPET.sorted.filtered.superfamily.gff > Pst_104E_v13_ph_ctg.REPET.sorted.filtered.superfamily.gff\n",
    "#Use bash to catenate the two h and p TE superfamily files."
   ]
  },
  {
   "cell_type": "markdown",
   "metadata": {},
   "source": [
    "# <span style=\"color:orange\"> Test functions </span>"
   ]
  },
  {
   "cell_type": "code",
   "execution_count": 65,
   "metadata": {},
   "outputs": [],
   "source": [
    "# Test to make a list of all contig names\n",
    "def contig_list_test(reference_genome, reference_format):\n",
    "    \"\"\"Goes through reference genome and makes a list of all contig names.\"\"\"\n",
    "    count = 0\n",
    "    contigs = []\n",
    "    for seq in  SeqIO.parse(reference_genome, reference_format):    \n",
    "        if count < 10:\n",
    "            if seq.id not in contigs:\n",
    "                contigs.append(seq.id)\n",
    "                count += 1\n",
    "        else:\n",
    "            break\n",
    "    return contigs"
   ]
  },
  {
   "cell_type": "code",
   "execution_count": 66,
   "metadata": {},
   "outputs": [
    {
     "name": "stdout",
     "output_type": "stream",
     "text": [
      "pcontig_193\n",
      "pcontig_225\n",
      "pcontig_164\n",
      "pcontig_166\n",
      "pcontig_184\n",
      "pcontig_189\n",
      "pcontig_129\n",
      "pcontig_147\n",
      "pcontig_148\n",
      "pcontig_095\n"
     ]
    }
   ],
   "source": [
    "# Test contig list function\n",
    "test_list = contig_list_test(ref_fh, 'fasta')\n",
    "print(*test_list, sep='\\n')"
   ]
  },
  {
   "cell_type": "code",
   "execution_count": 101,
   "metadata": {},
   "outputs": [],
   "source": [
    "# Test to convert the gff3 annotation files to pandas dataframes\n",
    "def gff_to_df(gff_file):\n",
    "    \"\"\"Convert gff file into a Pandas dataframe.\"\"\"\n",
    "    gff_header_list = ['seqname', 'source', 'feature', 'start', 'end', 'score', 'strand', 'frame', 'attribute']\n",
    "    df = pd.read_csv(gff_file, sep='\\t', header = None, names = gff_header_list)\n",
    "    return df"
   ]
  },
  {
   "cell_type": "code",
   "execution_count": 166,
   "metadata": {},
   "outputs": [],
   "source": [
    "# Test converting the primary contig gff file to a dataframa \n",
    "test_df = gff_to_df(te_p_model) # works"
   ]
  },
  {
   "cell_type": "code",
   "execution_count": 167,
   "metadata": {},
   "outputs": [
    {
     "data": {
      "text/html": [
       "<div>\n",
       "<style scoped>\n",
       "    .dataframe tbody tr th:only-of-type {\n",
       "        vertical-align: middle;\n",
       "    }\n",
       "\n",
       "    .dataframe tbody tr th {\n",
       "        vertical-align: top;\n",
       "    }\n",
       "\n",
       "    .dataframe thead th {\n",
       "        text-align: right;\n",
       "    }\n",
       "</style>\n",
       "<table border=\"1\" class=\"dataframe\">\n",
       "  <thead>\n",
       "    <tr style=\"text-align: right;\">\n",
       "      <th></th>\n",
       "      <th>seqname</th>\n",
       "      <th>source</th>\n",
       "      <th>feature</th>\n",
       "      <th>start</th>\n",
       "      <th>end</th>\n",
       "      <th>score</th>\n",
       "      <th>strand</th>\n",
       "      <th>frame</th>\n",
       "      <th>attribute</th>\n",
       "    </tr>\n",
       "  </thead>\n",
       "  <tbody>\n",
       "    <tr>\n",
       "      <th>0</th>\n",
       "      <td>pcontig_000</td>\n",
       "      <td>EVM</td>\n",
       "      <td>gene</td>\n",
       "      <td>135540</td>\n",
       "      <td>135950</td>\n",
       "      <td>.</td>\n",
       "      <td>+</td>\n",
       "      <td>.</td>\n",
       "      <td>ID=evm.TU.pcontig_000.38;locus_tag=Pst104E_302...</td>\n",
       "    </tr>\n",
       "    <tr>\n",
       "      <th>1</th>\n",
       "      <td>pcontig_000</td>\n",
       "      <td>EVM</td>\n",
       "      <td>mRNA</td>\n",
       "      <td>135540</td>\n",
       "      <td>135950</td>\n",
       "      <td>.</td>\n",
       "      <td>+</td>\n",
       "      <td>.</td>\n",
       "      <td>ID=evm.model.pcontig_000.38;Parent=evm.TU.pcon...</td>\n",
       "    </tr>\n",
       "    <tr>\n",
       "      <th>2</th>\n",
       "      <td>pcontig_000</td>\n",
       "      <td>EVM</td>\n",
       "      <td>exon</td>\n",
       "      <td>135540</td>\n",
       "      <td>135950</td>\n",
       "      <td>.</td>\n",
       "      <td>+</td>\n",
       "      <td>.</td>\n",
       "      <td>ID=evm.model.pcontig_000.38.exon1;Parent=evm.m...</td>\n",
       "    </tr>\n",
       "    <tr>\n",
       "      <th>3</th>\n",
       "      <td>pcontig_000</td>\n",
       "      <td>EVM</td>\n",
       "      <td>CDS</td>\n",
       "      <td>135540</td>\n",
       "      <td>135950</td>\n",
       "      <td>.</td>\n",
       "      <td>+</td>\n",
       "      <td>0</td>\n",
       "      <td>ID=cds.evm.model.pcontig_000.38;Parent=evm.mod...</td>\n",
       "    </tr>\n",
       "    <tr>\n",
       "      <th>4</th>\n",
       "      <td>pcontig_000</td>\n",
       "      <td>EVM</td>\n",
       "      <td>gene</td>\n",
       "      <td>137365</td>\n",
       "      <td>137865</td>\n",
       "      <td>.</td>\n",
       "      <td>+</td>\n",
       "      <td>.</td>\n",
       "      <td>ID=evm.TU.pcontig_000.39;locus_tag=Pst104E_302...</td>\n",
       "    </tr>\n",
       "  </tbody>\n",
       "</table>\n",
       "</div>"
      ],
      "text/plain": [
       "       seqname source feature   start     end score strand frame  \\\n",
       "0  pcontig_000    EVM    gene  135540  135950     .      +     .   \n",
       "1  pcontig_000    EVM    mRNA  135540  135950     .      +     .   \n",
       "2  pcontig_000    EVM    exon  135540  135950     .      +     .   \n",
       "3  pcontig_000    EVM     CDS  135540  135950     .      +     0   \n",
       "4  pcontig_000    EVM    gene  137365  137865     .      +     .   \n",
       "\n",
       "                                           attribute  \n",
       "0  ID=evm.TU.pcontig_000.38;locus_tag=Pst104E_302...  \n",
       "1  ID=evm.model.pcontig_000.38;Parent=evm.TU.pcon...  \n",
       "2  ID=evm.model.pcontig_000.38.exon1;Parent=evm.m...  \n",
       "3  ID=cds.evm.model.pcontig_000.38;Parent=evm.mod...  \n",
       "4  ID=evm.TU.pcontig_000.39;locus_tag=Pst104E_302...  "
      ]
     },
     "execution_count": 167,
     "metadata": {},
     "output_type": "execute_result"
    }
   ],
   "source": [
    "# Check the dataframe format\n",
    "test_df.head()"
   ]
  },
  {
   "cell_type": "code",
   "execution_count": null,
   "metadata": {},
   "outputs": [],
   "source": [
    "# Test to filter out removed contigs from gff file dataframe\n",
    "def filter_gff(gff_df, contig_list):\n",
    "    filtered_df = gff_df[gff_df['seqname'].isin(contig_list)]\n",
    "    return filtered_df"
   ]
  },
  {
   "cell_type": "code",
   "execution_count": null,
   "metadata": {},
   "outputs": [],
   "source": [
    "# Test p_contig file\n",
    "test_filtered_df = filter_gff(test_df, all_contigs) # works"
   ]
  },
  {
   "cell_type": "code",
   "execution_count": 194,
   "metadata": {},
   "outputs": [
    {
     "data": {
      "text/html": [
       "<div>\n",
       "<style scoped>\n",
       "    .dataframe tbody tr th:only-of-type {\n",
       "        vertical-align: middle;\n",
       "    }\n",
       "\n",
       "    .dataframe tbody tr th {\n",
       "        vertical-align: top;\n",
       "    }\n",
       "\n",
       "    .dataframe thead th {\n",
       "        text-align: right;\n",
       "    }\n",
       "</style>\n",
       "<table border=\"1\" class=\"dataframe\">\n",
       "  <thead>\n",
       "    <tr style=\"text-align: right;\">\n",
       "      <th></th>\n",
       "      <th>seqname</th>\n",
       "      <th>source</th>\n",
       "      <th>feature</th>\n",
       "      <th>start</th>\n",
       "      <th>end</th>\n",
       "      <th>score</th>\n",
       "      <th>strand</th>\n",
       "      <th>frame</th>\n",
       "      <th>attribute</th>\n",
       "    </tr>\n",
       "  </thead>\n",
       "  <tbody>\n",
       "    <tr>\n",
       "      <th>0</th>\n",
       "      <td>pcontig_000</td>\n",
       "      <td>EVM</td>\n",
       "      <td>gene</td>\n",
       "      <td>135540</td>\n",
       "      <td>135950</td>\n",
       "      <td>.</td>\n",
       "      <td>+</td>\n",
       "      <td>.</td>\n",
       "      <td>ID=evm.TU.pcontig_000.38;locus_tag=Pst104E_302...</td>\n",
       "    </tr>\n",
       "    <tr>\n",
       "      <th>1</th>\n",
       "      <td>pcontig_000</td>\n",
       "      <td>EVM</td>\n",
       "      <td>mRNA</td>\n",
       "      <td>135540</td>\n",
       "      <td>135950</td>\n",
       "      <td>.</td>\n",
       "      <td>+</td>\n",
       "      <td>.</td>\n",
       "      <td>ID=evm.model.pcontig_000.38;Parent=evm.TU.pcon...</td>\n",
       "    </tr>\n",
       "    <tr>\n",
       "      <th>2</th>\n",
       "      <td>pcontig_000</td>\n",
       "      <td>EVM</td>\n",
       "      <td>exon</td>\n",
       "      <td>135540</td>\n",
       "      <td>135950</td>\n",
       "      <td>.</td>\n",
       "      <td>+</td>\n",
       "      <td>.</td>\n",
       "      <td>ID=evm.model.pcontig_000.38.exon1;Parent=evm.m...</td>\n",
       "    </tr>\n",
       "    <tr>\n",
       "      <th>3</th>\n",
       "      <td>pcontig_000</td>\n",
       "      <td>EVM</td>\n",
       "      <td>CDS</td>\n",
       "      <td>135540</td>\n",
       "      <td>135950</td>\n",
       "      <td>.</td>\n",
       "      <td>+</td>\n",
       "      <td>0</td>\n",
       "      <td>ID=cds.evm.model.pcontig_000.38;Parent=evm.mod...</td>\n",
       "    </tr>\n",
       "    <tr>\n",
       "      <th>4</th>\n",
       "      <td>pcontig_000</td>\n",
       "      <td>EVM</td>\n",
       "      <td>gene</td>\n",
       "      <td>137365</td>\n",
       "      <td>137865</td>\n",
       "      <td>.</td>\n",
       "      <td>+</td>\n",
       "      <td>.</td>\n",
       "      <td>ID=evm.TU.pcontig_000.39;locus_tag=Pst104E_302...</td>\n",
       "    </tr>\n",
       "  </tbody>\n",
       "</table>\n",
       "</div>"
      ],
      "text/plain": [
       "       seqname source feature   start     end score strand frame  \\\n",
       "0  pcontig_000    EVM    gene  135540  135950     .      +     .   \n",
       "1  pcontig_000    EVM    mRNA  135540  135950     .      +     .   \n",
       "2  pcontig_000    EVM    exon  135540  135950     .      +     .   \n",
       "3  pcontig_000    EVM     CDS  135540  135950     .      +     0   \n",
       "4  pcontig_000    EVM    gene  137365  137865     .      +     .   \n",
       "\n",
       "                                           attribute  \n",
       "0  ID=evm.TU.pcontig_000.38;locus_tag=Pst104E_302...  \n",
       "1  ID=evm.model.pcontig_000.38;Parent=evm.TU.pcon...  \n",
       "2  ID=evm.model.pcontig_000.38.exon1;Parent=evm.m...  \n",
       "3  ID=cds.evm.model.pcontig_000.38;Parent=evm.mod...  \n",
       "4  ID=evm.TU.pcontig_000.39;locus_tag=Pst104E_302...  "
      ]
     },
     "execution_count": 194,
     "metadata": {},
     "output_type": "execute_result"
    }
   ],
   "source": [
    "# Check the filtered dataframe format\n",
    "test_filtered_df.head()"
   ]
  },
  {
   "cell_type": "code",
   "execution_count": null,
   "metadata": {},
   "outputs": [],
   "source": [
    "# Check whether primary contig gff has a different number of contigs to the number of primary contigs in the contig list\n",
    "len(set(test_df.seqname.unique())) - len(set([x for x in all_contigs if x.startswith('pcon')])) == 0\n",
    "#len(set(test_df.seqname.unique())) - len(set([x for x in all_contigs if x.startswith('hcon')])) == 0 # same test for h_contig"
   ]
  },
  {
   "cell_type": "code",
   "execution_count": 188,
   "metadata": {},
   "outputs": [
    {
     "data": {
      "text/plain": [
       "156"
      ]
     },
     "execution_count": 188,
     "metadata": {},
     "output_type": "execute_result"
    }
   ],
   "source": [
    "# Check how many primary contigs in the contig list\n",
    "len(set([x for x in all_contigs if x.startswith('pcon')]))\n",
    "#len(set([x for x in all_contigs if x.startswith('hcon')])) # same test for h_contig"
   ]
  },
  {
   "cell_type": "code",
   "execution_count": 175,
   "metadata": {},
   "outputs": [
    {
     "data": {
      "text/plain": [
       "153"
      ]
     },
     "execution_count": 175,
     "metadata": {},
     "output_type": "execute_result"
    }
   ],
   "source": [
    "# Check how many unique contigs in the gff file\n",
    "len(set(test_df.seqname.unique()))"
   ]
  },
  {
   "cell_type": "code",
   "execution_count": 176,
   "metadata": {},
   "outputs": [
    {
     "data": {
      "text/plain": [
       "139"
      ]
     },
     "execution_count": 176,
     "metadata": {},
     "output_type": "execute_result"
    }
   ],
   "source": [
    "# Check how many unique contigs in the filtered file\n",
    "len(set(test_filtered_df.seqname.unique()))"
   ]
  },
  {
   "cell_type": "code",
   "execution_count": 192,
   "metadata": {},
   "outputs": [
    {
     "name": "stdout",
     "output_type": "stream",
     "text": [
      "Initial dataframe:  22056\n",
      "Final dataframe:    21972\n"
     ]
    }
   ],
   "source": [
    "# Compare initial with filtered dataframe\n",
    "print('Initial dataframe: ', len(test_df))\n",
    "print('Final dataframe:   ', len(test_filtered_df))"
   ]
  },
  {
   "cell_type": "code",
   "execution_count": 231,
   "metadata": {},
   "outputs": [],
   "source": [
    "# Test converting filtered pandas dataframe to gff file.\n",
    "def df_to_gff_test(filtered_df, initial_gff_file):\n",
    "    \"\"\"Convert filtered dataframe from gff file back into a gff file\"\"\"\n",
    "    name = 'Pst_104E_v13_' + initial_gff_file[-24] + '_ctg.TE.gff3'\n",
    "    filtered_df.to_csv(path_or_buf=os.path.join(os.path.abspath(DIRS['GFF_OUT']), name), sep = '\\t', header=False, index=False)"
   ]
  },
  {
   "cell_type": "code",
   "execution_count": 232,
   "metadata": {},
   "outputs": [],
   "source": [
    "# Test p_contig dataframe\n",
    "df_to_gff_test(test_filtered_df, te_p_model) #works"
   ]
  }
 ],
 "metadata": {
  "kernelspec": {
   "display_name": "Python 3",
   "language": "python",
   "name": "python3"
  },
  "language_info": {
   "codemirror_mode": {
    "name": "ipython",
    "version": 3
   },
   "file_extension": ".py",
   "mimetype": "text/x-python",
   "name": "python",
   "nbconvert_exporter": "python",
   "pygments_lexer": "ipython3",
   "version": "3.6.3"
  }
 },
 "nbformat": 4,
 "nbformat_minor": 2
}
