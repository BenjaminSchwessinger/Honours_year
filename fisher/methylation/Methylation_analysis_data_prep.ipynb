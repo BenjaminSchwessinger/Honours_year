{
 "cells": [
  {
   "cell_type": "markdown",
   "metadata": {},
   "source": [
    "# <span style=\"color:violet\"> Methylation analysis data prep </span>\n",
    "\n",
    "<span style=\"color:orange\">Converting tombo and nanopolish outputs into gff format for easy use with gene model files. </span>\n",
    "\n",
    "1. Open wig files and view them.\n",
    "2. Convert each individual WIG into a BED.\n",
    "3. Combine or append the two 5mC GFF's and the two 6mA GFF's, as there are separate GFF's for the (+) and (-) strands.\n",
    "4. Put the contig number and chromosome position in ascending order.\n",
    "    -This is because the (-) strand file will just be added to the bottom of the (+) strand file. "
   ]
  },
  {
   "cell_type": "code",
   "execution_count": 12,
   "metadata": {},
   "outputs": [],
   "source": [
    "import os\n",
    "import wiggelen\n",
    "import pybedtools\n",
    "from pybedtools import BedTool"
   ]
  },
  {
   "cell_type": "code",
   "execution_count": 13,
   "metadata": {},
   "outputs": [],
   "source": [
    "#First we need to define the base dirs\n",
    "DIRS ={}\n",
    "DIRS['BASE'] = '/home/anjuni/methylation_calling/pacbio'\n",
    "DIRS['WIG_INPUT'] = os.path.join(DIRS['BASE'], 'input', 'tombo_wig' )\n",
    "DIRS['TSV_INPUT'] = os.path.join(DIRS['BASE'], 'input', 'nanopolish_tsv') \n",
    "DIRS['GFF_INPUT'] = os.path.join(DIRS['BASE'], 'input', 'smrtlink_gff')\n",
    "DIRS['BED_OUT'] = os.path.join(DIRS['BASE'], 'input', 'bed_files')"
   ]
  },
  {
   "cell_type": "code",
   "execution_count": 14,
   "metadata": {},
   "outputs": [
    {
     "name": "stdout",
     "output_type": "stream",
     "text": [
      "/home/anjuni/methylation_calling/pacbio\n",
      "/home/anjuni/methylation_calling/pacbio/input/tombo_wig\n",
      "/home/anjuni/methylation_calling/pacbio/input/nanopolish_tsv\n",
      "/home/anjuni/methylation_calling/pacbio/input/smrtlink_gff\n",
      "/home/anjuni/methylation_calling/pacbio/input/bed_files\n"
     ]
    }
   ],
   "source": [
    "#Quick chech if directories exist\n",
    "for value in DIRS.values():\n",
    "    if not os.path.exists(value):\n",
    "        print('%s does not exist' % value)\n",
    "    else:\n",
    "        print(value)"
   ]
  },
  {
   "cell_type": "code",
   "execution_count": 15,
   "metadata": {},
   "outputs": [],
   "source": [
    "#Make file handles for each wig and tsv file and output folder\n",
    "\n",
    "#Wig files from tombo\n",
    "m5c_plus_fh = os.path.join(DIRS['WIG_INPUT'], '5mC.fraction_modified_reads.plus.wig')\n",
    "m5c_minus_fh = os.path.join(DIRS['WIG_INPUT'], '5mC.fraction_modified_reads.minus.wig')\n",
    "m6a_plus_fh = os.path.join(DIRS['WIG_INPUT'], '6mA.fraction_modified_reads.plus.wig')\n",
    "m6a_minus_fh = os.path.join(DIRS['WIG_INPUT'], '6mA.fraction_modified_reads.minus.wig')\n",
    "\n",
    "#Make a directory of wig file handles for easy use in the function\n",
    "wig_fh_list = [m5c_plus_fh, m5c_minus_fh, m6a_plus_fh, m6a_minus_fh]\n",
    "\n",
    "#tsv files from nanopolish\n",
    "m5c_nanopolish_fh = os.path.join(DIRS['TSV_INPUT'], 'Pst_104E_methylation_frequency_minimap2.tsv')\n",
    "\n",
    "#gff files from smrtlink\n",
    "gff_smrt_fh = os.path.join(DIRS['GFF_INPUT'], 'file.gff')\n",
    "\n",
    "#Set file handles for BED output files generated from tombo WIG files\n",
    "m5c_plus = os.path.join(DIRS['BED_OUT'], '5mC_plus_tombo.bed')\n",
    "m5c_minus = os.path.join(DIRS['BED_OUT'], '5mC_minus_tombo.bed')\n",
    "m6a_plus = os.path.join(DIRS['BED_OUT'], '6mA_plus_tombo.bed')\n",
    "m6a_minus = os.path.join(DIRS['BED_OUT'], '6mA_minus_tombo.bed')"
   ]
  },
  {
   "cell_type": "code",
   "execution_count": 16,
   "metadata": {},
   "outputs": [
    {
     "name": "stdout",
     "output_type": "stream",
     "text": [
      "['/home/anjuni/methylation_calling/pacbio/input/tombo_wig/5mC.fraction_modified_reads.plus.wig', '/home/anjuni/methylation_calling/pacbio/input/tombo_wig/5mC.fraction_modified_reads.minus.wig', '/home/anjuni/methylation_calling/pacbio/input/tombo_wig/6mA.fraction_modified_reads.plus.wig', '/home/anjuni/methylation_calling/pacbio/input/tombo_wig/6mA.fraction_modified_reads.minus.wig']\n"
     ]
    }
   ],
   "source": [
    "#Check if this list works\n",
    "print(wig_fh_list)"
   ]
  },
  {
   "cell_type": "markdown",
   "metadata": {},
   "source": [
    "# <span style=\"color:violet\"> Functions </span>"
   ]
  },
  {
   "cell_type": "code",
   "execution_count": 128,
   "metadata": {},
   "outputs": [],
   "source": [
    "#Define functions\n",
    "def wig_to_bed(input_wig):\n",
    "    \"\"\"Convert WIG files from tombo into BED files for BEDtools analysis.\"\"\"\n",
    "    if len(input_wig) == 92: # The separate WIG files for the (-) and (+) strands have file handles of different lengths.\n",
    "        mod = input_wig[56:59] # Files for the same strand are for 6mA and 5mC modifications, so need to separate these.\n",
    "        strand = '+'\n",
    "        name = mod + '_plus' + '_tombo' +'.bed'\n",
    "        out_bed = os.path.join(DIRS['BED_OUT'], name)\n",
    "            \n",
    "    else:\n",
    "        mod = input_wig[56:59]\n",
    "        strand = '-'\n",
    "        name = mod + '_minus' + '_tombo' +'.bed'\n",
    "        out_bed = os.path.join(DIRS['BED_OUT'], name)      \n",
    "        \n",
    "    with open(input_wig) as wig_file:   \n",
    "        with open(out_bed, 'w') as bed_file:\n",
    "            for x in wiggelen.walk(wig_file):\n",
    "                    print('%s\\t%d\\t%d\\t%s\\t%s\\t%s' % (x[0], int(x[1])-1, x[1], mod, x[2], strand), file=bed_file)"
   ]
  },
  {
   "cell_type": "code",
   "execution_count": 8,
   "metadata": {},
   "outputs": [],
   "source": [
    "def tsv_to_bed(input_tsv):\n",
    "    \"\"\"Convert TSV files from nanopolish into BED files for BEDtools analysis.\"\"\"\n",
    "    # Sites with no methylation (frequency = 0.00) are also included, as the TSV file has all CpG sites as possible 5mC sites.\n",
    "    # We need CpG sites to determine methylation frequency.\n",
    "    with open(input_tsv) as tsv_file:\n",
    "        output_bed = os.path.join(DIRS['BED_OUT'], '5mC_nanopolish.bed') # Maybe change this to CpG_nanopolish.bed, depending on analysis.\n",
    "        with open(output_bed, 'w') as bed_file:\n",
    "            for line in tsv_file:\n",
    "                if line.startswith('chr'): # first line in tsv has column headings (eg: chr), so ignore this line\n",
    "                    continue\n",
    "                else:\n",
    "                    line = line.rstrip()\n",
    "                    line = line.split('\\t')\n",
    "                    print('%s\\t%s\\t%s\\t%s\\t%s\\t%s' % (line[0], line[1], int(line[2])+1, '5mC', line[6], '+'), file=bed_file)"
   ]
  },
  {
   "cell_type": "code",
   "execution_count": 256,
   "metadata": {},
   "outputs": [],
   "source": [
    "def tsv_to_bed_hc(input_tsv):\n",
    "    \"\"\"Convert only high confidence methylation sites (non-zero frequency) from TSV files from nanopolish into BED files for BEDtools analysis.\"\"\"\n",
    "    with open(input_tsv) as tsv_file:\n",
    "        output_bed = os.path.join(DIRS['BED_OUT'], '5mC_hc_nanopolish.bed')\n",
    "        with open(output_bed, 'w') as bed_file:\n",
    "            for line in tsv_file:\n",
    "                if line.startswith('chr'):\n",
    "                    continue\n",
    "                else:\n",
    "                    line = line.rstrip()\n",
    "                    line = line.split('\\t')\n",
    "                    if line[6] == '0.000':\n",
    "                        continue\n",
    "                    else:\n",
    "                        print('%s\\t%s\\t%s\\t%s\\t%s\\t%s' % (line[0], line[1], int(line[2])+1, '5mC', line[6], '+'), file=bed_file)"
   ]
  },
  {
   "cell_type": "code",
   "execution_count": 168,
   "metadata": {},
   "outputs": [],
   "source": [
    "def gff_to_bed(input_gff):\n",
    "    \"\"\"Convert GFF files from SMRTLink into BED files for BEDtools analysis.\"\"\"\n",
    "    with open(input_gff) as gff_file:\n",
    "        output_bed = os.path.join(DIRS['BED_OUT'], '6mA_smrtlink.bed')\n",
    "        with open(output_bed, 'w') as bed_file:\n",
    "            for line in gff_file:\n",
    "                if line.startswith('#'):\n",
    "                    continue\n",
    "                else:\n",
    "                    line = line.rstrip()\n",
    "                    line = line.split('\\t')\n",
    "                    if line[2] == 'modified_base': # only select identified  6mA sites, not general modifications\n",
    "                        continue\n",
    "                    else:\n",
    "                        print('%s\\t%s\\t%s\\t%s\\t%s\\t%s' % (line[0], int(line[3])-1, line[3], '6mA', line[5], line[6]), file=bed_file)"
   ]
  },
  {
   "cell_type": "code",
   "execution_count": 205,
   "metadata": {},
   "outputs": [],
   "source": [
    "def gff_prob_to_bed(input_gff):\n",
    "    \"\"\"Convert GFF files from SMRTLink into BED files for BEDtools analysis, but with Phred scores replaced with base call accuracy.\"\"\"\n",
    "    with open(input_gff) as gff_file:\n",
    "        output_bed = os.path.join(DIRS['BED_OUT'], '6mA_prob_smrtlink.bed')\n",
    "        with open(output_bed, 'w') as bed_file:\n",
    "            for line in gff_file:\n",
    "                if line.startswith('#'):\n",
    "                    continue\n",
    "                else:\n",
    "                    line = line.rstrip()\n",
    "                    line = line.split('\\t')\n",
    "                    if line[2] == 'modified_base': # only select identified  6mA sites, not general modifications\n",
    "                        continue\n",
    "                    else: # Phred-to-accuracy formula replaces Phred score input below. Formula: accuracy = 10**(-phred/10).\n",
    "                        print('%s\\t%s\\t%s\\t%s\\t%s\\t%s' % (line[0], int(line[3])-1, line[3], '6mA', 1 - (10**((-(float(line[5])))/10)), line[6]), file=bed_file)"
   ]
  },
  {
   "cell_type": "code",
   "execution_count": 246,
   "metadata": {},
   "outputs": [],
   "source": [
    "def cat_tombo(plus_file, minus_file):\n",
    "    \"\"\"\"Concatenate  the separate Tombo BED files for each base modification, as Tombo generates separate files for the plus and minus strands.\"\"\"\n",
    "    file_list = [plus_file, minus_file]\n",
    "    name = plus_file[56:59] + '_tombo.bed' # get the base modification type (5mC or 6mA) out of the bed file name\n",
    "    out_bed = os.path.join(DIRS['BED_OUT'], name)\n",
    "    with open(out_bed, 'w') as outfile:\n",
    "        for file in file_list:\n",
    "            with open(file) as infile:\n",
    "                outfile.write(infile.read())"
   ]
  },
  {
   "cell_type": "code",
   "execution_count": 11,
   "metadata": {},
   "outputs": [],
   "source": [
    "def tsv_to_s_bed(input_tsv):\n",
    "    \"\"\"Convert TSV files from nanopolish (without strand information, as Nanopolish does not have strand information) into BED files for BEDtools analysis.\"\"\"\n",
    "    # Sites with no methylation (frequency = 0.00) are also included, as the TSV file has all CpG sites as possible 5mC sites.\n",
    "    # We need CpG sites to determine methylation frequency.\n",
    "    with open(input_tsv) as tsv_file:\n",
    "        output_bed = os.path.join(DIRS['BED_OUT'], '5mC_s_nanopolish.bed') # Maybe change this to CpG_nanopolish.bed, depending on analysis.\n",
    "        with open(output_bed, 'w') as bed_file:\n",
    "            for line in tsv_file:\n",
    "                if line.startswith('chr'): # first line in tsv has column headings (eg: chr), so ignore this line\n",
    "                    continue\n",
    "                else:\n",
    "                    line = line.rstrip()\n",
    "                    line = line.split('\\t')\n",
    "                    print('%s\\t%s\\t%s\\t%s\\t%s' % (line[0], line[1], int(line[2])+1, '5mC', line[6]), file=bed_file)"
   ]
  },
  {
   "cell_type": "code",
   "execution_count": 17,
   "metadata": {},
   "outputs": [],
   "source": [
    "def new_tsv_to_s_bed(input_tsv):\n",
    "    \"\"\"Convert TSV files from rerunning nanopolish into BED files for BEDtools analysis, without strand information\"\"\"\n",
    "    # Sites with no methylation (frequency = 0.00) are also included, as the TSV file has all CpG sites as possible 5mC sites.\n",
    "    # We need CpG sites to determine methylation frequency.\n",
    "    with open(input_tsv) as tsv_file:\n",
    "        output_bed = os.path.join(DIRS['BED_OUT'], '5mC_rerun_s_nanopolish.bed') # Maybe change this to CpG_nanopolish.bed, depending on analysis.\n",
    "        with open(output_bed, 'w') as bed_file:\n",
    "            for line in tsv_file:\n",
    "                if line.startswith('chr'): # first line in tsv has column headings (eg: chr), so ignore this line\n",
    "                    continue\n",
    "                else:\n",
    "                    line = line.rstrip()\n",
    "                    line = line.split('\\t')\n",
    "                    print('%s\\t%s\\t%s\\t%s\\t%s' % (line[0], line[1], int(line[2])+1, '5mC', line[6]), file=bed_file)"
   ]
  },
  {
   "cell_type": "markdown",
   "metadata": {},
   "source": [
    "# <span style=\"color:violet\"> Run functions to convert whole input files </span>"
   ]
  },
  {
   "cell_type": "code",
   "execution_count": 129,
   "metadata": {},
   "outputs": [],
   "source": [
    "#Convert all WIG files into BED format\n",
    "for file in wig_fh_list:\n",
    "    wig_to_bed(file)"
   ]
  },
  {
   "cell_type": "code",
   "execution_count": 9,
   "metadata": {},
   "outputs": [],
   "source": [
    "#Convert the TSV file to BED format\n",
    "tsv_to_bed(m5c_nanopolish_fh)"
   ]
  },
  {
   "cell_type": "code",
   "execution_count": 258,
   "metadata": {},
   "outputs": [],
   "source": [
    "#Convert high-confidence values in the TSV file to BED format\n",
    "tsv_to_bed_hc(m5c_nanopolish_fh)"
   ]
  },
  {
   "cell_type": "code",
   "execution_count": 169,
   "metadata": {},
   "outputs": [],
   "source": [
    "#Convert the GFF file to BED format\n",
    "gff_to_bed(gff_smrt_fh)"
   ]
  },
  {
   "cell_type": "code",
   "execution_count": 206,
   "metadata": {},
   "outputs": [],
   "source": [
    "#Convert the GFF file with base call accuracy to BED format\n",
    "gff_prob_to_bed(gff_smrt_fh)"
   ]
  },
  {
   "cell_type": "code",
   "execution_count": 10,
   "metadata": {},
   "outputs": [],
   "source": [
    "#Convert TSV file to BED format without strand :)\n",
    "tsv_to_s_bed(m5c_nanopolish_fh)"
   ]
  },
  {
   "cell_type": "code",
   "execution_count": 18,
   "metadata": {},
   "outputs": [],
   "source": [
    "#Convert the Nanopolish rerun TSV file to BED format without strand, to check whether the first run was correct\n",
    "new_nanopolish = os.path.join(DIRS['TSV_INPUT'], 'rerun', 'Pst_104E_methylation_frequency_minimap2.tsv')\n",
    "new_tsv_to_s_bed(new_nanopolish)"
   ]
  },
  {
   "cell_type": "markdown",
   "metadata": {},
   "source": [
    "# <span style=\"color:violet\"> Concatenate converted tombo files </span>"
   ]
  },
  {
   "cell_type": "code",
   "execution_count": 248,
   "metadata": {},
   "outputs": [],
   "source": [
    "#Catenate tombo 5mC files\n",
    "cat_tombo(m5c_plus, m5c_minus)\n",
    "\n",
    "#Catenate tombo 6mA files\n",
    "cat_tombo(m6a_plus, m6a_minus)"
   ]
  },
  {
   "cell_type": "markdown",
   "metadata": {},
   "source": [
    "# <span style=\"color:violet\"> Test functions for the first 10 lines of input files </span>"
   ]
  },
  {
   "cell_type": "code",
   "execution_count": 123,
   "metadata": {},
   "outputs": [],
   "source": [
    "def wig_to_bed_test(input_wig):\n",
    "    \"\"\"Test WIG to BED conversion for first 10 lines of WIG files.\"\"\"\n",
    "    if len(input_wig) == 92:\n",
    "        mod = input_wig[56:59]\n",
    "        strand = '+'\n",
    "        name = mod + '_plus' + '_tombo' +'.bed'\n",
    "        out_bed = os.path.join(DIRS['BED_OUT'], name)\n",
    "            \n",
    "    else:\n",
    "        mod = input_wig[56:59]\n",
    "        strand = '-'\n",
    "        name = mod + '_minus' + '_tombo' +'.bed'\n",
    "        out_bed = os.path.join(DIRS['BED_OUT'], name)      \n",
    "        \n",
    "    with open(input_wig) as wig_file:   \n",
    "        with open(out_bed, 'w') as bed_file:\n",
    "            count=0\n",
    "            for x in wiggelen.walk(wig_file):\n",
    "                if count < 10:\n",
    "                    print('%s\\t%d\\t%d\\t%s\\t%s\\t%s' % (x[0], int(x[1])-1, x[1], mod, x[2], strand), file=bed_file)\n",
    "                    count += 1\n",
    "                else:\n",
    "                    break"
   ]
  },
  {
   "cell_type": "code",
   "execution_count": null,
   "metadata": {},
   "outputs": [],
   "source": [
    "for file in wig_fh_list:\n",
    "    %prun wig_to_bed_test(file) # works!"
   ]
  },
  {
   "cell_type": "code",
   "execution_count": 251,
   "metadata": {},
   "outputs": [],
   "source": [
    "def tsv_to_bed_test(input_tsv):\n",
    "    \"\"\"Test TSV to BED conversion for first 10 lines of the TSV file.\"\"\"\n",
    "    with open(input_tsv) as tsv_file:\n",
    "        output_bed = os.path.join(DIRS['BED_OUT'], '5mC_nanopolish.bed')\n",
    "        with open(output_bed, 'w') as bed_file:\n",
    "            count = 0\n",
    "            for line in tsv_file:\n",
    "                if line.startswith('chr'):\n",
    "                    continue\n",
    "                else:\n",
    "                    if count < 10:\n",
    "                        line = line.rstrip()\n",
    "                        line = line.split('\\t')\n",
    "                        print('%s\\t%s\\t%s\\t%s\\t%s\\t%s' % (line[0], line[1], int(line[2])+1, '5mC', line[6], '+'), file=bed_file)\n",
    "                        count += 1 \n",
    "                    else:\n",
    "                        break"
   ]
  },
  {
   "cell_type": "code",
   "execution_count": 252,
   "metadata": {},
   "outputs": [],
   "source": [
    "tsv_to_bed_test(m5c_nanopolish_fh) # works!"
   ]
  },
  {
   "cell_type": "code",
   "execution_count": 253,
   "metadata": {},
   "outputs": [],
   "source": [
    "def tsv_to_bed_hc_test(input_tsv):\n",
    "    \"\"\"Test TSV to BED conversion for first 10 lines of the TSV file.\"\"\"\n",
    "    with open(input_tsv) as tsv_file:\n",
    "        output_bed = os.path.join(DIRS['BED_OUT'], '5mC_hc_nanopolish.bed')\n",
    "        with open(output_bed, 'w') as bed_file:\n",
    "            count = 0\n",
    "            for line in tsv_file:\n",
    "                if line.startswith('chr'):\n",
    "                    continue\n",
    "                else:\n",
    "                    line = line.rstrip()\n",
    "                    line = line.split('\\t')\n",
    "                    if line[6] == '0.000':\n",
    "                        continue\n",
    "                    else:\n",
    "                        if count < 10:\n",
    "                            print('%s\\t%s\\t%s\\t%s\\t%s\\t%s' % (line[0], line[1], int(line[2])+1, '5mC', line[6], '+'), file=bed_file)\n",
    "                            count += 1 \n",
    "                        else:\n",
    "                            break"
   ]
  },
  {
   "cell_type": "code",
   "execution_count": 254,
   "metadata": {},
   "outputs": [],
   "source": [
    "tsv_to_bed_hc_test(m5c_nanopolish_fh) # works!"
   ]
  },
  {
   "cell_type": "code",
   "execution_count": 150,
   "metadata": {},
   "outputs": [],
   "source": [
    "#This script writes the Phred score to a BED file, while another script will write a probability value to a BED file.\n",
    "def gff_to_bed_test(input_gff):\n",
    "    \"\"\"Test GFF to BED conversion for first 10 lines of the GFF file.\"\"\"\n",
    "    with open(input_gff) as gff_file:\n",
    "        output_bed = os.path.join(DIRS['BED_OUT'], '6mA_smrtlink.bed')\n",
    "        with open(output_bed, 'w') as bed_file:\n",
    "            count = 0\n",
    "            for line in gff_file:\n",
    "                if line.startswith('#'):\n",
    "                    continue\n",
    "                else:\n",
    "                    line = line.rstrip()\n",
    "                    line = line.split('\\t')\n",
    "                    if line[2] == 'modified_base': # only select identified  6mA sites, not general modifications\n",
    "                        continue\n",
    "                    else:\n",
    "                        if count < 10:\n",
    "                            print('%s\\t%s\\t%s\\t%s\\t%s\\t%s' % (line[0], int(line[3])-1, line[3], '6mA', line[5], line[6]), file=bed_file)\n",
    "                            count += 1\n",
    "                        else:\n",
    "                            break"
   ]
  },
  {
   "cell_type": "code",
   "execution_count": 151,
   "metadata": {},
   "outputs": [],
   "source": [
    "gff_to_bed_test(gff_smrt_fh) # works!"
   ]
  },
  {
   "cell_type": "code",
   "execution_count": 201,
   "metadata": {},
   "outputs": [],
   "source": [
    "#write a probability value (instead of a Phred score) to a BED file.\n",
    "#long number of decimal places in the confidence value column were maintained as otherwise they round to 1\n",
    "#base call accuracy is never 100%, so for correct values, all decimal places retained\n",
    "def gff_prob_to_bed_test(input_gff):\n",
    "    \"\"\"Test GFF to BED conversion for first 10 lines of the GFF file.\"\"\"\n",
    "    with open(input_gff) as gff_file:\n",
    "        output_bed = os.path.join(DIRS['BED_OUT'], '6mA_prob_smrtlink.bed')\n",
    "        with open(output_bed, 'w') as bed_file:\n",
    "            count = 0\n",
    "            for line in gff_file:\n",
    "                if line.startswith('#'):\n",
    "                    continue\n",
    "                else:\n",
    "                    line = line.rstrip()\n",
    "                    line = line.split('\\t')\n",
    "                    if line[2] == 'modified_base': # only select identified  6mA sites, not general modifications\n",
    "                        continue\n",
    "                    else:\n",
    "                        if count < 10:\n",
    "                            print('%s\\t%s\\t%s\\t%s\\t%s\\t%s' % (line[0], int(line[3])-1, line[3], '6mA', 1 - (10**((-(float(line[5])))/10)), line[6]), file=bed_file)\n",
    "                            count += 1\n",
    "                        else:\n",
    "                            break"
   ]
  },
  {
   "cell_type": "code",
   "execution_count": 202,
   "metadata": {},
   "outputs": [],
   "source": [
    "gff_prob_to_bed_test(gff_smrt_fh) #works!"
   ]
  }
 ],
 "metadata": {
  "kernelspec": {
   "display_name": "Python 3",
   "language": "python",
   "name": "python3"
  },
  "language_info": {
   "codemirror_mode": {
    "name": "ipython",
    "version": 3
   },
   "file_extension": ".py",
   "mimetype": "text/x-python",
   "name": "python",
   "nbconvert_exporter": "python",
   "pygments_lexer": "ipython3",
   "version": "3.6.3"
  }
 },
 "nbformat": 4,
 "nbformat_minor": 2
}
