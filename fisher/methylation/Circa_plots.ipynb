{
 "cells": [
  {
   "cell_type": "markdown",
   "metadata": {},
   "source": [
    "# <span style='color:crimson'> Circa plot <span/>\n",
    "\n",
    "This is a notebook to generate inputs for circa plots\n",
    "\n",
    "1. collect pre-existing file paths\n",
    "    - If needed, make a genome_size file of the largest 20 and 30 contigs --> not needed.\n",
    "3. run coverage for methylation\n",
    "4. check the files worked\n",
    "5. copy these files to NCI so they can be copied to the home directory"
   ]
  },
  {
   "cell_type": "code",
   "execution_count": 1,
   "metadata": {},
   "outputs": [],
   "source": [
    "# load modules\n",
    "\n",
    "import pybedtools\n",
    "from pybedtools import BedTool\n",
    "import os\n",
    "import glob\n",
    "import pprint\n",
    "#import numpy # need for p-value stats\n",
    "import scipy\n",
    "import matplotlib.pyplot as plt\n",
    "import pandas as pd\n",
    "import numpy as np\n",
    "from matplotlib_venn import venn2\n",
    "from scipy.stats import wilcoxon\n",
    "from scipy.stats import spearmanr"
   ]
  },
  {
   "cell_type": "code",
   "execution_count": 11,
   "metadata": {},
   "outputs": [],
   "source": [
    "# set paths\n",
    "DIRS = {}\n",
    "DIRS['BASE'] = '/home/anjuni/circa'\n",
    "DIRS['OLD_COVERAGE'] = os.path.join(DIRS['BASE'], 'window_analysis')\n",
    "DIRS['NEW_COVERAGE'] = os.path.join(DIRS['BASE'], 'new_windows')\n",
    "DIRS['PUBLISHED'] = os.path.join(DIRS['BASE'], 'publication')\n",
    "DIRS['BASE2'] = '/home/anjuni/analysis'\n",
    "DIRS['WINDOWS'] = os.path.join(DIRS['BASE2'], 'windows')"
   ]
  },
  {
   "cell_type": "markdown",
   "metadata": {},
   "source": [
    "Files needed:\n",
    "- circabed for genes, TE, 5mC, 6mA"
   ]
  },
  {
   "cell_type": "markdown",
   "metadata": {},
   "source": [
    "### <span style='color:deeppink'> 1. Collect pre-existing file paths  <span/>"
   ]
  },
  {
   "cell_type": "code",
   "execution_count": 9,
   "metadata": {
    "collapsed": true
   },
   "outputs": [
    {
     "name": "stdout",
     "output_type": "stream",
     "text": [
      "/home/anjuni/circa/window_analysis/Pst_104E_v12_p_noeffector.gene.w100kb.overlap.circabed\n",
      "/home/anjuni/circa/window_analysis/Pst_104E_v12_p_non_busco_non_effector.gene.w100kb.overlap.circabed\n",
      "/home/anjuni/circa/window_analysis/Pst_104E_v12_p_busco.gene.w100kb.overlap.circabed\n",
      "/home/anjuni/circa/window_analysis/Pst_104E_v12_p_ctg.REPET.sorted.g1000_superfamily.w100kb.overlap.circabed\n",
      "/home/anjuni/circa/window_analysis/Pst_104E_v12_p_ctg.REPET.sorted.superfamily.w100kb.overlap.circabed\n",
      "/home/anjuni/circa/window_analysis/Pst_104E_v12_p_ctg.REPET.sorted.g400_superfamily.w100kb.overlap.circabed\n",
      "/home/anjuni/circa/window_analysis/Pst_104E_v12_cluster_8.gene.w100kb.overlap.circabed\n",
      "/home/anjuni/circa/window_analysis/Pst_104E_v12_p_all.gene.w100kb.overlap.circabed\n",
      "/home/anjuni/circa/window_analysis/Pst_104E_v12_p_non_busco.gene.w100kb.overlap.circabed\n",
      "/home/anjuni/circa/window_analysis/Pst_104E_v12_p_effector.gene.w100kb.overlap.circabed\n"
     ]
    }
   ],
   "source": [
    "for fn in glob.iglob('%s/*.w100kb.overlap.circabed' % DIRS['OLD_COVERAGE'], recursive=True):\n",
    "    print(fn)"
   ]
  },
  {
   "cell_type": "code",
   "execution_count": 13,
   "metadata": {
    "collapsed": true
   },
   "outputs": [
    {
     "name": "stdout",
     "output_type": "stream",
     "text": [
      "/home/anjuni/circa/publication/Pst_104E_p_ctg.second_30_largest_contigs.genome\n",
      "/home/anjuni/circa/publication/Pst_104E_p_ctg.30_largest_contigs.genome\n",
      "/home/anjuni/circa/publication/First_draft_wo_all_genes.circa\n",
      "/home/anjuni/circa/publication/Pst_104E_p_ctg.30_largest_contigs.fa\n",
      "/home/anjuni/circa/publication/First_draft_w_all_genes.circa\n",
      "/home/anjuni/circa/publication/First_draft_wo_all_genes.svg\n",
      "/home/anjuni/circa/publication/Pst_104E_p_ctg.second_30_largest_contigs.fa\n",
      "/home/anjuni/circa/publication/Pst_104E_p_ctg.third_30_largest_contigs.genome\n",
      "/home/anjuni/circa/publication/First_draft_wo_all_genes_fig.tif\n",
      "/home/anjuni/circa/publication/First_draft.circa\n",
      "/home/anjuni/circa/publication/First_draft_wo_all_genes_fig.svg\n"
     ]
    }
   ],
   "source": [
    "for fn in glob.iglob('%s/*' % DIRS['PUBLISHED'], recursive=True):\n",
    "    print(fn)"
   ]
  },
  {
   "cell_type": "markdown",
   "metadata": {},
   "source": [
    "#### Files to copy to NCI\n",
    "\n",
    "##### Inputs:\n",
    "/home/anjuni/circa/window_analysis/Pst_104E_v12_p_all.gene.w100kb.overlap.circabed\n",
    "/home/anjuni/circa/window_analysis/Pst_104E_v12_p_ctg.REPET.sorted.superfamily.w100kb.overlap.circabed\n",
    "/home/anjuni/circa/publication/Pst_104E_p_ctg.30_largest_contigs.genome\n",
    "/home/anjuni/circa/publication/Pst_104E_p_ctg.30_largest_contigs.fa\n",
    "\n",
    "##### Circa plots:\n",
    "/home/anjuni/circa/publication/First_draft.circa\n",
    "/home/anjuni/circa/publication/First_draft_wo_all_genes.circa\n",
    "/home/anjuni/circa/publication/First_draft_wo_all_genes_fig.tif\n",
    "/home/anjuni/circa/publication/First_draft_wo_all_genes.svg\n",
    "/home/anjuni/circa/publication/First_draft_wo_all_genes_fig.svg\n",
    "/home/anjuni/circa/publication/First_draft_w_all_genes.circa"
   ]
  },
  {
   "cell_type": "markdown",
   "metadata": {},
   "source": [
    "### <span style='color:deeppink'> 2. Run coverage for methylation.  <span/>"
   ]
  },
  {
   "cell_type": "code",
   "execution_count": 14,
   "metadata": {},
   "outputs": [],
   "source": [
    "genome_size_fn = os.path.join(DIRS['OLD_COVERAGE'], 'Pst_104E_v12_p_ctg.genome_file')"
   ]
  },
  {
   "cell_type": "code",
   "execution_count": 15,
   "metadata": {},
   "outputs": [
    {
     "name": "stdout",
     "output_type": "stream",
     "text": [
      "{'100kb': '/home/anjuni/circa/new_windows/Pst_104E_v12_ph_ctg_w100kb.bed'}\n"
     ]
    }
   ],
   "source": [
    "# make dictionaries of fn\n",
    "\n",
    "# Define all file paths for window BED files\n",
    "window_fn_dict = {}\n",
    "window_bed_dict = {}\n",
    "window_fn_dict['100kb'] = os.path.join(DIRS['NEW_COVERAGE'], 'Pst_104E_v12_ph_ctg_w100kb.bed')\n",
    "pprint.pprint(window_fn_dict)"
   ]
  },
  {
   "cell_type": "code",
   "execution_count": 26,
   "metadata": {},
   "outputs": [
    {
     "name": "stdout",
     "output_type": "stream",
     "text": [
      "{'5mC_hc_tombo_sorted.cutoff.0.00.bed': '/home/anjuni/analysis/coverage/feature_files/5mC_hc_tombo_sorted.cutoff.0.00.bed',\n",
      " '6mA_hc_tombo_sorted.cutoff.0.00.bed': '/home/anjuni/analysis/coverage/feature_files/6mA_hc_tombo_sorted.cutoff.0.00.bed'}\n"
     ]
    }
   ],
   "source": [
    "# Make methylation fn dict\n",
    "feature_fn_dict = {}\n",
    "feature_fn_dict['5mC_hc_tombo_sorted.cutoff.0.00.bed'] = '/home/anjuni/analysis/coverage/feature_files/5mC_hc_tombo_sorted.cutoff.0.00.bed'\n",
    "feature_fn_dict['6mA_hc_tombo_sorted.cutoff.0.00.bed'] = '/home/anjuni/analysis/coverage/feature_files/6mA_hc_tombo_sorted.cutoff.0.00.bed'\n",
    "pprint.pprint(methyl_fn_dict)"
   ]
  },
  {
   "cell_type": "code",
   "execution_count": 53,
   "metadata": {},
   "outputs": [
    {
     "name": "stdout",
     "output_type": "stream",
     "text": [
      "{'5mC_hc_tombo_sorted.cutoff.0.50.bed': '/home/anjuni/analysis/coverage/feature_files/5mC_hc_tombo_sorted.cutoff.0.50.bed',\n",
      " '6mA_hc_tombo_sorted.cutoff.0.50.bed': '/home/anjuni/analysis/coverage/feature_files/6mA_hc_tombo_sorted.cutoff.0.50.bed'}\n"
     ]
    }
   ],
   "source": [
    "# Make methylation fn dict\n",
    "feature_fn_dict = {}\n",
    "feature_fn_dict['5mC_hc_tombo_sorted.cutoff.0.50.bed'] = '/home/anjuni/analysis/coverage/feature_files/5mC_hc_tombo_sorted.cutoff.0.50.bed'\n",
    "feature_fn_dict['6mA_hc_tombo_sorted.cutoff.0.50.bed'] = '/home/anjuni/analysis/coverage/feature_files/6mA_hc_tombo_sorted.cutoff.0.50.bed'\n",
    "pprint.pprint(feature_fn_dict)"
   ]
  },
  {
   "cell_type": "code",
   "execution_count": 57,
   "metadata": {},
   "outputs": [
    {
     "name": "stdout",
     "output_type": "stream",
     "text": [
      "{'5mC_hc_tombo_sorted.cutoff.0.30.bed': '/home/anjuni/analysis/coverage/feature_files/5mC_hc_tombo_sorted.cutoff.0.30.bed',\n",
      " '6mA_hc_tombo_sorted.cutoff.0.30.bed': '/home/anjuni/analysis/coverage/feature_files/6mA_hc_tombo_sorted.cutoff.0.30.bed'}\n"
     ]
    }
   ],
   "source": [
    "# Make methylation fn dict\n",
    "feature_fn_dict = {}\n",
    "feature_fn_dict['5mC_hc_tombo_sorted.cutoff.0.30.bed'] = '/home/anjuni/analysis/coverage/feature_files/5mC_hc_tombo_sorted.cutoff.0.30.bed'\n",
    "feature_fn_dict['6mA_hc_tombo_sorted.cutoff.0.30.bed'] = '/home/anjuni/analysis/coverage/feature_files/6mA_hc_tombo_sorted.cutoff.0.30.bed'\n",
    "pprint.pprint(feature_fn_dict)"
   ]
  },
  {
   "cell_type": "code",
   "execution_count": 16,
   "metadata": {},
   "outputs": [],
   "source": [
    "# Make the actual windows! :D\n",
    "!bedtools makewindows -g {genome_size_fn} -w 100000 > {window_fn_dict['100kb']}"
   ]
  },
  {
   "cell_type": "code",
   "execution_count": 17,
   "metadata": {},
   "outputs": [],
   "source": [
    "#new make a bedtools window dataframe\n",
    "window_bed_dict = {}\n",
    "for key, value in window_fn_dict.items():\n",
    "    window_bed_dict[key] = BedTool(value)"
   ]
  },
  {
   "cell_type": "code",
   "execution_count": 18,
   "metadata": {},
   "outputs": [
    {
     "data": {
      "text/plain": [
       "{'100kb': <BedTool(/home/anjuni/circa/new_windows/Pst_104E_v12_ph_ctg_w100kb.bed)>}"
      ]
     },
     "execution_count": 18,
     "metadata": {},
     "output_type": "execute_result"
    }
   ],
   "source": [
    "window_bed_dict"
   ]
  },
  {
   "cell_type": "code",
   "execution_count": 58,
   "metadata": {},
   "outputs": [],
   "source": [
    "#new make a bedtools methylation dataframe\n",
    "feature_bed_dict = {}\n",
    "for key, value in feature_fn_dict.items():\n",
    "    feature_bed_dict[key] = BedTool(value)"
   ]
  },
  {
   "cell_type": "code",
   "execution_count": 59,
   "metadata": {},
   "outputs": [
    {
     "data": {
      "text/plain": [
       "{'5mC_hc_tombo_sorted.cutoff.0.30.bed': <BedTool(/home/anjuni/analysis/coverage/feature_files/5mC_hc_tombo_sorted.cutoff.0.30.bed)>,\n",
       " '6mA_hc_tombo_sorted.cutoff.0.30.bed': <BedTool(/home/anjuni/analysis/coverage/feature_files/6mA_hc_tombo_sorted.cutoff.0.30.bed)>}"
      ]
     },
     "execution_count": 59,
     "metadata": {},
     "output_type": "execute_result"
    }
   ],
   "source": [
    "feature_bed_dict"
   ]
  },
  {
   "cell_type": "code",
   "execution_count": null,
   "metadata": {},
   "outputs": [],
   "source": [
    "def coverage(windowbed_dict, featurebed_dict, featurefn_dict, old_folder_name, new_folder_name):\n",
    "    \"\"\"Create coverage files from a dictionary of window pybedtools objects and a dictionary of feature file pybedtools objects. Also outputs a dictionary of pandas dataframes for all coverage files.\"\"\"\n",
    "    feature_overlap_df_dict = {}\n",
    "    for wkey, wbed in windowbed_dict.items():\n",
    "        for fkey, fbed in featurebed_dict.items():\n",
    "            tmp_df = wbed.coverage(fbed).to_dataframe().iloc[:,[0,1,2,3,6]] # make a dataframe to put headings\n",
    "            tmp_df.rename(columns={'name': 'overlap_count', 'thickStart': 'overlap_fraction'}, inplace=True) # rename headings\n",
    "            if featurefn_dict[fkey].endswith('.gff3'): # for gene/transposon/effector/exon files\n",
    "                tmp_fn = featurefn_dict[fkey].replace('.gff3', '.%s.overlap.bed' % wkey) # change output file path\n",
    "            tmp_fn = tmp_fn.replace(old_folder_name, new_folder_name)\n",
    "            if featurefn_dict[fkey].endswith('.bed'): # for methylation files\n",
    "                tmp_fn = featurefn_dict[fkey].replace('.bed', '.%s.overlap.bed' % wkey) # change output file path\n",
    "            feature_overlap_df_dict[tmp_fn.split('/')[-1]] = tmp_df # file name as key and dataframe as value for overlap dict\n",
    "            tmp_df.to_csv(tmp_fn, sep='\\t', header=None, index=None) # save to a csv(pybedtools outputs more d.p. than BEDTools)\n",
    "    return feature_overlap_df_dict"
   ]
  },
  {
   "cell_type": "code",
   "execution_count": 61,
   "metadata": {},
   "outputs": [
    {
     "data": {
      "text/plain": [
       "{'5mC_hc_tombo_sorted.cutoff.0.30.bed': <BedTool(/home/anjuni/analysis/coverage/feature_files/5mC_hc_tombo_sorted.cutoff.0.30.bed)>,\n",
       " '6mA_hc_tombo_sorted.cutoff.0.30.bed': <BedTool(/home/anjuni/analysis/coverage/feature_files/6mA_hc_tombo_sorted.cutoff.0.30.bed)>}"
      ]
     },
     "execution_count": 61,
     "metadata": {},
     "output_type": "execute_result"
    }
   ],
   "source": [
    "feature_bed_dict"
   ]
  },
  {
   "cell_type": "code",
   "execution_count": 60,
   "metadata": {},
   "outputs": [],
   "source": [
    "feature_overlap_df_dict = {}\n",
    "for wkey, wbed in window_bed_dict.items():\n",
    "    for fkey, fbed in feature_bed_dict.items():\n",
    "        tmp_df = wbed.coverage(fbed).to_dataframe().iloc[:,[0,1,2,3,6]]\n",
    "        tmp_df.rename(columns={'name': 'overlap_count', 'thickStart': 'overlap_fraction'}, inplace=True)\n",
    "        tmp_fn = feature_fn_dict[fkey].replace('bed', '%s.overlap.circabed' % wkey)\n",
    "        tmp_fn = tmp_fn.replace('analysis/coverage/feature_files', 'circa/new_windows')\n",
    "        feature_overlap_df_dict[tmp_fn.split('/')[-1]] = tmp_df\n",
    "        tmp_df.to_csv(tmp_fn, sep='\\t', index=None)"
   ]
  },
  {
   "cell_type": "code",
   "execution_count": 33,
   "metadata": {},
   "outputs": [],
   "source": [
    "# set functions\n",
    "\n",
    "# coverage\n"
   ]
  },
  {
   "cell_type": "code",
   "execution_count": null,
   "metadata": {},
   "outputs": [],
   "source": []
  }
 ],
 "metadata": {
  "kernelspec": {
   "display_name": "Python 3",
   "language": "python",
   "name": "python3"
  },
  "language_info": {
   "codemirror_mode": {
    "name": "ipython",
    "version": 3
   },
   "file_extension": ".py",
   "mimetype": "text/x-python",
   "name": "python",
   "nbconvert_exporter": "python",
   "pygments_lexer": "ipython3",
   "version": "3.6.3"
  }
 },
 "nbformat": 4,
 "nbformat_minor": 2
}
