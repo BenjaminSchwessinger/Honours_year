{
 "cells": [
  {
   "cell_type": "code",
   "execution_count": 20,
   "metadata": {},
   "outputs": [],
   "source": [
    "%matplotlib inline"
   ]
  },
  {
   "cell_type": "code",
   "execution_count": 9,
   "metadata": {},
   "outputs": [],
   "source": [
    "import pybedtools\n",
    "import scipy\n",
    "\n",
    "import matplotlib.patches as mpatches\n",
    "import pandas as pd\n",
    "import numpy as np # need for  stats\n",
    "\n",
    "from scipy.stats import wilcoxon\n",
    "import matplotlib.pyplot as plt\n",
    "from matplotlib_venn import venn2\n",
    "import seaborn as sns"
   ]
  },
  {
   "cell_type": "code",
   "execution_count": 87,
   "metadata": {},
   "outputs": [],
   "source": [
    "# load modules\n",
    "import os\n",
    "import glob\n",
    "import pprint\n",
    "from pybedtools import BedTool\n",
    "from scipy.stats import spearmanr\n",
    "from scipy.stats import mannwhitneyu"
   ]
  },
  {
   "cell_type": "code",
   "execution_count": 3,
   "metadata": {},
   "outputs": [],
   "source": [
    "#First we need to define the base dirs\n",
    "DIRS = {}\n",
    "DIRS['BASE2'] = '/home/anjuni/analysis'\n",
    "DIRS['FEATURES'] = os.path.join(DIRS['BASE2'], 'coverage', 'feature_files')\n",
    "DIRS['RAND'] = os.path.join(DIRS['BASE2'], 'coverage', 'randomisation')\n",
    "DIRS['WINDOW_OUTPUT'] = os.path.join(DIRS['BASE2'], 'windows')\n",
    "DIRS['WINDOW_INPUT'] = os.path.join(DIRS['BASE2'], 'input_for_windows')\n",
    "DIRS['REF'] = '/home/anjuni/Pst_104_v13_assembly/'\n",
    "DIRS['COVERAGE'] = os.path.join(DIRS['BASE2'], 'coverage')"
   ]
  },
  {
   "cell_type": "code",
   "execution_count": 4,
   "metadata": {},
   "outputs": [],
   "source": [
    "\n",
    "DIRS['TE_SF'] = os.path.join(DIRS['COVERAGE'], 'superfamily_files')\n",
    "DIRS['RNA'] = os.path.join(DIRS['BASE2'], 'rna_counts')\n",
    "DIRS['edgeR'] = os.path.join(DIRS['RNA'], 'edgeR_output')\n",
    "DIRS['TRIALS'] = os.path.join(DIRS['RNA'], 'trials_tsv')\n",
    "DIRS['MEAN_STD'] = os.path.join(DIRS['RNA'], 'average_and_stdev')\n",
    "DIRS['GENE'] = os.path.join(DIRS['COVERAGE'], 'gene_level')\n",
    "DIRS['GENE_ANNO'] = os.path.join(DIRS['GENE'], 'gene_anno')\n",
    "DIRS['BOTH_U_D'] = os.path.join(DIRS['GENE'], 'both_upstream_downstream')\n",
    "DIRS['DOWN_STR'] = os.path.join(DIRS['GENE'], 'downstream')\n",
    "DIRS['UP_STR'] = os.path.join(DIRS['GENE'], 'upstream')\n",
    "DIRS['TSS'] = os.path.join(DIRS['GENE'], 'tss_6mA_only')"
   ]
  },
  {
   "cell_type": "code",
   "execution_count": 5,
   "metadata": {},
   "outputs": [],
   "source": [
    "DIRS['BASE1'] = '/home/anjuni/methylation_calling/pacbio'\n",
    "\n",
    "DIRS['BED_INPUT'] = os.path.join(DIRS['BASE2'], 'bedtools_output', 'sequencing_comparison')\n",
    "DIRS['GFF_INPUT'] = os.path.join(DIRS['BASE2'], 'gff_output')\n",
    "DIRS['FIGURES'] = os.path.join(DIRS['BASE2'], 'figures')\n",
    "\n",
    "DIRS['I_FROM_C'] = os.path.join(DIRS['BASE2'], 'bedtools_output', 'intersects_from_cutoffs')\n",
    "DIRS['BED_CUTOFFS'] = os.path.join(DIRS['BASE1'], 'input', 'sorted_bed_files', 'cutoffs')\n",
    "DIRS['6MA_CUTOFFS'] = os.path.join(DIRS['BASE1'], 'input', 'sorted_bed_files', 'cutoffs_6mA')\n",
    "DIRS['5MC_CUTOFFS'] = os.path.join(DIRS['BASE1'], 'input', 'sorted_bed_files', 'cutoffs_5mC')"
   ]
  },
  {
   "cell_type": "markdown",
   "metadata": {},
   "source": [
    "### From here on some code to illustrate some of the analysis"
   ]
  },
  {
   "cell_type": "code",
   "execution_count": 126,
   "metadata": {},
   "outputs": [],
   "source": [
    "h_contig_df = pd.read_csv(os.path.join(DIRS['FIGURES'], 'expression', 'rnaseq_methyl_df.tsv'),sep='\\t' )"
   ]
  },
  {
   "cell_type": "markdown",
   "metadata": {},
   "source": [
    "## This problem of the h_contig_df is that the 'gene_id' column is a bit of a mess if you fix this I can look at the BUSCO, effector part one more time."
   ]
  },
  {
   "cell_type": "markdown",
   "metadata": {},
   "source": [
    "#### Now look at the GS expression of the most methylated genes (e.g. top 500) vs all"
   ]
  },
  {
   "cell_type": "code",
   "execution_count": 57,
   "metadata": {},
   "outputs": [
    {
     "data": {
      "text/plain": [
       "Int64Index([12305, 16500,  1688,  4107, 12007,  2631, 14515, 14767,  2215,\n",
       "             5824,\n",
       "            ...\n",
       "            15096, 13614, 13615,  7163, 13616,   506,   505,   501,  4520,\n",
       "              500],\n",
       "           dtype='int64', length=16988)"
      ]
     },
     "execution_count": 57,
     "metadata": {},
     "output_type": "execute_result"
    }
   ],
   "source": [
    "###This is the index of all highly methylated genes\n",
    "h_contig_df.sort_values(by='5mC_gene_body_50', ascending=False).loc[:500].index"
   ]
  },
  {
   "cell_type": "code",
   "execution_count": 81,
   "metadata": {},
   "outputs": [],
   "source": [
    "#get a true false column for plotting and analysis\n",
    "h_contig_df[\"Top_500_5mC_gene_body_50\"] = \"False\"\n",
    "h_contig_df.loc[h_contig_df.sort_values(by='5mC_gene_body_50', ascending=False).loc[:500].index,\"Top_500_5mC_gene_body_50\"] = \"True\"\n",
    "\n",
    "#add 0.1 for log transformation\n",
    "h_contig_df['GS_01'] = h_contig_df['GS'] + 0.1\n"
   ]
  },
  {
   "cell_type": "code",
   "execution_count": 82,
   "metadata": {},
   "outputs": [
    {
     "data": {
      "text/plain": [
       "<matplotlib.axes._subplots.AxesSubplot at 0x7fde06cc00b8>"
      ]
     },
     "execution_count": 82,
     "metadata": {},
     "output_type": "execute_result"
    },
    {
     "data": {
      "image/png": "[encoded data removed]",
      "text/plain": [
       "<matplotlib.figure.Figure at 0x7fde0735e6a0>"
      ]
     },
     "metadata": {},
     "output_type": "display_data"
    }
   ],
   "source": [
    "#quick plot for comparing expression of highly methylated genes versus the rest\n",
    "f, ax = plt.subplots(figsize=(7, 6))\n",
    "ax.set_xscale(\"log\")\n",
    "sns.boxplot(x='GS_01', y=\"Top_500_5mC_gene_body_50\", data=h_contig_df)"
   ]
  },
  {
   "cell_type": "code",
   "execution_count": 89,
   "metadata": {},
   "outputs": [
    {
     "data": {
      "text/plain": [
       "MannwhitneyuResult(statistic=1192296.0, pvalue=7.1695457427617566e-18)"
      ]
     },
     "execution_count": 89,
     "metadata": {},
     "output_type": "execute_result"
    }
   ],
   "source": [
    "#do some quick stats if those are different from each other\n",
    "mannwhitneyu(h_contig_df[h_contig_df[\"Top_500_5mC_gene_body_50\"] == 'False']['GS_01'],h_contig_df[h_contig_df[\"Top_500_5mC_gene_body_50\"] == 'True']['GS_01'] )"
   ]
  },
  {
   "cell_type": "code",
   "execution_count": 84,
   "metadata": {},
   "outputs": [
    {
     "data": {
      "text/plain": [
       "Index(['gene_ID', 'GS', 'HE', 'IT0', 'IT6', 'IT9', 'UG', '5mC_gene_body_50',\n",
       "       '6mA_gene_body_50', '5mC_upstream_50', '6mA_upstream_50',\n",
       "       '5mC_upstream_50.1', '6mA_upstream_50.1', '5mC_downstream_50',\n",
       "       '6mA_downstream_50', '5mC_gene_body_95', '6mA_gene_body_95',\n",
       "       '5mC_upstream_95', '6mA_upstream_95', '5mC_downstream_95',\n",
       "       '6mA_downstream_95', 'Top_500_5mC_gene_body_50', 'GS_01',\n",
       "       'Top_500_6mA_gene_body_500', 'Top_500_6mA_gene_body_95'],\n",
       "      dtype='object')"
      ]
     },
     "execution_count": 84,
     "metadata": {},
     "output_type": "execute_result"
    }
   ],
   "source": [
    "h_contig_df.columns"
   ]
  },
  {
   "cell_type": "markdown",
   "metadata": {},
   "source": [
    "### now the same for another 6m methylation"
   ]
  },
  {
   "cell_type": "code",
   "execution_count": 69,
   "metadata": {},
   "outputs": [
    {
     "data": {
      "text/plain": [
       "<matplotlib.axes._subplots.AxesSubplot at 0x7fde07acfc50>"
      ]
     },
     "execution_count": 69,
     "metadata": {},
     "output_type": "execute_result"
    },
    {
     "data": {
      "image/png": "[encoded data removed]",
      "text/plain": [
       "<matplotlib.figure.Figure at 0x7fde07f62358>"
      ]
     },
     "metadata": {},
     "output_type": "display_data"
    }
   ],
   "source": [
    "#get a true false column for plotting and analysis\n",
    "h_contig_df[\"Top_500_6mA_gene_body_95\"] = \"False\"\n",
    "h_contig_df.loc[h_contig_df.sort_values(by='6mA_gene_body_50', ascending=False).loc[:500].index,\"Top_500_6mA_gene_body_95\"] = \"True\"\n",
    "#quick plot for comparing expression of highly methylated genes versus the rest\n",
    "f, ax = plt.subplots(figsize=(7, 6))\n",
    "ax.set_xscale(\"log\")\n",
    "sns.boxplot(x='GS_01', y=\"Top_500_6mA_gene_body_95\", data=h_contig_df)"
   ]
  },
  {
   "cell_type": "markdown",
   "metadata": {},
   "source": [
    "### Now with the strickter cut offs"
   ]
  },
  {
   "cell_type": "code",
   "execution_count": 75,
   "metadata": {},
   "outputs": [
    {
     "data": {
      "text/plain": [
       "<matplotlib.axes._subplots.AxesSubplot at 0x7fde07b3f8d0>"
      ]
     },
     "execution_count": 75,
     "metadata": {},
     "output_type": "execute_result"
    },
    {
     "data": {
      "image/png": "[encoded data removed]",
      "text/plain": [
       "<matplotlib.figure.Figure at 0x7fde07b3dcc0>"
      ]
     },
     "metadata": {},
     "output_type": "display_data"
    }
   ],
   "source": [
    "#get a true false column for plotting and analysis\n",
    "h_contig_df[\"Top_500_6mA_gene_body_95\"] = \"False\"\n",
    "h_contig_df.loc[h_contig_df.sort_values(by='6mA_gene_body_95', ascending=False).loc[:500].index,\"Top_500_6mA_gene_body_95\"] = \"True\"\n",
    "#quick plot for comparing expression of highly methylated genes versus the rest\n",
    "f, ax = plt.subplots(figsize=(7, 6))\n",
    "ax.set_xscale(\"log\")\n",
    "sns.boxplot(x='GS_01', y=\"Top_500_6mA_gene_body_95\", data=h_contig_df)"
   ]
  },
  {
   "cell_type": "code",
   "execution_count": 74,
   "metadata": {},
   "outputs": [
    {
     "data": {
      "text/plain": [
       "<matplotlib.axes._subplots.AxesSubplot at 0x7fde076e49b0>"
      ]
     },
     "execution_count": 74,
     "metadata": {},
     "output_type": "execute_result"
    },
    {
     "data": {
      "image/png": "[encoded data removed]",
      "text/plain": [
       "<matplotlib.figure.Figure at 0x7fde076a7160>"
      ]
     },
     "metadata": {},
     "output_type": "display_data"
    }
   ],
   "source": [
    "#get a true false column for plotting and analysis\n",
    "h_contig_df[\"Top_500_6mA_gene_body_95\"] = \"False\"\n",
    "h_contig_df.loc[h_contig_df.sort_values(by='6mA_gene_body_95', ascending=False).loc[:500].index,\"Top_500_6mA_gene_body_95\"] = \"True\"\n",
    "#quick plot for comparing expression of highly methylated genes versus the rest\n",
    "f, ax = plt.subplots(figsize=(7, 6))\n",
    "ax.set_xscale(\"log\")\n",
    "sns.boxplot(x='GS_01', y=\"Top_500_6mA_gene_body_95\", data=h_contig_df)"
   ]
  },
  {
   "cell_type": "markdown",
   "metadata": {},
   "source": [
    "## Now on to looking getting BUSCOS and EFFECTORs into the game"
   ]
  },
  {
   "cell_type": "code",
   "execution_count": 94,
   "metadata": {},
   "outputs": [],
   "source": [
    "GENE_BED_FOLDER = '/home/anjuni/beds/'\n",
    "busco_gene_bed = 'Pst_104E_v12_h_busco.gene.bed'\n",
    "#s.listdir(GENE_BED_FOLDER)"
   ]
  },
  {
   "cell_type": "code",
   "execution_count": 98,
   "metadata": {},
   "outputs": [],
   "source": [
    "BUSCO_list = pd.read_csv(os.path.join(GENE_BED_FOLDER, busco_gene_bed), sep='\\t', header=None)[3].tolist()"
   ]
  },
  {
   "cell_type": "code",
   "execution_count": 103,
   "metadata": {},
   "outputs": [],
   "source": [
    "BUSCO_updated_list = [x.replace('evm.TU.', 'gene_model_') for x in BUSCO_list]"
   ]
  },
  {
   "cell_type": "code",
   "execution_count": 129,
   "metadata": {},
   "outputs": [
    {
     "data": {
      "text/plain": [
       "0             gene_model_hcontig_0000_03.1\n",
       "1             gene_model_hcontig_0000_03.2\n",
       "2             gene_model_hcontig_0000_03.3\n",
       "3             gene_model_hcontig_0000_03.4\n",
       "4       EVM prediction%2hcontig_0000_003.5\n",
       "5       EVM prediction%2hcontig_0000_003.6\n",
       "6             gene_model_hcontig_0000_03.7\n",
       "7             gene_model_hcontig_0000_03.8\n",
       "8             gene_model_hcontig_0000_03.9\n",
       "9            gene_model_hcontig_0000_03.10\n",
       "10           gene_model_hcontig_0000_03.11\n",
       "11           gene_model_hcontig_0000_03.12\n",
       "12           gene_model_hcontig_0000_03.13\n",
       "13           gene_model_hcontig_0000_03.14\n",
       "14           gene_model_hcontig_0000_03.15\n",
       "15           gene_model_hcontig_0000_03.16\n",
       "16           gene_model_hcontig_0000_03.17\n",
       "17           gene_model_hcontig_0000_03.18\n",
       "18           gene_model_hcontig_0000_03.19\n",
       "19           gene_model_hcontig_0000_03.20\n",
       "20     EVM prediction%2hcontig_0000_003.21\n",
       "21     EVM prediction%2hcontig_0000_003.22\n",
       "22           gene_model_hcontig_0000_03.23\n",
       "23           gene_model_hcontig_0000_03.24\n",
       "24     EVM prediction%2hcontig_0000_003.25\n",
       "25           gene_model_hcontig_0000_03.26\n",
       "26           gene_model_hcontig_0000_03.27\n",
       "27           gene_model_hcontig_0000_03.28\n",
       "28           gene_model_hcontig_0000_03.29\n",
       "29           gene_model_hcontig_0000_03.30\n",
       "                      ...                 \n",
       "70           gene_model_hcontig_0000_03.71\n",
       "71           gene_model_hcontig_0000_03.72\n",
       "72           gene_model_hcontig_0000_03.73\n",
       "73           gene_model_hcontig_0000_03.74\n",
       "74           gene_model_hcontig_0000_03.75\n",
       "75           gene_model_hcontig_0000_03.76\n",
       "76           gene_model_hcontig_0000_03.77\n",
       "77           gene_model_hcontig_0000_03.78\n",
       "78           gene_model_hcontig_0000_03.79\n",
       "79           gene_model_hcontig_0000_03.80\n",
       "80     EVM prediction%2hcontig_0000_003.81\n",
       "81           gene_model_hcontig_0000_03.82\n",
       "82           gene_model_hcontig_0000_03.83\n",
       "83     EVM prediction%2hcontig_0000_003.84\n",
       "84     EVM prediction%2hcontig_0000_003.85\n",
       "85           gene_model_hcontig_0000_03.86\n",
       "86           gene_model_hcontig_0000_03.87\n",
       "87           gene_model_hcontig_0000_03.88\n",
       "88           gene_model_hcontig_0000_03.89\n",
       "89           gene_model_hcontig_0000_03.90\n",
       "90           gene_model_hcontig_0000_03.91\n",
       "91           gene_model_hcontig_0000_03.92\n",
       "92           gene_model_hcontig_0000_03.93\n",
       "93           gene_model_hcontig_0000_03.94\n",
       "94           gene_model_hcontig_0000_03.95\n",
       "95           gene_model_hcontig_0000_03.96\n",
       "96           gene_model_hcontig_0000_03.97\n",
       "97           gene_model_hcontig_0000_03.98\n",
       "98           gene_model_hcontig_0000_03.99\n",
       "99    EVM prediction%2hcontig_0000_003.100\n",
       "Name: gene_ID, Length: 100, dtype: object"
      ]
     },
     "execution_count": 129,
     "metadata": {},
     "output_type": "execute_result"
    }
   ],
   "source": [
    "#Please fix gene_ID you have two issuse at once\n",
    "#EVM prediction%2, which is easy to fix\n",
    "#and 0000_003.5 vs. 0000_03.3. With different amounts of '0' if you fix this during the creation I can show you the rest of the BUSCO and effector part\n",
    "h_contig_df.head(100)['gene_ID']"
   ]
  },
  {
   "cell_type": "code",
   "execution_count": null,
   "metadata": {},
   "outputs": [],
   "source": []
  }
 ],
 "metadata": {
  "kernelspec": {
   "display_name": "Python [default]",
   "language": "python",
   "name": "python3"
  },
  "language_info": {
   "codemirror_mode": {
    "name": "ipython",
    "version": 3
   },
   "file_extension": ".py",
   "mimetype": "text/x-python",
   "name": "python",
   "nbconvert_exporter": "python",
   "pygments_lexer": "ipython3",
   "version": "3.5.3"
  }
 },
 "nbformat": 4,
 "nbformat_minor": 2
}
