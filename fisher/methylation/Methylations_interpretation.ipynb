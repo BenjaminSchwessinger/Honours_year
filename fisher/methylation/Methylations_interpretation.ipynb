{
 "cells": [
  {
   "cell_type": "code",
   "execution_count": 20,
   "metadata": {},
   "outputs": [],
   "source": [
    "%matplotlib inline"
   ]
  },
  {
   "cell_type": "code",
   "execution_count": 9,
   "metadata": {},
   "outputs": [],
   "source": [
    "import pybedtools\n",
    "import scipy\n",
    "\n",
    "import matplotlib.patches as mpatches\n",
    "import pandas as pd\n",
    "import numpy as np # need for  stats\n",
    "\n",
    "from scipy.stats import wilcoxon\n",
    "import matplotlib.pyplot as plt\n",
    "from matplotlib_venn import venn2\n",
    "import seaborn as sns"
   ]
  },
  {
   "cell_type": "code",
   "execution_count": 87,
   "metadata": {},
   "outputs": [],
   "source": [
    "# load modules\n",
    "import os\n",
    "import glob\n",
    "import pprint\n",
    "from pybedtools import BedTool\n",
    "from scipy.stats import spearmanr\n",
    "from scipy.stats import mannwhitneyu"
   ]
  },
  {
   "cell_type": "code",
   "execution_count": 3,
   "metadata": {},
   "outputs": [],
   "source": [
    "#First we need to define the base dirs\n",
    "DIRS = {}\n",
    "DIRS['BASE2'] = '/home/anjuni/analysis'\n",
    "DIRS['FEATURES'] = os.path.join(DIRS['BASE2'], 'coverage', 'feature_files')\n",
    "DIRS['RAND'] = os.path.join(DIRS['BASE2'], 'coverage', 'randomisation')\n",
    "DIRS['WINDOW_OUTPUT'] = os.path.join(DIRS['BASE2'], 'windows')\n",
    "DIRS['WINDOW_INPUT'] = os.path.join(DIRS['BASE2'], 'input_for_windows')\n",
    "DIRS['REF'] = '/home/anjuni/Pst_104_v13_assembly/'\n",
    "DIRS['COVERAGE'] = os.path.join(DIRS['BASE2'], 'coverage')"
   ]
  },
  {
   "cell_type": "code",
   "execution_count": 4,
   "metadata": {},
   "outputs": [],
   "source": [
    "\n",
    "DIRS['TE_SF'] = os.path.join(DIRS['COVERAGE'], 'superfamily_files')\n",
    "DIRS['RNA'] = os.path.join(DIRS['BASE2'], 'rna_counts')\n",
    "DIRS['edgeR'] = os.path.join(DIRS['RNA'], 'edgeR_output')\n",
    "DIRS['TRIALS'] = os.path.join(DIRS['RNA'], 'trials_tsv')\n",
    "DIRS['MEAN_STD'] = os.path.join(DIRS['RNA'], 'average_and_stdev')\n",
    "DIRS['GENE'] = os.path.join(DIRS['COVERAGE'], 'gene_level')\n",
    "DIRS['GENE_ANNO'] = os.path.join(DIRS['GENE'], 'gene_anno')\n",
    "DIRS['BOTH_U_D'] = os.path.join(DIRS['GENE'], 'both_upstream_downstream')\n",
    "DIRS['DOWN_STR'] = os.path.join(DIRS['GENE'], 'downstream')\n",
    "DIRS['UP_STR'] = os.path.join(DIRS['GENE'], 'upstream')\n",
    "DIRS['TSS'] = os.path.join(DIRS['GENE'], 'tss_6mA_only')"
   ]
  },
  {
   "cell_type": "code",
   "execution_count": 5,
   "metadata": {},
   "outputs": [],
   "source": [
    "DIRS['BASE1'] = '/home/anjuni/methylation_calling/pacbio'\n",
    "\n",
    "DIRS['BED_INPUT'] = os.path.join(DIRS['BASE2'], 'bedtools_output', 'sequencing_comparison')\n",
    "DIRS['GFF_INPUT'] = os.path.join(DIRS['BASE2'], 'gff_output')\n",
    "DIRS['FIGURES'] = os.path.join(DIRS['BASE2'], 'figures')\n",
    "\n",
    "DIRS['I_FROM_C'] = os.path.join(DIRS['BASE2'], 'bedtools_output', 'intersects_from_cutoffs')\n",
    "DIRS['BED_CUTOFFS'] = os.path.join(DIRS['BASE1'], 'input', 'sorted_bed_files', 'cutoffs')\n",
    "DIRS['6MA_CUTOFFS'] = os.path.join(DIRS['BASE1'], 'input', 'sorted_bed_files', 'cutoffs_6mA')\n",
    "DIRS['5MC_CUTOFFS'] = os.path.join(DIRS['BASE1'], 'input', 'sorted_bed_files', 'cutoffs_5mC')"
   ]
  },
  {
   "cell_type": "markdown",
   "metadata": {},
   "source": [
    "### From here on some code to illustrate some of the analysis"
   ]
  },
  {
   "cell_type": "code",
   "execution_count": 126,
   "metadata": {},
   "outputs": [],
   "source": [
    "h_contig_df = pd.read_csv(os.path.join(DIRS['FIGURES'], 'expression', 'rnaseq_methyl_df.tsv'),sep='\\t' )"
   ]
  },
  {
   "cell_type": "markdown",
   "metadata": {},
   "source": [
    "## This problem of the h_contig_df is that the 'gene_id' column is a bit of a mess if you fix this I can look at the BUSCO, effector part one more time."
   ]
  },
  {
   "cell_type": "code",
   "execution_count": 161,
   "metadata": {},
   "outputs": [],
   "source": [
    "gff_h_anno_TE_df = pd.read_csv('/home/anjuni/analysis/annotations/Pst_104E_v13_h_ctg.repeatgenesLT.gff3', header=None, sep='\\t')\n",
    "gff_h_anno_df = pd.read_csv('/home/anjuni/analysis/annotations/Pst_104E_v13_h_ctg.anno.gff3', header=None, sep='\\t')\n",
    "\n",
    "name_pattern = re.compile(r'Name=([^;]*)')\n",
    "id_pattern = re.compile(r'ID=([^;]*)')\n",
    "\n",
    "Name_id_dict = {}\n",
    "for key in gff_h_anno_df[gff_h_anno_df[2] == 'gene'][8]:\n",
    "    Name_id_dict[re.findall(name_pattern, key)[0]] = re.findall(id_pattern, key)[0]\n",
    "for key in gff_h_anno_TE_df[gff_h_anno_TE_df[2] == 'gene'][8]:\n",
    "    Name_id_dict[re.findall(name_pattern, key)[0]] = re.findall(id_pattern, key)[0]"
   ]
  },
  {
   "cell_type": "code",
   "execution_count": 162,
   "metadata": {},
   "outputs": [],
   "source": [
    "h_contig_df['Protein_ID'] = h_contig_df['gene_ID'].apply(lambda x: Name_id_dict[x])"
   ]
  },
  {
   "cell_type": "markdown",
   "metadata": {},
   "source": [
    "#### Now look at the GS expression of the most methylated genes (e.g. top 500) vs all"
   ]
  },
  {
   "cell_type": "code",
   "execution_count": 57,
   "metadata": {},
   "outputs": [
    {
     "data": {
      "text/plain": [
       "Int64Index([12305, 16500,  1688,  4107, 12007,  2631, 14515, 14767,  2215,\n",
       "             5824,\n",
       "            ...\n",
       "            15096, 13614, 13615,  7163, 13616,   506,   505,   501,  4520,\n",
       "              500],\n",
       "           dtype='int64', length=16988)"
      ]
     },
     "execution_count": 57,
     "metadata": {},
     "output_type": "execute_result"
    }
   ],
   "source": [
    "###This is the index of all highly methylated genes\n",
    "h_contig_df.sort_values(by='5mC_gene_body_50', ascending=False).loc[:500].index"
   ]
  },
  {
   "cell_type": "code",
   "execution_count": 137,
   "metadata": {},
   "outputs": [],
   "source": [
    "#get a true false column for plotting and analysis\n",
    "h_contig_df[\"Top_500_5mC_gene_body_50\"] = \"False\"\n",
    "h_contig_df.loc[h_contig_df.sort_values(by='5mC_gene_body_50', ascending=False).loc[:500].index,\"Top_500_5mC_gene_body_50\"] = \"True\"\n",
    "\n",
    "#add 0.1 for log transformation\n",
    "h_contig_df['UG_01'] = h_contig_df['UG'] + 0.1\n"
   ]
  },
  {
   "cell_type": "code",
   "execution_count": 139,
   "metadata": {},
   "outputs": [
    {
     "data": {
      "text/plain": [
       "<matplotlib.axes._subplots.AxesSubplot at 0x7fde055de0f0>"
      ]
     },
     "execution_count": 139,
     "metadata": {},
     "output_type": "execute_result"
    },
    {
     "data": {
      "image/png": "[encoded data removed]",
      "text/plain": [
       "<matplotlib.figure.Figure at 0x7fde055fbeb8>"
      ]
     },
     "metadata": {},
     "output_type": "display_data"
    }
   ],
   "source": [
    "#quick plot for comparing expression of highly methylated genes versus the rest\n",
    "f, ax = plt.subplots(figsize=(7, 6))\n",
    "ax.set_xscale(\"log\")\n",
    "sns.boxplot(x='UG_01', y=\"Top_500_5mC_gene_body_50\", data=h_contig_df)"
   ]
  },
  {
   "cell_type": "code",
   "execution_count": 140,
   "metadata": {},
   "outputs": [
    {
     "data": {
      "text/plain": [
       "MannwhitneyuResult(statistic=1208273.5, pvalue=3.5252246099440555e-17)"
      ]
     },
     "execution_count": 140,
     "metadata": {},
     "output_type": "execute_result"
    }
   ],
   "source": [
    "#do some quick stats if those are different from each other\n",
    "mannwhitneyu(h_contig_df[h_contig_df[\"Top_500_5mC_gene_body_50\"] == 'False']['UG_01'],h_contig_df[h_contig_df[\"Top_500_5mC_gene_body_50\"] == 'True']['UG_01'] )"
   ]
  },
  {
   "cell_type": "code",
   "execution_count": 84,
   "metadata": {},
   "outputs": [
    {
     "data": {
      "text/plain": [
       "Index(['gene_ID', 'GS', 'HE', 'IT0', 'IT6', 'IT9', 'UG', '5mC_gene_body_50',\n",
       "       '6mA_gene_body_50', '5mC_upstream_50', '6mA_upstream_50',\n",
       "       '5mC_upstream_50.1', '6mA_upstream_50.1', '5mC_downstream_50',\n",
       "       '6mA_downstream_50', '5mC_gene_body_95', '6mA_gene_body_95',\n",
       "       '5mC_upstream_95', '6mA_upstream_95', '5mC_downstream_95',\n",
       "       '6mA_downstream_95', 'Top_500_5mC_gene_body_50', 'GS_01',\n",
       "       'Top_500_6mA_gene_body_500', 'Top_500_6mA_gene_body_95'],\n",
       "      dtype='object')"
      ]
     },
     "execution_count": 84,
     "metadata": {},
     "output_type": "execute_result"
    }
   ],
   "source": [
    "h_contig_df.columns"
   ]
  },
  {
   "cell_type": "markdown",
   "metadata": {},
   "source": [
    "### now the same for another 6m methylation"
   ]
  },
  {
   "cell_type": "code",
   "execution_count": 141,
   "metadata": {},
   "outputs": [
    {
     "data": {
      "text/plain": [
       "<matplotlib.axes._subplots.AxesSubplot at 0x7fde052206d8>"
      ]
     },
     "execution_count": 141,
     "metadata": {},
     "output_type": "execute_result"
    },
    {
     "data": {
      "image/png": "[encoded data removed]",
      "text/plain": [
       "<matplotlib.figure.Figure at 0x7fde054774e0>"
      ]
     },
     "metadata": {},
     "output_type": "display_data"
    }
   ],
   "source": [
    "#get a true false column for plotting and analysis\n",
    "h_contig_df[\"Top_500_6mA_gene_body_95\"] = \"False\"\n",
    "h_contig_df.loc[h_contig_df.sort_values(by='6mA_gene_body_50', ascending=False).loc[:500].index,\"Top_500_6mA_gene_body_95\"] = \"True\"\n",
    "#quick plot for comparing expression of highly methylated genes versus the rest\n",
    "f, ax = plt.subplots(figsize=(7, 6))\n",
    "ax.set_xscale(\"log\")\n",
    "sns.boxplot(x='UG_01', y=\"Top_500_6mA_gene_body_95\", data=h_contig_df)"
   ]
  },
  {
   "cell_type": "markdown",
   "metadata": {},
   "source": [
    "### Now with the strickter cut offs"
   ]
  },
  {
   "cell_type": "code",
   "execution_count": 142,
   "metadata": {},
   "outputs": [
    {
     "data": {
      "text/plain": [
       "<matplotlib.axes._subplots.AxesSubplot at 0x7fde0527a9e8>"
      ]
     },
     "execution_count": 142,
     "metadata": {},
     "output_type": "execute_result"
    },
    {
     "data": {
      "image/png": "[encoded data removed]",
      "text/plain": [
       "<matplotlib.figure.Figure at 0x7fde05218320>"
      ]
     },
     "metadata": {},
     "output_type": "display_data"
    }
   ],
   "source": [
    "#get a true false column for plotting and analysis\n",
    "h_contig_df[\"Top_500_6mA_gene_body_95\"] = \"False\"\n",
    "h_contig_df.loc[h_contig_df.sort_values(by='6mA_gene_body_95', ascending=False).loc[:500].index,\"Top_500_6mA_gene_body_95\"] = \"True\"\n",
    "#quick plot for comparing expression of highly methylated genes versus the rest\n",
    "f, ax = plt.subplots(figsize=(7, 6))\n",
    "ax.set_xscale(\"log\")\n",
    "sns.boxplot(x='UG_01', y=\"Top_500_6mA_gene_body_95\", data=h_contig_df)"
   ]
  },
  {
   "cell_type": "code",
   "execution_count": 143,
   "metadata": {},
   "outputs": [
    {
     "data": {
      "text/plain": [
       "<matplotlib.axes._subplots.AxesSubplot at 0x7fde050e25f8>"
      ]
     },
     "execution_count": 143,
     "metadata": {},
     "output_type": "execute_result"
    },
    {
     "data": {
      "image/png": "[encoded data removed]",
      "text/plain": [
       "<matplotlib.figure.Figure at 0x7fde05183320>"
      ]
     },
     "metadata": {},
     "output_type": "display_data"
    }
   ],
   "source": [
    "#get a true false column for plotting and analysis\n",
    "h_contig_df[\"Top_500_6mA_gene_body_95\"] = \"False\"\n",
    "h_contig_df.loc[h_contig_df.sort_values(by='6mA_gene_body_95', ascending=False).loc[:500].index,\"Top_500_6mA_gene_body_95\"] = \"True\"\n",
    "#quick plot for comparing expression of highly methylated genes versus the rest\n",
    "f, ax = plt.subplots(figsize=(7, 6))\n",
    "ax.set_xscale(\"log\")\n",
    "sns.boxplot(x='UG_01', y=\"Top_500_6mA_gene_body_95\", data=h_contig_df)"
   ]
  },
  {
   "cell_type": "markdown",
   "metadata": {},
   "source": [
    "## Now on to looking getting BUSCOS and EFFECTORs into the game"
   ]
  },
  {
   "cell_type": "code",
   "execution_count": 167,
   "metadata": {},
   "outputs": [],
   "source": [
    "GENE_BED_FOLDER = '/home/anjuni/beds/'\n",
    "busco_gene_bed = 'Pst_104E_v12_h_busco.gene.bed'\n",
    "effector_gene_bed = 'Pst_104E_v12_h_effector.gene.bed'\n",
    "#s.listdir(GENE_BED_FOLDER)"
   ]
  },
  {
   "cell_type": "code",
   "execution_count": 174,
   "metadata": {},
   "outputs": [],
   "source": [
    "BUSCO_list = pd.read_csv(os.path.join(GENE_BED_FOLDER, busco_gene_bed), sep='\\t', header=None)[3].tolist()\n",
    "effctor_list = pd.read_csv(os.path.join(GENE_BED_FOLDER, effector_gene_bed), sep='\\t', header=None)[3].tolist()"
   ]
  },
  {
   "cell_type": "code",
   "execution_count": 165,
   "metadata": {},
   "outputs": [],
   "source": [
    "#Please fix gene_ID you have two issuse at once\n",
    "#EVM prediction%2, which is easy to fix\n",
    "#and 0000_003.5 vs. 0000_03.3. With different amounts of '0' if you fix this during the creation I can show you the rest of the BUSCO and effector part\n",
    "h_contig_df['BUSCO'] = 'False'\n",
    "h_contig_df.loc[h_contig_df.Protein_ID.isin(BUSCO_list), 'BUSCO'] = 'True'"
   ]
  },
  {
   "cell_type": "markdown",
   "metadata": {},
   "source": [
    "### BUSCO 5mC gene body methylation"
   ]
  },
  {
   "cell_type": "code",
   "execution_count": 166,
   "metadata": {},
   "outputs": [
    {
     "data": {
      "text/plain": [
       "<matplotlib.axes._subplots.AxesSubplot at 0x7fddfe974c88>"
      ]
     },
     "execution_count": 166,
     "metadata": {},
     "output_type": "execute_result"
    },
    {
     "data": {
      "image/png": "[encoded data removed]",
      "text/plain": [
       "<matplotlib.figure.Figure at 0x7fddfe97cda0>"
      ]
     },
     "metadata": {},
     "output_type": "display_data"
    }
   ],
   "source": [
    "f, ax = plt.subplots(figsize=(7, 6))\n",
    "ax.set_xscale(\"log\")\n",
    "sns.boxplot(x='5mC_gene_body_50', y=\"BUSCO\", data=h_contig_df)"
   ]
  },
  {
   "cell_type": "code",
   "execution_count": 176,
   "metadata": {},
   "outputs": [
    {
     "data": {
      "text/plain": [
       "<matplotlib.axes._subplots.AxesSubplot at 0x7fde055cbc18>"
      ]
     },
     "execution_count": 176,
     "metadata": {},
     "output_type": "execute_result"
    },
    {
     "data": {
      "image/png": "[encoded data removed]",
      "text/plain": [
       "<matplotlib.figure.Figure at 0x7fde055c9198>"
      ]
     },
     "metadata": {},
     "output_type": "display_data"
    }
   ],
   "source": [
    "f, ax = plt.subplots(figsize=(7, 6))\n",
    "ax.set_xscale(\"log\")\n",
    "sns.boxplot(x='UG_01', y=\"BUSCO\", data=h_contig_df)"
   ]
  },
  {
   "cell_type": "code",
   "execution_count": 177,
   "metadata": {},
   "outputs": [
    {
     "data": {
      "text/plain": [
       "<matplotlib.axes._subplots.AxesSubplot at 0x7fddfe3f67b8>"
      ]
     },
     "execution_count": 177,
     "metadata": {},
     "output_type": "execute_result"
    },
    {
     "data": {
      "image/png": "[encoded data removed]",
      "text/plain": [
       "<matplotlib.figure.Figure at 0x7fde051b5be0>"
      ]
     },
     "metadata": {},
     "output_type": "display_data"
    }
   ],
   "source": [
    "#Please fix gene_ID you have two issuse at once\n",
    "h_contig_df.loc[h_contig_df.Protein_ID.isin(effctor_list), 'Effector'] = 'True'\n",
    "f, ax = plt.subplots(figsize=(7, 6))\n",
    "ax.set_xscale(\"log\")\n",
    "sns.boxplot(x='5mC_gene_body_50', y=\"Effector\", data=h_contig_df)"
   ]
  },
  {
   "cell_type": "code",
   "execution_count": 175,
   "metadata": {},
   "outputs": [
    {
     "data": {
      "text/plain": [
       "<matplotlib.axes._subplots.AxesSubplot at 0x7fde04e31550>"
      ]
     },
     "execution_count": 175,
     "metadata": {},
     "output_type": "execute_result"
    },
    {
     "data": {
      "image/png": "[encoded data removed]",
      "text/plain": [
       "<matplotlib.figure.Figure at 0x7fde0561a390>"
      ]
     },
     "metadata": {},
     "output_type": "display_data"
    }
   ],
   "source": [
    "f, ax = plt.subplots(figsize=(7, 6))\n",
    "ax.set_xscale(\"log\")\n",
    "sns.boxplot(x='UG_01', y=\"Effector\", data=h_contig_df)"
   ]
  },
  {
   "cell_type": "code",
   "execution_count": 178,
   "metadata": {},
   "outputs": [],
   "source": [
    "###or by gene type\n",
    "h_contig_df['Gene_type'] = 'All genes'\n",
    "h_contig_df.loc[h_contig_df.Protein_ID.isin(effctor_list), 'Gene_type'] = 'Effector'\n",
    "h_contig_df.loc[h_contig_df.Protein_ID.isin(BUSCO_list), 'Gene_type'] = 'BUSCO'"
   ]
  },
  {
   "cell_type": "code",
   "execution_count": 179,
   "metadata": {},
   "outputs": [
    {
     "data": {
      "text/plain": [
       "<matplotlib.axes._subplots.AxesSubplot at 0x7fddfe709dd8>"
      ]
     },
     "execution_count": 179,
     "metadata": {},
     "output_type": "execute_result"
    },
    {
     "data": {
      "image/png": "[encoded data removed]",
      "text/plain": [
       "<matplotlib.figure.Figure at 0x7fde057b9c18>"
      ]
     },
     "metadata": {},
     "output_type": "display_data"
    }
   ],
   "source": [
    "h_contig_df.loc[h_contig_df.Protein_ID.isin(effctor_list), 'Effector'] = 'True'\n",
    "f, ax = plt.subplots(figsize=(7, 6))\n",
    "ax.set_xscale(\"log\")\n",
    "sns.boxplot(x='5mC_gene_body_50', y='Gene_type', data=h_contig_df)"
   ]
  },
  {
   "cell_type": "code",
   "execution_count": 180,
   "metadata": {},
   "outputs": [
    {
     "data": {
      "text/plain": [
       "<matplotlib.axes._subplots.AxesSubplot at 0x7fddfe760400>"
      ]
     },
     "execution_count": 180,
     "metadata": {},
     "output_type": "execute_result"
    },
    {
     "data": {
      "image/png": "[encoded data removed]",
      "text/plain": [
       "<matplotlib.figure.Figure at 0x7fddfe74b780>"
      ]
     },
     "metadata": {},
     "output_type": "display_data"
    }
   ],
   "source": [
    "h_contig_df.loc[h_contig_df.Protein_ID.isin(effctor_list), 'Effector'] = 'True'\n",
    "f, ax = plt.subplots(figsize=(7, 6))\n",
    "ax.set_xscale(\"log\")\n",
    "sns.boxplot(x='UG_01', y='Gene_type', data=h_contig_df)"
   ]
  },
  {
   "cell_type": "code",
   "execution_count": null,
   "metadata": {},
   "outputs": [],
   "source": []
  }
 ],
 "metadata": {
  "kernelspec": {
   "display_name": "Python [default]",
   "language": "python",
   "name": "python3"
  },
  "language_info": {
   "codemirror_mode": {
    "name": "ipython",
    "version": 3
   },
   "file_extension": ".py",
   "mimetype": "text/x-python",
   "name": "python",
   "nbconvert_exporter": "python",
   "pygments_lexer": "ipython3",
   "version": "3.5.3"
  }
 },
 "nbformat": 4,
 "nbformat_minor": 2
}
