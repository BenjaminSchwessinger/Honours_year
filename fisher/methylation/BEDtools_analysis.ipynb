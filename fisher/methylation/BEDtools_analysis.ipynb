{
 "cells": [
  {
   "cell_type": "markdown",
   "metadata": {},
   "source": [
    "# <span style=\"color:#ff1414\"> BEDtools analysis. </span>\n",
    "\n",
    "This is a script to answer research questions outlined elsewhere. In summary, this script:\n",
    "\n",
    "1. compares methylation results between different methylation-callers, and between different methylation sequencing methods.\n",
    "\n",
    "2. compares methylation between genes and non-gene regions\n",
    "\n",
    "3. compares methylation between transposons and non-repetitive regions\n",
    "\n",
    "4. compares transposons and genes\n",
    "\n",
    "\n",
    "Note:\n",
    "- PB/pb = PacBio\n",
    "- ONT/ont = Oxford Nanopore Technology\n",
    "- NP = Nanopolish"
   ]
  },
  {
   "cell_type": "code",
   "execution_count": 1453,
   "metadata": {},
   "outputs": [],
   "source": [
    "import pybedtools\n",
    "from pybedtools import BedTool\n",
    "import os\n",
    "import glob\n",
    "import pprint\n",
    "#import numpy # need for p-value stats\n",
    "import scipy\n",
    "import matplotlib.pyplot as plt\n",
    "import pandas as pd\n",
    "import numpy as np\n",
    "from matplotlib_venn import venn2\n",
    "from scipy.stats import wilcoxon\n",
    "from scipy.stats import spearmanr"
   ]
  },
  {
   "cell_type": "code",
   "execution_count": 1416,
   "metadata": {},
   "outputs": [],
   "source": [
    "#First we need to define the base dirs\n",
    "DIRS ={}\n",
    "DIRS['BASE1'] = '/home/anjuni/methylation_calling/pacbio'\n",
    "DIRS['BASE2'] = '/home/anjuni/analysis'\n",
    "DIRS['BED_INPUT'] = os.path.join(DIRS['BASE2'], 'bedtools_output', 'sequencing_comparison')\n",
    "DIRS['GFF_INPUT'] = os.path.join(DIRS['BASE2'], 'gff_output')\n",
    "DIRS['WINDOW_OUTPUT'] = os.path.join(DIRS['BASE2'], 'windows')\n",
    "DIRS['WINDOW_INPUT'] = os.path.join(DIRS['BASE2'], 'input_for_windows')\n",
    "DIRS['REF'] = '/home/anjuni/Pst_104_v13_assembly/'\n",
    "DIRS['FIGURES'] = os.path.join(DIRS['BASE2'], 'figures')\n",
    "DIRS['FEATURES'] = os.path.join(DIRS['BASE2'], 'coverage', 'feature_files')\n",
    "DIRS['I_FROM_C'] = os.path.join(DIRS['BASE2'], 'bedtools_output', 'intersects_from_cutoffs')\n",
    "DIRS['BED_CUTOFFS'] = os.path.join(DIRS['BASE1'], 'input', 'sorted_bed_files', 'cutoffs')\n",
    "DIRS['6MA_CUTOFFS'] = os.path.join(DIRS['BASE1'], 'input', 'sorted_bed_files', 'cutoffs_6mA')\n",
    "DIRS['5MC_CUTOFFS'] = os.path.join(DIRS['BASE1'], 'input', 'sorted_bed_files', 'cutoffs_5mC')\n",
    "DIRS['COVERAGE'] = os.path.join(DIRS['BASE2'], 'coverage')\n",
    "DIRS['TE_SF'] = os.path.join(DIRS['COVERAGE'], 'superfamily_files')"
   ]
  },
  {
   "cell_type": "code",
   "execution_count": 438,
   "metadata": {},
   "outputs": [
    {
     "name": "stdout",
     "output_type": "stream",
     "text": [
      "{'5MC_CUTOFFS': '/home/anjuni/methylation_calling/pacbio/input/sorted_bed_files/cutoffs_5mC',\n",
      " '6MA_CUTOFFS': '/home/anjuni/methylation_calling/pacbio/input/sorted_bed_files/cutoffs_6mA',\n",
      " 'BASE1': '/home/anjuni/methylation_calling/pacbio',\n",
      " 'BASE2': '/home/anjuni/analysis',\n",
      " 'BED_CUTOFFS': '/home/anjuni/methylation_calling/pacbio/input/sorted_bed_files/cutoffs',\n",
      " 'BED_INPUT': '/home/anjuni/analysis/bedtools_output/sequencing_comparison',\n",
      " 'FEATURES': '/home/anjuni/analysis/coverage/feature_files',\n",
      " 'GFF_INPUT': '/home/anjuni/analysis/gff_output',\n",
      " 'I_FROM_C': '/home/anjuni/analysis/bedtools_output/intersects_from_cutoffs',\n",
      " 'METHYL': '/home/anjuni/analysis/input_for_windows/methylation_files',\n",
      " 'REF': '/home/anjuni/Pst_104_v13_assembly/',\n",
      " 'TEST_COV': '/home/anjuni/analysis/coverage/test_feature_files',\n",
      " 'WINDOW_INPUT': '/home/anjuni/analysis/input_for_windows',\n",
      " 'WINDOW_OUTPUT': '/home/anjuni/analysis/windows'}\n"
     ]
    }
   ],
   "source": [
    "pprint.pprint(DIRS) # add the additional ones below to the cell above maybe?"
   ]
  },
  {
   "cell_type": "code",
   "execution_count": 33,
   "metadata": {},
   "outputs": [],
   "source": [
    "#Quick chech if directories exist\n",
    "for value in DIRS.values():\n",
    "    if not os.path.exists(value):\n",
    "        print('%s does not exist' % value)"
   ]
  },
  {
   "cell_type": "code",
   "execution_count": 34,
   "metadata": {},
   "outputs": [],
   "source": [
    "#Make filepaths\n",
    "bed_file_list = [fn for fn in glob.iglob('%s/*.bed' % DIRS['BED_INPUT'], recursive=True)]\n",
    "gff_file_list = [fn for fn in glob.iglob('%s/*anno.gff3' % DIRS['GFF_INPUT'], recursive=True)]\n",
    "te_file_list = [fn for fn in glob.iglob('%s/*.gff' % DIRS['GFF_INPUT'], recursive=True)]"
   ]
  },
  {
   "cell_type": "code",
   "execution_count": 35,
   "metadata": {
    "collapsed": true
   },
   "outputs": [
    {
     "name": "stdout",
     "output_type": "stream",
     "text": [
      "/home/anjuni/analysis/bedtools_output/sequencing_comparison/5mC_CpG_tombo_np.bed\n",
      "/home/anjuni/analysis/bedtools_output/sequencing_comparison/5mC_tombo_np.bed\n",
      "/home/anjuni/analysis/bedtools_output/sequencing_comparison/6mA_pb_ont.bed\n",
      "/home/anjuni/analysis/bedtools_output/sequencing_comparison/5mC_hc_tombo_sorted.bed\n",
      "/home/anjuni/analysis/bedtools_output/sequencing_comparison/5mC_CpG_np_tombo.bed\n",
      "/home/anjuni/analysis/bedtools_output/sequencing_comparison/6mA_ont_pb.bed\n",
      "/home/anjuni/analysis/bedtools_output/sequencing_comparison/5mC_np_tombo.bed\n",
      "/home/anjuni/analysis/gff_output/Pst_104E_v13_p_ctg_combined_sorted_anno.gff3\n",
      "/home/anjuni/analysis/gff_output/Pst_104E_v13_h_ctg_combined_sorted_anno.gff3\n",
      "/home/anjuni/analysis/gff_output/Pst_104E_v13_h_ctg.REPET.sorted.filtered.superfamily.gff\n",
      "/home/anjuni/analysis/gff_output/Pst_104E_v13_p_ctg.REPET.sorted.filtered.superfamily.gff\n",
      "/home/anjuni/analysis/gff_output/Pst_104E_v13_ph_ctg.REPET.sorted.filtered.superfamily.gff\n"
     ]
    }
   ],
   "source": [
    "#Check that the list works\n",
    "print(*bed_file_list, sep='\\n')\n",
    "print(*gff_file_list, sep='\\n')\n",
    "print(*te_file_list, sep='\\n')"
   ]
  },
  {
   "cell_type": "markdown",
   "metadata": {},
   "source": [
    "## <span style='color:deeppink'> 1. Comparing methylation sequencing methods <span/>"
   ]
  },
  {
   "cell_type": "code",
   "execution_count": 8,
   "metadata": {},
   "outputs": [
    {
     "name": "stdout",
     "output_type": "stream",
     "text": [
      "/home/anjuni/methylation_calling/pacbio/input/sorted_bed_files/6mA_prob_smrtlink_sorted.bed\n",
      "/home/anjuni/methylation_calling/pacbio/input/sorted_bed_files/6mA_hc_tombo_sorted.bed\n"
     ]
    }
   ],
   "source": [
    "%%bash\n",
    "\n",
    "# find overlap between 6mA from PacBio and Nanopore for 6mA data\n",
    "\n",
    "pb=/home/anjuni/methylation_calling/pacbio/input/sorted_bed_files/6mA_prob_smrtlink_sorted.bed # use basecall accuracy instead of Phred score\n",
    "ont=/home/anjuni/methylation_calling/pacbio/input/sorted_bed_files/6mA_hc_tombo_sorted.bed # use sites with non-zero methylation\n",
    "\n",
    "out1=/home/anjuni/analysis/bedtools_output/sequencing_comparison/6mA_pb_ont.bed\n",
    "out2=/home/anjuni/analysis/bedtools_output/sequencing_comparison/6mA_ont_pb.bed\n",
    "\n",
    "echo $pb\n",
    "echo $ont\n",
    "\n",
    "bedtools intersect -a $pb -b $ont > $out1\n",
    "bedtools intersect -a $ont -b $pb > $out2"
   ]
  },
  {
   "cell_type": "code",
   "execution_count": 12,
   "metadata": {},
   "outputs": [
    {
     "name": "stdout",
     "output_type": "stream",
     "text": [
      "PacBio sites:\n",
      "88932\n",
      "Overlapping sites:\n",
      "84733\n",
      "Nanopore sites:\n",
      "83451878\n",
      "Overlapping sites:\n",
      "84733\n",
      "Total adenine sites:\n",
      "85779879\n"
     ]
    }
   ],
   "source": [
    "%%bash\n",
    "\n",
    "#check how many overlapping sites there were\n",
    "\n",
    "cd /home/anjuni/analysis/bedtools_output/sequencing_comparison/\n",
    "echo PacBio sites:\n",
    "less /home/anjuni/methylation_calling/pacbio/input/sorted_bed_files/6mA_prob_smrtlink_sorted.bed | wc -l\n",
    "\n",
    "echo Overlapping sites:\n",
    "less 6mA_pb_ont.bed | wc -l\n",
    "\n",
    "echo Nanopore sites:\n",
    "less /home/anjuni/methylation_calling/pacbio/input/sorted_bed_files/6mA_hc_tombo_sorted.bed | wc -l\n",
    "\n",
    "echo Overlapping sites:\n",
    "less 6mA_ont_pb.bed | wc -l\n",
    "\n",
    "echo Total adenine sites:\n",
    "less /home/anjuni/methylation_calling/pacbio/input/sorted_bed_files/6mA_tombo_sorted.bed | wc -l"
   ]
  },
  {
   "cell_type": "code",
   "execution_count": 362,
   "metadata": {},
   "outputs": [
    {
     "name": "stdout",
     "output_type": "stream",
     "text": [
      "Percentage overlap between PacBio and Nanopore as a proportion of PB sites: 95.278%\n",
      "Percentage overlap between PacBio and Nanopore as a proportation of ONT sites: 0.102%\n",
      "Percentage adenine methylation from overlap: 0.099%\n"
     ]
    }
   ],
   "source": [
    "# Descriptive Statistics\n",
    "\n",
    "print('Percentage overlap between PacBio and Nanopore as a proportion of PB sites:', \"{0:.3f}%\".format(100*84733/88932))\n",
    "# overlap between pb and ont, divided by total PacBio sites\n",
    "\n",
    "print('Percentage overlap between PacBio and Nanopore as a proportation of ONT sites:', \"{0:.3f}%\".format(100*84733/83451878))\n",
    "# = overlap between pb and ont, divided by total Nanopore sites\n",
    "\n",
    "print('Percentage adenine methylation from overlap:', \"{0:.3f}%\".format(100*84733/85779879))\n",
    "# = overlapping sites, divided by total number of adenines (gained from number of lines on tombo file. tombo counts all adenines)"
   ]
  },
  {
   "cell_type": "markdown",
   "metadata": {},
   "source": [
    "#### <span style='color:deeppink'> Observations <span/>\n",
    "\n",
    "Very high similarity between Nanopore and PacBio, when compared to PacBio. But PacBio sites are only a small fraction of Tombo sites, and only include highly accurate sites.\n",
    "\n",
    "When overlapping PacBio and all Nanopore (Tombo) sites, there was a higher overlap (88932) than when overlapping only non-zero PB and ONT sites (84733). This indicates PB detected sites that Nanopore did not, and these were high probability sites that were missed, as PB only had high probability (>99% basecall accuracy) sites.\n",
    "\n",
    "There are also more overlapped sites when using the zero-probability sites from tombo, compared to only using only high confidence sites from both. This also suggests that Tombo/Nanopore had missed some methylated sites."
   ]
  },
  {
   "cell_type": "markdown",
   "metadata": {},
   "source": [
    "## <span style='color:#ff14ff'> 2. Comparing methylation detection methods <span/>"
   ]
  },
  {
   "cell_type": "code",
   "execution_count": 3,
   "metadata": {},
   "outputs": [
    {
     "name": "stdout",
     "output_type": "stream",
     "text": [
      "/home/anjuni/methylation_calling/pacbio/input/sorted_bed_files/5mC_hc_nanopolish_sorted.bed\n",
      "/home/anjuni/methylation_calling/pacbio/input/sorted_bed_files/5mC_hc_tombo_sorted.bed\n"
     ]
    }
   ],
   "source": [
    "%%bash\n",
    "\n",
    "# compare overlap between Tombo and Nanopolish for 5mC data\n",
    "np=/home/anjuni/methylation_calling/pacbio/input/sorted_bed_files/5mC_hc_nanopolish_sorted.bed\n",
    "tombo=/home/anjuni/methylation_calling/pacbio/input/sorted_bed_files/5mC_hc_tombo_sorted.bed\n",
    "\n",
    "out1=/home/anjuni/analysis/bedtools_output/sequencing_comparison/5mC_np_tombo.bed\n",
    "out2=/home/anjuni/analysis/bedtools_output/sequencing_comparison/5mC_tombo_np.bed\n",
    "\n",
    "echo $np\n",
    "echo $tombo\n",
    "\n",
    "bedtools intersect -a $np -b $tombo > $out1\n",
    "bedtools intersect -a $tombo -b $np > $out2"
   ]
  },
  {
   "cell_type": "code",
   "execution_count": 370,
   "metadata": {},
   "outputs": [
    {
     "name": "stdout",
     "output_type": "stream",
     "text": [
      "Nanopolish sites:\n",
      "3783438\n",
      "Tombo sites:\n",
      "67308386\n",
      "Overlapping sites:\n",
      "1681653\n",
      "Total cytosine sites:\n",
      "68536018\n",
      "Total CpG sites:\n",
      "5302131\n"
     ]
    }
   ],
   "source": [
    "%%bash\n",
    "\n",
    "#check how many overlapping sites there were\n",
    "\n",
    "cd /home/anjuni/analysis/bedtools_output/sequencing_comparison/\n",
    "\n",
    "echo Nanopolish sites:\n",
    "less /home/anjuni/methylation_calling/pacbio/input/sorted_bed_files/5mC_hc_nanopolish_sorted.bed | wc -l\n",
    "\n",
    "echo Tombo sites:\n",
    "less /home/anjuni/methylation_calling/pacbio/input/sorted_bed_files/5mC_hc_tombo_sorted.bed | wc -l\n",
    "\n",
    "echo Overlapping sites:\n",
    "less 5mC_np_tombo.bed | wc -l\n",
    "\n",
    "echo Total cytosine sites:\n",
    "less /home/anjuni/methylation_calling/pacbio/input/sorted_bed_files/5mC_tombo_sorted.bed | wc -l\n",
    "\n",
    "echo Total CpG sites:\n",
    "less /home/anjuni/methylation_calling/pacbio/input/sorted_bed_files/5mC_nanopolish_sorted.bed | wc -l"
   ]
  },
  {
   "cell_type": "code",
   "execution_count": 363,
   "metadata": {},
   "outputs": [
    {
     "name": "stdout",
     "output_type": "stream",
     "text": [
      "Percentage overlap between Nanopolish and Tombo as a proportion of NP sites: 44.448%\n",
      "Percentage overlap between Nanopolish and Tombo as a proportation of Tombo sites: 2.498%\n",
      "Percentage cytosine methylation from overlap: 2.454%\n",
      "Percentage of CpG sites methylated from overlap: 31.717%\n"
     ]
    }
   ],
   "source": [
    "# Descriptive Statistics\n",
    "\n",
    "print('Percentage overlap between Nanopolish and Tombo as a proportion of NP sites:', \"{0:.3f}%\".format(100*1681653/3783438))\n",
    "# overlap between np and tombo, divided by total NP sites\n",
    "\n",
    "print('Percentage overlap between Nanopolish and Tombo as a proportation of Tombo sites:', \"{0:.3f}%\".format(100*1681653/67308386))\n",
    "# = overlap between np and tombo, divided by total Tombo sites\n",
    "\n",
    "print('Percentage cytosine methylation from overlap:', \"{0:.3f}%\".format(100*1681653/68536018))\n",
    "# = overlapping sites, divided by total number of cytosines (gained from number of lines on tombo file. tombo counts all cytosines)\n",
    "\n",
    "print('Percentage of CpG sites methylated from overlap:', \"{0:.3f}%\".format(100*1681653/5302131))\n",
    "# = overlapping sites, divided by total number of CpG sites (gained from number of lines on np file. np counts all cpg sites)"
   ]
  },
  {
   "cell_type": "markdown",
   "metadata": {},
   "source": [
    "#### <span style='color:#ff14ff'> Observations <span/>\n",
    "While adenine methylation had high similarity between ONT and PB, cytosine methylation had only 44% similarity between NP and tombo. This is likely because NP only has CpG sites, and Tombo has all cytosine sites, so Tombo will detect far more potentially methylated sites, even those that are not CpG sites, so it will have far more sites than NP to begin with."
   ]
  },
  {
   "cell_type": "markdown",
   "metadata": {},
   "source": [
    "### <span style='color:#ff14ff'> 2.A Taking CpG sites into account when comparing methylation detection methods <span/>"
   ]
  },
  {
   "cell_type": "code",
   "execution_count": 24,
   "metadata": {},
   "outputs": [
    {
     "name": "stdout",
     "output_type": "stream",
     "text": [
      "CpG sites:\n",
      "5302131\n",
      "Cytosine sites:\n",
      "68536018\n"
     ]
    }
   ],
   "source": [
    "%%bash\n",
    "\n",
    "#check how many cytosine sites and CpG sites there are\n",
    "\n",
    "cd /home/anjuni/methylation_calling/pacbio/input/sorted_bed_files/\n",
    "\n",
    "echo CpG sites:\n",
    "less 5mC_nanopolish_sorted.bed | wc -l\n",
    "\n",
    "echo Cytosine sites:\n",
    "less 5mC_tombo_sorted.bed | wc -l"
   ]
  },
  {
   "cell_type": "code",
   "execution_count": 364,
   "metadata": {},
   "outputs": [
    {
     "name": "stdout",
     "output_type": "stream",
     "text": [
      "Percentage of CpG sites as a proportion of cytosine sites: 7.736%\n"
     ]
    }
   ],
   "source": [
    "# Descriptive Statistics\n",
    "\n",
    "print('Percentage of CpG sites as a proportion of cytosine sites:', \"{0:.3f}%\".format(100*5302131/68536018))\n",
    "# np sites divided by tombo sites"
   ]
  },
  {
   "cell_type": "markdown",
   "metadata": {},
   "source": [
    "#### <span style='color:#ff14ff'> Solution <span/>\n",
    "1. Make a file of methylated CpG sites detected by Tombo.\n",
    "2. Intersect this with methylated (CpG) sites detected by Nanopolish.\n",
    "\n",
    "I will be overlapping CpG sites from Tombo and NP, because NP only has CpG sites and Tombo has all cytosine sites.\n",
    "So from the start, the overlap wouldn't have been accurate, because tombo considers sites that NP does not."
   ]
  },
  {
   "cell_type": "markdown",
   "metadata": {},
   "source": [
    "#### <span style='color:#ff14ff'> CpG Sites <span/>"
   ]
  },
  {
   "cell_type": "code",
   "execution_count": 160,
   "metadata": {},
   "outputs": [],
   "source": [
    "%%bash\n",
    "\n",
    "# make a file of CpG sites from tombo\n",
    "all_cpg=/home/anjuni/methylation_calling/pacbio/input/sorted_bed_files/5mC_nanopolish_sorted.bed\n",
    "all_tombo=/home/anjuni/methylation_calling/pacbio/input/sorted_bed_files/5mC_hc_tombo_sorted.bed\n",
    "tombo_cpg=/home/anjuni/methylation_calling/pacbio/input/sorted_bed_files/5mC_hc_tombo_sorted.CpG.bed\n",
    "\n",
    "bedtools intersect -a $all_tombo -b $all_cpg > $tombo_cpg"
   ]
  },
  {
   "cell_type": "code",
   "execution_count": 161,
   "metadata": {},
   "outputs": [],
   "source": [
    "%%bash\n",
    "\n",
    "# intersect Tombo and NP CpG sites\n",
    "tombo_cpg=/home/anjuni/methylation_calling/pacbio/input/sorted_bed_files/5mC_hc_tombo_sorted.CpG.bed\n",
    "np_cpg=/home/anjuni/methylation_calling/pacbio/input/sorted_bed_files/5mC_hc_nanopolish_sorted.bed\n",
    "m_tombo_cpg=/home/anjuni/analysis/bedtools_output/sequencing_comparison/5mC_CpG_tombo_np.bed\n",
    "m_np_cpg=/home/anjuni/analysis/bedtools_output/sequencing_comparison/5mC_CpG_np_tombo.bed\n",
    "\n",
    "bedtools intersect -a $tombo_cpg -b $np_cpg > $m_tombo_cpg\n",
    "bedtools intersect -a $np_cpg -b $tombo_cpg > $m_np_cpg"
   ]
  },
  {
   "cell_type": "code",
   "execution_count": 369,
   "metadata": {},
   "outputs": [
    {
     "name": "stdout",
     "output_type": "stream",
     "text": [
      "Nanopolish methylated CpG sites:\n",
      "3783438\n",
      "Tombo methylated CpG sites:\n",
      "5167951\n",
      "Overlapping methylated CpG sites:\n",
      "3708640\n",
      "Total CpG sites:\n",
      "5302131\n"
     ]
    }
   ],
   "source": [
    "%%bash\n",
    "\n",
    "#check how many overlapping sites there were\n",
    "cd /home/anjuni/analysis/bedtools_output/sequencing_comparison/\n",
    "\n",
    "echo Nanopolish methylated CpG sites:\n",
    "less /home/anjuni/methylation_calling/pacbio/input/sorted_bed_files/5mC_hc_nanopolish_sorted.bed | wc -l\n",
    "\n",
    "echo Tombo methylated CpG sites:\n",
    "less /home/anjuni/methylation_calling/pacbio/input/sorted_bed_files/5mC_hc_tombo_sorted.CpG.bed | wc -l\n",
    "\n",
    "echo Overlapping methylated CpG sites:\n",
    "less 5mC_CpG_tombo_np.bed | wc -l\n",
    "\n",
    "echo Total CpG sites:\n",
    "less /home/anjuni/methylation_calling/pacbio/input/sorted_bed_files/5mC_nanopolish_sorted.bed | wc -l"
   ]
  },
  {
   "cell_type": "code",
   "execution_count": 371,
   "metadata": {},
   "outputs": [
    {
     "name": "stdout",
     "output_type": "stream",
     "text": [
      "Percentage overlap between Nanopolish and Tombo as a proportion of NP CpG sites: 44.448%\n",
      "Percentage overlap between Nanopolish and Tombo as a proportation of Tombo CpG sites: 32.540%\n",
      "Percentage of CpG sites methylated: 31.717%\n"
     ]
    }
   ],
   "source": [
    "# Descriptive Statistics\n",
    "\n",
    "print('Percentage overlap between Nanopolish and Tombo as a proportion of NP CpG sites:', \"{0:.3f}%\".format(100*1681653/3783438))\n",
    "# overlap between np and tombo, divided by total NP CpG sites\n",
    "\n",
    "print('Percentage overlap between Nanopolish and Tombo as a proportation of Tombo CpG sites:', \"{0:.3f}%\".format(100*1681653/5167951))\n",
    "# = overlap between np and tombo, divided by total Tombo CpG sites\n",
    "\n",
    "print('Percentage of CpG sites methylated:', \"{0:.3f}%\".format(100*1681653/5302131))\n",
    "# = overlapping sites, divided by total number of CpG sites (gained from number of lines on np file. np counts all cpg sites)"
   ]
  },
  {
   "cell_type": "markdown",
   "metadata": {},
   "source": [
    "#### <span style='color:#ff14ff'> Observations <span/>\n",
    "While the overlap between Tombo and NP didn't change after only comparing CpG sites, the nearly 50% overlap may be because NP only considers one strand while Tomb considers both.\n",
    "\n",
    "This may be resolved by using only the plus file from Tombo and comparing its results to NP."
   ]
  },
  {
   "cell_type": "markdown",
   "metadata": {},
   "source": [
    "### <span style='color:#ff14ff'> 2.B Test out whether Nanopolish only detects (+) strand <span/>\n",
    "Intersect tombo 5mC (-) strand file with nanopolish file to see if there is overlap. Then intersect the tombo (+) strand with nanopolish.\n",
    "\n",
    "The 44% match may just be because I, for some reason, put all the nanopolish sites as (+) strand when making the original BED file :P"
   ]
  },
  {
   "cell_type": "code",
   "execution_count": 147,
   "metadata": {},
   "outputs": [],
   "source": [
    "%%bash\n",
    "\n",
    "#Sort the initial tombo bed files, because they were not sorted and slowed down the intersection\n",
    "\n",
    "tombo_minus=/home/anjuni/methylation_calling/pacbio/input/bed_files/initial_bed_files/5mC_minus_tombo.bed\n",
    "tombo_plus=/home/anjuni/methylation_calling/pacbio/input/bed_files/initial_bed_files/5mC_plus_tombo.bed\n",
    "nanopolish=/home/anjuni/methylation_calling/pacbio/input/bed_files/5mC_s_nanopolish.bed\n",
    "\n",
    "sort_tombo_minus=/home/anjuni/methylation_calling/pacbio/input/bed_files/5mC_minus_tombo_sorted.bed\n",
    "sort_tombo_plus=/home/anjuni/methylation_calling/pacbio/input/bed_files/5mC_plus_tombo_sorted.bed\n",
    "\n",
    "sortBed -i $tombo_minus > $sort_tombo_minus\n",
    "sortBed -i $tombo_plus > $sort_tombo_plus"
   ]
  },
  {
   "cell_type": "code",
   "execution_count": 148,
   "metadata": {},
   "outputs": [],
   "source": [
    "%%bash\n",
    "\n",
    "#Intersect the (+) and (-) BED files with nanopolish file\n",
    "#to see whether Nanopolish has methylation-calls on both strands :)\n",
    "\n",
    "sort_tombo_minus=/home/anjuni/methylation_calling/pacbio/input/bed_files/5mC_minus_tombo_sorted.bed\n",
    "sort_tombo_plus=/home/anjuni/methylation_calling/pacbio/input/bed_files/5mC_plus_tombo_sorted.bed\n",
    "nanopolish=/home/anjuni/methylation_calling/pacbio/input/bed_files/5mC_s_nanopolish.bed\n",
    "\n",
    "intersectBed -a $nanopolish -b $sort_tombo_minus > /home/anjuni/methylation_calling/pacbio/input/bed_files/nano_minus_tombo_overlap.bed\n",
    "intersectBed -a $nanopolish -b $sort_tombo_plus > /home/anjuni/methylation_calling/pacbio/input/bed_files/nano_plus_tombo_overlap.bed"
   ]
  },
  {
   "cell_type": "code",
   "execution_count": 150,
   "metadata": {},
   "outputs": [
    {
     "name": "stdout",
     "output_type": "stream",
     "text": [
      "The number of sites captured by Nanopolish:\n",
      "5302131\n",
      "The number of overlapping sites captured by Nanopolish and by Tombo on the forward strand of the reference genome:\n",
      "5221309\n",
      "The number of overlapping sites captured by Nanopolish and by Tombo on the reverse strand of the reference genome:\n",
      "0\n"
     ]
    }
   ],
   "source": [
    "%%bash\n",
    "\n",
    "#Compare the number of NP sites to Tombo sites on the forward and reverse strand\n",
    "cd /home/anjuni/methylation_calling/pacbio/input/bed_files\n",
    "echo \"The number of CpG sites captured by Nanopolish:\"\n",
    "less 5mC_s_nanopolish.bed | wc -l\n",
    "echo \"The number of overlapping sites captured by Nanopolish and by Tombo on the forward strand of the reference genome:\"\n",
    "less nano_plus_tombo_overlap.bed  | wc -l\n",
    "echo \"The number of overlapping sites captured by Nanopolish and by Tombo on the reverse strand of the reference genome:\"\n",
    "less nano_minus_tombo_overlap.bed  | wc -l"
   ]
  },
  {
   "cell_type": "code",
   "execution_count": 372,
   "metadata": {},
   "outputs": [
    {
     "name": "stdout",
     "output_type": "stream",
     "text": [
      "Percentage overlap between Nanopolish and Tombo (forward strand) as a proportion of NP sites: 98.476%\n"
     ]
    }
   ],
   "source": [
    "print('Percentage overlap between Nanopolish and Tombo (forward strand) as a proportion of NP sites:', \"{0:.3f}%\".format(100*5221309/5302131))\n",
    "# overlap between np and tombo, divided by total NP sites"
   ]
  },
  {
   "cell_type": "markdown",
   "metadata": {},
   "source": [
    "There is a 98% similarity between Nanopolish sites and Tombo forward strand sites, but no similarity between Nanopolish sites and Tombo reverse strand sites, indicating that the 44% similarity between Nanopolish and Tombo from earlier was because Nanopolish only detected methylation on the forward strand.\n",
    "\n",
    "I am currently re-running Nanopolish methylation-calling in case there was a mistake in the code earlier, causing it to ignore the reverse strand. Re-running the test run for pcontig_109 showed no difference in output to the previous one. They had the same number of sites (46801) and had the same output for the first 10 lines and last 10 lines. Now I think there wasn't a mistake because I only copied the index files to a new folder to save them back to the output folder, while a copy of all index files remained in the original fastq folder. This allowed methylation-calling to continue.\n",
    "\n",
    "Based on these results, I will intersect the methylated forward strand CpG sites that Tombo detected with the the Nanopolish site, to ensure only related sites intersect :)"
   ]
  },
  {
   "cell_type": "code",
   "execution_count": 156,
   "metadata": {},
   "outputs": [],
   "source": [
    "%%bash\n",
    "\n",
    "#bedtools script to check nanopolish results\n",
    "#if the subtract file is empty, the initial nanopolish run was accurate\n",
    "\n",
    "nano1=/home/anjuni/methylation_calling/pacbio/input/bed_files/5mC_s_nanopolish.bed\n",
    "nano2=/home/anjuni/methylation_calling/pacbio/input/bed_files/5mC_rerun_s_nanopolish.bed\n",
    "nano1_2_sub=/home/anjuni/methylation_calling/pacbio/input/bed_files/nanopolish_rerun_subtract.bed\n",
    "\n",
    "bedtools subtract -a $nano1 -b $nano2 > $nano1_2_sub"
   ]
  },
  {
   "cell_type": "code",
   "execution_count": 158,
   "metadata": {},
   "outputs": [
    {
     "name": "stdout",
     "output_type": "stream",
     "text": [
      "Number of site differences between the original Nanopolish run and the re-run\n",
      "0\n"
     ]
    }
   ],
   "source": [
    "!echo \"Number of site differences between the original Nanopolish run and the re-run\"\n",
    "!less /home/anjuni/methylation_calling/pacbio/input/bed_files/nanopolish_rerun_subtract.bed | wc -l"
   ]
  },
  {
   "cell_type": "markdown",
   "metadata": {},
   "source": [
    "As there was no difference in sites between each Nanopolish run, the original run had no issues causing only the (+) strand to be detected and this issue is a result of the software."
   ]
  },
  {
   "cell_type": "markdown",
   "metadata": {},
   "source": [
    "### <span style='color:#ff14ff'> 2.C Finding overlap between forward strand CpG Sites <span/>"
   ]
  },
  {
   "cell_type": "code",
   "execution_count": 164,
   "metadata": {},
   "outputs": [],
   "source": [
    "%%bash\n",
    "\n",
    "#Make a tombo file with only forward strand CpG to match the Nanopolish data\n",
    "grep '+' /home/anjuni/methylation_calling/pacbio/input/sorted_bed_files/5mC_hc_tombo_sorted.CpG.bed > /home/anjuni/methylation_calling/pacbio/input/sorted_bed_files/5mC_hc_tombo_sorted.CpG.plus.bed\n",
    "\n",
    "#This file ended up being exactly the same as the original CpG file for Tombo, but this new file will be used for added detail"
   ]
  },
  {
   "cell_type": "code",
   "execution_count": 165,
   "metadata": {},
   "outputs": [
    {
     "name": "stdout",
     "output_type": "stream",
     "text": [
      "/home/anjuni/methylation_calling/pacbio/input/sorted_bed_files/5mC_hc_nanopolish_sorted.bed\n",
      "/home/anjuni/methylation_calling/pacbio/input/sorted_bed_files/5mC_hc_tombo_sorted.CpG.plus.bed\n"
     ]
    }
   ],
   "source": [
    "%%bash\n",
    "\n",
    "\n",
    "# compare overlap between Tombo and Nanopolish for forward strand CpG 5mC data\n",
    "np=/home/anjuni/methylation_calling/pacbio/input/sorted_bed_files/5mC_hc_nanopolish_sorted.bed\n",
    "tombo=/home/anjuni/methylation_calling/pacbio/input/sorted_bed_files/5mC_hc_tombo_sorted.CpG.plus.bed\n",
    "\n",
    "out1=/home/anjuni/analysis/bedtools_output/sequencing_comparison/5mC_plus_CpG_np_tombo.bed\n",
    "out2=/home/anjuni/analysis/bedtools_output/sequencing_comparison/5mC_plus_CpG_tombo_np.bed\n",
    "\n",
    "echo $np\n",
    "echo $tombo\n",
    "\n",
    "bedtools intersect -a $np -b $tombo > $out1\n",
    "bedtools intersect -a $tombo -b $np > $out2"
   ]
  },
  {
   "cell_type": "code",
   "execution_count": 374,
   "metadata": {},
   "outputs": [
    {
     "name": "stdout",
     "output_type": "stream",
     "text": [
      "The number of CpG sites captured by Nanopolish:\n",
      "3783438\n",
      "The number of CpG sites captured by Tombo on the forward strand:\n",
      "5167951\n",
      "The number of overlapping sites captured by Nanopolish and by Tombo on the forward strand of the reference genome:\n",
      "3708640\n"
     ]
    }
   ],
   "source": [
    "%%bash\n",
    "\n",
    "#Compare the number of (+) strand CpG NP sites to (+) strand CpG Tombo sites on the forward strand\n",
    "cd /home/anjuni/methylation_calling/pacbio/input/sorted_bed_files\n",
    "echo \"The number of CpG sites captured by Nanopolish:\"\n",
    "less 5mC_hc_nanopolish_sorted.bed | wc -l\n",
    "echo \"The number of CpG sites captured by Tombo on the forward strand:\"\n",
    "less 5mC_hc_tombo_sorted.CpG.plus.bed | wc -l\n",
    "echo \"The number of overlapping sites captured by Nanopolish and by Tombo on the forward strand of the reference genome:\"\n",
    "less /home/anjuni/analysis/bedtools_output/sequencing_comparison/5mC_plus_CpG_tombo_np.bed  | wc -l"
   ]
  },
  {
   "cell_type": "code",
   "execution_count": 375,
   "metadata": {},
   "outputs": [
    {
     "name": "stdout",
     "output_type": "stream",
     "text": [
      "Percentage overlap between Nanopolish and Tombo (forward strand) as a proportion of NP sites: 98.023%\n",
      "Percentage overlap between Nanopolish and Tombo (forward strand) as a proportion of Tombo sites: 71.762%\n"
     ]
    }
   ],
   "source": [
    "print('Percentage overlap between Nanopolish and Tombo (forward strand) as a proportion of NP sites:', \"{0:.3f}%\".format(100*3708640/3783438))\n",
    "# overlap between np and tombo, divided by total NP sites\n",
    "print('Percentage overlap between Nanopolish and Tombo (forward strand) as a proportion of Tombo sites:', \"{0:.3f}%\".format(100*3708640/5167951))\n",
    "# overlap between np and tombo, divided by total Tombo sites"
   ]
  },
  {
   "cell_type": "markdown",
   "metadata": {},
   "source": [
    "There was a 98% overlap between Nanopolish and Tombo sites, as a proportion of Nanopolish sites, as this was the smaller dataset. Using the positive strand CpG sites increased the overlap from 44% to 98%."
   ]
  },
  {
   "cell_type": "code",
   "execution_count": 1527,
   "metadata": {},
   "outputs": [
    {
     "name": "stdout",
     "output_type": "stream",
     "text": [
      "1459311 74798 3708640\n"
     ]
    }
   ],
   "source": [
    "print(a,b,c)"
   ]
  },
  {
   "cell_type": "code",
   "execution_count": null,
   "metadata": {},
   "outputs": [],
   "source": []
  },
  {
   "cell_type": "code",
   "execution_count": 1531,
   "metadata": {},
   "outputs": [
    {
     "data": {
      "image/png": "[encoded data removed]",
      "text/plain": [
       "<matplotlib.figure.Figure at 0x7f47aa399a90>"
      ]
     },
     "metadata": {},
     "output_type": "display_data"
    }
   ],
   "source": [
    "# First way to call the 2 group Venn diagram:\n",
    "#The number of CpG sites captured by Nanopolish:\n",
    "#3783438\n",
    "#The number of CpG sites captured by Tombo on the forward strand:\n",
    "#5167951\n",
    "#The number of overlapping sites captured by Nanopolish and by Tombo on the forward strand of the reference genome:\n",
    "#3708640\n",
    "c = 3708640\n",
    "a = 5167951-c\n",
    "b = 3783438-c\n",
    "v = venn2(subsets = (a, b, c), set_labels = (' ', ' '))\n",
    "v.get_patch_by_id('01').set_color('#ff47a3')\n",
    "v.get_patch_by_id('10').set_color('#47d1ff')\n",
    "v.get_patch_by_id('11').set_color('#ffa347')\n",
    "plt.annotate('Tombo', xy=v.get_label_by_id('10').get_position() - np.array([0, 0.05]), xytext=(-70,-70), \\\n",
    "             ha='center', textcoords='offset points', bbox=dict(boxstyle='round,pad=0.5', fc='gray', alpha=0.1), \\\n",
    "             arrowprops=dict(arrowstyle='->', connectionstyle='arc3,rad=0.5',color='gray'))\n",
    "plt.annotate('Nanopolish', xy=v.get_label_by_id('01').get_position() - np.array([0, 0.05]), xytext=(40,-70), \\\n",
    "             ha='center', textcoords='offset points', bbox=dict(boxstyle='round,pad=0.5', fc='gray', alpha=0.1), \\\n",
    "             arrowprops=dict(arrowstyle='->', connectionstyle='arc3,rad=0.5',color='gray'))\n",
    "\n",
    "plt.title('Overlap between Tombo and Nanopolish sites')\n",
    "plt.show()"
   ]
  },
  {
   "cell_type": "code",
   "execution_count": null,
   "metadata": {},
   "outputs": [],
   "source": [
    "# Nanopore and PacBio Venn diagrams don't look good, so use the tombo nanopolish one,\n",
    "# and a table of percentages will be used"
   ]
  },
  {
   "cell_type": "markdown",
   "metadata": {},
   "source": [
    "For the rest of the analysis, I will use the overlapped files for 5mC and 6mA data, and the Tombo files. This is because the Tombo files consider all possible A and C sites in the genome, and provide some consistency between the 6mA and 5mC data. In contrast, Nanopolish only detects 5mC at CpG sites on the forward strand, and SMRTLink does not provide a methylation-call accuracy value that is comparable to the accuracy in Nanopolis and Tombo. While Nanopolish and Tombo use the fraction of reads for the site that are methylated, SMRTLink uses a Phred score to determine methylation-call accuracy."
   ]
  },
  {
   "cell_type": "markdown",
   "metadata": {},
   "source": [
    "## <span style='color:#8a14ff'> 3. Making cutoff files. <span/>"
   ]
  },
  {
   "cell_type": "markdown",
   "metadata": {},
   "source": [
    "### <span style='color:#8a14ff'> 3.A Making cutoff files from five original methylation-calling files, and intersect the two sequencing methods and the two methyaltion-callers. <span/>"
   ]
  },
  {
   "cell_type": "code",
   "execution_count": 1320,
   "metadata": {},
   "outputs": [],
   "source": [
    "# Make the list of cutoffs\n",
    "cutoff_list = [1.00, 0.99, 0.95, 0.90, 0.80, 0.70, 0.60, 0.50, 0.40, 0.30, 0.20, 0.10, 0.00]"
   ]
  },
  {
   "cell_type": "code",
   "execution_count": null,
   "metadata": {},
   "outputs": [],
   "source": [
    "cutoff_list = sorted(cutoff_list)"
   ]
  },
  {
   "cell_type": "code",
   "execution_count": 497,
   "metadata": {},
   "outputs": [
    {
     "data": {
      "text/plain": [
       "13"
      ]
     },
     "execution_count": 497,
     "metadata": {},
     "output_type": "execute_result"
    }
   ],
   "source": [
    "len(cutoff_list)"
   ]
  },
  {
   "cell_type": "code",
   "execution_count": 196,
   "metadata": {},
   "outputs": [],
   "source": [
    "# Define function to filter\n",
    "def score_filter(feature, L):\n",
    "    \"\"\"Returns True if feature is longer than L\"\"\"\n",
    "    return float(feature.score) >= L\n",
    "\n",
    "def filter_by_cutoffs(bed_files, cutoffs, initial_file_path, final_file_path):\n",
    "    \"\"\"Filters files by the list of cutoffs given, and renames the file according to the cutoff.\"\"\"\n",
    "    for file in bed_files:\n",
    "        pybed_object = BedTool(file)\n",
    "        for x in cutoffs:\n",
    "            filtered_file = pybed_object.filter(score_filter, x)\n",
    "            cutoff = \"{:.2f}\".format(x)\n",
    "            cutoff_name = '.cutoff.' + cutoff + '.bed'\n",
    "            out_filename = file.replace('.bed', cutoff_name)\n",
    "            out_filename = out_filename.replace(initial_file_path, final_file_path)\n",
    "            filtered_file.saveas(out_filename)"
   ]
  },
  {
   "cell_type": "code",
   "execution_count": null,
   "metadata": {},
   "outputs": [],
   "source": [
    "#Run the function to filter all files\n",
    "initial_fp = '/home/anjuni/analysis/bedtools_output/sequencing_comparison/'\n",
    "final_fp = '/home/anjuni/analysis/bedtools_output/cutoffs_from_intersects/'\n",
    "filter_by_cutoffs(bed_file_list, cutoff_list, initial_fp, final_fp)"
   ]
  },
  {
   "cell_type": "code",
   "execution_count": 392,
   "metadata": {},
   "outputs": [],
   "source": [
    "# make file handles for the four input files for intersecting, and the hc_tombo file for later analysis\n",
    "sorted_bed_files = ['/home/anjuni/methylation_calling/pacbio/input/sorted_bed_files/5mC_hc_nanopolish_sorted.bed', \\\n",
    "                    '/home/anjuni/methylation_calling/pacbio/input/sorted_bed_files/5mC_hc_tombo_sorted.CpG.plus.bed', \\\n",
    "                    '/home/anjuni/methylation_calling/pacbio/input/sorted_bed_files/5mC_hc_tombo_sorted.bed', \\\n",
    "                    '/home/anjuni/methylation_calling/pacbio/input/sorted_bed_files/6mA_prob_smrtlink_sorted.bed', \\\n",
    "                    '/home/anjuni/methylation_calling/pacbio/input/sorted_bed_files/6mA_hc_tombo_sorted.bed']"
   ]
  },
  {
   "cell_type": "code",
   "execution_count": null,
   "metadata": {},
   "outputs": [],
   "source": [
    "#Run the function to make cutoffs of all the sorted bed files\n",
    "initial_fp1 = '/home/anjuni/methylation_calling/pacbio/input/sorted_bed_files/'\n",
    "final_fp1 = '/home/anjuni/methylation_calling/pacbio/input/sorted_bed_files/cutoffs/'\n",
    "filter_by_cutoffs(sorted_bed_files, cutoff_list, initial_fp1, final_fp1)"
   ]
  },
  {
   "cell_type": "code",
   "execution_count": 200,
   "metadata": {},
   "outputs": [],
   "source": [
    "%%bash\n",
    "\n",
    "#Move the 6mA files and 5mC files to separate folders, to make running intersections easier\n",
    "cd /home/anjuni/methylation_calling/pacbio/input/sorted_bed_files/\n",
    "mkdir cutoffs_6mA\n",
    "mkdir cutoffs_5mC\n",
    "mv cutoffs/6mA* cutoffs_6mA\n",
    "mv cutoffs/5mC* cutoffs_5mC\n",
    "rmdir cutoffs"
   ]
  },
  {
   "cell_type": "code",
   "execution_count": 437,
   "metadata": {},
   "outputs": [],
   "source": [
    "# make directories for 6mA and 5mC cutoff files\n",
    "DIRS['BED_CUTOFFS'] = os.path.join(DIRS['BASE1'], 'input', 'sorted_bed_files', 'cutoffs')\n",
    "DIRS['6MA_CUTOFFS'] = os.path.join(DIRS['BASE1'], 'input', 'sorted_bed_files', 'cutoffs_6mA')\n",
    "DIRS['5MC_CUTOFFS'] = os.path.join(DIRS['BASE1'], 'input', 'sorted_bed_files', 'cutoffs_5mC')"
   ]
  },
  {
   "cell_type": "code",
   "execution_count": 400,
   "metadata": {},
   "outputs": [
    {
     "name": "stdout",
     "output_type": "stream",
     "text": [
      "/home/anjuni/methylation_calling/pacbio/input/sorted_bed_files/cutoffs\n",
      "/home/anjuni/methylation_calling/pacbio/input/sorted_bed_files/cutoffs_6mA\n",
      "/home/anjuni/methylation_calling/pacbio/input/sorted_bed_files/cutoffs_5mC\n"
     ]
    }
   ],
   "source": [
    "print(DIRS['BED_CUTOFFS'])\n",
    "print(DIRS['6MA_CUTOFFS'])\n",
    "print(DIRS['5MC_CUTOFFS'])"
   ]
  },
  {
   "cell_type": "code",
   "execution_count": 504,
   "metadata": {
    "collapsed": true
   },
   "outputs": [
    {
     "name": "stdout",
     "output_type": "stream",
     "text": [
      "/home/anjuni/methylation_calling/pacbio/input/sorted_bed_files/cutoffs_6mA/6mA_hc_tombo_sorted.cutoff.0.90.bed\n",
      "/home/anjuni/methylation_calling/pacbio/input/sorted_bed_files/cutoffs_6mA/6mA_hc_tombo_sorted.cutoff.0.60.bed\n",
      "/home/anjuni/methylation_calling/pacbio/input/sorted_bed_files/cutoffs_6mA/6mA_hc_tombo_sorted.cutoff.0.30.bed\n",
      "/home/anjuni/methylation_calling/pacbio/input/sorted_bed_files/cutoffs_6mA/6mA_hc_tombo_sorted.cutoff.0.80.bed\n",
      "/home/anjuni/methylation_calling/pacbio/input/sorted_bed_files/cutoffs_6mA/6mA_hc_tombo_sorted.cutoff.0.70.bed\n",
      "/home/anjuni/methylation_calling/pacbio/input/sorted_bed_files/cutoffs_6mA/6mA_hc_tombo_sorted.cutoff.0.20.bed\n",
      "/home/anjuni/methylation_calling/pacbio/input/sorted_bed_files/cutoffs_6mA/6mA_hc_tombo_sorted.cutoff.0.10.bed\n",
      "/home/anjuni/methylation_calling/pacbio/input/sorted_bed_files/cutoffs_6mA/6mA_hc_tombo_sorted.cutoff.0.40.bed\n",
      "/home/anjuni/methylation_calling/pacbio/input/sorted_bed_files/cutoffs_6mA/6mA_hc_tombo_sorted.cutoff.0.99.bed\n",
      "/home/anjuni/methylation_calling/pacbio/input/sorted_bed_files/cutoffs_6mA/6mA_hc_tombo_sorted.cutoff.1.00.bed\n",
      "/home/anjuni/methylation_calling/pacbio/input/sorted_bed_files/cutoffs_6mA/6mA_hc_tombo_sorted.cutoff.0.95.bed\n",
      "/home/anjuni/methylation_calling/pacbio/input/sorted_bed_files/cutoffs_6mA/6mA_hc_tombo_sorted.cutoff.0.00.bed\n",
      "/home/anjuni/methylation_calling/pacbio/input/sorted_bed_files/cutoffs_6mA/6mA_hc_tombo_sorted.cutoff.0.50.bed\n",
      "/home/anjuni/methylation_calling/pacbio/input/sorted_bed_files/cutoffs_6mA/6mA_prob_smrtlink_sorted.cutoff.0.95.bed\n",
      "/home/anjuni/methylation_calling/pacbio/input/sorted_bed_files/cutoffs_6mA/6mA_prob_smrtlink_sorted.cutoff.0.00.bed\n",
      "/home/anjuni/methylation_calling/pacbio/input/sorted_bed_files/cutoffs_6mA/6mA_prob_smrtlink_sorted.cutoff.0.50.bed\n",
      "/home/anjuni/methylation_calling/pacbio/input/sorted_bed_files/cutoffs_6mA/6mA_prob_smrtlink_sorted.cutoff.0.80.bed\n",
      "/home/anjuni/methylation_calling/pacbio/input/sorted_bed_files/cutoffs_6mA/6mA_prob_smrtlink_sorted.cutoff.0.30.bed\n",
      "/home/anjuni/methylation_calling/pacbio/input/sorted_bed_files/cutoffs_6mA/6mA_prob_smrtlink_sorted.cutoff.0.20.bed\n",
      "/home/anjuni/methylation_calling/pacbio/input/sorted_bed_files/cutoffs_6mA/6mA_prob_smrtlink_sorted.cutoff.0.99.bed\n",
      "/home/anjuni/methylation_calling/pacbio/input/sorted_bed_files/cutoffs_6mA/6mA_prob_smrtlink_sorted.cutoff.0.70.bed\n",
      "/home/anjuni/methylation_calling/pacbio/input/sorted_bed_files/cutoffs_6mA/6mA_prob_smrtlink_sorted.cutoff.0.90.bed\n",
      "/home/anjuni/methylation_calling/pacbio/input/sorted_bed_files/cutoffs_6mA/6mA_prob_smrtlink_sorted.cutoff.0.60.bed\n",
      "/home/anjuni/methylation_calling/pacbio/input/sorted_bed_files/cutoffs_6mA/6mA_prob_smrtlink_sorted.cutoff.1.00.bed\n",
      "/home/anjuni/methylation_calling/pacbio/input/sorted_bed_files/cutoffs_6mA/6mA_prob_smrtlink_sorted.cutoff.0.10.bed\n",
      "/home/anjuni/methylation_calling/pacbio/input/sorted_bed_files/cutoffs_6mA/6mA_prob_smrtlink_sorted.cutoff.0.40.bed\n"
     ]
    }
   ],
   "source": [
    "# make a list of 6mA cutoff files from Nanopore and PacBio\n",
    "ont_6mA = [fn for fn in glob.iglob('%s/6mA_hc_tombo*.bed' % DIRS['6MA_CUTOFFS'], recursive=True)]\n",
    "pb_6mA = [fn for fn in glob.iglob('%s/6mA_prob_smrtlink*.bed' % DIRS['6MA_CUTOFFS'], recursive=True)]\n",
    "\n",
    "#test out these lists by printing\n",
    "print(*ont_6mA, sep='\\n')\n",
    "print(*pb_6mA, sep='\\n')"
   ]
  },
  {
   "cell_type": "code",
   "execution_count": 505,
   "metadata": {
    "collapsed": true
   },
   "outputs": [
    {
     "name": "stdout",
     "output_type": "stream",
     "text": [
      "/home/anjuni/methylation_calling/pacbio/input/sorted_bed_files/cutoffs_5mC/5mC_hc_nanopolish_sorted.cutoff.0.90.bed\n",
      "/home/anjuni/methylation_calling/pacbio/input/sorted_bed_files/cutoffs_5mC/5mC_hc_nanopolish_sorted.cutoff.0.60.bed\n",
      "/home/anjuni/methylation_calling/pacbio/input/sorted_bed_files/cutoffs_5mC/5mC_hc_nanopolish_sorted.cutoff.0.00.bed\n",
      "/home/anjuni/methylation_calling/pacbio/input/sorted_bed_files/cutoffs_5mC/5mC_hc_nanopolish_sorted.cutoff.0.80.bed\n",
      "/home/anjuni/methylation_calling/pacbio/input/sorted_bed_files/cutoffs_5mC/5mC_hc_nanopolish_sorted.cutoff.0.40.bed\n",
      "/home/anjuni/methylation_calling/pacbio/input/sorted_bed_files/cutoffs_5mC/5mC_hc_nanopolish_sorted.cutoff.0.50.bed\n",
      "/home/anjuni/methylation_calling/pacbio/input/sorted_bed_files/cutoffs_5mC/5mC_hc_nanopolish_sorted.cutoff.0.10.bed\n",
      "/home/anjuni/methylation_calling/pacbio/input/sorted_bed_files/cutoffs_5mC/5mC_hc_nanopolish_sorted.cutoff.0.20.bed\n",
      "/home/anjuni/methylation_calling/pacbio/input/sorted_bed_files/cutoffs_5mC/5mC_hc_nanopolish_sorted.cutoff.0.70.bed\n",
      "/home/anjuni/methylation_calling/pacbio/input/sorted_bed_files/cutoffs_5mC/5mC_hc_nanopolish_sorted.cutoff.0.99.bed\n",
      "/home/anjuni/methylation_calling/pacbio/input/sorted_bed_files/cutoffs_5mC/5mC_hc_nanopolish_sorted.cutoff.0.30.bed\n",
      "/home/anjuni/methylation_calling/pacbio/input/sorted_bed_files/cutoffs_5mC/5mC_hc_nanopolish_sorted.cutoff.0.95.bed\n",
      "/home/anjuni/methylation_calling/pacbio/input/sorted_bed_files/cutoffs_5mC/5mC_hc_nanopolish_sorted.cutoff.1.00.bed\n",
      "/home/anjuni/methylation_calling/pacbio/input/sorted_bed_files/cutoffs_5mC/5mC_hc_tombo_sorted.CpG.plus.cutoff.0.70.bed\n",
      "/home/anjuni/methylation_calling/pacbio/input/sorted_bed_files/cutoffs_5mC/5mC_hc_tombo_sorted.CpG.plus.cutoff.0.80.bed\n",
      "/home/anjuni/methylation_calling/pacbio/input/sorted_bed_files/cutoffs_5mC/5mC_hc_tombo_sorted.CpG.plus.cutoff.0.95.bed\n",
      "/home/anjuni/methylation_calling/pacbio/input/sorted_bed_files/cutoffs_5mC/5mC_hc_tombo_sorted.CpG.plus.cutoff.0.10.bed\n",
      "/home/anjuni/methylation_calling/pacbio/input/sorted_bed_files/cutoffs_5mC/5mC_hc_tombo_sorted.CpG.plus.cutoff.0.50.bed\n",
      "/home/anjuni/methylation_calling/pacbio/input/sorted_bed_files/cutoffs_5mC/5mC_hc_tombo_sorted.CpG.plus.cutoff.0.99.bed\n",
      "/home/anjuni/methylation_calling/pacbio/input/sorted_bed_files/cutoffs_5mC/5mC_hc_tombo_sorted.CpG.plus.cutoff.1.00.bed\n",
      "/home/anjuni/methylation_calling/pacbio/input/sorted_bed_files/cutoffs_5mC/5mC_hc_tombo_sorted.CpG.plus.cutoff.0.20.bed\n",
      "/home/anjuni/methylation_calling/pacbio/input/sorted_bed_files/cutoffs_5mC/5mC_hc_tombo_sorted.CpG.plus.cutoff.0.60.bed\n",
      "/home/anjuni/methylation_calling/pacbio/input/sorted_bed_files/cutoffs_5mC/5mC_hc_tombo_sorted.CpG.plus.cutoff.0.00.bed\n",
      "/home/anjuni/methylation_calling/pacbio/input/sorted_bed_files/cutoffs_5mC/5mC_hc_tombo_sorted.CpG.plus.cutoff.0.90.bed\n",
      "/home/anjuni/methylation_calling/pacbio/input/sorted_bed_files/cutoffs_5mC/5mC_hc_tombo_sorted.CpG.plus.cutoff.0.30.bed\n",
      "/home/anjuni/methylation_calling/pacbio/input/sorted_bed_files/cutoffs_5mC/5mC_hc_tombo_sorted.CpG.plus.cutoff.0.40.bed\n",
      "/home/anjuni/methylation_calling/pacbio/input/sorted_bed_files/cutoffs_5mC/5mC_hc_tombo_sorted.cutoff.0.90.bed\n",
      "/home/anjuni/methylation_calling/pacbio/input/sorted_bed_files/cutoffs_5mC/5mC_hc_tombo_sorted.cutoff.0.40.bed\n",
      "/home/anjuni/methylation_calling/pacbio/input/sorted_bed_files/cutoffs_5mC/5mC_hc_tombo_sorted.cutoff.0.80.bed\n",
      "/home/anjuni/methylation_calling/pacbio/input/sorted_bed_files/cutoffs_5mC/5mC_hc_tombo_sorted.cutoff.0.50.bed\n",
      "/home/anjuni/methylation_calling/pacbio/input/sorted_bed_files/cutoffs_5mC/5mC_hc_tombo_sorted.cutoff.0.20.bed\n",
      "/home/anjuni/methylation_calling/pacbio/input/sorted_bed_files/cutoffs_5mC/5mC_hc_tombo_sorted.cutoff.0.70.bed\n",
      "/home/anjuni/methylation_calling/pacbio/input/sorted_bed_files/cutoffs_5mC/5mC_hc_tombo_sorted.cutoff.1.00.bed\n",
      "/home/anjuni/methylation_calling/pacbio/input/sorted_bed_files/cutoffs_5mC/5mC_hc_tombo_sorted.cutoff.0.60.bed\n",
      "/home/anjuni/methylation_calling/pacbio/input/sorted_bed_files/cutoffs_5mC/5mC_hc_tombo_sorted.cutoff.0.30.bed\n",
      "/home/anjuni/methylation_calling/pacbio/input/sorted_bed_files/cutoffs_5mC/5mC_hc_tombo_sorted.cutoff.0.10.bed\n",
      "/home/anjuni/methylation_calling/pacbio/input/sorted_bed_files/cutoffs_5mC/5mC_hc_tombo_sorted.cutoff.0.99.bed\n",
      "/home/anjuni/methylation_calling/pacbio/input/sorted_bed_files/cutoffs_5mC/5mC_hc_tombo_sorted.cutoff.0.00.bed\n",
      "/home/anjuni/methylation_calling/pacbio/input/sorted_bed_files/cutoffs_5mC/5mC_hc_tombo_sorted.cutoff.0.95.bed\n"
     ]
    }
   ],
   "source": [
    "# make a list of 5mC cutoff files from Nanopolish and Tombo\n",
    "np_5mC = [fn for fn in glob.iglob('%s/5mC_hc_nanopolish*.bed' % DIRS['5MC_CUTOFFS'], recursive=True)]\n",
    "tombo_CpG_5mC = [fn for fn in glob.iglob('%s/5mC_hc_tombo_sorted.CpG.plus*.bed' % DIRS['5MC_CUTOFFS'], recursive=True)]\n",
    "tombo_5mC = [fn for fn in glob.iglob('%s/5mC_hc_tombo_sorted.c*.bed' % DIRS['5MC_CUTOFFS'], recursive=True)]\n",
    "\n",
    "#test out these lists by printing\n",
    "print(*np_5mC, sep='\\n')\n",
    "print(*tombo_CpG_5mC, sep='\\n')\n",
    "print(*tombo_5mC, sep='\\n')"
   ]
  },
  {
   "cell_type": "code",
   "execution_count": 506,
   "metadata": {},
   "outputs": [],
   "source": [
    "# the lists are not sorted, so sort them before doing cutoffs\n",
    "ont_6mA = sorted(ont_6mA)\n",
    "pb_6mA = sorted(pb_6mA)\n",
    "np_5mC = sorted(np_5mC)\n",
    "tombo_CpG_5mC = sorted(tombo_CpG_5mC)\n",
    "tombo_5mC = sorted(tombo_5mC)"
   ]
  },
  {
   "cell_type": "code",
   "execution_count": 507,
   "metadata": {
    "collapsed": true
   },
   "outputs": [
    {
     "name": "stdout",
     "output_type": "stream",
     "text": [
      "/home/anjuni/methylation_calling/pacbio/input/sorted_bed_files/cutoffs_6mA/6mA_hc_tombo_sorted.cutoff.0.00.bed\n",
      "/home/anjuni/methylation_calling/pacbio/input/sorted_bed_files/cutoffs_6mA/6mA_hc_tombo_sorted.cutoff.0.10.bed\n",
      "/home/anjuni/methylation_calling/pacbio/input/sorted_bed_files/cutoffs_6mA/6mA_hc_tombo_sorted.cutoff.0.20.bed\n",
      "/home/anjuni/methylation_calling/pacbio/input/sorted_bed_files/cutoffs_6mA/6mA_hc_tombo_sorted.cutoff.0.30.bed\n",
      "/home/anjuni/methylation_calling/pacbio/input/sorted_bed_files/cutoffs_6mA/6mA_hc_tombo_sorted.cutoff.0.40.bed\n",
      "/home/anjuni/methylation_calling/pacbio/input/sorted_bed_files/cutoffs_6mA/6mA_hc_tombo_sorted.cutoff.0.50.bed\n",
      "/home/anjuni/methylation_calling/pacbio/input/sorted_bed_files/cutoffs_6mA/6mA_hc_tombo_sorted.cutoff.0.60.bed\n",
      "/home/anjuni/methylation_calling/pacbio/input/sorted_bed_files/cutoffs_6mA/6mA_hc_tombo_sorted.cutoff.0.70.bed\n",
      "/home/anjuni/methylation_calling/pacbio/input/sorted_bed_files/cutoffs_6mA/6mA_hc_tombo_sorted.cutoff.0.80.bed\n",
      "/home/anjuni/methylation_calling/pacbio/input/sorted_bed_files/cutoffs_6mA/6mA_hc_tombo_sorted.cutoff.0.90.bed\n",
      "/home/anjuni/methylation_calling/pacbio/input/sorted_bed_files/cutoffs_6mA/6mA_hc_tombo_sorted.cutoff.0.95.bed\n",
      "/home/anjuni/methylation_calling/pacbio/input/sorted_bed_files/cutoffs_6mA/6mA_hc_tombo_sorted.cutoff.0.99.bed\n",
      "/home/anjuni/methylation_calling/pacbio/input/sorted_bed_files/cutoffs_6mA/6mA_hc_tombo_sorted.cutoff.1.00.bed\n",
      "/home/anjuni/methylation_calling/pacbio/input/sorted_bed_files/cutoffs_6mA/6mA_prob_smrtlink_sorted.cutoff.0.00.bed\n",
      "/home/anjuni/methylation_calling/pacbio/input/sorted_bed_files/cutoffs_6mA/6mA_prob_smrtlink_sorted.cutoff.0.10.bed\n",
      "/home/anjuni/methylation_calling/pacbio/input/sorted_bed_files/cutoffs_6mA/6mA_prob_smrtlink_sorted.cutoff.0.20.bed\n",
      "/home/anjuni/methylation_calling/pacbio/input/sorted_bed_files/cutoffs_6mA/6mA_prob_smrtlink_sorted.cutoff.0.30.bed\n",
      "/home/anjuni/methylation_calling/pacbio/input/sorted_bed_files/cutoffs_6mA/6mA_prob_smrtlink_sorted.cutoff.0.40.bed\n",
      "/home/anjuni/methylation_calling/pacbio/input/sorted_bed_files/cutoffs_6mA/6mA_prob_smrtlink_sorted.cutoff.0.50.bed\n",
      "/home/anjuni/methylation_calling/pacbio/input/sorted_bed_files/cutoffs_6mA/6mA_prob_smrtlink_sorted.cutoff.0.60.bed\n",
      "/home/anjuni/methylation_calling/pacbio/input/sorted_bed_files/cutoffs_6mA/6mA_prob_smrtlink_sorted.cutoff.0.70.bed\n",
      "/home/anjuni/methylation_calling/pacbio/input/sorted_bed_files/cutoffs_6mA/6mA_prob_smrtlink_sorted.cutoff.0.80.bed\n",
      "/home/anjuni/methylation_calling/pacbio/input/sorted_bed_files/cutoffs_6mA/6mA_prob_smrtlink_sorted.cutoff.0.90.bed\n",
      "/home/anjuni/methylation_calling/pacbio/input/sorted_bed_files/cutoffs_6mA/6mA_prob_smrtlink_sorted.cutoff.0.95.bed\n",
      "/home/anjuni/methylation_calling/pacbio/input/sorted_bed_files/cutoffs_6mA/6mA_prob_smrtlink_sorted.cutoff.0.99.bed\n",
      "/home/anjuni/methylation_calling/pacbio/input/sorted_bed_files/cutoffs_6mA/6mA_prob_smrtlink_sorted.cutoff.1.00.bed\n",
      "/home/anjuni/methylation_calling/pacbio/input/sorted_bed_files/cutoffs_5mC/5mC_hc_nanopolish_sorted.cutoff.0.00.bed\n",
      "/home/anjuni/methylation_calling/pacbio/input/sorted_bed_files/cutoffs_5mC/5mC_hc_nanopolish_sorted.cutoff.0.10.bed\n",
      "/home/anjuni/methylation_calling/pacbio/input/sorted_bed_files/cutoffs_5mC/5mC_hc_nanopolish_sorted.cutoff.0.20.bed\n",
      "/home/anjuni/methylation_calling/pacbio/input/sorted_bed_files/cutoffs_5mC/5mC_hc_nanopolish_sorted.cutoff.0.30.bed\n",
      "/home/anjuni/methylation_calling/pacbio/input/sorted_bed_files/cutoffs_5mC/5mC_hc_nanopolish_sorted.cutoff.0.40.bed\n",
      "/home/anjuni/methylation_calling/pacbio/input/sorted_bed_files/cutoffs_5mC/5mC_hc_nanopolish_sorted.cutoff.0.50.bed\n",
      "/home/anjuni/methylation_calling/pacbio/input/sorted_bed_files/cutoffs_5mC/5mC_hc_nanopolish_sorted.cutoff.0.60.bed\n",
      "/home/anjuni/methylation_calling/pacbio/input/sorted_bed_files/cutoffs_5mC/5mC_hc_nanopolish_sorted.cutoff.0.70.bed\n",
      "/home/anjuni/methylation_calling/pacbio/input/sorted_bed_files/cutoffs_5mC/5mC_hc_nanopolish_sorted.cutoff.0.80.bed\n",
      "/home/anjuni/methylation_calling/pacbio/input/sorted_bed_files/cutoffs_5mC/5mC_hc_nanopolish_sorted.cutoff.0.90.bed\n",
      "/home/anjuni/methylation_calling/pacbio/input/sorted_bed_files/cutoffs_5mC/5mC_hc_nanopolish_sorted.cutoff.0.95.bed\n",
      "/home/anjuni/methylation_calling/pacbio/input/sorted_bed_files/cutoffs_5mC/5mC_hc_nanopolish_sorted.cutoff.0.99.bed\n",
      "/home/anjuni/methylation_calling/pacbio/input/sorted_bed_files/cutoffs_5mC/5mC_hc_nanopolish_sorted.cutoff.1.00.bed\n",
      "/home/anjuni/methylation_calling/pacbio/input/sorted_bed_files/cutoffs_5mC/5mC_hc_tombo_sorted.CpG.plus.cutoff.0.00.bed\n",
      "/home/anjuni/methylation_calling/pacbio/input/sorted_bed_files/cutoffs_5mC/5mC_hc_tombo_sorted.CpG.plus.cutoff.0.10.bed\n",
      "/home/anjuni/methylation_calling/pacbio/input/sorted_bed_files/cutoffs_5mC/5mC_hc_tombo_sorted.CpG.plus.cutoff.0.20.bed\n",
      "/home/anjuni/methylation_calling/pacbio/input/sorted_bed_files/cutoffs_5mC/5mC_hc_tombo_sorted.CpG.plus.cutoff.0.30.bed\n",
      "/home/anjuni/methylation_calling/pacbio/input/sorted_bed_files/cutoffs_5mC/5mC_hc_tombo_sorted.CpG.plus.cutoff.0.40.bed\n",
      "/home/anjuni/methylation_calling/pacbio/input/sorted_bed_files/cutoffs_5mC/5mC_hc_tombo_sorted.CpG.plus.cutoff.0.50.bed\n",
      "/home/anjuni/methylation_calling/pacbio/input/sorted_bed_files/cutoffs_5mC/5mC_hc_tombo_sorted.CpG.plus.cutoff.0.60.bed\n",
      "/home/anjuni/methylation_calling/pacbio/input/sorted_bed_files/cutoffs_5mC/5mC_hc_tombo_sorted.CpG.plus.cutoff.0.70.bed\n",
      "/home/anjuni/methylation_calling/pacbio/input/sorted_bed_files/cutoffs_5mC/5mC_hc_tombo_sorted.CpG.plus.cutoff.0.80.bed\n",
      "/home/anjuni/methylation_calling/pacbio/input/sorted_bed_files/cutoffs_5mC/5mC_hc_tombo_sorted.CpG.plus.cutoff.0.90.bed\n",
      "/home/anjuni/methylation_calling/pacbio/input/sorted_bed_files/cutoffs_5mC/5mC_hc_tombo_sorted.CpG.plus.cutoff.0.95.bed\n",
      "/home/anjuni/methylation_calling/pacbio/input/sorted_bed_files/cutoffs_5mC/5mC_hc_tombo_sorted.CpG.plus.cutoff.0.99.bed\n",
      "/home/anjuni/methylation_calling/pacbio/input/sorted_bed_files/cutoffs_5mC/5mC_hc_tombo_sorted.CpG.plus.cutoff.1.00.bed\n",
      "/home/anjuni/methylation_calling/pacbio/input/sorted_bed_files/cutoffs_5mC/5mC_hc_tombo_sorted.cutoff.0.00.bed\n",
      "/home/anjuni/methylation_calling/pacbio/input/sorted_bed_files/cutoffs_5mC/5mC_hc_tombo_sorted.cutoff.0.10.bed\n",
      "/home/anjuni/methylation_calling/pacbio/input/sorted_bed_files/cutoffs_5mC/5mC_hc_tombo_sorted.cutoff.0.20.bed\n",
      "/home/anjuni/methylation_calling/pacbio/input/sorted_bed_files/cutoffs_5mC/5mC_hc_tombo_sorted.cutoff.0.30.bed\n",
      "/home/anjuni/methylation_calling/pacbio/input/sorted_bed_files/cutoffs_5mC/5mC_hc_tombo_sorted.cutoff.0.40.bed\n",
      "/home/anjuni/methylation_calling/pacbio/input/sorted_bed_files/cutoffs_5mC/5mC_hc_tombo_sorted.cutoff.0.50.bed\n",
      "/home/anjuni/methylation_calling/pacbio/input/sorted_bed_files/cutoffs_5mC/5mC_hc_tombo_sorted.cutoff.0.60.bed\n",
      "/home/anjuni/methylation_calling/pacbio/input/sorted_bed_files/cutoffs_5mC/5mC_hc_tombo_sorted.cutoff.0.70.bed\n",
      "/home/anjuni/methylation_calling/pacbio/input/sorted_bed_files/cutoffs_5mC/5mC_hc_tombo_sorted.cutoff.0.80.bed\n",
      "/home/anjuni/methylation_calling/pacbio/input/sorted_bed_files/cutoffs_5mC/5mC_hc_tombo_sorted.cutoff.0.90.bed\n",
      "/home/anjuni/methylation_calling/pacbio/input/sorted_bed_files/cutoffs_5mC/5mC_hc_tombo_sorted.cutoff.0.95.bed\n",
      "/home/anjuni/methylation_calling/pacbio/input/sorted_bed_files/cutoffs_5mC/5mC_hc_tombo_sorted.cutoff.0.99.bed\n",
      "/home/anjuni/methylation_calling/pacbio/input/sorted_bed_files/cutoffs_5mC/5mC_hc_tombo_sorted.cutoff.1.00.bed\n"
     ]
    }
   ],
   "source": [
    "#Check if it worked. (It did!) :D\n",
    "print(*ont_6mA, sep='\\n')\n",
    "print(*pb_6mA, sep='\\n')\n",
    "print(*np_5mC, sep='\\n')\n",
    "print(*tombo_CpG_5mC, sep='\\n')\n",
    "print(*tombo_5mC, sep='\\n')"
   ]
  },
  {
   "cell_type": "code",
   "execution_count": 436,
   "metadata": {},
   "outputs": [],
   "source": [
    "# make the filepaths for intersects output\n",
    "DIRS['I_FROM_C'] = os.path.join(DIRS['BASE2'], 'bedtools_output', 'intersects_from_cutoffs')"
   ]
  },
  {
   "cell_type": "code",
   "execution_count": 494,
   "metadata": {},
   "outputs": [],
   "source": [
    "# make a for loop to take a list of cutoffs, and a list of -a files and a list of -b files to intersect\n",
    "def intersect_cutoffs(list_a, list_b, n_cutoffs, mod, a_name, b_name):\n",
    "    \"\"\"Take a list of files and intersect them with another list of files, where files are matched by methylation cutoff. Other required inputs are the number of cutoffs in the list, the modification, and the names to be used in the outfile to signify the BED file from list a and b.\"\"\"\n",
    "    for i in range(n_cutoffs): # go through each element in the sorted list, pairing them up\n",
    "        a_bed = BedTool(list_a[i])\n",
    "        b_bed = BedTool(list_b[i])\n",
    "        cutoff_suffix = list_a[i][-16:] # get cutoff value from one of the files\n",
    "        out_name = mod + '_' + a_name + '_' + b_name + cutoff_suffix # make a new file name with the two intersected files, basemod type and cutoff\n",
    "        out_file = os.path.join(DIRS['I_FROM_C'], out_name) # make the file path\n",
    "        intersected_cutoff = a_bed.intersect(b_bed).saveas(out_file) # save out the intersected file"
   ]
  },
  {
   "cell_type": "code",
   "execution_count": null,
   "metadata": {},
   "outputs": [],
   "source": [
    "# Run intersect cutoffs for 6mA and 5mC\n",
    "intersect_cutoffs(ont_6mA, pb_6mA, 13, '6mA', 'tombo', 'smrtlink')\n",
    "intersect_cutoffs(tombo_CpG_5mC, np_5mC, 13, '5mC', 'tombo', 'nanopolish')"
   ]
  },
  {
   "cell_type": "code",
   "execution_count": null,
   "metadata": {},
   "outputs": [],
   "source": [
    "%%bash\n",
    "\n",
    "# Make one directory that contains cutoffs of all 4 bed files for use in downstream analysis\n",
    "cd /home/anjuni/analysis/coverage\n",
    "mkdir feature_files\n",
    "cp ../bedtools_output/intersects_from_cutoffs/* feature_files\n",
    "cp ../../methylation_calling/pacbio/input/sorted_bed_files/cutoffs_5mC/5mC_hc_tombo_sorted.cutoff.* feature_files\n",
    "cp ../../methylation_calling/pacbio/input/sorted_bed_files/cutoffs_6mA/6mA_hc_tombo_sorted.cutoff.* feature_files"
   ]
  },
  {
   "cell_type": "code",
   "execution_count": 508,
   "metadata": {},
   "outputs": [],
   "source": [
    "# Make lists of cutoffs from each of the BED files for use in analysis in the new folder\n",
    "# Remake the lists for the old ones under new names\n",
    "\n",
    "# set filepaths for feature inputs\n",
    "DIRS['FEATURES'] = os.path.join(DIRS['BASE2'], 'coverage', 'feature_files')\n",
    "\n",
    "intersected_5mC = [fn for fn in glob.iglob('%s/5mC_t*.bed' % DIRS['FEATURES'], recursive=True)]\n",
    "intersected_6mA = [fn for fn in glob.iglob('%s/6mA_t*.bed' % DIRS['FEATURES'], recursive=True)]\n",
    "hc_tombo_5mC = [fn for fn in glob.iglob('%s/5mC_h*.bed' % DIRS['FEATURES'], recursive=True)]\n",
    "hc_tombo_6mA = [fn for fn in glob.iglob('%s/6mA_h*.bed' % DIRS['FEATURES'], recursive=True)]"
   ]
  },
  {
   "cell_type": "code",
   "execution_count": 509,
   "metadata": {
    "collapsed": true
   },
   "outputs": [
    {
     "name": "stdout",
     "output_type": "stream",
     "text": [
      "['/home/anjuni/analysis/coverage/feature_files/5mC_tombo_nanopolish.cutoff.0.10.bed',\n",
      " '/home/anjuni/analysis/coverage/feature_files/5mC_tombo_nanopolish.cutoff.0.90.bed',\n",
      " '/home/anjuni/analysis/coverage/feature_files/5mC_tombo_nanopolish.cutoff.0.50.bed',\n",
      " '/home/anjuni/analysis/coverage/feature_files/5mC_tombo_nanopolish.cutoff.0.20.bed',\n",
      " '/home/anjuni/analysis/coverage/feature_files/5mC_tombo_nanopolish.cutoff.0.99.bed',\n",
      " '/home/anjuni/analysis/coverage/feature_files/5mC_tombo_nanopolish.cutoff.0.40.bed',\n",
      " '/home/anjuni/analysis/coverage/feature_files/5mC_tombo_nanopolish.cutoff.0.70.bed',\n",
      " '/home/anjuni/analysis/coverage/feature_files/5mC_tombo_nanopolish.cutoff.0.80.bed',\n",
      " '/home/anjuni/analysis/coverage/feature_files/5mC_tombo_nanopolish.cutoff.0.00.bed',\n",
      " '/home/anjuni/analysis/coverage/feature_files/5mC_tombo_nanopolish.cutoff.0.30.bed',\n",
      " '/home/anjuni/analysis/coverage/feature_files/5mC_tombo_nanopolish.cutoff.0.95.bed',\n",
      " '/home/anjuni/analysis/coverage/feature_files/5mC_tombo_nanopolish.cutoff.0.60.bed',\n",
      " '/home/anjuni/analysis/coverage/feature_files/5mC_tombo_nanopolish.cutoff.1.00.bed']\n",
      "['/home/anjuni/analysis/coverage/feature_files/6mA_tombo_smrtlink.cutoff.0.95.bed',\n",
      " '/home/anjuni/analysis/coverage/feature_files/6mA_tombo_smrtlink.cutoff.0.80.bed',\n",
      " '/home/anjuni/analysis/coverage/feature_files/6mA_tombo_smrtlink.cutoff.0.30.bed',\n",
      " '/home/anjuni/analysis/coverage/feature_files/6mA_tombo_smrtlink.cutoff.0.00.bed',\n",
      " '/home/anjuni/analysis/coverage/feature_files/6mA_tombo_smrtlink.cutoff.0.50.bed',\n",
      " '/home/anjuni/analysis/coverage/feature_files/6mA_tombo_smrtlink.cutoff.0.10.bed',\n",
      " '/home/anjuni/analysis/coverage/feature_files/6mA_tombo_smrtlink.cutoff.0.70.bed',\n",
      " '/home/anjuni/analysis/coverage/feature_files/6mA_tombo_smrtlink.cutoff.0.90.bed',\n",
      " '/home/anjuni/analysis/coverage/feature_files/6mA_tombo_smrtlink.cutoff.0.60.bed',\n",
      " '/home/anjuni/analysis/coverage/feature_files/6mA_tombo_smrtlink.cutoff.0.20.bed',\n",
      " '/home/anjuni/analysis/coverage/feature_files/6mA_tombo_smrtlink.cutoff.0.40.bed',\n",
      " '/home/anjuni/analysis/coverage/feature_files/6mA_tombo_smrtlink.cutoff.1.00.bed',\n",
      " '/home/anjuni/analysis/coverage/feature_files/6mA_tombo_smrtlink.cutoff.0.99.bed']\n",
      "['/home/anjuni/analysis/coverage/feature_files/5mC_hc_tombo_sorted.cutoff.0.90.bed',\n",
      " '/home/anjuni/analysis/coverage/feature_files/5mC_hc_tombo_sorted.cutoff.0.40.bed',\n",
      " '/home/anjuni/analysis/coverage/feature_files/5mC_hc_tombo_sorted.cutoff.0.80.bed',\n",
      " '/home/anjuni/analysis/coverage/feature_files/5mC_hc_tombo_sorted.cutoff.0.50.bed',\n",
      " '/home/anjuni/analysis/coverage/feature_files/5mC_hc_tombo_sorted.cutoff.0.20.bed',\n",
      " '/home/anjuni/analysis/coverage/feature_files/5mC_hc_tombo_sorted.cutoff.0.70.bed',\n",
      " '/home/anjuni/analysis/coverage/feature_files/5mC_hc_tombo_sorted.cutoff.1.00.bed',\n",
      " '/home/anjuni/analysis/coverage/feature_files/5mC_hc_tombo_sorted.cutoff.0.60.bed',\n",
      " '/home/anjuni/analysis/coverage/feature_files/5mC_hc_tombo_sorted.cutoff.0.30.bed',\n",
      " '/home/anjuni/analysis/coverage/feature_files/5mC_hc_tombo_sorted.cutoff.0.10.bed',\n",
      " '/home/anjuni/analysis/coverage/feature_files/5mC_hc_tombo_sorted.cutoff.0.99.bed',\n",
      " '/home/anjuni/analysis/coverage/feature_files/5mC_hc_tombo_sorted.cutoff.0.00.bed',\n",
      " '/home/anjuni/analysis/coverage/feature_files/5mC_hc_tombo_sorted.cutoff.0.95.bed']\n",
      "['/home/anjuni/analysis/coverage/feature_files/6mA_hc_tombo_sorted.cutoff.0.90.bed',\n",
      " '/home/anjuni/analysis/coverage/feature_files/6mA_hc_tombo_sorted.cutoff.0.60.bed',\n",
      " '/home/anjuni/analysis/coverage/feature_files/6mA_hc_tombo_sorted.cutoff.0.30.bed',\n",
      " '/home/anjuni/analysis/coverage/feature_files/6mA_hc_tombo_sorted.cutoff.0.80.bed',\n",
      " '/home/anjuni/analysis/coverage/feature_files/6mA_hc_tombo_sorted.cutoff.0.70.bed',\n",
      " '/home/anjuni/analysis/coverage/feature_files/6mA_hc_tombo_sorted.cutoff.0.20.bed',\n",
      " '/home/anjuni/analysis/coverage/feature_files/6mA_hc_tombo_sorted.cutoff.0.10.bed',\n",
      " '/home/anjuni/analysis/coverage/feature_files/6mA_hc_tombo_sorted.cutoff.0.40.bed',\n",
      " '/home/anjuni/analysis/coverage/feature_files/6mA_hc_tombo_sorted.cutoff.0.99.bed',\n",
      " '/home/anjuni/analysis/coverage/feature_files/6mA_hc_tombo_sorted.cutoff.1.00.bed',\n",
      " '/home/anjuni/analysis/coverage/feature_files/6mA_hc_tombo_sorted.cutoff.0.95.bed',\n",
      " '/home/anjuni/analysis/coverage/feature_files/6mA_hc_tombo_sorted.cutoff.0.00.bed',\n",
      " '/home/anjuni/analysis/coverage/feature_files/6mA_hc_tombo_sorted.cutoff.0.50.bed']\n"
     ]
    }
   ],
   "source": [
    "# Print lists to check they worked\n",
    "pprint.pprint(intersected_5mC)\n",
    "pprint.pprint(intersected_6mA)\n",
    "pprint.pprint(hc_tombo_5mC)\n",
    "pprint.pprint(hc_tombo_6mA)"
   ]
  },
  {
   "cell_type": "code",
   "execution_count": 510,
   "metadata": {},
   "outputs": [],
   "source": [
    "# These lists are not sorted, so sort them before doing windows\n",
    "intersected_5mC.sort()\n",
    "intersected_6mA.sort()\n",
    "hc_tombo_5mC.sort()\n",
    "hc_tombo_6mA.sort()"
   ]
  },
  {
   "cell_type": "code",
   "execution_count": 1276,
   "metadata": {
    "collapsed": true
   },
   "outputs": [
    {
     "name": "stdout",
     "output_type": "stream",
     "text": [
      "['/home/anjuni/analysis/coverage/feature_files/5mC_tombo_nanopolish.cutoff.0.00.bed',\n",
      " '/home/anjuni/analysis/coverage/feature_files/5mC_tombo_nanopolish.cutoff.0.10.bed',\n",
      " '/home/anjuni/analysis/coverage/feature_files/5mC_tombo_nanopolish.cutoff.0.20.bed',\n",
      " '/home/anjuni/analysis/coverage/feature_files/5mC_tombo_nanopolish.cutoff.0.30.bed',\n",
      " '/home/anjuni/analysis/coverage/feature_files/5mC_tombo_nanopolish.cutoff.0.40.bed',\n",
      " '/home/anjuni/analysis/coverage/feature_files/5mC_tombo_nanopolish.cutoff.0.50.bed',\n",
      " '/home/anjuni/analysis/coverage/feature_files/5mC_tombo_nanopolish.cutoff.0.60.bed',\n",
      " '/home/anjuni/analysis/coverage/feature_files/5mC_tombo_nanopolish.cutoff.0.70.bed',\n",
      " '/home/anjuni/analysis/coverage/feature_files/5mC_tombo_nanopolish.cutoff.0.80.bed',\n",
      " '/home/anjuni/analysis/coverage/feature_files/5mC_tombo_nanopolish.cutoff.0.90.bed',\n",
      " '/home/anjuni/analysis/coverage/feature_files/5mC_tombo_nanopolish.cutoff.0.95.bed',\n",
      " '/home/anjuni/analysis/coverage/feature_files/5mC_tombo_nanopolish.cutoff.0.99.bed',\n",
      " '/home/anjuni/analysis/coverage/feature_files/5mC_tombo_nanopolish.cutoff.1.00.bed']\n",
      "['/home/anjuni/analysis/coverage/feature_files/6mA_tombo_smrtlink.cutoff.0.00.bed',\n",
      " '/home/anjuni/analysis/coverage/feature_files/6mA_tombo_smrtlink.cutoff.0.10.bed',\n",
      " '/home/anjuni/analysis/coverage/feature_files/6mA_tombo_smrtlink.cutoff.0.20.bed',\n",
      " '/home/anjuni/analysis/coverage/feature_files/6mA_tombo_smrtlink.cutoff.0.30.bed',\n",
      " '/home/anjuni/analysis/coverage/feature_files/6mA_tombo_smrtlink.cutoff.0.40.bed',\n",
      " '/home/anjuni/analysis/coverage/feature_files/6mA_tombo_smrtlink.cutoff.0.50.bed',\n",
      " '/home/anjuni/analysis/coverage/feature_files/6mA_tombo_smrtlink.cutoff.0.60.bed',\n",
      " '/home/anjuni/analysis/coverage/feature_files/6mA_tombo_smrtlink.cutoff.0.70.bed',\n",
      " '/home/anjuni/analysis/coverage/feature_files/6mA_tombo_smrtlink.cutoff.0.80.bed',\n",
      " '/home/anjuni/analysis/coverage/feature_files/6mA_tombo_smrtlink.cutoff.0.90.bed',\n",
      " '/home/anjuni/analysis/coverage/feature_files/6mA_tombo_smrtlink.cutoff.0.95.bed',\n",
      " '/home/anjuni/analysis/coverage/feature_files/6mA_tombo_smrtlink.cutoff.0.99.bed',\n",
      " '/home/anjuni/analysis/coverage/feature_files/6mA_tombo_smrtlink.cutoff.1.00.bed']\n",
      "['/home/anjuni/analysis/coverage/feature_files/5mC_hc_tombo_sorted.cutoff.0.00.bed',\n",
      " '/home/anjuni/analysis/coverage/feature_files/5mC_hc_tombo_sorted.cutoff.0.10.bed',\n",
      " '/home/anjuni/analysis/coverage/feature_files/5mC_hc_tombo_sorted.cutoff.0.20.bed',\n",
      " '/home/anjuni/analysis/coverage/feature_files/5mC_hc_tombo_sorted.cutoff.0.30.bed',\n",
      " '/home/anjuni/analysis/coverage/feature_files/5mC_hc_tombo_sorted.cutoff.0.40.bed',\n",
      " '/home/anjuni/analysis/coverage/feature_files/5mC_hc_tombo_sorted.cutoff.0.50.bed',\n",
      " '/home/anjuni/analysis/coverage/feature_files/5mC_hc_tombo_sorted.cutoff.0.60.bed',\n",
      " '/home/anjuni/analysis/coverage/feature_files/5mC_hc_tombo_sorted.cutoff.0.70.bed',\n",
      " '/home/anjuni/analysis/coverage/feature_files/5mC_hc_tombo_sorted.cutoff.0.80.bed',\n",
      " '/home/anjuni/analysis/coverage/feature_files/5mC_hc_tombo_sorted.cutoff.0.90.bed',\n",
      " '/home/anjuni/analysis/coverage/feature_files/5mC_hc_tombo_sorted.cutoff.0.95.bed',\n",
      " '/home/anjuni/analysis/coverage/feature_files/5mC_hc_tombo_sorted.cutoff.0.99.bed',\n",
      " '/home/anjuni/analysis/coverage/feature_files/5mC_hc_tombo_sorted.cutoff.1.00.bed']\n",
      "['/home/anjuni/analysis/coverage/feature_files/6mA_hc_tombo_sorted.cutoff.0.00.bed',\n",
      " '/home/anjuni/analysis/coverage/feature_files/6mA_hc_tombo_sorted.cutoff.0.10.bed',\n",
      " '/home/anjuni/analysis/coverage/feature_files/6mA_hc_tombo_sorted.cutoff.0.20.bed',\n",
      " '/home/anjuni/analysis/coverage/feature_files/6mA_hc_tombo_sorted.cutoff.0.30.bed',\n",
      " '/home/anjuni/analysis/coverage/feature_files/6mA_hc_tombo_sorted.cutoff.0.40.bed',\n",
      " '/home/anjuni/analysis/coverage/feature_files/6mA_hc_tombo_sorted.cutoff.0.50.bed',\n",
      " '/home/anjuni/analysis/coverage/feature_files/6mA_hc_tombo_sorted.cutoff.0.60.bed',\n",
      " '/home/anjuni/analysis/coverage/feature_files/6mA_hc_tombo_sorted.cutoff.0.70.bed',\n",
      " '/home/anjuni/analysis/coverage/feature_files/6mA_hc_tombo_sorted.cutoff.0.80.bed',\n",
      " '/home/anjuni/analysis/coverage/feature_files/6mA_hc_tombo_sorted.cutoff.0.90.bed',\n",
      " '/home/anjuni/analysis/coverage/feature_files/6mA_hc_tombo_sorted.cutoff.0.95.bed',\n",
      " '/home/anjuni/analysis/coverage/feature_files/6mA_hc_tombo_sorted.cutoff.0.99.bed',\n",
      " '/home/anjuni/analysis/coverage/feature_files/6mA_hc_tombo_sorted.cutoff.1.00.bed']\n"
     ]
    }
   ],
   "source": [
    "# Print sorted lists to check they worked (they did! time for windows)\n",
    "pprint.pprint(intersected_5mC)\n",
    "pprint.pprint(intersected_6mA)\n",
    "pprint.pprint(hc_tombo_5mC)\n",
    "pprint.pprint(hc_tombo_6mA)"
   ]
  },
  {
   "cell_type": "markdown",
   "metadata": {},
   "source": [
    "### <span style='color:#8a14ff'> 3.B Making a table for the cutoff files. <span/>"
   ]
  },
  {
   "cell_type": "code",
   "execution_count": null,
   "metadata": {},
   "outputs": [],
   "source": [
    "# Gather the lists to be used as inputs\n",
    "pprint.pprint(np_5mC)\n",
    "pprint.pprint(tombo_CpG_5mC)\n",
    "pprint.pprint(pb_6mA)\n",
    "pprint.pprint(ont_6mA)\n",
    "pprint.pprint(intersected_5mC)\n",
    "pprint.pprint(intersected_6mA)"
   ]
  },
  {
   "cell_type": "code",
   "execution_count": 1328,
   "metadata": {},
   "outputs": [],
   "source": [
    "# Write the function to count sites\n",
    "def make_site_count_list(fn_list):\n",
    "    \"\"\"This is a function that returns a list of the number of lines in a file, when a list of files is given as input.\"\"\"\n",
    "    site_count_list = []\n",
    "    for fn in fn_list:\n",
    "        count = 0\n",
    "        with open(fn, 'r') as infile:\n",
    "            for line in infile:\n",
    "                count += 1\n",
    "        site_count_list.append(count)\n",
    "    return site_count_list"
   ]
  },
  {
   "cell_type": "code",
   "execution_count": 1329,
   "metadata": {},
   "outputs": [],
   "source": [
    "np_5mC_count_list = make_site_count_list(np_5mC)\n",
    "tombo_CpG_5mC_count_list = make_site_count_list(tombo_CpG_5mC)\n",
    "pb_6mA_count_list = make_site_count_list(pb_6mA)\n",
    "ont_6mA_count_list = make_site_count_list(ont_6mA)\n",
    "intersected_5mC_count_list = make_site_count_list(intersected_5mC)\n",
    "intersected_6mA_count_list = make_site_count_list(intersected_6mA)"
   ]
  },
  {
   "cell_type": "code",
   "execution_count": 1331,
   "metadata": {
    "collapsed": true
   },
   "outputs": [
    {
     "name": "stdout",
     "output_type": "stream",
     "text": [
      "[3783438, 2655129, 2408326, 2329892, 2287038, 2249995, 2195581, 2122684, 1995419, 1597784, 1068255, 609093, 608808]\n",
      "[5167951, 5123192, 4970628, 4660551, 4184707, 3511671, 2414941, 1380931, 681458, 249792, 140848, 120970, 120970]\n",
      "[88932, 88932, 88932, 88932, 88932, 88932, 88932, 88932, 88932, 88932, 88932, 88932, 68]\n",
      "[83451878, 80777279, 73301535, 61332775, 47837744, 34554267, 19402593, 8986431, 3668473, 1333195, 928352, 882625, 882625]\n",
      "[3708640, 2581835, 2313616, 2174002, 2025031, 1823390, 1439138, 953767, 502953, 151839, 53649, 30708, 30691]\n",
      "[84733, 77694, 66199, 53979, 42461, 31857, 19602, 10085, 4457, 1380, 622, 507, 0]\n"
     ]
    }
   ],
   "source": [
    "print(np_5mC_count_list)\n",
    "print(tombo_CpG_5mC_count_list)\n",
    "print(pb_6mA_count_list)\n",
    "print(ont_6mA_count_list)\n",
    "print(intersected_5mC_count_list)\n",
    "print(intersected_6mA_count_list)"
   ]
  },
  {
   "cell_type": "code",
   "execution_count": 1379,
   "metadata": {},
   "outputs": [],
   "source": [
    "# Make a list of percentage overlap\n",
    "def make_percent_overlap_list(intersect_list, smaller_file_list):\n",
    "    \"\"\"Calculates percentage of intersection as a proportion of the smaller input file.\"\"\"\n",
    "    percent_list = []\n",
    "    for i in range(len(intersect_list)):\n",
    "        if intersect_list[i] == 0:\n",
    "            percent = float(0)\n",
    "            percent_list.append(percent)\n",
    "        else:\n",
    "            percent = intersect_list[i] / smaller_file_list[i]\n",
    "            percent = 100*percent\n",
    "            percent_list.append(percent)\n",
    "    return percent_list"
   ]
  },
  {
   "cell_type": "code",
   "execution_count": 1380,
   "metadata": {},
   "outputs": [],
   "source": [
    "percent_overlap_5mC = make_percent_overlap_list(intersected_5mC_count_list, np_5mC_count_list)\n",
    "percent_overlap_6mA = make_percent_overlap_list(intersected_6mA_count_list, pb_6mA_count_list)"
   ]
  },
  {
   "cell_type": "code",
   "execution_count": 1367,
   "metadata": {},
   "outputs": [],
   "source": [
    "cutoff_5mC = {}\n",
    "cutoff_5mC['Tombo Sites'] = tombo_CpG_5mC_count_list\n",
    "cutoff_5mC['Nanopolish Sites'] = np_5mC_count_list\n",
    "cutoff_5mC['Overlapping Sites'] = intersected_5mC_count_list\n",
    "cutoff_5mC['Methylated Fraction Cutoff'] = cutoff_list\n",
    "cutoff_5mC['Percentage Overlap (%)'] = percent_overlap_5mC"
   ]
  },
  {
   "cell_type": "code",
   "execution_count": 1381,
   "metadata": {},
   "outputs": [],
   "source": [
    "cutoff_6mA = {}\n",
    "cutoff_6mA['PacBio Sites'] = pb_6mA_count_list\n",
    "cutoff_6mA['Nanopore Sites'] = ont_6mA_count_list\n",
    "cutoff_6mA['Overlapping Sites'] = intersected_6mA_count_list\n",
    "cutoff_6mA['Methylated Fraction Cutoff'] = cutoff_list\n",
    "cutoff_6mA['Percentage Overlap (%)'] = percent_overlap_6mA"
   ]
  },
  {
   "cell_type": "code",
   "execution_count": 1383,
   "metadata": {},
   "outputs": [],
   "source": [
    "# Save the dataframes as csv files for 5mC and 6mA\n",
    "df = pd.DataFrame.from_dict(cutoff_5mC)\n",
    "df = df [['Methylated Fraction Cutoff', 'Tombo Sites', 'Nanopolish Sites', 'Overlapping Sites', 'Percentage Overlap (%)']]\n",
    "df.to_csv(os.path.join(DIRS['FIGURES'], '5mC_cutoff_table'), header=True, index=None, sep='\\t')\n",
    "\n",
    "df = pd.DataFrame.from_dict(cutoff_6mA)\n",
    "df = df [['Methylated Fraction Cutoff', 'Nanopore Sites', 'PacBio Sites', 'Overlapping Sites', 'Percentage Overlap (%)']]\n",
    "df.to_csv(os.path.join(DIRS['FIGURES'], '6mA_cutoff_table'), header=True, index=None, sep='\\t')"
   ]
  },
  {
   "cell_type": "markdown",
   "metadata": {},
   "source": [
    "### <span style='color:#8a14ff'> 3.C Making random distributions of the same size as all the cutoff files. <span/>"
   ]
  },
  {
   "cell_type": "code",
   "execution_count": 533,
   "metadata": {},
   "outputs": [],
   "source": [
    "# Inputs needed:\n",
    "\n",
    "# file of all C in genome\n",
    "all_c = os.path.join(DIRS['BASE1'], 'input', 'sorted_bed_files', '5mC_tombo_sorted.bed')\n",
    "# file of all A in genome\n",
    "all_a = os.path.join(DIRS['BASE1'], 'input', 'sorted_bed_files', '6mA_tombo_sorted.bed')\n",
    "# file of all (+) strand CpG\n",
    "all_cpg = os.path.join(DIRS['BASE1'], 'input', 'sorted_bed_files', '5mC_hc_tombo_sorted.CpG.plus.bed')"
   ]
  },
  {
   "cell_type": "code",
   "execution_count": 537,
   "metadata": {},
   "outputs": [],
   "source": [
    "# Function to count the number of sites in each cutoff file\n",
    "def count_sites(file_list):\n",
    "    \"\"\"Outputs a dictionary of each cutoff file and the number of sites it has.\"\"\"\n",
    "    count_dict = {}\n",
    "    for file in file_list:\n",
    "        with open(file) as in_file:\n",
    "            count = 0\n",
    "            for line in in_file:\n",
    "                count += 1\n",
    "        count_dict[file.split('/')[-1]] = count\n",
    "    return count_dict"
   ]
  },
  {
   "cell_type": "code",
   "execution_count": 859,
   "metadata": {},
   "outputs": [],
   "source": [
    "# Function to make the list of output randomisation file for each input cutoff file\n",
    "def out_rand_files(file_list):\n",
    "    \"\"\"Outputs a dictionary of output randomisation file paths for a given list of input file paths.\"\"\"\n",
    "    rand_dict = {}\n",
    "    for file in file_list:\n",
    "        out_name = file.replace('.bed', '_rand.bed')\n",
    "        out_name = out_name.replace('feature_files', 'randomisation')\n",
    "        rand_dict[file.split('/')[-1]] = out_name\n",
    "    return rand_dict"
   ]
  },
  {
   "cell_type": "code",
   "execution_count": 602,
   "metadata": {},
   "outputs": [],
   "source": [
    "# Make count dictionaries separated by modification type\n",
    "intersect_5mC_count_dict = count_sites(intersected_5mC)\n",
    "intersect_6mA_count_dict = count_sites(intersected_6mA)\n",
    "tombo_5mC_count_dict = count_sites(hc_tombo_5mC)\n",
    "tombo_6mA_count_dict = count_sites(hc_tombo_6mA)"
   ]
  },
  {
   "cell_type": "code",
   "execution_count": 611,
   "metadata": {
    "collapsed": true
   },
   "outputs": [
    {
     "name": "stdout",
     "output_type": "stream",
     "text": [
      "{'5mC_tombo_nanopolish.cutoff.0.00.bed': 3708640,\n",
      " '5mC_tombo_nanopolish.cutoff.0.10.bed': 2581835,\n",
      " '5mC_tombo_nanopolish.cutoff.0.20.bed': 2313616,\n",
      " '5mC_tombo_nanopolish.cutoff.0.30.bed': 2174002,\n",
      " '5mC_tombo_nanopolish.cutoff.0.40.bed': 2025031,\n",
      " '5mC_tombo_nanopolish.cutoff.0.50.bed': 1823390,\n",
      " '5mC_tombo_nanopolish.cutoff.0.60.bed': 1439138,\n",
      " '5mC_tombo_nanopolish.cutoff.0.70.bed': 953767,\n",
      " '5mC_tombo_nanopolish.cutoff.0.80.bed': 502953,\n",
      " '5mC_tombo_nanopolish.cutoff.0.90.bed': 151839,\n",
      " '5mC_tombo_nanopolish.cutoff.0.95.bed': 53649,\n",
      " '5mC_tombo_nanopolish.cutoff.0.99.bed': 30708,\n",
      " '5mC_tombo_nanopolish.cutoff.1.00.bed': 30691}\n",
      "{'6mA_tombo_smrtlink.cutoff.0.00.bed': 84733,\n",
      " '6mA_tombo_smrtlink.cutoff.0.10.bed': 77694,\n",
      " '6mA_tombo_smrtlink.cutoff.0.20.bed': 66199,\n",
      " '6mA_tombo_smrtlink.cutoff.0.30.bed': 53979,\n",
      " '6mA_tombo_smrtlink.cutoff.0.40.bed': 42461,\n",
      " '6mA_tombo_smrtlink.cutoff.0.50.bed': 31857,\n",
      " '6mA_tombo_smrtlink.cutoff.0.60.bed': 19602,\n",
      " '6mA_tombo_smrtlink.cutoff.0.70.bed': 10085,\n",
      " '6mA_tombo_smrtlink.cutoff.0.80.bed': 4457,\n",
      " '6mA_tombo_smrtlink.cutoff.0.90.bed': 1380,\n",
      " '6mA_tombo_smrtlink.cutoff.0.95.bed': 622,\n",
      " '6mA_tombo_smrtlink.cutoff.0.99.bed': 507,\n",
      " '6mA_tombo_smrtlink.cutoff.1.00.bed': 0}\n",
      "{'5mC_hc_tombo_sorted.cutoff.0.00.bed': 67308386,\n",
      " '5mC_hc_tombo_sorted.cutoff.0.10.bed': 65945899,\n",
      " '5mC_hc_tombo_sorted.cutoff.0.20.bed': 61792835,\n",
      " '5mC_hc_tombo_sorted.cutoff.0.30.bed': 54472350,\n",
      " '5mC_hc_tombo_sorted.cutoff.0.40.bed': 44908966,\n",
      " '5mC_hc_tombo_sorted.cutoff.0.50.bed': 33730885,\n",
      " '5mC_hc_tombo_sorted.cutoff.0.60.bed': 19107606,\n",
      " '5mC_hc_tombo_sorted.cutoff.0.70.bed': 8564581,\n",
      " '5mC_hc_tombo_sorted.cutoff.0.80.bed': 3463251,\n",
      " '5mC_hc_tombo_sorted.cutoff.0.90.bed': 1327297,\n",
      " '5mC_hc_tombo_sorted.cutoff.0.95.bed': 953483,\n",
      " '5mC_hc_tombo_sorted.cutoff.0.99.bed': 902981,\n",
      " '5mC_hc_tombo_sorted.cutoff.1.00.bed': 902980}\n",
      "{'6mA_hc_tombo_sorted.cutoff.0.00.bed': 83451878,\n",
      " '6mA_hc_tombo_sorted.cutoff.0.10.bed': 80777279,\n",
      " '6mA_hc_tombo_sorted.cutoff.0.20.bed': 73301535,\n",
      " '6mA_hc_tombo_sorted.cutoff.0.30.bed': 61332775,\n",
      " '6mA_hc_tombo_sorted.cutoff.0.40.bed': 47837744,\n",
      " '6mA_hc_tombo_sorted.cutoff.0.50.bed': 34554267,\n",
      " '6mA_hc_tombo_sorted.cutoff.0.60.bed': 19402593,\n",
      " '6mA_hc_tombo_sorted.cutoff.0.70.bed': 8986431,\n",
      " '6mA_hc_tombo_sorted.cutoff.0.80.bed': 3668473,\n",
      " '6mA_hc_tombo_sorted.cutoff.0.90.bed': 1333195,\n",
      " '6mA_hc_tombo_sorted.cutoff.0.95.bed': 928352,\n",
      " '6mA_hc_tombo_sorted.cutoff.0.99.bed': 882625,\n",
      " '6mA_hc_tombo_sorted.cutoff.1.00.bed': 882625}\n"
     ]
    }
   ],
   "source": [
    "pprint.pprint(intersect_5mC_count_dict)\n",
    "pprint.pprint(intersect_6mA_count_dict)\n",
    "pprint.pprint(tombo_5mC_count_dict)\n",
    "pprint.pprint(tombo_6mA_count_dict)"
   ]
  },
  {
   "cell_type": "code",
   "execution_count": 860,
   "metadata": {},
   "outputs": [],
   "source": [
    "# Make dictionaries of out files for everything\n",
    "intersect_5mC_rand_dict = out_rand_files(intersected_5mC)\n",
    "intersect_6mA_rand_dict = out_rand_files(intersected_6mA)\n",
    "tombo_5mC_rand_dict = out_rand_files(hc_tombo_5mC)\n",
    "tombo_6mA_rand_dict = out_rand_files(hc_tombo_6mA)"
   ]
  },
  {
   "cell_type": "code",
   "execution_count": 861,
   "metadata": {
    "collapsed": true
   },
   "outputs": [
    {
     "name": "stdout",
     "output_type": "stream",
     "text": [
      "{'5mC_tombo_nanopolish.cutoff.0.00.bed': '/home/anjuni/analysis/coverage/randomisation/5mC_tombo_nanopolish.cutoff.0.00_rand.bed',\n",
      " '5mC_tombo_nanopolish.cutoff.0.10.bed': '/home/anjuni/analysis/coverage/randomisation/5mC_tombo_nanopolish.cutoff.0.10_rand.bed',\n",
      " '5mC_tombo_nanopolish.cutoff.0.20.bed': '/home/anjuni/analysis/coverage/randomisation/5mC_tombo_nanopolish.cutoff.0.20_rand.bed',\n",
      " '5mC_tombo_nanopolish.cutoff.0.30.bed': '/home/anjuni/analysis/coverage/randomisation/5mC_tombo_nanopolish.cutoff.0.30_rand.bed',\n",
      " '5mC_tombo_nanopolish.cutoff.0.40.bed': '/home/anjuni/analysis/coverage/randomisation/5mC_tombo_nanopolish.cutoff.0.40_rand.bed',\n",
      " '5mC_tombo_nanopolish.cutoff.0.50.bed': '/home/anjuni/analysis/coverage/randomisation/5mC_tombo_nanopolish.cutoff.0.50_rand.bed',\n",
      " '5mC_tombo_nanopolish.cutoff.0.60.bed': '/home/anjuni/analysis/coverage/randomisation/5mC_tombo_nanopolish.cutoff.0.60_rand.bed',\n",
      " '5mC_tombo_nanopolish.cutoff.0.70.bed': '/home/anjuni/analysis/coverage/randomisation/5mC_tombo_nanopolish.cutoff.0.70_rand.bed',\n",
      " '5mC_tombo_nanopolish.cutoff.0.80.bed': '/home/anjuni/analysis/coverage/randomisation/5mC_tombo_nanopolish.cutoff.0.80_rand.bed',\n",
      " '5mC_tombo_nanopolish.cutoff.0.90.bed': '/home/anjuni/analysis/coverage/randomisation/5mC_tombo_nanopolish.cutoff.0.90_rand.bed',\n",
      " '5mC_tombo_nanopolish.cutoff.0.95.bed': '/home/anjuni/analysis/coverage/randomisation/5mC_tombo_nanopolish.cutoff.0.95_rand.bed',\n",
      " '5mC_tombo_nanopolish.cutoff.0.99.bed': '/home/anjuni/analysis/coverage/randomisation/5mC_tombo_nanopolish.cutoff.0.99_rand.bed',\n",
      " '5mC_tombo_nanopolish.cutoff.1.00.bed': '/home/anjuni/analysis/coverage/randomisation/5mC_tombo_nanopolish.cutoff.1.00_rand.bed'}\n",
      "{'6mA_tombo_smrtlink.cutoff.0.00.bed': '/home/anjuni/analysis/coverage/randomisation/6mA_tombo_smrtlink.cutoff.0.00_rand.bed',\n",
      " '6mA_tombo_smrtlink.cutoff.0.10.bed': '/home/anjuni/analysis/coverage/randomisation/6mA_tombo_smrtlink.cutoff.0.10_rand.bed',\n",
      " '6mA_tombo_smrtlink.cutoff.0.20.bed': '/home/anjuni/analysis/coverage/randomisation/6mA_tombo_smrtlink.cutoff.0.20_rand.bed',\n",
      " '6mA_tombo_smrtlink.cutoff.0.30.bed': '/home/anjuni/analysis/coverage/randomisation/6mA_tombo_smrtlink.cutoff.0.30_rand.bed',\n",
      " '6mA_tombo_smrtlink.cutoff.0.40.bed': '/home/anjuni/analysis/coverage/randomisation/6mA_tombo_smrtlink.cutoff.0.40_rand.bed',\n",
      " '6mA_tombo_smrtlink.cutoff.0.50.bed': '/home/anjuni/analysis/coverage/randomisation/6mA_tombo_smrtlink.cutoff.0.50_rand.bed',\n",
      " '6mA_tombo_smrtlink.cutoff.0.60.bed': '/home/anjuni/analysis/coverage/randomisation/6mA_tombo_smrtlink.cutoff.0.60_rand.bed',\n",
      " '6mA_tombo_smrtlink.cutoff.0.70.bed': '/home/anjuni/analysis/coverage/randomisation/6mA_tombo_smrtlink.cutoff.0.70_rand.bed',\n",
      " '6mA_tombo_smrtlink.cutoff.0.80.bed': '/home/anjuni/analysis/coverage/randomisation/6mA_tombo_smrtlink.cutoff.0.80_rand.bed',\n",
      " '6mA_tombo_smrtlink.cutoff.0.90.bed': '/home/anjuni/analysis/coverage/randomisation/6mA_tombo_smrtlink.cutoff.0.90_rand.bed',\n",
      " '6mA_tombo_smrtlink.cutoff.0.95.bed': '/home/anjuni/analysis/coverage/randomisation/6mA_tombo_smrtlink.cutoff.0.95_rand.bed',\n",
      " '6mA_tombo_smrtlink.cutoff.0.99.bed': '/home/anjuni/analysis/coverage/randomisation/6mA_tombo_smrtlink.cutoff.0.99_rand.bed',\n",
      " '6mA_tombo_smrtlink.cutoff.1.00.bed': '/home/anjuni/analysis/coverage/randomisation/6mA_tombo_smrtlink.cutoff.1.00_rand.bed'}\n",
      "{'5mC_hc_tombo_sorted.cutoff.0.00.bed': '/home/anjuni/analysis/coverage/randomisation/5mC_hc_tombo_sorted.cutoff.0.00_rand.bed',\n",
      " '5mC_hc_tombo_sorted.cutoff.0.10.bed': '/home/anjuni/analysis/coverage/randomisation/5mC_hc_tombo_sorted.cutoff.0.10_rand.bed',\n",
      " '5mC_hc_tombo_sorted.cutoff.0.20.bed': '/home/anjuni/analysis/coverage/randomisation/5mC_hc_tombo_sorted.cutoff.0.20_rand.bed',\n",
      " '5mC_hc_tombo_sorted.cutoff.0.30.bed': '/home/anjuni/analysis/coverage/randomisation/5mC_hc_tombo_sorted.cutoff.0.30_rand.bed',\n",
      " '5mC_hc_tombo_sorted.cutoff.0.40.bed': '/home/anjuni/analysis/coverage/randomisation/5mC_hc_tombo_sorted.cutoff.0.40_rand.bed',\n",
      " '5mC_hc_tombo_sorted.cutoff.0.50.bed': '/home/anjuni/analysis/coverage/randomisation/5mC_hc_tombo_sorted.cutoff.0.50_rand.bed',\n",
      " '5mC_hc_tombo_sorted.cutoff.0.60.bed': '/home/anjuni/analysis/coverage/randomisation/5mC_hc_tombo_sorted.cutoff.0.60_rand.bed',\n",
      " '5mC_hc_tombo_sorted.cutoff.0.70.bed': '/home/anjuni/analysis/coverage/randomisation/5mC_hc_tombo_sorted.cutoff.0.70_rand.bed',\n",
      " '5mC_hc_tombo_sorted.cutoff.0.80.bed': '/home/anjuni/analysis/coverage/randomisation/5mC_hc_tombo_sorted.cutoff.0.80_rand.bed',\n",
      " '5mC_hc_tombo_sorted.cutoff.0.90.bed': '/home/anjuni/analysis/coverage/randomisation/5mC_hc_tombo_sorted.cutoff.0.90_rand.bed',\n",
      " '5mC_hc_tombo_sorted.cutoff.0.95.bed': '/home/anjuni/analysis/coverage/randomisation/5mC_hc_tombo_sorted.cutoff.0.95_rand.bed',\n",
      " '5mC_hc_tombo_sorted.cutoff.0.99.bed': '/home/anjuni/analysis/coverage/randomisation/5mC_hc_tombo_sorted.cutoff.0.99_rand.bed',\n",
      " '5mC_hc_tombo_sorted.cutoff.1.00.bed': '/home/anjuni/analysis/coverage/randomisation/5mC_hc_tombo_sorted.cutoff.1.00_rand.bed'}\n",
      "{'6mA_hc_tombo_sorted.cutoff.0.00.bed': '/home/anjuni/analysis/coverage/randomisation/6mA_hc_tombo_sorted.cutoff.0.00_rand.bed',\n",
      " '6mA_hc_tombo_sorted.cutoff.0.10.bed': '/home/anjuni/analysis/coverage/randomisation/6mA_hc_tombo_sorted.cutoff.0.10_rand.bed',\n",
      " '6mA_hc_tombo_sorted.cutoff.0.20.bed': '/home/anjuni/analysis/coverage/randomisation/6mA_hc_tombo_sorted.cutoff.0.20_rand.bed',\n",
      " '6mA_hc_tombo_sorted.cutoff.0.30.bed': '/home/anjuni/analysis/coverage/randomisation/6mA_hc_tombo_sorted.cutoff.0.30_rand.bed',\n",
      " '6mA_hc_tombo_sorted.cutoff.0.40.bed': '/home/anjuni/analysis/coverage/randomisation/6mA_hc_tombo_sorted.cutoff.0.40_rand.bed',\n",
      " '6mA_hc_tombo_sorted.cutoff.0.50.bed': '/home/anjuni/analysis/coverage/randomisation/6mA_hc_tombo_sorted.cutoff.0.50_rand.bed',\n",
      " '6mA_hc_tombo_sorted.cutoff.0.60.bed': '/home/anjuni/analysis/coverage/randomisation/6mA_hc_tombo_sorted.cutoff.0.60_rand.bed',\n",
      " '6mA_hc_tombo_sorted.cutoff.0.70.bed': '/home/anjuni/analysis/coverage/randomisation/6mA_hc_tombo_sorted.cutoff.0.70_rand.bed',\n",
      " '6mA_hc_tombo_sorted.cutoff.0.80.bed': '/home/anjuni/analysis/coverage/randomisation/6mA_hc_tombo_sorted.cutoff.0.80_rand.bed',\n",
      " '6mA_hc_tombo_sorted.cutoff.0.90.bed': '/home/anjuni/analysis/coverage/randomisation/6mA_hc_tombo_sorted.cutoff.0.90_rand.bed',\n",
      " '6mA_hc_tombo_sorted.cutoff.0.95.bed': '/home/anjuni/analysis/coverage/randomisation/6mA_hc_tombo_sorted.cutoff.0.95_rand.bed',\n",
      " '6mA_hc_tombo_sorted.cutoff.0.99.bed': '/home/anjuni/analysis/coverage/randomisation/6mA_hc_tombo_sorted.cutoff.0.99_rand.bed',\n",
      " '6mA_hc_tombo_sorted.cutoff.1.00.bed': '/home/anjuni/analysis/coverage/randomisation/6mA_hc_tombo_sorted.cutoff.1.00_rand.bed'}\n"
     ]
    }
   ],
   "source": [
    "pprint.pprint(intersect_5mC_rand_dict)\n",
    "pprint.pprint(intersect_6mA_rand_dict)\n",
    "pprint.pprint(tombo_5mC_rand_dict)\n",
    "pprint.pprint(tombo_6mA_rand_dict)"
   ]
  },
  {
   "cell_type": "code",
   "execution_count": 599,
   "metadata": {},
   "outputs": [],
   "source": [
    "# Make a function that takes number of subset sites, abspath of all_site file, and output name\n",
    "# Then generate a random array of length subset from all sites\n",
    "# Then loops over all_site file while outfile is open to write out lines whose number is part of the randamized array\n",
    "def subset_sites(all_site_fn, number_of_subset_sites, out_fn):\n",
    "    \"\"\"This is a function that creates a BED file containing a subset of the total sites in the genome, with the size of the subset equal to an input cutoff file.\"\"\"\n",
    "    df = pd.read_csv(all_site_fn, sep='\\t', header = None) #use up memory making a dataframe of the csv file, to avoid running through it for each base in each loop\n",
    "    if type(number_of_subset_sites) == int and type(out_fn) == str:\n",
    "            random_array = np.random.choice(df.shape[0], number_of_subset_sites)\n",
    "            random_array.sort()\n",
    "            df.iloc[random_array, :].to_csv(out_fn, header=None, index=None, sep='\\t') #iloc[rows, columns]\n",
    "    elif type(number_of_subset_sites) == dict and type(out_fn) == dict:\n",
    "        for skey, svalue in number_of_subset_sites.items():\n",
    "            for fkey, fvalue in out_fn.items():\n",
    "                if skey == fkey:\n",
    "                    random_array = np.random.choice(df.shape[0], svalue)\n",
    "                    random_array.sort()\n",
    "                    df.iloc[random_array, :].to_csv(fvalue, header=None, index=None, sep='\\t') "
   ]
  },
  {
   "cell_type": "code",
   "execution_count": 609,
   "metadata": {},
   "outputs": [],
   "source": [
    "# Make randomisation files for everything :)\n",
    "subset_sites(all_cpg, intersect_5mC_count_dict, intersect_5mC_rand_dict)\n",
    "subset_sites(all_a, intersect_6mA_count_dict, intersect_6mA_rand_dict)\n",
    "subset_sites(all_c, tombo_5mC_count_dict, tombo_5mC_rand_dict)\n",
    "subset_sites(all_a, tombo_6mA_count_dict, tombo_6mA_rand_dict)"
   ]
  },
  {
   "cell_type": "code",
   "execution_count": 616,
   "metadata": {},
   "outputs": [],
   "source": [
    "# Function that gives a dictionary of each input filehandle\n",
    "def file_name_dict(file_list):\n",
    "    \"\"\"Outputs a dictionary of input file paths for a given list of input file paths.\"\"\"\n",
    "    file_dict = {}\n",
    "    for file in file_list:\n",
    "        file_dict[file.split('/')[-1]] = file\n",
    "    return file_dict"
   ]
  },
  {
   "cell_type": "code",
   "execution_count": 617,
   "metadata": {},
   "outputs": [],
   "source": [
    "# Make file name dict\n",
    "intersect_5mC_dict = file_name_dict(intersected_5mC)\n",
    "intersect_6mA_dict = file_name_dict(intersected_6mA)\n",
    "tombo_5mC_dict = file_name_dict(hc_tombo_5mC)\n",
    "tombo_6mA_dict = file_name_dict(hc_tombo_6mA)"
   ]
  },
  {
   "cell_type": "code",
   "execution_count": 618,
   "metadata": {
    "collapsed": true
   },
   "outputs": [
    {
     "name": "stdout",
     "output_type": "stream",
     "text": [
      "{'5mC_tombo_nanopolish.cutoff.0.00.bed': '/home/anjuni/analysis/coverage/feature_files/5mC_tombo_nanopolish.cutoff.0.00.bed',\n",
      " '5mC_tombo_nanopolish.cutoff.0.10.bed': '/home/anjuni/analysis/coverage/feature_files/5mC_tombo_nanopolish.cutoff.0.10.bed',\n",
      " '5mC_tombo_nanopolish.cutoff.0.20.bed': '/home/anjuni/analysis/coverage/feature_files/5mC_tombo_nanopolish.cutoff.0.20.bed',\n",
      " '5mC_tombo_nanopolish.cutoff.0.30.bed': '/home/anjuni/analysis/coverage/feature_files/5mC_tombo_nanopolish.cutoff.0.30.bed',\n",
      " '5mC_tombo_nanopolish.cutoff.0.40.bed': '/home/anjuni/analysis/coverage/feature_files/5mC_tombo_nanopolish.cutoff.0.40.bed',\n",
      " '5mC_tombo_nanopolish.cutoff.0.50.bed': '/home/anjuni/analysis/coverage/feature_files/5mC_tombo_nanopolish.cutoff.0.50.bed',\n",
      " '5mC_tombo_nanopolish.cutoff.0.60.bed': '/home/anjuni/analysis/coverage/feature_files/5mC_tombo_nanopolish.cutoff.0.60.bed',\n",
      " '5mC_tombo_nanopolish.cutoff.0.70.bed': '/home/anjuni/analysis/coverage/feature_files/5mC_tombo_nanopolish.cutoff.0.70.bed',\n",
      " '5mC_tombo_nanopolish.cutoff.0.80.bed': '/home/anjuni/analysis/coverage/feature_files/5mC_tombo_nanopolish.cutoff.0.80.bed',\n",
      " '5mC_tombo_nanopolish.cutoff.0.90.bed': '/home/anjuni/analysis/coverage/feature_files/5mC_tombo_nanopolish.cutoff.0.90.bed',\n",
      " '5mC_tombo_nanopolish.cutoff.0.95.bed': '/home/anjuni/analysis/coverage/feature_files/5mC_tombo_nanopolish.cutoff.0.95.bed',\n",
      " '5mC_tombo_nanopolish.cutoff.0.99.bed': '/home/anjuni/analysis/coverage/feature_files/5mC_tombo_nanopolish.cutoff.0.99.bed',\n",
      " '5mC_tombo_nanopolish.cutoff.1.00.bed': '/home/anjuni/analysis/coverage/feature_files/5mC_tombo_nanopolish.cutoff.1.00.bed'}\n",
      "{'6mA_tombo_smrtlink.cutoff.0.00.bed': '/home/anjuni/analysis/coverage/feature_files/6mA_tombo_smrtlink.cutoff.0.00.bed',\n",
      " '6mA_tombo_smrtlink.cutoff.0.10.bed': '/home/anjuni/analysis/coverage/feature_files/6mA_tombo_smrtlink.cutoff.0.10.bed',\n",
      " '6mA_tombo_smrtlink.cutoff.0.20.bed': '/home/anjuni/analysis/coverage/feature_files/6mA_tombo_smrtlink.cutoff.0.20.bed',\n",
      " '6mA_tombo_smrtlink.cutoff.0.30.bed': '/home/anjuni/analysis/coverage/feature_files/6mA_tombo_smrtlink.cutoff.0.30.bed',\n",
      " '6mA_tombo_smrtlink.cutoff.0.40.bed': '/home/anjuni/analysis/coverage/feature_files/6mA_tombo_smrtlink.cutoff.0.40.bed',\n",
      " '6mA_tombo_smrtlink.cutoff.0.50.bed': '/home/anjuni/analysis/coverage/feature_files/6mA_tombo_smrtlink.cutoff.0.50.bed',\n",
      " '6mA_tombo_smrtlink.cutoff.0.60.bed': '/home/anjuni/analysis/coverage/feature_files/6mA_tombo_smrtlink.cutoff.0.60.bed',\n",
      " '6mA_tombo_smrtlink.cutoff.0.70.bed': '/home/anjuni/analysis/coverage/feature_files/6mA_tombo_smrtlink.cutoff.0.70.bed',\n",
      " '6mA_tombo_smrtlink.cutoff.0.80.bed': '/home/anjuni/analysis/coverage/feature_files/6mA_tombo_smrtlink.cutoff.0.80.bed',\n",
      " '6mA_tombo_smrtlink.cutoff.0.90.bed': '/home/anjuni/analysis/coverage/feature_files/6mA_tombo_smrtlink.cutoff.0.90.bed',\n",
      " '6mA_tombo_smrtlink.cutoff.0.95.bed': '/home/anjuni/analysis/coverage/feature_files/6mA_tombo_smrtlink.cutoff.0.95.bed',\n",
      " '6mA_tombo_smrtlink.cutoff.0.99.bed': '/home/anjuni/analysis/coverage/feature_files/6mA_tombo_smrtlink.cutoff.0.99.bed',\n",
      " '6mA_tombo_smrtlink.cutoff.1.00.bed': '/home/anjuni/analysis/coverage/feature_files/6mA_tombo_smrtlink.cutoff.1.00.bed'}\n",
      "{'5mC_hc_tombo_sorted.cutoff.0.00.bed': '/home/anjuni/analysis/coverage/feature_files/5mC_hc_tombo_sorted.cutoff.0.00.bed',\n",
      " '5mC_hc_tombo_sorted.cutoff.0.10.bed': '/home/anjuni/analysis/coverage/feature_files/5mC_hc_tombo_sorted.cutoff.0.10.bed',\n",
      " '5mC_hc_tombo_sorted.cutoff.0.20.bed': '/home/anjuni/analysis/coverage/feature_files/5mC_hc_tombo_sorted.cutoff.0.20.bed',\n",
      " '5mC_hc_tombo_sorted.cutoff.0.30.bed': '/home/anjuni/analysis/coverage/feature_files/5mC_hc_tombo_sorted.cutoff.0.30.bed',\n",
      " '5mC_hc_tombo_sorted.cutoff.0.40.bed': '/home/anjuni/analysis/coverage/feature_files/5mC_hc_tombo_sorted.cutoff.0.40.bed',\n",
      " '5mC_hc_tombo_sorted.cutoff.0.50.bed': '/home/anjuni/analysis/coverage/feature_files/5mC_hc_tombo_sorted.cutoff.0.50.bed',\n",
      " '5mC_hc_tombo_sorted.cutoff.0.60.bed': '/home/anjuni/analysis/coverage/feature_files/5mC_hc_tombo_sorted.cutoff.0.60.bed',\n",
      " '5mC_hc_tombo_sorted.cutoff.0.70.bed': '/home/anjuni/analysis/coverage/feature_files/5mC_hc_tombo_sorted.cutoff.0.70.bed',\n",
      " '5mC_hc_tombo_sorted.cutoff.0.80.bed': '/home/anjuni/analysis/coverage/feature_files/5mC_hc_tombo_sorted.cutoff.0.80.bed',\n",
      " '5mC_hc_tombo_sorted.cutoff.0.90.bed': '/home/anjuni/analysis/coverage/feature_files/5mC_hc_tombo_sorted.cutoff.0.90.bed',\n",
      " '5mC_hc_tombo_sorted.cutoff.0.95.bed': '/home/anjuni/analysis/coverage/feature_files/5mC_hc_tombo_sorted.cutoff.0.95.bed',\n",
      " '5mC_hc_tombo_sorted.cutoff.0.99.bed': '/home/anjuni/analysis/coverage/feature_files/5mC_hc_tombo_sorted.cutoff.0.99.bed',\n",
      " '5mC_hc_tombo_sorted.cutoff.1.00.bed': '/home/anjuni/analysis/coverage/feature_files/5mC_hc_tombo_sorted.cutoff.1.00.bed'}\n",
      "{'6mA_hc_tombo_sorted.cutoff.0.00.bed': '/home/anjuni/analysis/coverage/feature_files/6mA_hc_tombo_sorted.cutoff.0.00.bed',\n",
      " '6mA_hc_tombo_sorted.cutoff.0.10.bed': '/home/anjuni/analysis/coverage/feature_files/6mA_hc_tombo_sorted.cutoff.0.10.bed',\n",
      " '6mA_hc_tombo_sorted.cutoff.0.20.bed': '/home/anjuni/analysis/coverage/feature_files/6mA_hc_tombo_sorted.cutoff.0.20.bed',\n",
      " '6mA_hc_tombo_sorted.cutoff.0.30.bed': '/home/anjuni/analysis/coverage/feature_files/6mA_hc_tombo_sorted.cutoff.0.30.bed',\n",
      " '6mA_hc_tombo_sorted.cutoff.0.40.bed': '/home/anjuni/analysis/coverage/feature_files/6mA_hc_tombo_sorted.cutoff.0.40.bed',\n",
      " '6mA_hc_tombo_sorted.cutoff.0.50.bed': '/home/anjuni/analysis/coverage/feature_files/6mA_hc_tombo_sorted.cutoff.0.50.bed',\n",
      " '6mA_hc_tombo_sorted.cutoff.0.60.bed': '/home/anjuni/analysis/coverage/feature_files/6mA_hc_tombo_sorted.cutoff.0.60.bed',\n",
      " '6mA_hc_tombo_sorted.cutoff.0.70.bed': '/home/anjuni/analysis/coverage/feature_files/6mA_hc_tombo_sorted.cutoff.0.70.bed',\n",
      " '6mA_hc_tombo_sorted.cutoff.0.80.bed': '/home/anjuni/analysis/coverage/feature_files/6mA_hc_tombo_sorted.cutoff.0.80.bed',\n",
      " '6mA_hc_tombo_sorted.cutoff.0.90.bed': '/home/anjuni/analysis/coverage/feature_files/6mA_hc_tombo_sorted.cutoff.0.90.bed',\n",
      " '6mA_hc_tombo_sorted.cutoff.0.95.bed': '/home/anjuni/analysis/coverage/feature_files/6mA_hc_tombo_sorted.cutoff.0.95.bed',\n",
      " '6mA_hc_tombo_sorted.cutoff.0.99.bed': '/home/anjuni/analysis/coverage/feature_files/6mA_hc_tombo_sorted.cutoff.0.99.bed',\n",
      " '6mA_hc_tombo_sorted.cutoff.1.00.bed': '/home/anjuni/analysis/coverage/feature_files/6mA_hc_tombo_sorted.cutoff.1.00.bed'}\n"
     ]
    }
   ],
   "source": [
    "pprint.pprint(intersect_5mC_dict)\n",
    "pprint.pprint(intersect_6mA_dict)\n",
    "pprint.pprint(tombo_5mC_dict)\n",
    "pprint.pprint(tombo_6mA_dict)"
   ]
  },
  {
   "cell_type": "markdown",
   "metadata": {},
   "source": [
    "## <span style='color:#144fff'> 4. Making windows. <span/>"
   ]
  },
  {
   "cell_type": "code",
   "execution_count": 434,
   "metadata": {},
   "outputs": [],
   "source": [
    "# Make folder for windows. Each BED file will contain a series of windows\n",
    "#os.mkdir(DIRS['WINDOW_OUTPUT'])\n",
    "#os.mkdir()\n",
    "# Define inputs\n",
    "gene_fn = '/home/anjuni/analysis/gff_output/Pst_104E_v13_ph_ctg.anno.sorted.gff3'\n",
    "te_fn = '/home/anjuni/analysis/gff_output/Pst_104E_v13_ph_ctg.TE.sorted.gff3'\n",
    "reference_genome = os.path.join(DIRS['REF'], 'Pst_104E_v13_ph_ctg.fa')"
   ]
  },
  {
   "cell_type": "code",
   "execution_count": 58,
   "metadata": {
    "collapsed": true
   },
   "outputs": [
    {
     "name": "stdout",
     "output_type": "stream",
     "text": [
      "Smartmatch is experimental at /home/anjuni/myapps/gff3sort/gff3sort.pl line 68.\n",
      "Use of uninitialized value $pos in hash element at /home/anjuni/myapps/gff3sort/gff3sort.pl line 67, <$_[...]> line 1.\n",
      "Use of uninitialized value $pos in hash element at /home/anjuni/myapps/gff3sort/gff3sort.pl line 67, <$_[...]> line 2.\n",
      "Use of uninitialized value $pos in hash element at /home/anjuni/myapps/gff3sort/gff3sort.pl line 67, <$_[...]> line 3.\n",
      "Use of uninitialized value $pos in hash element at /home/anjuni/myapps/gff3sort/gff3sort.pl line 67, <$_[...]> line 4.\n",
      "Use of uninitialized value $pos in hash element at /home/anjuni/myapps/gff3sort/gff3sort.pl line 67, <$_[...]> line 5.\n",
      "Use of uninitialized value $pos in hash element at /home/anjuni/myapps/gff3sort/gff3sort.pl line 67, <$_[...]> line 6.\n",
      "Use of uninitialized value $pos in hash element at /home/anjuni/myapps/gff3sort/gff3sort.pl line 67, <$_[...]> line 7.\n",
      "Use of uninitialized value $pos in hash element at /home/anjuni/myapps/gff3sort/gff3sort.pl line 67, <$_[...]> line 8.\n",
      "Use of uninitialized value $pos in hash element at /home/anjuni/myapps/gff3sort/gff3sort.pl line 67, <$_[...]> line 9.\n",
      "Use of uninitialized value $pos in hash element at /home/anjuni/myapps/gff3sort/gff3sort.pl line 67, <$_[...]> line 10.\n",
      "Use of uninitialized value $pos in hash element at /home/anjuni/myapps/gff3sort/gff3sort.pl line 67, <$_[...]> line 11.\n",
      "Use of uninitialized value $pos in hash element at /home/anjuni/myapps/gff3sort/gff3sort.pl line 67, <$_[...]> line 12.\n",
      "Use of uninitialized value $pos in hash element at /home/anjuni/myapps/gff3sort/gff3sort.pl line 67, <$_[...]> line 13.\n",
      "Use of uninitialized value $pos in hash element at /home/anjuni/myapps/gff3sort/gff3sort.pl line 67, <$_[...]> line 14.\n",
      "Use of uninitialized value $pos in hash element at /home/anjuni/myapps/gff3sort/gff3sort.pl line 67, <$_[...]> line 15.\n",
      "Use of uninitialized value $pos in hash element at /home/anjuni/myapps/gff3sort/gff3sort.pl line 67, <$_[...]> line 16.\n",
      "Use of uninitialized value $pos in hash element at /home/anjuni/myapps/gff3sort/gff3sort.pl line 67, <$_[...]> line 17.\n",
      "Use of uninitialized value $pos in hash element at /home/anjuni/myapps/gff3sort/gff3sort.pl line 67, <$_[...]> line 18.\n",
      "Use of uninitialized value $pos in hash element at /home/anjuni/myapps/gff3sort/gff3sort.pl line 67, <$_[...]> line 19.\n",
      "Use of uninitialized value $pos in hash element at /home/anjuni/myapps/gff3sort/gff3sort.pl line 67, <$_[...]> line 20.\n",
      "Use of uninitialized value $pos in hash element at /home/anjuni/myapps/gff3sort/gff3sort.pl line 67, <$_[...]> line 21.\n",
      "Use of uninitialized value $pos in hash element at /home/anjuni/myapps/gff3sort/gff3sort.pl line 67, <$_[...]> line 22.\n",
      "Use of uninitialized value $pos in hash element at /home/anjuni/myapps/gff3sort/gff3sort.pl line 67, <$_[...]> line 23.\n",
      "Use of uninitialized value $pos in hash element at /home/anjuni/myapps/gff3sort/gff3sort.pl line 67, <$_[...]> line 24.\n",
      "Use of uninitialized value $pos in hash element at /home/anjuni/myapps/gff3sort/gff3sort.pl line 67, <$_[...]> line 25.\n",
      "Use of uninitialized value $pos in hash element at /home/anjuni/myapps/gff3sort/gff3sort.pl line 67, <$_[...]> line 26.\n",
      "Use of uninitialized value $pos in hash element at /home/anjuni/myapps/gff3sort/gff3sort.pl line 67, <$_[...]> line 27.\n",
      "Use of uninitialized value $pos in hash element at /home/anjuni/myapps/gff3sort/gff3sort.pl line 67, <$_[...]> line 28.\n",
      "Use of uninitialized value $pos in hash element at /home/anjuni/myapps/gff3sort/gff3sort.pl line 67, <$_[...]> line 29.\n",
      "Use of uninitialized value $pos in hash element at /home/anjuni/myapps/gff3sort/gff3sort.pl line 67, <$_[...]> line 30.\n",
      "Use of uninitialized value $pos in hash element at /home/anjuni/myapps/gff3sort/gff3sort.pl line 67, <$_[...]> line 31.\n",
      "Use of uninitialized value $pos in hash element at /home/anjuni/myapps/gff3sort/gff3sort.pl line 67, <$_[...]> line 32.\n",
      "Use of uninitialized value $pos in hash element at /home/anjuni/myapps/gff3sort/gff3sort.pl line 67, <$_[...]> line 33.\n",
      "Use of uninitialized value $pos in hash element at /home/anjuni/myapps/gff3sort/gff3sort.pl line 67, <$_[...]> line 34.\n",
      "Use of uninitialized value $pos in hash element at /home/anjuni/myapps/gff3sort/gff3sort.pl line 67, <$_[...]> line 35.\n",
      "Use of uninitialized value $pos in hash element at /home/anjuni/myapps/gff3sort/gff3sort.pl line 67, <$_[...]> line 36.\n",
      "Use of uninitialized value $pos in hash element at /home/anjuni/myapps/gff3sort/gff3sort.pl line 67, <$_[...]> line 37.\n",
      "Use of uninitialized value $pos in hash element at /home/anjuni/myapps/gff3sort/gff3sort.pl line 67, <$_[...]> line 38.\n",
      "Use of uninitialized value $pos in hash element at /home/anjuni/myapps/gff3sort/gff3sort.pl line 67, <$_[...]> line 39.\n",
      "Use of uninitialized value $pos in hash element at /home/anjuni/myapps/gff3sort/gff3sort.pl line 67, <$_[...]> line 40.\n",
      "Use of uninitialized value $pos in hash element at /home/anjuni/myapps/gff3sort/gff3sort.pl line 67, <$_[...]> line 41.\n",
      "Use of uninitialized value $pos in hash element at /home/anjuni/myapps/gff3sort/gff3sort.pl line 67, <$_[...]> line 42.\n",
      "Use of uninitialized value $pos in hash element at /home/anjuni/myapps/gff3sort/gff3sort.pl line 67, <$_[...]> line 43.\n",
      "Use of uninitialized value $pos in hash element at /home/anjuni/myapps/gff3sort/gff3sort.pl line 67, <$_[...]> line 44.\n",
      "Use of uninitialized value $pos in hash element at /home/anjuni/myapps/gff3sort/gff3sort.pl line 67, <$_[...]> line 45.\n",
      "Use of uninitialized value $pos in hash element at /home/anjuni/myapps/gff3sort/gff3sort.pl line 67, <$_[...]> line 46.\n",
      "Use of uninitialized value $pos in hash element at /home/anjuni/myapps/gff3sort/gff3sort.pl line 67, <$_[...]> line 47.\n",
      "Use of uninitialized value $pos in hash element at /home/anjuni/myapps/gff3sort/gff3sort.pl line 67, <$_[...]> line 48.\n",
      "Use of uninitialized value $pos in hash element at /home/anjuni/myapps/gff3sort/gff3sort.pl line 67, <$_[...]> line 49.\n",
      "Use of uninitialized value $pos in hash element at /home/anjuni/myapps/gff3sort/gff3sort.pl line 67, <$_[...]> line 50.\n",
      "Use of uninitialized value $pos in hash element at /home/anjuni/myapps/gff3sort/gff3sort.pl line 67, <$_[...]> line 51.\n",
      "Use of uninitialized value $pos in hash element at /home/anjuni/myapps/gff3sort/gff3sort.pl line 67, <$_[...]> line 52.\n",
      "Use of uninitialized value $pos in hash element at /home/anjuni/myapps/gff3sort/gff3sort.pl line 67, <$_[...]> line 53.\n",
      "Use of uninitialized value $pos in hash element at /home/anjuni/myapps/gff3sort/gff3sort.pl line 67, <$_[...]> line 54.\n",
      "Use of uninitialized value $pos in hash element at /home/anjuni/myapps/gff3sort/gff3sort.pl line 67, <$_[...]> line 55.\n",
      "Use of uninitialized value $pos in hash element at /home/anjuni/myapps/gff3sort/gff3sort.pl line 67, <$_[...]> line 56.\n",
      "Use of uninitialized value $pos in hash element at /home/anjuni/myapps/gff3sort/gff3sort.pl line 67, <$_[...]> line 57.\n",
      "Use of uninitialized value $pos in hash element at /home/anjuni/myapps/gff3sort/gff3sort.pl line 67, <$_[...]> line 58.\n",
      "Use of uninitialized value $pos in hash element at /home/anjuni/myapps/gff3sort/gff3sort.pl line 67, <$_[...]> line 59.\n",
      "Use of uninitialized value $pos in hash element at /home/anjuni/myapps/gff3sort/gff3sort.pl line 67, <$_[...]> line 60.\n",
      "Use of uninitialized value $pos in hash element at /home/anjuni/myapps/gff3sort/gff3sort.pl line 67, <$_[...]> line 61.\n",
      "Use of uninitialized value $pos in hash element at /home/anjuni/myapps/gff3sort/gff3sort.pl line 67, <$_[...]> line 62.\n",
      "Use of uninitialized value $pos in hash element at /home/anjuni/myapps/gff3sort/gff3sort.pl line 67, <$_[...]> line 63.\n",
      "Use of uninitialized value $pos in hash element at /home/anjuni/myapps/gff3sort/gff3sort.pl line 67, <$_[...]> line 64.\n",
      "Use of uninitialized value $pos in hash element at /home/anjuni/myapps/gff3sort/gff3sort.pl line 67, <$_[...]> line 65.\n",
      "Use of uninitialized value $pos in hash element at /home/anjuni/myapps/gff3sort/gff3sort.pl line 67, <$_[...]> line 66.\n",
      "Use of uninitialized value $pos in hash element at /home/anjuni/myapps/gff3sort/gff3sort.pl line 67, <$_[...]> line 67.\n",
      "Use of uninitialized value $pos in hash element at /home/anjuni/myapps/gff3sort/gff3sort.pl line 67, <$_[...]> line 68.\n",
      "Use of uninitialized value $pos in hash element at /home/anjuni/myapps/gff3sort/gff3sort.pl line 67, <$_[...]> line 69.\n",
      "Use of uninitialized value $pos in hash element at /home/anjuni/myapps/gff3sort/gff3sort.pl line 67, <$_[...]> line 70.\n",
      "Use of uninitialized value $pos in hash element at /home/anjuni/myapps/gff3sort/gff3sort.pl line 67, <$_[...]> line 71.\n",
      "Use of uninitialized value $pos in hash element at /home/anjuni/myapps/gff3sort/gff3sort.pl line 67, <$_[...]> line 72.\n",
      "Use of uninitialized value $pos in hash element at /home/anjuni/myapps/gff3sort/gff3sort.pl line 67, <$_[...]> line 73.\n",
      "Use of uninitialized value $pos in hash element at /home/anjuni/myapps/gff3sort/gff3sort.pl line 67, <$_[...]> line 74.\n",
      "Use of uninitialized value $pos in hash element at /home/anjuni/myapps/gff3sort/gff3sort.pl line 67, <$_[...]> line 75.\n",
      "Use of uninitialized value $pos in hash element at /home/anjuni/myapps/gff3sort/gff3sort.pl line 67, <$_[...]> line 76.\n",
      "Use of uninitialized value $pos in hash element at /home/anjuni/myapps/gff3sort/gff3sort.pl line 67, <$_[...]> line 77.\n",
      "Use of uninitialized value $pos in hash element at /home/anjuni/myapps/gff3sort/gff3sort.pl line 67, <$_[...]> line 78.\n",
      "Use of uninitialized value $pos in hash element at /home/anjuni/myapps/gff3sort/gff3sort.pl line 67, <$_[...]> line 79.\n",
      "Use of uninitialized value $pos in hash element at /home/anjuni/myapps/gff3sort/gff3sort.pl line 67, <$_[...]> line 80.\n",
      "Use of uninitialized value $pos in hash element at /home/anjuni/myapps/gff3sort/gff3sort.pl line 67, <$_[...]> line 81.\n",
      "Use of uninitialized value $pos in hash element at /home/anjuni/myapps/gff3sort/gff3sort.pl line 67, <$_[...]> line 82.\n",
      "Use of uninitialized value $pos in hash element at /home/anjuni/myapps/gff3sort/gff3sort.pl line 67, <$_[...]> line 83.\n",
      "Use of uninitialized value $pos in hash element at /home/anjuni/myapps/gff3sort/gff3sort.pl line 67, <$_[...]> line 84.\n",
      "Use of uninitialized value $pos in hash element at /home/anjuni/myapps/gff3sort/gff3sort.pl line 67, <$_[...]> line 85.\n",
      "Use of uninitialized value $pos in hash element at /home/anjuni/myapps/gff3sort/gff3sort.pl line 67, <$_[...]> line 86.\n",
      "Use of uninitialized value $pos in hash element at /home/anjuni/myapps/gff3sort/gff3sort.pl line 67, <$_[...]> line 87.\n",
      "Use of uninitialized value $pos in hash element at /home/anjuni/myapps/gff3sort/gff3sort.pl line 67, <$_[...]> line 88.\n",
      "Use of uninitialized value $pos in hash element at /home/anjuni/myapps/gff3sort/gff3sort.pl line 67, <$_[...]> line 89.\n",
      "Use of uninitialized value $pos in hash element at /home/anjuni/myapps/gff3sort/gff3sort.pl line 67, <$_[...]> line 90.\n",
      "Use of uninitialized value $pos in hash element at /home/anjuni/myapps/gff3sort/gff3sort.pl line 67, <$_[...]> line 91.\n",
      "Use of uninitialized value $pos in hash element at /home/anjuni/myapps/gff3sort/gff3sort.pl line 67, <$_[...]> line 92.\n",
      "Use of uninitialized value $pos in hash element at /home/anjuni/myapps/gff3sort/gff3sort.pl line 67, <$_[...]> line 93.\n",
      "Use of uninitialized value $pos in hash element at /home/anjuni/myapps/gff3sort/gff3sort.pl line 67, <$_[...]> line 94.\n",
      "Use of uninitialized value $pos in hash element at /home/anjuni/myapps/gff3sort/gff3sort.pl line 67, <$_[...]> line 95.\n",
      "Use of uninitialized value $pos in hash element at /home/anjuni/myapps/gff3sort/gff3sort.pl line 67, <$_[...]> line 96.\n",
      "Use of uninitialized value $pos in hash element at /home/anjuni/myapps/gff3sort/gff3sort.pl line 67, <$_[...]> line 97.\n",
      "Use of uninitialized value $pos in hash element at /home/anjuni/myapps/gff3sort/gff3sort.pl line 67, <$_[...]> line 98.\n",
      "Use of uninitialized value $pos in hash element at /home/anjuni/myapps/gff3sort/gff3sort.pl line 67, <$_[...]> line 99.\n",
      "Use of uninitialized value $pos in hash element at /home/anjuni/myapps/gff3sort/gff3sort.pl line 67, <$_[...]> line 100.\n",
      "Use of uninitialized value $pos in hash element at /home/anjuni/myapps/gff3sort/gff3sort.pl line 67, <$_[...]> line 101.\n",
      "Use of uninitialized value $pos in hash element at /home/anjuni/myapps/gff3sort/gff3sort.pl line 67, <$_[...]> line 102.\n",
      "Use of uninitialized value $pos in hash element at /home/anjuni/myapps/gff3sort/gff3sort.pl line 67, <$_[...]> line 103.\n",
      "Use of uninitialized value $pos in hash element at /home/anjuni/myapps/gff3sort/gff3sort.pl line 67, <$_[...]> line 104.\n",
      "Use of uninitialized value $pos in hash element at /home/anjuni/myapps/gff3sort/gff3sort.pl line 67, <$_[...]> line 105.\n",
      "Use of uninitialized value $pos in hash element at /home/anjuni/myapps/gff3sort/gff3sort.pl line 67, <$_[...]> line 106.\n",
      "Use of uninitialized value $pos in hash element at /home/anjuni/myapps/gff3sort/gff3sort.pl line 67, <$_[...]> line 107.\n",
      "Use of uninitialized value $pos in hash element at /home/anjuni/myapps/gff3sort/gff3sort.pl line 67, <$_[...]> line 108.\n",
      "Use of uninitialized value $pos in hash element at /home/anjuni/myapps/gff3sort/gff3sort.pl line 67, <$_[...]> line 109.\n",
      "Use of uninitialized value $pos in hash element at /home/anjuni/myapps/gff3sort/gff3sort.pl line 67, <$_[...]> line 110.\n",
      "Use of uninitialized value $pos in hash element at /home/anjuni/myapps/gff3sort/gff3sort.pl line 67, <$_[...]> line 111.\n",
      "Use of uninitialized value $pos in hash element at /home/anjuni/myapps/gff3sort/gff3sort.pl line 67, <$_[...]> line 112.\n",
      "Use of uninitialized value $pos in hash element at /home/anjuni/myapps/gff3sort/gff3sort.pl line 67, <$_[...]> line 113.\n",
      "Use of uninitialized value $pos in hash element at /home/anjuni/myapps/gff3sort/gff3sort.pl line 67, <$_[...]> line 114.\n",
      "Use of uninitialized value $pos in hash element at /home/anjuni/myapps/gff3sort/gff3sort.pl line 67, <$_[...]> line 115.\n",
      "Use of uninitialized value $pos in hash element at /home/anjuni/myapps/gff3sort/gff3sort.pl line 67, <$_[...]> line 116.\n",
      "Use of uninitialized value $pos in hash element at /home/anjuni/myapps/gff3sort/gff3sort.pl line 67, <$_[...]> line 117.\n",
      "Use of uninitialized value $pos in hash element at /home/anjuni/myapps/gff3sort/gff3sort.pl line 67, <$_[...]> line 118.\n",
      "Use of uninitialized value $pos in hash element at /home/anjuni/myapps/gff3sort/gff3sort.pl line 67, <$_[...]> line 119.\n",
      "Use of uninitialized value $pos in hash element at /home/anjuni/myapps/gff3sort/gff3sort.pl line 67, <$_[...]> line 120.\n",
      "Use of uninitialized value $pos in hash element at /home/anjuni/myapps/gff3sort/gff3sort.pl line 67, <$_[...]> line 121.\n",
      "Use of uninitialized value $pos in hash element at /home/anjuni/myapps/gff3sort/gff3sort.pl line 67, <$_[...]> line 122.\n",
      "Use of uninitialized value $pos in hash element at /home/anjuni/myapps/gff3sort/gff3sort.pl line 67, <$_[...]> line 123.\n",
      "Use of uninitialized value $pos in hash element at /home/anjuni/myapps/gff3sort/gff3sort.pl line 67, <$_[...]> line 124.\n",
      "Use of uninitialized value $pos in hash element at /home/anjuni/myapps/gff3sort/gff3sort.pl line 67, <$_[...]> line 125.\n",
      "Use of uninitialized value $pos in hash element at /home/anjuni/myapps/gff3sort/gff3sort.pl line 67, <$_[...]> line 126.\n",
      "Use of uninitialized value $pos in hash element at /home/anjuni/myapps/gff3sort/gff3sort.pl line 67, <$_[...]> line 127.\n",
      "Use of uninitialized value $pos in hash element at /home/anjuni/myapps/gff3sort/gff3sort.pl line 67, <$_[...]> line 128.\n",
      "Use of uninitialized value $pos in hash element at /home/anjuni/myapps/gff3sort/gff3sort.pl line 67, <$_[...]> line 129.\n",
      "Use of uninitialized value $pos in hash element at /home/anjuni/myapps/gff3sort/gff3sort.pl line 67, <$_[...]> line 130.\n",
      "Use of uninitialized value $pos in hash element at /home/anjuni/myapps/gff3sort/gff3sort.pl line 67, <$_[...]> line 131.\n",
      "Use of uninitialized value $pos in hash element at /home/anjuni/myapps/gff3sort/gff3sort.pl line 67, <$_[...]> line 132.\n",
      "Use of uninitialized value $pos in hash element at /home/anjuni/myapps/gff3sort/gff3sort.pl line 67, <$_[...]> line 133.\n",
      "Use of uninitialized value $pos in hash element at /home/anjuni/myapps/gff3sort/gff3sort.pl line 67, <$_[...]> line 134.\n",
      "Use of uninitialized value $pos in hash element at /home/anjuni/myapps/gff3sort/gff3sort.pl line 67, <$_[...]> line 135.\n",
      "Use of uninitialized value $pos in hash element at /home/anjuni/myapps/gff3sort/gff3sort.pl line 67, <$_[...]> line 136.\n",
      "Use of uninitialized value $pos in hash element at /home/anjuni/myapps/gff3sort/gff3sort.pl line 67, <$_[...]> line 137.\n",
      "Use of uninitialized value $pos in hash element at /home/anjuni/myapps/gff3sort/gff3sort.pl line 67, <$_[...]> line 138.\n",
      "Use of uninitialized value $pos in hash element at /home/anjuni/myapps/gff3sort/gff3sort.pl line 67, <$_[...]> line 139.\n",
      "Use of uninitialized value $pos in hash element at /home/anjuni/myapps/gff3sort/gff3sort.pl line 67, <$_[...]> line 140.\n",
      "Use of uninitialized value $pos in hash element at /home/anjuni/myapps/gff3sort/gff3sort.pl line 67, <$_[...]> line 141.\n",
      "Use of uninitialized value $pos in hash element at /home/anjuni/myapps/gff3sort/gff3sort.pl line 67, <$_[...]> line 142.\n",
      "Use of uninitialized value $pos in hash element at /home/anjuni/myapps/gff3sort/gff3sort.pl line 67, <$_[...]> line 143.\n",
      "Use of uninitialized value $pos in hash element at /home/anjuni/myapps/gff3sort/gff3sort.pl line 67, <$_[...]> line 144.\n",
      "Use of uninitialized value $pos in hash element at /home/anjuni/myapps/gff3sort/gff3sort.pl line 67, <$_[...]> line 145.\n",
      "Use of uninitialized value $pos in hash element at /home/anjuni/myapps/gff3sort/gff3sort.pl line 67, <$_[...]> line 146.\n",
      "Use of uninitialized value $pos in hash element at /home/anjuni/myapps/gff3sort/gff3sort.pl line 67, <$_[...]> line 147.\n",
      "Use of uninitialized value $pos in hash element at /home/anjuni/myapps/gff3sort/gff3sort.pl line 67, <$_[...]> line 148.\n",
      "Use of uninitialized value $pos in hash element at /home/anjuni/myapps/gff3sort/gff3sort.pl line 67, <$_[...]> line 149.\n",
      "Use of uninitialized value $pos in hash element at /home/anjuni/myapps/gff3sort/gff3sort.pl line 67, <$_[...]> line 150.\n",
      "Use of uninitialized value $pos in hash element at /home/anjuni/myapps/gff3sort/gff3sort.pl line 67, <$_[...]> line 151.\n",
      "Use of uninitialized value $pos in hash element at /home/anjuni/myapps/gff3sort/gff3sort.pl line 67, <$_[...]> line 152.\n",
      "Use of uninitialized value $pos in hash element at /home/anjuni/myapps/gff3sort/gff3sort.pl line 67, <$_[...]> line 153.\n",
      "Use of uninitialized value $pos in hash element at /home/anjuni/myapps/gff3sort/gff3sort.pl line 67, <$_[...]> line 154.\n",
      "Use of uninitialized value $pos in hash element at /home/anjuni/myapps/gff3sort/gff3sort.pl line 67, <$_[...]> line 155.\n",
      "Use of uninitialized value $pos in hash element at /home/anjuni/myapps/gff3sort/gff3sort.pl line 67, <$_[...]> line 156.\n",
      "Use of uninitialized value $pos in hash element at /home/anjuni/myapps/gff3sort/gff3sort.pl line 67, <$_[...]> line 157.\n",
      "Use of uninitialized value $pos in hash element at /home/anjuni/myapps/gff3sort/gff3sort.pl line 67, <$_[...]> line 158.\n",
      "Use of uninitialized value $pos in hash element at /home/anjuni/myapps/gff3sort/gff3sort.pl line 67, <$_[...]> line 159.\n",
      "Use of uninitialized value $pos in hash element at /home/anjuni/myapps/gff3sort/gff3sort.pl line 67, <$_[...]> line 160.\n",
      "Use of uninitialized value $pos in hash element at /home/anjuni/myapps/gff3sort/gff3sort.pl line 67, <$_[...]> line 161.\n",
      "Use of uninitialized value $pos in hash element at /home/anjuni/myapps/gff3sort/gff3sort.pl line 67, <$_[...]> line 162.\n",
      "Use of uninitialized value $pos in hash element at /home/anjuni/myapps/gff3sort/gff3sort.pl line 67, <$_[...]> line 163.\n",
      "Use of uninitialized value $pos in hash element at /home/anjuni/myapps/gff3sort/gff3sort.pl line 67, <$_[...]> line 164.\n",
      "Use of uninitialized value $pos in hash element at /home/anjuni/myapps/gff3sort/gff3sort.pl line 67, <$_[...]> line 165.\n",
      "Use of uninitialized value $pos in hash element at /home/anjuni/myapps/gff3sort/gff3sort.pl line 67, <$_[...]> line 166.\n",
      "Use of uninitialized value $pos in hash element at /home/anjuni/myapps/gff3sort/gff3sort.pl line 67, <$_[...]> line 167.\n",
      "Use of uninitialized value $pos in hash element at /home/anjuni/myapps/gff3sort/gff3sort.pl line 67, <$_[...]> line 168.\n",
      "Use of uninitialized value $pos in hash element at /home/anjuni/myapps/gff3sort/gff3sort.pl line 67, <$_[...]> line 169.\n",
      "Use of uninitialized value $pos in hash element at /home/anjuni/myapps/gff3sort/gff3sort.pl line 67, <$_[...]> line 170.\n",
      "Use of uninitialized value $pos in hash element at /home/anjuni/myapps/gff3sort/gff3sort.pl line 67, <$_[...]> line 171.\n",
      "Use of uninitialized value $pos in hash element at /home/anjuni/myapps/gff3sort/gff3sort.pl line 67, <$_[...]> line 172.\n",
      "Use of uninitialized value $pos in hash element at /home/anjuni/myapps/gff3sort/gff3sort.pl line 67, <$_[...]> line 173.\n",
      "Use of uninitialized value $pos in hash element at /home/anjuni/myapps/gff3sort/gff3sort.pl line 67, <$_[...]> line 174.\n",
      "Use of uninitialized value $pos in hash element at /home/anjuni/myapps/gff3sort/gff3sort.pl line 67, <$_[...]> line 175.\n",
      "Use of uninitialized value $pos in hash element at /home/anjuni/myapps/gff3sort/gff3sort.pl line 67, <$_[...]> line 176.\n",
      "Use of uninitialized value $pos in hash element at /home/anjuni/myapps/gff3sort/gff3sort.pl line 67, <$_[...]> line 177.\n",
      "Use of uninitialized value $pos in hash element at /home/anjuni/myapps/gff3sort/gff3sort.pl line 67, <$_[...]> line 178.\n",
      "Use of uninitialized value $pos in hash element at /home/anjuni/myapps/gff3sort/gff3sort.pl line 67, <$_[...]> line 179.\n",
      "Use of uninitialized value $pos in hash element at /home/anjuni/myapps/gff3sort/gff3sort.pl line 67, <$_[...]> line 180.\n",
      "Use of uninitialized value $pos in hash element at /home/anjuni/myapps/gff3sort/gff3sort.pl line 67, <$_[...]> line 181.\n",
      "Use of uninitialized value $pos in hash element at /home/anjuni/myapps/gff3sort/gff3sort.pl line 67, <$_[...]> line 182.\n",
      "Use of uninitialized value $pos in hash element at /home/anjuni/myapps/gff3sort/gff3sort.pl line 67, <$_[...]> line 183.\n",
      "Use of uninitialized value $pos in hash element at /home/anjuni/myapps/gff3sort/gff3sort.pl line 67, <$_[...]> line 184.\n",
      "Use of uninitialized value $pos in hash element at /home/anjuni/myapps/gff3sort/gff3sort.pl line 67, <$_[...]> line 185.\n",
      "Use of uninitialized value $pos in hash element at /home/anjuni/myapps/gff3sort/gff3sort.pl line 67, <$_[...]> line 186.\n",
      "Use of uninitialized value $pos in hash element at /home/anjuni/myapps/gff3sort/gff3sort.pl line 67, <$_[...]> line 187.\n",
      "Use of uninitialized value $pos in hash element at /home/anjuni/myapps/gff3sort/gff3sort.pl line 67, <$_[...]> line 188.\n",
      "Use of uninitialized value $pos in hash element at /home/anjuni/myapps/gff3sort/gff3sort.pl line 67, <$_[...]> line 189.\n",
      "Use of uninitialized value $pos in hash element at /home/anjuni/myapps/gff3sort/gff3sort.pl line 67, <$_[...]> line 190.\n",
      "Use of uninitialized value $pos in hash element at /home/anjuni/myapps/gff3sort/gff3sort.pl line 67, <$_[...]> line 191.\n",
      "Use of uninitialized value $pos in hash element at /home/anjuni/myapps/gff3sort/gff3sort.pl line 67, <$_[...]> line 192.\n",
      "Use of uninitialized value $pos in hash element at /home/anjuni/myapps/gff3sort/gff3sort.pl line 67, <$_[...]> line 193.\n",
      "Use of uninitialized value $pos in hash element at /home/anjuni/myapps/gff3sort/gff3sort.pl line 67, <$_[...]> line 194.\n",
      "Use of uninitialized value $pos in hash element at /home/anjuni/myapps/gff3sort/gff3sort.pl line 67, <$_[...]> line 195.\n",
      "Use of uninitialized value $pos in hash element at /home/anjuni/myapps/gff3sort/gff3sort.pl line 67, <$_[...]> line 196.\n",
      "Use of uninitialized value $pos in hash element at /home/anjuni/myapps/gff3sort/gff3sort.pl line 67, <$_[...]> line 197.\n",
      "Use of uninitialized value $pos in hash element at /home/anjuni/myapps/gff3sort/gff3sort.pl line 67, <$_[...]> line 198.\n",
      "Use of uninitialized value $pos in hash element at /home/anjuni/myapps/gff3sort/gff3sort.pl line 67, <$_[...]> line 199.\n",
      "Use of uninitialized value $pos in hash element at /home/anjuni/myapps/gff3sort/gff3sort.pl line 67, <$_[...]> line 200.\n",
      "Use of uninitialized value $pos in hash element at /home/anjuni/myapps/gff3sort/gff3sort.pl line 67, <$_[...]> line 201.\n",
      "Use of uninitialized value $pos in hash element at /home/anjuni/myapps/gff3sort/gff3sort.pl line 67, <$_[...]> line 202.\n",
      "Use of uninitialized value $pos in hash element at /home/anjuni/myapps/gff3sort/gff3sort.pl line 67, <$_[...]> line 203.\n",
      "Use of uninitialized value $pos in hash element at /home/anjuni/myapps/gff3sort/gff3sort.pl line 67, <$_[...]> line 204.\n",
      "Use of uninitialized value $pos in hash element at /home/anjuni/myapps/gff3sort/gff3sort.pl line 67, <$_[...]> line 205.\n",
      "Use of uninitialized value $pos in hash element at /home/anjuni/myapps/gff3sort/gff3sort.pl line 67, <$_[...]> line 206.\n",
      "Use of uninitialized value $pos in hash element at /home/anjuni/myapps/gff3sort/gff3sort.pl line 67, <$_[...]> line 207.\n",
      "Use of uninitialized value $pos in hash element at /home/anjuni/myapps/gff3sort/gff3sort.pl line 67, <$_[...]> line 208.\n",
      "Use of uninitialized value $pos in hash element at /home/anjuni/myapps/gff3sort/gff3sort.pl line 67, <$_[...]> line 209.\n",
      "Use of uninitialized value $pos in hash element at /home/anjuni/myapps/gff3sort/gff3sort.pl line 67, <$_[...]> line 210.\n",
      "Use of uninitialized value $pos in hash element at /home/anjuni/myapps/gff3sort/gff3sort.pl line 67, <$_[...]> line 211.\n",
      "Use of uninitialized value $pos in hash element at /home/anjuni/myapps/gff3sort/gff3sort.pl line 67, <$_[...]> line 212.\n",
      "Use of uninitialized value $pos in hash element at /home/anjuni/myapps/gff3sort/gff3sort.pl line 67, <$_[...]> line 213.\n",
      "Use of uninitialized value $pos in hash element at /home/anjuni/myapps/gff3sort/gff3sort.pl line 67, <$_[...]> line 214.\n",
      "Use of uninitialized value $pos in hash element at /home/anjuni/myapps/gff3sort/gff3sort.pl line 67, <$_[...]> line 215.\n",
      "Use of uninitialized value $pos in hash element at /home/anjuni/myapps/gff3sort/gff3sort.pl line 67, <$_[...]> line 216.\n",
      "Use of uninitialized value $pos in hash element at /home/anjuni/myapps/gff3sort/gff3sort.pl line 67, <$_[...]> line 217.\n",
      "Use of uninitialized value $pos in hash element at /home/anjuni/myapps/gff3sort/gff3sort.pl line 67, <$_[...]> line 218.\n",
      "Use of uninitialized value $pos in hash element at /home/anjuni/myapps/gff3sort/gff3sort.pl line 67, <$_[...]> line 219.\n",
      "Use of uninitialized value $pos in hash element at /home/anjuni/myapps/gff3sort/gff3sort.pl line 67, <$_[...]> line 220.\n",
      "Use of uninitialized value $pos in hash element at /home/anjuni/myapps/gff3sort/gff3sort.pl line 67, <$_[...]> line 221.\n",
      "Use of uninitialized value $pos in hash element at /home/anjuni/myapps/gff3sort/gff3sort.pl line 67, <$_[...]> line 222.\n",
      "Use of uninitialized value $pos in hash element at /home/anjuni/myapps/gff3sort/gff3sort.pl line 67, <$_[...]> line 223.\n",
      "Use of uninitialized value $pos in hash element at /home/anjuni/myapps/gff3sort/gff3sort.pl line 67, <$_[...]> line 224.\n",
      "Use of uninitialized value $pos in hash element at /home/anjuni/myapps/gff3sort/gff3sort.pl line 67, <$_[...]> line 225.\n",
      "Use of uninitialized value $pos in hash element at /home/anjuni/myapps/gff3sort/gff3sort.pl line 67, <$_[...]> line 226.\n",
      "Use of uninitialized value $pos in hash element at /home/anjuni/myapps/gff3sort/gff3sort.pl line 67, <$_[...]> line 227.\n",
      "Use of uninitialized value $pos in hash element at /home/anjuni/myapps/gff3sort/gff3sort.pl line 67, <$_[...]> line 228.\n",
      "Use of uninitialized value $pos in hash element at /home/anjuni/myapps/gff3sort/gff3sort.pl line 67, <$_[...]> line 229.\n",
      "Use of uninitialized value $pos in hash element at /home/anjuni/myapps/gff3sort/gff3sort.pl line 67, <$_[...]> line 230.\n",
      "Use of uninitialized value $pos in hash element at /home/anjuni/myapps/gff3sort/gff3sort.pl line 67, <$_[...]> line 231.\n",
      "Use of uninitialized value $pos in hash element at /home/anjuni/myapps/gff3sort/gff3sort.pl line 67, <$_[...]> line 232.\n",
      "Use of uninitialized value $pos in hash element at /home/anjuni/myapps/gff3sort/gff3sort.pl line 67, <$_[...]> line 233.\n",
      "Use of uninitialized value $pos in hash element at /home/anjuni/myapps/gff3sort/gff3sort.pl line 67, <$_[...]> line 234.\n",
      "Use of uninitialized value $pos in hash element at /home/anjuni/myapps/gff3sort/gff3sort.pl line 67, <$_[...]> line 235.\n",
      "Use of uninitialized value $pos in hash element at /home/anjuni/myapps/gff3sort/gff3sort.pl line 67, <$_[...]> line 236.\n",
      "Use of uninitialized value $pos in hash element at /home/anjuni/myapps/gff3sort/gff3sort.pl line 67, <$_[...]> line 237.\n",
      "Use of uninitialized value $pos in hash element at /home/anjuni/myapps/gff3sort/gff3sort.pl line 67, <$_[...]> line 238.\n",
      "Use of uninitialized value $pos in hash element at /home/anjuni/myapps/gff3sort/gff3sort.pl line 67, <$_[...]> line 239.\n",
      "Use of uninitialized value $pos in hash element at /home/anjuni/myapps/gff3sort/gff3sort.pl line 67, <$_[...]> line 240.\n",
      "Use of uninitialized value $pos in hash element at /home/anjuni/myapps/gff3sort/gff3sort.pl line 67, <$_[...]> line 241.\n",
      "Use of uninitialized value $pos in hash element at /home/anjuni/myapps/gff3sort/gff3sort.pl line 67, <$_[...]> line 242.\n",
      "Use of uninitialized value $pos in hash element at /home/anjuni/myapps/gff3sort/gff3sort.pl line 67, <$_[...]> line 243.\n",
      "Use of uninitialized value $pos in hash element at /home/anjuni/myapps/gff3sort/gff3sort.pl line 67, <$_[...]> line 244.\n",
      "Use of uninitialized value $pos in hash element at /home/anjuni/myapps/gff3sort/gff3sort.pl line 67, <$_[...]> line 245.\n",
      "Use of uninitialized value $pos in hash element at /home/anjuni/myapps/gff3sort/gff3sort.pl line 67, <$_[...]> line 246.\n",
      "Use of uninitialized value $pos in hash element at /home/anjuni/myapps/gff3sort/gff3sort.pl line 67, <$_[...]> line 247.\n",
      "Use of uninitialized value $pos in hash element at /home/anjuni/myapps/gff3sort/gff3sort.pl line 67, <$_[...]> line 248.\n",
      "Use of uninitialized value $pos in hash element at /home/anjuni/myapps/gff3sort/gff3sort.pl line 67, <$_[...]> line 249.\n",
      "Use of uninitialized value $pos in hash element at /home/anjuni/myapps/gff3sort/gff3sort.pl line 67, <$_[...]> line 250.\n",
      "Use of uninitialized value $pos in hash element at /home/anjuni/myapps/gff3sort/gff3sort.pl line 67, <$_[...]> line 251.\n",
      "Use of uninitialized value $pos in hash element at /home/anjuni/myapps/gff3sort/gff3sort.pl line 67, <$_[...]> line 252.\n",
      "Use of uninitialized value $pos in hash element at /home/anjuni/myapps/gff3sort/gff3sort.pl line 67, <$_[...]> line 253.\n",
      "Use of uninitialized value $pos in hash element at /home/anjuni/myapps/gff3sort/gff3sort.pl line 67, <$_[...]> line 254.\n",
      "Use of uninitialized value $pos in hash element at /home/anjuni/myapps/gff3sort/gff3sort.pl line 67, <$_[...]> line 255.\n",
      "Use of uninitialized value $pos in hash element at /home/anjuni/myapps/gff3sort/gff3sort.pl line 67, <$_[...]> line 256.\n",
      "Use of uninitialized value $pos in hash element at /home/anjuni/myapps/gff3sort/gff3sort.pl line 67, <$_[...]> line 257.\n",
      "Use of uninitialized value $pos in hash element at /home/anjuni/myapps/gff3sort/gff3sort.pl line 67, <$_[...]> line 258.\n",
      "Use of uninitialized value $pos in hash element at /home/anjuni/myapps/gff3sort/gff3sort.pl line 67, <$_[...]> line 259.\n",
      "Use of uninitialized value $pos in hash element at /home/anjuni/myapps/gff3sort/gff3sort.pl line 67, <$_[...]> line 260.\n",
      "Use of uninitialized value $pos in hash element at /home/anjuni/myapps/gff3sort/gff3sort.pl line 67, <$_[...]> line 261.\n",
      "Use of uninitialized value $pos in hash element at /home/anjuni/myapps/gff3sort/gff3sort.pl line 67, <$_[...]> line 262.\n",
      "Use of uninitialized value $pos in hash element at /home/anjuni/myapps/gff3sort/gff3sort.pl line 67, <$_[...]> line 263.\n",
      "Use of uninitialized value $pos in hash element at /home/anjuni/myapps/gff3sort/gff3sort.pl line 67, <$_[...]> line 264.\n",
      "Use of uninitialized value $pos in hash element at /home/anjuni/myapps/gff3sort/gff3sort.pl line 67, <$_[...]> line 265.\n",
      "Use of uninitialized value $pos in hash element at /home/anjuni/myapps/gff3sort/gff3sort.pl line 67, <$_[...]> line 266.\n",
      "Use of uninitialized value $pos in hash element at /home/anjuni/myapps/gff3sort/gff3sort.pl line 67, <$_[...]> line 267.\n",
      "Use of uninitialized value $pos in hash element at /home/anjuni/myapps/gff3sort/gff3sort.pl line 67, <$_[...]> line 268.\n",
      "Use of uninitialized value $pos in hash element at /home/anjuni/myapps/gff3sort/gff3sort.pl line 67, <$_[...]> line 269.\n",
      "Use of uninitialized value $pos in hash element at /home/anjuni/myapps/gff3sort/gff3sort.pl line 67, <$_[...]> line 270.\n",
      "Use of uninitialized value $pos in hash element at /home/anjuni/myapps/gff3sort/gff3sort.pl line 67, <$_[...]> line 271.\n",
      "Use of uninitialized value $pos in hash element at /home/anjuni/myapps/gff3sort/gff3sort.pl line 67, <$_[...]> line 272.\n",
      "Use of uninitialized value $pos in hash element at /home/anjuni/myapps/gff3sort/gff3sort.pl line 67, <$_[...]> line 273.\n",
      "Use of uninitialized value $pos in hash element at /home/anjuni/myapps/gff3sort/gff3sort.pl line 67, <$_[...]> line 274.\n",
      "Use of uninitialized value $pos in hash element at /home/anjuni/myapps/gff3sort/gff3sort.pl line 67, <$_[...]> line 275.\n",
      "Use of uninitialized value $pos in hash element at /home/anjuni/myapps/gff3sort/gff3sort.pl line 67, <$_[...]> line 276.\n",
      "Use of uninitialized value $pos in hash element at /home/anjuni/myapps/gff3sort/gff3sort.pl line 67, <$_[...]> line 277.\n",
      "Use of uninitialized value $pos in hash element at /home/anjuni/myapps/gff3sort/gff3sort.pl line 67, <$_[...]> line 278.\n",
      "Use of uninitialized value $pos in hash element at /home/anjuni/myapps/gff3sort/gff3sort.pl line 67, <$_[...]> line 279.\n",
      "Use of uninitialized value $pos in hash element at /home/anjuni/myapps/gff3sort/gff3sort.pl line 67, <$_[...]> line 280.\n",
      "Use of uninitialized value $pos in hash element at /home/anjuni/myapps/gff3sort/gff3sort.pl line 67, <$_[...]> line 281.\n",
      "Use of uninitialized value $pos in hash element at /home/anjuni/myapps/gff3sort/gff3sort.pl line 67, <$_[...]> line 282.\n",
      "Use of uninitialized value $pos in hash element at /home/anjuni/myapps/gff3sort/gff3sort.pl line 67, <$_[...]> line 283.\n",
      "Use of uninitialized value $pos in hash element at /home/anjuni/myapps/gff3sort/gff3sort.pl line 67, <$_[...]> line 284.\n",
      "Use of uninitialized value $pos in hash element at /home/anjuni/myapps/gff3sort/gff3sort.pl line 67, <$_[...]> line 285.\n",
      "Use of uninitialized value $pos in hash element at /home/anjuni/myapps/gff3sort/gff3sort.pl line 67, <$_[...]> line 286.\n",
      "Use of uninitialized value $pos in hash element at /home/anjuni/myapps/gff3sort/gff3sort.pl line 67, <$_[...]> line 287.\n",
      "Use of uninitialized value $pos in hash element at /home/anjuni/myapps/gff3sort/gff3sort.pl line 67, <$_[...]> line 288.\n",
      "Use of uninitialized value $pos in hash element at /home/anjuni/myapps/gff3sort/gff3sort.pl line 67, <$_[...]> line 289.\n",
      "Use of uninitialized value $pos in hash element at /home/anjuni/myapps/gff3sort/gff3sort.pl line 67, <$_[...]> line 290.\n",
      "Use of uninitialized value $pos in hash element at /home/anjuni/myapps/gff3sort/gff3sort.pl line 67, <$_[...]> line 291.\n",
      "Use of uninitialized value $pos in hash element at /home/anjuni/myapps/gff3sort/gff3sort.pl line 67, <$_[...]> line 292.\n",
      "Use of uninitialized value $pos in hash element at /home/anjuni/myapps/gff3sort/gff3sort.pl line 67, <$_[...]> line 293.\n",
      "Use of uninitialized value $pos in hash element at /home/anjuni/myapps/gff3sort/gff3sort.pl line 67, <$_[...]> line 294.\n",
      "Use of uninitialized value $pos in hash element at /home/anjuni/myapps/gff3sort/gff3sort.pl line 67, <$_[...]> line 295.\n",
      "Use of uninitialized value $pos in hash element at /home/anjuni/myapps/gff3sort/gff3sort.pl line 67, <$_[...]> line 296.\n",
      "Use of uninitialized value $pos in hash element at /home/anjuni/myapps/gff3sort/gff3sort.pl line 67, <$_[...]> line 297.\n",
      "Use of uninitialized value $pos in hash element at /home/anjuni/myapps/gff3sort/gff3sort.pl line 67, <$_[...]> line 298.\n",
      "Use of uninitialized value $pos in hash element at /home/anjuni/myapps/gff3sort/gff3sort.pl line 67, <$_[...]> line 299.\n",
      "Use of uninitialized value $pos in hash element at /home/anjuni/myapps/gff3sort/gff3sort.pl line 67, <$_[...]> line 300.\n",
      "Use of uninitialized value $pos in hash element at /home/anjuni/myapps/gff3sort/gff3sort.pl line 67, <$_[...]> line 301.\n",
      "Use of uninitialized value $pos in hash element at /home/anjuni/myapps/gff3sort/gff3sort.pl line 67, <$_[...]> line 302.\n",
      "Use of uninitialized value $pos in hash element at /home/anjuni/myapps/gff3sort/gff3sort.pl line 67, <$_[...]> line 303.\n",
      "Use of uninitialized value $pos in hash element at /home/anjuni/myapps/gff3sort/gff3sort.pl line 67, <$_[...]> line 304.\n",
      "Use of uninitialized value $pos in hash element at /home/anjuni/myapps/gff3sort/gff3sort.pl line 67, <$_[...]> line 305.\n",
      "Use of uninitialized value $pos in hash element at /home/anjuni/myapps/gff3sort/gff3sort.pl line 67, <$_[...]> line 306.\n",
      "Use of uninitialized value $pos in hash element at /home/anjuni/myapps/gff3sort/gff3sort.pl line 67, <$_[...]> line 307.\n",
      "Use of uninitialized value $pos in hash element at /home/anjuni/myapps/gff3sort/gff3sort.pl line 67, <$_[...]> line 308.\n",
      "Use of uninitialized value $pos in hash element at /home/anjuni/myapps/gff3sort/gff3sort.pl line 67, <$_[...]> line 309.\n",
      "Use of uninitialized value $pos in hash element at /home/anjuni/myapps/gff3sort/gff3sort.pl line 67, <$_[...]> line 310.\n",
      "Use of uninitialized value $pos in hash element at /home/anjuni/myapps/gff3sort/gff3sort.pl line 67, <$_[...]> line 311.\n",
      "Use of uninitialized value $pos in hash element at /home/anjuni/myapps/gff3sort/gff3sort.pl line 67, <$_[...]> line 312.\n",
      "Use of uninitialized value $pos in hash element at /home/anjuni/myapps/gff3sort/gff3sort.pl line 67, <$_[...]> line 313.\n",
      "Use of uninitialized value $pos in hash element at /home/anjuni/myapps/gff3sort/gff3sort.pl line 67, <$_[...]> line 314.\n",
      "Use of uninitialized value $pos in hash element at /home/anjuni/myapps/gff3sort/gff3sort.pl line 67, <$_[...]> line 315.\n",
      "Use of uninitialized value $pos in hash element at /home/anjuni/myapps/gff3sort/gff3sort.pl line 67, <$_[...]> line 316.\n",
      "Use of uninitialized value $pos in hash element at /home/anjuni/myapps/gff3sort/gff3sort.pl line 67, <$_[...]> line 317.\n",
      "Use of uninitialized value $pos in hash element at /home/anjuni/myapps/gff3sort/gff3sort.pl line 67, <$_[...]> line 318.\n",
      "Use of uninitialized value $pos in hash element at /home/anjuni/myapps/gff3sort/gff3sort.pl line 67, <$_[...]> line 319.\n",
      "Use of uninitialized value $pos in hash element at /home/anjuni/myapps/gff3sort/gff3sort.pl line 67, <$_[...]> line 320.\n",
      "Use of uninitialized value $pos in hash element at /home/anjuni/myapps/gff3sort/gff3sort.pl line 67, <$_[...]> line 321.\n",
      "Use of uninitialized value $pos in hash element at /home/anjuni/myapps/gff3sort/gff3sort.pl line 67, <$_[...]> line 322.\n",
      "Use of uninitialized value $pos in hash element at /home/anjuni/myapps/gff3sort/gff3sort.pl line 67, <$_[...]> line 323.\n",
      "Use of uninitialized value $pos in hash element at /home/anjuni/myapps/gff3sort/gff3sort.pl line 67, <$_[...]> line 324.\n",
      "Use of uninitialized value $pos in hash element at /home/anjuni/myapps/gff3sort/gff3sort.pl line 67, <$_[...]> line 325.\n",
      "Use of uninitialized value $pos in hash element at /home/anjuni/myapps/gff3sort/gff3sort.pl line 67, <$_[...]> line 326.\n",
      "Use of uninitialized value $pos in hash element at /home/anjuni/myapps/gff3sort/gff3sort.pl line 67, <$_[...]> line 327.\n",
      "Use of uninitialized value $pos in hash element at /home/anjuni/myapps/gff3sort/gff3sort.pl line 67, <$_[...]> line 328.\n",
      "Use of uninitialized value $pos in hash element at /home/anjuni/myapps/gff3sort/gff3sort.pl line 67, <$_[...]> line 329.\n",
      "Use of uninitialized value $pos in hash element at /home/anjuni/myapps/gff3sort/gff3sort.pl line 67, <$_[...]> line 330.\n",
      "Use of uninitialized value $pos in hash element at /home/anjuni/myapps/gff3sort/gff3sort.pl line 67, <$_[...]> line 331.\n",
      "Use of uninitialized value $pos in hash element at /home/anjuni/myapps/gff3sort/gff3sort.pl line 67, <$_[...]> line 332.\n",
      "Use of uninitialized value $pos in hash element at /home/anjuni/myapps/gff3sort/gff3sort.pl line 67, <$_[...]> line 333.\n",
      "Use of uninitialized value $pos in hash element at /home/anjuni/myapps/gff3sort/gff3sort.pl line 67, <$_[...]> line 334.\n",
      "Use of uninitialized value $pos in hash element at /home/anjuni/myapps/gff3sort/gff3sort.pl line 67, <$_[...]> line 335.\n",
      "Use of uninitialized value $pos in hash element at /home/anjuni/myapps/gff3sort/gff3sort.pl line 67, <$_[...]> line 336.\n",
      "Use of uninitialized value $pos in hash element at /home/anjuni/myapps/gff3sort/gff3sort.pl line 67, <$_[...]> line 337.\n",
      "Use of uninitialized value $pos in hash element at /home/anjuni/myapps/gff3sort/gff3sort.pl line 67, <$_[...]> line 338.\n",
      "Use of uninitialized value $pos in hash element at /home/anjuni/myapps/gff3sort/gff3sort.pl line 67, <$_[...]> line 339.\n",
      "Use of uninitialized value $pos in hash element at /home/anjuni/myapps/gff3sort/gff3sort.pl line 67, <$_[...]> line 340.\n",
      "Use of uninitialized value $pos in hash element at /home/anjuni/myapps/gff3sort/gff3sort.pl line 67, <$_[...]> line 341.\n",
      "Use of uninitialized value $pos in hash element at /home/anjuni/myapps/gff3sort/gff3sort.pl line 67, <$_[...]> line 342.\n",
      "Use of uninitialized value $pos in hash element at /home/anjuni/myapps/gff3sort/gff3sort.pl line 67, <$_[...]> line 343.\n",
      "Use of uninitialized value $pos in hash element at /home/anjuni/myapps/gff3sort/gff3sort.pl line 67, <$_[...]> line 344.\n",
      "Use of uninitialized value $pos in hash element at /home/anjuni/myapps/gff3sort/gff3sort.pl line 67, <$_[...]> line 345.\n",
      "Use of uninitialized value $pos in hash element at /home/anjuni/myapps/gff3sort/gff3sort.pl line 67, <$_[...]> line 346.\n",
      "Use of uninitialized value $pos in hash element at /home/anjuni/myapps/gff3sort/gff3sort.pl line 67, <$_[...]> line 347.\n",
      "Use of uninitialized value $pos in hash element at /home/anjuni/myapps/gff3sort/gff3sort.pl line 67, <$_[...]> line 348.\n",
      "Use of uninitialized value $pos in hash element at /home/anjuni/myapps/gff3sort/gff3sort.pl line 67, <$_[...]> line 349.\n",
      "Use of uninitialized value $pos in hash element at /home/anjuni/myapps/gff3sort/gff3sort.pl line 67, <$_[...]> line 350.\n",
      "Use of uninitialized value $pos in hash element at /home/anjuni/myapps/gff3sort/gff3sort.pl line 67, <$_[...]> line 351.\n",
      "Use of uninitialized value $pos in hash element at /home/anjuni/myapps/gff3sort/gff3sort.pl line 67, <$_[...]> line 352.\n",
      "Use of uninitialized value $pos in hash element at /home/anjuni/myapps/gff3sort/gff3sort.pl line 67, <$_[...]> line 353.\n",
      "Use of uninitialized value $pos in hash element at /home/anjuni/myapps/gff3sort/gff3sort.pl line 67, <$_[...]> line 354.\n",
      "Use of uninitialized value $pos in hash element at /home/anjuni/myapps/gff3sort/gff3sort.pl line 67, <$_[...]> line 355.\n",
      "Use of uninitialized value $pos in hash element at /home/anjuni/myapps/gff3sort/gff3sort.pl line 67, <$_[...]> line 356.\n",
      "Use of uninitialized value $pos in hash element at /home/anjuni/myapps/gff3sort/gff3sort.pl line 67, <$_[...]> line 357.\n",
      "Use of uninitialized value $pos in hash element at /home/anjuni/myapps/gff3sort/gff3sort.pl line 67, <$_[...]> line 358.\n",
      "Use of uninitialized value $pos in hash element at /home/anjuni/myapps/gff3sort/gff3sort.pl line 67, <$_[...]> line 359.\n",
      "Use of uninitialized value $pos in hash element at /home/anjuni/myapps/gff3sort/gff3sort.pl line 67, <$_[...]> line 360.\n",
      "Use of uninitialized value $pos in hash element at /home/anjuni/myapps/gff3sort/gff3sort.pl line 67, <$_[...]> line 361.\n",
      "Use of uninitialized value $pos in hash element at /home/anjuni/myapps/gff3sort/gff3sort.pl line 67, <$_[...]> line 362.\n",
      "Use of uninitialized value $pos in hash element at /home/anjuni/myapps/gff3sort/gff3sort.pl line 67, <$_[...]> line 363.\n",
      "Use of uninitialized value $pos in hash element at /home/anjuni/myapps/gff3sort/gff3sort.pl line 67, <$_[...]> line 364.\n",
      "Use of uninitialized value $pos in hash element at /home/anjuni/myapps/gff3sort/gff3sort.pl line 67, <$_[...]> line 365.\n",
      "Use of uninitialized value $pos in hash element at /home/anjuni/myapps/gff3sort/gff3sort.pl line 67, <$_[...]> line 366.\n",
      "Use of uninitialized value $pos in hash element at /home/anjuni/myapps/gff3sort/gff3sort.pl line 67, <$_[...]> line 367.\n",
      "Use of uninitialized value $pos in hash element at /home/anjuni/myapps/gff3sort/gff3sort.pl line 67, <$_[...]> line 368.\n",
      "Use of uninitialized value $pos in hash element at /home/anjuni/myapps/gff3sort/gff3sort.pl line 67, <$_[...]> line 369.\n",
      "Use of uninitialized value $pos in hash element at /home/anjuni/myapps/gff3sort/gff3sort.pl line 67, <$_[...]> line 370.\n",
      "Use of uninitialized value $pos in hash element at /home/anjuni/myapps/gff3sort/gff3sort.pl line 67, <$_[...]> line 371.\n",
      "Use of uninitialized value $pos in hash element at /home/anjuni/myapps/gff3sort/gff3sort.pl line 67, <$_[...]> line 372.\n",
      "Use of uninitialized value $pos in hash element at /home/anjuni/myapps/gff3sort/gff3sort.pl line 67, <$_[...]> line 373.\n",
      "Use of uninitialized value $pos in hash element at /home/anjuni/myapps/gff3sort/gff3sort.pl line 67, <$_[...]> line 374.\n",
      "Use of uninitialized value $pos in hash element at /home/anjuni/myapps/gff3sort/gff3sort.pl line 67, <$_[...]> line 375.\n",
      "Use of uninitialized value $pos in hash element at /home/anjuni/myapps/gff3sort/gff3sort.pl line 67, <$_[...]> line 376.\n",
      "Use of uninitialized value $pos in hash element at /home/anjuni/myapps/gff3sort/gff3sort.pl line 67, <$_[...]> line 377.\n",
      "Use of uninitialized value $pos in hash element at /home/anjuni/myapps/gff3sort/gff3sort.pl line 67, <$_[...]> line 378.\n",
      "Use of uninitialized value $pos in hash element at /home/anjuni/myapps/gff3sort/gff3sort.pl line 67, <$_[...]> line 379.\n",
      "Use of uninitialized value $pos in hash element at /home/anjuni/myapps/gff3sort/gff3sort.pl line 67, <$_[...]> line 380.\n",
      "Use of uninitialized value $pos in hash element at /home/anjuni/myapps/gff3sort/gff3sort.pl line 67, <$_[...]> line 381.\n",
      "Use of uninitialized value $pos in hash element at /home/anjuni/myapps/gff3sort/gff3sort.pl line 67, <$_[...]> line 382.\n",
      "Use of uninitialized value $pos in hash element at /home/anjuni/myapps/gff3sort/gff3sort.pl line 67, <$_[...]> line 383.\n",
      "Use of uninitialized value $pos in hash element at /home/anjuni/myapps/gff3sort/gff3sort.pl line 67, <$_[...]> line 384.\n",
      "Use of uninitialized value $pos in hash element at /home/anjuni/myapps/gff3sort/gff3sort.pl line 67, <$_[...]> line 385.\n",
      "Use of uninitialized value $pos in hash element at /home/anjuni/myapps/gff3sort/gff3sort.pl line 67, <$_[...]> line 386.\n",
      "Use of uninitialized value $pos in hash element at /home/anjuni/myapps/gff3sort/gff3sort.pl line 67, <$_[...]> line 387.\n",
      "Use of uninitialized value $pos in hash element at /home/anjuni/myapps/gff3sort/gff3sort.pl line 67, <$_[...]> line 388.\n",
      "Use of uninitialized value $pos in hash element at /home/anjuni/myapps/gff3sort/gff3sort.pl line 67, <$_[...]> line 389.\n",
      "Use of uninitialized value $pos in hash element at /home/anjuni/myapps/gff3sort/gff3sort.pl line 67, <$_[...]> line 390.\n",
      "Use of uninitialized value $pos in hash element at /home/anjuni/myapps/gff3sort/gff3sort.pl line 67, <$_[...]> line 391.\n",
      "Use of uninitialized value $pos in hash element at /home/anjuni/myapps/gff3sort/gff3sort.pl line 67, <$_[...]> line 392.\n",
      "Use of uninitialized value $pos in hash element at /home/anjuni/myapps/gff3sort/gff3sort.pl line 67, <$_[...]> line 393.\n",
      "Use of uninitialized value $pos in hash element at /home/anjuni/myapps/gff3sort/gff3sort.pl line 67, <$_[...]> line 394.\n",
      "Use of uninitialized value $pos in hash element at /home/anjuni/myapps/gff3sort/gff3sort.pl line 67, <$_[...]> line 395.\n",
      "Use of uninitialized value $pos in hash element at /home/anjuni/myapps/gff3sort/gff3sort.pl line 67, <$_[...]> line 396.\n",
      "Use of uninitialized value $pos in hash element at /home/anjuni/myapps/gff3sort/gff3sort.pl line 67, <$_[...]> line 397.\n",
      "Use of uninitialized value $pos in hash element at /home/anjuni/myapps/gff3sort/gff3sort.pl line 67, <$_[...]> line 398.\n",
      "Use of uninitialized value $pos in hash element at /home/anjuni/myapps/gff3sort/gff3sort.pl line 67, <$_[...]> line 399.\n",
      "Use of uninitialized value $pos in hash element at /home/anjuni/myapps/gff3sort/gff3sort.pl line 67, <$_[...]> line 400.\n",
      "Use of uninitialized value $pos in hash element at /home/anjuni/myapps/gff3sort/gff3sort.pl line 67, <$_[...]> line 401.\n",
      "Use of uninitialized value $pos in hash element at /home/anjuni/myapps/gff3sort/gff3sort.pl line 67, <$_[...]> line 402.\n",
      "Use of uninitialized value $pos in hash element at /home/anjuni/myapps/gff3sort/gff3sort.pl line 67, <$_[...]> line 403.\n",
      "Use of uninitialized value $pos in hash element at /home/anjuni/myapps/gff3sort/gff3sort.pl line 67, <$_[...]> line 404.\n",
      "Use of uninitialized value $pos in hash element at /home/anjuni/myapps/gff3sort/gff3sort.pl line 67, <$_[...]> line 405.\n",
      "Use of uninitialized value $pos in hash element at /home/anjuni/myapps/gff3sort/gff3sort.pl line 67, <$_[...]> line 406.\n",
      "Use of uninitialized value $pos in hash element at /home/anjuni/myapps/gff3sort/gff3sort.pl line 67, <$_[...]> line 407.\n",
      "Use of uninitialized value $pos in hash element at /home/anjuni/myapps/gff3sort/gff3sort.pl line 67, <$_[...]> line 408.\n",
      "Use of uninitialized value $pos in hash element at /home/anjuni/myapps/gff3sort/gff3sort.pl line 67, <$_[...]> line 409.\n",
      "Use of uninitialized value $pos in hash element at /home/anjuni/myapps/gff3sort/gff3sort.pl line 67, <$_[...]> line 410.\n",
      "Use of uninitialized value $pos in hash element at /home/anjuni/myapps/gff3sort/gff3sort.pl line 67, <$_[...]> line 411.\n",
      "Use of uninitialized value $pos in hash element at /home/anjuni/myapps/gff3sort/gff3sort.pl line 67, <$_[...]> line 412.\n",
      "Use of uninitialized value $pos in hash element at /home/anjuni/myapps/gff3sort/gff3sort.pl line 67, <$_[...]> line 413.\n",
      "Use of uninitialized value $pos in hash element at /home/anjuni/myapps/gff3sort/gff3sort.pl line 67, <$_[...]> line 414.\n",
      "Use of uninitialized value $pos in hash element at /home/anjuni/myapps/gff3sort/gff3sort.pl line 67, <$_[...]> line 415.\n",
      "Use of uninitialized value $pos in hash element at /home/anjuni/myapps/gff3sort/gff3sort.pl line 67, <$_[...]> line 416.\n",
      "Use of uninitialized value $pos in hash element at /home/anjuni/myapps/gff3sort/gff3sort.pl line 67, <$_[...]> line 417.\n",
      "Use of uninitialized value $pos in hash element at /home/anjuni/myapps/gff3sort/gff3sort.pl line 67, <$_[...]> line 418.\n",
      "Use of uninitialized value $pos in hash element at /home/anjuni/myapps/gff3sort/gff3sort.pl line 67, <$_[...]> line 419.\n",
      "Use of uninitialized value $pos in hash element at /home/anjuni/myapps/gff3sort/gff3sort.pl line 67, <$_[...]> line 420.\n",
      "Use of uninitialized value $pos in hash element at /home/anjuni/myapps/gff3sort/gff3sort.pl line 67, <$_[...]> line 421.\n",
      "Use of uninitialized value $pos in hash element at /home/anjuni/myapps/gff3sort/gff3sort.pl line 67, <$_[...]> line 422.\n",
      "Use of uninitialized value $pos in hash element at /home/anjuni/myapps/gff3sort/gff3sort.pl line 67, <$_[...]> line 423.\n",
      "Use of uninitialized value $pos in hash element at /home/anjuni/myapps/gff3sort/gff3sort.pl line 67, <$_[...]> line 424.\n",
      "Use of uninitialized value $pos in hash element at /home/anjuni/myapps/gff3sort/gff3sort.pl line 67, <$_[...]> line 425.\n",
      "Use of uninitialized value $pos in hash element at /home/anjuni/myapps/gff3sort/gff3sort.pl line 67, <$_[...]> line 426.\n",
      "Use of uninitialized value $pos in hash element at /home/anjuni/myapps/gff3sort/gff3sort.pl line 67, <$_[...]> line 427.\n",
      "Use of uninitialized value $pos in hash element at /home/anjuni/myapps/gff3sort/gff3sort.pl line 67, <$_[...]> line 428.\n",
      "Use of uninitialized value $pos in hash element at /home/anjuni/myapps/gff3sort/gff3sort.pl line 67, <$_[...]> line 429.\n",
      "Use of uninitialized value $pos in hash element at /home/anjuni/myapps/gff3sort/gff3sort.pl line 67, <$_[...]> line 430.\n",
      "Use of uninitialized value $pos in hash element at /home/anjuni/myapps/gff3sort/gff3sort.pl line 67, <$_[...]> line 431.\n",
      "Use of uninitialized value $pos in hash element at /home/anjuni/myapps/gff3sort/gff3sort.pl line 67, <$_[...]> line 432.\n",
      "Use of uninitialized value $pos in hash element at /home/anjuni/myapps/gff3sort/gff3sort.pl line 67, <$_[...]> line 433.\n",
      "Use of uninitialized value $pos in hash element at /home/anjuni/myapps/gff3sort/gff3sort.pl line 67, <$_[...]> line 434.\n",
      "Use of uninitialized value $pos in hash element at /home/anjuni/myapps/gff3sort/gff3sort.pl line 67, <$_[...]> line 435.\n",
      "Use of uninitialized value $pos in hash element at /home/anjuni/myapps/gff3sort/gff3sort.pl line 67, <$_[...]> line 436.\n",
      "Use of uninitialized value $pos in hash element at /home/anjuni/myapps/gff3sort/gff3sort.pl line 67, <$_[...]> line 437.\n",
      "Use of uninitialized value $pos in hash element at /home/anjuni/myapps/gff3sort/gff3sort.pl line 67, <$_[...]> line 438.\n",
      "Use of uninitialized value $pos in hash element at /home/anjuni/myapps/gff3sort/gff3sort.pl line 67, <$_[...]> line 439.\n",
      "Use of uninitialized value $pos in hash element at /home/anjuni/myapps/gff3sort/gff3sort.pl line 67, <$_[...]> line 440.\n",
      "Use of uninitialized value $pos in hash element at /home/anjuni/myapps/gff3sort/gff3sort.pl line 67, <$_[...]> line 441.\n",
      "Use of uninitialized value $pos in hash element at /home/anjuni/myapps/gff3sort/gff3sort.pl line 67, <$_[...]> line 442.\n",
      "Use of uninitialized value $pos in hash element at /home/anjuni/myapps/gff3sort/gff3sort.pl line 67, <$_[...]> line 443.\n",
      "Use of uninitialized value $pos in hash element at /home/anjuni/myapps/gff3sort/gff3sort.pl line 67, <$_[...]> line 444.\n",
      "Use of uninitialized value $pos in hash element at /home/anjuni/myapps/gff3sort/gff3sort.pl line 67, <$_[...]> line 445.\n",
      "Use of uninitialized value $pos in hash element at /home/anjuni/myapps/gff3sort/gff3sort.pl line 67, <$_[...]> line 446.\n",
      "Use of uninitialized value $pos in hash element at /home/anjuni/myapps/gff3sort/gff3sort.pl line 67, <$_[...]> line 447.\n",
      "Use of uninitialized value $pos in hash element at /home/anjuni/myapps/gff3sort/gff3sort.pl line 67, <$_[...]> line 448.\n",
      "Use of uninitialized value $pos in hash element at /home/anjuni/myapps/gff3sort/gff3sort.pl line 67, <$_[...]> line 449.\n",
      "Use of uninitialized value $pos in hash element at /home/anjuni/myapps/gff3sort/gff3sort.pl line 67, <$_[...]> line 450.\n",
      "Use of uninitialized value $pos in hash element at /home/anjuni/myapps/gff3sort/gff3sort.pl line 67, <$_[...]> line 451.\n",
      "Use of uninitialized value $pos in hash element at /home/anjuni/myapps/gff3sort/gff3sort.pl line 67, <$_[...]> line 452.\n",
      "Use of uninitialized value $pos in hash element at /home/anjuni/myapps/gff3sort/gff3sort.pl line 67, <$_[...]> line 453.\n",
      "Use of uninitialized value $pos in hash element at /home/anjuni/myapps/gff3sort/gff3sort.pl line 67, <$_[...]> line 454.\n",
      "Use of uninitialized value $pos in hash element at /home/anjuni/myapps/gff3sort/gff3sort.pl line 67, <$_[...]> line 455.\n",
      "Use of uninitialized value $pos in hash element at /home/anjuni/myapps/gff3sort/gff3sort.pl line 67, <$_[...]> line 456.\n",
      "Use of uninitialized value $pos in hash element at /home/anjuni/myapps/gff3sort/gff3sort.pl line 67, <$_[...]> line 457.\n",
      "Use of uninitialized value $pos in hash element at /home/anjuni/myapps/gff3sort/gff3sort.pl line 67, <$_[...]> line 458.\n",
      "Use of uninitialized value $pos in hash element at /home/anjuni/myapps/gff3sort/gff3sort.pl line 67, <$_[...]> line 459.\n",
      "Use of uninitialized value $pos in hash element at /home/anjuni/myapps/gff3sort/gff3sort.pl line 67, <$_[...]> line 460.\n",
      "Use of uninitialized value $pos in hash element at /home/anjuni/myapps/gff3sort/gff3sort.pl line 67, <$_[...]> line 461.\n",
      "Use of uninitialized value $pos in hash element at /home/anjuni/myapps/gff3sort/gff3sort.pl line 67, <$_[...]> line 462.\n",
      "Use of uninitialized value $pos in hash element at /home/anjuni/myapps/gff3sort/gff3sort.pl line 67, <$_[...]> line 463.\n",
      "Use of uninitialized value $pos in hash element at /home/anjuni/myapps/gff3sort/gff3sort.pl line 67, <$_[...]> line 464.\n",
      "Use of uninitialized value $pos in hash element at /home/anjuni/myapps/gff3sort/gff3sort.pl line 67, <$_[...]> line 465.\n",
      "Use of uninitialized value $pos in hash element at /home/anjuni/myapps/gff3sort/gff3sort.pl line 67, <$_[...]> line 466.\n",
      "Use of uninitialized value $pos in hash element at /home/anjuni/myapps/gff3sort/gff3sort.pl line 67, <$_[...]> line 467.\n",
      "Use of uninitialized value $pos in hash element at /home/anjuni/myapps/gff3sort/gff3sort.pl line 67, <$_[...]> line 468.\n",
      "Use of uninitialized value $pos in hash element at /home/anjuni/myapps/gff3sort/gff3sort.pl line 67, <$_[...]> line 469.\n",
      "Use of uninitialized value $pos in hash element at /home/anjuni/myapps/gff3sort/gff3sort.pl line 67, <$_[...]> line 470.\n",
      "Use of uninitialized value $pos in hash element at /home/anjuni/myapps/gff3sort/gff3sort.pl line 67, <$_[...]> line 471.\n",
      "Use of uninitialized value $pos in hash element at /home/anjuni/myapps/gff3sort/gff3sort.pl line 67, <$_[...]> line 472.\n",
      "Use of uninitialized value $pos in hash element at /home/anjuni/myapps/gff3sort/gff3sort.pl line 67, <$_[...]> line 473.\n",
      "Use of uninitialized value $pos in hash element at /home/anjuni/myapps/gff3sort/gff3sort.pl line 67, <$_[...]> line 474.\n",
      "Use of uninitialized value $pos in hash element at /home/anjuni/myapps/gff3sort/gff3sort.pl line 67, <$_[...]> line 475.\n",
      "Use of uninitialized value $pos in hash element at /home/anjuni/myapps/gff3sort/gff3sort.pl line 67, <$_[...]> line 476.\n",
      "Use of uninitialized value $pos in hash element at /home/anjuni/myapps/gff3sort/gff3sort.pl line 67, <$_[...]> line 477.\n",
      "Use of uninitialized value $pos in hash element at /home/anjuni/myapps/gff3sort/gff3sort.pl line 67, <$_[...]> line 478.\n",
      "Use of uninitialized value $pos in hash element at /home/anjuni/myapps/gff3sort/gff3sort.pl line 67, <$_[...]> line 479.\n",
      "Use of uninitialized value $pos in hash element at /home/anjuni/myapps/gff3sort/gff3sort.pl line 67, <$_[...]> line 480.\n",
      "Use of uninitialized value $pos in hash element at /home/anjuni/myapps/gff3sort/gff3sort.pl line 67, <$_[...]> line 481.\n",
      "Use of uninitialized value $pos in hash element at /home/anjuni/myapps/gff3sort/gff3sort.pl line 67, <$_[...]> line 482.\n",
      "Use of uninitialized value $pos in hash element at /home/anjuni/myapps/gff3sort/gff3sort.pl line 67, <$_[...]> line 483.\n",
      "Use of uninitialized value $pos in hash element at /home/anjuni/myapps/gff3sort/gff3sort.pl line 67, <$_[...]> line 484.\n",
      "Use of uninitialized value $pos in hash element at /home/anjuni/myapps/gff3sort/gff3sort.pl line 67, <$_[...]> line 485.\n",
      "Use of uninitialized value $pos in hash element at /home/anjuni/myapps/gff3sort/gff3sort.pl line 67, <$_[...]> line 486.\n",
      "Use of uninitialized value $pos in hash element at /home/anjuni/myapps/gff3sort/gff3sort.pl line 67, <$_[...]> line 487.\n",
      "Use of uninitialized value $pos in hash element at /home/anjuni/myapps/gff3sort/gff3sort.pl line 67, <$_[...]> line 488.\n",
      "Use of uninitialized value $pos in hash element at /home/anjuni/myapps/gff3sort/gff3sort.pl line 67, <$_[...]> line 489.\n",
      "Use of uninitialized value $pos in hash element at /home/anjuni/myapps/gff3sort/gff3sort.pl line 67, <$_[...]> line 490.\n",
      "Use of uninitialized value $pos in hash element at /home/anjuni/myapps/gff3sort/gff3sort.pl line 67, <$_[...]> line 491.\n",
      "Use of uninitialized value $pos in hash element at /home/anjuni/myapps/gff3sort/gff3sort.pl line 67, <$_[...]> line 492.\n",
      "Use of uninitialized value $pos in hash element at /home/anjuni/myapps/gff3sort/gff3sort.pl line 67, <$_[...]> line 493.\n",
      "Use of uninitialized value $pos in hash element at /home/anjuni/myapps/gff3sort/gff3sort.pl line 67, <$_[...]> line 494.\n",
      "Use of uninitialized value $pos in hash element at /home/anjuni/myapps/gff3sort/gff3sort.pl line 67, <$_[...]> line 495.\n",
      "Use of uninitialized value $pos in hash element at /home/anjuni/myapps/gff3sort/gff3sort.pl line 67, <$_[...]> line 496.\n",
      "Use of uninitialized value $pos in hash element at /home/anjuni/myapps/gff3sort/gff3sort.pl line 67, <$_[...]> line 497.\n",
      "Use of uninitialized value $pos in hash element at /home/anjuni/myapps/gff3sort/gff3sort.pl line 67, <$_[...]> line 498.\n",
      "Use of uninitialized value $pos in hash element at /home/anjuni/myapps/gff3sort/gff3sort.pl line 67, <$_[...]> line 499.\n",
      "Use of uninitialized value $pos in hash element at /home/anjuni/myapps/gff3sort/gff3sort.pl line 67, <$_[...]> line 500.\n",
      "Use of uninitialized value $pos in hash element at /home/anjuni/myapps/gff3sort/gff3sort.pl line 67, <$_[...]> line 501.\n",
      "Use of uninitialized value $pos in hash element at /home/anjuni/myapps/gff3sort/gff3sort.pl line 67, <$_[...]> line 502.\n",
      "Use of uninitialized value $pos in hash element at /home/anjuni/myapps/gff3sort/gff3sort.pl line 67, <$_[...]> line 503.\n",
      "Use of uninitialized value $pos in hash element at /home/anjuni/myapps/gff3sort/gff3sort.pl line 67, <$_[...]> line 504.\n",
      "Use of uninitialized value $pos in hash element at /home/anjuni/myapps/gff3sort/gff3sort.pl line 67, <$_[...]> line 505.\n",
      "Use of uninitialized value $pos in hash element at /home/anjuni/myapps/gff3sort/gff3sort.pl line 67, <$_[...]> line 506.\n",
      "Use of uninitialized value $pos in hash element at /home/anjuni/myapps/gff3sort/gff3sort.pl line 67, <$_[...]> line 507.\n",
      "Use of uninitialized value $pos in hash element at /home/anjuni/myapps/gff3sort/gff3sort.pl line 67, <$_[...]> line 508.\n",
      "Use of uninitialized value $pos in hash element at /home/anjuni/myapps/gff3sort/gff3sort.pl line 67, <$_[...]> line 509.\n",
      "Use of uninitialized value $pos in hash element at /home/anjuni/myapps/gff3sort/gff3sort.pl line 67, <$_[...]> line 510.\n",
      "Use of uninitialized value $pos in hash element at /home/anjuni/myapps/gff3sort/gff3sort.pl line 67, <$_[...]> line 511.\n",
      "Use of uninitialized value $pos in hash element at /home/anjuni/myapps/gff3sort/gff3sort.pl line 67, <$_[...]> line 512.\n",
      "Use of uninitialized value $pos in hash element at /home/anjuni/myapps/gff3sort/gff3sort.pl line 67, <$_[...]> line 513.\n",
      "Use of uninitialized value $pos in hash element at /home/anjuni/myapps/gff3sort/gff3sort.pl line 67, <$_[...]> line 514.\n",
      "Use of uninitialized value $pos in hash element at /home/anjuni/myapps/gff3sort/gff3sort.pl line 67, <$_[...]> line 515.\n",
      "Use of uninitialized value $pos in hash element at /home/anjuni/myapps/gff3sort/gff3sort.pl line 67, <$_[...]> line 516.\n",
      "Use of uninitialized value $pos in hash element at /home/anjuni/myapps/gff3sort/gff3sort.pl line 67, <$_[...]> line 517.\n",
      "Use of uninitialized value $pos in hash element at /home/anjuni/myapps/gff3sort/gff3sort.pl line 67, <$_[...]> line 518.\n",
      "Use of uninitialized value $pos in hash element at /home/anjuni/myapps/gff3sort/gff3sort.pl line 67, <$_[...]> line 519.\n",
      "Use of uninitialized value $pos in hash element at /home/anjuni/myapps/gff3sort/gff3sort.pl line 67, <$_[...]> line 520.\n",
      "Use of uninitialized value $pos in hash element at /home/anjuni/myapps/gff3sort/gff3sort.pl line 67, <$_[...]> line 521.\n",
      "Use of uninitialized value $pos in hash element at /home/anjuni/myapps/gff3sort/gff3sort.pl line 67, <$_[...]> line 522.\n",
      "Use of uninitialized value $pos in hash element at /home/anjuni/myapps/gff3sort/gff3sort.pl line 67, <$_[...]> line 523.\n",
      "Use of uninitialized value $pos in hash element at /home/anjuni/myapps/gff3sort/gff3sort.pl line 67, <$_[...]> line 524.\n",
      "Use of uninitialized value $pos in hash element at /home/anjuni/myapps/gff3sort/gff3sort.pl line 67, <$_[...]> line 525.\n",
      "Use of uninitialized value $pos in hash element at /home/anjuni/myapps/gff3sort/gff3sort.pl line 67, <$_[...]> line 526.\n",
      "Use of uninitialized value $pos in hash element at /home/anjuni/myapps/gff3sort/gff3sort.pl line 67, <$_[...]> line 527.\n",
      "Use of uninitialized value $pos in hash element at /home/anjuni/myapps/gff3sort/gff3sort.pl line 67, <$_[...]> line 528.\n",
      "Use of uninitialized value $pos in hash element at /home/anjuni/myapps/gff3sort/gff3sort.pl line 67, <$_[...]> line 529.\n",
      "Use of uninitialized value $pos in hash element at /home/anjuni/myapps/gff3sort/gff3sort.pl line 67, <$_[...]> line 530.\n",
      "Use of uninitialized value $pos in hash element at /home/anjuni/myapps/gff3sort/gff3sort.pl line 67, <$_[...]> line 531.\n",
      "Use of uninitialized value $pos in hash element at /home/anjuni/myapps/gff3sort/gff3sort.pl line 67, <$_[...]> line 532.\n",
      "Use of uninitialized value $pos in hash element at /home/anjuni/myapps/gff3sort/gff3sort.pl line 67, <$_[...]> line 533.\n",
      "Use of uninitialized value $pos in hash element at /home/anjuni/myapps/gff3sort/gff3sort.pl line 67, <$_[...]> line 534.\n",
      "Use of uninitialized value $pos in hash element at /home/anjuni/myapps/gff3sort/gff3sort.pl line 67, <$_[...]> line 535.\n",
      "Use of uninitialized value $pos in hash element at /home/anjuni/myapps/gff3sort/gff3sort.pl line 67, <$_[...]> line 536.\n",
      "Use of uninitialized value $pos in hash element at /home/anjuni/myapps/gff3sort/gff3sort.pl line 67, <$_[...]> line 537.\n",
      "Use of uninitialized value $pos in hash element at /home/anjuni/myapps/gff3sort/gff3sort.pl line 67, <$_[...]> line 538.\n",
      "Use of uninitialized value $pos in hash element at /home/anjuni/myapps/gff3sort/gff3sort.pl line 67, <$_[...]> line 539.\n",
      "Use of uninitialized value $pos in hash element at /home/anjuni/myapps/gff3sort/gff3sort.pl line 67, <$_[...]> line 540.\n",
      "Use of uninitialized value $pos in hash element at /home/anjuni/myapps/gff3sort/gff3sort.pl line 67, <$_[...]> line 541.\n",
      "Use of uninitialized value $pos in hash element at /home/anjuni/myapps/gff3sort/gff3sort.pl line 67, <$_[...]> line 542.\n",
      "Use of uninitialized value $pos in hash element at /home/anjuni/myapps/gff3sort/gff3sort.pl line 67, <$_[...]> line 543.\n",
      "Use of uninitialized value $pos in hash element at /home/anjuni/myapps/gff3sort/gff3sort.pl line 67, <$_[...]> line 544.\n",
      "Use of uninitialized value $pos in hash element at /home/anjuni/myapps/gff3sort/gff3sort.pl line 67, <$_[...]> line 545.\n",
      "Use of uninitialized value $pos in hash element at /home/anjuni/myapps/gff3sort/gff3sort.pl line 67, <$_[...]> line 546.\n",
      "Use of uninitialized value $pos in hash element at /home/anjuni/myapps/gff3sort/gff3sort.pl line 67, <$_[...]> line 547.\n",
      "Use of uninitialized value $pos in hash element at /home/anjuni/myapps/gff3sort/gff3sort.pl line 67, <$_[...]> line 548.\n",
      "Use of uninitialized value $pos in hash element at /home/anjuni/myapps/gff3sort/gff3sort.pl line 67, <$_[...]> line 549.\n",
      "Use of uninitialized value $pos in hash element at /home/anjuni/myapps/gff3sort/gff3sort.pl line 67, <$_[...]> line 550.\n",
      "Use of uninitialized value $pos in hash element at /home/anjuni/myapps/gff3sort/gff3sort.pl line 67, <$_[...]> line 551.\n",
      "Use of uninitialized value $pos in hash element at /home/anjuni/myapps/gff3sort/gff3sort.pl line 67, <$_[...]> line 552.\n",
      "Use of uninitialized value $pos in hash element at /home/anjuni/myapps/gff3sort/gff3sort.pl line 67, <$_[...]> line 553.\n",
      "Use of uninitialized value $pos in hash element at /home/anjuni/myapps/gff3sort/gff3sort.pl line 67, <$_[...]> line 554.\n",
      "Use of uninitialized value $pos in hash element at /home/anjuni/myapps/gff3sort/gff3sort.pl line 67, <$_[...]> line 555.\n",
      "Use of uninitialized value $pos in hash element at /home/anjuni/myapps/gff3sort/gff3sort.pl line 67, <$_[...]> line 556.\n",
      "Use of uninitialized value $pos in hash element at /home/anjuni/myapps/gff3sort/gff3sort.pl line 67, <$_[...]> line 557.\n",
      "Use of uninitialized value $pos in hash element at /home/anjuni/myapps/gff3sort/gff3sort.pl line 67, <$_[...]> line 558.\n",
      "Use of uninitialized value $pos in hash element at /home/anjuni/myapps/gff3sort/gff3sort.pl line 67, <$_[...]> line 559.\n",
      "Use of uninitialized value $pos in hash element at /home/anjuni/myapps/gff3sort/gff3sort.pl line 67, <$_[...]> line 560.\n",
      "Use of uninitialized value $pos in hash element at /home/anjuni/myapps/gff3sort/gff3sort.pl line 67, <$_[...]> line 561.\n",
      "Use of uninitialized value $pos in hash element at /home/anjuni/myapps/gff3sort/gff3sort.pl line 67, <$_[...]> line 562.\n",
      "Use of uninitialized value $pos in hash element at /home/anjuni/myapps/gff3sort/gff3sort.pl line 67, <$_[...]> line 563.\n",
      "Use of uninitialized value $pos in hash element at /home/anjuni/myapps/gff3sort/gff3sort.pl line 67, <$_[...]> line 564.\n",
      "Use of uninitialized value $pos in hash element at /home/anjuni/myapps/gff3sort/gff3sort.pl line 67, <$_[...]> line 565.\n",
      "Use of uninitialized value $pos in hash element at /home/anjuni/myapps/gff3sort/gff3sort.pl line 67, <$_[...]> line 566.\n",
      "Use of uninitialized value $pos in hash element at /home/anjuni/myapps/gff3sort/gff3sort.pl line 67, <$_[...]> line 567.\n",
      "Use of uninitialized value $pos in hash element at /home/anjuni/myapps/gff3sort/gff3sort.pl line 67, <$_[...]> line 568.\n",
      "Use of uninitialized value $pos in hash element at /home/anjuni/myapps/gff3sort/gff3sort.pl line 67, <$_[...]> line 569.\n",
      "Use of uninitialized value $pos in hash element at /home/anjuni/myapps/gff3sort/gff3sort.pl line 67, <$_[...]> line 570.\n",
      "Use of uninitialized value $pos in hash element at /home/anjuni/myapps/gff3sort/gff3sort.pl line 67, <$_[...]> line 571.\n",
      "Use of uninitialized value $pos in hash element at /home/anjuni/myapps/gff3sort/gff3sort.pl line 67, <$_[...]> line 572.\n",
      "Use of uninitialized value $pos in hash element at /home/anjuni/myapps/gff3sort/gff3sort.pl line 67, <$_[...]> line 573.\n",
      "Use of uninitialized value $pos in hash element at /home/anjuni/myapps/gff3sort/gff3sort.pl line 67, <$_[...]> line 574.\n",
      "Use of uninitialized value $pos in hash element at /home/anjuni/myapps/gff3sort/gff3sort.pl line 67, <$_[...]> line 575.\n",
      "Use of uninitialized value $pos in hash element at /home/anjuni/myapps/gff3sort/gff3sort.pl line 67, <$_[...]> line 576.\n",
      "Use of uninitialized value $pos in hash element at /home/anjuni/myapps/gff3sort/gff3sort.pl line 67, <$_[...]> line 577.\n",
      "Use of uninitialized value $pos in hash element at /home/anjuni/myapps/gff3sort/gff3sort.pl line 67, <$_[...]> line 578.\n",
      "Use of uninitialized value $pos in hash element at /home/anjuni/myapps/gff3sort/gff3sort.pl line 67, <$_[...]> line 579.\n",
      "Use of uninitialized value $pos in hash element at /home/anjuni/myapps/gff3sort/gff3sort.pl line 67, <$_[...]> line 580.\n",
      "Use of uninitialized value $pos in hash element at /home/anjuni/myapps/gff3sort/gff3sort.pl line 67, <$_[...]> line 581.\n",
      "Use of uninitialized value $pos in hash element at /home/anjuni/myapps/gff3sort/gff3sort.pl line 67, <$_[...]> line 582.\n",
      "Use of uninitialized value $pos in hash element at /home/anjuni/myapps/gff3sort/gff3sort.pl line 67, <$_[...]> line 583.\n",
      "Use of uninitialized value $pos in hash element at /home/anjuni/myapps/gff3sort/gff3sort.pl line 67, <$_[...]> line 584.\n",
      "Use of uninitialized value $pos in hash element at /home/anjuni/myapps/gff3sort/gff3sort.pl line 67, <$_[...]> line 585.\n",
      "Use of uninitialized value $pos in hash element at /home/anjuni/myapps/gff3sort/gff3sort.pl line 67, <$_[...]> line 586.\n",
      "Use of uninitialized value $pos in hash element at /home/anjuni/myapps/gff3sort/gff3sort.pl line 67, <$_[...]> line 587.\n",
      "Use of uninitialized value $pos in hash element at /home/anjuni/myapps/gff3sort/gff3sort.pl line 67, <$_[...]> line 588.\n",
      "Use of uninitialized value $pos in hash element at /home/anjuni/myapps/gff3sort/gff3sort.pl line 67, <$_[...]> line 589.\n",
      "Use of uninitialized value $pos in hash element at /home/anjuni/myapps/gff3sort/gff3sort.pl line 67, <$_[...]> line 590.\n",
      "Use of uninitialized value $pos in hash element at /home/anjuni/myapps/gff3sort/gff3sort.pl line 67, <$_[...]> line 591.\n",
      "Use of uninitialized value $pos in hash element at /home/anjuni/myapps/gff3sort/gff3sort.pl line 67, <$_[...]> line 592.\n",
      "Use of uninitialized value $pos in hash element at /home/anjuni/myapps/gff3sort/gff3sort.pl line 67, <$_[...]> line 593.\n",
      "Use of uninitialized value $pos in hash element at /home/anjuni/myapps/gff3sort/gff3sort.pl line 67, <$_[...]> line 594.\n",
      "Use of uninitialized value $pos in hash element at /home/anjuni/myapps/gff3sort/gff3sort.pl line 67, <$_[...]> line 595.\n",
      "Use of uninitialized value $pos in hash element at /home/anjuni/myapps/gff3sort/gff3sort.pl line 67, <$_[...]> line 596.\n",
      "Use of uninitialized value $pos in hash element at /home/anjuni/myapps/gff3sort/gff3sort.pl line 67, <$_[...]> line 597.\n",
      "Use of uninitialized value $pos in hash element at /home/anjuni/myapps/gff3sort/gff3sort.pl line 67, <$_[...]> line 598.\n",
      "Use of uninitialized value $pos in hash element at /home/anjuni/myapps/gff3sort/gff3sort.pl line 67, <$_[...]> line 599.\n",
      "Use of uninitialized value $pos in hash element at /home/anjuni/myapps/gff3sort/gff3sort.pl line 67, <$_[...]> line 600.\n",
      "Use of uninitialized value $pos in hash element at /home/anjuni/myapps/gff3sort/gff3sort.pl line 67, <$_[...]> line 601.\n",
      "Use of uninitialized value $pos in hash element at /home/anjuni/myapps/gff3sort/gff3sort.pl line 67, <$_[...]> line 602.\n",
      "Use of uninitialized value $pos in hash element at /home/anjuni/myapps/gff3sort/gff3sort.pl line 67, <$_[...]> line 603.\n",
      "Use of uninitialized value $pos in hash element at /home/anjuni/myapps/gff3sort/gff3sort.pl line 67, <$_[...]> line 604.\n",
      "Use of uninitialized value $pos in hash element at /home/anjuni/myapps/gff3sort/gff3sort.pl line 67, <$_[...]> line 605.\n",
      "Use of uninitialized value $pos in hash element at /home/anjuni/myapps/gff3sort/gff3sort.pl line 67, <$_[...]> line 606.\n",
      "Use of uninitialized value $pos in hash element at /home/anjuni/myapps/gff3sort/gff3sort.pl line 67, <$_[...]> line 607.\n",
      "Use of uninitialized value $pos in hash element at /home/anjuni/myapps/gff3sort/gff3sort.pl line 67, <$_[...]> line 608.\n",
      "Use of uninitialized value $pos in hash element at /home/anjuni/myapps/gff3sort/gff3sort.pl line 67, <$_[...]> line 609.\n",
      "Use of uninitialized value $pos in hash element at /home/anjuni/myapps/gff3sort/gff3sort.pl line 67, <$_[...]> line 610.\n",
      "Use of uninitialized value $pos in hash element at /home/anjuni/myapps/gff3sort/gff3sort.pl line 67, <$_[...]> line 611.\n",
      "Use of uninitialized value $pos in hash element at /home/anjuni/myapps/gff3sort/gff3sort.pl line 67, <$_[...]> line 612.\n",
      "Use of uninitialized value $pos in hash element at /home/anjuni/myapps/gff3sort/gff3sort.pl line 67, <$_[...]> line 613.\n",
      "Use of uninitialized value $pos in hash element at /home/anjuni/myapps/gff3sort/gff3sort.pl line 67, <$_[...]> line 614.\n",
      "Use of uninitialized value $pos in hash element at /home/anjuni/myapps/gff3sort/gff3sort.pl line 67, <$_[...]> line 615.\n",
      "Use of uninitialized value $pos in hash element at /home/anjuni/myapps/gff3sort/gff3sort.pl line 67, <$_[...]> line 616.\n",
      "Use of uninitialized value $pos in hash element at /home/anjuni/myapps/gff3sort/gff3sort.pl line 67, <$_[...]> line 617.\n",
      "Use of uninitialized value $pos in hash element at /home/anjuni/myapps/gff3sort/gff3sort.pl line 67, <$_[...]> line 618.\n",
      "Use of uninitialized value $pos in hash element at /home/anjuni/myapps/gff3sort/gff3sort.pl line 67, <$_[...]> line 619.\n",
      "Use of uninitialized value $pos in hash element at /home/anjuni/myapps/gff3sort/gff3sort.pl line 67, <$_[...]> line 620.\n",
      "Use of uninitialized value $pos in hash element at /home/anjuni/myapps/gff3sort/gff3sort.pl line 67, <$_[...]> line 621.\n",
      "Use of uninitialized value $pos in hash element at /home/anjuni/myapps/gff3sort/gff3sort.pl line 67, <$_[...]> line 622.\n",
      "Use of uninitialized value $pos in hash element at /home/anjuni/myapps/gff3sort/gff3sort.pl line 67, <$_[...]> line 623.\n",
      "Use of uninitialized value $pos in hash element at /home/anjuni/myapps/gff3sort/gff3sort.pl line 67, <$_[...]> line 624.\n",
      "Use of uninitialized value $pos in hash element at /home/anjuni/myapps/gff3sort/gff3sort.pl line 67, <$_[...]> line 625.\n",
      "Use of uninitialized value $pos in hash element at /home/anjuni/myapps/gff3sort/gff3sort.pl line 67, <$_[...]> line 626.\n",
      "Use of uninitialized value $pos in hash element at /home/anjuni/myapps/gff3sort/gff3sort.pl line 67, <$_[...]> line 627.\n",
      "Use of uninitialized value $pos in hash element at /home/anjuni/myapps/gff3sort/gff3sort.pl line 67, <$_[...]> line 628.\n",
      "Use of uninitialized value $pos in hash element at /home/anjuni/myapps/gff3sort/gff3sort.pl line 67, <$_[...]> line 629.\n",
      "Use of uninitialized value $pos in hash element at /home/anjuni/myapps/gff3sort/gff3sort.pl line 67, <$_[...]> line 630.\n",
      "Use of uninitialized value $pos in hash element at /home/anjuni/myapps/gff3sort/gff3sort.pl line 67, <$_[...]> line 631.\n",
      "Argument \"\" isn't numeric in sort at /home/anjuni/myapps/gff3sort/gff3sort.pl line 104.\n",
      "Argument \"\" isn't numeric in sort at /home/anjuni/myapps/gff3sort/gff3sort.pl line 104.\n",
      "Argument \"\" isn't numeric in sort at /home/anjuni/myapps/gff3sort/gff3sort.pl line 104.\n",
      "Argument \"\" isn't numeric in sort at /home/anjuni/myapps/gff3sort/gff3sort.pl line 104.\n",
      "Argument \"\" isn't numeric in sort at /home/anjuni/myapps/gff3sort/gff3sort.pl line 104.\n",
      "Argument \"\" isn't numeric in sort at /home/anjuni/myapps/gff3sort/gff3sort.pl line 104.\n",
      "Argument \"\" isn't numeric in sort at /home/anjuni/myapps/gff3sort/gff3sort.pl line 104.\n",
      "Argument \"\" isn't numeric in sort at /home/anjuni/myapps/gff3sort/gff3sort.pl line 104.\n",
      "Argument \"\" isn't numeric in sort at /home/anjuni/myapps/gff3sort/gff3sort.pl line 104.\n",
      "Argument \"\" isn't numeric in sort at /home/anjuni/myapps/gff3sort/gff3sort.pl line 104.\n",
      "Argument \"\" isn't numeric in sort at /home/anjuni/myapps/gff3sort/gff3sort.pl line 104.\n",
      "Argument \"\" isn't numeric in sort at /home/anjuni/myapps/gff3sort/gff3sort.pl line 104.\n",
      "Argument \"\" isn't numeric in sort at /home/anjuni/myapps/gff3sort/gff3sort.pl line 104.\n",
      "Argument \"\" isn't numeric in sort at /home/anjuni/myapps/gff3sort/gff3sort.pl line 104.\n",
      "Argument \"\" isn't numeric in sort at /home/anjuni/myapps/gff3sort/gff3sort.pl line 104.\n",
      "Argument \"\" isn't numeric in sort at /home/anjuni/myapps/gff3sort/gff3sort.pl line 104.\n",
      "Argument \"\" isn't numeric in sort at /home/anjuni/myapps/gff3sort/gff3sort.pl line 104.\n",
      "Argument \"\" isn't numeric in sort at /home/anjuni/myapps/gff3sort/gff3sort.pl line 104.\n",
      "Argument \"\" isn't numeric in sort at /home/anjuni/myapps/gff3sort/gff3sort.pl line 104.\n",
      "Argument \"\" isn't numeric in sort at /home/anjuni/myapps/gff3sort/gff3sort.pl line 104.\n",
      "Argument \"\" isn't numeric in sort at /home/anjuni/myapps/gff3sort/gff3sort.pl line 104.\n",
      "Argument \"\" isn't numeric in sort at /home/anjuni/myapps/gff3sort/gff3sort.pl line 104.\n",
      "Argument \"\" isn't numeric in sort at /home/anjuni/myapps/gff3sort/gff3sort.pl line 104.\n",
      "Argument \"\" isn't numeric in sort at /home/anjuni/myapps/gff3sort/gff3sort.pl line 104.\n",
      "Argument \"\" isn't numeric in sort at /home/anjuni/myapps/gff3sort/gff3sort.pl line 104.\n",
      "Argument \"\" isn't numeric in sort at /home/anjuni/myapps/gff3sort/gff3sort.pl line 104.\n",
      "Argument \"\" isn't numeric in sort at /home/anjuni/myapps/gff3sort/gff3sort.pl line 104.\n",
      "Argument \"\" isn't numeric in sort at /home/anjuni/myapps/gff3sort/gff3sort.pl line 104.\n",
      "Argument \"\" isn't numeric in sort at /home/anjuni/myapps/gff3sort/gff3sort.pl line 104.\n",
      "Argument \"\" isn't numeric in sort at /home/anjuni/myapps/gff3sort/gff3sort.pl line 104.\n",
      "Argument \"\" isn't numeric in sort at /home/anjuni/myapps/gff3sort/gff3sort.pl line 104.\n",
      "Argument \"\" isn't numeric in sort at /home/anjuni/myapps/gff3sort/gff3sort.pl line 104.\n",
      "Argument \"\" isn't numeric in sort at /home/anjuni/myapps/gff3sort/gff3sort.pl line 104.\n",
      "Argument \"\" isn't numeric in sort at /home/anjuni/myapps/gff3sort/gff3sort.pl line 104.\n",
      "Argument \"\" isn't numeric in sort at /home/anjuni/myapps/gff3sort/gff3sort.pl line 104.\n",
      "Argument \"\" isn't numeric in sort at /home/anjuni/myapps/gff3sort/gff3sort.pl line 104.\n",
      "Argument \"\" isn't numeric in sort at /home/anjuni/myapps/gff3sort/gff3sort.pl line 104.\n",
      "Argument \"\" isn't numeric in sort at /home/anjuni/myapps/gff3sort/gff3sort.pl line 104.\n",
      "Argument \"\" isn't numeric in sort at /home/anjuni/myapps/gff3sort/gff3sort.pl line 104.\n",
      "Argument \"\" isn't numeric in sort at /home/anjuni/myapps/gff3sort/gff3sort.pl line 104.\n",
      "Argument \"\" isn't numeric in sort at /home/anjuni/myapps/gff3sort/gff3sort.pl line 104.\n",
      "Argument \"\" isn't numeric in sort at /home/anjuni/myapps/gff3sort/gff3sort.pl line 104.\n",
      "Argument \"\" isn't numeric in sort at /home/anjuni/myapps/gff3sort/gff3sort.pl line 104.\n",
      "Argument \"\" isn't numeric in sort at /home/anjuni/myapps/gff3sort/gff3sort.pl line 104.\n",
      "Argument \"\" isn't numeric in sort at /home/anjuni/myapps/gff3sort/gff3sort.pl line 104.\n",
      "Argument \"\" isn't numeric in sort at /home/anjuni/myapps/gff3sort/gff3sort.pl line 104.\n",
      "Argument \"\" isn't numeric in sort at /home/anjuni/myapps/gff3sort/gff3sort.pl line 104.\n",
      "Argument \"\" isn't numeric in sort at /home/anjuni/myapps/gff3sort/gff3sort.pl line 104.\n",
      "Argument \"\" isn't numeric in sort at /home/anjuni/myapps/gff3sort/gff3sort.pl line 104.\n",
      "Argument \"\" isn't numeric in sort at /home/anjuni/myapps/gff3sort/gff3sort.pl line 104.\n",
      "Argument \"\" isn't numeric in sort at /home/anjuni/myapps/gff3sort/gff3sort.pl line 104.\n",
      "Argument \"\" isn't numeric in sort at /home/anjuni/myapps/gff3sort/gff3sort.pl line 104.\n",
      "Argument \"\" isn't numeric in sort at /home/anjuni/myapps/gff3sort/gff3sort.pl line 104.\n",
      "Argument \"\" isn't numeric in sort at /home/anjuni/myapps/gff3sort/gff3sort.pl line 104.\n",
      "Argument \"\" isn't numeric in sort at /home/anjuni/myapps/gff3sort/gff3sort.pl line 104.\n",
      "Argument \"\" isn't numeric in sort at /home/anjuni/myapps/gff3sort/gff3sort.pl line 104.\n",
      "Argument \"\" isn't numeric in sort at /home/anjuni/myapps/gff3sort/gff3sort.pl line 104.\n",
      "Argument \"\" isn't numeric in sort at /home/anjuni/myapps/gff3sort/gff3sort.pl line 104.\n",
      "Argument \"\" isn't numeric in sort at /home/anjuni/myapps/gff3sort/gff3sort.pl line 104.\n",
      "Argument \"\" isn't numeric in sort at /home/anjuni/myapps/gff3sort/gff3sort.pl line 104.\n",
      "Argument \"\" isn't numeric in sort at /home/anjuni/myapps/gff3sort/gff3sort.pl line 104.\n",
      "Argument \"\" isn't numeric in sort at /home/anjuni/myapps/gff3sort/gff3sort.pl line 104.\n",
      "Argument \"\" isn't numeric in sort at /home/anjuni/myapps/gff3sort/gff3sort.pl line 104.\n",
      "Argument \"\" isn't numeric in sort at /home/anjuni/myapps/gff3sort/gff3sort.pl line 104.\n",
      "Argument \"\" isn't numeric in sort at /home/anjuni/myapps/gff3sort/gff3sort.pl line 104.\n",
      "Argument \"\" isn't numeric in sort at /home/anjuni/myapps/gff3sort/gff3sort.pl line 104.\n",
      "Argument \"\" isn't numeric in sort at /home/anjuni/myapps/gff3sort/gff3sort.pl line 104.\n",
      "Argument \"\" isn't numeric in sort at /home/anjuni/myapps/gff3sort/gff3sort.pl line 104.\n",
      "Argument \"\" isn't numeric in sort at /home/anjuni/myapps/gff3sort/gff3sort.pl line 104.\n",
      "Argument \"\" isn't numeric in sort at /home/anjuni/myapps/gff3sort/gff3sort.pl line 104.\n",
      "Argument \"\" isn't numeric in sort at /home/anjuni/myapps/gff3sort/gff3sort.pl line 104.\n",
      "Argument \"\" isn't numeric in sort at /home/anjuni/myapps/gff3sort/gff3sort.pl line 104.\n",
      "Argument \"\" isn't numeric in sort at /home/anjuni/myapps/gff3sort/gff3sort.pl line 104.\n",
      "Argument \"\" isn't numeric in sort at /home/anjuni/myapps/gff3sort/gff3sort.pl line 104.\n",
      "Argument \"\" isn't numeric in sort at /home/anjuni/myapps/gff3sort/gff3sort.pl line 104.\n",
      "Argument \"\" isn't numeric in sort at /home/anjuni/myapps/gff3sort/gff3sort.pl line 104.\n",
      "Argument \"\" isn't numeric in sort at /home/anjuni/myapps/gff3sort/gff3sort.pl line 104.\n",
      "Argument \"\" isn't numeric in sort at /home/anjuni/myapps/gff3sort/gff3sort.pl line 104.\n",
      "Argument \"\" isn't numeric in sort at /home/anjuni/myapps/gff3sort/gff3sort.pl line 104.\n",
      "Argument \"\" isn't numeric in sort at /home/anjuni/myapps/gff3sort/gff3sort.pl line 104.\n",
      "Argument \"\" isn't numeric in sort at /home/anjuni/myapps/gff3sort/gff3sort.pl line 104.\n",
      "Argument \"\" isn't numeric in sort at /home/anjuni/myapps/gff3sort/gff3sort.pl line 104.\n",
      "Argument \"\" isn't numeric in sort at /home/anjuni/myapps/gff3sort/gff3sort.pl line 104.\n",
      "Argument \"\" isn't numeric in sort at /home/anjuni/myapps/gff3sort/gff3sort.pl line 104.\n",
      "Argument \"\" isn't numeric in sort at /home/anjuni/myapps/gff3sort/gff3sort.pl line 104.\n",
      "Argument \"\" isn't numeric in sort at /home/anjuni/myapps/gff3sort/gff3sort.pl line 104.\n",
      "Argument \"\" isn't numeric in sort at /home/anjuni/myapps/gff3sort/gff3sort.pl line 104.\n",
      "Argument \"\" isn't numeric in sort at /home/anjuni/myapps/gff3sort/gff3sort.pl line 104.\n",
      "Argument \"\" isn't numeric in sort at /home/anjuni/myapps/gff3sort/gff3sort.pl line 104.\n",
      "Argument \"\" isn't numeric in sort at /home/anjuni/myapps/gff3sort/gff3sort.pl line 104.\n",
      "Argument \"\" isn't numeric in sort at /home/anjuni/myapps/gff3sort/gff3sort.pl line 104.\n",
      "Argument \"\" isn't numeric in sort at /home/anjuni/myapps/gff3sort/gff3sort.pl line 104.\n",
      "Argument \"\" isn't numeric in sort at /home/anjuni/myapps/gff3sort/gff3sort.pl line 104.\n",
      "Argument \"\" isn't numeric in sort at /home/anjuni/myapps/gff3sort/gff3sort.pl line 104.\n",
      "Argument \"\" isn't numeric in sort at /home/anjuni/myapps/gff3sort/gff3sort.pl line 104.\n",
      "Argument \"\" isn't numeric in sort at /home/anjuni/myapps/gff3sort/gff3sort.pl line 104.\n",
      "Argument \"\" isn't numeric in sort at /home/anjuni/myapps/gff3sort/gff3sort.pl line 104.\n",
      "Argument \"\" isn't numeric in sort at /home/anjuni/myapps/gff3sort/gff3sort.pl line 104.\n",
      "Argument \"\" isn't numeric in sort at /home/anjuni/myapps/gff3sort/gff3sort.pl line 104.\n",
      "Argument \"\" isn't numeric in sort at /home/anjuni/myapps/gff3sort/gff3sort.pl line 104.\n",
      "Argument \"\" isn't numeric in sort at /home/anjuni/myapps/gff3sort/gff3sort.pl line 104.\n",
      "Argument \"\" isn't numeric in sort at /home/anjuni/myapps/gff3sort/gff3sort.pl line 104.\n",
      "Argument \"\" isn't numeric in sort at /home/anjuni/myapps/gff3sort/gff3sort.pl line 104.\n",
      "Argument \"\" isn't numeric in sort at /home/anjuni/myapps/gff3sort/gff3sort.pl line 104.\n",
      "Argument \"\" isn't numeric in sort at /home/anjuni/myapps/gff3sort/gff3sort.pl line 104.\n",
      "Argument \"\" isn't numeric in sort at /home/anjuni/myapps/gff3sort/gff3sort.pl line 104.\n",
      "Argument \"\" isn't numeric in sort at /home/anjuni/myapps/gff3sort/gff3sort.pl line 104.\n",
      "Argument \"\" isn't numeric in sort at /home/anjuni/myapps/gff3sort/gff3sort.pl line 104.\n",
      "Argument \"\" isn't numeric in sort at /home/anjuni/myapps/gff3sort/gff3sort.pl line 104.\n",
      "Argument \"\" isn't numeric in sort at /home/anjuni/myapps/gff3sort/gff3sort.pl line 104.\n",
      "Argument \"\" isn't numeric in sort at /home/anjuni/myapps/gff3sort/gff3sort.pl line 104.\n",
      "Argument \"\" isn't numeric in sort at /home/anjuni/myapps/gff3sort/gff3sort.pl line 104.\n",
      "Argument \"\" isn't numeric in sort at /home/anjuni/myapps/gff3sort/gff3sort.pl line 104.\n",
      "Argument \"\" isn't numeric in sort at /home/anjuni/myapps/gff3sort/gff3sort.pl line 104.\n",
      "Argument \"\" isn't numeric in sort at /home/anjuni/myapps/gff3sort/gff3sort.pl line 104.\n",
      "Argument \"\" isn't numeric in sort at /home/anjuni/myapps/gff3sort/gff3sort.pl line 104.\n",
      "Argument \"\" isn't numeric in sort at /home/anjuni/myapps/gff3sort/gff3sort.pl line 104.\n",
      "Argument \"\" isn't numeric in sort at /home/anjuni/myapps/gff3sort/gff3sort.pl line 104.\n",
      "Argument \"\" isn't numeric in sort at /home/anjuni/myapps/gff3sort/gff3sort.pl line 104.\n",
      "Argument \"\" isn't numeric in sort at /home/anjuni/myapps/gff3sort/gff3sort.pl line 104.\n",
      "Argument \"\" isn't numeric in sort at /home/anjuni/myapps/gff3sort/gff3sort.pl line 104.\n",
      "Argument \"\" isn't numeric in sort at /home/anjuni/myapps/gff3sort/gff3sort.pl line 104.\n",
      "Argument \"\" isn't numeric in sort at /home/anjuni/myapps/gff3sort/gff3sort.pl line 104.\n",
      "Argument \"\" isn't numeric in sort at /home/anjuni/myapps/gff3sort/gff3sort.pl line 104.\n",
      "Argument \"\" isn't numeric in sort at /home/anjuni/myapps/gff3sort/gff3sort.pl line 104.\n",
      "Argument \"\" isn't numeric in sort at /home/anjuni/myapps/gff3sort/gff3sort.pl line 104.\n",
      "Argument \"\" isn't numeric in sort at /home/anjuni/myapps/gff3sort/gff3sort.pl line 104.\n",
      "Argument \"\" isn't numeric in sort at /home/anjuni/myapps/gff3sort/gff3sort.pl line 104.\n",
      "Argument \"\" isn't numeric in sort at /home/anjuni/myapps/gff3sort/gff3sort.pl line 104.\n",
      "Argument \"\" isn't numeric in sort at /home/anjuni/myapps/gff3sort/gff3sort.pl line 104.\n",
      "Argument \"\" isn't numeric in sort at /home/anjuni/myapps/gff3sort/gff3sort.pl line 104.\n",
      "Argument \"\" isn't numeric in sort at /home/anjuni/myapps/gff3sort/gff3sort.pl line 104.\n",
      "Argument \"\" isn't numeric in sort at /home/anjuni/myapps/gff3sort/gff3sort.pl line 104.\n",
      "Argument \"\" isn't numeric in sort at /home/anjuni/myapps/gff3sort/gff3sort.pl line 104.\n",
      "Argument \"\" isn't numeric in sort at /home/anjuni/myapps/gff3sort/gff3sort.pl line 104.\n",
      "Argument \"\" isn't numeric in sort at /home/anjuni/myapps/gff3sort/gff3sort.pl line 104.\n",
      "Argument \"\" isn't numeric in sort at /home/anjuni/myapps/gff3sort/gff3sort.pl line 104.\n",
      "Argument \"\" isn't numeric in sort at /home/anjuni/myapps/gff3sort/gff3sort.pl line 104.\n",
      "Argument \"\" isn't numeric in sort at /home/anjuni/myapps/gff3sort/gff3sort.pl line 104.\n",
      "Argument \"\" isn't numeric in sort at /home/anjuni/myapps/gff3sort/gff3sort.pl line 104.\n",
      "Argument \"\" isn't numeric in sort at /home/anjuni/myapps/gff3sort/gff3sort.pl line 104.\n",
      "Argument \"\" isn't numeric in sort at /home/anjuni/myapps/gff3sort/gff3sort.pl line 104.\n",
      "Argument \"\" isn't numeric in sort at /home/anjuni/myapps/gff3sort/gff3sort.pl line 104.\n",
      "Argument \"\" isn't numeric in sort at /home/anjuni/myapps/gff3sort/gff3sort.pl line 104.\n",
      "Argument \"\" isn't numeric in sort at /home/anjuni/myapps/gff3sort/gff3sort.pl line 104.\n",
      "Argument \"\" isn't numeric in sort at /home/anjuni/myapps/gff3sort/gff3sort.pl line 104.\n",
      "Argument \"\" isn't numeric in sort at /home/anjuni/myapps/gff3sort/gff3sort.pl line 104.\n",
      "Argument \"\" isn't numeric in sort at /home/anjuni/myapps/gff3sort/gff3sort.pl line 104.\n",
      "Argument \"\" isn't numeric in sort at /home/anjuni/myapps/gff3sort/gff3sort.pl line 104.\n",
      "Argument \"\" isn't numeric in sort at /home/anjuni/myapps/gff3sort/gff3sort.pl line 104.\n",
      "Argument \"\" isn't numeric in sort at /home/anjuni/myapps/gff3sort/gff3sort.pl line 104.\n",
      "Argument \"\" isn't numeric in sort at /home/anjuni/myapps/gff3sort/gff3sort.pl line 104.\n",
      "Argument \"\" isn't numeric in sort at /home/anjuni/myapps/gff3sort/gff3sort.pl line 104.\n",
      "Argument \"\" isn't numeric in sort at /home/anjuni/myapps/gff3sort/gff3sort.pl line 104.\n",
      "Argument \"\" isn't numeric in sort at /home/anjuni/myapps/gff3sort/gff3sort.pl line 104.\n",
      "Argument \"\" isn't numeric in sort at /home/anjuni/myapps/gff3sort/gff3sort.pl line 104.\n",
      "Argument \"\" isn't numeric in sort at /home/anjuni/myapps/gff3sort/gff3sort.pl line 104.\n",
      "Argument \"\" isn't numeric in sort at /home/anjuni/myapps/gff3sort/gff3sort.pl line 104.\n",
      "Argument \"\" isn't numeric in sort at /home/anjuni/myapps/gff3sort/gff3sort.pl line 104.\n",
      "Argument \"\" isn't numeric in sort at /home/anjuni/myapps/gff3sort/gff3sort.pl line 104.\n",
      "Argument \"\" isn't numeric in sort at /home/anjuni/myapps/gff3sort/gff3sort.pl line 104.\n",
      "Argument \"\" isn't numeric in sort at /home/anjuni/myapps/gff3sort/gff3sort.pl line 104.\n",
      "Argument \"\" isn't numeric in sort at /home/anjuni/myapps/gff3sort/gff3sort.pl line 104.\n",
      "Argument \"\" isn't numeric in sort at /home/anjuni/myapps/gff3sort/gff3sort.pl line 104.\n",
      "Argument \"\" isn't numeric in sort at /home/anjuni/myapps/gff3sort/gff3sort.pl line 104.\n",
      "Argument \"\" isn't numeric in sort at /home/anjuni/myapps/gff3sort/gff3sort.pl line 104.\n",
      "Argument \"\" isn't numeric in sort at /home/anjuni/myapps/gff3sort/gff3sort.pl line 104.\n",
      "Argument \"\" isn't numeric in sort at /home/anjuni/myapps/gff3sort/gff3sort.pl line 104.\n",
      "Argument \"\" isn't numeric in sort at /home/anjuni/myapps/gff3sort/gff3sort.pl line 104.\n",
      "Argument \"\" isn't numeric in sort at /home/anjuni/myapps/gff3sort/gff3sort.pl line 104.\n",
      "Argument \"\" isn't numeric in sort at /home/anjuni/myapps/gff3sort/gff3sort.pl line 104.\n",
      "Argument \"\" isn't numeric in sort at /home/anjuni/myapps/gff3sort/gff3sort.pl line 104.\n",
      "Argument \"\" isn't numeric in sort at /home/anjuni/myapps/gff3sort/gff3sort.pl line 104.\n",
      "Argument \"\" isn't numeric in sort at /home/anjuni/myapps/gff3sort/gff3sort.pl line 104.\n",
      "Argument \"\" isn't numeric in sort at /home/anjuni/myapps/gff3sort/gff3sort.pl line 104.\n",
      "Argument \"\" isn't numeric in sort at /home/anjuni/myapps/gff3sort/gff3sort.pl line 104.\n",
      "Argument \"\" isn't numeric in sort at /home/anjuni/myapps/gff3sort/gff3sort.pl line 104.\n",
      "Argument \"\" isn't numeric in sort at /home/anjuni/myapps/gff3sort/gff3sort.pl line 104.\n",
      "Argument \"\" isn't numeric in sort at /home/anjuni/myapps/gff3sort/gff3sort.pl line 104.\n",
      "Argument \"\" isn't numeric in sort at /home/anjuni/myapps/gff3sort/gff3sort.pl line 104.\n",
      "Argument \"\" isn't numeric in sort at /home/anjuni/myapps/gff3sort/gff3sort.pl line 104.\n",
      "Argument \"\" isn't numeric in sort at /home/anjuni/myapps/gff3sort/gff3sort.pl line 104.\n",
      "Argument \"\" isn't numeric in sort at /home/anjuni/myapps/gff3sort/gff3sort.pl line 104.\n",
      "Argument \"\" isn't numeric in sort at /home/anjuni/myapps/gff3sort/gff3sort.pl line 104.\n",
      "Argument \"\" isn't numeric in sort at /home/anjuni/myapps/gff3sort/gff3sort.pl line 104.\n",
      "Argument \"\" isn't numeric in sort at /home/anjuni/myapps/gff3sort/gff3sort.pl line 104.\n",
      "Argument \"\" isn't numeric in sort at /home/anjuni/myapps/gff3sort/gff3sort.pl line 104.\n",
      "Argument \"\" isn't numeric in sort at /home/anjuni/myapps/gff3sort/gff3sort.pl line 104.\n",
      "Argument \"\" isn't numeric in sort at /home/anjuni/myapps/gff3sort/gff3sort.pl line 104.\n",
      "Argument \"\" isn't numeric in sort at /home/anjuni/myapps/gff3sort/gff3sort.pl line 104.\n",
      "Argument \"\" isn't numeric in sort at /home/anjuni/myapps/gff3sort/gff3sort.pl line 104.\n",
      "Argument \"\" isn't numeric in sort at /home/anjuni/myapps/gff3sort/gff3sort.pl line 104.\n",
      "Argument \"\" isn't numeric in sort at /home/anjuni/myapps/gff3sort/gff3sort.pl line 104.\n",
      "Argument \"\" isn't numeric in sort at /home/anjuni/myapps/gff3sort/gff3sort.pl line 104.\n",
      "Argument \"\" isn't numeric in sort at /home/anjuni/myapps/gff3sort/gff3sort.pl line 104.\n",
      "Argument \"\" isn't numeric in sort at /home/anjuni/myapps/gff3sort/gff3sort.pl line 104.\n",
      "Argument \"\" isn't numeric in sort at /home/anjuni/myapps/gff3sort/gff3sort.pl line 104.\n",
      "Argument \"\" isn't numeric in sort at /home/anjuni/myapps/gff3sort/gff3sort.pl line 104.\n",
      "Argument \"\" isn't numeric in sort at /home/anjuni/myapps/gff3sort/gff3sort.pl line 104.\n",
      "Argument \"\" isn't numeric in sort at /home/anjuni/myapps/gff3sort/gff3sort.pl line 104.\n",
      "Argument \"\" isn't numeric in sort at /home/anjuni/myapps/gff3sort/gff3sort.pl line 104.\n",
      "Argument \"\" isn't numeric in sort at /home/anjuni/myapps/gff3sort/gff3sort.pl line 104.\n",
      "Argument \"\" isn't numeric in sort at /home/anjuni/myapps/gff3sort/gff3sort.pl line 104.\n",
      "Argument \"\" isn't numeric in sort at /home/anjuni/myapps/gff3sort/gff3sort.pl line 104.\n",
      "Argument \"\" isn't numeric in sort at /home/anjuni/myapps/gff3sort/gff3sort.pl line 104.\n",
      "Argument \"\" isn't numeric in sort at /home/anjuni/myapps/gff3sort/gff3sort.pl line 104.\n",
      "Argument \"\" isn't numeric in sort at /home/anjuni/myapps/gff3sort/gff3sort.pl line 104.\n",
      "Argument \"\" isn't numeric in sort at /home/anjuni/myapps/gff3sort/gff3sort.pl line 104.\n",
      "Argument \"\" isn't numeric in sort at /home/anjuni/myapps/gff3sort/gff3sort.pl line 104.\n",
      "Argument \"\" isn't numeric in sort at /home/anjuni/myapps/gff3sort/gff3sort.pl line 104.\n",
      "Argument \"\" isn't numeric in sort at /home/anjuni/myapps/gff3sort/gff3sort.pl line 104.\n",
      "Argument \"\" isn't numeric in sort at /home/anjuni/myapps/gff3sort/gff3sort.pl line 104.\n",
      "Argument \"\" isn't numeric in sort at /home/anjuni/myapps/gff3sort/gff3sort.pl line 104.\n",
      "Argument \"\" isn't numeric in sort at /home/anjuni/myapps/gff3sort/gff3sort.pl line 104.\n",
      "Argument \"\" isn't numeric in sort at /home/anjuni/myapps/gff3sort/gff3sort.pl line 104.\n",
      "Argument \"\" isn't numeric in sort at /home/anjuni/myapps/gff3sort/gff3sort.pl line 104.\n",
      "Argument \"\" isn't numeric in sort at /home/anjuni/myapps/gff3sort/gff3sort.pl line 104.\n",
      "Argument \"\" isn't numeric in sort at /home/anjuni/myapps/gff3sort/gff3sort.pl line 104.\n",
      "Argument \"\" isn't numeric in sort at /home/anjuni/myapps/gff3sort/gff3sort.pl line 104.\n",
      "Argument \"\" isn't numeric in sort at /home/anjuni/myapps/gff3sort/gff3sort.pl line 104.\n",
      "Argument \"\" isn't numeric in sort at /home/anjuni/myapps/gff3sort/gff3sort.pl line 104.\n",
      "Argument \"\" isn't numeric in sort at /home/anjuni/myapps/gff3sort/gff3sort.pl line 104.\n",
      "Argument \"\" isn't numeric in sort at /home/anjuni/myapps/gff3sort/gff3sort.pl line 104.\n",
      "Argument \"\" isn't numeric in sort at /home/anjuni/myapps/gff3sort/gff3sort.pl line 104.\n",
      "Argument \"\" isn't numeric in sort at /home/anjuni/myapps/gff3sort/gff3sort.pl line 104.\n",
      "Argument \"\" isn't numeric in sort at /home/anjuni/myapps/gff3sort/gff3sort.pl line 104.\n",
      "Argument \"\" isn't numeric in sort at /home/anjuni/myapps/gff3sort/gff3sort.pl line 104.\n",
      "Argument \"\" isn't numeric in sort at /home/anjuni/myapps/gff3sort/gff3sort.pl line 104.\n",
      "Argument \"\" isn't numeric in sort at /home/anjuni/myapps/gff3sort/gff3sort.pl line 104.\n",
      "Argument \"\" isn't numeric in sort at /home/anjuni/myapps/gff3sort/gff3sort.pl line 104.\n",
      "Argument \"\" isn't numeric in sort at /home/anjuni/myapps/gff3sort/gff3sort.pl line 104.\n",
      "Argument \"\" isn't numeric in sort at /home/anjuni/myapps/gff3sort/gff3sort.pl line 104.\n",
      "Argument \"\" isn't numeric in sort at /home/anjuni/myapps/gff3sort/gff3sort.pl line 104.\n",
      "Argument \"\" isn't numeric in sort at /home/anjuni/myapps/gff3sort/gff3sort.pl line 104.\n",
      "Argument \"\" isn't numeric in sort at /home/anjuni/myapps/gff3sort/gff3sort.pl line 104.\n",
      "Argument \"\" isn't numeric in sort at /home/anjuni/myapps/gff3sort/gff3sort.pl line 104.\n",
      "Argument \"\" isn't numeric in sort at /home/anjuni/myapps/gff3sort/gff3sort.pl line 104.\n",
      "Argument \"\" isn't numeric in sort at /home/anjuni/myapps/gff3sort/gff3sort.pl line 104.\n",
      "Argument \"\" isn't numeric in sort at /home/anjuni/myapps/gff3sort/gff3sort.pl line 104.\n",
      "Argument \"\" isn't numeric in sort at /home/anjuni/myapps/gff3sort/gff3sort.pl line 104.\n",
      "Argument \"\" isn't numeric in sort at /home/anjuni/myapps/gff3sort/gff3sort.pl line 104.\n",
      "Argument \"\" isn't numeric in sort at /home/anjuni/myapps/gff3sort/gff3sort.pl line 104.\n",
      "Argument \"\" isn't numeric in sort at /home/anjuni/myapps/gff3sort/gff3sort.pl line 104.\n",
      "Argument \"\" isn't numeric in sort at /home/anjuni/myapps/gff3sort/gff3sort.pl line 104.\n",
      "Argument \"\" isn't numeric in sort at /home/anjuni/myapps/gff3sort/gff3sort.pl line 104.\n",
      "Argument \"\" isn't numeric in sort at /home/anjuni/myapps/gff3sort/gff3sort.pl line 104.\n",
      "Argument \"\" isn't numeric in sort at /home/anjuni/myapps/gff3sort/gff3sort.pl line 104.\n",
      "Argument \"\" isn't numeric in sort at /home/anjuni/myapps/gff3sort/gff3sort.pl line 104.\n",
      "Argument \"\" isn't numeric in sort at /home/anjuni/myapps/gff3sort/gff3sort.pl line 104.\n",
      "Argument \"\" isn't numeric in sort at /home/anjuni/myapps/gff3sort/gff3sort.pl line 104.\n",
      "Argument \"\" isn't numeric in sort at /home/anjuni/myapps/gff3sort/gff3sort.pl line 104.\n",
      "Argument \"\" isn't numeric in sort at /home/anjuni/myapps/gff3sort/gff3sort.pl line 104.\n",
      "Argument \"\" isn't numeric in sort at /home/anjuni/myapps/gff3sort/gff3sort.pl line 104.\n",
      "Argument \"\" isn't numeric in sort at /home/anjuni/myapps/gff3sort/gff3sort.pl line 104.\n",
      "Argument \"\" isn't numeric in sort at /home/anjuni/myapps/gff3sort/gff3sort.pl line 104.\n",
      "Argument \"\" isn't numeric in sort at /home/anjuni/myapps/gff3sort/gff3sort.pl line 104.\n",
      "Argument \"\" isn't numeric in sort at /home/anjuni/myapps/gff3sort/gff3sort.pl line 104.\n",
      "Argument \"\" isn't numeric in sort at /home/anjuni/myapps/gff3sort/gff3sort.pl line 104.\n",
      "Argument \"\" isn't numeric in sort at /home/anjuni/myapps/gff3sort/gff3sort.pl line 104.\n",
      "Argument \"\" isn't numeric in sort at /home/anjuni/myapps/gff3sort/gff3sort.pl line 104.\n",
      "Argument \"\" isn't numeric in sort at /home/anjuni/myapps/gff3sort/gff3sort.pl line 104.\n",
      "Argument \"\" isn't numeric in sort at /home/anjuni/myapps/gff3sort/gff3sort.pl line 104.\n",
      "Argument \"\" isn't numeric in sort at /home/anjuni/myapps/gff3sort/gff3sort.pl line 104.\n",
      "Argument \"\" isn't numeric in sort at /home/anjuni/myapps/gff3sort/gff3sort.pl line 104.\n",
      "Argument \"\" isn't numeric in sort at /home/anjuni/myapps/gff3sort/gff3sort.pl line 104.\n",
      "Argument \"\" isn't numeric in sort at /home/anjuni/myapps/gff3sort/gff3sort.pl line 104.\n",
      "Argument \"\" isn't numeric in sort at /home/anjuni/myapps/gff3sort/gff3sort.pl line 104.\n",
      "Argument \"\" isn't numeric in sort at /home/anjuni/myapps/gff3sort/gff3sort.pl line 104.\n",
      "Argument \"\" isn't numeric in sort at /home/anjuni/myapps/gff3sort/gff3sort.pl line 104.\n",
      "Argument \"\" isn't numeric in sort at /home/anjuni/myapps/gff3sort/gff3sort.pl line 104.\n",
      "Argument \"\" isn't numeric in sort at /home/anjuni/myapps/gff3sort/gff3sort.pl line 104.\n",
      "Argument \"\" isn't numeric in sort at /home/anjuni/myapps/gff3sort/gff3sort.pl line 104.\n",
      "Argument \"\" isn't numeric in sort at /home/anjuni/myapps/gff3sort/gff3sort.pl line 104.\n",
      "Argument \"\" isn't numeric in sort at /home/anjuni/myapps/gff3sort/gff3sort.pl line 104.\n",
      "Argument \"\" isn't numeric in sort at /home/anjuni/myapps/gff3sort/gff3sort.pl line 104.\n",
      "Argument \"\" isn't numeric in sort at /home/anjuni/myapps/gff3sort/gff3sort.pl line 104.\n",
      "Argument \"\" isn't numeric in sort at /home/anjuni/myapps/gff3sort/gff3sort.pl line 104.\n",
      "Argument \"\" isn't numeric in sort at /home/anjuni/myapps/gff3sort/gff3sort.pl line 104.\n",
      "Argument \"\" isn't numeric in sort at /home/anjuni/myapps/gff3sort/gff3sort.pl line 104.\n",
      "Argument \"\" isn't numeric in sort at /home/anjuni/myapps/gff3sort/gff3sort.pl line 104.\n",
      "Argument \"\" isn't numeric in sort at /home/anjuni/myapps/gff3sort/gff3sort.pl line 104.\n",
      "Argument \"\" isn't numeric in sort at /home/anjuni/myapps/gff3sort/gff3sort.pl line 104.\n",
      "Argument \"\" isn't numeric in sort at /home/anjuni/myapps/gff3sort/gff3sort.pl line 104.\n",
      "Argument \"\" isn't numeric in sort at /home/anjuni/myapps/gff3sort/gff3sort.pl line 104.\n",
      "Argument \"\" isn't numeric in sort at /home/anjuni/myapps/gff3sort/gff3sort.pl line 104.\n",
      "Argument \"\" isn't numeric in sort at /home/anjuni/myapps/gff3sort/gff3sort.pl line 104.\n",
      "Argument \"\" isn't numeric in sort at /home/anjuni/myapps/gff3sort/gff3sort.pl line 104.\n",
      "Argument \"\" isn't numeric in sort at /home/anjuni/myapps/gff3sort/gff3sort.pl line 104.\n",
      "Argument \"\" isn't numeric in sort at /home/anjuni/myapps/gff3sort/gff3sort.pl line 104.\n",
      "Argument \"\" isn't numeric in sort at /home/anjuni/myapps/gff3sort/gff3sort.pl line 104.\n",
      "Argument \"\" isn't numeric in sort at /home/anjuni/myapps/gff3sort/gff3sort.pl line 104.\n",
      "Argument \"\" isn't numeric in sort at /home/anjuni/myapps/gff3sort/gff3sort.pl line 104.\n",
      "Argument \"\" isn't numeric in sort at /home/anjuni/myapps/gff3sort/gff3sort.pl line 104.\n",
      "Argument \"\" isn't numeric in sort at /home/anjuni/myapps/gff3sort/gff3sort.pl line 104.\n",
      "Argument \"\" isn't numeric in sort at /home/anjuni/myapps/gff3sort/gff3sort.pl line 104.\n",
      "Argument \"\" isn't numeric in sort at /home/anjuni/myapps/gff3sort/gff3sort.pl line 104.\n",
      "Argument \"\" isn't numeric in sort at /home/anjuni/myapps/gff3sort/gff3sort.pl line 104.\n",
      "Argument \"\" isn't numeric in sort at /home/anjuni/myapps/gff3sort/gff3sort.pl line 104.\n",
      "Argument \"\" isn't numeric in sort at /home/anjuni/myapps/gff3sort/gff3sort.pl line 104.\n",
      "Argument \"\" isn't numeric in sort at /home/anjuni/myapps/gff3sort/gff3sort.pl line 104.\n",
      "Argument \"\" isn't numeric in sort at /home/anjuni/myapps/gff3sort/gff3sort.pl line 104.\n",
      "Argument \"\" isn't numeric in sort at /home/anjuni/myapps/gff3sort/gff3sort.pl line 104.\n",
      "Argument \"\" isn't numeric in sort at /home/anjuni/myapps/gff3sort/gff3sort.pl line 104.\n",
      "Argument \"\" isn't numeric in sort at /home/anjuni/myapps/gff3sort/gff3sort.pl line 104.\n",
      "Argument \"\" isn't numeric in sort at /home/anjuni/myapps/gff3sort/gff3sort.pl line 104.\n",
      "Argument \"\" isn't numeric in sort at /home/anjuni/myapps/gff3sort/gff3sort.pl line 104.\n",
      "Argument \"\" isn't numeric in sort at /home/anjuni/myapps/gff3sort/gff3sort.pl line 104.\n",
      "Argument \"\" isn't numeric in sort at /home/anjuni/myapps/gff3sort/gff3sort.pl line 104.\n",
      "Argument \"\" isn't numeric in sort at /home/anjuni/myapps/gff3sort/gff3sort.pl line 104.\n",
      "Argument \"\" isn't numeric in sort at /home/anjuni/myapps/gff3sort/gff3sort.pl line 104.\n",
      "Argument \"\" isn't numeric in sort at /home/anjuni/myapps/gff3sort/gff3sort.pl line 104.\n",
      "Argument \"\" isn't numeric in sort at /home/anjuni/myapps/gff3sort/gff3sort.pl line 104.\n",
      "Argument \"\" isn't numeric in sort at /home/anjuni/myapps/gff3sort/gff3sort.pl line 104.\n",
      "Argument \"\" isn't numeric in sort at /home/anjuni/myapps/gff3sort/gff3sort.pl line 104.\n",
      "Argument \"\" isn't numeric in sort at /home/anjuni/myapps/gff3sort/gff3sort.pl line 104.\n",
      "Argument \"\" isn't numeric in sort at /home/anjuni/myapps/gff3sort/gff3sort.pl line 104.\n",
      "Argument \"\" isn't numeric in sort at /home/anjuni/myapps/gff3sort/gff3sort.pl line 104.\n",
      "Argument \"\" isn't numeric in sort at /home/anjuni/myapps/gff3sort/gff3sort.pl line 104.\n",
      "Argument \"\" isn't numeric in sort at /home/anjuni/myapps/gff3sort/gff3sort.pl line 104.\n",
      "Argument \"\" isn't numeric in sort at /home/anjuni/myapps/gff3sort/gff3sort.pl line 104.\n",
      "Argument \"\" isn't numeric in sort at /home/anjuni/myapps/gff3sort/gff3sort.pl line 104.\n",
      "Argument \"\" isn't numeric in sort at /home/anjuni/myapps/gff3sort/gff3sort.pl line 104.\n",
      "Argument \"\" isn't numeric in sort at /home/anjuni/myapps/gff3sort/gff3sort.pl line 104.\n",
      "Argument \"\" isn't numeric in sort at /home/anjuni/myapps/gff3sort/gff3sort.pl line 104.\n",
      "Argument \"\" isn't numeric in sort at /home/anjuni/myapps/gff3sort/gff3sort.pl line 104.\n",
      "Argument \"\" isn't numeric in sort at /home/anjuni/myapps/gff3sort/gff3sort.pl line 104.\n",
      "Argument \"\" isn't numeric in sort at /home/anjuni/myapps/gff3sort/gff3sort.pl line 104.\n",
      "Argument \"\" isn't numeric in sort at /home/anjuni/myapps/gff3sort/gff3sort.pl line 104.\n",
      "Argument \"\" isn't numeric in sort at /home/anjuni/myapps/gff3sort/gff3sort.pl line 104.\n",
      "Argument \"\" isn't numeric in sort at /home/anjuni/myapps/gff3sort/gff3sort.pl line 104.\n",
      "Argument \"\" isn't numeric in sort at /home/anjuni/myapps/gff3sort/gff3sort.pl line 104.\n",
      "Argument \"\" isn't numeric in sort at /home/anjuni/myapps/gff3sort/gff3sort.pl line 104.\n",
      "Argument \"\" isn't numeric in sort at /home/anjuni/myapps/gff3sort/gff3sort.pl line 104.\n",
      "Argument \"\" isn't numeric in sort at /home/anjuni/myapps/gff3sort/gff3sort.pl line 104.\n",
      "Argument \"\" isn't numeric in sort at /home/anjuni/myapps/gff3sort/gff3sort.pl line 104.\n",
      "Argument \"\" isn't numeric in sort at /home/anjuni/myapps/gff3sort/gff3sort.pl line 104.\n",
      "Argument \"\" isn't numeric in sort at /home/anjuni/myapps/gff3sort/gff3sort.pl line 104.\n",
      "Argument \"\" isn't numeric in sort at /home/anjuni/myapps/gff3sort/gff3sort.pl line 104.\n",
      "Argument \"\" isn't numeric in sort at /home/anjuni/myapps/gff3sort/gff3sort.pl line 104.\n",
      "Argument \"\" isn't numeric in sort at /home/anjuni/myapps/gff3sort/gff3sort.pl line 104.\n",
      "Argument \"\" isn't numeric in sort at /home/anjuni/myapps/gff3sort/gff3sort.pl line 104.\n",
      "Argument \"\" isn't numeric in sort at /home/anjuni/myapps/gff3sort/gff3sort.pl line 104.\n",
      "Argument \"\" isn't numeric in sort at /home/anjuni/myapps/gff3sort/gff3sort.pl line 104.\n",
      "Argument \"\" isn't numeric in sort at /home/anjuni/myapps/gff3sort/gff3sort.pl line 104.\n",
      "Argument \"\" isn't numeric in sort at /home/anjuni/myapps/gff3sort/gff3sort.pl line 104.\n",
      "Argument \"\" isn't numeric in sort at /home/anjuni/myapps/gff3sort/gff3sort.pl line 104.\n",
      "Argument \"\" isn't numeric in sort at /home/anjuni/myapps/gff3sort/gff3sort.pl line 104.\n",
      "Argument \"\" isn't numeric in sort at /home/anjuni/myapps/gff3sort/gff3sort.pl line 104.\n",
      "Argument \"\" isn't numeric in sort at /home/anjuni/myapps/gff3sort/gff3sort.pl line 104.\n",
      "Argument \"\" isn't numeric in sort at /home/anjuni/myapps/gff3sort/gff3sort.pl line 104.\n",
      "Argument \"\" isn't numeric in sort at /home/anjuni/myapps/gff3sort/gff3sort.pl line 104.\n",
      "Argument \"\" isn't numeric in sort at /home/anjuni/myapps/gff3sort/gff3sort.pl line 104.\n",
      "Argument \"\" isn't numeric in sort at /home/anjuni/myapps/gff3sort/gff3sort.pl line 104.\n",
      "Argument \"\" isn't numeric in sort at /home/anjuni/myapps/gff3sort/gff3sort.pl line 104.\n",
      "Argument \"\" isn't numeric in sort at /home/anjuni/myapps/gff3sort/gff3sort.pl line 104.\n",
      "Argument \"\" isn't numeric in sort at /home/anjuni/myapps/gff3sort/gff3sort.pl line 104.\n",
      "Argument \"\" isn't numeric in sort at /home/anjuni/myapps/gff3sort/gff3sort.pl line 104.\n",
      "Argument \"\" isn't numeric in sort at /home/anjuni/myapps/gff3sort/gff3sort.pl line 104.\n",
      "Argument \"\" isn't numeric in sort at /home/anjuni/myapps/gff3sort/gff3sort.pl line 104.\n",
      "Argument \"\" isn't numeric in sort at /home/anjuni/myapps/gff3sort/gff3sort.pl line 104.\n",
      "Argument \"\" isn't numeric in sort at /home/anjuni/myapps/gff3sort/gff3sort.pl line 104.\n",
      "Argument \"\" isn't numeric in sort at /home/anjuni/myapps/gff3sort/gff3sort.pl line 104.\n",
      "Argument \"\" isn't numeric in sort at /home/anjuni/myapps/gff3sort/gff3sort.pl line 104.\n",
      "Argument \"\" isn't numeric in sort at /home/anjuni/myapps/gff3sort/gff3sort.pl line 104.\n",
      "Argument \"\" isn't numeric in sort at /home/anjuni/myapps/gff3sort/gff3sort.pl line 104.\n",
      "Argument \"\" isn't numeric in sort at /home/anjuni/myapps/gff3sort/gff3sort.pl line 104.\n",
      "Argument \"\" isn't numeric in sort at /home/anjuni/myapps/gff3sort/gff3sort.pl line 104.\n",
      "Argument \"\" isn't numeric in sort at /home/anjuni/myapps/gff3sort/gff3sort.pl line 104.\n",
      "Argument \"\" isn't numeric in sort at /home/anjuni/myapps/gff3sort/gff3sort.pl line 104.\n",
      "Argument \"\" isn't numeric in sort at /home/anjuni/myapps/gff3sort/gff3sort.pl line 104.\n",
      "Argument \"\" isn't numeric in sort at /home/anjuni/myapps/gff3sort/gff3sort.pl line 104.\n",
      "Argument \"\" isn't numeric in sort at /home/anjuni/myapps/gff3sort/gff3sort.pl line 104.\n",
      "Argument \"\" isn't numeric in sort at /home/anjuni/myapps/gff3sort/gff3sort.pl line 104.\n",
      "Argument \"\" isn't numeric in sort at /home/anjuni/myapps/gff3sort/gff3sort.pl line 104.\n",
      "Argument \"\" isn't numeric in sort at /home/anjuni/myapps/gff3sort/gff3sort.pl line 104.\n",
      "Argument \"\" isn't numeric in sort at /home/anjuni/myapps/gff3sort/gff3sort.pl line 104.\n",
      "Argument \"\" isn't numeric in sort at /home/anjuni/myapps/gff3sort/gff3sort.pl line 104.\n",
      "Argument \"\" isn't numeric in sort at /home/anjuni/myapps/gff3sort/gff3sort.pl line 104.\n",
      "Argument \"\" isn't numeric in sort at /home/anjuni/myapps/gff3sort/gff3sort.pl line 104.\n",
      "Argument \"\" isn't numeric in sort at /home/anjuni/myapps/gff3sort/gff3sort.pl line 104.\n",
      "Argument \"\" isn't numeric in sort at /home/anjuni/myapps/gff3sort/gff3sort.pl line 104.\n",
      "Argument \"\" isn't numeric in sort at /home/anjuni/myapps/gff3sort/gff3sort.pl line 104.\n",
      "Argument \"\" isn't numeric in sort at /home/anjuni/myapps/gff3sort/gff3sort.pl line 104.\n",
      "Argument \"\" isn't numeric in sort at /home/anjuni/myapps/gff3sort/gff3sort.pl line 104.\n",
      "Argument \"\" isn't numeric in sort at /home/anjuni/myapps/gff3sort/gff3sort.pl line 104.\n",
      "Argument \"\" isn't numeric in sort at /home/anjuni/myapps/gff3sort/gff3sort.pl line 104.\n",
      "Argument \"\" isn't numeric in sort at /home/anjuni/myapps/gff3sort/gff3sort.pl line 104.\n",
      "Argument \"\" isn't numeric in sort at /home/anjuni/myapps/gff3sort/gff3sort.pl line 104.\n",
      "Argument \"\" isn't numeric in sort at /home/anjuni/myapps/gff3sort/gff3sort.pl line 104.\n",
      "Argument \"\" isn't numeric in sort at /home/anjuni/myapps/gff3sort/gff3sort.pl line 104.\n",
      "Argument \"\" isn't numeric in sort at /home/anjuni/myapps/gff3sort/gff3sort.pl line 104.\n",
      "Argument \"\" isn't numeric in sort at /home/anjuni/myapps/gff3sort/gff3sort.pl line 104.\n",
      "Argument \"\" isn't numeric in sort at /home/anjuni/myapps/gff3sort/gff3sort.pl line 104.\n",
      "Argument \"\" isn't numeric in sort at /home/anjuni/myapps/gff3sort/gff3sort.pl line 104.\n",
      "Argument \"\" isn't numeric in sort at /home/anjuni/myapps/gff3sort/gff3sort.pl line 104.\n",
      "Argument \"\" isn't numeric in sort at /home/anjuni/myapps/gff3sort/gff3sort.pl line 104.\n",
      "Argument \"\" isn't numeric in sort at /home/anjuni/myapps/gff3sort/gff3sort.pl line 104.\n",
      "Argument \"\" isn't numeric in sort at /home/anjuni/myapps/gff3sort/gff3sort.pl line 104.\n",
      "Argument \"\" isn't numeric in sort at /home/anjuni/myapps/gff3sort/gff3sort.pl line 104.\n",
      "Argument \"\" isn't numeric in sort at /home/anjuni/myapps/gff3sort/gff3sort.pl line 104.\n",
      "Argument \"\" isn't numeric in sort at /home/anjuni/myapps/gff3sort/gff3sort.pl line 104.\n",
      "Argument \"\" isn't numeric in sort at /home/anjuni/myapps/gff3sort/gff3sort.pl line 104.\n",
      "Argument \"\" isn't numeric in sort at /home/anjuni/myapps/gff3sort/gff3sort.pl line 104.\n",
      "Argument \"\" isn't numeric in sort at /home/anjuni/myapps/gff3sort/gff3sort.pl line 104.\n",
      "Argument \"\" isn't numeric in sort at /home/anjuni/myapps/gff3sort/gff3sort.pl line 104.\n",
      "Argument \"\" isn't numeric in sort at /home/anjuni/myapps/gff3sort/gff3sort.pl line 104.\n",
      "Argument \"\" isn't numeric in sort at /home/anjuni/myapps/gff3sort/gff3sort.pl line 104.\n",
      "Argument \"\" isn't numeric in sort at /home/anjuni/myapps/gff3sort/gff3sort.pl line 104.\n",
      "Argument \"\" isn't numeric in sort at /home/anjuni/myapps/gff3sort/gff3sort.pl line 104.\n",
      "Argument \"\" isn't numeric in sort at /home/anjuni/myapps/gff3sort/gff3sort.pl line 104.\n",
      "Argument \"\" isn't numeric in sort at /home/anjuni/myapps/gff3sort/gff3sort.pl line 104.\n",
      "Argument \"\" isn't numeric in sort at /home/anjuni/myapps/gff3sort/gff3sort.pl line 104.\n",
      "Argument \"\" isn't numeric in sort at /home/anjuni/myapps/gff3sort/gff3sort.pl line 104.\n",
      "Argument \"\" isn't numeric in sort at /home/anjuni/myapps/gff3sort/gff3sort.pl line 104.\n",
      "Argument \"\" isn't numeric in sort at /home/anjuni/myapps/gff3sort/gff3sort.pl line 104.\n",
      "Argument \"\" isn't numeric in sort at /home/anjuni/myapps/gff3sort/gff3sort.pl line 104.\n",
      "Argument \"\" isn't numeric in sort at /home/anjuni/myapps/gff3sort/gff3sort.pl line 104.\n",
      "Argument \"\" isn't numeric in sort at /home/anjuni/myapps/gff3sort/gff3sort.pl line 104.\n",
      "Argument \"\" isn't numeric in sort at /home/anjuni/myapps/gff3sort/gff3sort.pl line 104.\n",
      "Argument \"\" isn't numeric in sort at /home/anjuni/myapps/gff3sort/gff3sort.pl line 104.\n",
      "Argument \"\" isn't numeric in sort at /home/anjuni/myapps/gff3sort/gff3sort.pl line 104.\n",
      "Argument \"\" isn't numeric in sort at /home/anjuni/myapps/gff3sort/gff3sort.pl line 104.\n",
      "Argument \"\" isn't numeric in sort at /home/anjuni/myapps/gff3sort/gff3sort.pl line 104.\n",
      "Argument \"\" isn't numeric in sort at /home/anjuni/myapps/gff3sort/gff3sort.pl line 104.\n",
      "Argument \"\" isn't numeric in sort at /home/anjuni/myapps/gff3sort/gff3sort.pl line 104.\n",
      "Argument \"\" isn't numeric in sort at /home/anjuni/myapps/gff3sort/gff3sort.pl line 104.\n",
      "Argument \"\" isn't numeric in sort at /home/anjuni/myapps/gff3sort/gff3sort.pl line 104.\n",
      "Argument \"\" isn't numeric in sort at /home/anjuni/myapps/gff3sort/gff3sort.pl line 104.\n",
      "Argument \"\" isn't numeric in sort at /home/anjuni/myapps/gff3sort/gff3sort.pl line 104.\n",
      "Argument \"\" isn't numeric in sort at /home/anjuni/myapps/gff3sort/gff3sort.pl line 104.\n",
      "Argument \"\" isn't numeric in sort at /home/anjuni/myapps/gff3sort/gff3sort.pl line 104.\n",
      "Argument \"\" isn't numeric in sort at /home/anjuni/myapps/gff3sort/gff3sort.pl line 104.\n",
      "Argument \"\" isn't numeric in sort at /home/anjuni/myapps/gff3sort/gff3sort.pl line 104.\n",
      "Argument \"\" isn't numeric in sort at /home/anjuni/myapps/gff3sort/gff3sort.pl line 104.\n",
      "Argument \"\" isn't numeric in sort at /home/anjuni/myapps/gff3sort/gff3sort.pl line 104.\n",
      "Argument \"\" isn't numeric in sort at /home/anjuni/myapps/gff3sort/gff3sort.pl line 104.\n",
      "Argument \"\" isn't numeric in sort at /home/anjuni/myapps/gff3sort/gff3sort.pl line 104.\n",
      "Argument \"\" isn't numeric in sort at /home/anjuni/myapps/gff3sort/gff3sort.pl line 104.\n",
      "Argument \"\" isn't numeric in sort at /home/anjuni/myapps/gff3sort/gff3sort.pl line 104.\n",
      "Argument \"\" isn't numeric in sort at /home/anjuni/myapps/gff3sort/gff3sort.pl line 104.\n",
      "Argument \"\" isn't numeric in sort at /home/anjuni/myapps/gff3sort/gff3sort.pl line 104.\n",
      "Argument \"\" isn't numeric in sort at /home/anjuni/myapps/gff3sort/gff3sort.pl line 104.\n",
      "Argument \"\" isn't numeric in sort at /home/anjuni/myapps/gff3sort/gff3sort.pl line 104.\n",
      "Argument \"\" isn't numeric in sort at /home/anjuni/myapps/gff3sort/gff3sort.pl line 104.\n",
      "Argument \"\" isn't numeric in sort at /home/anjuni/myapps/gff3sort/gff3sort.pl line 104.\n",
      "Argument \"\" isn't numeric in sort at /home/anjuni/myapps/gff3sort/gff3sort.pl line 104.\n",
      "Argument \"\" isn't numeric in sort at /home/anjuni/myapps/gff3sort/gff3sort.pl line 104.\n",
      "Argument \"\" isn't numeric in sort at /home/anjuni/myapps/gff3sort/gff3sort.pl line 104.\n",
      "Argument \"\" isn't numeric in sort at /home/anjuni/myapps/gff3sort/gff3sort.pl line 104.\n",
      "Argument \"\" isn't numeric in sort at /home/anjuni/myapps/gff3sort/gff3sort.pl line 104.\n",
      "Argument \"\" isn't numeric in sort at /home/anjuni/myapps/gff3sort/gff3sort.pl line 104.\n",
      "Argument \"\" isn't numeric in sort at /home/anjuni/myapps/gff3sort/gff3sort.pl line 104.\n",
      "Argument \"\" isn't numeric in sort at /home/anjuni/myapps/gff3sort/gff3sort.pl line 104.\n",
      "Argument \"\" isn't numeric in sort at /home/anjuni/myapps/gff3sort/gff3sort.pl line 104.\n",
      "Argument \"\" isn't numeric in sort at /home/anjuni/myapps/gff3sort/gff3sort.pl line 104.\n",
      "Argument \"\" isn't numeric in sort at /home/anjuni/myapps/gff3sort/gff3sort.pl line 104.\n",
      "Argument \"\" isn't numeric in sort at /home/anjuni/myapps/gff3sort/gff3sort.pl line 104.\n",
      "Argument \"\" isn't numeric in sort at /home/anjuni/myapps/gff3sort/gff3sort.pl line 104.\n",
      "Argument \"\" isn't numeric in sort at /home/anjuni/myapps/gff3sort/gff3sort.pl line 104.\n",
      "Argument \"\" isn't numeric in sort at /home/anjuni/myapps/gff3sort/gff3sort.pl line 104.\n",
      "Argument \"\" isn't numeric in sort at /home/anjuni/myapps/gff3sort/gff3sort.pl line 104.\n",
      "Argument \"\" isn't numeric in sort at /home/anjuni/myapps/gff3sort/gff3sort.pl line 104.\n",
      "Argument \"\" isn't numeric in sort at /home/anjuni/myapps/gff3sort/gff3sort.pl line 104.\n",
      "Argument \"\" isn't numeric in sort at /home/anjuni/myapps/gff3sort/gff3sort.pl line 104.\n",
      "Argument \"\" isn't numeric in sort at /home/anjuni/myapps/gff3sort/gff3sort.pl line 104.\n",
      "Argument \"\" isn't numeric in sort at /home/anjuni/myapps/gff3sort/gff3sort.pl line 104.\n",
      "Argument \"\" isn't numeric in sort at /home/anjuni/myapps/gff3sort/gff3sort.pl line 104.\n",
      "Argument \"\" isn't numeric in sort at /home/anjuni/myapps/gff3sort/gff3sort.pl line 104.\n",
      "Argument \"\" isn't numeric in sort at /home/anjuni/myapps/gff3sort/gff3sort.pl line 104.\n",
      "Argument \"\" isn't numeric in sort at /home/anjuni/myapps/gff3sort/gff3sort.pl line 104.\n",
      "Argument \"\" isn't numeric in sort at /home/anjuni/myapps/gff3sort/gff3sort.pl line 104.\n",
      "Argument \"\" isn't numeric in sort at /home/anjuni/myapps/gff3sort/gff3sort.pl line 104.\n",
      "Argument \"\" isn't numeric in sort at /home/anjuni/myapps/gff3sort/gff3sort.pl line 104.\n",
      "Argument \"\" isn't numeric in sort at /home/anjuni/myapps/gff3sort/gff3sort.pl line 104.\n",
      "Argument \"\" isn't numeric in sort at /home/anjuni/myapps/gff3sort/gff3sort.pl line 104.\n",
      "Argument \"\" isn't numeric in sort at /home/anjuni/myapps/gff3sort/gff3sort.pl line 104.\n",
      "Argument \"\" isn't numeric in sort at /home/anjuni/myapps/gff3sort/gff3sort.pl line 104.\n",
      "Argument \"\" isn't numeric in sort at /home/anjuni/myapps/gff3sort/gff3sort.pl line 104.\n",
      "Argument \"\" isn't numeric in sort at /home/anjuni/myapps/gff3sort/gff3sort.pl line 104.\n",
      "Argument \"\" isn't numeric in sort at /home/anjuni/myapps/gff3sort/gff3sort.pl line 104.\n",
      "Argument \"\" isn't numeric in sort at /home/anjuni/myapps/gff3sort/gff3sort.pl line 104.\n",
      "Argument \"\" isn't numeric in sort at /home/anjuni/myapps/gff3sort/gff3sort.pl line 104.\n",
      "Argument \"\" isn't numeric in sort at /home/anjuni/myapps/gff3sort/gff3sort.pl line 104.\n",
      "Argument \"\" isn't numeric in sort at /home/anjuni/myapps/gff3sort/gff3sort.pl line 104.\n",
      "Argument \"\" isn't numeric in sort at /home/anjuni/myapps/gff3sort/gff3sort.pl line 104.\n",
      "Argument \"\" isn't numeric in sort at /home/anjuni/myapps/gff3sort/gff3sort.pl line 104.\n",
      "Argument \"\" isn't numeric in sort at /home/anjuni/myapps/gff3sort/gff3sort.pl line 104.\n",
      "Argument \"\" isn't numeric in sort at /home/anjuni/myapps/gff3sort/gff3sort.pl line 104.\n",
      "Argument \"\" isn't numeric in sort at /home/anjuni/myapps/gff3sort/gff3sort.pl line 104.\n",
      "Argument \"\" isn't numeric in sort at /home/anjuni/myapps/gff3sort/gff3sort.pl line 104.\n",
      "Argument \"\" isn't numeric in sort at /home/anjuni/myapps/gff3sort/gff3sort.pl line 104.\n",
      "Argument \"\" isn't numeric in sort at /home/anjuni/myapps/gff3sort/gff3sort.pl line 104.\n",
      "Argument \"\" isn't numeric in sort at /home/anjuni/myapps/gff3sort/gff3sort.pl line 104.\n",
      "Argument \"\" isn't numeric in sort at /home/anjuni/myapps/gff3sort/gff3sort.pl line 104.\n",
      "Argument \"\" isn't numeric in sort at /home/anjuni/myapps/gff3sort/gff3sort.pl line 104.\n",
      "Argument \"\" isn't numeric in sort at /home/anjuni/myapps/gff3sort/gff3sort.pl line 104.\n",
      "Argument \"\" isn't numeric in sort at /home/anjuni/myapps/gff3sort/gff3sort.pl line 104.\n",
      "Argument \"\" isn't numeric in sort at /home/anjuni/myapps/gff3sort/gff3sort.pl line 104.\n",
      "Argument \"\" isn't numeric in sort at /home/anjuni/myapps/gff3sort/gff3sort.pl line 104.\n",
      "Argument \"\" isn't numeric in sort at /home/anjuni/myapps/gff3sort/gff3sort.pl line 104.\n",
      "Argument \"\" isn't numeric in sort at /home/anjuni/myapps/gff3sort/gff3sort.pl line 104.\n",
      "Argument \"\" isn't numeric in sort at /home/anjuni/myapps/gff3sort/gff3sort.pl line 104.\n",
      "Argument \"\" isn't numeric in sort at /home/anjuni/myapps/gff3sort/gff3sort.pl line 104.\n",
      "Argument \"\" isn't numeric in sort at /home/anjuni/myapps/gff3sort/gff3sort.pl line 104.\n",
      "Argument \"\" isn't numeric in sort at /home/anjuni/myapps/gff3sort/gff3sort.pl line 104.\n",
      "Argument \"\" isn't numeric in sort at /home/anjuni/myapps/gff3sort/gff3sort.pl line 104.\n",
      "Argument \"\" isn't numeric in sort at /home/anjuni/myapps/gff3sort/gff3sort.pl line 104.\n",
      "Argument \"\" isn't numeric in sort at /home/anjuni/myapps/gff3sort/gff3sort.pl line 104.\n",
      "Argument \"\" isn't numeric in sort at /home/anjuni/myapps/gff3sort/gff3sort.pl line 104.\n",
      "Argument \"\" isn't numeric in sort at /home/anjuni/myapps/gff3sort/gff3sort.pl line 104.\n",
      "Argument \"\" isn't numeric in sort at /home/anjuni/myapps/gff3sort/gff3sort.pl line 104.\n",
      "Argument \"\" isn't numeric in sort at /home/anjuni/myapps/gff3sort/gff3sort.pl line 104.\n",
      "Argument \"\" isn't numeric in sort at /home/anjuni/myapps/gff3sort/gff3sort.pl line 104.\n",
      "Argument \"\" isn't numeric in sort at /home/anjuni/myapps/gff3sort/gff3sort.pl line 104.\n",
      "Argument \"\" isn't numeric in sort at /home/anjuni/myapps/gff3sort/gff3sort.pl line 104.\n",
      "Argument \"\" isn't numeric in sort at /home/anjuni/myapps/gff3sort/gff3sort.pl line 104.\n",
      "Argument \"\" isn't numeric in sort at /home/anjuni/myapps/gff3sort/gff3sort.pl line 104.\n",
      "Argument \"\" isn't numeric in sort at /home/anjuni/myapps/gff3sort/gff3sort.pl line 104.\n",
      "Argument \"\" isn't numeric in sort at /home/anjuni/myapps/gff3sort/gff3sort.pl line 104.\n",
      "Argument \"\" isn't numeric in sort at /home/anjuni/myapps/gff3sort/gff3sort.pl line 104.\n",
      "Argument \"\" isn't numeric in sort at /home/anjuni/myapps/gff3sort/gff3sort.pl line 104.\n",
      "Argument \"\" isn't numeric in sort at /home/anjuni/myapps/gff3sort/gff3sort.pl line 104.\n",
      "Argument \"\" isn't numeric in sort at /home/anjuni/myapps/gff3sort/gff3sort.pl line 104.\n",
      "Argument \"\" isn't numeric in sort at /home/anjuni/myapps/gff3sort/gff3sort.pl line 104.\n",
      "Argument \"\" isn't numeric in sort at /home/anjuni/myapps/gff3sort/gff3sort.pl line 104.\n",
      "Argument \"\" isn't numeric in sort at /home/anjuni/myapps/gff3sort/gff3sort.pl line 104.\n",
      "Argument \"\" isn't numeric in sort at /home/anjuni/myapps/gff3sort/gff3sort.pl line 104.\n",
      "Argument \"\" isn't numeric in sort at /home/anjuni/myapps/gff3sort/gff3sort.pl line 104.\n",
      "Argument \"\" isn't numeric in sort at /home/anjuni/myapps/gff3sort/gff3sort.pl line 104.\n",
      "Argument \"\" isn't numeric in sort at /home/anjuni/myapps/gff3sort/gff3sort.pl line 104.\n",
      "Argument \"\" isn't numeric in sort at /home/anjuni/myapps/gff3sort/gff3sort.pl line 104.\n",
      "Argument \"\" isn't numeric in sort at /home/anjuni/myapps/gff3sort/gff3sort.pl line 104.\n",
      "Argument \"\" isn't numeric in sort at /home/anjuni/myapps/gff3sort/gff3sort.pl line 104.\n",
      "Argument \"\" isn't numeric in sort at /home/anjuni/myapps/gff3sort/gff3sort.pl line 104.\n",
      "Argument \"\" isn't numeric in sort at /home/anjuni/myapps/gff3sort/gff3sort.pl line 104.\n",
      "Argument \"\" isn't numeric in sort at /home/anjuni/myapps/gff3sort/gff3sort.pl line 104.\n",
      "Argument \"\" isn't numeric in sort at /home/anjuni/myapps/gff3sort/gff3sort.pl line 104.\n",
      "Argument \"\" isn't numeric in sort at /home/anjuni/myapps/gff3sort/gff3sort.pl line 104.\n",
      "Argument \"\" isn't numeric in sort at /home/anjuni/myapps/gff3sort/gff3sort.pl line 104.\n",
      "Argument \"\" isn't numeric in sort at /home/anjuni/myapps/gff3sort/gff3sort.pl line 104.\n",
      "Argument \"\" isn't numeric in sort at /home/anjuni/myapps/gff3sort/gff3sort.pl line 104.\n",
      "Argument \"\" isn't numeric in sort at /home/anjuni/myapps/gff3sort/gff3sort.pl line 104.\n",
      "Argument \"\" isn't numeric in sort at /home/anjuni/myapps/gff3sort/gff3sort.pl line 104.\n",
      "Argument \"\" isn't numeric in sort at /home/anjuni/myapps/gff3sort/gff3sort.pl line 104.\n",
      "Argument \"\" isn't numeric in sort at /home/anjuni/myapps/gff3sort/gff3sort.pl line 104.\n",
      "Argument \"\" isn't numeric in sort at /home/anjuni/myapps/gff3sort/gff3sort.pl line 104.\n",
      "Argument \"\" isn't numeric in sort at /home/anjuni/myapps/gff3sort/gff3sort.pl line 104.\n",
      "Argument \"\" isn't numeric in sort at /home/anjuni/myapps/gff3sort/gff3sort.pl line 104.\n",
      "Argument \"\" isn't numeric in sort at /home/anjuni/myapps/gff3sort/gff3sort.pl line 104.\n",
      "Argument \"\" isn't numeric in sort at /home/anjuni/myapps/gff3sort/gff3sort.pl line 104.\n",
      "Argument \"\" isn't numeric in sort at /home/anjuni/myapps/gff3sort/gff3sort.pl line 104.\n",
      "Argument \"\" isn't numeric in sort at /home/anjuni/myapps/gff3sort/gff3sort.pl line 104.\n",
      "Argument \"\" isn't numeric in sort at /home/anjuni/myapps/gff3sort/gff3sort.pl line 104.\n",
      "Argument \"\" isn't numeric in sort at /home/anjuni/myapps/gff3sort/gff3sort.pl line 104.\n",
      "Argument \"\" isn't numeric in sort at /home/anjuni/myapps/gff3sort/gff3sort.pl line 104.\n",
      "Argument \"\" isn't numeric in sort at /home/anjuni/myapps/gff3sort/gff3sort.pl line 104.\n",
      "Argument \"\" isn't numeric in sort at /home/anjuni/myapps/gff3sort/gff3sort.pl line 104.\n",
      "Argument \"\" isn't numeric in sort at /home/anjuni/myapps/gff3sort/gff3sort.pl line 104.\n",
      "Argument \"\" isn't numeric in sort at /home/anjuni/myapps/gff3sort/gff3sort.pl line 104.\n",
      "Argument \"\" isn't numeric in sort at /home/anjuni/myapps/gff3sort/gff3sort.pl line 104.\n",
      "Argument \"\" isn't numeric in sort at /home/anjuni/myapps/gff3sort/gff3sort.pl line 104.\n",
      "Argument \"\" isn't numeric in sort at /home/anjuni/myapps/gff3sort/gff3sort.pl line 104.\n",
      "Argument \"\" isn't numeric in sort at /home/anjuni/myapps/gff3sort/gff3sort.pl line 104.\n",
      "Argument \"\" isn't numeric in sort at /home/anjuni/myapps/gff3sort/gff3sort.pl line 104.\n",
      "Argument \"\" isn't numeric in sort at /home/anjuni/myapps/gff3sort/gff3sort.pl line 104.\n",
      "Argument \"\" isn't numeric in sort at /home/anjuni/myapps/gff3sort/gff3sort.pl line 104.\n",
      "Argument \"\" isn't numeric in sort at /home/anjuni/myapps/gff3sort/gff3sort.pl line 104.\n",
      "Argument \"\" isn't numeric in sort at /home/anjuni/myapps/gff3sort/gff3sort.pl line 104.\n",
      "Argument \"\" isn't numeric in sort at /home/anjuni/myapps/gff3sort/gff3sort.pl line 104.\n",
      "Argument \"\" isn't numeric in sort at /home/anjuni/myapps/gff3sort/gff3sort.pl line 104.\n",
      "Argument \"\" isn't numeric in sort at /home/anjuni/myapps/gff3sort/gff3sort.pl line 104.\n",
      "Argument \"\" isn't numeric in sort at /home/anjuni/myapps/gff3sort/gff3sort.pl line 104.\n",
      "Argument \"\" isn't numeric in sort at /home/anjuni/myapps/gff3sort/gff3sort.pl line 104.\n",
      "Argument \"\" isn't numeric in sort at /home/anjuni/myapps/gff3sort/gff3sort.pl line 104.\n",
      "Argument \"\" isn't numeric in sort at /home/anjuni/myapps/gff3sort/gff3sort.pl line 104.\n",
      "Argument \"\" isn't numeric in sort at /home/anjuni/myapps/gff3sort/gff3sort.pl line 104.\n",
      "Argument \"\" isn't numeric in sort at /home/anjuni/myapps/gff3sort/gff3sort.pl line 104.\n",
      "Argument \"\" isn't numeric in sort at /home/anjuni/myapps/gff3sort/gff3sort.pl line 104.\n",
      "Argument \"\" isn't numeric in sort at /home/anjuni/myapps/gff3sort/gff3sort.pl line 104.\n",
      "Argument \"\" isn't numeric in sort at /home/anjuni/myapps/gff3sort/gff3sort.pl line 104.\n",
      "Argument \"\" isn't numeric in sort at /home/anjuni/myapps/gff3sort/gff3sort.pl line 104.\n",
      "Argument \"\" isn't numeric in sort at /home/anjuni/myapps/gff3sort/gff3sort.pl line 104.\n",
      "Argument \"\" isn't numeric in sort at /home/anjuni/myapps/gff3sort/gff3sort.pl line 104.\n",
      "Argument \"\" isn't numeric in sort at /home/anjuni/myapps/gff3sort/gff3sort.pl line 104.\n",
      "Argument \"\" isn't numeric in sort at /home/anjuni/myapps/gff3sort/gff3sort.pl line 104.\n",
      "Argument \"\" isn't numeric in sort at /home/anjuni/myapps/gff3sort/gff3sort.pl line 104.\n",
      "Argument \"\" isn't numeric in sort at /home/anjuni/myapps/gff3sort/gff3sort.pl line 104.\n",
      "Argument \"\" isn't numeric in sort at /home/anjuni/myapps/gff3sort/gff3sort.pl line 104.\n",
      "Argument \"\" isn't numeric in sort at /home/anjuni/myapps/gff3sort/gff3sort.pl line 104.\n",
      "Argument \"\" isn't numeric in sort at /home/anjuni/myapps/gff3sort/gff3sort.pl line 104.\n",
      "Argument \"\" isn't numeric in sort at /home/anjuni/myapps/gff3sort/gff3sort.pl line 104.\n",
      "Argument \"\" isn't numeric in sort at /home/anjuni/myapps/gff3sort/gff3sort.pl line 104.\n",
      "Argument \"\" isn't numeric in sort at /home/anjuni/myapps/gff3sort/gff3sort.pl line 104.\n",
      "Argument \"\" isn't numeric in sort at /home/anjuni/myapps/gff3sort/gff3sort.pl line 104.\n",
      "Argument \"\" isn't numeric in sort at /home/anjuni/myapps/gff3sort/gff3sort.pl line 104.\n",
      "Argument \"\" isn't numeric in sort at /home/anjuni/myapps/gff3sort/gff3sort.pl line 104.\n",
      "Argument \"\" isn't numeric in sort at /home/anjuni/myapps/gff3sort/gff3sort.pl line 104.\n",
      "Argument \"\" isn't numeric in sort at /home/anjuni/myapps/gff3sort/gff3sort.pl line 104.\n",
      "Argument \"\" isn't numeric in sort at /home/anjuni/myapps/gff3sort/gff3sort.pl line 104.\n",
      "Argument \"\" isn't numeric in sort at /home/anjuni/myapps/gff3sort/gff3sort.pl line 104.\n",
      "Argument \"\" isn't numeric in sort at /home/anjuni/myapps/gff3sort/gff3sort.pl line 104.\n",
      "Argument \"\" isn't numeric in sort at /home/anjuni/myapps/gff3sort/gff3sort.pl line 104.\n",
      "Argument \"\" isn't numeric in sort at /home/anjuni/myapps/gff3sort/gff3sort.pl line 104.\n",
      "Argument \"\" isn't numeric in sort at /home/anjuni/myapps/gff3sort/gff3sort.pl line 104.\n",
      "Argument \"\" isn't numeric in sort at /home/anjuni/myapps/gff3sort/gff3sort.pl line 104.\n",
      "Argument \"\" isn't numeric in sort at /home/anjuni/myapps/gff3sort/gff3sort.pl line 104.\n",
      "Argument \"\" isn't numeric in sort at /home/anjuni/myapps/gff3sort/gff3sort.pl line 104.\n",
      "Argument \"\" isn't numeric in sort at /home/anjuni/myapps/gff3sort/gff3sort.pl line 104.\n",
      "Argument \"\" isn't numeric in sort at /home/anjuni/myapps/gff3sort/gff3sort.pl line 104.\n",
      "Argument \"\" isn't numeric in sort at /home/anjuni/myapps/gff3sort/gff3sort.pl line 104.\n",
      "Argument \"\" isn't numeric in sort at /home/anjuni/myapps/gff3sort/gff3sort.pl line 104.\n",
      "Argument \"\" isn't numeric in sort at /home/anjuni/myapps/gff3sort/gff3sort.pl line 104.\n",
      "Argument \"\" isn't numeric in sort at /home/anjuni/myapps/gff3sort/gff3sort.pl line 104.\n",
      "Argument \"\" isn't numeric in sort at /home/anjuni/myapps/gff3sort/gff3sort.pl line 104.\n",
      "Argument \"\" isn't numeric in sort at /home/anjuni/myapps/gff3sort/gff3sort.pl line 104.\n",
      "Argument \"\" isn't numeric in sort at /home/anjuni/myapps/gff3sort/gff3sort.pl line 104.\n",
      "Argument \"\" isn't numeric in sort at /home/anjuni/myapps/gff3sort/gff3sort.pl line 104.\n",
      "Argument \"\" isn't numeric in sort at /home/anjuni/myapps/gff3sort/gff3sort.pl line 104.\n",
      "Argument \"\" isn't numeric in sort at /home/anjuni/myapps/gff3sort/gff3sort.pl line 104.\n",
      "Argument \"\" isn't numeric in sort at /home/anjuni/myapps/gff3sort/gff3sort.pl line 104.\n",
      "Argument \"\" isn't numeric in sort at /home/anjuni/myapps/gff3sort/gff3sort.pl line 104.\n",
      "Argument \"\" isn't numeric in sort at /home/anjuni/myapps/gff3sort/gff3sort.pl line 104.\n",
      "Argument \"\" isn't numeric in sort at /home/anjuni/myapps/gff3sort/gff3sort.pl line 104.\n",
      "Argument \"\" isn't numeric in sort at /home/anjuni/myapps/gff3sort/gff3sort.pl line 104.\n",
      "Argument \"\" isn't numeric in sort at /home/anjuni/myapps/gff3sort/gff3sort.pl line 104.\n",
      "Argument \"\" isn't numeric in sort at /home/anjuni/myapps/gff3sort/gff3sort.pl line 104.\n",
      "Argument \"\" isn't numeric in sort at /home/anjuni/myapps/gff3sort/gff3sort.pl line 104.\n",
      "Argument \"\" isn't numeric in sort at /home/anjuni/myapps/gff3sort/gff3sort.pl line 104.\n",
      "Argument \"\" isn't numeric in sort at /home/anjuni/myapps/gff3sort/gff3sort.pl line 104.\n",
      "Argument \"\" isn't numeric in sort at /home/anjuni/myapps/gff3sort/gff3sort.pl line 104.\n",
      "Argument \"\" isn't numeric in sort at /home/anjuni/myapps/gff3sort/gff3sort.pl line 104.\n"
     ]
    }
   ],
   "source": [
    "# Make the genome size file for windows\n",
    "!samtools faidx /home/anjuni/Pst_104_v13_assembly/Pst_104E_v13_ph_ctg.fa\n",
    "!cut -f 1,2 /home/anjuni/Pst_104_v13_assembly/Pst_104E_v13_ph_ctg.fa.fai > /home/anjuni/analysis/gff_output/Pst_104E_v13_ph_ctg.genome_file\n",
    "# Note: this does put the p contig values before h contig ones, while annotation files put h contig before p contig\n",
    "# May be a problem in the future but probs not\n",
    "# Sorted it anyway below, as reference genome fasta had contigs in that order arbitrarily:\n",
    "!/home/anjuni/myapps/gff3sort/gff3sort.pl /home/anjuni/analysis/gff_output/Pst_104E_v13_ph_ctg.genome_file >  /home/anjuni/analysis/gff_output/Pst_104E_v13_ph_ctg.sorted.genome_file"
   ]
  },
  {
   "cell_type": "code",
   "execution_count": 830,
   "metadata": {},
   "outputs": [],
   "source": [
    "# Define all file paths for window BED files\n",
    "window_fn_dict = {}\n",
    "window_bed_dict = {}\n",
    "#window_fn_dict['100kb'] = os.path.join(DIRS['WINDOW_OUTPUT'], 'Pst_104E_v13_ph_ctg_w100kb.bed')\n",
    "#window_fn_dict['30kb'] = os.path.join(DIRS['WINDOW_OUTPUT'], 'Pst_104E_v13_ph_ctg_w30kb.bed')\n",
    "window_fn_dict['10kb'] = os.path.join(DIRS['WINDOW_OUTPUT'], 'Pst_104E_v13_ph_ctg_w10kb.bed')\n",
    "#window_fn_dict['100kb_s20kb'] = os.path.join(DIRS['WINDOW_OUTPUT'], 'Pst_104E_v13_ph_ctg_w100kb_s20kb.bed')\n",
    "#window_fn_dict['30kb_s6kb'] = os.path.join(DIRS['WINDOW_OUTPUT'], 'Pst_104E_v13_ph_ctg_w30kb_s6kb.bed')\n",
    "window_fn_dict['10kb_s2kb'] = os.path.join(DIRS['WINDOW_OUTPUT'], 'Pst_104E_v13_ph_ctg_w10kb_s2kb.bed')\n",
    "genome_size_f_fn = os.path.join(DIRS['WINDOW_INPUT'], 'Pst_104E_v13_ph_ctg.sorted.genome_file')"
   ]
  },
  {
   "cell_type": "code",
   "execution_count": 831,
   "metadata": {},
   "outputs": [
    {
     "name": "stdout",
     "output_type": "stream",
     "text": [
      "{'10kb': '/home/anjuni/analysis/windows/Pst_104E_v13_ph_ctg_w10kb.bed',\n",
      " '10kb_s2kb': '/home/anjuni/analysis/windows/Pst_104E_v13_ph_ctg_w10kb_s2kb.bed'}\n"
     ]
    }
   ],
   "source": [
    "# Check whether the dictionary looks nice :) (it does!) :D\n",
    "pprint.pprint(window_fn_dict)"
   ]
  },
  {
   "cell_type": "code",
   "execution_count": 292,
   "metadata": {},
   "outputs": [],
   "source": [
    "# Make the actual windows! :D\n",
    "#!bedtools makewindows -g {genome_size_f_fn} -w 100000 > {window_fn_dict['100kb']}\n",
    "#!bedtools makewindows -g {genome_size_f_fn} -w 30000 > {window_fn_dict['30kb']}\n",
    "!bedtools makewindows -g {genome_size_f_fn} -w 10000 > {window_fn_dict['10kb']}"
   ]
  },
  {
   "cell_type": "code",
   "execution_count": 293,
   "metadata": {},
   "outputs": [],
   "source": [
    "# Make sliding windows\n",
    "#!bedtools makewindows -g {genome_size_f_fn} -w 100000 -s 20000 > {window_fn_dict['100kb_s20kb']}\n",
    "#!bedtools makewindows -g {genome_size_f_fn} -w 30000 -s 6000 > {window_fn_dict['30kb_s6kb']}\n",
    "!bedtools makewindows -g {genome_size_f_fn} -w 10000 -s 2000 > {window_fn_dict['10kb_s2kb']}"
   ]
  },
  {
   "cell_type": "code",
   "execution_count": 832,
   "metadata": {},
   "outputs": [],
   "source": [
    "#new make a bedtools window dataframe\n",
    "for key, value in window_fn_dict.items() :\n",
    "    window_bed_dict[key] = BedTool(value)"
   ]
  },
  {
   "cell_type": "code",
   "execution_count": 833,
   "metadata": {},
   "outputs": [
    {
     "name": "stdout",
     "output_type": "stream",
     "text": [
      "{'10kb': <BedTool(/home/anjuni/analysis/windows/Pst_104E_v13_ph_ctg_w10kb.bed)>,\n",
      " '10kb_s2kb': <BedTool(/home/anjuni/analysis/windows/Pst_104E_v13_ph_ctg_w10kb_s2kb.bed)>}\n"
     ]
    }
   ],
   "source": [
    "# Check whether the bed file dictionary looks nice :) (it does!) :D\n",
    "pprint.pprint(window_bed_dict)"
   ]
  },
  {
   "cell_type": "code",
   "execution_count": 842,
   "metadata": {},
   "outputs": [
    {
     "name": "stdout",
     "output_type": "stream",
     "text": [
      "{'5MC_CUTOFFS': '/home/anjuni/methylation_calling/pacbio/input/sorted_bed_files/cutoffs_5mC',\n",
      " '6MA_CUTOFFS': '/home/anjuni/methylation_calling/pacbio/input/sorted_bed_files/cutoffs_6mA',\n",
      " 'BASE1': '/home/anjuni/methylation_calling/pacbio',\n",
      " 'BASE2': '/home/anjuni/analysis',\n",
      " 'BED_CUTOFFS': '/home/anjuni/methylation_calling/pacbio/input/sorted_bed_files/cutoffs',\n",
      " 'BED_INPUT': '/home/anjuni/analysis/bedtools_output/sequencing_comparison',\n",
      " 'FEATURES': '/home/anjuni/analysis/coverage/feature_files',\n",
      " 'GFF_INPUT': '/home/anjuni/analysis/gff_output',\n",
      " 'I_FROM_C': '/home/anjuni/analysis/bedtools_output/intersects_from_cutoffs',\n",
      " 'METHYL': '/home/anjuni/analysis/input_for_windows/methylation_files',\n",
      " 'REF': '/home/anjuni/Pst_104_v13_assembly/',\n",
      " 'TEST_COV': '/home/anjuni/analysis/coverage/test_feature_files',\n",
      " 'WINDOW_INPUT': '/home/anjuni/analysis/input_for_windows',\n",
      " 'WINDOW_OUTPUT': '/home/anjuni/analysis/windows'}\n"
     ]
    }
   ],
   "source": [
    "pprint.pprint(DIRS)"
   ]
  },
  {
   "cell_type": "markdown",
   "metadata": {},
   "source": [
    "## <span style='color:#148aff'> 5. Coverage analysis of methylation with gene annotation files. <span/>"
   ]
  },
  {
   "cell_type": "markdown",
   "metadata": {},
   "source": [
    "### <span style='color:#148aff'> 5.A Make feature files of effector proteins, non-effectors, genes, exons and TE superfamilies. <span/>"
   ]
  },
  {
   "cell_type": "code",
   "execution_count": 17,
   "metadata": {
    "collapsed": true
   },
   "outputs": [
    {
     "name": "stderr",
     "output_type": "stream",
     "text": [
      "--2018-08-07 15:30:17--  https://raw.githubusercontent.com/BenjaminSchwessinger/Pst_104_E137_A-_genome/master/supplemental_files/Supplemental_file_9.txt\n",
      "Resolving raw.githubusercontent.com (raw.githubusercontent.com)... 151.101.80.133\n",
      "Connecting to raw.githubusercontent.com (raw.githubusercontent.com)|151.101.80.133|:443... connected.\n",
      "HTTP request sent, awaiting response... 200 OK\n",
      "Length: 49295 (48K) [text/plain]\n",
      "Saving to: 'Supplemental_file_9.txt’\n",
      "\n",
      "     0K .......... .......... .......... .......... ........  100% 2.80M=0.02s\n",
      "\n",
      "2018-08-07 15:30:22 (2.80 MB/s) - 'Supplemental_file_9.txt’ saved [49295/49295]\n",
      "\n"
     ]
    }
   ],
   "source": [
    "%%bash\n",
    "# Downloading the effector file (need raw version with only the file)\n",
    "cd /home/anjuni/analysis/input_for_windows\n",
    "wget https://raw.githubusercontent.com/BenjaminSchwessinger/Pst_104_E137_A-_genome/master/supplemental_files/Supplemental_file_9.txt\n",
    "mv Supplemental_file_9.txt Candidate_effectors.txt"
   ]
  },
  {
   "cell_type": "code",
   "execution_count": 24,
   "metadata": {},
   "outputs": [],
   "source": [
    "# Make a GFF file of effector proteins\n",
    "\n",
    "# First extract all lines with genes (not exon or CDS) from the gene annotation file\n",
    "! grep 'gene' /home/anjuni/analysis/gff_output/Pst_104E_v13_ph_ctg.anno.sorted.gff3 > /home/anjuni/analysis/gff_output/Pst_104E_v13_ph_ctg.anno.sorted.genes_only.gff3"
   ]
  },
  {
   "cell_type": "code",
   "execution_count": 277,
   "metadata": {},
   "outputs": [],
   "source": [
    "# Then extract the effector lines from the gene file\n",
    "\n",
    "# First write grep function for python\n",
    "import fileinput\n",
    "import re\n",
    "import glob\n",
    "\n",
    "def grep(PAT, FILES):\n",
    "    \"\"\"Same function as 'grep' in bash.\"\"\"\n",
    "    fileinput.close() # close the file in case the iterable was previously open to prevent the \"input() already active\" error\n",
    "    for line in fileinput.input(glob.glob(FILES)):\n",
    "        if re.search(PAT, line):\n",
    "            #print(fileinput.filename(), fileinput.lineno(), line)\n",
    "            return line\n",
    "    fileinput.close()\n",
    "\n",
    "# Write function for filtering effectors from gene file using grep            \n",
    "def make_effector_gff(effector_list, gene_gff, out_gff):\n",
    "    \"\"\"Get effector protein features out of gene annotation files.\"\"\"\n",
    "    with open(out_gff, mode = 'w') as out_file:\n",
    "        for effector in effector_list:\n",
    "            print(grep(effector, gene_gff), file = out_file)\n",
    "        \n",
    "# And make a list of effects\n",
    "def make_effector_list(input_file):\n",
    "    list_name = []\n",
    "    with open(input_file) as file:\n",
    "        for line in file:\n",
    "            line = line.strip()\n",
    "            list_name.append(line)\n",
    "    return list_name"
   ]
  },
  {
   "cell_type": "code",
   "execution_count": 254,
   "metadata": {},
   "outputs": [],
   "source": [
    "# Make the effector list\n",
    "effectors = make_effector_list('/home/anjuni/analysis/input_for_windows/Candidate_effectors.txt')"
   ]
  },
  {
   "cell_type": "code",
   "execution_count": 258,
   "metadata": {
    "collapsed": true
   },
   "outputs": [
    {
     "name": "stdout",
     "output_type": "stream",
     "text": [
      "['evm.TU.hcontig_000_003.1', 'evm.TU.hcontig_000_003.10', 'evm.TU.hcontig_000_003.120', 'evm.TU.hcontig_000_003.158', 'evm.TU.hcontig_000_003.2', 'evm.TU.hcontig_000_003.20', 'evm.TU.hcontig_000_003.26', 'evm.TU.hcontig_000_003.314', 'evm.TU.hcontig_000_003.340', 'evm.TU.hcontig_000_003.380', 'evm.TU.hcontig_000_003.402', 'evm.TU.hcontig_000_003.419', 'evm.TU.hcontig_000_003.421', 'evm.TU.hcontig_000_003.423', 'evm.TU.hcontig_000_003.444', 'evm.TU.hcontig_000_003.450', 'evm.TU.hcontig_000_003.90', 'evm.TU.hcontig_000_031.4', 'evm.TU.hcontig_000_050.114', 'evm.TU.hcontig_000_050.122', 'evm.TU.hcontig_000_050.141', 'evm.TU.hcontig_000_050.144', 'evm.TU.hcontig_000_050.149', 'evm.TU.hcontig_000_050.34', 'evm.TU.hcontig_000_050.85', 'evm.TU.hcontig_000_050.87', 'evm.TU.hcontig_000_050.9', 'evm.TU.hcontig_000_050.93', 'evm.TU.hcontig_000_054.13', 'evm.TU.hcontig_000_054.43', 'evm.TU.hcontig_000_054.68', 'evm.TU.hcontig_001_001.103', 'evm.TU.hcontig_001_001.128', 'evm.TU.hcontig_001_001.129', 'evm.TU.hcontig_001_001.144', 'evm.TU.hcontig_001_001.153', 'evm.TU.hcontig_001_001.34', 'evm.TU.hcontig_001_001.36', 'evm.TU.hcontig_001_001.39', 'evm.TU.hcontig_001_001.41', 'evm.TU.hcontig_001_001.87', 'evm.TU.hcontig_001_001.89', 'evm.TU.hcontig_001_002.39', 'evm.TU.hcontig_001_002.4', 'evm.TU.hcontig_001_002.47', 'evm.TU.hcontig_001_002.5', 'evm.TU.hcontig_001_019.1', 'evm.TU.hcontig_001_019.2', 'evm.TU.hcontig_001_021.110', 'evm.TU.hcontig_001_021.115', 'evm.TU.hcontig_001_021.129', 'evm.TU.hcontig_001_021.139', 'evm.TU.hcontig_001_021.15', 'evm.TU.hcontig_001_021.198', 'evm.TU.hcontig_001_021.28', 'evm.TU.hcontig_001_021.65', 'evm.TU.hcontig_001_021.9', 'evm.TU.hcontig_001_032.3', 'evm.TU.hcontig_001_032.5', 'evm.TU.hcontig_001_042.9', 'evm.TU.hcontig_001_054.18', 'evm.TU.hcontig_001_054.81', 'evm.TU.hcontig_001_054.82', 'evm.TU.hcontig_001_056.2', 'evm.TU.hcontig_001_056.3', 'evm.TU.hcontig_001_056.6', 'evm.TU.hcontig_001_056.8', 'evm.TU.hcontig_001_123.3', 'evm.TU.hcontig_001_180.3', 'evm.TU.hcontig_001_180.4', 'evm.TU.hcontig_001_180.5', 'evm.TU.hcontig_001_180.6', 'evm.TU.hcontig_001_180.7', 'evm.TU.hcontig_002_011.110', 'evm.TU.hcontig_002_011.123', 'evm.TU.hcontig_002_011.134', 'evm.TU.hcontig_002_011.146', 'evm.TU.hcontig_002_011.188', 'evm.TU.hcontig_002_011.201', 'evm.TU.hcontig_002_011.23', 'evm.TU.hcontig_002_011.234', 'evm.TU.hcontig_002_011.29', 'evm.TU.hcontig_002_011.33', 'evm.TU.hcontig_002_011.37', 'evm.TU.hcontig_002_011.66', 'evm.TU.hcontig_002_023.7', 'evm.TU.hcontig_002_028.1', 'evm.TU.hcontig_002_028.149', 'evm.TU.hcontig_002_028.150', 'evm.TU.hcontig_002_028.153', 'evm.TU.hcontig_002_028.159', 'evm.TU.hcontig_002_028.161', 'evm.TU.hcontig_002_028.162', 'evm.TU.hcontig_002_028.173', 'evm.TU.hcontig_002_028.177', 'evm.TU.hcontig_002_028.189', 'evm.TU.hcontig_002_028.206', 'evm.TU.hcontig_002_028.210', 'evm.TU.hcontig_002_028.230', 'evm.TU.hcontig_002_028.271', 'evm.TU.hcontig_002_028.276', 'evm.TU.hcontig_002_028.277', 'evm.TU.hcontig_002_028.279', 'evm.TU.hcontig_002_028.297', 'evm.TU.hcontig_002_028.300', 'evm.TU.hcontig_002_028.303', 'evm.TU.hcontig_002_028.306', 'evm.TU.hcontig_002_028.5', 'evm.TU.hcontig_002_028.54', 'evm.TU.hcontig_002_028.63', 'evm.TU.hcontig_002_028.75', 'evm.TU.hcontig_002_028.84', 'evm.TU.hcontig_003_002.113', 'evm.TU.hcontig_003_002.114', 'evm.TU.hcontig_003_002.125', 'evm.TU.hcontig_003_002.126', 'evm.TU.hcontig_003_002.127', 'evm.TU.hcontig_003_002.159', 'evm.TU.hcontig_003_002.209', 'evm.TU.hcontig_003_002.213', 'evm.TU.hcontig_003_002.215', 'evm.TU.hcontig_003_002.38', 'evm.TU.hcontig_003_002.54', 'evm.TU.hcontig_003_002.59', 'evm.TU.hcontig_003_002.61', 'evm.TU.hcontig_003_002.62', 'evm.TU.hcontig_003_002.91', 'evm.TU.hcontig_003_002.92', 'evm.TU.hcontig_003_002.93', 'evm.TU.hcontig_003_013.20', 'evm.TU.hcontig_003_013.21', 'evm.TU.hcontig_003_013.22', 'evm.TU.hcontig_003_013.23', 'evm.TU.hcontig_003_013.40', 'evm.TU.hcontig_003_013.41', 'evm.TU.hcontig_003_013.44', 'evm.TU.hcontig_003_013.5', 'evm.TU.hcontig_003_013.6', 'evm.TU.hcontig_003_014.20', 'evm.TU.hcontig_003_014.3', 'evm.TU.hcontig_003_014.46', 'evm.TU.hcontig_003_014.54', 'evm.TU.hcontig_003_014.55', 'evm.TU.hcontig_003_014.9', 'evm.TU.hcontig_003_026.4', 'evm.TU.hcontig_003_026.5', 'evm.TU.hcontig_003_028.6', 'evm.TU.hcontig_003_041.76', 'evm.TU.hcontig_003_045.11', 'evm.TU.hcontig_003_045.14', 'evm.TU.hcontig_003_045.19', 'evm.TU.hcontig_003_045.2', 'evm.TU.hcontig_003_045.20', 'evm.TU.hcontig_003_045.25', 'evm.TU.hcontig_003_045.26', 'evm.TU.hcontig_003_045.7', 'evm.TU.hcontig_003_136.1', 'evm.TU.hcontig_003_136.15', 'evm.TU.hcontig_004_019.5', 'evm.TU.hcontig_004_020.118', 'evm.TU.hcontig_004_020.12', 'evm.TU.hcontig_004_020.136', 'evm.TU.hcontig_004_020.14', 'evm.TU.hcontig_004_020.15', 'evm.TU.hcontig_004_020.166', 'evm.TU.hcontig_004_020.169', 'evm.TU.hcontig_004_020.18', 'evm.TU.hcontig_004_020.19', 'evm.TU.hcontig_004_020.190', 'evm.TU.hcontig_004_020.215', 'evm.TU.hcontig_004_020.219', 'evm.TU.hcontig_004_020.26', 'evm.TU.hcontig_004_020.27', 'evm.TU.hcontig_004_020.299', 'evm.TU.hcontig_004_020.324', 'evm.TU.hcontig_004_020.36', 'evm.TU.hcontig_004_020.391', 'evm.TU.hcontig_004_020.395', 'evm.TU.hcontig_004_020.397', 'evm.TU.hcontig_004_020.40', 'evm.TU.hcontig_004_020.55', 'evm.TU.hcontig_004_020.68', 'evm.TU.hcontig_004_021.2', 'evm.TU.hcontig_004_027.1', 'evm.TU.hcontig_004_027.2', 'evm.TU.hcontig_004_076.53', 'evm.TU.hcontig_005_002.19', 'evm.TU.hcontig_005_002.40', 'evm.TU.hcontig_005_002.82', 'evm.TU.hcontig_005_002.83', 'evm.TU.hcontig_005_002.86', 'evm.TU.hcontig_005_002.89', 'evm.TU.hcontig_005_021.1', 'evm.TU.hcontig_005_021.2', 'evm.TU.hcontig_005_021.37', 'evm.TU.hcontig_005_021.58', 'evm.TU.hcontig_005_021.65', 'evm.TU.hcontig_005_039.14', 'evm.TU.hcontig_005_043.152', 'evm.TU.hcontig_005_043.177', 'evm.TU.hcontig_005_043.178', 'evm.TU.hcontig_005_043.187', 'evm.TU.hcontig_005_043.188', 'evm.TU.hcontig_005_043.205', 'evm.TU.hcontig_005_043.218', 'evm.TU.hcontig_005_043.227', 'evm.TU.hcontig_005_043.41', 'evm.TU.hcontig_005_043.44', 'evm.TU.hcontig_005_043.46', 'evm.TU.hcontig_005_043.70', 'evm.TU.hcontig_005_043.71', 'evm.TU.hcontig_005_043.78', 'evm.TU.hcontig_005_043.84', 'evm.TU.hcontig_005_043.91', 'evm.TU.hcontig_006_002.39', 'evm.TU.hcontig_006_002.5', 'evm.TU.hcontig_006_013.11', 'evm.TU.hcontig_006_013.137', 'evm.TU.hcontig_006_013.14', 'evm.TU.hcontig_006_013.173', 'evm.TU.hcontig_006_013.222', 'evm.TU.hcontig_006_013.3', 'evm.TU.hcontig_006_013.47', 'evm.TU.hcontig_006_013.78', 'evm.TU.hcontig_006_013.90', 'evm.TU.hcontig_006_015.31', 'evm.TU.hcontig_006_021.3', 'evm.TU.hcontig_006_033.17', 'evm.TU.hcontig_006_033.2', 'evm.TU.hcontig_006_033.3', 'evm.TU.hcontig_006_033.37', 'evm.TU.hcontig_006_131.11', 'evm.TU.hcontig_006_131.13', 'evm.TU.hcontig_007_001.4', 'evm.TU.hcontig_007_005.22', 'evm.TU.hcontig_007_005.5', 'evm.TU.hcontig_007_005.64', 'evm.TU.hcontig_007_005.66', 'evm.TU.hcontig_007_005.7', 'evm.TU.hcontig_007_005.75', 'evm.TU.hcontig_007_005.78', 'evm.TU.hcontig_007_006.111', 'evm.TU.hcontig_007_006.112', 'evm.TU.hcontig_007_006.164', 'evm.TU.hcontig_007_006.196', 'evm.TU.hcontig_007_006.202', 'evm.TU.hcontig_007_006.206', 'evm.TU.hcontig_007_006.207', 'evm.TU.hcontig_007_006.210', 'evm.TU.hcontig_007_006.217', 'evm.TU.hcontig_007_006.220', 'evm.TU.hcontig_007_006.221', 'evm.TU.hcontig_007_006.223', 'evm.TU.hcontig_007_006.23', 'evm.TU.hcontig_007_007.17', 'evm.TU.hcontig_007_007.18', 'evm.TU.hcontig_007_007.43', 'evm.TU.hcontig_007_007.8', 'evm.TU.hcontig_007_031.2', 'evm.TU.hcontig_008_009.10', 'evm.TU.hcontig_008_009.111', 'evm.TU.hcontig_008_009.38', 'evm.TU.hcontig_008_009.46', 'evm.TU.hcontig_008_009.88', 'evm.TU.hcontig_008_014.43', 'evm.TU.hcontig_008_014.64', 'evm.TU.hcontig_008_014.80', 'evm.TU.hcontig_008_035.11', 'evm.TU.hcontig_008_093.37', 'evm.TU.hcontig_009_015.1', 'evm.TU.hcontig_009_024.1', 'evm.TU.hcontig_009_024.112', 'evm.TU.hcontig_009_024.117', 'evm.TU.hcontig_009_024.18', 'evm.TU.hcontig_009_024.55', 'evm.TU.hcontig_009_024.74', 'evm.TU.hcontig_009_024.78', 'evm.TU.hcontig_009_024.80', 'evm.TU.hcontig_009_029.41', 'evm.TU.hcontig_009_029.51', 'evm.TU.hcontig_009_029.53', 'evm.TU.hcontig_009_029.55', 'evm.TU.hcontig_009_029.56', 'evm.TU.hcontig_009_029.61', 'evm.TU.hcontig_009_142.10', 'evm.TU.hcontig_010_016.105', 'evm.TU.hcontig_010_016.114', 'evm.TU.hcontig_010_016.141', 'evm.TU.hcontig_010_016.186', 'evm.TU.hcontig_010_016.187', 'evm.TU.hcontig_010_016.188', 'evm.TU.hcontig_010_016.192', 'evm.TU.hcontig_010_016.199', 'evm.TU.hcontig_010_016.202', 'evm.TU.hcontig_010_016.205', 'evm.TU.hcontig_010_016.207', 'evm.TU.hcontig_010_016.220', 'evm.TU.hcontig_010_016.224', 'evm.TU.hcontig_010_016.225', 'evm.TU.hcontig_010_016.226', 'evm.TU.hcontig_010_016.236', 'evm.TU.hcontig_010_016.237', 'evm.TU.hcontig_010_016.246', 'evm.TU.hcontig_010_016.247', 'evm.TU.hcontig_010_016.270', 'evm.TU.hcontig_010_016.272', 'evm.TU.hcontig_010_016.277', 'evm.TU.hcontig_010_016.296', 'evm.TU.hcontig_010_016.297', 'evm.TU.hcontig_010_016.38', 'evm.TU.hcontig_010_016.41', 'evm.TU.hcontig_010_016.47', 'evm.TU.hcontig_010_016.48', 'evm.TU.hcontig_010_016.62', 'evm.TU.hcontig_010_016.92', 'evm.TU.hcontig_010_016.98', 'evm.TU.hcontig_010_016.99', 'evm.TU.hcontig_011_005.6', 'evm.TU.hcontig_011_013.3', 'evm.TU.hcontig_011_016.116', 'evm.TU.hcontig_011_016.117', 'evm.TU.hcontig_011_016.119', 'evm.TU.hcontig_011_016.143', 'evm.TU.hcontig_011_016.148', 'evm.TU.hcontig_011_016.149', 'evm.TU.hcontig_011_016.169', 'evm.TU.hcontig_011_016.205', 'evm.TU.hcontig_011_016.223', 'evm.TU.hcontig_011_016.240', 'evm.TU.hcontig_011_016.26', 'evm.TU.hcontig_011_016.27', 'evm.TU.hcontig_011_016.28', 'evm.TU.hcontig_011_016.30', 'evm.TU.hcontig_011_016.31', 'evm.TU.hcontig_011_016.32', 'evm.TU.hcontig_011_016.37', 'evm.TU.hcontig_011_016.91', 'evm.TU.hcontig_011_016.92', 'evm.TU.hcontig_011_017.25', 'evm.TU.hcontig_011_017.37', 'evm.TU.hcontig_011_017.43', 'evm.TU.hcontig_012_010.100', 'evm.TU.hcontig_012_010.103', 'evm.TU.hcontig_012_010.105', 'evm.TU.hcontig_012_010.20', 'evm.TU.hcontig_012_010.25', 'evm.TU.hcontig_012_010.28', 'evm.TU.hcontig_012_010.30', 'evm.TU.hcontig_012_010.60', 'evm.TU.hcontig_012_010.72', 'evm.TU.hcontig_012_024.75', 'evm.TU.hcontig_012_028.106', 'evm.TU.hcontig_012_028.128', 'evm.TU.hcontig_012_028.144', 'evm.TU.hcontig_012_028.25', 'evm.TU.hcontig_012_028.26', 'evm.TU.hcontig_012_028.28', 'evm.TU.hcontig_012_028.93', 'evm.TU.hcontig_012_028.98', 'evm.TU.hcontig_012_116.5', 'evm.TU.hcontig_012_116.7', 'evm.TU.hcontig_013_010.110', 'evm.TU.hcontig_013_010.111', 'evm.TU.hcontig_013_010.17', 'evm.TU.hcontig_013_010.19', 'evm.TU.hcontig_013_010.39', 'evm.TU.hcontig_013_010.40', 'evm.TU.hcontig_013_010.53', 'evm.TU.hcontig_013_010.57', 'evm.TU.hcontig_013_010.59', 'evm.TU.hcontig_013_010.89', 'evm.TU.hcontig_013_010.90', 'evm.TU.hcontig_013_012.64', 'evm.TU.hcontig_013_014.1', 'evm.TU.hcontig_013_018.3', 'evm.TU.hcontig_013_023.20', 'evm.TU.hcontig_013_023.23', 'evm.TU.hcontig_013_023.33', 'evm.TU.hcontig_013_023.71', 'evm.TU.hcontig_013_029.5', 'evm.TU.hcontig_013_029.6', 'evm.TU.hcontig_014_008.11', 'evm.TU.hcontig_014_017.7', 'evm.TU.hcontig_014_022.17', 'evm.TU.hcontig_014_022.19', 'evm.TU.hcontig_014_027.24', 'evm.TU.hcontig_014_117.15', 'evm.TU.hcontig_014_117.19', 'evm.TU.hcontig_014_117.25', 'evm.TU.hcontig_014_117.4', 'evm.TU.hcontig_014_192.10', 'evm.TU.hcontig_014_192.3', 'evm.TU.hcontig_016_014.15', 'evm.TU.hcontig_016_024.126', 'evm.TU.hcontig_016_024.133', 'evm.TU.hcontig_016_024.163', 'evm.TU.hcontig_016_024.22', 'evm.TU.hcontig_016_024.57', 'evm.TU.hcontig_016_024.79', 'evm.TU.hcontig_016_124.11', 'evm.TU.hcontig_017_004.103', 'evm.TU.hcontig_017_004.114', 'evm.TU.hcontig_017_004.118', 'evm.TU.hcontig_017_004.120', 'evm.TU.hcontig_017_004.140', 'evm.TU.hcontig_017_004.141', 'evm.TU.hcontig_017_004.2', 'evm.TU.hcontig_017_004.50', 'evm.TU.hcontig_017_004.51', 'evm.TU.hcontig_017_004.6', 'evm.TU.hcontig_017_004.70', 'evm.TU.hcontig_017_004.71', 'evm.TU.hcontig_017_004.73', 'evm.TU.hcontig_017_011.5', 'evm.TU.hcontig_017_011.6', 'evm.TU.hcontig_017_025.13', 'evm.TU.hcontig_017_025.2', 'evm.TU.hcontig_017_026.2', 'evm.TU.hcontig_017_160.7', 'evm.TU.hcontig_018_007.6', 'evm.TU.hcontig_018_008.1', 'evm.TU.hcontig_018_008.4', 'evm.TU.hcontig_018_010.2', 'evm.TU.hcontig_018_015.5', 'evm.TU.hcontig_018_016.123', 'evm.TU.hcontig_018_016.129', 'evm.TU.hcontig_018_016.132', 'evm.TU.hcontig_018_016.133', 'evm.TU.hcontig_018_016.48', 'evm.TU.hcontig_018_016.70', 'evm.TU.hcontig_018_016.84', 'evm.TU.hcontig_018_016.86', 'evm.TU.hcontig_018_022.106', 'evm.TU.hcontig_018_022.137', 'evm.TU.hcontig_018_022.3', 'evm.TU.hcontig_018_022.65', 'evm.TU.hcontig_018_022.68', 'evm.TU.hcontig_018_022.76', 'evm.TU.hcontig_018_022.79', 'evm.TU.hcontig_018_022.82', 'evm.TU.hcontig_018_022.83', 'evm.TU.hcontig_018_022.88', 'evm.TU.hcontig_019_001.21', 'evm.TU.hcontig_019_001.29', 'evm.TU.hcontig_019_001.33', 'evm.TU.hcontig_019_001.9', 'evm.TU.hcontig_019_013.16', 'evm.TU.hcontig_019_013.18', 'evm.TU.hcontig_019_013.24', 'evm.TU.hcontig_019_013.25', 'evm.TU.hcontig_019_013.36', 'evm.TU.hcontig_019_013.55', 'evm.TU.hcontig_019_015.122', 'evm.TU.hcontig_019_015.15', 'evm.TU.hcontig_019_015.17', 'evm.TU.hcontig_019_015.18', 'evm.TU.hcontig_019_015.25', 'evm.TU.hcontig_019_020.15', 'evm.TU.hcontig_019_020.25', 'evm.TU.hcontig_019_020.31', 'evm.TU.hcontig_019_085.2', 'evm.TU.hcontig_019_085.3', 'evm.TU.hcontig_019_085.36', 'evm.TU.hcontig_019_085.53', 'evm.TU.hcontig_019_085.57', 'evm.TU.hcontig_020_007.1', 'evm.TU.hcontig_020_018.35', 'evm.TU.hcontig_020_018.46', 'evm.TU.hcontig_020_018.5', 'evm.TU.hcontig_020_021.129', 'evm.TU.hcontig_020_021.14', 'evm.TU.hcontig_020_021.150', 'evm.TU.hcontig_020_021.151', 'evm.TU.hcontig_020_021.28', 'evm.TU.hcontig_020_021.45', 'evm.TU.hcontig_020_021.47', 'evm.TU.hcontig_020_021.59', 'evm.TU.hcontig_020_021.62', 'evm.TU.hcontig_020_021.7', 'evm.TU.hcontig_020_022.7', 'evm.TU.hcontig_020_025.32', 'evm.TU.hcontig_020_132.11', 'evm.TU.hcontig_020_132.17', 'evm.TU.hcontig_020_132.18', 'evm.TU.hcontig_021_014.14', 'evm.TU.hcontig_021_014.149', 'evm.TU.hcontig_021_014.151', 'evm.TU.hcontig_021_014.168', 'evm.TU.hcontig_021_014.169', 'evm.TU.hcontig_021_014.30', 'evm.TU.hcontig_021_014.38', 'evm.TU.hcontig_021_014.45', 'evm.TU.hcontig_021_014.63', 'evm.TU.hcontig_021_014.76', 'evm.TU.hcontig_021_014.84', 'evm.TU.hcontig_021_014.96', 'evm.TU.hcontig_021_026.2', 'evm.TU.hcontig_021_026.22', 'evm.TU.hcontig_021_026.23', 'evm.TU.hcontig_021_027.28', 'evm.TU.hcontig_021_027.3', 'evm.TU.hcontig_021_027.33', 'evm.TU.hcontig_021_027.62', 'evm.TU.hcontig_021_027.70', 'evm.TU.hcontig_021_027.72', 'evm.TU.hcontig_021_027.83', 'evm.TU.hcontig_022_007.17', 'evm.TU.hcontig_022_007.25', 'evm.TU.hcontig_022_007.29', 'evm.TU.hcontig_022_007.31', 'evm.TU.hcontig_022_007.39', 'evm.TU.hcontig_022_008.107', 'evm.TU.hcontig_022_008.14', 'evm.TU.hcontig_022_008.35', 'evm.TU.hcontig_022_008.39', 'evm.TU.hcontig_022_008.53', 'evm.TU.hcontig_022_008.79', 'evm.TU.hcontig_022_015.15', 'evm.TU.hcontig_022_015.7', 'evm.TU.hcontig_022_101.24', 'evm.TU.hcontig_023_002.107', 'evm.TU.hcontig_023_002.11', 'evm.TU.hcontig_023_002.142', 'evm.TU.hcontig_023_002.26', 'evm.TU.hcontig_023_002.27', 'evm.TU.hcontig_023_002.33', 'evm.TU.hcontig_023_002.43', 'evm.TU.hcontig_023_002.67', 'evm.TU.hcontig_023_003.3', 'evm.TU.hcontig_023_007.110', 'evm.TU.hcontig_023_007.31', 'evm.TU.hcontig_023_007.51', 'evm.TU.hcontig_023_007.77', 'evm.TU.hcontig_023_007.96', 'evm.TU.hcontig_025_002.15', 'evm.TU.hcontig_025_002.19', 'evm.TU.hcontig_025_003.23', 'evm.TU.hcontig_025_003.24', 'evm.TU.hcontig_025_003.38', 'evm.TU.hcontig_025_003.39', 'evm.TU.hcontig_025_003.4', 'evm.TU.hcontig_025_003.63', 'evm.TU.hcontig_026_002.113', 'evm.TU.hcontig_026_002.124', 'evm.TU.hcontig_026_002.137', 'evm.TU.hcontig_026_002.138', 'evm.TU.hcontig_026_002.159', 'evm.TU.hcontig_026_002.31', 'evm.TU.hcontig_026_002.32', 'evm.TU.hcontig_026_002.7', 'evm.TU.hcontig_026_002.8', 'evm.TU.hcontig_026_011.10', 'evm.TU.hcontig_026_011.11', 'evm.TU.hcontig_026_011.9', 'evm.TU.hcontig_026_018.47', 'evm.TU.hcontig_026_018.49', 'evm.TU.hcontig_026_018.50', 'evm.TU.hcontig_026_018.59', 'evm.TU.hcontig_026_018.62', 'evm.TU.hcontig_026_018.63', 'evm.TU.hcontig_027_006.107', 'evm.TU.hcontig_027_006.69', 'evm.TU.hcontig_027_011.32', 'evm.TU.hcontig_027_011.38', 'evm.TU.hcontig_027_011.39', 'evm.TU.hcontig_027_011.40', 'evm.TU.hcontig_027_011.42', 'evm.TU.hcontig_027_011.78', 'evm.TU.hcontig_027_011.79', 'evm.TU.hcontig_027_011.80', 'evm.TU.hcontig_027_011.86', 'evm.TU.hcontig_027_018.8', 'evm.TU.hcontig_027_018.9', 'evm.TU.hcontig_027_102.2', 'evm.TU.hcontig_027_102.24', 'evm.TU.hcontig_027_102.43', 'evm.TU.hcontig_027_102.45', 'evm.TU.hcontig_028_003.17', 'evm.TU.hcontig_028_003.19', 'evm.TU.hcontig_028_003.23', 'evm.TU.hcontig_028_011.104', 'evm.TU.hcontig_028_011.105', 'evm.TU.hcontig_028_011.113', 'evm.TU.hcontig_028_011.125', 'evm.TU.hcontig_028_011.6', 'evm.TU.hcontig_028_011.85', 'evm.TU.hcontig_028_015.14', 'evm.TU.hcontig_028_015.19', 'evm.TU.hcontig_028_015.2', 'evm.TU.hcontig_029_001.3', 'evm.TU.hcontig_029_010.1', 'evm.TU.hcontig_029_010.2', 'evm.TU.hcontig_029_010.62', 'evm.TU.hcontig_029_010.80', 'evm.TU.hcontig_029_010.84', 'evm.TU.hcontig_029_013.103', 'evm.TU.hcontig_029_013.104', 'evm.TU.hcontig_029_013.24', 'evm.TU.hcontig_029_013.30', 'evm.TU.hcontig_029_013.46', 'evm.TU.hcontig_029_013.74', 'evm.TU.hcontig_029_013.76', 'evm.TU.hcontig_029_013.81', 'evm.TU.hcontig_029_013.83', 'evm.TU.hcontig_029_013.90', 'evm.TU.hcontig_029_013.96', 'evm.TU.hcontig_029_014.3', 'evm.TU.hcontig_029_023.1', 'evm.TU.hcontig_029_023.2', 'evm.TU.hcontig_030_011.116', 'evm.TU.hcontig_030_011.134', 'evm.TU.hcontig_030_011.15', 'evm.TU.hcontig_030_011.151', 'evm.TU.hcontig_030_011.160', 'evm.TU.hcontig_030_011.161', 'evm.TU.hcontig_030_011.203', 'evm.TU.hcontig_030_011.25', 'evm.TU.hcontig_030_011.26', 'evm.TU.hcontig_030_011.38', 'evm.TU.hcontig_030_011.41', 'evm.TU.hcontig_030_011.42', 'evm.TU.hcontig_030_011.92', 'evm.TU.hcontig_030_155.14', 'evm.TU.hcontig_031_005.109', 'evm.TU.hcontig_031_005.112', 'evm.TU.hcontig_031_005.15', 'evm.TU.hcontig_031_005.22', 'evm.TU.hcontig_031_005.23', 'evm.TU.hcontig_031_005.29', 'evm.TU.hcontig_031_005.44', 'evm.TU.hcontig_031_005.47', 'evm.TU.hcontig_031_005.52', 'evm.TU.hcontig_031_005.53', 'evm.TU.hcontig_031_005.54', 'evm.TU.hcontig_031_005.87', 'evm.TU.hcontig_031_005.9', 'evm.TU.hcontig_031_005.93', 'evm.TU.hcontig_031_005.96', 'evm.TU.hcontig_031_005.97', 'evm.TU.hcontig_031_005.99', 'evm.TU.hcontig_031_007.24', 'evm.TU.hcontig_031_007.26', 'evm.TU.hcontig_031_007.35', 'evm.TU.hcontig_031_007.40', 'evm.TU.hcontig_031_007.42', 'evm.TU.hcontig_031_007.69', 'evm.TU.hcontig_031_007.91', 'evm.TU.hcontig_031_013.17', 'evm.TU.hcontig_031_015.2', 'evm.TU.hcontig_031_015.4', 'evm.TU.hcontig_033_010.1', 'evm.TU.hcontig_033_014.54', 'evm.TU.hcontig_033_071.16', 'evm.TU.hcontig_033_071.17', 'evm.TU.hcontig_033_071.21', 'evm.TU.hcontig_033_071.25', 'evm.TU.hcontig_033_071.59', 'evm.TU.hcontig_033_071.60', 'evm.TU.hcontig_033_071.76', 'evm.TU.hcontig_033_071.85', 'evm.TU.hcontig_034_001.109', 'evm.TU.hcontig_034_001.116', 'evm.TU.hcontig_034_001.127', 'evm.TU.hcontig_034_001.140', 'evm.TU.hcontig_034_001.142', 'evm.TU.hcontig_034_001.144', 'evm.TU.hcontig_034_001.157', 'evm.TU.hcontig_034_001.158', 'evm.TU.hcontig_034_001.160', 'evm.TU.hcontig_034_001.163', 'evm.TU.hcontig_034_001.21', 'evm.TU.hcontig_034_001.57', 'evm.TU.hcontig_034_001.60', 'evm.TU.hcontig_034_001.66', 'evm.TU.hcontig_034_001.76', 'evm.TU.hcontig_034_001.83', 'evm.TU.hcontig_034_005.1', 'evm.TU.hcontig_034_022.11', 'evm.TU.hcontig_034_022.9', 'evm.TU.hcontig_035_008.10', 'evm.TU.hcontig_035_008.11', 'evm.TU.hcontig_035_008.129', 'evm.TU.hcontig_035_008.130', 'evm.TU.hcontig_035_008.134', 'evm.TU.hcontig_035_008.137', 'evm.TU.hcontig_035_008.144', 'evm.TU.hcontig_035_008.157', 'evm.TU.hcontig_035_008.29', 'evm.TU.hcontig_035_008.31', 'evm.TU.hcontig_035_008.32', 'evm.TU.hcontig_035_008.33', 'evm.TU.hcontig_035_008.34', 'evm.TU.hcontig_035_008.4', 'evm.TU.hcontig_035_008.46', 'evm.TU.hcontig_035_008.47', 'evm.TU.hcontig_035_008.49', 'evm.TU.hcontig_035_008.61', 'evm.TU.hcontig_035_008.8', 'evm.TU.hcontig_035_013.2', 'evm.TU.hcontig_035_019.3', 'evm.TU.hcontig_035_019.4', 'evm.TU.hcontig_035_019.6', 'evm.TU.hcontig_036_002.11', 'evm.TU.hcontig_036_002.12', 'evm.TU.hcontig_036_006.13', 'evm.TU.hcontig_036_006.14', 'evm.TU.hcontig_036_006.16', 'evm.TU.hcontig_036_008.100', 'evm.TU.hcontig_036_008.15', 'evm.TU.hcontig_036_008.6', 'evm.TU.hcontig_036_008.8', 'evm.TU.hcontig_036_012.1', 'evm.TU.hcontig_036_012.14', 'evm.TU.hcontig_036_012.16', 'evm.TU.hcontig_036_012.2', 'evm.TU.hcontig_037_004.37', 'evm.TU.hcontig_037_004.55', 'evm.TU.hcontig_037_004.58', 'evm.TU.hcontig_037_004.61', 'evm.TU.hcontig_037_004.63', 'evm.TU.hcontig_037_004.70', 'evm.TU.hcontig_037_011.31', 'evm.TU.hcontig_037_011.32', 'evm.TU.hcontig_037_011.35', 'evm.TU.hcontig_037_011.73', 'evm.TU.hcontig_037_011.75', 'evm.TU.hcontig_037_011.76', 'evm.TU.hcontig_037_011.77', 'evm.TU.hcontig_037_011.78', 'evm.TU.hcontig_037_017.3', 'evm.TU.hcontig_037_161.3', 'evm.TU.hcontig_039_004.26', 'evm.TU.hcontig_039_004.36', 'evm.TU.hcontig_039_004.37', 'evm.TU.hcontig_039_004.63', 'evm.TU.hcontig_039_005.11', 'evm.TU.hcontig_039_005.22', 'evm.TU.hcontig_039_005.38', 'evm.TU.hcontig_039_005.39', 'evm.TU.hcontig_039_005.7', 'evm.TU.hcontig_039_005.83', 'evm.TU.hcontig_039_005.88', 'evm.TU.hcontig_039_005.89', 'evm.TU.hcontig_039_005.90', 'evm.TU.hcontig_039_005.94', 'evm.TU.hcontig_039_005.96', 'evm.TU.hcontig_040_001.2', 'evm.TU.hcontig_040_001.3', 'evm.TU.hcontig_040_001.6', 'evm.TU.hcontig_040_001.9', 'evm.TU.hcontig_040_002.12', 'evm.TU.hcontig_040_002.2', 'evm.TU.hcontig_040_015.13', 'evm.TU.hcontig_040_015.29', 'evm.TU.hcontig_040_015.3', 'evm.TU.hcontig_040_015.69', 'evm.TU.hcontig_040_015.79', 'evm.TU.hcontig_040_015.86', 'evm.TU.hcontig_040_015.91', 'evm.TU.hcontig_040_109.23', 'evm.TU.hcontig_040_109.31', 'evm.TU.hcontig_041_004.2', 'evm.TU.hcontig_041_004.4', 'evm.TU.hcontig_041_004.54', 'evm.TU.hcontig_041_004.55', 'evm.TU.hcontig_041_004.60', 'evm.TU.hcontig_041_004.78', 'evm.TU.hcontig_041_004.83', 'evm.TU.hcontig_041_005.12', 'evm.TU.hcontig_041_005.28', 'evm.TU.hcontig_041_005.29', 'evm.TU.hcontig_041_005.6', 'evm.TU.hcontig_041_005.7', 'evm.TU.hcontig_041_127.12', 'evm.TU.hcontig_041_127.20', 'evm.TU.hcontig_041_127.8', 'evm.TU.hcontig_042_005.2', 'evm.TU.hcontig_042_008.7', 'evm.TU.hcontig_042_009.58', 'evm.TU.hcontig_042_009.59', 'evm.TU.hcontig_042_011.5', 'evm.TU.hcontig_042_168.11', 'evm.TU.hcontig_043_003.15', 'evm.TU.hcontig_043_003.41', 'evm.TU.hcontig_043_003.52', 'evm.TU.hcontig_043_003.53', 'evm.TU.hcontig_043_006.6', 'evm.TU.hcontig_043_119.21', 'evm.TU.hcontig_043_119.4', 'evm.TU.hcontig_043_119.8', 'evm.TU.hcontig_044_003.13', 'evm.TU.hcontig_044_003.37', 'evm.TU.hcontig_044_003.39', 'evm.TU.hcontig_044_003.40', 'evm.TU.hcontig_044_003.43', 'evm.TU.hcontig_044_023.118', 'evm.TU.hcontig_044_023.121', 'evm.TU.hcontig_044_023.30', 'evm.TU.hcontig_044_023.62', 'evm.TU.hcontig_044_023.87', 'evm.TU.hcontig_044_023.88', 'evm.TU.hcontig_045_002.10', 'evm.TU.hcontig_045_002.12', 'evm.TU.hcontig_045_002.14', 'evm.TU.hcontig_045_002.3', 'evm.TU.hcontig_045_002.83', 'evm.TU.hcontig_045_002.88', 'evm.TU.hcontig_045_002.92', 'evm.TU.hcontig_045_002.96', 'evm.TU.hcontig_046_007.10', 'evm.TU.hcontig_046_007.119', 'evm.TU.hcontig_046_007.120', 'evm.TU.hcontig_046_007.42', 'evm.TU.hcontig_046_007.58', 'evm.TU.hcontig_046_007.63', 'evm.TU.hcontig_046_007.70', 'evm.TU.hcontig_046_007.80', 'evm.TU.hcontig_046_007.83', 'evm.TU.hcontig_046_007.88', 'evm.TU.hcontig_047_003.30', 'evm.TU.hcontig_047_003.37', 'evm.TU.hcontig_047_003.38', 'evm.TU.hcontig_047_006.25', 'evm.TU.hcontig_047_006.35', 'evm.TU.hcontig_047_006.51', 'evm.TU.hcontig_047_006.9', 'evm.TU.hcontig_047_007.2', 'evm.TU.hcontig_048_005.42', 'evm.TU.hcontig_048_005.62', 'evm.TU.hcontig_048_010.27', 'evm.TU.hcontig_048_010.29', 'evm.TU.hcontig_049_002.1', 'evm.TU.hcontig_049_002.37', 'evm.TU.hcontig_049_002.41', 'evm.TU.hcontig_049_002.58', 'evm.TU.hcontig_050_003.14', 'evm.TU.hcontig_050_003.20', 'evm.TU.hcontig_050_003.45', 'evm.TU.hcontig_050_010.1', 'evm.TU.hcontig_050_011.33', 'evm.TU.hcontig_050_011.39', 'evm.TU.hcontig_050_053.12', 'evm.TU.hcontig_050_053.5', 'evm.TU.hcontig_050_121.18', 'evm.TU.hcontig_050_121.9', 'evm.TU.hcontig_052_006.115', 'evm.TU.hcontig_052_006.117', 'evm.TU.hcontig_052_006.146', 'evm.TU.hcontig_052_006.155', 'evm.TU.hcontig_052_006.25', 'evm.TU.hcontig_052_006.53', 'evm.TU.hcontig_052_006.63', 'evm.TU.hcontig_052_105.25', 'evm.TU.hcontig_052_105.4', 'evm.TU.hcontig_054_001.108', 'evm.TU.hcontig_054_001.17', 'evm.TU.hcontig_054_001.25', 'evm.TU.hcontig_054_001.35', 'evm.TU.hcontig_054_001.50', 'evm.TU.hcontig_054_001.52', 'evm.TU.hcontig_054_001.91', 'evm.TU.hcontig_055_008.4', 'evm.TU.hcontig_055_009.1', 'evm.TU.hcontig_055_009.19', 'evm.TU.hcontig_055_009.22', 'evm.TU.hcontig_055_009.8', 'evm.TU.hcontig_055_009.9', 'evm.TU.hcontig_055_012.14', 'evm.TU.hcontig_055_012.91', 'evm.TU.hcontig_056_007.13', 'evm.TU.hcontig_056_007.14', 'evm.TU.hcontig_056_007.22', 'evm.TU.hcontig_056_007.24', 'evm.TU.hcontig_056_007.28', 'evm.TU.hcontig_056_007.39', 'evm.TU.hcontig_056_007.40', 'evm.TU.hcontig_056_007.58', 'evm.TU.hcontig_056_007.59', 'evm.TU.hcontig_057_001.1', 'evm.TU.hcontig_057_001.5', 'evm.TU.hcontig_057_002.5', 'evm.TU.hcontig_057_003.120', 'evm.TU.hcontig_057_003.121', 'evm.TU.hcontig_057_003.133', 'evm.TU.hcontig_057_003.36', 'evm.TU.hcontig_057_003.54', 'evm.TU.hcontig_057_003.64', 'evm.TU.hcontig_057_003.73', 'evm.TU.hcontig_057_003.74', 'evm.TU.hcontig_057_003.80', 'evm.TU.hcontig_057_003.83', 'evm.TU.hcontig_057_003.89', 'evm.TU.hcontig_057_009.4', 'evm.TU.hcontig_057_009.5', 'evm.TU.hcontig_058_004.17', 'evm.TU.hcontig_058_004.18', 'evm.TU.hcontig_058_004.19', 'evm.TU.hcontig_058_175.7', 'evm.TU.hcontig_059_005.1', 'evm.TU.hcontig_059_008.10', 'evm.TU.hcontig_059_008.101', 'evm.TU.hcontig_059_008.107', 'evm.TU.hcontig_059_008.111', 'evm.TU.hcontig_059_008.125', 'evm.TU.hcontig_059_008.19', 'evm.TU.hcontig_059_008.2', 'evm.TU.hcontig_059_008.37', 'evm.TU.hcontig_059_008.45', 'evm.TU.hcontig_059_008.54', 'evm.TU.hcontig_059_008.65', 'evm.TU.hcontig_059_008.7', 'evm.TU.hcontig_059_008.78', 'evm.TU.hcontig_060_001.2', 'evm.TU.hcontig_060_001.64', 'evm.TU.hcontig_060_001.65', 'evm.TU.hcontig_060_001.66', 'evm.TU.hcontig_060_001.67', 'evm.TU.hcontig_062_001.35', 'evm.TU.hcontig_062_001.46', 'evm.TU.hcontig_062_001.54', 'evm.TU.hcontig_062_001.62', 'evm.TU.hcontig_062_001.81', 'evm.TU.hcontig_064_007.1', 'evm.TU.hcontig_064_007.10', 'evm.TU.hcontig_064_007.5', 'evm.TU.hcontig_064_007.75', 'evm.TU.hcontig_064_007.9', 'evm.TU.hcontig_064_098.38', 'evm.TU.hcontig_065_003.39', 'evm.TU.hcontig_065_094.41', 'evm.TU.hcontig_066_004.8', 'evm.TU.hcontig_066_107.29', 'evm.TU.hcontig_067_004.24', 'evm.TU.hcontig_067_004.6', 'evm.TU.hcontig_067_005.8', 'evm.TU.hcontig_067_008.4', 'evm.TU.hcontig_067_008.6', 'evm.TU.hcontig_069_137.6', 'evm.TU.hcontig_070_006.2', 'evm.TU.hcontig_070_006.4', 'evm.TU.hcontig_070_009.13', 'evm.TU.hcontig_070_009.15', 'evm.TU.hcontig_077_002.9', 'evm.TU.hcontig_078_002.22', 'evm.TU.hcontig_078_002.8', 'evm.TU.hcontig_080_002.10', 'evm.TU.hcontig_080_002.13', 'evm.TU.hcontig_081_004.22', 'evm.TU.hcontig_081_005.11', 'evm.TU.hcontig_081_005.34', 'evm.TU.hcontig_081_005.36', 'evm.TU.hcontig_081_005.7', 'evm.TU.hcontig_082_001.6', 'evm.TU.hcontig_082_002.25', 'evm.TU.hcontig_083_002.40', 'evm.TU.hcontig_083_002.51', 'evm.TU.hcontig_083_002.52', 'evm.TU.hcontig_083_002.54', 'evm.TU.hcontig_084_003.7', 'evm.TU.hcontig_088_002.19', 'evm.TU.hcontig_088_002.29', 'evm.TU.hcontig_088_002.34', 'evm.TU.hcontig_089_005.2', 'evm.TU.hcontig_092_003.10', 'evm.TU.hcontig_095_004.15', 'evm.TU.hcontig_104_001.2', 'evm.TU.hcontig_147_001.2', 'evm.TU.hcontig_189_001.2', 'evm.TU.hcontig_225_001.1', 'evm.TU.pcontig_000.112', 'evm.TU.pcontig_000.19', 'evm.TU.pcontig_000.262', 'evm.TU.pcontig_000.276', 'evm.TU.pcontig_000.3', 'evm.TU.pcontig_000.306', 'evm.TU.pcontig_000.332', 'evm.TU.pcontig_000.378', 'evm.TU.pcontig_000.392', 'evm.TU.pcontig_000.406', 'evm.TU.pcontig_000.421', 'evm.TU.pcontig_000.423', 'evm.TU.pcontig_000.448', 'evm.TU.pcontig_000.450', 'evm.TU.pcontig_000.454', 'evm.TU.pcontig_000.479', 'evm.TU.pcontig_000.508', 'evm.TU.pcontig_000.554', 'evm.TU.pcontig_000.556', 'evm.TU.pcontig_000.558', 'evm.TU.pcontig_000.562', 'evm.TU.pcontig_000.583', 'evm.TU.pcontig_000.588', 'evm.TU.pcontig_000.593', 'evm.TU.pcontig_000.612', 'evm.TU.pcontig_000.624', 'evm.TU.pcontig_000.63', 'evm.TU.pcontig_000.679', 'evm.TU.pcontig_000.85', 'evm.TU.pcontig_000.9', 'evm.TU.pcontig_001.104', 'evm.TU.pcontig_001.169', 'evm.TU.pcontig_001.174', 'evm.TU.pcontig_001.188', 'evm.TU.pcontig_001.231', 'evm.TU.pcontig_001.252', 'evm.TU.pcontig_001.270', 'evm.TU.pcontig_001.274', 'evm.TU.pcontig_001.28', 'evm.TU.pcontig_001.288', 'evm.TU.pcontig_001.298', 'evm.TU.pcontig_001.3', 'evm.TU.pcontig_001.363', 'evm.TU.pcontig_001.365', 'evm.TU.pcontig_001.366', 'evm.TU.pcontig_001.367', 'evm.TU.pcontig_001.368', 'evm.TU.pcontig_001.371', 'evm.TU.pcontig_001.378', 'evm.TU.pcontig_001.379', 'evm.TU.pcontig_001.381', 'evm.TU.pcontig_001.4', 'evm.TU.pcontig_001.413', 'evm.TU.pcontig_001.463', 'evm.TU.pcontig_001.515', 'evm.TU.pcontig_001.518', 'evm.TU.pcontig_001.520', 'evm.TU.pcontig_001.568', 'evm.TU.pcontig_001.570', 'evm.TU.pcontig_001.583', 'evm.TU.pcontig_001.611', 'evm.TU.pcontig_001.613', 'evm.TU.pcontig_001.622', 'evm.TU.pcontig_001.632', 'evm.TU.pcontig_001.634', 'evm.TU.pcontig_001.635', 'evm.TU.pcontig_001.636', 'evm.TU.pcontig_001.638', 'evm.TU.pcontig_001.644', 'evm.TU.pcontig_001.657', 'evm.TU.pcontig_001.7', 'evm.TU.pcontig_001.83', 'evm.TU.pcontig_001.85', 'evm.TU.pcontig_002.108', 'evm.TU.pcontig_002.119', 'evm.TU.pcontig_002.131', 'evm.TU.pcontig_002.151', 'evm.TU.pcontig_002.202', 'evm.TU.pcontig_002.204', 'evm.TU.pcontig_002.223', 'evm.TU.pcontig_002.229', 'evm.TU.pcontig_002.243', 'evm.TU.pcontig_002.246', 'evm.TU.pcontig_002.28', 'evm.TU.pcontig_002.303', 'evm.TU.pcontig_002.315', 'evm.TU.pcontig_002.316', 'evm.TU.pcontig_002.332', 'evm.TU.pcontig_002.333', 'evm.TU.pcontig_002.34', 'evm.TU.pcontig_002.38', 'evm.TU.pcontig_002.40', 'evm.TU.pcontig_002.403', 'evm.TU.pcontig_002.404', 'evm.TU.pcontig_002.407', 'evm.TU.pcontig_002.413', 'evm.TU.pcontig_002.415', 'evm.TU.pcontig_002.42', 'evm.TU.pcontig_002.423', 'evm.TU.pcontig_002.426', 'evm.TU.pcontig_002.431', 'evm.TU.pcontig_002.440', 'evm.TU.pcontig_002.449', 'evm.TU.pcontig_002.453', 'evm.TU.pcontig_002.467', 'evm.TU.pcontig_002.529', 'evm.TU.pcontig_002.535', 'evm.TU.pcontig_002.536', 'evm.TU.pcontig_002.538', 'evm.TU.pcontig_002.553', 'evm.TU.pcontig_002.559', 'evm.TU.pcontig_002.562', 'evm.TU.pcontig_002.64', 'evm.TU.pcontig_002.92', 'evm.TU.pcontig_002.95', 'evm.TU.pcontig_003.140', 'evm.TU.pcontig_003.154', 'evm.TU.pcontig_003.162', 'evm.TU.pcontig_003.179', 'evm.TU.pcontig_003.208', 'evm.TU.pcontig_003.217', 'evm.TU.pcontig_003.218', 'evm.TU.pcontig_003.232', 'evm.TU.pcontig_003.236', 'evm.TU.pcontig_003.240', 'evm.TU.pcontig_003.243', 'evm.TU.pcontig_003.248', 'evm.TU.pcontig_003.249', 'evm.TU.pcontig_003.254', 'evm.TU.pcontig_003.255', 'evm.TU.pcontig_003.328', 'evm.TU.pcontig_003.333', 'evm.TU.pcontig_003.335', 'evm.TU.pcontig_003.336', 'evm.TU.pcontig_003.365', 'evm.TU.pcontig_003.366', 'evm.TU.pcontig_003.367', 'evm.TU.pcontig_003.387', 'evm.TU.pcontig_003.388', 'evm.TU.pcontig_003.402', 'evm.TU.pcontig_003.403', 'evm.TU.pcontig_003.427', 'evm.TU.pcontig_003.436', 'evm.TU.pcontig_003.471', 'evm.TU.pcontig_003.477', 'evm.TU.pcontig_003.479', 'evm.TU.pcontig_003.487', 'evm.TU.pcontig_003.505', 'evm.TU.pcontig_003.506', 'evm.TU.pcontig_003.507', 'evm.TU.pcontig_003.508', 'evm.TU.pcontig_003.521', 'evm.TU.pcontig_003.522', 'evm.TU.pcontig_003.523', 'evm.TU.pcontig_003.524', 'evm.TU.pcontig_003.525', 'evm.TU.pcontig_003.543', 'evm.TU.pcontig_003.544', 'evm.TU.pcontig_003.547', 'evm.TU.pcontig_003.87', 'evm.TU.pcontig_003.9', 'evm.TU.pcontig_004.124', 'evm.TU.pcontig_004.13', 'evm.TU.pcontig_004.142', 'evm.TU.pcontig_004.165', 'evm.TU.pcontig_004.168', 'evm.TU.pcontig_004.18', 'evm.TU.pcontig_004.19', 'evm.TU.pcontig_004.190', 'evm.TU.pcontig_004.191', 'evm.TU.pcontig_004.195', 'evm.TU.pcontig_004.214', 'evm.TU.pcontig_004.26', 'evm.TU.pcontig_004.27', 'evm.TU.pcontig_004.284', 'evm.TU.pcontig_004.304', 'evm.TU.pcontig_004.35', 'evm.TU.pcontig_004.372', 'evm.TU.pcontig_004.388', 'evm.TU.pcontig_004.39', 'evm.TU.pcontig_004.435', 'evm.TU.pcontig_004.437', 'evm.TU.pcontig_004.448', 'evm.TU.pcontig_004.53', 'evm.TU.pcontig_004.58', 'evm.TU.pcontig_004.73', 'evm.TU.pcontig_005.10', 'evm.TU.pcontig_005.126', 'evm.TU.pcontig_005.14', 'evm.TU.pcontig_005.186', 'evm.TU.pcontig_005.193', 'evm.TU.pcontig_005.242', 'evm.TU.pcontig_005.255', 'evm.TU.pcontig_005.258', 'evm.TU.pcontig_005.260', 'evm.TU.pcontig_005.289', 'evm.TU.pcontig_005.294', 'evm.TU.pcontig_005.301', 'evm.TU.pcontig_005.306', 'evm.TU.pcontig_005.33', 'evm.TU.pcontig_005.394', 'evm.TU.pcontig_005.395', 'evm.TU.pcontig_005.4', 'evm.TU.pcontig_005.418', 'evm.TU.pcontig_005.419', 'evm.TU.pcontig_005.439', 'evm.TU.pcontig_005.453', 'evm.TU.pcontig_005.461', 'evm.TU.pcontig_005.495', 'evm.TU.pcontig_005.51', 'evm.TU.pcontig_005.52', 'evm.TU.pcontig_005.6', 'evm.TU.pcontig_005.91', 'evm.TU.pcontig_005.95', 'evm.TU.pcontig_005.98', 'evm.TU.pcontig_006.108', 'evm.TU.pcontig_006.126', 'evm.TU.pcontig_006.13', 'evm.TU.pcontig_006.140', 'evm.TU.pcontig_006.142', 'evm.TU.pcontig_006.15', 'evm.TU.pcontig_006.199', 'evm.TU.pcontig_006.2', 'evm.TU.pcontig_006.278', 'evm.TU.pcontig_006.290', 'evm.TU.pcontig_006.293', 'evm.TU.pcontig_006.329', 'evm.TU.pcontig_006.35', 'evm.TU.pcontig_006.361', 'evm.TU.pcontig_006.391', 'evm.TU.pcontig_006.404', 'evm.TU.pcontig_006.433', 'evm.TU.pcontig_006.461', 'evm.TU.pcontig_006.472', 'evm.TU.pcontig_006.507', 'evm.TU.pcontig_006.90', 'evm.TU.pcontig_007.10', 'evm.TU.pcontig_007.113', 'evm.TU.pcontig_007.141', 'evm.TU.pcontig_007.151', 'evm.TU.pcontig_007.154', 'evm.TU.pcontig_007.175', 'evm.TU.pcontig_007.180', 'evm.TU.pcontig_007.223', 'evm.TU.pcontig_007.226', 'evm.TU.pcontig_007.23', 'evm.TU.pcontig_007.308', 'evm.TU.pcontig_007.309', 'evm.TU.pcontig_007.390', 'evm.TU.pcontig_007.405', 'evm.TU.pcontig_007.411', 'evm.TU.pcontig_007.412', 'evm.TU.pcontig_007.418', 'evm.TU.pcontig_007.421', 'evm.TU.pcontig_007.422', 'evm.TU.pcontig_007.424', 'evm.TU.pcontig_007.8', 'evm.TU.pcontig_007.81', 'evm.TU.pcontig_007.84', 'evm.TU.pcontig_008.133', 'evm.TU.pcontig_008.137', 'evm.TU.pcontig_008.159', 'evm.TU.pcontig_008.171', 'evm.TU.pcontig_008.209', 'evm.TU.pcontig_008.257', 'evm.TU.pcontig_008.30', 'evm.TU.pcontig_008.322', 'evm.TU.pcontig_008.343', 'evm.TU.pcontig_008.362', 'evm.TU.pcontig_008.86', 'evm.TU.pcontig_009.12', 'evm.TU.pcontig_009.126', 'evm.TU.pcontig_009.136', 'evm.TU.pcontig_009.138', 'evm.TU.pcontig_009.140', 'evm.TU.pcontig_009.141', 'evm.TU.pcontig_009.145', 'evm.TU.pcontig_009.158', 'evm.TU.pcontig_009.162', 'evm.TU.pcontig_009.163', 'evm.TU.pcontig_009.164', 'evm.TU.pcontig_009.181', 'evm.TU.pcontig_009.2', 'evm.TU.pcontig_009.21', 'evm.TU.pcontig_009.218', 'evm.TU.pcontig_009.222', 'evm.TU.pcontig_009.232', 'evm.TU.pcontig_009.236', 'evm.TU.pcontig_010.131', 'evm.TU.pcontig_010.132', 'evm.TU.pcontig_010.168', 'evm.TU.pcontig_010.21', 'evm.TU.pcontig_010.217', 'evm.TU.pcontig_010.219', 'evm.TU.pcontig_010.220', 'evm.TU.pcontig_010.231', 'evm.TU.pcontig_010.234', 'evm.TU.pcontig_010.237', 'evm.TU.pcontig_010.239', 'evm.TU.pcontig_010.240', 'evm.TU.pcontig_010.25', 'evm.TU.pcontig_010.250', 'evm.TU.pcontig_010.253', 'evm.TU.pcontig_010.254', 'evm.TU.pcontig_010.255', 'evm.TU.pcontig_010.258', 'evm.TU.pcontig_010.270', 'evm.TU.pcontig_010.271', 'evm.TU.pcontig_010.281', 'evm.TU.pcontig_010.282', 'evm.TU.pcontig_010.295', 'evm.TU.pcontig_010.304', 'evm.TU.pcontig_010.309', 'evm.TU.pcontig_010.331', 'evm.TU.pcontig_010.332', 'evm.TU.pcontig_010.345', 'evm.TU.pcontig_010.351', 'evm.TU.pcontig_010.352', 'evm.TU.pcontig_010.353', 'evm.TU.pcontig_010.376', 'evm.TU.pcontig_010.65', 'evm.TU.pcontig_010.73', 'evm.TU.pcontig_010.74', 'evm.TU.pcontig_010.89', 'evm.TU.pcontig_011.14', 'evm.TU.pcontig_011.142', 'evm.TU.pcontig_011.143', 'evm.TU.pcontig_011.147', 'evm.TU.pcontig_011.148', 'evm.TU.pcontig_011.153', 'evm.TU.pcontig_011.209', 'evm.TU.pcontig_011.210', 'evm.TU.pcontig_011.238', 'evm.TU.pcontig_011.241', 'evm.TU.pcontig_011.242', 'evm.TU.pcontig_011.263', 'evm.TU.pcontig_011.269', 'evm.TU.pcontig_011.292', 'evm.TU.pcontig_011.326', 'evm.TU.pcontig_011.347', 'evm.TU.pcontig_011.364', 'evm.TU.pcontig_011.71', 'evm.TU.pcontig_012.101', 'evm.TU.pcontig_012.122', 'evm.TU.pcontig_012.136', 'evm.TU.pcontig_012.138', 'evm.TU.pcontig_012.175', 'evm.TU.pcontig_012.176', 'evm.TU.pcontig_012.177', 'evm.TU.pcontig_012.233', 'evm.TU.pcontig_012.238', 'evm.TU.pcontig_012.246', 'evm.TU.pcontig_012.266', 'evm.TU.pcontig_012.280', 'evm.TU.pcontig_012.281', 'evm.TU.pcontig_012.293', 'evm.TU.pcontig_012.296', 'evm.TU.pcontig_012.366', 'evm.TU.pcontig_012.4', 'evm.TU.pcontig_012.52', 'evm.TU.pcontig_012.58', 'evm.TU.pcontig_012.61', 'evm.TU.pcontig_012.63', 'evm.TU.pcontig_012.85', 'evm.TU.pcontig_013.124', 'evm.TU.pcontig_013.126', 'evm.TU.pcontig_013.139', 'evm.TU.pcontig_013.140', 'evm.TU.pcontig_013.152', 'evm.TU.pcontig_013.156', 'evm.TU.pcontig_013.157', 'evm.TU.pcontig_013.162', 'evm.TU.pcontig_013.164', 'evm.TU.pcontig_013.166', 'evm.TU.pcontig_013.210', 'evm.TU.pcontig_013.215', 'evm.TU.pcontig_013.216', 'evm.TU.pcontig_013.238', 'evm.TU.pcontig_013.239', 'evm.TU.pcontig_013.247', 'evm.TU.pcontig_013.279', 'evm.TU.pcontig_013.282', 'evm.TU.pcontig_013.289', 'evm.TU.pcontig_013.290', 'evm.TU.pcontig_013.311', 'evm.TU.pcontig_013.318', 'evm.TU.pcontig_013.49', 'evm.TU.pcontig_014.101', 'evm.TU.pcontig_014.113', 'evm.TU.pcontig_014.115', 'evm.TU.pcontig_014.124', 'evm.TU.pcontig_014.128', 'evm.TU.pcontig_014.131', 'evm.TU.pcontig_014.138', 'evm.TU.pcontig_014.142', 'evm.TU.pcontig_014.193', 'evm.TU.pcontig_014.22', 'evm.TU.pcontig_014.279', 'evm.TU.pcontig_014.285', 'evm.TU.pcontig_014.295', 'evm.TU.pcontig_014.66', 'evm.TU.pcontig_014.85', 'evm.TU.pcontig_015.10', 'evm.TU.pcontig_016.119', 'evm.TU.pcontig_016.150', 'evm.TU.pcontig_016.157', 'evm.TU.pcontig_016.164', 'evm.TU.pcontig_016.165', 'evm.TU.pcontig_016.175', 'evm.TU.pcontig_016.189', 'evm.TU.pcontig_016.196', 'evm.TU.pcontig_016.198', 'evm.TU.pcontig_016.64', 'evm.TU.pcontig_016.91', 'evm.TU.pcontig_017.126', 'evm.TU.pcontig_017.150', 'evm.TU.pcontig_017.151', 'evm.TU.pcontig_017.152', 'evm.TU.pcontig_017.154', 'evm.TU.pcontig_017.184', 'evm.TU.pcontig_017.196', 'evm.TU.pcontig_017.2', 'evm.TU.pcontig_017.200', 'evm.TU.pcontig_017.202', 'evm.TU.pcontig_017.224', 'evm.TU.pcontig_017.225', 'evm.TU.pcontig_017.27', 'evm.TU.pcontig_017.3', 'evm.TU.pcontig_017.322', 'evm.TU.pcontig_017.7', 'evm.TU.pcontig_017.78', 'evm.TU.pcontig_017.82', 'evm.TU.pcontig_017.84', 'evm.TU.pcontig_017.85', 'evm.TU.pcontig_017.9', 'evm.TU.pcontig_018.118', 'evm.TU.pcontig_018.127', 'evm.TU.pcontig_018.154', 'evm.TU.pcontig_018.160', 'evm.TU.pcontig_018.163', 'evm.TU.pcontig_018.164', 'evm.TU.pcontig_018.187', 'evm.TU.pcontig_018.197', 'evm.TU.pcontig_018.218', 'evm.TU.pcontig_018.270', 'evm.TU.pcontig_018.273', 'evm.TU.pcontig_018.280', 'evm.TU.pcontig_018.281', 'evm.TU.pcontig_018.283', 'evm.TU.pcontig_018.286', 'evm.TU.pcontig_018.287', 'evm.TU.pcontig_018.292', 'evm.TU.pcontig_018.303', 'evm.TU.pcontig_018.338', 'evm.TU.pcontig_018.353', 'evm.TU.pcontig_018.5', 'evm.TU.pcontig_018.6', 'evm.TU.pcontig_018.82', 'evm.TU.pcontig_019.159', 'evm.TU.pcontig_019.167', 'evm.TU.pcontig_019.168', 'evm.TU.pcontig_019.179', 'evm.TU.pcontig_019.197', 'evm.TU.pcontig_019.202', 'evm.TU.pcontig_019.231', 'evm.TU.pcontig_019.233', 'evm.TU.pcontig_019.238', 'evm.TU.pcontig_019.245', 'evm.TU.pcontig_019.25', 'evm.TU.pcontig_019.295', 'evm.TU.pcontig_019.30', 'evm.TU.pcontig_019.31', 'evm.TU.pcontig_019.310', 'evm.TU.pcontig_019.47', 'evm.TU.pcontig_019.49', 'evm.TU.pcontig_019.50', 'evm.TU.pcontig_019.57', 'evm.TU.pcontig_020.163', 'evm.TU.pcontig_020.164', 'evm.TU.pcontig_020.182', 'evm.TU.pcontig_020.183', 'evm.TU.pcontig_020.216', 'evm.TU.pcontig_020.303', 'evm.TU.pcontig_020.329', 'evm.TU.pcontig_020.39', 'evm.TU.pcontig_020.47', 'evm.TU.pcontig_020.63', 'evm.TU.pcontig_020.67', 'evm.TU.pcontig_020.79', 'evm.TU.pcontig_020.91', 'evm.TU.pcontig_021.108', 'evm.TU.pcontig_021.117', 'evm.TU.pcontig_021.128', 'evm.TU.pcontig_021.154', 'evm.TU.pcontig_021.179', 'evm.TU.pcontig_021.181', 'evm.TU.pcontig_021.197', 'evm.TU.pcontig_021.198', 'evm.TU.pcontig_021.218', 'evm.TU.pcontig_021.222', 'evm.TU.pcontig_021.253', 'evm.TU.pcontig_021.259', 'evm.TU.pcontig_021.273', 'evm.TU.pcontig_021.282', 'evm.TU.pcontig_021.288', 'evm.TU.pcontig_021.297', 'evm.TU.pcontig_021.320', 'evm.TU.pcontig_021.323', 'evm.TU.pcontig_021.341', 'evm.TU.pcontig_021.47', 'evm.TU.pcontig_021.63', 'evm.TU.pcontig_021.71', 'evm.TU.pcontig_021.78', 'evm.TU.pcontig_021.93', 'evm.TU.pcontig_021.94', 'evm.TU.pcontig_022.106', 'evm.TU.pcontig_022.114', 'evm.TU.pcontig_022.120', 'evm.TU.pcontig_022.129', 'evm.TU.pcontig_022.143', 'evm.TU.pcontig_022.153', 'evm.TU.pcontig_022.160', 'evm.TU.pcontig_022.163', 'evm.TU.pcontig_022.189', 'evm.TU.pcontig_022.194', 'evm.TU.pcontig_022.198', 'evm.TU.pcontig_022.20', 'evm.TU.pcontig_022.218', 'evm.TU.pcontig_022.222', 'evm.TU.pcontig_022.227', 'evm.TU.pcontig_022.238', 'evm.TU.pcontig_022.245', 'evm.TU.pcontig_022.261', 'evm.TU.pcontig_022.281', 'evm.TU.pcontig_022.76', 'evm.TU.pcontig_022.81', 'evm.TU.pcontig_023.10', 'evm.TU.pcontig_023.105', 'evm.TU.pcontig_023.118', 'evm.TU.pcontig_023.133', 'evm.TU.pcontig_023.158', 'evm.TU.pcontig_023.175', 'evm.TU.pcontig_023.182', 'evm.TU.pcontig_023.192', 'evm.TU.pcontig_023.212', 'evm.TU.pcontig_023.223', 'evm.TU.pcontig_023.234', 'evm.TU.pcontig_023.265', 'evm.TU.pcontig_023.5', 'evm.TU.pcontig_023.53', 'evm.TU.pcontig_023.6', 'evm.TU.pcontig_023.73', 'evm.TU.pcontig_023.88', 'evm.TU.pcontig_023.99', 'evm.TU.pcontig_024.10', 'evm.TU.pcontig_025.10', 'evm.TU.pcontig_025.121', 'evm.TU.pcontig_025.161', 'evm.TU.pcontig_025.165', 'evm.TU.pcontig_025.33', 'evm.TU.pcontig_025.75', 'evm.TU.pcontig_025.92', 'evm.TU.pcontig_026.127', 'evm.TU.pcontig_026.128', 'evm.TU.pcontig_026.142', 'evm.TU.pcontig_026.143', 'evm.TU.pcontig_026.144', 'evm.TU.pcontig_026.251', 'evm.TU.pcontig_026.262', 'evm.TU.pcontig_026.273', 'evm.TU.pcontig_026.274', 'evm.TU.pcontig_026.56', 'evm.TU.pcontig_026.58', 'evm.TU.pcontig_026.59', 'evm.TU.pcontig_026.70', 'evm.TU.pcontig_026.73', 'evm.TU.pcontig_026.74', 'evm.TU.pcontig_026.76', 'evm.TU.pcontig_027.10', 'evm.TU.pcontig_027.11', 'evm.TU.pcontig_027.132', 'evm.TU.pcontig_027.163', 'evm.TU.pcontig_027.164', 'evm.TU.pcontig_027.202', 'evm.TU.pcontig_027.205', 'evm.TU.pcontig_027.211', 'evm.TU.pcontig_027.212', 'evm.TU.pcontig_027.222', 'evm.TU.pcontig_027.248', 'evm.TU.pcontig_027.249', 'evm.TU.pcontig_027.256', 'evm.TU.pcontig_027.265', 'evm.TU.pcontig_027.41', 'evm.TU.pcontig_027.51', 'evm.TU.pcontig_027.52', 'evm.TU.pcontig_027.9', 'evm.TU.pcontig_028.113', 'evm.TU.pcontig_028.131', 'evm.TU.pcontig_028.137', 'evm.TU.pcontig_028.214', 'evm.TU.pcontig_028.215', 'evm.TU.pcontig_028.216', 'evm.TU.pcontig_028.221', 'evm.TU.pcontig_028.71', 'evm.TU.pcontig_028.9', 'evm.TU.pcontig_028.94', 'evm.TU.pcontig_029.107', 'evm.TU.pcontig_029.108', 'evm.TU.pcontig_029.113', 'evm.TU.pcontig_029.120', 'evm.TU.pcontig_029.124', 'evm.TU.pcontig_029.139', 'evm.TU.pcontig_029.140', 'evm.TU.pcontig_029.205', 'evm.TU.pcontig_029.231', 'evm.TU.pcontig_029.34', 'evm.TU.pcontig_029.38', 'evm.TU.pcontig_029.62', 'evm.TU.pcontig_029.63', 'evm.TU.pcontig_029.90', 'evm.TU.pcontig_029.92', 'evm.TU.pcontig_029.97', 'evm.TU.pcontig_030.121', 'evm.TU.pcontig_030.175', 'evm.TU.pcontig_030.181', 'evm.TU.pcontig_030.182', 'evm.TU.pcontig_030.240', 'evm.TU.pcontig_030.256', 'evm.TU.pcontig_030.276', 'evm.TU.pcontig_030.34', 'evm.TU.pcontig_030.54', 'evm.TU.pcontig_030.55', 'evm.TU.pcontig_030.66', 'evm.TU.pcontig_030.69', 'evm.TU.pcontig_031.110', 'evm.TU.pcontig_031.113', 'evm.TU.pcontig_031.122', 'evm.TU.pcontig_031.123', 'evm.TU.pcontig_031.159', 'evm.TU.pcontig_031.164', 'evm.TU.pcontig_031.165', 'evm.TU.pcontig_031.167', 'evm.TU.pcontig_031.169', 'evm.TU.pcontig_031.170', 'evm.TU.pcontig_031.174', 'evm.TU.pcontig_031.184', 'evm.TU.pcontig_031.187', 'evm.TU.pcontig_031.189', 'evm.TU.pcontig_031.29', 'evm.TU.pcontig_031.60', 'evm.TU.pcontig_031.79', 'evm.TU.pcontig_031.81', 'evm.TU.pcontig_031.83', 'evm.TU.pcontig_031.88', 'evm.TU.pcontig_031.89', 'evm.TU.pcontig_031.96', 'evm.TU.pcontig_032.19', 'evm.TU.pcontig_033.143', 'evm.TU.pcontig_033.163', 'evm.TU.pcontig_033.179', 'evm.TU.pcontig_033.216', 'evm.TU.pcontig_033.221', 'evm.TU.pcontig_033.229', 'evm.TU.pcontig_033.240', 'evm.TU.pcontig_033.73', 'evm.TU.pcontig_034.113', 'evm.TU.pcontig_034.138', 'evm.TU.pcontig_034.143', 'evm.TU.pcontig_034.155', 'evm.TU.pcontig_034.169', 'evm.TU.pcontig_034.171', 'evm.TU.pcontig_034.173', 'evm.TU.pcontig_034.191', 'evm.TU.pcontig_034.193', 'evm.TU.pcontig_034.194', 'evm.TU.pcontig_034.199', 'evm.TU.pcontig_034.218', 'evm.TU.pcontig_034.227', 'evm.TU.pcontig_034.228', 'evm.TU.pcontig_034.51', 'evm.TU.pcontig_034.86', 'evm.TU.pcontig_034.89', 'evm.TU.pcontig_034.95', 'evm.TU.pcontig_035.163', 'evm.TU.pcontig_035.165', 'evm.TU.pcontig_035.166', 'evm.TU.pcontig_035.170', 'evm.TU.pcontig_035.174', 'evm.TU.pcontig_035.179', 'evm.TU.pcontig_035.191', 'evm.TU.pcontig_035.202', 'evm.TU.pcontig_035.203', 'evm.TU.pcontig_035.208', 'evm.TU.pcontig_035.216', 'evm.TU.pcontig_035.27', 'evm.TU.pcontig_035.46', 'evm.TU.pcontig_035.5', 'evm.TU.pcontig_035.50', 'evm.TU.pcontig_035.62', 'evm.TU.pcontig_035.63', 'evm.TU.pcontig_035.66', 'evm.TU.pcontig_035.67', 'evm.TU.pcontig_035.68', 'evm.TU.pcontig_035.69', 'evm.TU.pcontig_035.70', 'evm.TU.pcontig_035.80', 'evm.TU.pcontig_035.81', 'evm.TU.pcontig_035.83', 'evm.TU.pcontig_035.91', 'evm.TU.pcontig_036.154', 'evm.TU.pcontig_036.164', 'evm.TU.pcontig_036.173', 'evm.TU.pcontig_036.221', 'evm.TU.pcontig_036.29', 'evm.TU.pcontig_036.30', 'evm.TU.pcontig_036.31', 'evm.TU.pcontig_036.32', 'evm.TU.pcontig_036.43', 'evm.TU.pcontig_036.44', 'evm.TU.pcontig_036.46', 'evm.TU.pcontig_036.56', 'evm.TU.pcontig_036.57', 'evm.TU.pcontig_036.58', 'evm.TU.pcontig_036.73', 'evm.TU.pcontig_036.75', 'evm.TU.pcontig_036.81', 'evm.TU.pcontig_037.107', 'evm.TU.pcontig_037.109', 'evm.TU.pcontig_037.110', 'evm.TU.pcontig_037.111', 'evm.TU.pcontig_037.112', 'evm.TU.pcontig_037.137', 'evm.TU.pcontig_037.187', 'evm.TU.pcontig_037.200', 'evm.TU.pcontig_037.203', 'evm.TU.pcontig_037.206', 'evm.TU.pcontig_037.208', 'evm.TU.pcontig_037.215', 'evm.TU.pcontig_037.27', 'evm.TU.pcontig_037.43', 'evm.TU.pcontig_037.63', 'evm.TU.pcontig_037.70', 'evm.TU.pcontig_039.123', 'evm.TU.pcontig_039.169', 'evm.TU.pcontig_039.174', 'evm.TU.pcontig_039.175', 'evm.TU.pcontig_039.177', 'evm.TU.pcontig_039.181', 'evm.TU.pcontig_039.184', 'evm.TU.pcontig_039.28', 'evm.TU.pcontig_039.36', 'evm.TU.pcontig_039.37', 'evm.TU.pcontig_039.87', 'evm.TU.pcontig_039.97', 'evm.TU.pcontig_040.105', 'evm.TU.pcontig_040.135', 'evm.TU.pcontig_040.143', 'evm.TU.pcontig_040.148', 'evm.TU.pcontig_040.159', 'evm.TU.pcontig_040.165', 'evm.TU.pcontig_040.168', 'evm.TU.pcontig_040.176', 'evm.TU.pcontig_040.19', 'evm.TU.pcontig_040.45', 'evm.TU.pcontig_040.81', 'evm.TU.pcontig_041.104', 'evm.TU.pcontig_041.120', 'evm.TU.pcontig_041.125', 'evm.TU.pcontig_041.14', 'evm.TU.pcontig_041.147', 'evm.TU.pcontig_041.148', 'evm.TU.pcontig_041.15', 'evm.TU.pcontig_041.173', 'evm.TU.pcontig_041.174', 'evm.TU.pcontig_041.2', 'evm.TU.pcontig_041.20', 'evm.TU.pcontig_041.33', 'evm.TU.pcontig_041.38', 'evm.TU.pcontig_041.46', 'evm.TU.pcontig_041.48', 'evm.TU.pcontig_041.56', 'evm.TU.pcontig_041.98', 'evm.TU.pcontig_041.99', 'evm.TU.pcontig_042.129', 'evm.TU.pcontig_042.130', 'evm.TU.pcontig_042.179', 'evm.TU.pcontig_042.188', 'evm.TU.pcontig_042.31', 'evm.TU.pcontig_042.4', 'evm.TU.pcontig_042.66', 'evm.TU.pcontig_043.100', 'evm.TU.pcontig_043.101', 'evm.TU.pcontig_043.127', 'evm.TU.pcontig_043.14', 'evm.TU.pcontig_043.15', 'evm.TU.pcontig_043.29', 'evm.TU.pcontig_043.31', 'evm.TU.pcontig_043.63', 'evm.TU.pcontig_043.89', 'evm.TU.pcontig_044.100', 'evm.TU.pcontig_044.13', 'evm.TU.pcontig_044.130', 'evm.TU.pcontig_044.143', 'evm.TU.pcontig_044.165', 'evm.TU.pcontig_044.167', 'evm.TU.pcontig_044.168', 'evm.TU.pcontig_044.171', 'evm.TU.pcontig_044.4', 'evm.TU.pcontig_044.40', 'evm.TU.pcontig_044.64', 'evm.TU.pcontig_044.74', 'evm.TU.pcontig_044.92', 'evm.TU.pcontig_044.93', 'evm.TU.pcontig_044.99', 'evm.TU.pcontig_045.135', 'evm.TU.pcontig_045.140', 'evm.TU.pcontig_045.144', 'evm.TU.pcontig_045.148', 'evm.TU.pcontig_045.45', 'evm.TU.pcontig_045.51', 'evm.TU.pcontig_045.68', 'evm.TU.pcontig_046.113', 'evm.TU.pcontig_046.124', 'evm.TU.pcontig_046.127', 'evm.TU.pcontig_046.131', 'evm.TU.pcontig_046.159', 'evm.TU.pcontig_046.161', 'evm.TU.pcontig_046.162', 'evm.TU.pcontig_046.3', 'evm.TU.pcontig_046.35', 'evm.TU.pcontig_046.94', 'evm.TU.pcontig_046.99', 'evm.TU.pcontig_047.114', 'evm.TU.pcontig_047.141', 'evm.TU.pcontig_047.54', 'evm.TU.pcontig_047.55', 'evm.TU.pcontig_047.89', 'evm.TU.pcontig_048.109', 'evm.TU.pcontig_048.111', 'evm.TU.pcontig_048.112', 'evm.TU.pcontig_048.65', 'evm.TU.pcontig_049.130', 'evm.TU.pcontig_049.133', 'evm.TU.pcontig_049.139', 'evm.TU.pcontig_049.150', 'evm.TU.pcontig_049.38', 'evm.TU.pcontig_049.4', 'evm.TU.pcontig_049.42', 'evm.TU.pcontig_049.58', 'evm.TU.pcontig_049.69', 'evm.TU.pcontig_049.75', 'evm.TU.pcontig_049.79', 'evm.TU.pcontig_050.102', 'evm.TU.pcontig_050.122', 'evm.TU.pcontig_050.134', 'evm.TU.pcontig_050.19', 'evm.TU.pcontig_050.3', 'evm.TU.pcontig_050.69', 'evm.TU.pcontig_050.77', 'evm.TU.pcontig_050.92', 'evm.TU.pcontig_051.48', 'evm.TU.pcontig_051.51', 'evm.TU.pcontig_052.152', 'evm.TU.pcontig_052.170', 'evm.TU.pcontig_052.54', 'evm.TU.pcontig_052.57', 'evm.TU.pcontig_052.58', 'evm.TU.pcontig_052.8', 'evm.TU.pcontig_054.116', 'evm.TU.pcontig_054.119', 'evm.TU.pcontig_054.52', 'evm.TU.pcontig_054.58', 'evm.TU.pcontig_054.59', 'evm.TU.pcontig_054.66', 'evm.TU.pcontig_054.88', 'evm.TU.pcontig_054.89', 'evm.TU.pcontig_054.91', 'evm.TU.pcontig_055.16', 'evm.TU.pcontig_055.17', 'evm.TU.pcontig_055.28', 'evm.TU.pcontig_055.31', 'evm.TU.pcontig_055.8', 'evm.TU.pcontig_056.33', 'evm.TU.pcontig_056.42', 'evm.TU.pcontig_056.46', 'evm.TU.pcontig_056.58', 'evm.TU.pcontig_056.59', 'evm.TU.pcontig_056.82', 'evm.TU.pcontig_056.83', 'evm.TU.pcontig_057.106', 'evm.TU.pcontig_057.107', 'evm.TU.pcontig_057.120', 'evm.TU.pcontig_057.51', 'evm.TU.pcontig_057.61', 'evm.TU.pcontig_057.65', 'evm.TU.pcontig_057.66', 'evm.TU.pcontig_057.73', 'evm.TU.pcontig_057.76', 'evm.TU.pcontig_057.77', 'evm.TU.pcontig_057.82', 'evm.TU.pcontig_058.21', 'evm.TU.pcontig_058.22', 'evm.TU.pcontig_058.23', 'evm.TU.pcontig_058.64', 'evm.TU.pcontig_058.72', 'evm.TU.pcontig_059.100', 'evm.TU.pcontig_059.118', 'evm.TU.pcontig_059.123', 'evm.TU.pcontig_059.13', 'evm.TU.pcontig_059.17', 'evm.TU.pcontig_059.21', 'evm.TU.pcontig_059.33', 'evm.TU.pcontig_059.50', 'evm.TU.pcontig_059.58', 'evm.TU.pcontig_059.65', 'evm.TU.pcontig_059.67', 'evm.TU.pcontig_059.78', 'evm.TU.pcontig_059.79', 'evm.TU.pcontig_059.93', 'evm.TU.pcontig_060.10', 'evm.TU.pcontig_060.11', 'evm.TU.pcontig_060.14', 'evm.TU.pcontig_060.37', 'evm.TU.pcontig_060.94', 'evm.TU.pcontig_060.95', 'evm.TU.pcontig_060.96', 'evm.TU.pcontig_060.97', 'evm.TU.pcontig_062.10', 'evm.TU.pcontig_062.104', 'evm.TU.pcontig_062.15', 'evm.TU.pcontig_062.23', 'evm.TU.pcontig_062.26', 'evm.TU.pcontig_062.32', 'evm.TU.pcontig_062.45', 'evm.TU.pcontig_062.50', 'evm.TU.pcontig_062.61', 'evm.TU.pcontig_062.72', 'evm.TU.pcontig_062.78', 'evm.TU.pcontig_062.79', 'evm.TU.pcontig_062.84', 'evm.TU.pcontig_064.39', 'evm.TU.pcontig_064.41', 'evm.TU.pcontig_064.42', 'evm.TU.pcontig_065.36', 'evm.TU.pcontig_065.77', 'evm.TU.pcontig_066.1', 'evm.TU.pcontig_066.15', 'evm.TU.pcontig_066.53', 'evm.TU.pcontig_066.71', 'evm.TU.pcontig_066.73', 'evm.TU.pcontig_066.98', 'evm.TU.pcontig_067.100', 'evm.TU.pcontig_067.20', 'evm.TU.pcontig_067.39', 'evm.TU.pcontig_067.43', 'evm.TU.pcontig_067.45', 'evm.TU.pcontig_067.57', 'evm.TU.pcontig_067.93', 'evm.TU.pcontig_068.5', 'evm.TU.pcontig_068.8', 'evm.TU.pcontig_069.3', 'evm.TU.pcontig_069.38', 'evm.TU.pcontig_070.1', 'evm.TU.pcontig_070.20', 'evm.TU.pcontig_070.22', 'evm.TU.pcontig_070.24', 'evm.TU.pcontig_070.71', 'evm.TU.pcontig_070.73', 'evm.TU.pcontig_072.78', 'evm.TU.pcontig_073.14', 'evm.TU.pcontig_073.15', 'evm.TU.pcontig_073.4', 'evm.TU.pcontig_073.45', 'evm.TU.pcontig_073.54', 'evm.TU.pcontig_073.55', 'evm.TU.pcontig_073.8', 'evm.TU.pcontig_074.20', 'evm.TU.pcontig_075.10', 'evm.TU.pcontig_077.1', 'evm.TU.pcontig_077.13', 'evm.TU.pcontig_077.44', 'evm.TU.pcontig_077.55', 'evm.TU.pcontig_078.1', 'evm.TU.pcontig_078.2', 'evm.TU.pcontig_078.33', 'evm.TU.pcontig_078.34', 'evm.TU.pcontig_078.38', 'evm.TU.pcontig_078.45', 'evm.TU.pcontig_078.48', 'evm.TU.pcontig_078.60', 'evm.TU.pcontig_078.66', 'evm.TU.pcontig_078.67', 'evm.TU.pcontig_078.71', 'evm.TU.pcontig_080.23', 'evm.TU.pcontig_080.26', 'evm.TU.pcontig_080.29', 'evm.TU.pcontig_080.30', 'evm.TU.pcontig_080.46', 'evm.TU.pcontig_080.57', 'evm.TU.pcontig_080.58', 'evm.TU.pcontig_081.24', 'evm.TU.pcontig_081.30', 'evm.TU.pcontig_081.52', 'evm.TU.pcontig_081.53', 'evm.TU.pcontig_081.60', 'evm.TU.pcontig_081.62', 'evm.TU.pcontig_082.54', 'evm.TU.pcontig_083.37', 'evm.TU.pcontig_083.49', 'evm.TU.pcontig_084.9', 'evm.TU.pcontig_086.22', 'evm.TU.pcontig_086.52', 'evm.TU.pcontig_087.16', 'evm.TU.pcontig_087.6', 'evm.TU.pcontig_087.7', 'evm.TU.pcontig_088.33', 'evm.TU.pcontig_088.49', 'evm.TU.pcontig_088.55', 'evm.TU.pcontig_089.21', 'evm.TU.pcontig_089.47', 'evm.TU.pcontig_090.13', 'evm.TU.pcontig_091.46', 'evm.TU.pcontig_091.47', 'evm.TU.pcontig_091.55', 'evm.TU.pcontig_092.34', 'evm.TU.pcontig_092.7', 'evm.TU.pcontig_092.8', 'evm.TU.pcontig_095.44', 'evm.TU.pcontig_097.21', 'evm.TU.pcontig_100.29', 'evm.TU.pcontig_100.35', 'evm.TU.pcontig_100.42', 'evm.TU.pcontig_103.12', 'evm.TU.pcontig_103.22', 'evm.TU.pcontig_103.24', 'evm.TU.pcontig_103.6', 'evm.TU.pcontig_103.8', 'evm.TU.pcontig_104.33', 'evm.TU.pcontig_104.47', 'evm.TU.pcontig_112.1', 'evm.TU.pcontig_115.25', 'evm.TU.pcontig_120.23', 'evm.TU.pcontig_130.20', 'evm.TU.pcontig_130.9', 'evm.TU.pcontig_147.9', 'evm.TU.pcontig_148.11', 'evm.TU.pcontig_148.9', 'evm.TU.pcontig_149.10', 'evm.TU.pcontig_157.3', 'evm.TU.pcontig_157.4', 'evm.TU.pcontig_157.8', 'evm.TU.pcontig_165.8', 'evm.TU.pcontig_170.3', 'evm.TU.pcontig_173.4', 'evm.TU.pcontig_173.5', 'evm.TU.pcontig_174.1', 'evm.TU.pcontig_181.9', 'evm.TU.pcontig_186.2', 'evm.TU.pcontig_186.6', 'evm.TU.pcontig_186.7', 'evm.TU.pcontig_186.9', 'evm.TU.pcontig_188.5', 'evm.TU.pcontig_188.6', 'evm.TU.pcontig_189.7', 'evm.TU.pcontig_203.5', 'evm.TU.pcontig_203.6', 'evm.TU.pcontig_207.1', 'evm.TU.pcontig_233.6', 'evm.TU.pcontig_235.7']\n"
     ]
    }
   ],
   "source": [
    "# Check if list works (it does, but is not sorted)\n",
    "print(effectors)"
   ]
  },
  {
   "cell_type": "code",
   "execution_count": 256,
   "metadata": {
    "collapsed": true
   },
   "outputs": [
    {
     "name": "stdout",
     "output_type": "stream",
     "text": [
      "['evm.TU.hcontig_000_003.1', 'evm.TU.hcontig_000_003.10', 'evm.TU.hcontig_000_003.120', 'evm.TU.hcontig_000_003.158', 'evm.TU.hcontig_000_003.2', 'evm.TU.hcontig_000_003.20', 'evm.TU.hcontig_000_003.26', 'evm.TU.hcontig_000_003.314', 'evm.TU.hcontig_000_003.340', 'evm.TU.hcontig_000_003.380', 'evm.TU.hcontig_000_003.402', 'evm.TU.hcontig_000_003.419', 'evm.TU.hcontig_000_003.421', 'evm.TU.hcontig_000_003.423', 'evm.TU.hcontig_000_003.444', 'evm.TU.hcontig_000_003.450', 'evm.TU.hcontig_000_003.90', 'evm.TU.hcontig_000_031.4', 'evm.TU.hcontig_000_050.114', 'evm.TU.hcontig_000_050.122', 'evm.TU.hcontig_000_050.141', 'evm.TU.hcontig_000_050.144', 'evm.TU.hcontig_000_050.149', 'evm.TU.hcontig_000_050.34', 'evm.TU.hcontig_000_050.85', 'evm.TU.hcontig_000_050.87', 'evm.TU.hcontig_000_050.9', 'evm.TU.hcontig_000_050.93', 'evm.TU.hcontig_000_054.13', 'evm.TU.hcontig_000_054.43', 'evm.TU.hcontig_000_054.68', 'evm.TU.hcontig_001_001.103', 'evm.TU.hcontig_001_001.128', 'evm.TU.hcontig_001_001.129', 'evm.TU.hcontig_001_001.144', 'evm.TU.hcontig_001_001.153', 'evm.TU.hcontig_001_001.34', 'evm.TU.hcontig_001_001.36', 'evm.TU.hcontig_001_001.39', 'evm.TU.hcontig_001_001.41', 'evm.TU.hcontig_001_001.87', 'evm.TU.hcontig_001_001.89', 'evm.TU.hcontig_001_002.39', 'evm.TU.hcontig_001_002.4', 'evm.TU.hcontig_001_002.47', 'evm.TU.hcontig_001_002.5', 'evm.TU.hcontig_001_019.1', 'evm.TU.hcontig_001_019.2', 'evm.TU.hcontig_001_021.110', 'evm.TU.hcontig_001_021.115', 'evm.TU.hcontig_001_021.129', 'evm.TU.hcontig_001_021.139', 'evm.TU.hcontig_001_021.15', 'evm.TU.hcontig_001_021.198', 'evm.TU.hcontig_001_021.28', 'evm.TU.hcontig_001_021.65', 'evm.TU.hcontig_001_021.9', 'evm.TU.hcontig_001_032.3', 'evm.TU.hcontig_001_032.5', 'evm.TU.hcontig_001_042.9', 'evm.TU.hcontig_001_054.18', 'evm.TU.hcontig_001_054.81', 'evm.TU.hcontig_001_054.82', 'evm.TU.hcontig_001_056.2', 'evm.TU.hcontig_001_056.3', 'evm.TU.hcontig_001_056.6', 'evm.TU.hcontig_001_056.8', 'evm.TU.hcontig_001_123.3', 'evm.TU.hcontig_001_180.3', 'evm.TU.hcontig_001_180.4', 'evm.TU.hcontig_001_180.5', 'evm.TU.hcontig_001_180.6', 'evm.TU.hcontig_001_180.7', 'evm.TU.hcontig_002_011.110', 'evm.TU.hcontig_002_011.123', 'evm.TU.hcontig_002_011.134', 'evm.TU.hcontig_002_011.146', 'evm.TU.hcontig_002_011.188', 'evm.TU.hcontig_002_011.201', 'evm.TU.hcontig_002_011.23', 'evm.TU.hcontig_002_011.234', 'evm.TU.hcontig_002_011.29', 'evm.TU.hcontig_002_011.33', 'evm.TU.hcontig_002_011.37', 'evm.TU.hcontig_002_011.66', 'evm.TU.hcontig_002_023.7', 'evm.TU.hcontig_002_028.1', 'evm.TU.hcontig_002_028.149', 'evm.TU.hcontig_002_028.150', 'evm.TU.hcontig_002_028.153', 'evm.TU.hcontig_002_028.159', 'evm.TU.hcontig_002_028.161', 'evm.TU.hcontig_002_028.162', 'evm.TU.hcontig_002_028.173', 'evm.TU.hcontig_002_028.177', 'evm.TU.hcontig_002_028.189', 'evm.TU.hcontig_002_028.206', 'evm.TU.hcontig_002_028.210', 'evm.TU.hcontig_002_028.230', 'evm.TU.hcontig_002_028.271', 'evm.TU.hcontig_002_028.276', 'evm.TU.hcontig_002_028.277', 'evm.TU.hcontig_002_028.279', 'evm.TU.hcontig_002_028.297', 'evm.TU.hcontig_002_028.300', 'evm.TU.hcontig_002_028.303', 'evm.TU.hcontig_002_028.306', 'evm.TU.hcontig_002_028.5', 'evm.TU.hcontig_002_028.54', 'evm.TU.hcontig_002_028.63', 'evm.TU.hcontig_002_028.75', 'evm.TU.hcontig_002_028.84', 'evm.TU.hcontig_003_002.113', 'evm.TU.hcontig_003_002.114', 'evm.TU.hcontig_003_002.125', 'evm.TU.hcontig_003_002.126', 'evm.TU.hcontig_003_002.127', 'evm.TU.hcontig_003_002.159', 'evm.TU.hcontig_003_002.209', 'evm.TU.hcontig_003_002.213', 'evm.TU.hcontig_003_002.215', 'evm.TU.hcontig_003_002.38', 'evm.TU.hcontig_003_002.54', 'evm.TU.hcontig_003_002.59', 'evm.TU.hcontig_003_002.61', 'evm.TU.hcontig_003_002.62', 'evm.TU.hcontig_003_002.91', 'evm.TU.hcontig_003_002.92', 'evm.TU.hcontig_003_002.93', 'evm.TU.hcontig_003_013.20', 'evm.TU.hcontig_003_013.21', 'evm.TU.hcontig_003_013.22', 'evm.TU.hcontig_003_013.23', 'evm.TU.hcontig_003_013.40', 'evm.TU.hcontig_003_013.41', 'evm.TU.hcontig_003_013.44', 'evm.TU.hcontig_003_013.5', 'evm.TU.hcontig_003_013.6', 'evm.TU.hcontig_003_014.20', 'evm.TU.hcontig_003_014.3', 'evm.TU.hcontig_003_014.46', 'evm.TU.hcontig_003_014.54', 'evm.TU.hcontig_003_014.55', 'evm.TU.hcontig_003_014.9', 'evm.TU.hcontig_003_026.4', 'evm.TU.hcontig_003_026.5', 'evm.TU.hcontig_003_028.6', 'evm.TU.hcontig_003_041.76', 'evm.TU.hcontig_003_045.11', 'evm.TU.hcontig_003_045.14', 'evm.TU.hcontig_003_045.19', 'evm.TU.hcontig_003_045.2', 'evm.TU.hcontig_003_045.20', 'evm.TU.hcontig_003_045.25', 'evm.TU.hcontig_003_045.26', 'evm.TU.hcontig_003_045.7', 'evm.TU.hcontig_003_136.1', 'evm.TU.hcontig_003_136.15', 'evm.TU.hcontig_004_019.5', 'evm.TU.hcontig_004_020.118', 'evm.TU.hcontig_004_020.12', 'evm.TU.hcontig_004_020.136', 'evm.TU.hcontig_004_020.14', 'evm.TU.hcontig_004_020.15', 'evm.TU.hcontig_004_020.166', 'evm.TU.hcontig_004_020.169', 'evm.TU.hcontig_004_020.18', 'evm.TU.hcontig_004_020.19', 'evm.TU.hcontig_004_020.190', 'evm.TU.hcontig_004_020.215', 'evm.TU.hcontig_004_020.219', 'evm.TU.hcontig_004_020.26', 'evm.TU.hcontig_004_020.27', 'evm.TU.hcontig_004_020.299', 'evm.TU.hcontig_004_020.324', 'evm.TU.hcontig_004_020.36', 'evm.TU.hcontig_004_020.391', 'evm.TU.hcontig_004_020.395', 'evm.TU.hcontig_004_020.397', 'evm.TU.hcontig_004_020.40', 'evm.TU.hcontig_004_020.55', 'evm.TU.hcontig_004_020.68', 'evm.TU.hcontig_004_021.2', 'evm.TU.hcontig_004_027.1', 'evm.TU.hcontig_004_027.2', 'evm.TU.hcontig_004_076.53', 'evm.TU.hcontig_005_002.19', 'evm.TU.hcontig_005_002.40', 'evm.TU.hcontig_005_002.82', 'evm.TU.hcontig_005_002.83', 'evm.TU.hcontig_005_002.86', 'evm.TU.hcontig_005_002.89', 'evm.TU.hcontig_005_021.1', 'evm.TU.hcontig_005_021.2', 'evm.TU.hcontig_005_021.37', 'evm.TU.hcontig_005_021.58', 'evm.TU.hcontig_005_021.65', 'evm.TU.hcontig_005_039.14', 'evm.TU.hcontig_005_043.152', 'evm.TU.hcontig_005_043.177', 'evm.TU.hcontig_005_043.178', 'evm.TU.hcontig_005_043.187', 'evm.TU.hcontig_005_043.188', 'evm.TU.hcontig_005_043.205', 'evm.TU.hcontig_005_043.218', 'evm.TU.hcontig_005_043.227', 'evm.TU.hcontig_005_043.41', 'evm.TU.hcontig_005_043.44', 'evm.TU.hcontig_005_043.46', 'evm.TU.hcontig_005_043.70', 'evm.TU.hcontig_005_043.71', 'evm.TU.hcontig_005_043.78', 'evm.TU.hcontig_005_043.84', 'evm.TU.hcontig_005_043.91', 'evm.TU.hcontig_006_002.39', 'evm.TU.hcontig_006_002.5', 'evm.TU.hcontig_006_013.11', 'evm.TU.hcontig_006_013.137', 'evm.TU.hcontig_006_013.14', 'evm.TU.hcontig_006_013.173', 'evm.TU.hcontig_006_013.222', 'evm.TU.hcontig_006_013.3', 'evm.TU.hcontig_006_013.47', 'evm.TU.hcontig_006_013.78', 'evm.TU.hcontig_006_013.90', 'evm.TU.hcontig_006_015.31', 'evm.TU.hcontig_006_021.3', 'evm.TU.hcontig_006_033.17', 'evm.TU.hcontig_006_033.2', 'evm.TU.hcontig_006_033.3', 'evm.TU.hcontig_006_033.37', 'evm.TU.hcontig_006_131.11', 'evm.TU.hcontig_006_131.13', 'evm.TU.hcontig_007_001.4', 'evm.TU.hcontig_007_005.22', 'evm.TU.hcontig_007_005.5', 'evm.TU.hcontig_007_005.64', 'evm.TU.hcontig_007_005.66', 'evm.TU.hcontig_007_005.7', 'evm.TU.hcontig_007_005.75', 'evm.TU.hcontig_007_005.78', 'evm.TU.hcontig_007_006.111', 'evm.TU.hcontig_007_006.112', 'evm.TU.hcontig_007_006.164', 'evm.TU.hcontig_007_006.196', 'evm.TU.hcontig_007_006.202', 'evm.TU.hcontig_007_006.206', 'evm.TU.hcontig_007_006.207', 'evm.TU.hcontig_007_006.210', 'evm.TU.hcontig_007_006.217', 'evm.TU.hcontig_007_006.220', 'evm.TU.hcontig_007_006.221', 'evm.TU.hcontig_007_006.223', 'evm.TU.hcontig_007_006.23', 'evm.TU.hcontig_007_007.17', 'evm.TU.hcontig_007_007.18', 'evm.TU.hcontig_007_007.43', 'evm.TU.hcontig_007_007.8', 'evm.TU.hcontig_007_031.2', 'evm.TU.hcontig_008_009.10', 'evm.TU.hcontig_008_009.111', 'evm.TU.hcontig_008_009.38', 'evm.TU.hcontig_008_009.46', 'evm.TU.hcontig_008_009.88', 'evm.TU.hcontig_008_014.43', 'evm.TU.hcontig_008_014.64', 'evm.TU.hcontig_008_014.80', 'evm.TU.hcontig_008_035.11', 'evm.TU.hcontig_008_093.37', 'evm.TU.hcontig_009_015.1', 'evm.TU.hcontig_009_024.1', 'evm.TU.hcontig_009_024.112', 'evm.TU.hcontig_009_024.117', 'evm.TU.hcontig_009_024.18', 'evm.TU.hcontig_009_024.55', 'evm.TU.hcontig_009_024.74', 'evm.TU.hcontig_009_024.78', 'evm.TU.hcontig_009_024.80', 'evm.TU.hcontig_009_029.41', 'evm.TU.hcontig_009_029.51', 'evm.TU.hcontig_009_029.53', 'evm.TU.hcontig_009_029.55', 'evm.TU.hcontig_009_029.56', 'evm.TU.hcontig_009_029.61', 'evm.TU.hcontig_009_142.10', 'evm.TU.hcontig_010_016.105', 'evm.TU.hcontig_010_016.114', 'evm.TU.hcontig_010_016.141', 'evm.TU.hcontig_010_016.186', 'evm.TU.hcontig_010_016.187', 'evm.TU.hcontig_010_016.188', 'evm.TU.hcontig_010_016.192', 'evm.TU.hcontig_010_016.199', 'evm.TU.hcontig_010_016.202', 'evm.TU.hcontig_010_016.205', 'evm.TU.hcontig_010_016.207', 'evm.TU.hcontig_010_016.220', 'evm.TU.hcontig_010_016.224', 'evm.TU.hcontig_010_016.225', 'evm.TU.hcontig_010_016.226', 'evm.TU.hcontig_010_016.236', 'evm.TU.hcontig_010_016.237', 'evm.TU.hcontig_010_016.246', 'evm.TU.hcontig_010_016.247', 'evm.TU.hcontig_010_016.270', 'evm.TU.hcontig_010_016.272', 'evm.TU.hcontig_010_016.277', 'evm.TU.hcontig_010_016.296', 'evm.TU.hcontig_010_016.297', 'evm.TU.hcontig_010_016.38', 'evm.TU.hcontig_010_016.41', 'evm.TU.hcontig_010_016.47', 'evm.TU.hcontig_010_016.48', 'evm.TU.hcontig_010_016.62', 'evm.TU.hcontig_010_016.92', 'evm.TU.hcontig_010_016.98', 'evm.TU.hcontig_010_016.99', 'evm.TU.hcontig_011_005.6', 'evm.TU.hcontig_011_013.3', 'evm.TU.hcontig_011_016.116', 'evm.TU.hcontig_011_016.117', 'evm.TU.hcontig_011_016.119', 'evm.TU.hcontig_011_016.143', 'evm.TU.hcontig_011_016.148', 'evm.TU.hcontig_011_016.149', 'evm.TU.hcontig_011_016.169', 'evm.TU.hcontig_011_016.205', 'evm.TU.hcontig_011_016.223', 'evm.TU.hcontig_011_016.240', 'evm.TU.hcontig_011_016.26', 'evm.TU.hcontig_011_016.27', 'evm.TU.hcontig_011_016.28', 'evm.TU.hcontig_011_016.30', 'evm.TU.hcontig_011_016.31', 'evm.TU.hcontig_011_016.32', 'evm.TU.hcontig_011_016.37', 'evm.TU.hcontig_011_016.91', 'evm.TU.hcontig_011_016.92', 'evm.TU.hcontig_011_017.25', 'evm.TU.hcontig_011_017.37', 'evm.TU.hcontig_011_017.43', 'evm.TU.hcontig_012_010.100', 'evm.TU.hcontig_012_010.103', 'evm.TU.hcontig_012_010.105', 'evm.TU.hcontig_012_010.20', 'evm.TU.hcontig_012_010.25', 'evm.TU.hcontig_012_010.28', 'evm.TU.hcontig_012_010.30', 'evm.TU.hcontig_012_010.60', 'evm.TU.hcontig_012_010.72', 'evm.TU.hcontig_012_024.75', 'evm.TU.hcontig_012_028.106', 'evm.TU.hcontig_012_028.128', 'evm.TU.hcontig_012_028.144', 'evm.TU.hcontig_012_028.25', 'evm.TU.hcontig_012_028.26', 'evm.TU.hcontig_012_028.28', 'evm.TU.hcontig_012_028.93', 'evm.TU.hcontig_012_028.98', 'evm.TU.hcontig_012_116.5', 'evm.TU.hcontig_012_116.7', 'evm.TU.hcontig_013_010.110', 'evm.TU.hcontig_013_010.111', 'evm.TU.hcontig_013_010.17', 'evm.TU.hcontig_013_010.19', 'evm.TU.hcontig_013_010.39', 'evm.TU.hcontig_013_010.40', 'evm.TU.hcontig_013_010.53', 'evm.TU.hcontig_013_010.57', 'evm.TU.hcontig_013_010.59', 'evm.TU.hcontig_013_010.89', 'evm.TU.hcontig_013_010.90', 'evm.TU.hcontig_013_012.64', 'evm.TU.hcontig_013_014.1', 'evm.TU.hcontig_013_018.3', 'evm.TU.hcontig_013_023.20', 'evm.TU.hcontig_013_023.23', 'evm.TU.hcontig_013_023.33', 'evm.TU.hcontig_013_023.71', 'evm.TU.hcontig_013_029.5', 'evm.TU.hcontig_013_029.6', 'evm.TU.hcontig_014_008.11', 'evm.TU.hcontig_014_017.7', 'evm.TU.hcontig_014_022.17', 'evm.TU.hcontig_014_022.19', 'evm.TU.hcontig_014_027.24', 'evm.TU.hcontig_014_117.15', 'evm.TU.hcontig_014_117.19', 'evm.TU.hcontig_014_117.25', 'evm.TU.hcontig_014_117.4', 'evm.TU.hcontig_014_192.10', 'evm.TU.hcontig_014_192.3', 'evm.TU.hcontig_016_014.15', 'evm.TU.hcontig_016_024.126', 'evm.TU.hcontig_016_024.133', 'evm.TU.hcontig_016_024.163', 'evm.TU.hcontig_016_024.22', 'evm.TU.hcontig_016_024.57', 'evm.TU.hcontig_016_024.79', 'evm.TU.hcontig_016_124.11', 'evm.TU.hcontig_017_004.103', 'evm.TU.hcontig_017_004.114', 'evm.TU.hcontig_017_004.118', 'evm.TU.hcontig_017_004.120', 'evm.TU.hcontig_017_004.140', 'evm.TU.hcontig_017_004.141', 'evm.TU.hcontig_017_004.2', 'evm.TU.hcontig_017_004.50', 'evm.TU.hcontig_017_004.51', 'evm.TU.hcontig_017_004.6', 'evm.TU.hcontig_017_004.70', 'evm.TU.hcontig_017_004.71', 'evm.TU.hcontig_017_004.73', 'evm.TU.hcontig_017_011.5', 'evm.TU.hcontig_017_011.6', 'evm.TU.hcontig_017_025.13', 'evm.TU.hcontig_017_025.2', 'evm.TU.hcontig_017_026.2', 'evm.TU.hcontig_017_160.7', 'evm.TU.hcontig_018_007.6', 'evm.TU.hcontig_018_008.1', 'evm.TU.hcontig_018_008.4', 'evm.TU.hcontig_018_010.2', 'evm.TU.hcontig_018_015.5', 'evm.TU.hcontig_018_016.123', 'evm.TU.hcontig_018_016.129', 'evm.TU.hcontig_018_016.132', 'evm.TU.hcontig_018_016.133', 'evm.TU.hcontig_018_016.48', 'evm.TU.hcontig_018_016.70', 'evm.TU.hcontig_018_016.84', 'evm.TU.hcontig_018_016.86', 'evm.TU.hcontig_018_022.106', 'evm.TU.hcontig_018_022.137', 'evm.TU.hcontig_018_022.3', 'evm.TU.hcontig_018_022.65', 'evm.TU.hcontig_018_022.68', 'evm.TU.hcontig_018_022.76', 'evm.TU.hcontig_018_022.79', 'evm.TU.hcontig_018_022.82', 'evm.TU.hcontig_018_022.83', 'evm.TU.hcontig_018_022.88', 'evm.TU.hcontig_019_001.21', 'evm.TU.hcontig_019_001.29', 'evm.TU.hcontig_019_001.33', 'evm.TU.hcontig_019_001.9', 'evm.TU.hcontig_019_013.16', 'evm.TU.hcontig_019_013.18', 'evm.TU.hcontig_019_013.24', 'evm.TU.hcontig_019_013.25', 'evm.TU.hcontig_019_013.36', 'evm.TU.hcontig_019_013.55', 'evm.TU.hcontig_019_015.122', 'evm.TU.hcontig_019_015.15', 'evm.TU.hcontig_019_015.17', 'evm.TU.hcontig_019_015.18', 'evm.TU.hcontig_019_015.25', 'evm.TU.hcontig_019_020.15', 'evm.TU.hcontig_019_020.25', 'evm.TU.hcontig_019_020.31', 'evm.TU.hcontig_019_085.2', 'evm.TU.hcontig_019_085.3', 'evm.TU.hcontig_019_085.36', 'evm.TU.hcontig_019_085.53', 'evm.TU.hcontig_019_085.57', 'evm.TU.hcontig_020_007.1', 'evm.TU.hcontig_020_018.35', 'evm.TU.hcontig_020_018.46', 'evm.TU.hcontig_020_018.5', 'evm.TU.hcontig_020_021.129', 'evm.TU.hcontig_020_021.14', 'evm.TU.hcontig_020_021.150', 'evm.TU.hcontig_020_021.151', 'evm.TU.hcontig_020_021.28', 'evm.TU.hcontig_020_021.45', 'evm.TU.hcontig_020_021.47', 'evm.TU.hcontig_020_021.59', 'evm.TU.hcontig_020_021.62', 'evm.TU.hcontig_020_021.7', 'evm.TU.hcontig_020_022.7', 'evm.TU.hcontig_020_025.32', 'evm.TU.hcontig_020_132.11', 'evm.TU.hcontig_020_132.17', 'evm.TU.hcontig_020_132.18', 'evm.TU.hcontig_021_014.14', 'evm.TU.hcontig_021_014.149', 'evm.TU.hcontig_021_014.151', 'evm.TU.hcontig_021_014.168', 'evm.TU.hcontig_021_014.169', 'evm.TU.hcontig_021_014.30', 'evm.TU.hcontig_021_014.38', 'evm.TU.hcontig_021_014.45', 'evm.TU.hcontig_021_014.63', 'evm.TU.hcontig_021_014.76', 'evm.TU.hcontig_021_014.84', 'evm.TU.hcontig_021_014.96', 'evm.TU.hcontig_021_026.2', 'evm.TU.hcontig_021_026.22', 'evm.TU.hcontig_021_026.23', 'evm.TU.hcontig_021_027.28', 'evm.TU.hcontig_021_027.3', 'evm.TU.hcontig_021_027.33', 'evm.TU.hcontig_021_027.62', 'evm.TU.hcontig_021_027.70', 'evm.TU.hcontig_021_027.72', 'evm.TU.hcontig_021_027.83', 'evm.TU.hcontig_022_007.17', 'evm.TU.hcontig_022_007.25', 'evm.TU.hcontig_022_007.29', 'evm.TU.hcontig_022_007.31', 'evm.TU.hcontig_022_007.39', 'evm.TU.hcontig_022_008.107', 'evm.TU.hcontig_022_008.14', 'evm.TU.hcontig_022_008.35', 'evm.TU.hcontig_022_008.39', 'evm.TU.hcontig_022_008.53', 'evm.TU.hcontig_022_008.79', 'evm.TU.hcontig_022_015.15', 'evm.TU.hcontig_022_015.7', 'evm.TU.hcontig_022_101.24', 'evm.TU.hcontig_023_002.107', 'evm.TU.hcontig_023_002.11', 'evm.TU.hcontig_023_002.142', 'evm.TU.hcontig_023_002.26', 'evm.TU.hcontig_023_002.27', 'evm.TU.hcontig_023_002.33', 'evm.TU.hcontig_023_002.43', 'evm.TU.hcontig_023_002.67', 'evm.TU.hcontig_023_003.3', 'evm.TU.hcontig_023_007.110', 'evm.TU.hcontig_023_007.31', 'evm.TU.hcontig_023_007.51', 'evm.TU.hcontig_023_007.77', 'evm.TU.hcontig_023_007.96', 'evm.TU.hcontig_025_002.15', 'evm.TU.hcontig_025_002.19', 'evm.TU.hcontig_025_003.23', 'evm.TU.hcontig_025_003.24', 'evm.TU.hcontig_025_003.38', 'evm.TU.hcontig_025_003.39', 'evm.TU.hcontig_025_003.4', 'evm.TU.hcontig_025_003.63', 'evm.TU.hcontig_026_002.113', 'evm.TU.hcontig_026_002.124', 'evm.TU.hcontig_026_002.137', 'evm.TU.hcontig_026_002.138', 'evm.TU.hcontig_026_002.159', 'evm.TU.hcontig_026_002.31', 'evm.TU.hcontig_026_002.32', 'evm.TU.hcontig_026_002.7', 'evm.TU.hcontig_026_002.8', 'evm.TU.hcontig_026_011.10', 'evm.TU.hcontig_026_011.11', 'evm.TU.hcontig_026_011.9', 'evm.TU.hcontig_026_018.47', 'evm.TU.hcontig_026_018.49', 'evm.TU.hcontig_026_018.50', 'evm.TU.hcontig_026_018.59', 'evm.TU.hcontig_026_018.62', 'evm.TU.hcontig_026_018.63', 'evm.TU.hcontig_027_006.107', 'evm.TU.hcontig_027_006.69', 'evm.TU.hcontig_027_011.32', 'evm.TU.hcontig_027_011.38', 'evm.TU.hcontig_027_011.39', 'evm.TU.hcontig_027_011.40', 'evm.TU.hcontig_027_011.42', 'evm.TU.hcontig_027_011.78', 'evm.TU.hcontig_027_011.79', 'evm.TU.hcontig_027_011.80', 'evm.TU.hcontig_027_011.86', 'evm.TU.hcontig_027_018.8', 'evm.TU.hcontig_027_018.9', 'evm.TU.hcontig_027_102.2', 'evm.TU.hcontig_027_102.24', 'evm.TU.hcontig_027_102.43', 'evm.TU.hcontig_027_102.45', 'evm.TU.hcontig_028_003.17', 'evm.TU.hcontig_028_003.19', 'evm.TU.hcontig_028_003.23', 'evm.TU.hcontig_028_011.104', 'evm.TU.hcontig_028_011.105', 'evm.TU.hcontig_028_011.113', 'evm.TU.hcontig_028_011.125', 'evm.TU.hcontig_028_011.6', 'evm.TU.hcontig_028_011.85', 'evm.TU.hcontig_028_015.14', 'evm.TU.hcontig_028_015.19', 'evm.TU.hcontig_028_015.2', 'evm.TU.hcontig_029_001.3', 'evm.TU.hcontig_029_010.1', 'evm.TU.hcontig_029_010.2', 'evm.TU.hcontig_029_010.62', 'evm.TU.hcontig_029_010.80', 'evm.TU.hcontig_029_010.84', 'evm.TU.hcontig_029_013.103', 'evm.TU.hcontig_029_013.104', 'evm.TU.hcontig_029_013.24', 'evm.TU.hcontig_029_013.30', 'evm.TU.hcontig_029_013.46', 'evm.TU.hcontig_029_013.74', 'evm.TU.hcontig_029_013.76', 'evm.TU.hcontig_029_013.81', 'evm.TU.hcontig_029_013.83', 'evm.TU.hcontig_029_013.90', 'evm.TU.hcontig_029_013.96', 'evm.TU.hcontig_029_014.3', 'evm.TU.hcontig_029_023.1', 'evm.TU.hcontig_029_023.2', 'evm.TU.hcontig_030_011.116', 'evm.TU.hcontig_030_011.134', 'evm.TU.hcontig_030_011.15', 'evm.TU.hcontig_030_011.151', 'evm.TU.hcontig_030_011.160', 'evm.TU.hcontig_030_011.161', 'evm.TU.hcontig_030_011.203', 'evm.TU.hcontig_030_011.25', 'evm.TU.hcontig_030_011.26', 'evm.TU.hcontig_030_011.38', 'evm.TU.hcontig_030_011.41', 'evm.TU.hcontig_030_011.42', 'evm.TU.hcontig_030_011.92', 'evm.TU.hcontig_030_155.14', 'evm.TU.hcontig_031_005.109', 'evm.TU.hcontig_031_005.112', 'evm.TU.hcontig_031_005.15', 'evm.TU.hcontig_031_005.22', 'evm.TU.hcontig_031_005.23', 'evm.TU.hcontig_031_005.29', 'evm.TU.hcontig_031_005.44', 'evm.TU.hcontig_031_005.47', 'evm.TU.hcontig_031_005.52', 'evm.TU.hcontig_031_005.53', 'evm.TU.hcontig_031_005.54', 'evm.TU.hcontig_031_005.87', 'evm.TU.hcontig_031_005.9', 'evm.TU.hcontig_031_005.93', 'evm.TU.hcontig_031_005.96', 'evm.TU.hcontig_031_005.97', 'evm.TU.hcontig_031_005.99', 'evm.TU.hcontig_031_007.24', 'evm.TU.hcontig_031_007.26', 'evm.TU.hcontig_031_007.35', 'evm.TU.hcontig_031_007.40', 'evm.TU.hcontig_031_007.42', 'evm.TU.hcontig_031_007.69', 'evm.TU.hcontig_031_007.91', 'evm.TU.hcontig_031_013.17', 'evm.TU.hcontig_031_015.2', 'evm.TU.hcontig_031_015.4', 'evm.TU.hcontig_033_010.1', 'evm.TU.hcontig_033_014.54', 'evm.TU.hcontig_033_071.16', 'evm.TU.hcontig_033_071.17', 'evm.TU.hcontig_033_071.21', 'evm.TU.hcontig_033_071.25', 'evm.TU.hcontig_033_071.59', 'evm.TU.hcontig_033_071.60', 'evm.TU.hcontig_033_071.76', 'evm.TU.hcontig_033_071.85', 'evm.TU.hcontig_034_001.109', 'evm.TU.hcontig_034_001.116', 'evm.TU.hcontig_034_001.127', 'evm.TU.hcontig_034_001.140', 'evm.TU.hcontig_034_001.142', 'evm.TU.hcontig_034_001.144', 'evm.TU.hcontig_034_001.157', 'evm.TU.hcontig_034_001.158', 'evm.TU.hcontig_034_001.160', 'evm.TU.hcontig_034_001.163', 'evm.TU.hcontig_034_001.21', 'evm.TU.hcontig_034_001.57', 'evm.TU.hcontig_034_001.60', 'evm.TU.hcontig_034_001.66', 'evm.TU.hcontig_034_001.76', 'evm.TU.hcontig_034_001.83', 'evm.TU.hcontig_034_005.1', 'evm.TU.hcontig_034_022.11', 'evm.TU.hcontig_034_022.9', 'evm.TU.hcontig_035_008.10', 'evm.TU.hcontig_035_008.11', 'evm.TU.hcontig_035_008.129', 'evm.TU.hcontig_035_008.130', 'evm.TU.hcontig_035_008.134', 'evm.TU.hcontig_035_008.137', 'evm.TU.hcontig_035_008.144', 'evm.TU.hcontig_035_008.157', 'evm.TU.hcontig_035_008.29', 'evm.TU.hcontig_035_008.31', 'evm.TU.hcontig_035_008.32', 'evm.TU.hcontig_035_008.33', 'evm.TU.hcontig_035_008.34', 'evm.TU.hcontig_035_008.4', 'evm.TU.hcontig_035_008.46', 'evm.TU.hcontig_035_008.47', 'evm.TU.hcontig_035_008.49', 'evm.TU.hcontig_035_008.61', 'evm.TU.hcontig_035_008.8', 'evm.TU.hcontig_035_013.2', 'evm.TU.hcontig_035_019.3', 'evm.TU.hcontig_035_019.4', 'evm.TU.hcontig_035_019.6', 'evm.TU.hcontig_036_002.11', 'evm.TU.hcontig_036_002.12', 'evm.TU.hcontig_036_006.13', 'evm.TU.hcontig_036_006.14', 'evm.TU.hcontig_036_006.16', 'evm.TU.hcontig_036_008.100', 'evm.TU.hcontig_036_008.15', 'evm.TU.hcontig_036_008.6', 'evm.TU.hcontig_036_008.8', 'evm.TU.hcontig_036_012.1', 'evm.TU.hcontig_036_012.14', 'evm.TU.hcontig_036_012.16', 'evm.TU.hcontig_036_012.2', 'evm.TU.hcontig_037_004.37', 'evm.TU.hcontig_037_004.55', 'evm.TU.hcontig_037_004.58', 'evm.TU.hcontig_037_004.61', 'evm.TU.hcontig_037_004.63', 'evm.TU.hcontig_037_004.70', 'evm.TU.hcontig_037_011.31', 'evm.TU.hcontig_037_011.32', 'evm.TU.hcontig_037_011.35', 'evm.TU.hcontig_037_011.73', 'evm.TU.hcontig_037_011.75', 'evm.TU.hcontig_037_011.76', 'evm.TU.hcontig_037_011.77', 'evm.TU.hcontig_037_011.78', 'evm.TU.hcontig_037_017.3', 'evm.TU.hcontig_037_161.3', 'evm.TU.hcontig_039_004.26', 'evm.TU.hcontig_039_004.36', 'evm.TU.hcontig_039_004.37', 'evm.TU.hcontig_039_004.63', 'evm.TU.hcontig_039_005.11', 'evm.TU.hcontig_039_005.22', 'evm.TU.hcontig_039_005.38', 'evm.TU.hcontig_039_005.39', 'evm.TU.hcontig_039_005.7', 'evm.TU.hcontig_039_005.83', 'evm.TU.hcontig_039_005.88', 'evm.TU.hcontig_039_005.89', 'evm.TU.hcontig_039_005.90', 'evm.TU.hcontig_039_005.94', 'evm.TU.hcontig_039_005.96', 'evm.TU.hcontig_040_001.2', 'evm.TU.hcontig_040_001.3', 'evm.TU.hcontig_040_001.6', 'evm.TU.hcontig_040_001.9', 'evm.TU.hcontig_040_002.12', 'evm.TU.hcontig_040_002.2', 'evm.TU.hcontig_040_015.13', 'evm.TU.hcontig_040_015.29', 'evm.TU.hcontig_040_015.3', 'evm.TU.hcontig_040_015.69', 'evm.TU.hcontig_040_015.79', 'evm.TU.hcontig_040_015.86', 'evm.TU.hcontig_040_015.91', 'evm.TU.hcontig_040_109.23', 'evm.TU.hcontig_040_109.31', 'evm.TU.hcontig_041_004.2', 'evm.TU.hcontig_041_004.4', 'evm.TU.hcontig_041_004.54', 'evm.TU.hcontig_041_004.55', 'evm.TU.hcontig_041_004.60', 'evm.TU.hcontig_041_004.78', 'evm.TU.hcontig_041_004.83', 'evm.TU.hcontig_041_005.12', 'evm.TU.hcontig_041_005.28', 'evm.TU.hcontig_041_005.29', 'evm.TU.hcontig_041_005.6', 'evm.TU.hcontig_041_005.7', 'evm.TU.hcontig_041_127.12', 'evm.TU.hcontig_041_127.20', 'evm.TU.hcontig_041_127.8', 'evm.TU.hcontig_042_005.2', 'evm.TU.hcontig_042_008.7', 'evm.TU.hcontig_042_009.58', 'evm.TU.hcontig_042_009.59', 'evm.TU.hcontig_042_011.5', 'evm.TU.hcontig_042_168.11', 'evm.TU.hcontig_043_003.15', 'evm.TU.hcontig_043_003.41', 'evm.TU.hcontig_043_003.52', 'evm.TU.hcontig_043_003.53', 'evm.TU.hcontig_043_006.6', 'evm.TU.hcontig_043_119.21', 'evm.TU.hcontig_043_119.4', 'evm.TU.hcontig_043_119.8', 'evm.TU.hcontig_044_003.13', 'evm.TU.hcontig_044_003.37', 'evm.TU.hcontig_044_003.39', 'evm.TU.hcontig_044_003.40', 'evm.TU.hcontig_044_003.43', 'evm.TU.hcontig_044_023.118', 'evm.TU.hcontig_044_023.121', 'evm.TU.hcontig_044_023.30', 'evm.TU.hcontig_044_023.62', 'evm.TU.hcontig_044_023.87', 'evm.TU.hcontig_044_023.88', 'evm.TU.hcontig_045_002.10', 'evm.TU.hcontig_045_002.12', 'evm.TU.hcontig_045_002.14', 'evm.TU.hcontig_045_002.3', 'evm.TU.hcontig_045_002.83', 'evm.TU.hcontig_045_002.88', 'evm.TU.hcontig_045_002.92', 'evm.TU.hcontig_045_002.96', 'evm.TU.hcontig_046_007.10', 'evm.TU.hcontig_046_007.119', 'evm.TU.hcontig_046_007.120', 'evm.TU.hcontig_046_007.42', 'evm.TU.hcontig_046_007.58', 'evm.TU.hcontig_046_007.63', 'evm.TU.hcontig_046_007.70', 'evm.TU.hcontig_046_007.80', 'evm.TU.hcontig_046_007.83', 'evm.TU.hcontig_046_007.88', 'evm.TU.hcontig_047_003.30', 'evm.TU.hcontig_047_003.37', 'evm.TU.hcontig_047_003.38', 'evm.TU.hcontig_047_006.25', 'evm.TU.hcontig_047_006.35', 'evm.TU.hcontig_047_006.51', 'evm.TU.hcontig_047_006.9', 'evm.TU.hcontig_047_007.2', 'evm.TU.hcontig_048_005.42', 'evm.TU.hcontig_048_005.62', 'evm.TU.hcontig_048_010.27', 'evm.TU.hcontig_048_010.29', 'evm.TU.hcontig_049_002.1', 'evm.TU.hcontig_049_002.37', 'evm.TU.hcontig_049_002.41', 'evm.TU.hcontig_049_002.58', 'evm.TU.hcontig_050_003.14', 'evm.TU.hcontig_050_003.20', 'evm.TU.hcontig_050_003.45', 'evm.TU.hcontig_050_010.1', 'evm.TU.hcontig_050_011.33', 'evm.TU.hcontig_050_011.39', 'evm.TU.hcontig_050_053.12', 'evm.TU.hcontig_050_053.5', 'evm.TU.hcontig_050_121.18', 'evm.TU.hcontig_050_121.9', 'evm.TU.hcontig_052_006.115', 'evm.TU.hcontig_052_006.117', 'evm.TU.hcontig_052_006.146', 'evm.TU.hcontig_052_006.155', 'evm.TU.hcontig_052_006.25', 'evm.TU.hcontig_052_006.53', 'evm.TU.hcontig_052_006.63', 'evm.TU.hcontig_052_105.25', 'evm.TU.hcontig_052_105.4', 'evm.TU.hcontig_054_001.108', 'evm.TU.hcontig_054_001.17', 'evm.TU.hcontig_054_001.25', 'evm.TU.hcontig_054_001.35', 'evm.TU.hcontig_054_001.50', 'evm.TU.hcontig_054_001.52', 'evm.TU.hcontig_054_001.91', 'evm.TU.hcontig_055_008.4', 'evm.TU.hcontig_055_009.1', 'evm.TU.hcontig_055_009.19', 'evm.TU.hcontig_055_009.22', 'evm.TU.hcontig_055_009.8', 'evm.TU.hcontig_055_009.9', 'evm.TU.hcontig_055_012.14', 'evm.TU.hcontig_055_012.91', 'evm.TU.hcontig_056_007.13', 'evm.TU.hcontig_056_007.14', 'evm.TU.hcontig_056_007.22', 'evm.TU.hcontig_056_007.24', 'evm.TU.hcontig_056_007.28', 'evm.TU.hcontig_056_007.39', 'evm.TU.hcontig_056_007.40', 'evm.TU.hcontig_056_007.58', 'evm.TU.hcontig_056_007.59', 'evm.TU.hcontig_057_001.1', 'evm.TU.hcontig_057_001.5', 'evm.TU.hcontig_057_002.5', 'evm.TU.hcontig_057_003.120', 'evm.TU.hcontig_057_003.121', 'evm.TU.hcontig_057_003.133', 'evm.TU.hcontig_057_003.36', 'evm.TU.hcontig_057_003.54', 'evm.TU.hcontig_057_003.64', 'evm.TU.hcontig_057_003.73', 'evm.TU.hcontig_057_003.74', 'evm.TU.hcontig_057_003.80', 'evm.TU.hcontig_057_003.83', 'evm.TU.hcontig_057_003.89', 'evm.TU.hcontig_057_009.4', 'evm.TU.hcontig_057_009.5', 'evm.TU.hcontig_058_004.17', 'evm.TU.hcontig_058_004.18', 'evm.TU.hcontig_058_004.19', 'evm.TU.hcontig_058_175.7', 'evm.TU.hcontig_059_005.1', 'evm.TU.hcontig_059_008.10', 'evm.TU.hcontig_059_008.101', 'evm.TU.hcontig_059_008.107', 'evm.TU.hcontig_059_008.111', 'evm.TU.hcontig_059_008.125', 'evm.TU.hcontig_059_008.19', 'evm.TU.hcontig_059_008.2', 'evm.TU.hcontig_059_008.37', 'evm.TU.hcontig_059_008.45', 'evm.TU.hcontig_059_008.54', 'evm.TU.hcontig_059_008.65', 'evm.TU.hcontig_059_008.7', 'evm.TU.hcontig_059_008.78', 'evm.TU.hcontig_060_001.2', 'evm.TU.hcontig_060_001.64', 'evm.TU.hcontig_060_001.65', 'evm.TU.hcontig_060_001.66', 'evm.TU.hcontig_060_001.67', 'evm.TU.hcontig_062_001.35', 'evm.TU.hcontig_062_001.46', 'evm.TU.hcontig_062_001.54', 'evm.TU.hcontig_062_001.62', 'evm.TU.hcontig_062_001.81', 'evm.TU.hcontig_064_007.1', 'evm.TU.hcontig_064_007.10', 'evm.TU.hcontig_064_007.5', 'evm.TU.hcontig_064_007.75', 'evm.TU.hcontig_064_007.9', 'evm.TU.hcontig_064_098.38', 'evm.TU.hcontig_065_003.39', 'evm.TU.hcontig_065_094.41', 'evm.TU.hcontig_066_004.8', 'evm.TU.hcontig_066_107.29', 'evm.TU.hcontig_067_004.24', 'evm.TU.hcontig_067_004.6', 'evm.TU.hcontig_067_005.8', 'evm.TU.hcontig_067_008.4', 'evm.TU.hcontig_067_008.6', 'evm.TU.hcontig_069_137.6', 'evm.TU.hcontig_070_006.2', 'evm.TU.hcontig_070_006.4', 'evm.TU.hcontig_070_009.13', 'evm.TU.hcontig_070_009.15', 'evm.TU.hcontig_077_002.9', 'evm.TU.hcontig_078_002.22', 'evm.TU.hcontig_078_002.8', 'evm.TU.hcontig_080_002.10', 'evm.TU.hcontig_080_002.13', 'evm.TU.hcontig_081_004.22', 'evm.TU.hcontig_081_005.11', 'evm.TU.hcontig_081_005.34', 'evm.TU.hcontig_081_005.36', 'evm.TU.hcontig_081_005.7', 'evm.TU.hcontig_082_001.6', 'evm.TU.hcontig_082_002.25', 'evm.TU.hcontig_083_002.40', 'evm.TU.hcontig_083_002.51', 'evm.TU.hcontig_083_002.52', 'evm.TU.hcontig_083_002.54', 'evm.TU.hcontig_084_003.7', 'evm.TU.hcontig_088_002.19', 'evm.TU.hcontig_088_002.29', 'evm.TU.hcontig_088_002.34', 'evm.TU.hcontig_089_005.2', 'evm.TU.hcontig_092_003.10', 'evm.TU.hcontig_095_004.15', 'evm.TU.hcontig_104_001.2', 'evm.TU.hcontig_147_001.2', 'evm.TU.hcontig_189_001.2', 'evm.TU.hcontig_225_001.1', 'evm.TU.pcontig_000.112', 'evm.TU.pcontig_000.19', 'evm.TU.pcontig_000.262', 'evm.TU.pcontig_000.276', 'evm.TU.pcontig_000.3', 'evm.TU.pcontig_000.306', 'evm.TU.pcontig_000.332', 'evm.TU.pcontig_000.378', 'evm.TU.pcontig_000.392', 'evm.TU.pcontig_000.406', 'evm.TU.pcontig_000.421', 'evm.TU.pcontig_000.423', 'evm.TU.pcontig_000.448', 'evm.TU.pcontig_000.450', 'evm.TU.pcontig_000.454', 'evm.TU.pcontig_000.479', 'evm.TU.pcontig_000.508', 'evm.TU.pcontig_000.554', 'evm.TU.pcontig_000.556', 'evm.TU.pcontig_000.558', 'evm.TU.pcontig_000.562', 'evm.TU.pcontig_000.583', 'evm.TU.pcontig_000.588', 'evm.TU.pcontig_000.593', 'evm.TU.pcontig_000.612', 'evm.TU.pcontig_000.624', 'evm.TU.pcontig_000.63', 'evm.TU.pcontig_000.679', 'evm.TU.pcontig_000.85', 'evm.TU.pcontig_000.9', 'evm.TU.pcontig_001.104', 'evm.TU.pcontig_001.169', 'evm.TU.pcontig_001.174', 'evm.TU.pcontig_001.188', 'evm.TU.pcontig_001.231', 'evm.TU.pcontig_001.252', 'evm.TU.pcontig_001.270', 'evm.TU.pcontig_001.274', 'evm.TU.pcontig_001.28', 'evm.TU.pcontig_001.288', 'evm.TU.pcontig_001.298', 'evm.TU.pcontig_001.3', 'evm.TU.pcontig_001.363', 'evm.TU.pcontig_001.365', 'evm.TU.pcontig_001.366', 'evm.TU.pcontig_001.367', 'evm.TU.pcontig_001.368', 'evm.TU.pcontig_001.371', 'evm.TU.pcontig_001.378', 'evm.TU.pcontig_001.379', 'evm.TU.pcontig_001.381', 'evm.TU.pcontig_001.4', 'evm.TU.pcontig_001.413', 'evm.TU.pcontig_001.463', 'evm.TU.pcontig_001.515', 'evm.TU.pcontig_001.518', 'evm.TU.pcontig_001.520', 'evm.TU.pcontig_001.568', 'evm.TU.pcontig_001.570', 'evm.TU.pcontig_001.583', 'evm.TU.pcontig_001.611', 'evm.TU.pcontig_001.613', 'evm.TU.pcontig_001.622', 'evm.TU.pcontig_001.632', 'evm.TU.pcontig_001.634', 'evm.TU.pcontig_001.635', 'evm.TU.pcontig_001.636', 'evm.TU.pcontig_001.638', 'evm.TU.pcontig_001.644', 'evm.TU.pcontig_001.657', 'evm.TU.pcontig_001.7', 'evm.TU.pcontig_001.83', 'evm.TU.pcontig_001.85', 'evm.TU.pcontig_002.108', 'evm.TU.pcontig_002.119', 'evm.TU.pcontig_002.131', 'evm.TU.pcontig_002.151', 'evm.TU.pcontig_002.202', 'evm.TU.pcontig_002.204', 'evm.TU.pcontig_002.223', 'evm.TU.pcontig_002.229', 'evm.TU.pcontig_002.243', 'evm.TU.pcontig_002.246', 'evm.TU.pcontig_002.28', 'evm.TU.pcontig_002.303', 'evm.TU.pcontig_002.315', 'evm.TU.pcontig_002.316', 'evm.TU.pcontig_002.332', 'evm.TU.pcontig_002.333', 'evm.TU.pcontig_002.34', 'evm.TU.pcontig_002.38', 'evm.TU.pcontig_002.40', 'evm.TU.pcontig_002.403', 'evm.TU.pcontig_002.404', 'evm.TU.pcontig_002.407', 'evm.TU.pcontig_002.413', 'evm.TU.pcontig_002.415', 'evm.TU.pcontig_002.42', 'evm.TU.pcontig_002.423', 'evm.TU.pcontig_002.426', 'evm.TU.pcontig_002.431', 'evm.TU.pcontig_002.440', 'evm.TU.pcontig_002.449', 'evm.TU.pcontig_002.453', 'evm.TU.pcontig_002.467', 'evm.TU.pcontig_002.529', 'evm.TU.pcontig_002.535', 'evm.TU.pcontig_002.536', 'evm.TU.pcontig_002.538', 'evm.TU.pcontig_002.553', 'evm.TU.pcontig_002.559', 'evm.TU.pcontig_002.562', 'evm.TU.pcontig_002.64', 'evm.TU.pcontig_002.92', 'evm.TU.pcontig_002.95', 'evm.TU.pcontig_003.140', 'evm.TU.pcontig_003.154', 'evm.TU.pcontig_003.162', 'evm.TU.pcontig_003.179', 'evm.TU.pcontig_003.208', 'evm.TU.pcontig_003.217', 'evm.TU.pcontig_003.218', 'evm.TU.pcontig_003.232', 'evm.TU.pcontig_003.236', 'evm.TU.pcontig_003.240', 'evm.TU.pcontig_003.243', 'evm.TU.pcontig_003.248', 'evm.TU.pcontig_003.249', 'evm.TU.pcontig_003.254', 'evm.TU.pcontig_003.255', 'evm.TU.pcontig_003.328', 'evm.TU.pcontig_003.333', 'evm.TU.pcontig_003.335', 'evm.TU.pcontig_003.336', 'evm.TU.pcontig_003.365', 'evm.TU.pcontig_003.366', 'evm.TU.pcontig_003.367', 'evm.TU.pcontig_003.387', 'evm.TU.pcontig_003.388', 'evm.TU.pcontig_003.402', 'evm.TU.pcontig_003.403', 'evm.TU.pcontig_003.427', 'evm.TU.pcontig_003.436', 'evm.TU.pcontig_003.471', 'evm.TU.pcontig_003.477', 'evm.TU.pcontig_003.479', 'evm.TU.pcontig_003.487', 'evm.TU.pcontig_003.505', 'evm.TU.pcontig_003.506', 'evm.TU.pcontig_003.507', 'evm.TU.pcontig_003.508', 'evm.TU.pcontig_003.521', 'evm.TU.pcontig_003.522', 'evm.TU.pcontig_003.523', 'evm.TU.pcontig_003.524', 'evm.TU.pcontig_003.525', 'evm.TU.pcontig_003.543', 'evm.TU.pcontig_003.544', 'evm.TU.pcontig_003.547', 'evm.TU.pcontig_003.87', 'evm.TU.pcontig_003.9', 'evm.TU.pcontig_004.124', 'evm.TU.pcontig_004.13', 'evm.TU.pcontig_004.142', 'evm.TU.pcontig_004.165', 'evm.TU.pcontig_004.168', 'evm.TU.pcontig_004.18', 'evm.TU.pcontig_004.19', 'evm.TU.pcontig_004.190', 'evm.TU.pcontig_004.191', 'evm.TU.pcontig_004.195', 'evm.TU.pcontig_004.214', 'evm.TU.pcontig_004.26', 'evm.TU.pcontig_004.27', 'evm.TU.pcontig_004.284', 'evm.TU.pcontig_004.304', 'evm.TU.pcontig_004.35', 'evm.TU.pcontig_004.372', 'evm.TU.pcontig_004.388', 'evm.TU.pcontig_004.39', 'evm.TU.pcontig_004.435', 'evm.TU.pcontig_004.437', 'evm.TU.pcontig_004.448', 'evm.TU.pcontig_004.53', 'evm.TU.pcontig_004.58', 'evm.TU.pcontig_004.73', 'evm.TU.pcontig_005.10', 'evm.TU.pcontig_005.126', 'evm.TU.pcontig_005.14', 'evm.TU.pcontig_005.186', 'evm.TU.pcontig_005.193', 'evm.TU.pcontig_005.242', 'evm.TU.pcontig_005.255', 'evm.TU.pcontig_005.258', 'evm.TU.pcontig_005.260', 'evm.TU.pcontig_005.289', 'evm.TU.pcontig_005.294', 'evm.TU.pcontig_005.301', 'evm.TU.pcontig_005.306', 'evm.TU.pcontig_005.33', 'evm.TU.pcontig_005.394', 'evm.TU.pcontig_005.395', 'evm.TU.pcontig_005.4', 'evm.TU.pcontig_005.418', 'evm.TU.pcontig_005.419', 'evm.TU.pcontig_005.439', 'evm.TU.pcontig_005.453', 'evm.TU.pcontig_005.461', 'evm.TU.pcontig_005.495', 'evm.TU.pcontig_005.51', 'evm.TU.pcontig_005.52', 'evm.TU.pcontig_005.6', 'evm.TU.pcontig_005.91', 'evm.TU.pcontig_005.95', 'evm.TU.pcontig_005.98', 'evm.TU.pcontig_006.108', 'evm.TU.pcontig_006.126', 'evm.TU.pcontig_006.13', 'evm.TU.pcontig_006.140', 'evm.TU.pcontig_006.142', 'evm.TU.pcontig_006.15', 'evm.TU.pcontig_006.199', 'evm.TU.pcontig_006.2', 'evm.TU.pcontig_006.278', 'evm.TU.pcontig_006.290', 'evm.TU.pcontig_006.293', 'evm.TU.pcontig_006.329', 'evm.TU.pcontig_006.35', 'evm.TU.pcontig_006.361', 'evm.TU.pcontig_006.391', 'evm.TU.pcontig_006.404', 'evm.TU.pcontig_006.433', 'evm.TU.pcontig_006.461', 'evm.TU.pcontig_006.472', 'evm.TU.pcontig_006.507', 'evm.TU.pcontig_006.90', 'evm.TU.pcontig_007.10', 'evm.TU.pcontig_007.113', 'evm.TU.pcontig_007.141', 'evm.TU.pcontig_007.151', 'evm.TU.pcontig_007.154', 'evm.TU.pcontig_007.175', 'evm.TU.pcontig_007.180', 'evm.TU.pcontig_007.223', 'evm.TU.pcontig_007.226', 'evm.TU.pcontig_007.23', 'evm.TU.pcontig_007.308', 'evm.TU.pcontig_007.309', 'evm.TU.pcontig_007.390', 'evm.TU.pcontig_007.405', 'evm.TU.pcontig_007.411', 'evm.TU.pcontig_007.412', 'evm.TU.pcontig_007.418', 'evm.TU.pcontig_007.421', 'evm.TU.pcontig_007.422', 'evm.TU.pcontig_007.424', 'evm.TU.pcontig_007.8', 'evm.TU.pcontig_007.81', 'evm.TU.pcontig_007.84', 'evm.TU.pcontig_008.133', 'evm.TU.pcontig_008.137', 'evm.TU.pcontig_008.159', 'evm.TU.pcontig_008.171', 'evm.TU.pcontig_008.209', 'evm.TU.pcontig_008.257', 'evm.TU.pcontig_008.30', 'evm.TU.pcontig_008.322', 'evm.TU.pcontig_008.343', 'evm.TU.pcontig_008.362', 'evm.TU.pcontig_008.86', 'evm.TU.pcontig_009.12', 'evm.TU.pcontig_009.126', 'evm.TU.pcontig_009.136', 'evm.TU.pcontig_009.138', 'evm.TU.pcontig_009.140', 'evm.TU.pcontig_009.141', 'evm.TU.pcontig_009.145', 'evm.TU.pcontig_009.158', 'evm.TU.pcontig_009.162', 'evm.TU.pcontig_009.163', 'evm.TU.pcontig_009.164', 'evm.TU.pcontig_009.181', 'evm.TU.pcontig_009.2', 'evm.TU.pcontig_009.21', 'evm.TU.pcontig_009.218', 'evm.TU.pcontig_009.222', 'evm.TU.pcontig_009.232', 'evm.TU.pcontig_009.236', 'evm.TU.pcontig_010.131', 'evm.TU.pcontig_010.132', 'evm.TU.pcontig_010.168', 'evm.TU.pcontig_010.21', 'evm.TU.pcontig_010.217', 'evm.TU.pcontig_010.219', 'evm.TU.pcontig_010.220', 'evm.TU.pcontig_010.231', 'evm.TU.pcontig_010.234', 'evm.TU.pcontig_010.237', 'evm.TU.pcontig_010.239', 'evm.TU.pcontig_010.240', 'evm.TU.pcontig_010.25', 'evm.TU.pcontig_010.250', 'evm.TU.pcontig_010.253', 'evm.TU.pcontig_010.254', 'evm.TU.pcontig_010.255', 'evm.TU.pcontig_010.258', 'evm.TU.pcontig_010.270', 'evm.TU.pcontig_010.271', 'evm.TU.pcontig_010.281', 'evm.TU.pcontig_010.282', 'evm.TU.pcontig_010.295', 'evm.TU.pcontig_010.304', 'evm.TU.pcontig_010.309', 'evm.TU.pcontig_010.331', 'evm.TU.pcontig_010.332', 'evm.TU.pcontig_010.345', 'evm.TU.pcontig_010.351', 'evm.TU.pcontig_010.352', 'evm.TU.pcontig_010.353', 'evm.TU.pcontig_010.376', 'evm.TU.pcontig_010.65', 'evm.TU.pcontig_010.73', 'evm.TU.pcontig_010.74', 'evm.TU.pcontig_010.89', 'evm.TU.pcontig_011.14', 'evm.TU.pcontig_011.142', 'evm.TU.pcontig_011.143', 'evm.TU.pcontig_011.147', 'evm.TU.pcontig_011.148', 'evm.TU.pcontig_011.153', 'evm.TU.pcontig_011.209', 'evm.TU.pcontig_011.210', 'evm.TU.pcontig_011.238', 'evm.TU.pcontig_011.241', 'evm.TU.pcontig_011.242', 'evm.TU.pcontig_011.263', 'evm.TU.pcontig_011.269', 'evm.TU.pcontig_011.292', 'evm.TU.pcontig_011.326', 'evm.TU.pcontig_011.347', 'evm.TU.pcontig_011.364', 'evm.TU.pcontig_011.71', 'evm.TU.pcontig_012.101', 'evm.TU.pcontig_012.122', 'evm.TU.pcontig_012.136', 'evm.TU.pcontig_012.138', 'evm.TU.pcontig_012.175', 'evm.TU.pcontig_012.176', 'evm.TU.pcontig_012.177', 'evm.TU.pcontig_012.233', 'evm.TU.pcontig_012.238', 'evm.TU.pcontig_012.246', 'evm.TU.pcontig_012.266', 'evm.TU.pcontig_012.280', 'evm.TU.pcontig_012.281', 'evm.TU.pcontig_012.293', 'evm.TU.pcontig_012.296', 'evm.TU.pcontig_012.366', 'evm.TU.pcontig_012.4', 'evm.TU.pcontig_012.52', 'evm.TU.pcontig_012.58', 'evm.TU.pcontig_012.61', 'evm.TU.pcontig_012.63', 'evm.TU.pcontig_012.85', 'evm.TU.pcontig_013.124', 'evm.TU.pcontig_013.126', 'evm.TU.pcontig_013.139', 'evm.TU.pcontig_013.140', 'evm.TU.pcontig_013.152', 'evm.TU.pcontig_013.156', 'evm.TU.pcontig_013.157', 'evm.TU.pcontig_013.162', 'evm.TU.pcontig_013.164', 'evm.TU.pcontig_013.166', 'evm.TU.pcontig_013.210', 'evm.TU.pcontig_013.215', 'evm.TU.pcontig_013.216', 'evm.TU.pcontig_013.238', 'evm.TU.pcontig_013.239', 'evm.TU.pcontig_013.247', 'evm.TU.pcontig_013.279', 'evm.TU.pcontig_013.282', 'evm.TU.pcontig_013.289', 'evm.TU.pcontig_013.290', 'evm.TU.pcontig_013.311', 'evm.TU.pcontig_013.318', 'evm.TU.pcontig_013.49', 'evm.TU.pcontig_014.101', 'evm.TU.pcontig_014.113', 'evm.TU.pcontig_014.115', 'evm.TU.pcontig_014.124', 'evm.TU.pcontig_014.128', 'evm.TU.pcontig_014.131', 'evm.TU.pcontig_014.138', 'evm.TU.pcontig_014.142', 'evm.TU.pcontig_014.193', 'evm.TU.pcontig_014.22', 'evm.TU.pcontig_014.279', 'evm.TU.pcontig_014.285', 'evm.TU.pcontig_014.295', 'evm.TU.pcontig_014.66', 'evm.TU.pcontig_014.85', 'evm.TU.pcontig_015.10', 'evm.TU.pcontig_016.119', 'evm.TU.pcontig_016.150', 'evm.TU.pcontig_016.157', 'evm.TU.pcontig_016.164', 'evm.TU.pcontig_016.165', 'evm.TU.pcontig_016.175', 'evm.TU.pcontig_016.189', 'evm.TU.pcontig_016.196', 'evm.TU.pcontig_016.198', 'evm.TU.pcontig_016.64', 'evm.TU.pcontig_016.91', 'evm.TU.pcontig_017.126', 'evm.TU.pcontig_017.150', 'evm.TU.pcontig_017.151', 'evm.TU.pcontig_017.152', 'evm.TU.pcontig_017.154', 'evm.TU.pcontig_017.184', 'evm.TU.pcontig_017.196', 'evm.TU.pcontig_017.2', 'evm.TU.pcontig_017.200', 'evm.TU.pcontig_017.202', 'evm.TU.pcontig_017.224', 'evm.TU.pcontig_017.225', 'evm.TU.pcontig_017.27', 'evm.TU.pcontig_017.3', 'evm.TU.pcontig_017.322', 'evm.TU.pcontig_017.7', 'evm.TU.pcontig_017.78', 'evm.TU.pcontig_017.82', 'evm.TU.pcontig_017.84', 'evm.TU.pcontig_017.85', 'evm.TU.pcontig_017.9', 'evm.TU.pcontig_018.118', 'evm.TU.pcontig_018.127', 'evm.TU.pcontig_018.154', 'evm.TU.pcontig_018.160', 'evm.TU.pcontig_018.163', 'evm.TU.pcontig_018.164', 'evm.TU.pcontig_018.187', 'evm.TU.pcontig_018.197', 'evm.TU.pcontig_018.218', 'evm.TU.pcontig_018.270', 'evm.TU.pcontig_018.273', 'evm.TU.pcontig_018.280', 'evm.TU.pcontig_018.281', 'evm.TU.pcontig_018.283', 'evm.TU.pcontig_018.286', 'evm.TU.pcontig_018.287', 'evm.TU.pcontig_018.292', 'evm.TU.pcontig_018.303', 'evm.TU.pcontig_018.338', 'evm.TU.pcontig_018.353', 'evm.TU.pcontig_018.5', 'evm.TU.pcontig_018.6', 'evm.TU.pcontig_018.82', 'evm.TU.pcontig_019.159', 'evm.TU.pcontig_019.167', 'evm.TU.pcontig_019.168', 'evm.TU.pcontig_019.179', 'evm.TU.pcontig_019.197', 'evm.TU.pcontig_019.202', 'evm.TU.pcontig_019.231', 'evm.TU.pcontig_019.233', 'evm.TU.pcontig_019.238', 'evm.TU.pcontig_019.245', 'evm.TU.pcontig_019.25', 'evm.TU.pcontig_019.295', 'evm.TU.pcontig_019.30', 'evm.TU.pcontig_019.31', 'evm.TU.pcontig_019.310', 'evm.TU.pcontig_019.47', 'evm.TU.pcontig_019.49', 'evm.TU.pcontig_019.50', 'evm.TU.pcontig_019.57', 'evm.TU.pcontig_020.163', 'evm.TU.pcontig_020.164', 'evm.TU.pcontig_020.182', 'evm.TU.pcontig_020.183', 'evm.TU.pcontig_020.216', 'evm.TU.pcontig_020.303', 'evm.TU.pcontig_020.329', 'evm.TU.pcontig_020.39', 'evm.TU.pcontig_020.47', 'evm.TU.pcontig_020.63', 'evm.TU.pcontig_020.67', 'evm.TU.pcontig_020.79', 'evm.TU.pcontig_020.91', 'evm.TU.pcontig_021.108', 'evm.TU.pcontig_021.117', 'evm.TU.pcontig_021.128', 'evm.TU.pcontig_021.154', 'evm.TU.pcontig_021.179', 'evm.TU.pcontig_021.181', 'evm.TU.pcontig_021.197', 'evm.TU.pcontig_021.198', 'evm.TU.pcontig_021.218', 'evm.TU.pcontig_021.222', 'evm.TU.pcontig_021.253', 'evm.TU.pcontig_021.259', 'evm.TU.pcontig_021.273', 'evm.TU.pcontig_021.282', 'evm.TU.pcontig_021.288', 'evm.TU.pcontig_021.297', 'evm.TU.pcontig_021.320', 'evm.TU.pcontig_021.323', 'evm.TU.pcontig_021.341', 'evm.TU.pcontig_021.47', 'evm.TU.pcontig_021.63', 'evm.TU.pcontig_021.71', 'evm.TU.pcontig_021.78', 'evm.TU.pcontig_021.93', 'evm.TU.pcontig_021.94', 'evm.TU.pcontig_022.106', 'evm.TU.pcontig_022.114', 'evm.TU.pcontig_022.120', 'evm.TU.pcontig_022.129', 'evm.TU.pcontig_022.143', 'evm.TU.pcontig_022.153', 'evm.TU.pcontig_022.160', 'evm.TU.pcontig_022.163', 'evm.TU.pcontig_022.189', 'evm.TU.pcontig_022.194', 'evm.TU.pcontig_022.198', 'evm.TU.pcontig_022.20', 'evm.TU.pcontig_022.218', 'evm.TU.pcontig_022.222', 'evm.TU.pcontig_022.227', 'evm.TU.pcontig_022.238', 'evm.TU.pcontig_022.245', 'evm.TU.pcontig_022.261', 'evm.TU.pcontig_022.281', 'evm.TU.pcontig_022.76', 'evm.TU.pcontig_022.81', 'evm.TU.pcontig_023.10', 'evm.TU.pcontig_023.105', 'evm.TU.pcontig_023.118', 'evm.TU.pcontig_023.133', 'evm.TU.pcontig_023.158', 'evm.TU.pcontig_023.175', 'evm.TU.pcontig_023.182', 'evm.TU.pcontig_023.192', 'evm.TU.pcontig_023.212', 'evm.TU.pcontig_023.223', 'evm.TU.pcontig_023.234', 'evm.TU.pcontig_023.265', 'evm.TU.pcontig_023.5', 'evm.TU.pcontig_023.53', 'evm.TU.pcontig_023.6', 'evm.TU.pcontig_023.73', 'evm.TU.pcontig_023.88', 'evm.TU.pcontig_023.99', 'evm.TU.pcontig_024.10', 'evm.TU.pcontig_025.10', 'evm.TU.pcontig_025.121', 'evm.TU.pcontig_025.161', 'evm.TU.pcontig_025.165', 'evm.TU.pcontig_025.33', 'evm.TU.pcontig_025.75', 'evm.TU.pcontig_025.92', 'evm.TU.pcontig_026.127', 'evm.TU.pcontig_026.128', 'evm.TU.pcontig_026.142', 'evm.TU.pcontig_026.143', 'evm.TU.pcontig_026.144', 'evm.TU.pcontig_026.251', 'evm.TU.pcontig_026.262', 'evm.TU.pcontig_026.273', 'evm.TU.pcontig_026.274', 'evm.TU.pcontig_026.56', 'evm.TU.pcontig_026.58', 'evm.TU.pcontig_026.59', 'evm.TU.pcontig_026.70', 'evm.TU.pcontig_026.73', 'evm.TU.pcontig_026.74', 'evm.TU.pcontig_026.76', 'evm.TU.pcontig_027.10', 'evm.TU.pcontig_027.11', 'evm.TU.pcontig_027.132', 'evm.TU.pcontig_027.163', 'evm.TU.pcontig_027.164', 'evm.TU.pcontig_027.202', 'evm.TU.pcontig_027.205', 'evm.TU.pcontig_027.211', 'evm.TU.pcontig_027.212', 'evm.TU.pcontig_027.222', 'evm.TU.pcontig_027.248', 'evm.TU.pcontig_027.249', 'evm.TU.pcontig_027.256', 'evm.TU.pcontig_027.265', 'evm.TU.pcontig_027.41', 'evm.TU.pcontig_027.51', 'evm.TU.pcontig_027.52', 'evm.TU.pcontig_027.9', 'evm.TU.pcontig_028.113', 'evm.TU.pcontig_028.131', 'evm.TU.pcontig_028.137', 'evm.TU.pcontig_028.214', 'evm.TU.pcontig_028.215', 'evm.TU.pcontig_028.216', 'evm.TU.pcontig_028.221', 'evm.TU.pcontig_028.71', 'evm.TU.pcontig_028.9', 'evm.TU.pcontig_028.94', 'evm.TU.pcontig_029.107', 'evm.TU.pcontig_029.108', 'evm.TU.pcontig_029.113', 'evm.TU.pcontig_029.120', 'evm.TU.pcontig_029.124', 'evm.TU.pcontig_029.139', 'evm.TU.pcontig_029.140', 'evm.TU.pcontig_029.205', 'evm.TU.pcontig_029.231', 'evm.TU.pcontig_029.34', 'evm.TU.pcontig_029.38', 'evm.TU.pcontig_029.62', 'evm.TU.pcontig_029.63', 'evm.TU.pcontig_029.90', 'evm.TU.pcontig_029.92', 'evm.TU.pcontig_029.97', 'evm.TU.pcontig_030.121', 'evm.TU.pcontig_030.175', 'evm.TU.pcontig_030.181', 'evm.TU.pcontig_030.182', 'evm.TU.pcontig_030.240', 'evm.TU.pcontig_030.256', 'evm.TU.pcontig_030.276', 'evm.TU.pcontig_030.34', 'evm.TU.pcontig_030.54', 'evm.TU.pcontig_030.55', 'evm.TU.pcontig_030.66', 'evm.TU.pcontig_030.69', 'evm.TU.pcontig_031.110', 'evm.TU.pcontig_031.113', 'evm.TU.pcontig_031.122', 'evm.TU.pcontig_031.123', 'evm.TU.pcontig_031.159', 'evm.TU.pcontig_031.164', 'evm.TU.pcontig_031.165', 'evm.TU.pcontig_031.167', 'evm.TU.pcontig_031.169', 'evm.TU.pcontig_031.170', 'evm.TU.pcontig_031.174', 'evm.TU.pcontig_031.184', 'evm.TU.pcontig_031.187', 'evm.TU.pcontig_031.189', 'evm.TU.pcontig_031.29', 'evm.TU.pcontig_031.60', 'evm.TU.pcontig_031.79', 'evm.TU.pcontig_031.81', 'evm.TU.pcontig_031.83', 'evm.TU.pcontig_031.88', 'evm.TU.pcontig_031.89', 'evm.TU.pcontig_031.96', 'evm.TU.pcontig_032.19', 'evm.TU.pcontig_033.143', 'evm.TU.pcontig_033.163', 'evm.TU.pcontig_033.179', 'evm.TU.pcontig_033.216', 'evm.TU.pcontig_033.221', 'evm.TU.pcontig_033.229', 'evm.TU.pcontig_033.240', 'evm.TU.pcontig_033.73', 'evm.TU.pcontig_034.113', 'evm.TU.pcontig_034.138', 'evm.TU.pcontig_034.143', 'evm.TU.pcontig_034.155', 'evm.TU.pcontig_034.169', 'evm.TU.pcontig_034.171', 'evm.TU.pcontig_034.173', 'evm.TU.pcontig_034.191', 'evm.TU.pcontig_034.193', 'evm.TU.pcontig_034.194', 'evm.TU.pcontig_034.199', 'evm.TU.pcontig_034.218', 'evm.TU.pcontig_034.227', 'evm.TU.pcontig_034.228', 'evm.TU.pcontig_034.51', 'evm.TU.pcontig_034.86', 'evm.TU.pcontig_034.89', 'evm.TU.pcontig_034.95', 'evm.TU.pcontig_035.163', 'evm.TU.pcontig_035.165', 'evm.TU.pcontig_035.166', 'evm.TU.pcontig_035.170', 'evm.TU.pcontig_035.174', 'evm.TU.pcontig_035.179', 'evm.TU.pcontig_035.191', 'evm.TU.pcontig_035.202', 'evm.TU.pcontig_035.203', 'evm.TU.pcontig_035.208', 'evm.TU.pcontig_035.216', 'evm.TU.pcontig_035.27', 'evm.TU.pcontig_035.46', 'evm.TU.pcontig_035.5', 'evm.TU.pcontig_035.50', 'evm.TU.pcontig_035.62', 'evm.TU.pcontig_035.63', 'evm.TU.pcontig_035.66', 'evm.TU.pcontig_035.67', 'evm.TU.pcontig_035.68', 'evm.TU.pcontig_035.69', 'evm.TU.pcontig_035.70', 'evm.TU.pcontig_035.80', 'evm.TU.pcontig_035.81', 'evm.TU.pcontig_035.83', 'evm.TU.pcontig_035.91', 'evm.TU.pcontig_036.154', 'evm.TU.pcontig_036.164', 'evm.TU.pcontig_036.173', 'evm.TU.pcontig_036.221', 'evm.TU.pcontig_036.29', 'evm.TU.pcontig_036.30', 'evm.TU.pcontig_036.31', 'evm.TU.pcontig_036.32', 'evm.TU.pcontig_036.43', 'evm.TU.pcontig_036.44', 'evm.TU.pcontig_036.46', 'evm.TU.pcontig_036.56', 'evm.TU.pcontig_036.57', 'evm.TU.pcontig_036.58', 'evm.TU.pcontig_036.73', 'evm.TU.pcontig_036.75', 'evm.TU.pcontig_036.81', 'evm.TU.pcontig_037.107', 'evm.TU.pcontig_037.109', 'evm.TU.pcontig_037.110', 'evm.TU.pcontig_037.111', 'evm.TU.pcontig_037.112', 'evm.TU.pcontig_037.137', 'evm.TU.pcontig_037.187', 'evm.TU.pcontig_037.200', 'evm.TU.pcontig_037.203', 'evm.TU.pcontig_037.206', 'evm.TU.pcontig_037.208', 'evm.TU.pcontig_037.215', 'evm.TU.pcontig_037.27', 'evm.TU.pcontig_037.43', 'evm.TU.pcontig_037.63', 'evm.TU.pcontig_037.70', 'evm.TU.pcontig_039.123', 'evm.TU.pcontig_039.169', 'evm.TU.pcontig_039.174', 'evm.TU.pcontig_039.175', 'evm.TU.pcontig_039.177', 'evm.TU.pcontig_039.181', 'evm.TU.pcontig_039.184', 'evm.TU.pcontig_039.28', 'evm.TU.pcontig_039.36', 'evm.TU.pcontig_039.37', 'evm.TU.pcontig_039.87', 'evm.TU.pcontig_039.97', 'evm.TU.pcontig_040.105', 'evm.TU.pcontig_040.135', 'evm.TU.pcontig_040.143', 'evm.TU.pcontig_040.148', 'evm.TU.pcontig_040.159', 'evm.TU.pcontig_040.165', 'evm.TU.pcontig_040.168', 'evm.TU.pcontig_040.176', 'evm.TU.pcontig_040.19', 'evm.TU.pcontig_040.45', 'evm.TU.pcontig_040.81', 'evm.TU.pcontig_041.104', 'evm.TU.pcontig_041.120', 'evm.TU.pcontig_041.125', 'evm.TU.pcontig_041.14', 'evm.TU.pcontig_041.147', 'evm.TU.pcontig_041.148', 'evm.TU.pcontig_041.15', 'evm.TU.pcontig_041.173', 'evm.TU.pcontig_041.174', 'evm.TU.pcontig_041.2', 'evm.TU.pcontig_041.20', 'evm.TU.pcontig_041.33', 'evm.TU.pcontig_041.38', 'evm.TU.pcontig_041.46', 'evm.TU.pcontig_041.48', 'evm.TU.pcontig_041.56', 'evm.TU.pcontig_041.98', 'evm.TU.pcontig_041.99', 'evm.TU.pcontig_042.129', 'evm.TU.pcontig_042.130', 'evm.TU.pcontig_042.179', 'evm.TU.pcontig_042.188', 'evm.TU.pcontig_042.31', 'evm.TU.pcontig_042.4', 'evm.TU.pcontig_042.66', 'evm.TU.pcontig_043.100', 'evm.TU.pcontig_043.101', 'evm.TU.pcontig_043.127', 'evm.TU.pcontig_043.14', 'evm.TU.pcontig_043.15', 'evm.TU.pcontig_043.29', 'evm.TU.pcontig_043.31', 'evm.TU.pcontig_043.63', 'evm.TU.pcontig_043.89', 'evm.TU.pcontig_044.100', 'evm.TU.pcontig_044.13', 'evm.TU.pcontig_044.130', 'evm.TU.pcontig_044.143', 'evm.TU.pcontig_044.165', 'evm.TU.pcontig_044.167', 'evm.TU.pcontig_044.168', 'evm.TU.pcontig_044.171', 'evm.TU.pcontig_044.4', 'evm.TU.pcontig_044.40', 'evm.TU.pcontig_044.64', 'evm.TU.pcontig_044.74', 'evm.TU.pcontig_044.92', 'evm.TU.pcontig_044.93', 'evm.TU.pcontig_044.99', 'evm.TU.pcontig_045.135', 'evm.TU.pcontig_045.140', 'evm.TU.pcontig_045.144', 'evm.TU.pcontig_045.148', 'evm.TU.pcontig_045.45', 'evm.TU.pcontig_045.51', 'evm.TU.pcontig_045.68', 'evm.TU.pcontig_046.113', 'evm.TU.pcontig_046.124', 'evm.TU.pcontig_046.127', 'evm.TU.pcontig_046.131', 'evm.TU.pcontig_046.159', 'evm.TU.pcontig_046.161', 'evm.TU.pcontig_046.162', 'evm.TU.pcontig_046.3', 'evm.TU.pcontig_046.35', 'evm.TU.pcontig_046.94', 'evm.TU.pcontig_046.99', 'evm.TU.pcontig_047.114', 'evm.TU.pcontig_047.141', 'evm.TU.pcontig_047.54', 'evm.TU.pcontig_047.55', 'evm.TU.pcontig_047.89', 'evm.TU.pcontig_048.109', 'evm.TU.pcontig_048.111', 'evm.TU.pcontig_048.112', 'evm.TU.pcontig_048.65', 'evm.TU.pcontig_049.130', 'evm.TU.pcontig_049.133', 'evm.TU.pcontig_049.139', 'evm.TU.pcontig_049.150', 'evm.TU.pcontig_049.38', 'evm.TU.pcontig_049.4', 'evm.TU.pcontig_049.42', 'evm.TU.pcontig_049.58', 'evm.TU.pcontig_049.69', 'evm.TU.pcontig_049.75', 'evm.TU.pcontig_049.79', 'evm.TU.pcontig_050.102', 'evm.TU.pcontig_050.122', 'evm.TU.pcontig_050.134', 'evm.TU.pcontig_050.19', 'evm.TU.pcontig_050.3', 'evm.TU.pcontig_050.69', 'evm.TU.pcontig_050.77', 'evm.TU.pcontig_050.92', 'evm.TU.pcontig_051.48', 'evm.TU.pcontig_051.51', 'evm.TU.pcontig_052.152', 'evm.TU.pcontig_052.170', 'evm.TU.pcontig_052.54', 'evm.TU.pcontig_052.57', 'evm.TU.pcontig_052.58', 'evm.TU.pcontig_052.8', 'evm.TU.pcontig_054.116', 'evm.TU.pcontig_054.119', 'evm.TU.pcontig_054.52', 'evm.TU.pcontig_054.58', 'evm.TU.pcontig_054.59', 'evm.TU.pcontig_054.66', 'evm.TU.pcontig_054.88', 'evm.TU.pcontig_054.89', 'evm.TU.pcontig_054.91', 'evm.TU.pcontig_055.16', 'evm.TU.pcontig_055.17', 'evm.TU.pcontig_055.28', 'evm.TU.pcontig_055.31', 'evm.TU.pcontig_055.8', 'evm.TU.pcontig_056.33', 'evm.TU.pcontig_056.42', 'evm.TU.pcontig_056.46', 'evm.TU.pcontig_056.58', 'evm.TU.pcontig_056.59', 'evm.TU.pcontig_056.82', 'evm.TU.pcontig_056.83', 'evm.TU.pcontig_057.106', 'evm.TU.pcontig_057.107', 'evm.TU.pcontig_057.120', 'evm.TU.pcontig_057.51', 'evm.TU.pcontig_057.61', 'evm.TU.pcontig_057.65', 'evm.TU.pcontig_057.66', 'evm.TU.pcontig_057.73', 'evm.TU.pcontig_057.76', 'evm.TU.pcontig_057.77', 'evm.TU.pcontig_057.82', 'evm.TU.pcontig_058.21', 'evm.TU.pcontig_058.22', 'evm.TU.pcontig_058.23', 'evm.TU.pcontig_058.64', 'evm.TU.pcontig_058.72', 'evm.TU.pcontig_059.100', 'evm.TU.pcontig_059.118', 'evm.TU.pcontig_059.123', 'evm.TU.pcontig_059.13', 'evm.TU.pcontig_059.17', 'evm.TU.pcontig_059.21', 'evm.TU.pcontig_059.33', 'evm.TU.pcontig_059.50', 'evm.TU.pcontig_059.58', 'evm.TU.pcontig_059.65', 'evm.TU.pcontig_059.67', 'evm.TU.pcontig_059.78', 'evm.TU.pcontig_059.79', 'evm.TU.pcontig_059.93', 'evm.TU.pcontig_060.10', 'evm.TU.pcontig_060.11', 'evm.TU.pcontig_060.14', 'evm.TU.pcontig_060.37', 'evm.TU.pcontig_060.94', 'evm.TU.pcontig_060.95', 'evm.TU.pcontig_060.96', 'evm.TU.pcontig_060.97', 'evm.TU.pcontig_062.10', 'evm.TU.pcontig_062.104', 'evm.TU.pcontig_062.15', 'evm.TU.pcontig_062.23', 'evm.TU.pcontig_062.26', 'evm.TU.pcontig_062.32', 'evm.TU.pcontig_062.45', 'evm.TU.pcontig_062.50', 'evm.TU.pcontig_062.61', 'evm.TU.pcontig_062.72', 'evm.TU.pcontig_062.78', 'evm.TU.pcontig_062.79', 'evm.TU.pcontig_062.84', 'evm.TU.pcontig_064.39', 'evm.TU.pcontig_064.41', 'evm.TU.pcontig_064.42', 'evm.TU.pcontig_065.36', 'evm.TU.pcontig_065.77', 'evm.TU.pcontig_066.1', 'evm.TU.pcontig_066.15', 'evm.TU.pcontig_066.53', 'evm.TU.pcontig_066.71', 'evm.TU.pcontig_066.73', 'evm.TU.pcontig_066.98', 'evm.TU.pcontig_067.100', 'evm.TU.pcontig_067.20', 'evm.TU.pcontig_067.39', 'evm.TU.pcontig_067.43', 'evm.TU.pcontig_067.45', 'evm.TU.pcontig_067.57', 'evm.TU.pcontig_067.93', 'evm.TU.pcontig_068.5', 'evm.TU.pcontig_068.8', 'evm.TU.pcontig_069.3', 'evm.TU.pcontig_069.38', 'evm.TU.pcontig_070.1', 'evm.TU.pcontig_070.20', 'evm.TU.pcontig_070.22', 'evm.TU.pcontig_070.24', 'evm.TU.pcontig_070.71', 'evm.TU.pcontig_070.73', 'evm.TU.pcontig_072.78', 'evm.TU.pcontig_073.14', 'evm.TU.pcontig_073.15', 'evm.TU.pcontig_073.4', 'evm.TU.pcontig_073.45', 'evm.TU.pcontig_073.54', 'evm.TU.pcontig_073.55', 'evm.TU.pcontig_073.8', 'evm.TU.pcontig_074.20', 'evm.TU.pcontig_075.10', 'evm.TU.pcontig_077.1', 'evm.TU.pcontig_077.13', 'evm.TU.pcontig_077.44', 'evm.TU.pcontig_077.55', 'evm.TU.pcontig_078.1', 'evm.TU.pcontig_078.2', 'evm.TU.pcontig_078.33', 'evm.TU.pcontig_078.34', 'evm.TU.pcontig_078.38', 'evm.TU.pcontig_078.45', 'evm.TU.pcontig_078.48', 'evm.TU.pcontig_078.60', 'evm.TU.pcontig_078.66', 'evm.TU.pcontig_078.67', 'evm.TU.pcontig_078.71', 'evm.TU.pcontig_080.23', 'evm.TU.pcontig_080.26', 'evm.TU.pcontig_080.29', 'evm.TU.pcontig_080.30', 'evm.TU.pcontig_080.46', 'evm.TU.pcontig_080.57', 'evm.TU.pcontig_080.58', 'evm.TU.pcontig_081.24', 'evm.TU.pcontig_081.30', 'evm.TU.pcontig_081.52', 'evm.TU.pcontig_081.53', 'evm.TU.pcontig_081.60', 'evm.TU.pcontig_081.62', 'evm.TU.pcontig_082.54', 'evm.TU.pcontig_083.37', 'evm.TU.pcontig_083.49', 'evm.TU.pcontig_084.9', 'evm.TU.pcontig_086.22', 'evm.TU.pcontig_086.52', 'evm.TU.pcontig_087.16', 'evm.TU.pcontig_087.6', 'evm.TU.pcontig_087.7', 'evm.TU.pcontig_088.33', 'evm.TU.pcontig_088.49', 'evm.TU.pcontig_088.55', 'evm.TU.pcontig_089.21', 'evm.TU.pcontig_089.47', 'evm.TU.pcontig_090.13', 'evm.TU.pcontig_091.46', 'evm.TU.pcontig_091.47', 'evm.TU.pcontig_091.55', 'evm.TU.pcontig_092.34', 'evm.TU.pcontig_092.7', 'evm.TU.pcontig_092.8', 'evm.TU.pcontig_095.44', 'evm.TU.pcontig_097.21', 'evm.TU.pcontig_100.29', 'evm.TU.pcontig_100.35', 'evm.TU.pcontig_100.42', 'evm.TU.pcontig_103.12', 'evm.TU.pcontig_103.22', 'evm.TU.pcontig_103.24', 'evm.TU.pcontig_103.6', 'evm.TU.pcontig_103.8', 'evm.TU.pcontig_104.33', 'evm.TU.pcontig_104.47', 'evm.TU.pcontig_112.1', 'evm.TU.pcontig_115.25', 'evm.TU.pcontig_120.23', 'evm.TU.pcontig_130.20', 'evm.TU.pcontig_130.9', 'evm.TU.pcontig_147.9', 'evm.TU.pcontig_148.11', 'evm.TU.pcontig_148.9', 'evm.TU.pcontig_149.10', 'evm.TU.pcontig_157.3', 'evm.TU.pcontig_157.4', 'evm.TU.pcontig_157.8', 'evm.TU.pcontig_165.8', 'evm.TU.pcontig_170.3', 'evm.TU.pcontig_173.4', 'evm.TU.pcontig_173.5', 'evm.TU.pcontig_174.1', 'evm.TU.pcontig_181.9', 'evm.TU.pcontig_186.2', 'evm.TU.pcontig_186.6', 'evm.TU.pcontig_186.7', 'evm.TU.pcontig_186.9', 'evm.TU.pcontig_188.5', 'evm.TU.pcontig_188.6', 'evm.TU.pcontig_189.7', 'evm.TU.pcontig_203.5', 'evm.TU.pcontig_203.6', 'evm.TU.pcontig_207.1', 'evm.TU.pcontig_233.6', 'evm.TU.pcontig_235.7']\n"
     ]
    }
   ],
   "source": [
    "# Sort effector list\n",
    "effectors.sort()\n",
    "print(effectors) # Check if sorting worked (it did)"
   ]
  },
  {
   "cell_type": "code",
   "execution_count": 276,
   "metadata": {},
   "outputs": [],
   "source": [
    "# Run the function to make a file of effectors\n",
    "genes_only_fn = '/home/anjuni/analysis/gff_output/Pst_104E_v13_ph_ctg.anno.sorted.genes_only.gff3'\n",
    "effector_fn  = '/home/anjuni/analysis/input_for_windows/Pst_104E_v13_ph_ctg.effectors.gff3'\n",
    "make_effector_gff(effectors, genes_only_fn, effector_fn)"
   ]
  },
  {
   "cell_type": "code",
   "execution_count": 846,
   "metadata": {},
   "outputs": [],
   "source": [
    "# Make a file of genes only\n",
    "!cp /home/anjuni/analysis/gff_output/Pst_104E_v13_ph_ctg.anno.sorted.genes_only.gff3 /home/anjuni/analysis/coverage/feature_files"
   ]
  },
  {
   "cell_type": "code",
   "execution_count": null,
   "metadata": {},
   "outputs": [],
   "source": [
    "# Move the effector file and all gene annotation files to the feature file directory"
   ]
  },
  {
   "cell_type": "code",
   "execution_count": 865,
   "metadata": {},
   "outputs": [],
   "source": [
    "# set filepaths for feature inputs\n",
    "DIRS['FEATURES'] = os.path.join(DIRS['BASE2'], 'coverage', 'feature_files')\n",
    "DIRS['RAND'] = os.path.join(DIRS['BASE2'], 'coverage', 'randomisation')"
   ]
  },
  {
   "cell_type": "code",
   "execution_count": 849,
   "metadata": {},
   "outputs": [],
   "source": [
    "%%bash\n",
    "# Make a file of non-effector genes only\n",
    "cd /home/anjuni/analysis/coverage/feature_files\n",
    "subtractBed -a Pst_104E_v13_ph_ctg.anno.sorted.genes_only.gff3 -b Pst_104E_v13_ph_ctg.effectors.gff3 > Pst_104E_v13_ph_ctg.non_effectors.gff3"
   ]
  },
  {
   "cell_type": "code",
   "execution_count": 851,
   "metadata": {},
   "outputs": [],
   "source": [
    "%%bash\n",
    "# Make a file of exons only and non-genes\n",
    "cd /home/anjuni/analysis/coverage/feature_files\n",
    "grep 'exon' Pst_104E_v13_ph_ctg.anno.sorted.gff3 > Pst_104E_v13_ph_ctg.anno.sorted.exons_only.gff3\n",
    "grep -v 'gene' Pst_104E_v13_ph_ctg.anno.sorted.gff3 > Pst_104E_v13_ph_ctg.anno.sorted.non_genes.gff3"
   ]
  },
  {
   "cell_type": "markdown",
   "metadata": {},
   "source": [
    "### TE files notes\n",
    "\n",
    "- files present for p, h and combined ph contigs\n",
    "- sf = superfamily"
   ]
  },
  {
   "cell_type": "code",
   "execution_count": 1270,
   "metadata": {},
   "outputs": [],
   "source": [
    "# Read in the superfamily file as a pandas dataframe\n",
    "te_sf_fn_p = os.path.join(DIRS['BASE2'], 'gff_output', 'Pst_104E_v13_p_ctg.REPET.sorted.filtered.superfamily.gff')\n",
    "te_sf_fn_ph = os.path.join(DIRS['BASE2'], 'gff_output', 'Pst_104E_v13_p_ctg.REPET.sorted.filtered.superfamily.gff')\n",
    "te_sf_fn_h = os.path.join(DIRS['BASE2'], 'gff_output', 'Pst_104E_v13_p_ctg.REPET.sorted.filtered.superfamily.gff')\n",
    "te_sf_names = ['Contig', 'Source', 'Type', 'Start', 'Stop', 'Value', 'Strand', 'Space', 'Superfamily']\n",
    "\n",
    "te_sf_df_p = pd.read_csv(te_sf_fn_p, sep='\\t', header = None, names = te_sf_names)\n",
    "te_sf_df_ph = pd.read_csv(te_sf_fn_ph, sep='\\t', header = None, names = te_sf_names)\n",
    "te_sf_df_h = pd.read_csv(te_sf_fn_h, sep='\\t', header = None, names = te_sf_names)"
   ]
  },
  {
   "cell_type": "code",
   "execution_count": 1271,
   "metadata": {
    "scrolled": true
   },
   "outputs": [
    {
     "data": {
      "text/html": [
       "<div>\n",
       "<style scoped>\n",
       "    .dataframe tbody tr th:only-of-type {\n",
       "        vertical-align: middle;\n",
       "    }\n",
       "\n",
       "    .dataframe tbody tr th {\n",
       "        vertical-align: top;\n",
       "    }\n",
       "\n",
       "    .dataframe thead th {\n",
       "        text-align: right;\n",
       "    }\n",
       "</style>\n",
       "<table border=\"1\" class=\"dataframe\">\n",
       "  <thead>\n",
       "    <tr style=\"text-align: right;\">\n",
       "      <th></th>\n",
       "      <th>Contig</th>\n",
       "      <th>Source</th>\n",
       "      <th>Type</th>\n",
       "      <th>Start</th>\n",
       "      <th>Stop</th>\n",
       "      <th>Value</th>\n",
       "      <th>Strand</th>\n",
       "      <th>Space</th>\n",
       "      <th>Superfamily</th>\n",
       "    </tr>\n",
       "  </thead>\n",
       "  <tbody>\n",
       "    <tr>\n",
       "      <th>0</th>\n",
       "      <td>pcontig_000</td>\n",
       "      <td>Pst79p_anno_REPET_TEs</td>\n",
       "      <td>match</td>\n",
       "      <td>4244</td>\n",
       "      <td>4312</td>\n",
       "      <td>0.0</td>\n",
       "      <td>+</td>\n",
       "      <td>.</td>\n",
       "      <td>ClassII:MITE:?</td>\n",
       "    </tr>\n",
       "    <tr>\n",
       "      <th>1</th>\n",
       "      <td>pcontig_000</td>\n",
       "      <td>Pst79p_anno_REPET_TEs</td>\n",
       "      <td>match</td>\n",
       "      <td>10017</td>\n",
       "      <td>10551</td>\n",
       "      <td>0.0</td>\n",
       "      <td>-</td>\n",
       "      <td>.</td>\n",
       "      <td>ClassI:LTR:?</td>\n",
       "    </tr>\n",
       "    <tr>\n",
       "      <th>2</th>\n",
       "      <td>pcontig_000</td>\n",
       "      <td>Pst79p_anno_REPET_TEs</td>\n",
       "      <td>match</td>\n",
       "      <td>10552</td>\n",
       "      <td>10574</td>\n",
       "      <td>0.0</td>\n",
       "      <td>-</td>\n",
       "      <td>.</td>\n",
       "      <td>ClassI:LTR:?</td>\n",
       "    </tr>\n",
       "    <tr>\n",
       "      <th>3</th>\n",
       "      <td>pcontig_000</td>\n",
       "      <td>Pst79p_anno_REPET_TEs</td>\n",
       "      <td>match</td>\n",
       "      <td>14601</td>\n",
       "      <td>14785</td>\n",
       "      <td>0.0</td>\n",
       "      <td>-</td>\n",
       "      <td>.</td>\n",
       "      <td>ClassII:?:?</td>\n",
       "    </tr>\n",
       "    <tr>\n",
       "      <th>4</th>\n",
       "      <td>pcontig_000</td>\n",
       "      <td>Pst79p_anno_REPET_tblastx</td>\n",
       "      <td>match</td>\n",
       "      <td>14603</td>\n",
       "      <td>14784</td>\n",
       "      <td>0.0</td>\n",
       "      <td>-</td>\n",
       "      <td>.</td>\n",
       "      <td>ClassII:?:?</td>\n",
       "    </tr>\n",
       "  </tbody>\n",
       "</table>\n",
       "</div>"
      ],
      "text/plain": [
       "        Contig                     Source   Type  Start   Stop  Value Strand  \\\n",
       "0  pcontig_000      Pst79p_anno_REPET_TEs  match   4244   4312    0.0      +   \n",
       "1  pcontig_000      Pst79p_anno_REPET_TEs  match  10017  10551    0.0      -   \n",
       "2  pcontig_000      Pst79p_anno_REPET_TEs  match  10552  10574    0.0      -   \n",
       "3  pcontig_000      Pst79p_anno_REPET_TEs  match  14601  14785    0.0      -   \n",
       "4  pcontig_000  Pst79p_anno_REPET_tblastx  match  14603  14784    0.0      -   \n",
       "\n",
       "  Space     Superfamily  \n",
       "0     .  ClassII:MITE:?  \n",
       "1     .    ClassI:LTR:?  \n",
       "2     .    ClassI:LTR:?  \n",
       "3     .     ClassII:?:?  \n",
       "4     .     ClassII:?:?  "
      ]
     },
     "execution_count": 1271,
     "metadata": {},
     "output_type": "execute_result"
    }
   ],
   "source": [
    "te_sf_df_ph.head()"
   ]
  },
  {
   "cell_type": "code",
   "execution_count": null,
   "metadata": {},
   "outputs": [],
   "source": [
    "# write a function that loops over the last column in the data frame to make a list"
   ]
  },
  {
   "cell_type": "code",
   "execution_count": 1388,
   "metadata": {},
   "outputs": [],
   "source": [
    "#Test to make a list of all sf\n",
    "def make_superfamily_list(df):\n",
    "    \"\"\"Goes through dataframe and makes a list of all unique TE superfamily names.\"\"\"\n",
    "    superfamilies = []\n",
    "    for sf in df['Superfamily']:\n",
    "        if sf not in superfamilies:\n",
    "            superfamilies.append(sf)\n",
    "    return superfamilies"
   ]
  },
  {
   "cell_type": "code",
   "execution_count": 1391,
   "metadata": {},
   "outputs": [],
   "source": [
    "te_sf_list_ph = make_superfamily_list(te_sf_df_ph)"
   ]
  },
  {
   "cell_type": "code",
   "execution_count": 1399,
   "metadata": {},
   "outputs": [],
   "source": [
    "# write a function to loop over sf list and make a gff file for each superfamily\n",
    "# these gff files will be used for window coverage analysis later\n",
    "def filter_superfamilies(df, sf_list):\n",
    "    \"\"\"Filter out the TE's by their superfamily into separate files.\"\"\"\n",
    "    sf_dict = {}\n",
    "    for sf in sf_list:\n",
    "        filter_list = [sf]\n",
    "        filtered_df = df[df['Superfamily'].isin(filter_list)]\n",
    "        sf_dict[sf] = filtered_df\n",
    "    return sf_dict"
   ]
  },
  {
   "cell_type": "code",
   "execution_count": 1400,
   "metadata": {},
   "outputs": [],
   "source": [
    "te_sf_dict_ph = filter_superfamilies(te_sf_df_ph, te_sf_list_ph)"
   ]
  },
  {
   "cell_type": "code",
   "execution_count": 1415,
   "metadata": {},
   "outputs": [],
   "source": [
    "# save out the dataframes in the dictionary as gff files\n",
    "for key, value in te_sf_dict_ph.items():\n",
    "    fn = 'Pst_104E_v13_ph_ctg.' + key + '.gff3'\n",
    "    out_fn = os.path.join(DIRS['COVERAGE'], 'superfamily_files', fn)\n",
    "    te_sf_dict_ph[key].to_csv(out_fn, sep='\\t', header=None, index=None)"
   ]
  },
  {
   "cell_type": "markdown",
   "metadata": {},
   "source": [
    "### <span style='color:#148aff'> 5.B Making dicts of feature file of effector proteins, non-effectors, genes, exons and TE superfamilies. <span/>"
   ]
  },
  {
   "cell_type": "code",
   "execution_count": 863,
   "metadata": {},
   "outputs": [],
   "source": [
    "# Make filepaths for feature files for genes, effectors, TE, methylation and randomised files for methylation.\n",
    "feature_files = [fn for fn in glob.iglob('%s/*' % DIRS['FEATURES'], recursive=True)]\n",
    "feature_fn_dict = file_name_dict(feature_files)"
   ]
  },
  {
   "cell_type": "code",
   "execution_count": 853,
   "metadata": {
    "collapsed": true
   },
   "outputs": [
    {
     "name": "stdout",
     "output_type": "stream",
     "text": [
      "{'5mC_hc_tombo_sorted.cutoff.0.00.bed': '/home/anjuni/analysis/coverage/feature_files/5mC_hc_tombo_sorted.cutoff.0.00.bed',\n",
      " '5mC_hc_tombo_sorted.cutoff.0.10.bed': '/home/anjuni/analysis/coverage/feature_files/5mC_hc_tombo_sorted.cutoff.0.10.bed',\n",
      " '5mC_hc_tombo_sorted.cutoff.0.20.bed': '/home/anjuni/analysis/coverage/feature_files/5mC_hc_tombo_sorted.cutoff.0.20.bed',\n",
      " '5mC_hc_tombo_sorted.cutoff.0.30.bed': '/home/anjuni/analysis/coverage/feature_files/5mC_hc_tombo_sorted.cutoff.0.30.bed',\n",
      " '5mC_hc_tombo_sorted.cutoff.0.40.bed': '/home/anjuni/analysis/coverage/feature_files/5mC_hc_tombo_sorted.cutoff.0.40.bed',\n",
      " '5mC_hc_tombo_sorted.cutoff.0.50.bed': '/home/anjuni/analysis/coverage/feature_files/5mC_hc_tombo_sorted.cutoff.0.50.bed',\n",
      " '5mC_hc_tombo_sorted.cutoff.0.60.bed': '/home/anjuni/analysis/coverage/feature_files/5mC_hc_tombo_sorted.cutoff.0.60.bed',\n",
      " '5mC_hc_tombo_sorted.cutoff.0.70.bed': '/home/anjuni/analysis/coverage/feature_files/5mC_hc_tombo_sorted.cutoff.0.70.bed',\n",
      " '5mC_hc_tombo_sorted.cutoff.0.80.bed': '/home/anjuni/analysis/coverage/feature_files/5mC_hc_tombo_sorted.cutoff.0.80.bed',\n",
      " '5mC_hc_tombo_sorted.cutoff.0.90.bed': '/home/anjuni/analysis/coverage/feature_files/5mC_hc_tombo_sorted.cutoff.0.90.bed',\n",
      " '5mC_hc_tombo_sorted.cutoff.0.95.bed': '/home/anjuni/analysis/coverage/feature_files/5mC_hc_tombo_sorted.cutoff.0.95.bed',\n",
      " '5mC_hc_tombo_sorted.cutoff.0.99.bed': '/home/anjuni/analysis/coverage/feature_files/5mC_hc_tombo_sorted.cutoff.0.99.bed',\n",
      " '5mC_hc_tombo_sorted.cutoff.1.00.bed': '/home/anjuni/analysis/coverage/feature_files/5mC_hc_tombo_sorted.cutoff.1.00.bed',\n",
      " '5mC_tombo_nanopolish.cutoff.0.00.bed': '/home/anjuni/analysis/coverage/feature_files/5mC_tombo_nanopolish.cutoff.0.00.bed',\n",
      " '5mC_tombo_nanopolish.cutoff.0.10.bed': '/home/anjuni/analysis/coverage/feature_files/5mC_tombo_nanopolish.cutoff.0.10.bed',\n",
      " '5mC_tombo_nanopolish.cutoff.0.20.bed': '/home/anjuni/analysis/coverage/feature_files/5mC_tombo_nanopolish.cutoff.0.20.bed',\n",
      " '5mC_tombo_nanopolish.cutoff.0.30.bed': '/home/anjuni/analysis/coverage/feature_files/5mC_tombo_nanopolish.cutoff.0.30.bed',\n",
      " '5mC_tombo_nanopolish.cutoff.0.40.bed': '/home/anjuni/analysis/coverage/feature_files/5mC_tombo_nanopolish.cutoff.0.40.bed',\n",
      " '5mC_tombo_nanopolish.cutoff.0.50.bed': '/home/anjuni/analysis/coverage/feature_files/5mC_tombo_nanopolish.cutoff.0.50.bed',\n",
      " '5mC_tombo_nanopolish.cutoff.0.60.bed': '/home/anjuni/analysis/coverage/feature_files/5mC_tombo_nanopolish.cutoff.0.60.bed',\n",
      " '5mC_tombo_nanopolish.cutoff.0.70.bed': '/home/anjuni/analysis/coverage/feature_files/5mC_tombo_nanopolish.cutoff.0.70.bed',\n",
      " '5mC_tombo_nanopolish.cutoff.0.80.bed': '/home/anjuni/analysis/coverage/feature_files/5mC_tombo_nanopolish.cutoff.0.80.bed',\n",
      " '5mC_tombo_nanopolish.cutoff.0.90.bed': '/home/anjuni/analysis/coverage/feature_files/5mC_tombo_nanopolish.cutoff.0.90.bed',\n",
      " '5mC_tombo_nanopolish.cutoff.0.95.bed': '/home/anjuni/analysis/coverage/feature_files/5mC_tombo_nanopolish.cutoff.0.95.bed',\n",
      " '5mC_tombo_nanopolish.cutoff.0.99.bed': '/home/anjuni/analysis/coverage/feature_files/5mC_tombo_nanopolish.cutoff.0.99.bed',\n",
      " '5mC_tombo_nanopolish.cutoff.1.00.bed': '/home/anjuni/analysis/coverage/feature_files/5mC_tombo_nanopolish.cutoff.1.00.bed',\n",
      " '6mA_hc_tombo_sorted.cutoff.0.00.bed': '/home/anjuni/analysis/coverage/feature_files/6mA_hc_tombo_sorted.cutoff.0.00.bed',\n",
      " '6mA_hc_tombo_sorted.cutoff.0.10.bed': '/home/anjuni/analysis/coverage/feature_files/6mA_hc_tombo_sorted.cutoff.0.10.bed',\n",
      " '6mA_hc_tombo_sorted.cutoff.0.20.bed': '/home/anjuni/analysis/coverage/feature_files/6mA_hc_tombo_sorted.cutoff.0.20.bed',\n",
      " '6mA_hc_tombo_sorted.cutoff.0.30.bed': '/home/anjuni/analysis/coverage/feature_files/6mA_hc_tombo_sorted.cutoff.0.30.bed',\n",
      " '6mA_hc_tombo_sorted.cutoff.0.40.bed': '/home/anjuni/analysis/coverage/feature_files/6mA_hc_tombo_sorted.cutoff.0.40.bed',\n",
      " '6mA_hc_tombo_sorted.cutoff.0.50.bed': '/home/anjuni/analysis/coverage/feature_files/6mA_hc_tombo_sorted.cutoff.0.50.bed',\n",
      " '6mA_hc_tombo_sorted.cutoff.0.60.bed': '/home/anjuni/analysis/coverage/feature_files/6mA_hc_tombo_sorted.cutoff.0.60.bed',\n",
      " '6mA_hc_tombo_sorted.cutoff.0.70.bed': '/home/anjuni/analysis/coverage/feature_files/6mA_hc_tombo_sorted.cutoff.0.70.bed',\n",
      " '6mA_hc_tombo_sorted.cutoff.0.80.bed': '/home/anjuni/analysis/coverage/feature_files/6mA_hc_tombo_sorted.cutoff.0.80.bed',\n",
      " '6mA_hc_tombo_sorted.cutoff.0.90.bed': '/home/anjuni/analysis/coverage/feature_files/6mA_hc_tombo_sorted.cutoff.0.90.bed',\n",
      " '6mA_hc_tombo_sorted.cutoff.0.95.bed': '/home/anjuni/analysis/coverage/feature_files/6mA_hc_tombo_sorted.cutoff.0.95.bed',\n",
      " '6mA_hc_tombo_sorted.cutoff.0.99.bed': '/home/anjuni/analysis/coverage/feature_files/6mA_hc_tombo_sorted.cutoff.0.99.bed',\n",
      " '6mA_hc_tombo_sorted.cutoff.1.00.bed': '/home/anjuni/analysis/coverage/feature_files/6mA_hc_tombo_sorted.cutoff.1.00.bed',\n",
      " '6mA_tombo_smrtlink.cutoff.0.00.bed': '/home/anjuni/analysis/coverage/feature_files/6mA_tombo_smrtlink.cutoff.0.00.bed',\n",
      " '6mA_tombo_smrtlink.cutoff.0.10.bed': '/home/anjuni/analysis/coverage/feature_files/6mA_tombo_smrtlink.cutoff.0.10.bed',\n",
      " '6mA_tombo_smrtlink.cutoff.0.20.bed': '/home/anjuni/analysis/coverage/feature_files/6mA_tombo_smrtlink.cutoff.0.20.bed',\n",
      " '6mA_tombo_smrtlink.cutoff.0.30.bed': '/home/anjuni/analysis/coverage/feature_files/6mA_tombo_smrtlink.cutoff.0.30.bed',\n",
      " '6mA_tombo_smrtlink.cutoff.0.40.bed': '/home/anjuni/analysis/coverage/feature_files/6mA_tombo_smrtlink.cutoff.0.40.bed',\n",
      " '6mA_tombo_smrtlink.cutoff.0.50.bed': '/home/anjuni/analysis/coverage/feature_files/6mA_tombo_smrtlink.cutoff.0.50.bed',\n",
      " '6mA_tombo_smrtlink.cutoff.0.60.bed': '/home/anjuni/analysis/coverage/feature_files/6mA_tombo_smrtlink.cutoff.0.60.bed',\n",
      " '6mA_tombo_smrtlink.cutoff.0.70.bed': '/home/anjuni/analysis/coverage/feature_files/6mA_tombo_smrtlink.cutoff.0.70.bed',\n",
      " '6mA_tombo_smrtlink.cutoff.0.80.bed': '/home/anjuni/analysis/coverage/feature_files/6mA_tombo_smrtlink.cutoff.0.80.bed',\n",
      " '6mA_tombo_smrtlink.cutoff.0.90.bed': '/home/anjuni/analysis/coverage/feature_files/6mA_tombo_smrtlink.cutoff.0.90.bed',\n",
      " '6mA_tombo_smrtlink.cutoff.0.95.bed': '/home/anjuni/analysis/coverage/feature_files/6mA_tombo_smrtlink.cutoff.0.95.bed',\n",
      " '6mA_tombo_smrtlink.cutoff.0.99.bed': '/home/anjuni/analysis/coverage/feature_files/6mA_tombo_smrtlink.cutoff.0.99.bed',\n",
      " '6mA_tombo_smrtlink.cutoff.1.00.bed': '/home/anjuni/analysis/coverage/feature_files/6mA_tombo_smrtlink.cutoff.1.00.bed',\n",
      " 'Pst_104E_v13_ph_ctg.TE.sorted.gff3': '/home/anjuni/analysis/coverage/feature_files/Pst_104E_v13_ph_ctg.TE.sorted.gff3',\n",
      " 'Pst_104E_v13_ph_ctg.anno.sorted.exons_only.gff3': '/home/anjuni/analysis/coverage/feature_files/Pst_104E_v13_ph_ctg.anno.sorted.exons_only.gff3',\n",
      " 'Pst_104E_v13_ph_ctg.anno.sorted.genes_only.gff3': '/home/anjuni/analysis/coverage/feature_files/Pst_104E_v13_ph_ctg.anno.sorted.genes_only.gff3',\n",
      " 'Pst_104E_v13_ph_ctg.anno.sorted.gff3': '/home/anjuni/analysis/coverage/feature_files/Pst_104E_v13_ph_ctg.anno.sorted.gff3',\n",
      " 'Pst_104E_v13_ph_ctg.anno.sorted.non_genes.gff3': '/home/anjuni/analysis/coverage/feature_files/Pst_104E_v13_ph_ctg.anno.sorted.non_genes.gff3',\n",
      " 'Pst_104E_v13_ph_ctg.effectors.gff3': '/home/anjuni/analysis/coverage/feature_files/Pst_104E_v13_ph_ctg.effectors.gff3',\n",
      " 'Pst_104E_v13_ph_ctg.non_effectors.gff3': '/home/anjuni/analysis/coverage/feature_files/Pst_104E_v13_ph_ctg.non_effectors.gff3'}\n"
     ]
    }
   ],
   "source": [
    "# Check whether the feature file dictionary works (it does). len = 59\n",
    "pprint.pprint(feature_fn_dict)"
   ]
  },
  {
   "cell_type": "code",
   "execution_count": null,
   "metadata": {},
   "outputs": [],
   "source": [
    "# Make dictionary of bedtools objects and check if it worked (it did!)\n",
    "feature_bed_dict = {}\n",
    "\n",
    "for key, value in feature_fn_dict.items():\n",
    "    feature_bed_dict[key] = BedTool(value)"
   ]
  },
  {
   "cell_type": "code",
   "execution_count": null,
   "metadata": {},
   "outputs": [],
   "source": [
    "pprint.pprint(feature_bed_dict)"
   ]
  },
  {
   "cell_type": "code",
   "execution_count": 867,
   "metadata": {},
   "outputs": [],
   "source": [
    "rand_files = [fn for fn in glob.iglob('%s/*' % DIRS['RAND'], recursive=True)]\n",
    "rand_fn_dict = file_name_dict(rand_files)"
   ]
  },
  {
   "cell_type": "code",
   "execution_count": 869,
   "metadata": {
    "collapsed": true
   },
   "outputs": [
    {
     "name": "stdout",
     "output_type": "stream",
     "text": [
      "{'5mC_hc_tombo_sorted.cutoff.0.00_rand.bed': '/home/anjuni/analysis/coverage/randomisation/5mC_hc_tombo_sorted.cutoff.0.00_rand.bed',\n",
      " '5mC_hc_tombo_sorted.cutoff.0.10_rand.bed': '/home/anjuni/analysis/coverage/randomisation/5mC_hc_tombo_sorted.cutoff.0.10_rand.bed',\n",
      " '5mC_hc_tombo_sorted.cutoff.0.20_rand.bed': '/home/anjuni/analysis/coverage/randomisation/5mC_hc_tombo_sorted.cutoff.0.20_rand.bed',\n",
      " '5mC_hc_tombo_sorted.cutoff.0.30_rand.bed': '/home/anjuni/analysis/coverage/randomisation/5mC_hc_tombo_sorted.cutoff.0.30_rand.bed',\n",
      " '5mC_hc_tombo_sorted.cutoff.0.40_rand.bed': '/home/anjuni/analysis/coverage/randomisation/5mC_hc_tombo_sorted.cutoff.0.40_rand.bed',\n",
      " '5mC_hc_tombo_sorted.cutoff.0.50_rand.bed': '/home/anjuni/analysis/coverage/randomisation/5mC_hc_tombo_sorted.cutoff.0.50_rand.bed',\n",
      " '5mC_hc_tombo_sorted.cutoff.0.60_rand.bed': '/home/anjuni/analysis/coverage/randomisation/5mC_hc_tombo_sorted.cutoff.0.60_rand.bed',\n",
      " '5mC_hc_tombo_sorted.cutoff.0.70_rand.bed': '/home/anjuni/analysis/coverage/randomisation/5mC_hc_tombo_sorted.cutoff.0.70_rand.bed',\n",
      " '5mC_hc_tombo_sorted.cutoff.0.80_rand.bed': '/home/anjuni/analysis/coverage/randomisation/5mC_hc_tombo_sorted.cutoff.0.80_rand.bed',\n",
      " '5mC_hc_tombo_sorted.cutoff.0.90_rand.bed': '/home/anjuni/analysis/coverage/randomisation/5mC_hc_tombo_sorted.cutoff.0.90_rand.bed',\n",
      " '5mC_hc_tombo_sorted.cutoff.0.95_rand.bed': '/home/anjuni/analysis/coverage/randomisation/5mC_hc_tombo_sorted.cutoff.0.95_rand.bed',\n",
      " '5mC_hc_tombo_sorted.cutoff.0.99_rand.bed': '/home/anjuni/analysis/coverage/randomisation/5mC_hc_tombo_sorted.cutoff.0.99_rand.bed',\n",
      " '5mC_hc_tombo_sorted.cutoff.1.00_rand.bed': '/home/anjuni/analysis/coverage/randomisation/5mC_hc_tombo_sorted.cutoff.1.00_rand.bed',\n",
      " '5mC_tombo_nanopolish.cutoff.0.00_rand.bed': '/home/anjuni/analysis/coverage/randomisation/5mC_tombo_nanopolish.cutoff.0.00_rand.bed',\n",
      " '5mC_tombo_nanopolish.cutoff.0.10_rand.bed': '/home/anjuni/analysis/coverage/randomisation/5mC_tombo_nanopolish.cutoff.0.10_rand.bed',\n",
      " '5mC_tombo_nanopolish.cutoff.0.20_rand.bed': '/home/anjuni/analysis/coverage/randomisation/5mC_tombo_nanopolish.cutoff.0.20_rand.bed',\n",
      " '5mC_tombo_nanopolish.cutoff.0.30_rand.bed': '/home/anjuni/analysis/coverage/randomisation/5mC_tombo_nanopolish.cutoff.0.30_rand.bed',\n",
      " '5mC_tombo_nanopolish.cutoff.0.40_rand.bed': '/home/anjuni/analysis/coverage/randomisation/5mC_tombo_nanopolish.cutoff.0.40_rand.bed',\n",
      " '5mC_tombo_nanopolish.cutoff.0.50_rand.bed': '/home/anjuni/analysis/coverage/randomisation/5mC_tombo_nanopolish.cutoff.0.50_rand.bed',\n",
      " '5mC_tombo_nanopolish.cutoff.0.60_rand.bed': '/home/anjuni/analysis/coverage/randomisation/5mC_tombo_nanopolish.cutoff.0.60_rand.bed',\n",
      " '5mC_tombo_nanopolish.cutoff.0.70_rand.bed': '/home/anjuni/analysis/coverage/randomisation/5mC_tombo_nanopolish.cutoff.0.70_rand.bed',\n",
      " '5mC_tombo_nanopolish.cutoff.0.80_rand.bed': '/home/anjuni/analysis/coverage/randomisation/5mC_tombo_nanopolish.cutoff.0.80_rand.bed',\n",
      " '5mC_tombo_nanopolish.cutoff.0.90_rand.bed': '/home/anjuni/analysis/coverage/randomisation/5mC_tombo_nanopolish.cutoff.0.90_rand.bed',\n",
      " '5mC_tombo_nanopolish.cutoff.0.95_rand.bed': '/home/anjuni/analysis/coverage/randomisation/5mC_tombo_nanopolish.cutoff.0.95_rand.bed',\n",
      " '5mC_tombo_nanopolish.cutoff.0.99_rand.bed': '/home/anjuni/analysis/coverage/randomisation/5mC_tombo_nanopolish.cutoff.0.99_rand.bed',\n",
      " '5mC_tombo_nanopolish.cutoff.1.00_rand.bed': '/home/anjuni/analysis/coverage/randomisation/5mC_tombo_nanopolish.cutoff.1.00_rand.bed',\n",
      " '6mA_hc_tombo_sorted.cutoff.0.00_rand.bed': '/home/anjuni/analysis/coverage/randomisation/6mA_hc_tombo_sorted.cutoff.0.00_rand.bed',\n",
      " '6mA_hc_tombo_sorted.cutoff.0.10_rand.bed': '/home/anjuni/analysis/coverage/randomisation/6mA_hc_tombo_sorted.cutoff.0.10_rand.bed',\n",
      " '6mA_hc_tombo_sorted.cutoff.0.20_rand.bed': '/home/anjuni/analysis/coverage/randomisation/6mA_hc_tombo_sorted.cutoff.0.20_rand.bed',\n",
      " '6mA_hc_tombo_sorted.cutoff.0.30_rand.bed': '/home/anjuni/analysis/coverage/randomisation/6mA_hc_tombo_sorted.cutoff.0.30_rand.bed',\n",
      " '6mA_hc_tombo_sorted.cutoff.0.40_rand.bed': '/home/anjuni/analysis/coverage/randomisation/6mA_hc_tombo_sorted.cutoff.0.40_rand.bed',\n",
      " '6mA_hc_tombo_sorted.cutoff.0.50_rand.bed': '/home/anjuni/analysis/coverage/randomisation/6mA_hc_tombo_sorted.cutoff.0.50_rand.bed',\n",
      " '6mA_hc_tombo_sorted.cutoff.0.60_rand.bed': '/home/anjuni/analysis/coverage/randomisation/6mA_hc_tombo_sorted.cutoff.0.60_rand.bed',\n",
      " '6mA_hc_tombo_sorted.cutoff.0.70_rand.bed': '/home/anjuni/analysis/coverage/randomisation/6mA_hc_tombo_sorted.cutoff.0.70_rand.bed',\n",
      " '6mA_hc_tombo_sorted.cutoff.0.80_rand.bed': '/home/anjuni/analysis/coverage/randomisation/6mA_hc_tombo_sorted.cutoff.0.80_rand.bed',\n",
      " '6mA_hc_tombo_sorted.cutoff.0.90_rand.bed': '/home/anjuni/analysis/coverage/randomisation/6mA_hc_tombo_sorted.cutoff.0.90_rand.bed',\n",
      " '6mA_hc_tombo_sorted.cutoff.0.95_rand.bed': '/home/anjuni/analysis/coverage/randomisation/6mA_hc_tombo_sorted.cutoff.0.95_rand.bed',\n",
      " '6mA_hc_tombo_sorted.cutoff.0.99_rand.bed': '/home/anjuni/analysis/coverage/randomisation/6mA_hc_tombo_sorted.cutoff.0.99_rand.bed',\n",
      " '6mA_hc_tombo_sorted.cutoff.1.00_rand.bed': '/home/anjuni/analysis/coverage/randomisation/6mA_hc_tombo_sorted.cutoff.1.00_rand.bed',\n",
      " '6mA_tombo_smrtlink.cutoff.0.00_rand.bed': '/home/anjuni/analysis/coverage/randomisation/6mA_tombo_smrtlink.cutoff.0.00_rand.bed',\n",
      " '6mA_tombo_smrtlink.cutoff.0.10_rand.bed': '/home/anjuni/analysis/coverage/randomisation/6mA_tombo_smrtlink.cutoff.0.10_rand.bed',\n",
      " '6mA_tombo_smrtlink.cutoff.0.20_rand.bed': '/home/anjuni/analysis/coverage/randomisation/6mA_tombo_smrtlink.cutoff.0.20_rand.bed',\n",
      " '6mA_tombo_smrtlink.cutoff.0.30_rand.bed': '/home/anjuni/analysis/coverage/randomisation/6mA_tombo_smrtlink.cutoff.0.30_rand.bed',\n",
      " '6mA_tombo_smrtlink.cutoff.0.40_rand.bed': '/home/anjuni/analysis/coverage/randomisation/6mA_tombo_smrtlink.cutoff.0.40_rand.bed',\n",
      " '6mA_tombo_smrtlink.cutoff.0.50_rand.bed': '/home/anjuni/analysis/coverage/randomisation/6mA_tombo_smrtlink.cutoff.0.50_rand.bed',\n",
      " '6mA_tombo_smrtlink.cutoff.0.60_rand.bed': '/home/anjuni/analysis/coverage/randomisation/6mA_tombo_smrtlink.cutoff.0.60_rand.bed',\n",
      " '6mA_tombo_smrtlink.cutoff.0.70_rand.bed': '/home/anjuni/analysis/coverage/randomisation/6mA_tombo_smrtlink.cutoff.0.70_rand.bed',\n",
      " '6mA_tombo_smrtlink.cutoff.0.80_rand.bed': '/home/anjuni/analysis/coverage/randomisation/6mA_tombo_smrtlink.cutoff.0.80_rand.bed',\n",
      " '6mA_tombo_smrtlink.cutoff.0.90_rand.bed': '/home/anjuni/analysis/coverage/randomisation/6mA_tombo_smrtlink.cutoff.0.90_rand.bed',\n",
      " '6mA_tombo_smrtlink.cutoff.0.95_rand.bed': '/home/anjuni/analysis/coverage/randomisation/6mA_tombo_smrtlink.cutoff.0.95_rand.bed',\n",
      " '6mA_tombo_smrtlink.cutoff.0.99_rand.bed': '/home/anjuni/analysis/coverage/randomisation/6mA_tombo_smrtlink.cutoff.0.99_rand.bed',\n",
      " '6mA_tombo_smrtlink.cutoff.1.00_rand.bed': '/home/anjuni/analysis/coverage/randomisation/6mA_tombo_smrtlink.cutoff.1.00_rand.bed'}\n"
     ]
    }
   ],
   "source": [
    "# Check whether the feature file dictionary works (it does). len = 59\n",
    "pprint.pprint(rand_fn_dict)"
   ]
  },
  {
   "cell_type": "code",
   "execution_count": 870,
   "metadata": {},
   "outputs": [],
   "source": [
    "# Make dictionary of bedtools objects and check if it worked (it did!)\n",
    "rand_bed_dict = {}\n",
    "\n",
    "for key, value in rand_fn_dict.items():\n",
    "    rand_bed_dict[key] = BedTool(value)"
   ]
  },
  {
   "cell_type": "code",
   "execution_count": 871,
   "metadata": {
    "collapsed": true
   },
   "outputs": [
    {
     "name": "stdout",
     "output_type": "stream",
     "text": [
      "{'5mC_hc_tombo_sorted.cutoff.0.00_rand.bed': <BedTool(/home/anjuni/analysis/coverage/randomisation/5mC_hc_tombo_sorted.cutoff.0.00_rand.bed)>,\n",
      " '5mC_hc_tombo_sorted.cutoff.0.10_rand.bed': <BedTool(/home/anjuni/analysis/coverage/randomisation/5mC_hc_tombo_sorted.cutoff.0.10_rand.bed)>,\n",
      " '5mC_hc_tombo_sorted.cutoff.0.20_rand.bed': <BedTool(/home/anjuni/analysis/coverage/randomisation/5mC_hc_tombo_sorted.cutoff.0.20_rand.bed)>,\n",
      " '5mC_hc_tombo_sorted.cutoff.0.30_rand.bed': <BedTool(/home/anjuni/analysis/coverage/randomisation/5mC_hc_tombo_sorted.cutoff.0.30_rand.bed)>,\n",
      " '5mC_hc_tombo_sorted.cutoff.0.40_rand.bed': <BedTool(/home/anjuni/analysis/coverage/randomisation/5mC_hc_tombo_sorted.cutoff.0.40_rand.bed)>,\n",
      " '5mC_hc_tombo_sorted.cutoff.0.50_rand.bed': <BedTool(/home/anjuni/analysis/coverage/randomisation/5mC_hc_tombo_sorted.cutoff.0.50_rand.bed)>,\n",
      " '5mC_hc_tombo_sorted.cutoff.0.60_rand.bed': <BedTool(/home/anjuni/analysis/coverage/randomisation/5mC_hc_tombo_sorted.cutoff.0.60_rand.bed)>,\n",
      " '5mC_hc_tombo_sorted.cutoff.0.70_rand.bed': <BedTool(/home/anjuni/analysis/coverage/randomisation/5mC_hc_tombo_sorted.cutoff.0.70_rand.bed)>,\n",
      " '5mC_hc_tombo_sorted.cutoff.0.80_rand.bed': <BedTool(/home/anjuni/analysis/coverage/randomisation/5mC_hc_tombo_sorted.cutoff.0.80_rand.bed)>,\n",
      " '5mC_hc_tombo_sorted.cutoff.0.90_rand.bed': <BedTool(/home/anjuni/analysis/coverage/randomisation/5mC_hc_tombo_sorted.cutoff.0.90_rand.bed)>,\n",
      " '5mC_hc_tombo_sorted.cutoff.0.95_rand.bed': <BedTool(/home/anjuni/analysis/coverage/randomisation/5mC_hc_tombo_sorted.cutoff.0.95_rand.bed)>,\n",
      " '5mC_hc_tombo_sorted.cutoff.0.99_rand.bed': <BedTool(/home/anjuni/analysis/coverage/randomisation/5mC_hc_tombo_sorted.cutoff.0.99_rand.bed)>,\n",
      " '5mC_hc_tombo_sorted.cutoff.1.00_rand.bed': <BedTool(/home/anjuni/analysis/coverage/randomisation/5mC_hc_tombo_sorted.cutoff.1.00_rand.bed)>,\n",
      " '5mC_tombo_nanopolish.cutoff.0.00_rand.bed': <BedTool(/home/anjuni/analysis/coverage/randomisation/5mC_tombo_nanopolish.cutoff.0.00_rand.bed)>,\n",
      " '5mC_tombo_nanopolish.cutoff.0.10_rand.bed': <BedTool(/home/anjuni/analysis/coverage/randomisation/5mC_tombo_nanopolish.cutoff.0.10_rand.bed)>,\n",
      " '5mC_tombo_nanopolish.cutoff.0.20_rand.bed': <BedTool(/home/anjuni/analysis/coverage/randomisation/5mC_tombo_nanopolish.cutoff.0.20_rand.bed)>,\n",
      " '5mC_tombo_nanopolish.cutoff.0.30_rand.bed': <BedTool(/home/anjuni/analysis/coverage/randomisation/5mC_tombo_nanopolish.cutoff.0.30_rand.bed)>,\n",
      " '5mC_tombo_nanopolish.cutoff.0.40_rand.bed': <BedTool(/home/anjuni/analysis/coverage/randomisation/5mC_tombo_nanopolish.cutoff.0.40_rand.bed)>,\n",
      " '5mC_tombo_nanopolish.cutoff.0.50_rand.bed': <BedTool(/home/anjuni/analysis/coverage/randomisation/5mC_tombo_nanopolish.cutoff.0.50_rand.bed)>,\n",
      " '5mC_tombo_nanopolish.cutoff.0.60_rand.bed': <BedTool(/home/anjuni/analysis/coverage/randomisation/5mC_tombo_nanopolish.cutoff.0.60_rand.bed)>,\n",
      " '5mC_tombo_nanopolish.cutoff.0.70_rand.bed': <BedTool(/home/anjuni/analysis/coverage/randomisation/5mC_tombo_nanopolish.cutoff.0.70_rand.bed)>,\n",
      " '5mC_tombo_nanopolish.cutoff.0.80_rand.bed': <BedTool(/home/anjuni/analysis/coverage/randomisation/5mC_tombo_nanopolish.cutoff.0.80_rand.bed)>,\n",
      " '5mC_tombo_nanopolish.cutoff.0.90_rand.bed': <BedTool(/home/anjuni/analysis/coverage/randomisation/5mC_tombo_nanopolish.cutoff.0.90_rand.bed)>,\n",
      " '5mC_tombo_nanopolish.cutoff.0.95_rand.bed': <BedTool(/home/anjuni/analysis/coverage/randomisation/5mC_tombo_nanopolish.cutoff.0.95_rand.bed)>,\n",
      " '5mC_tombo_nanopolish.cutoff.0.99_rand.bed': <BedTool(/home/anjuni/analysis/coverage/randomisation/5mC_tombo_nanopolish.cutoff.0.99_rand.bed)>,\n",
      " '5mC_tombo_nanopolish.cutoff.1.00_rand.bed': <BedTool(/home/anjuni/analysis/coverage/randomisation/5mC_tombo_nanopolish.cutoff.1.00_rand.bed)>,\n",
      " '6mA_hc_tombo_sorted.cutoff.0.00_rand.bed': <BedTool(/home/anjuni/analysis/coverage/randomisation/6mA_hc_tombo_sorted.cutoff.0.00_rand.bed)>,\n",
      " '6mA_hc_tombo_sorted.cutoff.0.10_rand.bed': <BedTool(/home/anjuni/analysis/coverage/randomisation/6mA_hc_tombo_sorted.cutoff.0.10_rand.bed)>,\n",
      " '6mA_hc_tombo_sorted.cutoff.0.20_rand.bed': <BedTool(/home/anjuni/analysis/coverage/randomisation/6mA_hc_tombo_sorted.cutoff.0.20_rand.bed)>,\n",
      " '6mA_hc_tombo_sorted.cutoff.0.30_rand.bed': <BedTool(/home/anjuni/analysis/coverage/randomisation/6mA_hc_tombo_sorted.cutoff.0.30_rand.bed)>,\n",
      " '6mA_hc_tombo_sorted.cutoff.0.40_rand.bed': <BedTool(/home/anjuni/analysis/coverage/randomisation/6mA_hc_tombo_sorted.cutoff.0.40_rand.bed)>,\n",
      " '6mA_hc_tombo_sorted.cutoff.0.50_rand.bed': <BedTool(/home/anjuni/analysis/coverage/randomisation/6mA_hc_tombo_sorted.cutoff.0.50_rand.bed)>,\n",
      " '6mA_hc_tombo_sorted.cutoff.0.60_rand.bed': <BedTool(/home/anjuni/analysis/coverage/randomisation/6mA_hc_tombo_sorted.cutoff.0.60_rand.bed)>,\n",
      " '6mA_hc_tombo_sorted.cutoff.0.70_rand.bed': <BedTool(/home/anjuni/analysis/coverage/randomisation/6mA_hc_tombo_sorted.cutoff.0.70_rand.bed)>,\n",
      " '6mA_hc_tombo_sorted.cutoff.0.80_rand.bed': <BedTool(/home/anjuni/analysis/coverage/randomisation/6mA_hc_tombo_sorted.cutoff.0.80_rand.bed)>,\n",
      " '6mA_hc_tombo_sorted.cutoff.0.90_rand.bed': <BedTool(/home/anjuni/analysis/coverage/randomisation/6mA_hc_tombo_sorted.cutoff.0.90_rand.bed)>,\n",
      " '6mA_hc_tombo_sorted.cutoff.0.95_rand.bed': <BedTool(/home/anjuni/analysis/coverage/randomisation/6mA_hc_tombo_sorted.cutoff.0.95_rand.bed)>,\n",
      " '6mA_hc_tombo_sorted.cutoff.0.99_rand.bed': <BedTool(/home/anjuni/analysis/coverage/randomisation/6mA_hc_tombo_sorted.cutoff.0.99_rand.bed)>,\n",
      " '6mA_hc_tombo_sorted.cutoff.1.00_rand.bed': <BedTool(/home/anjuni/analysis/coverage/randomisation/6mA_hc_tombo_sorted.cutoff.1.00_rand.bed)>,\n",
      " '6mA_tombo_smrtlink.cutoff.0.00_rand.bed': <BedTool(/home/anjuni/analysis/coverage/randomisation/6mA_tombo_smrtlink.cutoff.0.00_rand.bed)>,\n",
      " '6mA_tombo_smrtlink.cutoff.0.10_rand.bed': <BedTool(/home/anjuni/analysis/coverage/randomisation/6mA_tombo_smrtlink.cutoff.0.10_rand.bed)>,\n",
      " '6mA_tombo_smrtlink.cutoff.0.20_rand.bed': <BedTool(/home/anjuni/analysis/coverage/randomisation/6mA_tombo_smrtlink.cutoff.0.20_rand.bed)>,\n",
      " '6mA_tombo_smrtlink.cutoff.0.30_rand.bed': <BedTool(/home/anjuni/analysis/coverage/randomisation/6mA_tombo_smrtlink.cutoff.0.30_rand.bed)>,\n",
      " '6mA_tombo_smrtlink.cutoff.0.40_rand.bed': <BedTool(/home/anjuni/analysis/coverage/randomisation/6mA_tombo_smrtlink.cutoff.0.40_rand.bed)>,\n",
      " '6mA_tombo_smrtlink.cutoff.0.50_rand.bed': <BedTool(/home/anjuni/analysis/coverage/randomisation/6mA_tombo_smrtlink.cutoff.0.50_rand.bed)>,\n",
      " '6mA_tombo_smrtlink.cutoff.0.60_rand.bed': <BedTool(/home/anjuni/analysis/coverage/randomisation/6mA_tombo_smrtlink.cutoff.0.60_rand.bed)>,\n",
      " '6mA_tombo_smrtlink.cutoff.0.70_rand.bed': <BedTool(/home/anjuni/analysis/coverage/randomisation/6mA_tombo_smrtlink.cutoff.0.70_rand.bed)>,\n",
      " '6mA_tombo_smrtlink.cutoff.0.80_rand.bed': <BedTool(/home/anjuni/analysis/coverage/randomisation/6mA_tombo_smrtlink.cutoff.0.80_rand.bed)>,\n",
      " '6mA_tombo_smrtlink.cutoff.0.90_rand.bed': <BedTool(/home/anjuni/analysis/coverage/randomisation/6mA_tombo_smrtlink.cutoff.0.90_rand.bed)>,\n",
      " '6mA_tombo_smrtlink.cutoff.0.95_rand.bed': <BedTool(/home/anjuni/analysis/coverage/randomisation/6mA_tombo_smrtlink.cutoff.0.95_rand.bed)>,\n",
      " '6mA_tombo_smrtlink.cutoff.0.99_rand.bed': <BedTool(/home/anjuni/analysis/coverage/randomisation/6mA_tombo_smrtlink.cutoff.0.99_rand.bed)>,\n",
      " '6mA_tombo_smrtlink.cutoff.1.00_rand.bed': <BedTool(/home/anjuni/analysis/coverage/randomisation/6mA_tombo_smrtlink.cutoff.1.00_rand.bed)>}\n"
     ]
    }
   ],
   "source": [
    "pprint.pprint(rand_bed_dict)"
   ]
  },
  {
   "cell_type": "code",
   "execution_count": 1417,
   "metadata": {},
   "outputs": [],
   "source": [
    "# Make filepaths for feature files for TE superfamilies.\n",
    "sf_files = [fn for fn in glob.iglob('%s/*' % DIRS['TE_SF'], recursive=True)]\n",
    "sf_fn_dict = file_name_dict(sf_files)"
   ]
  },
  {
   "cell_type": "code",
   "execution_count": 1420,
   "metadata": {},
   "outputs": [],
   "source": [
    "# Make dictionary of bedtools objects and check if it worked (it did!)\n",
    "sf_bed_dict = {}\n",
    "\n",
    "for key, value in sf_fn_dict.items():\n",
    "    sf_bed_dict[key] = BedTool(value)"
   ]
  },
  {
   "cell_type": "markdown",
   "metadata": {},
   "source": [
    "### <span style='color:#148aff'> 5.C Using Ben's pybedtools coverage function on the feature files. <span/>"
   ]
  },
  {
   "cell_type": "code",
   "execution_count": 353,
   "metadata": {},
   "outputs": [],
   "source": [
    "%%bash\n",
    "\n",
    "# move the feature files to the correct folder\n",
    "cd /home/anjuni/analysis/coverage\n",
    "cp ../bedtools_output/intersects_from_cutoffs/* feature_files"
   ]
  },
  {
   "cell_type": "code",
   "execution_count": 1437,
   "metadata": {},
   "outputs": [],
   "source": [
    "# Make a function to do overlaps for feature files\n",
    "def coverage(windowbed_dict, featurebed_dict, featurefn_dict, old_folder_name, new_folder_name):\n",
    "    \"\"\"Create coverage files from a dictionary of window pybedtools objects and a dictionary of feature file pybedtools objects. Also outputs a dictionary of pandas dataframes for all coverage files.\"\"\"\n",
    "    feature_overlap_df_dict = {}\n",
    "    for wkey, wbed in windowbed_dict.items():\n",
    "        for fkey, fbed in featurebed_dict.items():\n",
    "            tmp_df = wbed.coverage(fbed).to_dataframe().iloc[:,[0,1,2,3,6]] # make a dataframe to put headings\n",
    "            tmp_df.rename(columns={'name': 'overlap_count', 'thickStart': 'overlap_fraction'}, inplace=True) # rename headings\n",
    "            if featurefn_dict[fkey].endswith('.gff3'): # for gene/transposon/effector/exon files\n",
    "                tmp_fn = featurefn_dict[fkey].replace('.gff3', '.%s.overlap.bed' % wkey) # change output file path\n",
    "            tmp_fn = tmp_fn.replace(old_folder_name, new_folder_name)\n",
    "            if featurefn_dict[fkey].endswith('.bed'): # for methylation files\n",
    "                tmp_fn = featurefn_dict[fkey].replace('.bed', '.%s.overlap.bed' % wkey) # change output file path\n",
    "            feature_overlap_df_dict[tmp_fn.split('/')[-1]] = tmp_df # file name as key and dataframe as value for overlap dict\n",
    "            tmp_df.to_csv(tmp_fn, sep='\\t', header=None, index=None) # save to a csv(pybedtools outputs more d.p. than BEDTools)\n",
    "    return feature_overlap_df_dict"
   ]
  },
  {
   "cell_type": "code",
   "execution_count": null,
   "metadata": {},
   "outputs": [],
   "source": [
    "# Run overlaps between windows and features\n",
    "feature_coverage_dict = coverage(window_bed_dict, feature_bed_dict, feature_fn_dict, 'feature_files', 'coverage_feature')\n",
    "rand_coverage_dict = coverage(window_bed_dict, rand_bed_dict, rand_fn_dict, 'randomisation', 'coverage_random')"
   ]
  },
  {
   "cell_type": "code",
   "execution_count": 1438,
   "metadata": {},
   "outputs": [],
   "source": [
    "# Run overlaps between windows and TE superfamily files\n",
    "sf_coverage_dict = coverage(window_bed_dict, sf_bed_dict, sf_fn_dict, 'superfamily_files', 'coverage_superfamily')"
   ]
  },
  {
   "cell_type": "markdown",
   "metadata": {},
   "source": [
    "### <span style='color:#148aff'> 5.D Statistical tests on the coverage files. <span/>"
   ]
  },
  {
   "cell_type": "code",
   "execution_count": 958,
   "metadata": {},
   "outputs": [],
   "source": [
    "def separate_sliding_windows(input_dict, string):\n",
    "    \"\"\"Separates sliding and non-sliding windows into separate dictionaries.\"\"\"\n",
    "    sliding_dict = {}\n",
    "    non_sliding_dict = {}\n",
    "    for key, value in input_dict.items():\n",
    "        if key.endswith(string):\n",
    "            sliding_dict[key] = value\n",
    "        else:\n",
    "            non_sliding_dict[key] = value\n",
    "    return sliding_dict, non_sliding_dict"
   ]
  },
  {
   "cell_type": "code",
   "execution_count": 959,
   "metadata": {},
   "outputs": [],
   "source": [
    "rand_s_dict, rand_ns_dict = separate_sliding_windows(rand_coverage_dict, '_s2kb.overlap.bed')\n",
    "feature_s_dict, feature_ns_dict = separate_sliding_windows(feature_coverage_dict, '_s2kb.overlap.bed')"
   ]
  },
  {
   "cell_type": "code",
   "execution_count": 1227,
   "metadata": {},
   "outputs": [],
   "source": [
    "def coverage_wilcoxon(obs_df_dict, exp_df_dict, obs_slice, exp_slice):\n",
    "    \"\"\"This function returns a dictionary of chi square statistic and p-value for a test of observed and randomised sites.\"\"\"\n",
    "    wilcoxon_dict = {}\n",
    "    for okey, ovalue in obs_df_dict.items():\n",
    "        for ekey, evalue in exp_df_dict.items():\n",
    "            if okey[:obs_slice] == ekey[:exp_slice]:\n",
    "                o_df = ovalue\n",
    "                e_df = evalue\n",
    "                obs = o_df['overlap_fraction']\n",
    "                exp = e_df['overlap_fraction']\n",
    "                stat, p = wilcoxon(obs, exp)\n",
    "                wilcoxon_dict[okey] = stat, p\n",
    "    return wilcoxon_dict"
   ]
  },
  {
   "cell_type": "code",
   "execution_count": 1228,
   "metadata": {},
   "outputs": [
    {
     "name": "stderr",
     "output_type": "stream",
     "text": [
      "/home/anjuni/anaconda3/lib/python3.6/site-packages/scipy/stats/morestats.py:2385: UserWarning: Warning: sample size too small for normal approximation.\n",
      "  warnings.warn(\"Warning: sample size too small for normal approximation.\")\n",
      "/home/anjuni/anaconda3/lib/python3.6/site-packages/scipy/stats/morestats.py:2410: RuntimeWarning: invalid value encountered in double_scalars\n",
      "  z = (T - mn - correction) / se\n"
     ]
    }
   ],
   "source": [
    "wilcoxon_coverage = coverage_wilcoxon(feature_ns_dict, rand_ns_dict, -17, -22)"
   ]
  },
  {
   "cell_type": "code",
   "execution_count": 1233,
   "metadata": {
    "collapsed": true
   },
   "outputs": [
    {
     "name": "stdout",
     "output_type": "stream",
     "text": [
      "{'5mC_hc_tombo_sorted.cutoff.0.00.10kb.overlap.bed': (87915.5, 0.0),\n",
      " '5mC_hc_tombo_sorted.cutoff.0.10.10kb.overlap.bed': (85739.5, 0.0),\n",
      " '5mC_hc_tombo_sorted.cutoff.0.20.10kb.overlap.bed': (101277.5, 0.0),\n",
      " '5mC_hc_tombo_sorted.cutoff.0.30.10kb.overlap.bed': (234278.0, 0.0),\n",
      " '5mC_hc_tombo_sorted.cutoff.0.40.10kb.overlap.bed': (2327553.5, 0.0),\n",
      " '5mC_hc_tombo_sorted.cutoff.0.50.10kb.overlap.bed': (16607427.5, 0.0),\n",
      " '5mC_hc_tombo_sorted.cutoff.0.60.10kb.overlap.bed': (46236315.0,\n",
      "                                                      9.9306376916492e-187),\n",
      " '5mC_hc_tombo_sorted.cutoff.0.70.10kb.overlap.bed': (60573267.0,\n",
      "                                                      2.6349063610233442e-05),\n",
      " '5mC_hc_tombo_sorted.cutoff.0.80.10kb.overlap.bed': (45245491.5,\n",
      "                                                      1.2543957014880141e-206),\n",
      " '5mC_hc_tombo_sorted.cutoff.0.90.10kb.overlap.bed': (28260071.5, 0.0),\n",
      " '5mC_hc_tombo_sorted.cutoff.0.95.10kb.overlap.bed': (22742993.5, 0.0),\n",
      " '5mC_hc_tombo_sorted.cutoff.0.99.10kb.overlap.bed': (22678421.0, 0.0),\n",
      " '5mC_hc_tombo_sorted.cutoff.1.00.10kb.overlap.bed': (22741581.5, 0.0),\n",
      " '5mC_tombo_nanopolish.cutoff.0.00.10kb.overlap.bed': (10844108.0, 0.0),\n",
      " '5mC_tombo_nanopolish.cutoff.0.10.10kb.overlap.bed': (43145071.0,\n",
      "                                                       4.553778902654728e-242),\n",
      " '5mC_tombo_nanopolish.cutoff.0.20.10kb.overlap.bed': (47436068.0,\n",
      "                                                       5.963971678347469e-145),\n",
      " '5mC_tombo_nanopolish.cutoff.0.30.10kb.overlap.bed': (49056338.5,\n",
      "                                                       1.9209824862898895e-116),\n",
      " '5mC_tombo_nanopolish.cutoff.0.40.10kb.overlap.bed': (50401725.5,\n",
      "                                                       7.780904796466759e-94),\n",
      " '5mC_tombo_nanopolish.cutoff.0.50.10kb.overlap.bed': (52206454.5,\n",
      "                                                       6.256747390410517e-68),\n",
      " '5mC_tombo_nanopolish.cutoff.0.60.10kb.overlap.bed': (55972015.5,\n",
      "                                                       2.3119557355321374e-26),\n",
      " '5mC_tombo_nanopolish.cutoff.0.70.10kb.overlap.bed': (61285835.5,\n",
      "                                                       0.3968684092160172),\n",
      " '5mC_tombo_nanopolish.cutoff.0.80.10kb.overlap.bed': (55859127.5,\n",
      "                                                       1.5092562388783972e-19),\n",
      " '5mC_tombo_nanopolish.cutoff.0.90.10kb.overlap.bed': (46064137.0,\n",
      "                                                       1.0170925923720883e-108),\n",
      " '5mC_tombo_nanopolish.cutoff.0.95.10kb.overlap.bed': (32915851.0,\n",
      "                                                       3.43685868380614e-310),\n",
      " '5mC_tombo_nanopolish.cutoff.0.99.10kb.overlap.bed': (21577730.0, 0.0),\n",
      " '5mC_tombo_nanopolish.cutoff.1.00.10kb.overlap.bed': (21695392.0, 0.0),\n",
      " '6mA_hc_tombo_sorted.cutoff.0.00.10kb.overlap.bed': (123595.5, 0.0),\n",
      " '6mA_hc_tombo_sorted.cutoff.0.10.10kb.overlap.bed': (110543.5, 0.0),\n",
      " '6mA_hc_tombo_sorted.cutoff.0.20.10kb.overlap.bed': (86113.0, 0.0),\n",
      " '6mA_hc_tombo_sorted.cutoff.0.30.10kb.overlap.bed': (68434.0, 0.0),\n",
      " '6mA_hc_tombo_sorted.cutoff.0.40.10kb.overlap.bed': (148779.5, 0.0),\n",
      " '6mA_hc_tombo_sorted.cutoff.0.50.10kb.overlap.bed': (6381947.5, 0.0),\n",
      " '6mA_hc_tombo_sorted.cutoff.0.60.10kb.overlap.bed': (40142971.0, 0.0),\n",
      " '6mA_hc_tombo_sorted.cutoff.0.70.10kb.overlap.bed': (62540754.5,\n",
      "                                                      0.484210903911623),\n",
      " '6mA_hc_tombo_sorted.cutoff.0.80.10kb.overlap.bed': (46297440.5,\n",
      "                                                      3.308405230559043e-182),\n",
      " '6mA_hc_tombo_sorted.cutoff.0.90.10kb.overlap.bed': (28745766.0, 0.0),\n",
      " '6mA_hc_tombo_sorted.cutoff.0.95.10kb.overlap.bed': (23623035.0, 0.0),\n",
      " '6mA_hc_tombo_sorted.cutoff.0.99.10kb.overlap.bed': (23719120.5, 0.0),\n",
      " '6mA_hc_tombo_sorted.cutoff.1.00.10kb.overlap.bed': (23754178.0, 0.0),\n",
      " '6mA_tombo_smrtlink.cutoff.0.00.10kb.overlap.bed': (47595884.0,\n",
      "                                                     4.767778176535458e-26),\n",
      " '6mA_tombo_smrtlink.cutoff.0.10.10kb.overlap.bed': (46779618.5,\n",
      "                                                     1.0783349873119544e-23),\n",
      " '6mA_tombo_smrtlink.cutoff.0.20.10kb.overlap.bed': (45426399.5,\n",
      "                                                     8.763200632722631e-20),\n",
      " '6mA_tombo_smrtlink.cutoff.0.30.10kb.overlap.bed': (43562423.5,\n",
      "                                                     1.6437867991758577e-16),\n",
      " '6mA_tombo_smrtlink.cutoff.0.40.10kb.overlap.bed': (41230864.0,\n",
      "                                                     1.2008451600300923e-15),\n",
      " '6mA_tombo_smrtlink.cutoff.0.50.10kb.overlap.bed': (38279444.5,\n",
      "                                                     7.761436603883395e-15),\n",
      " '6mA_tombo_smrtlink.cutoff.0.60.10kb.overlap.bed': (31384716.5,\n",
      "                                                     6.0700529773129946e-12),\n",
      " '6mA_tombo_smrtlink.cutoff.0.70.10kb.overlap.bed': (19724676.5,\n",
      "                                                     6.003085591247095e-08),\n",
      " '6mA_tombo_smrtlink.cutoff.0.80.10kb.overlap.bed': (8092159.5,\n",
      "                                                     0.001988677333990722),\n",
      " '6mA_tombo_smrtlink.cutoff.0.90.10kb.overlap.bed': (1182999.5,\n",
      "                                                     0.014416027330854089),\n",
      " '6mA_tombo_smrtlink.cutoff.0.95.10kb.overlap.bed': (250210.0,\n",
      "                                                     0.01167586893927822),\n",
      " '6mA_tombo_smrtlink.cutoff.0.99.10kb.overlap.bed': (176958.0,\n",
      "                                                     0.032661011929762666),\n",
      " '6mA_tombo_smrtlink.cutoff.1.00.10kb.overlap.bed': (0.0, nan)}\n"
     ]
    }
   ],
   "source": [
    "pprint.pprint(wilcoxon_coverage)"
   ]
  },
  {
   "cell_type": "markdown",
   "metadata": {},
   "source": [
    "All the cutoffs had statistically significant results, so use any of them I guess. The lower cutoff would be best because you get more sites."
   ]
  },
  {
   "cell_type": "markdown",
   "metadata": {},
   "source": [
    "### <span style='color:#148aff'> 5.E Correlations between the coverage files. <span/>"
   ]
  },
  {
   "cell_type": "code",
   "execution_count": 1243,
   "metadata": {},
   "outputs": [
    {
     "data": {
      "text/plain": [
       "SpearmanrResult(correlation=-0.38281643716088243, pvalue=0.0)"
      ]
     },
     "execution_count": 1243,
     "metadata": {},
     "output_type": "execute_result"
    }
   ],
   "source": [
    "# 5mC correlation with genes\n",
    "spearmanr(feature_coverage_dict['5mC_hc_tombo_sorted.cutoff.0.99.10kb.overlap.bed'].overlap_fraction,\\\n",
    "         feature_coverage_dict['Pst_104E_v13_ph_ctg.anno.sorted.genes_only.10kb.overlap.bed'].overlap_fraction)"
   ]
  },
  {
   "cell_type": "code",
   "execution_count": 1244,
   "metadata": {},
   "outputs": [
    {
     "data": {
      "text/plain": [
       "SpearmanrResult(correlation=0.25369718437406363, pvalue=1.690789556321972e-233)"
      ]
     },
     "execution_count": 1244,
     "metadata": {},
     "output_type": "execute_result"
    }
   ],
   "source": [
    "# 5mC correlation with TEs\n",
    "spearmanr(feature_coverage_dict['5mC_hc_tombo_sorted.cutoff.0.99.10kb.overlap.bed'].overlap_fraction,\\\n",
    "         feature_coverage_dict['Pst_104E_v13_ph_ctg.TE.sorted.10kb.overlap.bed'].overlap_fraction)"
   ]
  },
  {
   "cell_type": "code",
   "execution_count": 1245,
   "metadata": {},
   "outputs": [
    {
     "data": {
      "text/plain": [
       "SpearmanrResult(correlation=-0.13931099497837787, pvalue=3.5837515997418266e-70)"
      ]
     },
     "execution_count": 1245,
     "metadata": {},
     "output_type": "execute_result"
    }
   ],
   "source": [
    "# 5mC correlation with effectors\n",
    "spearmanr(feature_coverage_dict['5mC_hc_tombo_sorted.cutoff.0.99.10kb.overlap.bed'].overlap_fraction,\\\n",
    "         feature_coverage_dict['Pst_104E_v13_ph_ctg.effectors.10kb.overlap.bed'].overlap_fraction)"
   ]
  },
  {
   "cell_type": "code",
   "execution_count": 1250,
   "metadata": {},
   "outputs": [
    {
     "data": {
      "text/plain": [
       "SpearmanrResult(correlation=-0.18353279200007624, pvalue=2.970389253688614e-121)"
      ]
     },
     "execution_count": 1250,
     "metadata": {},
     "output_type": "execute_result"
    }
   ],
   "source": [
    "# 6mA correlation with genes\n",
    "spearmanr(feature_coverage_dict['6mA_hc_tombo_sorted.cutoff.0.99.10kb.overlap.bed'].overlap_fraction,\\\n",
    "         feature_coverage_dict['Pst_104E_v13_ph_ctg.anno.sorted.genes_only.10kb.overlap.bed'].overlap_fraction)"
   ]
  },
  {
   "cell_type": "code",
   "execution_count": 1264,
   "metadata": {},
   "outputs": [
    {
     "data": {
      "text/plain": [
       "SpearmanrResult(correlation=-0.07515396006471368, pvalue=1.728156969082245e-21)"
      ]
     },
     "execution_count": 1264,
     "metadata": {},
     "output_type": "execute_result"
    }
   ],
   "source": [
    "# 6mA correlation with effectors\n",
    "spearmanr(feature_coverage_dict['6mA_hc_tombo_sorted.cutoff.0.99.10kb.overlap.bed'].overlap_fraction,\\\n",
    "         feature_coverage_dict['Pst_104E_v13_ph_ctg.effectors.10kb.overlap.bed'].overlap_fraction)"
   ]
  },
  {
   "cell_type": "code",
   "execution_count": 1262,
   "metadata": {},
   "outputs": [
    {
     "data": {
      "text/plain": [
       "SpearmanrResult(correlation=0.09330526525126864, pvalue=2.775701706245244e-32)"
      ]
     },
     "execution_count": 1262,
     "metadata": {},
     "output_type": "execute_result"
    }
   ],
   "source": [
    "# 6mA correlation with TEs\n",
    "spearmanr(feature_coverage_dict['6mA_hc_tombo_sorted.cutoff.0.99.10kb.overlap.bed'].overlap_fraction,\\\n",
    "         feature_coverage_dict['Pst_104E_v13_ph_ctg.TE.sorted.10kb.overlap.bed'].overlap_fraction)"
   ]
  },
  {
   "cell_type": "code",
   "execution_count": null,
   "metadata": {},
   "outputs": [],
   "source": [
    "# Test correlation between randomised files and feature files as a control"
   ]
  },
  {
   "cell_type": "code",
   "execution_count": 1440,
   "metadata": {},
   "outputs": [
    {
     "data": {
      "text/plain": [
       "SpearmanrResult(correlation=0.06080346779741759, pvalue=1.3758476935372227e-14)"
      ]
     },
     "execution_count": 1440,
     "metadata": {},
     "output_type": "execute_result"
    }
   ],
   "source": [
    "# Test correlation between 5mC and superfamily files\n",
    "spearmanr(feature_coverage_dict['5mC_hc_tombo_sorted.cutoff.0.99.10kb.overlap.bed'].overlap_fraction,\\\n",
    "         sf_coverage_dict['Pst_104E_v13_ph_ctg.ClassI:LTR:Gypsy.10kb.overlap.bed'].overlap_fraction)"
   ]
  },
  {
   "cell_type": "code",
   "execution_count": 1441,
   "metadata": {},
   "outputs": [
    {
     "data": {
      "text/plain": [
       "SpearmanrResult(correlation=-0.017815652590927895, pvalue=0.02420836921035543)"
      ]
     },
     "execution_count": 1441,
     "metadata": {},
     "output_type": "execute_result"
    }
   ],
   "source": [
    "spearmanr(feature_coverage_dict['6mA_hc_tombo_sorted.cutoff.0.99.10kb.overlap.bed'].overlap_fraction,\\\n",
    "         sf_coverage_dict['Pst_104E_v13_ph_ctg.ClassI:LTR:Gypsy.10kb.overlap.bed'].overlap_fraction)"
   ]
  },
  {
   "cell_type": "code",
   "execution_count": 1442,
   "metadata": {},
   "outputs": [
    {
     "data": {
      "text/plain": [
       "SpearmanrResult(correlation=0.0268650466727745, pvalue=0.0006764206901908494)"
      ]
     },
     "execution_count": 1442,
     "metadata": {},
     "output_type": "execute_result"
    }
   ],
   "source": [
    "spearmanr(feature_coverage_dict['5mC_hc_tombo_sorted.cutoff.0.99.10kb.overlap.bed'].overlap_fraction,\\\n",
    "         sf_coverage_dict['Pst_104E_v13_ph_ctg.ClassI:LTR:Copia.10kb.overlap.bed'].overlap_fraction)"
   ]
  },
  {
   "cell_type": "code",
   "execution_count": 1444,
   "metadata": {},
   "outputs": [
    {
     "data": {
      "text/plain": [
       "SpearmanrResult(correlation=-0.02353519583145995, pvalue=0.0029056708810170496)"
      ]
     },
     "execution_count": 1444,
     "metadata": {},
     "output_type": "execute_result"
    }
   ],
   "source": [
    "spearmanr(feature_coverage_dict['6mA_hc_tombo_sorted.cutoff.0.99.10kb.overlap.bed'].overlap_fraction,\\\n",
    "         sf_coverage_dict['Pst_104E_v13_ph_ctg.ClassI:LTR:Copia.10kb.overlap.bed'].overlap_fraction)"
   ]
  },
  {
   "cell_type": "markdown",
   "metadata": {},
   "source": [
    "Overall, very weak correlations between methylation and key features in the genome, especially TE superfamilies :)"
   ]
  },
  {
   "cell_type": "markdown",
   "metadata": {},
   "source": [
    "## <span style='color:#148aff'> 6. Intersecting methylation with gene annotation files. <span/>"
   ]
  },
  {
   "cell_type": "code",
   "execution_count": 1252,
   "metadata": {
    "collapsed": true
   },
   "outputs": [
    {
     "data": {
      "text/plain": [
       "{'5mC_hc_tombo_sorted.cutoff.0.00.bed': '/home/anjuni/analysis/coverage/feature_files/5mC_hc_tombo_sorted.cutoff.0.00.bed',\n",
       " '5mC_hc_tombo_sorted.cutoff.0.10.bed': '/home/anjuni/analysis/coverage/feature_files/5mC_hc_tombo_sorted.cutoff.0.10.bed',\n",
       " '5mC_hc_tombo_sorted.cutoff.0.20.bed': '/home/anjuni/analysis/coverage/feature_files/5mC_hc_tombo_sorted.cutoff.0.20.bed',\n",
       " '5mC_hc_tombo_sorted.cutoff.0.30.bed': '/home/anjuni/analysis/coverage/feature_files/5mC_hc_tombo_sorted.cutoff.0.30.bed',\n",
       " '5mC_hc_tombo_sorted.cutoff.0.40.bed': '/home/anjuni/analysis/coverage/feature_files/5mC_hc_tombo_sorted.cutoff.0.40.bed',\n",
       " '5mC_hc_tombo_sorted.cutoff.0.50.bed': '/home/anjuni/analysis/coverage/feature_files/5mC_hc_tombo_sorted.cutoff.0.50.bed',\n",
       " '5mC_hc_tombo_sorted.cutoff.0.60.bed': '/home/anjuni/analysis/coverage/feature_files/5mC_hc_tombo_sorted.cutoff.0.60.bed',\n",
       " '5mC_hc_tombo_sorted.cutoff.0.70.bed': '/home/anjuni/analysis/coverage/feature_files/5mC_hc_tombo_sorted.cutoff.0.70.bed',\n",
       " '5mC_hc_tombo_sorted.cutoff.0.80.bed': '/home/anjuni/analysis/coverage/feature_files/5mC_hc_tombo_sorted.cutoff.0.80.bed',\n",
       " '5mC_hc_tombo_sorted.cutoff.0.90.bed': '/home/anjuni/analysis/coverage/feature_files/5mC_hc_tombo_sorted.cutoff.0.90.bed',\n",
       " '5mC_hc_tombo_sorted.cutoff.0.95.bed': '/home/anjuni/analysis/coverage/feature_files/5mC_hc_tombo_sorted.cutoff.0.95.bed',\n",
       " '5mC_hc_tombo_sorted.cutoff.0.99.bed': '/home/anjuni/analysis/coverage/feature_files/5mC_hc_tombo_sorted.cutoff.0.99.bed',\n",
       " '5mC_hc_tombo_sorted.cutoff.1.00.bed': '/home/anjuni/analysis/coverage/feature_files/5mC_hc_tombo_sorted.cutoff.1.00.bed',\n",
       " '5mC_tombo_nanopolish.cutoff.0.00.bed': '/home/anjuni/analysis/coverage/feature_files/5mC_tombo_nanopolish.cutoff.0.00.bed',\n",
       " '5mC_tombo_nanopolish.cutoff.0.10.bed': '/home/anjuni/analysis/coverage/feature_files/5mC_tombo_nanopolish.cutoff.0.10.bed',\n",
       " '5mC_tombo_nanopolish.cutoff.0.20.bed': '/home/anjuni/analysis/coverage/feature_files/5mC_tombo_nanopolish.cutoff.0.20.bed',\n",
       " '5mC_tombo_nanopolish.cutoff.0.30.bed': '/home/anjuni/analysis/coverage/feature_files/5mC_tombo_nanopolish.cutoff.0.30.bed',\n",
       " '5mC_tombo_nanopolish.cutoff.0.40.bed': '/home/anjuni/analysis/coverage/feature_files/5mC_tombo_nanopolish.cutoff.0.40.bed',\n",
       " '5mC_tombo_nanopolish.cutoff.0.50.bed': '/home/anjuni/analysis/coverage/feature_files/5mC_tombo_nanopolish.cutoff.0.50.bed',\n",
       " '5mC_tombo_nanopolish.cutoff.0.60.bed': '/home/anjuni/analysis/coverage/feature_files/5mC_tombo_nanopolish.cutoff.0.60.bed',\n",
       " '5mC_tombo_nanopolish.cutoff.0.70.bed': '/home/anjuni/analysis/coverage/feature_files/5mC_tombo_nanopolish.cutoff.0.70.bed',\n",
       " '5mC_tombo_nanopolish.cutoff.0.80.bed': '/home/anjuni/analysis/coverage/feature_files/5mC_tombo_nanopolish.cutoff.0.80.bed',\n",
       " '5mC_tombo_nanopolish.cutoff.0.90.bed': '/home/anjuni/analysis/coverage/feature_files/5mC_tombo_nanopolish.cutoff.0.90.bed',\n",
       " '5mC_tombo_nanopolish.cutoff.0.95.bed': '/home/anjuni/analysis/coverage/feature_files/5mC_tombo_nanopolish.cutoff.0.95.bed',\n",
       " '5mC_tombo_nanopolish.cutoff.0.99.bed': '/home/anjuni/analysis/coverage/feature_files/5mC_tombo_nanopolish.cutoff.0.99.bed',\n",
       " '5mC_tombo_nanopolish.cutoff.1.00.bed': '/home/anjuni/analysis/coverage/feature_files/5mC_tombo_nanopolish.cutoff.1.00.bed',\n",
       " '6mA_hc_tombo_sorted.cutoff.0.00.bed': '/home/anjuni/analysis/coverage/feature_files/6mA_hc_tombo_sorted.cutoff.0.00.bed',\n",
       " '6mA_hc_tombo_sorted.cutoff.0.10.bed': '/home/anjuni/analysis/coverage/feature_files/6mA_hc_tombo_sorted.cutoff.0.10.bed',\n",
       " '6mA_hc_tombo_sorted.cutoff.0.20.bed': '/home/anjuni/analysis/coverage/feature_files/6mA_hc_tombo_sorted.cutoff.0.20.bed',\n",
       " '6mA_hc_tombo_sorted.cutoff.0.30.bed': '/home/anjuni/analysis/coverage/feature_files/6mA_hc_tombo_sorted.cutoff.0.30.bed',\n",
       " '6mA_hc_tombo_sorted.cutoff.0.40.bed': '/home/anjuni/analysis/coverage/feature_files/6mA_hc_tombo_sorted.cutoff.0.40.bed',\n",
       " '6mA_hc_tombo_sorted.cutoff.0.50.bed': '/home/anjuni/analysis/coverage/feature_files/6mA_hc_tombo_sorted.cutoff.0.50.bed',\n",
       " '6mA_hc_tombo_sorted.cutoff.0.60.bed': '/home/anjuni/analysis/coverage/feature_files/6mA_hc_tombo_sorted.cutoff.0.60.bed',\n",
       " '6mA_hc_tombo_sorted.cutoff.0.70.bed': '/home/anjuni/analysis/coverage/feature_files/6mA_hc_tombo_sorted.cutoff.0.70.bed',\n",
       " '6mA_hc_tombo_sorted.cutoff.0.80.bed': '/home/anjuni/analysis/coverage/feature_files/6mA_hc_tombo_sorted.cutoff.0.80.bed',\n",
       " '6mA_hc_tombo_sorted.cutoff.0.90.bed': '/home/anjuni/analysis/coverage/feature_files/6mA_hc_tombo_sorted.cutoff.0.90.bed',\n",
       " '6mA_hc_tombo_sorted.cutoff.0.95.bed': '/home/anjuni/analysis/coverage/feature_files/6mA_hc_tombo_sorted.cutoff.0.95.bed',\n",
       " '6mA_hc_tombo_sorted.cutoff.0.99.bed': '/home/anjuni/analysis/coverage/feature_files/6mA_hc_tombo_sorted.cutoff.0.99.bed',\n",
       " '6mA_hc_tombo_sorted.cutoff.1.00.bed': '/home/anjuni/analysis/coverage/feature_files/6mA_hc_tombo_sorted.cutoff.1.00.bed',\n",
       " '6mA_tombo_smrtlink.cutoff.0.00.bed': '/home/anjuni/analysis/coverage/feature_files/6mA_tombo_smrtlink.cutoff.0.00.bed',\n",
       " '6mA_tombo_smrtlink.cutoff.0.10.bed': '/home/anjuni/analysis/coverage/feature_files/6mA_tombo_smrtlink.cutoff.0.10.bed',\n",
       " '6mA_tombo_smrtlink.cutoff.0.20.bed': '/home/anjuni/analysis/coverage/feature_files/6mA_tombo_smrtlink.cutoff.0.20.bed',\n",
       " '6mA_tombo_smrtlink.cutoff.0.30.bed': '/home/anjuni/analysis/coverage/feature_files/6mA_tombo_smrtlink.cutoff.0.30.bed',\n",
       " '6mA_tombo_smrtlink.cutoff.0.40.bed': '/home/anjuni/analysis/coverage/feature_files/6mA_tombo_smrtlink.cutoff.0.40.bed',\n",
       " '6mA_tombo_smrtlink.cutoff.0.50.bed': '/home/anjuni/analysis/coverage/feature_files/6mA_tombo_smrtlink.cutoff.0.50.bed',\n",
       " '6mA_tombo_smrtlink.cutoff.0.60.bed': '/home/anjuni/analysis/coverage/feature_files/6mA_tombo_smrtlink.cutoff.0.60.bed',\n",
       " '6mA_tombo_smrtlink.cutoff.0.70.bed': '/home/anjuni/analysis/coverage/feature_files/6mA_tombo_smrtlink.cutoff.0.70.bed',\n",
       " '6mA_tombo_smrtlink.cutoff.0.80.bed': '/home/anjuni/analysis/coverage/feature_files/6mA_tombo_smrtlink.cutoff.0.80.bed',\n",
       " '6mA_tombo_smrtlink.cutoff.0.90.bed': '/home/anjuni/analysis/coverage/feature_files/6mA_tombo_smrtlink.cutoff.0.90.bed',\n",
       " '6mA_tombo_smrtlink.cutoff.0.95.bed': '/home/anjuni/analysis/coverage/feature_files/6mA_tombo_smrtlink.cutoff.0.95.bed',\n",
       " '6mA_tombo_smrtlink.cutoff.0.99.bed': '/home/anjuni/analysis/coverage/feature_files/6mA_tombo_smrtlink.cutoff.0.99.bed',\n",
       " '6mA_tombo_smrtlink.cutoff.1.00.bed': '/home/anjuni/analysis/coverage/feature_files/6mA_tombo_smrtlink.cutoff.1.00.bed',\n",
       " 'Pst_104E_v13_ph_ctg.TE.sorted.gff3': '/home/anjuni/analysis/coverage/feature_files/Pst_104E_v13_ph_ctg.TE.sorted.gff3',\n",
       " 'Pst_104E_v13_ph_ctg.anno.sorted.exons_only.gff3': '/home/anjuni/analysis/coverage/feature_files/Pst_104E_v13_ph_ctg.anno.sorted.exons_only.gff3',\n",
       " 'Pst_104E_v13_ph_ctg.anno.sorted.genes_only.gff3': '/home/anjuni/analysis/coverage/feature_files/Pst_104E_v13_ph_ctg.anno.sorted.genes_only.gff3',\n",
       " 'Pst_104E_v13_ph_ctg.anno.sorted.gff3': '/home/anjuni/analysis/coverage/feature_files/Pst_104E_v13_ph_ctg.anno.sorted.gff3',\n",
       " 'Pst_104E_v13_ph_ctg.anno.sorted.non_genes.gff3': '/home/anjuni/analysis/coverage/feature_files/Pst_104E_v13_ph_ctg.anno.sorted.non_genes.gff3',\n",
       " 'Pst_104E_v13_ph_ctg.effectors.gff3': '/home/anjuni/analysis/coverage/feature_files/Pst_104E_v13_ph_ctg.effectors.gff3',\n",
       " 'Pst_104E_v13_ph_ctg.non_effectors.gff3': '/home/anjuni/analysis/coverage/feature_files/Pst_104E_v13_ph_ctg.non_effectors.gff3'}"
      ]
     },
     "execution_count": 1252,
     "metadata": {},
     "output_type": "execute_result"
    }
   ],
   "source": [
    "feature_fn_dict"
   ]
  },
  {
   "cell_type": "markdown",
   "metadata": {},
   "source": [
    "### two options:\n",
    "\n",
    "1. coverage of genes\n",
    "2. 100bp windows through genes and their coverage\n",
    "    - recommended by Diep\n",
    "    - need to filter individual genes from bed file"
   ]
  },
  {
   "cell_type": "code",
   "execution_count": 1255,
   "metadata": {},
   "outputs": [],
   "source": [
    "# dictionary of gene, exon, TE and effector annotations\n",
    "anno_fn_dict ={}\n",
    "anno_fn_dict['6mA_hc_tombo_sorted.cutoff.0.99.bed'] = os.path.join(DIRS['FEATURES'], '6mA_hc_tombo_sorted.cutoff.0.99.bed')\n",
    "anno_fn_dict['5mC_hc_tombo_sorted.cutoff.0.99.bed'] = os.path.join(DIRS['FEATURES'], '5mC_hc_tombo_sorted.cutoff.0.99.bed')\n",
    "anno_fn_dict['Pst_104E_v13_ph_ctg.anno.sorted.genes_only.gff3'] = os.path.join(DIRS['FEATURES'], 'Pst_104E_v13_ph_ctg.anno.sorted.genes_only.gff3')\n",
    "anno_fn_dict['Pst_104E_v13_ph_ctg.effectors.gff3'] = os.path.join(DIRS['FEATURES'], 'Pst_104E_v13_ph_ctg.effectors.gff3')\n",
    "anno_fn_dict['Pst_104E_v13_ph_ctg.anno.sorted.exons_only.gff3'] = os.path.join(DIRS['FEATURES'], 'Pst_104E_v13_ph_ctg.anno.sorted.exons_only.gff3')\n",
    "anno_fn_dict['Pst_104E_v13_ph_ctg.TE.sorted.gff3'] = os.path.join(DIRS['FEATURES'], 'Pst_104E_v13_ph_ctg.TE.sorted.gff3')"
   ]
  },
  {
   "cell_type": "code",
   "execution_count": 1256,
   "metadata": {},
   "outputs": [],
   "source": [
    "# make a bed dict of these files\n",
    "anno_bed_dict = {}\n",
    "\n",
    "for key, value in anno_fn_dict.items() :\n",
    "    anno_bed_dict[key] = BedTool(value)"
   ]
  },
  {
   "cell_type": "code",
   "execution_count": 1259,
   "metadata": {},
   "outputs": [],
   "source": [
    "# function to get regions upstream and downstream of gene, effectors\n",
    "\n",
    "# 1000 kb upstream of genes\n",
    "gene_up1000 = anno_bed_dict['Pst_104E_v13_ph_ctg.anno.sorted.genes_only.gff3'].window( \\\n",
    "    anno_bed_dict['5mC_hc_tombo_sorted.cutoff.0.99.bed'], l=1000, r=0, sm=True)\n",
    "\n",
    "####### This gives the sites with overlap, but no fraction, so I still need a coverage fraction for this\n",
    "\n",
    "# 1000 kb downstream of genes\n",
    "\n",
    "# 1000 kb upstream and downstream of genes\n",
    "\n",
    "\n",
    "# 1000 kb upstream of effectors\n",
    "\n",
    "# 1000 kb downstream of effectors\n",
    "\n",
    "# 1000 kb upstream and downstream of effectors\n",
    "\n",
    "\n",
    "#def window_coverage(feature_file, methyl_file, window_size)"
   ]
  },
  {
   "cell_type": "code",
   "execution_count": 1261,
   "metadata": {},
   "outputs": [
    {
     "data": {
      "text/plain": [
       "<BedTool(/home/anjuni/analysis/coverage/gene_level/test_up1000_gene)>"
      ]
     },
     "execution_count": 1261,
     "metadata": {},
     "output_type": "execute_result"
    }
   ],
   "source": [
    "gene_up1000.saveas('/home/anjuni/analysis/coverage/gene_level/test_up1000_gene')"
   ]
  },
  {
   "cell_type": "code",
   "execution_count": 1260,
   "metadata": {},
   "outputs": [
    {
     "name": "stdout",
     "output_type": "stream",
     "text": [
      "hcontig_000_003\tEVM\tgene\t1023\t1469\t.\t+\t.\tID=evm.TU.hcontig_000_003.1;Name=gene_model_hcontig_0000_03.1;locus_tag=Pst104E_15928\thcontig_000_003\t22\t23\t5mC\t1.0\t+\n",
      " hcontig_000_003\tEVM\tgene\t1023\t1469\t.\t+\t.\tID=evm.TU.hcontig_000_003.1;Name=gene_model_hcontig_0000_03.1;locus_tag=Pst104E_15928\thcontig_000_003\t32\t33\t5mC\t1.0\t+\n",
      " hcontig_000_003\tEVM\tgene\t1023\t1469\t.\t+\t.\tID=evm.TU.hcontig_000_003.1;Name=gene_model_hcontig_0000_03.1;locus_tag=Pst104E_15928\thcontig_000_003\t33\t34\t5mC\t1.0\t+\n",
      " hcontig_000_003\tEVM\tgene\t1023\t1469\t.\t+\t.\tID=evm.TU.hcontig_000_003.1;Name=gene_model_hcontig_0000_03.1;locus_tag=Pst104E_15928\thcontig_000_003\t35\t36\t5mC\t1.0\t+\n",
      " hcontig_000_003\tEVM\tgene\t1023\t1469\t.\t+\t.\tID=evm.TU.hcontig_000_003.1;Name=gene_model_hcontig_0000_03.1;locus_tag=Pst104E_15928\thcontig_000_003\t36\t37\t5mC\t1.0\t+\n",
      " hcontig_000_003\tEVM\tgene\t1023\t1469\t.\t+\t.\tID=evm.TU.hcontig_000_003.1;Name=gene_model_hcontig_0000_03.1;locus_tag=Pst104E_15928\thcontig_000_003\t38\t39\t5mC\t1.0\t+\n",
      " hcontig_000_003\tEVM\tgene\t1023\t1469\t.\t+\t.\tID=evm.TU.hcontig_000_003.1;Name=gene_model_hcontig_0000_03.1;locus_tag=Pst104E_15928\thcontig_000_003\t39\t40\t5mC\t1.0\t+\n",
      " hcontig_000_003\tEVM\tgene\t1023\t1469\t.\t+\t.\tID=evm.TU.hcontig_000_003.1;Name=gene_model_hcontig_0000_03.1;locus_tag=Pst104E_15928\thcontig_000_003\t49\t50\t5mC\t1.0\t+\n",
      " hcontig_000_003\tEVM\tgene\t1023\t1469\t.\t+\t.\tID=evm.TU.hcontig_000_003.1;Name=gene_model_hcontig_0000_03.1;locus_tag=Pst104E_15928\thcontig_000_003\t69\t70\t5mC\t1.0\t+\n",
      " hcontig_000_003\tEVM\tgene\t1023\t1469\t.\t+\t.\tID=evm.TU.hcontig_000_003.1;Name=gene_model_hcontig_0000_03.1;locus_tag=Pst104E_15928\thcontig_000_003\t75\t76\t5mC\t1.0\t+\n",
      " "
     ]
    }
   ],
   "source": [
    "gene_up1000.head()"
   ]
  },
  {
   "cell_type": "code",
   "execution_count": null,
   "metadata": {},
   "outputs": [],
   "source": [
    "pybedtools.bedtool.BedTool.window()"
   ]
  },
  {
   "cell_type": "markdown",
   "metadata": {},
   "source": [
    "## <span style='color:#14c4ff'> 7. Analysing gene expression files. <span/>"
   ]
  },
  {
   "cell_type": "code",
   "execution_count": null,
   "metadata": {},
   "outputs": [],
   "source": [
    "# Make files ranking genes expressed in each life cycle stage from high to low expression\n",
    "\n",
    "# Make a new file of the highly expressed genes for each life cycle stage\n",
    "# Make a new file of the lowly expressed genes for each life cycle stage\n",
    "\n",
    "# Make a file of genes that are highly expressed in all stages -> for loop that checks whether gene is in all \"highly expressed\" files\n"
   ]
  },
  {
   "cell_type": "code",
   "execution_count": null,
   "metadata": {},
   "outputs": [],
   "source": [
    "# Figure out how to identify genes that are differentially expressed in each life cycle stage"
   ]
  },
  {
   "cell_type": "code",
   "execution_count": null,
   "metadata": {},
   "outputs": [],
   "source": [
    "# Are RNA mapping files for all genes, or just expressed genes?"
   ]
  },
  {
   "cell_type": "markdown",
   "metadata": {},
   "source": [
    "## <span style='color:#15c66e'> 8. Intersecting with transposons expression files. <span/>"
   ]
  },
  {
   "cell_type": "code",
   "execution_count": null,
   "metadata": {},
   "outputs": [],
   "source": []
  },
  {
   "cell_type": "markdown",
   "metadata": {},
   "source": [
    "## <span style='color:#9ac615'> 9. Identifying effector genes. <span/>"
   ]
  },
  {
   "cell_type": "markdown",
   "metadata": {},
   "source": [
    "## <span style='color:#ffa347'> 10. Comparing methylated transposons and genes. <span/>"
   ]
  },
  {
   "cell_type": "markdown",
   "metadata": {},
   "source": [
    "## <span style='color:#ff4f14'> 11. Expression of methylation machinery throughout Pst life cycle. <span/>"
   ]
  },
  {
   "cell_type": "markdown",
   "metadata": {},
   "source": [
    "## <span style='color:#ff4f14'>  12. Data processing for tables and graphs. <span/>"
   ]
  },
  {
   "cell_type": "code",
   "execution_count": null,
   "metadata": {},
   "outputs": [],
   "source": [
    "# Make cutoff files for Nanopolish and SMRTLink, for the table\n",
    "\n",
    "# Saving out a csv file of cutoff vs. num_sites_file1, num_sites_file2, num_overlap_sites, %_overlap for each initial file\n",
    "# Already done for tombo 6mA and all overlaps, need to do for NP, Tombo CpG and PB cutoff files\n",
    "# The csv will be formatted in excel :)\n",
    "\n",
    "# Ask Ben how to format headings properly\n",
    "\n",
    "header_6mA = ['Cutoff', 'Nanopore', 'PacBio', 'Overlapping sites', 'Percentage Overlap']\n",
    "\n",
    "header_5mC = ['Cutoff', 'Tombo', 'Nanopolish', 'Overlapping sites', 'Percentage Overlap']\n",
    "\n",
    "for akey, avalue in dict_a.items():\n",
    "    for bkey, bvalue in dict_b.items():\n",
    "        linakey= []\n",
    "        if akey == bkey:\n",
    "            cutoff = akey[x:x]\n",
    "            line.append(cutoff, avalue, bvalue)\n",
    "            "
   ]
  }
 ],
 "metadata": {
  "kernelspec": {
   "display_name": "Python 3",
   "language": "python",
   "name": "python3"
  },
  "language_info": {
   "codemirror_mode": {
    "name": "ipython",
    "version": 3
   },
   "file_extension": ".py",
   "mimetype": "text/x-python",
   "name": "python",
   "nbconvert_exporter": "python",
   "pygments_lexer": "ipython3",
   "version": "3.6.4"
  }
 },
 "nbformat": 4,
 "nbformat_minor": 2
}
