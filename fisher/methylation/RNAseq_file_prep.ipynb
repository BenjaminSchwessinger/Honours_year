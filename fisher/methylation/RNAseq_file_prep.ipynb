{
 "cells": [
  {
   "cell_type": "markdown",
   "metadata": {},
   "source": [
    "# Preparing gene and transposon expression files for analysis.\n",
    "\n",
    "- The inputs for this script are mapped RNA reads, that were assigned to genes with featureCounts.\n",
    "- The files will be processed with edgeR from bioconductor to standardise by number of reads."
   ]
  },
  {
   "cell_type": "code",
   "execution_count": 3,
   "metadata": {},
   "outputs": [],
   "source": [
    "# import modules\n",
    "import rpy2\n",
    "%load_ext rpy2.ipython"
   ]
  },
  {
   "cell_type": "code",
   "execution_count": 3,
   "metadata": {},
   "outputs": [],
   "source": [
    "# set filepaths"
   ]
  },
  {
   "cell_type": "code",
   "execution_count": 1,
   "metadata": {},
   "outputs": [
    {
     "name": "stderr",
     "output_type": "stream",
     "text": [
      "UsageError: Cell magic `%%R` not found.\n"
     ]
    }
   ],
   "source": [
    "%%R -i df -w 5 -h 5 --units in -r 200\n",
    "\n",
    "#Run R in the python notebook\n",
    "\n",
    "Square <- function(x) {\n",
    "  return(x^3)\n",
    "}\n",
    "\n",
    "# import df from global environment\n",
    "# make default figure size 5 by 5 inches with 200 dpi resolution"
   ]
  },
  {
   "cell_type": "code",
   "execution_count": null,
   "metadata": {},
   "outputs": [
    {
     "name": "stderr",
     "output_type": "stream",
     "text": [
      "/home/anjuni/anaconda3/lib/python3.6/site-packages/rpy2/rinterface/__init__.py:146: RRuntimeWarning: trying URL 'https://bioconductor.org/packages/3.6/bioc/src/contrib/BiocInstaller_1.28.0.tar.gz'\n",
      "\n",
      "  warnings.warn(x, RRuntimeWarning)\n",
      "/home/anjuni/anaconda3/lib/python3.6/site-packages/rpy2/rinterface/__init__.py:146: RRuntimeWarning: Content type 'application/x-gzip'\n",
      "  warnings.warn(x, RRuntimeWarning)\n",
      "/home/anjuni/anaconda3/lib/python3.6/site-packages/rpy2/rinterface/__init__.py:146: RRuntimeWarning:  length 18624 bytes (18 KB)\n",
      "\n",
      "  warnings.warn(x, RRuntimeWarning)\n",
      "/home/anjuni/anaconda3/lib/python3.6/site-packages/rpy2/rinterface/__init__.py:146: RRuntimeWarning: =\n",
      "  warnings.warn(x, RRuntimeWarning)\n",
      "/home/anjuni/anaconda3/lib/python3.6/site-packages/rpy2/rinterface/__init__.py:146: RRuntimeWarning: \n",
      "\n",
      "  warnings.warn(x, RRuntimeWarning)\n",
      "/home/anjuni/anaconda3/lib/python3.6/site-packages/rpy2/rinterface/__init__.py:146: RRuntimeWarning: downloaded 18 KB\n",
      "\n",
      "\n",
      "  warnings.warn(x, RRuntimeWarning)\n",
      "/home/anjuni/anaconda3/lib/python3.6/site-packages/rpy2/rinterface/__init__.py:146: RRuntimeWarning: \n",
      "  warnings.warn(x, RRuntimeWarning)\n",
      "/home/anjuni/anaconda3/lib/python3.6/site-packages/rpy2/rinterface/__init__.py:146: RRuntimeWarning: The downloaded source packages are in\n",
      "\t‘/tmp/RtmpL8wzSm/downloaded_packages’\n",
      "  warnings.warn(x, RRuntimeWarning)\n",
      "/home/anjuni/anaconda3/lib/python3.6/site-packages/rpy2/rinterface/__init__.py:146: RRuntimeWarning: Updating HTML index of packages in '.Library'\n",
      "\n",
      "  warnings.warn(x, RRuntimeWarning)\n",
      "/home/anjuni/anaconda3/lib/python3.6/site-packages/rpy2/rinterface/__init__.py:146: RRuntimeWarning: Making 'packages.html' ...\n",
      "  warnings.warn(x, RRuntimeWarning)\n",
      "/home/anjuni/anaconda3/lib/python3.6/site-packages/rpy2/rinterface/__init__.py:146: RRuntimeWarning:  done\n",
      "\n",
      "  warnings.warn(x, RRuntimeWarning)\n",
      "/home/anjuni/anaconda3/lib/python3.6/site-packages/rpy2/rinterface/__init__.py:146: RRuntimeWarning: Bioconductor version 3.6 (BiocInstaller 1.28.0), ?biocLite for help\n",
      "\n",
      "  warnings.warn(x, RRuntimeWarning)\n",
      "/home/anjuni/anaconda3/lib/python3.6/site-packages/rpy2/rinterface/__init__.py:146: RRuntimeWarning: A new version of Bioconductor is available after installing the most recent\n",
      "  version of R; see http://bioconductor.org/install\n",
      "\n",
      "  warnings.warn(x, RRuntimeWarning)\n",
      "/home/anjuni/anaconda3/lib/python3.6/site-packages/rpy2/rinterface/__init__.py:146: RRuntimeWarning: BioC_mirror: https://bioconductor.org\n",
      "\n",
      "  warnings.warn(x, RRuntimeWarning)\n",
      "/home/anjuni/anaconda3/lib/python3.6/site-packages/rpy2/rinterface/__init__.py:146: RRuntimeWarning: Using Bioconductor 3.6 (BiocInstaller 1.28.0), R 3.4.1 (2017-06-30).\n",
      "\n",
      "  warnings.warn(x, RRuntimeWarning)\n",
      "/home/anjuni/anaconda3/lib/python3.6/site-packages/rpy2/rinterface/__init__.py:146: RRuntimeWarning: Installing package(s) ‘edgeR’\n",
      "\n",
      "  warnings.warn(x, RRuntimeWarning)\n",
      "/home/anjuni/anaconda3/lib/python3.6/site-packages/rpy2/rinterface/__init__.py:146: RRuntimeWarning: trying URL 'https://bioconductor.org/packages/3.6/bioc/src/contrib/edgeR_3.20.9.tar.gz'\n",
      "\n",
      "  warnings.warn(x, RRuntimeWarning)\n",
      "/home/anjuni/anaconda3/lib/python3.6/site-packages/rpy2/rinterface/__init__.py:146: RRuntimeWarning:  length 1576997 bytes (1.5 MB)\n",
      "\n",
      "  warnings.warn(x, RRuntimeWarning)\n",
      "/home/anjuni/anaconda3/lib/python3.6/site-packages/rpy2/rinterface/__init__.py:146: RRuntimeWarning: downloaded 1.5 MB\n",
      "\n",
      "\n",
      "  warnings.warn(x, RRuntimeWarning)\n",
      "/home/anjuni/anaconda3/lib/python3.6/site-packages/rpy2/rinterface/__init__.py:146: RRuntimeWarning: Old packages: 'bit', 'digest', 'pillar', 'Rcpp', 'rlang', 'RSQLite', 'utf8'\n",
      "\n",
      "  warnings.warn(x, RRuntimeWarning)\n"
     ]
    },
    {
     "name": "stdout",
     "output_type": "stream",
     "text": [
      "rpkm()\n"
     ]
    }
   ],
   "source": [
    "%%R\n",
    "source(\"https://bioconductor.org/biocLite.R\")\n",
    "biocLite(\"edgeR\")"
   ]
  },
  {
   "cell_type": "code",
   "execution_count": 9,
   "metadata": {
    "collapsed": true
   },
   "outputs": [
    {
     "name": "stdout",
     "output_type": "stream",
     "text": [
      "6mA_prob_smrtlink_sorted.cutoff.0.99.bed\r\n",
      "Annotation_file_prep.ipynb\r\n",
      "Appendix_BEDTools_Analysis.ipynb\r\n",
      "BEDtools_analysis.ipynb\r\n",
      "BEDtools_data_prep.ipynb\r\n",
      "BEDTools_test.ipynb\r\n",
      "BLAST.ipynb\r\n",
      "Coverage_graphs_test.ipynb\r\n",
      "featureCounts_test.ipynb\r\n",
      "Methylation_analysis_data_prep.ipynb\r\n",
      "Methylation_calling_input_preparation-Contig_019.ipynb\r\n",
      "Methylation_calling_input_preparation-Contig_019-tombo.ipynb\r\n",
      "Methylation_calling_input_preparation-whole_genome.ipynb\r\n",
      "Methylation_calling_input-whole_genome.ipynb\r\n",
      "Non-Parametric_Tests.ipynb\r\n",
      "normalize.R\r\n",
      "Parametric_tests.ipynb\r\n",
      "Plots-genome.ipynb\r\n",
      "Plots.ipynb\r\n",
      "Reference_scripts.ipynb\r\n",
      "RNAseq_file_prep.ipynb\r\n",
      "Sorting_all_files_and_filtering_Tombo_files.ipynb\r\n"
     ]
    }
   ],
   "source": [
    "!ls"
   ]
  },
  {
   "cell_type": "code",
   "execution_count": 12,
   "metadata": {},
   "outputs": [
    {
     "name": "stdout",
     "output_type": "stream",
     "text": [
      "Setting WORKDIR to: /home/anjuni/analysis/rna_counts \n",
      "Finished reading featureCount into data.frame with shape:  17199 109 \n"
     ]
    },
    {
     "name": "stderr",
     "output_type": "stream",
     "text": [
      "Loading required package: limma\n",
      "Error in .isAllZero(counts) : counts must be positive finite values\n",
      "Calls: DGEList -> .isAllZero\n",
      "Execution halted\n"
     ]
    }
   ],
   "source": [
    "%%bash\n",
    "\n",
    "WORKDIR=/home/anjuni/analysis/rna_counts\n",
    "Rscript normalize.R $WORKDIR"
   ]
  },
  {
   "cell_type": "code",
   "execution_count": 11,
   "metadata": {},
   "outputs": [
    {
     "name": "stdout",
     "output_type": "stream",
     "text": [
      "\r\n"
     ]
    }
   ],
   "source": [
    "!echo $WORKDIR"
   ]
  },
  {
   "cell_type": "code",
   "execution_count": 13,
   "metadata": {},
   "outputs": [
    {
     "name": "stdout",
     "output_type": "stream",
     "text": [
      "Setting WORKDIR to: /home/anjuni/analysis/rna_counts \n",
      "Finished reading featureCount into data.frame with shape:  17199 19 \n",
      "\n",
      "CPM matrix file written to \"repCpmMatrix_featureCounts.csv\"\n",
      "RPKM matrix written to \"repRpkmMatrix_featureCounts.csv\""
     ]
    },
    {
     "name": "stderr",
     "output_type": "stream",
     "text": [
      "Loading required package: limma\n"
     ]
    }
   ],
   "source": [
    "%%bash\n",
    "\n",
    "WORKDIR=/home/anjuni/analysis/rna_counts\n",
    "Rscript normalize.R $WORKDIR"
   ]
  },
  {
   "cell_type": "code",
   "execution_count": 14,
   "metadata": {},
   "outputs": [
    {
     "name": "stdout",
     "output_type": "stream",
     "text": [
      "Setting WORKDIR to: /home/anjuni/analysis/rna_counts \n",
      "Finished reading featureCount into data.frame with shape:  19348 19 \n",
      "\n",
      "CPM matrix file written to \"repCpmMatrix_featureCounts.csv\"\n",
      "RPKM matrix written to \"repRpkmMatrix_featureCounts.csv\""
     ]
    },
    {
     "name": "stderr",
     "output_type": "stream",
     "text": [
      "Loading required package: limma\n"
     ]
    }
   ],
   "source": [
    "%%bash\n",
    "\n",
    "WORKDIR=/home/anjuni/analysis/rna_counts\n",
    "Rscript normalize.R $WORKDIR"
   ]
  },
  {
   "cell_type": "code",
   "execution_count": 15,
   "metadata": {},
   "outputs": [
    {
     "name": "stdout",
     "output_type": "stream",
     "text": [
      "Setting WORKDIR to: /home/anjuni/analysis/rna_counts \n",
      "Finished reading featureCount into data.frame with shape:  36547 19 \n",
      "\n",
      "CPM matrix file written to \"repCpmMatrix_featureCounts.csv\"\n",
      "RPKM matrix written to \"repRpkmMatrix_featureCounts.csv\""
     ]
    },
    {
     "name": "stderr",
     "output_type": "stream",
     "text": [
      "Loading required package: limma\n"
     ]
    }
   ],
   "source": [
    "%%bash\n",
    "\n",
    "WORKDIR=/home/anjuni/analysis/rna_counts\n",
    "Rscript normalize.R $WORKDIR"
   ]
  },
  {
   "cell_type": "code",
   "execution_count": null,
   "metadata": {},
   "outputs": [],
   "source": []
  }
 ],
 "metadata": {
  "kernelspec": {
   "display_name": "Python 3",
   "language": "python",
   "name": "python3"
  },
  "language_info": {
   "codemirror_mode": {
    "name": "ipython",
    "version": 3
   },
   "file_extension": ".py",
   "mimetype": "text/x-python",
   "name": "python",
   "nbconvert_exporter": "python",
   "pygments_lexer": "ipython3",
   "version": "3.6.3"
  }
 },
 "nbformat": 4,
 "nbformat_minor": 2
}
