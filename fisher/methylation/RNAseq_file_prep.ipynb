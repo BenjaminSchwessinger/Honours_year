{
 "cells": [
  {
   "cell_type": "markdown",
   "metadata": {},
   "source": [
    "# <span style='color:deeppink'> Preparing gene and transposon expression files for analysis. <span\\>\n",
    "\n",
    "- The inputs for this script are mapped RNA reads, that were assigned to genes with featureCounts.\n",
    "- The files will be processed with edgeR from bioconductor to standardise by number of reads.\n",
    "\n",
    "Steps:\n",
    "1. Manually run edgeR for each gene and exon file for each genome (p,h and ph)\n",
    "2. Rename file headings and convert to tsv and get UG info only :)"
   ]
  },
  {
   "cell_type": "code",
   "execution_count": null,
   "metadata": {},
   "outputs": [],
   "source": [
    "# import modules\n",
    "import rpy2\n",
    "%load_ext rpy2.ipython\n",
    "import os\n",
    "import pandas as pd\n",
    "import glob\n",
    "import numpy as np\n",
    "import pprint"
   ]
  },
  {
   "cell_type": "markdown",
   "metadata": {},
   "source": [
    "### <span style='color:darkorchid'> 1. Manually run edgeR for each gene and exon file for each genome (p,h and ph) <span\\>"
   ]
  },
  {
   "cell_type": "code",
   "execution_count": 12,
   "metadata": {
    "collapsed": true
   },
   "outputs": [
    {
     "name": "stdout",
     "output_type": "stream",
     "text": [
      "Setting WORKDIR to: /home/anjuni/analysis/rna_counts \n",
      "Finished reading featureCount into data.frame with shape:  17199 109 \n"
     ]
    },
    {
     "name": "stderr",
     "output_type": "stream",
     "text": [
      "Loading required package: limma\n",
      "Error in .isAllZero(counts) : counts must be positive finite values\n",
      "Calls: DGEList -> .isAllZero\n",
      "Execution halted\n"
     ]
    }
   ],
   "source": [
    "%%bash\n",
    "WORKDIR=/home/anjuni/analysis/rna_counts\n",
    "Rscript normalize.R $WORKDIR # these 3 scripts simply ran the script for each gene file"
   ]
  },
  {
   "cell_type": "code",
   "execution_count": 13,
   "metadata": {
    "collapsed": true
   },
   "outputs": [
    {
     "name": "stdout",
     "output_type": "stream",
     "text": [
      "Setting WORKDIR to: /home/anjuni/analysis/rna_counts \n",
      "Finished reading featureCount into data.frame with shape:  17199 19 \n",
      "\n",
      "CPM matrix file written to \"repCpmMatrix_featureCounts.csv\"\n",
      "RPKM matrix written to \"repRpkmMatrix_featureCounts.csv\""
     ]
    },
    {
     "name": "stderr",
     "output_type": "stream",
     "text": [
      "Loading required package: limma\n"
     ]
    }
   ],
   "source": [
    "%%bash\n",
    "WORKDIR=/home/anjuni/analysis/rna_counts\n",
    "Rscript normalize.R $WORKDIR"
   ]
  },
  {
   "cell_type": "code",
   "execution_count": 14,
   "metadata": {
    "collapsed": true
   },
   "outputs": [
    {
     "name": "stdout",
     "output_type": "stream",
     "text": [
      "Setting WORKDIR to: /home/anjuni/analysis/rna_counts \n",
      "Finished reading featureCount into data.frame with shape:  19348 19 \n",
      "\n",
      "CPM matrix file written to \"repCpmMatrix_featureCounts.csv\"\n",
      "RPKM matrix written to \"repRpkmMatrix_featureCounts.csv\""
     ]
    },
    {
     "name": "stderr",
     "output_type": "stream",
     "text": [
      "Loading required package: limma\n"
     ]
    }
   ],
   "source": [
    "%%bash\n",
    "WORKDIR=/home/anjuni/analysis/rna_counts\n",
    "Rscript normalize.R $WORKDIR"
   ]
  },
  {
   "cell_type": "code",
   "execution_count": 15,
   "metadata": {
    "collapsed": true
   },
   "outputs": [
    {
     "name": "stdout",
     "output_type": "stream",
     "text": [
      "Setting WORKDIR to: /home/anjuni/analysis/rna_counts \n",
      "Finished reading featureCount into data.frame with shape:  36547 19 \n",
      "\n",
      "CPM matrix file written to \"repCpmMatrix_featureCounts.csv\"\n",
      "RPKM matrix written to \"repRpkmMatrix_featureCounts.csv\""
     ]
    },
    {
     "name": "stderr",
     "output_type": "stream",
     "text": [
      "Loading required package: limma\n"
     ]
    }
   ],
   "source": [
    "%%bash\n",
    "WORKDIR=/home/anjuni/analysis/rna_counts\n",
    "Rscript normalize.R $WORKDIR"
   ]
  },
  {
   "cell_type": "code",
   "execution_count": 16,
   "metadata": {
    "collapsed": true
   },
   "outputs": [
    {
     "name": "stdout",
     "output_type": "stream",
     "text": [
      "Setting WORKDIR to: /home/anjuni/analysis/rna_counts \n",
      "Finished reading featureCount into data.frame with shape:  17199 19 \n",
      "\n",
      "CPM matrix file written to \"repCpmMatrix_featureCounts.csv\"\n",
      "RPKM matrix written to \"repRpkmMatrix_featureCounts.csv\"featureCounts_gene_lengths.csv\n",
      "featureCounts_matrix.csv\n",
      "repCpmMatrix_featureCounts.csv\n",
      "repRpkmMatrix_featureCounts.csv\n"
     ]
    },
    {
     "name": "stderr",
     "output_type": "stream",
     "text": [
      "Loading required package: limma\n"
     ]
    }
   ],
   "source": [
    "%%bash\n",
    "WORKDIR=/home/anjuni/analysis/rna_counts\n",
    "Rscript normalize.R $WORKDIR\n",
    "cd /home/anjuni/analysis/rna_counts # these 3 scripts run the script for the exon files and rename the output file names\n",
    "for x in *.csv;do mv ${x} Pst_104E_v13_h_exon_${x}; echo ${x};done"
   ]
  },
  {
   "cell_type": "code",
   "execution_count": 17,
   "metadata": {
    "collapsed": true
   },
   "outputs": [
    {
     "name": "stdout",
     "output_type": "stream",
     "text": [
      "Setting WORKDIR to: /home/anjuni/analysis/rna_counts \n",
      "Finished reading featureCount into data.frame with shape:  36547 19 \n",
      "\n",
      "CPM matrix file written to \"repCpmMatrix_featureCounts.csv\"\n",
      "RPKM matrix written to \"repRpkmMatrix_featureCounts.csv\"featureCounts_gene_lengths.csv\n",
      "featureCounts_matrix.csv\n",
      "repCpmMatrix_featureCounts.csv\n",
      "repRpkmMatrix_featureCounts.csv\n"
     ]
    },
    {
     "name": "stderr",
     "output_type": "stream",
     "text": [
      "Loading required package: limma\n"
     ]
    }
   ],
   "source": [
    "%%bash\n",
    "\n",
    "WORKDIR=/home/anjuni/analysis/rna_counts\n",
    "Rscript normalize.R $WORKDIR\n",
    "cd /home/anjuni/analysis/rna_counts\n",
    "for x in *.csv;do mv ${x} Pst_104E_v13_ph_exon_${x}; echo ${x};done"
   ]
  },
  {
   "cell_type": "code",
   "execution_count": 18,
   "metadata": {
    "collapsed": true
   },
   "outputs": [
    {
     "name": "stdout",
     "output_type": "stream",
     "text": [
      "Setting WORKDIR to: /home/anjuni/analysis/rna_counts \n",
      "Finished reading featureCount into data.frame with shape:  19348 19 \n",
      "\n",
      "CPM matrix file written to \"repCpmMatrix_featureCounts.csv\"\n",
      "RPKM matrix written to \"repRpkmMatrix_featureCounts.csv\"featureCounts_gene_lengths.csv\n",
      "featureCounts_matrix.csv\n",
      "repCpmMatrix_featureCounts.csv\n",
      "repRpkmMatrix_featureCounts.csv\n"
     ]
    },
    {
     "name": "stderr",
     "output_type": "stream",
     "text": [
      "Loading required package: limma\n"
     ]
    }
   ],
   "source": [
    "%%bash\n",
    "\n",
    "WORKDIR=/home/anjuni/analysis/rna_counts\n",
    "Rscript normalize.R $WORKDIR\n",
    "cd /home/anjuni/analysis/rna_counts\n",
    "for x in *.csv;do mv ${x} Pst_104E_v13_p_exon_${x}; echo ${x};done"
   ]
  },
  {
   "cell_type": "markdown",
   "metadata": {},
   "source": [
    "After this step, all the files were moved to the working directory: /home/anjuni/analysis/rna_counts"
   ]
  },
  {
   "cell_type": "markdown",
   "metadata": {},
   "source": [
    "### <span style='color:crimson'> 2. Rename file headings and convert to tsv and get UG info only :) <span/>"
   ]
  },
  {
   "cell_type": "code",
   "execution_count": 241,
   "metadata": {},
   "outputs": [],
   "source": [
    "#set filepaths\n",
    "DIRS = {}\n",
    "DIRS['BASE2'] = '/home/anjuni/analysis'\n",
    "DIRS['RNA'] = os.path.join(DIRS['BASE2'], 'rna_counts')\n",
    "DIRS['edgeR'] = os.path.join(DIRS['RNA'], 'edgeR_output')\n",
    "DIRS['TRIALS'] = os.path.join(DIRS['RNA'], 'trials_tsv')\n",
    "DIRS['MEAN_STD'] = os.path.join(DIRS['RNA'], 'average_and_stdev')"
   ]
  },
  {
   "cell_type": "code",
   "execution_count": 172,
   "metadata": {},
   "outputs": [],
   "source": [
    "# Make a list of RNA-seq csv files\n",
    "rna_list = sorted([fn for fn in glob.iglob('%s/*featureCounts.csv' % DIRS['edgeR'], recursive=True)])"
   ]
  },
  {
   "cell_type": "code",
   "execution_count": 173,
   "metadata": {
    "collapsed": true
   },
   "outputs": [
    {
     "data": {
      "text/plain": [
       "['/home/anjuni/analysis/rna_counts/edgeR_output/Pst_104E_v13_h_exon_repCpmMatrix_featureCounts.csv',\n",
       " '/home/anjuni/analysis/rna_counts/edgeR_output/Pst_104E_v13_h_exon_repRpkmMatrix_featureCounts.csv',\n",
       " '/home/anjuni/analysis/rna_counts/edgeR_output/Pst_104E_v13_h_gene_repCpmMatrix_featureCounts.csv',\n",
       " '/home/anjuni/analysis/rna_counts/edgeR_output/Pst_104E_v13_h_gene_repRpkmMatrix_featureCounts.csv',\n",
       " '/home/anjuni/analysis/rna_counts/edgeR_output/Pst_104E_v13_p_exon_repCpmMatrix_featureCounts.csv',\n",
       " '/home/anjuni/analysis/rna_counts/edgeR_output/Pst_104E_v13_p_exon_repRpkmMatrix_featureCounts.csv',\n",
       " '/home/anjuni/analysis/rna_counts/edgeR_output/Pst_104E_v13_p_gene_repCpmMatrix_featureCounts.csv',\n",
       " '/home/anjuni/analysis/rna_counts/edgeR_output/Pst_104E_v13_p_gene_repRpkmMatrix_featureCounts.csv',\n",
       " '/home/anjuni/analysis/rna_counts/edgeR_output/Pst_104E_v13_ph_exon_repCpmMatrix_featureCounts.csv',\n",
       " '/home/anjuni/analysis/rna_counts/edgeR_output/Pst_104E_v13_ph_exon_repRpkmMatrix_featureCounts.csv',\n",
       " '/home/anjuni/analysis/rna_counts/edgeR_output/Pst_104E_v13_ph_gene_repCpmMatrix_featureCounts.csv',\n",
       " '/home/anjuni/analysis/rna_counts/edgeR_output/Pst_104E_v13_ph_gene_repRpkmMatrix_featureCounts.csv']"
      ]
     },
     "execution_count": 173,
     "metadata": {},
     "output_type": "execute_result"
    }
   ],
   "source": [
    "rna_list"
   ]
  },
  {
   "cell_type": "code",
   "execution_count": 47,
   "metadata": {},
   "outputs": [],
   "source": [
    "headings = ['gene_ID', 'GS_1', 'GS_2', 'GS_3', 'HE_1', 'HE_2', 'HE_3', 'IT0_1', 'IT0_2', 'IT0_3', 'IT6_1', 'IT6_2', 'IT6_3', 'IT9_1', 'IT9_2', 'IT9_3', 'UG_1', 'UG_2', 'UG_3',]"
   ]
  },
  {
   "cell_type": "markdown",
   "metadata": {},
   "source": [
    "Column indices\n",
    "- GS: [1,2,3]\n",
    "- HE: [4,5,6]\n",
    "- IT0: [7,8,9]\n",
    "- IT6: [10,11,12]\n",
    "- IT9: [13,14,15]\n",
    "- UG: [16,17,18]"
   ]
  },
  {
   "cell_type": "code",
   "execution_count": 77,
   "metadata": {},
   "outputs": [],
   "source": [
    "#write a function to save the csv files as tsv files with proper headings\n",
    "def csv_to_tsv(csv_list, header_list):\n",
    "    \"\"\"This is a function to take the edgeR output csv files, change the headings, and save out as a tsv file.\"\"\"\n",
    "    for file in csv_list:\n",
    "        df = pd.read_csv(file, header = 0, names=header_list)\n",
    "        out_fn1 = file.replace('/edgeR_output/', '/')\n",
    "        out_fn1 = out_fn1.replace('.csv', '.tsv')\n",
    "        df.to_csv(out_fn1, header=True, index=None, sep='\\t') # save out the whole df to tsv\n",
    "        # now save out just the UG columns\n",
    "        out_fn2 = file.replace('/edgeR_output/', '/')\n",
    "        out_fn2 = out_fn2.replace('.csv', '.UG.tsv')\n",
    "        df.iloc[:, [0, 16, 17, 18]].to_csv(out_fn2, header=True, index=None, sep='\\t')"
   ]
  },
  {
   "cell_type": "code",
   "execution_count": null,
   "metadata": {},
   "outputs": [],
   "source": [
    "csv_to_tsv(rna_list, headings) # run the function to save everything out as tsv!! :)"
   ]
  },
  {
   "cell_type": "code",
   "execution_count": 199,
   "metadata": {},
   "outputs": [],
   "source": [
    "# Make a list of RNA-seq tsv files (called trial_list because they have the three trials)\n",
    "rpkm_list = sorted([fn for fn in glob.iglob('%s/*_repRpkmMatrix_featureCounts.tsv' % DIRS['TRIALS'], recursive=True)])"
   ]
  },
  {
   "cell_type": "code",
   "execution_count": 203,
   "metadata": {},
   "outputs": [
    {
     "data": {
      "text/plain": [
       "['/home/anjuni/analysis/rna_counts/trials_tsv/Pst_104E_v13_h_exon_repRpkmMatrix_featureCounts.tsv',\n",
       " '/home/anjuni/analysis/rna_counts/trials_tsv/Pst_104E_v13_h_gene_repRpkmMatrix_featureCounts.tsv',\n",
       " '/home/anjuni/analysis/rna_counts/trials_tsv/Pst_104E_v13_p_exon_repRpkmMatrix_featureCounts.tsv',\n",
       " '/home/anjuni/analysis/rna_counts/trials_tsv/Pst_104E_v13_p_gene_repRpkmMatrix_featureCounts.tsv',\n",
       " '/home/anjuni/analysis/rna_counts/trials_tsv/Pst_104E_v13_ph_exon_repRpkmMatrix_featureCounts.tsv',\n",
       " '/home/anjuni/analysis/rna_counts/trials_tsv/Pst_104E_v13_ph_gene_repRpkmMatrix_featureCounts.tsv']"
      ]
     },
     "execution_count": 203,
     "metadata": {},
     "output_type": "execute_result"
    }
   ],
   "source": [
    "rpkm_list"
   ]
  },
  {
   "cell_type": "code",
   "execution_count": null,
   "metadata": {},
   "outputs": [],
   "source": [
    "trial_dict = {}\n",
    "trial_dict['GS'] = [1,2,3]\n",
    "trial_dict['HE'] = [4,5,6]\n",
    "trial_dict['IT0'] = [7,8,9]\n",
    "trial_dict['IT6'] = [10,11,12]\n",
    "trial_dict['IT9'] = [13,14,15]\n",
    "trial_dict['UG'] = [16,17,18]"
   ]
  },
  {
   "cell_type": "code",
   "execution_count": 204,
   "metadata": {
    "collapsed": true
   },
   "outputs": [
    {
     "data": {
      "text/plain": [
       "{'GS': [1, 2, 3],\n",
       " 'HE': [4, 5, 6],\n",
       " 'IT0': [7, 8, 9],\n",
       " 'IT6': [10, 11, 12],\n",
       " 'IT9': [13, 14, 15],\n",
       " 'UG': [16, 17, 18]}"
      ]
     },
     "execution_count": 204,
     "metadata": {},
     "output_type": "execute_result"
    }
   ],
   "source": [
    "trial_dict"
   ]
  },
  {
   "cell_type": "code",
   "execution_count": 215,
   "metadata": {},
   "outputs": [],
   "source": [
    "def average_runs(file, rep_dict): # rep_dict = dictionary of repeats for each condition\n",
    "    \"\"\"Makes dictionary of lists of averages of the three trials for RNA-seq data. Takes the list of csv's and columns of repeat trials as inputs.\"\"\"\n",
    "    average_dict = {}\n",
    "    stdev_dict = {}\n",
    "    df = pd.read_csv(file, header = 0, sep='\\t')\n",
    "    for key, value in rep_dict.items():\n",
    "        average_list = []\n",
    "        stdev_list = []\n",
    "        gene_id_list = []\n",
    "        for index, row in df.iterrows(): # calculate average and stdev for each \n",
    "            gene_id = row[0]\n",
    "            gene_id_list.append(gene_id)\n",
    "            average = ( row[rep_dict[key][0]] + row[rep_dict[key][1]] + row[rep_dict[key][2]] ) / 3\n",
    "            average_list.append(average)\n",
    "            stdev = np.std( [ row[rep_dict[key][0]], row[rep_dict[key][1]], row[rep_dict[key][2]] ] )\n",
    "            stdev_list.append(stdev)\n",
    "        average_dict[key] = average_list\n",
    "        average_dict['gene_ID'] = gene_id_list\n",
    "        stdev_dict[key] = stdev_list\n",
    "        stdev_dict['gene_ID'] = gene_id_list\n",
    "    return average_dict, stdev_dict"
   ]
  },
  {
   "cell_type": "code",
   "execution_count": 216,
   "metadata": {},
   "outputs": [],
   "source": [
    "average_h_exon, stdev_h_exon = average_runs(rpkm_list[0], trial_dict)\n",
    "average_h_gene, stdev_h_gene = average_runs(rpkm_list[1], trial_dict)\n",
    "average_p_exon, stdev_p_exon = average_runs(rpkm_list[2], trial_dict)\n",
    "average_p_gene, stdev_p_gene = average_runs(rpkm_list[3], trial_dict)\n",
    "average_ph_exon, stdev_ph_exon = average_runs(rpkm_list[4], trial_dict)\n",
    "average_ph_gene, stdev_ph_gene = average_runs(rpkm_list[5], trial_dict)"
   ]
  },
  {
   "cell_type": "code",
   "execution_count": 222,
   "metadata": {},
   "outputs": [
    {
     "name": "stdout",
     "output_type": "stream",
     "text": [
      "GS gene_ID HE IT0 IT6 IT9 UG\n"
     ]
    }
   ],
   "source": [
    "print(*average_ph_exon)"
   ]
  },
  {
   "cell_type": "code",
   "execution_count": 239,
   "metadata": {},
   "outputs": [],
   "source": [
    "def dict_to_tsv(df_dict, out_fn):\n",
    "    \"\"\"This is a function to save the dictionaries from the previous section into tsv files.\"\"\"\n",
    "    # df1 saves all the columns\n",
    "    df = pd.DataFrame.from_dict(df_dict)\n",
    "    df1 = df [['gene_ID', 'GS', 'HE', 'IT0', 'IT6', 'IT9','UG']]\n",
    "    df1.to_csv(os.path.join(DIRS['MEAN_STD'], out_fn), header=True, index=None, sep='\\t')\n",
    "    # df2 saves the UG (ungerminated spore) column)\n",
    "    df2 = df [['gene_ID', 'UG']]\n",
    "    out_ug = out_fn.replace('.tsv', '.UG.tsv')\n",
    "    df2.to_csv(os.path.join(DIRS['MEAN_STD'], out_ug), header=True, index=None, sep='\\t')\n",
    "    # df3 sorts the UG column and saves it\n",
    "    df3 = df2.sort_values('UG', ascending=False)\n",
    "    out_ug_sorted = out_ug.replace('.tsv', '.sorted.tsv')\n",
    "    df3.to_csv(os.path.join(DIRS['MEAN_STD'], out_ug_sorted), header=True, index=None, sep='\\t')"
   ]
  },
  {
   "cell_type": "code",
   "execution_count": 240,
   "metadata": {},
   "outputs": [],
   "source": [
    "# save everything to a tsv\n",
    "dict_to_tsv(average_ph_gene, 'Pst_104E_v13_ph_gene_rpkm_average.tsv')\n",
    "dict_to_tsv(average_ph_exon, 'Pst_104E_v13_ph_exon_rpkm_average.tsv')\n",
    "dict_to_tsv(average_p_gene, 'Pst_104E_v13_p_gene_rpkm_average.tsv')\n",
    "dict_to_tsv(average_p_exon, 'Pst_104E_v13_p_exon_rpkm_average.tsv')\n",
    "dict_to_tsv(average_h_gene, 'Pst_104E_v13_h_gene_rpkm_average.tsv')\n",
    "dict_to_tsv(average_h_exon, 'Pst_104E_v13_h_exon_rpkm_average.tsv')\n",
    "\n",
    "dict_to_tsv(stdev_ph_gene, 'Pst_104E_v13_ph_gene_rpkm_stdev.tsv')\n",
    "dict_to_tsv(stdev_ph_exon, 'Pst_104E_v13_ph_exon_rpkm_stdev.tsv')\n",
    "dict_to_tsv(stdev_p_gene, 'Pst_104E_v13_p_gene_rpkm_stdev.tsv')\n",
    "dict_to_tsv(stdev_p_exon, 'Pst_104E_v13_p_exon_rpkm_stdev.tsv')\n",
    "dict_to_tsv(stdev_h_gene, 'Pst_104E_v13_h_gene_rpkm_stdev.tsv')\n",
    "dict_to_tsv(stdev_h_exon, 'Pst_104E_v13_h_exon_rpkm_stdev.tsv')"
   ]
  }
 ],
 "metadata": {
  "kernelspec": {
   "display_name": "Python 3",
   "language": "python",
   "name": "python3"
  },
  "language_info": {
   "codemirror_mode": {
    "name": "ipython",
    "version": 3
   },
   "file_extension": ".py",
   "mimetype": "text/x-python",
   "name": "python",
   "nbconvert_exporter": "python",
   "pygments_lexer": "ipython3",
   "version": "3.6.3"
  }
 },
 "nbformat": 4,
 "nbformat_minor": 2
}
