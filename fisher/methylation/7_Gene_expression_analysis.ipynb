{
 "cells": [
  {
   "cell_type": "markdown",
   "metadata": {},
   "source": [
    "# <span style=\"color:#ff1414\"> BEDtools analysis. </span>\n",
    "\n",
    "This is a script to answer research questions outlined elsewhere. In summary, this script:\n",
    "\n",
    "1. compares methylation results between different methylation-callers, and between different methylation sequencing methods.\n",
    "\n",
    "2. compares methylation between genes and non-gene regions\n",
    "\n",
    "3. compares methylation between transposons and non-repetitive regions\n",
    "\n",
    "4. compares transposons and genes\n",
    "\n",
    "\n",
    "Note:\n",
    "- PB/pb = PacBio\n",
    "- ONT/ont = Oxford Nanopore Technology\n",
    "- NP = Nanopolish"
   ]
  },
  {
   "cell_type": "code",
   "execution_count": 2,
   "metadata": {},
   "outputs": [],
   "source": [
    "import pybedtools\n",
    "import scipy\n",
    "\n",
    "import matplotlib.patches as mpatches\n",
    "import pandas as pd\n",
    "import numpy as np # need for  stats\n",
    "\n",
    "from scipy.stats import wilcoxon\n",
    "import matplotlib.pyplot as plt\n",
    "from matplotlib_venn import venn2"
   ]
  },
  {
   "cell_type": "code",
   "execution_count": 3,
   "metadata": {},
   "outputs": [],
   "source": [
    "# load modules\n",
    "import os\n",
    "import glob\n",
    "import pprint\n",
    "from pybedtools import BedTool\n",
    "from scipy.stats import spearmanr"
   ]
  },
  {
   "cell_type": "code",
   "execution_count": 135,
   "metadata": {},
   "outputs": [],
   "source": [
    "\n",
    "DIRS['TE_SF'] = os.path.join(DIRS['COVERAGE'], 'superfamily_files')\n",
    "DIRS['RNA'] = os.path.join(DIRS['BASE2'], 'rna_counts')\n",
    "DIRS['edgeR'] = os.path.join(DIRS['RNA'], 'edgeR_output')\n",
    "DIRS['TRIALS'] = os.path.join(DIRS['RNA'], 'trials_tsv')\n",
    "DIRS['MEAN_STD'] = os.path.join(DIRS['RNA'], 'average_and_stdev')\n",
    "DIRS['GENE'] = os.path.join(DIRS['COVERAGE'], 'gene_level')\n",
    "DIRS['GENE_ANNO'] = os.path.join(DIRS['GENE'], 'gene_anno')\n",
    "DIRS['BOTH_U_D'] = os.path.join(DIRS['GENE'], 'both_upstream_downstream')\n",
    "DIRS['DOWN_STR'] = os.path.join(DIRS['GENE'], 'downstream')\n",
    "DIRS['UP_STR'] = os.path.join(DIRS['GENE'], 'upstream')\n",
    "DIRS['TSS'] = os.path.join(DIRS['GENE'], 'tss_6mA_only')"
   ]
  },
  {
   "cell_type": "code",
   "execution_count": 7,
   "metadata": {},
   "outputs": [],
   "source": [
    "DIRS['BASE1'] = '/home/anjuni/methylation_calling/pacbio'\n",
    "\n",
    "DIRS['BED_INPUT'] = os.path.join(DIRS['BASE2'], 'bedtools_output', 'sequencing_comparison')\n",
    "DIRS['GFF_INPUT'] = os.path.join(DIRS['BASE2'], 'gff_output')\n",
    "DIRS['FIGURES'] = os.path.join(DIRS['BASE2'], 'figures')\n",
    "\n",
    "DIRS['I_FROM_C'] = os.path.join(DIRS['BASE2'], 'bedtools_output', 'intersects_from_cutoffs')\n",
    "DIRS['BED_CUTOFFS'] = os.path.join(DIRS['BASE1'], 'input', 'sorted_bed_files', 'cutoffs')\n",
    "DIRS['6MA_CUTOFFS'] = os.path.join(DIRS['BASE1'], 'input', 'sorted_bed_files', 'cutoffs_6mA')\n",
    "DIRS['5MC_CUTOFFS'] = os.path.join(DIRS['BASE1'], 'input', 'sorted_bed_files', 'cutoffs_5mC')"
   ]
  },
  {
   "cell_type": "code",
   "execution_count": 6,
   "metadata": {},
   "outputs": [],
   "source": [
    "#First we need to define the base dirs\n",
    "DIRS = {}\n",
    "DIRS['BASE2'] = '/home/anjuni/analysis'\n",
    "DIRS['FEATURES'] = os.path.join(DIRS['BASE2'], 'coverage', 'feature_files')\n",
    "DIRS['RAND'] = os.path.join(DIRS['BASE2'], 'coverage', 'randomisation')\n",
    "DIRS['WINDOW_OUTPUT'] = os.path.join(DIRS['BASE2'], 'windows')\n",
    "DIRS['WINDOW_INPUT'] = os.path.join(DIRS['BASE2'], 'input_for_windows')\n",
    "DIRS['REF'] = '/home/anjuni/Pst_104_v13_assembly/'\n",
    "DIRS['COVERAGE'] = os.path.join(DIRS['BASE2'], 'coverage')"
   ]
  },
  {
   "cell_type": "code",
   "execution_count": 9,
   "metadata": {},
   "outputs": [
    {
     "name": "stdout",
     "output_type": "stream",
     "text": [
      "/home/anjuni/methylation_calling/pacbio/input/sorted_bed_files/cutoffs does not exist\n"
     ]
    }
   ],
   "source": [
    "#Quick chech if directories exist\n",
    "for value in DIRS.values():\n",
    "    if not os.path.exists(value):\n",
    "        print('%s does not exist' % value)"
   ]
  },
  {
   "cell_type": "code",
   "execution_count": 79,
   "metadata": {},
   "outputs": [],
   "source": [
    "#Make filepaths\n",
    "bed_file_list = [fn for fn in glob.iglob('%s/*.bed' % DIRS['BED_INPUT'], recursive=True)]\n",
    "gff_file_list = [fn for fn in glob.iglob('%s/*anno.gff3' % DIRS['GFF_INPUT'], recursive=True)]\n",
    "te_file_list = [fn for fn in glob.iglob('%s/*.gff' % DIRS['GFF_INPUT'], recursive=True)]"
   ]
  },
  {
   "cell_type": "code",
   "execution_count": 80,
   "metadata": {
    "collapsed": true
   },
   "outputs": [
    {
     "name": "stdout",
     "output_type": "stream",
     "text": [
      "/home/anjuni/analysis/bedtools_output/sequencing_comparison/5mC_plus_tombo_sorted.bed\n",
      "/home/anjuni/analysis/bedtools_output/sequencing_comparison/5mC_CpG_tombo_np.bed\n",
      "/home/anjuni/analysis/bedtools_output/sequencing_comparison/5mC_tombo_np.bed\n",
      "/home/anjuni/analysis/bedtools_output/sequencing_comparison/5mC_plus_CpG_np_tombo.bed\n",
      "/home/anjuni/analysis/bedtools_output/sequencing_comparison/5mC_hc_tombo_sorted.CpG.plus.bed\n",
      "/home/anjuni/analysis/bedtools_output/sequencing_comparison/5mC_s_nanopolish.bed\n",
      "/home/anjuni/analysis/bedtools_output/sequencing_comparison/nanopolish_rerun_subtract.bed\n",
      "/home/anjuni/analysis/bedtools_output/sequencing_comparison/5mC_hc_nanopolish_sorted.bed\n",
      "/home/anjuni/analysis/bedtools_output/sequencing_comparison/5mC_plus_CpG_tombo_np.bed\n",
      "/home/anjuni/analysis/bedtools_output/sequencing_comparison/nano_plus_tombo_overlap.bed\n",
      "/home/anjuni/analysis/bedtools_output/sequencing_comparison/5mC_tombo_sorted.bed\n",
      "/home/anjuni/analysis/bedtools_output/sequencing_comparison/5mC_minus_tombo_sorted.bed\n",
      "/home/anjuni/analysis/bedtools_output/sequencing_comparison/5mC_nanopolish_sorted.bed\n",
      "/home/anjuni/analysis/bedtools_output/sequencing_comparison/5mC_rerun_s_nanopolish.bed\n",
      "/home/anjuni/analysis/bedtools_output/sequencing_comparison/5mC_hc_tombo_sorted.bed\n",
      "/home/anjuni/analysis/bedtools_output/sequencing_comparison/6mA_tombo_sorted.bed\n",
      "/home/anjuni/analysis/bedtools_output/sequencing_comparison/5mC_hc_tombo_sorted.CpG.bed\n",
      "/home/anjuni/analysis/bedtools_output/sequencing_comparison/5mC_CpG_np_tombo.bed\n",
      "/home/anjuni/analysis/bedtools_output/sequencing_comparison/6mA_hc_tombo_sorted.bed\n",
      "/home/anjuni/analysis/bedtools_output/sequencing_comparison/nano_minus_tombo_overlap.bed\n",
      "/home/anjuni/analysis/bedtools_output/sequencing_comparison/6mA_ont_pb.bed\n",
      "/home/anjuni/analysis/bedtools_output/sequencing_comparison/5mC_np_tombo.bed\n",
      "/home/anjuni/analysis/bedtools_output/sequencing_comparison/6mA_prob_smrtlink_sorted.bed\n",
      "/home/anjuni/analysis/gff_output/Pst_104E_v13_ph_ctg_combined_sorted_anno.gff3\n",
      "/home/anjuni/analysis/gff_output/Pst_104E_v13_p_ctg_combined_sorted_anno.gff3\n",
      "/home/anjuni/analysis/gff_output/Pst_104E_v13_h_ctg_combined_sorted_anno.gff3\n",
      "/home/anjuni/analysis/gff_output/Pst_104E_v13_h_ctg.REPET.sorted.filtered.superfamily.gff\n",
      "/home/anjuni/analysis/gff_output/Pst_104E_v13_p_ctg.REPET.sorted.filtered.superfamily.gff\n",
      "/home/anjuni/analysis/gff_output/Pst_104E_v13_ph_ctg.REPET.sorted.filtered.superfamily.gff\n"
     ]
    }
   ],
   "source": [
    "#Check that the list works\n",
    "print(*bed_file_list, sep='\\n')\n",
    "print(*gff_file_list, sep='\\n')\n",
    "print(*te_file_list, sep='\\n')"
   ]
  },
  {
   "cell_type": "markdown",
   "metadata": {},
   "source": [
    "## <span style='color:deeppink'> 1. Comparing methylation sequencing methods <span/>"
   ]
  },
  {
   "cell_type": "code",
   "execution_count": 8,
   "metadata": {},
   "outputs": [
    {
     "name": "stdout",
     "output_type": "stream",
     "text": [
      "/home/anjuni/methylation_calling/pacbio/input/sorted_bed_files/6mA_prob_smrtlink_sorted.bed\n",
      "/home/anjuni/methylation_calling/pacbio/input/sorted_bed_files/6mA_hc_tombo_sorted.bed\n"
     ]
    }
   ],
   "source": [
    "%%bash\n",
    "\n",
    "# find overlap between 6mA from PacBio and Nanopore for 6mA data\n",
    "\n",
    "pb=/home/anjuni/methylation_calling/pacbio/input/sorted_bed_files/6mA_prob_smrtlink_sorted.bed # use basecall accuracy instead of Phred score\n",
    "ont=/home/anjuni/methylation_calling/pacbio/input/sorted_bed_files/6mA_hc_tombo_sorted.bed # use sites with non-zero methylation\n",
    "\n",
    "out1=/home/anjuni/analysis/bedtools_output/sequencing_comparison/6mA_pb_ont.bed\n",
    "out2=/home/anjuni/analysis/bedtools_output/sequencing_comparison/6mA_ont_pb.bed\n",
    "\n",
    "echo $pb\n",
    "echo $ont\n",
    "\n",
    "bedtools intersect -a $pb -b $ont > $out1\n",
    "bedtools intersect -a $ont -b $pb > $out2"
   ]
  },
  {
   "cell_type": "code",
   "execution_count": 9,
   "metadata": {},
   "outputs": [],
   "source": [
    "# Function to count the number of sites in each file\n",
    "def count_sites(file_list):\n",
    "    \"\"\"Outputs a dictionary of each cutoff file and the number of sites it has.\"\"\"\n",
    "    count_dict = {}\n",
    "    for file in file_list:\n",
    "        with open(file) as in_file:\n",
    "            count = 0\n",
    "            for line in in_file:\n",
    "                count += 1\n",
    "        count_dict[file.split('/')[-1]] = count\n",
    "    return count_dict"
   ]
  },
  {
   "cell_type": "code",
   "execution_count": 81,
   "metadata": {},
   "outputs": [],
   "source": [
    "#check how many overlapping sites there were\n",
    "tech_overlap_dict = count_sites(bed_file_list)"
   ]
  },
  {
   "cell_type": "code",
   "execution_count": 82,
   "metadata": {},
   "outputs": [
    {
     "data": {
      "text/plain": [
       "{'5mC_CpG_np_tombo.bed': 3708640,\n",
       " '5mC_CpG_tombo_np.bed': 3708640,\n",
       " '5mC_hc_nanopolish_sorted.bed': 3783438,\n",
       " '5mC_hc_tombo_sorted.CpG.bed': 5167951,\n",
       " '5mC_hc_tombo_sorted.CpG.plus.bed': 5167951,\n",
       " '5mC_hc_tombo_sorted.bed': 67308386,\n",
       " '5mC_minus_tombo_sorted.bed': 34272921,\n",
       " '5mC_nanopolish_sorted.bed': 5302131,\n",
       " '5mC_np_tombo.bed': 1681653,\n",
       " '5mC_plus_CpG_np_tombo.bed': 3708640,\n",
       " '5mC_plus_CpG_tombo_np.bed': 3708640,\n",
       " '5mC_plus_tombo_sorted.bed': 34263097,\n",
       " '5mC_rerun_s_nanopolish.bed': 5302131,\n",
       " '5mC_s_nanopolish.bed': 5302131,\n",
       " '5mC_tombo_np.bed': 1681653,\n",
       " '5mC_tombo_sorted.bed': 68536018,\n",
       " '6mA_hc_tombo_sorted.bed': 83451878,\n",
       " '6mA_ont_pb.bed': 84733,\n",
       " '6mA_prob_smrtlink_sorted.bed': 88932,\n",
       " '6mA_tombo_sorted.bed': 85779879,\n",
       " 'nano_minus_tombo_overlap.bed': 0,\n",
       " 'nano_plus_tombo_overlap.bed': 5221309,\n",
       " 'nanopolish_rerun_subtract.bed': 0}"
      ]
     },
     "execution_count": 82,
     "metadata": {},
     "output_type": "execute_result"
    }
   ],
   "source": [
    "tech_overlap_dict"
   ]
  },
  {
   "cell_type": "code",
   "execution_count": 27,
   "metadata": {},
   "outputs": [
    {
     "name": "stdout",
     "output_type": "stream",
     "text": [
      "Total adenine sites: \t 85779879\n",
      "Nanopore 6mA sites: \t 83451878\n",
      "PacBio 6mA sites: \t 88932\n",
      "Overlapping 6mA sites: \t 84733\n"
     ]
    }
   ],
   "source": [
    "#check how many overlapping sites there were\n",
    "print('Total adenine sites:', '\\t', tech_overlap_dict['6mA_tombo_sorted.bed'])\n",
    "print('Nanopore 6mA sites:', '\\t', tech_overlap_dict['6mA_hc_tombo_sorted.bed'])\n",
    "print('PacBio 6mA sites:', '\\t', tech_overlap_dict['6mA_prob_smrtlink_sorted.bed'])\n",
    "print('Overlapping 6mA sites:', '\\t', tech_overlap_dict['6mA_ont_pb.bed'])"
   ]
  },
  {
   "cell_type": "code",
   "execution_count": 45,
   "metadata": {},
   "outputs": [
    {
     "name": "stdout",
     "output_type": "stream",
     "text": [
      "Percentage overlap between PacBio and Nanopore as a proportion of PB sites: \t 95.278%\n",
      "Percentage overlap between PacBio and Nanopore as a proportation of ONT sites: \t 0.102%\n",
      "Percentage overlap between PacBio and Nanopore as a proportion of adenine: \t 0.099%\n",
      "PacBio sites as a proportion of adenine: \t 0.104%\n",
      "Nanopore sites as a proportion of adenine: \t 97.286%\n"
     ]
    }
   ],
   "source": [
    "# Descriptive Statistics\n",
    "print('Percentage overlap between PacBio and Nanopore as a proportion of PB sites:', '\\t', \"{0:.3f}%\".format(100*tech_overlap_dict['6mA_ont_pb.bed']/tech_overlap_dict['6mA_prob_smrtlink_sorted.bed']))\n",
    "print('Percentage overlap between PacBio and Nanopore as a proportation of ONT sites:', '\\t', \"{0:.3f}%\".format(100*tech_overlap_dict['6mA_ont_pb.bed']/tech_overlap_dict['6mA_hc_tombo_sorted.bed']))\n",
    "print('Percentage overlap between PacBio and Nanopore as a proportion of adenine:', '\\t', \"{0:.3f}%\".format(100*tech_overlap_dict['6mA_ont_pb.bed']/tech_overlap_dict['6mA_tombo_sorted.bed']))\n",
    "print('PacBio sites as a proportion of adenine:', '\\t', \"{0:.3f}%\".format(100*tech_overlap_dict['6mA_prob_smrtlink_sorted.bed']/tech_overlap_dict['6mA_tombo_sorted.bed']))\n",
    "print('Nanopore sites as a proportion of adenine:', '\\t', \"{0:.3f}%\".format(100*tech_overlap_dict['6mA_hc_tombo_sorted.bed']/tech_overlap_dict['6mA_tombo_sorted.bed']))"
   ]
  },
  {
   "cell_type": "markdown",
   "metadata": {},
   "source": [
    "#### <span style='color:deeppink'> Observations <span/>\n",
    "\n",
    "Very high similarity between Nanopore and PacBio, when compared to PacBio. But PacBio sites are only a small fraction of Tombo sites, and only include highly accurate sites.\n",
    "\n",
    "When overlapping PacBio and all Nanopore (Tombo) sites, which are all adenines in the genome, there was a higher overlap (88932) than when overlapping only non-zero PB and ONT sites (84733). This indicates PB detected sites that Nanopore did not, and these were high probability sites that were missed, as PB only had high probability (>99% basecall accuracy) sites.\n",
    "\n",
    "There are also more overlapped sites when using the zero-probability sites from tombo, compared to only using only high confidence sites from both. This also suggests that Tombo/Nanopore had missed some methylated sites. In addition, Tombo is likely to have a high rate of false positives, as it detected 97% of adenines as methylated."
   ]
  },
  {
   "cell_type": "markdown",
   "metadata": {},
   "source": [
    "## <span style='color:#ff14ff'> 2. Comparing methylation detection methods <span/>"
   ]
  },
  {
   "cell_type": "code",
   "execution_count": 3,
   "metadata": {},
   "outputs": [
    {
     "name": "stdout",
     "output_type": "stream",
     "text": [
      "/home/anjuni/methylation_calling/pacbio/input/sorted_bed_files/5mC_hc_nanopolish_sorted.bed\n",
      "/home/anjuni/methylation_calling/pacbio/input/sorted_bed_files/5mC_hc_tombo_sorted.bed\n"
     ]
    }
   ],
   "source": [
    "%%bash\n",
    "\n",
    "# compare overlap between Tombo and Nanopolish for 5mC data\n",
    "np=/home/anjuni/methylation_calling/pacbio/input/sorted_bed_files/5mC_hc_nanopolish_sorted.bed\n",
    "tombo=/home/anjuni/methylation_calling/pacbio/input/sorted_bed_files/5mC_hc_tombo_sorted.bed\n",
    "\n",
    "out1=/home/anjuni/analysis/bedtools_output/sequencing_comparison/5mC_np_tombo.bed\n",
    "out2=/home/anjuni/analysis/bedtools_output/sequencing_comparison/5mC_tombo_np.bed\n",
    "\n",
    "echo $np\n",
    "echo $tombo\n",
    "\n",
    "bedtools intersect -a $np -b $tombo > $out1\n",
    "bedtools intersect -a $tombo -b $np > $out2"
   ]
  },
  {
   "cell_type": "code",
   "execution_count": 52,
   "metadata": {},
   "outputs": [
    {
     "name": "stdout",
     "output_type": "stream",
     "text": [
      "Total cytosine sites: \t 68536018\n",
      "Total CpG sites: \t 5302131\n",
      "Tombo 5mC sites: \t 67308386\n",
      "Nanopolish 5mC sites: \t 3783438\n",
      "Overlapping 5mC sites: \t 1681653\n"
     ]
    }
   ],
   "source": [
    "#check how many overlapping sites there were\n",
    "print('Total cytosine sites:', '\\t', tech_overlap_dict['5mC_tombo_sorted.bed'])\n",
    "print('Total CpG sites:', '\\t', tech_overlap_dict['5mC_nanopolish_sorted.bed'])\n",
    "print('Tombo 5mC sites:', '\\t', tech_overlap_dict['5mC_hc_tombo_sorted.bed'])\n",
    "print('Nanopolish 5mC sites:', '\\t', tech_overlap_dict['5mC_hc_nanopolish_sorted.bed'])\n",
    "print('Overlapping 5mC sites:', '\\t', tech_overlap_dict['5mC_tombo_np.bed'])"
   ]
  },
  {
   "cell_type": "code",
   "execution_count": 58,
   "metadata": {},
   "outputs": [
    {
     "name": "stdout",
     "output_type": "stream",
     "text": [
      "Percentage overlap between Tombo and Nanopolish as a proportion of Nanopolish sites: \t 44.448%\n",
      "Percentage overlap between Tombo and Nanopolish as a proportation of Tombo sites: \t 2.498%\n",
      "Percentage of overlap between Tombo and Nanopolish as a proportion of CpG sites: \t 31.717%\n",
      "Percentage overlap between Tombo and Nanopolish as a proportion of cytosine: \t 2.454%\n",
      "Nanopolish sites as a proportion of CpG sites: \t 71.357%\n",
      "Tombo sites as a proportion of cytosine: \t 98.209%\n",
      "Nanopolish sites as a proportion of cytosine: \t 5.520%\n"
     ]
    }
   ],
   "source": [
    "# Descriptive Statistics\n",
    "print('Percentage overlap between Tombo and Nanopolish as a proportion of Nanopolish sites:', '\\t', \"{0:.3f}%\".format(100*tech_overlap_dict['5mC_tombo_np.bed']/tech_overlap_dict['5mC_hc_nanopolish_sorted.bed']))\n",
    "print('Percentage overlap between Tombo and Nanopolish as a proportation of Tombo sites:', '\\t', \"{0:.3f}%\".format(100*tech_overlap_dict['5mC_tombo_np.bed']/tech_overlap_dict['5mC_hc_tombo_sorted.bed']))\n",
    "print('Percentage of overlap between Tombo and Nanopolish as a proportion of CpG sites:', '\\t', \"{0:.3f}%\".format(100*tech_overlap_dict['5mC_tombo_np.bed']/tech_overlap_dict['5mC_nanopolish_sorted.bed']))\n",
    "print('Percentage overlap between Tombo and Nanopolish as a proportion of cytosine:', '\\t', \"{0:.3f}%\".format(100*tech_overlap_dict['5mC_tombo_np.bed']/tech_overlap_dict['5mC_tombo_sorted.bed']))\n",
    "print('Nanopolish sites as a proportion of CpG sites:', '\\t', \"{0:.3f}%\".format(100*tech_overlap_dict['5mC_hc_nanopolish_sorted.bed']/tech_overlap_dict['5mC_nanopolish_sorted.bed']))\n",
    "print('Tombo sites as a proportion of cytosine:', '\\t', \"{0:.3f}%\".format(100*tech_overlap_dict['5mC_hc_tombo_sorted.bed']/tech_overlap_dict['5mC_tombo_sorted.bed']))\n",
    "print('Nanopolish sites as a proportion of cytosine:', '\\t', \"{0:.3f}%\".format(100*tech_overlap_dict['5mC_hc_nanopolish_sorted.bed']/tech_overlap_dict['5mC_tombo_sorted.bed']))"
   ]
  },
  {
   "cell_type": "markdown",
   "metadata": {},
   "source": [
    "#### <span style='color:#ff14ff'> Observations <span/>\n",
    "While adenine methylation had high similarity between ONT and PB, cytosine methylation had only 44% similarity between NP and tombo. This is likely because NP only has CpG sites, and Tombo has all cytosine sites, so Tombo will detect far more potentially methylated sites, even those that are not CpG sites, so it will have far more sites than NP to begin with.\n",
    "Again, Tombo is likely to have a high amount of false positives, as 98% of cytosines are methylated. Nanopolish has 71% CpG methylation, which is similar to the CpG methylation rate in mammals, which is 70-80% (Jabbari & Bernardi, 2004). Therefore, Nanopolish is likely to be more accurate than Tombo.\n",
    "The overlap between Tombo and Nanopolish suggests only a 2.5% rate of cytosine methylation, which is half the 5% cytosine methylation rate detected by Brar et al. (2018).\n",
    "\n",
    "-source: https://www.sciencedirect.com/science/article/pii/S0378111904000836?via%3Dihub (Jabbari & Bernardi, 2004)"
   ]
  },
  {
   "cell_type": "markdown",
   "metadata": {},
   "source": [
    "### <span style='color:#ff14ff'> 2.A Comparing CpG site methylation. <span/>"
   ]
  },
  {
   "cell_type": "code",
   "execution_count": 60,
   "metadata": {},
   "outputs": [
    {
     "name": "stdout",
     "output_type": "stream",
     "text": [
      "CpG sites: \t 5302131\n",
      "Cytosine sites: 68536018\n"
     ]
    }
   ],
   "source": [
    "#check how many cytosine sites and CpG sites there are\n",
    "print('CpG sites:', '\\t', tech_overlap_dict['5mC_nanopolish_sorted.bed'])\n",
    "print('Cytosine sites:', tech_overlap_dict['5mC_tombo_sorted.bed'])"
   ]
  },
  {
   "cell_type": "code",
   "execution_count": 61,
   "metadata": {},
   "outputs": [
    {
     "name": "stdout",
     "output_type": "stream",
     "text": [
      "Percentage of CpG sites as a proportion of cytosine sites: 7.736%\n"
     ]
    }
   ],
   "source": [
    "# Descriptive Statistics\n",
    "print('Percentage of CpG sites as a proportion of cytosine sites:', \"{0:.3f}%\".format(100*tech_overlap_dict['5mC_nanopolish_sorted.bed']/tech_overlap_dict['5mC_tombo_sorted.bed']))"
   ]
  },
  {
   "cell_type": "markdown",
   "metadata": {},
   "source": [
    "#### <span style='color:#ff14ff'> Solution <span/>\n",
    "1. Make a file of methylated CpG sites detected by Tombo.\n",
    "2. Intersect this with methylated (CpG) sites detected by Nanopolish.\n",
    "\n",
    "I will be overlapping CpG sites from Tombo and NP, because NP only has CpG sites and Tombo has all cytosine sites.\n",
    "So from the start, the overlap wouldn't have been accurate, because tombo considers sites that NP does not."
   ]
  },
  {
   "cell_type": "code",
   "execution_count": null,
   "metadata": {},
   "outputs": [],
   "source": [
    "%%bash\n",
    "\n",
    "# make a file of CpG sites from tombo\n",
    "all_cpg=/home/anjuni/methylation_calling/pacbio/input/sorted_bed_files/5mC_nanopolish_sorted.bed\n",
    "all_tombo=/home/anjuni/methylation_calling/pacbio/input/sorted_bed_files/5mC_hc_tombo_sorted.bed\n",
    "tombo_cpg=/home/anjuni/methylation_calling/pacbio/input/sorted_bed_files/5mC_hc_tombo_sorted.CpG.bed\n",
    "\n",
    "bedtools intersect -a $all_tombo -b $all_cpg > $tombo_cpg"
   ]
  },
  {
   "cell_type": "code",
   "execution_count": null,
   "metadata": {},
   "outputs": [],
   "source": [
    "%%bash\n",
    "\n",
    "# intersect Tombo and NP CpG sites\n",
    "tombo_cpg=/home/anjuni/methylation_calling/pacbio/input/sorted_bed_files/5mC_hc_tombo_sorted.CpG.bed\n",
    "np_cpg=/home/anjuni/methylation_calling/pacbio/input/sorted_bed_files/5mC_hc_nanopolish_sorted.bed\n",
    "m_tombo_cpg=/home/anjuni/analysis/bedtools_output/sequencing_comparison/5mC_CpG_tombo_np.bed\n",
    "m_np_cpg=/home/anjuni/analysis/bedtools_output/sequencing_comparison/5mC_CpG_np_tombo.bed\n",
    "\n",
    "bedtools intersect -a $tombo_cpg -b $np_cpg > $m_tombo_cpg\n",
    "bedtools intersect -a $np_cpg -b $tombo_cpg > $m_np_cpg"
   ]
  },
  {
   "cell_type": "code",
   "execution_count": 77,
   "metadata": {},
   "outputs": [
    {
     "name": "stdout",
     "output_type": "stream",
     "text": [
      "Total CpG sites: \t 5302131\n",
      "Nanopolish methylated CpG sites: \t 3783438\n",
      "Tombo methylated CpG sites: \t 5167951\n",
      "Overlapping methylated CpG sites: \t 3708640\n"
     ]
    }
   ],
   "source": [
    "#check how many overlapping sites there were\n",
    "print('Total CpG sites:', '\\t', tech_overlap_dict['5mC_nanopolish_sorted.bed'])\n",
    "print('Nanopolish methylated CpG sites:', '\\t', tech_overlap_dict['5mC_hc_nanopolish_sorted.bed'])\n",
    "print('Tombo methylated CpG sites:', '\\t', tech_overlap_dict['5mC_hc_tombo_sorted.CpG.bed'])\n",
    "print('Overlapping methylated CpG sites:', '\\t', tech_overlap_dict['5mC_CpG_tombo_np.bed'])"
   ]
  },
  {
   "cell_type": "code",
   "execution_count": 369,
   "metadata": {},
   "outputs": [
    {
     "name": "stdout",
     "output_type": "stream",
     "text": [
      "Nanopolish methylated CpG sites:\n",
      "3783438\n",
      "Tombo methylated CpG sites:\n",
      "5167951\n",
      "Overlapping methylated CpG sites:\n",
      "3708640\n",
      "Total CpG sites:\n",
      "5302131\n"
     ]
    }
   ],
   "source": [
    "%%bash\n",
    "\n",
    "#check how many overlapping sites there were\n",
    "cd /home/anjuni/analysis/bedtools_output/sequencing_comparison/\n",
    "\n",
    "echo Nanopolish methylated CpG sites:\n",
    "less /home/anjuni/methylation_calling/pacbio/input/sorted_bed_files/5mC_hc_nanopolish_sorted.bed | wc -l\n",
    "\n",
    "echo Tombo methylated CpG sites:\n",
    "less /home/anjuni/methylation_calling/pacbio/input/sorted_bed_files/5mC_hc_tombo_sorted.CpG.bed | wc -l\n",
    "\n",
    "echo Overlapping methylated CpG sites:\n",
    "less 5mC_CpG_tombo_np.bed | wc -l\n",
    "\n",
    "echo Total CpG sites:\n",
    "less /home/anjuni/methylation_calling/pacbio/input/sorted_bed_files/5mC_nanopolish_sorted.bed | wc -l"
   ]
  },
  {
   "cell_type": "code",
   "execution_count": 74,
   "metadata": {},
   "outputs": [
    {
     "name": "stdout",
     "output_type": "stream",
     "text": [
      "Percentage overlap between Tombo and Nanopolish as a proportion of NP CpG sites: \t 98.023%\n",
      "Percentage overlap between Tombo and Nanopolish as a proportation of Tombo CpG sites: \t 71.762%\n",
      "Percentage of CpG sites methylated: \t 69.946%\n"
     ]
    }
   ],
   "source": [
    "# Descriptive Statistics\n",
    "print('Percentage overlap between Tombo and Nanopolish as a proportion of NP CpG sites:', '\\t', \"{0:.3f}%\".format(100*tech_overlap_dict['5mC_CpG_tombo_np.bed']/tech_overlap_dict['5mC_hc_nanopolish_sorted.bed']))\n",
    "print('Percentage overlap between Tombo and Nanopolish as a proportation of Tombo CpG sites:', '\\t', \"{0:.3f}%\".format(100*tech_overlap_dict['5mC_CpG_tombo_np.bed']/tech_overlap_dict['5mC_hc_tombo_sorted.CpG.bed']))\n",
    "print('Percentage of overlapping CpG sites methylated:', '\\t', \"{0:.3f}%\".format(100*tech_overlap_dict['5mC_CpG_tombo_np.bed']/tech_overlap_dict['5mC_nanopolish_sorted.bed']))"
   ]
  },
  {
   "cell_type": "markdown",
   "metadata": {},
   "source": [
    "#### <span style='color:#ff14ff'> Observations <span/>\n",
    "While the overlap between Tombo and NP changed to 98% after only comparing CpG sites, the nearly 50% overlap when comparing cytosine methylation may be because NP only considers one strand while Tombo considers both.\n",
    "The Tombo cpG site was generated by intersecting Tombo methylated sites with all Nanopolish sites, which are all CpG sites.\n",
    "\n",
    "This may be resolved by using only the plus file from Tombo and comparing its results to NP."
   ]
  },
  {
   "cell_type": "markdown",
   "metadata": {},
   "source": [
    "### <span style='color:#ff14ff'> 2.B Test out whether Nanopolish only detects (+) strand <span/>\n",
    "Intersect tombo 5mC (-) strand file with nanopolish file to see if there is overlap. Then intersect the tombo (+) strand with nanopolish.\n",
    "\n",
    "The 44% match may just be because I, for some reason, put all the nanopolish sites as (+) strand when making the original BED file :P"
   ]
  },
  {
   "cell_type": "code",
   "execution_count": 147,
   "metadata": {},
   "outputs": [],
   "source": [
    "%%bash\n",
    "\n",
    "#Sort the initial tombo bed files, because they were not sorted and slowed down the intersection\n",
    "\n",
    "tombo_minus=/home/anjuni/methylation_calling/pacbio/input/bed_files/initial_bed_files/5mC_minus_tombo.bed\n",
    "tombo_plus=/home/anjuni/methylation_calling/pacbio/input/bed_files/initial_bed_files/5mC_plus_tombo.bed\n",
    "nanopolish=/home/anjuni/methylation_calling/pacbio/input/bed_files/5mC_s_nanopolish.bed\n",
    "\n",
    "sort_tombo_minus=/home/anjuni/methylation_calling/pacbio/input/bed_files/5mC_minus_tombo_sorted.bed\n",
    "sort_tombo_plus=/home/anjuni/methylation_calling/pacbio/input/bed_files/5mC_plus_tombo_sorted.bed\n",
    "\n",
    "sortBed -i $tombo_minus > $sort_tombo_minus\n",
    "sortBed -i $tombo_plus > $sort_tombo_plus"
   ]
  },
  {
   "cell_type": "code",
   "execution_count": 148,
   "metadata": {},
   "outputs": [],
   "source": [
    "%%bash\n",
    "\n",
    "#Intersect the (+) and (-) BED files with nanopolish file\n",
    "#to see whether Nanopolish has methylation-calls on both strands :)\n",
    "\n",
    "sort_tombo_minus=/home/anjuni/methylation_calling/pacbio/input/bed_files/5mC_minus_tombo_sorted.bed\n",
    "sort_tombo_plus=/home/anjuni/methylation_calling/pacbio/input/bed_files/5mC_plus_tombo_sorted.bed\n",
    "nanopolish=/home/anjuni/methylation_calling/pacbio/input/bed_files/5mC_s_nanopolish.bed\n",
    "\n",
    "intersectBed -a $nanopolish -b $sort_tombo_minus > /home/anjuni/methylation_calling/pacbio/input/bed_files/nano_minus_tombo_overlap.bed\n",
    "intersectBed -a $nanopolish -b $sort_tombo_plus > /home/anjuni/methylation_calling/pacbio/input/bed_files/nano_plus_tombo_overlap.bed"
   ]
  },
  {
   "cell_type": "code",
   "execution_count": 85,
   "metadata": {},
   "outputs": [
    {
     "name": "stdout",
     "output_type": "stream",
     "text": [
      "The number of CpG sites captured by Nanopolish: \t 5302131\n",
      "The number of overlapping (+) strand sites captured by Nanopolish and by Tombo: \t 5221309\n",
      "The number of overlapping (-) strand sites captured by Nanopolish and by Tombo: \t 0\n"
     ]
    }
   ],
   "source": [
    "#Compare the number of NP sites to Tombo sites on the forward and reverse strand\n",
    "\n",
    "print('The number of CpG sites captured by Nanopolish:', '\\t', tech_overlap_dict['5mC_nanopolish_sorted.bed'])\n",
    "print('The number of overlapping (+) strand sites captured by Nanopolish and by Tombo:', '\\t', tech_overlap_dict['nano_plus_tombo_overlap.bed'])\n",
    "print('The number of overlapping (-) strand sites captured by Nanopolish and by Tombo:', '\\t', tech_overlap_dict['nano_minus_tombo_overlap.bed'])"
   ]
  },
  {
   "cell_type": "code",
   "execution_count": 83,
   "metadata": {},
   "outputs": [
    {
     "name": "stdout",
     "output_type": "stream",
     "text": [
      "Percentage overlap between Nanopolish and Tombo (forward strand) as a proportion of NP sites: 98.476%\n"
     ]
    }
   ],
   "source": [
    "print('Percentage overlap between Nanopolish and Tombo (forward strand) as a proportion of NP sites:', \"{0:.3f}%\".format(100*tech_overlap_dict['nano_plus_tombo_overlap.bed']/tech_overlap_dict['5mC_nanopolish_sorted.bed']))"
   ]
  },
  {
   "cell_type": "markdown",
   "metadata": {},
   "source": [
    "There is a 98% similarity between Nanopolish sites and Tombo forward strand sites, but no similarity between Nanopolish sites and Tombo reverse strand sites, indicating that the 44% similarity between Nanopolish and Tombo from earlier was because Nanopolish only detected methylation on the forward strand.\n",
    "\n",
    "I am currently re-running Nanopolish methylation-calling in case there was a mistake in the code earlier, causing it to ignore the reverse strand. Re-running the test run for pcontig_109 showed no difference in output to the previous one. They had the same number of sites (46801) and had the same output for the first 10 lines and last 10 lines. Now I think there wasn't a mistake because I only copied the index files to a new folder to save them back to the output folder, while a copy of all index files remained in the original fastq folder. This allowed methylation-calling to continue.\n",
    "\n",
    "Based on these results, I will intersect the methylated forward strand CpG sites that Tombo detected with the the Nanopolish site, to ensure only related sites intersect :)"
   ]
  },
  {
   "cell_type": "code",
   "execution_count": 156,
   "metadata": {},
   "outputs": [],
   "source": [
    "%%bash\n",
    "\n",
    "#bedtools script to check nanopolish results\n",
    "#if the subtract file is empty, the initial nanopolish run was accurate\n",
    "\n",
    "nano1=/home/anjuni/methylation_calling/pacbio/input/bed_files/5mC_s_nanopolish.bed\n",
    "nano2=/home/anjuni/methylation_calling/pacbio/input/bed_files/5mC_rerun_s_nanopolish.bed\n",
    "nano1_2_sub=/home/anjuni/methylation_calling/pacbio/input/bed_files/nanopolish_rerun_subtract.bed\n",
    "\n",
    "bedtools subtract -a $nano1 -b $nano2 > $nano1_2_sub"
   ]
  },
  {
   "cell_type": "code",
   "execution_count": 86,
   "metadata": {},
   "outputs": [
    {
     "name": "stdout",
     "output_type": "stream",
     "text": [
      "Number of site differences between the original Nanopolish run and the re-run: \t 0\n"
     ]
    }
   ],
   "source": [
    "print('Number of site differences between the original Nanopolish run and the re-run:', '\\t', tech_overlap_dict['nanopolish_rerun_subtract.bed'])"
   ]
  },
  {
   "cell_type": "markdown",
   "metadata": {},
   "source": [
    "As there was no difference in sites between each Nanopolish run, the original run had no issues causing only the (+) strand to be detected and this issue is a result of the software."
   ]
  },
  {
   "cell_type": "markdown",
   "metadata": {},
   "source": [
    "### <span style='color:#ff14ff'> 2.C Finding overlap between forward strand CpG Sites. (Finally comparing methylation-callers.) <span/>"
   ]
  },
  {
   "cell_type": "code",
   "execution_count": 164,
   "metadata": {},
   "outputs": [],
   "source": [
    "%%bash\n",
    "\n",
    "#Make a tombo file with only forward strand CpG to match the Nanopolish data\n",
    "grep '+' /home/anjuni/methylation_calling/pacbio/input/sorted_bed_files/5mC_hc_tombo_sorted.CpG.bed > /home/anjuni/methylation_calling/pacbio/input/sorted_bed_files/5mC_hc_tombo_sorted.CpG.plus.bed\n",
    "\n",
    "#This file ended up being exactly the same as the original CpG file for Tombo, but this new file will be used for added detail"
   ]
  },
  {
   "cell_type": "code",
   "execution_count": 165,
   "metadata": {},
   "outputs": [
    {
     "name": "stdout",
     "output_type": "stream",
     "text": [
      "/home/anjuni/methylation_calling/pacbio/input/sorted_bed_files/5mC_hc_nanopolish_sorted.bed\n",
      "/home/anjuni/methylation_calling/pacbio/input/sorted_bed_files/5mC_hc_tombo_sorted.CpG.plus.bed\n"
     ]
    }
   ],
   "source": [
    "%%bash\n",
    "\n",
    "\n",
    "# compare overlap between Tombo and Nanopolish for forward strand CpG 5mC data\n",
    "np=/home/anjuni/methylation_calling/pacbio/input/sorted_bed_files/5mC_hc_nanopolish_sorted.bed\n",
    "tombo=/home/anjuni/methylation_calling/pacbio/input/sorted_bed_files/5mC_hc_tombo_sorted.CpG.plus.bed\n",
    "\n",
    "out1=/home/anjuni/analysis/bedtools_output/sequencing_comparison/5mC_plus_CpG_np_tombo.bed\n",
    "out2=/home/anjuni/analysis/bedtools_output/sequencing_comparison/5mC_plus_CpG_tombo_np.bed\n",
    "\n",
    "echo $np\n",
    "echo $tombo\n",
    "\n",
    "bedtools intersect -a $np -b $tombo > $out1\n",
    "bedtools intersect -a $tombo -b $np > $out2"
   ]
  },
  {
   "cell_type": "code",
   "execution_count": 87,
   "metadata": {},
   "outputs": [
    {
     "name": "stdout",
     "output_type": "stream",
     "text": [
      "The number of methylated CpG sites captured by Nanopolish: \t 3783438\n",
      "The number of methylated CpG sites captured by Tombo on the (+) strand: \t 5167951\n",
      "The number of overlapping methylated CpG sites captured by Nanopolish and Tombo on the (+) strand: \t 3708640\n"
     ]
    }
   ],
   "source": [
    "#Compare the number of (+) strand CpG NP sites to (+) strand CpG Tombo sites on the forward strand\n",
    "print('The number of methylated CpG sites captured by Nanopolish:', '\\t', tech_overlap_dict['5mC_hc_nanopolish_sorted.bed'])\n",
    "print('The number of methylated CpG sites captured by Tombo on the (+) strand:', '\\t', tech_overlap_dict['5mC_hc_tombo_sorted.CpG.plus.bed'])\n",
    "print('The number of overlapping methylated CpG sites captured by Nanopolish and Tombo on the (+) strand:', '\\t', tech_overlap_dict['5mC_plus_CpG_tombo_np.bed'])"
   ]
  },
  {
   "cell_type": "code",
   "execution_count": 88,
   "metadata": {},
   "outputs": [
    {
     "name": "stdout",
     "output_type": "stream",
     "text": [
      "Percentage overlap between Nanopolish and Tombo (+ strand) as a proportion of NP sites: 98.023%\n",
      "Percentage overlap between Nanopolish and Tombo (+ strand) as a proportion of tombo sites: 71.762%\n"
     ]
    }
   ],
   "source": [
    "print('Percentage overlap between Nanopolish and Tombo (+ strand) as a proportion of NP sites:', \"{0:.3f}%\".format(100*tech_overlap_dict['5mC_plus_CpG_tombo_np.bed']/tech_overlap_dict['5mC_hc_nanopolish_sorted.bed']))\n",
    "print('Percentage overlap between Nanopolish and Tombo (+ strand) as a proportion of tombo sites:', \"{0:.3f}%\".format(100*tech_overlap_dict['5mC_plus_CpG_tombo_np.bed']/tech_overlap_dict['5mC_hc_tombo_sorted.CpG.plus.bed']))"
   ]
  },
  {
   "cell_type": "markdown",
   "metadata": {},
   "source": [
    "There was a 98% overlap between Nanopolish and Tombo sites, as a proportion of Nanopolish sites, as this was the smaller dataset. Using the positive strand CpG sites increased the overlap from 44% to 98%."
   ]
  },
  {
   "cell_type": "code",
   "execution_count": 1527,
   "metadata": {},
   "outputs": [
    {
     "name": "stdout",
     "output_type": "stream",
     "text": [
      "1459311 74798 3708640\n"
     ]
    }
   ],
   "source": [
    "print(a,b,c)"
   ]
  },
  {
   "cell_type": "code",
   "execution_count": 90,
   "metadata": {},
   "outputs": [
    {
     "data": {
      "image/png": "[encoded data removed]",
      "text/plain": [
       "<matplotlib.figure.Figure at 0x7ff63d61af98>"
      ]
     },
     "metadata": {},
     "output_type": "display_data"
    }
   ],
   "source": [
    "# First way to call the 2 group Venn diagram:\n",
    "#The number of methylated CpG sites captured by Nanopolish:\n",
    "#3783438\n",
    "#The number of methylated CpG sites captured by Tombo on the forward strand:\n",
    "#5167951\n",
    "#The number of overlapping methylated CpG sites captured by Nanopolish and by Tombo on the forward strand of the reference genome:\n",
    "#3708640\n",
    "c = tech_overlap_dict['5mC_plus_CpG_tombo_np.bed']\n",
    "a = tech_overlap_dict['5mC_hc_tombo_sorted.CpG.plus.bed']-tech_overlap_dict['5mC_plus_CpG_tombo_np.bed']\n",
    "b = tech_overlap_dict['5mC_hc_nanopolish_sorted.bed']-tech_overlap_dict['5mC_plus_CpG_tombo_np.bed']\n",
    "v = venn2(subsets = (a, b, c), set_labels = (' ', ' '))\n",
    "v.get_patch_by_id('01').set_color('#ff47a3')\n",
    "v.get_patch_by_id('10').set_color('#47d1ff')\n",
    "v.get_patch_by_id('11').set_color('#ffa347')\n",
    "plt.annotate('Tombo', xy=v.get_label_by_id('10').get_position() - np.array([0, 0.05]), xytext=(-70,-70), \\\n",
    "             ha='center', textcoords='offset points', bbox=dict(boxstyle='round,pad=0.5', fc='gray', alpha=0.1), \\\n",
    "             arrowprops=dict(arrowstyle='->', connectionstyle='arc3,rad=0.5',color='gray'))\n",
    "plt.annotate('Nanopolish', xy=v.get_label_by_id('01').get_position() - np.array([0, 0.05]), xytext=(40,-70), \\\n",
    "             ha='center', textcoords='offset points', bbox=dict(boxstyle='round,pad=0.5', fc='gray', alpha=0.1), \\\n",
    "             arrowprops=dict(arrowstyle='->', connectionstyle='arc3,rad=0.5',color='gray'))\n",
    "\n",
    "plt.title('Overlap between Tombo and Nanopolish sites')\n",
    "plt.show()"
   ]
  },
  {
   "cell_type": "code",
   "execution_count": 1531,
   "metadata": {},
   "outputs": [
    {
     "data": {
      "image/png": "[encoded data removed]",
      "text/plain": [
       "<matplotlib.figure.Figure at 0x7f47aa399a90>"
      ]
     },
     "metadata": {},
     "output_type": "display_data"
    }
   ],
   "source": [
    "# First way to call the 2 group Venn diagram:\n",
    "#The number of methylated CpG sites captured by Nanopolish:\n",
    "#3783438\n",
    "#The number of methylated CpG sites captured by Tombo on the forward strand:\n",
    "#5167951\n",
    "#The number of overlapping methylated CpG sites captured by Nanopolish and by Tombo on the forward strand of the reference genome:\n",
    "#3708640\n",
    "c = tech_overlap_dict['5mC_plus_CpG_tombo_np.bed']\n",
    "a = tech_overlap_dict['5mC_hc_tombo_sorted.CpG.plus.bed']-tech_overlap_dict['5mC_plus_CpG_tombo_np.bed']\n",
    "b = tech_overlap_dict['5mC_hc_nanopolish_sorted.bed']-tech_overlap_dict['5mC_plus_CpG_tombo_np.bed']\n",
    "v = venn2(subsets = (a, b, c), set_labels = (' ', ' '))\n",
    "v.get_patch_by_id('01').set_color('#ff47a3')\n",
    "v.get_patch_by_id('10').set_color('#47d1ff')\n",
    "v.get_patch_by_id('11').set_color('#ffa347')\n",
    "plt.annotate('Tombo', xy=v.get_label_by_id('10').get_position() - np.array([0, 0.05]), xytext=(-70,-70), \\\n",
    "             ha='center', textcoords='offset points', bbox=dict(boxstyle='round,pad=0.5', fc='gray', alpha=0.1), \\\n",
    "             arrowprops=dict(arrowstyle='->', connectionstyle='arc3,rad=0.5',color='gray'))\n",
    "plt.annotate('Nanopolish', xy=v.get_label_by_id('01').get_position() - np.array([0, 0.05]), xytext=(40,-70), \\\n",
    "             ha='center', textcoords='offset points', bbox=dict(boxstyle='round,pad=0.5', fc='gray', alpha=0.1), \\\n",
    "             arrowprops=dict(arrowstyle='->', connectionstyle='arc3,rad=0.5',color='gray'))\n",
    "\n",
    "plt.title('Overlap between Tombo and Nanopolish sites')\n",
    "plt.show()"
   ]
  },
  {
   "cell_type": "code",
   "execution_count": null,
   "metadata": {},
   "outputs": [],
   "source": [
    "# Nanopore and PacBio Venn diagrams don't look good, since PacBio sites are 1% of Nanopore sites,\n",
    "# so use the tombo nanopolish Venn diagram,\n",
    "# and a table of percentages will be used"
   ]
  },
  {
   "cell_type": "markdown",
   "metadata": {},
   "source": [
    "For the rest of the analysis, I will use the overlapped files for 5mC and 6mA data, and the Tombo files. This is because the Tombo files consider all possible A and C sites in the genome, and provide some consistency between the 6mA and 5mC data. In contrast, Nanopolish only detects 5mC at CpG sites on the forward strand, and SMRTLink does not provide a methylation-call accuracy value that is comparable to the accuracy in Nanopolis and Tombo. While Nanopolish and Tombo use the fraction of reads for the site that are methylated, SMRTLink uses a Phred score to determine methylation-call accuracy."
   ]
  },
  {
   "cell_type": "markdown",
   "metadata": {},
   "source": [
    "## <span style='color:#8a14ff'> 3. Making cutoff files. <span/>"
   ]
  },
  {
   "cell_type": "markdown",
   "metadata": {},
   "source": [
    "### <span style='color:#8a14ff'> 3.A Making cutoff files from five original methylation-calling files, and intersect the two sequencing methods and the two methyaltion-callers. <span/>"
   ]
  },
  {
   "cell_type": "code",
   "execution_count": 1320,
   "metadata": {},
   "outputs": [],
   "source": [
    "# Make the list of cutoffs\n",
    "cutoff_list = [1.00, 0.99, 0.95, 0.90, 0.80, 0.70, 0.60, 0.50, 0.40, 0.30, 0.20, 0.10, 0.00]"
   ]
  },
  {
   "cell_type": "code",
   "execution_count": null,
   "metadata": {},
   "outputs": [],
   "source": [
    "cutoff_list = sorted(cutoff_list)"
   ]
  },
  {
   "cell_type": "code",
   "execution_count": 497,
   "metadata": {},
   "outputs": [
    {
     "data": {
      "text/plain": [
       "13"
      ]
     },
     "execution_count": 497,
     "metadata": {},
     "output_type": "execute_result"
    }
   ],
   "source": [
    "len(cutoff_list)"
   ]
  },
  {
   "cell_type": "code",
   "execution_count": 196,
   "metadata": {},
   "outputs": [],
   "source": [
    "# Define function to filter\n",
    "def score_filter(feature, L):\n",
    "    \"\"\"Returns True if feature is longer than L\"\"\"\n",
    "    return float(feature.score) >= L\n",
    "\n",
    "def filter_by_cutoffs(bed_files, cutoffs, initial_file_path, final_file_path):\n",
    "    \"\"\"Filters files by the list of cutoffs given, and renames the file according to the cutoff.\"\"\"\n",
    "    for file in bed_files:\n",
    "        pybed_object = BedTool(file)\n",
    "        for x in cutoffs:\n",
    "            filtered_file = pybed_object.filter(score_filter, x)\n",
    "            cutoff = \"{:.2f}\".format(x)\n",
    "            cutoff_name = '.cutoff.' + cutoff + '.bed'\n",
    "            out_filename = file.replace('.bed', cutoff_name)\n",
    "            out_filename = out_filename.replace(initial_file_path, final_file_path)\n",
    "            filtered_file.saveas(out_filename)"
   ]
  },
  {
   "cell_type": "code",
   "execution_count": null,
   "metadata": {},
   "outputs": [],
   "source": [
    "#Run the function to filter all files\n",
    "initial_fp = '/home/anjuni/analysis/bedtools_output/sequencing_comparison/'\n",
    "final_fp = '/home/anjuni/analysis/bedtools_output/cutoffs_from_intersects/'\n",
    "filter_by_cutoffs(bed_file_list, cutoff_list, initial_fp, final_fp)"
   ]
  },
  {
   "cell_type": "code",
   "execution_count": 392,
   "metadata": {},
   "outputs": [],
   "source": [
    "# make file handles for the four input files for intersecting, and the hc_tombo file for later analysis\n",
    "sorted_bed_files = ['/home/anjuni/methylation_calling/pacbio/input/sorted_bed_files/5mC_hc_nanopolish_sorted.bed', \\\n",
    "                    '/home/anjuni/methylation_calling/pacbio/input/sorted_bed_files/5mC_hc_tombo_sorted.CpG.plus.bed', \\\n",
    "                    '/home/anjuni/methylation_calling/pacbio/input/sorted_bed_files/5mC_hc_tombo_sorted.bed', \\\n",
    "                    '/home/anjuni/methylation_calling/pacbio/input/sorted_bed_files/6mA_prob_smrtlink_sorted.bed', \\\n",
    "                    '/home/anjuni/methylation_calling/pacbio/input/sorted_bed_files/6mA_hc_tombo_sorted.bed']"
   ]
  },
  {
   "cell_type": "code",
   "execution_count": null,
   "metadata": {},
   "outputs": [],
   "source": [
    "#Run the function to make cutoffs of all the sorted bed files\n",
    "initial_fp1 = '/home/anjuni/methylation_calling/pacbio/input/sorted_bed_files/'\n",
    "final_fp1 = '/home/anjuni/methylation_calling/pacbio/input/sorted_bed_files/cutoffs/'\n",
    "filter_by_cutoffs(sorted_bed_files, cutoff_list, initial_fp1, final_fp1)"
   ]
  },
  {
   "cell_type": "code",
   "execution_count": 200,
   "metadata": {},
   "outputs": [],
   "source": [
    "%%bash\n",
    "\n",
    "#Move the 6mA files and 5mC files to separate folders, to make running intersections easier\n",
    "cd /home/anjuni/methylation_calling/pacbio/input/sorted_bed_files/\n",
    "mkdir cutoffs_6mA\n",
    "mkdir cutoffs_5mC\n",
    "mv cutoffs/6mA* cutoffs_6mA\n",
    "mv cutoffs/5mC* cutoffs_5mC\n",
    "rmdir cutoffs"
   ]
  },
  {
   "cell_type": "code",
   "execution_count": 437,
   "metadata": {},
   "outputs": [],
   "source": [
    "# make directories for 6mA and 5mC cutoff files\n",
    "DIRS['BED_CUTOFFS'] = os.path.join(DIRS['BASE1'], 'input', 'sorted_bed_files', 'cutoffs')\n",
    "DIRS['6MA_CUTOFFS'] = os.path.join(DIRS['BASE1'], 'input', 'sorted_bed_files', 'cutoffs_6mA')\n",
    "DIRS['5MC_CUTOFFS'] = os.path.join(DIRS['BASE1'], 'input', 'sorted_bed_files', 'cutoffs_5mC')"
   ]
  },
  {
   "cell_type": "code",
   "execution_count": 400,
   "metadata": {},
   "outputs": [
    {
     "name": "stdout",
     "output_type": "stream",
     "text": [
      "/home/anjuni/methylation_calling/pacbio/input/sorted_bed_files/cutoffs\n",
      "/home/anjuni/methylation_calling/pacbio/input/sorted_bed_files/cutoffs_6mA\n",
      "/home/anjuni/methylation_calling/pacbio/input/sorted_bed_files/cutoffs_5mC\n"
     ]
    }
   ],
   "source": [
    "print(DIRS['BED_CUTOFFS'])\n",
    "print(DIRS['6MA_CUTOFFS'])\n",
    "print(DIRS['5MC_CUTOFFS'])"
   ]
  },
  {
   "cell_type": "code",
   "execution_count": 504,
   "metadata": {
    "collapsed": true
   },
   "outputs": [
    {
     "name": "stdout",
     "output_type": "stream",
     "text": [
      "/home/anjuni/methylation_calling/pacbio/input/sorted_bed_files/cutoffs_6mA/6mA_hc_tombo_sorted.cutoff.0.90.bed\n",
      "/home/anjuni/methylation_calling/pacbio/input/sorted_bed_files/cutoffs_6mA/6mA_hc_tombo_sorted.cutoff.0.60.bed\n",
      "/home/anjuni/methylation_calling/pacbio/input/sorted_bed_files/cutoffs_6mA/6mA_hc_tombo_sorted.cutoff.0.30.bed\n",
      "/home/anjuni/methylation_calling/pacbio/input/sorted_bed_files/cutoffs_6mA/6mA_hc_tombo_sorted.cutoff.0.80.bed\n",
      "/home/anjuni/methylation_calling/pacbio/input/sorted_bed_files/cutoffs_6mA/6mA_hc_tombo_sorted.cutoff.0.70.bed\n",
      "/home/anjuni/methylation_calling/pacbio/input/sorted_bed_files/cutoffs_6mA/6mA_hc_tombo_sorted.cutoff.0.20.bed\n",
      "/home/anjuni/methylation_calling/pacbio/input/sorted_bed_files/cutoffs_6mA/6mA_hc_tombo_sorted.cutoff.0.10.bed\n",
      "/home/anjuni/methylation_calling/pacbio/input/sorted_bed_files/cutoffs_6mA/6mA_hc_tombo_sorted.cutoff.0.40.bed\n",
      "/home/anjuni/methylation_calling/pacbio/input/sorted_bed_files/cutoffs_6mA/6mA_hc_tombo_sorted.cutoff.0.99.bed\n",
      "/home/anjuni/methylation_calling/pacbio/input/sorted_bed_files/cutoffs_6mA/6mA_hc_tombo_sorted.cutoff.1.00.bed\n",
      "/home/anjuni/methylation_calling/pacbio/input/sorted_bed_files/cutoffs_6mA/6mA_hc_tombo_sorted.cutoff.0.95.bed\n",
      "/home/anjuni/methylation_calling/pacbio/input/sorted_bed_files/cutoffs_6mA/6mA_hc_tombo_sorted.cutoff.0.00.bed\n",
      "/home/anjuni/methylation_calling/pacbio/input/sorted_bed_files/cutoffs_6mA/6mA_hc_tombo_sorted.cutoff.0.50.bed\n",
      "/home/anjuni/methylation_calling/pacbio/input/sorted_bed_files/cutoffs_6mA/6mA_prob_smrtlink_sorted.cutoff.0.95.bed\n",
      "/home/anjuni/methylation_calling/pacbio/input/sorted_bed_files/cutoffs_6mA/6mA_prob_smrtlink_sorted.cutoff.0.00.bed\n",
      "/home/anjuni/methylation_calling/pacbio/input/sorted_bed_files/cutoffs_6mA/6mA_prob_smrtlink_sorted.cutoff.0.50.bed\n",
      "/home/anjuni/methylation_calling/pacbio/input/sorted_bed_files/cutoffs_6mA/6mA_prob_smrtlink_sorted.cutoff.0.80.bed\n",
      "/home/anjuni/methylation_calling/pacbio/input/sorted_bed_files/cutoffs_6mA/6mA_prob_smrtlink_sorted.cutoff.0.30.bed\n",
      "/home/anjuni/methylation_calling/pacbio/input/sorted_bed_files/cutoffs_6mA/6mA_prob_smrtlink_sorted.cutoff.0.20.bed\n",
      "/home/anjuni/methylation_calling/pacbio/input/sorted_bed_files/cutoffs_6mA/6mA_prob_smrtlink_sorted.cutoff.0.99.bed\n",
      "/home/anjuni/methylation_calling/pacbio/input/sorted_bed_files/cutoffs_6mA/6mA_prob_smrtlink_sorted.cutoff.0.70.bed\n",
      "/home/anjuni/methylation_calling/pacbio/input/sorted_bed_files/cutoffs_6mA/6mA_prob_smrtlink_sorted.cutoff.0.90.bed\n",
      "/home/anjuni/methylation_calling/pacbio/input/sorted_bed_files/cutoffs_6mA/6mA_prob_smrtlink_sorted.cutoff.0.60.bed\n",
      "/home/anjuni/methylation_calling/pacbio/input/sorted_bed_files/cutoffs_6mA/6mA_prob_smrtlink_sorted.cutoff.1.00.bed\n",
      "/home/anjuni/methylation_calling/pacbio/input/sorted_bed_files/cutoffs_6mA/6mA_prob_smrtlink_sorted.cutoff.0.10.bed\n",
      "/home/anjuni/methylation_calling/pacbio/input/sorted_bed_files/cutoffs_6mA/6mA_prob_smrtlink_sorted.cutoff.0.40.bed\n"
     ]
    }
   ],
   "source": [
    "# make a list of 6mA cutoff files from Nanopore and PacBio\n",
    "ont_6mA = [fn for fn in glob.iglob('%s/6mA_hc_tombo*.bed' % DIRS['6MA_CUTOFFS'], recursive=True)]\n",
    "pb_6mA = [fn for fn in glob.iglob('%s/6mA_prob_smrtlink*.bed' % DIRS['6MA_CUTOFFS'], recursive=True)]\n",
    "\n",
    "#test out these lists by printing\n",
    "print(*ont_6mA, sep='\\n')\n",
    "print(*pb_6mA, sep='\\n')"
   ]
  },
  {
   "cell_type": "code",
   "execution_count": 505,
   "metadata": {
    "collapsed": true
   },
   "outputs": [
    {
     "name": "stdout",
     "output_type": "stream",
     "text": [
      "/home/anjuni/methylation_calling/pacbio/input/sorted_bed_files/cutoffs_5mC/5mC_hc_nanopolish_sorted.cutoff.0.90.bed\n",
      "/home/anjuni/methylation_calling/pacbio/input/sorted_bed_files/cutoffs_5mC/5mC_hc_nanopolish_sorted.cutoff.0.60.bed\n",
      "/home/anjuni/methylation_calling/pacbio/input/sorted_bed_files/cutoffs_5mC/5mC_hc_nanopolish_sorted.cutoff.0.00.bed\n",
      "/home/anjuni/methylation_calling/pacbio/input/sorted_bed_files/cutoffs_5mC/5mC_hc_nanopolish_sorted.cutoff.0.80.bed\n",
      "/home/anjuni/methylation_calling/pacbio/input/sorted_bed_files/cutoffs_5mC/5mC_hc_nanopolish_sorted.cutoff.0.40.bed\n",
      "/home/anjuni/methylation_calling/pacbio/input/sorted_bed_files/cutoffs_5mC/5mC_hc_nanopolish_sorted.cutoff.0.50.bed\n",
      "/home/anjuni/methylation_calling/pacbio/input/sorted_bed_files/cutoffs_5mC/5mC_hc_nanopolish_sorted.cutoff.0.10.bed\n",
      "/home/anjuni/methylation_calling/pacbio/input/sorted_bed_files/cutoffs_5mC/5mC_hc_nanopolish_sorted.cutoff.0.20.bed\n",
      "/home/anjuni/methylation_calling/pacbio/input/sorted_bed_files/cutoffs_5mC/5mC_hc_nanopolish_sorted.cutoff.0.70.bed\n",
      "/home/anjuni/methylation_calling/pacbio/input/sorted_bed_files/cutoffs_5mC/5mC_hc_nanopolish_sorted.cutoff.0.99.bed\n",
      "/home/anjuni/methylation_calling/pacbio/input/sorted_bed_files/cutoffs_5mC/5mC_hc_nanopolish_sorted.cutoff.0.30.bed\n",
      "/home/anjuni/methylation_calling/pacbio/input/sorted_bed_files/cutoffs_5mC/5mC_hc_nanopolish_sorted.cutoff.0.95.bed\n",
      "/home/anjuni/methylation_calling/pacbio/input/sorted_bed_files/cutoffs_5mC/5mC_hc_nanopolish_sorted.cutoff.1.00.bed\n",
      "/home/anjuni/methylation_calling/pacbio/input/sorted_bed_files/cutoffs_5mC/5mC_hc_tombo_sorted.CpG.plus.cutoff.0.70.bed\n",
      "/home/anjuni/methylation_calling/pacbio/input/sorted_bed_files/cutoffs_5mC/5mC_hc_tombo_sorted.CpG.plus.cutoff.0.80.bed\n",
      "/home/anjuni/methylation_calling/pacbio/input/sorted_bed_files/cutoffs_5mC/5mC_hc_tombo_sorted.CpG.plus.cutoff.0.95.bed\n",
      "/home/anjuni/methylation_calling/pacbio/input/sorted_bed_files/cutoffs_5mC/5mC_hc_tombo_sorted.CpG.plus.cutoff.0.10.bed\n",
      "/home/anjuni/methylation_calling/pacbio/input/sorted_bed_files/cutoffs_5mC/5mC_hc_tombo_sorted.CpG.plus.cutoff.0.50.bed\n",
      "/home/anjuni/methylation_calling/pacbio/input/sorted_bed_files/cutoffs_5mC/5mC_hc_tombo_sorted.CpG.plus.cutoff.0.99.bed\n",
      "/home/anjuni/methylation_calling/pacbio/input/sorted_bed_files/cutoffs_5mC/5mC_hc_tombo_sorted.CpG.plus.cutoff.1.00.bed\n",
      "/home/anjuni/methylation_calling/pacbio/input/sorted_bed_files/cutoffs_5mC/5mC_hc_tombo_sorted.CpG.plus.cutoff.0.20.bed\n",
      "/home/anjuni/methylation_calling/pacbio/input/sorted_bed_files/cutoffs_5mC/5mC_hc_tombo_sorted.CpG.plus.cutoff.0.60.bed\n",
      "/home/anjuni/methylation_calling/pacbio/input/sorted_bed_files/cutoffs_5mC/5mC_hc_tombo_sorted.CpG.plus.cutoff.0.00.bed\n",
      "/home/anjuni/methylation_calling/pacbio/input/sorted_bed_files/cutoffs_5mC/5mC_hc_tombo_sorted.CpG.plus.cutoff.0.90.bed\n",
      "/home/anjuni/methylation_calling/pacbio/input/sorted_bed_files/cutoffs_5mC/5mC_hc_tombo_sorted.CpG.plus.cutoff.0.30.bed\n",
      "/home/anjuni/methylation_calling/pacbio/input/sorted_bed_files/cutoffs_5mC/5mC_hc_tombo_sorted.CpG.plus.cutoff.0.40.bed\n",
      "/home/anjuni/methylation_calling/pacbio/input/sorted_bed_files/cutoffs_5mC/5mC_hc_tombo_sorted.cutoff.0.90.bed\n",
      "/home/anjuni/methylation_calling/pacbio/input/sorted_bed_files/cutoffs_5mC/5mC_hc_tombo_sorted.cutoff.0.40.bed\n",
      "/home/anjuni/methylation_calling/pacbio/input/sorted_bed_files/cutoffs_5mC/5mC_hc_tombo_sorted.cutoff.0.80.bed\n",
      "/home/anjuni/methylation_calling/pacbio/input/sorted_bed_files/cutoffs_5mC/5mC_hc_tombo_sorted.cutoff.0.50.bed\n",
      "/home/anjuni/methylation_calling/pacbio/input/sorted_bed_files/cutoffs_5mC/5mC_hc_tombo_sorted.cutoff.0.20.bed\n",
      "/home/anjuni/methylation_calling/pacbio/input/sorted_bed_files/cutoffs_5mC/5mC_hc_tombo_sorted.cutoff.0.70.bed\n",
      "/home/anjuni/methylation_calling/pacbio/input/sorted_bed_files/cutoffs_5mC/5mC_hc_tombo_sorted.cutoff.1.00.bed\n",
      "/home/anjuni/methylation_calling/pacbio/input/sorted_bed_files/cutoffs_5mC/5mC_hc_tombo_sorted.cutoff.0.60.bed\n",
      "/home/anjuni/methylation_calling/pacbio/input/sorted_bed_files/cutoffs_5mC/5mC_hc_tombo_sorted.cutoff.0.30.bed\n",
      "/home/anjuni/methylation_calling/pacbio/input/sorted_bed_files/cutoffs_5mC/5mC_hc_tombo_sorted.cutoff.0.10.bed\n",
      "/home/anjuni/methylation_calling/pacbio/input/sorted_bed_files/cutoffs_5mC/5mC_hc_tombo_sorted.cutoff.0.99.bed\n",
      "/home/anjuni/methylation_calling/pacbio/input/sorted_bed_files/cutoffs_5mC/5mC_hc_tombo_sorted.cutoff.0.00.bed\n",
      "/home/anjuni/methylation_calling/pacbio/input/sorted_bed_files/cutoffs_5mC/5mC_hc_tombo_sorted.cutoff.0.95.bed\n"
     ]
    }
   ],
   "source": [
    "# make a list of 5mC cutoff files from Nanopolish and Tombo\n",
    "np_5mC = [fn for fn in glob.iglob('%s/5mC_hc_nanopolish*.bed' % DIRS['5MC_CUTOFFS'], recursive=True)]\n",
    "tombo_CpG_5mC = [fn for fn in glob.iglob('%s/5mC_hc_tombo_sorted.CpG.plus*.bed' % DIRS['5MC_CUTOFFS'], recursive=True)]\n",
    "tombo_5mC = [fn for fn in glob.iglob('%s/5mC_hc_tombo_sorted.c*.bed' % DIRS['5MC_CUTOFFS'], recursive=True)]\n",
    "\n",
    "#test out these lists by printing\n",
    "print(*np_5mC, sep='\\n')\n",
    "print(*tombo_CpG_5mC, sep='\\n')\n",
    "print(*tombo_5mC, sep='\\n')"
   ]
  },
  {
   "cell_type": "code",
   "execution_count": 506,
   "metadata": {},
   "outputs": [],
   "source": [
    "# the lists are not sorted, so sort them before doing cutoffs\n",
    "ont_6mA = sorted(ont_6mA)\n",
    "pb_6mA = sorted(pb_6mA)\n",
    "np_5mC = sorted(np_5mC)\n",
    "tombo_CpG_5mC = sorted(tombo_CpG_5mC)\n",
    "tombo_5mC = sorted(tombo_5mC)"
   ]
  },
  {
   "cell_type": "code",
   "execution_count": 507,
   "metadata": {
    "collapsed": true
   },
   "outputs": [
    {
     "name": "stdout",
     "output_type": "stream",
     "text": [
      "/home/anjuni/methylation_calling/pacbio/input/sorted_bed_files/cutoffs_6mA/6mA_hc_tombo_sorted.cutoff.0.00.bed\n",
      "/home/anjuni/methylation_calling/pacbio/input/sorted_bed_files/cutoffs_6mA/6mA_hc_tombo_sorted.cutoff.0.10.bed\n",
      "/home/anjuni/methylation_calling/pacbio/input/sorted_bed_files/cutoffs_6mA/6mA_hc_tombo_sorted.cutoff.0.20.bed\n",
      "/home/anjuni/methylation_calling/pacbio/input/sorted_bed_files/cutoffs_6mA/6mA_hc_tombo_sorted.cutoff.0.30.bed\n",
      "/home/anjuni/methylation_calling/pacbio/input/sorted_bed_files/cutoffs_6mA/6mA_hc_tombo_sorted.cutoff.0.40.bed\n",
      "/home/anjuni/methylation_calling/pacbio/input/sorted_bed_files/cutoffs_6mA/6mA_hc_tombo_sorted.cutoff.0.50.bed\n",
      "/home/anjuni/methylation_calling/pacbio/input/sorted_bed_files/cutoffs_6mA/6mA_hc_tombo_sorted.cutoff.0.60.bed\n",
      "/home/anjuni/methylation_calling/pacbio/input/sorted_bed_files/cutoffs_6mA/6mA_hc_tombo_sorted.cutoff.0.70.bed\n",
      "/home/anjuni/methylation_calling/pacbio/input/sorted_bed_files/cutoffs_6mA/6mA_hc_tombo_sorted.cutoff.0.80.bed\n",
      "/home/anjuni/methylation_calling/pacbio/input/sorted_bed_files/cutoffs_6mA/6mA_hc_tombo_sorted.cutoff.0.90.bed\n",
      "/home/anjuni/methylation_calling/pacbio/input/sorted_bed_files/cutoffs_6mA/6mA_hc_tombo_sorted.cutoff.0.95.bed\n",
      "/home/anjuni/methylation_calling/pacbio/input/sorted_bed_files/cutoffs_6mA/6mA_hc_tombo_sorted.cutoff.0.99.bed\n",
      "/home/anjuni/methylation_calling/pacbio/input/sorted_bed_files/cutoffs_6mA/6mA_hc_tombo_sorted.cutoff.1.00.bed\n",
      "/home/anjuni/methylation_calling/pacbio/input/sorted_bed_files/cutoffs_6mA/6mA_prob_smrtlink_sorted.cutoff.0.00.bed\n",
      "/home/anjuni/methylation_calling/pacbio/input/sorted_bed_files/cutoffs_6mA/6mA_prob_smrtlink_sorted.cutoff.0.10.bed\n",
      "/home/anjuni/methylation_calling/pacbio/input/sorted_bed_files/cutoffs_6mA/6mA_prob_smrtlink_sorted.cutoff.0.20.bed\n",
      "/home/anjuni/methylation_calling/pacbio/input/sorted_bed_files/cutoffs_6mA/6mA_prob_smrtlink_sorted.cutoff.0.30.bed\n",
      "/home/anjuni/methylation_calling/pacbio/input/sorted_bed_files/cutoffs_6mA/6mA_prob_smrtlink_sorted.cutoff.0.40.bed\n",
      "/home/anjuni/methylation_calling/pacbio/input/sorted_bed_files/cutoffs_6mA/6mA_prob_smrtlink_sorted.cutoff.0.50.bed\n",
      "/home/anjuni/methylation_calling/pacbio/input/sorted_bed_files/cutoffs_6mA/6mA_prob_smrtlink_sorted.cutoff.0.60.bed\n",
      "/home/anjuni/methylation_calling/pacbio/input/sorted_bed_files/cutoffs_6mA/6mA_prob_smrtlink_sorted.cutoff.0.70.bed\n",
      "/home/anjuni/methylation_calling/pacbio/input/sorted_bed_files/cutoffs_6mA/6mA_prob_smrtlink_sorted.cutoff.0.80.bed\n",
      "/home/anjuni/methylation_calling/pacbio/input/sorted_bed_files/cutoffs_6mA/6mA_prob_smrtlink_sorted.cutoff.0.90.bed\n",
      "/home/anjuni/methylation_calling/pacbio/input/sorted_bed_files/cutoffs_6mA/6mA_prob_smrtlink_sorted.cutoff.0.95.bed\n",
      "/home/anjuni/methylation_calling/pacbio/input/sorted_bed_files/cutoffs_6mA/6mA_prob_smrtlink_sorted.cutoff.0.99.bed\n",
      "/home/anjuni/methylation_calling/pacbio/input/sorted_bed_files/cutoffs_6mA/6mA_prob_smrtlink_sorted.cutoff.1.00.bed\n",
      "/home/anjuni/methylation_calling/pacbio/input/sorted_bed_files/cutoffs_5mC/5mC_hc_nanopolish_sorted.cutoff.0.00.bed\n",
      "/home/anjuni/methylation_calling/pacbio/input/sorted_bed_files/cutoffs_5mC/5mC_hc_nanopolish_sorted.cutoff.0.10.bed\n",
      "/home/anjuni/methylation_calling/pacbio/input/sorted_bed_files/cutoffs_5mC/5mC_hc_nanopolish_sorted.cutoff.0.20.bed\n",
      "/home/anjuni/methylation_calling/pacbio/input/sorted_bed_files/cutoffs_5mC/5mC_hc_nanopolish_sorted.cutoff.0.30.bed\n",
      "/home/anjuni/methylation_calling/pacbio/input/sorted_bed_files/cutoffs_5mC/5mC_hc_nanopolish_sorted.cutoff.0.40.bed\n",
      "/home/anjuni/methylation_calling/pacbio/input/sorted_bed_files/cutoffs_5mC/5mC_hc_nanopolish_sorted.cutoff.0.50.bed\n",
      "/home/anjuni/methylation_calling/pacbio/input/sorted_bed_files/cutoffs_5mC/5mC_hc_nanopolish_sorted.cutoff.0.60.bed\n",
      "/home/anjuni/methylation_calling/pacbio/input/sorted_bed_files/cutoffs_5mC/5mC_hc_nanopolish_sorted.cutoff.0.70.bed\n",
      "/home/anjuni/methylation_calling/pacbio/input/sorted_bed_files/cutoffs_5mC/5mC_hc_nanopolish_sorted.cutoff.0.80.bed\n",
      "/home/anjuni/methylation_calling/pacbio/input/sorted_bed_files/cutoffs_5mC/5mC_hc_nanopolish_sorted.cutoff.0.90.bed\n",
      "/home/anjuni/methylation_calling/pacbio/input/sorted_bed_files/cutoffs_5mC/5mC_hc_nanopolish_sorted.cutoff.0.95.bed\n",
      "/home/anjuni/methylation_calling/pacbio/input/sorted_bed_files/cutoffs_5mC/5mC_hc_nanopolish_sorted.cutoff.0.99.bed\n",
      "/home/anjuni/methylation_calling/pacbio/input/sorted_bed_files/cutoffs_5mC/5mC_hc_nanopolish_sorted.cutoff.1.00.bed\n",
      "/home/anjuni/methylation_calling/pacbio/input/sorted_bed_files/cutoffs_5mC/5mC_hc_tombo_sorted.CpG.plus.cutoff.0.00.bed\n",
      "/home/anjuni/methylation_calling/pacbio/input/sorted_bed_files/cutoffs_5mC/5mC_hc_tombo_sorted.CpG.plus.cutoff.0.10.bed\n",
      "/home/anjuni/methylation_calling/pacbio/input/sorted_bed_files/cutoffs_5mC/5mC_hc_tombo_sorted.CpG.plus.cutoff.0.20.bed\n",
      "/home/anjuni/methylation_calling/pacbio/input/sorted_bed_files/cutoffs_5mC/5mC_hc_tombo_sorted.CpG.plus.cutoff.0.30.bed\n",
      "/home/anjuni/methylation_calling/pacbio/input/sorted_bed_files/cutoffs_5mC/5mC_hc_tombo_sorted.CpG.plus.cutoff.0.40.bed\n",
      "/home/anjuni/methylation_calling/pacbio/input/sorted_bed_files/cutoffs_5mC/5mC_hc_tombo_sorted.CpG.plus.cutoff.0.50.bed\n",
      "/home/anjuni/methylation_calling/pacbio/input/sorted_bed_files/cutoffs_5mC/5mC_hc_tombo_sorted.CpG.plus.cutoff.0.60.bed\n",
      "/home/anjuni/methylation_calling/pacbio/input/sorted_bed_files/cutoffs_5mC/5mC_hc_tombo_sorted.CpG.plus.cutoff.0.70.bed\n",
      "/home/anjuni/methylation_calling/pacbio/input/sorted_bed_files/cutoffs_5mC/5mC_hc_tombo_sorted.CpG.plus.cutoff.0.80.bed\n",
      "/home/anjuni/methylation_calling/pacbio/input/sorted_bed_files/cutoffs_5mC/5mC_hc_tombo_sorted.CpG.plus.cutoff.0.90.bed\n",
      "/home/anjuni/methylation_calling/pacbio/input/sorted_bed_files/cutoffs_5mC/5mC_hc_tombo_sorted.CpG.plus.cutoff.0.95.bed\n",
      "/home/anjuni/methylation_calling/pacbio/input/sorted_bed_files/cutoffs_5mC/5mC_hc_tombo_sorted.CpG.plus.cutoff.0.99.bed\n",
      "/home/anjuni/methylation_calling/pacbio/input/sorted_bed_files/cutoffs_5mC/5mC_hc_tombo_sorted.CpG.plus.cutoff.1.00.bed\n",
      "/home/anjuni/methylation_calling/pacbio/input/sorted_bed_files/cutoffs_5mC/5mC_hc_tombo_sorted.cutoff.0.00.bed\n",
      "/home/anjuni/methylation_calling/pacbio/input/sorted_bed_files/cutoffs_5mC/5mC_hc_tombo_sorted.cutoff.0.10.bed\n",
      "/home/anjuni/methylation_calling/pacbio/input/sorted_bed_files/cutoffs_5mC/5mC_hc_tombo_sorted.cutoff.0.20.bed\n",
      "/home/anjuni/methylation_calling/pacbio/input/sorted_bed_files/cutoffs_5mC/5mC_hc_tombo_sorted.cutoff.0.30.bed\n",
      "/home/anjuni/methylation_calling/pacbio/input/sorted_bed_files/cutoffs_5mC/5mC_hc_tombo_sorted.cutoff.0.40.bed\n",
      "/home/anjuni/methylation_calling/pacbio/input/sorted_bed_files/cutoffs_5mC/5mC_hc_tombo_sorted.cutoff.0.50.bed\n",
      "/home/anjuni/methylation_calling/pacbio/input/sorted_bed_files/cutoffs_5mC/5mC_hc_tombo_sorted.cutoff.0.60.bed\n",
      "/home/anjuni/methylation_calling/pacbio/input/sorted_bed_files/cutoffs_5mC/5mC_hc_tombo_sorted.cutoff.0.70.bed\n",
      "/home/anjuni/methylation_calling/pacbio/input/sorted_bed_files/cutoffs_5mC/5mC_hc_tombo_sorted.cutoff.0.80.bed\n",
      "/home/anjuni/methylation_calling/pacbio/input/sorted_bed_files/cutoffs_5mC/5mC_hc_tombo_sorted.cutoff.0.90.bed\n",
      "/home/anjuni/methylation_calling/pacbio/input/sorted_bed_files/cutoffs_5mC/5mC_hc_tombo_sorted.cutoff.0.95.bed\n",
      "/home/anjuni/methylation_calling/pacbio/input/sorted_bed_files/cutoffs_5mC/5mC_hc_tombo_sorted.cutoff.0.99.bed\n",
      "/home/anjuni/methylation_calling/pacbio/input/sorted_bed_files/cutoffs_5mC/5mC_hc_tombo_sorted.cutoff.1.00.bed\n"
     ]
    }
   ],
   "source": [
    "#Check if it worked. (It did!) :D\n",
    "print(*ont_6mA, sep='\\n')\n",
    "print(*pb_6mA, sep='\\n')\n",
    "print(*np_5mC, sep='\\n')\n",
    "print(*tombo_CpG_5mC, sep='\\n')\n",
    "print(*tombo_5mC, sep='\\n')"
   ]
  },
  {
   "cell_type": "code",
   "execution_count": 436,
   "metadata": {},
   "outputs": [],
   "source": [
    "# make the filepaths for intersects output\n",
    "DIRS['I_FROM_C'] = os.path.join(DIRS['BASE2'], 'bedtools_output', 'intersects_from_cutoffs')"
   ]
  },
  {
   "cell_type": "code",
   "execution_count": 494,
   "metadata": {},
   "outputs": [],
   "source": [
    "# make a for loop to take a list of cutoffs, and a list of -a files and a list of -b files to intersect\n",
    "def intersect_cutoffs(list_a, list_b, n_cutoffs, mod, a_name, b_name):\n",
    "    \"\"\"Take a list of files and intersect them with another list of files, where files are matched by methylation cutoff. Other required inputs are the number of cutoffs in the list, the modification, and the names to be used in the outfile to signify the BED file from list a and b.\"\"\"\n",
    "    for i in range(n_cutoffs): # go through each element in the sorted list, pairing them up\n",
    "        a_bed = BedTool(list_a[i])\n",
    "        b_bed = BedTool(list_b[i])\n",
    "        cutoff_suffix = list_a[i][-16:] # get cutoff value from one of the files\n",
    "        out_name = mod + '_' + a_name + '_' + b_name + cutoff_suffix # make a new file name with the two intersected files, basemod type and cutoff\n",
    "        out_file = os.path.join(DIRS['I_FROM_C'], out_name) # make the file path\n",
    "        intersected_cutoff = a_bed.intersect(b_bed).saveas(out_file) # save out the intersected file"
   ]
  },
  {
   "cell_type": "code",
   "execution_count": null,
   "metadata": {},
   "outputs": [],
   "source": [
    "# Run intersect cutoffs for 6mA and 5mC\n",
    "intersect_cutoffs(ont_6mA, pb_6mA, 13, '6mA', 'tombo', 'smrtlink')\n",
    "intersect_cutoffs(tombo_CpG_5mC, np_5mC, 13, '5mC', 'tombo', 'nanopolish')"
   ]
  },
  {
   "cell_type": "code",
   "execution_count": null,
   "metadata": {},
   "outputs": [],
   "source": [
    "%%bash\n",
    "\n",
    "# Make one directory that contains cutoffs of all 4 bed files for use in downstream analysis\n",
    "cd /home/anjuni/analysis/coverage\n",
    "mkdir feature_files\n",
    "cp ../bedtools_output/intersects_from_cutoffs/* feature_files\n",
    "cp ../../methylation_calling/pacbio/input/sorted_bed_files/cutoffs_5mC/5mC_hc_tombo_sorted.cutoff.* feature_files\n",
    "cp ../../methylation_calling/pacbio/input/sorted_bed_files/cutoffs_6mA/6mA_hc_tombo_sorted.cutoff.* feature_files"
   ]
  },
  {
   "cell_type": "code",
   "execution_count": 508,
   "metadata": {},
   "outputs": [],
   "source": [
    "# Make lists of cutoffs from each of the BED files for use in analysis in the new folder\n",
    "# Remake the lists for the old ones under new names\n",
    "\n",
    "# set filepaths for feature inputs\n",
    "DIRS['FEATURES'] = os.path.join(DIRS['BASE2'], 'coverage', 'feature_files')\n",
    "\n",
    "intersected_5mC = [fn for fn in glob.iglob('%s/5mC_t*.bed' % DIRS['FEATURES'], recursive=True)]\n",
    "intersected_6mA = [fn for fn in glob.iglob('%s/6mA_t*.bed' % DIRS['FEATURES'], recursive=True)]\n",
    "hc_tombo_5mC = [fn for fn in glob.iglob('%s/5mC_h*.bed' % DIRS['FEATURES'], recursive=True)]\n",
    "hc_tombo_6mA = [fn for fn in glob.iglob('%s/6mA_h*.bed' % DIRS['FEATURES'], recursive=True)]"
   ]
  },
  {
   "cell_type": "code",
   "execution_count": 509,
   "metadata": {
    "collapsed": true
   },
   "outputs": [
    {
     "name": "stdout",
     "output_type": "stream",
     "text": [
      "['/home/anjuni/analysis/coverage/feature_files/5mC_tombo_nanopolish.cutoff.0.10.bed',\n",
      " '/home/anjuni/analysis/coverage/feature_files/5mC_tombo_nanopolish.cutoff.0.90.bed',\n",
      " '/home/anjuni/analysis/coverage/feature_files/5mC_tombo_nanopolish.cutoff.0.50.bed',\n",
      " '/home/anjuni/analysis/coverage/feature_files/5mC_tombo_nanopolish.cutoff.0.20.bed',\n",
      " '/home/anjuni/analysis/coverage/feature_files/5mC_tombo_nanopolish.cutoff.0.99.bed',\n",
      " '/home/anjuni/analysis/coverage/feature_files/5mC_tombo_nanopolish.cutoff.0.40.bed',\n",
      " '/home/anjuni/analysis/coverage/feature_files/5mC_tombo_nanopolish.cutoff.0.70.bed',\n",
      " '/home/anjuni/analysis/coverage/feature_files/5mC_tombo_nanopolish.cutoff.0.80.bed',\n",
      " '/home/anjuni/analysis/coverage/feature_files/5mC_tombo_nanopolish.cutoff.0.00.bed',\n",
      " '/home/anjuni/analysis/coverage/feature_files/5mC_tombo_nanopolish.cutoff.0.30.bed',\n",
      " '/home/anjuni/analysis/coverage/feature_files/5mC_tombo_nanopolish.cutoff.0.95.bed',\n",
      " '/home/anjuni/analysis/coverage/feature_files/5mC_tombo_nanopolish.cutoff.0.60.bed',\n",
      " '/home/anjuni/analysis/coverage/feature_files/5mC_tombo_nanopolish.cutoff.1.00.bed']\n",
      "['/home/anjuni/analysis/coverage/feature_files/6mA_tombo_smrtlink.cutoff.0.95.bed',\n",
      " '/home/anjuni/analysis/coverage/feature_files/6mA_tombo_smrtlink.cutoff.0.80.bed',\n",
      " '/home/anjuni/analysis/coverage/feature_files/6mA_tombo_smrtlink.cutoff.0.30.bed',\n",
      " '/home/anjuni/analysis/coverage/feature_files/6mA_tombo_smrtlink.cutoff.0.00.bed',\n",
      " '/home/anjuni/analysis/coverage/feature_files/6mA_tombo_smrtlink.cutoff.0.50.bed',\n",
      " '/home/anjuni/analysis/coverage/feature_files/6mA_tombo_smrtlink.cutoff.0.10.bed',\n",
      " '/home/anjuni/analysis/coverage/feature_files/6mA_tombo_smrtlink.cutoff.0.70.bed',\n",
      " '/home/anjuni/analysis/coverage/feature_files/6mA_tombo_smrtlink.cutoff.0.90.bed',\n",
      " '/home/anjuni/analysis/coverage/feature_files/6mA_tombo_smrtlink.cutoff.0.60.bed',\n",
      " '/home/anjuni/analysis/coverage/feature_files/6mA_tombo_smrtlink.cutoff.0.20.bed',\n",
      " '/home/anjuni/analysis/coverage/feature_files/6mA_tombo_smrtlink.cutoff.0.40.bed',\n",
      " '/home/anjuni/analysis/coverage/feature_files/6mA_tombo_smrtlink.cutoff.1.00.bed',\n",
      " '/home/anjuni/analysis/coverage/feature_files/6mA_tombo_smrtlink.cutoff.0.99.bed']\n",
      "['/home/anjuni/analysis/coverage/feature_files/5mC_hc_tombo_sorted.cutoff.0.90.bed',\n",
      " '/home/anjuni/analysis/coverage/feature_files/5mC_hc_tombo_sorted.cutoff.0.40.bed',\n",
      " '/home/anjuni/analysis/coverage/feature_files/5mC_hc_tombo_sorted.cutoff.0.80.bed',\n",
      " '/home/anjuni/analysis/coverage/feature_files/5mC_hc_tombo_sorted.cutoff.0.50.bed',\n",
      " '/home/anjuni/analysis/coverage/feature_files/5mC_hc_tombo_sorted.cutoff.0.20.bed',\n",
      " '/home/anjuni/analysis/coverage/feature_files/5mC_hc_tombo_sorted.cutoff.0.70.bed',\n",
      " '/home/anjuni/analysis/coverage/feature_files/5mC_hc_tombo_sorted.cutoff.1.00.bed',\n",
      " '/home/anjuni/analysis/coverage/feature_files/5mC_hc_tombo_sorted.cutoff.0.60.bed',\n",
      " '/home/anjuni/analysis/coverage/feature_files/5mC_hc_tombo_sorted.cutoff.0.30.bed',\n",
      " '/home/anjuni/analysis/coverage/feature_files/5mC_hc_tombo_sorted.cutoff.0.10.bed',\n",
      " '/home/anjuni/analysis/coverage/feature_files/5mC_hc_tombo_sorted.cutoff.0.99.bed',\n",
      " '/home/anjuni/analysis/coverage/feature_files/5mC_hc_tombo_sorted.cutoff.0.00.bed',\n",
      " '/home/anjuni/analysis/coverage/feature_files/5mC_hc_tombo_sorted.cutoff.0.95.bed']\n",
      "['/home/anjuni/analysis/coverage/feature_files/6mA_hc_tombo_sorted.cutoff.0.90.bed',\n",
      " '/home/anjuni/analysis/coverage/feature_files/6mA_hc_tombo_sorted.cutoff.0.60.bed',\n",
      " '/home/anjuni/analysis/coverage/feature_files/6mA_hc_tombo_sorted.cutoff.0.30.bed',\n",
      " '/home/anjuni/analysis/coverage/feature_files/6mA_hc_tombo_sorted.cutoff.0.80.bed',\n",
      " '/home/anjuni/analysis/coverage/feature_files/6mA_hc_tombo_sorted.cutoff.0.70.bed',\n",
      " '/home/anjuni/analysis/coverage/feature_files/6mA_hc_tombo_sorted.cutoff.0.20.bed',\n",
      " '/home/anjuni/analysis/coverage/feature_files/6mA_hc_tombo_sorted.cutoff.0.10.bed',\n",
      " '/home/anjuni/analysis/coverage/feature_files/6mA_hc_tombo_sorted.cutoff.0.40.bed',\n",
      " '/home/anjuni/analysis/coverage/feature_files/6mA_hc_tombo_sorted.cutoff.0.99.bed',\n",
      " '/home/anjuni/analysis/coverage/feature_files/6mA_hc_tombo_sorted.cutoff.1.00.bed',\n",
      " '/home/anjuni/analysis/coverage/feature_files/6mA_hc_tombo_sorted.cutoff.0.95.bed',\n",
      " '/home/anjuni/analysis/coverage/feature_files/6mA_hc_tombo_sorted.cutoff.0.00.bed',\n",
      " '/home/anjuni/analysis/coverage/feature_files/6mA_hc_tombo_sorted.cutoff.0.50.bed']\n"
     ]
    }
   ],
   "source": [
    "# Print lists to check they worked\n",
    "pprint.pprint(intersected_5mC)\n",
    "pprint.pprint(intersected_6mA)\n",
    "pprint.pprint(hc_tombo_5mC)\n",
    "pprint.pprint(hc_tombo_6mA)"
   ]
  },
  {
   "cell_type": "code",
   "execution_count": 510,
   "metadata": {},
   "outputs": [],
   "source": [
    "# These lists are not sorted, so sort them before doing windows\n",
    "intersected_5mC.sort()\n",
    "intersected_6mA.sort()\n",
    "hc_tombo_5mC.sort()\n",
    "hc_tombo_6mA.sort()"
   ]
  },
  {
   "cell_type": "code",
   "execution_count": 1276,
   "metadata": {
    "collapsed": true
   },
   "outputs": [
    {
     "name": "stdout",
     "output_type": "stream",
     "text": [
      "['/home/anjuni/analysis/coverage/feature_files/5mC_tombo_nanopolish.cutoff.0.00.bed',\n",
      " '/home/anjuni/analysis/coverage/feature_files/5mC_tombo_nanopolish.cutoff.0.10.bed',\n",
      " '/home/anjuni/analysis/coverage/feature_files/5mC_tombo_nanopolish.cutoff.0.20.bed',\n",
      " '/home/anjuni/analysis/coverage/feature_files/5mC_tombo_nanopolish.cutoff.0.30.bed',\n",
      " '/home/anjuni/analysis/coverage/feature_files/5mC_tombo_nanopolish.cutoff.0.40.bed',\n",
      " '/home/anjuni/analysis/coverage/feature_files/5mC_tombo_nanopolish.cutoff.0.50.bed',\n",
      " '/home/anjuni/analysis/coverage/feature_files/5mC_tombo_nanopolish.cutoff.0.60.bed',\n",
      " '/home/anjuni/analysis/coverage/feature_files/5mC_tombo_nanopolish.cutoff.0.70.bed',\n",
      " '/home/anjuni/analysis/coverage/feature_files/5mC_tombo_nanopolish.cutoff.0.80.bed',\n",
      " '/home/anjuni/analysis/coverage/feature_files/5mC_tombo_nanopolish.cutoff.0.90.bed',\n",
      " '/home/anjuni/analysis/coverage/feature_files/5mC_tombo_nanopolish.cutoff.0.95.bed',\n",
      " '/home/anjuni/analysis/coverage/feature_files/5mC_tombo_nanopolish.cutoff.0.99.bed',\n",
      " '/home/anjuni/analysis/coverage/feature_files/5mC_tombo_nanopolish.cutoff.1.00.bed']\n",
      "['/home/anjuni/analysis/coverage/feature_files/6mA_tombo_smrtlink.cutoff.0.00.bed',\n",
      " '/home/anjuni/analysis/coverage/feature_files/6mA_tombo_smrtlink.cutoff.0.10.bed',\n",
      " '/home/anjuni/analysis/coverage/feature_files/6mA_tombo_smrtlink.cutoff.0.20.bed',\n",
      " '/home/anjuni/analysis/coverage/feature_files/6mA_tombo_smrtlink.cutoff.0.30.bed',\n",
      " '/home/anjuni/analysis/coverage/feature_files/6mA_tombo_smrtlink.cutoff.0.40.bed',\n",
      " '/home/anjuni/analysis/coverage/feature_files/6mA_tombo_smrtlink.cutoff.0.50.bed',\n",
      " '/home/anjuni/analysis/coverage/feature_files/6mA_tombo_smrtlink.cutoff.0.60.bed',\n",
      " '/home/anjuni/analysis/coverage/feature_files/6mA_tombo_smrtlink.cutoff.0.70.bed',\n",
      " '/home/anjuni/analysis/coverage/feature_files/6mA_tombo_smrtlink.cutoff.0.80.bed',\n",
      " '/home/anjuni/analysis/coverage/feature_files/6mA_tombo_smrtlink.cutoff.0.90.bed',\n",
      " '/home/anjuni/analysis/coverage/feature_files/6mA_tombo_smrtlink.cutoff.0.95.bed',\n",
      " '/home/anjuni/analysis/coverage/feature_files/6mA_tombo_smrtlink.cutoff.0.99.bed',\n",
      " '/home/anjuni/analysis/coverage/feature_files/6mA_tombo_smrtlink.cutoff.1.00.bed']\n",
      "['/home/anjuni/analysis/coverage/feature_files/5mC_hc_tombo_sorted.cutoff.0.00.bed',\n",
      " '/home/anjuni/analysis/coverage/feature_files/5mC_hc_tombo_sorted.cutoff.0.10.bed',\n",
      " '/home/anjuni/analysis/coverage/feature_files/5mC_hc_tombo_sorted.cutoff.0.20.bed',\n",
      " '/home/anjuni/analysis/coverage/feature_files/5mC_hc_tombo_sorted.cutoff.0.30.bed',\n",
      " '/home/anjuni/analysis/coverage/feature_files/5mC_hc_tombo_sorted.cutoff.0.40.bed',\n",
      " '/home/anjuni/analysis/coverage/feature_files/5mC_hc_tombo_sorted.cutoff.0.50.bed',\n",
      " '/home/anjuni/analysis/coverage/feature_files/5mC_hc_tombo_sorted.cutoff.0.60.bed',\n",
      " '/home/anjuni/analysis/coverage/feature_files/5mC_hc_tombo_sorted.cutoff.0.70.bed',\n",
      " '/home/anjuni/analysis/coverage/feature_files/5mC_hc_tombo_sorted.cutoff.0.80.bed',\n",
      " '/home/anjuni/analysis/coverage/feature_files/5mC_hc_tombo_sorted.cutoff.0.90.bed',\n",
      " '/home/anjuni/analysis/coverage/feature_files/5mC_hc_tombo_sorted.cutoff.0.95.bed',\n",
      " '/home/anjuni/analysis/coverage/feature_files/5mC_hc_tombo_sorted.cutoff.0.99.bed',\n",
      " '/home/anjuni/analysis/coverage/feature_files/5mC_hc_tombo_sorted.cutoff.1.00.bed']\n",
      "['/home/anjuni/analysis/coverage/feature_files/6mA_hc_tombo_sorted.cutoff.0.00.bed',\n",
      " '/home/anjuni/analysis/coverage/feature_files/6mA_hc_tombo_sorted.cutoff.0.10.bed',\n",
      " '/home/anjuni/analysis/coverage/feature_files/6mA_hc_tombo_sorted.cutoff.0.20.bed',\n",
      " '/home/anjuni/analysis/coverage/feature_files/6mA_hc_tombo_sorted.cutoff.0.30.bed',\n",
      " '/home/anjuni/analysis/coverage/feature_files/6mA_hc_tombo_sorted.cutoff.0.40.bed',\n",
      " '/home/anjuni/analysis/coverage/feature_files/6mA_hc_tombo_sorted.cutoff.0.50.bed',\n",
      " '/home/anjuni/analysis/coverage/feature_files/6mA_hc_tombo_sorted.cutoff.0.60.bed',\n",
      " '/home/anjuni/analysis/coverage/feature_files/6mA_hc_tombo_sorted.cutoff.0.70.bed',\n",
      " '/home/anjuni/analysis/coverage/feature_files/6mA_hc_tombo_sorted.cutoff.0.80.bed',\n",
      " '/home/anjuni/analysis/coverage/feature_files/6mA_hc_tombo_sorted.cutoff.0.90.bed',\n",
      " '/home/anjuni/analysis/coverage/feature_files/6mA_hc_tombo_sorted.cutoff.0.95.bed',\n",
      " '/home/anjuni/analysis/coverage/feature_files/6mA_hc_tombo_sorted.cutoff.0.99.bed',\n",
      " '/home/anjuni/analysis/coverage/feature_files/6mA_hc_tombo_sorted.cutoff.1.00.bed']\n"
     ]
    }
   ],
   "source": [
    "# Print sorted lists to check they worked (they did! time for windows)\n",
    "pprint.pprint(intersected_5mC)\n",
    "pprint.pprint(intersected_6mA)\n",
    "pprint.pprint(hc_tombo_5mC)\n",
    "pprint.pprint(hc_tombo_6mA)"
   ]
  },
  {
   "cell_type": "markdown",
   "metadata": {},
   "source": [
    "### <span style='color:#8a14ff'> 3.B Making a table for the cutoff files. <span/>"
   ]
  },
  {
   "cell_type": "code",
   "execution_count": null,
   "metadata": {},
   "outputs": [],
   "source": [
    "# Gather the lists to be used as inputs\n",
    "pprint.pprint(np_5mC)\n",
    "pprint.pprint(tombo_CpG_5mC)\n",
    "pprint.pprint(pb_6mA)\n",
    "pprint.pprint(ont_6mA)\n",
    "pprint.pprint(intersected_5mC)\n",
    "pprint.pprint(intersected_6mA)"
   ]
  },
  {
   "cell_type": "code",
   "execution_count": 1328,
   "metadata": {},
   "outputs": [],
   "source": [
    "# Write the function to count sites\n",
    "def make_site_count_list(fn_list):\n",
    "    \"\"\"This is a function that returns a list of the number of lines in a file, when a list of files is given as input.\"\"\"\n",
    "    site_count_list = []\n",
    "    for fn in fn_list:\n",
    "        count = 0\n",
    "        with open(fn, 'r') as infile:\n",
    "            for line in infile:\n",
    "                count += 1\n",
    "        site_count_list.append(count)\n",
    "    return site_count_list"
   ]
  },
  {
   "cell_type": "code",
   "execution_count": 1329,
   "metadata": {},
   "outputs": [],
   "source": [
    "np_5mC_count_list = make_site_count_list(np_5mC)\n",
    "tombo_CpG_5mC_count_list = make_site_count_list(tombo_CpG_5mC)\n",
    "pb_6mA_count_list = make_site_count_list(pb_6mA)\n",
    "ont_6mA_count_list = make_site_count_list(ont_6mA)\n",
    "intersected_5mC_count_list = make_site_count_list(intersected_5mC)\n",
    "intersected_6mA_count_list = make_site_count_list(intersected_6mA)"
   ]
  },
  {
   "cell_type": "code",
   "execution_count": 1331,
   "metadata": {
    "collapsed": true
   },
   "outputs": [
    {
     "name": "stdout",
     "output_type": "stream",
     "text": [
      "[3783438, 2655129, 2408326, 2329892, 2287038, 2249995, 2195581, 2122684, 1995419, 1597784, 1068255, 609093, 608808]\n",
      "[5167951, 5123192, 4970628, 4660551, 4184707, 3511671, 2414941, 1380931, 681458, 249792, 140848, 120970, 120970]\n",
      "[88932, 88932, 88932, 88932, 88932, 88932, 88932, 88932, 88932, 88932, 88932, 88932, 68]\n",
      "[83451878, 80777279, 73301535, 61332775, 47837744, 34554267, 19402593, 8986431, 3668473, 1333195, 928352, 882625, 882625]\n",
      "[3708640, 2581835, 2313616, 2174002, 2025031, 1823390, 1439138, 953767, 502953, 151839, 53649, 30708, 30691]\n",
      "[84733, 77694, 66199, 53979, 42461, 31857, 19602, 10085, 4457, 1380, 622, 507, 0]\n"
     ]
    }
   ],
   "source": [
    "print(np_5mC_count_list)\n",
    "print(tombo_CpG_5mC_count_list)\n",
    "print(pb_6mA_count_list)\n",
    "print(ont_6mA_count_list)\n",
    "print(intersected_5mC_count_list)\n",
    "print(intersected_6mA_count_list)"
   ]
  },
  {
   "cell_type": "code",
   "execution_count": 1379,
   "metadata": {},
   "outputs": [],
   "source": [
    "# Make a list of percentage overlap\n",
    "def make_percent_overlap_list(intersect_list, smaller_file_list):\n",
    "    \"\"\"Calculates percentage of intersection as a proportion of the smaller input file.\"\"\"\n",
    "    percent_list = []\n",
    "    for i in range(len(intersect_list)):\n",
    "        if intersect_list[i] == 0:\n",
    "            percent = float(0)\n",
    "            percent_list.append(percent)\n",
    "        else:\n",
    "            percent = intersect_list[i] / smaller_file_list[i]\n",
    "            percent = 100*percent\n",
    "            percent_list.append(percent)\n",
    "    return percent_list"
   ]
  },
  {
   "cell_type": "code",
   "execution_count": 1380,
   "metadata": {},
   "outputs": [],
   "source": [
    "percent_overlap_5mC = make_percent_overlap_list(intersected_5mC_count_list, np_5mC_count_list)\n",
    "percent_overlap_6mA = make_percent_overlap_list(intersected_6mA_count_list, pb_6mA_count_list)"
   ]
  },
  {
   "cell_type": "code",
   "execution_count": 1367,
   "metadata": {},
   "outputs": [],
   "source": [
    "cutoff_5mC = {}\n",
    "cutoff_5mC['Tombo Sites'] = tombo_CpG_5mC_count_list\n",
    "cutoff_5mC['Nanopolish Sites'] = np_5mC_count_list\n",
    "cutoff_5mC['Overlapping Sites'] = intersected_5mC_count_list\n",
    "cutoff_5mC['Methylated Fraction Cutoff'] = cutoff_list\n",
    "cutoff_5mC['Percentage Overlap (%)'] = percent_overlap_5mC"
   ]
  },
  {
   "cell_type": "code",
   "execution_count": 1381,
   "metadata": {},
   "outputs": [],
   "source": [
    "cutoff_6mA = {}\n",
    "cutoff_6mA['PacBio Sites'] = pb_6mA_count_list\n",
    "cutoff_6mA['Nanopore Sites'] = ont_6mA_count_list\n",
    "cutoff_6mA['Overlapping Sites'] = intersected_6mA_count_list\n",
    "cutoff_6mA['Methylated Fraction Cutoff'] = cutoff_list\n",
    "cutoff_6mA['Percentage Overlap (%)'] = percent_overlap_6mA"
   ]
  },
  {
   "cell_type": "code",
   "execution_count": 1383,
   "metadata": {},
   "outputs": [],
   "source": [
    "# Save the dataframes as csv files for 5mC and 6mA\n",
    "df = pd.DataFrame.from_dict(cutoff_5mC)\n",
    "df = df [['Methylated Fraction Cutoff', 'Tombo Sites', 'Nanopolish Sites', 'Overlapping Sites', 'Percentage Overlap (%)']]\n",
    "df.to_csv(os.path.join(DIRS['FIGURES'], '5mC_cutoff_table'), header=True, index=None, sep='\\t')\n",
    "\n",
    "df = pd.DataFrame.from_dict(cutoff_6mA)\n",
    "df = df [['Methylated Fraction Cutoff', 'Nanopore Sites', 'PacBio Sites', 'Overlapping Sites', 'Percentage Overlap (%)']]\n",
    "df.to_csv(os.path.join(DIRS['FIGURES'], '6mA_cutoff_table'), header=True, index=None, sep='\\t')"
   ]
  },
  {
   "cell_type": "markdown",
   "metadata": {},
   "source": [
    "### <span style='color:#8a14ff'> 3.C Making random distributions of the same size as all the cutoff files. <span/>"
   ]
  },
  {
   "cell_type": "code",
   "execution_count": 533,
   "metadata": {},
   "outputs": [],
   "source": [
    "# Inputs needed:\n",
    "\n",
    "# file of all C in genome\n",
    "all_c = os.path.join(DIRS['BASE1'], 'input', 'sorted_bed_files', '5mC_tombo_sorted.bed')\n",
    "# file of all A in genome\n",
    "all_a = os.path.join(DIRS['BASE1'], 'input', 'sorted_bed_files', '6mA_tombo_sorted.bed')\n",
    "# file of all (+) strand CpG\n",
    "all_cpg = os.path.join(DIRS['BASE1'], 'input', 'sorted_bed_files', '5mC_hc_tombo_sorted.CpG.plus.bed')"
   ]
  },
  {
   "cell_type": "code",
   "execution_count": 537,
   "metadata": {},
   "outputs": [],
   "source": [
    "# Function to count the number of sites in each cutoff file\n",
    "def count_sites(file_list):\n",
    "    \"\"\"Outputs a dictionary of each cutoff file and the number of sites it has.\"\"\"\n",
    "    count_dict = {}\n",
    "    for file in file_list:\n",
    "        with open(file) as in_file:\n",
    "            count = 0\n",
    "            for line in in_file:\n",
    "                count += 1\n",
    "        count_dict[file.split('/')[-1]] = count\n",
    "    return count_dict"
   ]
  },
  {
   "cell_type": "code",
   "execution_count": 859,
   "metadata": {},
   "outputs": [],
   "source": [
    "# Function to make the list of output randomisation file for each input cutoff file\n",
    "def out_rand_files(file_list):\n",
    "    \"\"\"Outputs a dictionary of output randomisation file paths for a given list of input file paths.\"\"\"\n",
    "    rand_dict = {}\n",
    "    for file in file_list:\n",
    "        out_name = file.replace('.bed', '_rand.bed')\n",
    "        out_name = out_name.replace('feature_files', 'randomisation')\n",
    "        rand_dict[file.split('/')[-1]] = out_name\n",
    "    return rand_dict"
   ]
  },
  {
   "cell_type": "code",
   "execution_count": 602,
   "metadata": {},
   "outputs": [],
   "source": [
    "# Make count dictionaries separated by modification type\n",
    "intersect_5mC_count_dict = count_sites(intersected_5mC)\n",
    "intersect_6mA_count_dict = count_sites(intersected_6mA)\n",
    "tombo_5mC_count_dict = count_sites(hc_tombo_5mC)\n",
    "tombo_6mA_count_dict = count_sites(hc_tombo_6mA)"
   ]
  },
  {
   "cell_type": "code",
   "execution_count": 611,
   "metadata": {
    "collapsed": true
   },
   "outputs": [
    {
     "name": "stdout",
     "output_type": "stream",
     "text": [
      "{'5mC_tombo_nanopolish.cutoff.0.00.bed': 3708640,\n",
      " '5mC_tombo_nanopolish.cutoff.0.10.bed': 2581835,\n",
      " '5mC_tombo_nanopolish.cutoff.0.20.bed': 2313616,\n",
      " '5mC_tombo_nanopolish.cutoff.0.30.bed': 2174002,\n",
      " '5mC_tombo_nanopolish.cutoff.0.40.bed': 2025031,\n",
      " '5mC_tombo_nanopolish.cutoff.0.50.bed': 1823390,\n",
      " '5mC_tombo_nanopolish.cutoff.0.60.bed': 1439138,\n",
      " '5mC_tombo_nanopolish.cutoff.0.70.bed': 953767,\n",
      " '5mC_tombo_nanopolish.cutoff.0.80.bed': 502953,\n",
      " '5mC_tombo_nanopolish.cutoff.0.90.bed': 151839,\n",
      " '5mC_tombo_nanopolish.cutoff.0.95.bed': 53649,\n",
      " '5mC_tombo_nanopolish.cutoff.0.99.bed': 30708,\n",
      " '5mC_tombo_nanopolish.cutoff.1.00.bed': 30691}\n",
      "{'6mA_tombo_smrtlink.cutoff.0.00.bed': 84733,\n",
      " '6mA_tombo_smrtlink.cutoff.0.10.bed': 77694,\n",
      " '6mA_tombo_smrtlink.cutoff.0.20.bed': 66199,\n",
      " '6mA_tombo_smrtlink.cutoff.0.30.bed': 53979,\n",
      " '6mA_tombo_smrtlink.cutoff.0.40.bed': 42461,\n",
      " '6mA_tombo_smrtlink.cutoff.0.50.bed': 31857,\n",
      " '6mA_tombo_smrtlink.cutoff.0.60.bed': 19602,\n",
      " '6mA_tombo_smrtlink.cutoff.0.70.bed': 10085,\n",
      " '6mA_tombo_smrtlink.cutoff.0.80.bed': 4457,\n",
      " '6mA_tombo_smrtlink.cutoff.0.90.bed': 1380,\n",
      " '6mA_tombo_smrtlink.cutoff.0.95.bed': 622,\n",
      " '6mA_tombo_smrtlink.cutoff.0.99.bed': 507,\n",
      " '6mA_tombo_smrtlink.cutoff.1.00.bed': 0}\n",
      "{'5mC_hc_tombo_sorted.cutoff.0.00.bed': 67308386,\n",
      " '5mC_hc_tombo_sorted.cutoff.0.10.bed': 65945899,\n",
      " '5mC_hc_tombo_sorted.cutoff.0.20.bed': 61792835,\n",
      " '5mC_hc_tombo_sorted.cutoff.0.30.bed': 54472350,\n",
      " '5mC_hc_tombo_sorted.cutoff.0.40.bed': 44908966,\n",
      " '5mC_hc_tombo_sorted.cutoff.0.50.bed': 33730885,\n",
      " '5mC_hc_tombo_sorted.cutoff.0.60.bed': 19107606,\n",
      " '5mC_hc_tombo_sorted.cutoff.0.70.bed': 8564581,\n",
      " '5mC_hc_tombo_sorted.cutoff.0.80.bed': 3463251,\n",
      " '5mC_hc_tombo_sorted.cutoff.0.90.bed': 1327297,\n",
      " '5mC_hc_tombo_sorted.cutoff.0.95.bed': 953483,\n",
      " '5mC_hc_tombo_sorted.cutoff.0.99.bed': 902981,\n",
      " '5mC_hc_tombo_sorted.cutoff.1.00.bed': 902980}\n",
      "{'6mA_hc_tombo_sorted.cutoff.0.00.bed': 83451878,\n",
      " '6mA_hc_tombo_sorted.cutoff.0.10.bed': 80777279,\n",
      " '6mA_hc_tombo_sorted.cutoff.0.20.bed': 73301535,\n",
      " '6mA_hc_tombo_sorted.cutoff.0.30.bed': 61332775,\n",
      " '6mA_hc_tombo_sorted.cutoff.0.40.bed': 47837744,\n",
      " '6mA_hc_tombo_sorted.cutoff.0.50.bed': 34554267,\n",
      " '6mA_hc_tombo_sorted.cutoff.0.60.bed': 19402593,\n",
      " '6mA_hc_tombo_sorted.cutoff.0.70.bed': 8986431,\n",
      " '6mA_hc_tombo_sorted.cutoff.0.80.bed': 3668473,\n",
      " '6mA_hc_tombo_sorted.cutoff.0.90.bed': 1333195,\n",
      " '6mA_hc_tombo_sorted.cutoff.0.95.bed': 928352,\n",
      " '6mA_hc_tombo_sorted.cutoff.0.99.bed': 882625,\n",
      " '6mA_hc_tombo_sorted.cutoff.1.00.bed': 882625}\n"
     ]
    }
   ],
   "source": [
    "pprint.pprint(intersect_5mC_count_dict)\n",
    "pprint.pprint(intersect_6mA_count_dict)\n",
    "pprint.pprint(tombo_5mC_count_dict)\n",
    "pprint.pprint(tombo_6mA_count_dict)"
   ]
  },
  {
   "cell_type": "code",
   "execution_count": 860,
   "metadata": {},
   "outputs": [],
   "source": [
    "# Make dictionaries of out files for everything\n",
    "intersect_5mC_rand_dict = out_rand_files(intersected_5mC)\n",
    "intersect_6mA_rand_dict = out_rand_files(intersected_6mA)\n",
    "tombo_5mC_rand_dict = out_rand_files(hc_tombo_5mC)\n",
    "tombo_6mA_rand_dict = out_rand_files(hc_tombo_6mA)"
   ]
  },
  {
   "cell_type": "code",
   "execution_count": null,
   "metadata": {},
   "outputs": [],
   "source": [
    "methyl_rand_dict = {}\n",
    "methyl_rand_dict['5mC_hc_tombo_sorted.cutoff.0.00.bed'] = '/home/anjuni/analysis/coverage/randomisation/5mC_hc_tombo_sorted.cutoff.0.00_rand.bed'\n",
    "methyl_rand_dict['6mA_hc_tombo_sorted.cutoff.0.00.bed'] = '/home/anjuni/analysis/coverage/randomisation/6mA_hc_tombo_sorted.cutoff.0.00_rand.bed'\n",
    "methyl_rand_dict['5mC_hc_tombo_sorted.cutoff.0.90.bed'] = '/home/anjuni/analysis/coverage/randomisation/5mC_hc_tombo_sorted.cutoff.0.90_rand.bed'\n",
    "methyl_rand_dict['6mA_hc_tombo_sorted.cutoff.0.90.bed'] = '/home/anjuni/analysis/coverage/randomisation/6mA_hc_tombo_sorted.cutoff.0.90_rand.bed'\n",
    "methyl_rand_dict['5mC_hc_tombo_sorted.cutoff.0.99.bed'] = '/home/anjuni/analysis/coverage/randomisation/5mC_hc_tombo_sorted.cutoff.0.99_rand.bed'\n",
    "methyl_rand_dict['6mA_hc_tombo_sorted.cutoff.0.99.bed'] = '/home/anjuni/analysis/coverage/randomisation/6mA_hc_tombo_sorted.cutoff.0.99_rand.bed'\n",
    "methyl_rand_dict['5mC_hc_tombo_sorted.cutoff.0.50.bed'] = '/home/anjuni/analysis/coverage/randomisation/5mC_hc_tombo_sorted.cutoff.0.50_rand.bed'\n",
    "methyl_rand_dict['6mA_hc_tombo_sorted.cutoff.0.50.bed'] = '/home/anjuni/analysis/coverage/randomisation/6mA_hc_tombo_sorted.cutoff.0.50_rand.bed'"
   ]
  },
  {
   "cell_type": "code",
   "execution_count": 861,
   "metadata": {
    "collapsed": true
   },
   "outputs": [
    {
     "name": "stdout",
     "output_type": "stream",
     "text": [
      "{'5mC_tombo_nanopolish.cutoff.0.00.bed': '/home/anjuni/analysis/coverage/randomisation/5mC_tombo_nanopolish.cutoff.0.00_rand.bed',\n",
      " '5mC_tombo_nanopolish.cutoff.0.10.bed': '/home/anjuni/analysis/coverage/randomisation/5mC_tombo_nanopolish.cutoff.0.10_rand.bed',\n",
      " '5mC_tombo_nanopolish.cutoff.0.20.bed': '/home/anjuni/analysis/coverage/randomisation/5mC_tombo_nanopolish.cutoff.0.20_rand.bed',\n",
      " '5mC_tombo_nanopolish.cutoff.0.30.bed': '/home/anjuni/analysis/coverage/randomisation/5mC_tombo_nanopolish.cutoff.0.30_rand.bed',\n",
      " '5mC_tombo_nanopolish.cutoff.0.40.bed': '/home/anjuni/analysis/coverage/randomisation/5mC_tombo_nanopolish.cutoff.0.40_rand.bed',\n",
      " '5mC_tombo_nanopolish.cutoff.0.50.bed': '/home/anjuni/analysis/coverage/randomisation/5mC_tombo_nanopolish.cutoff.0.50_rand.bed',\n",
      " '5mC_tombo_nanopolish.cutoff.0.60.bed': '/home/anjuni/analysis/coverage/randomisation/5mC_tombo_nanopolish.cutoff.0.60_rand.bed',\n",
      " '5mC_tombo_nanopolish.cutoff.0.70.bed': '/home/anjuni/analysis/coverage/randomisation/5mC_tombo_nanopolish.cutoff.0.70_rand.bed',\n",
      " '5mC_tombo_nanopolish.cutoff.0.80.bed': '/home/anjuni/analysis/coverage/randomisation/5mC_tombo_nanopolish.cutoff.0.80_rand.bed',\n",
      " '5mC_tombo_nanopolish.cutoff.0.90.bed': '/home/anjuni/analysis/coverage/randomisation/5mC_tombo_nanopolish.cutoff.0.90_rand.bed',\n",
      " '5mC_tombo_nanopolish.cutoff.0.95.bed': '/home/anjuni/analysis/coverage/randomisation/5mC_tombo_nanopolish.cutoff.0.95_rand.bed',\n",
      " '5mC_tombo_nanopolish.cutoff.0.99.bed': '/home/anjuni/analysis/coverage/randomisation/5mC_tombo_nanopolish.cutoff.0.99_rand.bed',\n",
      " '5mC_tombo_nanopolish.cutoff.1.00.bed': '/home/anjuni/analysis/coverage/randomisation/5mC_tombo_nanopolish.cutoff.1.00_rand.bed'}\n",
      "{'6mA_tombo_smrtlink.cutoff.0.00.bed': '/home/anjuni/analysis/coverage/randomisation/6mA_tombo_smrtlink.cutoff.0.00_rand.bed',\n",
      " '6mA_tombo_smrtlink.cutoff.0.10.bed': '/home/anjuni/analysis/coverage/randomisation/6mA_tombo_smrtlink.cutoff.0.10_rand.bed',\n",
      " '6mA_tombo_smrtlink.cutoff.0.20.bed': '/home/anjuni/analysis/coverage/randomisation/6mA_tombo_smrtlink.cutoff.0.20_rand.bed',\n",
      " '6mA_tombo_smrtlink.cutoff.0.30.bed': '/home/anjuni/analysis/coverage/randomisation/6mA_tombo_smrtlink.cutoff.0.30_rand.bed',\n",
      " '6mA_tombo_smrtlink.cutoff.0.40.bed': '/home/anjuni/analysis/coverage/randomisation/6mA_tombo_smrtlink.cutoff.0.40_rand.bed',\n",
      " '6mA_tombo_smrtlink.cutoff.0.50.bed': '/home/anjuni/analysis/coverage/randomisation/6mA_tombo_smrtlink.cutoff.0.50_rand.bed',\n",
      " '6mA_tombo_smrtlink.cutoff.0.60.bed': '/home/anjuni/analysis/coverage/randomisation/6mA_tombo_smrtlink.cutoff.0.60_rand.bed',\n",
      " '6mA_tombo_smrtlink.cutoff.0.70.bed': '/home/anjuni/analysis/coverage/randomisation/6mA_tombo_smrtlink.cutoff.0.70_rand.bed',\n",
      " '6mA_tombo_smrtlink.cutoff.0.80.bed': '/home/anjuni/analysis/coverage/randomisation/6mA_tombo_smrtlink.cutoff.0.80_rand.bed',\n",
      " '6mA_tombo_smrtlink.cutoff.0.90.bed': '/home/anjuni/analysis/coverage/randomisation/6mA_tombo_smrtlink.cutoff.0.90_rand.bed',\n",
      " '6mA_tombo_smrtlink.cutoff.0.95.bed': '/home/anjuni/analysis/coverage/randomisation/6mA_tombo_smrtlink.cutoff.0.95_rand.bed',\n",
      " '6mA_tombo_smrtlink.cutoff.0.99.bed': '/home/anjuni/analysis/coverage/randomisation/6mA_tombo_smrtlink.cutoff.0.99_rand.bed',\n",
      " '6mA_tombo_smrtlink.cutoff.1.00.bed': '/home/anjuni/analysis/coverage/randomisation/6mA_tombo_smrtlink.cutoff.1.00_rand.bed'}\n",
      "{'5mC_hc_tombo_sorted.cutoff.0.00.bed': '/home/anjuni/analysis/coverage/randomisation/5mC_hc_tombo_sorted.cutoff.0.00_rand.bed',\n",
      " '5mC_hc_tombo_sorted.cutoff.0.10.bed': '/home/anjuni/analysis/coverage/randomisation/5mC_hc_tombo_sorted.cutoff.0.10_rand.bed',\n",
      " '5mC_hc_tombo_sorted.cutoff.0.20.bed': '/home/anjuni/analysis/coverage/randomisation/5mC_hc_tombo_sorted.cutoff.0.20_rand.bed',\n",
      " '5mC_hc_tombo_sorted.cutoff.0.30.bed': '/home/anjuni/analysis/coverage/randomisation/5mC_hc_tombo_sorted.cutoff.0.30_rand.bed',\n",
      " '5mC_hc_tombo_sorted.cutoff.0.40.bed': '/home/anjuni/analysis/coverage/randomisation/5mC_hc_tombo_sorted.cutoff.0.40_rand.bed',\n",
      " '5mC_hc_tombo_sorted.cutoff.0.50.bed': '/home/anjuni/analysis/coverage/randomisation/5mC_hc_tombo_sorted.cutoff.0.50_rand.bed',\n",
      " '5mC_hc_tombo_sorted.cutoff.0.60.bed': '/home/anjuni/analysis/coverage/randomisation/5mC_hc_tombo_sorted.cutoff.0.60_rand.bed',\n",
      " '5mC_hc_tombo_sorted.cutoff.0.70.bed': '/home/anjuni/analysis/coverage/randomisation/5mC_hc_tombo_sorted.cutoff.0.70_rand.bed',\n",
      " '5mC_hc_tombo_sorted.cutoff.0.80.bed': '/home/anjuni/analysis/coverage/randomisation/5mC_hc_tombo_sorted.cutoff.0.80_rand.bed',\n",
      " '5mC_hc_tombo_sorted.cutoff.0.90.bed': '/home/anjuni/analysis/coverage/randomisation/5mC_hc_tombo_sorted.cutoff.0.90_rand.bed',\n",
      " '5mC_hc_tombo_sorted.cutoff.0.95.bed': '/home/anjuni/analysis/coverage/randomisation/5mC_hc_tombo_sorted.cutoff.0.95_rand.bed',\n",
      " '5mC_hc_tombo_sorted.cutoff.0.99.bed': '/home/anjuni/analysis/coverage/randomisation/5mC_hc_tombo_sorted.cutoff.0.99_rand.bed',\n",
      " '5mC_hc_tombo_sorted.cutoff.1.00.bed': '/home/anjuni/analysis/coverage/randomisation/5mC_hc_tombo_sorted.cutoff.1.00_rand.bed'}\n",
      "{'6mA_hc_tombo_sorted.cutoff.0.00.bed': '/home/anjuni/analysis/coverage/randomisation/6mA_hc_tombo_sorted.cutoff.0.00_rand.bed',\n",
      " '6mA_hc_tombo_sorted.cutoff.0.10.bed': '/home/anjuni/analysis/coverage/randomisation/6mA_hc_tombo_sorted.cutoff.0.10_rand.bed',\n",
      " '6mA_hc_tombo_sorted.cutoff.0.20.bed': '/home/anjuni/analysis/coverage/randomisation/6mA_hc_tombo_sorted.cutoff.0.20_rand.bed',\n",
      " '6mA_hc_tombo_sorted.cutoff.0.30.bed': '/home/anjuni/analysis/coverage/randomisation/6mA_hc_tombo_sorted.cutoff.0.30_rand.bed',\n",
      " '6mA_hc_tombo_sorted.cutoff.0.40.bed': '/home/anjuni/analysis/coverage/randomisation/6mA_hc_tombo_sorted.cutoff.0.40_rand.bed',\n",
      " '6mA_hc_tombo_sorted.cutoff.0.50.bed': '/home/anjuni/analysis/coverage/randomisation/6mA_hc_tombo_sorted.cutoff.0.50_rand.bed',\n",
      " '6mA_hc_tombo_sorted.cutoff.0.60.bed': '/home/anjuni/analysis/coverage/randomisation/6mA_hc_tombo_sorted.cutoff.0.60_rand.bed',\n",
      " '6mA_hc_tombo_sorted.cutoff.0.70.bed': '/home/anjuni/analysis/coverage/randomisation/6mA_hc_tombo_sorted.cutoff.0.70_rand.bed',\n",
      " '6mA_hc_tombo_sorted.cutoff.0.80.bed': '/home/anjuni/analysis/coverage/randomisation/6mA_hc_tombo_sorted.cutoff.0.80_rand.bed',\n",
      " '6mA_hc_tombo_sorted.cutoff.0.90.bed': '/home/anjuni/analysis/coverage/randomisation/6mA_hc_tombo_sorted.cutoff.0.90_rand.bed',\n",
      " '6mA_hc_tombo_sorted.cutoff.0.95.bed': '/home/anjuni/analysis/coverage/randomisation/6mA_hc_tombo_sorted.cutoff.0.95_rand.bed',\n",
      " '6mA_hc_tombo_sorted.cutoff.0.99.bed': '/home/anjuni/analysis/coverage/randomisation/6mA_hc_tombo_sorted.cutoff.0.99_rand.bed',\n",
      " '6mA_hc_tombo_sorted.cutoff.1.00.bed': '/home/anjuni/analysis/coverage/randomisation/6mA_hc_tombo_sorted.cutoff.1.00_rand.bed'}\n"
     ]
    }
   ],
   "source": [
    "pprint.pprint(intersect_5mC_rand_dict)\n",
    "pprint.pprint(intersect_6mA_rand_dict)\n",
    "pprint.pprint(tombo_5mC_rand_dict)\n",
    "pprint.pprint(tombo_6mA_rand_dict)"
   ]
  },
  {
   "cell_type": "code",
   "execution_count": 599,
   "metadata": {},
   "outputs": [],
   "source": [
    "# Make a function that takes number of subset sites, abspath of all_site file, and output name\n",
    "# Then generate a random array of length subset from all sites\n",
    "# Then loops over all_site file while outfile is open to write out lines whose number is part of the randamized array\n",
    "def subset_sites(all_site_fn, number_of_subset_sites, out_fn):\n",
    "    \"\"\"This is a function that creates a BED file containing a subset of the total sites in the genome, with the size of the subset equal to an input cutoff file.\"\"\"\n",
    "    df = pd.read_csv(all_site_fn, sep='\\t', header = None) #use up memory making a dataframe of the csv file, to avoid running through it for each base in each loop\n",
    "    if type(number_of_subset_sites) == int and type(out_fn) == str:\n",
    "            random_array = np.random.choice(df.shape[0], number_of_subset_sites)\n",
    "            random_array.sort()\n",
    "            df.iloc[random_array, :].to_csv(out_fn, header=None, index=None, sep='\\t') #iloc[rows, columns]\n",
    "    elif type(number_of_subset_sites) == dict and type(out_fn) == dict:\n",
    "        for skey, svalue in number_of_subset_sites.items():\n",
    "            for fkey, fvalue in out_fn.items():\n",
    "                if skey == fkey:\n",
    "                    random_array = np.random.choice(df.shape[0], svalue)\n",
    "                    random_array.sort()\n",
    "                    df.iloc[random_array, :].to_csv(fvalue, header=None, index=None, sep='\\t') "
   ]
  },
  {
   "cell_type": "code",
   "execution_count": 609,
   "metadata": {},
   "outputs": [],
   "source": [
    "# Make randomisation files for everything :)\n",
    "subset_sites(all_cpg, intersect_5mC_count_dict, intersect_5mC_rand_dict)\n",
    "subset_sites(all_a, intersect_6mA_count_dict, intersect_6mA_rand_dict)\n",
    "subset_sites(all_c, tombo_5mC_count_dict, tombo_5mC_rand_dict)\n",
    "subset_sites(all_a, tombo_6mA_count_dict, tombo_6mA_rand_dict)"
   ]
  },
  {
   "cell_type": "code",
   "execution_count": 616,
   "metadata": {},
   "outputs": [],
   "source": [
    "# Function that gives a dictionary of each input filehandle\n",
    "def file_name_dict(file_list):\n",
    "    \"\"\"Outputs a dictionary of input file paths for a given list of input file paths.\"\"\"\n",
    "    file_dict = {}\n",
    "    for file in file_list:\n",
    "        file_dict[file.split('/')[-1]] = file\n",
    "    return file_dict"
   ]
  },
  {
   "cell_type": "code",
   "execution_count": 617,
   "metadata": {},
   "outputs": [],
   "source": [
    "# Make file name dict\n",
    "intersect_5mC_dict = file_name_dict(intersected_5mC)\n",
    "intersect_6mA_dict = file_name_dict(intersected_6mA)\n",
    "tombo_5mC_dict = file_name_dict(hc_tombo_5mC)\n",
    "tombo_6mA_dict = file_name_dict(hc_tombo_6mA)"
   ]
  },
  {
   "cell_type": "code",
   "execution_count": 618,
   "metadata": {
    "collapsed": true
   },
   "outputs": [
    {
     "name": "stdout",
     "output_type": "stream",
     "text": [
      "{'5mC_tombo_nanopolish.cutoff.0.00.bed': '/home/anjuni/analysis/coverage/feature_files/5mC_tombo_nanopolish.cutoff.0.00.bed',\n",
      " '5mC_tombo_nanopolish.cutoff.0.10.bed': '/home/anjuni/analysis/coverage/feature_files/5mC_tombo_nanopolish.cutoff.0.10.bed',\n",
      " '5mC_tombo_nanopolish.cutoff.0.20.bed': '/home/anjuni/analysis/coverage/feature_files/5mC_tombo_nanopolish.cutoff.0.20.bed',\n",
      " '5mC_tombo_nanopolish.cutoff.0.30.bed': '/home/anjuni/analysis/coverage/feature_files/5mC_tombo_nanopolish.cutoff.0.30.bed',\n",
      " '5mC_tombo_nanopolish.cutoff.0.40.bed': '/home/anjuni/analysis/coverage/feature_files/5mC_tombo_nanopolish.cutoff.0.40.bed',\n",
      " '5mC_tombo_nanopolish.cutoff.0.50.bed': '/home/anjuni/analysis/coverage/feature_files/5mC_tombo_nanopolish.cutoff.0.50.bed',\n",
      " '5mC_tombo_nanopolish.cutoff.0.60.bed': '/home/anjuni/analysis/coverage/feature_files/5mC_tombo_nanopolish.cutoff.0.60.bed',\n",
      " '5mC_tombo_nanopolish.cutoff.0.70.bed': '/home/anjuni/analysis/coverage/feature_files/5mC_tombo_nanopolish.cutoff.0.70.bed',\n",
      " '5mC_tombo_nanopolish.cutoff.0.80.bed': '/home/anjuni/analysis/coverage/feature_files/5mC_tombo_nanopolish.cutoff.0.80.bed',\n",
      " '5mC_tombo_nanopolish.cutoff.0.90.bed': '/home/anjuni/analysis/coverage/feature_files/5mC_tombo_nanopolish.cutoff.0.90.bed',\n",
      " '5mC_tombo_nanopolish.cutoff.0.95.bed': '/home/anjuni/analysis/coverage/feature_files/5mC_tombo_nanopolish.cutoff.0.95.bed',\n",
      " '5mC_tombo_nanopolish.cutoff.0.99.bed': '/home/anjuni/analysis/coverage/feature_files/5mC_tombo_nanopolish.cutoff.0.99.bed',\n",
      " '5mC_tombo_nanopolish.cutoff.1.00.bed': '/home/anjuni/analysis/coverage/feature_files/5mC_tombo_nanopolish.cutoff.1.00.bed'}\n",
      "{'6mA_tombo_smrtlink.cutoff.0.00.bed': '/home/anjuni/analysis/coverage/feature_files/6mA_tombo_smrtlink.cutoff.0.00.bed',\n",
      " '6mA_tombo_smrtlink.cutoff.0.10.bed': '/home/anjuni/analysis/coverage/feature_files/6mA_tombo_smrtlink.cutoff.0.10.bed',\n",
      " '6mA_tombo_smrtlink.cutoff.0.20.bed': '/home/anjuni/analysis/coverage/feature_files/6mA_tombo_smrtlink.cutoff.0.20.bed',\n",
      " '6mA_tombo_smrtlink.cutoff.0.30.bed': '/home/anjuni/analysis/coverage/feature_files/6mA_tombo_smrtlink.cutoff.0.30.bed',\n",
      " '6mA_tombo_smrtlink.cutoff.0.40.bed': '/home/anjuni/analysis/coverage/feature_files/6mA_tombo_smrtlink.cutoff.0.40.bed',\n",
      " '6mA_tombo_smrtlink.cutoff.0.50.bed': '/home/anjuni/analysis/coverage/feature_files/6mA_tombo_smrtlink.cutoff.0.50.bed',\n",
      " '6mA_tombo_smrtlink.cutoff.0.60.bed': '/home/anjuni/analysis/coverage/feature_files/6mA_tombo_smrtlink.cutoff.0.60.bed',\n",
      " '6mA_tombo_smrtlink.cutoff.0.70.bed': '/home/anjuni/analysis/coverage/feature_files/6mA_tombo_smrtlink.cutoff.0.70.bed',\n",
      " '6mA_tombo_smrtlink.cutoff.0.80.bed': '/home/anjuni/analysis/coverage/feature_files/6mA_tombo_smrtlink.cutoff.0.80.bed',\n",
      " '6mA_tombo_smrtlink.cutoff.0.90.bed': '/home/anjuni/analysis/coverage/feature_files/6mA_tombo_smrtlink.cutoff.0.90.bed',\n",
      " '6mA_tombo_smrtlink.cutoff.0.95.bed': '/home/anjuni/analysis/coverage/feature_files/6mA_tombo_smrtlink.cutoff.0.95.bed',\n",
      " '6mA_tombo_smrtlink.cutoff.0.99.bed': '/home/anjuni/analysis/coverage/feature_files/6mA_tombo_smrtlink.cutoff.0.99.bed',\n",
      " '6mA_tombo_smrtlink.cutoff.1.00.bed': '/home/anjuni/analysis/coverage/feature_files/6mA_tombo_smrtlink.cutoff.1.00.bed'}\n",
      "{'5mC_hc_tombo_sorted.cutoff.0.00.bed': '/home/anjuni/analysis/coverage/feature_files/5mC_hc_tombo_sorted.cutoff.0.00.bed',\n",
      " '5mC_hc_tombo_sorted.cutoff.0.10.bed': '/home/anjuni/analysis/coverage/feature_files/5mC_hc_tombo_sorted.cutoff.0.10.bed',\n",
      " '5mC_hc_tombo_sorted.cutoff.0.20.bed': '/home/anjuni/analysis/coverage/feature_files/5mC_hc_tombo_sorted.cutoff.0.20.bed',\n",
      " '5mC_hc_tombo_sorted.cutoff.0.30.bed': '/home/anjuni/analysis/coverage/feature_files/5mC_hc_tombo_sorted.cutoff.0.30.bed',\n",
      " '5mC_hc_tombo_sorted.cutoff.0.40.bed': '/home/anjuni/analysis/coverage/feature_files/5mC_hc_tombo_sorted.cutoff.0.40.bed',\n",
      " '5mC_hc_tombo_sorted.cutoff.0.50.bed': '/home/anjuni/analysis/coverage/feature_files/5mC_hc_tombo_sorted.cutoff.0.50.bed',\n",
      " '5mC_hc_tombo_sorted.cutoff.0.60.bed': '/home/anjuni/analysis/coverage/feature_files/5mC_hc_tombo_sorted.cutoff.0.60.bed',\n",
      " '5mC_hc_tombo_sorted.cutoff.0.70.bed': '/home/anjuni/analysis/coverage/feature_files/5mC_hc_tombo_sorted.cutoff.0.70.bed',\n",
      " '5mC_hc_tombo_sorted.cutoff.0.80.bed': '/home/anjuni/analysis/coverage/feature_files/5mC_hc_tombo_sorted.cutoff.0.80.bed',\n",
      " '5mC_hc_tombo_sorted.cutoff.0.90.bed': '/home/anjuni/analysis/coverage/feature_files/5mC_hc_tombo_sorted.cutoff.0.90.bed',\n",
      " '5mC_hc_tombo_sorted.cutoff.0.95.bed': '/home/anjuni/analysis/coverage/feature_files/5mC_hc_tombo_sorted.cutoff.0.95.bed',\n",
      " '5mC_hc_tombo_sorted.cutoff.0.99.bed': '/home/anjuni/analysis/coverage/feature_files/5mC_hc_tombo_sorted.cutoff.0.99.bed',\n",
      " '5mC_hc_tombo_sorted.cutoff.1.00.bed': '/home/anjuni/analysis/coverage/feature_files/5mC_hc_tombo_sorted.cutoff.1.00.bed'}\n",
      "{'6mA_hc_tombo_sorted.cutoff.0.00.bed': '/home/anjuni/analysis/coverage/feature_files/6mA_hc_tombo_sorted.cutoff.0.00.bed',\n",
      " '6mA_hc_tombo_sorted.cutoff.0.10.bed': '/home/anjuni/analysis/coverage/feature_files/6mA_hc_tombo_sorted.cutoff.0.10.bed',\n",
      " '6mA_hc_tombo_sorted.cutoff.0.20.bed': '/home/anjuni/analysis/coverage/feature_files/6mA_hc_tombo_sorted.cutoff.0.20.bed',\n",
      " '6mA_hc_tombo_sorted.cutoff.0.30.bed': '/home/anjuni/analysis/coverage/feature_files/6mA_hc_tombo_sorted.cutoff.0.30.bed',\n",
      " '6mA_hc_tombo_sorted.cutoff.0.40.bed': '/home/anjuni/analysis/coverage/feature_files/6mA_hc_tombo_sorted.cutoff.0.40.bed',\n",
      " '6mA_hc_tombo_sorted.cutoff.0.50.bed': '/home/anjuni/analysis/coverage/feature_files/6mA_hc_tombo_sorted.cutoff.0.50.bed',\n",
      " '6mA_hc_tombo_sorted.cutoff.0.60.bed': '/home/anjuni/analysis/coverage/feature_files/6mA_hc_tombo_sorted.cutoff.0.60.bed',\n",
      " '6mA_hc_tombo_sorted.cutoff.0.70.bed': '/home/anjuni/analysis/coverage/feature_files/6mA_hc_tombo_sorted.cutoff.0.70.bed',\n",
      " '6mA_hc_tombo_sorted.cutoff.0.80.bed': '/home/anjuni/analysis/coverage/feature_files/6mA_hc_tombo_sorted.cutoff.0.80.bed',\n",
      " '6mA_hc_tombo_sorted.cutoff.0.90.bed': '/home/anjuni/analysis/coverage/feature_files/6mA_hc_tombo_sorted.cutoff.0.90.bed',\n",
      " '6mA_hc_tombo_sorted.cutoff.0.95.bed': '/home/anjuni/analysis/coverage/feature_files/6mA_hc_tombo_sorted.cutoff.0.95.bed',\n",
      " '6mA_hc_tombo_sorted.cutoff.0.99.bed': '/home/anjuni/analysis/coverage/feature_files/6mA_hc_tombo_sorted.cutoff.0.99.bed',\n",
      " '6mA_hc_tombo_sorted.cutoff.1.00.bed': '/home/anjuni/analysis/coverage/feature_files/6mA_hc_tombo_sorted.cutoff.1.00.bed'}\n"
     ]
    }
   ],
   "source": [
    "pprint.pprint(intersect_5mC_dict)\n",
    "pprint.pprint(intersect_6mA_dict)\n",
    "pprint.pprint(tombo_5mC_dict)\n",
    "pprint.pprint(tombo_6mA_dict)"
   ]
  },
  {
   "cell_type": "markdown",
   "metadata": {},
   "source": [
    "### <span style='color:#8a14ff'> 3.D Making a table for random distributions of the cutoff files. <span/>"
   ]
  },
  {
   "cell_type": "markdown",
   "metadata": {},
   "source": [
    "## <span style='color:#144fff'> 4. Making windows. <span/>"
   ]
  },
  {
   "cell_type": "code",
   "execution_count": 22,
   "metadata": {},
   "outputs": [],
   "source": [
    "# Make folder for windows. Each BED file will contain a series of windows\n",
    "#os.mkdir(DIRS['WINDOW_OUTPUT'])\n",
    "#os.mkdir()\n",
    "# Define inputs\n",
    "gene_fn = '/home/anjuni/analysis/gff_output/Pst_104E_v13_ph_ctg.anno.sorted.gff3'\n",
    "lt_gene_fn = '/home/anjuni/analysis/gff_output/Pst_104E_v13_ph_ctg.TE.sorted.gff3'\n",
    "reference_genome = os.path.join(DIRS['REF'], 'Pst_104E_v13_ph_ctg.fa')"
   ]
  },
  {
   "cell_type": "code",
   "execution_count": 58,
   "metadata": {
    "collapsed": true
   },
   "outputs": [
    {
     "name": "stdout",
     "output_type": "stream",
     "text": [
      "Smartmatch is experimental at /home/anjuni/myapps/gff3sort/gff3sort.pl line 68.\n",
      "Use of uninitialized value $pos in hash element at /home/anjuni/myapps/gff3sort/gff3sort.pl line 67, <$_[...]> line 1.\n",
      "Use of uninitialized value $pos in hash element at /home/anjuni/myapps/gff3sort/gff3sort.pl line 67, <$_[...]> line 2.\n",
      "Use of uninitialized value $pos in hash element at /home/anjuni/myapps/gff3sort/gff3sort.pl line 67, <$_[...]> line 3.\n",
      "Use of uninitialized value $pos in hash element at /home/anjuni/myapps/gff3sort/gff3sort.pl line 67, <$_[...]> line 4.\n",
      "Use of uninitialized value $pos in hash element at /home/anjuni/myapps/gff3sort/gff3sort.pl line 67, <$_[...]> line 5.\n",
      "Use of uninitialized value $pos in hash element at /home/anjuni/myapps/gff3sort/gff3sort.pl line 67, <$_[...]> line 6.\n",
      "Use of uninitialized value $pos in hash element at /home/anjuni/myapps/gff3sort/gff3sort.pl line 67, <$_[...]> line 7.\n",
      "Use of uninitialized value $pos in hash element at /home/anjuni/myapps/gff3sort/gff3sort.pl line 67, <$_[...]> line 8.\n",
      "Use of uninitialized value $pos in hash element at /home/anjuni/myapps/gff3sort/gff3sort.pl line 67, <$_[...]> line 9.\n",
      "Use of uninitialized value $pos in hash element at /home/anjuni/myapps/gff3sort/gff3sort.pl line 67, <$_[...]> line 10.\n",
      "Use of uninitialized value $pos in hash element at /home/anjuni/myapps/gff3sort/gff3sort.pl line 67, <$_[...]> line 11.\n",
      "Use of uninitialized value $pos in hash element at /home/anjuni/myapps/gff3sort/gff3sort.pl line 67, <$_[...]> line 12.\n",
      "Use of uninitialized value $pos in hash element at /home/anjuni/myapps/gff3sort/gff3sort.pl line 67, <$_[...]> line 13.\n",
      "Use of uninitialized value $pos in hash element at /home/anjuni/myapps/gff3sort/gff3sort.pl line 67, <$_[...]> line 14.\n",
      "Use of uninitialized value $pos in hash element at /home/anjuni/myapps/gff3sort/gff3sort.pl line 67, <$_[...]> line 15.\n",
      "Use of uninitialized value $pos in hash element at /home/anjuni/myapps/gff3sort/gff3sort.pl line 67, <$_[...]> line 16.\n",
      "Use of uninitialized value $pos in hash element at /home/anjuni/myapps/gff3sort/gff3sort.pl line 67, <$_[...]> line 17.\n",
      "Use of uninitialized value $pos in hash element at /home/anjuni/myapps/gff3sort/gff3sort.pl line 67, <$_[...]> line 18.\n",
      "Use of uninitialized value $pos in hash element at /home/anjuni/myapps/gff3sort/gff3sort.pl line 67, <$_[...]> line 19.\n",
      "Use of uninitialized value $pos in hash element at /home/anjuni/myapps/gff3sort/gff3sort.pl line 67, <$_[...]> line 20.\n",
      "Use of uninitialized value $pos in hash element at /home/anjuni/myapps/gff3sort/gff3sort.pl line 67, <$_[...]> line 21.\n",
      "Use of uninitialized value $pos in hash element at /home/anjuni/myapps/gff3sort/gff3sort.pl line 67, <$_[...]> line 22.\n",
      "Use of uninitialized value $pos in hash element at /home/anjuni/myapps/gff3sort/gff3sort.pl line 67, <$_[...]> line 23.\n",
      "Use of uninitialized value $pos in hash element at /home/anjuni/myapps/gff3sort/gff3sort.pl line 67, <$_[...]> line 24.\n",
      "Use of uninitialized value $pos in hash element at /home/anjuni/myapps/gff3sort/gff3sort.pl line 67, <$_[...]> line 25.\n",
      "Use of uninitialized value $pos in hash element at /home/anjuni/myapps/gff3sort/gff3sort.pl line 67, <$_[...]> line 26.\n",
      "Use of uninitialized value $pos in hash element at /home/anjuni/myapps/gff3sort/gff3sort.pl line 67, <$_[...]> line 27.\n",
      "Use of uninitialized value $pos in hash element at /home/anjuni/myapps/gff3sort/gff3sort.pl line 67, <$_[...]> line 28.\n",
      "Use of uninitialized value $pos in hash element at /home/anjuni/myapps/gff3sort/gff3sort.pl line 67, <$_[...]> line 29.\n",
      "Use of uninitialized value $pos in hash element at /home/anjuni/myapps/gff3sort/gff3sort.pl line 67, <$_[...]> line 30.\n",
      "Use of uninitialized value $pos in hash element at /home/anjuni/myapps/gff3sort/gff3sort.pl line 67, <$_[...]> line 31.\n",
      "Use of uninitialized value $pos in hash element at /home/anjuni/myapps/gff3sort/gff3sort.pl line 67, <$_[...]> line 32.\n",
      "Use of uninitialized value $pos in hash element at /home/anjuni/myapps/gff3sort/gff3sort.pl line 67, <$_[...]> line 33.\n",
      "Use of uninitialized value $pos in hash element at /home/anjuni/myapps/gff3sort/gff3sort.pl line 67, <$_[...]> line 34.\n",
      "Use of uninitialized value $pos in hash element at /home/anjuni/myapps/gff3sort/gff3sort.pl line 67, <$_[...]> line 35.\n",
      "Use of uninitialized value $pos in hash element at /home/anjuni/myapps/gff3sort/gff3sort.pl line 67, <$_[...]> line 36.\n",
      "Use of uninitialized value $pos in hash element at /home/anjuni/myapps/gff3sort/gff3sort.pl line 67, <$_[...]> line 37.\n",
      "Use of uninitialized value $pos in hash element at /home/anjuni/myapps/gff3sort/gff3sort.pl line 67, <$_[...]> line 38.\n",
      "Use of uninitialized value $pos in hash element at /home/anjuni/myapps/gff3sort/gff3sort.pl line 67, <$_[...]> line 39.\n",
      "Use of uninitialized value $pos in hash element at /home/anjuni/myapps/gff3sort/gff3sort.pl line 67, <$_[...]> line 40.\n",
      "Use of uninitialized value $pos in hash element at /home/anjuni/myapps/gff3sort/gff3sort.pl line 67, <$_[...]> line 41.\n",
      "Use of uninitialized value $pos in hash element at /home/anjuni/myapps/gff3sort/gff3sort.pl line 67, <$_[...]> line 42.\n",
      "Use of uninitialized value $pos in hash element at /home/anjuni/myapps/gff3sort/gff3sort.pl line 67, <$_[...]> line 43.\n",
      "Use of uninitialized value $pos in hash element at /home/anjuni/myapps/gff3sort/gff3sort.pl line 67, <$_[...]> line 44.\n",
      "Use of uninitialized value $pos in hash element at /home/anjuni/myapps/gff3sort/gff3sort.pl line 67, <$_[...]> line 45.\n",
      "Use of uninitialized value $pos in hash element at /home/anjuni/myapps/gff3sort/gff3sort.pl line 67, <$_[...]> line 46.\n",
      "Use of uninitialized value $pos in hash element at /home/anjuni/myapps/gff3sort/gff3sort.pl line 67, <$_[...]> line 47.\n",
      "Use of uninitialized value $pos in hash element at /home/anjuni/myapps/gff3sort/gff3sort.pl line 67, <$_[...]> line 48.\n",
      "Use of uninitialized value $pos in hash element at /home/anjuni/myapps/gff3sort/gff3sort.pl line 67, <$_[...]> line 49.\n",
      "Use of uninitialized value $pos in hash element at /home/anjuni/myapps/gff3sort/gff3sort.pl line 67, <$_[...]> line 50.\n",
      "Use of uninitialized value $pos in hash element at /home/anjuni/myapps/gff3sort/gff3sort.pl line 67, <$_[...]> line 51.\n",
      "Use of uninitialized value $pos in hash element at /home/anjuni/myapps/gff3sort/gff3sort.pl line 67, <$_[...]> line 52.\n",
      "Use of uninitialized value $pos in hash element at /home/anjuni/myapps/gff3sort/gff3sort.pl line 67, <$_[...]> line 53.\n",
      "Use of uninitialized value $pos in hash element at /home/anjuni/myapps/gff3sort/gff3sort.pl line 67, <$_[...]> line 54.\n",
      "Use of uninitialized value $pos in hash element at /home/anjuni/myapps/gff3sort/gff3sort.pl line 67, <$_[...]> line 55.\n",
      "Use of uninitialized value $pos in hash element at /home/anjuni/myapps/gff3sort/gff3sort.pl line 67, <$_[...]> line 56.\n",
      "Use of uninitialized value $pos in hash element at /home/anjuni/myapps/gff3sort/gff3sort.pl line 67, <$_[...]> line 57.\n",
      "Use of uninitialized value $pos in hash element at /home/anjuni/myapps/gff3sort/gff3sort.pl line 67, <$_[...]> line 58.\n",
      "Use of uninitialized value $pos in hash element at /home/anjuni/myapps/gff3sort/gff3sort.pl line 67, <$_[...]> line 59.\n",
      "Use of uninitialized value $pos in hash element at /home/anjuni/myapps/gff3sort/gff3sort.pl line 67, <$_[...]> line 60.\n",
      "Use of uninitialized value $pos in hash element at /home/anjuni/myapps/gff3sort/gff3sort.pl line 67, <$_[...]> line 61.\n",
      "Use of uninitialized value $pos in hash element at /home/anjuni/myapps/gff3sort/gff3sort.pl line 67, <$_[...]> line 62.\n",
      "Use of uninitialized value $pos in hash element at /home/anjuni/myapps/gff3sort/gff3sort.pl line 67, <$_[...]> line 63.\n",
      "Use of uninitialized value $pos in hash element at /home/anjuni/myapps/gff3sort/gff3sort.pl line 67, <$_[...]> line 64.\n",
      "Use of uninitialized value $pos in hash element at /home/anjuni/myapps/gff3sort/gff3sort.pl line 67, <$_[...]> line 65.\n",
      "Use of uninitialized value $pos in hash element at /home/anjuni/myapps/gff3sort/gff3sort.pl line 67, <$_[...]> line 66.\n",
      "Use of uninitialized value $pos in hash element at /home/anjuni/myapps/gff3sort/gff3sort.pl line 67, <$_[...]> line 67.\n",
      "Use of uninitialized value $pos in hash element at /home/anjuni/myapps/gff3sort/gff3sort.pl line 67, <$_[...]> line 68.\n",
      "Use of uninitialized value $pos in hash element at /home/anjuni/myapps/gff3sort/gff3sort.pl line 67, <$_[...]> line 69.\n",
      "Use of uninitialized value $pos in hash element at /home/anjuni/myapps/gff3sort/gff3sort.pl line 67, <$_[...]> line 70.\n",
      "Use of uninitialized value $pos in hash element at /home/anjuni/myapps/gff3sort/gff3sort.pl line 67, <$_[...]> line 71.\n",
      "Use of uninitialized value $pos in hash element at /home/anjuni/myapps/gff3sort/gff3sort.pl line 67, <$_[...]> line 72.\n",
      "Use of uninitialized value $pos in hash element at /home/anjuni/myapps/gff3sort/gff3sort.pl line 67, <$_[...]> line 73.\n",
      "Use of uninitialized value $pos in hash element at /home/anjuni/myapps/gff3sort/gff3sort.pl line 67, <$_[...]> line 74.\n",
      "Use of uninitialized value $pos in hash element at /home/anjuni/myapps/gff3sort/gff3sort.pl line 67, <$_[...]> line 75.\n",
      "Use of uninitialized value $pos in hash element at /home/anjuni/myapps/gff3sort/gff3sort.pl line 67, <$_[...]> line 76.\n",
      "Use of uninitialized value $pos in hash element at /home/anjuni/myapps/gff3sort/gff3sort.pl line 67, <$_[...]> line 77.\n",
      "Use of uninitialized value $pos in hash element at /home/anjuni/myapps/gff3sort/gff3sort.pl line 67, <$_[...]> line 78.\n",
      "Use of uninitialized value $pos in hash element at /home/anjuni/myapps/gff3sort/gff3sort.pl line 67, <$_[...]> line 79.\n",
      "Use of uninitialized value $pos in hash element at /home/anjuni/myapps/gff3sort/gff3sort.pl line 67, <$_[...]> line 80.\n",
      "Use of uninitialized value $pos in hash element at /home/anjuni/myapps/gff3sort/gff3sort.pl line 67, <$_[...]> line 81.\n",
      "Use of uninitialized value $pos in hash element at /home/anjuni/myapps/gff3sort/gff3sort.pl line 67, <$_[...]> line 82.\n",
      "Use of uninitialized value $pos in hash element at /home/anjuni/myapps/gff3sort/gff3sort.pl line 67, <$_[...]> line 83.\n",
      "Use of uninitialized value $pos in hash element at /home/anjuni/myapps/gff3sort/gff3sort.pl line 67, <$_[...]> line 84.\n",
      "Use of uninitialized value $pos in hash element at /home/anjuni/myapps/gff3sort/gff3sort.pl line 67, <$_[...]> line 85.\n",
      "Use of uninitialized value $pos in hash element at /home/anjuni/myapps/gff3sort/gff3sort.pl line 67, <$_[...]> line 86.\n",
      "Use of uninitialized value $pos in hash element at /home/anjuni/myapps/gff3sort/gff3sort.pl line 67, <$_[...]> line 87.\n",
      "Use of uninitialized value $pos in hash element at /home/anjuni/myapps/gff3sort/gff3sort.pl line 67, <$_[...]> line 88.\n",
      "Use of uninitialized value $pos in hash element at /home/anjuni/myapps/gff3sort/gff3sort.pl line 67, <$_[...]> line 89.\n",
      "Use of uninitialized value $pos in hash element at /home/anjuni/myapps/gff3sort/gff3sort.pl line 67, <$_[...]> line 90.\n",
      "Use of uninitialized value $pos in hash element at /home/anjuni/myapps/gff3sort/gff3sort.pl line 67, <$_[...]> line 91.\n",
      "Use of uninitialized value $pos in hash element at /home/anjuni/myapps/gff3sort/gff3sort.pl line 67, <$_[...]> line 92.\n",
      "Use of uninitialized value $pos in hash element at /home/anjuni/myapps/gff3sort/gff3sort.pl line 67, <$_[...]> line 93.\n",
      "Use of uninitialized value $pos in hash element at /home/anjuni/myapps/gff3sort/gff3sort.pl line 67, <$_[...]> line 94.\n",
      "Use of uninitialized value $pos in hash element at /home/anjuni/myapps/gff3sort/gff3sort.pl line 67, <$_[...]> line 95.\n",
      "Use of uninitialized value $pos in hash element at /home/anjuni/myapps/gff3sort/gff3sort.pl line 67, <$_[...]> line 96.\n",
      "Use of uninitialized value $pos in hash element at /home/anjuni/myapps/gff3sort/gff3sort.pl line 67, <$_[...]> line 97.\n",
      "Use of uninitialized value $pos in hash element at /home/anjuni/myapps/gff3sort/gff3sort.pl line 67, <$_[...]> line 98.\n",
      "Use of uninitialized value $pos in hash element at /home/anjuni/myapps/gff3sort/gff3sort.pl line 67, <$_[...]> line 99.\n",
      "Use of uninitialized value $pos in hash element at /home/anjuni/myapps/gff3sort/gff3sort.pl line 67, <$_[...]> line 100.\n",
      "Use of uninitialized value $pos in hash element at /home/anjuni/myapps/gff3sort/gff3sort.pl line 67, <$_[...]> line 101.\n",
      "Use of uninitialized value $pos in hash element at /home/anjuni/myapps/gff3sort/gff3sort.pl line 67, <$_[...]> line 102.\n",
      "Use of uninitialized value $pos in hash element at /home/anjuni/myapps/gff3sort/gff3sort.pl line 67, <$_[...]> line 103.\n",
      "Use of uninitialized value $pos in hash element at /home/anjuni/myapps/gff3sort/gff3sort.pl line 67, <$_[...]> line 104.\n",
      "Use of uninitialized value $pos in hash element at /home/anjuni/myapps/gff3sort/gff3sort.pl line 67, <$_[...]> line 105.\n",
      "Use of uninitialized value $pos in hash element at /home/anjuni/myapps/gff3sort/gff3sort.pl line 67, <$_[...]> line 106.\n",
      "Use of uninitialized value $pos in hash element at /home/anjuni/myapps/gff3sort/gff3sort.pl line 67, <$_[...]> line 107.\n",
      "Use of uninitialized value $pos in hash element at /home/anjuni/myapps/gff3sort/gff3sort.pl line 67, <$_[...]> line 108.\n",
      "Use of uninitialized value $pos in hash element at /home/anjuni/myapps/gff3sort/gff3sort.pl line 67, <$_[...]> line 109.\n",
      "Use of uninitialized value $pos in hash element at /home/anjuni/myapps/gff3sort/gff3sort.pl line 67, <$_[...]> line 110.\n",
      "Use of uninitialized value $pos in hash element at /home/anjuni/myapps/gff3sort/gff3sort.pl line 67, <$_[...]> line 111.\n",
      "Use of uninitialized value $pos in hash element at /home/anjuni/myapps/gff3sort/gff3sort.pl line 67, <$_[...]> line 112.\n",
      "Use of uninitialized value $pos in hash element at /home/anjuni/myapps/gff3sort/gff3sort.pl line 67, <$_[...]> line 113.\n",
      "Use of uninitialized value $pos in hash element at /home/anjuni/myapps/gff3sort/gff3sort.pl line 67, <$_[...]> line 114.\n",
      "Use of uninitialized value $pos in hash element at /home/anjuni/myapps/gff3sort/gff3sort.pl line 67, <$_[...]> line 115.\n",
      "Use of uninitialized value $pos in hash element at /home/anjuni/myapps/gff3sort/gff3sort.pl line 67, <$_[...]> line 116.\n",
      "Use of uninitialized value $pos in hash element at /home/anjuni/myapps/gff3sort/gff3sort.pl line 67, <$_[...]> line 117.\n",
      "Use of uninitialized value $pos in hash element at /home/anjuni/myapps/gff3sort/gff3sort.pl line 67, <$_[...]> line 118.\n",
      "Use of uninitialized value $pos in hash element at /home/anjuni/myapps/gff3sort/gff3sort.pl line 67, <$_[...]> line 119.\n",
      "Use of uninitialized value $pos in hash element at /home/anjuni/myapps/gff3sort/gff3sort.pl line 67, <$_[...]> line 120.\n",
      "Use of uninitialized value $pos in hash element at /home/anjuni/myapps/gff3sort/gff3sort.pl line 67, <$_[...]> line 121.\n",
      "Use of uninitialized value $pos in hash element at /home/anjuni/myapps/gff3sort/gff3sort.pl line 67, <$_[...]> line 122.\n",
      "Use of uninitialized value $pos in hash element at /home/anjuni/myapps/gff3sort/gff3sort.pl line 67, <$_[...]> line 123.\n",
      "Use of uninitialized value $pos in hash element at /home/anjuni/myapps/gff3sort/gff3sort.pl line 67, <$_[...]> line 124.\n",
      "Use of uninitialized value $pos in hash element at /home/anjuni/myapps/gff3sort/gff3sort.pl line 67, <$_[...]> line 125.\n",
      "Use of uninitialized value $pos in hash element at /home/anjuni/myapps/gff3sort/gff3sort.pl line 67, <$_[...]> line 126.\n",
      "Use of uninitialized value $pos in hash element at /home/anjuni/myapps/gff3sort/gff3sort.pl line 67, <$_[...]> line 127.\n",
      "Use of uninitialized value $pos in hash element at /home/anjuni/myapps/gff3sort/gff3sort.pl line 67, <$_[...]> line 128.\n",
      "Use of uninitialized value $pos in hash element at /home/anjuni/myapps/gff3sort/gff3sort.pl line 67, <$_[...]> line 129.\n",
      "Use of uninitialized value $pos in hash element at /home/anjuni/myapps/gff3sort/gff3sort.pl line 67, <$_[...]> line 130.\n",
      "Use of uninitialized value $pos in hash element at /home/anjuni/myapps/gff3sort/gff3sort.pl line 67, <$_[...]> line 131.\n",
      "Use of uninitialized value $pos in hash element at /home/anjuni/myapps/gff3sort/gff3sort.pl line 67, <$_[...]> line 132.\n",
      "Use of uninitialized value $pos in hash element at /home/anjuni/myapps/gff3sort/gff3sort.pl line 67, <$_[...]> line 133.\n",
      "Use of uninitialized value $pos in hash element at /home/anjuni/myapps/gff3sort/gff3sort.pl line 67, <$_[...]> line 134.\n",
      "Use of uninitialized value $pos in hash element at /home/anjuni/myapps/gff3sort/gff3sort.pl line 67, <$_[...]> line 135.\n",
      "Use of uninitialized value $pos in hash element at /home/anjuni/myapps/gff3sort/gff3sort.pl line 67, <$_[...]> line 136.\n",
      "Use of uninitialized value $pos in hash element at /home/anjuni/myapps/gff3sort/gff3sort.pl line 67, <$_[...]> line 137.\n",
      "Use of uninitialized value $pos in hash element at /home/anjuni/myapps/gff3sort/gff3sort.pl line 67, <$_[...]> line 138.\n",
      "Use of uninitialized value $pos in hash element at /home/anjuni/myapps/gff3sort/gff3sort.pl line 67, <$_[...]> line 139.\n",
      "Use of uninitialized value $pos in hash element at /home/anjuni/myapps/gff3sort/gff3sort.pl line 67, <$_[...]> line 140.\n",
      "Use of uninitialized value $pos in hash element at /home/anjuni/myapps/gff3sort/gff3sort.pl line 67, <$_[...]> line 141.\n",
      "Use of uninitialized value $pos in hash element at /home/anjuni/myapps/gff3sort/gff3sort.pl line 67, <$_[...]> line 142.\n",
      "Use of uninitialized value $pos in hash element at /home/anjuni/myapps/gff3sort/gff3sort.pl line 67, <$_[...]> line 143.\n",
      "Use of uninitialized value $pos in hash element at /home/anjuni/myapps/gff3sort/gff3sort.pl line 67, <$_[...]> line 144.\n",
      "Use of uninitialized value $pos in hash element at /home/anjuni/myapps/gff3sort/gff3sort.pl line 67, <$_[...]> line 145.\n",
      "Use of uninitialized value $pos in hash element at /home/anjuni/myapps/gff3sort/gff3sort.pl line 67, <$_[...]> line 146.\n",
      "Use of uninitialized value $pos in hash element at /home/anjuni/myapps/gff3sort/gff3sort.pl line 67, <$_[...]> line 147.\n",
      "Use of uninitialized value $pos in hash element at /home/anjuni/myapps/gff3sort/gff3sort.pl line 67, <$_[...]> line 148.\n",
      "Use of uninitialized value $pos in hash element at /home/anjuni/myapps/gff3sort/gff3sort.pl line 67, <$_[...]> line 149.\n",
      "Use of uninitialized value $pos in hash element at /home/anjuni/myapps/gff3sort/gff3sort.pl line 67, <$_[...]> line 150.\n",
      "Use of uninitialized value $pos in hash element at /home/anjuni/myapps/gff3sort/gff3sort.pl line 67, <$_[...]> line 151.\n",
      "Use of uninitialized value $pos in hash element at /home/anjuni/myapps/gff3sort/gff3sort.pl line 67, <$_[...]> line 152.\n",
      "Use of uninitialized value $pos in hash element at /home/anjuni/myapps/gff3sort/gff3sort.pl line 67, <$_[...]> line 153.\n",
      "Use of uninitialized value $pos in hash element at /home/anjuni/myapps/gff3sort/gff3sort.pl line 67, <$_[...]> line 154.\n",
      "Use of uninitialized value $pos in hash element at /home/anjuni/myapps/gff3sort/gff3sort.pl line 67, <$_[...]> line 155.\n",
      "Use of uninitialized value $pos in hash element at /home/anjuni/myapps/gff3sort/gff3sort.pl line 67, <$_[...]> line 156.\n",
      "Use of uninitialized value $pos in hash element at /home/anjuni/myapps/gff3sort/gff3sort.pl line 67, <$_[...]> line 157.\n",
      "Use of uninitialized value $pos in hash element at /home/anjuni/myapps/gff3sort/gff3sort.pl line 67, <$_[...]> line 158.\n",
      "Use of uninitialized value $pos in hash element at /home/anjuni/myapps/gff3sort/gff3sort.pl line 67, <$_[...]> line 159.\n",
      "Use of uninitialized value $pos in hash element at /home/anjuni/myapps/gff3sort/gff3sort.pl line 67, <$_[...]> line 160.\n",
      "Use of uninitialized value $pos in hash element at /home/anjuni/myapps/gff3sort/gff3sort.pl line 67, <$_[...]> line 161.\n",
      "Use of uninitialized value $pos in hash element at /home/anjuni/myapps/gff3sort/gff3sort.pl line 67, <$_[...]> line 162.\n",
      "Use of uninitialized value $pos in hash element at /home/anjuni/myapps/gff3sort/gff3sort.pl line 67, <$_[...]> line 163.\n",
      "Use of uninitialized value $pos in hash element at /home/anjuni/myapps/gff3sort/gff3sort.pl line 67, <$_[...]> line 164.\n",
      "Use of uninitialized value $pos in hash element at /home/anjuni/myapps/gff3sort/gff3sort.pl line 67, <$_[...]> line 165.\n",
      "Use of uninitialized value $pos in hash element at /home/anjuni/myapps/gff3sort/gff3sort.pl line 67, <$_[...]> line 166.\n",
      "Use of uninitialized value $pos in hash element at /home/anjuni/myapps/gff3sort/gff3sort.pl line 67, <$_[...]> line 167.\n",
      "Use of uninitialized value $pos in hash element at /home/anjuni/myapps/gff3sort/gff3sort.pl line 67, <$_[...]> line 168.\n",
      "Use of uninitialized value $pos in hash element at /home/anjuni/myapps/gff3sort/gff3sort.pl line 67, <$_[...]> line 169.\n",
      "Use of uninitialized value $pos in hash element at /home/anjuni/myapps/gff3sort/gff3sort.pl line 67, <$_[...]> line 170.\n",
      "Use of uninitialized value $pos in hash element at /home/anjuni/myapps/gff3sort/gff3sort.pl line 67, <$_[...]> line 171.\n",
      "Use of uninitialized value $pos in hash element at /home/anjuni/myapps/gff3sort/gff3sort.pl line 67, <$_[...]> line 172.\n",
      "Use of uninitialized value $pos in hash element at /home/anjuni/myapps/gff3sort/gff3sort.pl line 67, <$_[...]> line 173.\n",
      "Use of uninitialized value $pos in hash element at /home/anjuni/myapps/gff3sort/gff3sort.pl line 67, <$_[...]> line 174.\n",
      "Use of uninitialized value $pos in hash element at /home/anjuni/myapps/gff3sort/gff3sort.pl line 67, <$_[...]> line 175.\n",
      "Use of uninitialized value $pos in hash element at /home/anjuni/myapps/gff3sort/gff3sort.pl line 67, <$_[...]> line 176.\n",
      "Use of uninitialized value $pos in hash element at /home/anjuni/myapps/gff3sort/gff3sort.pl line 67, <$_[...]> line 177.\n",
      "Use of uninitialized value $pos in hash element at /home/anjuni/myapps/gff3sort/gff3sort.pl line 67, <$_[...]> line 178.\n",
      "Use of uninitialized value $pos in hash element at /home/anjuni/myapps/gff3sort/gff3sort.pl line 67, <$_[...]> line 179.\n",
      "Use of uninitialized value $pos in hash element at /home/anjuni/myapps/gff3sort/gff3sort.pl line 67, <$_[...]> line 180.\n",
      "Use of uninitialized value $pos in hash element at /home/anjuni/myapps/gff3sort/gff3sort.pl line 67, <$_[...]> line 181.\n",
      "Use of uninitialized value $pos in hash element at /home/anjuni/myapps/gff3sort/gff3sort.pl line 67, <$_[...]> line 182.\n",
      "Use of uninitialized value $pos in hash element at /home/anjuni/myapps/gff3sort/gff3sort.pl line 67, <$_[...]> line 183.\n",
      "Use of uninitialized value $pos in hash element at /home/anjuni/myapps/gff3sort/gff3sort.pl line 67, <$_[...]> line 184.\n",
      "Use of uninitialized value $pos in hash element at /home/anjuni/myapps/gff3sort/gff3sort.pl line 67, <$_[...]> line 185.\n",
      "Use of uninitialized value $pos in hash element at /home/anjuni/myapps/gff3sort/gff3sort.pl line 67, <$_[...]> line 186.\n",
      "Use of uninitialized value $pos in hash element at /home/anjuni/myapps/gff3sort/gff3sort.pl line 67, <$_[...]> line 187.\n",
      "Use of uninitialized value $pos in hash element at /home/anjuni/myapps/gff3sort/gff3sort.pl line 67, <$_[...]> line 188.\n",
      "Use of uninitialized value $pos in hash element at /home/anjuni/myapps/gff3sort/gff3sort.pl line 67, <$_[...]> line 189.\n",
      "Use of uninitialized value $pos in hash element at /home/anjuni/myapps/gff3sort/gff3sort.pl line 67, <$_[...]> line 190.\n",
      "Use of uninitialized value $pos in hash element at /home/anjuni/myapps/gff3sort/gff3sort.pl line 67, <$_[...]> line 191.\n",
      "Use of uninitialized value $pos in hash element at /home/anjuni/myapps/gff3sort/gff3sort.pl line 67, <$_[...]> line 192.\n",
      "Use of uninitialized value $pos in hash element at /home/anjuni/myapps/gff3sort/gff3sort.pl line 67, <$_[...]> line 193.\n",
      "Use of uninitialized value $pos in hash element at /home/anjuni/myapps/gff3sort/gff3sort.pl line 67, <$_[...]> line 194.\n",
      "Use of uninitialized value $pos in hash element at /home/anjuni/myapps/gff3sort/gff3sort.pl line 67, <$_[...]> line 195.\n",
      "Use of uninitialized value $pos in hash element at /home/anjuni/myapps/gff3sort/gff3sort.pl line 67, <$_[...]> line 196.\n",
      "Use of uninitialized value $pos in hash element at /home/anjuni/myapps/gff3sort/gff3sort.pl line 67, <$_[...]> line 197.\n",
      "Use of uninitialized value $pos in hash element at /home/anjuni/myapps/gff3sort/gff3sort.pl line 67, <$_[...]> line 198.\n",
      "Use of uninitialized value $pos in hash element at /home/anjuni/myapps/gff3sort/gff3sort.pl line 67, <$_[...]> line 199.\n",
      "Use of uninitialized value $pos in hash element at /home/anjuni/myapps/gff3sort/gff3sort.pl line 67, <$_[...]> line 200.\n",
      "Use of uninitialized value $pos in hash element at /home/anjuni/myapps/gff3sort/gff3sort.pl line 67, <$_[...]> line 201.\n",
      "Use of uninitialized value $pos in hash element at /home/anjuni/myapps/gff3sort/gff3sort.pl line 67, <$_[...]> line 202.\n",
      "Use of uninitialized value $pos in hash element at /home/anjuni/myapps/gff3sort/gff3sort.pl line 67, <$_[...]> line 203.\n",
      "Use of uninitialized value $pos in hash element at /home/anjuni/myapps/gff3sort/gff3sort.pl line 67, <$_[...]> line 204.\n",
      "Use of uninitialized value $pos in hash element at /home/anjuni/myapps/gff3sort/gff3sort.pl line 67, <$_[...]> line 205.\n",
      "Use of uninitialized value $pos in hash element at /home/anjuni/myapps/gff3sort/gff3sort.pl line 67, <$_[...]> line 206.\n",
      "Use of uninitialized value $pos in hash element at /home/anjuni/myapps/gff3sort/gff3sort.pl line 67, <$_[...]> line 207.\n",
      "Use of uninitialized value $pos in hash element at /home/anjuni/myapps/gff3sort/gff3sort.pl line 67, <$_[...]> line 208.\n",
      "Use of uninitialized value $pos in hash element at /home/anjuni/myapps/gff3sort/gff3sort.pl line 67, <$_[...]> line 209.\n",
      "Use of uninitialized value $pos in hash element at /home/anjuni/myapps/gff3sort/gff3sort.pl line 67, <$_[...]> line 210.\n",
      "Use of uninitialized value $pos in hash element at /home/anjuni/myapps/gff3sort/gff3sort.pl line 67, <$_[...]> line 211.\n",
      "Use of uninitialized value $pos in hash element at /home/anjuni/myapps/gff3sort/gff3sort.pl line 67, <$_[...]> line 212.\n",
      "Use of uninitialized value $pos in hash element at /home/anjuni/myapps/gff3sort/gff3sort.pl line 67, <$_[...]> line 213.\n",
      "Use of uninitialized value $pos in hash element at /home/anjuni/myapps/gff3sort/gff3sort.pl line 67, <$_[...]> line 214.\n",
      "Use of uninitialized value $pos in hash element at /home/anjuni/myapps/gff3sort/gff3sort.pl line 67, <$_[...]> line 215.\n",
      "Use of uninitialized value $pos in hash element at /home/anjuni/myapps/gff3sort/gff3sort.pl line 67, <$_[...]> line 216.\n",
      "Use of uninitialized value $pos in hash element at /home/anjuni/myapps/gff3sort/gff3sort.pl line 67, <$_[...]> line 217.\n",
      "Use of uninitialized value $pos in hash element at /home/anjuni/myapps/gff3sort/gff3sort.pl line 67, <$_[...]> line 218.\n",
      "Use of uninitialized value $pos in hash element at /home/anjuni/myapps/gff3sort/gff3sort.pl line 67, <$_[...]> line 219.\n",
      "Use of uninitialized value $pos in hash element at /home/anjuni/myapps/gff3sort/gff3sort.pl line 67, <$_[...]> line 220.\n",
      "Use of uninitialized value $pos in hash element at /home/anjuni/myapps/gff3sort/gff3sort.pl line 67, <$_[...]> line 221.\n",
      "Use of uninitialized value $pos in hash element at /home/anjuni/myapps/gff3sort/gff3sort.pl line 67, <$_[...]> line 222.\n",
      "Use of uninitialized value $pos in hash element at /home/anjuni/myapps/gff3sort/gff3sort.pl line 67, <$_[...]> line 223.\n",
      "Use of uninitialized value $pos in hash element at /home/anjuni/myapps/gff3sort/gff3sort.pl line 67, <$_[...]> line 224.\n",
      "Use of uninitialized value $pos in hash element at /home/anjuni/myapps/gff3sort/gff3sort.pl line 67, <$_[...]> line 225.\n",
      "Use of uninitialized value $pos in hash element at /home/anjuni/myapps/gff3sort/gff3sort.pl line 67, <$_[...]> line 226.\n",
      "Use of uninitialized value $pos in hash element at /home/anjuni/myapps/gff3sort/gff3sort.pl line 67, <$_[...]> line 227.\n",
      "Use of uninitialized value $pos in hash element at /home/anjuni/myapps/gff3sort/gff3sort.pl line 67, <$_[...]> line 228.\n",
      "Use of uninitialized value $pos in hash element at /home/anjuni/myapps/gff3sort/gff3sort.pl line 67, <$_[...]> line 229.\n",
      "Use of uninitialized value $pos in hash element at /home/anjuni/myapps/gff3sort/gff3sort.pl line 67, <$_[...]> line 230.\n",
      "Use of uninitialized value $pos in hash element at /home/anjuni/myapps/gff3sort/gff3sort.pl line 67, <$_[...]> line 231.\n",
      "Use of uninitialized value $pos in hash element at /home/anjuni/myapps/gff3sort/gff3sort.pl line 67, <$_[...]> line 232.\n",
      "Use of uninitialized value $pos in hash element at /home/anjuni/myapps/gff3sort/gff3sort.pl line 67, <$_[...]> line 233.\n",
      "Use of uninitialized value $pos in hash element at /home/anjuni/myapps/gff3sort/gff3sort.pl line 67, <$_[...]> line 234.\n",
      "Use of uninitialized value $pos in hash element at /home/anjuni/myapps/gff3sort/gff3sort.pl line 67, <$_[...]> line 235.\n",
      "Use of uninitialized value $pos in hash element at /home/anjuni/myapps/gff3sort/gff3sort.pl line 67, <$_[...]> line 236.\n",
      "Use of uninitialized value $pos in hash element at /home/anjuni/myapps/gff3sort/gff3sort.pl line 67, <$_[...]> line 237.\n",
      "Use of uninitialized value $pos in hash element at /home/anjuni/myapps/gff3sort/gff3sort.pl line 67, <$_[...]> line 238.\n",
      "Use of uninitialized value $pos in hash element at /home/anjuni/myapps/gff3sort/gff3sort.pl line 67, <$_[...]> line 239.\n",
      "Use of uninitialized value $pos in hash element at /home/anjuni/myapps/gff3sort/gff3sort.pl line 67, <$_[...]> line 240.\n",
      "Use of uninitialized value $pos in hash element at /home/anjuni/myapps/gff3sort/gff3sort.pl line 67, <$_[...]> line 241.\n",
      "Use of uninitialized value $pos in hash element at /home/anjuni/myapps/gff3sort/gff3sort.pl line 67, <$_[...]> line 242.\n",
      "Use of uninitialized value $pos in hash element at /home/anjuni/myapps/gff3sort/gff3sort.pl line 67, <$_[...]> line 243.\n",
      "Use of uninitialized value $pos in hash element at /home/anjuni/myapps/gff3sort/gff3sort.pl line 67, <$_[...]> line 244.\n",
      "Use of uninitialized value $pos in hash element at /home/anjuni/myapps/gff3sort/gff3sort.pl line 67, <$_[...]> line 245.\n",
      "Use of uninitialized value $pos in hash element at /home/anjuni/myapps/gff3sort/gff3sort.pl line 67, <$_[...]> line 246.\n",
      "Use of uninitialized value $pos in hash element at /home/anjuni/myapps/gff3sort/gff3sort.pl line 67, <$_[...]> line 247.\n",
      "Use of uninitialized value $pos in hash element at /home/anjuni/myapps/gff3sort/gff3sort.pl line 67, <$_[...]> line 248.\n",
      "Use of uninitialized value $pos in hash element at /home/anjuni/myapps/gff3sort/gff3sort.pl line 67, <$_[...]> line 249.\n",
      "Use of uninitialized value $pos in hash element at /home/anjuni/myapps/gff3sort/gff3sort.pl line 67, <$_[...]> line 250.\n",
      "Use of uninitialized value $pos in hash element at /home/anjuni/myapps/gff3sort/gff3sort.pl line 67, <$_[...]> line 251.\n",
      "Use of uninitialized value $pos in hash element at /home/anjuni/myapps/gff3sort/gff3sort.pl line 67, <$_[...]> line 252.\n",
      "Use of uninitialized value $pos in hash element at /home/anjuni/myapps/gff3sort/gff3sort.pl line 67, <$_[...]> line 253.\n",
      "Use of uninitialized value $pos in hash element at /home/anjuni/myapps/gff3sort/gff3sort.pl line 67, <$_[...]> line 254.\n",
      "Use of uninitialized value $pos in hash element at /home/anjuni/myapps/gff3sort/gff3sort.pl line 67, <$_[...]> line 255.\n",
      "Use of uninitialized value $pos in hash element at /home/anjuni/myapps/gff3sort/gff3sort.pl line 67, <$_[...]> line 256.\n",
      "Use of uninitialized value $pos in hash element at /home/anjuni/myapps/gff3sort/gff3sort.pl line 67, <$_[...]> line 257.\n",
      "Use of uninitialized value $pos in hash element at /home/anjuni/myapps/gff3sort/gff3sort.pl line 67, <$_[...]> line 258.\n",
      "Use of uninitialized value $pos in hash element at /home/anjuni/myapps/gff3sort/gff3sort.pl line 67, <$_[...]> line 259.\n",
      "Use of uninitialized value $pos in hash element at /home/anjuni/myapps/gff3sort/gff3sort.pl line 67, <$_[...]> line 260.\n",
      "Use of uninitialized value $pos in hash element at /home/anjuni/myapps/gff3sort/gff3sort.pl line 67, <$_[...]> line 261.\n",
      "Use of uninitialized value $pos in hash element at /home/anjuni/myapps/gff3sort/gff3sort.pl line 67, <$_[...]> line 262.\n",
      "Use of uninitialized value $pos in hash element at /home/anjuni/myapps/gff3sort/gff3sort.pl line 67, <$_[...]> line 263.\n",
      "Use of uninitialized value $pos in hash element at /home/anjuni/myapps/gff3sort/gff3sort.pl line 67, <$_[...]> line 264.\n",
      "Use of uninitialized value $pos in hash element at /home/anjuni/myapps/gff3sort/gff3sort.pl line 67, <$_[...]> line 265.\n",
      "Use of uninitialized value $pos in hash element at /home/anjuni/myapps/gff3sort/gff3sort.pl line 67, <$_[...]> line 266.\n",
      "Use of uninitialized value $pos in hash element at /home/anjuni/myapps/gff3sort/gff3sort.pl line 67, <$_[...]> line 267.\n",
      "Use of uninitialized value $pos in hash element at /home/anjuni/myapps/gff3sort/gff3sort.pl line 67, <$_[...]> line 268.\n",
      "Use of uninitialized value $pos in hash element at /home/anjuni/myapps/gff3sort/gff3sort.pl line 67, <$_[...]> line 269.\n",
      "Use of uninitialized value $pos in hash element at /home/anjuni/myapps/gff3sort/gff3sort.pl line 67, <$_[...]> line 270.\n",
      "Use of uninitialized value $pos in hash element at /home/anjuni/myapps/gff3sort/gff3sort.pl line 67, <$_[...]> line 271.\n",
      "Use of uninitialized value $pos in hash element at /home/anjuni/myapps/gff3sort/gff3sort.pl line 67, <$_[...]> line 272.\n",
      "Use of uninitialized value $pos in hash element at /home/anjuni/myapps/gff3sort/gff3sort.pl line 67, <$_[...]> line 273.\n",
      "Use of uninitialized value $pos in hash element at /home/anjuni/myapps/gff3sort/gff3sort.pl line 67, <$_[...]> line 274.\n",
      "Use of uninitialized value $pos in hash element at /home/anjuni/myapps/gff3sort/gff3sort.pl line 67, <$_[...]> line 275.\n",
      "Use of uninitialized value $pos in hash element at /home/anjuni/myapps/gff3sort/gff3sort.pl line 67, <$_[...]> line 276.\n",
      "Use of uninitialized value $pos in hash element at /home/anjuni/myapps/gff3sort/gff3sort.pl line 67, <$_[...]> line 277.\n",
      "Use of uninitialized value $pos in hash element at /home/anjuni/myapps/gff3sort/gff3sort.pl line 67, <$_[...]> line 278.\n",
      "Use of uninitialized value $pos in hash element at /home/anjuni/myapps/gff3sort/gff3sort.pl line 67, <$_[...]> line 279.\n",
      "Use of uninitialized value $pos in hash element at /home/anjuni/myapps/gff3sort/gff3sort.pl line 67, <$_[...]> line 280.\n",
      "Use of uninitialized value $pos in hash element at /home/anjuni/myapps/gff3sort/gff3sort.pl line 67, <$_[...]> line 281.\n",
      "Use of uninitialized value $pos in hash element at /home/anjuni/myapps/gff3sort/gff3sort.pl line 67, <$_[...]> line 282.\n",
      "Use of uninitialized value $pos in hash element at /home/anjuni/myapps/gff3sort/gff3sort.pl line 67, <$_[...]> line 283.\n",
      "Use of uninitialized value $pos in hash element at /home/anjuni/myapps/gff3sort/gff3sort.pl line 67, <$_[...]> line 284.\n",
      "Use of uninitialized value $pos in hash element at /home/anjuni/myapps/gff3sort/gff3sort.pl line 67, <$_[...]> line 285.\n",
      "Use of uninitialized value $pos in hash element at /home/anjuni/myapps/gff3sort/gff3sort.pl line 67, <$_[...]> line 286.\n",
      "Use of uninitialized value $pos in hash element at /home/anjuni/myapps/gff3sort/gff3sort.pl line 67, <$_[...]> line 287.\n",
      "Use of uninitialized value $pos in hash element at /home/anjuni/myapps/gff3sort/gff3sort.pl line 67, <$_[...]> line 288.\n",
      "Use of uninitialized value $pos in hash element at /home/anjuni/myapps/gff3sort/gff3sort.pl line 67, <$_[...]> line 289.\n",
      "Use of uninitialized value $pos in hash element at /home/anjuni/myapps/gff3sort/gff3sort.pl line 67, <$_[...]> line 290.\n",
      "Use of uninitialized value $pos in hash element at /home/anjuni/myapps/gff3sort/gff3sort.pl line 67, <$_[...]> line 291.\n",
      "Use of uninitialized value $pos in hash element at /home/anjuni/myapps/gff3sort/gff3sort.pl line 67, <$_[...]> line 292.\n",
      "Use of uninitialized value $pos in hash element at /home/anjuni/myapps/gff3sort/gff3sort.pl line 67, <$_[...]> line 293.\n",
      "Use of uninitialized value $pos in hash element at /home/anjuni/myapps/gff3sort/gff3sort.pl line 67, <$_[...]> line 294.\n",
      "Use of uninitialized value $pos in hash element at /home/anjuni/myapps/gff3sort/gff3sort.pl line 67, <$_[...]> line 295.\n",
      "Use of uninitialized value $pos in hash element at /home/anjuni/myapps/gff3sort/gff3sort.pl line 67, <$_[...]> line 296.\n",
      "Use of uninitialized value $pos in hash element at /home/anjuni/myapps/gff3sort/gff3sort.pl line 67, <$_[...]> line 297.\n",
      "Use of uninitialized value $pos in hash element at /home/anjuni/myapps/gff3sort/gff3sort.pl line 67, <$_[...]> line 298.\n",
      "Use of uninitialized value $pos in hash element at /home/anjuni/myapps/gff3sort/gff3sort.pl line 67, <$_[...]> line 299.\n",
      "Use of uninitialized value $pos in hash element at /home/anjuni/myapps/gff3sort/gff3sort.pl line 67, <$_[...]> line 300.\n",
      "Use of uninitialized value $pos in hash element at /home/anjuni/myapps/gff3sort/gff3sort.pl line 67, <$_[...]> line 301.\n",
      "Use of uninitialized value $pos in hash element at /home/anjuni/myapps/gff3sort/gff3sort.pl line 67, <$_[...]> line 302.\n",
      "Use of uninitialized value $pos in hash element at /home/anjuni/myapps/gff3sort/gff3sort.pl line 67, <$_[...]> line 303.\n",
      "Use of uninitialized value $pos in hash element at /home/anjuni/myapps/gff3sort/gff3sort.pl line 67, <$_[...]> line 304.\n",
      "Use of uninitialized value $pos in hash element at /home/anjuni/myapps/gff3sort/gff3sort.pl line 67, <$_[...]> line 305.\n",
      "Use of uninitialized value $pos in hash element at /home/anjuni/myapps/gff3sort/gff3sort.pl line 67, <$_[...]> line 306.\n",
      "Use of uninitialized value $pos in hash element at /home/anjuni/myapps/gff3sort/gff3sort.pl line 67, <$_[...]> line 307.\n",
      "Use of uninitialized value $pos in hash element at /home/anjuni/myapps/gff3sort/gff3sort.pl line 67, <$_[...]> line 308.\n",
      "Use of uninitialized value $pos in hash element at /home/anjuni/myapps/gff3sort/gff3sort.pl line 67, <$_[...]> line 309.\n",
      "Use of uninitialized value $pos in hash element at /home/anjuni/myapps/gff3sort/gff3sort.pl line 67, <$_[...]> line 310.\n",
      "Use of uninitialized value $pos in hash element at /home/anjuni/myapps/gff3sort/gff3sort.pl line 67, <$_[...]> line 311.\n",
      "Use of uninitialized value $pos in hash element at /home/anjuni/myapps/gff3sort/gff3sort.pl line 67, <$_[...]> line 312.\n",
      "Use of uninitialized value $pos in hash element at /home/anjuni/myapps/gff3sort/gff3sort.pl line 67, <$_[...]> line 313.\n",
      "Use of uninitialized value $pos in hash element at /home/anjuni/myapps/gff3sort/gff3sort.pl line 67, <$_[...]> line 314.\n",
      "Use of uninitialized value $pos in hash element at /home/anjuni/myapps/gff3sort/gff3sort.pl line 67, <$_[...]> line 315.\n",
      "Use of uninitialized value $pos in hash element at /home/anjuni/myapps/gff3sort/gff3sort.pl line 67, <$_[...]> line 316.\n",
      "Use of uninitialized value $pos in hash element at /home/anjuni/myapps/gff3sort/gff3sort.pl line 67, <$_[...]> line 317.\n",
      "Use of uninitialized value $pos in hash element at /home/anjuni/myapps/gff3sort/gff3sort.pl line 67, <$_[...]> line 318.\n",
      "Use of uninitialized value $pos in hash element at /home/anjuni/myapps/gff3sort/gff3sort.pl line 67, <$_[...]> line 319.\n",
      "Use of uninitialized value $pos in hash element at /home/anjuni/myapps/gff3sort/gff3sort.pl line 67, <$_[...]> line 320.\n",
      "Use of uninitialized value $pos in hash element at /home/anjuni/myapps/gff3sort/gff3sort.pl line 67, <$_[...]> line 321.\n",
      "Use of uninitialized value $pos in hash element at /home/anjuni/myapps/gff3sort/gff3sort.pl line 67, <$_[...]> line 322.\n",
      "Use of uninitialized value $pos in hash element at /home/anjuni/myapps/gff3sort/gff3sort.pl line 67, <$_[...]> line 323.\n",
      "Use of uninitialized value $pos in hash element at /home/anjuni/myapps/gff3sort/gff3sort.pl line 67, <$_[...]> line 324.\n",
      "Use of uninitialized value $pos in hash element at /home/anjuni/myapps/gff3sort/gff3sort.pl line 67, <$_[...]> line 325.\n",
      "Use of uninitialized value $pos in hash element at /home/anjuni/myapps/gff3sort/gff3sort.pl line 67, <$_[...]> line 326.\n",
      "Use of uninitialized value $pos in hash element at /home/anjuni/myapps/gff3sort/gff3sort.pl line 67, <$_[...]> line 327.\n",
      "Use of uninitialized value $pos in hash element at /home/anjuni/myapps/gff3sort/gff3sort.pl line 67, <$_[...]> line 328.\n",
      "Use of uninitialized value $pos in hash element at /home/anjuni/myapps/gff3sort/gff3sort.pl line 67, <$_[...]> line 329.\n",
      "Use of uninitialized value $pos in hash element at /home/anjuni/myapps/gff3sort/gff3sort.pl line 67, <$_[...]> line 330.\n",
      "Use of uninitialized value $pos in hash element at /home/anjuni/myapps/gff3sort/gff3sort.pl line 67, <$_[...]> line 331.\n",
      "Use of uninitialized value $pos in hash element at /home/anjuni/myapps/gff3sort/gff3sort.pl line 67, <$_[...]> line 332.\n",
      "Use of uninitialized value $pos in hash element at /home/anjuni/myapps/gff3sort/gff3sort.pl line 67, <$_[...]> line 333.\n",
      "Use of uninitialized value $pos in hash element at /home/anjuni/myapps/gff3sort/gff3sort.pl line 67, <$_[...]> line 334.\n",
      "Use of uninitialized value $pos in hash element at /home/anjuni/myapps/gff3sort/gff3sort.pl line 67, <$_[...]> line 335.\n",
      "Use of uninitialized value $pos in hash element at /home/anjuni/myapps/gff3sort/gff3sort.pl line 67, <$_[...]> line 336.\n",
      "Use of uninitialized value $pos in hash element at /home/anjuni/myapps/gff3sort/gff3sort.pl line 67, <$_[...]> line 337.\n",
      "Use of uninitialized value $pos in hash element at /home/anjuni/myapps/gff3sort/gff3sort.pl line 67, <$_[...]> line 338.\n",
      "Use of uninitialized value $pos in hash element at /home/anjuni/myapps/gff3sort/gff3sort.pl line 67, <$_[...]> line 339.\n",
      "Use of uninitialized value $pos in hash element at /home/anjuni/myapps/gff3sort/gff3sort.pl line 67, <$_[...]> line 340.\n",
      "Use of uninitialized value $pos in hash element at /home/anjuni/myapps/gff3sort/gff3sort.pl line 67, <$_[...]> line 341.\n",
      "Use of uninitialized value $pos in hash element at /home/anjuni/myapps/gff3sort/gff3sort.pl line 67, <$_[...]> line 342.\n",
      "Use of uninitialized value $pos in hash element at /home/anjuni/myapps/gff3sort/gff3sort.pl line 67, <$_[...]> line 343.\n",
      "Use of uninitialized value $pos in hash element at /home/anjuni/myapps/gff3sort/gff3sort.pl line 67, <$_[...]> line 344.\n",
      "Use of uninitialized value $pos in hash element at /home/anjuni/myapps/gff3sort/gff3sort.pl line 67, <$_[...]> line 345.\n",
      "Use of uninitialized value $pos in hash element at /home/anjuni/myapps/gff3sort/gff3sort.pl line 67, <$_[...]> line 346.\n",
      "Use of uninitialized value $pos in hash element at /home/anjuni/myapps/gff3sort/gff3sort.pl line 67, <$_[...]> line 347.\n",
      "Use of uninitialized value $pos in hash element at /home/anjuni/myapps/gff3sort/gff3sort.pl line 67, <$_[...]> line 348.\n",
      "Use of uninitialized value $pos in hash element at /home/anjuni/myapps/gff3sort/gff3sort.pl line 67, <$_[...]> line 349.\n",
      "Use of uninitialized value $pos in hash element at /home/anjuni/myapps/gff3sort/gff3sort.pl line 67, <$_[...]> line 350.\n",
      "Use of uninitialized value $pos in hash element at /home/anjuni/myapps/gff3sort/gff3sort.pl line 67, <$_[...]> line 351.\n",
      "Use of uninitialized value $pos in hash element at /home/anjuni/myapps/gff3sort/gff3sort.pl line 67, <$_[...]> line 352.\n",
      "Use of uninitialized value $pos in hash element at /home/anjuni/myapps/gff3sort/gff3sort.pl line 67, <$_[...]> line 353.\n",
      "Use of uninitialized value $pos in hash element at /home/anjuni/myapps/gff3sort/gff3sort.pl line 67, <$_[...]> line 354.\n",
      "Use of uninitialized value $pos in hash element at /home/anjuni/myapps/gff3sort/gff3sort.pl line 67, <$_[...]> line 355.\n",
      "Use of uninitialized value $pos in hash element at /home/anjuni/myapps/gff3sort/gff3sort.pl line 67, <$_[...]> line 356.\n",
      "Use of uninitialized value $pos in hash element at /home/anjuni/myapps/gff3sort/gff3sort.pl line 67, <$_[...]> line 357.\n",
      "Use of uninitialized value $pos in hash element at /home/anjuni/myapps/gff3sort/gff3sort.pl line 67, <$_[...]> line 358.\n",
      "Use of uninitialized value $pos in hash element at /home/anjuni/myapps/gff3sort/gff3sort.pl line 67, <$_[...]> line 359.\n",
      "Use of uninitialized value $pos in hash element at /home/anjuni/myapps/gff3sort/gff3sort.pl line 67, <$_[...]> line 360.\n",
      "Use of uninitialized value $pos in hash element at /home/anjuni/myapps/gff3sort/gff3sort.pl line 67, <$_[...]> line 361.\n",
      "Use of uninitialized value $pos in hash element at /home/anjuni/myapps/gff3sort/gff3sort.pl line 67, <$_[...]> line 362.\n",
      "Use of uninitialized value $pos in hash element at /home/anjuni/myapps/gff3sort/gff3sort.pl line 67, <$_[...]> line 363.\n",
      "Use of uninitialized value $pos in hash element at /home/anjuni/myapps/gff3sort/gff3sort.pl line 67, <$_[...]> line 364.\n",
      "Use of uninitialized value $pos in hash element at /home/anjuni/myapps/gff3sort/gff3sort.pl line 67, <$_[...]> line 365.\n",
      "Use of uninitialized value $pos in hash element at /home/anjuni/myapps/gff3sort/gff3sort.pl line 67, <$_[...]> line 366.\n",
      "Use of uninitialized value $pos in hash element at /home/anjuni/myapps/gff3sort/gff3sort.pl line 67, <$_[...]> line 367.\n",
      "Use of uninitialized value $pos in hash element at /home/anjuni/myapps/gff3sort/gff3sort.pl line 67, <$_[...]> line 368.\n",
      "Use of uninitialized value $pos in hash element at /home/anjuni/myapps/gff3sort/gff3sort.pl line 67, <$_[...]> line 369.\n",
      "Use of uninitialized value $pos in hash element at /home/anjuni/myapps/gff3sort/gff3sort.pl line 67, <$_[...]> line 370.\n",
      "Use of uninitialized value $pos in hash element at /home/anjuni/myapps/gff3sort/gff3sort.pl line 67, <$_[...]> line 371.\n",
      "Use of uninitialized value $pos in hash element at /home/anjuni/myapps/gff3sort/gff3sort.pl line 67, <$_[...]> line 372.\n",
      "Use of uninitialized value $pos in hash element at /home/anjuni/myapps/gff3sort/gff3sort.pl line 67, <$_[...]> line 373.\n",
      "Use of uninitialized value $pos in hash element at /home/anjuni/myapps/gff3sort/gff3sort.pl line 67, <$_[...]> line 374.\n",
      "Use of uninitialized value $pos in hash element at /home/anjuni/myapps/gff3sort/gff3sort.pl line 67, <$_[...]> line 375.\n",
      "Use of uninitialized value $pos in hash element at /home/anjuni/myapps/gff3sort/gff3sort.pl line 67, <$_[...]> line 376.\n",
      "Use of uninitialized value $pos in hash element at /home/anjuni/myapps/gff3sort/gff3sort.pl line 67, <$_[...]> line 377.\n",
      "Use of uninitialized value $pos in hash element at /home/anjuni/myapps/gff3sort/gff3sort.pl line 67, <$_[...]> line 378.\n",
      "Use of uninitialized value $pos in hash element at /home/anjuni/myapps/gff3sort/gff3sort.pl line 67, <$_[...]> line 379.\n",
      "Use of uninitialized value $pos in hash element at /home/anjuni/myapps/gff3sort/gff3sort.pl line 67, <$_[...]> line 380.\n",
      "Use of uninitialized value $pos in hash element at /home/anjuni/myapps/gff3sort/gff3sort.pl line 67, <$_[...]> line 381.\n",
      "Use of uninitialized value $pos in hash element at /home/anjuni/myapps/gff3sort/gff3sort.pl line 67, <$_[...]> line 382.\n",
      "Use of uninitialized value $pos in hash element at /home/anjuni/myapps/gff3sort/gff3sort.pl line 67, <$_[...]> line 383.\n",
      "Use of uninitialized value $pos in hash element at /home/anjuni/myapps/gff3sort/gff3sort.pl line 67, <$_[...]> line 384.\n",
      "Use of uninitialized value $pos in hash element at /home/anjuni/myapps/gff3sort/gff3sort.pl line 67, <$_[...]> line 385.\n",
      "Use of uninitialized value $pos in hash element at /home/anjuni/myapps/gff3sort/gff3sort.pl line 67, <$_[...]> line 386.\n",
      "Use of uninitialized value $pos in hash element at /home/anjuni/myapps/gff3sort/gff3sort.pl line 67, <$_[...]> line 387.\n",
      "Use of uninitialized value $pos in hash element at /home/anjuni/myapps/gff3sort/gff3sort.pl line 67, <$_[...]> line 388.\n",
      "Use of uninitialized value $pos in hash element at /home/anjuni/myapps/gff3sort/gff3sort.pl line 67, <$_[...]> line 389.\n",
      "Use of uninitialized value $pos in hash element at /home/anjuni/myapps/gff3sort/gff3sort.pl line 67, <$_[...]> line 390.\n",
      "Use of uninitialized value $pos in hash element at /home/anjuni/myapps/gff3sort/gff3sort.pl line 67, <$_[...]> line 391.\n",
      "Use of uninitialized value $pos in hash element at /home/anjuni/myapps/gff3sort/gff3sort.pl line 67, <$_[...]> line 392.\n",
      "Use of uninitialized value $pos in hash element at /home/anjuni/myapps/gff3sort/gff3sort.pl line 67, <$_[...]> line 393.\n",
      "Use of uninitialized value $pos in hash element at /home/anjuni/myapps/gff3sort/gff3sort.pl line 67, <$_[...]> line 394.\n",
      "Use of uninitialized value $pos in hash element at /home/anjuni/myapps/gff3sort/gff3sort.pl line 67, <$_[...]> line 395.\n",
      "Use of uninitialized value $pos in hash element at /home/anjuni/myapps/gff3sort/gff3sort.pl line 67, <$_[...]> line 396.\n",
      "Use of uninitialized value $pos in hash element at /home/anjuni/myapps/gff3sort/gff3sort.pl line 67, <$_[...]> line 397.\n",
      "Use of uninitialized value $pos in hash element at /home/anjuni/myapps/gff3sort/gff3sort.pl line 67, <$_[...]> line 398.\n",
      "Use of uninitialized value $pos in hash element at /home/anjuni/myapps/gff3sort/gff3sort.pl line 67, <$_[...]> line 399.\n",
      "Use of uninitialized value $pos in hash element at /home/anjuni/myapps/gff3sort/gff3sort.pl line 67, <$_[...]> line 400.\n",
      "Use of uninitialized value $pos in hash element at /home/anjuni/myapps/gff3sort/gff3sort.pl line 67, <$_[...]> line 401.\n",
      "Use of uninitialized value $pos in hash element at /home/anjuni/myapps/gff3sort/gff3sort.pl line 67, <$_[...]> line 402.\n",
      "Use of uninitialized value $pos in hash element at /home/anjuni/myapps/gff3sort/gff3sort.pl line 67, <$_[...]> line 403.\n",
      "Use of uninitialized value $pos in hash element at /home/anjuni/myapps/gff3sort/gff3sort.pl line 67, <$_[...]> line 404.\n",
      "Use of uninitialized value $pos in hash element at /home/anjuni/myapps/gff3sort/gff3sort.pl line 67, <$_[...]> line 405.\n",
      "Use of uninitialized value $pos in hash element at /home/anjuni/myapps/gff3sort/gff3sort.pl line 67, <$_[...]> line 406.\n",
      "Use of uninitialized value $pos in hash element at /home/anjuni/myapps/gff3sort/gff3sort.pl line 67, <$_[...]> line 407.\n",
      "Use of uninitialized value $pos in hash element at /home/anjuni/myapps/gff3sort/gff3sort.pl line 67, <$_[...]> line 408.\n",
      "Use of uninitialized value $pos in hash element at /home/anjuni/myapps/gff3sort/gff3sort.pl line 67, <$_[...]> line 409.\n",
      "Use of uninitialized value $pos in hash element at /home/anjuni/myapps/gff3sort/gff3sort.pl line 67, <$_[...]> line 410.\n",
      "Use of uninitialized value $pos in hash element at /home/anjuni/myapps/gff3sort/gff3sort.pl line 67, <$_[...]> line 411.\n",
      "Use of uninitialized value $pos in hash element at /home/anjuni/myapps/gff3sort/gff3sort.pl line 67, <$_[...]> line 412.\n",
      "Use of uninitialized value $pos in hash element at /home/anjuni/myapps/gff3sort/gff3sort.pl line 67, <$_[...]> line 413.\n",
      "Use of uninitialized value $pos in hash element at /home/anjuni/myapps/gff3sort/gff3sort.pl line 67, <$_[...]> line 414.\n",
      "Use of uninitialized value $pos in hash element at /home/anjuni/myapps/gff3sort/gff3sort.pl line 67, <$_[...]> line 415.\n",
      "Use of uninitialized value $pos in hash element at /home/anjuni/myapps/gff3sort/gff3sort.pl line 67, <$_[...]> line 416.\n",
      "Use of uninitialized value $pos in hash element at /home/anjuni/myapps/gff3sort/gff3sort.pl line 67, <$_[...]> line 417.\n",
      "Use of uninitialized value $pos in hash element at /home/anjuni/myapps/gff3sort/gff3sort.pl line 67, <$_[...]> line 418.\n",
      "Use of uninitialized value $pos in hash element at /home/anjuni/myapps/gff3sort/gff3sort.pl line 67, <$_[...]> line 419.\n",
      "Use of uninitialized value $pos in hash element at /home/anjuni/myapps/gff3sort/gff3sort.pl line 67, <$_[...]> line 420.\n",
      "Use of uninitialized value $pos in hash element at /home/anjuni/myapps/gff3sort/gff3sort.pl line 67, <$_[...]> line 421.\n",
      "Use of uninitialized value $pos in hash element at /home/anjuni/myapps/gff3sort/gff3sort.pl line 67, <$_[...]> line 422.\n",
      "Use of uninitialized value $pos in hash element at /home/anjuni/myapps/gff3sort/gff3sort.pl line 67, <$_[...]> line 423.\n",
      "Use of uninitialized value $pos in hash element at /home/anjuni/myapps/gff3sort/gff3sort.pl line 67, <$_[...]> line 424.\n",
      "Use of uninitialized value $pos in hash element at /home/anjuni/myapps/gff3sort/gff3sort.pl line 67, <$_[...]> line 425.\n",
      "Use of uninitialized value $pos in hash element at /home/anjuni/myapps/gff3sort/gff3sort.pl line 67, <$_[...]> line 426.\n",
      "Use of uninitialized value $pos in hash element at /home/anjuni/myapps/gff3sort/gff3sort.pl line 67, <$_[...]> line 427.\n",
      "Use of uninitialized value $pos in hash element at /home/anjuni/myapps/gff3sort/gff3sort.pl line 67, <$_[...]> line 428.\n",
      "Use of uninitialized value $pos in hash element at /home/anjuni/myapps/gff3sort/gff3sort.pl line 67, <$_[...]> line 429.\n",
      "Use of uninitialized value $pos in hash element at /home/anjuni/myapps/gff3sort/gff3sort.pl line 67, <$_[...]> line 430.\n",
      "Use of uninitialized value $pos in hash element at /home/anjuni/myapps/gff3sort/gff3sort.pl line 67, <$_[...]> line 431.\n",
      "Use of uninitialized value $pos in hash element at /home/anjuni/myapps/gff3sort/gff3sort.pl line 67, <$_[...]> line 432.\n",
      "Use of uninitialized value $pos in hash element at /home/anjuni/myapps/gff3sort/gff3sort.pl line 67, <$_[...]> line 433.\n",
      "Use of uninitialized value $pos in hash element at /home/anjuni/myapps/gff3sort/gff3sort.pl line 67, <$_[...]> line 434.\n",
      "Use of uninitialized value $pos in hash element at /home/anjuni/myapps/gff3sort/gff3sort.pl line 67, <$_[...]> line 435.\n",
      "Use of uninitialized value $pos in hash element at /home/anjuni/myapps/gff3sort/gff3sort.pl line 67, <$_[...]> line 436.\n",
      "Use of uninitialized value $pos in hash element at /home/anjuni/myapps/gff3sort/gff3sort.pl line 67, <$_[...]> line 437.\n",
      "Use of uninitialized value $pos in hash element at /home/anjuni/myapps/gff3sort/gff3sort.pl line 67, <$_[...]> line 438.\n",
      "Use of uninitialized value $pos in hash element at /home/anjuni/myapps/gff3sort/gff3sort.pl line 67, <$_[...]> line 439.\n",
      "Use of uninitialized value $pos in hash element at /home/anjuni/myapps/gff3sort/gff3sort.pl line 67, <$_[...]> line 440.\n",
      "Use of uninitialized value $pos in hash element at /home/anjuni/myapps/gff3sort/gff3sort.pl line 67, <$_[...]> line 441.\n",
      "Use of uninitialized value $pos in hash element at /home/anjuni/myapps/gff3sort/gff3sort.pl line 67, <$_[...]> line 442.\n",
      "Use of uninitialized value $pos in hash element at /home/anjuni/myapps/gff3sort/gff3sort.pl line 67, <$_[...]> line 443.\n",
      "Use of uninitialized value $pos in hash element at /home/anjuni/myapps/gff3sort/gff3sort.pl line 67, <$_[...]> line 444.\n",
      "Use of uninitialized value $pos in hash element at /home/anjuni/myapps/gff3sort/gff3sort.pl line 67, <$_[...]> line 445.\n",
      "Use of uninitialized value $pos in hash element at /home/anjuni/myapps/gff3sort/gff3sort.pl line 67, <$_[...]> line 446.\n",
      "Use of uninitialized value $pos in hash element at /home/anjuni/myapps/gff3sort/gff3sort.pl line 67, <$_[...]> line 447.\n",
      "Use of uninitialized value $pos in hash element at /home/anjuni/myapps/gff3sort/gff3sort.pl line 67, <$_[...]> line 448.\n",
      "Use of uninitialized value $pos in hash element at /home/anjuni/myapps/gff3sort/gff3sort.pl line 67, <$_[...]> line 449.\n",
      "Use of uninitialized value $pos in hash element at /home/anjuni/myapps/gff3sort/gff3sort.pl line 67, <$_[...]> line 450.\n",
      "Use of uninitialized value $pos in hash element at /home/anjuni/myapps/gff3sort/gff3sort.pl line 67, <$_[...]> line 451.\n",
      "Use of uninitialized value $pos in hash element at /home/anjuni/myapps/gff3sort/gff3sort.pl line 67, <$_[...]> line 452.\n",
      "Use of uninitialized value $pos in hash element at /home/anjuni/myapps/gff3sort/gff3sort.pl line 67, <$_[...]> line 453.\n",
      "Use of uninitialized value $pos in hash element at /home/anjuni/myapps/gff3sort/gff3sort.pl line 67, <$_[...]> line 454.\n",
      "Use of uninitialized value $pos in hash element at /home/anjuni/myapps/gff3sort/gff3sort.pl line 67, <$_[...]> line 455.\n",
      "Use of uninitialized value $pos in hash element at /home/anjuni/myapps/gff3sort/gff3sort.pl line 67, <$_[...]> line 456.\n",
      "Use of uninitialized value $pos in hash element at /home/anjuni/myapps/gff3sort/gff3sort.pl line 67, <$_[...]> line 457.\n",
      "Use of uninitialized value $pos in hash element at /home/anjuni/myapps/gff3sort/gff3sort.pl line 67, <$_[...]> line 458.\n",
      "Use of uninitialized value $pos in hash element at /home/anjuni/myapps/gff3sort/gff3sort.pl line 67, <$_[...]> line 459.\n",
      "Use of uninitialized value $pos in hash element at /home/anjuni/myapps/gff3sort/gff3sort.pl line 67, <$_[...]> line 460.\n",
      "Use of uninitialized value $pos in hash element at /home/anjuni/myapps/gff3sort/gff3sort.pl line 67, <$_[...]> line 461.\n",
      "Use of uninitialized value $pos in hash element at /home/anjuni/myapps/gff3sort/gff3sort.pl line 67, <$_[...]> line 462.\n",
      "Use of uninitialized value $pos in hash element at /home/anjuni/myapps/gff3sort/gff3sort.pl line 67, <$_[...]> line 463.\n",
      "Use of uninitialized value $pos in hash element at /home/anjuni/myapps/gff3sort/gff3sort.pl line 67, <$_[...]> line 464.\n",
      "Use of uninitialized value $pos in hash element at /home/anjuni/myapps/gff3sort/gff3sort.pl line 67, <$_[...]> line 465.\n",
      "Use of uninitialized value $pos in hash element at /home/anjuni/myapps/gff3sort/gff3sort.pl line 67, <$_[...]> line 466.\n",
      "Use of uninitialized value $pos in hash element at /home/anjuni/myapps/gff3sort/gff3sort.pl line 67, <$_[...]> line 467.\n",
      "Use of uninitialized value $pos in hash element at /home/anjuni/myapps/gff3sort/gff3sort.pl line 67, <$_[...]> line 468.\n",
      "Use of uninitialized value $pos in hash element at /home/anjuni/myapps/gff3sort/gff3sort.pl line 67, <$_[...]> line 469.\n",
      "Use of uninitialized value $pos in hash element at /home/anjuni/myapps/gff3sort/gff3sort.pl line 67, <$_[...]> line 470.\n",
      "Use of uninitialized value $pos in hash element at /home/anjuni/myapps/gff3sort/gff3sort.pl line 67, <$_[...]> line 471.\n",
      "Use of uninitialized value $pos in hash element at /home/anjuni/myapps/gff3sort/gff3sort.pl line 67, <$_[...]> line 472.\n",
      "Use of uninitialized value $pos in hash element at /home/anjuni/myapps/gff3sort/gff3sort.pl line 67, <$_[...]> line 473.\n",
      "Use of uninitialized value $pos in hash element at /home/anjuni/myapps/gff3sort/gff3sort.pl line 67, <$_[...]> line 474.\n",
      "Use of uninitialized value $pos in hash element at /home/anjuni/myapps/gff3sort/gff3sort.pl line 67, <$_[...]> line 475.\n",
      "Use of uninitialized value $pos in hash element at /home/anjuni/myapps/gff3sort/gff3sort.pl line 67, <$_[...]> line 476.\n",
      "Use of uninitialized value $pos in hash element at /home/anjuni/myapps/gff3sort/gff3sort.pl line 67, <$_[...]> line 477.\n",
      "Use of uninitialized value $pos in hash element at /home/anjuni/myapps/gff3sort/gff3sort.pl line 67, <$_[...]> line 478.\n",
      "Use of uninitialized value $pos in hash element at /home/anjuni/myapps/gff3sort/gff3sort.pl line 67, <$_[...]> line 479.\n",
      "Use of uninitialized value $pos in hash element at /home/anjuni/myapps/gff3sort/gff3sort.pl line 67, <$_[...]> line 480.\n",
      "Use of uninitialized value $pos in hash element at /home/anjuni/myapps/gff3sort/gff3sort.pl line 67, <$_[...]> line 481.\n",
      "Use of uninitialized value $pos in hash element at /home/anjuni/myapps/gff3sort/gff3sort.pl line 67, <$_[...]> line 482.\n",
      "Use of uninitialized value $pos in hash element at /home/anjuni/myapps/gff3sort/gff3sort.pl line 67, <$_[...]> line 483.\n",
      "Use of uninitialized value $pos in hash element at /home/anjuni/myapps/gff3sort/gff3sort.pl line 67, <$_[...]> line 484.\n",
      "Use of uninitialized value $pos in hash element at /home/anjuni/myapps/gff3sort/gff3sort.pl line 67, <$_[...]> line 485.\n",
      "Use of uninitialized value $pos in hash element at /home/anjuni/myapps/gff3sort/gff3sort.pl line 67, <$_[...]> line 486.\n",
      "Use of uninitialized value $pos in hash element at /home/anjuni/myapps/gff3sort/gff3sort.pl line 67, <$_[...]> line 487.\n",
      "Use of uninitialized value $pos in hash element at /home/anjuni/myapps/gff3sort/gff3sort.pl line 67, <$_[...]> line 488.\n",
      "Use of uninitialized value $pos in hash element at /home/anjuni/myapps/gff3sort/gff3sort.pl line 67, <$_[...]> line 489.\n",
      "Use of uninitialized value $pos in hash element at /home/anjuni/myapps/gff3sort/gff3sort.pl line 67, <$_[...]> line 490.\n",
      "Use of uninitialized value $pos in hash element at /home/anjuni/myapps/gff3sort/gff3sort.pl line 67, <$_[...]> line 491.\n",
      "Use of uninitialized value $pos in hash element at /home/anjuni/myapps/gff3sort/gff3sort.pl line 67, <$_[...]> line 492.\n",
      "Use of uninitialized value $pos in hash element at /home/anjuni/myapps/gff3sort/gff3sort.pl line 67, <$_[...]> line 493.\n",
      "Use of uninitialized value $pos in hash element at /home/anjuni/myapps/gff3sort/gff3sort.pl line 67, <$_[...]> line 494.\n",
      "Use of uninitialized value $pos in hash element at /home/anjuni/myapps/gff3sort/gff3sort.pl line 67, <$_[...]> line 495.\n",
      "Use of uninitialized value $pos in hash element at /home/anjuni/myapps/gff3sort/gff3sort.pl line 67, <$_[...]> line 496.\n",
      "Use of uninitialized value $pos in hash element at /home/anjuni/myapps/gff3sort/gff3sort.pl line 67, <$_[...]> line 497.\n",
      "Use of uninitialized value $pos in hash element at /home/anjuni/myapps/gff3sort/gff3sort.pl line 67, <$_[...]> line 498.\n",
      "Use of uninitialized value $pos in hash element at /home/anjuni/myapps/gff3sort/gff3sort.pl line 67, <$_[...]> line 499.\n",
      "Use of uninitialized value $pos in hash element at /home/anjuni/myapps/gff3sort/gff3sort.pl line 67, <$_[...]> line 500.\n",
      "Use of uninitialized value $pos in hash element at /home/anjuni/myapps/gff3sort/gff3sort.pl line 67, <$_[...]> line 501.\n",
      "Use of uninitialized value $pos in hash element at /home/anjuni/myapps/gff3sort/gff3sort.pl line 67, <$_[...]> line 502.\n",
      "Use of uninitialized value $pos in hash element at /home/anjuni/myapps/gff3sort/gff3sort.pl line 67, <$_[...]> line 503.\n",
      "Use of uninitialized value $pos in hash element at /home/anjuni/myapps/gff3sort/gff3sort.pl line 67, <$_[...]> line 504.\n",
      "Use of uninitialized value $pos in hash element at /home/anjuni/myapps/gff3sort/gff3sort.pl line 67, <$_[...]> line 505.\n",
      "Use of uninitialized value $pos in hash element at /home/anjuni/myapps/gff3sort/gff3sort.pl line 67, <$_[...]> line 506.\n",
      "Use of uninitialized value $pos in hash element at /home/anjuni/myapps/gff3sort/gff3sort.pl line 67, <$_[...]> line 507.\n",
      "Use of uninitialized value $pos in hash element at /home/anjuni/myapps/gff3sort/gff3sort.pl line 67, <$_[...]> line 508.\n",
      "Use of uninitialized value $pos in hash element at /home/anjuni/myapps/gff3sort/gff3sort.pl line 67, <$_[...]> line 509.\n",
      "Use of uninitialized value $pos in hash element at /home/anjuni/myapps/gff3sort/gff3sort.pl line 67, <$_[...]> line 510.\n",
      "Use of uninitialized value $pos in hash element at /home/anjuni/myapps/gff3sort/gff3sort.pl line 67, <$_[...]> line 511.\n",
      "Use of uninitialized value $pos in hash element at /home/anjuni/myapps/gff3sort/gff3sort.pl line 67, <$_[...]> line 512.\n",
      "Use of uninitialized value $pos in hash element at /home/anjuni/myapps/gff3sort/gff3sort.pl line 67, <$_[...]> line 513.\n",
      "Use of uninitialized value $pos in hash element at /home/anjuni/myapps/gff3sort/gff3sort.pl line 67, <$_[...]> line 514.\n",
      "Use of uninitialized value $pos in hash element at /home/anjuni/myapps/gff3sort/gff3sort.pl line 67, <$_[...]> line 515.\n",
      "Use of uninitialized value $pos in hash element at /home/anjuni/myapps/gff3sort/gff3sort.pl line 67, <$_[...]> line 516.\n",
      "Use of uninitialized value $pos in hash element at /home/anjuni/myapps/gff3sort/gff3sort.pl line 67, <$_[...]> line 517.\n",
      "Use of uninitialized value $pos in hash element at /home/anjuni/myapps/gff3sort/gff3sort.pl line 67, <$_[...]> line 518.\n",
      "Use of uninitialized value $pos in hash element at /home/anjuni/myapps/gff3sort/gff3sort.pl line 67, <$_[...]> line 519.\n",
      "Use of uninitialized value $pos in hash element at /home/anjuni/myapps/gff3sort/gff3sort.pl line 67, <$_[...]> line 520.\n",
      "Use of uninitialized value $pos in hash element at /home/anjuni/myapps/gff3sort/gff3sort.pl line 67, <$_[...]> line 521.\n",
      "Use of uninitialized value $pos in hash element at /home/anjuni/myapps/gff3sort/gff3sort.pl line 67, <$_[...]> line 522.\n",
      "Use of uninitialized value $pos in hash element at /home/anjuni/myapps/gff3sort/gff3sort.pl line 67, <$_[...]> line 523.\n",
      "Use of uninitialized value $pos in hash element at /home/anjuni/myapps/gff3sort/gff3sort.pl line 67, <$_[...]> line 524.\n",
      "Use of uninitialized value $pos in hash element at /home/anjuni/myapps/gff3sort/gff3sort.pl line 67, <$_[...]> line 525.\n",
      "Use of uninitialized value $pos in hash element at /home/anjuni/myapps/gff3sort/gff3sort.pl line 67, <$_[...]> line 526.\n",
      "Use of uninitialized value $pos in hash element at /home/anjuni/myapps/gff3sort/gff3sort.pl line 67, <$_[...]> line 527.\n",
      "Use of uninitialized value $pos in hash element at /home/anjuni/myapps/gff3sort/gff3sort.pl line 67, <$_[...]> line 528.\n",
      "Use of uninitialized value $pos in hash element at /home/anjuni/myapps/gff3sort/gff3sort.pl line 67, <$_[...]> line 529.\n",
      "Use of uninitialized value $pos in hash element at /home/anjuni/myapps/gff3sort/gff3sort.pl line 67, <$_[...]> line 530.\n",
      "Use of uninitialized value $pos in hash element at /home/anjuni/myapps/gff3sort/gff3sort.pl line 67, <$_[...]> line 531.\n",
      "Use of uninitialized value $pos in hash element at /home/anjuni/myapps/gff3sort/gff3sort.pl line 67, <$_[...]> line 532.\n",
      "Use of uninitialized value $pos in hash element at /home/anjuni/myapps/gff3sort/gff3sort.pl line 67, <$_[...]> line 533.\n",
      "Use of uninitialized value $pos in hash element at /home/anjuni/myapps/gff3sort/gff3sort.pl line 67, <$_[...]> line 534.\n",
      "Use of uninitialized value $pos in hash element at /home/anjuni/myapps/gff3sort/gff3sort.pl line 67, <$_[...]> line 535.\n",
      "Use of uninitialized value $pos in hash element at /home/anjuni/myapps/gff3sort/gff3sort.pl line 67, <$_[...]> line 536.\n",
      "Use of uninitialized value $pos in hash element at /home/anjuni/myapps/gff3sort/gff3sort.pl line 67, <$_[...]> line 537.\n",
      "Use of uninitialized value $pos in hash element at /home/anjuni/myapps/gff3sort/gff3sort.pl line 67, <$_[...]> line 538.\n",
      "Use of uninitialized value $pos in hash element at /home/anjuni/myapps/gff3sort/gff3sort.pl line 67, <$_[...]> line 539.\n",
      "Use of uninitialized value $pos in hash element at /home/anjuni/myapps/gff3sort/gff3sort.pl line 67, <$_[...]> line 540.\n",
      "Use of uninitialized value $pos in hash element at /home/anjuni/myapps/gff3sort/gff3sort.pl line 67, <$_[...]> line 541.\n",
      "Use of uninitialized value $pos in hash element at /home/anjuni/myapps/gff3sort/gff3sort.pl line 67, <$_[...]> line 542.\n",
      "Use of uninitialized value $pos in hash element at /home/anjuni/myapps/gff3sort/gff3sort.pl line 67, <$_[...]> line 543.\n",
      "Use of uninitialized value $pos in hash element at /home/anjuni/myapps/gff3sort/gff3sort.pl line 67, <$_[...]> line 544.\n",
      "Use of uninitialized value $pos in hash element at /home/anjuni/myapps/gff3sort/gff3sort.pl line 67, <$_[...]> line 545.\n",
      "Use of uninitialized value $pos in hash element at /home/anjuni/myapps/gff3sort/gff3sort.pl line 67, <$_[...]> line 546.\n",
      "Use of uninitialized value $pos in hash element at /home/anjuni/myapps/gff3sort/gff3sort.pl line 67, <$_[...]> line 547.\n",
      "Use of uninitialized value $pos in hash element at /home/anjuni/myapps/gff3sort/gff3sort.pl line 67, <$_[...]> line 548.\n",
      "Use of uninitialized value $pos in hash element at /home/anjuni/myapps/gff3sort/gff3sort.pl line 67, <$_[...]> line 549.\n",
      "Use of uninitialized value $pos in hash element at /home/anjuni/myapps/gff3sort/gff3sort.pl line 67, <$_[...]> line 550.\n",
      "Use of uninitialized value $pos in hash element at /home/anjuni/myapps/gff3sort/gff3sort.pl line 67, <$_[...]> line 551.\n",
      "Use of uninitialized value $pos in hash element at /home/anjuni/myapps/gff3sort/gff3sort.pl line 67, <$_[...]> line 552.\n",
      "Use of uninitialized value $pos in hash element at /home/anjuni/myapps/gff3sort/gff3sort.pl line 67, <$_[...]> line 553.\n",
      "Use of uninitialized value $pos in hash element at /home/anjuni/myapps/gff3sort/gff3sort.pl line 67, <$_[...]> line 554.\n",
      "Use of uninitialized value $pos in hash element at /home/anjuni/myapps/gff3sort/gff3sort.pl line 67, <$_[...]> line 555.\n",
      "Use of uninitialized value $pos in hash element at /home/anjuni/myapps/gff3sort/gff3sort.pl line 67, <$_[...]> line 556.\n",
      "Use of uninitialized value $pos in hash element at /home/anjuni/myapps/gff3sort/gff3sort.pl line 67, <$_[...]> line 557.\n",
      "Use of uninitialized value $pos in hash element at /home/anjuni/myapps/gff3sort/gff3sort.pl line 67, <$_[...]> line 558.\n",
      "Use of uninitialized value $pos in hash element at /home/anjuni/myapps/gff3sort/gff3sort.pl line 67, <$_[...]> line 559.\n",
      "Use of uninitialized value $pos in hash element at /home/anjuni/myapps/gff3sort/gff3sort.pl line 67, <$_[...]> line 560.\n",
      "Use of uninitialized value $pos in hash element at /home/anjuni/myapps/gff3sort/gff3sort.pl line 67, <$_[...]> line 561.\n",
      "Use of uninitialized value $pos in hash element at /home/anjuni/myapps/gff3sort/gff3sort.pl line 67, <$_[...]> line 562.\n",
      "Use of uninitialized value $pos in hash element at /home/anjuni/myapps/gff3sort/gff3sort.pl line 67, <$_[...]> line 563.\n",
      "Use of uninitialized value $pos in hash element at /home/anjuni/myapps/gff3sort/gff3sort.pl line 67, <$_[...]> line 564.\n",
      "Use of uninitialized value $pos in hash element at /home/anjuni/myapps/gff3sort/gff3sort.pl line 67, <$_[...]> line 565.\n",
      "Use of uninitialized value $pos in hash element at /home/anjuni/myapps/gff3sort/gff3sort.pl line 67, <$_[...]> line 566.\n",
      "Use of uninitialized value $pos in hash element at /home/anjuni/myapps/gff3sort/gff3sort.pl line 67, <$_[...]> line 567.\n",
      "Use of uninitialized value $pos in hash element at /home/anjuni/myapps/gff3sort/gff3sort.pl line 67, <$_[...]> line 568.\n",
      "Use of uninitialized value $pos in hash element at /home/anjuni/myapps/gff3sort/gff3sort.pl line 67, <$_[...]> line 569.\n",
      "Use of uninitialized value $pos in hash element at /home/anjuni/myapps/gff3sort/gff3sort.pl line 67, <$_[...]> line 570.\n",
      "Use of uninitialized value $pos in hash element at /home/anjuni/myapps/gff3sort/gff3sort.pl line 67, <$_[...]> line 571.\n",
      "Use of uninitialized value $pos in hash element at /home/anjuni/myapps/gff3sort/gff3sort.pl line 67, <$_[...]> line 572.\n",
      "Use of uninitialized value $pos in hash element at /home/anjuni/myapps/gff3sort/gff3sort.pl line 67, <$_[...]> line 573.\n",
      "Use of uninitialized value $pos in hash element at /home/anjuni/myapps/gff3sort/gff3sort.pl line 67, <$_[...]> line 574.\n",
      "Use of uninitialized value $pos in hash element at /home/anjuni/myapps/gff3sort/gff3sort.pl line 67, <$_[...]> line 575.\n",
      "Use of uninitialized value $pos in hash element at /home/anjuni/myapps/gff3sort/gff3sort.pl line 67, <$_[...]> line 576.\n",
      "Use of uninitialized value $pos in hash element at /home/anjuni/myapps/gff3sort/gff3sort.pl line 67, <$_[...]> line 577.\n",
      "Use of uninitialized value $pos in hash element at /home/anjuni/myapps/gff3sort/gff3sort.pl line 67, <$_[...]> line 578.\n",
      "Use of uninitialized value $pos in hash element at /home/anjuni/myapps/gff3sort/gff3sort.pl line 67, <$_[...]> line 579.\n",
      "Use of uninitialized value $pos in hash element at /home/anjuni/myapps/gff3sort/gff3sort.pl line 67, <$_[...]> line 580.\n",
      "Use of uninitialized value $pos in hash element at /home/anjuni/myapps/gff3sort/gff3sort.pl line 67, <$_[...]> line 581.\n",
      "Use of uninitialized value $pos in hash element at /home/anjuni/myapps/gff3sort/gff3sort.pl line 67, <$_[...]> line 582.\n",
      "Use of uninitialized value $pos in hash element at /home/anjuni/myapps/gff3sort/gff3sort.pl line 67, <$_[...]> line 583.\n",
      "Use of uninitialized value $pos in hash element at /home/anjuni/myapps/gff3sort/gff3sort.pl line 67, <$_[...]> line 584.\n",
      "Use of uninitialized value $pos in hash element at /home/anjuni/myapps/gff3sort/gff3sort.pl line 67, <$_[...]> line 585.\n",
      "Use of uninitialized value $pos in hash element at /home/anjuni/myapps/gff3sort/gff3sort.pl line 67, <$_[...]> line 586.\n",
      "Use of uninitialized value $pos in hash element at /home/anjuni/myapps/gff3sort/gff3sort.pl line 67, <$_[...]> line 587.\n",
      "Use of uninitialized value $pos in hash element at /home/anjuni/myapps/gff3sort/gff3sort.pl line 67, <$_[...]> line 588.\n",
      "Use of uninitialized value $pos in hash element at /home/anjuni/myapps/gff3sort/gff3sort.pl line 67, <$_[...]> line 589.\n",
      "Use of uninitialized value $pos in hash element at /home/anjuni/myapps/gff3sort/gff3sort.pl line 67, <$_[...]> line 590.\n",
      "Use of uninitialized value $pos in hash element at /home/anjuni/myapps/gff3sort/gff3sort.pl line 67, <$_[...]> line 591.\n",
      "Use of uninitialized value $pos in hash element at /home/anjuni/myapps/gff3sort/gff3sort.pl line 67, <$_[...]> line 592.\n",
      "Use of uninitialized value $pos in hash element at /home/anjuni/myapps/gff3sort/gff3sort.pl line 67, <$_[...]> line 593.\n",
      "Use of uninitialized value $pos in hash element at /home/anjuni/myapps/gff3sort/gff3sort.pl line 67, <$_[...]> line 594.\n",
      "Use of uninitialized value $pos in hash element at /home/anjuni/myapps/gff3sort/gff3sort.pl line 67, <$_[...]> line 595.\n",
      "Use of uninitialized value $pos in hash element at /home/anjuni/myapps/gff3sort/gff3sort.pl line 67, <$_[...]> line 596.\n",
      "Use of uninitialized value $pos in hash element at /home/anjuni/myapps/gff3sort/gff3sort.pl line 67, <$_[...]> line 597.\n",
      "Use of uninitialized value $pos in hash element at /home/anjuni/myapps/gff3sort/gff3sort.pl line 67, <$_[...]> line 598.\n",
      "Use of uninitialized value $pos in hash element at /home/anjuni/myapps/gff3sort/gff3sort.pl line 67, <$_[...]> line 599.\n",
      "Use of uninitialized value $pos in hash element at /home/anjuni/myapps/gff3sort/gff3sort.pl line 67, <$_[...]> line 600.\n",
      "Use of uninitialized value $pos in hash element at /home/anjuni/myapps/gff3sort/gff3sort.pl line 67, <$_[...]> line 601.\n",
      "Use of uninitialized value $pos in hash element at /home/anjuni/myapps/gff3sort/gff3sort.pl line 67, <$_[...]> line 602.\n",
      "Use of uninitialized value $pos in hash element at /home/anjuni/myapps/gff3sort/gff3sort.pl line 67, <$_[...]> line 603.\n",
      "Use of uninitialized value $pos in hash element at /home/anjuni/myapps/gff3sort/gff3sort.pl line 67, <$_[...]> line 604.\n",
      "Use of uninitialized value $pos in hash element at /home/anjuni/myapps/gff3sort/gff3sort.pl line 67, <$_[...]> line 605.\n",
      "Use of uninitialized value $pos in hash element at /home/anjuni/myapps/gff3sort/gff3sort.pl line 67, <$_[...]> line 606.\n",
      "Use of uninitialized value $pos in hash element at /home/anjuni/myapps/gff3sort/gff3sort.pl line 67, <$_[...]> line 607.\n",
      "Use of uninitialized value $pos in hash element at /home/anjuni/myapps/gff3sort/gff3sort.pl line 67, <$_[...]> line 608.\n",
      "Use of uninitialized value $pos in hash element at /home/anjuni/myapps/gff3sort/gff3sort.pl line 67, <$_[...]> line 609.\n",
      "Use of uninitialized value $pos in hash element at /home/anjuni/myapps/gff3sort/gff3sort.pl line 67, <$_[...]> line 610.\n",
      "Use of uninitialized value $pos in hash element at /home/anjuni/myapps/gff3sort/gff3sort.pl line 67, <$_[...]> line 611.\n",
      "Use of uninitialized value $pos in hash element at /home/anjuni/myapps/gff3sort/gff3sort.pl line 67, <$_[...]> line 612.\n",
      "Use of uninitialized value $pos in hash element at /home/anjuni/myapps/gff3sort/gff3sort.pl line 67, <$_[...]> line 613.\n",
      "Use of uninitialized value $pos in hash element at /home/anjuni/myapps/gff3sort/gff3sort.pl line 67, <$_[...]> line 614.\n",
      "Use of uninitialized value $pos in hash element at /home/anjuni/myapps/gff3sort/gff3sort.pl line 67, <$_[...]> line 615.\n",
      "Use of uninitialized value $pos in hash element at /home/anjuni/myapps/gff3sort/gff3sort.pl line 67, <$_[...]> line 616.\n",
      "Use of uninitialized value $pos in hash element at /home/anjuni/myapps/gff3sort/gff3sort.pl line 67, <$_[...]> line 617.\n",
      "Use of uninitialized value $pos in hash element at /home/anjuni/myapps/gff3sort/gff3sort.pl line 67, <$_[...]> line 618.\n",
      "Use of uninitialized value $pos in hash element at /home/anjuni/myapps/gff3sort/gff3sort.pl line 67, <$_[...]> line 619.\n",
      "Use of uninitialized value $pos in hash element at /home/anjuni/myapps/gff3sort/gff3sort.pl line 67, <$_[...]> line 620.\n",
      "Use of uninitialized value $pos in hash element at /home/anjuni/myapps/gff3sort/gff3sort.pl line 67, <$_[...]> line 621.\n",
      "Use of uninitialized value $pos in hash element at /home/anjuni/myapps/gff3sort/gff3sort.pl line 67, <$_[...]> line 622.\n",
      "Use of uninitialized value $pos in hash element at /home/anjuni/myapps/gff3sort/gff3sort.pl line 67, <$_[...]> line 623.\n",
      "Use of uninitialized value $pos in hash element at /home/anjuni/myapps/gff3sort/gff3sort.pl line 67, <$_[...]> line 624.\n",
      "Use of uninitialized value $pos in hash element at /home/anjuni/myapps/gff3sort/gff3sort.pl line 67, <$_[...]> line 625.\n",
      "Use of uninitialized value $pos in hash element at /home/anjuni/myapps/gff3sort/gff3sort.pl line 67, <$_[...]> line 626.\n",
      "Use of uninitialized value $pos in hash element at /home/anjuni/myapps/gff3sort/gff3sort.pl line 67, <$_[...]> line 627.\n",
      "Use of uninitialized value $pos in hash element at /home/anjuni/myapps/gff3sort/gff3sort.pl line 67, <$_[...]> line 628.\n",
      "Use of uninitialized value $pos in hash element at /home/anjuni/myapps/gff3sort/gff3sort.pl line 67, <$_[...]> line 629.\n",
      "Use of uninitialized value $pos in hash element at /home/anjuni/myapps/gff3sort/gff3sort.pl line 67, <$_[...]> line 630.\n",
      "Use of uninitialized value $pos in hash element at /home/anjuni/myapps/gff3sort/gff3sort.pl line 67, <$_[...]> line 631.\n",
      "Argument \"\" isn't numeric in sort at /home/anjuni/myapps/gff3sort/gff3sort.pl line 104.\n",
      "Argument \"\" isn't numeric in sort at /home/anjuni/myapps/gff3sort/gff3sort.pl line 104.\n",
      "Argument \"\" isn't numeric in sort at /home/anjuni/myapps/gff3sort/gff3sort.pl line 104.\n",
      "Argument \"\" isn't numeric in sort at /home/anjuni/myapps/gff3sort/gff3sort.pl line 104.\n",
      "Argument \"\" isn't numeric in sort at /home/anjuni/myapps/gff3sort/gff3sort.pl line 104.\n",
      "Argument \"\" isn't numeric in sort at /home/anjuni/myapps/gff3sort/gff3sort.pl line 104.\n",
      "Argument \"\" isn't numeric in sort at /home/anjuni/myapps/gff3sort/gff3sort.pl line 104.\n",
      "Argument \"\" isn't numeric in sort at /home/anjuni/myapps/gff3sort/gff3sort.pl line 104.\n",
      "Argument \"\" isn't numeric in sort at /home/anjuni/myapps/gff3sort/gff3sort.pl line 104.\n",
      "Argument \"\" isn't numeric in sort at /home/anjuni/myapps/gff3sort/gff3sort.pl line 104.\n",
      "Argument \"\" isn't numeric in sort at /home/anjuni/myapps/gff3sort/gff3sort.pl line 104.\n",
      "Argument \"\" isn't numeric in sort at /home/anjuni/myapps/gff3sort/gff3sort.pl line 104.\n",
      "Argument \"\" isn't numeric in sort at /home/anjuni/myapps/gff3sort/gff3sort.pl line 104.\n",
      "Argument \"\" isn't numeric in sort at /home/anjuni/myapps/gff3sort/gff3sort.pl line 104.\n",
      "Argument \"\" isn't numeric in sort at /home/anjuni/myapps/gff3sort/gff3sort.pl line 104.\n",
      "Argument \"\" isn't numeric in sort at /home/anjuni/myapps/gff3sort/gff3sort.pl line 104.\n",
      "Argument \"\" isn't numeric in sort at /home/anjuni/myapps/gff3sort/gff3sort.pl line 104.\n",
      "Argument \"\" isn't numeric in sort at /home/anjuni/myapps/gff3sort/gff3sort.pl line 104.\n",
      "Argument \"\" isn't numeric in sort at /home/anjuni/myapps/gff3sort/gff3sort.pl line 104.\n",
      "Argument \"\" isn't numeric in sort at /home/anjuni/myapps/gff3sort/gff3sort.pl line 104.\n",
      "Argument \"\" isn't numeric in sort at /home/anjuni/myapps/gff3sort/gff3sort.pl line 104.\n",
      "Argument \"\" isn't numeric in sort at /home/anjuni/myapps/gff3sort/gff3sort.pl line 104.\n",
      "Argument \"\" isn't numeric in sort at /home/anjuni/myapps/gff3sort/gff3sort.pl line 104.\n",
      "Argument \"\" isn't numeric in sort at /home/anjuni/myapps/gff3sort/gff3sort.pl line 104.\n",
      "Argument \"\" isn't numeric in sort at /home/anjuni/myapps/gff3sort/gff3sort.pl line 104.\n",
      "Argument \"\" isn't numeric in sort at /home/anjuni/myapps/gff3sort/gff3sort.pl line 104.\n",
      "Argument \"\" isn't numeric in sort at /home/anjuni/myapps/gff3sort/gff3sort.pl line 104.\n",
      "Argument \"\" isn't numeric in sort at /home/anjuni/myapps/gff3sort/gff3sort.pl line 104.\n",
      "Argument \"\" isn't numeric in sort at /home/anjuni/myapps/gff3sort/gff3sort.pl line 104.\n",
      "Argument \"\" isn't numeric in sort at /home/anjuni/myapps/gff3sort/gff3sort.pl line 104.\n",
      "Argument \"\" isn't numeric in sort at /home/anjuni/myapps/gff3sort/gff3sort.pl line 104.\n",
      "Argument \"\" isn't numeric in sort at /home/anjuni/myapps/gff3sort/gff3sort.pl line 104.\n",
      "Argument \"\" isn't numeric in sort at /home/anjuni/myapps/gff3sort/gff3sort.pl line 104.\n",
      "Argument \"\" isn't numeric in sort at /home/anjuni/myapps/gff3sort/gff3sort.pl line 104.\n",
      "Argument \"\" isn't numeric in sort at /home/anjuni/myapps/gff3sort/gff3sort.pl line 104.\n",
      "Argument \"\" isn't numeric in sort at /home/anjuni/myapps/gff3sort/gff3sort.pl line 104.\n",
      "Argument \"\" isn't numeric in sort at /home/anjuni/myapps/gff3sort/gff3sort.pl line 104.\n",
      "Argument \"\" isn't numeric in sort at /home/anjuni/myapps/gff3sort/gff3sort.pl line 104.\n",
      "Argument \"\" isn't numeric in sort at /home/anjuni/myapps/gff3sort/gff3sort.pl line 104.\n",
      "Argument \"\" isn't numeric in sort at /home/anjuni/myapps/gff3sort/gff3sort.pl line 104.\n",
      "Argument \"\" isn't numeric in sort at /home/anjuni/myapps/gff3sort/gff3sort.pl line 104.\n",
      "Argument \"\" isn't numeric in sort at /home/anjuni/myapps/gff3sort/gff3sort.pl line 104.\n",
      "Argument \"\" isn't numeric in sort at /home/anjuni/myapps/gff3sort/gff3sort.pl line 104.\n",
      "Argument \"\" isn't numeric in sort at /home/anjuni/myapps/gff3sort/gff3sort.pl line 104.\n",
      "Argument \"\" isn't numeric in sort at /home/anjuni/myapps/gff3sort/gff3sort.pl line 104.\n",
      "Argument \"\" isn't numeric in sort at /home/anjuni/myapps/gff3sort/gff3sort.pl line 104.\n",
      "Argument \"\" isn't numeric in sort at /home/anjuni/myapps/gff3sort/gff3sort.pl line 104.\n",
      "Argument \"\" isn't numeric in sort at /home/anjuni/myapps/gff3sort/gff3sort.pl line 104.\n",
      "Argument \"\" isn't numeric in sort at /home/anjuni/myapps/gff3sort/gff3sort.pl line 104.\n",
      "Argument \"\" isn't numeric in sort at /home/anjuni/myapps/gff3sort/gff3sort.pl line 104.\n",
      "Argument \"\" isn't numeric in sort at /home/anjuni/myapps/gff3sort/gff3sort.pl line 104.\n",
      "Argument \"\" isn't numeric in sort at /home/anjuni/myapps/gff3sort/gff3sort.pl line 104.\n",
      "Argument \"\" isn't numeric in sort at /home/anjuni/myapps/gff3sort/gff3sort.pl line 104.\n",
      "Argument \"\" isn't numeric in sort at /home/anjuni/myapps/gff3sort/gff3sort.pl line 104.\n",
      "Argument \"\" isn't numeric in sort at /home/anjuni/myapps/gff3sort/gff3sort.pl line 104.\n",
      "Argument \"\" isn't numeric in sort at /home/anjuni/myapps/gff3sort/gff3sort.pl line 104.\n",
      "Argument \"\" isn't numeric in sort at /home/anjuni/myapps/gff3sort/gff3sort.pl line 104.\n",
      "Argument \"\" isn't numeric in sort at /home/anjuni/myapps/gff3sort/gff3sort.pl line 104.\n",
      "Argument \"\" isn't numeric in sort at /home/anjuni/myapps/gff3sort/gff3sort.pl line 104.\n",
      "Argument \"\" isn't numeric in sort at /home/anjuni/myapps/gff3sort/gff3sort.pl line 104.\n",
      "Argument \"\" isn't numeric in sort at /home/anjuni/myapps/gff3sort/gff3sort.pl line 104.\n",
      "Argument \"\" isn't numeric in sort at /home/anjuni/myapps/gff3sort/gff3sort.pl line 104.\n",
      "Argument \"\" isn't numeric in sort at /home/anjuni/myapps/gff3sort/gff3sort.pl line 104.\n",
      "Argument \"\" isn't numeric in sort at /home/anjuni/myapps/gff3sort/gff3sort.pl line 104.\n",
      "Argument \"\" isn't numeric in sort at /home/anjuni/myapps/gff3sort/gff3sort.pl line 104.\n",
      "Argument \"\" isn't numeric in sort at /home/anjuni/myapps/gff3sort/gff3sort.pl line 104.\n",
      "Argument \"\" isn't numeric in sort at /home/anjuni/myapps/gff3sort/gff3sort.pl line 104.\n",
      "Argument \"\" isn't numeric in sort at /home/anjuni/myapps/gff3sort/gff3sort.pl line 104.\n",
      "Argument \"\" isn't numeric in sort at /home/anjuni/myapps/gff3sort/gff3sort.pl line 104.\n",
      "Argument \"\" isn't numeric in sort at /home/anjuni/myapps/gff3sort/gff3sort.pl line 104.\n",
      "Argument \"\" isn't numeric in sort at /home/anjuni/myapps/gff3sort/gff3sort.pl line 104.\n",
      "Argument \"\" isn't numeric in sort at /home/anjuni/myapps/gff3sort/gff3sort.pl line 104.\n",
      "Argument \"\" isn't numeric in sort at /home/anjuni/myapps/gff3sort/gff3sort.pl line 104.\n",
      "Argument \"\" isn't numeric in sort at /home/anjuni/myapps/gff3sort/gff3sort.pl line 104.\n",
      "Argument \"\" isn't numeric in sort at /home/anjuni/myapps/gff3sort/gff3sort.pl line 104.\n",
      "Argument \"\" isn't numeric in sort at /home/anjuni/myapps/gff3sort/gff3sort.pl line 104.\n",
      "Argument \"\" isn't numeric in sort at /home/anjuni/myapps/gff3sort/gff3sort.pl line 104.\n",
      "Argument \"\" isn't numeric in sort at /home/anjuni/myapps/gff3sort/gff3sort.pl line 104.\n",
      "Argument \"\" isn't numeric in sort at /home/anjuni/myapps/gff3sort/gff3sort.pl line 104.\n",
      "Argument \"\" isn't numeric in sort at /home/anjuni/myapps/gff3sort/gff3sort.pl line 104.\n",
      "Argument \"\" isn't numeric in sort at /home/anjuni/myapps/gff3sort/gff3sort.pl line 104.\n",
      "Argument \"\" isn't numeric in sort at /home/anjuni/myapps/gff3sort/gff3sort.pl line 104.\n",
      "Argument \"\" isn't numeric in sort at /home/anjuni/myapps/gff3sort/gff3sort.pl line 104.\n",
      "Argument \"\" isn't numeric in sort at /home/anjuni/myapps/gff3sort/gff3sort.pl line 104.\n",
      "Argument \"\" isn't numeric in sort at /home/anjuni/myapps/gff3sort/gff3sort.pl line 104.\n",
      "Argument \"\" isn't numeric in sort at /home/anjuni/myapps/gff3sort/gff3sort.pl line 104.\n",
      "Argument \"\" isn't numeric in sort at /home/anjuni/myapps/gff3sort/gff3sort.pl line 104.\n",
      "Argument \"\" isn't numeric in sort at /home/anjuni/myapps/gff3sort/gff3sort.pl line 104.\n",
      "Argument \"\" isn't numeric in sort at /home/anjuni/myapps/gff3sort/gff3sort.pl line 104.\n",
      "Argument \"\" isn't numeric in sort at /home/anjuni/myapps/gff3sort/gff3sort.pl line 104.\n",
      "Argument \"\" isn't numeric in sort at /home/anjuni/myapps/gff3sort/gff3sort.pl line 104.\n",
      "Argument \"\" isn't numeric in sort at /home/anjuni/myapps/gff3sort/gff3sort.pl line 104.\n",
      "Argument \"\" isn't numeric in sort at /home/anjuni/myapps/gff3sort/gff3sort.pl line 104.\n",
      "Argument \"\" isn't numeric in sort at /home/anjuni/myapps/gff3sort/gff3sort.pl line 104.\n",
      "Argument \"\" isn't numeric in sort at /home/anjuni/myapps/gff3sort/gff3sort.pl line 104.\n",
      "Argument \"\" isn't numeric in sort at /home/anjuni/myapps/gff3sort/gff3sort.pl line 104.\n",
      "Argument \"\" isn't numeric in sort at /home/anjuni/myapps/gff3sort/gff3sort.pl line 104.\n",
      "Argument \"\" isn't numeric in sort at /home/anjuni/myapps/gff3sort/gff3sort.pl line 104.\n",
      "Argument \"\" isn't numeric in sort at /home/anjuni/myapps/gff3sort/gff3sort.pl line 104.\n",
      "Argument \"\" isn't numeric in sort at /home/anjuni/myapps/gff3sort/gff3sort.pl line 104.\n",
      "Argument \"\" isn't numeric in sort at /home/anjuni/myapps/gff3sort/gff3sort.pl line 104.\n",
      "Argument \"\" isn't numeric in sort at /home/anjuni/myapps/gff3sort/gff3sort.pl line 104.\n",
      "Argument \"\" isn't numeric in sort at /home/anjuni/myapps/gff3sort/gff3sort.pl line 104.\n",
      "Argument \"\" isn't numeric in sort at /home/anjuni/myapps/gff3sort/gff3sort.pl line 104.\n",
      "Argument \"\" isn't numeric in sort at /home/anjuni/myapps/gff3sort/gff3sort.pl line 104.\n",
      "Argument \"\" isn't numeric in sort at /home/anjuni/myapps/gff3sort/gff3sort.pl line 104.\n",
      "Argument \"\" isn't numeric in sort at /home/anjuni/myapps/gff3sort/gff3sort.pl line 104.\n",
      "Argument \"\" isn't numeric in sort at /home/anjuni/myapps/gff3sort/gff3sort.pl line 104.\n",
      "Argument \"\" isn't numeric in sort at /home/anjuni/myapps/gff3sort/gff3sort.pl line 104.\n",
      "Argument \"\" isn't numeric in sort at /home/anjuni/myapps/gff3sort/gff3sort.pl line 104.\n",
      "Argument \"\" isn't numeric in sort at /home/anjuni/myapps/gff3sort/gff3sort.pl line 104.\n",
      "Argument \"\" isn't numeric in sort at /home/anjuni/myapps/gff3sort/gff3sort.pl line 104.\n",
      "Argument \"\" isn't numeric in sort at /home/anjuni/myapps/gff3sort/gff3sort.pl line 104.\n",
      "Argument \"\" isn't numeric in sort at /home/anjuni/myapps/gff3sort/gff3sort.pl line 104.\n",
      "Argument \"\" isn't numeric in sort at /home/anjuni/myapps/gff3sort/gff3sort.pl line 104.\n",
      "Argument \"\" isn't numeric in sort at /home/anjuni/myapps/gff3sort/gff3sort.pl line 104.\n",
      "Argument \"\" isn't numeric in sort at /home/anjuni/myapps/gff3sort/gff3sort.pl line 104.\n",
      "Argument \"\" isn't numeric in sort at /home/anjuni/myapps/gff3sort/gff3sort.pl line 104.\n",
      "Argument \"\" isn't numeric in sort at /home/anjuni/myapps/gff3sort/gff3sort.pl line 104.\n",
      "Argument \"\" isn't numeric in sort at /home/anjuni/myapps/gff3sort/gff3sort.pl line 104.\n",
      "Argument \"\" isn't numeric in sort at /home/anjuni/myapps/gff3sort/gff3sort.pl line 104.\n",
      "Argument \"\" isn't numeric in sort at /home/anjuni/myapps/gff3sort/gff3sort.pl line 104.\n",
      "Argument \"\" isn't numeric in sort at /home/anjuni/myapps/gff3sort/gff3sort.pl line 104.\n",
      "Argument \"\" isn't numeric in sort at /home/anjuni/myapps/gff3sort/gff3sort.pl line 104.\n",
      "Argument \"\" isn't numeric in sort at /home/anjuni/myapps/gff3sort/gff3sort.pl line 104.\n",
      "Argument \"\" isn't numeric in sort at /home/anjuni/myapps/gff3sort/gff3sort.pl line 104.\n",
      "Argument \"\" isn't numeric in sort at /home/anjuni/myapps/gff3sort/gff3sort.pl line 104.\n",
      "Argument \"\" isn't numeric in sort at /home/anjuni/myapps/gff3sort/gff3sort.pl line 104.\n",
      "Argument \"\" isn't numeric in sort at /home/anjuni/myapps/gff3sort/gff3sort.pl line 104.\n",
      "Argument \"\" isn't numeric in sort at /home/anjuni/myapps/gff3sort/gff3sort.pl line 104.\n",
      "Argument \"\" isn't numeric in sort at /home/anjuni/myapps/gff3sort/gff3sort.pl line 104.\n",
      "Argument \"\" isn't numeric in sort at /home/anjuni/myapps/gff3sort/gff3sort.pl line 104.\n",
      "Argument \"\" isn't numeric in sort at /home/anjuni/myapps/gff3sort/gff3sort.pl line 104.\n",
      "Argument \"\" isn't numeric in sort at /home/anjuni/myapps/gff3sort/gff3sort.pl line 104.\n",
      "Argument \"\" isn't numeric in sort at /home/anjuni/myapps/gff3sort/gff3sort.pl line 104.\n",
      "Argument \"\" isn't numeric in sort at /home/anjuni/myapps/gff3sort/gff3sort.pl line 104.\n",
      "Argument \"\" isn't numeric in sort at /home/anjuni/myapps/gff3sort/gff3sort.pl line 104.\n",
      "Argument \"\" isn't numeric in sort at /home/anjuni/myapps/gff3sort/gff3sort.pl line 104.\n",
      "Argument \"\" isn't numeric in sort at /home/anjuni/myapps/gff3sort/gff3sort.pl line 104.\n",
      "Argument \"\" isn't numeric in sort at /home/anjuni/myapps/gff3sort/gff3sort.pl line 104.\n",
      "Argument \"\" isn't numeric in sort at /home/anjuni/myapps/gff3sort/gff3sort.pl line 104.\n",
      "Argument \"\" isn't numeric in sort at /home/anjuni/myapps/gff3sort/gff3sort.pl line 104.\n",
      "Argument \"\" isn't numeric in sort at /home/anjuni/myapps/gff3sort/gff3sort.pl line 104.\n",
      "Argument \"\" isn't numeric in sort at /home/anjuni/myapps/gff3sort/gff3sort.pl line 104.\n",
      "Argument \"\" isn't numeric in sort at /home/anjuni/myapps/gff3sort/gff3sort.pl line 104.\n",
      "Argument \"\" isn't numeric in sort at /home/anjuni/myapps/gff3sort/gff3sort.pl line 104.\n",
      "Argument \"\" isn't numeric in sort at /home/anjuni/myapps/gff3sort/gff3sort.pl line 104.\n",
      "Argument \"\" isn't numeric in sort at /home/anjuni/myapps/gff3sort/gff3sort.pl line 104.\n",
      "Argument \"\" isn't numeric in sort at /home/anjuni/myapps/gff3sort/gff3sort.pl line 104.\n",
      "Argument \"\" isn't numeric in sort at /home/anjuni/myapps/gff3sort/gff3sort.pl line 104.\n",
      "Argument \"\" isn't numeric in sort at /home/anjuni/myapps/gff3sort/gff3sort.pl line 104.\n",
      "Argument \"\" isn't numeric in sort at /home/anjuni/myapps/gff3sort/gff3sort.pl line 104.\n",
      "Argument \"\" isn't numeric in sort at /home/anjuni/myapps/gff3sort/gff3sort.pl line 104.\n",
      "Argument \"\" isn't numeric in sort at /home/anjuni/myapps/gff3sort/gff3sort.pl line 104.\n",
      "Argument \"\" isn't numeric in sort at /home/anjuni/myapps/gff3sort/gff3sort.pl line 104.\n",
      "Argument \"\" isn't numeric in sort at /home/anjuni/myapps/gff3sort/gff3sort.pl line 104.\n",
      "Argument \"\" isn't numeric in sort at /home/anjuni/myapps/gff3sort/gff3sort.pl line 104.\n",
      "Argument \"\" isn't numeric in sort at /home/anjuni/myapps/gff3sort/gff3sort.pl line 104.\n",
      "Argument \"\" isn't numeric in sort at /home/anjuni/myapps/gff3sort/gff3sort.pl line 104.\n",
      "Argument \"\" isn't numeric in sort at /home/anjuni/myapps/gff3sort/gff3sort.pl line 104.\n",
      "Argument \"\" isn't numeric in sort at /home/anjuni/myapps/gff3sort/gff3sort.pl line 104.\n",
      "Argument \"\" isn't numeric in sort at /home/anjuni/myapps/gff3sort/gff3sort.pl line 104.\n",
      "Argument \"\" isn't numeric in sort at /home/anjuni/myapps/gff3sort/gff3sort.pl line 104.\n",
      "Argument \"\" isn't numeric in sort at /home/anjuni/myapps/gff3sort/gff3sort.pl line 104.\n",
      "Argument \"\" isn't numeric in sort at /home/anjuni/myapps/gff3sort/gff3sort.pl line 104.\n",
      "Argument \"\" isn't numeric in sort at /home/anjuni/myapps/gff3sort/gff3sort.pl line 104.\n",
      "Argument \"\" isn't numeric in sort at /home/anjuni/myapps/gff3sort/gff3sort.pl line 104.\n",
      "Argument \"\" isn't numeric in sort at /home/anjuni/myapps/gff3sort/gff3sort.pl line 104.\n",
      "Argument \"\" isn't numeric in sort at /home/anjuni/myapps/gff3sort/gff3sort.pl line 104.\n",
      "Argument \"\" isn't numeric in sort at /home/anjuni/myapps/gff3sort/gff3sort.pl line 104.\n",
      "Argument \"\" isn't numeric in sort at /home/anjuni/myapps/gff3sort/gff3sort.pl line 104.\n",
      "Argument \"\" isn't numeric in sort at /home/anjuni/myapps/gff3sort/gff3sort.pl line 104.\n",
      "Argument \"\" isn't numeric in sort at /home/anjuni/myapps/gff3sort/gff3sort.pl line 104.\n",
      "Argument \"\" isn't numeric in sort at /home/anjuni/myapps/gff3sort/gff3sort.pl line 104.\n",
      "Argument \"\" isn't numeric in sort at /home/anjuni/myapps/gff3sort/gff3sort.pl line 104.\n",
      "Argument \"\" isn't numeric in sort at /home/anjuni/myapps/gff3sort/gff3sort.pl line 104.\n",
      "Argument \"\" isn't numeric in sort at /home/anjuni/myapps/gff3sort/gff3sort.pl line 104.\n",
      "Argument \"\" isn't numeric in sort at /home/anjuni/myapps/gff3sort/gff3sort.pl line 104.\n",
      "Argument \"\" isn't numeric in sort at /home/anjuni/myapps/gff3sort/gff3sort.pl line 104.\n",
      "Argument \"\" isn't numeric in sort at /home/anjuni/myapps/gff3sort/gff3sort.pl line 104.\n",
      "Argument \"\" isn't numeric in sort at /home/anjuni/myapps/gff3sort/gff3sort.pl line 104.\n",
      "Argument \"\" isn't numeric in sort at /home/anjuni/myapps/gff3sort/gff3sort.pl line 104.\n",
      "Argument \"\" isn't numeric in sort at /home/anjuni/myapps/gff3sort/gff3sort.pl line 104.\n",
      "Argument \"\" isn't numeric in sort at /home/anjuni/myapps/gff3sort/gff3sort.pl line 104.\n",
      "Argument \"\" isn't numeric in sort at /home/anjuni/myapps/gff3sort/gff3sort.pl line 104.\n",
      "Argument \"\" isn't numeric in sort at /home/anjuni/myapps/gff3sort/gff3sort.pl line 104.\n",
      "Argument \"\" isn't numeric in sort at /home/anjuni/myapps/gff3sort/gff3sort.pl line 104.\n",
      "Argument \"\" isn't numeric in sort at /home/anjuni/myapps/gff3sort/gff3sort.pl line 104.\n",
      "Argument \"\" isn't numeric in sort at /home/anjuni/myapps/gff3sort/gff3sort.pl line 104.\n",
      "Argument \"\" isn't numeric in sort at /home/anjuni/myapps/gff3sort/gff3sort.pl line 104.\n",
      "Argument \"\" isn't numeric in sort at /home/anjuni/myapps/gff3sort/gff3sort.pl line 104.\n",
      "Argument \"\" isn't numeric in sort at /home/anjuni/myapps/gff3sort/gff3sort.pl line 104.\n",
      "Argument \"\" isn't numeric in sort at /home/anjuni/myapps/gff3sort/gff3sort.pl line 104.\n",
      "Argument \"\" isn't numeric in sort at /home/anjuni/myapps/gff3sort/gff3sort.pl line 104.\n",
      "Argument \"\" isn't numeric in sort at /home/anjuni/myapps/gff3sort/gff3sort.pl line 104.\n",
      "Argument \"\" isn't numeric in sort at /home/anjuni/myapps/gff3sort/gff3sort.pl line 104.\n",
      "Argument \"\" isn't numeric in sort at /home/anjuni/myapps/gff3sort/gff3sort.pl line 104.\n",
      "Argument \"\" isn't numeric in sort at /home/anjuni/myapps/gff3sort/gff3sort.pl line 104.\n",
      "Argument \"\" isn't numeric in sort at /home/anjuni/myapps/gff3sort/gff3sort.pl line 104.\n",
      "Argument \"\" isn't numeric in sort at /home/anjuni/myapps/gff3sort/gff3sort.pl line 104.\n",
      "Argument \"\" isn't numeric in sort at /home/anjuni/myapps/gff3sort/gff3sort.pl line 104.\n",
      "Argument \"\" isn't numeric in sort at /home/anjuni/myapps/gff3sort/gff3sort.pl line 104.\n",
      "Argument \"\" isn't numeric in sort at /home/anjuni/myapps/gff3sort/gff3sort.pl line 104.\n",
      "Argument \"\" isn't numeric in sort at /home/anjuni/myapps/gff3sort/gff3sort.pl line 104.\n",
      "Argument \"\" isn't numeric in sort at /home/anjuni/myapps/gff3sort/gff3sort.pl line 104.\n",
      "Argument \"\" isn't numeric in sort at /home/anjuni/myapps/gff3sort/gff3sort.pl line 104.\n",
      "Argument \"\" isn't numeric in sort at /home/anjuni/myapps/gff3sort/gff3sort.pl line 104.\n",
      "Argument \"\" isn't numeric in sort at /home/anjuni/myapps/gff3sort/gff3sort.pl line 104.\n",
      "Argument \"\" isn't numeric in sort at /home/anjuni/myapps/gff3sort/gff3sort.pl line 104.\n",
      "Argument \"\" isn't numeric in sort at /home/anjuni/myapps/gff3sort/gff3sort.pl line 104.\n",
      "Argument \"\" isn't numeric in sort at /home/anjuni/myapps/gff3sort/gff3sort.pl line 104.\n",
      "Argument \"\" isn't numeric in sort at /home/anjuni/myapps/gff3sort/gff3sort.pl line 104.\n",
      "Argument \"\" isn't numeric in sort at /home/anjuni/myapps/gff3sort/gff3sort.pl line 104.\n",
      "Argument \"\" isn't numeric in sort at /home/anjuni/myapps/gff3sort/gff3sort.pl line 104.\n",
      "Argument \"\" isn't numeric in sort at /home/anjuni/myapps/gff3sort/gff3sort.pl line 104.\n",
      "Argument \"\" isn't numeric in sort at /home/anjuni/myapps/gff3sort/gff3sort.pl line 104.\n",
      "Argument \"\" isn't numeric in sort at /home/anjuni/myapps/gff3sort/gff3sort.pl line 104.\n",
      "Argument \"\" isn't numeric in sort at /home/anjuni/myapps/gff3sort/gff3sort.pl line 104.\n",
      "Argument \"\" isn't numeric in sort at /home/anjuni/myapps/gff3sort/gff3sort.pl line 104.\n",
      "Argument \"\" isn't numeric in sort at /home/anjuni/myapps/gff3sort/gff3sort.pl line 104.\n",
      "Argument \"\" isn't numeric in sort at /home/anjuni/myapps/gff3sort/gff3sort.pl line 104.\n",
      "Argument \"\" isn't numeric in sort at /home/anjuni/myapps/gff3sort/gff3sort.pl line 104.\n",
      "Argument \"\" isn't numeric in sort at /home/anjuni/myapps/gff3sort/gff3sort.pl line 104.\n",
      "Argument \"\" isn't numeric in sort at /home/anjuni/myapps/gff3sort/gff3sort.pl line 104.\n",
      "Argument \"\" isn't numeric in sort at /home/anjuni/myapps/gff3sort/gff3sort.pl line 104.\n",
      "Argument \"\" isn't numeric in sort at /home/anjuni/myapps/gff3sort/gff3sort.pl line 104.\n",
      "Argument \"\" isn't numeric in sort at /home/anjuni/myapps/gff3sort/gff3sort.pl line 104.\n",
      "Argument \"\" isn't numeric in sort at /home/anjuni/myapps/gff3sort/gff3sort.pl line 104.\n",
      "Argument \"\" isn't numeric in sort at /home/anjuni/myapps/gff3sort/gff3sort.pl line 104.\n",
      "Argument \"\" isn't numeric in sort at /home/anjuni/myapps/gff3sort/gff3sort.pl line 104.\n",
      "Argument \"\" isn't numeric in sort at /home/anjuni/myapps/gff3sort/gff3sort.pl line 104.\n",
      "Argument \"\" isn't numeric in sort at /home/anjuni/myapps/gff3sort/gff3sort.pl line 104.\n",
      "Argument \"\" isn't numeric in sort at /home/anjuni/myapps/gff3sort/gff3sort.pl line 104.\n",
      "Argument \"\" isn't numeric in sort at /home/anjuni/myapps/gff3sort/gff3sort.pl line 104.\n",
      "Argument \"\" isn't numeric in sort at /home/anjuni/myapps/gff3sort/gff3sort.pl line 104.\n",
      "Argument \"\" isn't numeric in sort at /home/anjuni/myapps/gff3sort/gff3sort.pl line 104.\n",
      "Argument \"\" isn't numeric in sort at /home/anjuni/myapps/gff3sort/gff3sort.pl line 104.\n",
      "Argument \"\" isn't numeric in sort at /home/anjuni/myapps/gff3sort/gff3sort.pl line 104.\n",
      "Argument \"\" isn't numeric in sort at /home/anjuni/myapps/gff3sort/gff3sort.pl line 104.\n",
      "Argument \"\" isn't numeric in sort at /home/anjuni/myapps/gff3sort/gff3sort.pl line 104.\n",
      "Argument \"\" isn't numeric in sort at /home/anjuni/myapps/gff3sort/gff3sort.pl line 104.\n",
      "Argument \"\" isn't numeric in sort at /home/anjuni/myapps/gff3sort/gff3sort.pl line 104.\n",
      "Argument \"\" isn't numeric in sort at /home/anjuni/myapps/gff3sort/gff3sort.pl line 104.\n",
      "Argument \"\" isn't numeric in sort at /home/anjuni/myapps/gff3sort/gff3sort.pl line 104.\n",
      "Argument \"\" isn't numeric in sort at /home/anjuni/myapps/gff3sort/gff3sort.pl line 104.\n",
      "Argument \"\" isn't numeric in sort at /home/anjuni/myapps/gff3sort/gff3sort.pl line 104.\n",
      "Argument \"\" isn't numeric in sort at /home/anjuni/myapps/gff3sort/gff3sort.pl line 104.\n",
      "Argument \"\" isn't numeric in sort at /home/anjuni/myapps/gff3sort/gff3sort.pl line 104.\n",
      "Argument \"\" isn't numeric in sort at /home/anjuni/myapps/gff3sort/gff3sort.pl line 104.\n",
      "Argument \"\" isn't numeric in sort at /home/anjuni/myapps/gff3sort/gff3sort.pl line 104.\n",
      "Argument \"\" isn't numeric in sort at /home/anjuni/myapps/gff3sort/gff3sort.pl line 104.\n",
      "Argument \"\" isn't numeric in sort at /home/anjuni/myapps/gff3sort/gff3sort.pl line 104.\n",
      "Argument \"\" isn't numeric in sort at /home/anjuni/myapps/gff3sort/gff3sort.pl line 104.\n",
      "Argument \"\" isn't numeric in sort at /home/anjuni/myapps/gff3sort/gff3sort.pl line 104.\n",
      "Argument \"\" isn't numeric in sort at /home/anjuni/myapps/gff3sort/gff3sort.pl line 104.\n",
      "Argument \"\" isn't numeric in sort at /home/anjuni/myapps/gff3sort/gff3sort.pl line 104.\n",
      "Argument \"\" isn't numeric in sort at /home/anjuni/myapps/gff3sort/gff3sort.pl line 104.\n",
      "Argument \"\" isn't numeric in sort at /home/anjuni/myapps/gff3sort/gff3sort.pl line 104.\n",
      "Argument \"\" isn't numeric in sort at /home/anjuni/myapps/gff3sort/gff3sort.pl line 104.\n",
      "Argument \"\" isn't numeric in sort at /home/anjuni/myapps/gff3sort/gff3sort.pl line 104.\n",
      "Argument \"\" isn't numeric in sort at /home/anjuni/myapps/gff3sort/gff3sort.pl line 104.\n",
      "Argument \"\" isn't numeric in sort at /home/anjuni/myapps/gff3sort/gff3sort.pl line 104.\n",
      "Argument \"\" isn't numeric in sort at /home/anjuni/myapps/gff3sort/gff3sort.pl line 104.\n",
      "Argument \"\" isn't numeric in sort at /home/anjuni/myapps/gff3sort/gff3sort.pl line 104.\n",
      "Argument \"\" isn't numeric in sort at /home/anjuni/myapps/gff3sort/gff3sort.pl line 104.\n",
      "Argument \"\" isn't numeric in sort at /home/anjuni/myapps/gff3sort/gff3sort.pl line 104.\n",
      "Argument \"\" isn't numeric in sort at /home/anjuni/myapps/gff3sort/gff3sort.pl line 104.\n",
      "Argument \"\" isn't numeric in sort at /home/anjuni/myapps/gff3sort/gff3sort.pl line 104.\n",
      "Argument \"\" isn't numeric in sort at /home/anjuni/myapps/gff3sort/gff3sort.pl line 104.\n",
      "Argument \"\" isn't numeric in sort at /home/anjuni/myapps/gff3sort/gff3sort.pl line 104.\n",
      "Argument \"\" isn't numeric in sort at /home/anjuni/myapps/gff3sort/gff3sort.pl line 104.\n",
      "Argument \"\" isn't numeric in sort at /home/anjuni/myapps/gff3sort/gff3sort.pl line 104.\n",
      "Argument \"\" isn't numeric in sort at /home/anjuni/myapps/gff3sort/gff3sort.pl line 104.\n",
      "Argument \"\" isn't numeric in sort at /home/anjuni/myapps/gff3sort/gff3sort.pl line 104.\n",
      "Argument \"\" isn't numeric in sort at /home/anjuni/myapps/gff3sort/gff3sort.pl line 104.\n",
      "Argument \"\" isn't numeric in sort at /home/anjuni/myapps/gff3sort/gff3sort.pl line 104.\n",
      "Argument \"\" isn't numeric in sort at /home/anjuni/myapps/gff3sort/gff3sort.pl line 104.\n",
      "Argument \"\" isn't numeric in sort at /home/anjuni/myapps/gff3sort/gff3sort.pl line 104.\n",
      "Argument \"\" isn't numeric in sort at /home/anjuni/myapps/gff3sort/gff3sort.pl line 104.\n",
      "Argument \"\" isn't numeric in sort at /home/anjuni/myapps/gff3sort/gff3sort.pl line 104.\n",
      "Argument \"\" isn't numeric in sort at /home/anjuni/myapps/gff3sort/gff3sort.pl line 104.\n",
      "Argument \"\" isn't numeric in sort at /home/anjuni/myapps/gff3sort/gff3sort.pl line 104.\n",
      "Argument \"\" isn't numeric in sort at /home/anjuni/myapps/gff3sort/gff3sort.pl line 104.\n",
      "Argument \"\" isn't numeric in sort at /home/anjuni/myapps/gff3sort/gff3sort.pl line 104.\n",
      "Argument \"\" isn't numeric in sort at /home/anjuni/myapps/gff3sort/gff3sort.pl line 104.\n",
      "Argument \"\" isn't numeric in sort at /home/anjuni/myapps/gff3sort/gff3sort.pl line 104.\n",
      "Argument \"\" isn't numeric in sort at /home/anjuni/myapps/gff3sort/gff3sort.pl line 104.\n",
      "Argument \"\" isn't numeric in sort at /home/anjuni/myapps/gff3sort/gff3sort.pl line 104.\n",
      "Argument \"\" isn't numeric in sort at /home/anjuni/myapps/gff3sort/gff3sort.pl line 104.\n",
      "Argument \"\" isn't numeric in sort at /home/anjuni/myapps/gff3sort/gff3sort.pl line 104.\n",
      "Argument \"\" isn't numeric in sort at /home/anjuni/myapps/gff3sort/gff3sort.pl line 104.\n",
      "Argument \"\" isn't numeric in sort at /home/anjuni/myapps/gff3sort/gff3sort.pl line 104.\n",
      "Argument \"\" isn't numeric in sort at /home/anjuni/myapps/gff3sort/gff3sort.pl line 104.\n",
      "Argument \"\" isn't numeric in sort at /home/anjuni/myapps/gff3sort/gff3sort.pl line 104.\n",
      "Argument \"\" isn't numeric in sort at /home/anjuni/myapps/gff3sort/gff3sort.pl line 104.\n",
      "Argument \"\" isn't numeric in sort at /home/anjuni/myapps/gff3sort/gff3sort.pl line 104.\n",
      "Argument \"\" isn't numeric in sort at /home/anjuni/myapps/gff3sort/gff3sort.pl line 104.\n",
      "Argument \"\" isn't numeric in sort at /home/anjuni/myapps/gff3sort/gff3sort.pl line 104.\n",
      "Argument \"\" isn't numeric in sort at /home/anjuni/myapps/gff3sort/gff3sort.pl line 104.\n",
      "Argument \"\" isn't numeric in sort at /home/anjuni/myapps/gff3sort/gff3sort.pl line 104.\n",
      "Argument \"\" isn't numeric in sort at /home/anjuni/myapps/gff3sort/gff3sort.pl line 104.\n",
      "Argument \"\" isn't numeric in sort at /home/anjuni/myapps/gff3sort/gff3sort.pl line 104.\n",
      "Argument \"\" isn't numeric in sort at /home/anjuni/myapps/gff3sort/gff3sort.pl line 104.\n",
      "Argument \"\" isn't numeric in sort at /home/anjuni/myapps/gff3sort/gff3sort.pl line 104.\n",
      "Argument \"\" isn't numeric in sort at /home/anjuni/myapps/gff3sort/gff3sort.pl line 104.\n",
      "Argument \"\" isn't numeric in sort at /home/anjuni/myapps/gff3sort/gff3sort.pl line 104.\n",
      "Argument \"\" isn't numeric in sort at /home/anjuni/myapps/gff3sort/gff3sort.pl line 104.\n",
      "Argument \"\" isn't numeric in sort at /home/anjuni/myapps/gff3sort/gff3sort.pl line 104.\n",
      "Argument \"\" isn't numeric in sort at /home/anjuni/myapps/gff3sort/gff3sort.pl line 104.\n",
      "Argument \"\" isn't numeric in sort at /home/anjuni/myapps/gff3sort/gff3sort.pl line 104.\n",
      "Argument \"\" isn't numeric in sort at /home/anjuni/myapps/gff3sort/gff3sort.pl line 104.\n",
      "Argument \"\" isn't numeric in sort at /home/anjuni/myapps/gff3sort/gff3sort.pl line 104.\n",
      "Argument \"\" isn't numeric in sort at /home/anjuni/myapps/gff3sort/gff3sort.pl line 104.\n",
      "Argument \"\" isn't numeric in sort at /home/anjuni/myapps/gff3sort/gff3sort.pl line 104.\n",
      "Argument \"\" isn't numeric in sort at /home/anjuni/myapps/gff3sort/gff3sort.pl line 104.\n",
      "Argument \"\" isn't numeric in sort at /home/anjuni/myapps/gff3sort/gff3sort.pl line 104.\n",
      "Argument \"\" isn't numeric in sort at /home/anjuni/myapps/gff3sort/gff3sort.pl line 104.\n",
      "Argument \"\" isn't numeric in sort at /home/anjuni/myapps/gff3sort/gff3sort.pl line 104.\n",
      "Argument \"\" isn't numeric in sort at /home/anjuni/myapps/gff3sort/gff3sort.pl line 104.\n",
      "Argument \"\" isn't numeric in sort at /home/anjuni/myapps/gff3sort/gff3sort.pl line 104.\n",
      "Argument \"\" isn't numeric in sort at /home/anjuni/myapps/gff3sort/gff3sort.pl line 104.\n",
      "Argument \"\" isn't numeric in sort at /home/anjuni/myapps/gff3sort/gff3sort.pl line 104.\n",
      "Argument \"\" isn't numeric in sort at /home/anjuni/myapps/gff3sort/gff3sort.pl line 104.\n",
      "Argument \"\" isn't numeric in sort at /home/anjuni/myapps/gff3sort/gff3sort.pl line 104.\n",
      "Argument \"\" isn't numeric in sort at /home/anjuni/myapps/gff3sort/gff3sort.pl line 104.\n",
      "Argument \"\" isn't numeric in sort at /home/anjuni/myapps/gff3sort/gff3sort.pl line 104.\n",
      "Argument \"\" isn't numeric in sort at /home/anjuni/myapps/gff3sort/gff3sort.pl line 104.\n",
      "Argument \"\" isn't numeric in sort at /home/anjuni/myapps/gff3sort/gff3sort.pl line 104.\n",
      "Argument \"\" isn't numeric in sort at /home/anjuni/myapps/gff3sort/gff3sort.pl line 104.\n",
      "Argument \"\" isn't numeric in sort at /home/anjuni/myapps/gff3sort/gff3sort.pl line 104.\n",
      "Argument \"\" isn't numeric in sort at /home/anjuni/myapps/gff3sort/gff3sort.pl line 104.\n",
      "Argument \"\" isn't numeric in sort at /home/anjuni/myapps/gff3sort/gff3sort.pl line 104.\n",
      "Argument \"\" isn't numeric in sort at /home/anjuni/myapps/gff3sort/gff3sort.pl line 104.\n",
      "Argument \"\" isn't numeric in sort at /home/anjuni/myapps/gff3sort/gff3sort.pl line 104.\n",
      "Argument \"\" isn't numeric in sort at /home/anjuni/myapps/gff3sort/gff3sort.pl line 104.\n",
      "Argument \"\" isn't numeric in sort at /home/anjuni/myapps/gff3sort/gff3sort.pl line 104.\n",
      "Argument \"\" isn't numeric in sort at /home/anjuni/myapps/gff3sort/gff3sort.pl line 104.\n",
      "Argument \"\" isn't numeric in sort at /home/anjuni/myapps/gff3sort/gff3sort.pl line 104.\n",
      "Argument \"\" isn't numeric in sort at /home/anjuni/myapps/gff3sort/gff3sort.pl line 104.\n",
      "Argument \"\" isn't numeric in sort at /home/anjuni/myapps/gff3sort/gff3sort.pl line 104.\n",
      "Argument \"\" isn't numeric in sort at /home/anjuni/myapps/gff3sort/gff3sort.pl line 104.\n",
      "Argument \"\" isn't numeric in sort at /home/anjuni/myapps/gff3sort/gff3sort.pl line 104.\n",
      "Argument \"\" isn't numeric in sort at /home/anjuni/myapps/gff3sort/gff3sort.pl line 104.\n",
      "Argument \"\" isn't numeric in sort at /home/anjuni/myapps/gff3sort/gff3sort.pl line 104.\n",
      "Argument \"\" isn't numeric in sort at /home/anjuni/myapps/gff3sort/gff3sort.pl line 104.\n",
      "Argument \"\" isn't numeric in sort at /home/anjuni/myapps/gff3sort/gff3sort.pl line 104.\n",
      "Argument \"\" isn't numeric in sort at /home/anjuni/myapps/gff3sort/gff3sort.pl line 104.\n",
      "Argument \"\" isn't numeric in sort at /home/anjuni/myapps/gff3sort/gff3sort.pl line 104.\n",
      "Argument \"\" isn't numeric in sort at /home/anjuni/myapps/gff3sort/gff3sort.pl line 104.\n",
      "Argument \"\" isn't numeric in sort at /home/anjuni/myapps/gff3sort/gff3sort.pl line 104.\n",
      "Argument \"\" isn't numeric in sort at /home/anjuni/myapps/gff3sort/gff3sort.pl line 104.\n",
      "Argument \"\" isn't numeric in sort at /home/anjuni/myapps/gff3sort/gff3sort.pl line 104.\n",
      "Argument \"\" isn't numeric in sort at /home/anjuni/myapps/gff3sort/gff3sort.pl line 104.\n",
      "Argument \"\" isn't numeric in sort at /home/anjuni/myapps/gff3sort/gff3sort.pl line 104.\n",
      "Argument \"\" isn't numeric in sort at /home/anjuni/myapps/gff3sort/gff3sort.pl line 104.\n",
      "Argument \"\" isn't numeric in sort at /home/anjuni/myapps/gff3sort/gff3sort.pl line 104.\n",
      "Argument \"\" isn't numeric in sort at /home/anjuni/myapps/gff3sort/gff3sort.pl line 104.\n",
      "Argument \"\" isn't numeric in sort at /home/anjuni/myapps/gff3sort/gff3sort.pl line 104.\n",
      "Argument \"\" isn't numeric in sort at /home/anjuni/myapps/gff3sort/gff3sort.pl line 104.\n",
      "Argument \"\" isn't numeric in sort at /home/anjuni/myapps/gff3sort/gff3sort.pl line 104.\n",
      "Argument \"\" isn't numeric in sort at /home/anjuni/myapps/gff3sort/gff3sort.pl line 104.\n",
      "Argument \"\" isn't numeric in sort at /home/anjuni/myapps/gff3sort/gff3sort.pl line 104.\n",
      "Argument \"\" isn't numeric in sort at /home/anjuni/myapps/gff3sort/gff3sort.pl line 104.\n",
      "Argument \"\" isn't numeric in sort at /home/anjuni/myapps/gff3sort/gff3sort.pl line 104.\n",
      "Argument \"\" isn't numeric in sort at /home/anjuni/myapps/gff3sort/gff3sort.pl line 104.\n",
      "Argument \"\" isn't numeric in sort at /home/anjuni/myapps/gff3sort/gff3sort.pl line 104.\n",
      "Argument \"\" isn't numeric in sort at /home/anjuni/myapps/gff3sort/gff3sort.pl line 104.\n",
      "Argument \"\" isn't numeric in sort at /home/anjuni/myapps/gff3sort/gff3sort.pl line 104.\n",
      "Argument \"\" isn't numeric in sort at /home/anjuni/myapps/gff3sort/gff3sort.pl line 104.\n",
      "Argument \"\" isn't numeric in sort at /home/anjuni/myapps/gff3sort/gff3sort.pl line 104.\n",
      "Argument \"\" isn't numeric in sort at /home/anjuni/myapps/gff3sort/gff3sort.pl line 104.\n",
      "Argument \"\" isn't numeric in sort at /home/anjuni/myapps/gff3sort/gff3sort.pl line 104.\n",
      "Argument \"\" isn't numeric in sort at /home/anjuni/myapps/gff3sort/gff3sort.pl line 104.\n",
      "Argument \"\" isn't numeric in sort at /home/anjuni/myapps/gff3sort/gff3sort.pl line 104.\n",
      "Argument \"\" isn't numeric in sort at /home/anjuni/myapps/gff3sort/gff3sort.pl line 104.\n",
      "Argument \"\" isn't numeric in sort at /home/anjuni/myapps/gff3sort/gff3sort.pl line 104.\n",
      "Argument \"\" isn't numeric in sort at /home/anjuni/myapps/gff3sort/gff3sort.pl line 104.\n",
      "Argument \"\" isn't numeric in sort at /home/anjuni/myapps/gff3sort/gff3sort.pl line 104.\n",
      "Argument \"\" isn't numeric in sort at /home/anjuni/myapps/gff3sort/gff3sort.pl line 104.\n",
      "Argument \"\" isn't numeric in sort at /home/anjuni/myapps/gff3sort/gff3sort.pl line 104.\n",
      "Argument \"\" isn't numeric in sort at /home/anjuni/myapps/gff3sort/gff3sort.pl line 104.\n",
      "Argument \"\" isn't numeric in sort at /home/anjuni/myapps/gff3sort/gff3sort.pl line 104.\n",
      "Argument \"\" isn't numeric in sort at /home/anjuni/myapps/gff3sort/gff3sort.pl line 104.\n",
      "Argument \"\" isn't numeric in sort at /home/anjuni/myapps/gff3sort/gff3sort.pl line 104.\n",
      "Argument \"\" isn't numeric in sort at /home/anjuni/myapps/gff3sort/gff3sort.pl line 104.\n",
      "Argument \"\" isn't numeric in sort at /home/anjuni/myapps/gff3sort/gff3sort.pl line 104.\n",
      "Argument \"\" isn't numeric in sort at /home/anjuni/myapps/gff3sort/gff3sort.pl line 104.\n",
      "Argument \"\" isn't numeric in sort at /home/anjuni/myapps/gff3sort/gff3sort.pl line 104.\n",
      "Argument \"\" isn't numeric in sort at /home/anjuni/myapps/gff3sort/gff3sort.pl line 104.\n",
      "Argument \"\" isn't numeric in sort at /home/anjuni/myapps/gff3sort/gff3sort.pl line 104.\n",
      "Argument \"\" isn't numeric in sort at /home/anjuni/myapps/gff3sort/gff3sort.pl line 104.\n",
      "Argument \"\" isn't numeric in sort at /home/anjuni/myapps/gff3sort/gff3sort.pl line 104.\n",
      "Argument \"\" isn't numeric in sort at /home/anjuni/myapps/gff3sort/gff3sort.pl line 104.\n",
      "Argument \"\" isn't numeric in sort at /home/anjuni/myapps/gff3sort/gff3sort.pl line 104.\n",
      "Argument \"\" isn't numeric in sort at /home/anjuni/myapps/gff3sort/gff3sort.pl line 104.\n",
      "Argument \"\" isn't numeric in sort at /home/anjuni/myapps/gff3sort/gff3sort.pl line 104.\n",
      "Argument \"\" isn't numeric in sort at /home/anjuni/myapps/gff3sort/gff3sort.pl line 104.\n",
      "Argument \"\" isn't numeric in sort at /home/anjuni/myapps/gff3sort/gff3sort.pl line 104.\n",
      "Argument \"\" isn't numeric in sort at /home/anjuni/myapps/gff3sort/gff3sort.pl line 104.\n",
      "Argument \"\" isn't numeric in sort at /home/anjuni/myapps/gff3sort/gff3sort.pl line 104.\n",
      "Argument \"\" isn't numeric in sort at /home/anjuni/myapps/gff3sort/gff3sort.pl line 104.\n",
      "Argument \"\" isn't numeric in sort at /home/anjuni/myapps/gff3sort/gff3sort.pl line 104.\n",
      "Argument \"\" isn't numeric in sort at /home/anjuni/myapps/gff3sort/gff3sort.pl line 104.\n",
      "Argument \"\" isn't numeric in sort at /home/anjuni/myapps/gff3sort/gff3sort.pl line 104.\n",
      "Argument \"\" isn't numeric in sort at /home/anjuni/myapps/gff3sort/gff3sort.pl line 104.\n",
      "Argument \"\" isn't numeric in sort at /home/anjuni/myapps/gff3sort/gff3sort.pl line 104.\n",
      "Argument \"\" isn't numeric in sort at /home/anjuni/myapps/gff3sort/gff3sort.pl line 104.\n",
      "Argument \"\" isn't numeric in sort at /home/anjuni/myapps/gff3sort/gff3sort.pl line 104.\n",
      "Argument \"\" isn't numeric in sort at /home/anjuni/myapps/gff3sort/gff3sort.pl line 104.\n",
      "Argument \"\" isn't numeric in sort at /home/anjuni/myapps/gff3sort/gff3sort.pl line 104.\n",
      "Argument \"\" isn't numeric in sort at /home/anjuni/myapps/gff3sort/gff3sort.pl line 104.\n",
      "Argument \"\" isn't numeric in sort at /home/anjuni/myapps/gff3sort/gff3sort.pl line 104.\n",
      "Argument \"\" isn't numeric in sort at /home/anjuni/myapps/gff3sort/gff3sort.pl line 104.\n",
      "Argument \"\" isn't numeric in sort at /home/anjuni/myapps/gff3sort/gff3sort.pl line 104.\n",
      "Argument \"\" isn't numeric in sort at /home/anjuni/myapps/gff3sort/gff3sort.pl line 104.\n",
      "Argument \"\" isn't numeric in sort at /home/anjuni/myapps/gff3sort/gff3sort.pl line 104.\n",
      "Argument \"\" isn't numeric in sort at /home/anjuni/myapps/gff3sort/gff3sort.pl line 104.\n",
      "Argument \"\" isn't numeric in sort at /home/anjuni/myapps/gff3sort/gff3sort.pl line 104.\n",
      "Argument \"\" isn't numeric in sort at /home/anjuni/myapps/gff3sort/gff3sort.pl line 104.\n",
      "Argument \"\" isn't numeric in sort at /home/anjuni/myapps/gff3sort/gff3sort.pl line 104.\n",
      "Argument \"\" isn't numeric in sort at /home/anjuni/myapps/gff3sort/gff3sort.pl line 104.\n",
      "Argument \"\" isn't numeric in sort at /home/anjuni/myapps/gff3sort/gff3sort.pl line 104.\n",
      "Argument \"\" isn't numeric in sort at /home/anjuni/myapps/gff3sort/gff3sort.pl line 104.\n",
      "Argument \"\" isn't numeric in sort at /home/anjuni/myapps/gff3sort/gff3sort.pl line 104.\n",
      "Argument \"\" isn't numeric in sort at /home/anjuni/myapps/gff3sort/gff3sort.pl line 104.\n",
      "Argument \"\" isn't numeric in sort at /home/anjuni/myapps/gff3sort/gff3sort.pl line 104.\n",
      "Argument \"\" isn't numeric in sort at /home/anjuni/myapps/gff3sort/gff3sort.pl line 104.\n",
      "Argument \"\" isn't numeric in sort at /home/anjuni/myapps/gff3sort/gff3sort.pl line 104.\n",
      "Argument \"\" isn't numeric in sort at /home/anjuni/myapps/gff3sort/gff3sort.pl line 104.\n",
      "Argument \"\" isn't numeric in sort at /home/anjuni/myapps/gff3sort/gff3sort.pl line 104.\n",
      "Argument \"\" isn't numeric in sort at /home/anjuni/myapps/gff3sort/gff3sort.pl line 104.\n",
      "Argument \"\" isn't numeric in sort at /home/anjuni/myapps/gff3sort/gff3sort.pl line 104.\n",
      "Argument \"\" isn't numeric in sort at /home/anjuni/myapps/gff3sort/gff3sort.pl line 104.\n",
      "Argument \"\" isn't numeric in sort at /home/anjuni/myapps/gff3sort/gff3sort.pl line 104.\n",
      "Argument \"\" isn't numeric in sort at /home/anjuni/myapps/gff3sort/gff3sort.pl line 104.\n",
      "Argument \"\" isn't numeric in sort at /home/anjuni/myapps/gff3sort/gff3sort.pl line 104.\n",
      "Argument \"\" isn't numeric in sort at /home/anjuni/myapps/gff3sort/gff3sort.pl line 104.\n",
      "Argument \"\" isn't numeric in sort at /home/anjuni/myapps/gff3sort/gff3sort.pl line 104.\n",
      "Argument \"\" isn't numeric in sort at /home/anjuni/myapps/gff3sort/gff3sort.pl line 104.\n",
      "Argument \"\" isn't numeric in sort at /home/anjuni/myapps/gff3sort/gff3sort.pl line 104.\n",
      "Argument \"\" isn't numeric in sort at /home/anjuni/myapps/gff3sort/gff3sort.pl line 104.\n",
      "Argument \"\" isn't numeric in sort at /home/anjuni/myapps/gff3sort/gff3sort.pl line 104.\n",
      "Argument \"\" isn't numeric in sort at /home/anjuni/myapps/gff3sort/gff3sort.pl line 104.\n",
      "Argument \"\" isn't numeric in sort at /home/anjuni/myapps/gff3sort/gff3sort.pl line 104.\n",
      "Argument \"\" isn't numeric in sort at /home/anjuni/myapps/gff3sort/gff3sort.pl line 104.\n",
      "Argument \"\" isn't numeric in sort at /home/anjuni/myapps/gff3sort/gff3sort.pl line 104.\n",
      "Argument \"\" isn't numeric in sort at /home/anjuni/myapps/gff3sort/gff3sort.pl line 104.\n",
      "Argument \"\" isn't numeric in sort at /home/anjuni/myapps/gff3sort/gff3sort.pl line 104.\n",
      "Argument \"\" isn't numeric in sort at /home/anjuni/myapps/gff3sort/gff3sort.pl line 104.\n",
      "Argument \"\" isn't numeric in sort at /home/anjuni/myapps/gff3sort/gff3sort.pl line 104.\n",
      "Argument \"\" isn't numeric in sort at /home/anjuni/myapps/gff3sort/gff3sort.pl line 104.\n",
      "Argument \"\" isn't numeric in sort at /home/anjuni/myapps/gff3sort/gff3sort.pl line 104.\n",
      "Argument \"\" isn't numeric in sort at /home/anjuni/myapps/gff3sort/gff3sort.pl line 104.\n",
      "Argument \"\" isn't numeric in sort at /home/anjuni/myapps/gff3sort/gff3sort.pl line 104.\n",
      "Argument \"\" isn't numeric in sort at /home/anjuni/myapps/gff3sort/gff3sort.pl line 104.\n",
      "Argument \"\" isn't numeric in sort at /home/anjuni/myapps/gff3sort/gff3sort.pl line 104.\n",
      "Argument \"\" isn't numeric in sort at /home/anjuni/myapps/gff3sort/gff3sort.pl line 104.\n",
      "Argument \"\" isn't numeric in sort at /home/anjuni/myapps/gff3sort/gff3sort.pl line 104.\n",
      "Argument \"\" isn't numeric in sort at /home/anjuni/myapps/gff3sort/gff3sort.pl line 104.\n",
      "Argument \"\" isn't numeric in sort at /home/anjuni/myapps/gff3sort/gff3sort.pl line 104.\n",
      "Argument \"\" isn't numeric in sort at /home/anjuni/myapps/gff3sort/gff3sort.pl line 104.\n",
      "Argument \"\" isn't numeric in sort at /home/anjuni/myapps/gff3sort/gff3sort.pl line 104.\n",
      "Argument \"\" isn't numeric in sort at /home/anjuni/myapps/gff3sort/gff3sort.pl line 104.\n",
      "Argument \"\" isn't numeric in sort at /home/anjuni/myapps/gff3sort/gff3sort.pl line 104.\n",
      "Argument \"\" isn't numeric in sort at /home/anjuni/myapps/gff3sort/gff3sort.pl line 104.\n",
      "Argument \"\" isn't numeric in sort at /home/anjuni/myapps/gff3sort/gff3sort.pl line 104.\n",
      "Argument \"\" isn't numeric in sort at /home/anjuni/myapps/gff3sort/gff3sort.pl line 104.\n",
      "Argument \"\" isn't numeric in sort at /home/anjuni/myapps/gff3sort/gff3sort.pl line 104.\n",
      "Argument \"\" isn't numeric in sort at /home/anjuni/myapps/gff3sort/gff3sort.pl line 104.\n",
      "Argument \"\" isn't numeric in sort at /home/anjuni/myapps/gff3sort/gff3sort.pl line 104.\n",
      "Argument \"\" isn't numeric in sort at /home/anjuni/myapps/gff3sort/gff3sort.pl line 104.\n",
      "Argument \"\" isn't numeric in sort at /home/anjuni/myapps/gff3sort/gff3sort.pl line 104.\n",
      "Argument \"\" isn't numeric in sort at /home/anjuni/myapps/gff3sort/gff3sort.pl line 104.\n",
      "Argument \"\" isn't numeric in sort at /home/anjuni/myapps/gff3sort/gff3sort.pl line 104.\n",
      "Argument \"\" isn't numeric in sort at /home/anjuni/myapps/gff3sort/gff3sort.pl line 104.\n",
      "Argument \"\" isn't numeric in sort at /home/anjuni/myapps/gff3sort/gff3sort.pl line 104.\n",
      "Argument \"\" isn't numeric in sort at /home/anjuni/myapps/gff3sort/gff3sort.pl line 104.\n",
      "Argument \"\" isn't numeric in sort at /home/anjuni/myapps/gff3sort/gff3sort.pl line 104.\n",
      "Argument \"\" isn't numeric in sort at /home/anjuni/myapps/gff3sort/gff3sort.pl line 104.\n",
      "Argument \"\" isn't numeric in sort at /home/anjuni/myapps/gff3sort/gff3sort.pl line 104.\n",
      "Argument \"\" isn't numeric in sort at /home/anjuni/myapps/gff3sort/gff3sort.pl line 104.\n",
      "Argument \"\" isn't numeric in sort at /home/anjuni/myapps/gff3sort/gff3sort.pl line 104.\n",
      "Argument \"\" isn't numeric in sort at /home/anjuni/myapps/gff3sort/gff3sort.pl line 104.\n",
      "Argument \"\" isn't numeric in sort at /home/anjuni/myapps/gff3sort/gff3sort.pl line 104.\n",
      "Argument \"\" isn't numeric in sort at /home/anjuni/myapps/gff3sort/gff3sort.pl line 104.\n",
      "Argument \"\" isn't numeric in sort at /home/anjuni/myapps/gff3sort/gff3sort.pl line 104.\n",
      "Argument \"\" isn't numeric in sort at /home/anjuni/myapps/gff3sort/gff3sort.pl line 104.\n",
      "Argument \"\" isn't numeric in sort at /home/anjuni/myapps/gff3sort/gff3sort.pl line 104.\n",
      "Argument \"\" isn't numeric in sort at /home/anjuni/myapps/gff3sort/gff3sort.pl line 104.\n",
      "Argument \"\" isn't numeric in sort at /home/anjuni/myapps/gff3sort/gff3sort.pl line 104.\n",
      "Argument \"\" isn't numeric in sort at /home/anjuni/myapps/gff3sort/gff3sort.pl line 104.\n",
      "Argument \"\" isn't numeric in sort at /home/anjuni/myapps/gff3sort/gff3sort.pl line 104.\n",
      "Argument \"\" isn't numeric in sort at /home/anjuni/myapps/gff3sort/gff3sort.pl line 104.\n",
      "Argument \"\" isn't numeric in sort at /home/anjuni/myapps/gff3sort/gff3sort.pl line 104.\n",
      "Argument \"\" isn't numeric in sort at /home/anjuni/myapps/gff3sort/gff3sort.pl line 104.\n",
      "Argument \"\" isn't numeric in sort at /home/anjuni/myapps/gff3sort/gff3sort.pl line 104.\n",
      "Argument \"\" isn't numeric in sort at /home/anjuni/myapps/gff3sort/gff3sort.pl line 104.\n",
      "Argument \"\" isn't numeric in sort at /home/anjuni/myapps/gff3sort/gff3sort.pl line 104.\n",
      "Argument \"\" isn't numeric in sort at /home/anjuni/myapps/gff3sort/gff3sort.pl line 104.\n",
      "Argument \"\" isn't numeric in sort at /home/anjuni/myapps/gff3sort/gff3sort.pl line 104.\n",
      "Argument \"\" isn't numeric in sort at /home/anjuni/myapps/gff3sort/gff3sort.pl line 104.\n",
      "Argument \"\" isn't numeric in sort at /home/anjuni/myapps/gff3sort/gff3sort.pl line 104.\n",
      "Argument \"\" isn't numeric in sort at /home/anjuni/myapps/gff3sort/gff3sort.pl line 104.\n",
      "Argument \"\" isn't numeric in sort at /home/anjuni/myapps/gff3sort/gff3sort.pl line 104.\n",
      "Argument \"\" isn't numeric in sort at /home/anjuni/myapps/gff3sort/gff3sort.pl line 104.\n",
      "Argument \"\" isn't numeric in sort at /home/anjuni/myapps/gff3sort/gff3sort.pl line 104.\n",
      "Argument \"\" isn't numeric in sort at /home/anjuni/myapps/gff3sort/gff3sort.pl line 104.\n",
      "Argument \"\" isn't numeric in sort at /home/anjuni/myapps/gff3sort/gff3sort.pl line 104.\n",
      "Argument \"\" isn't numeric in sort at /home/anjuni/myapps/gff3sort/gff3sort.pl line 104.\n",
      "Argument \"\" isn't numeric in sort at /home/anjuni/myapps/gff3sort/gff3sort.pl line 104.\n",
      "Argument \"\" isn't numeric in sort at /home/anjuni/myapps/gff3sort/gff3sort.pl line 104.\n",
      "Argument \"\" isn't numeric in sort at /home/anjuni/myapps/gff3sort/gff3sort.pl line 104.\n",
      "Argument \"\" isn't numeric in sort at /home/anjuni/myapps/gff3sort/gff3sort.pl line 104.\n",
      "Argument \"\" isn't numeric in sort at /home/anjuni/myapps/gff3sort/gff3sort.pl line 104.\n",
      "Argument \"\" isn't numeric in sort at /home/anjuni/myapps/gff3sort/gff3sort.pl line 104.\n",
      "Argument \"\" isn't numeric in sort at /home/anjuni/myapps/gff3sort/gff3sort.pl line 104.\n",
      "Argument \"\" isn't numeric in sort at /home/anjuni/myapps/gff3sort/gff3sort.pl line 104.\n",
      "Argument \"\" isn't numeric in sort at /home/anjuni/myapps/gff3sort/gff3sort.pl line 104.\n",
      "Argument \"\" isn't numeric in sort at /home/anjuni/myapps/gff3sort/gff3sort.pl line 104.\n",
      "Argument \"\" isn't numeric in sort at /home/anjuni/myapps/gff3sort/gff3sort.pl line 104.\n",
      "Argument \"\" isn't numeric in sort at /home/anjuni/myapps/gff3sort/gff3sort.pl line 104.\n",
      "Argument \"\" isn't numeric in sort at /home/anjuni/myapps/gff3sort/gff3sort.pl line 104.\n",
      "Argument \"\" isn't numeric in sort at /home/anjuni/myapps/gff3sort/gff3sort.pl line 104.\n",
      "Argument \"\" isn't numeric in sort at /home/anjuni/myapps/gff3sort/gff3sort.pl line 104.\n",
      "Argument \"\" isn't numeric in sort at /home/anjuni/myapps/gff3sort/gff3sort.pl line 104.\n",
      "Argument \"\" isn't numeric in sort at /home/anjuni/myapps/gff3sort/gff3sort.pl line 104.\n",
      "Argument \"\" isn't numeric in sort at /home/anjuni/myapps/gff3sort/gff3sort.pl line 104.\n",
      "Argument \"\" isn't numeric in sort at /home/anjuni/myapps/gff3sort/gff3sort.pl line 104.\n",
      "Argument \"\" isn't numeric in sort at /home/anjuni/myapps/gff3sort/gff3sort.pl line 104.\n",
      "Argument \"\" isn't numeric in sort at /home/anjuni/myapps/gff3sort/gff3sort.pl line 104.\n",
      "Argument \"\" isn't numeric in sort at /home/anjuni/myapps/gff3sort/gff3sort.pl line 104.\n",
      "Argument \"\" isn't numeric in sort at /home/anjuni/myapps/gff3sort/gff3sort.pl line 104.\n",
      "Argument \"\" isn't numeric in sort at /home/anjuni/myapps/gff3sort/gff3sort.pl line 104.\n",
      "Argument \"\" isn't numeric in sort at /home/anjuni/myapps/gff3sort/gff3sort.pl line 104.\n",
      "Argument \"\" isn't numeric in sort at /home/anjuni/myapps/gff3sort/gff3sort.pl line 104.\n",
      "Argument \"\" isn't numeric in sort at /home/anjuni/myapps/gff3sort/gff3sort.pl line 104.\n",
      "Argument \"\" isn't numeric in sort at /home/anjuni/myapps/gff3sort/gff3sort.pl line 104.\n",
      "Argument \"\" isn't numeric in sort at /home/anjuni/myapps/gff3sort/gff3sort.pl line 104.\n",
      "Argument \"\" isn't numeric in sort at /home/anjuni/myapps/gff3sort/gff3sort.pl line 104.\n",
      "Argument \"\" isn't numeric in sort at /home/anjuni/myapps/gff3sort/gff3sort.pl line 104.\n",
      "Argument \"\" isn't numeric in sort at /home/anjuni/myapps/gff3sort/gff3sort.pl line 104.\n",
      "Argument \"\" isn't numeric in sort at /home/anjuni/myapps/gff3sort/gff3sort.pl line 104.\n",
      "Argument \"\" isn't numeric in sort at /home/anjuni/myapps/gff3sort/gff3sort.pl line 104.\n",
      "Argument \"\" isn't numeric in sort at /home/anjuni/myapps/gff3sort/gff3sort.pl line 104.\n",
      "Argument \"\" isn't numeric in sort at /home/anjuni/myapps/gff3sort/gff3sort.pl line 104.\n",
      "Argument \"\" isn't numeric in sort at /home/anjuni/myapps/gff3sort/gff3sort.pl line 104.\n",
      "Argument \"\" isn't numeric in sort at /home/anjuni/myapps/gff3sort/gff3sort.pl line 104.\n",
      "Argument \"\" isn't numeric in sort at /home/anjuni/myapps/gff3sort/gff3sort.pl line 104.\n",
      "Argument \"\" isn't numeric in sort at /home/anjuni/myapps/gff3sort/gff3sort.pl line 104.\n",
      "Argument \"\" isn't numeric in sort at /home/anjuni/myapps/gff3sort/gff3sort.pl line 104.\n",
      "Argument \"\" isn't numeric in sort at /home/anjuni/myapps/gff3sort/gff3sort.pl line 104.\n",
      "Argument \"\" isn't numeric in sort at /home/anjuni/myapps/gff3sort/gff3sort.pl line 104.\n",
      "Argument \"\" isn't numeric in sort at /home/anjuni/myapps/gff3sort/gff3sort.pl line 104.\n",
      "Argument \"\" isn't numeric in sort at /home/anjuni/myapps/gff3sort/gff3sort.pl line 104.\n",
      "Argument \"\" isn't numeric in sort at /home/anjuni/myapps/gff3sort/gff3sort.pl line 104.\n",
      "Argument \"\" isn't numeric in sort at /home/anjuni/myapps/gff3sort/gff3sort.pl line 104.\n",
      "Argument \"\" isn't numeric in sort at /home/anjuni/myapps/gff3sort/gff3sort.pl line 104.\n",
      "Argument \"\" isn't numeric in sort at /home/anjuni/myapps/gff3sort/gff3sort.pl line 104.\n",
      "Argument \"\" isn't numeric in sort at /home/anjuni/myapps/gff3sort/gff3sort.pl line 104.\n",
      "Argument \"\" isn't numeric in sort at /home/anjuni/myapps/gff3sort/gff3sort.pl line 104.\n",
      "Argument \"\" isn't numeric in sort at /home/anjuni/myapps/gff3sort/gff3sort.pl line 104.\n",
      "Argument \"\" isn't numeric in sort at /home/anjuni/myapps/gff3sort/gff3sort.pl line 104.\n",
      "Argument \"\" isn't numeric in sort at /home/anjuni/myapps/gff3sort/gff3sort.pl line 104.\n",
      "Argument \"\" isn't numeric in sort at /home/anjuni/myapps/gff3sort/gff3sort.pl line 104.\n",
      "Argument \"\" isn't numeric in sort at /home/anjuni/myapps/gff3sort/gff3sort.pl line 104.\n",
      "Argument \"\" isn't numeric in sort at /home/anjuni/myapps/gff3sort/gff3sort.pl line 104.\n",
      "Argument \"\" isn't numeric in sort at /home/anjuni/myapps/gff3sort/gff3sort.pl line 104.\n",
      "Argument \"\" isn't numeric in sort at /home/anjuni/myapps/gff3sort/gff3sort.pl line 104.\n",
      "Argument \"\" isn't numeric in sort at /home/anjuni/myapps/gff3sort/gff3sort.pl line 104.\n",
      "Argument \"\" isn't numeric in sort at /home/anjuni/myapps/gff3sort/gff3sort.pl line 104.\n",
      "Argument \"\" isn't numeric in sort at /home/anjuni/myapps/gff3sort/gff3sort.pl line 104.\n",
      "Argument \"\" isn't numeric in sort at /home/anjuni/myapps/gff3sort/gff3sort.pl line 104.\n",
      "Argument \"\" isn't numeric in sort at /home/anjuni/myapps/gff3sort/gff3sort.pl line 104.\n",
      "Argument \"\" isn't numeric in sort at /home/anjuni/myapps/gff3sort/gff3sort.pl line 104.\n",
      "Argument \"\" isn't numeric in sort at /home/anjuni/myapps/gff3sort/gff3sort.pl line 104.\n",
      "Argument \"\" isn't numeric in sort at /home/anjuni/myapps/gff3sort/gff3sort.pl line 104.\n",
      "Argument \"\" isn't numeric in sort at /home/anjuni/myapps/gff3sort/gff3sort.pl line 104.\n",
      "Argument \"\" isn't numeric in sort at /home/anjuni/myapps/gff3sort/gff3sort.pl line 104.\n",
      "Argument \"\" isn't numeric in sort at /home/anjuni/myapps/gff3sort/gff3sort.pl line 104.\n",
      "Argument \"\" isn't numeric in sort at /home/anjuni/myapps/gff3sort/gff3sort.pl line 104.\n",
      "Argument \"\" isn't numeric in sort at /home/anjuni/myapps/gff3sort/gff3sort.pl line 104.\n",
      "Argument \"\" isn't numeric in sort at /home/anjuni/myapps/gff3sort/gff3sort.pl line 104.\n",
      "Argument \"\" isn't numeric in sort at /home/anjuni/myapps/gff3sort/gff3sort.pl line 104.\n",
      "Argument \"\" isn't numeric in sort at /home/anjuni/myapps/gff3sort/gff3sort.pl line 104.\n",
      "Argument \"\" isn't numeric in sort at /home/anjuni/myapps/gff3sort/gff3sort.pl line 104.\n",
      "Argument \"\" isn't numeric in sort at /home/anjuni/myapps/gff3sort/gff3sort.pl line 104.\n",
      "Argument \"\" isn't numeric in sort at /home/anjuni/myapps/gff3sort/gff3sort.pl line 104.\n",
      "Argument \"\" isn't numeric in sort at /home/anjuni/myapps/gff3sort/gff3sort.pl line 104.\n",
      "Argument \"\" isn't numeric in sort at /home/anjuni/myapps/gff3sort/gff3sort.pl line 104.\n",
      "Argument \"\" isn't numeric in sort at /home/anjuni/myapps/gff3sort/gff3sort.pl line 104.\n",
      "Argument \"\" isn't numeric in sort at /home/anjuni/myapps/gff3sort/gff3sort.pl line 104.\n",
      "Argument \"\" isn't numeric in sort at /home/anjuni/myapps/gff3sort/gff3sort.pl line 104.\n",
      "Argument \"\" isn't numeric in sort at /home/anjuni/myapps/gff3sort/gff3sort.pl line 104.\n",
      "Argument \"\" isn't numeric in sort at /home/anjuni/myapps/gff3sort/gff3sort.pl line 104.\n",
      "Argument \"\" isn't numeric in sort at /home/anjuni/myapps/gff3sort/gff3sort.pl line 104.\n",
      "Argument \"\" isn't numeric in sort at /home/anjuni/myapps/gff3sort/gff3sort.pl line 104.\n",
      "Argument \"\" isn't numeric in sort at /home/anjuni/myapps/gff3sort/gff3sort.pl line 104.\n",
      "Argument \"\" isn't numeric in sort at /home/anjuni/myapps/gff3sort/gff3sort.pl line 104.\n",
      "Argument \"\" isn't numeric in sort at /home/anjuni/myapps/gff3sort/gff3sort.pl line 104.\n",
      "Argument \"\" isn't numeric in sort at /home/anjuni/myapps/gff3sort/gff3sort.pl line 104.\n",
      "Argument \"\" isn't numeric in sort at /home/anjuni/myapps/gff3sort/gff3sort.pl line 104.\n",
      "Argument \"\" isn't numeric in sort at /home/anjuni/myapps/gff3sort/gff3sort.pl line 104.\n",
      "Argument \"\" isn't numeric in sort at /home/anjuni/myapps/gff3sort/gff3sort.pl line 104.\n",
      "Argument \"\" isn't numeric in sort at /home/anjuni/myapps/gff3sort/gff3sort.pl line 104.\n",
      "Argument \"\" isn't numeric in sort at /home/anjuni/myapps/gff3sort/gff3sort.pl line 104.\n",
      "Argument \"\" isn't numeric in sort at /home/anjuni/myapps/gff3sort/gff3sort.pl line 104.\n",
      "Argument \"\" isn't numeric in sort at /home/anjuni/myapps/gff3sort/gff3sort.pl line 104.\n",
      "Argument \"\" isn't numeric in sort at /home/anjuni/myapps/gff3sort/gff3sort.pl line 104.\n",
      "Argument \"\" isn't numeric in sort at /home/anjuni/myapps/gff3sort/gff3sort.pl line 104.\n",
      "Argument \"\" isn't numeric in sort at /home/anjuni/myapps/gff3sort/gff3sort.pl line 104.\n",
      "Argument \"\" isn't numeric in sort at /home/anjuni/myapps/gff3sort/gff3sort.pl line 104.\n",
      "Argument \"\" isn't numeric in sort at /home/anjuni/myapps/gff3sort/gff3sort.pl line 104.\n",
      "Argument \"\" isn't numeric in sort at /home/anjuni/myapps/gff3sort/gff3sort.pl line 104.\n",
      "Argument \"\" isn't numeric in sort at /home/anjuni/myapps/gff3sort/gff3sort.pl line 104.\n",
      "Argument \"\" isn't numeric in sort at /home/anjuni/myapps/gff3sort/gff3sort.pl line 104.\n",
      "Argument \"\" isn't numeric in sort at /home/anjuni/myapps/gff3sort/gff3sort.pl line 104.\n",
      "Argument \"\" isn't numeric in sort at /home/anjuni/myapps/gff3sort/gff3sort.pl line 104.\n",
      "Argument \"\" isn't numeric in sort at /home/anjuni/myapps/gff3sort/gff3sort.pl line 104.\n",
      "Argument \"\" isn't numeric in sort at /home/anjuni/myapps/gff3sort/gff3sort.pl line 104.\n",
      "Argument \"\" isn't numeric in sort at /home/anjuni/myapps/gff3sort/gff3sort.pl line 104.\n",
      "Argument \"\" isn't numeric in sort at /home/anjuni/myapps/gff3sort/gff3sort.pl line 104.\n",
      "Argument \"\" isn't numeric in sort at /home/anjuni/myapps/gff3sort/gff3sort.pl line 104.\n",
      "Argument \"\" isn't numeric in sort at /home/anjuni/myapps/gff3sort/gff3sort.pl line 104.\n",
      "Argument \"\" isn't numeric in sort at /home/anjuni/myapps/gff3sort/gff3sort.pl line 104.\n",
      "Argument \"\" isn't numeric in sort at /home/anjuni/myapps/gff3sort/gff3sort.pl line 104.\n",
      "Argument \"\" isn't numeric in sort at /home/anjuni/myapps/gff3sort/gff3sort.pl line 104.\n",
      "Argument \"\" isn't numeric in sort at /home/anjuni/myapps/gff3sort/gff3sort.pl line 104.\n",
      "Argument \"\" isn't numeric in sort at /home/anjuni/myapps/gff3sort/gff3sort.pl line 104.\n",
      "Argument \"\" isn't numeric in sort at /home/anjuni/myapps/gff3sort/gff3sort.pl line 104.\n",
      "Argument \"\" isn't numeric in sort at /home/anjuni/myapps/gff3sort/gff3sort.pl line 104.\n",
      "Argument \"\" isn't numeric in sort at /home/anjuni/myapps/gff3sort/gff3sort.pl line 104.\n"
     ]
    }
   ],
   "source": [
    "# Make the genome size file for windows\n",
    "!samtools faidx /home/anjuni/Pst_104_v13_assembly/Pst_104E_v13_ph_ctg.fa\n",
    "!cut -f 1,2 /home/anjuni/Pst_104_v13_assembly/Pst_104E_v13_ph_ctg.fa.fai > /home/anjuni/analysis/gff_output/Pst_104E_v13_ph_ctg.genome_file\n",
    "# Note: this does put the p contig values before h contig ones, while annotation files put h contig before p contig\n",
    "# May be a problem in the future but probs not\n",
    "# Sorted it anyway below, as reference genome fasta had contigs in that order arbitrarily:\n",
    "!/home/anjuni/myapps/gff3sort/gff3sort.pl /home/anjuni/analysis/gff_output/Pst_104E_v13_ph_ctg.genome_file >  /home/anjuni/analysis/gff_output/Pst_104E_v13_ph_ctg.sorted.genome_file"
   ]
  },
  {
   "cell_type": "code",
   "execution_count": 7,
   "metadata": {},
   "outputs": [],
   "source": [
    "# Define all file paths for window BED files\n",
    "window_fn_dict = {}\n",
    "window_bed_dict = {}\n",
    "#window_fn_dict['100kb'] = os.path.join(DIRS['WINDOW_OUTPUT'], 'Pst_104E_v13_ph_ctg_w100kb.bed')\n",
    "#window_fn_dict['30kb'] = os.path.join(DIRS['WINDOW_OUTPUT'], 'Pst_104E_v13_ph_ctg_w30kb.bed')\n",
    "window_fn_dict['10kb'] = os.path.join(DIRS['WINDOW_OUTPUT'], 'Pst_104E_v13_ph_ctg_w10kb.bed')\n",
    "#window_fn_dict['100kb_s20kb'] = os.path.join(DIRS['WINDOW_OUTPUT'], 'Pst_104E_v13_ph_ctg_w100kb_s20kb.bed')\n",
    "#window_fn_dict['30kb_s6kb'] = os.path.join(DIRS['WINDOW_OUTPUT'], 'Pst_104E_v13_ph_ctg_w30kb_s6kb.bed')\n",
    "window_fn_dict['10kb_s2kb'] = os.path.join(DIRS['WINDOW_OUTPUT'], 'Pst_104E_v13_ph_ctg_w10kb_s2kb.bed')\n",
    "genome_size_f_fn = os.path.join(DIRS['WINDOW_INPUT'], 'Pst_104E_v13_ph_ctg.sorted.genome_file')"
   ]
  },
  {
   "cell_type": "code",
   "execution_count": 23,
   "metadata": {
    "collapsed": true
   },
   "outputs": [
    {
     "name": "stdout",
     "output_type": "stream",
     "text": [
      "{'10kb': '/home/anjuni/analysis/windows/Pst_104E_v13_ph_ctg_w10kb.bed',\n",
      " '10kb_s2kb': '/home/anjuni/analysis/windows/Pst_104E_v13_ph_ctg_w10kb_s2kb.bed'}\n"
     ]
    }
   ],
   "source": [
    "# Check whether the dictionary looks nice :) (it does!) :D\n",
    "pprint.pprint(window_fn_dict)"
   ]
  },
  {
   "cell_type": "code",
   "execution_count": 73,
   "metadata": {},
   "outputs": [],
   "source": [
    "# Make the actual windows! :D\n",
    "#!bedtools makewindows -g {genome_size_f_fn} -w 100000 > {window_fn_dict['100kb']}\n",
    "#!bedtools makewindows -g {genome_size_f_fn} -w 30000 > {window_fn_dict['30kb']}\n",
    "!bedtools makewindows -g {genome_size_f_fn} -w 10000 > {window_fn_dict['10kb']}"
   ]
  },
  {
   "cell_type": "code",
   "execution_count": 10,
   "metadata": {},
   "outputs": [],
   "source": [
    "# Make sliding windows\n",
    "#!bedtools makewindows -g {genome_size_f_fn} -w 100000 -s 20000 > {window_fn_dict['100kb_s20kb']}\n",
    "#!bedtools makewindows -g {genome_size_f_fn} -w 30000 -s 6000 > {window_fn_dict['30kb_s6kb']}\n",
    "!bedtools makewindows -g {genome_size_f_fn} -w 10000 -s 2000 > {window_fn_dict['10kb_s2kb']}"
   ]
  },
  {
   "cell_type": "code",
   "execution_count": 1,
   "metadata": {},
   "outputs": [],
   "source": [
    "# Function to easily convert the values in the file name dict into bedtools objects\n",
    "def make_bed_dict(fn_dict):\n",
    "    \"\"\"Takes an input filename dictionary and outputs a dictionary of pybedtools objects for the filenames.\"\"\"\n",
    "    bed_dict = {}\n",
    "    for key, value in fn_dict.items():      \n",
    "        bed_dict[key] = BedTool(value)\n",
    "    return bed_dict"
   ]
  },
  {
   "cell_type": "code",
   "execution_count": 15,
   "metadata": {},
   "outputs": [],
   "source": [
    "#new make a bedtools window dataframe\n",
    "window_bed_dict = make_bed_dict(window_fn_dict)"
   ]
  },
  {
   "cell_type": "code",
   "execution_count": 16,
   "metadata": {},
   "outputs": [
    {
     "name": "stdout",
     "output_type": "stream",
     "text": [
      "{'10kb': <BedTool(/home/anjuni/analysis/windows/Pst_104E_v13_ph_ctg_w10kb.bed)>,\n",
      " '10kb_s2kb': <BedTool(/home/anjuni/analysis/windows/Pst_104E_v13_ph_ctg_w10kb_s2kb.bed)>}\n"
     ]
    }
   ],
   "source": [
    "# Check whether the bed file dictionary looks nice :) (it does!) :D\n",
    "pprint.pprint(window_bed_dict)"
   ]
  },
  {
   "cell_type": "markdown",
   "metadata": {},
   "source": [
    "## <span style='color:#148aff'> 5. Coverage analysis of methylation with gene annotation files. <span/>"
   ]
  },
  {
   "cell_type": "markdown",
   "metadata": {},
   "source": [
    "### <span style='color:#148aff'> 5.A Make feature files of effector proteins, non-effectors, genes, BUSCO genes and TE superfamilies. <span/>"
   ]
  },
  {
   "cell_type": "code",
   "execution_count": 17,
   "metadata": {
    "collapsed": true
   },
   "outputs": [
    {
     "name": "stderr",
     "output_type": "stream",
     "text": [
      "--2018-08-07 15:30:17--  https://raw.githubusercontent.com/BenjaminSchwessinger/Pst_104_E137_A-_genome/master/supplemental_files/Supplemental_file_9.txt\n",
      "Resolving raw.githubusercontent.com (raw.githubusercontent.com)... 151.101.80.133\n",
      "Connecting to raw.githubusercontent.com (raw.githubusercontent.com)|151.101.80.133|:443... connected.\n",
      "HTTP request sent, awaiting response... 200 OK\n",
      "Length: 49295 (48K) [text/plain]\n",
      "Saving to: 'Supplemental_file_9.txt’\n",
      "\n",
      "     0K .......... .......... .......... .......... ........  100% 2.80M=0.02s\n",
      "\n",
      "2018-08-07 15:30:22 (2.80 MB/s) - 'Supplemental_file_9.txt’ saved [49295/49295]\n",
      "\n"
     ]
    }
   ],
   "source": [
    "%%bash\n",
    "# Downloading the effector file (need raw version with only the file)\n",
    "cd /home/anjuni/analysis/input_for_windows\n",
    "wget https://raw.githubusercontent.com/BenjaminSchwessinger/Pst_104_E137_A-_genome/master/supplemental_files/Supplemental_file_9.txt\n",
    "mv Supplemental_file_9.txt Candidate_effectors.txt"
   ]
  },
  {
   "cell_type": "code",
   "execution_count": 24,
   "metadata": {},
   "outputs": [],
   "source": [
    "# Make a GFF file of effector proteins\n",
    "\n",
    "# First extract all lines with genes (not exon or CDS) from the gene annotation file\n",
    "! grep 'gene' /home/anjuni/analysis/gff_output/Pst_104E_v13_ph_ctg.anno.sorted.gff3 > /home/anjuni/analysis/gff_output/Pst_104E_v13_ph_ctg.anno.sorted.genes_only.gff3"
   ]
  },
  {
   "cell_type": "code",
   "execution_count": 17,
   "metadata": {},
   "outputs": [],
   "source": [
    "# Then extract the effector lines from the gene file\n",
    "\n",
    "# First write grep function for python\n",
    "import fileinput\n",
    "import re\n",
    "import glob\n",
    "\n",
    "def grep(PAT, FILES):\n",
    "    \"\"\"Same function as 'grep' in bash.\"\"\"\n",
    "    fileinput.close() # close the file in case the iterable was previously open to prevent the \"input() already active\" error\n",
    "    for line in fileinput.input(glob.glob(FILES)):\n",
    "        if re.search(PAT, line):\n",
    "            #print(fileinput.filename(), fileinput.lineno(), line)\n",
    "            return line\n",
    "    fileinput.close()\n",
    "\n",
    "# Write function for filtering effectors from gene file using grep            \n",
    "def make_effector_gff(effector_list, gene_gff, out_gff):\n",
    "    \"\"\"Get effector protein features out of gene annotation files.\"\"\"\n",
    "    with open(out_gff, mode = 'w') as out_file:\n",
    "        for effector in effector_list:\n",
    "            print(grep(effector, gene_gff), file = out_file)\n",
    "        \n",
    "# And make a list of effectors\n",
    "def make_effector_list(input_file):\n",
    "    list_name = []\n",
    "    with open(input_file) as file:\n",
    "        for line in file:\n",
    "            line = line.strip()\n",
    "            list_name.append(line)\n",
    "    return list_name"
   ]
  },
  {
   "cell_type": "code",
   "execution_count": 18,
   "metadata": {},
   "outputs": [],
   "source": [
    "# Make the effector list\n",
    "effectors = make_effector_list('/home/anjuni/analysis/input_for_windows/Candidate_effectors.txt')"
   ]
  },
  {
   "cell_type": "code",
   "execution_count": 19,
   "metadata": {
    "collapsed": true
   },
   "outputs": [
    {
     "name": "stdout",
     "output_type": "stream",
     "text": [
      "['evm.TU.pcontig_058.72', 'evm.TU.pcontig_017.202', 'evm.TU.pcontig_010.332', 'evm.TU.pcontig_010.240', 'evm.TU.pcontig_031.123', 'evm.TU.pcontig_008.86', 'evm.TU.pcontig_050.77', 'evm.TU.pcontig_016.165', 'evm.TU.pcontig_037.43', 'evm.TU.pcontig_007.151', 'evm.TU.pcontig_030.240', 'evm.TU.pcontig_078.71', 'evm.TU.pcontig_052.152', 'evm.TU.pcontig_157.8', 'evm.TU.pcontig_037.109', 'evm.TU.pcontig_005.418', 'evm.TU.pcontig_062.104', 'evm.TU.pcontig_010.352', 'evm.TU.pcontig_013.247', 'evm.TU.pcontig_064.41', 'evm.TU.pcontig_062.26', 'evm.TU.pcontig_026.251', 'evm.TU.pcontig_005.10', 'evm.TU.pcontig_013.152', 'evm.TU.pcontig_036.154', 'evm.TU.pcontig_003.543', 'evm.TU.pcontig_004.284', 'evm.TU.pcontig_005.98', 'evm.TU.pcontig_004.435', 'evm.TU.pcontig_002.333', 'evm.TU.pcontig_000.679', 'evm.TU.pcontig_011.263', 'evm.TU.pcontig_051.51', 'evm.TU.pcontig_004.18', 'evm.TU.pcontig_017.200', 'evm.TU.pcontig_011.238', 'evm.TU.pcontig_026.59', 'evm.TU.pcontig_165.8', 'evm.TU.pcontig_010.220', 'evm.TU.pcontig_008.30', 'evm.TU.pcontig_034.86', 'evm.TU.pcontig_039.36', 'evm.TU.pcontig_081.24', 'evm.TU.pcontig_047.89', 'evm.TU.pcontig_004.372', 'evm.TU.pcontig_011.209', 'evm.TU.pcontig_031.96', 'evm.TU.pcontig_004.73', 'evm.TU.pcontig_005.6', 'evm.TU.pcontig_029.231', 'evm.TU.pcontig_067.93', 'evm.TU.pcontig_018.283', 'evm.TU.pcontig_012.177', 'evm.TU.pcontig_062.72', 'evm.TU.pcontig_013.239', 'evm.TU.pcontig_026.127', 'evm.TU.pcontig_057.77', 'evm.TU.pcontig_060.37', 'evm.TU.pcontig_000.378', 'evm.TU.pcontig_017.82', 'evm.TU.pcontig_054.116', 'evm.TU.pcontig_011.292', 'evm.TU.pcontig_010.331', 'evm.TU.pcontig_003.522', 'evm.TU.pcontig_000.9', 'evm.TU.pcontig_043.63', 'evm.TU.pcontig_001.83', 'evm.TU.pcontig_003.336', 'evm.TU.pcontig_004.448', 'evm.TU.pcontig_006.472', 'evm.TU.pcontig_054.91', 'evm.TU.pcontig_042.4', 'evm.TU.pcontig_001.104', 'evm.TU.pcontig_077.44', 'evm.TU.pcontig_035.203', 'evm.TU.pcontig_009.2', 'evm.TU.pcontig_078.38', 'evm.TU.pcontig_041.98', 'evm.TU.pcontig_035.202', 'evm.TU.pcontig_000.332', 'evm.TU.pcontig_103.24', 'evm.TU.pcontig_088.55', 'evm.TU.pcontig_023.5', 'evm.TU.pcontig_003.243', 'evm.TU.pcontig_006.391', 'evm.TU.pcontig_081.60', 'evm.TU.pcontig_045.135', 'evm.TU.pcontig_034.138', 'evm.TU.pcontig_001.635', 'evm.TU.pcontig_000.276', 'evm.TU.pcontig_001.231', 'evm.TU.pcontig_035.50', 'evm.TU.pcontig_002.431', 'evm.TU.pcontig_040.105', 'evm.TU.pcontig_031.122', 'evm.TU.pcontig_043.31', 'evm.TU.pcontig_005.289', 'evm.TU.pcontig_013.164', 'evm.TU.pcontig_025.161', 'evm.TU.pcontig_003.521', 'evm.TU.pcontig_031.159', 'evm.TU.pcontig_002.131', 'evm.TU.pcontig_001.413', 'evm.TU.pcontig_035.91', 'evm.TU.pcontig_005.394', 'evm.TU.pcontig_020.67', 'evm.TU.pcontig_059.17', 'evm.TU.pcontig_005.91', 'evm.TU.pcontig_003.367', 'evm.TU.pcontig_006.290', 'evm.TU.pcontig_004.124', 'evm.TU.pcontig_019.233', 'evm.TU.pcontig_078.60', 'evm.TU.pcontig_035.81', 'evm.TU.pcontig_039.87', 'evm.TU.pcontig_002.303', 'evm.TU.pcontig_007.308', 'evm.TU.pcontig_003.254', 'evm.TU.pcontig_000.588', 'evm.TU.pcontig_062.61', 'evm.TU.pcontig_003.248', 'evm.TU.pcontig_008.171', 'evm.TU.pcontig_004.168', 'evm.TU.pcontig_041.20', 'evm.TU.pcontig_010.73', 'evm.TU.pcontig_020.216', 'evm.TU.pcontig_066.71', 'evm.TU.pcontig_103.12', 'evm.TU.pcontig_036.43', 'evm.TU.pcontig_060.11', 'evm.TU.pcontig_045.45', 'evm.TU.pcontig_005.294', 'evm.TU.pcontig_001.634', 'evm.TU.pcontig_090.13', 'evm.TU.pcontig_008.343', 'evm.TU.pcontig_033.73', 'evm.TU.pcontig_046.162', 'evm.TU.pcontig_186.7', 'evm.TU.pcontig_026.142', 'evm.TU.pcontig_042.130', 'evm.TU.pcontig_003.477', 'evm.TU.pcontig_016.119', 'evm.TU.pcontig_036.173', 'evm.TU.pcontig_052.57', 'evm.TU.pcontig_021.282', 'evm.TU.pcontig_025.121', 'evm.TU.pcontig_186.2', 'evm.TU.pcontig_080.58', 'evm.TU.pcontig_051.48', 'evm.TU.pcontig_055.16', 'evm.TU.pcontig_044.4', 'evm.TU.pcontig_023.234', 'evm.TU.pcontig_031.79', 'evm.TU.pcontig_016.198', 'evm.TU.pcontig_001.188', 'evm.TU.pcontig_002.119', 'evm.TU.pcontig_001.274', 'evm.TU.pcontig_044.143', 'evm.TU.pcontig_045.148', 'evm.TU.pcontig_034.173', 'evm.TU.pcontig_066.98', 'evm.TU.pcontig_006.461', 'evm.TU.pcontig_016.164', 'evm.TU.pcontig_010.270', 'evm.TU.pcontig_014.285', 'evm.TU.pcontig_054.58', 'evm.TU.pcontig_007.141', 'evm.TU.pcontig_069.3', 'evm.TU.pcontig_020.63', 'evm.TU.pcontig_083.49', 'evm.TU.pcontig_057.65', 'evm.TU.pcontig_078.34', 'evm.TU.pcontig_006.278', 'evm.TU.pcontig_035.27', 'evm.TU.pcontig_021.323', 'evm.TU.pcontig_035.80', 'evm.TU.pcontig_004.58', 'evm.TU.pcontig_023.10', 'evm.TU.pcontig_037.206', 'evm.TU.pcontig_083.37', 'evm.TU.pcontig_035.174', 'evm.TU.pcontig_045.51', 'evm.TU.pcontig_002.229', 'evm.TU.pcontig_037.208', 'evm.TU.pcontig_019.159', 'evm.TU.pcontig_001.270', 'evm.TU.pcontig_067.57', 'evm.TU.pcontig_029.97', 'evm.TU.pcontig_034.199', 'evm.TU.pcontig_033.216', 'evm.TU.pcontig_050.102', 'evm.TU.pcontig_007.23', 'evm.TU.pcontig_022.261', 'evm.TU.pcontig_047.141', 'evm.TU.pcontig_014.124', 'evm.TU.pcontig_003.402', 'evm.TU.pcontig_031.81', 'evm.TU.pcontig_018.303', 'evm.TU.pcontig_031.60', 'evm.TU.pcontig_040.135', 'evm.TU.pcontig_022.129', 'evm.TU.pcontig_057.106', 'evm.TU.pcontig_011.242', 'evm.TU.pcontig_087.7', 'evm.TU.pcontig_047.54', 'evm.TU.pcontig_018.273', 'evm.TU.pcontig_039.37', 'evm.TU.pcontig_000.558', 'evm.TU.pcontig_016.175', 'evm.TU.pcontig_049.130', 'evm.TU.pcontig_017.126', 'evm.TU.pcontig_009.138', 'evm.TU.pcontig_010.281', 'evm.TU.pcontig_087.16', 'evm.TU.pcontig_081.30', 'evm.TU.pcontig_028.9', 'evm.TU.pcontig_029.34', 'evm.TU.pcontig_036.75', 'evm.TU.pcontig_001.622', 'evm.TU.pcontig_013.140', 'evm.TU.pcontig_002.202', 'evm.TU.pcontig_007.424', 'evm.TU.pcontig_041.56', 'evm.TU.pcontig_070.24', 'evm.TU.pcontig_003.523', 'evm.TU.pcontig_012.238', 'evm.TU.pcontig_007.421', 'evm.TU.pcontig_021.128', 'evm.TU.pcontig_015.10', 'evm.TU.pcontig_081.53', 'evm.TU.pcontig_036.29', 'evm.TU.pcontig_017.150', 'evm.TU.pcontig_009.232', 'evm.TU.pcontig_049.79', 'evm.TU.pcontig_009.158', 'evm.TU.pcontig_157.3', 'evm.TU.pcontig_044.13', 'evm.TU.pcontig_019.202', 'evm.TU.pcontig_012.138', 'evm.TU.pcontig_010.253', 'evm.TU.pcontig_021.259', 'evm.TU.pcontig_078.2', 'evm.TU.pcontig_004.388', 'evm.TU.pcontig_006.329', 'evm.TU.pcontig_017.151', 'evm.TU.pcontig_001.3', 'evm.TU.pcontig_002.449', 'evm.TU.pcontig_020.164', 'evm.TU.pcontig_003.328', 'evm.TU.pcontig_007.390', 'evm.TU.pcontig_000.306', 'evm.TU.pcontig_008.257', 'evm.TU.pcontig_025.165', 'evm.TU.pcontig_022.198', 'evm.TU.pcontig_056.46', 'evm.TU.pcontig_005.33', 'evm.TU.pcontig_009.222', 'evm.TU.pcontig_054.89', 'evm.TU.pcontig_040.148', 'evm.TU.pcontig_148.9', 'evm.TU.pcontig_035.208', 'evm.TU.pcontig_014.101', 'evm.TU.pcontig_041.99', 'evm.TU.pcontig_006.507', 'evm.TU.pcontig_018.118', 'evm.TU.pcontig_044.168', 'evm.TU.pcontig_004.437', 'evm.TU.pcontig_010.376', 'evm.TU.pcontig_019.168', 'evm.TU.pcontig_057.82', 'evm.TU.pcontig_028.113', 'evm.TU.pcontig_004.13', 'evm.TU.pcontig_010.254', 'evm.TU.pcontig_005.186', 'evm.TU.pcontig_027.41', 'evm.TU.pcontig_092.34', 'evm.TU.pcontig_002.204', 'evm.TU.pcontig_027.222', 'evm.TU.pcontig_001.568', 'evm.TU.pcontig_060.94', 'evm.TU.pcontig_014.138', 'evm.TU.pcontig_001.252', 'evm.TU.pcontig_044.100', 'evm.TU.pcontig_067.43', 'evm.TU.pcontig_020.47', 'evm.TU.pcontig_188.6', 'evm.TU.pcontig_049.133', 'evm.TU.pcontig_065.77', 'evm.TU.pcontig_001.638', 'evm.TU.pcontig_000.612', 'evm.TU.pcontig_009.218', 'evm.TU.pcontig_065.36', 'evm.TU.pcontig_028.71', 'evm.TU.pcontig_018.160', 'evm.TU.pcontig_068.8', 'evm.TU.pcontig_003.335', 'evm.TU.pcontig_021.253', 'evm.TU.pcontig_043.127', 'evm.TU.pcontig_062.15', 'evm.TU.pcontig_022.20', 'evm.TU.pcontig_021.154', 'evm.TU.pcontig_073.8', 'evm.TU.pcontig_005.4', 'evm.TU.pcontig_006.35', 'evm.TU.pcontig_010.234', 'evm.TU.pcontig_050.92', 'evm.TU.pcontig_003.544', 'evm.TU.pcontig_012.136', 'evm.TU.pcontig_035.62', 'evm.TU.pcontig_031.167', 'evm.TU.pcontig_004.26', 'evm.TU.pcontig_048.65', 'evm.TU.pcontig_019.238', 'evm.TU.pcontig_023.182', 'evm.TU.pcontig_042.129', 'evm.TU.pcontig_034.193', 'evm.TU.pcontig_003.366', 'evm.TU.pcontig_078.33', 'evm.TU.pcontig_008.362', 'evm.TU.pcontig_059.50', 'evm.TU.pcontig_023.212', 'evm.TU.pcontig_007.418', 'evm.TU.pcontig_070.73', 'evm.TU.pcontig_050.3', 'evm.TU.pcontig_011.143', 'evm.TU.pcontig_003.387', 'evm.TU.pcontig_006.2', 'evm.TU.pcontig_073.54', 'evm.TU.pcontig_004.19', 'evm.TU.pcontig_078.67', 'evm.TU.pcontig_041.173', 'evm.TU.pcontig_022.163', 'evm.TU.pcontig_004.27', 'evm.TU.pcontig_002.40', 'evm.TU.pcontig_021.181', 'evm.TU.pcontig_010.250', 'evm.TU.pcontig_010.231', 'evm.TU.pcontig_048.111', 'evm.TU.pcontig_007.84', 'evm.TU.pcontig_022.281', 'evm.TU.pcontig_022.245', 'evm.TU.pcontig_010.25', 'evm.TU.pcontig_021.222', 'evm.TU.pcontig_075.10', 'evm.TU.pcontig_002.453', 'evm.TU.pcontig_021.341', 'evm.TU.pcontig_001.298', 'evm.TU.pcontig_005.258', 'evm.TU.pcontig_049.42', 'evm.TU.pcontig_042.179', 'evm.TU.pcontig_026.70', 'evm.TU.pcontig_023.99', 'evm.TU.pcontig_056.59', 'evm.TU.pcontig_021.93', 'evm.TU.pcontig_030.54', 'evm.TU.pcontig_017.78', 'evm.TU.pcontig_003.506', 'evm.TU.pcontig_013.290', 'evm.TU.pcontig_017.85', 'evm.TU.pcontig_049.75', 'evm.TU.pcontig_057.76', 'evm.TU.pcontig_037.215', 'evm.TU.pcontig_081.62', 'evm.TU.pcontig_019.310', 'evm.TU.pcontig_003.218', 'evm.TU.pcontig_022.194', 'evm.TU.pcontig_001.518', 'evm.TU.pcontig_002.315', 'evm.TU.pcontig_087.6', 'evm.TU.pcontig_010.239', 'evm.TU.pcontig_043.29', 'evm.TU.pcontig_001.4', 'evm.TU.pcontig_033.240', 'evm.TU.pcontig_003.487', 'evm.TU.pcontig_188.5', 'evm.TU.pcontig_047.114', 'evm.TU.pcontig_006.13', 'evm.TU.pcontig_005.453', 'evm.TU.pcontig_072.78', 'evm.TU.pcontig_018.164', 'evm.TU.pcontig_034.143', 'evm.TU.pcontig_002.246', 'evm.TU.pcontig_031.184', 'evm.TU.pcontig_022.160', 'evm.TU.pcontig_033.221', 'evm.TU.pcontig_089.47', 'evm.TU.pcontig_062.79', 'evm.TU.pcontig_203.6', 'evm.TU.pcontig_086.52', 'evm.TU.pcontig_019.57', 'evm.TU.pcontig_060.95', 'evm.TU.pcontig_022.238', 'evm.TU.pcontig_019.31', 'evm.TU.pcontig_000.112', 'evm.TU.pcontig_057.66', 'evm.TU.pcontig_006.361', 'evm.TU.pcontig_017.154', 'evm.TU.pcontig_035.165', 'evm.TU.pcontig_043.14', 'evm.TU.pcontig_078.48', 'evm.TU.pcontig_008.159', 'evm.TU.pcontig_016.196', 'evm.TU.pcontig_027.132', 'evm.TU.pcontig_002.423', 'evm.TU.pcontig_024.10', 'evm.TU.pcontig_012.61', 'evm.TU.pcontig_010.271', 'evm.TU.pcontig_031.187', 'evm.TU.pcontig_044.92', 'evm.TU.pcontig_018.127', 'evm.TU.pcontig_035.67', 'evm.TU.pcontig_041.33', 'evm.TU.pcontig_003.524', 'evm.TU.pcontig_062.50', 'evm.TU.pcontig_002.407', 'evm.TU.pcontig_036.57', 'evm.TU.pcontig_046.161', 'evm.TU.pcontig_058.22', 'evm.TU.pcontig_058.23', 'evm.TU.pcontig_001.363', 'evm.TU.pcontig_023.158', 'evm.TU.pcontig_003.179', 'evm.TU.pcontig_010.65', 'evm.TU.pcontig_077.13', 'evm.TU.pcontig_120.23', 'evm.TU.pcontig_041.15', 'evm.TU.pcontig_067.39', 'evm.TU.pcontig_003.388', 'evm.TU.pcontig_046.113', 'evm.TU.pcontig_022.189', 'evm.TU.pcontig_013.157', 'evm.TU.pcontig_010.168', 'evm.TU.pcontig_002.562', 'evm.TU.pcontig_020.329', 'evm.TU.pcontig_020.182', 'evm.TU.pcontig_027.211', 'evm.TU.pcontig_004.190', 'evm.TU.pcontig_002.332', 'evm.TU.pcontig_041.2', 'evm.TU.pcontig_031.174', 'evm.TU.pcontig_012.63', 'evm.TU.pcontig_001.365', 'evm.TU.pcontig_004.165', 'evm.TU.pcontig_010.255', 'evm.TU.pcontig_029.139', 'evm.TU.pcontig_007.10', 'evm.TU.pcontig_003.162', 'evm.TU.pcontig_066.1', 'evm.TU.pcontig_002.403', 'evm.TU.pcontig_009.12', 'evm.TU.pcontig_078.45', 'evm.TU.pcontig_012.122', 'evm.TU.pcontig_040.19', 'evm.TU.pcontig_021.320', 'evm.TU.pcontig_003.217', 'evm.TU.pcontig_070.1', 'evm.TU.pcontig_003.547', 'evm.TU.pcontig_235.7', 'evm.TU.pcontig_077.55', 'evm.TU.pcontig_000.421', 'evm.TU.pcontig_002.92', 'evm.TU.pcontig_030.121', 'evm.TU.pcontig_041.148', 'evm.TU.pcontig_035.179', 'evm.TU.pcontig_036.81', 'evm.TU.pcontig_067.100', 'evm.TU.pcontig_036.221', 'evm.TU.pcontig_037.110', 'evm.TU.pcontig_002.34', 'evm.TU.pcontig_001.378', 'evm.TU.pcontig_037.27', 'evm.TU.pcontig_005.126', 'evm.TU.pcontig_049.69', 'evm.TU.pcontig_044.74', 'evm.TU.pcontig_001.611', 'evm.TU.pcontig_005.495', 'evm.TU.pcontig_046.131', 'evm.TU.pcontig_013.49', 'evm.TU.pcontig_003.427', 'evm.TU.pcontig_023.223', 'evm.TU.pcontig_059.33', 'evm.TU.pcontig_014.113', 'evm.TU.pcontig_041.38', 'evm.TU.pcontig_037.112', 'evm.TU.pcontig_001.85', 'evm.TU.pcontig_027.163', 'evm.TU.pcontig_030.66', 'evm.TU.pcontig_005.461', 'evm.TU.pcontig_028.215', 'evm.TU.pcontig_028.216', 'evm.TU.pcontig_000.624', 'evm.TU.pcontig_001.644', 'evm.TU.pcontig_044.99', 'evm.TU.pcontig_040.168', 'evm.TU.pcontig_034.155', 'evm.TU.pcontig_010.74', 'evm.TU.pcontig_067.45', 'evm.TU.pcontig_002.529', 'evm.TU.pcontig_014.131', 'evm.TU.pcontig_035.83', 'evm.TU.pcontig_023.6', 'evm.TU.pcontig_036.164', 'evm.TU.pcontig_092.8', 'evm.TU.pcontig_058.64', 'evm.TU.pcontig_041.125', 'evm.TU.pcontig_009.126', 'evm.TU.pcontig_027.164', 'evm.TU.pcontig_086.22', 'evm.TU.pcontig_041.14', 'evm.TU.pcontig_037.137', 'evm.TU.pcontig_027.202', 'evm.TU.pcontig_060.97', 'evm.TU.pcontig_020.163', 'evm.TU.pcontig_011.364', 'evm.TU.pcontig_027.256', 'evm.TU.pcontig_044.165', 'evm.TU.pcontig_000.454', 'evm.TU.pcontig_002.316', 'evm.TU.pcontig_001.381', 'evm.TU.pcontig_000.448', 'evm.TU.pcontig_011.326', 'evm.TU.pcontig_104.47', 'evm.TU.pcontig_054.59', 'evm.TU.pcontig_028.214', 'evm.TU.pcontig_039.97', 'evm.TU.pcontig_011.148', 'evm.TU.pcontig_091.55', 'evm.TU.pcontig_052.58', 'evm.TU.pcontig_080.57', 'evm.TU.pcontig_004.142', 'evm.TU.pcontig_046.127', 'evm.TU.pcontig_026.74', 'evm.TU.pcontig_017.3', 'evm.TU.pcontig_001.570', 'evm.TU.pcontig_037.63', 'evm.TU.pcontig_050.69', 'evm.TU.pcontig_056.82', 'evm.TU.pcontig_097.21', 'evm.TU.pcontig_059.93', 'evm.TU.pcontig_010.132', 'evm.TU.pcontig_034.95', 'evm.TU.pcontig_017.322', 'evm.TU.pcontig_007.113', 'evm.TU.pcontig_037.70', 'evm.TU.pcontig_018.292', 'evm.TU.pcontig_022.114', 'evm.TU.pcontig_016.91', 'evm.TU.pcontig_004.35', 'evm.TU.pcontig_003.255', 'evm.TU.pcontig_055.8', 'evm.TU.pcontig_029.113', 'evm.TU.pcontig_000.508', 'evm.TU.pcontig_067.20', 'evm.TU.pcontig_003.154', 'evm.TU.pcontig_009.236', 'evm.TU.pcontig_021.197', 'evm.TU.pcontig_007.405', 'evm.TU.pcontig_040.176', 'evm.TU.pcontig_036.73', 'evm.TU.pcontig_054.66', 'evm.TU.pcontig_013.238', 'evm.TU.pcontig_010.217', 'evm.TU.pcontig_010.351', 'evm.TU.pcontig_012.101', 'evm.TU.pcontig_091.47', 'evm.TU.pcontig_029.62', 'evm.TU.pcontig_011.210', 'evm.TU.pcontig_021.117', 'evm.TU.pcontig_048.109', 'evm.TU.pcontig_059.65', 'evm.TU.pcontig_017.9', 'evm.TU.pcontig_082.54', 'evm.TU.pcontig_026.128', 'evm.TU.pcontig_030.181', 'evm.TU.pcontig_045.68', 'evm.TU.pcontig_002.536', 'evm.TU.pcontig_004.53', 'evm.TU.pcontig_103.22', 'evm.TU.pcontig_004.214', 'evm.TU.pcontig_047.55', 'evm.TU.pcontig_057.61', 'evm.TU.pcontig_021.108', 'evm.TU.pcontig_041.147', 'evm.TU.pcontig_016.157', 'evm.TU.pcontig_035.170', 'evm.TU.pcontig_001.7', 'evm.TU.pcontig_048.112', 'evm.TU.pcontig_009.164', 'evm.TU.pcontig_020.79', 'evm.TU.pcontig_012.266', 'evm.TU.pcontig_029.140', 'evm.TU.pcontig_057.51', 'evm.TU.pcontig_007.180', 'evm.TU.pcontig_173.4', 'evm.TU.pcontig_000.423', 'evm.TU.pcontig_018.197', 'evm.TU.pcontig_028.131', 'evm.TU.pcontig_002.151', 'evm.TU.pcontig_027.205', 'evm.TU.pcontig_019.30', 'evm.TU.pcontig_012.246', 'evm.TU.pcontig_019.47', 'evm.TU.pcontig_002.223', 'evm.TU.pcontig_052.170', 'evm.TU.pcontig_001.613', 'evm.TU.pcontig_013.289', 'evm.TU.pcontig_001.463', 'evm.TU.pcontig_010.304', 'evm.TU.pcontig_003.365', 'evm.TU.pcontig_089.21', 'evm.TU.pcontig_003.140', 'evm.TU.pcontig_033.179', 'evm.TU.pcontig_017.84', 'evm.TU.pcontig_003.208', 'evm.TU.pcontig_001.371', 'evm.TU.pcontig_042.31', 'evm.TU.pcontig_019.49', 'evm.TU.pcontig_002.538', 'evm.TU.pcontig_013.279', 'evm.TU.pcontig_023.265', 'evm.TU.pcontig_060.10', 'evm.TU.pcontig_010.282', 'evm.TU.pcontig_062.23', 'evm.TU.pcontig_028.94', 'evm.TU.pcontig_001.583', 'evm.TU.pcontig_044.167', 'evm.TU.pcontig_031.189', 'evm.TU.pcontig_013.210', 'evm.TU.pcontig_041.104', 'evm.TU.pcontig_029.120', 'evm.TU.pcontig_018.82', 'evm.TU.pcontig_008.209', 'evm.TU.pcontig_010.309', 'evm.TU.pcontig_037.187', 'evm.TU.pcontig_014.115', 'evm.TU.pcontig_035.163', 'evm.TU.pcontig_021.47', 'evm.TU.pcontig_060.14', 'evm.TU.pcontig_008.133', 'evm.TU.pcontig_030.182', 'evm.TU.pcontig_027.248', 'evm.TU.pcontig_017.225', 'evm.TU.pcontig_035.70', 'evm.TU.pcontig_022.81', 'evm.TU.pcontig_014.128', 'evm.TU.pcontig_046.3', 'evm.TU.pcontig_007.226', 'evm.TU.pcontig_059.13', 'evm.TU.pcontig_147.9', 'evm.TU.pcontig_011.153', 'evm.TU.pcontig_003.236', 'evm.TU.pcontig_018.280', 'evm.TU.pcontig_035.68', 'evm.TU.pcontig_055.17', 'evm.TU.pcontig_010.295', 'evm.TU.pcontig_008.322', 'evm.TU.pcontig_040.165', 'evm.TU.pcontig_062.78', 'evm.TU.pcontig_006.108', 'evm.TU.pcontig_037.203', 'evm.TU.pcontig_040.81', 'evm.TU.pcontig_170.3', 'evm.TU.pcontig_013.311', 'evm.TU.pcontig_039.177', 'evm.TU.pcontig_031.110', 'evm.TU.pcontig_012.4', 'evm.TU.pcontig_022.143', 'evm.TU.pcontig_029.205', 'evm.TU.pcontig_059.118', 'evm.TU.pcontig_007.422', 'evm.TU.pcontig_012.175', 'evm.TU.pcontig_050.19', 'evm.TU.pcontig_001.636', 'evm.TU.pcontig_026.56', 'evm.TU.pcontig_014.85', 'evm.TU.pcontig_059.21', 'evm.TU.pcontig_003.403', 'evm.TU.pcontig_039.28', 'evm.TU.pcontig_000.562', 'evm.TU.pcontig_043.15', 'evm.TU.pcontig_003.479', 'evm.TU.pcontig_019.50', 'evm.TU.pcontig_034.218', 'evm.TU.pcontig_023.73', 'evm.TU.pcontig_009.136', 'evm.TU.pcontig_027.51', 'evm.TU.pcontig_115.25', 'evm.TU.pcontig_019.197', 'evm.TU.pcontig_022.76', 'evm.TU.pcontig_000.3', 'evm.TU.pcontig_040.159', 'evm.TU.pcontig_013.215', 'evm.TU.pcontig_007.154', 'evm.TU.pcontig_062.84', 'evm.TU.pcontig_016.64', 'evm.TU.pcontig_046.124', 'evm.TU.pcontig_025.75', 'evm.TU.pcontig_078.66', 'evm.TU.pcontig_035.46', 'evm.TU.pcontig_021.297', 'evm.TU.pcontig_059.100', 'evm.TU.pcontig_002.95', 'evm.TU.pcontig_056.58', 'evm.TU.pcontig_011.142', 'evm.TU.pcontig_018.287', 'evm.TU.pcontig_019.25', 'evm.TU.pcontig_034.227', 'evm.TU.pcontig_034.169', 'evm.TU.pcontig_017.152', 'evm.TU.pcontig_056.33', 'evm.TU.pcontig_002.28', 'evm.TU.pcontig_022.106', 'evm.TU.pcontig_016.150', 'evm.TU.pcontig_004.195', 'evm.TU.pcontig_012.280', 'evm.TU.pcontig_057.73', 'evm.TU.pcontig_073.14', 'evm.TU.pcontig_034.194', 'evm.TU.pcontig_018.6', 'evm.TU.pcontig_009.181', 'evm.TU.pcontig_005.193', 'evm.TU.pcontig_006.293', 'evm.TU.pcontig_149.10', 'evm.TU.pcontig_014.295', 'evm.TU.pcontig_174.1', 'evm.TU.pcontig_130.9', 'evm.TU.pcontig_003.525', 'evm.TU.pcontig_189.7', 'evm.TU.pcontig_057.107', 'evm.TU.pcontig_020.183', 'evm.TU.pcontig_040.45', 'evm.TU.pcontig_031.29', 'evm.TU.pcontig_030.55', 'evm.TU.pcontig_027.10', 'evm.TU.pcontig_039.181', 'evm.TU.pcontig_010.258', 'evm.TU.pcontig_006.90', 'evm.TU.pcontig_056.42', 'evm.TU.pcontig_021.78', 'evm.TU.pcontig_031.165', 'evm.TU.pcontig_002.426', 'evm.TU.pcontig_014.279', 'evm.TU.pcontig_036.44', 'evm.TU.pcontig_002.467', 'evm.TU.pcontig_073.45', 'evm.TU.pcontig_026.143', 'evm.TU.pcontig_078.1', 'evm.TU.pcontig_021.218', 'evm.TU.pcontig_023.133', 'evm.TU.pcontig_005.301', 'evm.TU.pcontig_056.83', 'evm.TU.pcontig_001.379', 'evm.TU.pcontig_045.140', 'evm.TU.pcontig_069.38', 'evm.TU.pcontig_019.167', 'evm.TU.pcontig_018.338', 'evm.TU.pcontig_014.22', 'evm.TU.pcontig_026.274', 'evm.TU.pcontig_002.413', 'evm.TU.pcontig_011.14', 'evm.TU.pcontig_002.38', 'evm.TU.pcontig_017.2', 'evm.TU.pcontig_034.89', 'evm.TU.pcontig_002.535', 'evm.TU.pcontig_112.1', 'evm.TU.pcontig_007.223', 'evm.TU.pcontig_012.366', 'evm.TU.pcontig_203.5', 'evm.TU.pcontig_014.193', 'evm.TU.pcontig_002.415', 'evm.TU.pcontig_010.345', 'evm.TU.pcontig_081.52', 'evm.TU.pcontig_019.295', 'evm.TU.pcontig_070.20', 'evm.TU.pcontig_001.368', 'evm.TU.pcontig_018.163', 'evm.TU.pcontig_080.46', 'evm.TU.pcontig_031.170', 'evm.TU.pcontig_000.406', 'evm.TU.pcontig_080.30', 'evm.TU.pcontig_095.44', 'evm.TU.pcontig_039.169', 'evm.TU.pcontig_004.304', 'evm.TU.pcontig_013.126', 'evm.TU.pcontig_002.64', 'evm.TU.pcontig_012.52', 'evm.TU.pcontig_088.49', 'evm.TU.pcontig_017.184', 'evm.TU.pcontig_186.9', 'evm.TU.pcontig_011.71', 'evm.TU.pcontig_012.176', 'evm.TU.pcontig_039.184', 'evm.TU.pcontig_019.179', 'evm.TU.pcontig_037.111', 'evm.TU.pcontig_037.200', 'evm.TU.pcontig_006.404', 'evm.TU.pcontig_010.353', 'evm.TU.pcontig_006.199', 'evm.TU.pcontig_009.141', 'evm.TU.pcontig_009.162', 'evm.TU.pcontig_030.175', 'evm.TU.pcontig_005.242', 'evm.TU.pcontig_059.79', 'evm.TU.pcontig_064.42', 'evm.TU.pcontig_020.303', 'evm.TU.pcontig_013.282', 'evm.TU.pcontig_022.227', 'evm.TU.pcontig_012.296', 'evm.TU.pcontig_036.46', 'evm.TU.pcontig_018.187', 'evm.TU.pcontig_026.262', 'evm.TU.pcontig_019.231', 'evm.TU.pcontig_031.164', 'evm.TU.pcontig_010.219', 'evm.TU.pcontig_002.108', 'evm.TU.pcontig_005.419', 'evm.TU.pcontig_026.58', 'evm.TU.pcontig_157.4', 'evm.TU.pcontig_006.142', 'evm.TU.pcontig_049.150', 'evm.TU.pcontig_233.6', 'evm.TU.pcontig_022.222', 'evm.TU.pcontig_006.15', 'evm.TU.pcontig_007.175', 'evm.TU.pcontig_001.169', 'evm.TU.pcontig_014.142', 'evm.TU.pcontig_001.515', 'evm.TU.pcontig_046.94', 'evm.TU.pcontig_042.66', 'evm.TU.pcontig_001.632', 'evm.TU.pcontig_031.113', 'evm.TU.pcontig_029.38', 'evm.TU.pcontig_000.556', 'evm.TU.pcontig_022.153', 'evm.TU.pcontig_006.126', 'evm.TU.pcontig_035.191', 'evm.TU.pcontig_055.31', 'evm.TU.pcontig_084.9', 'evm.TU.pcontig_036.30', 'evm.TU.pcontig_009.21', 'evm.TU.pcontig_029.107', 'evm.TU.pcontig_031.169', 'evm.TU.pcontig_023.105', 'evm.TU.pcontig_033.229', 'evm.TU.pcontig_002.559', 'evm.TU.pcontig_080.26', 'evm.TU.pcontig_059.78', 'evm.TU.pcontig_035.216', 'evm.TU.pcontig_044.40', 'evm.TU.pcontig_006.140', 'evm.TU.pcontig_011.269', 'evm.TU.pcontig_005.95', 'evm.TU.pcontig_013.318', 'evm.TU.pcontig_010.131', 'evm.TU.pcontig_012.281', 'evm.TU.pcontig_044.93', 'evm.TU.pcontig_041.174', 'evm.TU.pcontig_018.353', 'evm.TU.pcontig_040.143', 'evm.TU.pcontig_003.240', 'evm.TU.pcontig_055.28', 'evm.TU.pcontig_005.14', 'evm.TU.pcontig_009.145', 'evm.TU.pcontig_009.163', 'evm.TU.pcontig_029.92', 'evm.TU.pcontig_034.51', 'evm.TU.pcontig_029.108', 'evm.TU.pcontig_031.89', 'evm.TU.pcontig_043.100', 'evm.TU.pcontig_186.6', 'evm.TU.pcontig_020.91', 'evm.TU.pcontig_000.19', 'evm.TU.pcontig_028.137', 'evm.TU.pcontig_004.191', 'evm.TU.pcontig_018.281', 'evm.TU.pcontig_052.8', 'evm.TU.pcontig_036.58', 'evm.TU.pcontig_066.53', 'evm.TU.pcontig_000.392', 'evm.TU.pcontig_001.520', 'evm.TU.pcontig_000.85', 'evm.TU.pcontig_033.163', 'evm.TU.pcontig_001.174', 'evm.TU.pcontig_007.8', 'evm.TU.pcontig_013.156', 'evm.TU.pcontig_037.107', 'evm.TU.pcontig_003.505', 'evm.TU.pcontig_066.15', 'evm.TU.pcontig_028.221', 'evm.TU.pcontig_080.23', 'evm.TU.pcontig_100.42', 'evm.TU.pcontig_039.123', 'evm.TU.pcontig_023.192', 'evm.TU.pcontig_044.171', 'evm.TU.pcontig_000.583', 'evm.TU.pcontig_092.7', 'evm.TU.pcontig_001.366', 'evm.TU.pcontig_004.39', 'evm.TU.pcontig_002.404', 'evm.TU.pcontig_019.245', 'evm.TU.pcontig_049.38', 'evm.TU.pcontig_021.63', 'evm.TU.pcontig_054.88', 'evm.TU.pcontig_005.306', 'evm.TU.pcontig_033.143', 'evm.TU.pcontig_001.367', 'evm.TU.pcontig_012.293', 'evm.TU.pcontig_027.265', 'evm.TU.pcontig_021.71', 'evm.TU.pcontig_130.20', 'evm.TU.pcontig_062.32', 'evm.TU.pcontig_100.35', 'evm.TU.pcontig_036.31', 'evm.TU.pcontig_010.237', 'evm.TU.pcontig_017.27', 'evm.TU.pcontig_034.171', 'evm.TU.pcontig_074.20', 'evm.TU.pcontig_036.56', 'evm.TU.pcontig_036.32', 'evm.TU.pcontig_011.241', 'evm.TU.pcontig_207.1', 'evm.TU.pcontig_041.46', 'evm.TU.pcontig_005.260', 'evm.TU.pcontig_013.166', 'evm.TU.pcontig_031.88', 'evm.TU.pcontig_023.118', 'evm.TU.pcontig_002.42', 'evm.TU.pcontig_046.99', 'evm.TU.pcontig_003.87', 'evm.TU.pcontig_054.119', 'evm.TU.pcontig_148.11', 'evm.TU.pcontig_021.94', 'evm.TU.pcontig_027.212', 'evm.TU.pcontig_027.52', 'evm.TU.pcontig_030.276', 'evm.TU.pcontig_049.4', 'evm.TU.pcontig_034.191', 'evm.TU.pcontig_068.5', 'evm.TU.pcontig_062.45', 'evm.TU.pcontig_018.154', 'evm.TU.pcontig_044.130', 'evm.TU.pcontig_006.433', 'evm.TU.pcontig_003.232', 'evm.TU.pcontig_043.89', 'evm.TU.pcontig_030.69', 'evm.TU.pcontig_011.147', 'evm.TU.pcontig_032.19', 'evm.TU.pcontig_018.218', 'evm.TU.pcontig_001.657', 'evm.TU.pcontig_011.347', 'evm.TU.pcontig_022.120', 'evm.TU.pcontig_100.29', 'evm.TU.pcontig_003.436', 'evm.TU.pcontig_007.411', 'evm.TU.pcontig_039.174', 'evm.TU.pcontig_012.233', 'evm.TU.pcontig_035.5', 'evm.TU.pcontig_002.553', 'evm.TU.pcontig_181.9', 'evm.TU.pcontig_022.218', 'evm.TU.pcontig_003.507', 'evm.TU.pcontig_059.123', 'evm.TU.pcontig_026.144', 'evm.TU.pcontig_049.58', 'evm.TU.pcontig_029.63', 'evm.TU.pcontig_021.198', 'evm.TU.pcontig_007.81', 'evm.TU.pcontig_073.15', 'evm.TU.pcontig_018.286', 'evm.TU.pcontig_001.28', 'evm.TU.pcontig_052.54', 'evm.TU.pcontig_050.122', 'evm.TU.pcontig_003.508', 'evm.TU.pcontig_018.5', 'evm.TU.pcontig_104.33', 'evm.TU.pcontig_007.309', 'evm.TU.pcontig_023.53', 'evm.TU.pcontig_003.9', 'evm.TU.pcontig_064.39', 'evm.TU.pcontig_000.479', 'evm.TU.pcontig_080.29', 'evm.TU.pcontig_025.33', 'evm.TU.pcontig_062.10', 'evm.TU.pcontig_043.101', 'evm.TU.pcontig_017.224', 'evm.TU.pcontig_058.21', 'evm.TU.pcontig_000.450', 'evm.TU.pcontig_034.228', 'evm.TU.pcontig_008.137', 'evm.TU.pcontig_025.92', 'evm.TU.pcontig_005.439', 'evm.TU.pcontig_002.243', 'evm.TU.pcontig_021.179', 'evm.TU.pcontig_002.440', 'evm.TU.pcontig_054.52', 'evm.TU.pcontig_030.256', 'evm.TU.pcontig_027.249', 'evm.TU.pcontig_045.144', 'evm.TU.pcontig_031.83', 'evm.TU.pcontig_046.35', 'evm.TU.pcontig_035.69', 'evm.TU.pcontig_017.7', 'evm.TU.pcontig_070.22', 'evm.TU.pcontig_010.21', 'evm.TU.pcontig_017.196', 'evm.TU.pcontig_046.159', 'evm.TU.pcontig_057.120', 'evm.TU.pcontig_060.96', 'evm.TU.pcontig_007.412', 'evm.TU.pcontig_013.139', 'evm.TU.pcontig_039.175', 'evm.TU.pcontig_035.166', 'evm.TU.pcontig_005.255', 'evm.TU.pcontig_012.85', 'evm.TU.pcontig_023.175', 'evm.TU.pcontig_034.113', 'evm.TU.pcontig_026.76', 'evm.TU.pcontig_066.73', 'evm.TU.pcontig_003.333', 'evm.TU.pcontig_021.288', 'evm.TU.pcontig_173.5', 'evm.TU.pcontig_030.34', 'evm.TU.pcontig_035.66', 'evm.TU.pcontig_027.9', 'evm.TU.pcontig_009.140', 'evm.TU.pcontig_103.6', 'evm.TU.pcontig_050.134', 'evm.TU.pcontig_005.51', 'evm.TU.pcontig_010.89', 'evm.TU.pcontig_041.48', 'evm.TU.pcontig_070.71', 'evm.TU.pcontig_016.189', 'evm.TU.pcontig_049.139', 'evm.TU.pcontig_103.8', 'evm.TU.pcontig_000.593', 'evm.TU.pcontig_014.66', 'evm.TU.pcontig_000.63', 'evm.TU.pcontig_026.273', 'evm.TU.pcontig_088.33', 'evm.TU.pcontig_012.58', 'evm.TU.pcontig_000.554', 'evm.TU.pcontig_018.270', 'evm.TU.pcontig_029.124', 'evm.TU.pcontig_073.55', 'evm.TU.pcontig_029.90', 'evm.TU.pcontig_027.11', 'evm.TU.pcontig_073.4', 'evm.TU.pcontig_013.162', 'evm.TU.pcontig_013.124', 'evm.TU.pcontig_023.88', 'evm.TU.pcontig_059.58', 'evm.TU.pcontig_042.188', 'evm.TU.pcontig_077.1', 'evm.TU.pcontig_059.67', 'evm.TU.pcontig_005.52', 'evm.TU.pcontig_021.273', 'evm.TU.pcontig_091.46', 'evm.TU.pcontig_044.64', 'evm.TU.pcontig_035.63', 'evm.TU.pcontig_003.471', 'evm.TU.pcontig_025.10', 'evm.TU.pcontig_003.249', 'evm.TU.pcontig_005.395', 'evm.TU.pcontig_001.288', 'evm.TU.pcontig_013.216', 'evm.TU.pcontig_026.73', 'evm.TU.pcontig_000.262', 'evm.TU.pcontig_041.120', 'evm.TU.pcontig_020.39', 'evm.TU.hcontig_059_008.78', 'evm.TU.hcontig_082_002.25', 'evm.TU.hcontig_002_011.188', 'evm.TU.hcontig_003_013.23', 'evm.TU.hcontig_037_011.77', 'evm.TU.hcontig_019_020.25', 'evm.TU.hcontig_034_022.9', 'evm.TU.hcontig_040_109.23', 'evm.TU.hcontig_007_006.206', 'evm.TU.hcontig_002_028.189', 'evm.TU.hcontig_035_008.137', 'evm.TU.hcontig_002_028.149', 'evm.TU.hcontig_026_002.113', 'evm.TU.hcontig_006_033.2', 'evm.TU.hcontig_054_001.25', 'evm.TU.hcontig_001_021.65', 'evm.TU.hcontig_026_018.50', 'evm.TU.hcontig_054_001.50', 'evm.TU.hcontig_003_041.76', 'evm.TU.hcontig_018_016.86', 'evm.TU.hcontig_031_005.22', 'evm.TU.hcontig_020_132.11', 'evm.TU.hcontig_031_007.26', 'evm.TU.hcontig_010_016.297', 'evm.TU.hcontig_011_017.25', 'evm.TU.hcontig_004_020.215', 'evm.TU.hcontig_013_010.57', 'evm.TU.hcontig_049_002.41', 'evm.TU.hcontig_044_023.88', 'evm.TU.hcontig_065_003.39', 'evm.TU.hcontig_007_005.64', 'evm.TU.hcontig_092_003.10', 'evm.TU.hcontig_003_026.4', 'evm.TU.hcontig_019_085.3', 'evm.TU.hcontig_029_010.84', 'evm.TU.hcontig_022_007.39', 'evm.TU.hcontig_056_007.22', 'evm.TU.hcontig_052_105.25', 'evm.TU.hcontig_007_031.2', 'evm.TU.hcontig_030_011.38', 'evm.TU.hcontig_037_017.3', 'evm.TU.hcontig_010_016.224', 'evm.TU.hcontig_012_028.98', 'evm.TU.hcontig_046_007.119', 'evm.TU.hcontig_014_017.7', 'evm.TU.hcontig_039_005.22', 'evm.TU.hcontig_070_009.13', 'evm.TU.hcontig_010_016.187', 'evm.TU.hcontig_001_001.89', 'evm.TU.hcontig_048_010.29', 'evm.TU.hcontig_010_016.296', 'evm.TU.hcontig_035_008.129', 'evm.TU.hcontig_027_102.24', 'evm.TU.hcontig_070_006.4', 'evm.TU.hcontig_062_001.81', 'evm.TU.hcontig_000_050.87', 'evm.TU.hcontig_034_001.116', 'evm.TU.hcontig_006_013.11', 'evm.TU.hcontig_057_003.89', 'evm.TU.hcontig_020_132.17', 'evm.TU.hcontig_018_016.133', 'evm.TU.hcontig_010_016.272', 'evm.TU.hcontig_017_004.103', 'evm.TU.hcontig_001_056.3', 'evm.TU.hcontig_022_007.29', 'evm.TU.hcontig_013_029.6', 'evm.TU.hcontig_025_003.23', 'evm.TU.hcontig_013_010.17', 'evm.TU.hcontig_036_002.11', 'evm.TU.hcontig_018_022.3', 'evm.TU.hcontig_036_012.1', 'evm.TU.hcontig_007_006.164', 'evm.TU.hcontig_009_024.74', 'evm.TU.hcontig_052_105.4', 'evm.TU.hcontig_059_008.2', 'evm.TU.hcontig_018_016.70', 'evm.TU.hcontig_005_002.40', 'evm.TU.hcontig_004_020.397', 'evm.TU.hcontig_028_015.2', 'evm.TU.hcontig_020_021.45', 'evm.TU.hcontig_014_008.11', 'evm.TU.hcontig_037_004.55', 'evm.TU.hcontig_001_001.103', 'evm.TU.hcontig_017_025.13', 'evm.TU.hcontig_013_023.23', 'evm.TU.hcontig_005_039.14', 'evm.TU.hcontig_056_007.13', 'evm.TU.hcontig_001_001.87', 'evm.TU.hcontig_012_010.60', 'evm.TU.hcontig_034_001.66', 'evm.TU.hcontig_019_020.15', 'evm.TU.hcontig_031_005.109', 'evm.TU.hcontig_019_015.17', 'evm.TU.hcontig_001_001.36', 'evm.TU.hcontig_028_011.104', 'evm.TU.hcontig_021_014.38', 'evm.TU.hcontig_008_009.46', 'evm.TU.hcontig_003_002.125', 'evm.TU.hcontig_006_013.222', 'evm.TU.hcontig_004_020.299', 'evm.TU.hcontig_006_013.90', 'evm.TU.hcontig_034_001.127', 'evm.TU.hcontig_057_002.5', 'evm.TU.hcontig_060_001.65', 'evm.TU.hcontig_002_011.134', 'evm.TU.hcontig_028_003.23', 'evm.TU.hcontig_039_004.63', 'evm.TU.hcontig_055_009.1', 'evm.TU.hcontig_019_085.57', 'evm.TU.hcontig_003_013.21', 'evm.TU.hcontig_025_003.38', 'evm.TU.hcontig_023_002.107', 'evm.TU.hcontig_034_022.11', 'evm.TU.hcontig_022_007.17', 'evm.TU.hcontig_023_002.142', 'evm.TU.hcontig_026_002.8', 'evm.TU.hcontig_002_011.234', 'evm.TU.hcontig_013_023.71', 'evm.TU.hcontig_003_002.113', 'evm.TU.hcontig_001_001.153', 'evm.TU.hcontig_035_008.32', 'evm.TU.hcontig_004_020.14', 'evm.TU.hcontig_039_005.94', 'evm.TU.hcontig_018_022.65', 'evm.TU.hcontig_016_024.163', 'evm.TU.hcontig_040_015.86', 'evm.TU.hcontig_004_020.26', 'evm.TU.hcontig_014_027.24', 'evm.TU.hcontig_017_004.50', 'evm.TU.hcontig_027_011.42', 'evm.TU.hcontig_019_013.25', 'evm.TU.hcontig_059_008.125', 'evm.TU.hcontig_007_001.4', 'evm.TU.hcontig_028_011.113', 'evm.TU.hcontig_007_006.207', 'evm.TU.hcontig_001_180.4', 'evm.TU.hcontig_012_010.25', 'evm.TU.hcontig_039_005.11', 'evm.TU.hcontig_012_010.72', 'evm.TU.hcontig_013_010.53', 'evm.TU.hcontig_026_011.9', 'evm.TU.hcontig_035_008.134', 'evm.TU.hcontig_029_014.3', 'evm.TU.hcontig_021_027.28', 'evm.TU.hcontig_018_016.132', 'evm.TU.hcontig_016_124.11', 'evm.TU.hcontig_001_056.8', 'evm.TU.hcontig_035_008.144', 'evm.TU.hcontig_002_028.279', 'evm.TU.hcontig_017_026.2', 'evm.TU.hcontig_023_007.77', 'evm.TU.hcontig_000_050.149', 'evm.TU.hcontig_056_007.58', 'evm.TU.hcontig_011_016.149', 'evm.TU.hcontig_005_043.178', 'evm.TU.hcontig_040_015.69', 'evm.TU.hcontig_006_002.39', 'evm.TU.hcontig_010_016.246', 'evm.TU.hcontig_013_010.111', 'evm.TU.hcontig_021_014.169', 'evm.TU.hcontig_008_009.38', 'evm.TU.hcontig_045_002.12', 'evm.TU.hcontig_007_006.196', 'evm.TU.hcontig_010_016.62', 'evm.TU.hcontig_013_010.110', 'evm.TU.hcontig_037_011.31', 'evm.TU.hcontig_040_001.3', 'evm.TU.hcontig_003_002.114', 'evm.TU.hcontig_040_015.79', 'evm.TU.hcontig_011_005.6', 'evm.TU.hcontig_011_016.240', 'evm.TU.hcontig_034_001.140', 'evm.TU.hcontig_059_008.19', 'evm.TU.hcontig_019_013.16', 'evm.TU.hcontig_037_011.32', 'evm.TU.hcontig_003_136.15', 'evm.TU.hcontig_008_014.64', 'evm.TU.hcontig_010_016.270', 'evm.TU.hcontig_017_160.7', 'evm.TU.hcontig_009_024.55', 'evm.TU.hcontig_003_013.5', 'evm.TU.hcontig_044_023.118', 'evm.TU.hcontig_031_005.29', 'evm.TU.hcontig_033_071.16', 'evm.TU.hcontig_078_002.22', 'evm.TU.hcontig_001_054.81', 'evm.TU.hcontig_014_022.19', 'evm.TU.hcontig_036_012.16', 'evm.TU.hcontig_018_022.83', 'evm.TU.hcontig_003_002.54', 'evm.TU.hcontig_001_054.82', 'evm.TU.hcontig_031_007.35', 'evm.TU.hcontig_052_006.25', 'evm.TU.hcontig_036_012.2', 'evm.TU.hcontig_028_011.85', 'evm.TU.hcontig_006_013.78', 'evm.TU.hcontig_058_004.18', 'evm.TU.hcontig_003_002.209', 'evm.TU.hcontig_020_007.1', 'evm.TU.hcontig_062_001.54', 'evm.TU.hcontig_004_021.2', 'evm.TU.hcontig_042_009.59', 'evm.TU.hcontig_054_001.91', 'evm.TU.hcontig_035_008.31', 'evm.TU.hcontig_014_192.3', 'evm.TU.hcontig_044_003.43', 'evm.TU.hcontig_009_029.56', 'evm.TU.hcontig_001_002.5', 'evm.TU.hcontig_033_071.76', 'evm.TU.hcontig_027_011.79', 'evm.TU.hcontig_012_028.26', 'evm.TU.hcontig_057_001.1', 'evm.TU.hcontig_028_011.125', 'evm.TU.hcontig_037_004.37', 'evm.TU.hcontig_010_016.48', 'evm.TU.hcontig_056_007.24', 'evm.TU.hcontig_013_018.3', 'evm.TU.hcontig_034_001.160', 'evm.TU.hcontig_043_003.15', 'evm.TU.hcontig_017_004.71', 'evm.TU.hcontig_050_121.9', 'evm.TU.hcontig_009_024.18', 'evm.TU.hcontig_025_003.39', 'evm.TU.hcontig_010_016.38', 'evm.TU.hcontig_020_018.35', 'evm.TU.hcontig_031_007.42', 'evm.TU.hcontig_002_023.7', 'evm.TU.hcontig_048_010.27', 'evm.TU.hcontig_003_014.20', 'evm.TU.hcontig_003_014.9', 'evm.TU.hcontig_000_003.402', 'evm.TU.hcontig_056_007.39', 'evm.TU.hcontig_055_009.8', 'evm.TU.hcontig_007_007.43', 'evm.TU.hcontig_039_004.26', 'evm.TU.hcontig_009_015.1', 'evm.TU.hcontig_006_131.11', 'evm.TU.hcontig_050_053.12', 'evm.TU.hcontig_030_011.15', 'evm.TU.hcontig_000_003.423', 'evm.TU.hcontig_047_003.30', 'evm.TU.hcontig_002_028.173', 'evm.TU.hcontig_001_123.3', 'evm.TU.hcontig_041_005.28', 'evm.TU.hcontig_003_014.54', 'evm.TU.hcontig_005_043.227', 'evm.TU.hcontig_043_006.6', 'evm.TU.hcontig_017_004.2', 'evm.TU.hcontig_048_005.62', 'evm.TU.hcontig_009_029.53', 'evm.TU.hcontig_019_013.24', 'evm.TU.hcontig_013_012.64', 'evm.TU.hcontig_018_022.79', 'evm.TU.hcontig_070_009.15', 'evm.TU.hcontig_003_002.159', 'evm.TU.hcontig_001_021.9', 'evm.TU.hcontig_029_013.46', 'evm.TU.hcontig_035_008.61', 'evm.TU.hcontig_034_001.57', 'evm.TU.hcontig_078_002.8', 'evm.TU.hcontig_000_050.34', 'evm.TU.hcontig_034_001.60', 'evm.TU.hcontig_045_002.14', 'evm.TU.hcontig_046_007.42', 'evm.TU.hcontig_018_008.4', 'evm.TU.hcontig_044_023.30', 'evm.TU.hcontig_022_008.53', 'evm.TU.hcontig_039_005.90', 'evm.TU.hcontig_019_015.25', 'evm.TU.hcontig_018_016.123', 'evm.TU.hcontig_031_015.4', 'evm.TU.hcontig_028_011.105', 'evm.TU.hcontig_029_001.3', 'evm.TU.hcontig_004_020.55', 'evm.TU.hcontig_050_011.39', 'evm.TU.hcontig_005_043.44', 'evm.TU.hcontig_030_011.41', 'evm.TU.hcontig_028_011.6', 'evm.TU.hcontig_012_010.105', 'evm.TU.hcontig_083_002.54', 'evm.TU.hcontig_006_013.173', 'evm.TU.hcontig_056_007.40', 'evm.TU.hcontig_026_011.11', 'evm.TU.hcontig_009_024.80', 'evm.TU.hcontig_028_003.17', 'evm.TU.hcontig_042_009.58', 'evm.TU.hcontig_034_001.109', 'evm.TU.hcontig_010_016.114', 'evm.TU.hcontig_020_025.32', 'evm.TU.hcontig_034_001.158', 'evm.TU.hcontig_004_020.324', 'evm.TU.hcontig_052_006.146', 'evm.TU.hcontig_019_001.21', 'evm.TU.hcontig_026_002.124', 'evm.TU.hcontig_010_016.236', 'evm.TU.hcontig_042_005.2', 'evm.TU.hcontig_028_015.19', 'evm.TU.hcontig_007_005.7', 'evm.TU.hcontig_027_011.38', 'evm.TU.hcontig_054_001.52', 'evm.TU.hcontig_006_015.31', 'evm.TU.hcontig_016_024.22', 'evm.TU.hcontig_002_028.177', 'evm.TU.hcontig_059_008.7', 'evm.TU.hcontig_020_021.14', 'evm.TU.hcontig_004_020.12', 'evm.TU.hcontig_003_014.46', 'evm.TU.hcontig_004_020.68', 'evm.TU.hcontig_000_054.13', 'evm.TU.hcontig_019_001.33', 'evm.TU.hcontig_008_093.37', 'evm.TU.hcontig_037_004.70', 'evm.TU.hcontig_002_028.1', 'evm.TU.hcontig_006_033.37', 'evm.TU.hcontig_081_004.22', 'evm.TU.hcontig_018_007.6', 'evm.TU.hcontig_035_008.46', 'evm.TU.hcontig_022_008.39', 'evm.TU.hcontig_003_002.126', 'evm.TU.hcontig_040_015.91', 'evm.TU.hcontig_026_002.159', 'evm.TU.hcontig_033_071.25', 'evm.TU.hcontig_001_019.2', 'evm.TU.hcontig_011_016.32', 'evm.TU.hcontig_029_013.30', 'evm.TU.hcontig_005_043.152', 'evm.TU.hcontig_002_028.297', 'evm.TU.hcontig_003_014.55', 'evm.TU.hcontig_052_006.155', 'evm.TU.hcontig_000_003.2', 'evm.TU.hcontig_018_022.82', 'evm.TU.hcontig_027_011.78', 'evm.TU.hcontig_003_002.91', 'evm.TU.hcontig_011_013.3', 'evm.TU.hcontig_062_001.35', 'evm.TU.hcontig_003_045.2', 'evm.TU.hcontig_046_007.83', 'evm.TU.hcontig_052_006.117', 'evm.TU.hcontig_029_010.62', 'evm.TU.hcontig_041_127.20', 'evm.TU.hcontig_013_010.59', 'evm.TU.hcontig_041_004.78', 'evm.TU.hcontig_002_011.37', 'evm.TU.hcontig_022_015.15', 'evm.TU.hcontig_010_016.99', 'evm.TU.hcontig_019_015.122', 'evm.TU.hcontig_019_001.9', 'evm.TU.hcontig_041_127.8', 'evm.TU.hcontig_035_008.130', 'evm.TU.hcontig_012_028.106', 'evm.TU.hcontig_013_014.1', 'evm.TU.hcontig_021_014.151', 'evm.TU.hcontig_004_027.2', 'evm.TU.hcontig_019_001.29', 'evm.TU.hcontig_021_014.63', 'evm.TU.hcontig_029_013.96', 'evm.TU.hcontig_055_009.22', 'evm.TU.hcontig_035_008.34', 'evm.TU.hcontig_023_002.27', 'evm.TU.hcontig_013_023.20', 'evm.TU.hcontig_004_020.15', 'evm.TU.hcontig_055_012.91', 'evm.TU.hcontig_011_016.27', 'evm.TU.hcontig_041_004.60', 'evm.TU.hcontig_021_027.72', 'evm.TU.hcontig_022_008.35', 'evm.TU.hcontig_021_014.96', 'evm.TU.hcontig_003_002.62', 'evm.TU.hcontig_060_001.66', 'evm.TU.hcontig_045_002.92', 'evm.TU.hcontig_057_009.4', 'evm.TU.hcontig_057_003.133', 'evm.TU.hcontig_037_004.63', 'evm.TU.hcontig_004_020.169', 'evm.TU.hcontig_006_013.3', 'evm.TU.hcontig_045_002.3', 'evm.TU.hcontig_031_005.99', 'evm.TU.hcontig_031_015.2', 'evm.TU.hcontig_000_050.9', 'evm.TU.hcontig_044_023.62', 'evm.TU.hcontig_005_021.1', 'evm.TU.hcontig_027_018.9', 'evm.TU.hcontig_007_005.22', 'evm.TU.hcontig_041_004.54', 'evm.TU.hcontig_006_013.14', 'evm.TU.hcontig_022_007.31', 'evm.TU.hcontig_033_071.85', 'evm.TU.hcontig_021_026.2', 'evm.TU.hcontig_020_021.150', 'evm.TU.hcontig_041_005.6', 'evm.TU.hcontig_035_013.2', 'evm.TU.hcontig_019_015.18', 'evm.TU.hcontig_014_117.25', 'evm.TU.hcontig_030_011.116', 'evm.TU.hcontig_018_016.48', 'evm.TU.hcontig_000_003.340', 'evm.TU.hcontig_007_006.221', 'evm.TU.hcontig_057_003.64', 'evm.TU.hcontig_045_002.83', 'evm.TU.hcontig_060_001.67', 'evm.TU.hcontig_002_028.277', 'evm.TU.hcontig_026_002.138', 'evm.TU.hcontig_011_017.43', 'evm.TU.hcontig_060_001.64', 'evm.TU.hcontig_002_011.110', 'evm.TU.hcontig_017_004.73', 'evm.TU.hcontig_002_028.306', 'evm.TU.hcontig_035_008.10', 'evm.TU.hcontig_003_045.19', 'evm.TU.hcontig_009_029.41', 'evm.TU.hcontig_006_013.137', 'evm.TU.hcontig_030_011.25', 'evm.TU.hcontig_039_005.83', 'evm.TU.hcontig_025_003.24', 'evm.TU.hcontig_018_022.137', 'evm.TU.hcontig_003_013.44', 'evm.TU.hcontig_059_008.101', 'evm.TU.hcontig_035_008.47', 'evm.TU.hcontig_013_010.39', 'evm.TU.hcontig_027_011.86', 'evm.TU.hcontig_054_001.17', 'evm.TU.hcontig_062_001.62', 'evm.TU.hcontig_019_085.36', 'evm.TU.hcontig_005_043.46', 'evm.TU.hcontig_047_007.2', 'evm.TU.hcontig_002_028.54', 'evm.TU.hcontig_049_002.1', 'evm.TU.hcontig_000_003.1', 'evm.TU.hcontig_012_028.144', 'evm.TU.hcontig_089_005.2', 'evm.TU.hcontig_007_005.78', 'evm.TU.hcontig_055_008.4', 'evm.TU.hcontig_045_002.10', 'evm.TU.hcontig_067_005.8', 'evm.TU.hcontig_003_045.25', 'evm.TU.hcontig_035_008.49', 'evm.TU.hcontig_023_002.33', 'evm.TU.hcontig_036_006.13', 'evm.TU.hcontig_010_016.105', 'evm.TU.hcontig_029_013.76', 'evm.TU.hcontig_017_025.2', 'evm.TU.hcontig_029_013.74', 'evm.TU.hcontig_035_019.6', 'evm.TU.hcontig_055_009.9', 'evm.TU.hcontig_036_008.8', 'evm.TU.hcontig_045_002.88', 'evm.TU.hcontig_001_180.3', 'evm.TU.hcontig_001_056.6', 'evm.TU.hcontig_047_006.51', 'evm.TU.hcontig_002_028.230', 'evm.TU.hcontig_020_021.59', 'evm.TU.hcontig_031_005.93', 'evm.TU.hcontig_047_003.38', 'evm.TU.hcontig_035_008.11', 'evm.TU.hcontig_004_020.40', 'evm.TU.hcontig_002_028.303', 'evm.TU.hcontig_008_014.43', 'evm.TU.hcontig_034_001.142', 'evm.TU.hcontig_030_011.161', 'evm.TU.hcontig_020_018.46', 'evm.TU.hcontig_050_053.5', 'evm.TU.hcontig_189_001.2', 'evm.TU.hcontig_003_026.5', 'evm.TU.hcontig_021_027.70', 'evm.TU.hcontig_027_006.107', 'evm.TU.hcontig_004_020.18', 'evm.TU.hcontig_013_010.90', 'evm.TU.hcontig_012_010.30', 'evm.TU.hcontig_083_002.52', 'evm.TU.hcontig_005_043.205', 'evm.TU.hcontig_008_009.111', 'evm.TU.hcontig_007_006.202', 'evm.TU.hcontig_050_003.45', 'evm.TU.hcontig_002_028.150', 'evm.TU.hcontig_029_013.83', 'evm.TU.hcontig_005_043.78', 'evm.TU.hcontig_005_021.2', 'evm.TU.hcontig_011_016.91', 'evm.TU.hcontig_001_001.128', 'evm.TU.hcontig_007_007.17', 'evm.TU.hcontig_001_180.5', 'evm.TU.hcontig_016_014.15', 'evm.TU.hcontig_033_014.54', 'evm.TU.hcontig_020_022.7', 'evm.TU.hcontig_021_026.22', 'evm.TU.hcontig_003_002.213', 'evm.TU.hcontig_037_004.61', 'evm.TU.hcontig_083_002.51', 'evm.TU.hcontig_011_016.92', 'evm.TU.hcontig_010_016.92', 'evm.TU.hcontig_031_005.9', 'evm.TU.hcontig_000_054.43', 'evm.TU.hcontig_008_009.88', 'evm.TU.hcontig_007_006.210', 'evm.TU.hcontig_023_007.31', 'evm.TU.hcontig_010_016.220', 'evm.TU.hcontig_002_011.201', 'evm.TU.hcontig_037_161.3', 'evm.TU.hcontig_014_117.19', 'evm.TU.hcontig_005_043.71', 'evm.TU.hcontig_035_008.33', 'evm.TU.hcontig_006_033.3', 'evm.TU.hcontig_069_137.6', 'evm.TU.hcontig_012_010.20', 'evm.TU.hcontig_027_018.8', 'evm.TU.hcontig_002_028.75', 'evm.TU.hcontig_004_020.395', 'evm.TU.hcontig_001_054.18', 'evm.TU.hcontig_037_011.78', 'evm.TU.hcontig_001_032.3', 'evm.TU.hcontig_104_001.2', 'evm.TU.hcontig_080_002.10', 'evm.TU.hcontig_029_013.90', 'evm.TU.hcontig_003_002.93', 'evm.TU.hcontig_000_050.141', 'evm.TU.hcontig_010_016.277', 'evm.TU.hcontig_013_023.33', 'evm.TU.hcontig_088_002.29', 'evm.TU.hcontig_011_016.26', 'evm.TU.hcontig_021_014.84', 'evm.TU.hcontig_003_136.1', 'evm.TU.hcontig_009_024.112', 'evm.TU.hcontig_022_008.14', 'evm.TU.hcontig_027_102.2', 'evm.TU.hcontig_025_002.19', 'evm.TU.hcontig_020_021.7', 'evm.TU.hcontig_040_001.2', 'evm.TU.hcontig_033_071.59', 'evm.TU.hcontig_031_007.40', 'evm.TU.hcontig_046_007.88', 'evm.TU.hcontig_034_001.157', 'evm.TU.hcontig_034_001.163', 'evm.TU.hcontig_088_002.34', 'evm.TU.hcontig_036_008.6', 'evm.TU.hcontig_010_016.188', 'evm.TU.hcontig_004_027.1', 'evm.TU.hcontig_054_001.35', 'evm.TU.hcontig_000_050.122', 'evm.TU.hcontig_003_014.3', 'evm.TU.hcontig_056_007.28', 'evm.TU.hcontig_011_016.30', 'evm.TU.hcontig_067_004.24', 'evm.TU.hcontig_018_010.2', 'evm.TU.hcontig_039_005.39', 'evm.TU.hcontig_002_028.63', 'evm.TU.hcontig_057_003.54', 'evm.TU.hcontig_035_008.8', 'evm.TU.hcontig_004_019.5', 'evm.TU.hcontig_043_119.4', 'evm.TU.hcontig_004_020.19', 'evm.TU.hcontig_005_043.188', 'evm.TU.hcontig_057_003.121', 'evm.TU.hcontig_050_011.33', 'evm.TU.hcontig_012_028.28', 'evm.TU.hcontig_081_005.7', 'evm.TU.hcontig_010_016.207', 'evm.TU.hcontig_037_011.76', 'evm.TU.hcontig_010_016.247', 'evm.TU.hcontig_000_003.20', 'evm.TU.hcontig_021_014.149', 'evm.TU.hcontig_005_002.89', 'evm.TU.hcontig_008_035.11', 'evm.TU.hcontig_011_016.31', 'evm.TU.hcontig_017_004.114', 'evm.TU.hcontig_037_011.75', 'evm.TU.hcontig_028_015.14', 'evm.TU.hcontig_009_142.10', 'evm.TU.hcontig_084_003.7', 'evm.TU.hcontig_006_002.5', 'evm.TU.hcontig_002_011.33', 'evm.TU.hcontig_026_011.10', 'evm.TU.hcontig_008_009.10', 'evm.TU.hcontig_001_021.198', 'evm.TU.hcontig_001_001.41', 'evm.TU.hcontig_003_045.14', 'evm.TU.hcontig_043_003.41', 'evm.TU.hcontig_000_050.85', 'evm.TU.hcontig_003_028.6', 'evm.TU.hcontig_031_005.54', 'evm.TU.hcontig_005_021.37', 'evm.TU.hcontig_003_002.59', 'evm.TU.hcontig_016_024.133', 'evm.TU.hcontig_003_013.22', 'evm.TU.hcontig_042_008.7', 'evm.TU.hcontig_039_005.38', 'evm.TU.hcontig_018_008.1', 'evm.TU.hcontig_010_016.226', 'evm.TU.hcontig_004_020.27', 'evm.TU.hcontig_005_043.177', 'evm.TU.hcontig_052_006.53', 'evm.TU.hcontig_003_045.7', 'evm.TU.hcontig_001_042.9', 'evm.TU.hcontig_081_005.34', 'evm.TU.hcontig_011_016.148', 'evm.TU.hcontig_002_011.66', 'evm.TU.hcontig_065_094.41', 'evm.TU.hcontig_004_020.136', 'evm.TU.hcontig_001_180.7', 'evm.TU.hcontig_030_011.42', 'evm.TU.hcontig_013_010.19', 'evm.TU.hcontig_002_028.5', 'evm.TU.hcontig_010_016.47', 'evm.TU.hcontig_002_028.271', 'evm.TU.hcontig_001_056.2', 'evm.TU.hcontig_027_102.45', 'evm.TU.hcontig_029_013.103', 'evm.TU.hcontig_067_004.6', 'evm.TU.hcontig_030_155.14', 'evm.TU.hcontig_040_001.6', 'evm.TU.hcontig_058_175.7', 'evm.TU.hcontig_039_004.36', 'evm.TU.hcontig_029_023.1', 'evm.TU.hcontig_025_003.63', 'evm.TU.hcontig_066_004.8', 'evm.TU.hcontig_002_011.29', 'evm.TU.hcontig_018_022.88', 'evm.TU.hcontig_002_028.84', 'evm.TU.hcontig_000_003.90', 'evm.TU.hcontig_000_003.314', 'evm.TU.hcontig_012_010.100', 'evm.TU.hcontig_059_008.10', 'evm.TU.hcontig_005_043.218', 'evm.TU.hcontig_020_132.18', 'evm.TU.hcontig_020_021.47', 'evm.TU.hcontig_031_005.47', 'evm.TU.hcontig_000_003.450', 'evm.TU.hcontig_031_005.96', 'evm.TU.hcontig_059_008.37', 'evm.TU.hcontig_050_010.1', 'evm.TU.hcontig_023_002.67', 'evm.TU.hcontig_064_007.1', 'evm.TU.hcontig_048_005.42', 'evm.TU.hcontig_031_005.53', 'evm.TU.hcontig_035_019.4', 'evm.TU.hcontig_014_117.15', 'evm.TU.hcontig_026_018.63', 'evm.TU.hcontig_009_024.117', 'evm.TU.hcontig_006_131.13', 'evm.TU.hcontig_001_180.6', 'evm.TU.hcontig_030_011.134', 'evm.TU.hcontig_002_028.161', 'evm.TU.hcontig_020_021.151', 'evm.TU.hcontig_010_016.199', 'evm.TU.hcontig_004_076.53', 'evm.TU.hcontig_026_018.62', 'evm.TU.hcontig_064_007.10', 'evm.TU.hcontig_037_011.35', 'evm.TU.hcontig_011_016.143', 'evm.TU.hcontig_017_011.6', 'evm.TU.hcontig_059_008.45', 'evm.TU.hcontig_059_005.1', 'evm.TU.hcontig_027_011.80', 'evm.TU.hcontig_036_006.14', 'evm.TU.hcontig_035_019.3', 'evm.TU.hcontig_012_028.128', 'evm.TU.hcontig_001_021.139', 'evm.TU.hcontig_001_019.1', 'evm.TU.hcontig_046_007.70', 'evm.TU.hcontig_009_029.55', 'evm.TU.hcontig_050_003.14', 'evm.TU.hcontig_070_006.2', 'evm.TU.hcontig_026_002.31', 'evm.TU.hcontig_029_013.81', 'evm.TU.hcontig_011_017.37', 'evm.TU.hcontig_057_003.36', 'evm.TU.hcontig_002_028.153', 'evm.TU.hcontig_011_016.205', 'evm.TU.hcontig_004_020.190', 'evm.TU.hcontig_000_003.380', 'evm.TU.hcontig_026_002.137', 'evm.TU.hcontig_004_020.391', 'evm.TU.hcontig_044_003.40', 'evm.TU.hcontig_059_008.54', 'evm.TU.hcontig_019_013.55', 'evm.TU.hcontig_011_016.119', 'evm.TU.hcontig_005_043.84', 'evm.TU.hcontig_037_011.73', 'evm.TU.hcontig_034_001.83', 'evm.TU.hcontig_040_002.2', 'evm.TU.hcontig_039_004.37', 'evm.TU.hcontig_002_028.162', 'evm.TU.hcontig_007_006.223', 'evm.TU.hcontig_043_003.52', 'evm.TU.hcontig_033_010.1', 'evm.TU.hcontig_013_010.40', 'evm.TU.hcontig_030_011.92', 'evm.TU.hcontig_018_016.129', 'evm.TU.hcontig_083_002.40', 'evm.TU.hcontig_008_014.80', 'evm.TU.hcontig_005_002.86', 'evm.TU.hcontig_009_024.78', 'evm.TU.hcontig_037_004.58', 'evm.TU.hcontig_010_016.205', 'evm.TU.hcontig_005_043.187', 'evm.TU.hcontig_029_010.1', 'evm.TU.hcontig_003_045.20', 'evm.TU.hcontig_013_029.5', 'evm.TU.hcontig_007_006.217', 'evm.TU.hcontig_022_008.107', 'evm.TU.hcontig_039_005.7', 'evm.TU.hcontig_050_003.20', 'evm.TU.hcontig_064_007.75', 'evm.TU.hcontig_031_005.87', 'evm.TU.hcontig_023_002.26', 'evm.TU.hcontig_041_004.55', 'evm.TU.hcontig_041_004.4', 'evm.TU.hcontig_000_003.26', 'evm.TU.hcontig_010_016.141', 'evm.TU.hcontig_007_006.111', 'evm.TU.hcontig_042_168.11', 'evm.TU.hcontig_034_005.1', 'evm.TU.hcontig_012_116.7', 'evm.TU.hcontig_020_018.5', 'evm.TU.hcontig_007_007.8', 'evm.TU.hcontig_026_018.47', 'evm.TU.hcontig_025_002.15', 'evm.TU.hcontig_047_006.25', 'evm.TU.hcontig_018_016.84', 'evm.TU.hcontig_002_028.300', 'evm.TU.hcontig_056_007.59', 'evm.TU.hcontig_006_021.3', 'evm.TU.hcontig_001_021.129', 'evm.TU.hcontig_001_002.47', 'evm.TU.hcontig_012_010.103', 'evm.TU.hcontig_007_006.220', 'evm.TU.hcontig_027_011.39', 'evm.TU.hcontig_000_003.421', 'evm.TU.hcontig_010_016.98', 'evm.TU.hcontig_021_014.45', 'evm.TU.hcontig_001_001.39', 'evm.TU.hcontig_026_002.7', 'evm.TU.hcontig_003_002.127', 'evm.TU.hcontig_016_024.126', 'evm.TU.hcontig_005_021.58', 'evm.TU.hcontig_031_005.15', 'evm.TU.hcontig_029_023.2', 'evm.TU.hcontig_003_013.41', 'evm.TU.hcontig_064_098.38', 'evm.TU.hcontig_003_002.215', 'evm.TU.hcontig_007_006.23', 'evm.TU.hcontig_001_001.34', 'evm.TU.hcontig_022_008.79', 'evm.TU.hcontig_001_002.4', 'evm.TU.hcontig_062_001.46', 'evm.TU.hcontig_040_109.31', 'evm.TU.hcontig_010_016.192', 'evm.TU.hcontig_059_008.107', 'evm.TU.hcontig_039_005.89', 'evm.TU.hcontig_031_005.112', 'evm.TU.hcontig_041_005.29', 'evm.TU.hcontig_001_032.5', 'evm.TU.hcontig_022_007.25', 'evm.TU.hcontig_054_001.108', 'evm.TU.hcontig_000_003.10', 'evm.TU.hcontig_082_001.6', 'evm.TU.hcontig_017_011.5', 'evm.TU.hcontig_003_045.26', 'evm.TU.hcontig_007_005.5', 'evm.TU.hcontig_033_071.21', 'evm.TU.hcontig_044_003.13', 'evm.TU.hcontig_057_009.5', 'evm.TU.hcontig_005_021.65', 'evm.TU.hcontig_025_003.4', 'evm.TU.hcontig_023_002.43', 'evm.TU.hcontig_033_071.17', 'evm.TU.hcontig_046_007.80', 'evm.TU.hcontig_017_004.140', 'evm.TU.hcontig_002_028.210', 'evm.TU.hcontig_031_013.17', 'evm.TU.hcontig_035_008.29', 'evm.TU.hcontig_011_016.116', 'evm.TU.hcontig_040_015.3', 'evm.TU.hcontig_009_029.51', 'evm.TU.hcontig_039_005.96', 'evm.TU.hcontig_009_029.61', 'evm.TU.hcontig_002_011.123', 'evm.TU.hcontig_003_002.38', 'evm.TU.hcontig_052_006.63', 'evm.TU.hcontig_010_016.202', 'evm.TU.hcontig_058_004.17', 'evm.TU.hcontig_044_003.37', 'evm.TU.hcontig_002_011.23', 'evm.TU.hcontig_023_007.110', 'evm.TU.hcontig_064_007.5', 'evm.TU.hcontig_030_011.151', 'evm.TU.hcontig_019_013.18', 'evm.TU.hcontig_039_005.88', 'evm.TU.hcontig_035_008.4', 'evm.TU.hcontig_021_027.62', 'evm.TU.hcontig_040_002.12', 'evm.TU.hcontig_026_018.49', 'evm.TU.hcontig_029_013.24', 'evm.TU.hcontig_001_001.144', 'evm.TU.hcontig_011_016.117', 'evm.TU.hcontig_029_010.2', 'evm.TU.hcontig_031_007.69', 'evm.TU.hcontig_003_002.92', 'evm.TU.hcontig_003_013.6', 'evm.TU.hcontig_041_005.12', 'evm.TU.hcontig_036_008.100', 'evm.TU.hcontig_020_021.28', 'evm.TU.hcontig_031_005.97', 'evm.TU.hcontig_021_014.30', 'evm.TU.hcontig_046_007.120', 'evm.TU.hcontig_047_006.9', 'evm.TU.hcontig_066_107.29', 'evm.TU.hcontig_040_001.9', 'evm.TU.hcontig_029_010.80', 'evm.TU.hcontig_007_005.66', 'evm.TU.hcontig_046_007.63', 'evm.TU.hcontig_046_007.58', 'evm.TU.hcontig_031_007.24', 'evm.TU.hcontig_026_018.59', 'evm.TU.hcontig_049_002.58', 'evm.TU.hcontig_001_021.110', 'evm.TU.hcontig_044_023.121', 'evm.TU.hcontig_041_004.2', 'evm.TU.hcontig_027_011.32', 'evm.TU.hcontig_045_002.96', 'evm.TU.hcontig_055_012.14', 'evm.TU.hcontig_021_014.168', 'evm.TU.hcontig_035_008.157', 'evm.TU.hcontig_021_014.14', 'evm.TU.hcontig_016_024.57', 'evm.TU.hcontig_017_004.141', 'evm.TU.hcontig_005_043.41', 'evm.TU.hcontig_000_003.444', 'evm.TU.hcontig_001_021.28', 'evm.TU.hcontig_077_002.9', 'evm.TU.hcontig_017_004.120', 'evm.TU.hcontig_041_005.7', 'evm.TU.hcontig_057_003.73', 'evm.TU.hcontig_058_004.19', 'evm.TU.hcontig_033_071.60', 'evm.TU.hcontig_040_015.29', 'evm.TU.hcontig_041_127.12', 'evm.TU.hcontig_018_022.68', 'evm.TU.hcontig_011_016.169', 'evm.TU.hcontig_081_005.36', 'evm.TU.hcontig_022_015.7', 'evm.TU.hcontig_019_085.53', 'evm.TU.hcontig_011_016.37', 'evm.TU.hcontig_057_003.74', 'evm.TU.hcontig_081_005.11', 'evm.TU.hcontig_031_007.91', 'evm.TU.hcontig_006_013.47', 'evm.TU.hcontig_017_004.6', 'evm.TU.hcontig_031_005.52', 'evm.TU.hcontig_005_002.19', 'evm.TU.hcontig_007_005.75', 'evm.TU.hcontig_059_008.111', 'evm.TU.hcontig_005_043.70', 'evm.TU.hcontig_023_003.3', 'evm.TU.hcontig_021_027.83', 'evm.TU.hcontig_057_001.5', 'evm.TU.hcontig_067_008.6', 'evm.TU.hcontig_005_043.91', 'evm.TU.hcontig_026_002.32', 'evm.TU.hcontig_030_011.160', 'evm.TU.hcontig_052_006.115', 'evm.TU.hcontig_017_004.70', 'evm.TU.hcontig_019_015.15', 'evm.TU.hcontig_007_006.112', 'evm.TU.hcontig_014_117.4', 'evm.TU.hcontig_056_007.14', 'evm.TU.hcontig_012_024.75', 'evm.TU.hcontig_055_009.19', 'evm.TU.hcontig_005_002.82', 'evm.TU.hcontig_006_033.17', 'evm.TU.hcontig_010_016.237', 'evm.TU.hcontig_012_010.28', 'evm.TU.hcontig_036_006.16', 'evm.TU.hcontig_057_003.83', 'evm.TU.hcontig_027_011.40', 'evm.TU.hcontig_002_028.206', 'evm.TU.hcontig_040_015.13', 'evm.TU.hcontig_028_003.19', 'evm.TU.hcontig_004_020.166', 'evm.TU.hcontig_009_024.1', 'evm.TU.hcontig_017_004.51', 'evm.TU.hcontig_012_028.93', 'evm.TU.hcontig_059_008.65', 'evm.TU.hcontig_001_021.15', 'evm.TU.hcontig_001_002.39', 'evm.TU.hcontig_021_027.33', 'evm.TU.hcontig_002_011.146', 'evm.TU.hcontig_050_121.18', 'evm.TU.hcontig_000_003.419', 'evm.TU.hcontig_023_007.96', 'evm.TU.hcontig_010_016.41', 'evm.TU.hcontig_017_004.118', 'evm.TU.hcontig_080_002.13', 'evm.TU.hcontig_002_028.276', 'evm.TU.hcontig_005_002.83', 'evm.TU.hcontig_064_007.9', 'evm.TU.hcontig_044_023.87', 'evm.TU.hcontig_030_011.26', 'evm.TU.hcontig_018_015.5', 'evm.TU.hcontig_044_003.39', 'evm.TU.hcontig_020_021.62', 'evm.TU.hcontig_049_002.37', 'evm.TU.hcontig_022_101.24', 'evm.TU.hcontig_046_007.10', 'evm.TU.hcontig_057_003.120', 'evm.TU.hcontig_001_021.115', 'evm.TU.hcontig_023_007.51', 'evm.TU.hcontig_027_006.69', 'evm.TU.hcontig_003_013.20', 'evm.TU.hcontig_007_007.18', 'evm.TU.hcontig_000_003.158', 'evm.TU.hcontig_000_054.68', 'evm.TU.hcontig_021_026.23', 'evm.TU.hcontig_004_020.36', 'evm.TU.hcontig_003_002.61', 'evm.TU.hcontig_000_050.93', 'evm.TU.hcontig_004_020.219', 'evm.TU.hcontig_036_008.15', 'evm.TU.hcontig_042_011.5', 'evm.TU.hcontig_057_003.80', 'evm.TU.hcontig_095_004.15', 'evm.TU.hcontig_021_027.3', 'evm.TU.hcontig_030_011.203', 'evm.TU.hcontig_023_002.11', 'evm.TU.hcontig_019_085.2', 'evm.TU.hcontig_041_004.83', 'evm.TU.hcontig_004_020.118', 'evm.TU.hcontig_003_045.11', 'evm.TU.hcontig_043_119.8', 'evm.TU.hcontig_000_050.144', 'evm.TU.hcontig_018_022.106', 'evm.TU.hcontig_031_005.44', 'evm.TU.hcontig_036_012.14', 'evm.TU.hcontig_014_022.17', 'evm.TU.hcontig_034_001.76', 'evm.TU.hcontig_225_001.1', 'evm.TU.hcontig_043_119.21', 'evm.TU.hcontig_047_006.35', 'evm.TU.hcontig_088_002.19', 'evm.TU.hcontig_019_020.31', 'evm.TU.hcontig_013_010.89', 'evm.TU.hcontig_029_013.104', 'evm.TU.hcontig_003_013.40', 'evm.TU.hcontig_016_024.79', 'evm.TU.hcontig_000_031.4', 'evm.TU.hcontig_002_028.159', 'evm.TU.hcontig_034_001.144', 'evm.TU.hcontig_001_001.129', 'evm.TU.hcontig_060_001.2', 'evm.TU.hcontig_000_003.120', 'evm.TU.hcontig_067_008.4', 'evm.TU.hcontig_012_116.5', 'evm.TU.hcontig_021_014.76', 'evm.TU.hcontig_010_016.186', 'evm.TU.hcontig_019_013.36', 'evm.TU.hcontig_011_016.223', 'evm.TU.hcontig_010_016.225', 'evm.TU.hcontig_018_022.76', 'evm.TU.hcontig_036_002.12', 'evm.TU.hcontig_020_021.129', 'evm.TU.hcontig_000_050.114', 'evm.TU.hcontig_027_102.43', 'evm.TU.hcontig_034_001.21', 'evm.TU.hcontig_011_016.28', 'evm.TU.hcontig_047_003.37', 'evm.TU.hcontig_014_192.10', 'evm.TU.hcontig_031_005.23', 'evm.TU.hcontig_043_003.53', 'evm.TU.hcontig_012_028.25', 'evm.TU.hcontig_147_001.2']\n"
     ]
    }
   ],
   "source": [
    "# Check if list works (it does, but is not sorted)\n",
    "print(effectors)"
   ]
  },
  {
   "cell_type": "code",
   "execution_count": 20,
   "metadata": {
    "collapsed": true
   },
   "outputs": [
    {
     "name": "stdout",
     "output_type": "stream",
     "text": [
      "['evm.TU.hcontig_000_003.1', 'evm.TU.hcontig_000_003.10', 'evm.TU.hcontig_000_003.120', 'evm.TU.hcontig_000_003.158', 'evm.TU.hcontig_000_003.2', 'evm.TU.hcontig_000_003.20', 'evm.TU.hcontig_000_003.26', 'evm.TU.hcontig_000_003.314', 'evm.TU.hcontig_000_003.340', 'evm.TU.hcontig_000_003.380', 'evm.TU.hcontig_000_003.402', 'evm.TU.hcontig_000_003.419', 'evm.TU.hcontig_000_003.421', 'evm.TU.hcontig_000_003.423', 'evm.TU.hcontig_000_003.444', 'evm.TU.hcontig_000_003.450', 'evm.TU.hcontig_000_003.90', 'evm.TU.hcontig_000_031.4', 'evm.TU.hcontig_000_050.114', 'evm.TU.hcontig_000_050.122', 'evm.TU.hcontig_000_050.141', 'evm.TU.hcontig_000_050.144', 'evm.TU.hcontig_000_050.149', 'evm.TU.hcontig_000_050.34', 'evm.TU.hcontig_000_050.85', 'evm.TU.hcontig_000_050.87', 'evm.TU.hcontig_000_050.9', 'evm.TU.hcontig_000_050.93', 'evm.TU.hcontig_000_054.13', 'evm.TU.hcontig_000_054.43', 'evm.TU.hcontig_000_054.68', 'evm.TU.hcontig_001_001.103', 'evm.TU.hcontig_001_001.128', 'evm.TU.hcontig_001_001.129', 'evm.TU.hcontig_001_001.144', 'evm.TU.hcontig_001_001.153', 'evm.TU.hcontig_001_001.34', 'evm.TU.hcontig_001_001.36', 'evm.TU.hcontig_001_001.39', 'evm.TU.hcontig_001_001.41', 'evm.TU.hcontig_001_001.87', 'evm.TU.hcontig_001_001.89', 'evm.TU.hcontig_001_002.39', 'evm.TU.hcontig_001_002.4', 'evm.TU.hcontig_001_002.47', 'evm.TU.hcontig_001_002.5', 'evm.TU.hcontig_001_019.1', 'evm.TU.hcontig_001_019.2', 'evm.TU.hcontig_001_021.110', 'evm.TU.hcontig_001_021.115', 'evm.TU.hcontig_001_021.129', 'evm.TU.hcontig_001_021.139', 'evm.TU.hcontig_001_021.15', 'evm.TU.hcontig_001_021.198', 'evm.TU.hcontig_001_021.28', 'evm.TU.hcontig_001_021.65', 'evm.TU.hcontig_001_021.9', 'evm.TU.hcontig_001_032.3', 'evm.TU.hcontig_001_032.5', 'evm.TU.hcontig_001_042.9', 'evm.TU.hcontig_001_054.18', 'evm.TU.hcontig_001_054.81', 'evm.TU.hcontig_001_054.82', 'evm.TU.hcontig_001_056.2', 'evm.TU.hcontig_001_056.3', 'evm.TU.hcontig_001_056.6', 'evm.TU.hcontig_001_056.8', 'evm.TU.hcontig_001_123.3', 'evm.TU.hcontig_001_180.3', 'evm.TU.hcontig_001_180.4', 'evm.TU.hcontig_001_180.5', 'evm.TU.hcontig_001_180.6', 'evm.TU.hcontig_001_180.7', 'evm.TU.hcontig_002_011.110', 'evm.TU.hcontig_002_011.123', 'evm.TU.hcontig_002_011.134', 'evm.TU.hcontig_002_011.146', 'evm.TU.hcontig_002_011.188', 'evm.TU.hcontig_002_011.201', 'evm.TU.hcontig_002_011.23', 'evm.TU.hcontig_002_011.234', 'evm.TU.hcontig_002_011.29', 'evm.TU.hcontig_002_011.33', 'evm.TU.hcontig_002_011.37', 'evm.TU.hcontig_002_011.66', 'evm.TU.hcontig_002_023.7', 'evm.TU.hcontig_002_028.1', 'evm.TU.hcontig_002_028.149', 'evm.TU.hcontig_002_028.150', 'evm.TU.hcontig_002_028.153', 'evm.TU.hcontig_002_028.159', 'evm.TU.hcontig_002_028.161', 'evm.TU.hcontig_002_028.162', 'evm.TU.hcontig_002_028.173', 'evm.TU.hcontig_002_028.177', 'evm.TU.hcontig_002_028.189', 'evm.TU.hcontig_002_028.206', 'evm.TU.hcontig_002_028.210', 'evm.TU.hcontig_002_028.230', 'evm.TU.hcontig_002_028.271', 'evm.TU.hcontig_002_028.276', 'evm.TU.hcontig_002_028.277', 'evm.TU.hcontig_002_028.279', 'evm.TU.hcontig_002_028.297', 'evm.TU.hcontig_002_028.300', 'evm.TU.hcontig_002_028.303', 'evm.TU.hcontig_002_028.306', 'evm.TU.hcontig_002_028.5', 'evm.TU.hcontig_002_028.54', 'evm.TU.hcontig_002_028.63', 'evm.TU.hcontig_002_028.75', 'evm.TU.hcontig_002_028.84', 'evm.TU.hcontig_003_002.113', 'evm.TU.hcontig_003_002.114', 'evm.TU.hcontig_003_002.125', 'evm.TU.hcontig_003_002.126', 'evm.TU.hcontig_003_002.127', 'evm.TU.hcontig_003_002.159', 'evm.TU.hcontig_003_002.209', 'evm.TU.hcontig_003_002.213', 'evm.TU.hcontig_003_002.215', 'evm.TU.hcontig_003_002.38', 'evm.TU.hcontig_003_002.54', 'evm.TU.hcontig_003_002.59', 'evm.TU.hcontig_003_002.61', 'evm.TU.hcontig_003_002.62', 'evm.TU.hcontig_003_002.91', 'evm.TU.hcontig_003_002.92', 'evm.TU.hcontig_003_002.93', 'evm.TU.hcontig_003_013.20', 'evm.TU.hcontig_003_013.21', 'evm.TU.hcontig_003_013.22', 'evm.TU.hcontig_003_013.23', 'evm.TU.hcontig_003_013.40', 'evm.TU.hcontig_003_013.41', 'evm.TU.hcontig_003_013.44', 'evm.TU.hcontig_003_013.5', 'evm.TU.hcontig_003_013.6', 'evm.TU.hcontig_003_014.20', 'evm.TU.hcontig_003_014.3', 'evm.TU.hcontig_003_014.46', 'evm.TU.hcontig_003_014.54', 'evm.TU.hcontig_003_014.55', 'evm.TU.hcontig_003_014.9', 'evm.TU.hcontig_003_026.4', 'evm.TU.hcontig_003_026.5', 'evm.TU.hcontig_003_028.6', 'evm.TU.hcontig_003_041.76', 'evm.TU.hcontig_003_045.11', 'evm.TU.hcontig_003_045.14', 'evm.TU.hcontig_003_045.19', 'evm.TU.hcontig_003_045.2', 'evm.TU.hcontig_003_045.20', 'evm.TU.hcontig_003_045.25', 'evm.TU.hcontig_003_045.26', 'evm.TU.hcontig_003_045.7', 'evm.TU.hcontig_003_136.1', 'evm.TU.hcontig_003_136.15', 'evm.TU.hcontig_004_019.5', 'evm.TU.hcontig_004_020.118', 'evm.TU.hcontig_004_020.12', 'evm.TU.hcontig_004_020.136', 'evm.TU.hcontig_004_020.14', 'evm.TU.hcontig_004_020.15', 'evm.TU.hcontig_004_020.166', 'evm.TU.hcontig_004_020.169', 'evm.TU.hcontig_004_020.18', 'evm.TU.hcontig_004_020.19', 'evm.TU.hcontig_004_020.190', 'evm.TU.hcontig_004_020.215', 'evm.TU.hcontig_004_020.219', 'evm.TU.hcontig_004_020.26', 'evm.TU.hcontig_004_020.27', 'evm.TU.hcontig_004_020.299', 'evm.TU.hcontig_004_020.324', 'evm.TU.hcontig_004_020.36', 'evm.TU.hcontig_004_020.391', 'evm.TU.hcontig_004_020.395', 'evm.TU.hcontig_004_020.397', 'evm.TU.hcontig_004_020.40', 'evm.TU.hcontig_004_020.55', 'evm.TU.hcontig_004_020.68', 'evm.TU.hcontig_004_021.2', 'evm.TU.hcontig_004_027.1', 'evm.TU.hcontig_004_027.2', 'evm.TU.hcontig_004_076.53', 'evm.TU.hcontig_005_002.19', 'evm.TU.hcontig_005_002.40', 'evm.TU.hcontig_005_002.82', 'evm.TU.hcontig_005_002.83', 'evm.TU.hcontig_005_002.86', 'evm.TU.hcontig_005_002.89', 'evm.TU.hcontig_005_021.1', 'evm.TU.hcontig_005_021.2', 'evm.TU.hcontig_005_021.37', 'evm.TU.hcontig_005_021.58', 'evm.TU.hcontig_005_021.65', 'evm.TU.hcontig_005_039.14', 'evm.TU.hcontig_005_043.152', 'evm.TU.hcontig_005_043.177', 'evm.TU.hcontig_005_043.178', 'evm.TU.hcontig_005_043.187', 'evm.TU.hcontig_005_043.188', 'evm.TU.hcontig_005_043.205', 'evm.TU.hcontig_005_043.218', 'evm.TU.hcontig_005_043.227', 'evm.TU.hcontig_005_043.41', 'evm.TU.hcontig_005_043.44', 'evm.TU.hcontig_005_043.46', 'evm.TU.hcontig_005_043.70', 'evm.TU.hcontig_005_043.71', 'evm.TU.hcontig_005_043.78', 'evm.TU.hcontig_005_043.84', 'evm.TU.hcontig_005_043.91', 'evm.TU.hcontig_006_002.39', 'evm.TU.hcontig_006_002.5', 'evm.TU.hcontig_006_013.11', 'evm.TU.hcontig_006_013.137', 'evm.TU.hcontig_006_013.14', 'evm.TU.hcontig_006_013.173', 'evm.TU.hcontig_006_013.222', 'evm.TU.hcontig_006_013.3', 'evm.TU.hcontig_006_013.47', 'evm.TU.hcontig_006_013.78', 'evm.TU.hcontig_006_013.90', 'evm.TU.hcontig_006_015.31', 'evm.TU.hcontig_006_021.3', 'evm.TU.hcontig_006_033.17', 'evm.TU.hcontig_006_033.2', 'evm.TU.hcontig_006_033.3', 'evm.TU.hcontig_006_033.37', 'evm.TU.hcontig_006_131.11', 'evm.TU.hcontig_006_131.13', 'evm.TU.hcontig_007_001.4', 'evm.TU.hcontig_007_005.22', 'evm.TU.hcontig_007_005.5', 'evm.TU.hcontig_007_005.64', 'evm.TU.hcontig_007_005.66', 'evm.TU.hcontig_007_005.7', 'evm.TU.hcontig_007_005.75', 'evm.TU.hcontig_007_005.78', 'evm.TU.hcontig_007_006.111', 'evm.TU.hcontig_007_006.112', 'evm.TU.hcontig_007_006.164', 'evm.TU.hcontig_007_006.196', 'evm.TU.hcontig_007_006.202', 'evm.TU.hcontig_007_006.206', 'evm.TU.hcontig_007_006.207', 'evm.TU.hcontig_007_006.210', 'evm.TU.hcontig_007_006.217', 'evm.TU.hcontig_007_006.220', 'evm.TU.hcontig_007_006.221', 'evm.TU.hcontig_007_006.223', 'evm.TU.hcontig_007_006.23', 'evm.TU.hcontig_007_007.17', 'evm.TU.hcontig_007_007.18', 'evm.TU.hcontig_007_007.43', 'evm.TU.hcontig_007_007.8', 'evm.TU.hcontig_007_031.2', 'evm.TU.hcontig_008_009.10', 'evm.TU.hcontig_008_009.111', 'evm.TU.hcontig_008_009.38', 'evm.TU.hcontig_008_009.46', 'evm.TU.hcontig_008_009.88', 'evm.TU.hcontig_008_014.43', 'evm.TU.hcontig_008_014.64', 'evm.TU.hcontig_008_014.80', 'evm.TU.hcontig_008_035.11', 'evm.TU.hcontig_008_093.37', 'evm.TU.hcontig_009_015.1', 'evm.TU.hcontig_009_024.1', 'evm.TU.hcontig_009_024.112', 'evm.TU.hcontig_009_024.117', 'evm.TU.hcontig_009_024.18', 'evm.TU.hcontig_009_024.55', 'evm.TU.hcontig_009_024.74', 'evm.TU.hcontig_009_024.78', 'evm.TU.hcontig_009_024.80', 'evm.TU.hcontig_009_029.41', 'evm.TU.hcontig_009_029.51', 'evm.TU.hcontig_009_029.53', 'evm.TU.hcontig_009_029.55', 'evm.TU.hcontig_009_029.56', 'evm.TU.hcontig_009_029.61', 'evm.TU.hcontig_009_142.10', 'evm.TU.hcontig_010_016.105', 'evm.TU.hcontig_010_016.114', 'evm.TU.hcontig_010_016.141', 'evm.TU.hcontig_010_016.186', 'evm.TU.hcontig_010_016.187', 'evm.TU.hcontig_010_016.188', 'evm.TU.hcontig_010_016.192', 'evm.TU.hcontig_010_016.199', 'evm.TU.hcontig_010_016.202', 'evm.TU.hcontig_010_016.205', 'evm.TU.hcontig_010_016.207', 'evm.TU.hcontig_010_016.220', 'evm.TU.hcontig_010_016.224', 'evm.TU.hcontig_010_016.225', 'evm.TU.hcontig_010_016.226', 'evm.TU.hcontig_010_016.236', 'evm.TU.hcontig_010_016.237', 'evm.TU.hcontig_010_016.246', 'evm.TU.hcontig_010_016.247', 'evm.TU.hcontig_010_016.270', 'evm.TU.hcontig_010_016.272', 'evm.TU.hcontig_010_016.277', 'evm.TU.hcontig_010_016.296', 'evm.TU.hcontig_010_016.297', 'evm.TU.hcontig_010_016.38', 'evm.TU.hcontig_010_016.41', 'evm.TU.hcontig_010_016.47', 'evm.TU.hcontig_010_016.48', 'evm.TU.hcontig_010_016.62', 'evm.TU.hcontig_010_016.92', 'evm.TU.hcontig_010_016.98', 'evm.TU.hcontig_010_016.99', 'evm.TU.hcontig_011_005.6', 'evm.TU.hcontig_011_013.3', 'evm.TU.hcontig_011_016.116', 'evm.TU.hcontig_011_016.117', 'evm.TU.hcontig_011_016.119', 'evm.TU.hcontig_011_016.143', 'evm.TU.hcontig_011_016.148', 'evm.TU.hcontig_011_016.149', 'evm.TU.hcontig_011_016.169', 'evm.TU.hcontig_011_016.205', 'evm.TU.hcontig_011_016.223', 'evm.TU.hcontig_011_016.240', 'evm.TU.hcontig_011_016.26', 'evm.TU.hcontig_011_016.27', 'evm.TU.hcontig_011_016.28', 'evm.TU.hcontig_011_016.30', 'evm.TU.hcontig_011_016.31', 'evm.TU.hcontig_011_016.32', 'evm.TU.hcontig_011_016.37', 'evm.TU.hcontig_011_016.91', 'evm.TU.hcontig_011_016.92', 'evm.TU.hcontig_011_017.25', 'evm.TU.hcontig_011_017.37', 'evm.TU.hcontig_011_017.43', 'evm.TU.hcontig_012_010.100', 'evm.TU.hcontig_012_010.103', 'evm.TU.hcontig_012_010.105', 'evm.TU.hcontig_012_010.20', 'evm.TU.hcontig_012_010.25', 'evm.TU.hcontig_012_010.28', 'evm.TU.hcontig_012_010.30', 'evm.TU.hcontig_012_010.60', 'evm.TU.hcontig_012_010.72', 'evm.TU.hcontig_012_024.75', 'evm.TU.hcontig_012_028.106', 'evm.TU.hcontig_012_028.128', 'evm.TU.hcontig_012_028.144', 'evm.TU.hcontig_012_028.25', 'evm.TU.hcontig_012_028.26', 'evm.TU.hcontig_012_028.28', 'evm.TU.hcontig_012_028.93', 'evm.TU.hcontig_012_028.98', 'evm.TU.hcontig_012_116.5', 'evm.TU.hcontig_012_116.7', 'evm.TU.hcontig_013_010.110', 'evm.TU.hcontig_013_010.111', 'evm.TU.hcontig_013_010.17', 'evm.TU.hcontig_013_010.19', 'evm.TU.hcontig_013_010.39', 'evm.TU.hcontig_013_010.40', 'evm.TU.hcontig_013_010.53', 'evm.TU.hcontig_013_010.57', 'evm.TU.hcontig_013_010.59', 'evm.TU.hcontig_013_010.89', 'evm.TU.hcontig_013_010.90', 'evm.TU.hcontig_013_012.64', 'evm.TU.hcontig_013_014.1', 'evm.TU.hcontig_013_018.3', 'evm.TU.hcontig_013_023.20', 'evm.TU.hcontig_013_023.23', 'evm.TU.hcontig_013_023.33', 'evm.TU.hcontig_013_023.71', 'evm.TU.hcontig_013_029.5', 'evm.TU.hcontig_013_029.6', 'evm.TU.hcontig_014_008.11', 'evm.TU.hcontig_014_017.7', 'evm.TU.hcontig_014_022.17', 'evm.TU.hcontig_014_022.19', 'evm.TU.hcontig_014_027.24', 'evm.TU.hcontig_014_117.15', 'evm.TU.hcontig_014_117.19', 'evm.TU.hcontig_014_117.25', 'evm.TU.hcontig_014_117.4', 'evm.TU.hcontig_014_192.10', 'evm.TU.hcontig_014_192.3', 'evm.TU.hcontig_016_014.15', 'evm.TU.hcontig_016_024.126', 'evm.TU.hcontig_016_024.133', 'evm.TU.hcontig_016_024.163', 'evm.TU.hcontig_016_024.22', 'evm.TU.hcontig_016_024.57', 'evm.TU.hcontig_016_024.79', 'evm.TU.hcontig_016_124.11', 'evm.TU.hcontig_017_004.103', 'evm.TU.hcontig_017_004.114', 'evm.TU.hcontig_017_004.118', 'evm.TU.hcontig_017_004.120', 'evm.TU.hcontig_017_004.140', 'evm.TU.hcontig_017_004.141', 'evm.TU.hcontig_017_004.2', 'evm.TU.hcontig_017_004.50', 'evm.TU.hcontig_017_004.51', 'evm.TU.hcontig_017_004.6', 'evm.TU.hcontig_017_004.70', 'evm.TU.hcontig_017_004.71', 'evm.TU.hcontig_017_004.73', 'evm.TU.hcontig_017_011.5', 'evm.TU.hcontig_017_011.6', 'evm.TU.hcontig_017_025.13', 'evm.TU.hcontig_017_025.2', 'evm.TU.hcontig_017_026.2', 'evm.TU.hcontig_017_160.7', 'evm.TU.hcontig_018_007.6', 'evm.TU.hcontig_018_008.1', 'evm.TU.hcontig_018_008.4', 'evm.TU.hcontig_018_010.2', 'evm.TU.hcontig_018_015.5', 'evm.TU.hcontig_018_016.123', 'evm.TU.hcontig_018_016.129', 'evm.TU.hcontig_018_016.132', 'evm.TU.hcontig_018_016.133', 'evm.TU.hcontig_018_016.48', 'evm.TU.hcontig_018_016.70', 'evm.TU.hcontig_018_016.84', 'evm.TU.hcontig_018_016.86', 'evm.TU.hcontig_018_022.106', 'evm.TU.hcontig_018_022.137', 'evm.TU.hcontig_018_022.3', 'evm.TU.hcontig_018_022.65', 'evm.TU.hcontig_018_022.68', 'evm.TU.hcontig_018_022.76', 'evm.TU.hcontig_018_022.79', 'evm.TU.hcontig_018_022.82', 'evm.TU.hcontig_018_022.83', 'evm.TU.hcontig_018_022.88', 'evm.TU.hcontig_019_001.21', 'evm.TU.hcontig_019_001.29', 'evm.TU.hcontig_019_001.33', 'evm.TU.hcontig_019_001.9', 'evm.TU.hcontig_019_013.16', 'evm.TU.hcontig_019_013.18', 'evm.TU.hcontig_019_013.24', 'evm.TU.hcontig_019_013.25', 'evm.TU.hcontig_019_013.36', 'evm.TU.hcontig_019_013.55', 'evm.TU.hcontig_019_015.122', 'evm.TU.hcontig_019_015.15', 'evm.TU.hcontig_019_015.17', 'evm.TU.hcontig_019_015.18', 'evm.TU.hcontig_019_015.25', 'evm.TU.hcontig_019_020.15', 'evm.TU.hcontig_019_020.25', 'evm.TU.hcontig_019_020.31', 'evm.TU.hcontig_019_085.2', 'evm.TU.hcontig_019_085.3', 'evm.TU.hcontig_019_085.36', 'evm.TU.hcontig_019_085.53', 'evm.TU.hcontig_019_085.57', 'evm.TU.hcontig_020_007.1', 'evm.TU.hcontig_020_018.35', 'evm.TU.hcontig_020_018.46', 'evm.TU.hcontig_020_018.5', 'evm.TU.hcontig_020_021.129', 'evm.TU.hcontig_020_021.14', 'evm.TU.hcontig_020_021.150', 'evm.TU.hcontig_020_021.151', 'evm.TU.hcontig_020_021.28', 'evm.TU.hcontig_020_021.45', 'evm.TU.hcontig_020_021.47', 'evm.TU.hcontig_020_021.59', 'evm.TU.hcontig_020_021.62', 'evm.TU.hcontig_020_021.7', 'evm.TU.hcontig_020_022.7', 'evm.TU.hcontig_020_025.32', 'evm.TU.hcontig_020_132.11', 'evm.TU.hcontig_020_132.17', 'evm.TU.hcontig_020_132.18', 'evm.TU.hcontig_021_014.14', 'evm.TU.hcontig_021_014.149', 'evm.TU.hcontig_021_014.151', 'evm.TU.hcontig_021_014.168', 'evm.TU.hcontig_021_014.169', 'evm.TU.hcontig_021_014.30', 'evm.TU.hcontig_021_014.38', 'evm.TU.hcontig_021_014.45', 'evm.TU.hcontig_021_014.63', 'evm.TU.hcontig_021_014.76', 'evm.TU.hcontig_021_014.84', 'evm.TU.hcontig_021_014.96', 'evm.TU.hcontig_021_026.2', 'evm.TU.hcontig_021_026.22', 'evm.TU.hcontig_021_026.23', 'evm.TU.hcontig_021_027.28', 'evm.TU.hcontig_021_027.3', 'evm.TU.hcontig_021_027.33', 'evm.TU.hcontig_021_027.62', 'evm.TU.hcontig_021_027.70', 'evm.TU.hcontig_021_027.72', 'evm.TU.hcontig_021_027.83', 'evm.TU.hcontig_022_007.17', 'evm.TU.hcontig_022_007.25', 'evm.TU.hcontig_022_007.29', 'evm.TU.hcontig_022_007.31', 'evm.TU.hcontig_022_007.39', 'evm.TU.hcontig_022_008.107', 'evm.TU.hcontig_022_008.14', 'evm.TU.hcontig_022_008.35', 'evm.TU.hcontig_022_008.39', 'evm.TU.hcontig_022_008.53', 'evm.TU.hcontig_022_008.79', 'evm.TU.hcontig_022_015.15', 'evm.TU.hcontig_022_015.7', 'evm.TU.hcontig_022_101.24', 'evm.TU.hcontig_023_002.107', 'evm.TU.hcontig_023_002.11', 'evm.TU.hcontig_023_002.142', 'evm.TU.hcontig_023_002.26', 'evm.TU.hcontig_023_002.27', 'evm.TU.hcontig_023_002.33', 'evm.TU.hcontig_023_002.43', 'evm.TU.hcontig_023_002.67', 'evm.TU.hcontig_023_003.3', 'evm.TU.hcontig_023_007.110', 'evm.TU.hcontig_023_007.31', 'evm.TU.hcontig_023_007.51', 'evm.TU.hcontig_023_007.77', 'evm.TU.hcontig_023_007.96', 'evm.TU.hcontig_025_002.15', 'evm.TU.hcontig_025_002.19', 'evm.TU.hcontig_025_003.23', 'evm.TU.hcontig_025_003.24', 'evm.TU.hcontig_025_003.38', 'evm.TU.hcontig_025_003.39', 'evm.TU.hcontig_025_003.4', 'evm.TU.hcontig_025_003.63', 'evm.TU.hcontig_026_002.113', 'evm.TU.hcontig_026_002.124', 'evm.TU.hcontig_026_002.137', 'evm.TU.hcontig_026_002.138', 'evm.TU.hcontig_026_002.159', 'evm.TU.hcontig_026_002.31', 'evm.TU.hcontig_026_002.32', 'evm.TU.hcontig_026_002.7', 'evm.TU.hcontig_026_002.8', 'evm.TU.hcontig_026_011.10', 'evm.TU.hcontig_026_011.11', 'evm.TU.hcontig_026_011.9', 'evm.TU.hcontig_026_018.47', 'evm.TU.hcontig_026_018.49', 'evm.TU.hcontig_026_018.50', 'evm.TU.hcontig_026_018.59', 'evm.TU.hcontig_026_018.62', 'evm.TU.hcontig_026_018.63', 'evm.TU.hcontig_027_006.107', 'evm.TU.hcontig_027_006.69', 'evm.TU.hcontig_027_011.32', 'evm.TU.hcontig_027_011.38', 'evm.TU.hcontig_027_011.39', 'evm.TU.hcontig_027_011.40', 'evm.TU.hcontig_027_011.42', 'evm.TU.hcontig_027_011.78', 'evm.TU.hcontig_027_011.79', 'evm.TU.hcontig_027_011.80', 'evm.TU.hcontig_027_011.86', 'evm.TU.hcontig_027_018.8', 'evm.TU.hcontig_027_018.9', 'evm.TU.hcontig_027_102.2', 'evm.TU.hcontig_027_102.24', 'evm.TU.hcontig_027_102.43', 'evm.TU.hcontig_027_102.45', 'evm.TU.hcontig_028_003.17', 'evm.TU.hcontig_028_003.19', 'evm.TU.hcontig_028_003.23', 'evm.TU.hcontig_028_011.104', 'evm.TU.hcontig_028_011.105', 'evm.TU.hcontig_028_011.113', 'evm.TU.hcontig_028_011.125', 'evm.TU.hcontig_028_011.6', 'evm.TU.hcontig_028_011.85', 'evm.TU.hcontig_028_015.14', 'evm.TU.hcontig_028_015.19', 'evm.TU.hcontig_028_015.2', 'evm.TU.hcontig_029_001.3', 'evm.TU.hcontig_029_010.1', 'evm.TU.hcontig_029_010.2', 'evm.TU.hcontig_029_010.62', 'evm.TU.hcontig_029_010.80', 'evm.TU.hcontig_029_010.84', 'evm.TU.hcontig_029_013.103', 'evm.TU.hcontig_029_013.104', 'evm.TU.hcontig_029_013.24', 'evm.TU.hcontig_029_013.30', 'evm.TU.hcontig_029_013.46', 'evm.TU.hcontig_029_013.74', 'evm.TU.hcontig_029_013.76', 'evm.TU.hcontig_029_013.81', 'evm.TU.hcontig_029_013.83', 'evm.TU.hcontig_029_013.90', 'evm.TU.hcontig_029_013.96', 'evm.TU.hcontig_029_014.3', 'evm.TU.hcontig_029_023.1', 'evm.TU.hcontig_029_023.2', 'evm.TU.hcontig_030_011.116', 'evm.TU.hcontig_030_011.134', 'evm.TU.hcontig_030_011.15', 'evm.TU.hcontig_030_011.151', 'evm.TU.hcontig_030_011.160', 'evm.TU.hcontig_030_011.161', 'evm.TU.hcontig_030_011.203', 'evm.TU.hcontig_030_011.25', 'evm.TU.hcontig_030_011.26', 'evm.TU.hcontig_030_011.38', 'evm.TU.hcontig_030_011.41', 'evm.TU.hcontig_030_011.42', 'evm.TU.hcontig_030_011.92', 'evm.TU.hcontig_030_155.14', 'evm.TU.hcontig_031_005.109', 'evm.TU.hcontig_031_005.112', 'evm.TU.hcontig_031_005.15', 'evm.TU.hcontig_031_005.22', 'evm.TU.hcontig_031_005.23', 'evm.TU.hcontig_031_005.29', 'evm.TU.hcontig_031_005.44', 'evm.TU.hcontig_031_005.47', 'evm.TU.hcontig_031_005.52', 'evm.TU.hcontig_031_005.53', 'evm.TU.hcontig_031_005.54', 'evm.TU.hcontig_031_005.87', 'evm.TU.hcontig_031_005.9', 'evm.TU.hcontig_031_005.93', 'evm.TU.hcontig_031_005.96', 'evm.TU.hcontig_031_005.97', 'evm.TU.hcontig_031_005.99', 'evm.TU.hcontig_031_007.24', 'evm.TU.hcontig_031_007.26', 'evm.TU.hcontig_031_007.35', 'evm.TU.hcontig_031_007.40', 'evm.TU.hcontig_031_007.42', 'evm.TU.hcontig_031_007.69', 'evm.TU.hcontig_031_007.91', 'evm.TU.hcontig_031_013.17', 'evm.TU.hcontig_031_015.2', 'evm.TU.hcontig_031_015.4', 'evm.TU.hcontig_033_010.1', 'evm.TU.hcontig_033_014.54', 'evm.TU.hcontig_033_071.16', 'evm.TU.hcontig_033_071.17', 'evm.TU.hcontig_033_071.21', 'evm.TU.hcontig_033_071.25', 'evm.TU.hcontig_033_071.59', 'evm.TU.hcontig_033_071.60', 'evm.TU.hcontig_033_071.76', 'evm.TU.hcontig_033_071.85', 'evm.TU.hcontig_034_001.109', 'evm.TU.hcontig_034_001.116', 'evm.TU.hcontig_034_001.127', 'evm.TU.hcontig_034_001.140', 'evm.TU.hcontig_034_001.142', 'evm.TU.hcontig_034_001.144', 'evm.TU.hcontig_034_001.157', 'evm.TU.hcontig_034_001.158', 'evm.TU.hcontig_034_001.160', 'evm.TU.hcontig_034_001.163', 'evm.TU.hcontig_034_001.21', 'evm.TU.hcontig_034_001.57', 'evm.TU.hcontig_034_001.60', 'evm.TU.hcontig_034_001.66', 'evm.TU.hcontig_034_001.76', 'evm.TU.hcontig_034_001.83', 'evm.TU.hcontig_034_005.1', 'evm.TU.hcontig_034_022.11', 'evm.TU.hcontig_034_022.9', 'evm.TU.hcontig_035_008.10', 'evm.TU.hcontig_035_008.11', 'evm.TU.hcontig_035_008.129', 'evm.TU.hcontig_035_008.130', 'evm.TU.hcontig_035_008.134', 'evm.TU.hcontig_035_008.137', 'evm.TU.hcontig_035_008.144', 'evm.TU.hcontig_035_008.157', 'evm.TU.hcontig_035_008.29', 'evm.TU.hcontig_035_008.31', 'evm.TU.hcontig_035_008.32', 'evm.TU.hcontig_035_008.33', 'evm.TU.hcontig_035_008.34', 'evm.TU.hcontig_035_008.4', 'evm.TU.hcontig_035_008.46', 'evm.TU.hcontig_035_008.47', 'evm.TU.hcontig_035_008.49', 'evm.TU.hcontig_035_008.61', 'evm.TU.hcontig_035_008.8', 'evm.TU.hcontig_035_013.2', 'evm.TU.hcontig_035_019.3', 'evm.TU.hcontig_035_019.4', 'evm.TU.hcontig_035_019.6', 'evm.TU.hcontig_036_002.11', 'evm.TU.hcontig_036_002.12', 'evm.TU.hcontig_036_006.13', 'evm.TU.hcontig_036_006.14', 'evm.TU.hcontig_036_006.16', 'evm.TU.hcontig_036_008.100', 'evm.TU.hcontig_036_008.15', 'evm.TU.hcontig_036_008.6', 'evm.TU.hcontig_036_008.8', 'evm.TU.hcontig_036_012.1', 'evm.TU.hcontig_036_012.14', 'evm.TU.hcontig_036_012.16', 'evm.TU.hcontig_036_012.2', 'evm.TU.hcontig_037_004.37', 'evm.TU.hcontig_037_004.55', 'evm.TU.hcontig_037_004.58', 'evm.TU.hcontig_037_004.61', 'evm.TU.hcontig_037_004.63', 'evm.TU.hcontig_037_004.70', 'evm.TU.hcontig_037_011.31', 'evm.TU.hcontig_037_011.32', 'evm.TU.hcontig_037_011.35', 'evm.TU.hcontig_037_011.73', 'evm.TU.hcontig_037_011.75', 'evm.TU.hcontig_037_011.76', 'evm.TU.hcontig_037_011.77', 'evm.TU.hcontig_037_011.78', 'evm.TU.hcontig_037_017.3', 'evm.TU.hcontig_037_161.3', 'evm.TU.hcontig_039_004.26', 'evm.TU.hcontig_039_004.36', 'evm.TU.hcontig_039_004.37', 'evm.TU.hcontig_039_004.63', 'evm.TU.hcontig_039_005.11', 'evm.TU.hcontig_039_005.22', 'evm.TU.hcontig_039_005.38', 'evm.TU.hcontig_039_005.39', 'evm.TU.hcontig_039_005.7', 'evm.TU.hcontig_039_005.83', 'evm.TU.hcontig_039_005.88', 'evm.TU.hcontig_039_005.89', 'evm.TU.hcontig_039_005.90', 'evm.TU.hcontig_039_005.94', 'evm.TU.hcontig_039_005.96', 'evm.TU.hcontig_040_001.2', 'evm.TU.hcontig_040_001.3', 'evm.TU.hcontig_040_001.6', 'evm.TU.hcontig_040_001.9', 'evm.TU.hcontig_040_002.12', 'evm.TU.hcontig_040_002.2', 'evm.TU.hcontig_040_015.13', 'evm.TU.hcontig_040_015.29', 'evm.TU.hcontig_040_015.3', 'evm.TU.hcontig_040_015.69', 'evm.TU.hcontig_040_015.79', 'evm.TU.hcontig_040_015.86', 'evm.TU.hcontig_040_015.91', 'evm.TU.hcontig_040_109.23', 'evm.TU.hcontig_040_109.31', 'evm.TU.hcontig_041_004.2', 'evm.TU.hcontig_041_004.4', 'evm.TU.hcontig_041_004.54', 'evm.TU.hcontig_041_004.55', 'evm.TU.hcontig_041_004.60', 'evm.TU.hcontig_041_004.78', 'evm.TU.hcontig_041_004.83', 'evm.TU.hcontig_041_005.12', 'evm.TU.hcontig_041_005.28', 'evm.TU.hcontig_041_005.29', 'evm.TU.hcontig_041_005.6', 'evm.TU.hcontig_041_005.7', 'evm.TU.hcontig_041_127.12', 'evm.TU.hcontig_041_127.20', 'evm.TU.hcontig_041_127.8', 'evm.TU.hcontig_042_005.2', 'evm.TU.hcontig_042_008.7', 'evm.TU.hcontig_042_009.58', 'evm.TU.hcontig_042_009.59', 'evm.TU.hcontig_042_011.5', 'evm.TU.hcontig_042_168.11', 'evm.TU.hcontig_043_003.15', 'evm.TU.hcontig_043_003.41', 'evm.TU.hcontig_043_003.52', 'evm.TU.hcontig_043_003.53', 'evm.TU.hcontig_043_006.6', 'evm.TU.hcontig_043_119.21', 'evm.TU.hcontig_043_119.4', 'evm.TU.hcontig_043_119.8', 'evm.TU.hcontig_044_003.13', 'evm.TU.hcontig_044_003.37', 'evm.TU.hcontig_044_003.39', 'evm.TU.hcontig_044_003.40', 'evm.TU.hcontig_044_003.43', 'evm.TU.hcontig_044_023.118', 'evm.TU.hcontig_044_023.121', 'evm.TU.hcontig_044_023.30', 'evm.TU.hcontig_044_023.62', 'evm.TU.hcontig_044_023.87', 'evm.TU.hcontig_044_023.88', 'evm.TU.hcontig_045_002.10', 'evm.TU.hcontig_045_002.12', 'evm.TU.hcontig_045_002.14', 'evm.TU.hcontig_045_002.3', 'evm.TU.hcontig_045_002.83', 'evm.TU.hcontig_045_002.88', 'evm.TU.hcontig_045_002.92', 'evm.TU.hcontig_045_002.96', 'evm.TU.hcontig_046_007.10', 'evm.TU.hcontig_046_007.119', 'evm.TU.hcontig_046_007.120', 'evm.TU.hcontig_046_007.42', 'evm.TU.hcontig_046_007.58', 'evm.TU.hcontig_046_007.63', 'evm.TU.hcontig_046_007.70', 'evm.TU.hcontig_046_007.80', 'evm.TU.hcontig_046_007.83', 'evm.TU.hcontig_046_007.88', 'evm.TU.hcontig_047_003.30', 'evm.TU.hcontig_047_003.37', 'evm.TU.hcontig_047_003.38', 'evm.TU.hcontig_047_006.25', 'evm.TU.hcontig_047_006.35', 'evm.TU.hcontig_047_006.51', 'evm.TU.hcontig_047_006.9', 'evm.TU.hcontig_047_007.2', 'evm.TU.hcontig_048_005.42', 'evm.TU.hcontig_048_005.62', 'evm.TU.hcontig_048_010.27', 'evm.TU.hcontig_048_010.29', 'evm.TU.hcontig_049_002.1', 'evm.TU.hcontig_049_002.37', 'evm.TU.hcontig_049_002.41', 'evm.TU.hcontig_049_002.58', 'evm.TU.hcontig_050_003.14', 'evm.TU.hcontig_050_003.20', 'evm.TU.hcontig_050_003.45', 'evm.TU.hcontig_050_010.1', 'evm.TU.hcontig_050_011.33', 'evm.TU.hcontig_050_011.39', 'evm.TU.hcontig_050_053.12', 'evm.TU.hcontig_050_053.5', 'evm.TU.hcontig_050_121.18', 'evm.TU.hcontig_050_121.9', 'evm.TU.hcontig_052_006.115', 'evm.TU.hcontig_052_006.117', 'evm.TU.hcontig_052_006.146', 'evm.TU.hcontig_052_006.155', 'evm.TU.hcontig_052_006.25', 'evm.TU.hcontig_052_006.53', 'evm.TU.hcontig_052_006.63', 'evm.TU.hcontig_052_105.25', 'evm.TU.hcontig_052_105.4', 'evm.TU.hcontig_054_001.108', 'evm.TU.hcontig_054_001.17', 'evm.TU.hcontig_054_001.25', 'evm.TU.hcontig_054_001.35', 'evm.TU.hcontig_054_001.50', 'evm.TU.hcontig_054_001.52', 'evm.TU.hcontig_054_001.91', 'evm.TU.hcontig_055_008.4', 'evm.TU.hcontig_055_009.1', 'evm.TU.hcontig_055_009.19', 'evm.TU.hcontig_055_009.22', 'evm.TU.hcontig_055_009.8', 'evm.TU.hcontig_055_009.9', 'evm.TU.hcontig_055_012.14', 'evm.TU.hcontig_055_012.91', 'evm.TU.hcontig_056_007.13', 'evm.TU.hcontig_056_007.14', 'evm.TU.hcontig_056_007.22', 'evm.TU.hcontig_056_007.24', 'evm.TU.hcontig_056_007.28', 'evm.TU.hcontig_056_007.39', 'evm.TU.hcontig_056_007.40', 'evm.TU.hcontig_056_007.58', 'evm.TU.hcontig_056_007.59', 'evm.TU.hcontig_057_001.1', 'evm.TU.hcontig_057_001.5', 'evm.TU.hcontig_057_002.5', 'evm.TU.hcontig_057_003.120', 'evm.TU.hcontig_057_003.121', 'evm.TU.hcontig_057_003.133', 'evm.TU.hcontig_057_003.36', 'evm.TU.hcontig_057_003.54', 'evm.TU.hcontig_057_003.64', 'evm.TU.hcontig_057_003.73', 'evm.TU.hcontig_057_003.74', 'evm.TU.hcontig_057_003.80', 'evm.TU.hcontig_057_003.83', 'evm.TU.hcontig_057_003.89', 'evm.TU.hcontig_057_009.4', 'evm.TU.hcontig_057_009.5', 'evm.TU.hcontig_058_004.17', 'evm.TU.hcontig_058_004.18', 'evm.TU.hcontig_058_004.19', 'evm.TU.hcontig_058_175.7', 'evm.TU.hcontig_059_005.1', 'evm.TU.hcontig_059_008.10', 'evm.TU.hcontig_059_008.101', 'evm.TU.hcontig_059_008.107', 'evm.TU.hcontig_059_008.111', 'evm.TU.hcontig_059_008.125', 'evm.TU.hcontig_059_008.19', 'evm.TU.hcontig_059_008.2', 'evm.TU.hcontig_059_008.37', 'evm.TU.hcontig_059_008.45', 'evm.TU.hcontig_059_008.54', 'evm.TU.hcontig_059_008.65', 'evm.TU.hcontig_059_008.7', 'evm.TU.hcontig_059_008.78', 'evm.TU.hcontig_060_001.2', 'evm.TU.hcontig_060_001.64', 'evm.TU.hcontig_060_001.65', 'evm.TU.hcontig_060_001.66', 'evm.TU.hcontig_060_001.67', 'evm.TU.hcontig_062_001.35', 'evm.TU.hcontig_062_001.46', 'evm.TU.hcontig_062_001.54', 'evm.TU.hcontig_062_001.62', 'evm.TU.hcontig_062_001.81', 'evm.TU.hcontig_064_007.1', 'evm.TU.hcontig_064_007.10', 'evm.TU.hcontig_064_007.5', 'evm.TU.hcontig_064_007.75', 'evm.TU.hcontig_064_007.9', 'evm.TU.hcontig_064_098.38', 'evm.TU.hcontig_065_003.39', 'evm.TU.hcontig_065_094.41', 'evm.TU.hcontig_066_004.8', 'evm.TU.hcontig_066_107.29', 'evm.TU.hcontig_067_004.24', 'evm.TU.hcontig_067_004.6', 'evm.TU.hcontig_067_005.8', 'evm.TU.hcontig_067_008.4', 'evm.TU.hcontig_067_008.6', 'evm.TU.hcontig_069_137.6', 'evm.TU.hcontig_070_006.2', 'evm.TU.hcontig_070_006.4', 'evm.TU.hcontig_070_009.13', 'evm.TU.hcontig_070_009.15', 'evm.TU.hcontig_077_002.9', 'evm.TU.hcontig_078_002.22', 'evm.TU.hcontig_078_002.8', 'evm.TU.hcontig_080_002.10', 'evm.TU.hcontig_080_002.13', 'evm.TU.hcontig_081_004.22', 'evm.TU.hcontig_081_005.11', 'evm.TU.hcontig_081_005.34', 'evm.TU.hcontig_081_005.36', 'evm.TU.hcontig_081_005.7', 'evm.TU.hcontig_082_001.6', 'evm.TU.hcontig_082_002.25', 'evm.TU.hcontig_083_002.40', 'evm.TU.hcontig_083_002.51', 'evm.TU.hcontig_083_002.52', 'evm.TU.hcontig_083_002.54', 'evm.TU.hcontig_084_003.7', 'evm.TU.hcontig_088_002.19', 'evm.TU.hcontig_088_002.29', 'evm.TU.hcontig_088_002.34', 'evm.TU.hcontig_089_005.2', 'evm.TU.hcontig_092_003.10', 'evm.TU.hcontig_095_004.15', 'evm.TU.hcontig_104_001.2', 'evm.TU.hcontig_147_001.2', 'evm.TU.hcontig_189_001.2', 'evm.TU.hcontig_225_001.1', 'evm.TU.pcontig_000.112', 'evm.TU.pcontig_000.19', 'evm.TU.pcontig_000.262', 'evm.TU.pcontig_000.276', 'evm.TU.pcontig_000.3', 'evm.TU.pcontig_000.306', 'evm.TU.pcontig_000.332', 'evm.TU.pcontig_000.378', 'evm.TU.pcontig_000.392', 'evm.TU.pcontig_000.406', 'evm.TU.pcontig_000.421', 'evm.TU.pcontig_000.423', 'evm.TU.pcontig_000.448', 'evm.TU.pcontig_000.450', 'evm.TU.pcontig_000.454', 'evm.TU.pcontig_000.479', 'evm.TU.pcontig_000.508', 'evm.TU.pcontig_000.554', 'evm.TU.pcontig_000.556', 'evm.TU.pcontig_000.558', 'evm.TU.pcontig_000.562', 'evm.TU.pcontig_000.583', 'evm.TU.pcontig_000.588', 'evm.TU.pcontig_000.593', 'evm.TU.pcontig_000.612', 'evm.TU.pcontig_000.624', 'evm.TU.pcontig_000.63', 'evm.TU.pcontig_000.679', 'evm.TU.pcontig_000.85', 'evm.TU.pcontig_000.9', 'evm.TU.pcontig_001.104', 'evm.TU.pcontig_001.169', 'evm.TU.pcontig_001.174', 'evm.TU.pcontig_001.188', 'evm.TU.pcontig_001.231', 'evm.TU.pcontig_001.252', 'evm.TU.pcontig_001.270', 'evm.TU.pcontig_001.274', 'evm.TU.pcontig_001.28', 'evm.TU.pcontig_001.288', 'evm.TU.pcontig_001.298', 'evm.TU.pcontig_001.3', 'evm.TU.pcontig_001.363', 'evm.TU.pcontig_001.365', 'evm.TU.pcontig_001.366', 'evm.TU.pcontig_001.367', 'evm.TU.pcontig_001.368', 'evm.TU.pcontig_001.371', 'evm.TU.pcontig_001.378', 'evm.TU.pcontig_001.379', 'evm.TU.pcontig_001.381', 'evm.TU.pcontig_001.4', 'evm.TU.pcontig_001.413', 'evm.TU.pcontig_001.463', 'evm.TU.pcontig_001.515', 'evm.TU.pcontig_001.518', 'evm.TU.pcontig_001.520', 'evm.TU.pcontig_001.568', 'evm.TU.pcontig_001.570', 'evm.TU.pcontig_001.583', 'evm.TU.pcontig_001.611', 'evm.TU.pcontig_001.613', 'evm.TU.pcontig_001.622', 'evm.TU.pcontig_001.632', 'evm.TU.pcontig_001.634', 'evm.TU.pcontig_001.635', 'evm.TU.pcontig_001.636', 'evm.TU.pcontig_001.638', 'evm.TU.pcontig_001.644', 'evm.TU.pcontig_001.657', 'evm.TU.pcontig_001.7', 'evm.TU.pcontig_001.83', 'evm.TU.pcontig_001.85', 'evm.TU.pcontig_002.108', 'evm.TU.pcontig_002.119', 'evm.TU.pcontig_002.131', 'evm.TU.pcontig_002.151', 'evm.TU.pcontig_002.202', 'evm.TU.pcontig_002.204', 'evm.TU.pcontig_002.223', 'evm.TU.pcontig_002.229', 'evm.TU.pcontig_002.243', 'evm.TU.pcontig_002.246', 'evm.TU.pcontig_002.28', 'evm.TU.pcontig_002.303', 'evm.TU.pcontig_002.315', 'evm.TU.pcontig_002.316', 'evm.TU.pcontig_002.332', 'evm.TU.pcontig_002.333', 'evm.TU.pcontig_002.34', 'evm.TU.pcontig_002.38', 'evm.TU.pcontig_002.40', 'evm.TU.pcontig_002.403', 'evm.TU.pcontig_002.404', 'evm.TU.pcontig_002.407', 'evm.TU.pcontig_002.413', 'evm.TU.pcontig_002.415', 'evm.TU.pcontig_002.42', 'evm.TU.pcontig_002.423', 'evm.TU.pcontig_002.426', 'evm.TU.pcontig_002.431', 'evm.TU.pcontig_002.440', 'evm.TU.pcontig_002.449', 'evm.TU.pcontig_002.453', 'evm.TU.pcontig_002.467', 'evm.TU.pcontig_002.529', 'evm.TU.pcontig_002.535', 'evm.TU.pcontig_002.536', 'evm.TU.pcontig_002.538', 'evm.TU.pcontig_002.553', 'evm.TU.pcontig_002.559', 'evm.TU.pcontig_002.562', 'evm.TU.pcontig_002.64', 'evm.TU.pcontig_002.92', 'evm.TU.pcontig_002.95', 'evm.TU.pcontig_003.140', 'evm.TU.pcontig_003.154', 'evm.TU.pcontig_003.162', 'evm.TU.pcontig_003.179', 'evm.TU.pcontig_003.208', 'evm.TU.pcontig_003.217', 'evm.TU.pcontig_003.218', 'evm.TU.pcontig_003.232', 'evm.TU.pcontig_003.236', 'evm.TU.pcontig_003.240', 'evm.TU.pcontig_003.243', 'evm.TU.pcontig_003.248', 'evm.TU.pcontig_003.249', 'evm.TU.pcontig_003.254', 'evm.TU.pcontig_003.255', 'evm.TU.pcontig_003.328', 'evm.TU.pcontig_003.333', 'evm.TU.pcontig_003.335', 'evm.TU.pcontig_003.336', 'evm.TU.pcontig_003.365', 'evm.TU.pcontig_003.366', 'evm.TU.pcontig_003.367', 'evm.TU.pcontig_003.387', 'evm.TU.pcontig_003.388', 'evm.TU.pcontig_003.402', 'evm.TU.pcontig_003.403', 'evm.TU.pcontig_003.427', 'evm.TU.pcontig_003.436', 'evm.TU.pcontig_003.471', 'evm.TU.pcontig_003.477', 'evm.TU.pcontig_003.479', 'evm.TU.pcontig_003.487', 'evm.TU.pcontig_003.505', 'evm.TU.pcontig_003.506', 'evm.TU.pcontig_003.507', 'evm.TU.pcontig_003.508', 'evm.TU.pcontig_003.521', 'evm.TU.pcontig_003.522', 'evm.TU.pcontig_003.523', 'evm.TU.pcontig_003.524', 'evm.TU.pcontig_003.525', 'evm.TU.pcontig_003.543', 'evm.TU.pcontig_003.544', 'evm.TU.pcontig_003.547', 'evm.TU.pcontig_003.87', 'evm.TU.pcontig_003.9', 'evm.TU.pcontig_004.124', 'evm.TU.pcontig_004.13', 'evm.TU.pcontig_004.142', 'evm.TU.pcontig_004.165', 'evm.TU.pcontig_004.168', 'evm.TU.pcontig_004.18', 'evm.TU.pcontig_004.19', 'evm.TU.pcontig_004.190', 'evm.TU.pcontig_004.191', 'evm.TU.pcontig_004.195', 'evm.TU.pcontig_004.214', 'evm.TU.pcontig_004.26', 'evm.TU.pcontig_004.27', 'evm.TU.pcontig_004.284', 'evm.TU.pcontig_004.304', 'evm.TU.pcontig_004.35', 'evm.TU.pcontig_004.372', 'evm.TU.pcontig_004.388', 'evm.TU.pcontig_004.39', 'evm.TU.pcontig_004.435', 'evm.TU.pcontig_004.437', 'evm.TU.pcontig_004.448', 'evm.TU.pcontig_004.53', 'evm.TU.pcontig_004.58', 'evm.TU.pcontig_004.73', 'evm.TU.pcontig_005.10', 'evm.TU.pcontig_005.126', 'evm.TU.pcontig_005.14', 'evm.TU.pcontig_005.186', 'evm.TU.pcontig_005.193', 'evm.TU.pcontig_005.242', 'evm.TU.pcontig_005.255', 'evm.TU.pcontig_005.258', 'evm.TU.pcontig_005.260', 'evm.TU.pcontig_005.289', 'evm.TU.pcontig_005.294', 'evm.TU.pcontig_005.301', 'evm.TU.pcontig_005.306', 'evm.TU.pcontig_005.33', 'evm.TU.pcontig_005.394', 'evm.TU.pcontig_005.395', 'evm.TU.pcontig_005.4', 'evm.TU.pcontig_005.418', 'evm.TU.pcontig_005.419', 'evm.TU.pcontig_005.439', 'evm.TU.pcontig_005.453', 'evm.TU.pcontig_005.461', 'evm.TU.pcontig_005.495', 'evm.TU.pcontig_005.51', 'evm.TU.pcontig_005.52', 'evm.TU.pcontig_005.6', 'evm.TU.pcontig_005.91', 'evm.TU.pcontig_005.95', 'evm.TU.pcontig_005.98', 'evm.TU.pcontig_006.108', 'evm.TU.pcontig_006.126', 'evm.TU.pcontig_006.13', 'evm.TU.pcontig_006.140', 'evm.TU.pcontig_006.142', 'evm.TU.pcontig_006.15', 'evm.TU.pcontig_006.199', 'evm.TU.pcontig_006.2', 'evm.TU.pcontig_006.278', 'evm.TU.pcontig_006.290', 'evm.TU.pcontig_006.293', 'evm.TU.pcontig_006.329', 'evm.TU.pcontig_006.35', 'evm.TU.pcontig_006.361', 'evm.TU.pcontig_006.391', 'evm.TU.pcontig_006.404', 'evm.TU.pcontig_006.433', 'evm.TU.pcontig_006.461', 'evm.TU.pcontig_006.472', 'evm.TU.pcontig_006.507', 'evm.TU.pcontig_006.90', 'evm.TU.pcontig_007.10', 'evm.TU.pcontig_007.113', 'evm.TU.pcontig_007.141', 'evm.TU.pcontig_007.151', 'evm.TU.pcontig_007.154', 'evm.TU.pcontig_007.175', 'evm.TU.pcontig_007.180', 'evm.TU.pcontig_007.223', 'evm.TU.pcontig_007.226', 'evm.TU.pcontig_007.23', 'evm.TU.pcontig_007.308', 'evm.TU.pcontig_007.309', 'evm.TU.pcontig_007.390', 'evm.TU.pcontig_007.405', 'evm.TU.pcontig_007.411', 'evm.TU.pcontig_007.412', 'evm.TU.pcontig_007.418', 'evm.TU.pcontig_007.421', 'evm.TU.pcontig_007.422', 'evm.TU.pcontig_007.424', 'evm.TU.pcontig_007.8', 'evm.TU.pcontig_007.81', 'evm.TU.pcontig_007.84', 'evm.TU.pcontig_008.133', 'evm.TU.pcontig_008.137', 'evm.TU.pcontig_008.159', 'evm.TU.pcontig_008.171', 'evm.TU.pcontig_008.209', 'evm.TU.pcontig_008.257', 'evm.TU.pcontig_008.30', 'evm.TU.pcontig_008.322', 'evm.TU.pcontig_008.343', 'evm.TU.pcontig_008.362', 'evm.TU.pcontig_008.86', 'evm.TU.pcontig_009.12', 'evm.TU.pcontig_009.126', 'evm.TU.pcontig_009.136', 'evm.TU.pcontig_009.138', 'evm.TU.pcontig_009.140', 'evm.TU.pcontig_009.141', 'evm.TU.pcontig_009.145', 'evm.TU.pcontig_009.158', 'evm.TU.pcontig_009.162', 'evm.TU.pcontig_009.163', 'evm.TU.pcontig_009.164', 'evm.TU.pcontig_009.181', 'evm.TU.pcontig_009.2', 'evm.TU.pcontig_009.21', 'evm.TU.pcontig_009.218', 'evm.TU.pcontig_009.222', 'evm.TU.pcontig_009.232', 'evm.TU.pcontig_009.236', 'evm.TU.pcontig_010.131', 'evm.TU.pcontig_010.132', 'evm.TU.pcontig_010.168', 'evm.TU.pcontig_010.21', 'evm.TU.pcontig_010.217', 'evm.TU.pcontig_010.219', 'evm.TU.pcontig_010.220', 'evm.TU.pcontig_010.231', 'evm.TU.pcontig_010.234', 'evm.TU.pcontig_010.237', 'evm.TU.pcontig_010.239', 'evm.TU.pcontig_010.240', 'evm.TU.pcontig_010.25', 'evm.TU.pcontig_010.250', 'evm.TU.pcontig_010.253', 'evm.TU.pcontig_010.254', 'evm.TU.pcontig_010.255', 'evm.TU.pcontig_010.258', 'evm.TU.pcontig_010.270', 'evm.TU.pcontig_010.271', 'evm.TU.pcontig_010.281', 'evm.TU.pcontig_010.282', 'evm.TU.pcontig_010.295', 'evm.TU.pcontig_010.304', 'evm.TU.pcontig_010.309', 'evm.TU.pcontig_010.331', 'evm.TU.pcontig_010.332', 'evm.TU.pcontig_010.345', 'evm.TU.pcontig_010.351', 'evm.TU.pcontig_010.352', 'evm.TU.pcontig_010.353', 'evm.TU.pcontig_010.376', 'evm.TU.pcontig_010.65', 'evm.TU.pcontig_010.73', 'evm.TU.pcontig_010.74', 'evm.TU.pcontig_010.89', 'evm.TU.pcontig_011.14', 'evm.TU.pcontig_011.142', 'evm.TU.pcontig_011.143', 'evm.TU.pcontig_011.147', 'evm.TU.pcontig_011.148', 'evm.TU.pcontig_011.153', 'evm.TU.pcontig_011.209', 'evm.TU.pcontig_011.210', 'evm.TU.pcontig_011.238', 'evm.TU.pcontig_011.241', 'evm.TU.pcontig_011.242', 'evm.TU.pcontig_011.263', 'evm.TU.pcontig_011.269', 'evm.TU.pcontig_011.292', 'evm.TU.pcontig_011.326', 'evm.TU.pcontig_011.347', 'evm.TU.pcontig_011.364', 'evm.TU.pcontig_011.71', 'evm.TU.pcontig_012.101', 'evm.TU.pcontig_012.122', 'evm.TU.pcontig_012.136', 'evm.TU.pcontig_012.138', 'evm.TU.pcontig_012.175', 'evm.TU.pcontig_012.176', 'evm.TU.pcontig_012.177', 'evm.TU.pcontig_012.233', 'evm.TU.pcontig_012.238', 'evm.TU.pcontig_012.246', 'evm.TU.pcontig_012.266', 'evm.TU.pcontig_012.280', 'evm.TU.pcontig_012.281', 'evm.TU.pcontig_012.293', 'evm.TU.pcontig_012.296', 'evm.TU.pcontig_012.366', 'evm.TU.pcontig_012.4', 'evm.TU.pcontig_012.52', 'evm.TU.pcontig_012.58', 'evm.TU.pcontig_012.61', 'evm.TU.pcontig_012.63', 'evm.TU.pcontig_012.85', 'evm.TU.pcontig_013.124', 'evm.TU.pcontig_013.126', 'evm.TU.pcontig_013.139', 'evm.TU.pcontig_013.140', 'evm.TU.pcontig_013.152', 'evm.TU.pcontig_013.156', 'evm.TU.pcontig_013.157', 'evm.TU.pcontig_013.162', 'evm.TU.pcontig_013.164', 'evm.TU.pcontig_013.166', 'evm.TU.pcontig_013.210', 'evm.TU.pcontig_013.215', 'evm.TU.pcontig_013.216', 'evm.TU.pcontig_013.238', 'evm.TU.pcontig_013.239', 'evm.TU.pcontig_013.247', 'evm.TU.pcontig_013.279', 'evm.TU.pcontig_013.282', 'evm.TU.pcontig_013.289', 'evm.TU.pcontig_013.290', 'evm.TU.pcontig_013.311', 'evm.TU.pcontig_013.318', 'evm.TU.pcontig_013.49', 'evm.TU.pcontig_014.101', 'evm.TU.pcontig_014.113', 'evm.TU.pcontig_014.115', 'evm.TU.pcontig_014.124', 'evm.TU.pcontig_014.128', 'evm.TU.pcontig_014.131', 'evm.TU.pcontig_014.138', 'evm.TU.pcontig_014.142', 'evm.TU.pcontig_014.193', 'evm.TU.pcontig_014.22', 'evm.TU.pcontig_014.279', 'evm.TU.pcontig_014.285', 'evm.TU.pcontig_014.295', 'evm.TU.pcontig_014.66', 'evm.TU.pcontig_014.85', 'evm.TU.pcontig_015.10', 'evm.TU.pcontig_016.119', 'evm.TU.pcontig_016.150', 'evm.TU.pcontig_016.157', 'evm.TU.pcontig_016.164', 'evm.TU.pcontig_016.165', 'evm.TU.pcontig_016.175', 'evm.TU.pcontig_016.189', 'evm.TU.pcontig_016.196', 'evm.TU.pcontig_016.198', 'evm.TU.pcontig_016.64', 'evm.TU.pcontig_016.91', 'evm.TU.pcontig_017.126', 'evm.TU.pcontig_017.150', 'evm.TU.pcontig_017.151', 'evm.TU.pcontig_017.152', 'evm.TU.pcontig_017.154', 'evm.TU.pcontig_017.184', 'evm.TU.pcontig_017.196', 'evm.TU.pcontig_017.2', 'evm.TU.pcontig_017.200', 'evm.TU.pcontig_017.202', 'evm.TU.pcontig_017.224', 'evm.TU.pcontig_017.225', 'evm.TU.pcontig_017.27', 'evm.TU.pcontig_017.3', 'evm.TU.pcontig_017.322', 'evm.TU.pcontig_017.7', 'evm.TU.pcontig_017.78', 'evm.TU.pcontig_017.82', 'evm.TU.pcontig_017.84', 'evm.TU.pcontig_017.85', 'evm.TU.pcontig_017.9', 'evm.TU.pcontig_018.118', 'evm.TU.pcontig_018.127', 'evm.TU.pcontig_018.154', 'evm.TU.pcontig_018.160', 'evm.TU.pcontig_018.163', 'evm.TU.pcontig_018.164', 'evm.TU.pcontig_018.187', 'evm.TU.pcontig_018.197', 'evm.TU.pcontig_018.218', 'evm.TU.pcontig_018.270', 'evm.TU.pcontig_018.273', 'evm.TU.pcontig_018.280', 'evm.TU.pcontig_018.281', 'evm.TU.pcontig_018.283', 'evm.TU.pcontig_018.286', 'evm.TU.pcontig_018.287', 'evm.TU.pcontig_018.292', 'evm.TU.pcontig_018.303', 'evm.TU.pcontig_018.338', 'evm.TU.pcontig_018.353', 'evm.TU.pcontig_018.5', 'evm.TU.pcontig_018.6', 'evm.TU.pcontig_018.82', 'evm.TU.pcontig_019.159', 'evm.TU.pcontig_019.167', 'evm.TU.pcontig_019.168', 'evm.TU.pcontig_019.179', 'evm.TU.pcontig_019.197', 'evm.TU.pcontig_019.202', 'evm.TU.pcontig_019.231', 'evm.TU.pcontig_019.233', 'evm.TU.pcontig_019.238', 'evm.TU.pcontig_019.245', 'evm.TU.pcontig_019.25', 'evm.TU.pcontig_019.295', 'evm.TU.pcontig_019.30', 'evm.TU.pcontig_019.31', 'evm.TU.pcontig_019.310', 'evm.TU.pcontig_019.47', 'evm.TU.pcontig_019.49', 'evm.TU.pcontig_019.50', 'evm.TU.pcontig_019.57', 'evm.TU.pcontig_020.163', 'evm.TU.pcontig_020.164', 'evm.TU.pcontig_020.182', 'evm.TU.pcontig_020.183', 'evm.TU.pcontig_020.216', 'evm.TU.pcontig_020.303', 'evm.TU.pcontig_020.329', 'evm.TU.pcontig_020.39', 'evm.TU.pcontig_020.47', 'evm.TU.pcontig_020.63', 'evm.TU.pcontig_020.67', 'evm.TU.pcontig_020.79', 'evm.TU.pcontig_020.91', 'evm.TU.pcontig_021.108', 'evm.TU.pcontig_021.117', 'evm.TU.pcontig_021.128', 'evm.TU.pcontig_021.154', 'evm.TU.pcontig_021.179', 'evm.TU.pcontig_021.181', 'evm.TU.pcontig_021.197', 'evm.TU.pcontig_021.198', 'evm.TU.pcontig_021.218', 'evm.TU.pcontig_021.222', 'evm.TU.pcontig_021.253', 'evm.TU.pcontig_021.259', 'evm.TU.pcontig_021.273', 'evm.TU.pcontig_021.282', 'evm.TU.pcontig_021.288', 'evm.TU.pcontig_021.297', 'evm.TU.pcontig_021.320', 'evm.TU.pcontig_021.323', 'evm.TU.pcontig_021.341', 'evm.TU.pcontig_021.47', 'evm.TU.pcontig_021.63', 'evm.TU.pcontig_021.71', 'evm.TU.pcontig_021.78', 'evm.TU.pcontig_021.93', 'evm.TU.pcontig_021.94', 'evm.TU.pcontig_022.106', 'evm.TU.pcontig_022.114', 'evm.TU.pcontig_022.120', 'evm.TU.pcontig_022.129', 'evm.TU.pcontig_022.143', 'evm.TU.pcontig_022.153', 'evm.TU.pcontig_022.160', 'evm.TU.pcontig_022.163', 'evm.TU.pcontig_022.189', 'evm.TU.pcontig_022.194', 'evm.TU.pcontig_022.198', 'evm.TU.pcontig_022.20', 'evm.TU.pcontig_022.218', 'evm.TU.pcontig_022.222', 'evm.TU.pcontig_022.227', 'evm.TU.pcontig_022.238', 'evm.TU.pcontig_022.245', 'evm.TU.pcontig_022.261', 'evm.TU.pcontig_022.281', 'evm.TU.pcontig_022.76', 'evm.TU.pcontig_022.81', 'evm.TU.pcontig_023.10', 'evm.TU.pcontig_023.105', 'evm.TU.pcontig_023.118', 'evm.TU.pcontig_023.133', 'evm.TU.pcontig_023.158', 'evm.TU.pcontig_023.175', 'evm.TU.pcontig_023.182', 'evm.TU.pcontig_023.192', 'evm.TU.pcontig_023.212', 'evm.TU.pcontig_023.223', 'evm.TU.pcontig_023.234', 'evm.TU.pcontig_023.265', 'evm.TU.pcontig_023.5', 'evm.TU.pcontig_023.53', 'evm.TU.pcontig_023.6', 'evm.TU.pcontig_023.73', 'evm.TU.pcontig_023.88', 'evm.TU.pcontig_023.99', 'evm.TU.pcontig_024.10', 'evm.TU.pcontig_025.10', 'evm.TU.pcontig_025.121', 'evm.TU.pcontig_025.161', 'evm.TU.pcontig_025.165', 'evm.TU.pcontig_025.33', 'evm.TU.pcontig_025.75', 'evm.TU.pcontig_025.92', 'evm.TU.pcontig_026.127', 'evm.TU.pcontig_026.128', 'evm.TU.pcontig_026.142', 'evm.TU.pcontig_026.143', 'evm.TU.pcontig_026.144', 'evm.TU.pcontig_026.251', 'evm.TU.pcontig_026.262', 'evm.TU.pcontig_026.273', 'evm.TU.pcontig_026.274', 'evm.TU.pcontig_026.56', 'evm.TU.pcontig_026.58', 'evm.TU.pcontig_026.59', 'evm.TU.pcontig_026.70', 'evm.TU.pcontig_026.73', 'evm.TU.pcontig_026.74', 'evm.TU.pcontig_026.76', 'evm.TU.pcontig_027.10', 'evm.TU.pcontig_027.11', 'evm.TU.pcontig_027.132', 'evm.TU.pcontig_027.163', 'evm.TU.pcontig_027.164', 'evm.TU.pcontig_027.202', 'evm.TU.pcontig_027.205', 'evm.TU.pcontig_027.211', 'evm.TU.pcontig_027.212', 'evm.TU.pcontig_027.222', 'evm.TU.pcontig_027.248', 'evm.TU.pcontig_027.249', 'evm.TU.pcontig_027.256', 'evm.TU.pcontig_027.265', 'evm.TU.pcontig_027.41', 'evm.TU.pcontig_027.51', 'evm.TU.pcontig_027.52', 'evm.TU.pcontig_027.9', 'evm.TU.pcontig_028.113', 'evm.TU.pcontig_028.131', 'evm.TU.pcontig_028.137', 'evm.TU.pcontig_028.214', 'evm.TU.pcontig_028.215', 'evm.TU.pcontig_028.216', 'evm.TU.pcontig_028.221', 'evm.TU.pcontig_028.71', 'evm.TU.pcontig_028.9', 'evm.TU.pcontig_028.94', 'evm.TU.pcontig_029.107', 'evm.TU.pcontig_029.108', 'evm.TU.pcontig_029.113', 'evm.TU.pcontig_029.120', 'evm.TU.pcontig_029.124', 'evm.TU.pcontig_029.139', 'evm.TU.pcontig_029.140', 'evm.TU.pcontig_029.205', 'evm.TU.pcontig_029.231', 'evm.TU.pcontig_029.34', 'evm.TU.pcontig_029.38', 'evm.TU.pcontig_029.62', 'evm.TU.pcontig_029.63', 'evm.TU.pcontig_029.90', 'evm.TU.pcontig_029.92', 'evm.TU.pcontig_029.97', 'evm.TU.pcontig_030.121', 'evm.TU.pcontig_030.175', 'evm.TU.pcontig_030.181', 'evm.TU.pcontig_030.182', 'evm.TU.pcontig_030.240', 'evm.TU.pcontig_030.256', 'evm.TU.pcontig_030.276', 'evm.TU.pcontig_030.34', 'evm.TU.pcontig_030.54', 'evm.TU.pcontig_030.55', 'evm.TU.pcontig_030.66', 'evm.TU.pcontig_030.69', 'evm.TU.pcontig_031.110', 'evm.TU.pcontig_031.113', 'evm.TU.pcontig_031.122', 'evm.TU.pcontig_031.123', 'evm.TU.pcontig_031.159', 'evm.TU.pcontig_031.164', 'evm.TU.pcontig_031.165', 'evm.TU.pcontig_031.167', 'evm.TU.pcontig_031.169', 'evm.TU.pcontig_031.170', 'evm.TU.pcontig_031.174', 'evm.TU.pcontig_031.184', 'evm.TU.pcontig_031.187', 'evm.TU.pcontig_031.189', 'evm.TU.pcontig_031.29', 'evm.TU.pcontig_031.60', 'evm.TU.pcontig_031.79', 'evm.TU.pcontig_031.81', 'evm.TU.pcontig_031.83', 'evm.TU.pcontig_031.88', 'evm.TU.pcontig_031.89', 'evm.TU.pcontig_031.96', 'evm.TU.pcontig_032.19', 'evm.TU.pcontig_033.143', 'evm.TU.pcontig_033.163', 'evm.TU.pcontig_033.179', 'evm.TU.pcontig_033.216', 'evm.TU.pcontig_033.221', 'evm.TU.pcontig_033.229', 'evm.TU.pcontig_033.240', 'evm.TU.pcontig_033.73', 'evm.TU.pcontig_034.113', 'evm.TU.pcontig_034.138', 'evm.TU.pcontig_034.143', 'evm.TU.pcontig_034.155', 'evm.TU.pcontig_034.169', 'evm.TU.pcontig_034.171', 'evm.TU.pcontig_034.173', 'evm.TU.pcontig_034.191', 'evm.TU.pcontig_034.193', 'evm.TU.pcontig_034.194', 'evm.TU.pcontig_034.199', 'evm.TU.pcontig_034.218', 'evm.TU.pcontig_034.227', 'evm.TU.pcontig_034.228', 'evm.TU.pcontig_034.51', 'evm.TU.pcontig_034.86', 'evm.TU.pcontig_034.89', 'evm.TU.pcontig_034.95', 'evm.TU.pcontig_035.163', 'evm.TU.pcontig_035.165', 'evm.TU.pcontig_035.166', 'evm.TU.pcontig_035.170', 'evm.TU.pcontig_035.174', 'evm.TU.pcontig_035.179', 'evm.TU.pcontig_035.191', 'evm.TU.pcontig_035.202', 'evm.TU.pcontig_035.203', 'evm.TU.pcontig_035.208', 'evm.TU.pcontig_035.216', 'evm.TU.pcontig_035.27', 'evm.TU.pcontig_035.46', 'evm.TU.pcontig_035.5', 'evm.TU.pcontig_035.50', 'evm.TU.pcontig_035.62', 'evm.TU.pcontig_035.63', 'evm.TU.pcontig_035.66', 'evm.TU.pcontig_035.67', 'evm.TU.pcontig_035.68', 'evm.TU.pcontig_035.69', 'evm.TU.pcontig_035.70', 'evm.TU.pcontig_035.80', 'evm.TU.pcontig_035.81', 'evm.TU.pcontig_035.83', 'evm.TU.pcontig_035.91', 'evm.TU.pcontig_036.154', 'evm.TU.pcontig_036.164', 'evm.TU.pcontig_036.173', 'evm.TU.pcontig_036.221', 'evm.TU.pcontig_036.29', 'evm.TU.pcontig_036.30', 'evm.TU.pcontig_036.31', 'evm.TU.pcontig_036.32', 'evm.TU.pcontig_036.43', 'evm.TU.pcontig_036.44', 'evm.TU.pcontig_036.46', 'evm.TU.pcontig_036.56', 'evm.TU.pcontig_036.57', 'evm.TU.pcontig_036.58', 'evm.TU.pcontig_036.73', 'evm.TU.pcontig_036.75', 'evm.TU.pcontig_036.81', 'evm.TU.pcontig_037.107', 'evm.TU.pcontig_037.109', 'evm.TU.pcontig_037.110', 'evm.TU.pcontig_037.111', 'evm.TU.pcontig_037.112', 'evm.TU.pcontig_037.137', 'evm.TU.pcontig_037.187', 'evm.TU.pcontig_037.200', 'evm.TU.pcontig_037.203', 'evm.TU.pcontig_037.206', 'evm.TU.pcontig_037.208', 'evm.TU.pcontig_037.215', 'evm.TU.pcontig_037.27', 'evm.TU.pcontig_037.43', 'evm.TU.pcontig_037.63', 'evm.TU.pcontig_037.70', 'evm.TU.pcontig_039.123', 'evm.TU.pcontig_039.169', 'evm.TU.pcontig_039.174', 'evm.TU.pcontig_039.175', 'evm.TU.pcontig_039.177', 'evm.TU.pcontig_039.181', 'evm.TU.pcontig_039.184', 'evm.TU.pcontig_039.28', 'evm.TU.pcontig_039.36', 'evm.TU.pcontig_039.37', 'evm.TU.pcontig_039.87', 'evm.TU.pcontig_039.97', 'evm.TU.pcontig_040.105', 'evm.TU.pcontig_040.135', 'evm.TU.pcontig_040.143', 'evm.TU.pcontig_040.148', 'evm.TU.pcontig_040.159', 'evm.TU.pcontig_040.165', 'evm.TU.pcontig_040.168', 'evm.TU.pcontig_040.176', 'evm.TU.pcontig_040.19', 'evm.TU.pcontig_040.45', 'evm.TU.pcontig_040.81', 'evm.TU.pcontig_041.104', 'evm.TU.pcontig_041.120', 'evm.TU.pcontig_041.125', 'evm.TU.pcontig_041.14', 'evm.TU.pcontig_041.147', 'evm.TU.pcontig_041.148', 'evm.TU.pcontig_041.15', 'evm.TU.pcontig_041.173', 'evm.TU.pcontig_041.174', 'evm.TU.pcontig_041.2', 'evm.TU.pcontig_041.20', 'evm.TU.pcontig_041.33', 'evm.TU.pcontig_041.38', 'evm.TU.pcontig_041.46', 'evm.TU.pcontig_041.48', 'evm.TU.pcontig_041.56', 'evm.TU.pcontig_041.98', 'evm.TU.pcontig_041.99', 'evm.TU.pcontig_042.129', 'evm.TU.pcontig_042.130', 'evm.TU.pcontig_042.179', 'evm.TU.pcontig_042.188', 'evm.TU.pcontig_042.31', 'evm.TU.pcontig_042.4', 'evm.TU.pcontig_042.66', 'evm.TU.pcontig_043.100', 'evm.TU.pcontig_043.101', 'evm.TU.pcontig_043.127', 'evm.TU.pcontig_043.14', 'evm.TU.pcontig_043.15', 'evm.TU.pcontig_043.29', 'evm.TU.pcontig_043.31', 'evm.TU.pcontig_043.63', 'evm.TU.pcontig_043.89', 'evm.TU.pcontig_044.100', 'evm.TU.pcontig_044.13', 'evm.TU.pcontig_044.130', 'evm.TU.pcontig_044.143', 'evm.TU.pcontig_044.165', 'evm.TU.pcontig_044.167', 'evm.TU.pcontig_044.168', 'evm.TU.pcontig_044.171', 'evm.TU.pcontig_044.4', 'evm.TU.pcontig_044.40', 'evm.TU.pcontig_044.64', 'evm.TU.pcontig_044.74', 'evm.TU.pcontig_044.92', 'evm.TU.pcontig_044.93', 'evm.TU.pcontig_044.99', 'evm.TU.pcontig_045.135', 'evm.TU.pcontig_045.140', 'evm.TU.pcontig_045.144', 'evm.TU.pcontig_045.148', 'evm.TU.pcontig_045.45', 'evm.TU.pcontig_045.51', 'evm.TU.pcontig_045.68', 'evm.TU.pcontig_046.113', 'evm.TU.pcontig_046.124', 'evm.TU.pcontig_046.127', 'evm.TU.pcontig_046.131', 'evm.TU.pcontig_046.159', 'evm.TU.pcontig_046.161', 'evm.TU.pcontig_046.162', 'evm.TU.pcontig_046.3', 'evm.TU.pcontig_046.35', 'evm.TU.pcontig_046.94', 'evm.TU.pcontig_046.99', 'evm.TU.pcontig_047.114', 'evm.TU.pcontig_047.141', 'evm.TU.pcontig_047.54', 'evm.TU.pcontig_047.55', 'evm.TU.pcontig_047.89', 'evm.TU.pcontig_048.109', 'evm.TU.pcontig_048.111', 'evm.TU.pcontig_048.112', 'evm.TU.pcontig_048.65', 'evm.TU.pcontig_049.130', 'evm.TU.pcontig_049.133', 'evm.TU.pcontig_049.139', 'evm.TU.pcontig_049.150', 'evm.TU.pcontig_049.38', 'evm.TU.pcontig_049.4', 'evm.TU.pcontig_049.42', 'evm.TU.pcontig_049.58', 'evm.TU.pcontig_049.69', 'evm.TU.pcontig_049.75', 'evm.TU.pcontig_049.79', 'evm.TU.pcontig_050.102', 'evm.TU.pcontig_050.122', 'evm.TU.pcontig_050.134', 'evm.TU.pcontig_050.19', 'evm.TU.pcontig_050.3', 'evm.TU.pcontig_050.69', 'evm.TU.pcontig_050.77', 'evm.TU.pcontig_050.92', 'evm.TU.pcontig_051.48', 'evm.TU.pcontig_051.51', 'evm.TU.pcontig_052.152', 'evm.TU.pcontig_052.170', 'evm.TU.pcontig_052.54', 'evm.TU.pcontig_052.57', 'evm.TU.pcontig_052.58', 'evm.TU.pcontig_052.8', 'evm.TU.pcontig_054.116', 'evm.TU.pcontig_054.119', 'evm.TU.pcontig_054.52', 'evm.TU.pcontig_054.58', 'evm.TU.pcontig_054.59', 'evm.TU.pcontig_054.66', 'evm.TU.pcontig_054.88', 'evm.TU.pcontig_054.89', 'evm.TU.pcontig_054.91', 'evm.TU.pcontig_055.16', 'evm.TU.pcontig_055.17', 'evm.TU.pcontig_055.28', 'evm.TU.pcontig_055.31', 'evm.TU.pcontig_055.8', 'evm.TU.pcontig_056.33', 'evm.TU.pcontig_056.42', 'evm.TU.pcontig_056.46', 'evm.TU.pcontig_056.58', 'evm.TU.pcontig_056.59', 'evm.TU.pcontig_056.82', 'evm.TU.pcontig_056.83', 'evm.TU.pcontig_057.106', 'evm.TU.pcontig_057.107', 'evm.TU.pcontig_057.120', 'evm.TU.pcontig_057.51', 'evm.TU.pcontig_057.61', 'evm.TU.pcontig_057.65', 'evm.TU.pcontig_057.66', 'evm.TU.pcontig_057.73', 'evm.TU.pcontig_057.76', 'evm.TU.pcontig_057.77', 'evm.TU.pcontig_057.82', 'evm.TU.pcontig_058.21', 'evm.TU.pcontig_058.22', 'evm.TU.pcontig_058.23', 'evm.TU.pcontig_058.64', 'evm.TU.pcontig_058.72', 'evm.TU.pcontig_059.100', 'evm.TU.pcontig_059.118', 'evm.TU.pcontig_059.123', 'evm.TU.pcontig_059.13', 'evm.TU.pcontig_059.17', 'evm.TU.pcontig_059.21', 'evm.TU.pcontig_059.33', 'evm.TU.pcontig_059.50', 'evm.TU.pcontig_059.58', 'evm.TU.pcontig_059.65', 'evm.TU.pcontig_059.67', 'evm.TU.pcontig_059.78', 'evm.TU.pcontig_059.79', 'evm.TU.pcontig_059.93', 'evm.TU.pcontig_060.10', 'evm.TU.pcontig_060.11', 'evm.TU.pcontig_060.14', 'evm.TU.pcontig_060.37', 'evm.TU.pcontig_060.94', 'evm.TU.pcontig_060.95', 'evm.TU.pcontig_060.96', 'evm.TU.pcontig_060.97', 'evm.TU.pcontig_062.10', 'evm.TU.pcontig_062.104', 'evm.TU.pcontig_062.15', 'evm.TU.pcontig_062.23', 'evm.TU.pcontig_062.26', 'evm.TU.pcontig_062.32', 'evm.TU.pcontig_062.45', 'evm.TU.pcontig_062.50', 'evm.TU.pcontig_062.61', 'evm.TU.pcontig_062.72', 'evm.TU.pcontig_062.78', 'evm.TU.pcontig_062.79', 'evm.TU.pcontig_062.84', 'evm.TU.pcontig_064.39', 'evm.TU.pcontig_064.41', 'evm.TU.pcontig_064.42', 'evm.TU.pcontig_065.36', 'evm.TU.pcontig_065.77', 'evm.TU.pcontig_066.1', 'evm.TU.pcontig_066.15', 'evm.TU.pcontig_066.53', 'evm.TU.pcontig_066.71', 'evm.TU.pcontig_066.73', 'evm.TU.pcontig_066.98', 'evm.TU.pcontig_067.100', 'evm.TU.pcontig_067.20', 'evm.TU.pcontig_067.39', 'evm.TU.pcontig_067.43', 'evm.TU.pcontig_067.45', 'evm.TU.pcontig_067.57', 'evm.TU.pcontig_067.93', 'evm.TU.pcontig_068.5', 'evm.TU.pcontig_068.8', 'evm.TU.pcontig_069.3', 'evm.TU.pcontig_069.38', 'evm.TU.pcontig_070.1', 'evm.TU.pcontig_070.20', 'evm.TU.pcontig_070.22', 'evm.TU.pcontig_070.24', 'evm.TU.pcontig_070.71', 'evm.TU.pcontig_070.73', 'evm.TU.pcontig_072.78', 'evm.TU.pcontig_073.14', 'evm.TU.pcontig_073.15', 'evm.TU.pcontig_073.4', 'evm.TU.pcontig_073.45', 'evm.TU.pcontig_073.54', 'evm.TU.pcontig_073.55', 'evm.TU.pcontig_073.8', 'evm.TU.pcontig_074.20', 'evm.TU.pcontig_075.10', 'evm.TU.pcontig_077.1', 'evm.TU.pcontig_077.13', 'evm.TU.pcontig_077.44', 'evm.TU.pcontig_077.55', 'evm.TU.pcontig_078.1', 'evm.TU.pcontig_078.2', 'evm.TU.pcontig_078.33', 'evm.TU.pcontig_078.34', 'evm.TU.pcontig_078.38', 'evm.TU.pcontig_078.45', 'evm.TU.pcontig_078.48', 'evm.TU.pcontig_078.60', 'evm.TU.pcontig_078.66', 'evm.TU.pcontig_078.67', 'evm.TU.pcontig_078.71', 'evm.TU.pcontig_080.23', 'evm.TU.pcontig_080.26', 'evm.TU.pcontig_080.29', 'evm.TU.pcontig_080.30', 'evm.TU.pcontig_080.46', 'evm.TU.pcontig_080.57', 'evm.TU.pcontig_080.58', 'evm.TU.pcontig_081.24', 'evm.TU.pcontig_081.30', 'evm.TU.pcontig_081.52', 'evm.TU.pcontig_081.53', 'evm.TU.pcontig_081.60', 'evm.TU.pcontig_081.62', 'evm.TU.pcontig_082.54', 'evm.TU.pcontig_083.37', 'evm.TU.pcontig_083.49', 'evm.TU.pcontig_084.9', 'evm.TU.pcontig_086.22', 'evm.TU.pcontig_086.52', 'evm.TU.pcontig_087.16', 'evm.TU.pcontig_087.6', 'evm.TU.pcontig_087.7', 'evm.TU.pcontig_088.33', 'evm.TU.pcontig_088.49', 'evm.TU.pcontig_088.55', 'evm.TU.pcontig_089.21', 'evm.TU.pcontig_089.47', 'evm.TU.pcontig_090.13', 'evm.TU.pcontig_091.46', 'evm.TU.pcontig_091.47', 'evm.TU.pcontig_091.55', 'evm.TU.pcontig_092.34', 'evm.TU.pcontig_092.7', 'evm.TU.pcontig_092.8', 'evm.TU.pcontig_095.44', 'evm.TU.pcontig_097.21', 'evm.TU.pcontig_100.29', 'evm.TU.pcontig_100.35', 'evm.TU.pcontig_100.42', 'evm.TU.pcontig_103.12', 'evm.TU.pcontig_103.22', 'evm.TU.pcontig_103.24', 'evm.TU.pcontig_103.6', 'evm.TU.pcontig_103.8', 'evm.TU.pcontig_104.33', 'evm.TU.pcontig_104.47', 'evm.TU.pcontig_112.1', 'evm.TU.pcontig_115.25', 'evm.TU.pcontig_120.23', 'evm.TU.pcontig_130.20', 'evm.TU.pcontig_130.9', 'evm.TU.pcontig_147.9', 'evm.TU.pcontig_148.11', 'evm.TU.pcontig_148.9', 'evm.TU.pcontig_149.10', 'evm.TU.pcontig_157.3', 'evm.TU.pcontig_157.4', 'evm.TU.pcontig_157.8', 'evm.TU.pcontig_165.8', 'evm.TU.pcontig_170.3', 'evm.TU.pcontig_173.4', 'evm.TU.pcontig_173.5', 'evm.TU.pcontig_174.1', 'evm.TU.pcontig_181.9', 'evm.TU.pcontig_186.2', 'evm.TU.pcontig_186.6', 'evm.TU.pcontig_186.7', 'evm.TU.pcontig_186.9', 'evm.TU.pcontig_188.5', 'evm.TU.pcontig_188.6', 'evm.TU.pcontig_189.7', 'evm.TU.pcontig_203.5', 'evm.TU.pcontig_203.6', 'evm.TU.pcontig_207.1', 'evm.TU.pcontig_233.6', 'evm.TU.pcontig_235.7']\n"
     ]
    }
   ],
   "source": [
    "# Sort effector list\n",
    "effectors.sort()\n",
    "print(effectors) # Check if sorting worked (it did)"
   ]
  },
  {
   "cell_type": "code",
   "execution_count": 276,
   "metadata": {},
   "outputs": [],
   "source": [
    "# Run the function to make a file of effectors\n",
    "genes_only_fn = '/home/anjuni/analysis/gff_output/Pst_104E_v13_ph_ctg.anno.sorted.genes_only.gff3'\n",
    "effector_fn  = '/home/anjuni/analysis/input_for_windows/Pst_104E_v13_ph_ctg.effectors.gff3'\n",
    "make_effector_gff(effectors, genes_only_fn, effector_fn)"
   ]
  },
  {
   "cell_type": "code",
   "execution_count": 846,
   "metadata": {},
   "outputs": [],
   "source": [
    "# Move the effector file and all gene annotation files to the feature file directory\n",
    "!cp /home/anjuni/analysis/gff_output/Pst_104E_v13_ph_ctg.anno.sorted.genes_only.gff3 /home/anjuni/analysis/coverage/feature_files"
   ]
  },
  {
   "cell_type": "code",
   "execution_count": 849,
   "metadata": {},
   "outputs": [],
   "source": [
    "%%bash\n",
    "# Make a file of non-effector genes only\n",
    "cd /home/anjuni/analysis/coverage/feature_files\n",
    "subtractBed -a Pst_104E_v13_ph_ctg.anno.sorted.genes_only.gff3 -b Pst_104E_v13_ph_ctg.effectors.gff3 > Pst_104E_v13_ph_ctg.non_effectors.gff3"
   ]
  },
  {
   "cell_type": "code",
   "execution_count": 24,
   "metadata": {},
   "outputs": [],
   "source": [
    "# Make a GFF file of LT genes\n",
    "\n",
    "# First extract all lines with genes (not exon or CDS) from the gene annotation file\n",
    "! grep 'gene' /home/anjuni/analysis/gff_output/Pst_104E_v13_ph_ctg.TE.sorted.gff3 > /home/anjuni/analysis/gff_output/Pst_104E_v13_ph_ctg.TE.sorted.genes_only.gff3"
   ]
  },
  {
   "cell_type": "code",
   "execution_count": 25,
   "metadata": {},
   "outputs": [],
   "source": [
    "# Move the LT gene_only file to the feature file directory\n",
    "!cp /home/anjuni/analysis/gff_output/Pst_104E_v13_ph_ctg.TE.sorted.genes_only.gff3 /home/anjuni/analysis/coverage/feature_files"
   ]
  },
  {
   "cell_type": "code",
   "execution_count": 34,
   "metadata": {},
   "outputs": [],
   "source": [
    "# Make a GFF file of combined genes\n",
    "\n",
    "# First extract all lines with genes (not exon or CDS) from the gene annotation file\n",
    "! grep 'gene' /home/anjuni/analysis/gff_output/Pst_104E_v13_ph_ctg_combined_sorted_anno.gff3 > /home/anjuni/analysis/gff_output/Pst_104E_v13_ph_ctg_combined_sorted_anno.genes_only.gff3"
   ]
  },
  {
   "cell_type": "code",
   "execution_count": 35,
   "metadata": {},
   "outputs": [],
   "source": [
    "# Move the abogene_only file to the feature file directory\n",
    "!cp /home/anjuni/analysis/gff_output/Pst_104E_v13_ph_ctg_combined_sorted_anno.genes_only.gff3 /home/anjuni/analysis/coverage/feature_files"
   ]
  },
  {
   "cell_type": "markdown",
   "metadata": {},
   "source": [
    "# <span style='color:red'> write code here. <span/>"
   ]
  },
  {
   "cell_type": "markdown",
   "metadata": {},
   "source": [
    "### BUSCO files notes\n",
    "\n",
    "- files present for p, h and combined ph contigs\n",
    "- sf = superfamily"
   ]
  },
  {
   "cell_type": "code",
   "execution_count": null,
   "metadata": {},
   "outputs": [],
   "source": [
    "# download files from Ben's git\n",
    "# make a list of busco files"
   ]
  },
  {
   "cell_type": "code",
   "execution_count": null,
   "metadata": {},
   "outputs": [],
   "source": [
    "# run coverage just for BUSCO and lTgene and combined file later"
   ]
  },
  {
   "cell_type": "markdown",
   "metadata": {},
   "source": [
    "### TE files notes\n",
    "\n",
    "- files present for p, h and combined ph contigs\n",
    "- sf = superfamily"
   ]
  },
  {
   "cell_type": "code",
   "execution_count": 1270,
   "metadata": {},
   "outputs": [],
   "source": [
    "# Read in the superfamily file as a pandas dataframe\n",
    "te_sf_fn_p = os.path.join(DIRS['BASE2'], 'gff_output', 'Pst_104E_v13_p_ctg.REPET.sorted.filtered.superfamily.gff')\n",
    "te_sf_fn_ph = os.path.join(DIRS['BASE2'], 'gff_output', 'Pst_104E_v13_p_ctg.REPET.sorted.filtered.superfamily.gff')\n",
    "te_sf_fn_h = os.path.join(DIRS['BASE2'], 'gff_output', 'Pst_104E_v13_p_ctg.REPET.sorted.filtered.superfamily.gff')\n",
    "te_sf_names = ['Contig', 'Source', 'Type', 'Start', 'Stop', 'Value', 'Strand', 'Space', 'Superfamily']\n",
    "\n",
    "te_sf_df_p = pd.read_csv(te_sf_fn_p, sep='\\t', header = None, names = te_sf_names)\n",
    "te_sf_df_ph = pd.read_csv(te_sf_fn_ph, sep='\\t', header = None, names = te_sf_names)\n",
    "te_sf_df_h = pd.read_csv(te_sf_fn_h, sep='\\t', header = None, names = te_sf_names)"
   ]
  },
  {
   "cell_type": "code",
   "execution_count": null,
   "metadata": {},
   "outputs": [],
   "source": [
    "# write a function that loops over the last column in the data frame to make a list"
   ]
  },
  {
   "cell_type": "code",
   "execution_count": 1388,
   "metadata": {},
   "outputs": [],
   "source": [
    "#Test to make a list of all sf\n",
    "def make_superfamily_list(df):\n",
    "    \"\"\"Goes through dataframe and makes a list of all unique TE superfamily names.\"\"\"\n",
    "    superfamilies = []\n",
    "    for sf in df['Superfamily']:\n",
    "        if sf not in superfamilies:\n",
    "            superfamilies.append(sf)\n",
    "    return superfamilies"
   ]
  },
  {
   "cell_type": "code",
   "execution_count": 1391,
   "metadata": {},
   "outputs": [],
   "source": [
    "te_sf_list_ph = make_superfamily_list(te_sf_df_ph)"
   ]
  },
  {
   "cell_type": "code",
   "execution_count": 1399,
   "metadata": {},
   "outputs": [],
   "source": [
    "# write a function to loop over sf list and make a gff file for each superfamily\n",
    "# these gff files will be used for window coverage analysis later\n",
    "def filter_superfamilies(df, sf_list):\n",
    "    \"\"\"Filter out the TE's by their superfamily into separate files.\"\"\"\n",
    "    sf_dict = {}\n",
    "    for sf in sf_list:\n",
    "        filter_list = [sf]\n",
    "        filtered_df = df[df['Superfamily'].isin(filter_list)]\n",
    "        sf_dict[sf] = filtered_df\n",
    "    return sf_dict"
   ]
  },
  {
   "cell_type": "code",
   "execution_count": 1400,
   "metadata": {},
   "outputs": [],
   "source": [
    "te_sf_dict_ph = filter_superfamilies(te_sf_df_ph, te_sf_list_ph)"
   ]
  },
  {
   "cell_type": "code",
   "execution_count": 1415,
   "metadata": {},
   "outputs": [],
   "source": [
    "# save out the dataframes in the dictionary as gff files\n",
    "for key, value in te_sf_dict_ph.items():\n",
    "    fn = 'Pst_104E_v13_ph_ctg.' + key + '.gff3'\n",
    "    out_fn = os.path.join(DIRS['COVERAGE'], 'superfamily_files', fn)\n",
    "    te_sf_dict_ph[key].to_csv(out_fn, sep='\\t', header=None, index=None)"
   ]
  },
  {
   "cell_type": "markdown",
   "metadata": {},
   "source": [
    "### <span style='color:#148aff'> 5.B Making dicts of feature file of effector proteins, non-effectors, genes, LT gene, BUSCO and TE superfamilies. <span/>"
   ]
  },
  {
   "cell_type": "code",
   "execution_count": 27,
   "metadata": {},
   "outputs": [],
   "source": [
    "# Function that gives a dictionary of each input filehandle\n",
    "def file_name_dict(file_list):\n",
    "    \"\"\"Outputs a dictionary of input file paths for a given list of input file paths.\"\"\"\n",
    "    file_dict = {}\n",
    "    for file in file_list:\n",
    "        file_dict[file.split('/')[-1]] = file\n",
    "    return file_dict"
   ]
  },
  {
   "cell_type": "code",
   "execution_count": 30,
   "metadata": {},
   "outputs": [],
   "source": [
    "# Make filepaths for feature files for genes, effectors, TE, methylation and randomised files for methylation.\n",
    "feature_files = [fn for fn in glob.iglob('%s/*' % DIRS['FEATURES'], recursive=True)]\n",
    "feature_fn_dict = file_name_dict(feature_files)"
   ]
  },
  {
   "cell_type": "code",
   "execution_count": 31,
   "metadata": {
    "collapsed": true
   },
   "outputs": [
    {
     "name": "stdout",
     "output_type": "stream",
     "text": [
      "{'5mC_hc_tombo_sorted.cutoff.0.00.bed': '/home/anjuni/analysis/coverage/feature_files/5mC_hc_tombo_sorted.cutoff.0.00.bed',\n",
      " '5mC_hc_tombo_sorted.cutoff.0.10.bed': '/home/anjuni/analysis/coverage/feature_files/5mC_hc_tombo_sorted.cutoff.0.10.bed',\n",
      " '5mC_hc_tombo_sorted.cutoff.0.20.bed': '/home/anjuni/analysis/coverage/feature_files/5mC_hc_tombo_sorted.cutoff.0.20.bed',\n",
      " '5mC_hc_tombo_sorted.cutoff.0.30.bed': '/home/anjuni/analysis/coverage/feature_files/5mC_hc_tombo_sorted.cutoff.0.30.bed',\n",
      " '5mC_hc_tombo_sorted.cutoff.0.40.bed': '/home/anjuni/analysis/coverage/feature_files/5mC_hc_tombo_sorted.cutoff.0.40.bed',\n",
      " '5mC_hc_tombo_sorted.cutoff.0.50.bed': '/home/anjuni/analysis/coverage/feature_files/5mC_hc_tombo_sorted.cutoff.0.50.bed',\n",
      " '5mC_hc_tombo_sorted.cutoff.0.60.bed': '/home/anjuni/analysis/coverage/feature_files/5mC_hc_tombo_sorted.cutoff.0.60.bed',\n",
      " '5mC_hc_tombo_sorted.cutoff.0.70.bed': '/home/anjuni/analysis/coverage/feature_files/5mC_hc_tombo_sorted.cutoff.0.70.bed',\n",
      " '5mC_hc_tombo_sorted.cutoff.0.80.bed': '/home/anjuni/analysis/coverage/feature_files/5mC_hc_tombo_sorted.cutoff.0.80.bed',\n",
      " '5mC_hc_tombo_sorted.cutoff.0.90.bed': '/home/anjuni/analysis/coverage/feature_files/5mC_hc_tombo_sorted.cutoff.0.90.bed',\n",
      " '5mC_hc_tombo_sorted.cutoff.0.95.bed': '/home/anjuni/analysis/coverage/feature_files/5mC_hc_tombo_sorted.cutoff.0.95.bed',\n",
      " '5mC_hc_tombo_sorted.cutoff.0.99.bed': '/home/anjuni/analysis/coverage/feature_files/5mC_hc_tombo_sorted.cutoff.0.99.bed',\n",
      " '5mC_hc_tombo_sorted.cutoff.1.00.bed': '/home/anjuni/analysis/coverage/feature_files/5mC_hc_tombo_sorted.cutoff.1.00.bed',\n",
      " '5mC_tombo_nanopolish.cutoff.0.00.bed': '/home/anjuni/analysis/coverage/feature_files/5mC_tombo_nanopolish.cutoff.0.00.bed',\n",
      " '5mC_tombo_nanopolish.cutoff.0.10.bed': '/home/anjuni/analysis/coverage/feature_files/5mC_tombo_nanopolish.cutoff.0.10.bed',\n",
      " '5mC_tombo_nanopolish.cutoff.0.20.bed': '/home/anjuni/analysis/coverage/feature_files/5mC_tombo_nanopolish.cutoff.0.20.bed',\n",
      " '5mC_tombo_nanopolish.cutoff.0.30.bed': '/home/anjuni/analysis/coverage/feature_files/5mC_tombo_nanopolish.cutoff.0.30.bed',\n",
      " '5mC_tombo_nanopolish.cutoff.0.40.bed': '/home/anjuni/analysis/coverage/feature_files/5mC_tombo_nanopolish.cutoff.0.40.bed',\n",
      " '5mC_tombo_nanopolish.cutoff.0.50.bed': '/home/anjuni/analysis/coverage/feature_files/5mC_tombo_nanopolish.cutoff.0.50.bed',\n",
      " '5mC_tombo_nanopolish.cutoff.0.60.bed': '/home/anjuni/analysis/coverage/feature_files/5mC_tombo_nanopolish.cutoff.0.60.bed',\n",
      " '5mC_tombo_nanopolish.cutoff.0.70.bed': '/home/anjuni/analysis/coverage/feature_files/5mC_tombo_nanopolish.cutoff.0.70.bed',\n",
      " '5mC_tombo_nanopolish.cutoff.0.80.bed': '/home/anjuni/analysis/coverage/feature_files/5mC_tombo_nanopolish.cutoff.0.80.bed',\n",
      " '5mC_tombo_nanopolish.cutoff.0.90.bed': '/home/anjuni/analysis/coverage/feature_files/5mC_tombo_nanopolish.cutoff.0.90.bed',\n",
      " '5mC_tombo_nanopolish.cutoff.0.95.bed': '/home/anjuni/analysis/coverage/feature_files/5mC_tombo_nanopolish.cutoff.0.95.bed',\n",
      " '5mC_tombo_nanopolish.cutoff.0.99.bed': '/home/anjuni/analysis/coverage/feature_files/5mC_tombo_nanopolish.cutoff.0.99.bed',\n",
      " '5mC_tombo_nanopolish.cutoff.1.00.bed': '/home/anjuni/analysis/coverage/feature_files/5mC_tombo_nanopolish.cutoff.1.00.bed',\n",
      " '6mA_hc_tombo_sorted.cutoff.0.00.bed': '/home/anjuni/analysis/coverage/feature_files/6mA_hc_tombo_sorted.cutoff.0.00.bed',\n",
      " '6mA_hc_tombo_sorted.cutoff.0.10.bed': '/home/anjuni/analysis/coverage/feature_files/6mA_hc_tombo_sorted.cutoff.0.10.bed',\n",
      " '6mA_hc_tombo_sorted.cutoff.0.20.bed': '/home/anjuni/analysis/coverage/feature_files/6mA_hc_tombo_sorted.cutoff.0.20.bed',\n",
      " '6mA_hc_tombo_sorted.cutoff.0.30.bed': '/home/anjuni/analysis/coverage/feature_files/6mA_hc_tombo_sorted.cutoff.0.30.bed',\n",
      " '6mA_hc_tombo_sorted.cutoff.0.40.bed': '/home/anjuni/analysis/coverage/feature_files/6mA_hc_tombo_sorted.cutoff.0.40.bed',\n",
      " '6mA_hc_tombo_sorted.cutoff.0.50.bed': '/home/anjuni/analysis/coverage/feature_files/6mA_hc_tombo_sorted.cutoff.0.50.bed',\n",
      " '6mA_hc_tombo_sorted.cutoff.0.60.bed': '/home/anjuni/analysis/coverage/feature_files/6mA_hc_tombo_sorted.cutoff.0.60.bed',\n",
      " '6mA_hc_tombo_sorted.cutoff.0.70.bed': '/home/anjuni/analysis/coverage/feature_files/6mA_hc_tombo_sorted.cutoff.0.70.bed',\n",
      " '6mA_hc_tombo_sorted.cutoff.0.80.bed': '/home/anjuni/analysis/coverage/feature_files/6mA_hc_tombo_sorted.cutoff.0.80.bed',\n",
      " '6mA_hc_tombo_sorted.cutoff.0.90.bed': '/home/anjuni/analysis/coverage/feature_files/6mA_hc_tombo_sorted.cutoff.0.90.bed',\n",
      " '6mA_hc_tombo_sorted.cutoff.0.95.bed': '/home/anjuni/analysis/coverage/feature_files/6mA_hc_tombo_sorted.cutoff.0.95.bed',\n",
      " '6mA_hc_tombo_sorted.cutoff.0.99.bed': '/home/anjuni/analysis/coverage/feature_files/6mA_hc_tombo_sorted.cutoff.0.99.bed',\n",
      " '6mA_hc_tombo_sorted.cutoff.1.00.bed': '/home/anjuni/analysis/coverage/feature_files/6mA_hc_tombo_sorted.cutoff.1.00.bed',\n",
      " '6mA_tombo_smrtlink.cutoff.0.00.bed': '/home/anjuni/analysis/coverage/feature_files/6mA_tombo_smrtlink.cutoff.0.00.bed',\n",
      " '6mA_tombo_smrtlink.cutoff.0.10.bed': '/home/anjuni/analysis/coverage/feature_files/6mA_tombo_smrtlink.cutoff.0.10.bed',\n",
      " '6mA_tombo_smrtlink.cutoff.0.20.bed': '/home/anjuni/analysis/coverage/feature_files/6mA_tombo_smrtlink.cutoff.0.20.bed',\n",
      " '6mA_tombo_smrtlink.cutoff.0.30.bed': '/home/anjuni/analysis/coverage/feature_files/6mA_tombo_smrtlink.cutoff.0.30.bed',\n",
      " '6mA_tombo_smrtlink.cutoff.0.40.bed': '/home/anjuni/analysis/coverage/feature_files/6mA_tombo_smrtlink.cutoff.0.40.bed',\n",
      " '6mA_tombo_smrtlink.cutoff.0.50.bed': '/home/anjuni/analysis/coverage/feature_files/6mA_tombo_smrtlink.cutoff.0.50.bed',\n",
      " '6mA_tombo_smrtlink.cutoff.0.60.bed': '/home/anjuni/analysis/coverage/feature_files/6mA_tombo_smrtlink.cutoff.0.60.bed',\n",
      " '6mA_tombo_smrtlink.cutoff.0.70.bed': '/home/anjuni/analysis/coverage/feature_files/6mA_tombo_smrtlink.cutoff.0.70.bed',\n",
      " '6mA_tombo_smrtlink.cutoff.0.80.bed': '/home/anjuni/analysis/coverage/feature_files/6mA_tombo_smrtlink.cutoff.0.80.bed',\n",
      " '6mA_tombo_smrtlink.cutoff.0.90.bed': '/home/anjuni/analysis/coverage/feature_files/6mA_tombo_smrtlink.cutoff.0.90.bed',\n",
      " '6mA_tombo_smrtlink.cutoff.0.95.bed': '/home/anjuni/analysis/coverage/feature_files/6mA_tombo_smrtlink.cutoff.0.95.bed',\n",
      " '6mA_tombo_smrtlink.cutoff.0.99.bed': '/home/anjuni/analysis/coverage/feature_files/6mA_tombo_smrtlink.cutoff.0.99.bed',\n",
      " '6mA_tombo_smrtlink.cutoff.1.00.bed': '/home/anjuni/analysis/coverage/feature_files/6mA_tombo_smrtlink.cutoff.1.00.bed',\n",
      " 'Pst_104E_v13_ph_ctg.TE.sorted.genes_only.gff3': '/home/anjuni/analysis/coverage/feature_files/Pst_104E_v13_ph_ctg.TE.sorted.genes_only.gff3',\n",
      " 'Pst_104E_v13_ph_ctg.anno.sorted.genes_only.gff3': '/home/anjuni/analysis/coverage/feature_files/Pst_104E_v13_ph_ctg.anno.sorted.genes_only.gff3',\n",
      " 'Pst_104E_v13_ph_ctg.effectors.gff3': '/home/anjuni/analysis/coverage/feature_files/Pst_104E_v13_ph_ctg.effectors.gff3',\n",
      " 'Pst_104E_v13_ph_ctg.non_effectors.gff3': '/home/anjuni/analysis/coverage/feature_files/Pst_104E_v13_ph_ctg.non_effectors.gff3'}\n"
     ]
    }
   ],
   "source": [
    "# This is the new file with only gene annotations\n",
    "pprint.pprint(feature_fn_dict)"
   ]
  },
  {
   "cell_type": "code",
   "execution_count": 853,
   "metadata": {
    "collapsed": true
   },
   "outputs": [
    {
     "name": "stdout",
     "output_type": "stream",
     "text": [
      "{'5mC_hc_tombo_sorted.cutoff.0.00.bed': '/home/anjuni/analysis/coverage/feature_files/5mC_hc_tombo_sorted.cutoff.0.00.bed',\n",
      " '5mC_hc_tombo_sorted.cutoff.0.10.bed': '/home/anjuni/analysis/coverage/feature_files/5mC_hc_tombo_sorted.cutoff.0.10.bed',\n",
      " '5mC_hc_tombo_sorted.cutoff.0.20.bed': '/home/anjuni/analysis/coverage/feature_files/5mC_hc_tombo_sorted.cutoff.0.20.bed',\n",
      " '5mC_hc_tombo_sorted.cutoff.0.30.bed': '/home/anjuni/analysis/coverage/feature_files/5mC_hc_tombo_sorted.cutoff.0.30.bed',\n",
      " '5mC_hc_tombo_sorted.cutoff.0.40.bed': '/home/anjuni/analysis/coverage/feature_files/5mC_hc_tombo_sorted.cutoff.0.40.bed',\n",
      " '5mC_hc_tombo_sorted.cutoff.0.50.bed': '/home/anjuni/analysis/coverage/feature_files/5mC_hc_tombo_sorted.cutoff.0.50.bed',\n",
      " '5mC_hc_tombo_sorted.cutoff.0.60.bed': '/home/anjuni/analysis/coverage/feature_files/5mC_hc_tombo_sorted.cutoff.0.60.bed',\n",
      " '5mC_hc_tombo_sorted.cutoff.0.70.bed': '/home/anjuni/analysis/coverage/feature_files/5mC_hc_tombo_sorted.cutoff.0.70.bed',\n",
      " '5mC_hc_tombo_sorted.cutoff.0.80.bed': '/home/anjuni/analysis/coverage/feature_files/5mC_hc_tombo_sorted.cutoff.0.80.bed',\n",
      " '5mC_hc_tombo_sorted.cutoff.0.90.bed': '/home/anjuni/analysis/coverage/feature_files/5mC_hc_tombo_sorted.cutoff.0.90.bed',\n",
      " '5mC_hc_tombo_sorted.cutoff.0.95.bed': '/home/anjuni/analysis/coverage/feature_files/5mC_hc_tombo_sorted.cutoff.0.95.bed',\n",
      " '5mC_hc_tombo_sorted.cutoff.0.99.bed': '/home/anjuni/analysis/coverage/feature_files/5mC_hc_tombo_sorted.cutoff.0.99.bed',\n",
      " '5mC_hc_tombo_sorted.cutoff.1.00.bed': '/home/anjuni/analysis/coverage/feature_files/5mC_hc_tombo_sorted.cutoff.1.00.bed',\n",
      " '5mC_tombo_nanopolish.cutoff.0.00.bed': '/home/anjuni/analysis/coverage/feature_files/5mC_tombo_nanopolish.cutoff.0.00.bed',\n",
      " '5mC_tombo_nanopolish.cutoff.0.10.bed': '/home/anjuni/analysis/coverage/feature_files/5mC_tombo_nanopolish.cutoff.0.10.bed',\n",
      " '5mC_tombo_nanopolish.cutoff.0.20.bed': '/home/anjuni/analysis/coverage/feature_files/5mC_tombo_nanopolish.cutoff.0.20.bed',\n",
      " '5mC_tombo_nanopolish.cutoff.0.30.bed': '/home/anjuni/analysis/coverage/feature_files/5mC_tombo_nanopolish.cutoff.0.30.bed',\n",
      " '5mC_tombo_nanopolish.cutoff.0.40.bed': '/home/anjuni/analysis/coverage/feature_files/5mC_tombo_nanopolish.cutoff.0.40.bed',\n",
      " '5mC_tombo_nanopolish.cutoff.0.50.bed': '/home/anjuni/analysis/coverage/feature_files/5mC_tombo_nanopolish.cutoff.0.50.bed',\n",
      " '5mC_tombo_nanopolish.cutoff.0.60.bed': '/home/anjuni/analysis/coverage/feature_files/5mC_tombo_nanopolish.cutoff.0.60.bed',\n",
      " '5mC_tombo_nanopolish.cutoff.0.70.bed': '/home/anjuni/analysis/coverage/feature_files/5mC_tombo_nanopolish.cutoff.0.70.bed',\n",
      " '5mC_tombo_nanopolish.cutoff.0.80.bed': '/home/anjuni/analysis/coverage/feature_files/5mC_tombo_nanopolish.cutoff.0.80.bed',\n",
      " '5mC_tombo_nanopolish.cutoff.0.90.bed': '/home/anjuni/analysis/coverage/feature_files/5mC_tombo_nanopolish.cutoff.0.90.bed',\n",
      " '5mC_tombo_nanopolish.cutoff.0.95.bed': '/home/anjuni/analysis/coverage/feature_files/5mC_tombo_nanopolish.cutoff.0.95.bed',\n",
      " '5mC_tombo_nanopolish.cutoff.0.99.bed': '/home/anjuni/analysis/coverage/feature_files/5mC_tombo_nanopolish.cutoff.0.99.bed',\n",
      " '5mC_tombo_nanopolish.cutoff.1.00.bed': '/home/anjuni/analysis/coverage/feature_files/5mC_tombo_nanopolish.cutoff.1.00.bed',\n",
      " '6mA_hc_tombo_sorted.cutoff.0.00.bed': '/home/anjuni/analysis/coverage/feature_files/6mA_hc_tombo_sorted.cutoff.0.00.bed',\n",
      " '6mA_hc_tombo_sorted.cutoff.0.10.bed': '/home/anjuni/analysis/coverage/feature_files/6mA_hc_tombo_sorted.cutoff.0.10.bed',\n",
      " '6mA_hc_tombo_sorted.cutoff.0.20.bed': '/home/anjuni/analysis/coverage/feature_files/6mA_hc_tombo_sorted.cutoff.0.20.bed',\n",
      " '6mA_hc_tombo_sorted.cutoff.0.30.bed': '/home/anjuni/analysis/coverage/feature_files/6mA_hc_tombo_sorted.cutoff.0.30.bed',\n",
      " '6mA_hc_tombo_sorted.cutoff.0.40.bed': '/home/anjuni/analysis/coverage/feature_files/6mA_hc_tombo_sorted.cutoff.0.40.bed',\n",
      " '6mA_hc_tombo_sorted.cutoff.0.50.bed': '/home/anjuni/analysis/coverage/feature_files/6mA_hc_tombo_sorted.cutoff.0.50.bed',\n",
      " '6mA_hc_tombo_sorted.cutoff.0.60.bed': '/home/anjuni/analysis/coverage/feature_files/6mA_hc_tombo_sorted.cutoff.0.60.bed',\n",
      " '6mA_hc_tombo_sorted.cutoff.0.70.bed': '/home/anjuni/analysis/coverage/feature_files/6mA_hc_tombo_sorted.cutoff.0.70.bed',\n",
      " '6mA_hc_tombo_sorted.cutoff.0.80.bed': '/home/anjuni/analysis/coverage/feature_files/6mA_hc_tombo_sorted.cutoff.0.80.bed',\n",
      " '6mA_hc_tombo_sorted.cutoff.0.90.bed': '/home/anjuni/analysis/coverage/feature_files/6mA_hc_tombo_sorted.cutoff.0.90.bed',\n",
      " '6mA_hc_tombo_sorted.cutoff.0.95.bed': '/home/anjuni/analysis/coverage/feature_files/6mA_hc_tombo_sorted.cutoff.0.95.bed',\n",
      " '6mA_hc_tombo_sorted.cutoff.0.99.bed': '/home/anjuni/analysis/coverage/feature_files/6mA_hc_tombo_sorted.cutoff.0.99.bed',\n",
      " '6mA_hc_tombo_sorted.cutoff.1.00.bed': '/home/anjuni/analysis/coverage/feature_files/6mA_hc_tombo_sorted.cutoff.1.00.bed',\n",
      " '6mA_tombo_smrtlink.cutoff.0.00.bed': '/home/anjuni/analysis/coverage/feature_files/6mA_tombo_smrtlink.cutoff.0.00.bed',\n",
      " '6mA_tombo_smrtlink.cutoff.0.10.bed': '/home/anjuni/analysis/coverage/feature_files/6mA_tombo_smrtlink.cutoff.0.10.bed',\n",
      " '6mA_tombo_smrtlink.cutoff.0.20.bed': '/home/anjuni/analysis/coverage/feature_files/6mA_tombo_smrtlink.cutoff.0.20.bed',\n",
      " '6mA_tombo_smrtlink.cutoff.0.30.bed': '/home/anjuni/analysis/coverage/feature_files/6mA_tombo_smrtlink.cutoff.0.30.bed',\n",
      " '6mA_tombo_smrtlink.cutoff.0.40.bed': '/home/anjuni/analysis/coverage/feature_files/6mA_tombo_smrtlink.cutoff.0.40.bed',\n",
      " '6mA_tombo_smrtlink.cutoff.0.50.bed': '/home/anjuni/analysis/coverage/feature_files/6mA_tombo_smrtlink.cutoff.0.50.bed',\n",
      " '6mA_tombo_smrtlink.cutoff.0.60.bed': '/home/anjuni/analysis/coverage/feature_files/6mA_tombo_smrtlink.cutoff.0.60.bed',\n",
      " '6mA_tombo_smrtlink.cutoff.0.70.bed': '/home/anjuni/analysis/coverage/feature_files/6mA_tombo_smrtlink.cutoff.0.70.bed',\n",
      " '6mA_tombo_smrtlink.cutoff.0.80.bed': '/home/anjuni/analysis/coverage/feature_files/6mA_tombo_smrtlink.cutoff.0.80.bed',\n",
      " '6mA_tombo_smrtlink.cutoff.0.90.bed': '/home/anjuni/analysis/coverage/feature_files/6mA_tombo_smrtlink.cutoff.0.90.bed',\n",
      " '6mA_tombo_smrtlink.cutoff.0.95.bed': '/home/anjuni/analysis/coverage/feature_files/6mA_tombo_smrtlink.cutoff.0.95.bed',\n",
      " '6mA_tombo_smrtlink.cutoff.0.99.bed': '/home/anjuni/analysis/coverage/feature_files/6mA_tombo_smrtlink.cutoff.0.99.bed',\n",
      " '6mA_tombo_smrtlink.cutoff.1.00.bed': '/home/anjuni/analysis/coverage/feature_files/6mA_tombo_smrtlink.cutoff.1.00.bed',\n",
      " 'Pst_104E_v13_ph_ctg.TE.sorted.gff3': '/home/anjuni/analysis/coverage/feature_files/Pst_104E_v13_ph_ctg.TE.sorted.gff3',\n",
      " 'Pst_104E_v13_ph_ctg.anno.sorted.exons_only.gff3': '/home/anjuni/analysis/coverage/feature_files/Pst_104E_v13_ph_ctg.anno.sorted.exons_only.gff3',\n",
      " 'Pst_104E_v13_ph_ctg.anno.sorted.genes_only.gff3': '/home/anjuni/analysis/coverage/feature_files/Pst_104E_v13_ph_ctg.anno.sorted.genes_only.gff3',\n",
      " 'Pst_104E_v13_ph_ctg.anno.sorted.gff3': '/home/anjuni/analysis/coverage/feature_files/Pst_104E_v13_ph_ctg.anno.sorted.gff3',\n",
      " 'Pst_104E_v13_ph_ctg.anno.sorted.non_genes.gff3': '/home/anjuni/analysis/coverage/feature_files/Pst_104E_v13_ph_ctg.anno.sorted.non_genes.gff3',\n",
      " 'Pst_104E_v13_ph_ctg.effectors.gff3': '/home/anjuni/analysis/coverage/feature_files/Pst_104E_v13_ph_ctg.effectors.gff3',\n",
      " 'Pst_104E_v13_ph_ctg.non_effectors.gff3': '/home/anjuni/analysis/coverage/feature_files/Pst_104E_v13_ph_ctg.non_effectors.gff3'}\n"
     ]
    }
   ],
   "source": [
    "# This is the original file\n",
    "# Check whether the feature file dictionary works (it does). len = 59\n",
    "pprint.pprint(feature_fn_dict)"
   ]
  },
  {
   "cell_type": "code",
   "execution_count": null,
   "metadata": {},
   "outputs": [],
   "source": [
    "# Make dictionary of bedtools objects and check if it worked (it did!)\n",
    "feature_bed_dict = {}\n",
    "\n",
    "for key, value in feature_fn_dict.items():\n",
    "    feature_bed_dict[key] = BedTool(value)"
   ]
  },
  {
   "cell_type": "code",
   "execution_count": null,
   "metadata": {},
   "outputs": [],
   "source": [
    "pprint.pprint(feature_bed_dict)"
   ]
  },
  {
   "cell_type": "code",
   "execution_count": 867,
   "metadata": {},
   "outputs": [],
   "source": [
    "rand_files = [fn for fn in glob.iglob('%s/*' % DIRS['RAND'], recursive=True)]\n",
    "rand_fn_dict = file_name_dict(rand_files)"
   ]
  },
  {
   "cell_type": "code",
   "execution_count": 869,
   "metadata": {
    "collapsed": true
   },
   "outputs": [
    {
     "name": "stdout",
     "output_type": "stream",
     "text": [
      "{'5mC_hc_tombo_sorted.cutoff.0.00_rand.bed': '/home/anjuni/analysis/coverage/randomisation/5mC_hc_tombo_sorted.cutoff.0.00_rand.bed',\n",
      " '5mC_hc_tombo_sorted.cutoff.0.10_rand.bed': '/home/anjuni/analysis/coverage/randomisation/5mC_hc_tombo_sorted.cutoff.0.10_rand.bed',\n",
      " '5mC_hc_tombo_sorted.cutoff.0.20_rand.bed': '/home/anjuni/analysis/coverage/randomisation/5mC_hc_tombo_sorted.cutoff.0.20_rand.bed',\n",
      " '5mC_hc_tombo_sorted.cutoff.0.30_rand.bed': '/home/anjuni/analysis/coverage/randomisation/5mC_hc_tombo_sorted.cutoff.0.30_rand.bed',\n",
      " '5mC_hc_tombo_sorted.cutoff.0.40_rand.bed': '/home/anjuni/analysis/coverage/randomisation/5mC_hc_tombo_sorted.cutoff.0.40_rand.bed',\n",
      " '5mC_hc_tombo_sorted.cutoff.0.50_rand.bed': '/home/anjuni/analysis/coverage/randomisation/5mC_hc_tombo_sorted.cutoff.0.50_rand.bed',\n",
      " '5mC_hc_tombo_sorted.cutoff.0.60_rand.bed': '/home/anjuni/analysis/coverage/randomisation/5mC_hc_tombo_sorted.cutoff.0.60_rand.bed',\n",
      " '5mC_hc_tombo_sorted.cutoff.0.70_rand.bed': '/home/anjuni/analysis/coverage/randomisation/5mC_hc_tombo_sorted.cutoff.0.70_rand.bed',\n",
      " '5mC_hc_tombo_sorted.cutoff.0.80_rand.bed': '/home/anjuni/analysis/coverage/randomisation/5mC_hc_tombo_sorted.cutoff.0.80_rand.bed',\n",
      " '5mC_hc_tombo_sorted.cutoff.0.90_rand.bed': '/home/anjuni/analysis/coverage/randomisation/5mC_hc_tombo_sorted.cutoff.0.90_rand.bed',\n",
      " '5mC_hc_tombo_sorted.cutoff.0.95_rand.bed': '/home/anjuni/analysis/coverage/randomisation/5mC_hc_tombo_sorted.cutoff.0.95_rand.bed',\n",
      " '5mC_hc_tombo_sorted.cutoff.0.99_rand.bed': '/home/anjuni/analysis/coverage/randomisation/5mC_hc_tombo_sorted.cutoff.0.99_rand.bed',\n",
      " '5mC_hc_tombo_sorted.cutoff.1.00_rand.bed': '/home/anjuni/analysis/coverage/randomisation/5mC_hc_tombo_sorted.cutoff.1.00_rand.bed',\n",
      " '5mC_tombo_nanopolish.cutoff.0.00_rand.bed': '/home/anjuni/analysis/coverage/randomisation/5mC_tombo_nanopolish.cutoff.0.00_rand.bed',\n",
      " '5mC_tombo_nanopolish.cutoff.0.10_rand.bed': '/home/anjuni/analysis/coverage/randomisation/5mC_tombo_nanopolish.cutoff.0.10_rand.bed',\n",
      " '5mC_tombo_nanopolish.cutoff.0.20_rand.bed': '/home/anjuni/analysis/coverage/randomisation/5mC_tombo_nanopolish.cutoff.0.20_rand.bed',\n",
      " '5mC_tombo_nanopolish.cutoff.0.30_rand.bed': '/home/anjuni/analysis/coverage/randomisation/5mC_tombo_nanopolish.cutoff.0.30_rand.bed',\n",
      " '5mC_tombo_nanopolish.cutoff.0.40_rand.bed': '/home/anjuni/analysis/coverage/randomisation/5mC_tombo_nanopolish.cutoff.0.40_rand.bed',\n",
      " '5mC_tombo_nanopolish.cutoff.0.50_rand.bed': '/home/anjuni/analysis/coverage/randomisation/5mC_tombo_nanopolish.cutoff.0.50_rand.bed',\n",
      " '5mC_tombo_nanopolish.cutoff.0.60_rand.bed': '/home/anjuni/analysis/coverage/randomisation/5mC_tombo_nanopolish.cutoff.0.60_rand.bed',\n",
      " '5mC_tombo_nanopolish.cutoff.0.70_rand.bed': '/home/anjuni/analysis/coverage/randomisation/5mC_tombo_nanopolish.cutoff.0.70_rand.bed',\n",
      " '5mC_tombo_nanopolish.cutoff.0.80_rand.bed': '/home/anjuni/analysis/coverage/randomisation/5mC_tombo_nanopolish.cutoff.0.80_rand.bed',\n",
      " '5mC_tombo_nanopolish.cutoff.0.90_rand.bed': '/home/anjuni/analysis/coverage/randomisation/5mC_tombo_nanopolish.cutoff.0.90_rand.bed',\n",
      " '5mC_tombo_nanopolish.cutoff.0.95_rand.bed': '/home/anjuni/analysis/coverage/randomisation/5mC_tombo_nanopolish.cutoff.0.95_rand.bed',\n",
      " '5mC_tombo_nanopolish.cutoff.0.99_rand.bed': '/home/anjuni/analysis/coverage/randomisation/5mC_tombo_nanopolish.cutoff.0.99_rand.bed',\n",
      " '5mC_tombo_nanopolish.cutoff.1.00_rand.bed': '/home/anjuni/analysis/coverage/randomisation/5mC_tombo_nanopolish.cutoff.1.00_rand.bed',\n",
      " '6mA_hc_tombo_sorted.cutoff.0.00_rand.bed': '/home/anjuni/analysis/coverage/randomisation/6mA_hc_tombo_sorted.cutoff.0.00_rand.bed',\n",
      " '6mA_hc_tombo_sorted.cutoff.0.10_rand.bed': '/home/anjuni/analysis/coverage/randomisation/6mA_hc_tombo_sorted.cutoff.0.10_rand.bed',\n",
      " '6mA_hc_tombo_sorted.cutoff.0.20_rand.bed': '/home/anjuni/analysis/coverage/randomisation/6mA_hc_tombo_sorted.cutoff.0.20_rand.bed',\n",
      " '6mA_hc_tombo_sorted.cutoff.0.30_rand.bed': '/home/anjuni/analysis/coverage/randomisation/6mA_hc_tombo_sorted.cutoff.0.30_rand.bed',\n",
      " '6mA_hc_tombo_sorted.cutoff.0.40_rand.bed': '/home/anjuni/analysis/coverage/randomisation/6mA_hc_tombo_sorted.cutoff.0.40_rand.bed',\n",
      " '6mA_hc_tombo_sorted.cutoff.0.50_rand.bed': '/home/anjuni/analysis/coverage/randomisation/6mA_hc_tombo_sorted.cutoff.0.50_rand.bed',\n",
      " '6mA_hc_tombo_sorted.cutoff.0.60_rand.bed': '/home/anjuni/analysis/coverage/randomisation/6mA_hc_tombo_sorted.cutoff.0.60_rand.bed',\n",
      " '6mA_hc_tombo_sorted.cutoff.0.70_rand.bed': '/home/anjuni/analysis/coverage/randomisation/6mA_hc_tombo_sorted.cutoff.0.70_rand.bed',\n",
      " '6mA_hc_tombo_sorted.cutoff.0.80_rand.bed': '/home/anjuni/analysis/coverage/randomisation/6mA_hc_tombo_sorted.cutoff.0.80_rand.bed',\n",
      " '6mA_hc_tombo_sorted.cutoff.0.90_rand.bed': '/home/anjuni/analysis/coverage/randomisation/6mA_hc_tombo_sorted.cutoff.0.90_rand.bed',\n",
      " '6mA_hc_tombo_sorted.cutoff.0.95_rand.bed': '/home/anjuni/analysis/coverage/randomisation/6mA_hc_tombo_sorted.cutoff.0.95_rand.bed',\n",
      " '6mA_hc_tombo_sorted.cutoff.0.99_rand.bed': '/home/anjuni/analysis/coverage/randomisation/6mA_hc_tombo_sorted.cutoff.0.99_rand.bed',\n",
      " '6mA_hc_tombo_sorted.cutoff.1.00_rand.bed': '/home/anjuni/analysis/coverage/randomisation/6mA_hc_tombo_sorted.cutoff.1.00_rand.bed',\n",
      " '6mA_tombo_smrtlink.cutoff.0.00_rand.bed': '/home/anjuni/analysis/coverage/randomisation/6mA_tombo_smrtlink.cutoff.0.00_rand.bed',\n",
      " '6mA_tombo_smrtlink.cutoff.0.10_rand.bed': '/home/anjuni/analysis/coverage/randomisation/6mA_tombo_smrtlink.cutoff.0.10_rand.bed',\n",
      " '6mA_tombo_smrtlink.cutoff.0.20_rand.bed': '/home/anjuni/analysis/coverage/randomisation/6mA_tombo_smrtlink.cutoff.0.20_rand.bed',\n",
      " '6mA_tombo_smrtlink.cutoff.0.30_rand.bed': '/home/anjuni/analysis/coverage/randomisation/6mA_tombo_smrtlink.cutoff.0.30_rand.bed',\n",
      " '6mA_tombo_smrtlink.cutoff.0.40_rand.bed': '/home/anjuni/analysis/coverage/randomisation/6mA_tombo_smrtlink.cutoff.0.40_rand.bed',\n",
      " '6mA_tombo_smrtlink.cutoff.0.50_rand.bed': '/home/anjuni/analysis/coverage/randomisation/6mA_tombo_smrtlink.cutoff.0.50_rand.bed',\n",
      " '6mA_tombo_smrtlink.cutoff.0.60_rand.bed': '/home/anjuni/analysis/coverage/randomisation/6mA_tombo_smrtlink.cutoff.0.60_rand.bed',\n",
      " '6mA_tombo_smrtlink.cutoff.0.70_rand.bed': '/home/anjuni/analysis/coverage/randomisation/6mA_tombo_smrtlink.cutoff.0.70_rand.bed',\n",
      " '6mA_tombo_smrtlink.cutoff.0.80_rand.bed': '/home/anjuni/analysis/coverage/randomisation/6mA_tombo_smrtlink.cutoff.0.80_rand.bed',\n",
      " '6mA_tombo_smrtlink.cutoff.0.90_rand.bed': '/home/anjuni/analysis/coverage/randomisation/6mA_tombo_smrtlink.cutoff.0.90_rand.bed',\n",
      " '6mA_tombo_smrtlink.cutoff.0.95_rand.bed': '/home/anjuni/analysis/coverage/randomisation/6mA_tombo_smrtlink.cutoff.0.95_rand.bed',\n",
      " '6mA_tombo_smrtlink.cutoff.0.99_rand.bed': '/home/anjuni/analysis/coverage/randomisation/6mA_tombo_smrtlink.cutoff.0.99_rand.bed',\n",
      " '6mA_tombo_smrtlink.cutoff.1.00_rand.bed': '/home/anjuni/analysis/coverage/randomisation/6mA_tombo_smrtlink.cutoff.1.00_rand.bed'}\n"
     ]
    }
   ],
   "source": [
    "# Check whether the feature file dictionary works (it does). len = 59\n",
    "pprint.pprint(rand_fn_dict)"
   ]
  },
  {
   "cell_type": "code",
   "execution_count": 870,
   "metadata": {},
   "outputs": [],
   "source": [
    "# Make dictionary of bedtools objects and check if it worked (it did!)\n",
    "rand_bed_dict = {}\n",
    "\n",
    "for key, value in rand_fn_dict.items():\n",
    "    rand_bed_dict[key] = BedTool(value)"
   ]
  },
  {
   "cell_type": "code",
   "execution_count": 871,
   "metadata": {
    "collapsed": true
   },
   "outputs": [
    {
     "name": "stdout",
     "output_type": "stream",
     "text": [
      "{'5mC_hc_tombo_sorted.cutoff.0.00_rand.bed': <BedTool(/home/anjuni/analysis/coverage/randomisation/5mC_hc_tombo_sorted.cutoff.0.00_rand.bed)>,\n",
      " '5mC_hc_tombo_sorted.cutoff.0.10_rand.bed': <BedTool(/home/anjuni/analysis/coverage/randomisation/5mC_hc_tombo_sorted.cutoff.0.10_rand.bed)>,\n",
      " '5mC_hc_tombo_sorted.cutoff.0.20_rand.bed': <BedTool(/home/anjuni/analysis/coverage/randomisation/5mC_hc_tombo_sorted.cutoff.0.20_rand.bed)>,\n",
      " '5mC_hc_tombo_sorted.cutoff.0.30_rand.bed': <BedTool(/home/anjuni/analysis/coverage/randomisation/5mC_hc_tombo_sorted.cutoff.0.30_rand.bed)>,\n",
      " '5mC_hc_tombo_sorted.cutoff.0.40_rand.bed': <BedTool(/home/anjuni/analysis/coverage/randomisation/5mC_hc_tombo_sorted.cutoff.0.40_rand.bed)>,\n",
      " '5mC_hc_tombo_sorted.cutoff.0.50_rand.bed': <BedTool(/home/anjuni/analysis/coverage/randomisation/5mC_hc_tombo_sorted.cutoff.0.50_rand.bed)>,\n",
      " '5mC_hc_tombo_sorted.cutoff.0.60_rand.bed': <BedTool(/home/anjuni/analysis/coverage/randomisation/5mC_hc_tombo_sorted.cutoff.0.60_rand.bed)>,\n",
      " '5mC_hc_tombo_sorted.cutoff.0.70_rand.bed': <BedTool(/home/anjuni/analysis/coverage/randomisation/5mC_hc_tombo_sorted.cutoff.0.70_rand.bed)>,\n",
      " '5mC_hc_tombo_sorted.cutoff.0.80_rand.bed': <BedTool(/home/anjuni/analysis/coverage/randomisation/5mC_hc_tombo_sorted.cutoff.0.80_rand.bed)>,\n",
      " '5mC_hc_tombo_sorted.cutoff.0.90_rand.bed': <BedTool(/home/anjuni/analysis/coverage/randomisation/5mC_hc_tombo_sorted.cutoff.0.90_rand.bed)>,\n",
      " '5mC_hc_tombo_sorted.cutoff.0.95_rand.bed': <BedTool(/home/anjuni/analysis/coverage/randomisation/5mC_hc_tombo_sorted.cutoff.0.95_rand.bed)>,\n",
      " '5mC_hc_tombo_sorted.cutoff.0.99_rand.bed': <BedTool(/home/anjuni/analysis/coverage/randomisation/5mC_hc_tombo_sorted.cutoff.0.99_rand.bed)>,\n",
      " '5mC_hc_tombo_sorted.cutoff.1.00_rand.bed': <BedTool(/home/anjuni/analysis/coverage/randomisation/5mC_hc_tombo_sorted.cutoff.1.00_rand.bed)>,\n",
      " '5mC_tombo_nanopolish.cutoff.0.00_rand.bed': <BedTool(/home/anjuni/analysis/coverage/randomisation/5mC_tombo_nanopolish.cutoff.0.00_rand.bed)>,\n",
      " '5mC_tombo_nanopolish.cutoff.0.10_rand.bed': <BedTool(/home/anjuni/analysis/coverage/randomisation/5mC_tombo_nanopolish.cutoff.0.10_rand.bed)>,\n",
      " '5mC_tombo_nanopolish.cutoff.0.20_rand.bed': <BedTool(/home/anjuni/analysis/coverage/randomisation/5mC_tombo_nanopolish.cutoff.0.20_rand.bed)>,\n",
      " '5mC_tombo_nanopolish.cutoff.0.30_rand.bed': <BedTool(/home/anjuni/analysis/coverage/randomisation/5mC_tombo_nanopolish.cutoff.0.30_rand.bed)>,\n",
      " '5mC_tombo_nanopolish.cutoff.0.40_rand.bed': <BedTool(/home/anjuni/analysis/coverage/randomisation/5mC_tombo_nanopolish.cutoff.0.40_rand.bed)>,\n",
      " '5mC_tombo_nanopolish.cutoff.0.50_rand.bed': <BedTool(/home/anjuni/analysis/coverage/randomisation/5mC_tombo_nanopolish.cutoff.0.50_rand.bed)>,\n",
      " '5mC_tombo_nanopolish.cutoff.0.60_rand.bed': <BedTool(/home/anjuni/analysis/coverage/randomisation/5mC_tombo_nanopolish.cutoff.0.60_rand.bed)>,\n",
      " '5mC_tombo_nanopolish.cutoff.0.70_rand.bed': <BedTool(/home/anjuni/analysis/coverage/randomisation/5mC_tombo_nanopolish.cutoff.0.70_rand.bed)>,\n",
      " '5mC_tombo_nanopolish.cutoff.0.80_rand.bed': <BedTool(/home/anjuni/analysis/coverage/randomisation/5mC_tombo_nanopolish.cutoff.0.80_rand.bed)>,\n",
      " '5mC_tombo_nanopolish.cutoff.0.90_rand.bed': <BedTool(/home/anjuni/analysis/coverage/randomisation/5mC_tombo_nanopolish.cutoff.0.90_rand.bed)>,\n",
      " '5mC_tombo_nanopolish.cutoff.0.95_rand.bed': <BedTool(/home/anjuni/analysis/coverage/randomisation/5mC_tombo_nanopolish.cutoff.0.95_rand.bed)>,\n",
      " '5mC_tombo_nanopolish.cutoff.0.99_rand.bed': <BedTool(/home/anjuni/analysis/coverage/randomisation/5mC_tombo_nanopolish.cutoff.0.99_rand.bed)>,\n",
      " '5mC_tombo_nanopolish.cutoff.1.00_rand.bed': <BedTool(/home/anjuni/analysis/coverage/randomisation/5mC_tombo_nanopolish.cutoff.1.00_rand.bed)>,\n",
      " '6mA_hc_tombo_sorted.cutoff.0.00_rand.bed': <BedTool(/home/anjuni/analysis/coverage/randomisation/6mA_hc_tombo_sorted.cutoff.0.00_rand.bed)>,\n",
      " '6mA_hc_tombo_sorted.cutoff.0.10_rand.bed': <BedTool(/home/anjuni/analysis/coverage/randomisation/6mA_hc_tombo_sorted.cutoff.0.10_rand.bed)>,\n",
      " '6mA_hc_tombo_sorted.cutoff.0.20_rand.bed': <BedTool(/home/anjuni/analysis/coverage/randomisation/6mA_hc_tombo_sorted.cutoff.0.20_rand.bed)>,\n",
      " '6mA_hc_tombo_sorted.cutoff.0.30_rand.bed': <BedTool(/home/anjuni/analysis/coverage/randomisation/6mA_hc_tombo_sorted.cutoff.0.30_rand.bed)>,\n",
      " '6mA_hc_tombo_sorted.cutoff.0.40_rand.bed': <BedTool(/home/anjuni/analysis/coverage/randomisation/6mA_hc_tombo_sorted.cutoff.0.40_rand.bed)>,\n",
      " '6mA_hc_tombo_sorted.cutoff.0.50_rand.bed': <BedTool(/home/anjuni/analysis/coverage/randomisation/6mA_hc_tombo_sorted.cutoff.0.50_rand.bed)>,\n",
      " '6mA_hc_tombo_sorted.cutoff.0.60_rand.bed': <BedTool(/home/anjuni/analysis/coverage/randomisation/6mA_hc_tombo_sorted.cutoff.0.60_rand.bed)>,\n",
      " '6mA_hc_tombo_sorted.cutoff.0.70_rand.bed': <BedTool(/home/anjuni/analysis/coverage/randomisation/6mA_hc_tombo_sorted.cutoff.0.70_rand.bed)>,\n",
      " '6mA_hc_tombo_sorted.cutoff.0.80_rand.bed': <BedTool(/home/anjuni/analysis/coverage/randomisation/6mA_hc_tombo_sorted.cutoff.0.80_rand.bed)>,\n",
      " '6mA_hc_tombo_sorted.cutoff.0.90_rand.bed': <BedTool(/home/anjuni/analysis/coverage/randomisation/6mA_hc_tombo_sorted.cutoff.0.90_rand.bed)>,\n",
      " '6mA_hc_tombo_sorted.cutoff.0.95_rand.bed': <BedTool(/home/anjuni/analysis/coverage/randomisation/6mA_hc_tombo_sorted.cutoff.0.95_rand.bed)>,\n",
      " '6mA_hc_tombo_sorted.cutoff.0.99_rand.bed': <BedTool(/home/anjuni/analysis/coverage/randomisation/6mA_hc_tombo_sorted.cutoff.0.99_rand.bed)>,\n",
      " '6mA_hc_tombo_sorted.cutoff.1.00_rand.bed': <BedTool(/home/anjuni/analysis/coverage/randomisation/6mA_hc_tombo_sorted.cutoff.1.00_rand.bed)>,\n",
      " '6mA_tombo_smrtlink.cutoff.0.00_rand.bed': <BedTool(/home/anjuni/analysis/coverage/randomisation/6mA_tombo_smrtlink.cutoff.0.00_rand.bed)>,\n",
      " '6mA_tombo_smrtlink.cutoff.0.10_rand.bed': <BedTool(/home/anjuni/analysis/coverage/randomisation/6mA_tombo_smrtlink.cutoff.0.10_rand.bed)>,\n",
      " '6mA_tombo_smrtlink.cutoff.0.20_rand.bed': <BedTool(/home/anjuni/analysis/coverage/randomisation/6mA_tombo_smrtlink.cutoff.0.20_rand.bed)>,\n",
      " '6mA_tombo_smrtlink.cutoff.0.30_rand.bed': <BedTool(/home/anjuni/analysis/coverage/randomisation/6mA_tombo_smrtlink.cutoff.0.30_rand.bed)>,\n",
      " '6mA_tombo_smrtlink.cutoff.0.40_rand.bed': <BedTool(/home/anjuni/analysis/coverage/randomisation/6mA_tombo_smrtlink.cutoff.0.40_rand.bed)>,\n",
      " '6mA_tombo_smrtlink.cutoff.0.50_rand.bed': <BedTool(/home/anjuni/analysis/coverage/randomisation/6mA_tombo_smrtlink.cutoff.0.50_rand.bed)>,\n",
      " '6mA_tombo_smrtlink.cutoff.0.60_rand.bed': <BedTool(/home/anjuni/analysis/coverage/randomisation/6mA_tombo_smrtlink.cutoff.0.60_rand.bed)>,\n",
      " '6mA_tombo_smrtlink.cutoff.0.70_rand.bed': <BedTool(/home/anjuni/analysis/coverage/randomisation/6mA_tombo_smrtlink.cutoff.0.70_rand.bed)>,\n",
      " '6mA_tombo_smrtlink.cutoff.0.80_rand.bed': <BedTool(/home/anjuni/analysis/coverage/randomisation/6mA_tombo_smrtlink.cutoff.0.80_rand.bed)>,\n",
      " '6mA_tombo_smrtlink.cutoff.0.90_rand.bed': <BedTool(/home/anjuni/analysis/coverage/randomisation/6mA_tombo_smrtlink.cutoff.0.90_rand.bed)>,\n",
      " '6mA_tombo_smrtlink.cutoff.0.95_rand.bed': <BedTool(/home/anjuni/analysis/coverage/randomisation/6mA_tombo_smrtlink.cutoff.0.95_rand.bed)>,\n",
      " '6mA_tombo_smrtlink.cutoff.0.99_rand.bed': <BedTool(/home/anjuni/analysis/coverage/randomisation/6mA_tombo_smrtlink.cutoff.0.99_rand.bed)>,\n",
      " '6mA_tombo_smrtlink.cutoff.1.00_rand.bed': <BedTool(/home/anjuni/analysis/coverage/randomisation/6mA_tombo_smrtlink.cutoff.1.00_rand.bed)>}\n"
     ]
    }
   ],
   "source": [
    "pprint.pprint(rand_bed_dict)"
   ]
  },
  {
   "cell_type": "code",
   "execution_count": 1417,
   "metadata": {},
   "outputs": [],
   "source": [
    "# Make filepaths for feature files for TE superfamilies.\n",
    "sf_files = [fn for fn in glob.iglob('%s/*' % DIRS['TE_SF'], recursive=True)]\n",
    "sf_fn_dict = file_name_dict(sf_files)"
   ]
  },
  {
   "cell_type": "code",
   "execution_count": 1420,
   "metadata": {},
   "outputs": [],
   "source": [
    "# Make dictionary of bedtools objects and check if it worked (it did!)\n",
    "sf_bed_dict = {}\n",
    "\n",
    "for key, value in sf_fn_dict.items():\n",
    "    sf_bed_dict[key] = BedTool(value)"
   ]
  },
  {
   "cell_type": "markdown",
   "metadata": {},
   "source": [
    "# <span style='color:red'> write code here. <span/>"
   ]
  },
  {
   "cell_type": "code",
   "execution_count": null,
   "metadata": {},
   "outputs": [],
   "source": [
    "# make busco_bed_dict which includes the TE (LTgene) and combined file"
   ]
  },
  {
   "cell_type": "markdown",
   "metadata": {},
   "source": [
    "### <span style='color:#148aff'> 5.C Using Ben's pybedtools coverage function on the feature files. <span/>"
   ]
  },
  {
   "cell_type": "code",
   "execution_count": 353,
   "metadata": {},
   "outputs": [],
   "source": [
    "%%bash\n",
    "\n",
    "# move the feature files to the correct folder\n",
    "cd /home/anjuni/analysis/coverage\n",
    "cp ../bedtools_output/intersects_from_cutoffs/* feature_files"
   ]
  },
  {
   "cell_type": "code",
   "execution_count": 68,
   "metadata": {},
   "outputs": [],
   "source": [
    "# Make a function to do overlaps for feature files\n",
    "def coverage(windowbed_dict, featurebed_dict, featurefn_dict, old_folder_name, new_folder_name):\n",
    "    \"\"\"Create coverage files from a dictionary of window pybedtools objects and a dictionary of feature file pybedtools objects. Also outputs a dictionary of pandas dataframes for all coverage files.\"\"\"\n",
    "    feature_overlap_df_dict = {}\n",
    "    for wkey, wbed in windowbed_dict.items():\n",
    "        for fkey, fbed in featurebed_dict.items():\n",
    "            tmp_df = wbed.coverage(fbed).to_dataframe().iloc[:,[0,1,2,3,6]] # make a dataframe to put headings\n",
    "            tmp_df.rename(columns={'name': 'overlap_count', 'thickStart': 'overlap_fraction'}, inplace=True) # rename headings\n",
    "            if featurefn_dict[fkey].endswith('.gff3'): # for gene/transposon/effector/exon files\n",
    "                tmp_fn = featurefn_dict[fkey].replace('.gff3', '.%s.overlap.bed' % wkey) # change output file path\n",
    "            tmp_fn = tmp_fn.replace(old_folder_name, new_folder_name)\n",
    "            if featurefn_dict[fkey].endswith('.bed'): # for methylation files\n",
    "                tmp_fn = featurefn_dict[fkey].replace('.bed', '.%s.overlap.bed' % wkey) # change output file path\n",
    "            feature_overlap_df_dict[tmp_fn.split('/')[-1]] = tmp_df # file name as key and dataframe as value for overlap dict\n",
    "            tmp_df.to_csv(tmp_fn, sep='\\t', header=None, index=None) # save to a csv(pybedtools outputs more d.p. than BEDTools)\n",
    "    return feature_overlap_df_dict"
   ]
  },
  {
   "cell_type": "code",
   "execution_count": null,
   "metadata": {},
   "outputs": [],
   "source": [
    "# Run overlaps between windows and features\n",
    "feature_coverage_dict = coverage(window_bed_dict, feature_bed_dict, feature_fn_dict, 'feature_files', 'coverage_feature')\n",
    "rand_coverage_dict = coverage(window_bed_dict, rand_bed_dict, rand_fn_dict, 'randomisation', 'coverage_random')"
   ]
  },
  {
   "cell_type": "code",
   "execution_count": 1438,
   "metadata": {},
   "outputs": [],
   "source": [
    "# Run overlaps between windows and TE superfamily files\n",
    "sf_coverage_dict = coverage(window_bed_dict, sf_bed_dict, sf_fn_dict, 'superfamily_files', 'coverage_superfamily')"
   ]
  },
  {
   "cell_type": "markdown",
   "metadata": {},
   "source": [
    "# <span style='color:red'> write code here. <span/>"
   ]
  },
  {
   "cell_type": "code",
   "execution_count": null,
   "metadata": {},
   "outputs": [],
   "source": [
    "# Run overlaps for the combined gene files, LTgene and BUSCO for consistency with the per-gene analysis"
   ]
  },
  {
   "cell_type": "markdown",
   "metadata": {},
   "source": [
    "### <span style='color:#148aff'> 5.D Statistical tests on the coverage files. <span/>"
   ]
  },
  {
   "cell_type": "code",
   "execution_count": 958,
   "metadata": {},
   "outputs": [],
   "source": [
    "def separate_sliding_windows(input_dict, string):\n",
    "    \"\"\"Separates sliding and non-sliding windows into separate dictionaries.\"\"\"\n",
    "    sliding_dict = {}\n",
    "    non_sliding_dict = {}\n",
    "    for key, value in input_dict.items():\n",
    "        if key.endswith(string):\n",
    "            sliding_dict[key] = value\n",
    "        else:\n",
    "            non_sliding_dict[key] = value\n",
    "    return sliding_dict, non_sliding_dict"
   ]
  },
  {
   "cell_type": "code",
   "execution_count": 959,
   "metadata": {},
   "outputs": [],
   "source": [
    "rand_s_dict, rand_ns_dict = separate_sliding_windows(rand_coverage_dict, '_s2kb.overlap.bed')\n",
    "feature_s_dict, feature_ns_dict = separate_sliding_windows(feature_coverage_dict, '_s2kb.overlap.bed')"
   ]
  },
  {
   "cell_type": "code",
   "execution_count": 1227,
   "metadata": {},
   "outputs": [],
   "source": [
    "def coverage_wilcoxon(obs_df_dict, exp_df_dict, obs_slice, exp_slice):\n",
    "    \"\"\"This function returns a dictionary of chi square statistic and p-value for a test of observed and randomised sites.\"\"\"\n",
    "    wilcoxon_dict = {}\n",
    "    for okey, ovalue in obs_df_dict.items():\n",
    "        for ekey, evalue in exp_df_dict.items():\n",
    "            if okey[:obs_slice] == ekey[:exp_slice]:\n",
    "                o_df = ovalue\n",
    "                e_df = evalue\n",
    "                obs = o_df['overlap_fraction']\n",
    "                exp = e_df['overlap_fraction']\n",
    "                stat, p = wilcoxon(obs, exp)\n",
    "                wilcoxon_dict[okey] = stat, p\n",
    "    return wilcoxon_dict"
   ]
  },
  {
   "cell_type": "code",
   "execution_count": 1228,
   "metadata": {},
   "outputs": [
    {
     "name": "stderr",
     "output_type": "stream",
     "text": [
      "/home/anjuni/anaconda3/lib/python3.6/site-packages/scipy/stats/morestats.py:2385: UserWarning: Warning: sample size too small for normal approximation.\n",
      "  warnings.warn(\"Warning: sample size too small for normal approximation.\")\n",
      "/home/anjuni/anaconda3/lib/python3.6/site-packages/scipy/stats/morestats.py:2410: RuntimeWarning: invalid value encountered in double_scalars\n",
      "  z = (T - mn - correction) / se\n"
     ]
    }
   ],
   "source": [
    "wilcoxon_coverage = coverage_wilcoxon(feature_ns_dict, rand_ns_dict, -17, -22)"
   ]
  },
  {
   "cell_type": "code",
   "execution_count": 1233,
   "metadata": {
    "scrolled": true
   },
   "outputs": [
    {
     "name": "stdout",
     "output_type": "stream",
     "text": [
      "{'5mC_hc_tombo_sorted.cutoff.0.00.10kb.overlap.bed': (87915.5, 0.0),\n",
      " '5mC_hc_tombo_sorted.cutoff.0.10.10kb.overlap.bed': (85739.5, 0.0),\n",
      " '5mC_hc_tombo_sorted.cutoff.0.20.10kb.overlap.bed': (101277.5, 0.0),\n",
      " '5mC_hc_tombo_sorted.cutoff.0.30.10kb.overlap.bed': (234278.0, 0.0),\n",
      " '5mC_hc_tombo_sorted.cutoff.0.40.10kb.overlap.bed': (2327553.5, 0.0),\n",
      " '5mC_hc_tombo_sorted.cutoff.0.50.10kb.overlap.bed': (16607427.5, 0.0),\n",
      " '5mC_hc_tombo_sorted.cutoff.0.60.10kb.overlap.bed': (46236315.0,\n",
      "                                                      9.9306376916492e-187),\n",
      " '5mC_hc_tombo_sorted.cutoff.0.70.10kb.overlap.bed': (60573267.0,\n",
      "                                                      2.6349063610233442e-05),\n",
      " '5mC_hc_tombo_sorted.cutoff.0.80.10kb.overlap.bed': (45245491.5,\n",
      "                                                      1.2543957014880141e-206),\n",
      " '5mC_hc_tombo_sorted.cutoff.0.90.10kb.overlap.bed': (28260071.5, 0.0),\n",
      " '5mC_hc_tombo_sorted.cutoff.0.95.10kb.overlap.bed': (22742993.5, 0.0),\n",
      " '5mC_hc_tombo_sorted.cutoff.0.99.10kb.overlap.bed': (22678421.0, 0.0),\n",
      " '5mC_hc_tombo_sorted.cutoff.1.00.10kb.overlap.bed': (22741581.5, 0.0),\n",
      " '5mC_tombo_nanopolish.cutoff.0.00.10kb.overlap.bed': (10844108.0, 0.0),\n",
      " '5mC_tombo_nanopolish.cutoff.0.10.10kb.overlap.bed': (43145071.0,\n",
      "                                                       4.553778902654728e-242),\n",
      " '5mC_tombo_nanopolish.cutoff.0.20.10kb.overlap.bed': (47436068.0,\n",
      "                                                       5.963971678347469e-145),\n",
      " '5mC_tombo_nanopolish.cutoff.0.30.10kb.overlap.bed': (49056338.5,\n",
      "                                                       1.9209824862898895e-116),\n",
      " '5mC_tombo_nanopolish.cutoff.0.40.10kb.overlap.bed': (50401725.5,\n",
      "                                                       7.780904796466759e-94),\n",
      " '5mC_tombo_nanopolish.cutoff.0.50.10kb.overlap.bed': (52206454.5,\n",
      "                                                       6.256747390410517e-68),\n",
      " '5mC_tombo_nanopolish.cutoff.0.60.10kb.overlap.bed': (55972015.5,\n",
      "                                                       2.3119557355321374e-26),\n",
      " '5mC_tombo_nanopolish.cutoff.0.70.10kb.overlap.bed': (61285835.5,\n",
      "                                                       0.3968684092160172),\n",
      " '5mC_tombo_nanopolish.cutoff.0.80.10kb.overlap.bed': (55859127.5,\n",
      "                                                       1.5092562388783972e-19),\n",
      " '5mC_tombo_nanopolish.cutoff.0.90.10kb.overlap.bed': (46064137.0,\n",
      "                                                       1.0170925923720883e-108),\n",
      " '5mC_tombo_nanopolish.cutoff.0.95.10kb.overlap.bed': (32915851.0,\n",
      "                                                       3.43685868380614e-310),\n",
      " '5mC_tombo_nanopolish.cutoff.0.99.10kb.overlap.bed': (21577730.0, 0.0),\n",
      " '5mC_tombo_nanopolish.cutoff.1.00.10kb.overlap.bed': (21695392.0, 0.0),\n",
      " '6mA_hc_tombo_sorted.cutoff.0.00.10kb.overlap.bed': (123595.5, 0.0),\n",
      " '6mA_hc_tombo_sorted.cutoff.0.10.10kb.overlap.bed': (110543.5, 0.0),\n",
      " '6mA_hc_tombo_sorted.cutoff.0.20.10kb.overlap.bed': (86113.0, 0.0),\n",
      " '6mA_hc_tombo_sorted.cutoff.0.30.10kb.overlap.bed': (68434.0, 0.0),\n",
      " '6mA_hc_tombo_sorted.cutoff.0.40.10kb.overlap.bed': (148779.5, 0.0),\n",
      " '6mA_hc_tombo_sorted.cutoff.0.50.10kb.overlap.bed': (6381947.5, 0.0),\n",
      " '6mA_hc_tombo_sorted.cutoff.0.60.10kb.overlap.bed': (40142971.0, 0.0),\n",
      " '6mA_hc_tombo_sorted.cutoff.0.70.10kb.overlap.bed': (62540754.5,\n",
      "                                                      0.484210903911623),\n",
      " '6mA_hc_tombo_sorted.cutoff.0.80.10kb.overlap.bed': (46297440.5,\n",
      "                                                      3.308405230559043e-182),\n",
      " '6mA_hc_tombo_sorted.cutoff.0.90.10kb.overlap.bed': (28745766.0, 0.0),\n",
      " '6mA_hc_tombo_sorted.cutoff.0.95.10kb.overlap.bed': (23623035.0, 0.0),\n",
      " '6mA_hc_tombo_sorted.cutoff.0.99.10kb.overlap.bed': (23719120.5, 0.0),\n",
      " '6mA_hc_tombo_sorted.cutoff.1.00.10kb.overlap.bed': (23754178.0, 0.0),\n",
      " '6mA_tombo_smrtlink.cutoff.0.00.10kb.overlap.bed': (47595884.0,\n",
      "                                                     4.767778176535458e-26),\n",
      " '6mA_tombo_smrtlink.cutoff.0.10.10kb.overlap.bed': (46779618.5,\n",
      "                                                     1.0783349873119544e-23),\n",
      " '6mA_tombo_smrtlink.cutoff.0.20.10kb.overlap.bed': (45426399.5,\n",
      "                                                     8.763200632722631e-20),\n",
      " '6mA_tombo_smrtlink.cutoff.0.30.10kb.overlap.bed': (43562423.5,\n",
      "                                                     1.6437867991758577e-16),\n",
      " '6mA_tombo_smrtlink.cutoff.0.40.10kb.overlap.bed': (41230864.0,\n",
      "                                                     1.2008451600300923e-15),\n",
      " '6mA_tombo_smrtlink.cutoff.0.50.10kb.overlap.bed': (38279444.5,\n",
      "                                                     7.761436603883395e-15),\n",
      " '6mA_tombo_smrtlink.cutoff.0.60.10kb.overlap.bed': (31384716.5,\n",
      "                                                     6.0700529773129946e-12),\n",
      " '6mA_tombo_smrtlink.cutoff.0.70.10kb.overlap.bed': (19724676.5,\n",
      "                                                     6.003085591247095e-08),\n",
      " '6mA_tombo_smrtlink.cutoff.0.80.10kb.overlap.bed': (8092159.5,\n",
      "                                                     0.001988677333990722),\n",
      " '6mA_tombo_smrtlink.cutoff.0.90.10kb.overlap.bed': (1182999.5,\n",
      "                                                     0.014416027330854089),\n",
      " '6mA_tombo_smrtlink.cutoff.0.95.10kb.overlap.bed': (250210.0,\n",
      "                                                     0.01167586893927822),\n",
      " '6mA_tombo_smrtlink.cutoff.0.99.10kb.overlap.bed': (176958.0,\n",
      "                                                     0.032661011929762666),\n",
      " '6mA_tombo_smrtlink.cutoff.1.00.10kb.overlap.bed': (0.0, nan)}\n"
     ]
    }
   ],
   "source": [
    "pprint.pprint(wilcoxon_coverage)"
   ]
  },
  {
   "cell_type": "markdown",
   "metadata": {},
   "source": [
    "All the cutoffs had statistically significant results, so use any of them I guess. The lower cutoff would be best because you get more sites."
   ]
  },
  {
   "cell_type": "markdown",
   "metadata": {},
   "source": [
    "### <span style='color:#148aff'> 5.E Correlations between the coverage files. <span/>"
   ]
  },
  {
   "cell_type": "code",
   "execution_count": 1243,
   "metadata": {},
   "outputs": [
    {
     "data": {
      "text/plain": [
       "SpearmanrResult(correlation=-0.38281643716088243, pvalue=0.0)"
      ]
     },
     "execution_count": 1243,
     "metadata": {},
     "output_type": "execute_result"
    }
   ],
   "source": [
    "# 5mC correlation with genes\n",
    "spearmanr(feature_coverage_dict['5mC_hc_tombo_sorted.cutoff.0.99.10kb.overlap.bed'].overlap_fraction,\\\n",
    "         feature_coverage_dict['Pst_104E_v13_ph_ctg.anno.sorted.genes_only.10kb.overlap.bed'].overlap_fraction)"
   ]
  },
  {
   "cell_type": "code",
   "execution_count": 1244,
   "metadata": {
    "scrolled": true
   },
   "outputs": [
    {
     "data": {
      "text/plain": [
       "SpearmanrResult(correlation=0.25369718437406363, pvalue=1.690789556321972e-233)"
      ]
     },
     "execution_count": 1244,
     "metadata": {},
     "output_type": "execute_result"
    }
   ],
   "source": [
    "# 5mC correlation with TEs\n",
    "spearmanr(feature_coverage_dict['5mC_hc_tombo_sorted.cutoff.0.99.10kb.overlap.bed'].overlap_fraction,\\\n",
    "         feature_coverage_dict['Pst_104E_v13_ph_ctg.TE.sorted.10kb.overlap.bed'].overlap_fraction)"
   ]
  },
  {
   "cell_type": "code",
   "execution_count": 1245,
   "metadata": {},
   "outputs": [
    {
     "data": {
      "text/plain": [
       "SpearmanrResult(correlation=-0.13931099497837787, pvalue=3.5837515997418266e-70)"
      ]
     },
     "execution_count": 1245,
     "metadata": {},
     "output_type": "execute_result"
    }
   ],
   "source": [
    "# 5mC correlation with effectors\n",
    "spearmanr(feature_coverage_dict['5mC_hc_tombo_sorted.cutoff.0.99.10kb.overlap.bed'].overlap_fraction,\\\n",
    "         feature_coverage_dict['Pst_104E_v13_ph_ctg.effectors.10kb.overlap.bed'].overlap_fraction)"
   ]
  },
  {
   "cell_type": "code",
   "execution_count": 1250,
   "metadata": {},
   "outputs": [
    {
     "data": {
      "text/plain": [
       "SpearmanrResult(correlation=-0.18353279200007624, pvalue=2.970389253688614e-121)"
      ]
     },
     "execution_count": 1250,
     "metadata": {},
     "output_type": "execute_result"
    }
   ],
   "source": [
    "# 6mA correlation with genes\n",
    "spearmanr(feature_coverage_dict['6mA_hc_tombo_sorted.cutoff.0.99.10kb.overlap.bed'].overlap_fraction,\\\n",
    "         feature_coverage_dict['Pst_104E_v13_ph_ctg.anno.sorted.genes_only.10kb.overlap.bed'].overlap_fraction)"
   ]
  },
  {
   "cell_type": "code",
   "execution_count": 1264,
   "metadata": {},
   "outputs": [
    {
     "data": {
      "text/plain": [
       "SpearmanrResult(correlation=-0.07515396006471368, pvalue=1.728156969082245e-21)"
      ]
     },
     "execution_count": 1264,
     "metadata": {},
     "output_type": "execute_result"
    }
   ],
   "source": [
    "# 6mA correlation with effectors\n",
    "spearmanr(feature_coverage_dict['6mA_hc_tombo_sorted.cutoff.0.99.10kb.overlap.bed'].overlap_fraction,\\\n",
    "         feature_coverage_dict['Pst_104E_v13_ph_ctg.effectors.10kb.overlap.bed'].overlap_fraction)"
   ]
  },
  {
   "cell_type": "code",
   "execution_count": 1262,
   "metadata": {},
   "outputs": [
    {
     "data": {
      "text/plain": [
       "SpearmanrResult(correlation=0.09330526525126864, pvalue=2.775701706245244e-32)"
      ]
     },
     "execution_count": 1262,
     "metadata": {},
     "output_type": "execute_result"
    }
   ],
   "source": [
    "# 6mA correlation with TEs\n",
    "spearmanr(feature_coverage_dict['6mA_hc_tombo_sorted.cutoff.0.99.10kb.overlap.bed'].overlap_fraction,\\\n",
    "         feature_coverage_dict['Pst_104E_v13_ph_ctg.TE.sorted.10kb.overlap.bed'].overlap_fraction)"
   ]
  },
  {
   "cell_type": "code",
   "execution_count": null,
   "metadata": {},
   "outputs": [],
   "source": [
    "# Test correlation between randomised files and feature files as a control"
   ]
  },
  {
   "cell_type": "code",
   "execution_count": 1440,
   "metadata": {
    "collapsed": true
   },
   "outputs": [
    {
     "data": {
      "text/plain": [
       "SpearmanrResult(correlation=0.06080346779741759, pvalue=1.3758476935372227e-14)"
      ]
     },
     "execution_count": 1440,
     "metadata": {},
     "output_type": "execute_result"
    }
   ],
   "source": [
    "# Test correlation between 5mC and superfamily files\n",
    "spearmanr(feature_coverage_dict['5mC_hc_tombo_sorted.cutoff.0.99.10kb.overlap.bed'].overlap_fraction,\\\n",
    "         sf_coverage_dict['Pst_104E_v13_ph_ctg.ClassI:LTR:Gypsy.10kb.overlap.bed'].overlap_fraction)"
   ]
  },
  {
   "cell_type": "code",
   "execution_count": 1441,
   "metadata": {},
   "outputs": [
    {
     "data": {
      "text/plain": [
       "SpearmanrResult(correlation=-0.017815652590927895, pvalue=0.02420836921035543)"
      ]
     },
     "execution_count": 1441,
     "metadata": {},
     "output_type": "execute_result"
    }
   ],
   "source": [
    "spearmanr(feature_coverage_dict['6mA_hc_tombo_sorted.cutoff.0.99.10kb.overlap.bed'].overlap_fraction,\\\n",
    "         sf_coverage_dict['Pst_104E_v13_ph_ctg.ClassI:LTR:Gypsy.10kb.overlap.bed'].overlap_fraction)"
   ]
  },
  {
   "cell_type": "code",
   "execution_count": 1442,
   "metadata": {},
   "outputs": [
    {
     "data": {
      "text/plain": [
       "SpearmanrResult(correlation=0.0268650466727745, pvalue=0.0006764206901908494)"
      ]
     },
     "execution_count": 1442,
     "metadata": {},
     "output_type": "execute_result"
    }
   ],
   "source": [
    "spearmanr(feature_coverage_dict['5mC_hc_tombo_sorted.cutoff.0.99.10kb.overlap.bed'].overlap_fraction,\\\n",
    "         sf_coverage_dict['Pst_104E_v13_ph_ctg.ClassI:LTR:Copia.10kb.overlap.bed'].overlap_fraction)"
   ]
  },
  {
   "cell_type": "code",
   "execution_count": 1444,
   "metadata": {},
   "outputs": [
    {
     "data": {
      "text/plain": [
       "SpearmanrResult(correlation=-0.02353519583145995, pvalue=0.0029056708810170496)"
      ]
     },
     "execution_count": 1444,
     "metadata": {},
     "output_type": "execute_result"
    }
   ],
   "source": [
    "spearmanr(feature_coverage_dict['6mA_hc_tombo_sorted.cutoff.0.99.10kb.overlap.bed'].overlap_fraction,\\\n",
    "         sf_coverage_dict['Pst_104E_v13_ph_ctg.ClassI:LTR:Copia.10kb.overlap.bed'].overlap_fraction)"
   ]
  },
  {
   "cell_type": "code",
   "execution_count": null,
   "metadata": {},
   "outputs": [],
   "source": [
    "# Superfamily spearman"
   ]
  },
  {
   "cell_type": "code",
   "execution_count": null,
   "metadata": {},
   "outputs": [],
   "source": [
    "def spearman_windows():"
   ]
  },
  {
   "cell_type": "code",
   "execution_count": 2599,
   "metadata": {},
   "outputs": [],
   "source": [
    "# Make a function to do overlaps for feature files\n",
    "def spearman_superfamily(windowbed_dict, featurebed_dict):\n",
    "    \"\"\"Runs spearman.\"\"\"\n",
    "    spearman_overlap_df_dict = {}\n",
    "    for wkey, wvalue in windowbed_dict.items():\n",
    "            if wkey.endswith('.10kb.overlap.bed'):\n",
    "                for fkey, fvalue in featurebed_dict.items():\n",
    "                        if fkey.endswith('_sorted.cutoff.0.10.10kb.overlap.bed'):\n",
    "                            o_df = wvalue\n",
    "                            e_df = fvalue\n",
    "                            obs = o_df['overlap_fraction']\n",
    "                            exp = e_df['overlap_fraction']\n",
    "                            stat, p = spearmanr(obs, exp)\n",
    "                            skey = fkey[:4] + wkey\n",
    "                            spearman_overlap_df_dict[skey] = stat, p\n",
    "    return spearman_overlap_df_dict"
   ]
  },
  {
   "cell_type": "code",
   "execution_count": 2587,
   "metadata": {},
   "outputs": [],
   "source": [
    "sf_spearman_dict = spearman_superfamily(sf_coverage_dict, feature_coverage_dict)"
   ]
  },
  {
   "cell_type": "code",
   "execution_count": 2588,
   "metadata": {
    "collapsed": true
   },
   "outputs": [
    {
     "data": {
      "text/plain": [
       "{'5mC_Pst_104E_v13_ph_ctg.ClassI:?:?.10kb.overlap.bed': (-0.005052195920238353,\n",
       "  0.5227631585879537),\n",
       " '5mC_Pst_104E_v13_ph_ctg.ClassI:DIRS:?.10kb.overlap.bed': (-0.004370705001921898,\n",
       "  0.5803429355391925),\n",
       " '5mC_Pst_104E_v13_ph_ctg.ClassI:DIRS:DIRS.10kb.overlap.bed': (0.008906687305393228,\n",
       "  0.25987277407033427),\n",
       " '5mC_Pst_104E_v13_ph_ctg.ClassI:LARD:?.10kb.overlap.bed': (0.03251363204764782,\n",
       "  3.8891930614113356e-05),\n",
       " '5mC_Pst_104E_v13_ph_ctg.ClassI:LINE:?.10kb.overlap.bed': (0.005817613465915172,\n",
       "  0.46178115951908294),\n",
       " '5mC_Pst_104E_v13_ph_ctg.ClassI:LINE:I.10kb.overlap.bed': (0.007221378136947359,\n",
       "  0.3609823479805958),\n",
       " '5mC_Pst_104E_v13_ph_ctg.ClassI:LINE:Jockey.10kb.overlap.bed': (0.015330423963023887,\n",
       "  0.05245664853297324),\n",
       " '5mC_Pst_104E_v13_ph_ctg.ClassI:LINE:L1.10kb.overlap.bed': (-0.0010651437863885488,\n",
       "  0.8928193677382682),\n",
       " '5mC_Pst_104E_v13_ph_ctg.ClassI:LINE:R2.10kb.overlap.bed': (0.008084198315614221,\n",
       "  0.306476277824157),\n",
       " '5mC_Pst_104E_v13_ph_ctg.ClassI:LINE:RTE.10kb.overlap.bed': (0.004724369889318912,\n",
       "  0.5500921008384508),\n",
       " '5mC_Pst_104E_v13_ph_ctg.ClassI:LTR:?.10kb.overlap.bed': (-0.013590722837630851,\n",
       "  0.08556603066768426),\n",
       " '5mC_Pst_104E_v13_ph_ctg.ClassI:LTR:Bel-Pao.10kb.overlap.bed': (0.023505026942347268,\n",
       "  0.002942066698031856),\n",
       " '5mC_Pst_104E_v13_ph_ctg.ClassI:LTR:Copia.10kb.overlap.bed': (0.011688778092201564,\n",
       "  0.13923487508994986),\n",
       " '5mC_Pst_104E_v13_ph_ctg.ClassI:LTR:ERV.10kb.overlap.bed': (0.005319070694500414,\n",
       "  0.5010418120129461),\n",
       " '5mC_Pst_104E_v13_ph_ctg.ClassI:LTR:Gypsy.10kb.overlap.bed': (-0.010784808280470171,\n",
       "  0.1724775864339037),\n",
       " '5mC_Pst_104E_v13_ph_ctg.ClassI:LTR:Retrovirus.10kb.overlap.bed': (0.001123996057010581,\n",
       "  0.8869360801391926),\n",
       " '5mC_Pst_104E_v13_ph_ctg.ClassI:PLE:Penelope.10kb.overlap.bed': (0.009962200476093015,\n",
       "  0.2075899750147759),\n",
       " '5mC_Pst_104E_v13_ph_ctg.ClassI:Penelope:?.10kb.overlap.bed': (-0.017089758493338325,\n",
       "  0.03062113172440414),\n",
       " '5mC_Pst_104E_v13_ph_ctg.ClassI:SINE:?.10kb.overlap.bed': (2.5602207885871664e-05,\n",
       "  0.9974159728640015),\n",
       " '5mC_Pst_104E_v13_ph_ctg.ClassI:TRIM:?.10kb.overlap.bed': (0.010117762690323993,\n",
       "  0.2005803978245105),\n",
       " '5mC_Pst_104E_v13_ph_ctg.ClassII:?:?.10kb.overlap.bed': (-0.011357224803774534,\n",
       "  0.15080279993592988),\n",
       " '5mC_Pst_104E_v13_ph_ctg.ClassII:?:Academ.10kb.overlap.bed': (0.06505808000264927,\n",
       "  1.745544583650382e-16),\n",
       " '5mC_Pst_104E_v13_ph_ctg.ClassII:?:Ginger1.10kb.overlap.bed': (-0.0044005560451960465,\n",
       "  0.5777597583756018),\n",
       " '5mC_Pst_104E_v13_ph_ctg.ClassII:?:Ginger2_TDD.10kb.overlap.bed': (0.0033006087813718587,\n",
       "  0.6762992952746605),\n",
       " '5mC_Pst_104E_v13_ph_ctg.ClassII:?:Kolobok.10kb.overlap.bed': (0.01323981560521283,\n",
       "  0.09395957840836733),\n",
       " '5mC_Pst_104E_v13_ph_ctg.ClassII:?:Sola.10kb.overlap.bed': (-0.010422132923287447,\n",
       "  0.1873682009277714),\n",
       " '5mC_Pst_104E_v13_ph_ctg.ClassII:Crypton:Crypton.10kb.overlap.bed': (0.004263202308081271,\n",
       "  0.5896902832951254),\n",
       " '5mC_Pst_104E_v13_ph_ctg.ClassII:Helitron:?.10kb.overlap.bed': (0.02221637315502303,\n",
       "  0.004944119737483846),\n",
       " '5mC_Pst_104E_v13_ph_ctg.ClassII:Helitron:Helitron.10kb.overlap.bed': (0.022352623832376975,\n",
       "  0.004685532733792012),\n",
       " '5mC_Pst_104E_v13_ph_ctg.ClassII:MITE:?.10kb.overlap.bed': (-0.008447328417066344,\n",
       "  0.285258483747792),\n",
       " '5mC_Pst_104E_v13_ph_ctg.ClassII:Maverick:?.10kb.overlap.bed': (0.010340664809154342,\n",
       "  0.19083993134948016),\n",
       " '5mC_Pst_104E_v13_ph_ctg.ClassII:Maverick:Maverick.10kb.overlap.bed': (0.007761719184616959,\n",
       "  0.32617411805049135),\n",
       " '5mC_Pst_104E_v13_ph_ctg.ClassII:TIR:?.10kb.overlap.bed': (-0.011457653800844823,\n",
       "  0.14722400767031335),\n",
       " '5mC_Pst_104E_v13_ph_ctg.ClassII:TIR:CACTA.10kb.overlap.bed': (-0.006484586259903713,\n",
       "  0.41205105526720365),\n",
       " '5mC_Pst_104E_v13_ph_ctg.ClassII:TIR:MuDR.10kb.overlap.bed': (-0.026578561688823738,\n",
       "  0.0007718328186127079),\n",
       " '5mC_Pst_104E_v13_ph_ctg.ClassII:TIR:P.10kb.overlap.bed': (0.008980149026191084,\n",
       "  0.2559627861132367),\n",
       " '5mC_Pst_104E_v13_ph_ctg.ClassII:TIR:PIF-Harbinger.10kb.overlap.bed': (0.010974652004190472,\n",
       "  0.1650448753522052),\n",
       " '5mC_Pst_104E_v13_ph_ctg.ClassII:TIR:PiggyBac.10kb.overlap.bed': (0.0031645805812064555,\n",
       "  0.6889274194382227),\n",
       " '5mC_Pst_104E_v13_ph_ctg.ClassII:TIR:Tc1-Mariner.10kb.overlap.bed': (0.00012947845555308225,\n",
       "  0.9869323195842608),\n",
       " '5mC_Pst_104E_v13_ph_ctg.ClassII:TIR:Transib.10kb.overlap.bed': (0.000627597309686914,\n",
       "  0.9367230530931154),\n",
       " '5mC_Pst_104E_v13_ph_ctg.ClassII:TIR:hAT.10kb.overlap.bed': (0.021216748477263615,\n",
       "  0.007271275650016853),\n",
       " '5mC_Pst_104E_v13_ph_ctg.noCat.10kb.overlap.bed': (-0.007228426272878056,\n",
       "  0.3605138245576488),\n",
       " '6mA_Pst_104E_v13_ph_ctg.ClassI:?:?.10kb.overlap.bed': (0.020002450488580716,\n",
       "  0.011389884005778443),\n",
       " '6mA_Pst_104E_v13_ph_ctg.ClassI:DIRS:?.10kb.overlap.bed': (-0.0005731217536531734,\n",
       "  0.9422054308818546),\n",
       " '6mA_Pst_104E_v13_ph_ctg.ClassI:DIRS:DIRS.10kb.overlap.bed': (0.033392689354217873,\n",
       "  2.3867092605767042e-05),\n",
       " '6mA_Pst_104E_v13_ph_ctg.ClassI:LARD:?.10kb.overlap.bed': (0.08188938512930308,\n",
       "  3.1820913498939354e-25),\n",
       " '6mA_Pst_104E_v13_ph_ctg.ClassI:LINE:?.10kb.overlap.bed': (0.005600730802687664,\n",
       "  0.4786463590362574),\n",
       " '6mA_Pst_104E_v13_ph_ctg.ClassI:LINE:I.10kb.overlap.bed': (0.01954805242825555,\n",
       "  0.013398153319623974),\n",
       " '6mA_Pst_104E_v13_ph_ctg.ClassI:LINE:Jockey.10kb.overlap.bed': (-0.012081305733352674,\n",
       "  0.12643679661846333),\n",
       " '6mA_Pst_104E_v13_ph_ctg.ClassI:LINE:L1.10kb.overlap.bed': (-0.0036769835240289565,\n",
       "  0.6418390166726786),\n",
       " '6mA_Pst_104E_v13_ph_ctg.ClassI:LINE:R2.10kb.overlap.bed': (0.0003184659334818286,\n",
       "  0.9678659143014852),\n",
       " '6mA_Pst_104E_v13_ph_ctg.ClassI:LINE:RTE.10kb.overlap.bed': (-0.009728355209607844,\n",
       "  0.21845858063626045),\n",
       " '6mA_Pst_104E_v13_ph_ctg.ClassI:LTR:?.10kb.overlap.bed': (0.10613105182554651,\n",
       "  2.571658896684737e-41),\n",
       " '6mA_Pst_104E_v13_ph_ctg.ClassI:LTR:Bel-Pao.10kb.overlap.bed': (-0.011976181184202234,\n",
       "  0.1297709495666876),\n",
       " '6mA_Pst_104E_v13_ph_ctg.ClassI:LTR:Copia.10kb.overlap.bed': (0.08229718395823406,\n",
       "  1.846545811332833e-25),\n",
       " '6mA_Pst_104E_v13_ph_ctg.ClassI:LTR:ERV.10kb.overlap.bed': (0.04160921449936473,\n",
       "  1.3963898727318986e-07),\n",
       " '6mA_Pst_104E_v13_ph_ctg.ClassI:LTR:Gypsy.10kb.overlap.bed': (0.1348980426098079,\n",
       "  7.137493664747061e-66),\n",
       " '6mA_Pst_104E_v13_ph_ctg.ClassI:LTR:Retrovirus.10kb.overlap.bed': (0.003031139997388315,\n",
       "  0.7014001440850247),\n",
       " '6mA_Pst_104E_v13_ph_ctg.ClassI:PLE:Penelope.10kb.overlap.bed': (-0.006455459191308878,\n",
       "  0.41415422042309313),\n",
       " '6mA_Pst_104E_v13_ph_ctg.ClassI:Penelope:?.10kb.overlap.bed': (0.021675817238706888,\n",
       "  0.006102010735888017),\n",
       " '6mA_Pst_104E_v13_ph_ctg.ClassI:SINE:?.10kb.overlap.bed': (0.024483247911764823,\n",
       "  0.001951455475142946),\n",
       " '6mA_Pst_104E_v13_ph_ctg.ClassI:TRIM:?.10kb.overlap.bed': (0.012156173821354045,\n",
       "  0.12410320648726031),\n",
       " '6mA_Pst_104E_v13_ph_ctg.ClassII:?:?.10kb.overlap.bed': (0.14696108192753163,\n",
       "  5.783074578075462e-78),\n",
       " '6mA_Pst_104E_v13_ph_ctg.ClassII:?:Academ.10kb.overlap.bed': (-0.027203361558317284,\n",
       "  0.0005778968691400561),\n",
       " '6mA_Pst_104E_v13_ph_ctg.ClassII:?:Ginger1.10kb.overlap.bed': (0.011744910778473632,\n",
       "  0.1373458854604069),\n",
       " '6mA_Pst_104E_v13_ph_ctg.ClassII:?:Ginger2_TDD.10kb.overlap.bed': (-0.005669552167928386,\n",
       "  0.4732585310293568),\n",
       " '6mA_Pst_104E_v13_ph_ctg.ClassII:?:Kolobok.10kb.overlap.bed': (-0.006850596758887909,\n",
       "  0.38616650304628997),\n",
       " '6mA_Pst_104E_v13_ph_ctg.ClassII:?:Sola.10kb.overlap.bed': (0.017357795710945884,\n",
       "  0.02810088317676591),\n",
       " '6mA_Pst_104E_v13_ph_ctg.ClassII:Crypton:Crypton.10kb.overlap.bed': (0.0016286540042553732,\n",
       "  0.8367752573268816),\n",
       " '6mA_Pst_104E_v13_ph_ctg.ClassII:Helitron:?.10kb.overlap.bed': (0.026174406910427724,\n",
       "  0.0009277993397803498),\n",
       " '6mA_Pst_104E_v13_ph_ctg.ClassII:Helitron:Helitron.10kb.overlap.bed': (0.0008622885610936424,\n",
       "  0.9131414434930365),\n",
       " '6mA_Pst_104E_v13_ph_ctg.ClassII:MITE:?.10kb.overlap.bed': (0.09955455142662359,\n",
       "  1.5427364596948067e-36),\n",
       " '6mA_Pst_104E_v13_ph_ctg.ClassII:Maverick:?.10kb.overlap.bed': (0.006923531356175856,\n",
       "  0.38112969635239047),\n",
       " '6mA_Pst_104E_v13_ph_ctg.ClassII:Maverick:Maverick.10kb.overlap.bed': (0.003942070663885529,\n",
       "  0.6180173851128467),\n",
       " '6mA_Pst_104E_v13_ph_ctg.ClassII:TIR:?.10kb.overlap.bed': (0.11785015385600996,\n",
       "  1.3432759017361244e-50),\n",
       " '6mA_Pst_104E_v13_ph_ctg.ClassII:TIR:CACTA.10kb.overlap.bed': (0.04099117754967184,\n",
       "  2.132015972005311e-07),\n",
       " '6mA_Pst_104E_v13_ph_ctg.ClassII:TIR:MuDR.10kb.overlap.bed': (0.08509568356952497,\n",
       "  4.100511919432325e-27),\n",
       " '6mA_Pst_104E_v13_ph_ctg.ClassII:TIR:P.10kb.overlap.bed': (0.021290634261931986,\n",
       "  0.0070704576485957765),\n",
       " '6mA_Pst_104E_v13_ph_ctg.ClassII:TIR:PIF-Harbinger.10kb.overlap.bed': (0.07766847546688327,\n",
       "  7.593889250727184e-23),\n",
       " '6mA_Pst_104E_v13_ph_ctg.ClassII:TIR:PiggyBac.10kb.overlap.bed': (0.00018137091588966617,\n",
       "  0.9816958333911573),\n",
       " '6mA_Pst_104E_v13_ph_ctg.ClassII:TIR:Tc1-Mariner.10kb.overlap.bed': (0.08610307640550988,\n",
       "  1.0095071575463027e-27),\n",
       " '6mA_Pst_104E_v13_ph_ctg.ClassII:TIR:Transib.10kb.overlap.bed': (0.0032262871509510537,\n",
       "  0.6831879101058416),\n",
       " '6mA_Pst_104E_v13_ph_ctg.ClassII:TIR:hAT.10kb.overlap.bed': (0.08688275905408484,\n",
       "  3.373383577259491e-28),\n",
       " '6mA_Pst_104E_v13_ph_ctg.noCat.10kb.overlap.bed': (0.04741166567982658,\n",
       "  1.9633605318521606e-09)}"
      ]
     },
     "execution_count": 2588,
     "metadata": {},
     "output_type": "execute_result"
    }
   ],
   "source": [
    "sf_spearman_dict"
   ]
  },
  {
   "cell_type": "code",
   "execution_count": 2595,
   "metadata": {},
   "outputs": [],
   "source": [
    "# changed line 8 to (( if fkey.endswith('_sorted.cutoff.0.10.10kb.overlap.bed'): ))\n",
    "sf_99_spearman_dict = spearman_superfamily(sf_coverage_dict, feature_coverage_dict)"
   ]
  },
  {
   "cell_type": "code",
   "execution_count": 2596,
   "metadata": {
    "collapsed": true
   },
   "outputs": [
    {
     "data": {
      "text/plain": [
       "{'5mC_Pst_104E_v13_ph_ctg.ClassI:?:?.10kb.overlap.bed': (-0.006682304870588272,\n",
       "  0.39794269491180734),\n",
       " '5mC_Pst_104E_v13_ph_ctg.ClassI:DIRS:?.10kb.overlap.bed': (0.016606868083582138,\n",
       "  0.03565286745555298),\n",
       " '5mC_Pst_104E_v13_ph_ctg.ClassI:DIRS:DIRS.10kb.overlap.bed': (-0.00042559678567772376,\n",
       "  0.9570652423066557),\n",
       " '5mC_Pst_104E_v13_ph_ctg.ClassI:LARD:?.10kb.overlap.bed': (-0.05266453242100205,\n",
       "  2.6191593340653004e-11),\n",
       " '5mC_Pst_104E_v13_ph_ctg.ClassI:LINE:?.10kb.overlap.bed': (0.009290460732737833,\n",
       "  0.2398982706039067),\n",
       " '5mC_Pst_104E_v13_ph_ctg.ClassI:LINE:I.10kb.overlap.bed': (0.005087523214012956,\n",
       "  0.5198602965466651),\n",
       " '5mC_Pst_104E_v13_ph_ctg.ClassI:LINE:Jockey.10kb.overlap.bed': (0.025769382452240995,\n",
       "  0.0011129762400651705),\n",
       " '5mC_Pst_104E_v13_ph_ctg.ClassI:LINE:L1.10kb.overlap.bed': (0.020563799316138866,\n",
       "  0.009280767119246138),\n",
       " '5mC_Pst_104E_v13_ph_ctg.ClassI:LINE:R2.10kb.overlap.bed': (-0.003409230176774914,\n",
       "  0.6662802299800441),\n",
       " '5mC_Pst_104E_v13_ph_ctg.ClassI:LINE:RTE.10kb.overlap.bed': (0.013288983036632515,\n",
       "  0.09274520472799887),\n",
       " '5mC_Pst_104E_v13_ph_ctg.ClassI:LTR:?.10kb.overlap.bed': (0.021289358423182185,\n",
       "  0.007073882635807016),\n",
       " '5mC_Pst_104E_v13_ph_ctg.ClassI:LTR:Bel-Pao.10kb.overlap.bed': (0.009910274960101401,\n",
       "  0.20996881754833743),\n",
       " '5mC_Pst_104E_v13_ph_ctg.ClassI:LTR:Copia.10kb.overlap.bed': (0.026865046672774503,\n",
       "  0.0006764206901908494),\n",
       " '5mC_Pst_104E_v13_ph_ctg.ClassI:LTR:ERV.10kb.overlap.bed': (0.0321507249278364,\n",
       "  4.741370947571456e-05),\n",
       " '5mC_Pst_104E_v13_ph_ctg.ClassI:LTR:Gypsy.10kb.overlap.bed': (0.0608034677974176,\n",
       "  1.3758476935372076e-14),\n",
       " '5mC_Pst_104E_v13_ph_ctg.ClassI:LTR:Retrovirus.10kb.overlap.bed': (0.01352684732496169,\n",
       "  0.08704708344328001),\n",
       " '5mC_Pst_104E_v13_ph_ctg.ClassI:PLE:Penelope.10kb.overlap.bed': (0.017743627436359065,\n",
       "  0.02478784993302286),\n",
       " '5mC_Pst_104E_v13_ph_ctg.ClassI:Penelope:?.10kb.overlap.bed': (0.014608224850648804,\n",
       "  0.06460295970202347),\n",
       " '5mC_Pst_104E_v13_ph_ctg.ClassI:SINE:?.10kb.overlap.bed': (0.012932587302459579,\n",
       "  0.10183909226406412),\n",
       " '5mC_Pst_104E_v13_ph_ctg.ClassI:TRIM:?.10kb.overlap.bed': (0.021335946545721202,\n",
       "  0.006949778200506557),\n",
       " '5mC_Pst_104E_v13_ph_ctg.ClassII:?:?.10kb.overlap.bed': (-0.03401630816524359,\n",
       "  1.675844035497068e-05),\n",
       " '5mC_Pst_104E_v13_ph_ctg.ClassII:?:Academ.10kb.overlap.bed': (-0.006436759794514281,\n",
       "  0.4155077800770066),\n",
       " '5mC_Pst_104E_v13_ph_ctg.ClassII:?:Ginger1.10kb.overlap.bed': (0.011950702178557997,\n",
       "  0.13058923354967017),\n",
       " '5mC_Pst_104E_v13_ph_ctg.ClassII:?:Ginger2_TDD.10kb.overlap.bed': (0.009793981972074813,\n",
       "  0.215367942113135),\n",
       " '5mC_Pst_104E_v13_ph_ctg.ClassII:?:Kolobok.10kb.overlap.bed': (-0.0024589567216157858,\n",
       "  0.7557616942345637),\n",
       " '5mC_Pst_104E_v13_ph_ctg.ClassII:?:Sola.10kb.overlap.bed': (0.0062208265825835635,\n",
       "  0.431326512411619),\n",
       " '5mC_Pst_104E_v13_ph_ctg.ClassII:Crypton:Crypton.10kb.overlap.bed': (-0.00875360700566579,\n",
       "  0.26815276950615047),\n",
       " '5mC_Pst_104E_v13_ph_ctg.ClassII:Helitron:?.10kb.overlap.bed': (-0.007883106384739307,\n",
       "  0.31866497492665635),\n",
       " '5mC_Pst_104E_v13_ph_ctg.ClassII:Helitron:Helitron.10kb.overlap.bed': (0.03335861736550541,\n",
       "  2.432847651197538e-05),\n",
       " '5mC_Pst_104E_v13_ph_ctg.ClassII:MITE:?.10kb.overlap.bed': (-0.06431586178614111,\n",
       "  3.8180318209659027e-16),\n",
       " '5mC_Pst_104E_v13_ph_ctg.ClassII:Maverick:?.10kb.overlap.bed': (0.021731856960168744,\n",
       "  0.005971538330004945),\n",
       " '5mC_Pst_104E_v13_ph_ctg.ClassII:Maverick:Maverick.10kb.overlap.bed': (0.0015858797162240413,\n",
       "  0.8410041567140358),\n",
       " '5mC_Pst_104E_v13_ph_ctg.ClassII:TIR:?.10kb.overlap.bed': (-0.0015651615473592404,\n",
       "  0.8430541260987057),\n",
       " '5mC_Pst_104E_v13_ph_ctg.ClassII:TIR:CACTA.10kb.overlap.bed': (0.01947539008266474,\n",
       "  0.013746790133318218),\n",
       " '5mC_Pst_104E_v13_ph_ctg.ClassII:TIR:MuDR.10kb.overlap.bed': (0.03861024947572807,\n",
       "  1.029554517734492e-06),\n",
       " '5mC_Pst_104E_v13_ph_ctg.ClassII:TIR:P.10kb.overlap.bed': (-0.029140975971027168,\n",
       "  0.00022688659556671198),\n",
       " '5mC_Pst_104E_v13_ph_ctg.ClassII:TIR:PIF-Harbinger.10kb.overlap.bed': (-0.010788892164763659,\n",
       "  0.1723151035221458),\n",
       " '5mC_Pst_104E_v13_ph_ctg.ClassII:TIR:PiggyBac.10kb.overlap.bed': (0.005757674250250042,\n",
       "  0.4664086885879305),\n",
       " '5mC_Pst_104E_v13_ph_ctg.ClassII:TIR:Tc1-Mariner.10kb.overlap.bed': (-0.04293223195754433,\n",
       "  5.531971072522669e-08),\n",
       " '5mC_Pst_104E_v13_ph_ctg.ClassII:TIR:Transib.10kb.overlap.bed': (0.005426484190476091,\n",
       "  0.49243618145882617),\n",
       " '5mC_Pst_104E_v13_ph_ctg.ClassII:TIR:hAT.10kb.overlap.bed': (0.022920906837980263,\n",
       "  0.0037339166493518083),\n",
       " '5mC_Pst_104E_v13_ph_ctg.noCat.10kb.overlap.bed': (0.024373082730281277,\n",
       "  0.00204525601573339),\n",
       " '6mA_Pst_104E_v13_ph_ctg.ClassI:?:?.10kb.overlap.bed': (-0.01248703531299006,\n",
       "  0.11419058682612021),\n",
       " '6mA_Pst_104E_v13_ph_ctg.ClassI:DIRS:?.10kb.overlap.bed': (0.010417760169528601,\n",
       "  0.18755335180509547),\n",
       " '6mA_Pst_104E_v13_ph_ctg.ClassI:DIRS:DIRS.10kb.overlap.bed': (-0.026129916332270894,\n",
       "  0.000946646489879178),\n",
       " '6mA_Pst_104E_v13_ph_ctg.ClassI:LARD:?.10kb.overlap.bed': (-0.05780250440353422,\n",
       "  2.517613373963815e-13),\n",
       " '6mA_Pst_104E_v13_ph_ctg.ClassI:LINE:?.10kb.overlap.bed': (0.005421597029155126,\n",
       "  0.4928259971130867),\n",
       " '6mA_Pst_104E_v13_ph_ctg.ClassI:LINE:I.10kb.overlap.bed': (0.002366331949987899,\n",
       "  0.7646849128788256),\n",
       " '6mA_Pst_104E_v13_ph_ctg.ClassI:LINE:Jockey.10kb.overlap.bed': (0.020886325555274216,\n",
       "  0.008233378181527818),\n",
       " '6mA_Pst_104E_v13_ph_ctg.ClassI:LINE:L1.10kb.overlap.bed': (0.024642571167859822,\n",
       "  0.0018227713875726178),\n",
       " '6mA_Pst_104E_v13_ph_ctg.ClassI:LINE:R2.10kb.overlap.bed': (-0.005894311859984656,\n",
       "  0.4558973281182378),\n",
       " '6mA_Pst_104E_v13_ph_ctg.ClassI:LINE:RTE.10kb.overlap.bed': (0.01586525074682106,\n",
       "  0.04474609676188006),\n",
       " '6mA_Pst_104E_v13_ph_ctg.ClassI:LTR:?.10kb.overlap.bed': (-0.03007942986713622,\n",
       "  0.00014133526608408532),\n",
       " '6mA_Pst_104E_v13_ph_ctg.ClassI:LTR:Bel-Pao.10kb.overlap.bed': (0.0014419822010454642,\n",
       "  0.855263671288768),\n",
       " '6mA_Pst_104E_v13_ph_ctg.ClassI:LTR:Copia.10kb.overlap.bed': (-0.023535195831459955,\n",
       "  0.0029056708810170436),\n",
       " '6mA_Pst_104E_v13_ph_ctg.ClassI:LTR:ERV.10kb.overlap.bed': (-0.0034539630120988566,\n",
       "  0.6621712633606226),\n",
       " '6mA_Pst_104E_v13_ph_ctg.ClassI:LTR:Gypsy.10kb.overlap.bed': (-0.017815652590927895,\n",
       "  0.02420836921035543),\n",
       " '6mA_Pst_104E_v13_ph_ctg.ClassI:LTR:Retrovirus.10kb.overlap.bed': (-0.0026277266899126274,\n",
       "  0.7395870797187902),\n",
       " '6mA_Pst_104E_v13_ph_ctg.ClassI:PLE:Penelope.10kb.overlap.bed': (0.017654362669219367,\n",
       "  0.02552267150305072),\n",
       " '6mA_Pst_104E_v13_ph_ctg.ClassI:Penelope:?.10kb.overlap.bed': (-0.0014548095060406424,\n",
       "  0.8539905578644067),\n",
       " '6mA_Pst_104E_v13_ph_ctg.ClassI:SINE:?.10kb.overlap.bed': (0.00045154983190217056,\n",
       "  0.954449829325597),\n",
       " '6mA_Pst_104E_v13_ph_ctg.ClassI:TRIM:?.10kb.overlap.bed': (0.004211565834828615,\n",
       "  0.594204603284471),\n",
       " '6mA_Pst_104E_v13_ph_ctg.ClassII:?:?.10kb.overlap.bed': (-0.055947709527337665,\n",
       "  1.413041271613082e-12),\n",
       " '6mA_Pst_104E_v13_ph_ctg.ClassII:?:Academ.10kb.overlap.bed': (-0.025974368654402388,\n",
       "  0.0010153625244616958),\n",
       " '6mA_Pst_104E_v13_ph_ctg.ClassII:?:Ginger1.10kb.overlap.bed': (0.0043536016742345505,\n",
       "  0.5818254159679058),\n",
       " '6mA_Pst_104E_v13_ph_ctg.ClassII:?:Ginger2_TDD.10kb.overlap.bed': (0.009365376848000144,\n",
       "  0.23612881006821776),\n",
       " '6mA_Pst_104E_v13_ph_ctg.ClassII:?:Kolobok.10kb.overlap.bed': (-0.004497513694165231,\n",
       "  0.56940702048177),\n",
       " '6mA_Pst_104E_v13_ph_ctg.ClassII:?:Sola.10kb.overlap.bed': (0.008610171051872327,\n",
       "  0.27607394316139505),\n",
       " '6mA_Pst_104E_v13_ph_ctg.ClassII:Crypton:Crypton.10kb.overlap.bed': (-0.0004892604234573685,\n",
       "  0.9506504335511508),\n",
       " '6mA_Pst_104E_v13_ph_ctg.ClassII:Helitron:?.10kb.overlap.bed': (-0.03708156663012216,\n",
       "  2.7012160190432913e-06),\n",
       " '6mA_Pst_104E_v13_ph_ctg.ClassII:Helitron:Helitron.10kb.overlap.bed': (-0.004434559960245325,\n",
       "  0.5748238194596536),\n",
       " '6mA_Pst_104E_v13_ph_ctg.ClassII:MITE:?.10kb.overlap.bed': (-0.056684364093249194,\n",
       "  7.168933986598057e-13),\n",
       " '6mA_Pst_104E_v13_ph_ctg.ClassII:Maverick:?.10kb.overlap.bed': (0.011779095867406341,\n",
       "  0.13620520109932904),\n",
       " '6mA_Pst_104E_v13_ph_ctg.ClassII:Maverick:Maverick.10kb.overlap.bed': (-0.0032268596286908324,\n",
       "  0.6831347472765947),\n",
       " '6mA_Pst_104E_v13_ph_ctg.ClassII:TIR:?.10kb.overlap.bed': (-0.03639407550277805,\n",
       "  4.119345819704046e-06),\n",
       " '6mA_Pst_104E_v13_ph_ctg.ClassII:TIR:CACTA.10kb.overlap.bed': (-0.005172794052433804,\n",
       "  0.5128879560144459),\n",
       " '6mA_Pst_104E_v13_ph_ctg.ClassII:TIR:MuDR.10kb.overlap.bed': (0.004871980562447943,\n",
       "  0.5376999994767575),\n",
       " '6mA_Pst_104E_v13_ph_ctg.ClassII:TIR:P.10kb.overlap.bed': (-0.021970938819674695,\n",
       "  0.005442687837426717),\n",
       " '6mA_Pst_104E_v13_ph_ctg.ClassII:TIR:PIF-Harbinger.10kb.overlap.bed': (-0.03866884829459212,\n",
       "  9.914662337448869e-07),\n",
       " '6mA_Pst_104E_v13_ph_ctg.ClassII:TIR:PiggyBac.10kb.overlap.bed': (0.0007157265913343829,\n",
       "  0.9278602516149291),\n",
       " '6mA_Pst_104E_v13_ph_ctg.ClassII:TIR:Tc1-Mariner.10kb.overlap.bed': (-0.04867699560689186,\n",
       "  7.221953509038894e-10),\n",
       " '6mA_Pst_104E_v13_ph_ctg.ClassII:TIR:Transib.10kb.overlap.bed': (0.0058510675469189265,\n",
       "  0.4592095684086981),\n",
       " '6mA_Pst_104E_v13_ph_ctg.ClassII:TIR:hAT.10kb.overlap.bed': (-0.04398101134373396,\n",
       "  2.6041297230041397e-08),\n",
       " '6mA_Pst_104E_v13_ph_ctg.noCat.10kb.overlap.bed': (-0.008092379879672755,\n",
       "  0.30598700004861307)}"
      ]
     },
     "execution_count": 2596,
     "metadata": {},
     "output_type": "execute_result"
    }
   ],
   "source": [
    "sf_99_spearman_dict"
   ]
  },
  {
   "cell_type": "markdown",
   "metadata": {},
   "source": [
    "Overall, very weak correlations between methylation and key features in the genome, especially TE superfamilies :)"
   ]
  },
  {
   "cell_type": "markdown",
   "metadata": {},
   "source": [
    "## <span style='color:#14c4ff'> 6. Intersecting methylation with gene annotation files. <span/>"
   ]
  },
  {
   "cell_type": "code",
   "execution_count": 1,
   "metadata": {},
   "outputs": [],
   "source": [
    "# Function to easily convert the values in the file name dict into bedtools objects\n",
    "def make_bed_dict(fn_dict):\n",
    "    \"\"\"Takes an input filename dictionary and outputs a dictionary of pybedtools objects for the filenames.\"\"\"\n",
    "    bed_dict = {}\n",
    "    for key, value in fn_dict.items():      \n",
    "        bed_dict[key] = BedTool(value)\n",
    "    return bed_dict"
   ]
  },
  {
   "cell_type": "markdown",
   "metadata": {},
   "source": [
    "### <span style='color:#14c4ff'> 6.A Intersecting 5mC and 6mA with gene body. <span/>"
   ]
  },
  {
   "cell_type": "markdown",
   "metadata": {},
   "source": [
    "# <span style='color:red'> write code here. <span/>"
   ]
  },
  {
   "cell_type": "code",
   "execution_count": null,
   "metadata": {},
   "outputs": [],
   "source": [
    "# Make a dictionary for BUSCO, combined_genes_only, anno_genes_only and LTgene_genes_only and run coverage for these"
   ]
  },
  {
   "cell_type": "code",
   "execution_count": 17,
   "metadata": {},
   "outputs": [],
   "source": [
    "# Converted the gff anno files to bed files in the anno_file_prep notebook\n",
    "# Set filepaths for the anno bed files\n",
    "\n",
    "gene_anno_dict = {}\n",
    "for fn in glob.iglob('%s/*.bed' % DIRS['GENE_ANNO'], recursive=True):\n",
    "    key = fn.split('/')[-1]\n",
    "    gene_anno_dict[key] = fn\n",
    "\n",
    "# Make dictionary of bedtools objects and check if it worked (it did!)\n",
    "gene_bed_dict = make_bed_dict(gene_anno_dict)"
   ]
  },
  {
   "cell_type": "code",
   "execution_count": 18,
   "metadata": {
    "scrolled": true
   },
   "outputs": [
    {
     "data": {
      "text/plain": [
       "{'Pst_104E_v13_h_ctg.TE.sorted.bed': '/home/anjuni/analysis/coverage/gene_level/gene_anno/Pst_104E_v13_h_ctg.TE.sorted.bed',\n",
       " 'Pst_104E_v13_h_ctg_combined_sorted_anno.bed': '/home/anjuni/analysis/coverage/gene_level/gene_anno/Pst_104E_v13_h_ctg_combined_sorted_anno.bed',\n",
       " 'Pst_104E_v13_p_ctg.TE.sorted.bed': '/home/anjuni/analysis/coverage/gene_level/gene_anno/Pst_104E_v13_p_ctg.TE.sorted.bed',\n",
       " 'Pst_104E_v13_p_ctg_combined_sorted_anno.bed': '/home/anjuni/analysis/coverage/gene_level/gene_anno/Pst_104E_v13_p_ctg_combined_sorted_anno.bed',\n",
       " 'Pst_104E_v13_ph_ctg.TE.sorted.bed': '/home/anjuni/analysis/coverage/gene_level/gene_anno/Pst_104E_v13_ph_ctg.TE.sorted.bed',\n",
       " 'Pst_104E_v13_ph_ctg.effectors.bed': '/home/anjuni/analysis/coverage/gene_level/gene_anno/Pst_104E_v13_ph_ctg.effectors.bed',\n",
       " 'Pst_104E_v13_ph_ctg.non_effectors.bed': '/home/anjuni/analysis/coverage/gene_level/gene_anno/Pst_104E_v13_ph_ctg.non_effectors.bed',\n",
       " 'Pst_104E_v13_ph_ctg_combined_sorted_anno.bed': '/home/anjuni/analysis/coverage/gene_level/gene_anno/Pst_104E_v13_ph_ctg_combined_sorted_anno.bed'}"
      ]
     },
     "execution_count": 18,
     "metadata": {},
     "output_type": "execute_result"
    }
   ],
   "source": [
    "gene_anno_dict"
   ]
  },
  {
   "cell_type": "code",
   "execution_count": 21,
   "metadata": {},
   "outputs": [],
   "source": [
    "# Make a dictionary of methylation files\n",
    "methyl_dict = {} # lowest cutoff as it had the highest similarity between sequencers/callers\n",
    "methyl_dict['5mC_hc_tombo_sorted.cutoff.0.00.bed'] = os.path.join(DIRS['FEATURES'], '5mC_hc_tombo_sorted.cutoff.0.00.bed',)\n",
    "methyl_dict['6mA_hc_tombo_sorted.cutoff.0.00.bed'] = os.path.join(DIRS['FEATURES'], '6mA_hc_tombo_sorted.cutoff.0.00.bed',)\n",
    "\n",
    "# Make dictionary of bedtools objects and check if it worked (it did!)\n",
    "methyl_bed_dict = make_bed_dict(methyl_dict)"
   ]
  },
  {
   "cell_type": "code",
   "execution_count": 22,
   "metadata": {},
   "outputs": [],
   "source": [
    "# Randomisation\n",
    "# Generating randomised files as controls\n",
    "\n",
    "# Dictionary of filepaths \n",
    "methyl_rand_dict = {}\n",
    "methyl_rand_dict['5mC_hc_tombo_sorted.cutoff.0.00.bed'] = '/home/anjuni/analysis/coverage/randomisation/5mC_hc_tombo_sorted.cutoff.0.00_rand.bed'\n",
    "methyl_rand_dict['6mA_hc_tombo_sorted.cutoff.0.00.bed'] = '/home/anjuni/analysis/coverage/randomisation/6mA_hc_tombo_sorted.cutoff.0.00_rand.bed'\n",
    "\n",
    "# Make a dictionary of randomised methylation bed files\n",
    "methyl_rand_bed_dict = make_bed_dict(methyl_rand_dict)"
   ]
  },
  {
   "cell_type": "code",
   "execution_count": 23,
   "metadata": {},
   "outputs": [],
   "source": [
    "# Make a function to do overlaps for gene files and methylation\n",
    "def coverage_gene(genebed_dict, methylbed_dict, genefn_dict, old_folder_name, new_folder_name):\n",
    "    \"\"\"Create coverage files from:\n",
    "    Inputs: dictionary of gene pybedtools objects, dictionary of methylation pybedtools objects, dictionary of gene filenames, old folder name and new folder name.\n",
    "    Output: dictionary of pandas dataframes for all coverage files.\"\"\"\n",
    "    feature_overlap_df_dict = {}\n",
    "    for gkey, gbed in genebed_dict.items():\n",
    "        for mkey, mbed in methylbed_dict.items():\n",
    "            tmp_df = gbed.coverage(mbed, s=True).to_dataframe().iloc[:,[0,1,2,3,6,9]] # make a dataframe to put headings\n",
    "            tmp_df.rename(columns={'thickStart': 'overlap_count', 'blockCount': 'overlap_fraction'}, inplace=True) # rename headings\n",
    "            tmp_fn = genefn_dict[gkey].replace('.bed', '.%s.overlap.bed' % mkey[:-4]) # change output file path\n",
    "            tmp_fn = tmp_fn.replace(old_folder_name, new_folder_name)\n",
    "            feature_overlap_df_dict[tmp_fn.split('/')[-1]] = tmp_df # file name as key and dataframe as value for overlap dict\n",
    "            tmp_df.to_csv(tmp_fn, sep='\\t', header=None, index=None) # save to a csv(pybedtools outputs more d.p. than BEDTools)\n",
    "    return feature_overlap_df_dict"
   ]
  },
  {
   "cell_type": "code",
   "execution_count": 24,
   "metadata": {
    "collapsed": true
   },
   "outputs": [
    {
     "ename": "KeyboardInterrupt",
     "evalue": "",
     "output_type": "error",
     "traceback": [
      "\u001b[0;31m---------------------------------------------------------------------------\u001b[0m",
      "\u001b[0;31mKeyboardInterrupt\u001b[0m                         Traceback (most recent call last)",
      "\u001b[0;32m<ipython-input-24-86ac646e20a2>\u001b[0m in \u001b[0;36m<module>\u001b[0;34m()\u001b[0m\n\u001b[1;32m      1\u001b[0m \u001b[0;31m# run overlap over the gene body for the genes\u001b[0m\u001b[0;34m\u001b[0m\u001b[0;34m\u001b[0m\u001b[0m\n\u001b[0;32m----> 2\u001b[0;31m \u001b[0mgene_methyl_overlap_dict\u001b[0m \u001b[0;34m=\u001b[0m \u001b[0mcoverage_gene\u001b[0m\u001b[0;34m(\u001b[0m\u001b[0mgene_bed_dict\u001b[0m\u001b[0;34m,\u001b[0m \u001b[0mmethyl_bed_dict\u001b[0m\u001b[0;34m,\u001b[0m \u001b[0mgene_anno_dict\u001b[0m\u001b[0;34m,\u001b[0m \u001b[0;34m'gene_anno'\u001b[0m\u001b[0;34m,\u001b[0m \u001b[0;34m'gene_coverage'\u001b[0m\u001b[0;34m)\u001b[0m\u001b[0;34m\u001b[0m\u001b[0m\n\u001b[0m\u001b[1;32m      3\u001b[0m \u001b[0mgene_rand_methyl_overlap_dict\u001b[0m \u001b[0;34m=\u001b[0m \u001b[0mcoverage_gene\u001b[0m\u001b[0;34m(\u001b[0m\u001b[0mgene_bed_dict\u001b[0m\u001b[0;34m,\u001b[0m \u001b[0mmethyl_rand_bed_dict\u001b[0m\u001b[0;34m,\u001b[0m \u001b[0mgene_anno_dict\u001b[0m\u001b[0;34m,\u001b[0m \u001b[0;34m'gene_anno'\u001b[0m\u001b[0;34m,\u001b[0m \u001b[0;34m'gene_rand_coverage'\u001b[0m\u001b[0;34m)\u001b[0m\u001b[0;34m\u001b[0m\u001b[0m\n",
      "\u001b[0;32m<ipython-input-23-67c73520cb09>\u001b[0m in \u001b[0;36mcoverage_gene\u001b[0;34m(genebed_dict, methylbed_dict, genefn_dict, old_folder_name, new_folder_name)\u001b[0m\n\u001b[1;32m      7\u001b[0m     \u001b[0;32mfor\u001b[0m \u001b[0mgkey\u001b[0m\u001b[0;34m,\u001b[0m \u001b[0mgbed\u001b[0m \u001b[0;32min\u001b[0m \u001b[0mgenebed_dict\u001b[0m\u001b[0;34m.\u001b[0m\u001b[0mitems\u001b[0m\u001b[0;34m(\u001b[0m\u001b[0;34m)\u001b[0m\u001b[0;34m:\u001b[0m\u001b[0;34m\u001b[0m\u001b[0m\n\u001b[1;32m      8\u001b[0m         \u001b[0;32mfor\u001b[0m \u001b[0mmkey\u001b[0m\u001b[0;34m,\u001b[0m \u001b[0mmbed\u001b[0m \u001b[0;32min\u001b[0m \u001b[0mmethylbed_dict\u001b[0m\u001b[0;34m.\u001b[0m\u001b[0mitems\u001b[0m\u001b[0;34m(\u001b[0m\u001b[0;34m)\u001b[0m\u001b[0;34m:\u001b[0m\u001b[0;34m\u001b[0m\u001b[0m\n\u001b[0;32m----> 9\u001b[0;31m             \u001b[0mtmp_df\u001b[0m \u001b[0;34m=\u001b[0m \u001b[0mgbed\u001b[0m\u001b[0;34m.\u001b[0m\u001b[0mcoverage\u001b[0m\u001b[0;34m(\u001b[0m\u001b[0mmbed\u001b[0m\u001b[0;34m,\u001b[0m \u001b[0ms\u001b[0m\u001b[0;34m=\u001b[0m\u001b[0;32mTrue\u001b[0m\u001b[0;34m)\u001b[0m\u001b[0;34m.\u001b[0m\u001b[0mto_dataframe\u001b[0m\u001b[0;34m(\u001b[0m\u001b[0;34m)\u001b[0m\u001b[0;34m.\u001b[0m\u001b[0miloc\u001b[0m\u001b[0;34m[\u001b[0m\u001b[0;34m:\u001b[0m\u001b[0;34m,\u001b[0m\u001b[0;34m[\u001b[0m\u001b[0;36m0\u001b[0m\u001b[0;34m,\u001b[0m\u001b[0;36m1\u001b[0m\u001b[0;34m,\u001b[0m\u001b[0;36m2\u001b[0m\u001b[0;34m,\u001b[0m\u001b[0;36m3\u001b[0m\u001b[0;34m,\u001b[0m\u001b[0;36m6\u001b[0m\u001b[0;34m,\u001b[0m\u001b[0;36m9\u001b[0m\u001b[0;34m]\u001b[0m\u001b[0;34m]\u001b[0m \u001b[0;31m# make a dataframe to put headings\u001b[0m\u001b[0;34m\u001b[0m\u001b[0m\n\u001b[0m\u001b[1;32m     10\u001b[0m             \u001b[0mtmp_df\u001b[0m\u001b[0;34m.\u001b[0m\u001b[0mrename\u001b[0m\u001b[0;34m(\u001b[0m\u001b[0mcolumns\u001b[0m\u001b[0;34m=\u001b[0m\u001b[0;34m{\u001b[0m\u001b[0;34m'thickStart'\u001b[0m\u001b[0;34m:\u001b[0m \u001b[0;34m'overlap_count'\u001b[0m\u001b[0;34m,\u001b[0m \u001b[0;34m'blockCount'\u001b[0m\u001b[0;34m:\u001b[0m \u001b[0;34m'overlap_fraction'\u001b[0m\u001b[0;34m}\u001b[0m\u001b[0;34m,\u001b[0m \u001b[0minplace\u001b[0m\u001b[0;34m=\u001b[0m\u001b[0;32mTrue\u001b[0m\u001b[0;34m)\u001b[0m \u001b[0;31m# rename headings\u001b[0m\u001b[0;34m\u001b[0m\u001b[0m\n\u001b[1;32m     11\u001b[0m             \u001b[0mtmp_fn\u001b[0m \u001b[0;34m=\u001b[0m \u001b[0mgenefn_dict\u001b[0m\u001b[0;34m[\u001b[0m\u001b[0mgkey\u001b[0m\u001b[0;34m]\u001b[0m\u001b[0;34m.\u001b[0m\u001b[0mreplace\u001b[0m\u001b[0;34m(\u001b[0m\u001b[0;34m'.bed'\u001b[0m\u001b[0;34m,\u001b[0m \u001b[0;34m'.%s.overlap.bed'\u001b[0m \u001b[0;34m%\u001b[0m \u001b[0mmkey\u001b[0m\u001b[0;34m[\u001b[0m\u001b[0;34m:\u001b[0m\u001b[0;34m-\u001b[0m\u001b[0;36m4\u001b[0m\u001b[0;34m]\u001b[0m\u001b[0;34m)\u001b[0m \u001b[0;31m# change output file path\u001b[0m\u001b[0;34m\u001b[0m\u001b[0m\n",
      "\u001b[0;32m~/anaconda3/lib/python3.6/site-packages/pybedtools/bedtool.py\u001b[0m in \u001b[0;36mdecorated\u001b[0;34m(self, *args, **kwargs)\u001b[0m\n\u001b[1;32m    804\u001b[0m             \u001b[0;31m# this calls the actual method in the first place; *result* is\u001b[0m\u001b[0;34m\u001b[0m\u001b[0;34m\u001b[0m\u001b[0m\n\u001b[1;32m    805\u001b[0m             \u001b[0;31m# whatever you get back\u001b[0m\u001b[0;34m\u001b[0m\u001b[0;34m\u001b[0m\u001b[0m\n\u001b[0;32m--> 806\u001b[0;31m             \u001b[0mresult\u001b[0m \u001b[0;34m=\u001b[0m \u001b[0mmethod\u001b[0m\u001b[0;34m(\u001b[0m\u001b[0mself\u001b[0m\u001b[0;34m,\u001b[0m \u001b[0;34m*\u001b[0m\u001b[0margs\u001b[0m\u001b[0;34m,\u001b[0m \u001b[0;34m**\u001b[0m\u001b[0mkwargs\u001b[0m\u001b[0;34m)\u001b[0m\u001b[0;34m\u001b[0m\u001b[0m\n\u001b[0m\u001b[1;32m    807\u001b[0m \u001b[0;34m\u001b[0m\u001b[0m\n\u001b[1;32m    808\u001b[0m             \u001b[0;31m# add appropriate tags\u001b[0m\u001b[0;34m\u001b[0m\u001b[0;34m\u001b[0m\u001b[0m\n",
      "\u001b[0;32m~/anaconda3/lib/python3.6/site-packages/pybedtools/bedtool.py\u001b[0m in \u001b[0;36mwrapped\u001b[0;34m(self, *args, **kwargs)\u001b[0m\n\u001b[1;32m    335\u001b[0m             stream = call_bedtools(cmds, tmp, stdin=stdin,\n\u001b[1;32m    336\u001b[0m                                    \u001b[0mcheck_stderr\u001b[0m\u001b[0;34m=\u001b[0m\u001b[0mcheck_stderr\u001b[0m\u001b[0;34m,\u001b[0m\u001b[0;34m\u001b[0m\u001b[0m\n\u001b[0;32m--> 337\u001b[0;31m                                    \u001b[0mdecode_output\u001b[0m\u001b[0;34m=\u001b[0m\u001b[0mdecode_output\u001b[0m\u001b[0;34m,\u001b[0m\u001b[0;34m\u001b[0m\u001b[0m\n\u001b[0m\u001b[1;32m    338\u001b[0m                                    )\n\u001b[1;32m    339\u001b[0m \u001b[0;34m\u001b[0m\u001b[0m\n",
      "\u001b[0;32m~/anaconda3/lib/python3.6/site-packages/pybedtools/helpers.py\u001b[0m in \u001b[0;36mcall_bedtools\u001b[0;34m(cmds, tmpfn, stdin, check_stderr, decode_output, encode_input)\u001b[0m\n\u001b[1;32m    328\u001b[0m                                  \u001b[0mstderr\u001b[0m\u001b[0;34m=\u001b[0m\u001b[0msubprocess\u001b[0m\u001b[0;34m.\u001b[0m\u001b[0mPIPE\u001b[0m\u001b[0;34m,\u001b[0m\u001b[0;34m\u001b[0m\u001b[0m\n\u001b[1;32m    329\u001b[0m                                  bufsize=BUFSIZE)\n\u001b[0;32m--> 330\u001b[0;31m             \u001b[0mstdout\u001b[0m\u001b[0;34m,\u001b[0m \u001b[0mstderr\u001b[0m \u001b[0;34m=\u001b[0m \u001b[0mp\u001b[0m\u001b[0;34m.\u001b[0m\u001b[0mcommunicate\u001b[0m\u001b[0;34m(\u001b[0m\u001b[0;34m)\u001b[0m\u001b[0;34m\u001b[0m\u001b[0m\n\u001b[0m\u001b[1;32m    331\u001b[0m             \u001b[0moutput\u001b[0m \u001b[0;34m=\u001b[0m \u001b[0mtmpfn\u001b[0m\u001b[0;34m\u001b[0m\u001b[0m\n\u001b[1;32m    332\u001b[0m             \u001b[0moutfile\u001b[0m\u001b[0;34m.\u001b[0m\u001b[0mclose\u001b[0m\u001b[0;34m(\u001b[0m\u001b[0;34m)\u001b[0m\u001b[0;34m\u001b[0m\u001b[0m\n",
      "\u001b[0;32m~/anaconda3/lib/python3.6/subprocess.py\u001b[0m in \u001b[0;36mcommunicate\u001b[0;34m(self, input, timeout)\u001b[0m\n\u001b[1;32m    831\u001b[0m                 \u001b[0mself\u001b[0m\u001b[0;34m.\u001b[0m\u001b[0mstdout\u001b[0m\u001b[0;34m.\u001b[0m\u001b[0mclose\u001b[0m\u001b[0;34m(\u001b[0m\u001b[0;34m)\u001b[0m\u001b[0;34m\u001b[0m\u001b[0m\n\u001b[1;32m    832\u001b[0m             \u001b[0;32melif\u001b[0m \u001b[0mself\u001b[0m\u001b[0;34m.\u001b[0m\u001b[0mstderr\u001b[0m\u001b[0;34m:\u001b[0m\u001b[0;34m\u001b[0m\u001b[0m\n\u001b[0;32m--> 833\u001b[0;31m                 \u001b[0mstderr\u001b[0m \u001b[0;34m=\u001b[0m \u001b[0mself\u001b[0m\u001b[0;34m.\u001b[0m\u001b[0mstderr\u001b[0m\u001b[0;34m.\u001b[0m\u001b[0mread\u001b[0m\u001b[0;34m(\u001b[0m\u001b[0;34m)\u001b[0m\u001b[0;34m\u001b[0m\u001b[0m\n\u001b[0m\u001b[1;32m    834\u001b[0m                 \u001b[0mself\u001b[0m\u001b[0;34m.\u001b[0m\u001b[0mstderr\u001b[0m\u001b[0;34m.\u001b[0m\u001b[0mclose\u001b[0m\u001b[0;34m(\u001b[0m\u001b[0;34m)\u001b[0m\u001b[0;34m\u001b[0m\u001b[0m\n\u001b[1;32m    835\u001b[0m             \u001b[0mself\u001b[0m\u001b[0;34m.\u001b[0m\u001b[0mwait\u001b[0m\u001b[0;34m(\u001b[0m\u001b[0;34m)\u001b[0m\u001b[0;34m\u001b[0m\u001b[0m\n",
      "\u001b[0;31mKeyboardInterrupt\u001b[0m: "
     ]
    }
   ],
   "source": [
    "# run overlap over the gene body for the genes\n",
    "gene_methyl_overlap_dict = coverage_gene(gene_bed_dict, methyl_bed_dict, gene_anno_dict, 'gene_anno', 'gene_coverage')\n",
    "gene_rand_methyl_overlap_dict = coverage_gene(gene_bed_dict, methyl_rand_bed_dict, gene_anno_dict, 'gene_anno', 'gene_rand_coverage')"
   ]
  },
  {
   "cell_type": "markdown",
   "metadata": {},
   "source": [
    "### <span style='color:#14c4ff'> 6.B Intersecting 5mC and 6mA with upstream and downstream regions. <span/>"
   ]
  },
  {
   "cell_type": "code",
   "execution_count": 2215,
   "metadata": {},
   "outputs": [],
   "source": [
    "# Make files of upstream and downstream regions\n",
    "def make_flank_files(genebed_dict, genefn_dict, genome_size_fn, up_window, down_window, old_folder_name, new_folder_name, suffix):\n",
    "    \"\"\"This function makes flanking regions upstream and downstream of the input feature file.\"\"\"\n",
    "    out_fn_dict = {}\n",
    "    for gkey, gbed in genebed_dict.items():\n",
    "            tmp_bed = gbed.flank(g=genome_size_f_fn, l=up_window, r=down_window, s= True)\n",
    "            tmp_fn = genefn_dict[gkey].replace('.bed', '.%s.bed' % suffix)\n",
    "            tmp_fn = tmp_fn.replace(old_folder_name, new_folder_name) # change output file path\n",
    "            tmp_bed.saveas(tmp_fn) # save flank to a csv\n",
    "            out_fn_dict[tmp_fn.split('/')[-1]] = tmp_fn # file name as key and dataframe as value for overlap dict\n",
    "    return out_fn_dict"
   ]
  },
  {
   "cell_type": "code",
   "execution_count": 2220,
   "metadata": {},
   "outputs": [],
   "source": [
    "# Make filename dict for inputs\n",
    "upstream_flank_fn_dict = make_flank_files(gene_bed_dict, gene_anno_dict, genome_size_f_fn, 1000, 0, 'gene_anno', 'upstream/input', 'upstream')\n",
    "downstream_flank_fn_dict = make_flank_files(gene_bed_dict, gene_anno_dict, genome_size_f_fn, 0, 1000, 'gene_anno', 'downstream/input', 'downstream')\n",
    "both_u_d_flank_fn_dict = make_flank_files(gene_bed_dict, gene_anno_dict, genome_size_f_fn, 1000, 1000, 'gene_anno', 'both_upstream_downstream/input', 'both_u_d')"
   ]
  },
  {
   "cell_type": "code",
   "execution_count": 2225,
   "metadata": {},
   "outputs": [],
   "source": [
    "# Make bedtool object dictionary of inputs\n",
    "upstream_flank_bed_dict = make_bed_dict(upstream_flank_fn_dict)\n",
    "downstream_flank_bed_dict = make_bed_dict(downstream_flank_fn_dict)\n",
    "both_u_d_flank_bed_dict = make_bed_dict(both_u_d_flank_fn_dict)"
   ]
  },
  {
   "cell_type": "code",
   "execution_count": 2273,
   "metadata": {},
   "outputs": [],
   "source": [
    "# Make a function to do overlaps for flank files and methylation\n",
    "def coverage_flank(genebed_dict, methylbed_dict, genefn_dict, old_folder_name, new_folder_name, suffix):\n",
    "    \"\"\"Create coverage files from:\n",
    "    Inputs: dictionary of gene pybedtools objects, dictionary of methylation pybedtools objects, dictionary of gene filenames, old folder name and new folder name.\n",
    "    Output: dictionary of pandas dataframes for all coverage files.\"\"\"\n",
    "    feature_overlap_df_dict = {}\n",
    "    for gkey, gbed in genebed_dict.items():\n",
    "        for mkey, mbed in methylbed_dict.items():\n",
    "            tmp_df = gbed.coverage(mbed, s=True).to_dataframe().iloc[:,[0,1,2,3,6,9]] # make a dataframe to put headings\n",
    "            tmp_df.rename(columns={'thickStart': 'overlap_count', 'blockCount': 'overlap_fraction'}, inplace=True) # rename headings\n",
    "            tmp_fn = genefn_dict[gkey].replace('.%s.bed' % suffix, '.bed')\n",
    "            tmp_fn = tmp_fn.replace('.bed', '.%s.%s.overlap.bed' % (mkey[:-4], suffix)) # change output file path\n",
    "            tmp_fn = tmp_fn.replace(old_folder_name, new_folder_name)\n",
    "            feature_overlap_df_dict[tmp_fn.split('/')[-1]] = tmp_df # file name as key and dataframe as value for overlap dict\n",
    "            tmp_df.to_csv(tmp_fn, sep='\\t', header=None, index=None) # save to a csv(pybedtools outputs more d.p. than BEDTools)\n",
    "    return feature_overlap_df_dict"
   ]
  },
  {
   "cell_type": "code",
   "execution_count": null,
   "metadata": {},
   "outputs": [],
   "source": [
    "# Make dictionaries of dataframes for each coverage file\n",
    "upstream_coverage_dict = coverage_flank(upstream_flank_bed_dict, methyl_bed_dict, upstream_flank_fn_dict, 'input', 'coverage', 'upstream')\n",
    "downstream_coverage_dict = coverage_flank(downstream_flank_bed_dict, methyl_bed_dict, downstream_flank_fn_dict, 'input', 'coverage', 'downstream')\n",
    "both_u_d_coverage_dict = coverage_flank(both_u_d_flank_bed_dict, methyl_bed_dict, both_u_d_flank_fn_dict, 'input', 'coverage', 'both_u_d')"
   ]
  },
  {
   "cell_type": "code",
   "execution_count": null,
   "metadata": {},
   "outputs": [],
   "source": [
    "# Make dictionaries of dataframes for randomised methylation for each coverage file\n",
    "upstream_rand_coverage_dict = coverage_flank(upstream_flank_bed_dict, methyl_rand_bed_dict, upstream_flank_fn_dict, 'input', 'rand', 'upstream')\n",
    "downstream_rand_coverage_dict = coverage_flank(downstream_flank_bed_dict, methyl_rand_bed_dict, downstream_flank_fn_dict, 'input', 'rand', 'downstream')\n",
    "both_u_d_rand_coverage_dict = coverage_flank(both_u_d_flank_bed_dict, methyl_rand_bed_dict, both_u_d_flank_fn_dict, 'input', 'rand', 'both_u_d')"
   ]
  },
  {
   "cell_type": "markdown",
   "metadata": {},
   "source": [
    "### <span style='color:#14c4ff'> 6.C Intersecting 6mA with transcription start site. <span/>"
   ]
  },
  {
   "cell_type": "code",
   "execution_count": null,
   "metadata": {},
   "outputs": [],
   "source": [
    "# 6mA is at TSS or slightly downstream (+/- 500bp)\n",
    "# Make gene files with just the first 500bp of the gene\n",
    "# Run coverage for these"
   ]
  },
  {
   "cell_type": "code",
   "execution_count": 1779,
   "metadata": {},
   "outputs": [],
   "source": [
    "# write a function to take the files in gene_anno_dict, convert to df and edit the df and save out\n",
    "def make_tss_file(fn_dict):\n",
    "    out_fn_dict = {}\n",
    "    for key, value in fn_dict.items():\n",
    "        in_fn = fn_dict[key]\n",
    "        df = pd.read_csv(in_fn, sep='\\t', header = None)\n",
    "        for index, row in df.iterrows():\n",
    "            tss = row[1] + 500\n",
    "            df.iat[index,2] = tss # change the gene end site to 500bp downstream of TSS\n",
    "        out_fn = in_fn.replace('.bed', '.tss.bed')\n",
    "        out_fn = out_fn.replace('gene_anno', 'tss_6mA_only/input') # make the outfile name\n",
    "        df.to_csv(out_fn, header=None, index=None, sep='\\t') # save the new tss df to a bed file\n",
    "        outkey = out_fn.split('/')[-1]\n",
    "        out_fn_dict[outkey] = out_fn # save the outfile names to a dictionary\n",
    "    return out_fn_dict"
   ]
  },
  {
   "cell_type": "code",
   "execution_count": 1781,
   "metadata": {},
   "outputs": [],
   "source": [
    "# Make the TSS files and return dictionary of filepaths to TSS files\n",
    "tss_fn_dict = make_tss_file(gene_anno_dict)\n",
    "\n",
    "# Make a bedtools object dictionary of TSS files\n",
    "tss_bed_dict = make_bed_dict(tss_fn_dict)"
   ]
  },
  {
   "cell_type": "code",
   "execution_count": 2015,
   "metadata": {},
   "outputs": [],
   "source": [
    "# Make a function to do overlaps for tss files and methylation\n",
    "def coverage_tss(genebed_dict, methylbed_dict, genefn_dict, old_folder_name, new_folder_name):\n",
    "    \"\"\"Create coverage files from:\n",
    "    Inputs: dictionary of gene pybedtools objects, dictionary of methylation pybedtools objects, dictionary of gene filenames, old folder name and new folder name.\n",
    "    Output: dictionary of pandas dataframes for all coverage files.\"\"\"\n",
    "    feature_overlap_df_dict = {}\n",
    "    for gkey, gbed in genebed_dict.items():\n",
    "        for mkey, mbed in methylbed_dict.items():\n",
    "            tmp_df = gbed.coverage(mbed, s=True).to_dataframe().iloc[:,[0,1,2,3,6,9]] # make a dataframe to put headings\n",
    "            tmp_df.rename(columns={'thickStart': 'overlap_count', 'blockCount': 'overlap_fraction'}, inplace=True) # rename headings\n",
    "            tmp_fn = genefn_dict[gkey].replace('.bed', '.%s.overlap.bed' % mkey[:-4]) # change output file path\n",
    "            tmp_fn = tmp_fn.replace(old_folder_name, new_folder_name)\n",
    "            feature_overlap_df_dict[tmp_fn.split('/')[-1]] = tmp_df # file name as key and dataframe as value for overlap dict\n",
    "            tmp_df.to_csv(tmp_fn, sep='\\t', header=None, index=None) # save to a csv(pybedtools outputs more d.p. than BEDTools)\n",
    "    return feature_overlap_df_dict"
   ]
  },
  {
   "cell_type": "code",
   "execution_count": 1786,
   "metadata": {},
   "outputs": [],
   "source": [
    "# Run coverage for tss and return dictionary of dataframes\n",
    "tss_overlap_dict = coverage_gene(tss_bed_dict, methyl_bed_dict, tss_fn_dict, 'input', 'coverage')"
   ]
  },
  {
   "cell_type": "code",
   "execution_count": 2038,
   "metadata": {},
   "outputs": [],
   "source": [
    "# Run randomised coverage for tss and return dictionary of dataframes\n",
    "tss_rand_dict = coverage_tss(tss_bed_dict, methyl_rand_bed_dict, tss_fn_dict, 'input', 'rand')"
   ]
  },
  {
   "cell_type": "markdown",
   "metadata": {},
   "source": [
    "### <span style='color:#14c4ff'> 6.D Improving biological significance of gene coverage files. <span/>"
   ]
  },
  {
   "cell_type": "markdown",
   "metadata": {},
   "source": [
    "# <span style='color:red'> write code here. <span/>"
   ]
  },
  {
   "cell_type": "markdown",
   "metadata": {},
   "source": [
    "### Part 1\n",
    "1. A. Run everything again for only genes that are not in transposons. 3 files: p, h and ph\n",
    "\n",
    "\n",
    "1. B. Or just subset the dataframes for \"combined\" by removing any rows in \"TE\" and save this df to csv under the right name\n",
    "2. And add the df to the coverage dictionary :)\n",
    "3. Just rerun the bed file dictionary generator for each one\n",
    "4. And add the input file to the gene_anno_dict :)\n",
    "\n",
    "Need to run this for:\n",
    "- upstream/input\n",
    "- upstream/coverage\n",
    "- upstream/rand\n",
    "- downstream/input\n",
    "- downstream/coverage\n",
    "- downstream/rand\n",
    "- both_upstream_downstream/input\n",
    "- both_upstream_downstream/coverage\n",
    "- both_upstream_downstream/rand\n",
    "- gene_body/input\n",
    "- gene_body/coverage\n",
    "- gene_body/rand\n",
    "\n",
    "### Part 2\n",
    "1. subset df to get genes that ONLY have methylation in gene body/ upstream/ downstream/ both/ TSS\n",
    "2. subset randomisation df for these too\n",
    "3. test significance\n",
    "4. use these as section of expression analysis"
   ]
  },
  {
   "cell_type": "markdown",
   "metadata": {},
   "source": [
    "### <span style='color:#14c4ff'> 6.E Testing statistical significance of gene coverage files. <span/>"
   ]
  },
  {
   "cell_type": "markdown",
   "metadata": {},
   "source": [
    "Wilcoxon test used to test for significance of methylation at genes."
   ]
  },
  {
   "cell_type": "code",
   "execution_count": 2024,
   "metadata": {},
   "outputs": [],
   "source": [
    "def coverage_wilcoxon_same_key(obs_df_dict, exp_df_dict):\n",
    "    \"\"\"This function returns a dictionary of Wilcoxon statistic and p-value for a test of observed and randomised sites.\"\"\"\n",
    "    wilcoxon_dict = {}\n",
    "    for okey, ovalue in obs_df_dict.items():\n",
    "        for ekey, evalue in exp_df_dict.items():\n",
    "            if okey == ekey:\n",
    "                o_df = ovalue\n",
    "                e_df = evalue\n",
    "                obs = o_df['overlap_fraction']\n",
    "                exp = e_df['overlap_fraction']\n",
    "                stat, p = wilcoxon(obs, exp)\n",
    "                wilcoxon_dict[okey] = stat, p\n",
    "    return wilcoxon_dict"
   ]
  },
  {
   "cell_type": "code",
   "execution_count": 2295,
   "metadata": {},
   "outputs": [],
   "source": [
    "# Run wilcoxon for gene body\n",
    "gene_body_wilcoxon = coverage_wilcoxon_same_key(gene_methyl_overlap_dict, gene_rand_methyl_overlap_dict)"
   ]
  },
  {
   "cell_type": "code",
   "execution_count": 2291,
   "metadata": {},
   "outputs": [],
   "source": [
    "# Run wilcoxon for regions outside gene body\n",
    "upstream_wilcoxon = coverage_wilcoxon_same_key(upstream_coverage_dict, upstream_rand_coverage_dict)\n",
    "downstream_wilcoxon = coverage_wilcoxon_same_key(downstream_coverage_dict, downstream_rand_coverage_dict)\n",
    "both_u_d_wilcoxon = coverage_wilcoxon_same_key(both_u_d_coverage_dict, both_u_d_rand_coverage_dict)"
   ]
  },
  {
   "cell_type": "code",
   "execution_count": null,
   "metadata": {},
   "outputs": [],
   "source": [
    "# Run wilcoxon for TSS\n",
    "tss_wilcoxon = coverage_wilcoxon_same_key(tss_overlap_dict, tss_rand_dict)"
   ]
  },
  {
   "cell_type": "markdown",
   "metadata": {},
   "source": [
    "## <span style='color:#15c66e'> 7. Analysing gene expression files. <span/>"
   ]
  },
  {
   "cell_type": "code",
   "execution_count": 91,
   "metadata": {},
   "outputs": [],
   "source": [
    "# Prepare RNA-seq inputs\n",
    "rnaseq_list = [os.path.join(DIRS['MEAN_STD'], 'Pst_104E_v13_h_gene_rpkm_average.tsv'), \\\n",
    "               os.path.join(DIRS['MEAN_STD'], 'Pst_104E_v13_p_gene_rpkm_average.tsv')]"
   ]
  },
  {
   "cell_type": "code",
   "execution_count": 92,
   "metadata": {},
   "outputs": [
    {
     "data": {
      "text/plain": [
       "['/home/anjuni/analysis/rna_counts/average_and_stdev/Pst_104E_v13_h_gene_rpkm_average.tsv',\n",
       " '/home/anjuni/analysis/rna_counts/average_and_stdev/Pst_104E_v13_p_gene_rpkm_average.tsv']"
      ]
     },
     "execution_count": 92,
     "metadata": {},
     "output_type": "execute_result"
    }
   ],
   "source": [
    "rnaseq_list"
   ]
  },
  {
   "cell_type": "code",
   "execution_count": 93,
   "metadata": {},
   "outputs": [],
   "source": [
    "def order_rna_df(rnaseq_fn_list):\n",
    "    \"\"\"This is a function to sort RNA_seq dataframes by gene name alphabetically, returning a dictionary of sorted dataframes.\"\"\"\n",
    "    rna_df_dict = {}\n",
    "    for fn in rnaseq_fn_list:\n",
    "        df = pd.read_csv(fn, sep='\\t', header=0)#.sort_values('gene_ID', ascending=True)\n",
    "        rna_df_dict[fn.split('/')[-1]] = df\n",
    "    return rna_df_dict"
   ]
  },
  {
   "cell_type": "code",
   "execution_count": 94,
   "metadata": {},
   "outputs": [],
   "source": [
    "# Sort RNA seq data into useable df\n",
    "rnaseq_df_dict = order_rna_df(rnaseq_list)"
   ]
  },
  {
   "cell_type": "code",
   "execution_count": 95,
   "metadata": {},
   "outputs": [
    {
     "name": "stdout",
     "output_type": "stream",
     "text": [
      "Pst_104E_v13_h_gene_rpkm_average.tsv\n",
      "Pst_104E_v13_p_gene_rpkm_average.tsv\n"
     ]
    }
   ],
   "source": [
    "print(*rnaseq_df_dict, sep = '\\n')"
   ]
  },
  {
   "cell_type": "code",
   "execution_count": 96,
   "metadata": {
    "collapsed": true
   },
   "outputs": [
    {
     "data": {
      "text/html": [
       "<div>\n",
       "<style scoped>\n",
       "    .dataframe tbody tr th:only-of-type {\n",
       "        vertical-align: middle;\n",
       "    }\n",
       "\n",
       "    .dataframe tbody tr th {\n",
       "        vertical-align: top;\n",
       "    }\n",
       "\n",
       "    .dataframe thead th {\n",
       "        text-align: right;\n",
       "    }\n",
       "</style>\n",
       "<table border=\"1\" class=\"dataframe\">\n",
       "  <thead>\n",
       "    <tr style=\"text-align: right;\">\n",
       "      <th></th>\n",
       "      <th>gene_ID</th>\n",
       "      <th>GS</th>\n",
       "      <th>HE</th>\n",
       "      <th>IT0</th>\n",
       "      <th>IT6</th>\n",
       "      <th>IT9</th>\n",
       "      <th>UG</th>\n",
       "    </tr>\n",
       "  </thead>\n",
       "  <tbody>\n",
       "    <tr>\n",
       "      <th>0</th>\n",
       "      <td>gene_model_hcontig_0000_03.1</td>\n",
       "      <td>0.487427</td>\n",
       "      <td>0.000000</td>\n",
       "      <td>0.000000</td>\n",
       "      <td>0.000000</td>\n",
       "      <td>2.377196</td>\n",
       "      <td>0.384531</td>\n",
       "    </tr>\n",
       "    <tr>\n",
       "      <th>1</th>\n",
       "      <td>gene_model_hcontig_0000_03.2</td>\n",
       "      <td>0.577405</td>\n",
       "      <td>144.208849</td>\n",
       "      <td>0.000000</td>\n",
       "      <td>1016.181477</td>\n",
       "      <td>456.791691</td>\n",
       "      <td>0.446980</td>\n",
       "    </tr>\n",
       "    <tr>\n",
       "      <th>2</th>\n",
       "      <td>gene_model_hcontig_0000_03.3</td>\n",
       "      <td>564.783136</td>\n",
       "      <td>52.086774</td>\n",
       "      <td>24.713948</td>\n",
       "      <td>235.779282</td>\n",
       "      <td>239.133947</td>\n",
       "      <td>316.475087</td>\n",
       "    </tr>\n",
       "    <tr>\n",
       "      <th>3</th>\n",
       "      <td>gene_model_hcontig_0000_03.4</td>\n",
       "      <td>0.000000</td>\n",
       "      <td>0.167865</td>\n",
       "      <td>0.000000</td>\n",
       "      <td>0.115347</td>\n",
       "      <td>0.179739</td>\n",
       "      <td>0.000000</td>\n",
       "    </tr>\n",
       "    <tr>\n",
       "      <th>4</th>\n",
       "      <td>EVM prediction%2hcontig_0000_003.5</td>\n",
       "      <td>0.000000</td>\n",
       "      <td>0.000000</td>\n",
       "      <td>0.000000</td>\n",
       "      <td>0.000000</td>\n",
       "      <td>0.000000</td>\n",
       "      <td>0.000000</td>\n",
       "    </tr>\n",
       "    <tr>\n",
       "      <th>5</th>\n",
       "      <td>EVM prediction%2hcontig_0000_003.6</td>\n",
       "      <td>0.000000</td>\n",
       "      <td>0.000000</td>\n",
       "      <td>0.000000</td>\n",
       "      <td>0.000000</td>\n",
       "      <td>0.000000</td>\n",
       "      <td>0.000000</td>\n",
       "    </tr>\n",
       "    <tr>\n",
       "      <th>6</th>\n",
       "      <td>gene_model_hcontig_0000_03.7</td>\n",
       "      <td>10.457924</td>\n",
       "      <td>0.176728</td>\n",
       "      <td>0.000000</td>\n",
       "      <td>6.702920</td>\n",
       "      <td>25.139223</td>\n",
       "      <td>15.514397</td>\n",
       "    </tr>\n",
       "    <tr>\n",
       "      <th>7</th>\n",
       "      <td>gene_model_hcontig_0000_03.8</td>\n",
       "      <td>0.000000</td>\n",
       "      <td>31.659461</td>\n",
       "      <td>0.000000</td>\n",
       "      <td>0.511258</td>\n",
       "      <td>1.628921</td>\n",
       "      <td>0.000000</td>\n",
       "    </tr>\n",
       "    <tr>\n",
       "      <th>8</th>\n",
       "      <td>gene_model_hcontig_0000_03.9</td>\n",
       "      <td>0.005005</td>\n",
       "      <td>0.000000</td>\n",
       "      <td>0.000000</td>\n",
       "      <td>0.000000</td>\n",
       "      <td>0.000000</td>\n",
       "      <td>0.000000</td>\n",
       "    </tr>\n",
       "    <tr>\n",
       "      <th>9</th>\n",
       "      <td>gene_model_hcontig_0000_03.10</td>\n",
       "      <td>0.000000</td>\n",
       "      <td>0.000000</td>\n",
       "      <td>0.000000</td>\n",
       "      <td>0.000000</td>\n",
       "      <td>0.000000</td>\n",
       "      <td>0.000000</td>\n",
       "    </tr>\n",
       "    <tr>\n",
       "      <th>10</th>\n",
       "      <td>gene_model_hcontig_0000_03.11</td>\n",
       "      <td>0.035380</td>\n",
       "      <td>0.179622</td>\n",
       "      <td>0.000000</td>\n",
       "      <td>0.169025</td>\n",
       "      <td>1.570595</td>\n",
       "      <td>0.000000</td>\n",
       "    </tr>\n",
       "    <tr>\n",
       "      <th>11</th>\n",
       "      <td>gene_model_hcontig_0000_03.12</td>\n",
       "      <td>13.770215</td>\n",
       "      <td>3.301836</td>\n",
       "      <td>0.000000</td>\n",
       "      <td>29.075863</td>\n",
       "      <td>25.218225</td>\n",
       "      <td>10.467231</td>\n",
       "    </tr>\n",
       "    <tr>\n",
       "      <th>12</th>\n",
       "      <td>gene_model_hcontig_0000_03.13</td>\n",
       "      <td>21.021169</td>\n",
       "      <td>45.222179</td>\n",
       "      <td>0.000000</td>\n",
       "      <td>53.066090</td>\n",
       "      <td>51.005669</td>\n",
       "      <td>48.441891</td>\n",
       "    </tr>\n",
       "    <tr>\n",
       "      <th>13</th>\n",
       "      <td>gene_model_hcontig_0000_03.14</td>\n",
       "      <td>2.050254</td>\n",
       "      <td>25.219664</td>\n",
       "      <td>0.000000</td>\n",
       "      <td>4.187793</td>\n",
       "      <td>4.029254</td>\n",
       "      <td>8.757987</td>\n",
       "    </tr>\n",
       "    <tr>\n",
       "      <th>14</th>\n",
       "      <td>gene_model_hcontig_0000_03.15</td>\n",
       "      <td>0.110116</td>\n",
       "      <td>32.706249</td>\n",
       "      <td>0.000000</td>\n",
       "      <td>4.991344</td>\n",
       "      <td>3.552745</td>\n",
       "      <td>0.240944</td>\n",
       "    </tr>\n",
       "    <tr>\n",
       "      <th>15</th>\n",
       "      <td>gene_model_hcontig_0000_03.16</td>\n",
       "      <td>0.000000</td>\n",
       "      <td>0.000000</td>\n",
       "      <td>0.000000</td>\n",
       "      <td>0.000000</td>\n",
       "      <td>0.000000</td>\n",
       "      <td>0.143115</td>\n",
       "    </tr>\n",
       "    <tr>\n",
       "      <th>16</th>\n",
       "      <td>gene_model_hcontig_0000_03.17</td>\n",
       "      <td>33.566947</td>\n",
       "      <td>14.088033</td>\n",
       "      <td>57.326366</td>\n",
       "      <td>16.673574</td>\n",
       "      <td>35.310838</td>\n",
       "      <td>44.752650</td>\n",
       "    </tr>\n",
       "    <tr>\n",
       "      <th>17</th>\n",
       "      <td>gene_model_hcontig_0000_03.18</td>\n",
       "      <td>35.344241</td>\n",
       "      <td>32.267829</td>\n",
       "      <td>0.000000</td>\n",
       "      <td>31.035428</td>\n",
       "      <td>40.736049</td>\n",
       "      <td>29.378411</td>\n",
       "    </tr>\n",
       "    <tr>\n",
       "      <th>18</th>\n",
       "      <td>gene_model_hcontig_0000_03.19</td>\n",
       "      <td>38.722015</td>\n",
       "      <td>27.233848</td>\n",
       "      <td>11.696595</td>\n",
       "      <td>73.615779</td>\n",
       "      <td>86.700539</td>\n",
       "      <td>45.552144</td>\n",
       "    </tr>\n",
       "    <tr>\n",
       "      <th>19</th>\n",
       "      <td>gene_model_hcontig_0000_03.20</td>\n",
       "      <td>23.033791</td>\n",
       "      <td>15.329237</td>\n",
       "      <td>0.000000</td>\n",
       "      <td>1.466196</td>\n",
       "      <td>55.934963</td>\n",
       "      <td>23.883455</td>\n",
       "    </tr>\n",
       "    <tr>\n",
       "      <th>20</th>\n",
       "      <td>EVM prediction%2hcontig_0000_003.21</td>\n",
       "      <td>0.000000</td>\n",
       "      <td>0.000000</td>\n",
       "      <td>0.000000</td>\n",
       "      <td>0.000000</td>\n",
       "      <td>0.000000</td>\n",
       "      <td>0.000000</td>\n",
       "    </tr>\n",
       "    <tr>\n",
       "      <th>21</th>\n",
       "      <td>EVM prediction%2hcontig_0000_003.22</td>\n",
       "      <td>0.000000</td>\n",
       "      <td>0.000000</td>\n",
       "      <td>0.000000</td>\n",
       "      <td>0.000000</td>\n",
       "      <td>0.006533</td>\n",
       "      <td>0.000000</td>\n",
       "    </tr>\n",
       "    <tr>\n",
       "      <th>22</th>\n",
       "      <td>gene_model_hcontig_0000_03.23</td>\n",
       "      <td>0.032001</td>\n",
       "      <td>9.584925</td>\n",
       "      <td>0.000000</td>\n",
       "      <td>1.474356</td>\n",
       "      <td>1.318988</td>\n",
       "      <td>0.223088</td>\n",
       "    </tr>\n",
       "    <tr>\n",
       "      <th>23</th>\n",
       "      <td>gene_model_hcontig_0000_03.24</td>\n",
       "      <td>0.028180</td>\n",
       "      <td>0.000000</td>\n",
       "      <td>0.000000</td>\n",
       "      <td>0.147215</td>\n",
       "      <td>0.000000</td>\n",
       "      <td>0.000000</td>\n",
       "    </tr>\n",
       "    <tr>\n",
       "      <th>24</th>\n",
       "      <td>EVM prediction%2hcontig_0000_003.25</td>\n",
       "      <td>0.003408</td>\n",
       "      <td>0.082395</td>\n",
       "      <td>0.000000</td>\n",
       "      <td>0.104013</td>\n",
       "      <td>0.014893</td>\n",
       "      <td>0.000000</td>\n",
       "    </tr>\n",
       "    <tr>\n",
       "      <th>25</th>\n",
       "      <td>gene_model_hcontig_0000_03.26</td>\n",
       "      <td>16.459957</td>\n",
       "      <td>12.460087</td>\n",
       "      <td>0.000000</td>\n",
       "      <td>4.153248</td>\n",
       "      <td>88.320232</td>\n",
       "      <td>18.185222</td>\n",
       "    </tr>\n",
       "    <tr>\n",
       "      <th>26</th>\n",
       "      <td>gene_model_hcontig_0000_03.27</td>\n",
       "      <td>0.020739</td>\n",
       "      <td>0.850206</td>\n",
       "      <td>0.000000</td>\n",
       "      <td>0.896260</td>\n",
       "      <td>1.166907</td>\n",
       "      <td>0.032297</td>\n",
       "    </tr>\n",
       "    <tr>\n",
       "      <th>27</th>\n",
       "      <td>gene_model_hcontig_0000_03.28</td>\n",
       "      <td>0.043187</td>\n",
       "      <td>129.727107</td>\n",
       "      <td>0.000000</td>\n",
       "      <td>0.357460</td>\n",
       "      <td>5.586832</td>\n",
       "      <td>0.000000</td>\n",
       "    </tr>\n",
       "    <tr>\n",
       "      <th>28</th>\n",
       "      <td>gene_model_hcontig_0000_03.29</td>\n",
       "      <td>3.361388</td>\n",
       "      <td>49.773752</td>\n",
       "      <td>0.000000</td>\n",
       "      <td>112.589546</td>\n",
       "      <td>79.033803</td>\n",
       "      <td>8.306043</td>\n",
       "    </tr>\n",
       "    <tr>\n",
       "      <th>29</th>\n",
       "      <td>gene_model_hcontig_0000_03.30</td>\n",
       "      <td>25.493052</td>\n",
       "      <td>18.779745</td>\n",
       "      <td>0.000000</td>\n",
       "      <td>35.036810</td>\n",
       "      <td>33.307464</td>\n",
       "      <td>28.196795</td>\n",
       "    </tr>\n",
       "    <tr>\n",
       "      <th>30</th>\n",
       "      <td>gene_model_hcontig_0000_03.31</td>\n",
       "      <td>52.501464</td>\n",
       "      <td>80.905024</td>\n",
       "      <td>22.806177</td>\n",
       "      <td>54.469621</td>\n",
       "      <td>73.145979</td>\n",
       "      <td>73.049314</td>\n",
       "    </tr>\n",
       "    <tr>\n",
       "      <th>31</th>\n",
       "      <td>gene_model_hcontig_0000_03.32</td>\n",
       "      <td>25.537752</td>\n",
       "      <td>4.090015</td>\n",
       "      <td>0.000000</td>\n",
       "      <td>0.356072</td>\n",
       "      <td>0.256566</td>\n",
       "      <td>3.486079</td>\n",
       "    </tr>\n",
       "    <tr>\n",
       "      <th>32</th>\n",
       "      <td>gene_model_hcontig_0000_03.33</td>\n",
       "      <td>170.523997</td>\n",
       "      <td>2211.975716</td>\n",
       "      <td>411.178102</td>\n",
       "      <td>605.391546</td>\n",
       "      <td>487.849837</td>\n",
       "      <td>718.725456</td>\n",
       "    </tr>\n",
       "    <tr>\n",
       "      <th>33</th>\n",
       "      <td>gene_model_hcontig_0000_03.34</td>\n",
       "      <td>0.029520</td>\n",
       "      <td>12.452153</td>\n",
       "      <td>0.000000</td>\n",
       "      <td>0.481650</td>\n",
       "      <td>1.342568</td>\n",
       "      <td>0.025592</td>\n",
       "    </tr>\n",
       "    <tr>\n",
       "      <th>34</th>\n",
       "      <td>gene_model_hcontig_0000_03.35</td>\n",
       "      <td>0.000000</td>\n",
       "      <td>0.623645</td>\n",
       "      <td>0.000000</td>\n",
       "      <td>0.507885</td>\n",
       "      <td>0.031788</td>\n",
       "      <td>0.000000</td>\n",
       "    </tr>\n",
       "    <tr>\n",
       "      <th>35</th>\n",
       "      <td>gene_model_hcontig_0000_03.36</td>\n",
       "      <td>0.000000</td>\n",
       "      <td>0.000000</td>\n",
       "      <td>0.000000</td>\n",
       "      <td>0.000000</td>\n",
       "      <td>0.000000</td>\n",
       "      <td>0.086196</td>\n",
       "    </tr>\n",
       "    <tr>\n",
       "      <th>36</th>\n",
       "      <td>gene_model_hcontig_0000_03.37</td>\n",
       "      <td>1.730630</td>\n",
       "      <td>3.075621</td>\n",
       "      <td>0.000000</td>\n",
       "      <td>5.995251</td>\n",
       "      <td>4.254510</td>\n",
       "      <td>5.997242</td>\n",
       "    </tr>\n",
       "    <tr>\n",
       "      <th>37</th>\n",
       "      <td>gene_model_hcontig_0000_03.38</td>\n",
       "      <td>19.900957</td>\n",
       "      <td>91.787882</td>\n",
       "      <td>17.361891</td>\n",
       "      <td>216.125570</td>\n",
       "      <td>148.313521</td>\n",
       "      <td>16.685903</td>\n",
       "    </tr>\n",
       "    <tr>\n",
       "      <th>38</th>\n",
       "      <td>gene_model_hcontig_0000_03.39</td>\n",
       "      <td>12.752155</td>\n",
       "      <td>19.072444</td>\n",
       "      <td>0.000000</td>\n",
       "      <td>33.169658</td>\n",
       "      <td>32.081543</td>\n",
       "      <td>13.607817</td>\n",
       "    </tr>\n",
       "    <tr>\n",
       "      <th>39</th>\n",
       "      <td>gene_model_hcontig_0000_03.40</td>\n",
       "      <td>25.698298</td>\n",
       "      <td>11.264389</td>\n",
       "      <td>0.000000</td>\n",
       "      <td>44.539508</td>\n",
       "      <td>43.629319</td>\n",
       "      <td>21.916971</td>\n",
       "    </tr>\n",
       "  </tbody>\n",
       "</table>\n",
       "</div>"
      ],
      "text/plain": [
       "                                gene_ID          GS           HE         IT0  \\\n",
       "0          gene_model_hcontig_0000_03.1    0.487427     0.000000    0.000000   \n",
       "1          gene_model_hcontig_0000_03.2    0.577405   144.208849    0.000000   \n",
       "2          gene_model_hcontig_0000_03.3  564.783136    52.086774   24.713948   \n",
       "3          gene_model_hcontig_0000_03.4    0.000000     0.167865    0.000000   \n",
       "4    EVM prediction%2hcontig_0000_003.5    0.000000     0.000000    0.000000   \n",
       "5    EVM prediction%2hcontig_0000_003.6    0.000000     0.000000    0.000000   \n",
       "6          gene_model_hcontig_0000_03.7   10.457924     0.176728    0.000000   \n",
       "7          gene_model_hcontig_0000_03.8    0.000000    31.659461    0.000000   \n",
       "8          gene_model_hcontig_0000_03.9    0.005005     0.000000    0.000000   \n",
       "9         gene_model_hcontig_0000_03.10    0.000000     0.000000    0.000000   \n",
       "10        gene_model_hcontig_0000_03.11    0.035380     0.179622    0.000000   \n",
       "11        gene_model_hcontig_0000_03.12   13.770215     3.301836    0.000000   \n",
       "12        gene_model_hcontig_0000_03.13   21.021169    45.222179    0.000000   \n",
       "13        gene_model_hcontig_0000_03.14    2.050254    25.219664    0.000000   \n",
       "14        gene_model_hcontig_0000_03.15    0.110116    32.706249    0.000000   \n",
       "15        gene_model_hcontig_0000_03.16    0.000000     0.000000    0.000000   \n",
       "16        gene_model_hcontig_0000_03.17   33.566947    14.088033   57.326366   \n",
       "17        gene_model_hcontig_0000_03.18   35.344241    32.267829    0.000000   \n",
       "18        gene_model_hcontig_0000_03.19   38.722015    27.233848   11.696595   \n",
       "19        gene_model_hcontig_0000_03.20   23.033791    15.329237    0.000000   \n",
       "20  EVM prediction%2hcontig_0000_003.21    0.000000     0.000000    0.000000   \n",
       "21  EVM prediction%2hcontig_0000_003.22    0.000000     0.000000    0.000000   \n",
       "22        gene_model_hcontig_0000_03.23    0.032001     9.584925    0.000000   \n",
       "23        gene_model_hcontig_0000_03.24    0.028180     0.000000    0.000000   \n",
       "24  EVM prediction%2hcontig_0000_003.25    0.003408     0.082395    0.000000   \n",
       "25        gene_model_hcontig_0000_03.26   16.459957    12.460087    0.000000   \n",
       "26        gene_model_hcontig_0000_03.27    0.020739     0.850206    0.000000   \n",
       "27        gene_model_hcontig_0000_03.28    0.043187   129.727107    0.000000   \n",
       "28        gene_model_hcontig_0000_03.29    3.361388    49.773752    0.000000   \n",
       "29        gene_model_hcontig_0000_03.30   25.493052    18.779745    0.000000   \n",
       "30        gene_model_hcontig_0000_03.31   52.501464    80.905024   22.806177   \n",
       "31        gene_model_hcontig_0000_03.32   25.537752     4.090015    0.000000   \n",
       "32        gene_model_hcontig_0000_03.33  170.523997  2211.975716  411.178102   \n",
       "33        gene_model_hcontig_0000_03.34    0.029520    12.452153    0.000000   \n",
       "34        gene_model_hcontig_0000_03.35    0.000000     0.623645    0.000000   \n",
       "35        gene_model_hcontig_0000_03.36    0.000000     0.000000    0.000000   \n",
       "36        gene_model_hcontig_0000_03.37    1.730630     3.075621    0.000000   \n",
       "37        gene_model_hcontig_0000_03.38   19.900957    91.787882   17.361891   \n",
       "38        gene_model_hcontig_0000_03.39   12.752155    19.072444    0.000000   \n",
       "39        gene_model_hcontig_0000_03.40   25.698298    11.264389    0.000000   \n",
       "\n",
       "            IT6         IT9          UG  \n",
       "0      0.000000    2.377196    0.384531  \n",
       "1   1016.181477  456.791691    0.446980  \n",
       "2    235.779282  239.133947  316.475087  \n",
       "3      0.115347    0.179739    0.000000  \n",
       "4      0.000000    0.000000    0.000000  \n",
       "5      0.000000    0.000000    0.000000  \n",
       "6      6.702920   25.139223   15.514397  \n",
       "7      0.511258    1.628921    0.000000  \n",
       "8      0.000000    0.000000    0.000000  \n",
       "9      0.000000    0.000000    0.000000  \n",
       "10     0.169025    1.570595    0.000000  \n",
       "11    29.075863   25.218225   10.467231  \n",
       "12    53.066090   51.005669   48.441891  \n",
       "13     4.187793    4.029254    8.757987  \n",
       "14     4.991344    3.552745    0.240944  \n",
       "15     0.000000    0.000000    0.143115  \n",
       "16    16.673574   35.310838   44.752650  \n",
       "17    31.035428   40.736049   29.378411  \n",
       "18    73.615779   86.700539   45.552144  \n",
       "19     1.466196   55.934963   23.883455  \n",
       "20     0.000000    0.000000    0.000000  \n",
       "21     0.000000    0.006533    0.000000  \n",
       "22     1.474356    1.318988    0.223088  \n",
       "23     0.147215    0.000000    0.000000  \n",
       "24     0.104013    0.014893    0.000000  \n",
       "25     4.153248   88.320232   18.185222  \n",
       "26     0.896260    1.166907    0.032297  \n",
       "27     0.357460    5.586832    0.000000  \n",
       "28   112.589546   79.033803    8.306043  \n",
       "29    35.036810   33.307464   28.196795  \n",
       "30    54.469621   73.145979   73.049314  \n",
       "31     0.356072    0.256566    3.486079  \n",
       "32   605.391546  487.849837  718.725456  \n",
       "33     0.481650    1.342568    0.025592  \n",
       "34     0.507885    0.031788    0.000000  \n",
       "35     0.000000    0.000000    0.086196  \n",
       "36     5.995251    4.254510    5.997242  \n",
       "37   216.125570  148.313521   16.685903  \n",
       "38    33.169658   32.081543   13.607817  \n",
       "39    44.539508   43.629319   21.916971  "
      ]
     },
     "execution_count": 96,
     "metadata": {},
     "output_type": "execute_result"
    }
   ],
   "source": [
    "rnaseq_df_dict['Pst_104E_v13_h_gene_rpkm_average.tsv'].head(n=40)"
   ]
  },
  {
   "cell_type": "code",
   "execution_count": 111,
   "metadata": {},
   "outputs": [
    {
     "data": {
      "text/plain": [
       "17199"
      ]
     },
     "execution_count": 111,
     "metadata": {},
     "output_type": "execute_result"
    }
   ],
   "source": [
    "len(rnaseq_df_dict['Pst_104E_v13_h_gene_rpkm_average.tsv'])"
   ]
  },
  {
   "cell_type": "code",
   "execution_count": 99,
   "metadata": {},
   "outputs": [],
   "source": [
    "# Methylation overlap inputs\n",
    "methylation_input_list = sorted([fn for fn in glob.iglob('%s/*combined*bed' % os.path.join(DIRS['COVERAGE'], 'gene_level', 'gene_coverage'), recursive=True)])"
   ]
  },
  {
   "cell_type": "code",
   "execution_count": 145,
   "metadata": {},
   "outputs": [],
   "source": [
    "upstream_list = [fn for fn in glob.iglob('%s/*bed' % os.path.join(DIRS['UP_STR'], 'coverage'), recursive=True)]\n",
    "downstream_list = [fn for fn in glob.iglob('%s/*bed' % os.path.join(DIRS['DOWN_STR'], 'coverage'), recursive=True)]\n",
    "both_u_d_list = [fn for fn in glob.iglob('%s/*bed' % os.path.join(DIRS['BOTH_U_D'], 'coverage'), recursive=True)]"
   ]
  },
  {
   "cell_type": "code",
   "execution_count": 100,
   "metadata": {},
   "outputs": [
    {
     "data": {
      "text/plain": [
       "8"
      ]
     },
     "execution_count": 100,
     "metadata": {},
     "output_type": "execute_result"
    }
   ],
   "source": [
    "len(methylation_input_list)"
   ]
  },
  {
   "cell_type": "code",
   "execution_count": 101,
   "metadata": {
    "collapsed": true
   },
   "outputs": [
    {
     "data": {
      "text/plain": [
       "['/home/anjuni/analysis/coverage/gene_level/gene_coverage/Pst_104E_v13_h_ctg_combined_sorted_anno.5mC_hc_tombo_sorted.cutoff.0.50.overlap.bed',\n",
       " '/home/anjuni/analysis/coverage/gene_level/gene_coverage/Pst_104E_v13_h_ctg_combined_sorted_anno.5mC_hc_tombo_sorted.cutoff.0.95.overlap.bed',\n",
       " '/home/anjuni/analysis/coverage/gene_level/gene_coverage/Pst_104E_v13_h_ctg_combined_sorted_anno.6mA_hc_tombo_sorted.cutoff.0.50.overlap.bed',\n",
       " '/home/anjuni/analysis/coverage/gene_level/gene_coverage/Pst_104E_v13_h_ctg_combined_sorted_anno.6mA_hc_tombo_sorted.cutoff.0.95.overlap.bed',\n",
       " '/home/anjuni/analysis/coverage/gene_level/gene_coverage/Pst_104E_v13_p_ctg_combined_sorted_anno.5mC_hc_tombo_sorted.cutoff.0.50.overlap.bed',\n",
       " '/home/anjuni/analysis/coverage/gene_level/gene_coverage/Pst_104E_v13_p_ctg_combined_sorted_anno.5mC_hc_tombo_sorted.cutoff.0.95.overlap.bed',\n",
       " '/home/anjuni/analysis/coverage/gene_level/gene_coverage/Pst_104E_v13_p_ctg_combined_sorted_anno.6mA_hc_tombo_sorted.cutoff.0.50.overlap.bed',\n",
       " '/home/anjuni/analysis/coverage/gene_level/gene_coverage/Pst_104E_v13_p_ctg_combined_sorted_anno.6mA_hc_tombo_sorted.cutoff.0.95.overlap.bed']"
      ]
     },
     "execution_count": 101,
     "metadata": {},
     "output_type": "execute_result"
    }
   ],
   "source": [
    "methylation_input_list"
   ]
  },
  {
   "cell_type": "code",
   "execution_count": 63,
   "metadata": {},
   "outputs": [],
   "source": [
    "headings = ['contig', 'start', 'stop', 'gene_ID', 'overlap_count', 'overlap_fraction']"
   ]
  },
  {
   "cell_type": "code",
   "execution_count": 102,
   "metadata": {},
   "outputs": [],
   "source": [
    "# Convert list to dict of dataframes\n",
    "def file_name_dict(file_list):\n",
    "    \"\"\"Outputs a dictionary of input file paths for a given list of input file paths.\"\"\"\n",
    "    file_dict = {}\n",
    "    for file in file_list:\n",
    "        file_dict[file.split('/')[-1]] = file\n",
    "    return file_dict"
   ]
  },
  {
   "cell_type": "code",
   "execution_count": 103,
   "metadata": {},
   "outputs": [],
   "source": [
    "def df_dict_from_fn_dict(file_dict, header_row, header_list):\n",
    "    \"\"\"Outputs a dictionary of dataframes from a dictionary of file names.\"\"\"\n",
    "    df_dict = {}\n",
    "    for key, value in file_dict.items():\n",
    "        df = pd.read_csv(value, sep='\\t', header=header_row, names=header_list)\n",
    "        df = df.loc[:,['gene_ID', 'overlap_fraction']].sort_values('gene_ID', ascending=True)\n",
    "        df_dict[key] = df\n",
    "    return df_dict"
   ]
  },
  {
   "cell_type": "code",
   "execution_count": 124,
   "metadata": {},
   "outputs": [],
   "source": [
    "def df_dict_from_fn_list(file_list, header_row, header_list):\n",
    "    \"\"\"Outputs a dictionary of dataframes from a dictionary of file names.\"\"\"\n",
    "    df_dict = {}\n",
    "    for file in file_list:\n",
    "        df = pd.read_csv(file, sep='\\t', header=header_row, names=header_list)\n",
    "        df = df.loc[:,['gene_ID', 'overlap_fraction']]#.sort_values('gene_ID', ascending=True)\n",
    "        df_dict[file.split('/')[-1]] = df\n",
    "    return df_dict"
   ]
  },
  {
   "cell_type": "code",
   "execution_count": 125,
   "metadata": {},
   "outputs": [],
   "source": [
    "methyl_df_dict = df_dict_from_fn_list(methylation_input_list, None, headings)"
   ]
  },
  {
   "cell_type": "code",
   "execution_count": 147,
   "metadata": {},
   "outputs": [],
   "source": [
    "upstream_df_dict = df_dict_from_fn_list(upstream_list, None, headings)\n",
    "downstream_df_dict = df_dict_from_fn_list(downstream_list, None, headings)\n",
    "both_u_d_df_dict = df_dict_from_fn_list(both_u_d_list, None, headings)"
   ]
  },
  {
   "cell_type": "code",
   "execution_count": 148,
   "metadata": {
    "collapsed": true
   },
   "outputs": [
    {
     "name": "stdout",
     "output_type": "stream",
     "text": [
      "Pst_104E_v13_p_ctg_combined_sorted_anno.6mA_hc_tombo_sorted.cutoff.0.50.upstream.overlap.bed\n",
      "Pst_104E_v13_p_ctg_combined_sorted_anno.5mC_hc_tombo_sorted.cutoff.0.50.upstream.overlap.bed\n",
      "Pst_104E_v13_h_ctg_combined_sorted_anno.6mA_hc_tombo_sorted.cutoff.0.95.upstream.overlap.bed\n",
      "Pst_104E_v13_p_ctg_combined_sorted_anno.5mC_hc_tombo_sorted.cutoff.0.95.upstream.overlap.bed\n",
      "Pst_104E_v13_h_ctg_combined_sorted_anno.6mA_hc_tombo_sorted.cutoff.0.50.upstream.overlap.bed\n",
      "Pst_104E_v13_h_ctg_combined_sorted_anno.5mC_hc_tombo_sorted.cutoff.0.95.upstream.overlap.bed\n",
      "Pst_104E_v13_p_ctg_combined_sorted_anno.6mA_hc_tombo_sorted.cutoff.0.95.upstream.overlap.bed\n",
      "Pst_104E_v13_h_ctg_combined_sorted_anno.5mC_hc_tombo_sorted.cutoff.0.50.upstream.overlap.bed\n",
      "Pst_104E_v13_h_ctg_combined_sorted_anno.5mC_hc_tombo_sorted.cutoff.0.95.downstream.overlap.bed\n",
      "Pst_104E_v13_h_ctg_combined_sorted_anno.6mA_hc_tombo_sorted.cutoff.0.95.downstream.overlap.bed\n",
      "Pst_104E_v13_p_ctg_combined_sorted_anno.6mA_hc_tombo_sorted.cutoff.0.50.downstream.overlap.bed\n",
      "Pst_104E_v13_p_ctg_combined_sorted_anno.5mC_hc_tombo_sorted.cutoff.0.50.downstream.overlap.bed\n",
      "Pst_104E_v13_h_ctg_combined_sorted_anno.5mC_hc_tombo_sorted.cutoff.0.50.downstream.overlap.bed\n",
      "Pst_104E_v13_p_ctg_combined_sorted_anno.6mA_hc_tombo_sorted.cutoff.0.95.downstream.overlap.bed\n",
      "Pst_104E_v13_p_ctg_combined_sorted_anno.5mC_hc_tombo_sorted.cutoff.0.95.downstream.overlap.bed\n",
      "Pst_104E_v13_h_ctg_combined_sorted_anno.6mA_hc_tombo_sorted.cutoff.0.50.downstream.overlap.bed\n",
      "Pst_104E_v13_h_ctg_combined_sorted_anno.5mC_hc_tombo_sorted.cutoff.0.95.both_u_d.overlap.bed\n",
      "Pst_104E_v13_h_ctg_combined_sorted_anno.6mA_hc_tombo_sorted.cutoff.0.50.both_u_d.overlap.bed\n",
      "Pst_104E_v13_p_ctg_combined_sorted_anno.5mC_hc_tombo_sorted.cutoff.0.95.both_u_d.overlap.bed\n",
      "Pst_104E_v13_p_ctg_combined_sorted_anno.6mA_hc_tombo_sorted.cutoff.0.95.both_u_d.overlap.bed\n",
      "Pst_104E_v13_h_ctg_combined_sorted_anno.6mA_hc_tombo_sorted.cutoff.0.95.both_u_d.overlap.bed\n",
      "Pst_104E_v13_p_ctg_combined_sorted_anno.5mC_hc_tombo_sorted.cutoff.0.50.both_u_d.overlap.bed\n",
      "Pst_104E_v13_p_ctg_combined_sorted_anno.6mA_hc_tombo_sorted.cutoff.0.50.both_u_d.overlap.bed\n",
      "Pst_104E_v13_h_ctg_combined_sorted_anno.5mC_hc_tombo_sorted.cutoff.0.50.both_u_d.overlap.bed\n"
     ]
    }
   ],
   "source": [
    "print(*upstream_df_dict, sep='\\n')\n",
    "print(*downstream_df_dict, sep='\\n')\n",
    "print(*both_u_d_df_dict, sep='\\n')"
   ]
  },
  {
   "cell_type": "code",
   "execution_count": 127,
   "metadata": {
    "collapsed": true
   },
   "outputs": [
    {
     "name": "stdout",
     "output_type": "stream",
     "text": [
      "Pst_104E_v13_h_ctg_combined_sorted_anno.5mC_hc_tombo_sorted.cutoff.0.50.overlap.bed\n",
      "Pst_104E_v13_h_ctg_combined_sorted_anno.5mC_hc_tombo_sorted.cutoff.0.95.overlap.bed\n",
      "Pst_104E_v13_h_ctg_combined_sorted_anno.6mA_hc_tombo_sorted.cutoff.0.50.overlap.bed\n",
      "Pst_104E_v13_h_ctg_combined_sorted_anno.6mA_hc_tombo_sorted.cutoff.0.95.overlap.bed\n",
      "Pst_104E_v13_p_ctg_combined_sorted_anno.5mC_hc_tombo_sorted.cutoff.0.50.overlap.bed\n",
      "Pst_104E_v13_p_ctg_combined_sorted_anno.5mC_hc_tombo_sorted.cutoff.0.95.overlap.bed\n",
      "Pst_104E_v13_p_ctg_combined_sorted_anno.6mA_hc_tombo_sorted.cutoff.0.50.overlap.bed\n",
      "Pst_104E_v13_p_ctg_combined_sorted_anno.6mA_hc_tombo_sorted.cutoff.0.95.overlap.bed\n"
     ]
    }
   ],
   "source": [
    "print(*methyl_df_dict, sep='\\n')"
   ]
  },
  {
   "cell_type": "code",
   "execution_count": 128,
   "metadata": {
    "collapsed": true
   },
   "outputs": [
    {
     "data": {
      "text/html": [
       "<div>\n",
       "<style scoped>\n",
       "    .dataframe tbody tr th:only-of-type {\n",
       "        vertical-align: middle;\n",
       "    }\n",
       "\n",
       "    .dataframe tbody tr th {\n",
       "        vertical-align: top;\n",
       "    }\n",
       "\n",
       "    .dataframe thead th {\n",
       "        text-align: right;\n",
       "    }\n",
       "</style>\n",
       "<table border=\"1\" class=\"dataframe\">\n",
       "  <thead>\n",
       "    <tr style=\"text-align: right;\">\n",
       "      <th></th>\n",
       "      <th>gene_ID</th>\n",
       "      <th>overlap_fraction</th>\n",
       "    </tr>\n",
       "  </thead>\n",
       "  <tbody>\n",
       "    <tr>\n",
       "      <th>0</th>\n",
       "      <td>gene_model_hcontig_0000_03.1</td>\n",
       "      <td>0.239374</td>\n",
       "    </tr>\n",
       "    <tr>\n",
       "      <th>1</th>\n",
       "      <td>gene_model_hcontig_0000_03.2</td>\n",
       "      <td>0.190050</td>\n",
       "    </tr>\n",
       "    <tr>\n",
       "      <th>2</th>\n",
       "      <td>gene_model_hcontig_0000_03.3</td>\n",
       "      <td>0.172863</td>\n",
       "    </tr>\n",
       "    <tr>\n",
       "      <th>3</th>\n",
       "      <td>gene_model_hcontig_0000_03.4</td>\n",
       "      <td>0.224765</td>\n",
       "    </tr>\n",
       "    <tr>\n",
       "      <th>4</th>\n",
       "      <td>EVM prediction%2hcontig_0000_003.5</td>\n",
       "      <td>0.127193</td>\n",
       "    </tr>\n",
       "    <tr>\n",
       "      <th>5</th>\n",
       "      <td>EVM prediction%2hcontig_0000_003.6</td>\n",
       "      <td>0.094044</td>\n",
       "    </tr>\n",
       "    <tr>\n",
       "      <th>6</th>\n",
       "      <td>gene_model_hcontig_0000_03.7</td>\n",
       "      <td>0.233391</td>\n",
       "    </tr>\n",
       "    <tr>\n",
       "      <th>7</th>\n",
       "      <td>gene_model_hcontig_0000_03.8</td>\n",
       "      <td>0.103114</td>\n",
       "    </tr>\n",
       "    <tr>\n",
       "      <th>8</th>\n",
       "      <td>gene_model_hcontig_0000_03.9</td>\n",
       "      <td>0.097785</td>\n",
       "    </tr>\n",
       "    <tr>\n",
       "      <th>9</th>\n",
       "      <td>gene_model_hcontig_0000_03.10</td>\n",
       "      <td>0.157534</td>\n",
       "    </tr>\n",
       "    <tr>\n",
       "      <th>10</th>\n",
       "      <td>gene_model_hcontig_0000_03.11</td>\n",
       "      <td>0.183951</td>\n",
       "    </tr>\n",
       "    <tr>\n",
       "      <th>11</th>\n",
       "      <td>gene_model_hcontig_0000_03.12</td>\n",
       "      <td>0.107350</td>\n",
       "    </tr>\n",
       "    <tr>\n",
       "      <th>12</th>\n",
       "      <td>gene_model_hcontig_0000_03.13</td>\n",
       "      <td>0.196507</td>\n",
       "    </tr>\n",
       "    <tr>\n",
       "      <th>13</th>\n",
       "      <td>gene_model_hcontig_0000_03.14</td>\n",
       "      <td>0.051282</td>\n",
       "    </tr>\n",
       "    <tr>\n",
       "      <th>14</th>\n",
       "      <td>gene_model_hcontig_0000_03.15</td>\n",
       "      <td>0.030792</td>\n",
       "    </tr>\n",
       "    <tr>\n",
       "      <th>15</th>\n",
       "      <td>gene_model_hcontig_0000_03.16</td>\n",
       "      <td>0.043011</td>\n",
       "    </tr>\n",
       "    <tr>\n",
       "      <th>16</th>\n",
       "      <td>gene_model_hcontig_0000_03.17</td>\n",
       "      <td>0.030565</td>\n",
       "    </tr>\n",
       "    <tr>\n",
       "      <th>17</th>\n",
       "      <td>gene_model_hcontig_0000_03.18</td>\n",
       "      <td>0.031053</td>\n",
       "    </tr>\n",
       "    <tr>\n",
       "      <th>18</th>\n",
       "      <td>gene_model_hcontig_0000_03.19</td>\n",
       "      <td>0.129096</td>\n",
       "    </tr>\n",
       "    <tr>\n",
       "      <th>19</th>\n",
       "      <td>gene_model_hcontig_0000_03.20</td>\n",
       "      <td>0.087755</td>\n",
       "    </tr>\n",
       "    <tr>\n",
       "      <th>20</th>\n",
       "      <td>EVM prediction%2hcontig_0000_003.21</td>\n",
       "      <td>0.135688</td>\n",
       "    </tr>\n",
       "    <tr>\n",
       "      <th>21</th>\n",
       "      <td>EVM prediction%2hcontig_0000_003.22</td>\n",
       "      <td>0.143919</td>\n",
       "    </tr>\n",
       "    <tr>\n",
       "      <th>22</th>\n",
       "      <td>gene_model_hcontig_0000_03.23</td>\n",
       "      <td>0.087831</td>\n",
       "    </tr>\n",
       "    <tr>\n",
       "      <th>23</th>\n",
       "      <td>gene_model_hcontig_0000_03.24</td>\n",
       "      <td>0.111828</td>\n",
       "    </tr>\n",
       "    <tr>\n",
       "      <th>24</th>\n",
       "      <td>EVM prediction%2hcontig_0000_003.25</td>\n",
       "      <td>0.209018</td>\n",
       "    </tr>\n",
       "    <tr>\n",
       "      <th>25</th>\n",
       "      <td>gene_model_hcontig_0000_03.26</td>\n",
       "      <td>0.146392</td>\n",
       "    </tr>\n",
       "    <tr>\n",
       "      <th>26</th>\n",
       "      <td>gene_model_hcontig_0000_03.27</td>\n",
       "      <td>0.252118</td>\n",
       "    </tr>\n",
       "    <tr>\n",
       "      <th>27</th>\n",
       "      <td>gene_model_hcontig_0000_03.28</td>\n",
       "      <td>0.169597</td>\n",
       "    </tr>\n",
       "    <tr>\n",
       "      <th>28</th>\n",
       "      <td>gene_model_hcontig_0000_03.29</td>\n",
       "      <td>0.122919</td>\n",
       "    </tr>\n",
       "    <tr>\n",
       "      <th>29</th>\n",
       "      <td>gene_model_hcontig_0000_03.30</td>\n",
       "      <td>0.021060</td>\n",
       "    </tr>\n",
       "    <tr>\n",
       "      <th>...</th>\n",
       "      <td>...</td>\n",
       "      <td>...</td>\n",
       "    </tr>\n",
       "    <tr>\n",
       "      <th>17169</th>\n",
       "      <td>gene_model_hcontig_0166_01.1</td>\n",
       "      <td>0.076753</td>\n",
       "    </tr>\n",
       "    <tr>\n",
       "      <th>17170</th>\n",
       "      <td>gene_model_hcontig_0166_01.2</td>\n",
       "      <td>0.175303</td>\n",
       "    </tr>\n",
       "    <tr>\n",
       "      <th>17171</th>\n",
       "      <td>EVM prediction%2hcontig_0166_001.3</td>\n",
       "      <td>0.194952</td>\n",
       "    </tr>\n",
       "    <tr>\n",
       "      <th>17172</th>\n",
       "      <td>gene_model_hcontig_0166_01.4</td>\n",
       "      <td>0.040293</td>\n",
       "    </tr>\n",
       "    <tr>\n",
       "      <th>17173</th>\n",
       "      <td>gene_model_hcontig_0166_01.5</td>\n",
       "      <td>0.186134</td>\n",
       "    </tr>\n",
       "    <tr>\n",
       "      <th>17174</th>\n",
       "      <td>gene_model_hcontig_0166_01.6</td>\n",
       "      <td>0.175137</td>\n",
       "    </tr>\n",
       "    <tr>\n",
       "      <th>17175</th>\n",
       "      <td>gene_model_hcontig_0166_01.7</td>\n",
       "      <td>0.169600</td>\n",
       "    </tr>\n",
       "    <tr>\n",
       "      <th>17176</th>\n",
       "      <td>gene_model_hcontig_0166_01.8</td>\n",
       "      <td>0.187377</td>\n",
       "    </tr>\n",
       "    <tr>\n",
       "      <th>17177</th>\n",
       "      <td>EVM prediction%2hcontig_0184_001.1</td>\n",
       "      <td>0.162583</td>\n",
       "    </tr>\n",
       "    <tr>\n",
       "      <th>17178</th>\n",
       "      <td>EVM prediction%2hcontig_0184_001.2</td>\n",
       "      <td>0.054795</td>\n",
       "    </tr>\n",
       "    <tr>\n",
       "      <th>17179</th>\n",
       "      <td>gene_model_hcontig_0184_01.3</td>\n",
       "      <td>0.042587</td>\n",
       "    </tr>\n",
       "    <tr>\n",
       "      <th>17180</th>\n",
       "      <td>EVM prediction%2hcontig_0184_001.4</td>\n",
       "      <td>0.158996</td>\n",
       "    </tr>\n",
       "    <tr>\n",
       "      <th>17181</th>\n",
       "      <td>EVM prediction%2hcontig_0184_001.5</td>\n",
       "      <td>0.188249</td>\n",
       "    </tr>\n",
       "    <tr>\n",
       "      <th>17182</th>\n",
       "      <td>gene_model_hcontig_0189_01.1</td>\n",
       "      <td>0.119728</td>\n",
       "    </tr>\n",
       "    <tr>\n",
       "      <th>17183</th>\n",
       "      <td>gene_model_hcontig_0189_01.2</td>\n",
       "      <td>0.070088</td>\n",
       "    </tr>\n",
       "    <tr>\n",
       "      <th>17184</th>\n",
       "      <td>gene_model_hcontig_0189_01.3</td>\n",
       "      <td>0.149042</td>\n",
       "    </tr>\n",
       "    <tr>\n",
       "      <th>17185</th>\n",
       "      <td>gene_model_hcontig_0189_01.4</td>\n",
       "      <td>0.152195</td>\n",
       "    </tr>\n",
       "    <tr>\n",
       "      <th>17186</th>\n",
       "      <td>gene_model_hcontig_0189_01.5</td>\n",
       "      <td>0.183868</td>\n",
       "    </tr>\n",
       "    <tr>\n",
       "      <th>17187</th>\n",
       "      <td>gene_model_hcontig_0189_01.6</td>\n",
       "      <td>0.196273</td>\n",
       "    </tr>\n",
       "    <tr>\n",
       "      <th>17188</th>\n",
       "      <td>gene_model_hcontig_0189_01.7</td>\n",
       "      <td>0.061149</td>\n",
       "    </tr>\n",
       "    <tr>\n",
       "      <th>17189</th>\n",
       "      <td>gene_model_hcontig_0193_02.1</td>\n",
       "      <td>0.082852</td>\n",
       "    </tr>\n",
       "    <tr>\n",
       "      <th>17190</th>\n",
       "      <td>gene_model_hcontig_0225_01.1</td>\n",
       "      <td>0.164865</td>\n",
       "    </tr>\n",
       "    <tr>\n",
       "      <th>17191</th>\n",
       "      <td>gene_model_hcontig_0225_01.2</td>\n",
       "      <td>0.167504</td>\n",
       "    </tr>\n",
       "    <tr>\n",
       "      <th>17192</th>\n",
       "      <td>gene_model_hcontig_0225_01.3</td>\n",
       "      <td>0.168722</td>\n",
       "    </tr>\n",
       "    <tr>\n",
       "      <th>17193</th>\n",
       "      <td>gene_model_hcontig_0225_01.4</td>\n",
       "      <td>0.165775</td>\n",
       "    </tr>\n",
       "    <tr>\n",
       "      <th>17194</th>\n",
       "      <td>gene_model_hcontig_0225_01.5</td>\n",
       "      <td>0.164853</td>\n",
       "    </tr>\n",
       "    <tr>\n",
       "      <th>17195</th>\n",
       "      <td>gene_model_hcontig_0225_01.6</td>\n",
       "      <td>0.140244</td>\n",
       "    </tr>\n",
       "    <tr>\n",
       "      <th>17196</th>\n",
       "      <td>gene_model_hcontig_0225_01.7</td>\n",
       "      <td>0.078652</td>\n",
       "    </tr>\n",
       "    <tr>\n",
       "      <th>17197</th>\n",
       "      <td>gene_model_hcontig_0225_01.8</td>\n",
       "      <td>0.224090</td>\n",
       "    </tr>\n",
       "    <tr>\n",
       "      <th>17198</th>\n",
       "      <td>gene_model_hcontig_0225_01.9</td>\n",
       "      <td>0.159905</td>\n",
       "    </tr>\n",
       "  </tbody>\n",
       "</table>\n",
       "<p>17199 rows × 2 columns</p>\n",
       "</div>"
      ],
      "text/plain": [
       "                                   gene_ID  overlap_fraction\n",
       "0             gene_model_hcontig_0000_03.1          0.239374\n",
       "1             gene_model_hcontig_0000_03.2          0.190050\n",
       "2             gene_model_hcontig_0000_03.3          0.172863\n",
       "3             gene_model_hcontig_0000_03.4          0.224765\n",
       "4       EVM prediction%2hcontig_0000_003.5          0.127193\n",
       "5       EVM prediction%2hcontig_0000_003.6          0.094044\n",
       "6             gene_model_hcontig_0000_03.7          0.233391\n",
       "7             gene_model_hcontig_0000_03.8          0.103114\n",
       "8             gene_model_hcontig_0000_03.9          0.097785\n",
       "9            gene_model_hcontig_0000_03.10          0.157534\n",
       "10           gene_model_hcontig_0000_03.11          0.183951\n",
       "11           gene_model_hcontig_0000_03.12          0.107350\n",
       "12           gene_model_hcontig_0000_03.13          0.196507\n",
       "13           gene_model_hcontig_0000_03.14          0.051282\n",
       "14           gene_model_hcontig_0000_03.15          0.030792\n",
       "15           gene_model_hcontig_0000_03.16          0.043011\n",
       "16           gene_model_hcontig_0000_03.17          0.030565\n",
       "17           gene_model_hcontig_0000_03.18          0.031053\n",
       "18           gene_model_hcontig_0000_03.19          0.129096\n",
       "19           gene_model_hcontig_0000_03.20          0.087755\n",
       "20     EVM prediction%2hcontig_0000_003.21          0.135688\n",
       "21     EVM prediction%2hcontig_0000_003.22          0.143919\n",
       "22           gene_model_hcontig_0000_03.23          0.087831\n",
       "23           gene_model_hcontig_0000_03.24          0.111828\n",
       "24     EVM prediction%2hcontig_0000_003.25          0.209018\n",
       "25           gene_model_hcontig_0000_03.26          0.146392\n",
       "26           gene_model_hcontig_0000_03.27          0.252118\n",
       "27           gene_model_hcontig_0000_03.28          0.169597\n",
       "28           gene_model_hcontig_0000_03.29          0.122919\n",
       "29           gene_model_hcontig_0000_03.30          0.021060\n",
       "...                                    ...               ...\n",
       "17169         gene_model_hcontig_0166_01.1          0.076753\n",
       "17170         gene_model_hcontig_0166_01.2          0.175303\n",
       "17171   EVM prediction%2hcontig_0166_001.3          0.194952\n",
       "17172         gene_model_hcontig_0166_01.4          0.040293\n",
       "17173         gene_model_hcontig_0166_01.5          0.186134\n",
       "17174         gene_model_hcontig_0166_01.6          0.175137\n",
       "17175         gene_model_hcontig_0166_01.7          0.169600\n",
       "17176         gene_model_hcontig_0166_01.8          0.187377\n",
       "17177   EVM prediction%2hcontig_0184_001.1          0.162583\n",
       "17178   EVM prediction%2hcontig_0184_001.2          0.054795\n",
       "17179         gene_model_hcontig_0184_01.3          0.042587\n",
       "17180   EVM prediction%2hcontig_0184_001.4          0.158996\n",
       "17181   EVM prediction%2hcontig_0184_001.5          0.188249\n",
       "17182         gene_model_hcontig_0189_01.1          0.119728\n",
       "17183         gene_model_hcontig_0189_01.2          0.070088\n",
       "17184         gene_model_hcontig_0189_01.3          0.149042\n",
       "17185         gene_model_hcontig_0189_01.4          0.152195\n",
       "17186         gene_model_hcontig_0189_01.5          0.183868\n",
       "17187         gene_model_hcontig_0189_01.6          0.196273\n",
       "17188         gene_model_hcontig_0189_01.7          0.061149\n",
       "17189         gene_model_hcontig_0193_02.1          0.082852\n",
       "17190         gene_model_hcontig_0225_01.1          0.164865\n",
       "17191         gene_model_hcontig_0225_01.2          0.167504\n",
       "17192         gene_model_hcontig_0225_01.3          0.168722\n",
       "17193         gene_model_hcontig_0225_01.4          0.165775\n",
       "17194         gene_model_hcontig_0225_01.5          0.164853\n",
       "17195         gene_model_hcontig_0225_01.6          0.140244\n",
       "17196         gene_model_hcontig_0225_01.7          0.078652\n",
       "17197         gene_model_hcontig_0225_01.8          0.224090\n",
       "17198         gene_model_hcontig_0225_01.9          0.159905\n",
       "\n",
       "[17199 rows x 2 columns]"
      ]
     },
     "execution_count": 128,
     "metadata": {},
     "output_type": "execute_result"
    }
   ],
   "source": [
    "methyl_df_dict['Pst_104E_v13_h_ctg_combined_sorted_anno.5mC_hc_tombo_sorted.cutoff.0.50.overlap.bed']"
   ]
  },
  {
   "cell_type": "code",
   "execution_count": 133,
   "metadata": {},
   "outputs": [],
   "source": [
    "# join the expression df and methyl gene body coverage df\n",
    "\n",
    "h_contig_df = rnaseq_df_dict['Pst_104E_v13_h_gene_rpkm_average.tsv'].join(methyl_df_dict['Pst_104E_v13_h_ctg_combined_sorted_anno.5mC_hc_tombo_sorted.cutoff.0.50.overlap.bed'].set_index('gene_ID'), on='gene_ID').copy()\n",
    "h_contig_df.rename(columns={'overlap_fraction': '5mC_gene_body_50'}, inplace=True)\n",
    "h_contig_df = h_contig_df.join(methyl_df_dict['Pst_104E_v13_h_ctg_combined_sorted_anno.6mA_hc_tombo_sorted.cutoff.0.50.overlap.bed'].set_index('gene_ID'), on='gene_ID').copy()\n",
    "h_contig_df.rename(columns={'overlap_fraction': '6mA_gene_body_50'}, inplace=True)\n",
    "#h_contig_df = h_contig_df.join(methyl_df_dict['Pst_104E_v13_h_ctg_combined_sorted_anno.5mC_hc_tombo_sorted.cutoff.0.95.overlap.bed'].set_index('gene_ID'), on='gene_ID').copy()\n",
    "#h_contig_df.rename(columns={'overlap_fraction': '5mC_gene_body_95'}, inplace=True)\n",
    "#h_contig_df = h_contig_df.join(methyl_df_dict['Pst_104E_v13_h_ctg_combined_sorted_anno.6mA_hc_tombo_sorted.cutoff.0.95.overlap.bed'].set_index('gene_ID'), on='gene_ID').copy()\n",
    "#h_contig_df.rename(columns={'overlap_fraction': '6mA_gene_body_95'}, inplace=True)"
   ]
  },
  {
   "cell_type": "code",
   "execution_count": 152,
   "metadata": {},
   "outputs": [],
   "source": [
    "h_contig_df = h_contig_df.join(upstream_df_dict['Pst_104E_v13_h_ctg_combined_sorted_anno.5mC_hc_tombo_sorted.cutoff.0.50.upstream.overlap.bed'].set_index('gene_ID'), on='gene_ID').copy()\n",
    "h_contig_df.rename(columns={'overlap_fraction': '5mC_upstream_50'}, inplace=True)\n",
    "h_contig_df = h_contig_df.join(upstream_df_dict['Pst_104E_v13_h_ctg_combined_sorted_anno.6mA_hc_tombo_sorted.cutoff.0.50.upstream.overlap.bed'].set_index('gene_ID'), on='gene_ID').copy()\n",
    "h_contig_df.rename(columns={'overlap_fraction': '6mA_upstream_50'}, inplace=True)\n",
    "h_contig_df = h_contig_df.join(downstream_df_dict['Pst_104E_v13_h_ctg_combined_sorted_anno.5mC_hc_tombo_sorted.cutoff.0.50.downstream.overlap.bed'].set_index('gene_ID'), on='gene_ID').copy()\n",
    "h_contig_df.rename(columns={'overlap_fraction': '5mC_downstream_50'}, inplace=True)\n",
    "h_contig_df = h_contig_df.join(downstream_df_dict['Pst_104E_v13_h_ctg_combined_sorted_anno.6mA_hc_tombo_sorted.cutoff.0.50.downstream.overlap.bed'].set_index('gene_ID'), on='gene_ID').copy()\n",
    "h_contig_df.rename(columns={'overlap_fraction': '6mA_downstream_50'}, inplace=True)"
   ]
  },
  {
   "cell_type": "code",
   "execution_count": 154,
   "metadata": {},
   "outputs": [],
   "source": [
    "h_contig_df = h_contig_df.join(methyl_df_dict['Pst_104E_v13_h_ctg_combined_sorted_anno.5mC_hc_tombo_sorted.cutoff.0.95.overlap.bed'].set_index('gene_ID'), on='gene_ID').copy()\n",
    "h_contig_df.rename(columns={'overlap_fraction': '5mC_gene_body_95'}, inplace=True)\n",
    "h_contig_df = h_contig_df.join(methyl_df_dict['Pst_104E_v13_h_ctg_combined_sorted_anno.6mA_hc_tombo_sorted.cutoff.0.95.overlap.bed'].set_index('gene_ID'), on='gene_ID').copy()\n",
    "h_contig_df.rename(columns={'overlap_fraction': '6mA_gene_body_95'}, inplace=True)\n",
    "h_contig_df = h_contig_df.join(upstream_df_dict['Pst_104E_v13_h_ctg_combined_sorted_anno.5mC_hc_tombo_sorted.cutoff.0.95.upstream.overlap.bed'].set_index('gene_ID'), on='gene_ID').copy()\n",
    "h_contig_df.rename(columns={'overlap_fraction': '5mC_upstream_95'}, inplace=True)\n",
    "h_contig_df = h_contig_df.join(upstream_df_dict['Pst_104E_v13_h_ctg_combined_sorted_anno.6mA_hc_tombo_sorted.cutoff.0.95.upstream.overlap.bed'].set_index('gene_ID'), on='gene_ID').copy()\n",
    "h_contig_df.rename(columns={'overlap_fraction': '6mA_upstream_95'}, inplace=True)\n",
    "h_contig_df = h_contig_df.join(downstream_df_dict['Pst_104E_v13_h_ctg_combined_sorted_anno.5mC_hc_tombo_sorted.cutoff.0.95.downstream.overlap.bed'].set_index('gene_ID'), on='gene_ID').copy()\n",
    "h_contig_df.rename(columns={'overlap_fraction': '5mC_downstream_95'}, inplace=True)\n",
    "h_contig_df = h_contig_df.join(downstream_df_dict['Pst_104E_v13_h_ctg_combined_sorted_anno.6mA_hc_tombo_sorted.cutoff.0.95.downstream.overlap.bed'].set_index('gene_ID'), on='gene_ID').copy()\n",
    "h_contig_df.rename(columns={'overlap_fraction': '6mA_downstream_95'}, inplace=True)"
   ]
  },
  {
   "cell_type": "code",
   "execution_count": 163,
   "metadata": {
    "scrolled": false
   },
   "outputs": [],
   "source": [
    "h_contig_df.to_csv(os.path.join(DIRS['FIGURES'], 'expression', 'rnaseq_methyl_df.tsv'), header=True, index=None, sep='\\t')"
   ]
  },
  {
   "cell_type": "code",
   "execution_count": 162,
   "metadata": {},
   "outputs": [
    {
     "data": {
      "text/plain": [
       "17199"
      ]
     },
     "execution_count": 162,
     "metadata": {},
     "output_type": "execute_result"
    }
   ],
   "source": [
    "len(h_contig_df)\n"
   ]
  },
  {
   "cell_type": "code",
   "execution_count": 156,
   "metadata": {},
   "outputs": [
    {
     "data": {
      "text/html": [
       "<div>\n",
       "<style scoped>\n",
       "    .dataframe tbody tr th:only-of-type {\n",
       "        vertical-align: middle;\n",
       "    }\n",
       "\n",
       "    .dataframe tbody tr th {\n",
       "        vertical-align: top;\n",
       "    }\n",
       "\n",
       "    .dataframe thead th {\n",
       "        text-align: right;\n",
       "    }\n",
       "</style>\n",
       "<table border=\"1\" class=\"dataframe\">\n",
       "  <thead>\n",
       "    <tr style=\"text-align: right;\">\n",
       "      <th></th>\n",
       "      <th>gene_ID</th>\n",
       "      <th>GS</th>\n",
       "      <th>HE</th>\n",
       "      <th>IT0</th>\n",
       "      <th>IT6</th>\n",
       "      <th>IT9</th>\n",
       "      <th>UG</th>\n",
       "      <th>5mC_gene_body_50</th>\n",
       "      <th>6mA_gene_body_50</th>\n",
       "      <th>5mC_upstream_50</th>\n",
       "      <th>...</th>\n",
       "      <th>5mC_upstream_50</th>\n",
       "      <th>6mA_upstream_50</th>\n",
       "      <th>5mC_downstream_50</th>\n",
       "      <th>6mA_downstream_50</th>\n",
       "      <th>5mC_gene_body_95</th>\n",
       "      <th>6mA_gene_body_95</th>\n",
       "      <th>5mC_upstream_95</th>\n",
       "      <th>6mA_upstream_95</th>\n",
       "      <th>5mC_downstream_95</th>\n",
       "      <th>6mA_downstream_95</th>\n",
       "    </tr>\n",
       "  </thead>\n",
       "  <tbody>\n",
       "    <tr>\n",
       "      <th>0</th>\n",
       "      <td>gene_model_hcontig_0000_03.1</td>\n",
       "      <td>0.487427</td>\n",
       "      <td>0.000000</td>\n",
       "      <td>0.000000</td>\n",
       "      <td>0.000000</td>\n",
       "      <td>2.377196</td>\n",
       "      <td>0.384531</td>\n",
       "      <td>0.239374</td>\n",
       "      <td>0.147651</td>\n",
       "      <td>0.213</td>\n",
       "      <td>...</td>\n",
       "      <td>0.213</td>\n",
       "      <td>0.141</td>\n",
       "      <td>0.165</td>\n",
       "      <td>0.100</td>\n",
       "      <td>0.105145</td>\n",
       "      <td>0.040268</td>\n",
       "      <td>0.124</td>\n",
       "      <td>0.034</td>\n",
       "      <td>0.043</td>\n",
       "      <td>0.007</td>\n",
       "    </tr>\n",
       "    <tr>\n",
       "      <th>1</th>\n",
       "      <td>gene_model_hcontig_0000_03.2</td>\n",
       "      <td>0.577405</td>\n",
       "      <td>144.208849</td>\n",
       "      <td>0.000000</td>\n",
       "      <td>1016.181477</td>\n",
       "      <td>456.791691</td>\n",
       "      <td>0.446980</td>\n",
       "      <td>0.190050</td>\n",
       "      <td>0.110448</td>\n",
       "      <td>0.176</td>\n",
       "      <td>...</td>\n",
       "      <td>0.176</td>\n",
       "      <td>0.117</td>\n",
       "      <td>0.152</td>\n",
       "      <td>0.141</td>\n",
       "      <td>0.000000</td>\n",
       "      <td>0.000000</td>\n",
       "      <td>0.001</td>\n",
       "      <td>0.000</td>\n",
       "      <td>0.000</td>\n",
       "      <td>0.002</td>\n",
       "    </tr>\n",
       "    <tr>\n",
       "      <th>2</th>\n",
       "      <td>gene_model_hcontig_0000_03.3</td>\n",
       "      <td>564.783136</td>\n",
       "      <td>52.086774</td>\n",
       "      <td>24.713948</td>\n",
       "      <td>235.779282</td>\n",
       "      <td>239.133947</td>\n",
       "      <td>316.475087</td>\n",
       "      <td>0.172863</td>\n",
       "      <td>0.085502</td>\n",
       "      <td>0.148</td>\n",
       "      <td>...</td>\n",
       "      <td>0.148</td>\n",
       "      <td>0.084</td>\n",
       "      <td>0.159</td>\n",
       "      <td>0.094</td>\n",
       "      <td>0.000000</td>\n",
       "      <td>0.001859</td>\n",
       "      <td>0.000</td>\n",
       "      <td>0.001</td>\n",
       "      <td>0.000</td>\n",
       "      <td>0.000</td>\n",
       "    </tr>\n",
       "    <tr>\n",
       "      <th>3</th>\n",
       "      <td>gene_model_hcontig_0000_03.4</td>\n",
       "      <td>0.000000</td>\n",
       "      <td>0.167865</td>\n",
       "      <td>0.000000</td>\n",
       "      <td>0.115347</td>\n",
       "      <td>0.179739</td>\n",
       "      <td>0.000000</td>\n",
       "      <td>0.224765</td>\n",
       "      <td>0.177230</td>\n",
       "      <td>0.177</td>\n",
       "      <td>...</td>\n",
       "      <td>0.177</td>\n",
       "      <td>0.244</td>\n",
       "      <td>0.130</td>\n",
       "      <td>0.240</td>\n",
       "      <td>0.001761</td>\n",
       "      <td>0.000587</td>\n",
       "      <td>0.003</td>\n",
       "      <td>0.009</td>\n",
       "      <td>0.000</td>\n",
       "      <td>0.003</td>\n",
       "    </tr>\n",
       "    <tr>\n",
       "      <th>4</th>\n",
       "      <td>EVM prediction%2hcontig_0000_003.5</td>\n",
       "      <td>0.000000</td>\n",
       "      <td>0.000000</td>\n",
       "      <td>0.000000</td>\n",
       "      <td>0.000000</td>\n",
       "      <td>0.000000</td>\n",
       "      <td>0.000000</td>\n",
       "      <td>0.127193</td>\n",
       "      <td>0.245614</td>\n",
       "      <td>0.134</td>\n",
       "      <td>...</td>\n",
       "      <td>0.134</td>\n",
       "      <td>0.243</td>\n",
       "      <td>0.109</td>\n",
       "      <td>0.242</td>\n",
       "      <td>0.000877</td>\n",
       "      <td>0.000877</td>\n",
       "      <td>0.000</td>\n",
       "      <td>0.003</td>\n",
       "      <td>0.000</td>\n",
       "      <td>0.003</td>\n",
       "    </tr>\n",
       "    <tr>\n",
       "      <th>5</th>\n",
       "      <td>EVM prediction%2hcontig_0000_003.6</td>\n",
       "      <td>0.000000</td>\n",
       "      <td>0.000000</td>\n",
       "      <td>0.000000</td>\n",
       "      <td>0.000000</td>\n",
       "      <td>0.000000</td>\n",
       "      <td>0.000000</td>\n",
       "      <td>0.094044</td>\n",
       "      <td>0.228840</td>\n",
       "      <td>0.114</td>\n",
       "      <td>...</td>\n",
       "      <td>0.114</td>\n",
       "      <td>0.225</td>\n",
       "      <td>0.121</td>\n",
       "      <td>0.170</td>\n",
       "      <td>0.001045</td>\n",
       "      <td>0.001045</td>\n",
       "      <td>0.000</td>\n",
       "      <td>0.005</td>\n",
       "      <td>0.000</td>\n",
       "      <td>0.000</td>\n",
       "    </tr>\n",
       "    <tr>\n",
       "      <th>6</th>\n",
       "      <td>gene_model_hcontig_0000_03.7</td>\n",
       "      <td>10.457924</td>\n",
       "      <td>0.176728</td>\n",
       "      <td>0.000000</td>\n",
       "      <td>6.702920</td>\n",
       "      <td>25.139223</td>\n",
       "      <td>15.514397</td>\n",
       "      <td>0.233391</td>\n",
       "      <td>0.085500</td>\n",
       "      <td>0.185</td>\n",
       "      <td>...</td>\n",
       "      <td>0.185</td>\n",
       "      <td>0.070</td>\n",
       "      <td>0.189</td>\n",
       "      <td>0.070</td>\n",
       "      <td>0.000578</td>\n",
       "      <td>0.000000</td>\n",
       "      <td>0.000</td>\n",
       "      <td>0.000</td>\n",
       "      <td>0.000</td>\n",
       "      <td>0.000</td>\n",
       "    </tr>\n",
       "    <tr>\n",
       "      <th>7</th>\n",
       "      <td>gene_model_hcontig_0000_03.8</td>\n",
       "      <td>0.000000</td>\n",
       "      <td>31.659461</td>\n",
       "      <td>0.000000</td>\n",
       "      <td>0.511258</td>\n",
       "      <td>1.628921</td>\n",
       "      <td>0.000000</td>\n",
       "      <td>0.103114</td>\n",
       "      <td>0.231834</td>\n",
       "      <td>0.129</td>\n",
       "      <td>...</td>\n",
       "      <td>0.129</td>\n",
       "      <td>0.169</td>\n",
       "      <td>0.107</td>\n",
       "      <td>0.201</td>\n",
       "      <td>0.000000</td>\n",
       "      <td>0.003460</td>\n",
       "      <td>0.000</td>\n",
       "      <td>0.000</td>\n",
       "      <td>0.000</td>\n",
       "      <td>0.005</td>\n",
       "    </tr>\n",
       "    <tr>\n",
       "      <th>8</th>\n",
       "      <td>gene_model_hcontig_0000_03.9</td>\n",
       "      <td>0.005005</td>\n",
       "      <td>0.000000</td>\n",
       "      <td>0.000000</td>\n",
       "      <td>0.000000</td>\n",
       "      <td>0.000000</td>\n",
       "      <td>0.000000</td>\n",
       "      <td>0.097785</td>\n",
       "      <td>0.197861</td>\n",
       "      <td>0.102</td>\n",
       "      <td>...</td>\n",
       "      <td>0.102</td>\n",
       "      <td>0.157</td>\n",
       "      <td>0.088</td>\n",
       "      <td>0.182</td>\n",
       "      <td>0.000000</td>\n",
       "      <td>0.000764</td>\n",
       "      <td>0.000</td>\n",
       "      <td>0.006</td>\n",
       "      <td>0.000</td>\n",
       "      <td>0.000</td>\n",
       "    </tr>\n",
       "    <tr>\n",
       "      <th>9</th>\n",
       "      <td>gene_model_hcontig_0000_03.10</td>\n",
       "      <td>0.000000</td>\n",
       "      <td>0.000000</td>\n",
       "      <td>0.000000</td>\n",
       "      <td>0.000000</td>\n",
       "      <td>0.000000</td>\n",
       "      <td>0.000000</td>\n",
       "      <td>0.157534</td>\n",
       "      <td>0.058219</td>\n",
       "      <td>0.163</td>\n",
       "      <td>...</td>\n",
       "      <td>0.163</td>\n",
       "      <td>0.062</td>\n",
       "      <td>0.192</td>\n",
       "      <td>0.091</td>\n",
       "      <td>0.000000</td>\n",
       "      <td>0.000000</td>\n",
       "      <td>0.000</td>\n",
       "      <td>0.000</td>\n",
       "      <td>0.000</td>\n",
       "      <td>0.000</td>\n",
       "    </tr>\n",
       "    <tr>\n",
       "      <th>10</th>\n",
       "      <td>gene_model_hcontig_0000_03.11</td>\n",
       "      <td>0.035380</td>\n",
       "      <td>0.179622</td>\n",
       "      <td>0.000000</td>\n",
       "      <td>0.169025</td>\n",
       "      <td>1.570595</td>\n",
       "      <td>0.000000</td>\n",
       "      <td>0.183951</td>\n",
       "      <td>0.088889</td>\n",
       "      <td>0.129</td>\n",
       "      <td>...</td>\n",
       "      <td>0.129</td>\n",
       "      <td>0.087</td>\n",
       "      <td>0.101</td>\n",
       "      <td>0.113</td>\n",
       "      <td>0.000000</td>\n",
       "      <td>0.000000</td>\n",
       "      <td>0.000</td>\n",
       "      <td>0.000</td>\n",
       "      <td>0.000</td>\n",
       "      <td>0.000</td>\n",
       "    </tr>\n",
       "    <tr>\n",
       "      <th>11</th>\n",
       "      <td>gene_model_hcontig_0000_03.12</td>\n",
       "      <td>13.770215</td>\n",
       "      <td>3.301836</td>\n",
       "      <td>0.000000</td>\n",
       "      <td>29.075863</td>\n",
       "      <td>25.218225</td>\n",
       "      <td>10.467231</td>\n",
       "      <td>0.107350</td>\n",
       "      <td>0.148775</td>\n",
       "      <td>0.073</td>\n",
       "      <td>...</td>\n",
       "      <td>0.073</td>\n",
       "      <td>0.167</td>\n",
       "      <td>0.031</td>\n",
       "      <td>0.129</td>\n",
       "      <td>0.000000</td>\n",
       "      <td>0.000445</td>\n",
       "      <td>0.000</td>\n",
       "      <td>0.001</td>\n",
       "      <td>0.000</td>\n",
       "      <td>0.000</td>\n",
       "    </tr>\n",
       "    <tr>\n",
       "      <th>12</th>\n",
       "      <td>gene_model_hcontig_0000_03.13</td>\n",
       "      <td>21.021169</td>\n",
       "      <td>45.222179</td>\n",
       "      <td>0.000000</td>\n",
       "      <td>53.066090</td>\n",
       "      <td>51.005669</td>\n",
       "      <td>48.441891</td>\n",
       "      <td>0.196507</td>\n",
       "      <td>0.107424</td>\n",
       "      <td>0.114</td>\n",
       "      <td>...</td>\n",
       "      <td>0.114</td>\n",
       "      <td>0.090</td>\n",
       "      <td>0.127</td>\n",
       "      <td>0.086</td>\n",
       "      <td>0.000000</td>\n",
       "      <td>0.000000</td>\n",
       "      <td>0.001</td>\n",
       "      <td>0.000</td>\n",
       "      <td>0.000</td>\n",
       "      <td>0.000</td>\n",
       "    </tr>\n",
       "    <tr>\n",
       "      <th>13</th>\n",
       "      <td>gene_model_hcontig_0000_03.14</td>\n",
       "      <td>2.050254</td>\n",
       "      <td>25.219664</td>\n",
       "      <td>0.000000</td>\n",
       "      <td>4.187793</td>\n",
       "      <td>4.029254</td>\n",
       "      <td>8.757987</td>\n",
       "      <td>0.051282</td>\n",
       "      <td>0.148995</td>\n",
       "      <td>0.032</td>\n",
       "      <td>...</td>\n",
       "      <td>0.032</td>\n",
       "      <td>0.098</td>\n",
       "      <td>0.034</td>\n",
       "      <td>0.121</td>\n",
       "      <td>0.000693</td>\n",
       "      <td>0.000000</td>\n",
       "      <td>0.000</td>\n",
       "      <td>0.000</td>\n",
       "      <td>0.000</td>\n",
       "      <td>0.000</td>\n",
       "    </tr>\n",
       "    <tr>\n",
       "      <th>14</th>\n",
       "      <td>gene_model_hcontig_0000_03.15</td>\n",
       "      <td>0.110116</td>\n",
       "      <td>32.706249</td>\n",
       "      <td>0.000000</td>\n",
       "      <td>4.991344</td>\n",
       "      <td>3.552745</td>\n",
       "      <td>0.240944</td>\n",
       "      <td>0.030792</td>\n",
       "      <td>0.109971</td>\n",
       "      <td>0.030</td>\n",
       "      <td>...</td>\n",
       "      <td>0.030</td>\n",
       "      <td>0.125</td>\n",
       "      <td>0.052</td>\n",
       "      <td>0.161</td>\n",
       "      <td>0.000000</td>\n",
       "      <td>0.000000</td>\n",
       "      <td>0.000</td>\n",
       "      <td>0.000</td>\n",
       "      <td>0.000</td>\n",
       "      <td>0.001</td>\n",
       "    </tr>\n",
       "    <tr>\n",
       "      <th>15</th>\n",
       "      <td>gene_model_hcontig_0000_03.16</td>\n",
       "      <td>0.000000</td>\n",
       "      <td>0.000000</td>\n",
       "      <td>0.000000</td>\n",
       "      <td>0.000000</td>\n",
       "      <td>0.000000</td>\n",
       "      <td>0.143115</td>\n",
       "      <td>0.043011</td>\n",
       "      <td>0.137634</td>\n",
       "      <td>0.044</td>\n",
       "      <td>...</td>\n",
       "      <td>0.044</td>\n",
       "      <td>0.147</td>\n",
       "      <td>0.042</td>\n",
       "      <td>0.141</td>\n",
       "      <td>0.000000</td>\n",
       "      <td>0.004301</td>\n",
       "      <td>0.000</td>\n",
       "      <td>0.003</td>\n",
       "      <td>0.003</td>\n",
       "      <td>0.004</td>\n",
       "    </tr>\n",
       "    <tr>\n",
       "      <th>16</th>\n",
       "      <td>gene_model_hcontig_0000_03.17</td>\n",
       "      <td>33.566947</td>\n",
       "      <td>14.088033</td>\n",
       "      <td>57.326366</td>\n",
       "      <td>16.673574</td>\n",
       "      <td>35.310838</td>\n",
       "      <td>44.752650</td>\n",
       "      <td>0.030565</td>\n",
       "      <td>0.072425</td>\n",
       "      <td>0.013</td>\n",
       "      <td>...</td>\n",
       "      <td>0.013</td>\n",
       "      <td>0.050</td>\n",
       "      <td>0.039</td>\n",
       "      <td>0.063</td>\n",
       "      <td>0.000000</td>\n",
       "      <td>0.000000</td>\n",
       "      <td>0.000</td>\n",
       "      <td>0.000</td>\n",
       "      <td>0.000</td>\n",
       "      <td>0.000</td>\n",
       "    </tr>\n",
       "    <tr>\n",
       "      <th>17</th>\n",
       "      <td>gene_model_hcontig_0000_03.18</td>\n",
       "      <td>35.344241</td>\n",
       "      <td>32.267829</td>\n",
       "      <td>0.000000</td>\n",
       "      <td>31.035428</td>\n",
       "      <td>40.736049</td>\n",
       "      <td>29.378411</td>\n",
       "      <td>0.031053</td>\n",
       "      <td>0.064737</td>\n",
       "      <td>0.025</td>\n",
       "      <td>...</td>\n",
       "      <td>0.025</td>\n",
       "      <td>0.074</td>\n",
       "      <td>0.015</td>\n",
       "      <td>0.033</td>\n",
       "      <td>0.000000</td>\n",
       "      <td>0.000000</td>\n",
       "      <td>0.000</td>\n",
       "      <td>0.000</td>\n",
       "      <td>0.000</td>\n",
       "      <td>0.000</td>\n",
       "    </tr>\n",
       "    <tr>\n",
       "      <th>18</th>\n",
       "      <td>gene_model_hcontig_0000_03.19</td>\n",
       "      <td>38.722015</td>\n",
       "      <td>27.233848</td>\n",
       "      <td>11.696595</td>\n",
       "      <td>73.615779</td>\n",
       "      <td>86.700539</td>\n",
       "      <td>45.552144</td>\n",
       "      <td>0.129096</td>\n",
       "      <td>0.111942</td>\n",
       "      <td>0.145</td>\n",
       "      <td>...</td>\n",
       "      <td>0.145</td>\n",
       "      <td>0.139</td>\n",
       "      <td>0.153</td>\n",
       "      <td>0.087</td>\n",
       "      <td>0.000000</td>\n",
       "      <td>0.000220</td>\n",
       "      <td>0.000</td>\n",
       "      <td>0.001</td>\n",
       "      <td>0.000</td>\n",
       "      <td>0.000</td>\n",
       "    </tr>\n",
       "    <tr>\n",
       "      <th>19</th>\n",
       "      <td>gene_model_hcontig_0000_03.20</td>\n",
       "      <td>23.033791</td>\n",
       "      <td>15.329237</td>\n",
       "      <td>0.000000</td>\n",
       "      <td>1.466196</td>\n",
       "      <td>55.934963</td>\n",
       "      <td>23.883455</td>\n",
       "      <td>0.087755</td>\n",
       "      <td>0.118367</td>\n",
       "      <td>0.136</td>\n",
       "      <td>...</td>\n",
       "      <td>0.136</td>\n",
       "      <td>0.089</td>\n",
       "      <td>0.065</td>\n",
       "      <td>0.096</td>\n",
       "      <td>0.000000</td>\n",
       "      <td>0.000000</td>\n",
       "      <td>0.000</td>\n",
       "      <td>0.000</td>\n",
       "      <td>0.000</td>\n",
       "      <td>0.000</td>\n",
       "    </tr>\n",
       "  </tbody>\n",
       "</table>\n",
       "<p>20 rows × 21 columns</p>\n",
       "</div>"
      ],
      "text/plain": [
       "                               gene_ID          GS          HE        IT0  \\\n",
       "0         gene_model_hcontig_0000_03.1    0.487427    0.000000   0.000000   \n",
       "1         gene_model_hcontig_0000_03.2    0.577405  144.208849   0.000000   \n",
       "2         gene_model_hcontig_0000_03.3  564.783136   52.086774  24.713948   \n",
       "3         gene_model_hcontig_0000_03.4    0.000000    0.167865   0.000000   \n",
       "4   EVM prediction%2hcontig_0000_003.5    0.000000    0.000000   0.000000   \n",
       "5   EVM prediction%2hcontig_0000_003.6    0.000000    0.000000   0.000000   \n",
       "6         gene_model_hcontig_0000_03.7   10.457924    0.176728   0.000000   \n",
       "7         gene_model_hcontig_0000_03.8    0.000000   31.659461   0.000000   \n",
       "8         gene_model_hcontig_0000_03.9    0.005005    0.000000   0.000000   \n",
       "9        gene_model_hcontig_0000_03.10    0.000000    0.000000   0.000000   \n",
       "10       gene_model_hcontig_0000_03.11    0.035380    0.179622   0.000000   \n",
       "11       gene_model_hcontig_0000_03.12   13.770215    3.301836   0.000000   \n",
       "12       gene_model_hcontig_0000_03.13   21.021169   45.222179   0.000000   \n",
       "13       gene_model_hcontig_0000_03.14    2.050254   25.219664   0.000000   \n",
       "14       gene_model_hcontig_0000_03.15    0.110116   32.706249   0.000000   \n",
       "15       gene_model_hcontig_0000_03.16    0.000000    0.000000   0.000000   \n",
       "16       gene_model_hcontig_0000_03.17   33.566947   14.088033  57.326366   \n",
       "17       gene_model_hcontig_0000_03.18   35.344241   32.267829   0.000000   \n",
       "18       gene_model_hcontig_0000_03.19   38.722015   27.233848  11.696595   \n",
       "19       gene_model_hcontig_0000_03.20   23.033791   15.329237   0.000000   \n",
       "\n",
       "            IT6         IT9          UG  5mC_gene_body_50  6mA_gene_body_50  \\\n",
       "0      0.000000    2.377196    0.384531          0.239374          0.147651   \n",
       "1   1016.181477  456.791691    0.446980          0.190050          0.110448   \n",
       "2    235.779282  239.133947  316.475087          0.172863          0.085502   \n",
       "3      0.115347    0.179739    0.000000          0.224765          0.177230   \n",
       "4      0.000000    0.000000    0.000000          0.127193          0.245614   \n",
       "5      0.000000    0.000000    0.000000          0.094044          0.228840   \n",
       "6      6.702920   25.139223   15.514397          0.233391          0.085500   \n",
       "7      0.511258    1.628921    0.000000          0.103114          0.231834   \n",
       "8      0.000000    0.000000    0.000000          0.097785          0.197861   \n",
       "9      0.000000    0.000000    0.000000          0.157534          0.058219   \n",
       "10     0.169025    1.570595    0.000000          0.183951          0.088889   \n",
       "11    29.075863   25.218225   10.467231          0.107350          0.148775   \n",
       "12    53.066090   51.005669   48.441891          0.196507          0.107424   \n",
       "13     4.187793    4.029254    8.757987          0.051282          0.148995   \n",
       "14     4.991344    3.552745    0.240944          0.030792          0.109971   \n",
       "15     0.000000    0.000000    0.143115          0.043011          0.137634   \n",
       "16    16.673574   35.310838   44.752650          0.030565          0.072425   \n",
       "17    31.035428   40.736049   29.378411          0.031053          0.064737   \n",
       "18    73.615779   86.700539   45.552144          0.129096          0.111942   \n",
       "19     1.466196   55.934963   23.883455          0.087755          0.118367   \n",
       "\n",
       "    5mC_upstream_50        ...          5mC_upstream_50  6mA_upstream_50  \\\n",
       "0             0.213        ...                    0.213            0.141   \n",
       "1             0.176        ...                    0.176            0.117   \n",
       "2             0.148        ...                    0.148            0.084   \n",
       "3             0.177        ...                    0.177            0.244   \n",
       "4             0.134        ...                    0.134            0.243   \n",
       "5             0.114        ...                    0.114            0.225   \n",
       "6             0.185        ...                    0.185            0.070   \n",
       "7             0.129        ...                    0.129            0.169   \n",
       "8             0.102        ...                    0.102            0.157   \n",
       "9             0.163        ...                    0.163            0.062   \n",
       "10            0.129        ...                    0.129            0.087   \n",
       "11            0.073        ...                    0.073            0.167   \n",
       "12            0.114        ...                    0.114            0.090   \n",
       "13            0.032        ...                    0.032            0.098   \n",
       "14            0.030        ...                    0.030            0.125   \n",
       "15            0.044        ...                    0.044            0.147   \n",
       "16            0.013        ...                    0.013            0.050   \n",
       "17            0.025        ...                    0.025            0.074   \n",
       "18            0.145        ...                    0.145            0.139   \n",
       "19            0.136        ...                    0.136            0.089   \n",
       "\n",
       "    5mC_downstream_50  6mA_downstream_50  5mC_gene_body_95  6mA_gene_body_95  \\\n",
       "0               0.165              0.100          0.105145          0.040268   \n",
       "1               0.152              0.141          0.000000          0.000000   \n",
       "2               0.159              0.094          0.000000          0.001859   \n",
       "3               0.130              0.240          0.001761          0.000587   \n",
       "4               0.109              0.242          0.000877          0.000877   \n",
       "5               0.121              0.170          0.001045          0.001045   \n",
       "6               0.189              0.070          0.000578          0.000000   \n",
       "7               0.107              0.201          0.000000          0.003460   \n",
       "8               0.088              0.182          0.000000          0.000764   \n",
       "9               0.192              0.091          0.000000          0.000000   \n",
       "10              0.101              0.113          0.000000          0.000000   \n",
       "11              0.031              0.129          0.000000          0.000445   \n",
       "12              0.127              0.086          0.000000          0.000000   \n",
       "13              0.034              0.121          0.000693          0.000000   \n",
       "14              0.052              0.161          0.000000          0.000000   \n",
       "15              0.042              0.141          0.000000          0.004301   \n",
       "16              0.039              0.063          0.000000          0.000000   \n",
       "17              0.015              0.033          0.000000          0.000000   \n",
       "18              0.153              0.087          0.000000          0.000220   \n",
       "19              0.065              0.096          0.000000          0.000000   \n",
       "\n",
       "    5mC_upstream_95  6mA_upstream_95  5mC_downstream_95  6mA_downstream_95  \n",
       "0             0.124            0.034              0.043              0.007  \n",
       "1             0.001            0.000              0.000              0.002  \n",
       "2             0.000            0.001              0.000              0.000  \n",
       "3             0.003            0.009              0.000              0.003  \n",
       "4             0.000            0.003              0.000              0.003  \n",
       "5             0.000            0.005              0.000              0.000  \n",
       "6             0.000            0.000              0.000              0.000  \n",
       "7             0.000            0.000              0.000              0.005  \n",
       "8             0.000            0.006              0.000              0.000  \n",
       "9             0.000            0.000              0.000              0.000  \n",
       "10            0.000            0.000              0.000              0.000  \n",
       "11            0.000            0.001              0.000              0.000  \n",
       "12            0.001            0.000              0.000              0.000  \n",
       "13            0.000            0.000              0.000              0.000  \n",
       "14            0.000            0.000              0.000              0.001  \n",
       "15            0.000            0.003              0.003              0.004  \n",
       "16            0.000            0.000              0.000              0.000  \n",
       "17            0.000            0.000              0.000              0.000  \n",
       "18            0.000            0.001              0.000              0.000  \n",
       "19            0.000            0.000              0.000              0.000  \n",
       "\n",
       "[20 rows x 21 columns]"
      ]
     },
     "execution_count": 156,
     "metadata": {},
     "output_type": "execute_result"
    }
   ],
   "source": [
    "h_contig_df.head(n=20)\n"
   ]
  },
  {
   "cell_type": "code",
   "execution_count": 68,
   "metadata": {},
   "outputs": [],
   "source": [
    "df = methyl_df_dict['Pst_104E_v12_h_busco.gene.5mC_hc_tombo_sorted.cutoff.0.50.overlap.bed'].head(n=10).copy()"
   ]
  },
  {
   "cell_type": "code",
   "execution_count": null,
   "metadata": {},
   "outputs": [],
   "source": []
  },
  {
   "cell_type": "code",
   "execution_count": 84,
   "metadata": {},
   "outputs": [
    {
     "name": "stdout",
     "output_type": "stream",
     "text": [
      "hcontig_000_003.12\n",
      "contig_000_003.126\n",
      "contig_000_003.174\n",
      "contig_000_003.180\n",
      "hcontig_000_003.19\n",
      "contig_000_003.192\n",
      "contig_000_003.215\n",
      "contig_000_003.224\n",
      "contig_000_003.230\n",
      "contig_000_003.232\n"
     ]
    }
   ],
   "source": [
    "for index, row in df.iterrows():\n",
    "    print(row['gene_ID'][-18:])"
   ]
  },
  {
   "cell_type": "code",
   "execution_count": 85,
   "metadata": {},
   "outputs": [],
   "source": [
    "for index, row in df.iterrows():\n",
    "    for index2, row2 in df2.iterrows():\n",
    "        if row['gene_ID'][-18:] == row2['gene_ID'][-18:]:\n",
    "            print(row)"
   ]
  },
  {
   "cell_type": "code",
   "execution_count": 69,
   "metadata": {},
   "outputs": [
    {
     "data": {
      "text/html": [
       "<div>\n",
       "<style scoped>\n",
       "    .dataframe tbody tr th:only-of-type {\n",
       "        vertical-align: middle;\n",
       "    }\n",
       "\n",
       "    .dataframe tbody tr th {\n",
       "        vertical-align: top;\n",
       "    }\n",
       "\n",
       "    .dataframe thead th {\n",
       "        text-align: right;\n",
       "    }\n",
       "</style>\n",
       "<table border=\"1\" class=\"dataframe\">\n",
       "  <thead>\n",
       "    <tr style=\"text-align: right;\">\n",
       "      <th></th>\n",
       "      <th>gene_ID</th>\n",
       "      <th>overlap_fraction</th>\n",
       "    </tr>\n",
       "  </thead>\n",
       "  <tbody>\n",
       "    <tr>\n",
       "      <th>0</th>\n",
       "      <td>evm.TU.hcontig_000_003.12</td>\n",
       "      <td>0.107398</td>\n",
       "    </tr>\n",
       "    <tr>\n",
       "      <th>6</th>\n",
       "      <td>evm.TU.hcontig_000_003.126</td>\n",
       "      <td>0.125555</td>\n",
       "    </tr>\n",
       "    <tr>\n",
       "      <th>7</th>\n",
       "      <td>evm.TU.hcontig_000_003.174</td>\n",
       "      <td>0.129668</td>\n",
       "    </tr>\n",
       "    <tr>\n",
       "      <th>8</th>\n",
       "      <td>evm.TU.hcontig_000_003.180</td>\n",
       "      <td>0.117452</td>\n",
       "    </tr>\n",
       "    <tr>\n",
       "      <th>1</th>\n",
       "      <td>evm.TU.hcontig_000_003.19</td>\n",
       "      <td>0.129124</td>\n",
       "    </tr>\n",
       "    <tr>\n",
       "      <th>9</th>\n",
       "      <td>evm.TU.hcontig_000_003.192</td>\n",
       "      <td>0.126277</td>\n",
       "    </tr>\n",
       "    <tr>\n",
       "      <th>10</th>\n",
       "      <td>evm.TU.hcontig_000_003.215</td>\n",
       "      <td>0.102068</td>\n",
       "    </tr>\n",
       "    <tr>\n",
       "      <th>11</th>\n",
       "      <td>evm.TU.hcontig_000_003.224</td>\n",
       "      <td>0.145331</td>\n",
       "    </tr>\n",
       "    <tr>\n",
       "      <th>12</th>\n",
       "      <td>evm.TU.hcontig_000_003.230</td>\n",
       "      <td>0.070237</td>\n",
       "    </tr>\n",
       "    <tr>\n",
       "      <th>13</th>\n",
       "      <td>evm.TU.hcontig_000_003.232</td>\n",
       "      <td>0.023362</td>\n",
       "    </tr>\n",
       "  </tbody>\n",
       "</table>\n",
       "</div>"
      ],
      "text/plain": [
       "                       gene_ID  overlap_fraction\n",
       "0    evm.TU.hcontig_000_003.12          0.107398\n",
       "6   evm.TU.hcontig_000_003.126          0.125555\n",
       "7   evm.TU.hcontig_000_003.174          0.129668\n",
       "8   evm.TU.hcontig_000_003.180          0.117452\n",
       "1    evm.TU.hcontig_000_003.19          0.129124\n",
       "9   evm.TU.hcontig_000_003.192          0.126277\n",
       "10  evm.TU.hcontig_000_003.215          0.102068\n",
       "11  evm.TU.hcontig_000_003.224          0.145331\n",
       "12  evm.TU.hcontig_000_003.230          0.070237\n",
       "13  evm.TU.hcontig_000_003.232          0.023362"
      ]
     },
     "execution_count": 69,
     "metadata": {},
     "output_type": "execute_result"
    }
   ],
   "source": [
    "df"
   ]
  },
  {
   "cell_type": "code",
   "execution_count": 76,
   "metadata": {},
   "outputs": [],
   "source": [
    "df2 = rnaseq_ug_sorted_dict['Pst_104E_v13_h_gene_rpkm_average.UG.sorted.tsv'].copy()"
   ]
  },
  {
   "cell_type": "code",
   "execution_count": 77,
   "metadata": {
    "collapsed": true
   },
   "outputs": [
    {
     "data": {
      "text/html": [
       "<div>\n",
       "<style scoped>\n",
       "    .dataframe tbody tr th:only-of-type {\n",
       "        vertical-align: middle;\n",
       "    }\n",
       "\n",
       "    .dataframe tbody tr th {\n",
       "        vertical-align: top;\n",
       "    }\n",
       "\n",
       "    .dataframe thead th {\n",
       "        text-align: right;\n",
       "    }\n",
       "</style>\n",
       "<table border=\"1\" class=\"dataframe\">\n",
       "  <thead>\n",
       "    <tr style=\"text-align: right;\">\n",
       "      <th></th>\n",
       "      <th>gene_ID</th>\n",
       "      <th>UG</th>\n",
       "    </tr>\n",
       "  </thead>\n",
       "  <tbody>\n",
       "    <tr>\n",
       "      <th>10460</th>\n",
       "      <td>EVM prediction%2hcontig_0000_003.100</td>\n",
       "      <td>0.022781</td>\n",
       "    </tr>\n",
       "    <tr>\n",
       "      <th>12388</th>\n",
       "      <td>EVM prediction%2hcontig_0000_003.102</td>\n",
       "      <td>0.000000</td>\n",
       "    </tr>\n",
       "    <tr>\n",
       "      <th>12244</th>\n",
       "      <td>EVM prediction%2hcontig_0000_003.113</td>\n",
       "      <td>0.000000</td>\n",
       "    </tr>\n",
       "    <tr>\n",
       "      <th>9138</th>\n",
       "      <td>EVM prediction%2hcontig_0000_003.114</td>\n",
       "      <td>0.105109</td>\n",
       "    </tr>\n",
       "    <tr>\n",
       "      <th>12245</th>\n",
       "      <td>EVM prediction%2hcontig_0000_003.115</td>\n",
       "      <td>0.000000</td>\n",
       "    </tr>\n",
       "    <tr>\n",
       "      <th>12254</th>\n",
       "      <td>EVM prediction%2hcontig_0000_003.128</td>\n",
       "      <td>0.000000</td>\n",
       "    </tr>\n",
       "    <tr>\n",
       "      <th>12255</th>\n",
       "      <td>EVM prediction%2hcontig_0000_003.129</td>\n",
       "      <td>0.000000</td>\n",
       "    </tr>\n",
       "    <tr>\n",
       "      <th>12256</th>\n",
       "      <td>EVM prediction%2hcontig_0000_003.130</td>\n",
       "      <td>0.000000</td>\n",
       "    </tr>\n",
       "    <tr>\n",
       "      <th>10231</th>\n",
       "      <td>EVM prediction%2hcontig_0000_003.132</td>\n",
       "      <td>0.030820</td>\n",
       "    </tr>\n",
       "    <tr>\n",
       "      <th>12259</th>\n",
       "      <td>EVM prediction%2hcontig_0000_003.134</td>\n",
       "      <td>0.000000</td>\n",
       "    </tr>\n",
       "    <tr>\n",
       "      <th>7555</th>\n",
       "      <td>EVM prediction%2hcontig_0000_003.136</td>\n",
       "      <td>0.772965</td>\n",
       "    </tr>\n",
       "    <tr>\n",
       "      <th>12233</th>\n",
       "      <td>EVM prediction%2hcontig_0000_003.140</td>\n",
       "      <td>0.000000</td>\n",
       "    </tr>\n",
       "    <tr>\n",
       "      <th>12210</th>\n",
       "      <td>EVM prediction%2hcontig_0000_003.141</td>\n",
       "      <td>0.000000</td>\n",
       "    </tr>\n",
       "    <tr>\n",
       "      <th>9634</th>\n",
       "      <td>EVM prediction%2hcontig_0000_003.143</td>\n",
       "      <td>0.060434</td>\n",
       "    </tr>\n",
       "    <tr>\n",
       "      <th>12215</th>\n",
       "      <td>EVM prediction%2hcontig_0000_003.161</td>\n",
       "      <td>0.000000</td>\n",
       "    </tr>\n",
       "    <tr>\n",
       "      <th>12216</th>\n",
       "      <td>EVM prediction%2hcontig_0000_003.166</td>\n",
       "      <td>0.000000</td>\n",
       "    </tr>\n",
       "    <tr>\n",
       "      <th>5789</th>\n",
       "      <td>EVM prediction%2hcontig_0000_003.167</td>\n",
       "      <td>5.955338</td>\n",
       "    </tr>\n",
       "    <tr>\n",
       "      <th>9750</th>\n",
       "      <td>EVM prediction%2hcontig_0000_003.168</td>\n",
       "      <td>0.053176</td>\n",
       "    </tr>\n",
       "    <tr>\n",
       "      <th>12217</th>\n",
       "      <td>EVM prediction%2hcontig_0000_003.169</td>\n",
       "      <td>0.000000</td>\n",
       "    </tr>\n",
       "    <tr>\n",
       "      <th>12219</th>\n",
       "      <td>EVM prediction%2hcontig_0000_003.171</td>\n",
       "      <td>0.000000</td>\n",
       "    </tr>\n",
       "    <tr>\n",
       "      <th>12220</th>\n",
       "      <td>EVM prediction%2hcontig_0000_003.172</td>\n",
       "      <td>0.000000</td>\n",
       "    </tr>\n",
       "    <tr>\n",
       "      <th>12221</th>\n",
       "      <td>EVM prediction%2hcontig_0000_003.173</td>\n",
       "      <td>0.000000</td>\n",
       "    </tr>\n",
       "    <tr>\n",
       "      <th>12226</th>\n",
       "      <td>EVM prediction%2hcontig_0000_003.179</td>\n",
       "      <td>0.000000</td>\n",
       "    </tr>\n",
       "    <tr>\n",
       "      <th>12260</th>\n",
       "      <td>EVM prediction%2hcontig_0000_003.197</td>\n",
       "      <td>0.000000</td>\n",
       "    </tr>\n",
       "    <tr>\n",
       "      <th>12363</th>\n",
       "      <td>EVM prediction%2hcontig_0000_003.21</td>\n",
       "      <td>0.000000</td>\n",
       "    </tr>\n",
       "    <tr>\n",
       "      <th>12364</th>\n",
       "      <td>EVM prediction%2hcontig_0000_003.22</td>\n",
       "      <td>0.000000</td>\n",
       "    </tr>\n",
       "    <tr>\n",
       "      <th>12290</th>\n",
       "      <td>EVM prediction%2hcontig_0000_003.247</td>\n",
       "      <td>0.000000</td>\n",
       "    </tr>\n",
       "    <tr>\n",
       "      <th>12301</th>\n",
       "      <td>EVM prediction%2hcontig_0000_003.248</td>\n",
       "      <td>0.000000</td>\n",
       "    </tr>\n",
       "    <tr>\n",
       "      <th>12318</th>\n",
       "      <td>EVM prediction%2hcontig_0000_003.25</td>\n",
       "      <td>0.000000</td>\n",
       "    </tr>\n",
       "    <tr>\n",
       "      <th>10690</th>\n",
       "      <td>EVM prediction%2hcontig_0000_003.251</td>\n",
       "      <td>0.015252</td>\n",
       "    </tr>\n",
       "    <tr>\n",
       "      <th>...</th>\n",
       "      <td>...</td>\n",
       "      <td>...</td>\n",
       "    </tr>\n",
       "    <tr>\n",
       "      <th>3852</th>\n",
       "      <td>gene_model_hcontig_072_099.25</td>\n",
       "      <td>19.704406</td>\n",
       "    </tr>\n",
       "    <tr>\n",
       "      <th>7006</th>\n",
       "      <td>gene_model_hcontig_072_099.26</td>\n",
       "      <td>1.540381</td>\n",
       "    </tr>\n",
       "    <tr>\n",
       "      <th>7215</th>\n",
       "      <td>gene_model_hcontig_072_099.27</td>\n",
       "      <td>1.168581</td>\n",
       "    </tr>\n",
       "    <tr>\n",
       "      <th>11891</th>\n",
       "      <td>gene_model_hcontig_072_099.28</td>\n",
       "      <td>0.000000</td>\n",
       "    </tr>\n",
       "    <tr>\n",
       "      <th>11890</th>\n",
       "      <td>gene_model_hcontig_072_099.29</td>\n",
       "      <td>0.000000</td>\n",
       "    </tr>\n",
       "    <tr>\n",
       "      <th>11940</th>\n",
       "      <td>gene_model_hcontig_072_099.3</td>\n",
       "      <td>0.000000</td>\n",
       "    </tr>\n",
       "    <tr>\n",
       "      <th>11911</th>\n",
       "      <td>gene_model_hcontig_072_099.5</td>\n",
       "      <td>0.000000</td>\n",
       "    </tr>\n",
       "    <tr>\n",
       "      <th>11910</th>\n",
       "      <td>gene_model_hcontig_072_099.6</td>\n",
       "      <td>0.000000</td>\n",
       "    </tr>\n",
       "    <tr>\n",
       "      <th>11909</th>\n",
       "      <td>gene_model_hcontig_072_099.7</td>\n",
       "      <td>0.000000</td>\n",
       "    </tr>\n",
       "    <tr>\n",
       "      <th>6449</th>\n",
       "      <td>gene_model_hcontig_083_167.3</td>\n",
       "      <td>3.119903</td>\n",
       "    </tr>\n",
       "    <tr>\n",
       "      <th>6880</th>\n",
       "      <td>gene_model_hcontig_083_167.4</td>\n",
       "      <td>1.791100</td>\n",
       "    </tr>\n",
       "    <tr>\n",
       "      <th>8141</th>\n",
       "      <td>gene_model_hcontig_083_167.5</td>\n",
       "      <td>0.364971</td>\n",
       "    </tr>\n",
       "    <tr>\n",
       "      <th>7275</th>\n",
       "      <td>gene_model_hcontig_083_167.6</td>\n",
       "      <td>1.096732</td>\n",
       "    </tr>\n",
       "    <tr>\n",
       "      <th>12543</th>\n",
       "      <td>gene_model_hcontig_083_167.7</td>\n",
       "      <td>0.000000</td>\n",
       "    </tr>\n",
       "    <tr>\n",
       "      <th>12240</th>\n",
       "      <td>gene_model_hcontig_095_133.1</td>\n",
       "      <td>0.000000</td>\n",
       "    </tr>\n",
       "    <tr>\n",
       "      <th>10142</th>\n",
       "      <td>gene_model_hcontig_095_133.12</td>\n",
       "      <td>0.033866</td>\n",
       "    </tr>\n",
       "    <tr>\n",
       "      <th>6169</th>\n",
       "      <td>gene_model_hcontig_095_133.15</td>\n",
       "      <td>4.168608</td>\n",
       "    </tr>\n",
       "    <tr>\n",
       "      <th>3898</th>\n",
       "      <td>gene_model_hcontig_095_133.16</td>\n",
       "      <td>19.358889</td>\n",
       "    </tr>\n",
       "    <tr>\n",
       "      <th>1039</th>\n",
       "      <td>gene_model_hcontig_095_133.17</td>\n",
       "      <td>93.097530</td>\n",
       "    </tr>\n",
       "    <tr>\n",
       "      <th>1629</th>\n",
       "      <td>gene_model_hcontig_095_133.18</td>\n",
       "      <td>57.941623</td>\n",
       "    </tr>\n",
       "    <tr>\n",
       "      <th>12387</th>\n",
       "      <td>gene_model_hcontig_095_133.19</td>\n",
       "      <td>0.000000</td>\n",
       "    </tr>\n",
       "    <tr>\n",
       "      <th>12239</th>\n",
       "      <td>gene_model_hcontig_095_133.2</td>\n",
       "      <td>0.000000</td>\n",
       "    </tr>\n",
       "    <tr>\n",
       "      <th>12384</th>\n",
       "      <td>gene_model_hcontig_095_133.22</td>\n",
       "      <td>0.000000</td>\n",
       "    </tr>\n",
       "    <tr>\n",
       "      <th>12238</th>\n",
       "      <td>gene_model_hcontig_095_133.3</td>\n",
       "      <td>0.000000</td>\n",
       "    </tr>\n",
       "    <tr>\n",
       "      <th>12237</th>\n",
       "      <td>gene_model_hcontig_095_133.4</td>\n",
       "      <td>0.000000</td>\n",
       "    </tr>\n",
       "    <tr>\n",
       "      <th>12313</th>\n",
       "      <td>gene_model_hcontig_095_133.5</td>\n",
       "      <td>0.000000</td>\n",
       "    </tr>\n",
       "    <tr>\n",
       "      <th>8657</th>\n",
       "      <td>gene_model_hcontig_095_133.6</td>\n",
       "      <td>0.186234</td>\n",
       "    </tr>\n",
       "    <tr>\n",
       "      <th>12235</th>\n",
       "      <td>gene_model_hcontig_095_133.7</td>\n",
       "      <td>0.000000</td>\n",
       "    </tr>\n",
       "    <tr>\n",
       "      <th>12314</th>\n",
       "      <td>gene_model_hcontig_095_133.8</td>\n",
       "      <td>0.000000</td>\n",
       "    </tr>\n",
       "    <tr>\n",
       "      <th>12342</th>\n",
       "      <td>gene_model_hcontig_095_133.9</td>\n",
       "      <td>0.000000</td>\n",
       "    </tr>\n",
       "  </tbody>\n",
       "</table>\n",
       "<p>17199 rows × 2 columns</p>\n",
       "</div>"
      ],
      "text/plain": [
       "                                    gene_ID         UG\n",
       "10460  EVM prediction%2hcontig_0000_003.100   0.022781\n",
       "12388  EVM prediction%2hcontig_0000_003.102   0.000000\n",
       "12244  EVM prediction%2hcontig_0000_003.113   0.000000\n",
       "9138   EVM prediction%2hcontig_0000_003.114   0.105109\n",
       "12245  EVM prediction%2hcontig_0000_003.115   0.000000\n",
       "12254  EVM prediction%2hcontig_0000_003.128   0.000000\n",
       "12255  EVM prediction%2hcontig_0000_003.129   0.000000\n",
       "12256  EVM prediction%2hcontig_0000_003.130   0.000000\n",
       "10231  EVM prediction%2hcontig_0000_003.132   0.030820\n",
       "12259  EVM prediction%2hcontig_0000_003.134   0.000000\n",
       "7555   EVM prediction%2hcontig_0000_003.136   0.772965\n",
       "12233  EVM prediction%2hcontig_0000_003.140   0.000000\n",
       "12210  EVM prediction%2hcontig_0000_003.141   0.000000\n",
       "9634   EVM prediction%2hcontig_0000_003.143   0.060434\n",
       "12215  EVM prediction%2hcontig_0000_003.161   0.000000\n",
       "12216  EVM prediction%2hcontig_0000_003.166   0.000000\n",
       "5789   EVM prediction%2hcontig_0000_003.167   5.955338\n",
       "9750   EVM prediction%2hcontig_0000_003.168   0.053176\n",
       "12217  EVM prediction%2hcontig_0000_003.169   0.000000\n",
       "12219  EVM prediction%2hcontig_0000_003.171   0.000000\n",
       "12220  EVM prediction%2hcontig_0000_003.172   0.000000\n",
       "12221  EVM prediction%2hcontig_0000_003.173   0.000000\n",
       "12226  EVM prediction%2hcontig_0000_003.179   0.000000\n",
       "12260  EVM prediction%2hcontig_0000_003.197   0.000000\n",
       "12363   EVM prediction%2hcontig_0000_003.21   0.000000\n",
       "12364   EVM prediction%2hcontig_0000_003.22   0.000000\n",
       "12290  EVM prediction%2hcontig_0000_003.247   0.000000\n",
       "12301  EVM prediction%2hcontig_0000_003.248   0.000000\n",
       "12318   EVM prediction%2hcontig_0000_003.25   0.000000\n",
       "10690  EVM prediction%2hcontig_0000_003.251   0.015252\n",
       "...                                     ...        ...\n",
       "3852          gene_model_hcontig_072_099.25  19.704406\n",
       "7006          gene_model_hcontig_072_099.26   1.540381\n",
       "7215          gene_model_hcontig_072_099.27   1.168581\n",
       "11891         gene_model_hcontig_072_099.28   0.000000\n",
       "11890         gene_model_hcontig_072_099.29   0.000000\n",
       "11940          gene_model_hcontig_072_099.3   0.000000\n",
       "11911          gene_model_hcontig_072_099.5   0.000000\n",
       "11910          gene_model_hcontig_072_099.6   0.000000\n",
       "11909          gene_model_hcontig_072_099.7   0.000000\n",
       "6449           gene_model_hcontig_083_167.3   3.119903\n",
       "6880           gene_model_hcontig_083_167.4   1.791100\n",
       "8141           gene_model_hcontig_083_167.5   0.364971\n",
       "7275           gene_model_hcontig_083_167.6   1.096732\n",
       "12543          gene_model_hcontig_083_167.7   0.000000\n",
       "12240          gene_model_hcontig_095_133.1   0.000000\n",
       "10142         gene_model_hcontig_095_133.12   0.033866\n",
       "6169          gene_model_hcontig_095_133.15   4.168608\n",
       "3898          gene_model_hcontig_095_133.16  19.358889\n",
       "1039          gene_model_hcontig_095_133.17  93.097530\n",
       "1629          gene_model_hcontig_095_133.18  57.941623\n",
       "12387         gene_model_hcontig_095_133.19   0.000000\n",
       "12239          gene_model_hcontig_095_133.2   0.000000\n",
       "12384         gene_model_hcontig_095_133.22   0.000000\n",
       "12238          gene_model_hcontig_095_133.3   0.000000\n",
       "12237          gene_model_hcontig_095_133.4   0.000000\n",
       "12313          gene_model_hcontig_095_133.5   0.000000\n",
       "8657           gene_model_hcontig_095_133.6   0.186234\n",
       "12235          gene_model_hcontig_095_133.7   0.000000\n",
       "12314          gene_model_hcontig_095_133.8   0.000000\n",
       "12342          gene_model_hcontig_095_133.9   0.000000\n",
       "\n",
       "[17199 rows x 2 columns]"
      ]
     },
     "execution_count": 77,
     "metadata": {},
     "output_type": "execute_result"
    }
   ],
   "source": [
    "df2"
   ]
  },
  {
   "cell_type": "code",
   "execution_count": null,
   "metadata": {},
   "outputs": [],
   "source": []
  },
  {
   "cell_type": "code",
   "execution_count": null,
   "metadata": {},
   "outputs": [],
   "source": []
  },
  {
   "cell_type": "code",
   "execution_count": null,
   "metadata": {},
   "outputs": [],
   "source": []
  },
  {
   "cell_type": "code",
   "execution_count": null,
   "metadata": {},
   "outputs": [],
   "source": [
    "# make big dataframe\n",
    "# columns = gene_ID, expression, methylation in , upstream, downstream, both up down\n",
    "# boxplot of distribution"
   ]
  },
  {
   "cell_type": "code",
   "execution_count": null,
   "metadata": {},
   "outputs": [],
   "source": []
  },
  {
   "cell_type": "code",
   "execution_count": null,
   "metadata": {},
   "outputs": [],
   "source": []
  },
  {
   "cell_type": "code",
   "execution_count": null,
   "metadata": {},
   "outputs": [],
   "source": [
    "# redoing stuff"
   ]
  },
  {
   "cell_type": "code",
   "execution_count": 16,
   "metadata": {},
   "outputs": [],
   "source": [
    "headings = ['contig', 'start', 'stop', 'name', 'overlap_count', 'overlap_fraction']"
   ]
  },
  {
   "cell_type": "code",
   "execution_count": 20,
   "metadata": {},
   "outputs": [],
   "source": [
    "fn_list = ['/home/anjuni/analysis/coverage/gene_level/gene_coverage/old/Pst_104E_v13_h_ctg_combined_sorted_anno.5mC_hc_tombo_sorted.cutoff.0.00.overlap.bed', \\\n",
    "          '/home/anjuni/analysis/coverage/gene_level/gene_coverage/old/Pst_104E_v13_h_ctg_combined_sorted_anno.6mA_hc_tombo_sorted.cutoff.0.00.overlap.bed', \\\n",
    "           '/home/anjuni/analysis/coverage/gene_level/gene_coverage/old/Pst_104E_v13_p_ctg_combined_sorted_anno.5mC_hc_tombo_sorted.cutoff.0.00.overlap.bed', \\\n",
    "          '/home/anjuni/analysis/coverage/gene_level/gene_coverage/old/Pst_104E_v13_p_ctg_combined_sorted_anno.6mA_hc_tombo_sorted.cutoff.0.00.overlap.bed']"
   ]
  },
  {
   "cell_type": "code",
   "execution_count": 21,
   "metadata": {},
   "outputs": [],
   "source": [
    "gene_fn_dict = {}\n",
    "for fn in fn_list:\n",
    "    df = pd.read_csv(fn, sep='\\t', header=None, names=headings).iloc[:,[3,5]]\n",
    "    gene_fn_dict[fn.split('/')[-1]] = df"
   ]
  },
  {
   "cell_type": "code",
   "execution_count": 22,
   "metadata": {},
   "outputs": [
    {
     "name": "stdout",
     "output_type": "stream",
     "text": [
      "Pst_104E_v13_h_ctg_combined_sorted_anno.5mC_hc_tombo_sorted.cutoff.0.00.overlap.bed\n",
      "Pst_104E_v13_h_ctg_combined_sorted_anno.6mA_hc_tombo_sorted.cutoff.0.00.overlap.bed\n",
      "Pst_104E_v13_p_ctg_combined_sorted_anno.5mC_hc_tombo_sorted.cutoff.0.00.overlap.bed\n",
      "Pst_104E_v13_p_ctg_combined_sorted_anno.6mA_hc_tombo_sorted.cutoff.0.00.overlap.bed\n"
     ]
    }
   ],
   "source": [
    "print(*gene_fn_dict, sep = '\\n')"
   ]
  },
  {
   "cell_type": "code",
   "execution_count": 25,
   "metadata": {
    "scrolled": true
   },
   "outputs": [],
   "source": [
    "gene_fraction_dict = order_methyl_overlap(gene_fn_dict)"
   ]
  },
  {
   "cell_type": "code",
   "execution_count": 26,
   "metadata": {},
   "outputs": [
    {
     "name": "stdout",
     "output_type": "stream",
     "text": [
      "Pst_104E_v13_h_ctg_combined_sorted_anno.5mC_hc_tombo_sorted.cutoff.0.00.overlap.bed\n",
      "Pst_104E_v13_h_ctg_combined_sorted_anno.6mA_hc_tombo_sorted.cutoff.0.00.overlap.bed\n",
      "Pst_104E_v13_p_ctg_combined_sorted_anno.5mC_hc_tombo_sorted.cutoff.0.00.overlap.bed\n",
      "Pst_104E_v13_p_ctg_combined_sorted_anno.6mA_hc_tombo_sorted.cutoff.0.00.overlap.bed\n"
     ]
    }
   ],
   "source": [
    "print(*gene_fraction_dict, sep = '\\n')"
   ]
  },
  {
   "cell_type": "code",
   "execution_count": 28,
   "metadata": {},
   "outputs": [],
   "source": [
    "df = pd.read_csv('/home/anjuni/analysis/coverage/gene_level/gene_coverage/old/Pst_104E_v13_h_ctg_combined_sorted_anno.5mC_hc_tombo_sorted.cutoff.0.00.overlap.bed', sep='\\t', header=None, names=headings).iloc[:,[3,5]]"
   ]
  },
  {
   "cell_type": "code",
   "execution_count": 29,
   "metadata": {},
   "outputs": [
    {
     "data": {
      "text/html": [
       "<div>\n",
       "<style scoped>\n",
       "    .dataframe tbody tr th:only-of-type {\n",
       "        vertical-align: middle;\n",
       "    }\n",
       "\n",
       "    .dataframe tbody tr th {\n",
       "        vertical-align: top;\n",
       "    }\n",
       "\n",
       "    .dataframe thead th {\n",
       "        text-align: right;\n",
       "    }\n",
       "</style>\n",
       "<table border=\"1\" class=\"dataframe\">\n",
       "  <thead>\n",
       "    <tr style=\"text-align: right;\">\n",
       "      <th></th>\n",
       "      <th>name</th>\n",
       "      <th>overlap_fraction</th>\n",
       "    </tr>\n",
       "  </thead>\n",
       "  <tbody>\n",
       "    <tr>\n",
       "      <th>0</th>\n",
       "      <td>gene_model_hcontig_0000_03.1</td>\n",
       "      <td>0.261745</td>\n",
       "    </tr>\n",
       "    <tr>\n",
       "      <th>1</th>\n",
       "      <td>gene_model_hcontig_0000_03.2</td>\n",
       "      <td>0.296517</td>\n",
       "    </tr>\n",
       "    <tr>\n",
       "      <th>2</th>\n",
       "      <td>gene_model_hcontig_0000_03.3</td>\n",
       "      <td>0.310409</td>\n",
       "    </tr>\n",
       "    <tr>\n",
       "      <th>3</th>\n",
       "      <td>gene_model_hcontig_0000_03.4</td>\n",
       "      <td>0.288145</td>\n",
       "    </tr>\n",
       "    <tr>\n",
       "      <th>4</th>\n",
       "      <td>EVM prediction%2hcontig_0000_003.5</td>\n",
       "      <td>0.190351</td>\n",
       "    </tr>\n",
       "  </tbody>\n",
       "</table>\n",
       "</div>"
      ],
      "text/plain": [
       "                                 name  overlap_fraction\n",
       "0        gene_model_hcontig_0000_03.1          0.261745\n",
       "1        gene_model_hcontig_0000_03.2          0.296517\n",
       "2        gene_model_hcontig_0000_03.3          0.310409\n",
       "3        gene_model_hcontig_0000_03.4          0.288145\n",
       "4  EVM prediction%2hcontig_0000_003.5          0.190351"
      ]
     },
     "execution_count": 29,
     "metadata": {},
     "output_type": "execute_result"
    }
   ],
   "source": [
    "df.head()"
   ]
  },
  {
   "cell_type": "code",
   "execution_count": 24,
   "metadata": {},
   "outputs": [],
   "source": [
    "def order_methyl_overlap(feature_overlap_df_dict):\n",
    "    \"\"\"This is a function to slice and order the methylation overlap fraction file for use in Spearman's test.\"\"\"\n",
    "    fraction_df_dict = {}\n",
    "    for key, value in feature_overlap_df_dict.items():\n",
    "        df = value.loc[:,['name', 'overlap_fraction']].sort_values('name', ascending=True)\n",
    "        fraction_df_dict[key] = df\n",
    "    return fraction_df_dict"
   ]
  },
  {
   "cell_type": "code",
   "execution_count": null,
   "metadata": {},
   "outputs": [],
   "source": [
    "# Order methylation fraction files into a useable format\n",
    "tss_fraction_dict = order_methyl_overlap(tss_overlap_dict)\n",
    "gene_fraction_dict = order_methyl_overlap(gene_methyl_overlap_dict)\n",
    "upstream_fraction_dict = order_methyl_overlap(upstream_coverage_dict)\n",
    "downstream_fraction_dict = order_methyl_overlap(downstream_coverage_dict)\n",
    "# both_u_d_fraction_dict = order_methyl_overlap(both_u_d_coverage_dict) # ignore this one for now"
   ]
  },
  {
   "cell_type": "code",
   "execution_count": 34,
   "metadata": {},
   "outputs": [],
   "source": [
    "def spearman_r(obs_df_dict, exp_df_dict, obs_slice, exp_slice):\n",
    "    \"\"\"This function returns a dictionary of spearman's R statistic and p-value for a test of observed and expected sites.\"\"\"\n",
    "    spearmanr_dict = {}\n",
    "    for okey, ovalue in obs_df_dict.items():\n",
    "        for ekey, evalue in exp_df_dict.items():\n",
    "            if okey[:obs_slice] == ekey[:exp_slice] and len(ovalue) == len(evalue):\n",
    "                o_df = ovalue\n",
    "                e_df = evalue\n",
    "                obs = o_df['overlap_fraction']\n",
    "                exp = e_df['UG']\n",
    "                stat, p = spearmanr(obs, exp)\n",
    "                spearmanr_dict[okey] = stat, p\n",
    "    return spearmanr_dict"
   ]
  },
  {
   "cell_type": "code",
   "execution_count": 35,
   "metadata": {},
   "outputs": [],
   "source": [
    "ug_spearman_dict = spearman_r(gene_fraction_dict, rnaseq_ug_sorted_dict, 15, 15)"
   ]
  },
  {
   "cell_type": "code",
   "execution_count": 36,
   "metadata": {},
   "outputs": [
    {
     "data": {
      "text/plain": [
       "{'Pst_104E_v13_h_ctg_combined_sorted_anno.5mC_hc_tombo_sorted.cutoff.0.00.overlap.bed': (-0.021767295261254253,\n",
       "  0.004306370088455146),\n",
       " 'Pst_104E_v13_h_ctg_combined_sorted_anno.6mA_hc_tombo_sorted.cutoff.0.00.overlap.bed': (0.005216862870680544,\n",
       "  0.4938992731443833),\n",
       " 'Pst_104E_v13_p_ctg_combined_sorted_anno.5mC_hc_tombo_sorted.cutoff.0.00.overlap.bed': (-0.06394651001311764,\n",
       "  5.420485606815499e-19),\n",
       " 'Pst_104E_v13_p_ctg_combined_sorted_anno.6mA_hc_tombo_sorted.cutoff.0.00.overlap.bed': (-0.04699602181727184,\n",
       "  6.143620076121245e-11)}"
      ]
     },
     "execution_count": 36,
     "metadata": {},
     "output_type": "execute_result"
    }
   ],
   "source": [
    "ug_spearman_dict"
   ]
  },
  {
   "cell_type": "code",
   "execution_count": 2603,
   "metadata": {
    "collapsed": true
   },
   "outputs": [
    {
     "name": "stdout",
     "output_type": "stream",
     "text": [
      "Pst_104E_v13_h_ctg.TE.sorted.5mC_hc_tombo_sorted.cutoff.0.00.overlap.bed\n",
      "Pst_104E_v13_h_ctg.TE.sorted.6mA_hc_tombo_sorted.cutoff.0.00.overlap.bed\n",
      "Pst_104E_v13_p_ctg_combined_sorted_anno.5mC_hc_tombo_sorted.cutoff.0.00.overlap.bed\n",
      "Pst_104E_v13_p_ctg_combined_sorted_anno.6mA_hc_tombo_sorted.cutoff.0.00.overlap.bed\n",
      "Pst_104E_v13_p_ctg.TE.sorted.5mC_hc_tombo_sorted.cutoff.0.00.overlap.bed\n",
      "Pst_104E_v13_p_ctg.TE.sorted.6mA_hc_tombo_sorted.cutoff.0.00.overlap.bed\n",
      "Pst_104E_v13_ph_ctg_combined_sorted_anno.5mC_hc_tombo_sorted.cutoff.0.00.overlap.bed\n",
      "Pst_104E_v13_ph_ctg_combined_sorted_anno.6mA_hc_tombo_sorted.cutoff.0.00.overlap.bed\n",
      "Pst_104E_v13_ph_ctg.non_effectors.5mC_hc_tombo_sorted.cutoff.0.00.overlap.bed\n",
      "Pst_104E_v13_ph_ctg.non_effectors.6mA_hc_tombo_sorted.cutoff.0.00.overlap.bed\n",
      "Pst_104E_v13_h_ctg_combined_sorted_anno.5mC_hc_tombo_sorted.cutoff.0.00.overlap.bed\n",
      "Pst_104E_v13_h_ctg_combined_sorted_anno.6mA_hc_tombo_sorted.cutoff.0.00.overlap.bed\n",
      "Pst_104E_v13_ph_ctg.TE.sorted.5mC_hc_tombo_sorted.cutoff.0.00.overlap.bed\n",
      "Pst_104E_v13_ph_ctg.TE.sorted.6mA_hc_tombo_sorted.cutoff.0.00.overlap.bed\n",
      "Pst_104E_v13_ph_ctg.effectors.5mC_hc_tombo_sorted.cutoff.0.00.overlap.bed\n",
      "Pst_104E_v13_ph_ctg.effectors.6mA_hc_tombo_sorted.cutoff.0.00.overlap.bed\n",
      "Pst_104E_v13_h_gene_rpkm_average.UG.sorted.tsv\n",
      "Pst_104E_v13_p_gene_rpkm_average.UG.sorted.tsv\n",
      "Pst_104E_v13_ph_gene_rpkm_average.UG.sorted.tsv\n"
     ]
    }
   ],
   "source": [
    "print(*gene_fraction_dict, *rnaseq_ug_sorted_dict, sep = '\\n')"
   ]
  },
  {
   "cell_type": "code",
   "execution_count": 114,
   "metadata": {},
   "outputs": [],
   "source": [
    "# set data\n",
    "fn_list = ['/home/anjuni/analysis/coverage/coverage_feature/5mC_hc_tombo_sorted.cutoff.0.99.10kb.overlap.bed', \\\n",
    "          '/home/anjuni/analysis/coverage/coverage_feature/6mA_hc_tombo_sorted.cutoff.0.99.10kb.overlap.bed', \\\n",
    "          '/home/anjuni/analysis/coverage/coverage_feature/Pst_104E_v13_ph_ctg.anno.sorted.10kb.overlap.bed', \\\n",
    "          '/home/anjuni/analysis/coverage/coverage_feature/Pst_104E_v13_ph_ctg.REPET.sorted.filtered.superfamily.10kb.overlap.bed', \\\n",
    "          '/home/anjuni/analysis/coverage/coverage_feature/Pst_104E_v13_ph_ctg.TE.sorted.10kb.overlap.bed']"
   ]
  },
  {
   "cell_type": "code",
   "execution_count": 111,
   "metadata": {},
   "outputs": [],
   "source": [
    "# Make a function to do overlaps for feature files\n",
    "def spearman_coverage(coverage_dict):\n",
    "    \"\"\"Runs spearman.\"\"\"\n",
    "    spearman_overlap_df_dict = {}\n",
    "    for key, value in coverage_dict.items():\n",
    "        for fkey, fvalue in coverage_dict.items():\n",
    "            o_df = value\n",
    "            e_df = fvalue\n",
    "            obs = o_df['overlap_fraction']\n",
    "            exp = e_df['overlap_fraction']\n",
    "            stat, p = spearmanr(obs, exp)\n",
    "            skey = key.replace('.bed', '.%s.bed' % fkey[:-4])\n",
    "            spearman_overlap_df_dict[skey] = stat, p\n",
    "    return spearman_overlap_df_dict"
   ]
  },
  {
   "cell_type": "code",
   "execution_count": 119,
   "metadata": {},
   "outputs": [],
   "source": [
    "spearman_dict = spearman_coverage(coverage_fn_dict)"
   ]
  },
  {
   "cell_type": "code",
   "execution_count": 120,
   "metadata": {
    "scrolled": true
   },
   "outputs": [
    {
     "data": {
      "text/plain": [
       "{'5mC_hc_tombo_sorted.cutoff.0.99.10kb.overlap.5mC_hc_tombo_sorted.cutoff.0.99.10kb.overlap.bed': (1.0,\n",
       "  0.0),\n",
       " '5mC_hc_tombo_sorted.cutoff.0.99.10kb.overlap.6mA_hc_tombo_sorted.cutoff.0.99.10kb.overlap.bed': (0.7384667531527627,\n",
       "  0.0),\n",
       " '5mC_hc_tombo_sorted.cutoff.0.99.10kb.overlap.Pst_104E_v13_ph_ctg.REPET.sorted.filtered.superfamily.10kb.overlap.bed': (0.44630536410739424,\n",
       "  0.0),\n",
       " '5mC_hc_tombo_sorted.cutoff.0.99.10kb.overlap.Pst_104E_v13_ph_ctg.TE.sorted.10kb.overlap.bed': (0.25369718437406363,\n",
       "  1.690789556321972e-233),\n",
       " '5mC_hc_tombo_sorted.cutoff.0.99.10kb.overlap.Pst_104E_v13_ph_ctg.anno.sorted.10kb.overlap.bed': (-0.38281643716088243,\n",
       "  0.0),\n",
       " '6mA_hc_tombo_sorted.cutoff.0.99.10kb.overlap.5mC_hc_tombo_sorted.cutoff.0.99.10kb.overlap.bed': (0.7384667531527627,\n",
       "  0.0),\n",
       " '6mA_hc_tombo_sorted.cutoff.0.99.10kb.overlap.6mA_hc_tombo_sorted.cutoff.0.99.10kb.overlap.bed': (1.0,\n",
       "  0.0),\n",
       " '6mA_hc_tombo_sorted.cutoff.0.99.10kb.overlap.Pst_104E_v13_ph_ctg.REPET.sorted.filtered.superfamily.10kb.overlap.bed': (0.2185812973777763,\n",
       "  2.212641478085935e-172),\n",
       " '6mA_hc_tombo_sorted.cutoff.0.99.10kb.overlap.Pst_104E_v13_ph_ctg.TE.sorted.10kb.overlap.bed': (0.09330526525126864,\n",
       "  2.775701706245244e-32),\n",
       " '6mA_hc_tombo_sorted.cutoff.0.99.10kb.overlap.Pst_104E_v13_ph_ctg.anno.sorted.10kb.overlap.bed': (-0.18353279200007624,\n",
       "  2.970389253688614e-121),\n",
       " 'Pst_104E_v13_ph_ctg.REPET.sorted.filtered.superfamily.10kb.overlap.5mC_hc_tombo_sorted.cutoff.0.99.10kb.overlap.bed': (0.4463053641073943,\n",
       "  0.0),\n",
       " 'Pst_104E_v13_ph_ctg.REPET.sorted.filtered.superfamily.10kb.overlap.6mA_hc_tombo_sorted.cutoff.0.99.10kb.overlap.bed': (0.2185812973777763,\n",
       "  2.212641478085935e-172),\n",
       " 'Pst_104E_v13_ph_ctg.REPET.sorted.filtered.superfamily.10kb.overlap.Pst_104E_v13_ph_ctg.REPET.sorted.filtered.superfamily.10kb.overlap.bed': (1.0,\n",
       "  0.0),\n",
       " 'Pst_104E_v13_ph_ctg.REPET.sorted.filtered.superfamily.10kb.overlap.Pst_104E_v13_ph_ctg.TE.sorted.10kb.overlap.bed': (0.48856932313825496,\n",
       "  0.0),\n",
       " 'Pst_104E_v13_ph_ctg.REPET.sorted.filtered.superfamily.10kb.overlap.Pst_104E_v13_ph_ctg.anno.sorted.10kb.overlap.bed': (-0.6675123606806304,\n",
       "  0.0),\n",
       " 'Pst_104E_v13_ph_ctg.TE.sorted.10kb.overlap.5mC_hc_tombo_sorted.cutoff.0.99.10kb.overlap.bed': (0.25369718437406363,\n",
       "  1.690789556321972e-233),\n",
       " 'Pst_104E_v13_ph_ctg.TE.sorted.10kb.overlap.6mA_hc_tombo_sorted.cutoff.0.99.10kb.overlap.bed': (0.09330526525126864,\n",
       "  2.775701706245244e-32),\n",
       " 'Pst_104E_v13_ph_ctg.TE.sorted.10kb.overlap.Pst_104E_v13_ph_ctg.REPET.sorted.filtered.superfamily.10kb.overlap.bed': (0.48856932313825496,\n",
       "  0.0),\n",
       " 'Pst_104E_v13_ph_ctg.TE.sorted.10kb.overlap.Pst_104E_v13_ph_ctg.TE.sorted.10kb.overlap.bed': (1.0,\n",
       "  0.0),\n",
       " 'Pst_104E_v13_ph_ctg.TE.sorted.10kb.overlap.Pst_104E_v13_ph_ctg.anno.sorted.10kb.overlap.bed': (-0.42175630733134983,\n",
       "  0.0),\n",
       " 'Pst_104E_v13_ph_ctg.anno.sorted.10kb.overlap.5mC_hc_tombo_sorted.cutoff.0.99.10kb.overlap.bed': (-0.38281643716088243,\n",
       "  0.0),\n",
       " 'Pst_104E_v13_ph_ctg.anno.sorted.10kb.overlap.6mA_hc_tombo_sorted.cutoff.0.99.10kb.overlap.bed': (-0.18353279200007622,\n",
       "  2.970389253689121e-121),\n",
       " 'Pst_104E_v13_ph_ctg.anno.sorted.10kb.overlap.Pst_104E_v13_ph_ctg.REPET.sorted.filtered.superfamily.10kb.overlap.bed': (-0.6675123606806304,\n",
       "  0.0),\n",
       " 'Pst_104E_v13_ph_ctg.anno.sorted.10kb.overlap.Pst_104E_v13_ph_ctg.TE.sorted.10kb.overlap.bed': (-0.42175630733134983,\n",
       "  0.0),\n",
       " 'Pst_104E_v13_ph_ctg.anno.sorted.10kb.overlap.Pst_104E_v13_ph_ctg.anno.sorted.10kb.overlap.bed': (0.9999999999999998,\n",
       "  0.0)}"
      ]
     },
     "execution_count": 120,
     "metadata": {},
     "output_type": "execute_result"
    }
   ],
   "source": [
    "spearman_dict"
   ]
  },
  {
   "cell_type": "code",
   "execution_count": 113,
   "metadata": {
    "scrolled": true
   },
   "outputs": [
    {
     "data": {
      "text/plain": [
       "{'5mC_hc_tombo_sorted.cutoff.0.00.10kb.overlap.5mC_hc_tombo_sorted.cutoff.0.00.10kb.overlap.bed': (0.9999999999999998,\n",
       "  0.0),\n",
       " '5mC_hc_tombo_sorted.cutoff.0.00.10kb.overlap.6mA_hc_tombo_sorted.cutoff.0.00.10kb.overlap.bed': (-0.47934594757954724,\n",
       "  0.0),\n",
       " '5mC_hc_tombo_sorted.cutoff.0.00.10kb.overlap.Pst_104E_v13_ph_ctg.REPET.sorted.filtered.superfamily.10kb.overlap.bed': (-0.12843414371679912,\n",
       "  7.829840669103839e-60),\n",
       " '5mC_hc_tombo_sorted.cutoff.0.00.10kb.overlap.Pst_104E_v13_ph_ctg.TE.sorted.10kb.overlap.bed': (0.07554648842181759,\n",
       "  1.0681836180294743e-21),\n",
       " '5mC_hc_tombo_sorted.cutoff.0.00.10kb.overlap.Pst_104E_v13_ph_ctg.anno.sorted.10kb.overlap.bed': (0.14866356711046494,\n",
       "  9.316874268222433e-80),\n",
       " '6mA_hc_tombo_sorted.cutoff.0.00.10kb.overlap.5mC_hc_tombo_sorted.cutoff.0.00.10kb.overlap.bed': (-0.4793459475795472,\n",
       "  0.0),\n",
       " '6mA_hc_tombo_sorted.cutoff.0.00.10kb.overlap.6mA_hc_tombo_sorted.cutoff.0.00.10kb.overlap.bed': (1.0,\n",
       "  0.0),\n",
       " '6mA_hc_tombo_sorted.cutoff.0.00.10kb.overlap.Pst_104E_v13_ph_ctg.REPET.sorted.filtered.superfamily.10kb.overlap.bed': (0.029600436833638867,\n",
       "  0.00018025867135858874),\n",
       " '6mA_hc_tombo_sorted.cutoff.0.00.10kb.overlap.Pst_104E_v13_ph_ctg.TE.sorted.10kb.overlap.bed': (-0.05796052975886572,\n",
       "  2.1680246293458693e-13),\n",
       " '6mA_hc_tombo_sorted.cutoff.0.00.10kb.overlap.Pst_104E_v13_ph_ctg.anno.sorted.10kb.overlap.bed': (-0.041568334010774755,\n",
       "  1.436293260042083e-07),\n",
       " 'Pst_104E_v13_ph_ctg.REPET.sorted.filtered.superfamily.10kb.overlap.5mC_hc_tombo_sorted.cutoff.0.00.10kb.overlap.bed': (-0.12843414371679912,\n",
       "  7.829840669103839e-60),\n",
       " 'Pst_104E_v13_ph_ctg.REPET.sorted.filtered.superfamily.10kb.overlap.6mA_hc_tombo_sorted.cutoff.0.00.10kb.overlap.bed': (0.029600436833638864,\n",
       "  0.0001802586713585892),\n",
       " 'Pst_104E_v13_ph_ctg.REPET.sorted.filtered.superfamily.10kb.overlap.Pst_104E_v13_ph_ctg.REPET.sorted.filtered.superfamily.10kb.overlap.bed': (1.0,\n",
       "  0.0),\n",
       " 'Pst_104E_v13_ph_ctg.REPET.sorted.filtered.superfamily.10kb.overlap.Pst_104E_v13_ph_ctg.TE.sorted.10kb.overlap.bed': (0.48856932313825496,\n",
       "  0.0),\n",
       " 'Pst_104E_v13_ph_ctg.REPET.sorted.filtered.superfamily.10kb.overlap.Pst_104E_v13_ph_ctg.anno.sorted.10kb.overlap.bed': (-0.6675123606806304,\n",
       "  0.0),\n",
       " 'Pst_104E_v13_ph_ctg.TE.sorted.10kb.overlap.5mC_hc_tombo_sorted.cutoff.0.00.10kb.overlap.bed': (0.07554648842181759,\n",
       "  1.0681836180294743e-21),\n",
       " 'Pst_104E_v13_ph_ctg.TE.sorted.10kb.overlap.6mA_hc_tombo_sorted.cutoff.0.00.10kb.overlap.bed': (-0.057960529758865724,\n",
       "  2.168024629345846e-13),\n",
       " 'Pst_104E_v13_ph_ctg.TE.sorted.10kb.overlap.Pst_104E_v13_ph_ctg.REPET.sorted.filtered.superfamily.10kb.overlap.bed': (0.48856932313825496,\n",
       "  0.0),\n",
       " 'Pst_104E_v13_ph_ctg.TE.sorted.10kb.overlap.Pst_104E_v13_ph_ctg.TE.sorted.10kb.overlap.bed': (1.0,\n",
       "  0.0),\n",
       " 'Pst_104E_v13_ph_ctg.TE.sorted.10kb.overlap.Pst_104E_v13_ph_ctg.anno.sorted.10kb.overlap.bed': (-0.42175630733134983,\n",
       "  0.0),\n",
       " 'Pst_104E_v13_ph_ctg.anno.sorted.10kb.overlap.5mC_hc_tombo_sorted.cutoff.0.00.10kb.overlap.bed': (0.14866356711046497,\n",
       "  9.316874268221105e-80),\n",
       " 'Pst_104E_v13_ph_ctg.anno.sorted.10kb.overlap.6mA_hc_tombo_sorted.cutoff.0.00.10kb.overlap.bed': (-0.041568334010774755,\n",
       "  1.436293260042083e-07),\n",
       " 'Pst_104E_v13_ph_ctg.anno.sorted.10kb.overlap.Pst_104E_v13_ph_ctg.REPET.sorted.filtered.superfamily.10kb.overlap.bed': (-0.6675123606806304,\n",
       "  0.0),\n",
       " 'Pst_104E_v13_ph_ctg.anno.sorted.10kb.overlap.Pst_104E_v13_ph_ctg.TE.sorted.10kb.overlap.bed': (-0.42175630733134983,\n",
       "  0.0),\n",
       " 'Pst_104E_v13_ph_ctg.anno.sorted.10kb.overlap.Pst_104E_v13_ph_ctg.anno.sorted.10kb.overlap.bed': (0.9999999999999998,\n",
       "  0.0)}"
      ]
     },
     "execution_count": 113,
     "metadata": {},
     "output_type": "execute_result"
    }
   ],
   "source": [
    "spearman_dict"
   ]
  },
  {
   "cell_type": "code",
   "execution_count": 78,
   "metadata": {},
   "outputs": [],
   "source": [
    "te_fn_dict = {}\n",
    "te_fn_dict['Pst_104E_v13_ph_ctg.REPET.sorted.filtered.superfamily.gff'] = '/home/anjuni/analysis/gff_output/Pst_104E_v13_ph_ctg.REPET.sorted.filtered.superfamily.gff'"
   ]
  },
  {
   "cell_type": "code",
   "execution_count": 79,
   "metadata": {},
   "outputs": [],
   "source": [
    "te_bed_dict = make_bed_dict(te_fn_dict)"
   ]
  },
  {
   "cell_type": "code",
   "execution_count": 82,
   "metadata": {},
   "outputs": [],
   "source": [
    "TE_coverage_dict = coverage(window_bed_dict, te_bed_dict, te_fn_dict, 'analysis/gff_output', 'analysis')"
   ]
  },
  {
   "cell_type": "code",
   "execution_count": 88,
   "metadata": {},
   "outputs": [],
   "source": [
    "headings = ['contig', 'start', 'stop', 'overlap_count', 'overlap_fraction']"
   ]
  },
  {
   "cell_type": "code",
   "execution_count": 115,
   "metadata": {},
   "outputs": [],
   "source": [
    "coverage_fn_dict = {}\n",
    "for fn in fn_list:\n",
    "    df = pd.read_csv(fn, sep='\\t', header=None, names=headings)\n",
    "    coverage_fn_dict[fn.split('/')[-1]] = df"
   ]
  },
  {
   "cell_type": "code",
   "execution_count": 116,
   "metadata": {},
   "outputs": [
    {
     "name": "stdout",
     "output_type": "stream",
     "text": [
      "5mC_hc_tombo_sorted.cutoff.0.99.10kb.overlap.bed\n",
      "6mA_hc_tombo_sorted.cutoff.0.99.10kb.overlap.bed\n",
      "Pst_104E_v13_ph_ctg.anno.sorted.10kb.overlap.bed\n",
      "Pst_104E_v13_ph_ctg.REPET.sorted.filtered.superfamily.10kb.overlap.bed\n",
      "Pst_104E_v13_ph_ctg.TE.sorted.10kb.overlap.bed\n"
     ]
    }
   ],
   "source": [
    "print(*coverage_fn_dict, sep = '\\n')"
   ]
  },
  {
   "cell_type": "code",
   "execution_count": 117,
   "metadata": {},
   "outputs": [],
   "source": [
    "#scatterplots\n",
    "\n",
    "#set data\n",
    "m5c = coverage_fn_dict['5mC_hc_tombo_sorted.cutoff.0.99.10kb.overlap.bed']['overlap_fraction']\n",
    "m6a = coverage_fn_dict['6mA_hc_tombo_sorted.cutoff.0.99.10kb.overlap.bed']['overlap_fraction']\n",
    "gene = coverage_fn_dict['Pst_104E_v13_ph_ctg.anno.sorted.10kb.overlap.bed']['overlap_fraction']\n",
    "te = coverage_fn_dict['Pst_104E_v13_ph_ctg.REPET.sorted.filtered.superfamily.10kb.overlap.bed']['overlap_fraction']\n",
    "ltgene = coverage_fn_dict['Pst_104E_v13_ph_ctg.TE.sorted.10kb.overlap.bed']['overlap_fraction']"
   ]
  },
  {
   "cell_type": "code",
   "execution_count": 242,
   "metadata": {
    "collapsed": true
   },
   "outputs": [
    {
     "data": {
      "image/png": "[encoded data removed]",
      "text/plain": [
       "<matplotlib.figure.Figure at 0x7ff0e23f9978>"
      ]
     },
     "metadata": {},
     "output_type": "display_data"
    }
   ],
   "source": [
    "fig, ax = plt.subplots(figsize=(10, 7.5))\n",
    "\n",
    "plt.scatter(gene, m5c, marker='.', c='#1b9891')\n",
    "plt.xlabel('Gene coverage', fontsize=20)\n",
    "plt.ylabel('5mC coverage', fontsize=20)\n",
    "plt.title(\"Gene coverage vs. 5mC coverage \\n over 10kb windows\", fontsize=24)\n",
    "plt.text(0.6,0.29,'r = -0.38, p = 0.00', fontsize=20)\n",
    "plt.show()"
   ]
  },
  {
   "cell_type": "code",
   "execution_count": 239,
   "metadata": {
    "collapsed": true
   },
   "outputs": [
    {
     "data": {
      "image/png": "[encoded data removed]",
      "text/plain": [
       "<matplotlib.figure.Figure at 0x7ff0b80829e8>"
      ]
     },
     "metadata": {},
     "output_type": "display_data"
    }
   ],
   "source": [
    "fig, ax = plt.subplots(figsize=(10, 7.5))\n",
    "\n",
    "plt.scatter(te, m5c, marker='.', c='#1b9891')\n",
    "plt.xlabel('Transposon coverage', fontsize=20)\n",
    "plt.ylabel('5mC coverage', fontsize=20)\n",
    "plt.title(\"Transposon coverage vs. 5mC coverage \\n over 10kb windows\", fontsize=24)\n",
    "plt.text(0.1,0.29,'r = 0.44, p = 0.00', fontsize=20)\n",
    "plt.show()"
   ]
  },
  {
   "cell_type": "code",
   "execution_count": 253,
   "metadata": {
    "collapsed": true
   },
   "outputs": [
    {
     "data": {
      "image/png": "[encoded data removed]",
      "text/plain": [
       "<matplotlib.figure.Figure at 0x7ff0b83a8208>"
      ]
     },
     "metadata": {},
     "output_type": "display_data"
    }
   ],
   "source": [
    "fig, ax = plt.subplots(figsize=(10, 7.5))\n",
    "\n",
    "plt.scatter(gene, m6a, marker='.', c='#1b9891')\n",
    "plt.xlabel('Gene coverage', fontsize=20)\n",
    "plt.ylabel('6mA coverage', fontsize=20)\n",
    "plt.title(\"Gene coverage vs. 6mA coverage \\n over 10kb windows\", fontsize=24)\n",
    "plt.text(0.5,0.27,'r = -0.18, p = 2.97e-121', fontsize=20)\n",
    "plt.show()"
   ]
  },
  {
   "cell_type": "code",
   "execution_count": 251,
   "metadata": {
    "collapsed": true
   },
   "outputs": [
    {
     "data": {
      "image/png": "[encoded data removed]",
      "text/plain": [
       "<matplotlib.figure.Figure at 0x7ff0b81698d0>"
      ]
     },
     "metadata": {},
     "output_type": "display_data"
    }
   ],
   "source": [
    "fig, ax = plt.subplots(figsize=(10, 7.5))\n",
    "\n",
    "plt.scatter(te, m6a, marker='.', c='#1b9891')\n",
    "plt.xlabel('Transposon coverage', fontsize=20)\n",
    "plt.ylabel('6mA coverage', fontsize=20)\n",
    "plt.title(\"Transposon coverage vs. 6mA coverage \\n over 10kb windows\", fontsize=24)\n",
    "plt.text(0.023,0.27,'r = 0.22, p = 2.21e-172', fontsize=20)\n",
    "plt.show()"
   ]
  },
  {
   "cell_type": "code",
   "execution_count": 2505,
   "metadata": {},
   "outputs": [],
   "source": [
    "# save out the Spearman's rho values as a table\n",
    "spearman_df = pd.DataFrame.from_dict(ug_spearman_dict, orient='index')\n",
    "spearman_df.rename(columns={0: 'R', 1: 'p-value'}, inplace=True)\n",
    "out_fn = os.path.join(DIRS['FIGURES'], 'expression', 'spearman_r_table.tsv')\n",
    "spearman_df.to_csv(out_fn, header=True, sep = '\\t')"
   ]
  },
  {
   "cell_type": "code",
   "execution_count": null,
   "metadata": {},
   "outputs": [],
   "source": [
    "# 6mA: Spearman's rho between ranked methylated genes in df and ranked expressed genes in df"
   ]
  },
  {
   "cell_type": "code",
   "execution_count": null,
   "metadata": {},
   "outputs": [],
   "source": [
    "# Ignore both_u_d files for now!\n",
    "# For the both_u_d files:\n",
    "# iterrows through df and if name == name:\n",
    "# add the frac1 + frac2 and divide by 2\n",
    "# append the average to a list\n",
    "# make a new df of ... ok this is too hard I'll ask Ben on Monday"
   ]
  },
  {
   "cell_type": "code",
   "execution_count": null,
   "metadata": {},
   "outputs": [],
   "source": [
    "# Make files ranking genes expressed in each life cycle stage from high to low expression\n",
    "\n",
    "# Make a new file of the highly expressed genes for each life cycle stage\n",
    "# Make a new file of the lowly expressed genes for each life cycle stage\n",
    "\n",
    "# Make a file of genes that are highly expressed in all stages -> for loop that checks whether gene is in all \"highly expressed\" files\n"
   ]
  },
  {
   "cell_type": "markdown",
   "metadata": {},
   "source": [
    "## <span style='color:#9ac615'> 8. Intersecting methylation with transposons expression files. <span/>"
   ]
  },
  {
   "cell_type": "markdown",
   "metadata": {},
   "source": [
    "## <span style='color:#ffa347'> 10. Comparing methylated transposons and genes. <span/>"
   ]
  },
  {
   "cell_type": "markdown",
   "metadata": {},
   "source": [
    "## <span style='color:#ff4f14'> 11. Expression of methylation machinery throughout Pst life cycle. <span/>"
   ]
  },
  {
   "cell_type": "markdown",
   "metadata": {},
   "source": [
    "DNMT1/MASC2\n",
    "query: XP_001833175.2, len = 1253\n",
    "\n",
    "h_subject: Pst104E_20230, len = 1248\n",
    "\n",
    "Score = 206 bits (523), Expect = 5e-54, Method: Compositional matrix adjust. Identities = 241/925 (26%), Positives = 372/925 (40%), Gaps = 178/925 (19%)\n",
    "\n",
    "p_subject: Pst104E_04293, len = 1248\n",
    "\n",
    "Score = 206 bits (523), Expect = 5e-54, Method: Compositional matrix adjust. Identities = 241/925 (26%), Positives = 372/925 (40%), Gaps = 178/925 (19%)\n",
    "\n",
    "RAD8\n",
    "query: XP_001831325.2, len = 2184\n",
    "\n",
    "h_subject: Pst104E_28179, len = 2204\n",
    "\n",
    "Score = 1158 bits (2996), Expect = 0.0, Method: Compositional matrix adjust. Identities = 643/1386 (46%), Positives = 837/1386 (60%), Gaps = 76/1386 (5%)\n",
    "\n",
    "p_subject: Pst104E_12497, len = 1248"
   ]
  },
  {
   "cell_type": "markdown",
   "metadata": {},
   "source": [
    "DNMT1/MASC2\n",
    "- h_subject: Pst104E_20230   //   gene_model_hcontig_0009_24.226\n",
    "- p_subject: Pst104E_04293   //   gene_model_pcontig_009.363\n",
    "    \n",
    "RAD8\n",
    "- h_subject: Pst104E_28179   //   gene_model_hcontig_0052_06.60\n",
    "- p_subject: Pst104E_12497   //   gene_model_pcontig_052.64\n"
   ]
  },
  {
   "cell_type": "code",
   "execution_count": null,
   "metadata": {},
   "outputs": [],
   "source": [
    "# write this function later!!\n",
    "def grep_gene_name()"
   ]
  },
  {
   "cell_type": "code",
   "execution_count": 168,
   "metadata": {},
   "outputs": [],
   "source": [
    "# make dicts of BLAST results\n",
    "blast_h = { 'DNMT1/MASC2' : 'gene_model_hcontig_0009_24.226', 'RAD8' : 'gene_model_hcontig_0052_06.60' }\n",
    "blast_p = { 'DNMT1/MASC2' : 'gene_model_pcontig_009.363', 'RAD8' : 'gene_model_pcontig_052.64' }"
   ]
  },
  {
   "cell_type": "code",
   "execution_count": 169,
   "metadata": {},
   "outputs": [],
   "source": [
    "# make rnaseq dict\n",
    "rnaseq_df_dict = {}\n",
    "for fn in glob.iglob('%s/*_gene_rpkm_average.tsv' % DIRS['MEAN_STD'], recursive=True):\n",
    "    if len(fn) == 87:\n",
    "        df = pd.read_csv(fn, header=0, sep='\\t')\n",
    "        rnaseq_df_dict[fn.split('/')[-1]] = df"
   ]
  },
  {
   "cell_type": "code",
   "execution_count": 180,
   "metadata": {},
   "outputs": [],
   "source": [
    "rnaseq_fn_dict = {}\n",
    "for fn in glob.iglob('%s/*_gene_rpkm_average.tsv' % DIRS['MEAN_STD'], recursive=True):\n",
    "    if len(fn) == 87:\n",
    "        rnaseq_fn_dict[fn.split('/')[-1]] = fn"
   ]
  },
  {
   "cell_type": "code",
   "execution_count": 181,
   "metadata": {},
   "outputs": [
    {
     "data": {
      "text/plain": [
       "{'Pst_104E_v13_h_gene_rpkm_average.tsv': '/home/anjuni/analysis/rna_counts/average_and_stdev/Pst_104E_v13_h_gene_rpkm_average.tsv',\n",
       " 'Pst_104E_v13_p_gene_rpkm_average.tsv': '/home/anjuni/analysis/rna_counts/average_and_stdev/Pst_104E_v13_p_gene_rpkm_average.tsv'}"
      ]
     },
     "execution_count": 181,
     "metadata": {},
     "output_type": "execute_result"
    }
   ],
   "source": [
    "rnaseq_fn_dict"
   ]
  },
  {
   "cell_type": "code",
   "execution_count": 166,
   "metadata": {},
   "outputs": [
    {
     "data": {
      "text/plain": [
       "'/home/anjuni/analysis/rna_counts/average_and_stdev'"
      ]
     },
     "execution_count": 166,
     "metadata": {},
     "output_type": "execute_result"
    }
   ],
   "source": [
    "DIRS['MEAN_STD']"
   ]
  },
  {
   "cell_type": "code",
   "execution_count": 171,
   "metadata": {
    "scrolled": true
   },
   "outputs": [
    {
     "data": {
      "text/html": [
       "<div>\n",
       "<style scoped>\n",
       "    .dataframe tbody tr th:only-of-type {\n",
       "        vertical-align: middle;\n",
       "    }\n",
       "\n",
       "    .dataframe tbody tr th {\n",
       "        vertical-align: top;\n",
       "    }\n",
       "\n",
       "    .dataframe thead th {\n",
       "        text-align: right;\n",
       "    }\n",
       "</style>\n",
       "<table border=\"1\" class=\"dataframe\">\n",
       "  <thead>\n",
       "    <tr style=\"text-align: right;\">\n",
       "      <th></th>\n",
       "      <th>gene_ID</th>\n",
       "      <th>GS</th>\n",
       "      <th>HE</th>\n",
       "      <th>IT0</th>\n",
       "      <th>IT6</th>\n",
       "      <th>IT9</th>\n",
       "      <th>UG</th>\n",
       "    </tr>\n",
       "  </thead>\n",
       "  <tbody>\n",
       "    <tr>\n",
       "      <th>0</th>\n",
       "      <td>gene_model_hcontig_0000_03.1</td>\n",
       "      <td>0.487427</td>\n",
       "      <td>0.000000</td>\n",
       "      <td>0.000000</td>\n",
       "      <td>0.000000</td>\n",
       "      <td>2.377196</td>\n",
       "      <td>0.384531</td>\n",
       "    </tr>\n",
       "    <tr>\n",
       "      <th>1</th>\n",
       "      <td>gene_model_hcontig_0000_03.2</td>\n",
       "      <td>0.577405</td>\n",
       "      <td>144.208849</td>\n",
       "      <td>0.000000</td>\n",
       "      <td>1016.181477</td>\n",
       "      <td>456.791691</td>\n",
       "      <td>0.446980</td>\n",
       "    </tr>\n",
       "    <tr>\n",
       "      <th>2</th>\n",
       "      <td>gene_model_hcontig_0000_03.3</td>\n",
       "      <td>564.783136</td>\n",
       "      <td>52.086774</td>\n",
       "      <td>24.713948</td>\n",
       "      <td>235.779282</td>\n",
       "      <td>239.133947</td>\n",
       "      <td>316.475087</td>\n",
       "    </tr>\n",
       "    <tr>\n",
       "      <th>3</th>\n",
       "      <td>gene_model_hcontig_0000_03.4</td>\n",
       "      <td>0.000000</td>\n",
       "      <td>0.167865</td>\n",
       "      <td>0.000000</td>\n",
       "      <td>0.115347</td>\n",
       "      <td>0.179739</td>\n",
       "      <td>0.000000</td>\n",
       "    </tr>\n",
       "    <tr>\n",
       "      <th>4</th>\n",
       "      <td>EVM prediction%2hcontig_0000_003.5</td>\n",
       "      <td>0.000000</td>\n",
       "      <td>0.000000</td>\n",
       "      <td>0.000000</td>\n",
       "      <td>0.000000</td>\n",
       "      <td>0.000000</td>\n",
       "      <td>0.000000</td>\n",
       "    </tr>\n",
       "  </tbody>\n",
       "</table>\n",
       "</div>"
      ],
      "text/plain": [
       "                              gene_ID          GS          HE        IT0  \\\n",
       "0        gene_model_hcontig_0000_03.1    0.487427    0.000000   0.000000   \n",
       "1        gene_model_hcontig_0000_03.2    0.577405  144.208849   0.000000   \n",
       "2        gene_model_hcontig_0000_03.3  564.783136   52.086774  24.713948   \n",
       "3        gene_model_hcontig_0000_03.4    0.000000    0.167865   0.000000   \n",
       "4  EVM prediction%2hcontig_0000_003.5    0.000000    0.000000   0.000000   \n",
       "\n",
       "           IT6         IT9          UG  \n",
       "0     0.000000    2.377196    0.384531  \n",
       "1  1016.181477  456.791691    0.446980  \n",
       "2   235.779282  239.133947  316.475087  \n",
       "3     0.115347    0.179739    0.000000  \n",
       "4     0.000000    0.000000    0.000000  "
      ]
     },
     "execution_count": 171,
     "metadata": {},
     "output_type": "execute_result"
    }
   ],
   "source": [
    "rnaseq_df_dict['Pst_104E_v13_h_gene_rpkm_average.tsv'].head()"
   ]
  },
  {
   "cell_type": "code",
   "execution_count": 172,
   "metadata": {},
   "outputs": [
    {
     "data": {
      "text/plain": [
       "pandas.core.frame.DataFrame"
      ]
     },
     "execution_count": 172,
     "metadata": {},
     "output_type": "execute_result"
    }
   ],
   "source": [
    "for rkey, rvalue in rnaseq_fn.items():\n",
    "    df = pd.read_csv(rvalue, sep='\\t', header = 0)\n",
    "\n",
    "df.head()\n",
    "type(df)"
   ]
  },
  {
   "cell_type": "code",
   "execution_count": 173,
   "metadata": {
    "collapsed": true
   },
   "outputs": [
    {
     "ename": "SyntaxError",
     "evalue": "invalid syntax (<ipython-input-173-bc07e9909af0>, line 3)",
     "output_type": "error",
     "traceback": [
      "\u001b[0;36m  File \u001b[0;32m\"<ipython-input-173-bc07e9909af0>\"\u001b[0;36m, line \u001b[0;32m3\u001b[0m\n\u001b[0;31m    for rkey, rvalue in rnaseq_\u001b[0m\n\u001b[0m                               ^\u001b[0m\n\u001b[0;31mSyntaxError\u001b[0m\u001b[0;31m:\u001b[0m invalid syntax\n"
     ]
    }
   ],
   "source": [
    "def blast_exp_df(blast_dict, rnaseq_df):\n",
    "    for bkey, bvalue in blast_dict.items():\n",
    "        for rkey, rvalue in rnaseq_"
   ]
  },
  {
   "cell_type": "code",
   "execution_count": 189,
   "metadata": {},
   "outputs": [
    {
     "name": "stdout",
     "output_type": "stream",
     "text": [
      "gene_ID    gene_model_hcontig_0009_24.226\n",
      "GS                                14.0442\n",
      "HE                                 10.199\n",
      "IT0                                     0\n",
      "IT6                               8.27879\n",
      "IT9                               13.4791\n",
      "UG                                8.75372\n",
      "Name: 5163, dtype: object\n",
      "gene_ID    gene_model_hcontig_0052_06.60\n",
      "GS                               25.5531\n",
      "HE                               5.27593\n",
      "IT0                              4.24689\n",
      "IT6                              23.0232\n",
      "IT9                              43.3039\n",
      "UG                               23.2504\n",
      "Name: 14740, dtype: object\n"
     ]
    }
   ],
   "source": [
    "for bkey, bvalue in blast_dict.items():\n",
    "        for rkey, rvalue in rnaseq_fn.items():\n",
    "            df = pd.read_csv(rvalue, sep='\\t', header = 0)\n",
    "            for index, row in df.iterrows():\n",
    "                if bvalue == row['gene_ID']:\n",
    "                    pprint.pprint(row)"
   ]
  },
  {
   "cell_type": "code",
   "execution_count": 2554,
   "metadata": {},
   "outputs": [
    {
     "name": "stdout",
     "output_type": "stream",
     "text": [
      "gene_ID    gene_model_pcontig_009.363\n",
      "GS                             12.535\n",
      "HE                            9.15761\n",
      "IT0                                 0\n",
      "IT6                           7.68013\n",
      "IT9                           12.3386\n",
      "UG                            7.73364\n",
      "Name: 5174, dtype: object\n",
      "gene_ID    gene_model_pcontig_052.64\n",
      "GS                           22.8899\n",
      "HE                           4.73403\n",
      "IT0                          3.78453\n",
      "IT6                          21.4138\n",
      "IT9                          39.8084\n",
      "UG                           20.6473\n",
      "Name: 15076, dtype: object\n"
     ]
    }
   ],
   "source": [
    "for bkey, bvalue in blast_dict.items():\n",
    "        for rkey, rvalue in rnaseq_fn.items():\n",
    "            df = pd.read_csv(rvalue, sep='\\t', header = 0)\n",
    "            for index, row in df.iterrows():\n",
    "                if bvalue == row['gene_ID']:\n",
    "                    pprint.pprint(row)"
   ]
  },
  {
   "cell_type": "code",
   "execution_count": 199,
   "metadata": {},
   "outputs": [],
   "source": [
    "blast_dict = blast_h\n",
    "rnaseq_fn = {}\n",
    "rnaseq_fn['Pst_104E_v13_h_gene_rpkm_average.tsv'] = rnaseq_fn_dict['Pst_104E_v13_h_gene_rpkm_average.tsv']"
   ]
  },
  {
   "cell_type": "code",
   "execution_count": null,
   "metadata": {},
   "outputs": [],
   "source": [
    "# getting stdev"
   ]
  },
  {
   "cell_type": "code",
   "execution_count": 194,
   "metadata": {},
   "outputs": [],
   "source": [
    "rnaseq_fn_dict = {}\n",
    "for fn in glob.iglob('%s/*_gene_rpkm_stdev.tsv' % DIRS['MEAN_STD'], recursive=True):\n",
    "    if len(fn) == 85:\n",
    "        rnaseq_fn_dict[fn.split('/')[-1]] = fn"
   ]
  },
  {
   "cell_type": "code",
   "execution_count": 195,
   "metadata": {},
   "outputs": [
    {
     "data": {
      "text/plain": [
       "{'Pst_104E_v13_h_gene_rpkm_stdev.tsv': '/home/anjuni/analysis/rna_counts/average_and_stdev/Pst_104E_v13_h_gene_rpkm_stdev.tsv',\n",
       " 'Pst_104E_v13_p_gene_rpkm_stdev.tsv': '/home/anjuni/analysis/rna_counts/average_and_stdev/Pst_104E_v13_p_gene_rpkm_stdev.tsv'}"
      ]
     },
     "execution_count": 195,
     "metadata": {},
     "output_type": "execute_result"
    }
   ],
   "source": [
    "rnaseq_fn_dict"
   ]
  },
  {
   "cell_type": "code",
   "execution_count": 200,
   "metadata": {},
   "outputs": [
    {
     "name": "stdout",
     "output_type": "stream",
     "text": [
      "gene_ID    gene_model_hcontig_0009_24.226\n",
      "GS                               0.710032\n",
      "HE                               0.244654\n",
      "IT0                                     0\n",
      "IT6                               1.12791\n",
      "IT9                               1.75511\n",
      "UG                                1.15206\n",
      "Name: 5163, dtype: object\n",
      "gene_ID    gene_model_hcontig_0052_06.60\n",
      "GS                               2.11856\n",
      "HE                              0.382341\n",
      "IT0                              6.00601\n",
      "IT6                              2.55504\n",
      "IT9                              11.9945\n",
      "UG                              0.954619\n",
      "Name: 14740, dtype: object\n"
     ]
    }
   ],
   "source": [
    "for bkey, bvalue in blast_dict.items():\n",
    "        for rkey, rvalue in rnaseq_fn.items():\n",
    "            df = pd.read_csv(rvalue, sep='\\t', header = 0)\n",
    "            for index, row in df.iterrows():\n",
    "                if bvalue == row['gene_ID']:\n",
    "                    pprint.pprint(row)"
   ]
  },
  {
   "cell_type": "code",
   "execution_count": 201,
   "metadata": {},
   "outputs": [],
   "source": [
    "blast_dict = blast_p\n",
    "rnaseq_fn = {}\n",
    "rnaseq_fn['Pst_104E_v13_p_gene_rpkm_average.tsv'] = rnaseq_fn_dict['Pst_104E_v13_p_gene_rpkm_average.tsv']"
   ]
  },
  {
   "cell_type": "code",
   "execution_count": 184,
   "metadata": {
    "collapsed": true
   },
   "outputs": [
    {
     "data": {
      "text/plain": [
       "{'Pst_104E_v13_h_gene_rpkm_average.tsv':                                    gene_ID          GS          HE        IT0  \\\n",
       " 0             gene_model_hcontig_0000_03.1    0.487427    0.000000   0.000000   \n",
       " 1             gene_model_hcontig_0000_03.2    0.577405  144.208849   0.000000   \n",
       " 2             gene_model_hcontig_0000_03.3  564.783136   52.086774  24.713948   \n",
       " 3             gene_model_hcontig_0000_03.4    0.000000    0.167865   0.000000   \n",
       " 4       EVM prediction%2hcontig_0000_003.5    0.000000    0.000000   0.000000   \n",
       " 5       EVM prediction%2hcontig_0000_003.6    0.000000    0.000000   0.000000   \n",
       " 6             gene_model_hcontig_0000_03.7   10.457924    0.176728   0.000000   \n",
       " 7             gene_model_hcontig_0000_03.8    0.000000   31.659461   0.000000   \n",
       " 8             gene_model_hcontig_0000_03.9    0.005005    0.000000   0.000000   \n",
       " 9            gene_model_hcontig_0000_03.10    0.000000    0.000000   0.000000   \n",
       " 10           gene_model_hcontig_0000_03.11    0.035380    0.179622   0.000000   \n",
       " 11           gene_model_hcontig_0000_03.12   13.770215    3.301836   0.000000   \n",
       " 12           gene_model_hcontig_0000_03.13   21.021169   45.222179   0.000000   \n",
       " 13           gene_model_hcontig_0000_03.14    2.050254   25.219664   0.000000   \n",
       " 14           gene_model_hcontig_0000_03.15    0.110116   32.706249   0.000000   \n",
       " 15           gene_model_hcontig_0000_03.16    0.000000    0.000000   0.000000   \n",
       " 16           gene_model_hcontig_0000_03.17   33.566947   14.088033  57.326366   \n",
       " 17           gene_model_hcontig_0000_03.18   35.344241   32.267829   0.000000   \n",
       " 18           gene_model_hcontig_0000_03.19   38.722015   27.233848  11.696595   \n",
       " 19           gene_model_hcontig_0000_03.20   23.033791   15.329237   0.000000   \n",
       " 20     EVM prediction%2hcontig_0000_003.21    0.000000    0.000000   0.000000   \n",
       " 21     EVM prediction%2hcontig_0000_003.22    0.000000    0.000000   0.000000   \n",
       " 22           gene_model_hcontig_0000_03.23    0.032001    9.584925   0.000000   \n",
       " 23           gene_model_hcontig_0000_03.24    0.028180    0.000000   0.000000   \n",
       " 24     EVM prediction%2hcontig_0000_003.25    0.003408    0.082395   0.000000   \n",
       " 25           gene_model_hcontig_0000_03.26   16.459957   12.460087   0.000000   \n",
       " 26           gene_model_hcontig_0000_03.27    0.020739    0.850206   0.000000   \n",
       " 27           gene_model_hcontig_0000_03.28    0.043187  129.727107   0.000000   \n",
       " 28           gene_model_hcontig_0000_03.29    3.361388   49.773752   0.000000   \n",
       " 29           gene_model_hcontig_0000_03.30   25.493052   18.779745   0.000000   \n",
       " ...                                    ...         ...         ...        ...   \n",
       " 17169         gene_model_hcontig_0166_01.1   16.232294    0.591894   0.000000   \n",
       " 17170         gene_model_hcontig_0166_01.2    2.042071    0.620563   0.000000   \n",
       " 17171   EVM prediction%2hcontig_0166_001.3    0.010791    0.025960   0.000000   \n",
       " 17172         gene_model_hcontig_0166_01.4    2.347413    9.530131   8.081017   \n",
       " 17173         gene_model_hcontig_0166_01.5   10.319084    7.005679   0.000000   \n",
       " 17174         gene_model_hcontig_0166_01.6   52.625038   41.553718   0.000000   \n",
       " 17175         gene_model_hcontig_0166_01.7   44.860933   19.675347   0.000000   \n",
       " 17176         gene_model_hcontig_0166_01.8   88.619776  161.382403   0.000000   \n",
       " 17177   EVM prediction%2hcontig_0184_001.1    0.000000    0.015460   0.000000   \n",
       " 17178   EVM prediction%2hcontig_0184_001.2    8.306695    3.752924   0.000000   \n",
       " 17179         gene_model_hcontig_0184_01.3    0.507533    0.367775   0.000000   \n",
       " 17180   EVM prediction%2hcontig_0184_001.4    0.000000    0.000000   0.000000   \n",
       " 17181   EVM prediction%2hcontig_0184_001.5    0.000000    0.000000   0.000000   \n",
       " 17182         gene_model_hcontig_0189_01.1    0.056819   16.272259   0.000000   \n",
       " 17183         gene_model_hcontig_0189_01.2    0.137161    0.000000   0.000000   \n",
       " 17184         gene_model_hcontig_0189_01.3   36.383070   12.171772  12.678837   \n",
       " 17185         gene_model_hcontig_0189_01.4   16.966984   25.596827   0.000000   \n",
       " 17186         gene_model_hcontig_0189_01.5   36.119095   21.171104   0.000000   \n",
       " 17187         gene_model_hcontig_0189_01.6    3.464331    0.077092   0.000000   \n",
       " 17188         gene_model_hcontig_0189_01.7   16.102424   15.412320   0.000000   \n",
       " 17189         gene_model_hcontig_0193_02.1    0.000000    0.000000   0.000000   \n",
       " 17190         gene_model_hcontig_0225_01.1    0.000000    3.065493   0.000000   \n",
       " 17191         gene_model_hcontig_0225_01.2    0.047770  777.130850   0.000000   \n",
       " 17192         gene_model_hcontig_0225_01.3    0.000000    0.188830   0.000000   \n",
       " 17193         gene_model_hcontig_0225_01.4    0.009532   89.782945   0.000000   \n",
       " 17194         gene_model_hcontig_0225_01.5    0.000000    0.000000   0.000000   \n",
       " 17195         gene_model_hcontig_0225_01.6    0.014491    0.201966   0.000000   \n",
       " 17196         gene_model_hcontig_0225_01.7    0.005778    0.123335   0.000000   \n",
       " 17197         gene_model_hcontig_0225_01.8    0.036705    4.533298   0.000000   \n",
       " 17198         gene_model_hcontig_0225_01.9   11.037935    1.549979   0.000000   \n",
       " \n",
       "                IT6         IT9          UG  \n",
       " 0         0.000000    2.377196    0.384531  \n",
       " 1      1016.181477  456.791691    0.446980  \n",
       " 2       235.779282  239.133947  316.475087  \n",
       " 3         0.115347    0.179739    0.000000  \n",
       " 4         0.000000    0.000000    0.000000  \n",
       " 5         0.000000    0.000000    0.000000  \n",
       " 6         6.702920   25.139223   15.514397  \n",
       " 7         0.511258    1.628921    0.000000  \n",
       " 8         0.000000    0.000000    0.000000  \n",
       " 9         0.000000    0.000000    0.000000  \n",
       " 10        0.169025    1.570595    0.000000  \n",
       " 11       29.075863   25.218225   10.467231  \n",
       " 12       53.066090   51.005669   48.441891  \n",
       " 13        4.187793    4.029254    8.757987  \n",
       " 14        4.991344    3.552745    0.240944  \n",
       " 15        0.000000    0.000000    0.143115  \n",
       " 16       16.673574   35.310838   44.752650  \n",
       " 17       31.035428   40.736049   29.378411  \n",
       " 18       73.615779   86.700539   45.552144  \n",
       " 19        1.466196   55.934963   23.883455  \n",
       " 20        0.000000    0.000000    0.000000  \n",
       " 21        0.000000    0.006533    0.000000  \n",
       " 22        1.474356    1.318988    0.223088  \n",
       " 23        0.147215    0.000000    0.000000  \n",
       " 24        0.104013    0.014893    0.000000  \n",
       " 25        4.153248   88.320232   18.185222  \n",
       " 26        0.896260    1.166907    0.032297  \n",
       " 27        0.357460    5.586832    0.000000  \n",
       " 28      112.589546   79.033803    8.306043  \n",
       " 29       35.036810   33.307464   28.196795  \n",
       " ...            ...         ...         ...  \n",
       " 17169     4.163661    7.710198   12.242425  \n",
       " 17170     2.069182    2.472543    5.594227  \n",
       " 17171     0.000000    0.001584    0.000000  \n",
       " 17172     5.279819    5.347050    2.293294  \n",
       " 17173    15.965152   14.864487   17.766146  \n",
       " 17174   130.749889  128.471665   37.588244  \n",
       " 17175    95.017951   84.676017   32.757779  \n",
       " 17176   147.433069  154.062555   53.114353  \n",
       " 17177     0.000000    0.000000    0.000000  \n",
       " 17178    16.907093   20.744551    3.699841  \n",
       " 17179     0.427615    1.134705    0.290874  \n",
       " 17180     0.095474    0.008579    0.000000  \n",
       " 17181     0.000000    0.066377    0.000000  \n",
       " 17182     1.767736    1.474666    0.209457  \n",
       " 17183     0.000000    0.121007    0.000000  \n",
       " 17184    26.496699   38.148224   44.253880  \n",
       " 17185     8.152417   20.971645   24.089823  \n",
       " 17186    31.408154   44.906746   24.915832  \n",
       " 17187    16.614235   25.030269    7.472903  \n",
       " 17188     8.794198   15.473085   11.977539  \n",
       " 17189     0.000000    0.000000    0.000000  \n",
       " 17190     2.809989    1.237396    0.000000  \n",
       " 17191   103.243369   61.523155    0.000000  \n",
       " 17192     0.000000    0.036023    0.000000  \n",
       " 17193    12.509716    5.125412    0.000000  \n",
       " 17194     0.000000    0.000000    0.000000  \n",
       " 17195     0.000000    0.025004    0.000000  \n",
       " 17196     0.000000    0.050630    0.013005  \n",
       " 17197     0.275282    0.552472    0.000000  \n",
       " 17198     7.596208   14.769764    8.991197  \n",
       " \n",
       " [17199 rows x 7 columns]}"
      ]
     },
     "execution_count": 184,
     "metadata": {},
     "output_type": "execute_result"
    }
   ],
   "source": [
    "rnaseq_fn"
   ]
  },
  {
   "cell_type": "code",
   "execution_count": 202,
   "metadata": {},
   "outputs": [
    {
     "name": "stdout",
     "output_type": "stream",
     "text": [
      "gene_ID    gene_model_pcontig_009.363\n",
      "GS                           0.626692\n",
      "HE                           0.208539\n",
      "IT0                                 0\n",
      "IT6                           1.11119\n",
      "IT9                            1.5958\n",
      "UG                            1.02412\n",
      "Name: 5174, dtype: object\n",
      "gene_ID    gene_model_pcontig_052.64\n",
      "GS                           1.90044\n",
      "HE                           0.33067\n",
      "IT0                          5.35214\n",
      "IT6                          2.06825\n",
      "IT9                          11.0626\n",
      "UG                          0.833817\n",
      "Name: 15076, dtype: object\n"
     ]
    }
   ],
   "source": [
    "for bkey, bvalue in blast_dict.items():\n",
    "        for rkey, rvalue in rnaseq_fn.items():\n",
    "            df = pd.read_csv(rvalue, sep='\\t', header = 0)\n",
    "            for index, row in df.iterrows():\n",
    "                if bvalue == row['gene_ID']:\n",
    "                    pprint.pprint(row)"
   ]
  },
  {
   "cell_type": "code",
   "execution_count": 218,
   "metadata": {},
   "outputs": [],
   "source": [
    "# getting all values\n",
    "rnaseq_fn_dict = {}\n",
    "for fn in glob.iglob('%s/*_gene_repRpkmMatrix_featureCounts.tsv' % DIRS['TRIALS'], recursive=True):\n",
    "    if len(fn) == 95:\n",
    "        rnaseq_fn_dict[fn.split('/')[-1]] = fn"
   ]
  },
  {
   "cell_type": "code",
   "execution_count": 219,
   "metadata": {},
   "outputs": [
    {
     "data": {
      "text/plain": [
       "{'Pst_104E_v13_h_gene_repRpkmMatrix_featureCounts.tsv': '/home/anjuni/analysis/rna_counts/trials_tsv/Pst_104E_v13_h_gene_repRpkmMatrix_featureCounts.tsv',\n",
       " 'Pst_104E_v13_p_gene_repRpkmMatrix_featureCounts.tsv': '/home/anjuni/analysis/rna_counts/trials_tsv/Pst_104E_v13_p_gene_repRpkmMatrix_featureCounts.tsv'}"
      ]
     },
     "execution_count": 219,
     "metadata": {},
     "output_type": "execute_result"
    }
   ],
   "source": [
    "rnaseq_fn_dict"
   ]
  },
  {
   "cell_type": "code",
   "execution_count": 220,
   "metadata": {},
   "outputs": [],
   "source": [
    "blast_dict = blast_h\n",
    "rnaseq_fn = {}\n",
    "rnaseq_fn['Pst_104E_v13_h_gene_repRpkmMatrix_featureCounts.tsv'] = rnaseq_fn_dict['Pst_104E_v13_h_gene_repRpkmMatrix_featureCounts.tsv']"
   ]
  },
  {
   "cell_type": "code",
   "execution_count": 222,
   "metadata": {},
   "outputs": [],
   "source": [
    "blast_dict = blast_p\n",
    "rnaseq_fn = {}\n",
    "rnaseq_fn['Pst_104E_v13_p_gene_repRpkmMatrix_featureCounts.tsv'] = rnaseq_fn_dict['Pst_104E_v13_p_gene_repRpkmMatrix_featureCounts.tsv']"
   ]
  },
  {
   "cell_type": "code",
   "execution_count": 223,
   "metadata": {},
   "outputs": [
    {
     "name": "stdout",
     "output_type": "stream",
     "text": [
      "gene_ID    gene_model_pcontig_009.363\n",
      "GS_1                          13.4194\n",
      "GS_2                          12.0437\n",
      "GS_3                          12.1418\n",
      "HE_1                          9.45151\n",
      "HE_2                          9.03185\n",
      "HE_3                          8.98946\n",
      "IT0_1                               0\n",
      "IT0_2                               0\n",
      "IT0_3                               0\n",
      "IT6_1                         8.02585\n",
      "IT6_2                         8.83485\n",
      "IT6_3                          6.1797\n",
      "IT9_1                         10.5812\n",
      "IT9_2                          11.991\n",
      "IT9_3                         14.4435\n",
      "UG_1                          8.34558\n",
      "UG_2                          6.29084\n",
      "UG_3                          8.56451\n",
      "Name: 5174, dtype: object\n",
      "gene_ID    gene_model_pcontig_052.64\n",
      "GS_1                         24.0007\n",
      "GS_2                          20.215\n",
      "GS_3                         24.4539\n",
      "HE_1                         4.28587\n",
      "HE_2                         5.07378\n",
      "HE_3                         4.84243\n",
      "IT0_1                              0\n",
      "IT0_2                              0\n",
      "IT0_3                        11.3536\n",
      "IT6_1                        23.6912\n",
      "IT6_2                        18.6856\n",
      "IT6_3                        21.8645\n",
      "IT9_1                        43.8709\n",
      "IT9_2                        50.8612\n",
      "IT9_3                        24.6929\n",
      "UG_1                         21.3944\n",
      "UG_2                         19.4836\n",
      "UG_3                         21.0639\n",
      "Name: 15076, dtype: object\n"
     ]
    }
   ],
   "source": [
    "for bkey, bvalue in blast_dict.items():\n",
    "        for rkey, rvalue in rnaseq_fn.items():\n",
    "            df = pd.read_csv(rvalue, sep='\\t', header = 0)\n",
    "            for index, row in df.iterrows():\n",
    "                if bvalue == row['gene_ID']:\n",
    "                    pprint.pprint(row)"
   ]
  },
  {
   "cell_type": "code",
   "execution_count": null,
   "metadata": {},
   "outputs": [],
   "source": [
    "# pull out the gene names for these locus tags from the annotation files\n",
    "\n",
    "# test for significant difference between alleles on both contigs"
   ]
  },
  {
   "cell_type": "markdown",
   "metadata": {},
   "source": [
    "## <span style='color:#ff4f14'>  12. Data processing for tables and graphs. <span/>"
   ]
  },
  {
   "cell_type": "code",
   "execution_count": null,
   "metadata": {},
   "outputs": [],
   "source": [
    "# Make cutoff files for Nanopolish and SMRTLink, for the table\n",
    "\n",
    "# Saving out a csv file of cutoff vs. num_sites_file1, num_sites_file2, num_overlap_sites, %_overlap for each initial file\n",
    "# Already done for tombo 6mA and all overlaps, need to do for NP, Tombo CpG and PB cutoff files\n",
    "# The csv will be formatted in excel :)\n",
    "\n",
    "# Ask Ben how to format headings properly\n",
    "\n",
    "header_6mA = ['Cutoff', 'Nanopore', 'PacBio', 'Overlapping sites', 'Percentage Overlap']\n",
    "\n",
    "header_5mC = ['Cutoff', 'Tombo', 'Nanopolish', 'Overlapping sites', 'Percentage Overlap']\n",
    "\n",
    "for akey, avalue in dict_a.items():\n",
    "    for bkey, bvalue in dict_b.items():\n",
    "        linakey= []\n",
    "        if akey == bkey:\n",
    "            cutoff = akey[x:x]\n",
    "            line.append(cutoff, avalue, bvalue)\n",
    "            "
   ]
  }
 ],
 "metadata": {
  "kernelspec": {
   "display_name": "Python 3",
   "language": "python",
   "name": "python3"
  },
  "language_info": {
   "codemirror_mode": {
    "name": "ipython",
    "version": 3
   },
   "file_extension": ".py",
   "mimetype": "text/x-python",
   "name": "python",
   "nbconvert_exporter": "python",
   "pygments_lexer": "ipython3",
   "version": "3.6.3"
  }
 },
 "nbformat": 4,
 "nbformat_minor": 2
}
